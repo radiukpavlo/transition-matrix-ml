{
 "cells": [
  {
   "cell_type": "markdown",
   "metadata": {
    "id": "Vex99np2wFVt"
   },
   "source": [
    "# 03. PyTorch Computer Vision Exercise Solutions\n",
    "\n",
    "The following is one possible set (there may be more than one way to do things) of solutions for the 03. PyTorch Computer Vision exercise template.\n",
    "\n",
    "## Resources\n",
    "\n",
    "1. These exercises/solutions are based on [notebook 03 of the Learn PyTorch for Deep Learning course](https://www.learnpytorch.io/03_pytorch_computer_vision/).\n",
    "2. See a live [walkthrough of the solutions (errors and all) on YouTube](https://youtu.be/_PibmqpEyhA).\n",
    "  * **Note:** Going through these exercises took me just over 3 hours, so you should expect around the same.\n",
    "3. See [other solutions on the course GitHub](https://github.com/mrdbourke/pytorch-deep-learning/tree/main/extras/solutions)."
   ]
  },
  {
   "cell_type": "code",
   "execution_count": 1,
   "metadata": {
    "executionInfo": {
     "elapsed": 2,
     "status": "ok",
     "timestamp": 1690805496136,
     "user": {
      "displayName": "Pavlo Radiuk",
      "userId": "14186362969234732176"
     },
     "user_tz": -180
    },
    "id": "GaeYzOTLwWh2",
    "ExecuteTime": {
     "end_time": "2023-08-03T11:46:28.305272700Z",
     "start_time": "2023-08-03T11:46:28.301282400Z"
    }
   },
   "outputs": [],
   "source": [
    "# Check for GPU\n",
    "# !nvidia-smi"
   ]
  },
  {
   "cell_type": "code",
   "execution_count": 2,
   "metadata": {
    "colab": {
     "base_uri": "https://localhost:8080/",
     "height": 54
    },
    "executionInfo": {
     "elapsed": 4880,
     "status": "ok",
     "timestamp": 1690805501014,
     "user": {
      "displayName": "Pavlo Radiuk",
      "userId": "14186362969234732176"
     },
     "user_tz": -180
    },
    "id": "DNwZLMbCzJLk",
    "outputId": "6f485cb7-2edc-4e09-d1dd-79af23a6052a",
    "ExecuteTime": {
     "end_time": "2023-08-03T11:46:29.251164200Z",
     "start_time": "2023-08-03T11:46:28.310260Z"
    }
   },
   "outputs": [
    {
     "name": "stderr",
     "output_type": "stream",
     "text": [
      "C:\\Users\\radiu\\anaconda3\\envs\\courses\\lib\\site-packages\\tqdm\\auto.py:21: TqdmWarning: IProgress not found. Please update jupyter and ipywidgets. See https://ipywidgets.readthedocs.io/en/stable/user_install.html\n",
      "  from .autonotebook import tqdm as notebook_tqdm\n"
     ]
    },
    {
     "name": "stdout",
     "output_type": "stream",
     "text": [
      "1.13.1\n"
     ]
    },
    {
     "data": {
      "text/plain": "'cpu'"
     },
     "execution_count": 2,
     "metadata": {},
     "output_type": "execute_result"
    }
   ],
   "source": [
    "# Import torch\n",
    "import torch\n",
    "\n",
    "# Exercises require PyTorch > 1.10.0\n",
    "print(torch.__version__)\n",
    "\n",
    "# Setup device agnostic code\n",
    "device = \"cuda\" if torch.cuda.is_available() else \"cpu\"\n",
    "device"
   ]
  },
  {
   "cell_type": "markdown",
   "metadata": {
    "id": "FSFX7tc1w-en"
   },
   "source": [
    "## 1. What are 3 areas in industry where computer vision is currently being used?"
   ]
  },
  {
   "cell_type": "markdown",
   "metadata": {
    "id": "CmB6iAzN1X4u"
   },
   "source": [
    "1. Self-driving cars, such as Tesla using computer vision to percieve what's happening on the road. See Tesla AI day for more - https://youtu.be/j0z4FweCy4M\n",
    "2. Healthcare imaging, such as using computer vision to help interpret X-rays. Google also uses computer vision for detecting polyps in the intenstines - https://ai.googleblog.com/2021/08/improved-detection-of-elusive-polyps.html\n",
    "3. Security, computer vision can be used to detect whether someone is invading your home or not - https://store.google.com/au/product/nest_cam_battery?hl=en-GB"
   ]
  },
  {
   "cell_type": "markdown",
   "metadata": {
    "id": "oBK-WI6YxDYa"
   },
   "source": [
    "## 2. Search \"what is overfitting in machine learning\" and write down a sentence about what you find."
   ]
  },
  {
   "cell_type": "markdown",
   "metadata": {
    "id": "bMLaps1J3pJ_"
   },
   "source": [
    "Overfitting is like memorizing for a test, but then you can't answer a question that's slightly different.\n",
    "\n",
    "In other words, if a model is overfitting, it's learning the training data *too well* and these patterns don't generalize to unseen data."
   ]
  },
  {
   "cell_type": "markdown",
   "metadata": {
    "id": "XeYFEqw8xK26"
   },
   "source": [
    "## 3. Search \"ways to prevent overfitting in machine learning\", write down 3 of the things you find and a sentence about each.\n",
    "> **Note:** there are lots of these, so don't worry too much about all of them, just pick 3 and start with those."
   ]
  },
  {
   "cell_type": "markdown",
   "metadata": {
    "id": "i9Hdd08s4kvN"
   },
   "source": [
    "See this article for some ideas: https://elitedatascience.com/overfitting-in-machine-learning\n",
    "\n",
    "3 ways to prevent overfitting:\n",
    "1. **Regularization techniques** - You could use [dropout on your neural networks](https://en.wikipedia.org/wiki/Dilution_(neural_networks)), dropout involves randomly removing neurons in different layers so that the remaining neurons hopefully learn more robust weights/patterns.\n",
    "2. **Use a different model** - maybe the model you're using for a specific problem is too complicated, as in, it's learning the data too well because it has so many layers. You could remove some layers to simplify your model. Or you could pick a totally different model altogether, one that may be more suited to your particular problem. Or... you could also use [transfer learning](https://en.wikipedia.org/wiki/Transfer_learning) (taking the patterns from one model and applying them to your own problem).\n",
    "3. **Reduce noise in data/cleanup dataset/introduce data augmentation techniques** - If the model is learning the data too well, it might be just memorizing the data, including the noise. One option would be to remove the noise/clean up the dataset or if this doesn't, you can introduce artificial noise through the use of data augmentation to artificially increase the diversity of your training dataset."
   ]
  },
  {
   "cell_type": "markdown",
   "metadata": {
    "id": "DKdEEFEqxM-8"
   },
   "source": [
    "## 4. Spend 20-minutes reading and clicking through the [CNN Explainer website](https://poloclub.github.io/cnn-explainer/).\n",
    "\n",
    "* Upload your own example image using the \"upload\" button on the website and see what happens in each layer of a CNN as your image passes through it."
   ]
  },
  {
   "cell_type": "markdown",
   "metadata": {
    "id": "rnUox1qayDes"
   },
   "source": [
    "The CNN explainer website is a great insight into all the nuts and bolts of a convolutional neural network."
   ]
  },
  {
   "cell_type": "markdown",
   "metadata": {
    "id": "lvf-3pODxXYI"
   },
   "source": [
    "## 5. Load the [`torchvision.datasets.MNIST()`](https://pytorch.org/vision/stable/generated/torchvision.datasets.MNIST.html#torchvision.datasets.MNIST) train and test datasets."
   ]
  },
  {
   "cell_type": "code",
   "execution_count": 3,
   "metadata": {
    "executionInfo": {
     "elapsed": 3,
     "status": "ok",
     "timestamp": 1690805501014,
     "user": {
      "displayName": "Pavlo Radiuk",
      "userId": "14186362969234732176"
     },
     "user_tz": -180
    },
    "id": "rV7s2qtIyDIZ",
    "ExecuteTime": {
     "end_time": "2023-08-03T11:46:29.409588200Z",
     "start_time": "2023-08-03T11:46:29.207553Z"
    }
   },
   "outputs": [],
   "source": [
    "import torchvision\n",
    "import os\n",
    "from torchvision import datasets, transforms"
   ]
  },
  {
   "cell_type": "code",
   "execution_count": 4,
   "metadata": {
    "colab": {
     "base_uri": "https://localhost:8080/"
    },
    "executionInfo": {
     "elapsed": 1064,
     "status": "ok",
     "timestamp": 1690805502075,
     "user": {
      "displayName": "Pavlo Radiuk",
      "userId": "14186362969234732176"
     },
     "user_tz": -180
    },
    "id": "tVnyuGku9m0y",
    "outputId": "642c8856-c82e-41da-8944-026a7fa3d96a",
    "ExecuteTime": {
     "end_time": "2023-08-03T11:46:29.474415200Z",
     "start_time": "2023-08-03T11:46:29.412580800Z"
    }
   },
   "outputs": [
    {
     "name": "stdout",
     "output_type": "stream",
     "text": [
      "MNIST dataset not found. Downloading to ../mnist/\n",
      "MNIST dataset downloaded successfully.\n"
     ]
    }
   ],
   "source": [
    "# Define the paths\n",
    "check_path = './mnist/MNIST/raw'\n",
    "download_path = '../mnist/'\n",
    "\n",
    "# Check if MNIST dataset exists in the specified path\n",
    "if not os.path.exists(check_path):\n",
    "    print(\"MNIST dataset not found. Downloading to\", download_path)\n",
    "    transform = transforms.Compose([transforms.ToTensor()])\n",
    "\n",
    "    # Download and load the MNIST train dataset\n",
    "    train_data = datasets.MNIST(root=download_path,\n",
    "                                train=True,\n",
    "                                download=True,\n",
    "                                transform=transform)\n",
    "\n",
    "    # Download and load the MNIST test dataset\n",
    "    test_data = datasets.MNIST(root=download_path,\n",
    "                               train=False,\n",
    "                               download=True,\n",
    "                               transform=transform)\n",
    "    print(\"MNIST dataset downloaded successfully.\")\n",
    "else:\n",
    "    print(\"MNIST dataset found in\", check_path)\n",
    "    transform = transforms.Compose([transforms.ToTensor()])\n",
    "\n",
    "    # Load the MNIST train dataset from the local path\n",
    "    train_data = datasets.MNIST(root=download_path,\n",
    "                                train=True,\n",
    "                                download=False,\n",
    "                                transform=transform)\n",
    "\n",
    "    # Load the MNIST test dataset from the local path\n",
    "    test_data = datasets.MNIST(root=download_path,\n",
    "                               train=False,\n",
    "                               download=False,\n",
    "                               transform=transform)\n",
    "    print(\"MNIST dataset loaded from\", check_path)\n"
   ]
  },
  {
   "cell_type": "code",
   "execution_count": 5,
   "metadata": {
    "colab": {
     "base_uri": "https://localhost:8080/"
    },
    "executionInfo": {
     "elapsed": 16,
     "status": "ok",
     "timestamp": 1690805502076,
     "user": {
      "displayName": "Pavlo Radiuk",
      "userId": "14186362969234732176"
     },
     "user_tz": -180
    },
    "id": "yaj7vnOv-cB2",
    "outputId": "9fc4bdf8-aef2-4b13-cb5c-bac8f532fd96",
    "ExecuteTime": {
     "end_time": "2023-08-03T11:46:29.517300300Z",
     "start_time": "2023-08-03T11:46:29.473417800Z"
    }
   },
   "outputs": [
    {
     "data": {
      "text/plain": "(Dataset MNIST\n     Number of datapoints: 60000\n     Root location: ../mnist/\n     Split: Train\n     StandardTransform\n Transform: Compose(\n                ToTensor()\n            ),\n Dataset MNIST\n     Number of datapoints: 10000\n     Root location: ../mnist/\n     Split: Test\n     StandardTransform\n Transform: Compose(\n                ToTensor()\n            ))"
     },
     "execution_count": 5,
     "metadata": {},
     "output_type": "execute_result"
    }
   ],
   "source": [
    "train_data, test_data"
   ]
  },
  {
   "cell_type": "code",
   "execution_count": 6,
   "metadata": {
    "colab": {
     "base_uri": "https://localhost:8080/"
    },
    "executionInfo": {
     "elapsed": 14,
     "status": "ok",
     "timestamp": 1690805502076,
     "user": {
      "displayName": "Pavlo Radiuk",
      "userId": "14186362969234732176"
     },
     "user_tz": -180
    },
    "id": "SUZMY9xR-sfH",
    "outputId": "0d90f988-6e12-4079-ad9c-b7e616fc1247",
    "ExecuteTime": {
     "end_time": "2023-08-03T11:46:29.519295100Z",
     "start_time": "2023-08-03T11:46:29.488377500Z"
    }
   },
   "outputs": [
    {
     "data": {
      "text/plain": "(60000, 10000)"
     },
     "execution_count": 6,
     "metadata": {},
     "output_type": "execute_result"
    }
   ],
   "source": [
    "len(train_data), len(test_data)"
   ]
  },
  {
   "cell_type": "code",
   "execution_count": 7,
   "metadata": {
    "executionInfo": {
     "elapsed": 13,
     "status": "ok",
     "timestamp": 1690805502076,
     "user": {
      "displayName": "Pavlo Radiuk",
      "userId": "14186362969234732176"
     },
     "user_tz": -180
    },
    "id": "THsDkX0K-gUk",
    "ExecuteTime": {
     "end_time": "2023-08-03T11:46:29.535252Z",
     "start_time": "2023-08-03T11:46:29.503337500Z"
    }
   },
   "outputs": [],
   "source": [
    "# # Data is in tuple form (image, label)\n",
    "# img = train_data[2][0]\n",
    "# label = train_data[2][1]\n",
    "# print(f\"Image:\\n {img}\")\n",
    "# print(f\"Label:\\n {label}\")"
   ]
  },
  {
   "cell_type": "code",
   "execution_count": 8,
   "metadata": {
    "executionInfo": {
     "elapsed": 12,
     "status": "ok",
     "timestamp": 1690805502076,
     "user": {
      "displayName": "Pavlo Radiuk",
      "userId": "14186362969234732176"
     },
     "user_tz": -180
    },
    "id": "txys9vVXAUPs",
    "ExecuteTime": {
     "end_time": "2023-08-03T11:46:29.536249600Z",
     "start_time": "2023-08-03T11:46:29.520292400Z"
    }
   },
   "outputs": [],
   "source": [
    "# # Check out the shapes of our data\n",
    "# print(f\"Image shape: {img.shape} -> [color_channels, height, width] (CHW)\")\n",
    "# print(f\"Label: {label} -> no shape, due to being integer\")"
   ]
  },
  {
   "cell_type": "markdown",
   "metadata": {
    "id": "yS3XHDW6AuJs"
   },
   "source": [
    "Note: There are two main agreed upon ways for representing images in machine learning:\n",
    "1. Color channels first: [color_channels, height, width] (CHW) -> PyTorch default (as of April 2022)\n",
    "2. Color channels last: [height, width, color_channels] (HWC) -> Matplotlib/TensorFlow default (as of April 2022)"
   ]
  },
  {
   "cell_type": "code",
   "execution_count": 9,
   "metadata": {
    "colab": {
     "base_uri": "https://localhost:8080/"
    },
    "executionInfo": {
     "elapsed": 12,
     "status": "ok",
     "timestamp": 1690805502076,
     "user": {
      "displayName": "Pavlo Radiuk",
      "userId": "14186362969234732176"
     },
     "user_tz": -180
    },
    "id": "T7UEVf8B_JuK",
    "outputId": "66545de9-d5a7-433c-8409-bf53a7f6aabb",
    "ExecuteTime": {
     "end_time": "2023-08-03T11:46:29.595092300Z",
     "start_time": "2023-08-03T11:46:29.535252Z"
    }
   },
   "outputs": [
    {
     "data": {
      "text/plain": "['0 - zero',\n '1 - one',\n '2 - two',\n '3 - three',\n '4 - four',\n '5 - five',\n '6 - six',\n '7 - seven',\n '8 - eight',\n '9 - nine']"
     },
     "execution_count": 9,
     "metadata": {},
     "output_type": "execute_result"
    }
   ],
   "source": [
    "# Get the class names from the dataset\n",
    "class_names = train_data.classes\n",
    "class_names"
   ]
  },
  {
   "cell_type": "markdown",
   "metadata": {
    "id": "qxZW-uAbxe_F"
   },
   "source": [
    "## 6. Visualize at least 5 different samples of the MNIST training dataset."
   ]
  },
  {
   "cell_type": "code",
   "execution_count": 10,
   "metadata": {
    "executionInfo": {
     "elapsed": 12,
     "status": "ok",
     "timestamp": 1690805502077,
     "user": {
      "displayName": "Pavlo Radiuk",
      "userId": "14186362969234732176"
     },
     "user_tz": -180
    },
    "id": "HdRM86voyC0x",
    "ExecuteTime": {
     "end_time": "2023-08-03T11:46:29.861372600Z",
     "start_time": "2023-08-03T11:46:29.551210100Z"
    }
   },
   "outputs": [],
   "source": [
    "import matplotlib.pyplot as plt\n",
    "\n",
    "# for i in range(5):\n",
    "#   img = train_data[i][0]\n",
    "#   print(img.shape)\n",
    "#   img_squeeze = img.squeeze()\n",
    "#   print(img_squeeze.shape)\n",
    "#   label = train_data[i][1]\n",
    "#   plt.figure(figsize=(3, 3))\n",
    "#   plt.imshow(img_squeeze, cmap=\"gray\")\n",
    "#   plt.title(label)\n",
    "#   plt.axis(False)"
   ]
  },
  {
   "cell_type": "markdown",
   "metadata": {
    "id": "JAPDzW0wxhi3"
   },
   "source": [
    "## 7. Turn the MNIST train and test datasets into dataloaders using `torch.utils.data.DataLoader`, set the `batch_size=32`."
   ]
  },
  {
   "cell_type": "code",
   "execution_count": 11,
   "metadata": {
    "executionInfo": {
     "elapsed": 12,
     "status": "ok",
     "timestamp": 1690805502077,
     "user": {
      "displayName": "Pavlo Radiuk",
      "userId": "14186362969234732176"
     },
     "user_tz": -180
    },
    "id": "Cz09bv8KCnCa",
    "ExecuteTime": {
     "end_time": "2023-08-03T11:46:29.877625100Z",
     "start_time": "2023-08-03T11:46:29.863366300Z"
    }
   },
   "outputs": [],
   "source": [
    "# Create train dataloader\n",
    "from torch.utils.data import DataLoader\n",
    "\n",
    "train_dataloader = DataLoader(dataset=train_data,\n",
    "                              batch_size=16,\n",
    "                              shuffle=True)\n",
    "\n",
    "test_dataloader = DataLoader(dataset=test_data,\n",
    "                             batch_size=16,\n",
    "                             shuffle=False)"
   ]
  },
  {
   "cell_type": "code",
   "execution_count": 12,
   "metadata": {
    "colab": {
     "base_uri": "https://localhost:8080/"
    },
    "executionInfo": {
     "elapsed": 12,
     "status": "ok",
     "timestamp": 1690805502077,
     "user": {
      "displayName": "Pavlo Radiuk",
      "userId": "14186362969234732176"
     },
     "user_tz": -180
    },
    "id": "8tWfa7Y0yCkX",
    "outputId": "24f1cb50-fa16-43c1-befe-dbe50f84871f",
    "ExecuteTime": {
     "end_time": "2023-08-03T11:46:29.937462900Z",
     "start_time": "2023-08-03T11:46:29.878622600Z"
    }
   },
   "outputs": [
    {
     "data": {
      "text/plain": "(<torch.utils.data.dataloader.DataLoader at 0x1188a162fa0>,\n <torch.utils.data.dataloader.DataLoader at 0x1188a162820>)"
     },
     "execution_count": 12,
     "metadata": {},
     "output_type": "execute_result"
    }
   ],
   "source": [
    "train_dataloader, test_dataloader"
   ]
  },
  {
   "cell_type": "code",
   "execution_count": 13,
   "metadata": {
    "colab": {
     "base_uri": "https://localhost:8080/"
    },
    "executionInfo": {
     "elapsed": 11,
     "status": "ok",
     "timestamp": 1690805502077,
     "user": {
      "displayName": "Pavlo Radiuk",
      "userId": "14186362969234732176"
     },
     "user_tz": -180
    },
    "id": "z2-3iYEgD8K-",
    "outputId": "54d98ea6-8bc4-4bb3-b5c3-2202de665888",
    "ExecuteTime": {
     "end_time": "2023-08-03T11:46:29.950428600Z",
     "start_time": "2023-08-03T11:46:29.893582600Z"
    }
   },
   "outputs": [
    {
     "name": "stdout",
     "output_type": "stream",
     "text": [
      "torch.Size([16, 1, 28, 28])\n",
      "torch.Size([16])\n"
     ]
    }
   ],
   "source": [
    "for sample in next(iter(train_dataloader)):\n",
    "  print(sample.shape)"
   ]
  },
  {
   "cell_type": "code",
   "execution_count": 14,
   "metadata": {
    "colab": {
     "base_uri": "https://localhost:8080/"
    },
    "executionInfo": {
     "elapsed": 10,
     "status": "ok",
     "timestamp": 1690805502077,
     "user": {
      "displayName": "Pavlo Radiuk",
      "userId": "14186362969234732176"
     },
     "user_tz": -180
    },
    "id": "BfSrUoa9Eb3V",
    "outputId": "25452e5b-2005-4633-da31-bab133191e8c",
    "ExecuteTime": {
     "end_time": "2023-08-03T11:46:29.950428600Z",
     "start_time": "2023-08-03T11:46:29.908540600Z"
    }
   },
   "outputs": [
    {
     "data": {
      "text/plain": "(3750, 625)"
     },
     "execution_count": 14,
     "metadata": {},
     "output_type": "execute_result"
    }
   ],
   "source": [
    "len(train_dataloader), len(test_dataloader)"
   ]
  },
  {
   "cell_type": "markdown",
   "metadata": {
    "id": "bCCVfXk5xjYS"
   },
   "source": [
    "## 8. Recreate `model_2` used in notebook 03 (the same model from the [CNN Explainer website](https://poloclub.github.io/cnn-explainer/), also known as TinyVGG) capable of fitting on the MNIST dataset."
   ]
  },
  {
   "cell_type": "code",
   "execution_count": 15,
   "metadata": {
    "executionInfo": {
     "elapsed": 988,
     "status": "ok",
     "timestamp": 1690805503056,
     "user": {
      "displayName": "Pavlo Radiuk",
      "userId": "14186362969234732176"
     },
     "user_tz": -180
    },
    "id": "xeBNV2AtyCP6",
    "ExecuteTime": {
     "end_time": "2023-08-03T11:46:29.952423500Z",
     "start_time": "2023-08-03T11:46:29.924497900Z"
    }
   },
   "outputs": [],
   "source": [
    "# from torch import nn\n",
    "# \n",
    "# class MNISTModel(torch.nn.Module):\n",
    "#   \"\"\"Model capable of predicting on MNIST dataset.\n",
    "#   \"\"\"\n",
    "#   def __init__(self, input_shape: int, hidden_units: int, output_shape: int):\n",
    "#     super().__init__()\n",
    "#     self.conv_block_1 = nn.Sequential(\n",
    "#       nn.Conv2d(in_channels=input_shape,\n",
    "#                 out_channels=hidden_units,\n",
    "#                 kernel_size=3,\n",
    "#                 stride=1,\n",
    "#                 padding=1),\n",
    "#       nn.ReLU(),\n",
    "#       nn.Conv2d(in_channels=hidden_units,\n",
    "#                 out_channels=hidden_units,\n",
    "#                 kernel_size=3,\n",
    "#                 stride=1,\n",
    "#                 padding=1),\n",
    "#       nn.ReLU(),\n",
    "#       nn.MaxPool2d(kernel_size=2)\n",
    "#     )\n",
    "#     self.conv_block_2 = nn.Sequential(\n",
    "#       nn.Conv2d(in_channels=hidden_units,\n",
    "#                 out_channels=hidden_units,\n",
    "#                 kernel_size=3,\n",
    "#                 stride=1,\n",
    "#                 padding=1),\n",
    "#       nn.ReLU(),\n",
    "#       nn.Conv2d(in_channels=hidden_units,\n",
    "#                 out_channels=hidden_units,\n",
    "#                 kernel_size=3,\n",
    "#                 stride=1,\n",
    "#                 padding=1),\n",
    "#       nn.ReLU(),\n",
    "#       nn.MaxPool2d(kernel_size=2)\n",
    "#     )\n",
    "#     self.classifier = nn.Sequential(\n",
    "#       nn.Flatten(),\n",
    "#       nn.Linear(in_features=hidden_units*7*7,\n",
    "#                 out_features=output_shape)\n",
    "#     )\n",
    "# \n",
    "#   def forward(self, x):\n",
    "#     \"\"\"\n",
    "# \n",
    "#     :param x:\n",
    "#     :return:\n",
    "#     \"\"\"\n",
    "#     x = self.conv_block_1(x)\n",
    "#     # print(f\"Output shape of conv block 1: {x.shape}\")\n",
    "#     x = self.conv_block_2(x)\n",
    "#     # print(f\"Output shape of conv block 2: {x.shape}\")\n",
    "#     # Before applying classifier, just flatten and print the shape\n",
    "#     x_flattened = nn.Flatten()(x) # Flatten the tensor\n",
    "#     self.get_flatten = nn.Flatten()(x) # flatten and save to a class attribute\n",
    "#     # print(f\"Shape after flattening: {x_flattened.shape}\")\n",
    "#     x = self.classifier(x)\n",
    "#     # print(f\"Output shape of classifier: {x.shape}\")\n",
    "#     return x"
   ]
  },
  {
   "cell_type": "code",
   "execution_count": 16,
   "outputs": [],
   "source": [
    "from torch import nn\n",
    "\n",
    "class MNISTModel(torch.nn.Module):\n",
    "  \"\"\"Model capable of predicting on MNIST dataset.\n",
    "  \"\"\"\n",
    "  def __init__(self, input_shape: int, hidden_units: int, output_shape: int):\n",
    "    super().__init__()\n",
    "    self.conv_block_1 = nn.Sequential(\n",
    "      nn.Conv2d(in_channels=input_shape,\n",
    "                out_channels=hidden_units,\n",
    "                kernel_size=3,\n",
    "                stride=1,\n",
    "                padding=1),\n",
    "      nn.ReLU(),\n",
    "      nn.Conv2d(in_channels=hidden_units,\n",
    "                out_channels=hidden_units,\n",
    "                kernel_size=3,\n",
    "                stride=1,\n",
    "                padding=1),\n",
    "      nn.ReLU(),\n",
    "      nn.MaxPool2d(kernel_size=2)\n",
    "    )\n",
    "    self.conv_block_2 = nn.Sequential(\n",
    "      nn.Conv2d(in_channels=hidden_units,\n",
    "                out_channels=hidden_units,\n",
    "                kernel_size=3,\n",
    "                stride=1,\n",
    "                padding=1),\n",
    "      nn.ReLU(),\n",
    "      nn.Conv2d(in_channels=hidden_units,\n",
    "                out_channels=hidden_units,\n",
    "                kernel_size=3,\n",
    "                stride=1,\n",
    "                padding=1),\n",
    "      nn.ReLU(),\n",
    "      nn.MaxPool2d(kernel_size=2)\n",
    "    )\n",
    "    self.classifier = nn.Sequential(\n",
    "      nn.Flatten(),\n",
    "      nn.Linear(in_features=hidden_units*7*7,\n",
    "                out_features=output_shape)\n",
    "    )\n",
    "\n",
    "  def forward(self, x, return_flattened=False):\n",
    "    \"\"\"\n",
    "    :param return_flattened: \n",
    "    :param x:\n",
    "    :return:\n",
    "    \"\"\"\n",
    "    x = self.conv_block_1(x)\n",
    "    # print(f\"Output shape of conv block 1: {x.shape}\")\n",
    "    x = self.conv_block_2(x)\n",
    "    # print(f\"Output shape of conv block 2: {x.shape}\")\n",
    "    # Before applying classifier, just flatten and print the shape\n",
    "    x_flattened = nn.Flatten()(x) # Flatten the tensor\n",
    "    # self.get_flatten = nn.Flatten()(x) # flatten and save to a class attribute\n",
    "    # print(f\"Shape after flattening: {x_flattened.shape}\")\n",
    "    x = self.classifier(x)\n",
    "    # print(f\"Output shape of classifier: {x.shape}\")\n",
    "    if return_flattened:\n",
    "        return x, x_flattened\n",
    "    else:\n",
    "        return x"
   ],
   "metadata": {
    "collapsed": false,
    "ExecuteTime": {
     "end_time": "2023-08-03T11:46:29.972371500Z",
     "start_time": "2023-08-03T11:46:29.945442Z"
    }
   }
  },
  {
   "cell_type": "code",
   "execution_count": 17,
   "metadata": {
    "colab": {
     "base_uri": "https://localhost:8080/",
     "height": 36
    },
    "executionInfo": {
     "elapsed": 4,
     "status": "ok",
     "timestamp": 1690805503057,
     "user": {
      "displayName": "Pavlo Radiuk",
      "userId": "14186362969234732176"
     },
     "user_tz": -180
    },
    "id": "Pfk9zykYK0FM",
    "outputId": "b257e814-4ccc-4766-e019-3b47a8cd2cb0",
    "ExecuteTime": {
     "end_time": "2023-08-03T11:46:30.029217600Z",
     "start_time": "2023-08-03T11:46:29.954417900Z"
    }
   },
   "outputs": [
    {
     "data": {
      "text/plain": "'cpu'"
     },
     "execution_count": 17,
     "metadata": {},
     "output_type": "execute_result"
    }
   ],
   "source": [
    "device"
   ]
  },
  {
   "cell_type": "code",
   "execution_count": 18,
   "metadata": {
    "colab": {
     "base_uri": "https://localhost:8080/"
    },
    "executionInfo": {
     "elapsed": 4412,
     "status": "ok",
     "timestamp": 1690805507466,
     "user": {
      "displayName": "Pavlo Radiuk",
      "userId": "14186362969234732176"
     },
     "user_tz": -180
    },
    "id": "tPmadzsTJndN",
    "outputId": "599bad6a-ac98-41d2-b6e2-8ef6fa4a1207",
    "ExecuteTime": {
     "end_time": "2023-08-03T11:46:30.046174Z",
     "start_time": "2023-08-03T11:46:29.970376200Z"
    }
   },
   "outputs": [
    {
     "data": {
      "text/plain": "MNISTModel(\n  (conv_block_1): Sequential(\n    (0): Conv2d(1, 10, kernel_size=(3, 3), stride=(1, 1), padding=(1, 1))\n    (1): ReLU()\n    (2): Conv2d(10, 10, kernel_size=(3, 3), stride=(1, 1), padding=(1, 1))\n    (3): ReLU()\n    (4): MaxPool2d(kernel_size=2, stride=2, padding=0, dilation=1, ceil_mode=False)\n  )\n  (conv_block_2): Sequential(\n    (0): Conv2d(10, 10, kernel_size=(3, 3), stride=(1, 1), padding=(1, 1))\n    (1): ReLU()\n    (2): Conv2d(10, 10, kernel_size=(3, 3), stride=(1, 1), padding=(1, 1))\n    (3): ReLU()\n    (4): MaxPool2d(kernel_size=2, stride=2, padding=0, dilation=1, ceil_mode=False)\n  )\n  (classifier): Sequential(\n    (0): Flatten(start_dim=1, end_dim=-1)\n    (1): Linear(in_features=490, out_features=10, bias=True)\n  )\n)"
     },
     "execution_count": 18,
     "metadata": {},
     "output_type": "execute_result"
    }
   ],
   "source": [
    "model = MNISTModel(input_shape=1,\n",
    "                    hidden_units=10,\n",
    "                    output_shape=10).to(device)\n",
    "model"
   ]
  },
  {
   "cell_type": "code",
   "execution_count": 19,
   "metadata": {
    "colab": {
     "base_uri": "https://localhost:8080/"
    },
    "executionInfo": {
     "elapsed": 8281,
     "status": "ok",
     "timestamp": 1690805515743,
     "user": {
      "displayName": "Pavlo Radiuk",
      "userId": "14186362969234732176"
     },
     "user_tz": -180
    },
    "id": "bkFZjQR_mIQP",
    "outputId": "dbf74a87-6ac8-43bf-ef65-00bc4791496d",
    "ExecuteTime": {
     "end_time": "2023-08-03T11:46:30.047171300Z",
     "start_time": "2023-08-03T11:46:29.987330100Z"
    }
   },
   "outputs": [
    {
     "name": "stdout",
     "output_type": "stream",
     "text": [
      "torch.Size([1, 1, 28, 28])\n"
     ]
    },
    {
     "data": {
      "text/plain": "tensor([[ 0.0201,  0.0085,  0.0499, -0.0355, -0.0333, -0.0400,  0.0972, -0.0263,\n         -0.0202,  0.0058]], grad_fn=<AddmmBackward0>)"
     },
     "execution_count": 19,
     "metadata": {},
     "output_type": "execute_result"
    }
   ],
   "source": [
    "# Create a random input tensor with the shape that matches a single MNIST image (1, 28, 28)\n",
    "# Note: The first 1 is the batch size, indicating we're feeding 1 image.\n",
    "my_input_tensor = torch.randn(1, 1, 28, 28).to(device)\n",
    "print(my_input_tensor.shape)\n",
    "\n",
    "# Pass the input tensor through the model to print the output shapes of each block\n",
    "my_output = model(my_input_tensor)\n",
    "my_output"
   ]
  },
  {
   "cell_type": "code",
   "execution_count": 20,
   "metadata": {
    "executionInfo": {
     "elapsed": 10,
     "status": "ok",
     "timestamp": 1690805515743,
     "user": {
      "displayName": "Pavlo Radiuk",
      "userId": "14186362969234732176"
     },
     "user_tz": -180
    },
    "id": "ExNGpLz9LfOO",
    "ExecuteTime": {
     "end_time": "2023-08-03T11:46:30.056146Z",
     "start_time": "2023-08-03T11:46:30.000295100Z"
    }
   },
   "outputs": [],
   "source": [
    "# # Check out the model state dict to find out what patterns our model wants to learn\n",
    "# model.state_dict()"
   ]
  },
  {
   "cell_type": "code",
   "execution_count": 21,
   "metadata": {
    "colab": {
     "base_uri": "https://localhost:8080/"
    },
    "executionInfo": {
     "elapsed": 10,
     "status": "ok",
     "timestamp": 1690805515743,
     "user": {
      "displayName": "Pavlo Radiuk",
      "userId": "14186362969234732176"
     },
     "user_tz": -180
    },
    "id": "6vqiDj2wmIQQ",
    "outputId": "6f9625b8-b3ea-4d68-bc80-b6fd0f3f08b6",
    "ExecuteTime": {
     "end_time": "2023-08-03T11:46:30.058140800Z",
     "start_time": "2023-08-03T11:46:30.017250200Z"
    }
   },
   "outputs": [
    {
     "name": "stdout",
     "output_type": "stream",
     "text": [
      "tensor([[-2.1116e-03,  4.5077e-02,  3.8791e-02,  ..., -2.8369e-02,\n",
      "          1.5441e-05,  2.9685e-02],\n",
      "        [ 5.2921e-04, -2.0152e-02, -1.5587e-02,  ..., -2.7309e-02,\n",
      "          2.7758e-02, -3.7577e-02],\n",
      "        [ 3.8951e-04,  2.1547e-02, -4.1290e-02,  ..., -1.7330e-02,\n",
      "          1.6703e-02,  3.7154e-02],\n",
      "        ...,\n",
      "        [ 3.2477e-02,  1.7734e-02, -9.5211e-03,  ..., -3.2428e-02,\n",
      "          1.4442e-02, -9.7434e-03],\n",
      "        [-3.7408e-02,  4.1399e-02, -4.4554e-02,  ..., -8.3573e-03,\n",
      "         -2.5006e-02,  4.0259e-02],\n",
      "        [ 6.2145e-03,  1.9700e-02,  4.1279e-02,  ..., -1.3871e-02,\n",
      "         -7.5378e-03,  3.9128e-02]])\n",
      "tensor([ 0.0179,  0.0203,  0.0124, -0.0375, -0.0386, -0.0382,  0.0170,  0.0054,\n",
      "         0.0200,  0.0217])\n"
     ]
    }
   ],
   "source": [
    "weights = model.classifier[1].weight.data\n",
    "bias = model.classifier[1].bias.data\n",
    "\n",
    "print(weights)\n",
    "print(bias)"
   ]
  },
  {
   "cell_type": "code",
   "execution_count": 22,
   "metadata": {
    "colab": {
     "base_uri": "https://localhost:8080/"
    },
    "executionInfo": {
     "elapsed": 10,
     "status": "ok",
     "timestamp": 1690805515744,
     "user": {
      "displayName": "Pavlo Radiuk",
      "userId": "14186362969234732176"
     },
     "user_tz": -180
    },
    "id": "AAd-DhBIMQ_N",
    "outputId": "41539813-ac24-4f70-e981-79dbe75a82d4",
    "ExecuteTime": {
     "end_time": "2023-08-03T11:46:30.067116900Z",
     "start_time": "2023-08-03T11:46:30.033207300Z"
    }
   },
   "outputs": [
    {
     "name": "stdout",
     "output_type": "stream",
     "text": [
      "torch.Size([1, 1, 28, 28])\n"
     ]
    },
    {
     "data": {
      "text/plain": "tensor([[-0.0020,  0.0178,  0.0557, -0.0409, -0.0182, -0.0241,  0.0652, -0.0073,\n         -0.0036, -0.0100]], grad_fn=<AddmmBackward0>)"
     },
     "execution_count": 22,
     "metadata": {},
     "output_type": "execute_result"
    }
   ],
   "source": [
    "# Try a dummy forward pass to see what shapes our data is\n",
    "dummy_x = torch.rand(size=(1, 28, 28)).unsqueeze(dim=0).to(device)\n",
    "\n",
    "print(dummy_x.shape)\n",
    "model(dummy_x)\n",
    "# dummy_x"
   ]
  },
  {
   "cell_type": "code",
   "execution_count": 23,
   "metadata": {
    "colab": {
     "base_uri": "https://localhost:8080/"
    },
    "executionInfo": {
     "elapsed": 9,
     "status": "ok",
     "timestamp": 1690805515744,
     "user": {
      "displayName": "Pavlo Radiuk",
      "userId": "14186362969234732176"
     },
     "user_tz": -180
    },
    "id": "xw4nqMCVN_Jr",
    "outputId": "1ae808b8-bf86-4f09-e3b5-c7f1ae24f102",
    "ExecuteTime": {
     "end_time": "2023-08-03T11:46:30.151890Z",
     "start_time": "2023-08-03T11:46:30.048167600Z"
    }
   },
   "outputs": [
    {
     "data": {
      "text/plain": "torch.Size([1, 10, 7, 7])"
     },
     "execution_count": 23,
     "metadata": {},
     "output_type": "execute_result"
    }
   ],
   "source": [
    "dummy_x_2 = torch.rand(size=([1, 10, 7, 7]))\n",
    "dummy_x_2.shape"
   ]
  },
  {
   "cell_type": "code",
   "execution_count": 24,
   "metadata": {
    "colab": {
     "base_uri": "https://localhost:8080/"
    },
    "executionInfo": {
     "elapsed": 8,
     "status": "ok",
     "timestamp": 1690805515744,
     "user": {
      "displayName": "Pavlo Radiuk",
      "userId": "14186362969234732176"
     },
     "user_tz": -180
    },
    "id": "9omFrrBCODLL",
    "outputId": "522bff81-bb6f-4962-e43f-de93fcd8d9b3",
    "ExecuteTime": {
     "end_time": "2023-08-03T11:46:30.169842100Z",
     "start_time": "2023-08-03T11:46:30.062131500Z"
    }
   },
   "outputs": [
    {
     "data": {
      "text/plain": "torch.Size([1, 490])"
     },
     "execution_count": 24,
     "metadata": {},
     "output_type": "execute_result"
    }
   ],
   "source": [
    "flatten_layer = nn.Flatten()\n",
    "flatten_layer(dummy_x_2).shape"
   ]
  },
  {
   "cell_type": "markdown",
   "metadata": {
    "id": "DkE8puBImIQR"
   },
   "source": [
    "## 9. Train the model you built in exercise 8 for 5 epochs on CPU and GPU and see how long it takes on each."
   ]
  },
  {
   "cell_type": "code",
   "execution_count": 25,
   "metadata": {
    "executionInfo": {
     "elapsed": 6,
     "status": "ok",
     "timestamp": 1690805515744,
     "user": {
      "displayName": "Pavlo Radiuk",
      "userId": "14186362969234732176"
     },
     "user_tz": -180
    },
    "id": "in8DzC6tmIQR",
    "ExecuteTime": {
     "end_time": "2023-08-03T11:46:30.169842100Z",
     "start_time": "2023-08-03T11:46:30.080082300Z"
    }
   },
   "outputs": [],
   "source": [
    "# %%time\n",
    "# from tqdm.auto import tqdm\n",
    "#\n",
    "# # Train on CPU\n",
    "# model_cpu = MNISTModel(input_shape=1,\n",
    "#                         hidden_units=10,\n",
    "#                         output_shape=10).to(\"cpu\")\n",
    "#\n",
    "# # Create a loss function and optimizer\n",
    "# loss_fn = nn.CrossEntropyLoss()\n",
    "# optimizer = torch.optim.SGD(model_cpu.parameters(), lr=0.1)\n",
    "#\n",
    "# ### Training loop\n",
    "# epochs = 5\n",
    "# for epoch in tqdm(range(epochs)):\n",
    "#   train_loss = 0\n",
    "#   for batch, (X, y) in enumerate(train_dataloader):\n",
    "#     model_cpu.train()\n",
    "#\n",
    "#     # Put data on CPU\n",
    "#     X, y = X.to(\"cpu\"), y.to(\"cpu\")\n",
    "#\n",
    "#     # Forward pass\n",
    "#     y_pred = model_cpu(X)\n",
    "#\n",
    "#     # Loss calculation\n",
    "#     loss = loss_fn(y_pred, y)\n",
    "#     train_loss += loss\n",
    "#\n",
    "#     # Optimizer zero grad\n",
    "#     optimizer.zero_grad()\n",
    "#\n",
    "#     # Loss backward\n",
    "#     loss.backward()\n",
    "#\n",
    "#     # Step the optimizer\n",
    "#     optimizer.step()\n",
    "#\n",
    "#   # Adjust train loss for number of batches\n",
    "#   train_loss /= len(train_dataloader)\n",
    "#\n",
    "#   ### Testing loop\n",
    "#   test_loss_total = 0\n",
    "#\n",
    "#   # Put model in eval mode\n",
    "#   model_cpu.eval()\n",
    "#\n",
    "#   # Turn on inference mode\n",
    "#   with torch.inference_mode():\n",
    "#     for batch, (X_test, y_test) in enumerate(test_dataloader):\n",
    "#       # Make sure test data on CPU\n",
    "#       X_test, y_test = X_test.to(\"cpu\"), y_test.to(\"cpu\")\n",
    "#       test_pred = model_cpu(X_test)\n",
    "#       test_loss = loss_fn(test_pred, y_test)\n",
    "#\n",
    "#       test_loss_total += test_loss\n",
    "#\n",
    "#     test_loss_total /= len(test_dataloader)\n",
    "#\n",
    "#   # Print out what's happening\n",
    "#   print(f\"Epoch: {epoch} | Loss: {train_loss:.3f} | Test loss: {test_loss_total:.3f}\")"
   ]
  },
  {
   "cell_type": "code",
   "execution_count": 26,
   "metadata": {
    "colab": {
     "base_uri": "https://localhost:8080/",
     "height": 1000,
     "referenced_widgets": [
      "b2be661e7414444eafefc50786dd9b76",
      "2239f77486f348f989463de8eee7fbe9",
      "635e558c36e8415cafe69e315c70d1dd",
      "d73b703d06ee496781d48080e82edcd7",
      "04ed2a1850624ea3a724daf1f82c5383",
      "96f1ccc77d3641718bf41245e0c1c8c1",
      "fac90735353a4755935a42a125a72a73",
      "2691f9aec2614a1298133154a552dc71",
      "11b3193c755d4b91becf14efa1c443f0",
      "540f82a2be3d4f629c6a6f0b2713fa07",
      "b89e38295f934a4785756a4741ab1055"
     ]
    },
    "executionInfo": {
     "elapsed": 54986,
     "status": "ok",
     "timestamp": 1690805570724,
     "user": {
      "displayName": "Pavlo Radiuk",
      "userId": "14186362969234732176"
     },
     "user_tz": -180
    },
    "id": "0IzzuVLkPE9j",
    "outputId": "4007733b-461f-4a00-bb9d-b636db10f0cb",
    "ExecuteTime": {
     "end_time": "2023-08-03T11:49:45.465462700Z",
     "start_time": "2023-08-03T11:46:30.094045300Z"
    }
   },
   "outputs": [
    {
     "name": "stderr",
     "output_type": "stream",
     "text": [
      " 10%|█         | 1/10 [00:17<02:36, 17.36s/it]"
     ]
    },
    {
     "name": "stdout",
     "output_type": "stream",
     "text": [
      "Epoch: 1 | Loss: 0.220 | Test loss: 0.072\n"
     ]
    },
    {
     "name": "stderr",
     "output_type": "stream",
     "text": [
      " 20%|██        | 2/10 [00:35<02:23, 17.92s/it]"
     ]
    },
    {
     "name": "stdout",
     "output_type": "stream",
     "text": [
      "Epoch: 2 | Loss: 0.067 | Test loss: 0.061\n"
     ]
    },
    {
     "name": "stderr",
     "output_type": "stream",
     "text": [
      " 30%|███       | 3/10 [00:53<02:06, 18.09s/it]"
     ]
    },
    {
     "name": "stdout",
     "output_type": "stream",
     "text": [
      "Epoch: 3 | Loss: 0.054 | Test loss: 0.041\n"
     ]
    },
    {
     "name": "stderr",
     "output_type": "stream",
     "text": [
      " 40%|████      | 4/10 [01:11<01:48, 18.06s/it]"
     ]
    },
    {
     "name": "stdout",
     "output_type": "stream",
     "text": [
      "Epoch: 4 | Loss: 0.046 | Test loss: 0.041\n"
     ]
    },
    {
     "name": "stderr",
     "output_type": "stream",
     "text": [
      " 50%|█████     | 5/10 [01:35<01:41, 20.21s/it]"
     ]
    },
    {
     "name": "stdout",
     "output_type": "stream",
     "text": [
      "Epoch: 5 | Loss: 0.042 | Test loss: 0.036\n"
     ]
    },
    {
     "name": "stderr",
     "output_type": "stream",
     "text": [
      " 60%|██████    | 6/10 [02:00<01:27, 21.82s/it]"
     ]
    },
    {
     "name": "stdout",
     "output_type": "stream",
     "text": [
      "Epoch: 6 | Loss: 0.039 | Test loss: 0.038\n"
     ]
    },
    {
     "name": "stderr",
     "output_type": "stream",
     "text": [
      " 70%|███████   | 7/10 [02:19<01:02, 20.87s/it]"
     ]
    },
    {
     "name": "stdout",
     "output_type": "stream",
     "text": [
      "Epoch: 7 | Loss: 0.037 | Test loss: 0.044\n"
     ]
    },
    {
     "name": "stderr",
     "output_type": "stream",
     "text": [
      " 80%|████████  | 8/10 [02:38<00:40, 20.21s/it]"
     ]
    },
    {
     "name": "stdout",
     "output_type": "stream",
     "text": [
      "Epoch: 8 | Loss: 0.034 | Test loss: 0.037\n"
     ]
    },
    {
     "name": "stderr",
     "output_type": "stream",
     "text": [
      " 90%|█████████ | 9/10 [02:57<00:19, 19.65s/it]"
     ]
    },
    {
     "name": "stdout",
     "output_type": "stream",
     "text": [
      "Epoch: 9 | Loss: 0.032 | Test loss: 0.036\n"
     ]
    },
    {
     "name": "stderr",
     "output_type": "stream",
     "text": [
      "100%|██████████| 10/10 [03:15<00:00, 19.53s/it]"
     ]
    },
    {
     "name": "stdout",
     "output_type": "stream",
     "text": [
      "Epoch: 10 | Loss: 0.030 | Test loss: 0.034\n",
      "CPU times: total: 26min 34s\n",
      "Wall time: 3min 15s\n"
     ]
    },
    {
     "name": "stderr",
     "output_type": "stream",
     "text": [
      "\n"
     ]
    }
   ],
   "source": [
    "%%time\n",
    "from tqdm.auto import tqdm\n",
    "import os\n",
    "\n",
    "device = \"cuda\" if torch.cuda.is_available() else \"cpu\"\n",
    "\n",
    "model_weights_path = \"../model_weights/\"\n",
    "\n",
    "# Train on GPU\n",
    "model_gpu = MNISTModel(input_shape=1,\n",
    "                        hidden_units=10,\n",
    "                        output_shape=10).to(device)\n",
    "\n",
    "# Create a loss function and optimizer\n",
    "loss_fn = nn.CrossEntropyLoss()\n",
    "optimizer = torch.optim.SGD(model_gpu.parameters(), lr=0.1)\n",
    "\n",
    "# Training loop\n",
    "n_epochs = 10\n",
    "\n",
    "for epoch in tqdm(range(1, n_epochs + 1)):\n",
    "  train_loss = 0\n",
    "  model_gpu.train()\n",
    "  for batch, (X, y) in enumerate(train_dataloader):\n",
    "    # Put data on target device\n",
    "    X, y = X.to(device), y.to(device)\n",
    "\n",
    "    # Forward pass\n",
    "    y_pred = model_gpu(X)\n",
    "    # print(type(y_pred), y_pred)\n",
    "\n",
    "    # Loss calculation\n",
    "    loss = loss_fn(y_pred, y)\n",
    "    train_loss += loss.item()\n",
    "\n",
    "    # Optimizer zero grad\n",
    "    optimizer.zero_grad()\n",
    "\n",
    "    # Loss backward\n",
    "    loss.backward()\n",
    "\n",
    "    # Step the optimizer\n",
    "    optimizer.step()\n",
    "\n",
    "  # Adjust train loss to number of batches\n",
    "  train_loss /= len(train_dataloader)\n",
    "\n",
    "  ### Testing loop\n",
    "  test_loss_total = 0\n",
    "  \n",
    "  # Put model in eval mode and turn on inference mode\n",
    "  model_gpu.eval()\n",
    "  with torch.inference_mode():\n",
    "    for batch, (X_test, y_test) in enumerate(test_dataloader):\n",
    "      # Make sure test data on target device\n",
    "      X_test, y_test = X_test.to(device), y_test.to(device)\n",
    "\n",
    "      test_pred = model_gpu(X_test)\n",
    "      test_loss = loss_fn(test_pred, y_test)\n",
    "\n",
    "      test_loss_total += test_loss.item()\n",
    "\n",
    "    # Adjust test loss total for number of batches\n",
    "    test_loss_total /= len(test_dataloader)\n",
    "\n",
    "  # Print out what's happening\n",
    "  print(f\"Epoch: {epoch} | Loss: {train_loss:.3f} | Test loss: {test_loss_total:.3f}\")\n",
    "\n",
    "  # Save model weights after each epoch\n",
    "  save_path = os.path.join(model_weights_path, f\"model_epoch_{epoch}.pth\")\n",
    "  os.makedirs(os.path.dirname(save_path), exist_ok=True)\n",
    "  torch.save(model_gpu.state_dict(), save_path)"
   ]
  },
  {
   "cell_type": "markdown",
   "metadata": {
    "id": "w1CsHhPpxp1w"
   },
   "source": [
    "## 10. Make predictions using your trained model and visualize at least 5 of them comparing the prediciton to the target label."
   ]
  },
  {
   "cell_type": "code",
   "execution_count": 27,
   "metadata": {
    "colab": {
     "base_uri": "https://localhost:8080/",
     "height": 448
    },
    "executionInfo": {
     "elapsed": 18,
     "status": "ok",
     "timestamp": 1690805570725,
     "user": {
      "displayName": "Pavlo Radiuk",
      "userId": "14186362969234732176"
     },
     "user_tz": -180
    },
    "id": "iVyM5cC6yBkF",
    "outputId": "d6311b6e-b081-41dd-bc92-080b5f439c47",
    "ExecuteTime": {
     "end_time": "2023-08-03T11:49:45.634011900Z",
     "start_time": "2023-08-03T11:49:45.464465400Z"
    }
   },
   "outputs": [
    {
     "data": {
      "text/plain": "<matplotlib.image.AxesImage at 0x1188a345fd0>"
     },
     "execution_count": 27,
     "metadata": {},
     "output_type": "execute_result"
    },
    {
     "data": {
      "text/plain": "<Figure size 640x480 with 1 Axes>",
      "image/png": "[encoded data removed]"
     },
     "metadata": {},
     "output_type": "display_data"
    }
   ],
   "source": [
    "# Make predictions with the trained model\n",
    "plt.imshow(test_data[0][0].squeeze(), cmap=\"gray\")"
   ]
  },
  {
   "cell_type": "code",
   "execution_count": 28,
   "metadata": {
    "colab": {
     "base_uri": "https://localhost:8080/"
    },
    "executionInfo": {
     "elapsed": 16,
     "status": "ok",
     "timestamp": 1690805570725,
     "user": {
      "displayName": "Pavlo Radiuk",
      "userId": "14186362969234732176"
     },
     "user_tz": -180
    },
    "id": "NGide8hMWP17",
    "outputId": "be7490a9-d239-426b-c2de-0e48f185ab3b",
    "ExecuteTime": {
     "end_time": "2023-08-03T11:49:45.692855200Z",
     "start_time": "2023-08-03T11:49:45.637004Z"
    }
   },
   "outputs": [
    {
     "data": {
      "text/plain": "tensor([7])"
     },
     "execution_count": 28,
     "metadata": {},
     "output_type": "execute_result"
    }
   ],
   "source": [
    "# Logits -> Prediction probabilities -> Prediction labels\n",
    "old_model_pred_logits = model_gpu(test_data[0][0].unsqueeze(dim=0).to(device)) # make sure image is right shape + on right device\n",
    "old_model_pred_probs = torch.softmax(old_model_pred_logits, dim=1)\n",
    "old_model_pred_label = torch.argmax(old_model_pred_probs, dim=1)\n",
    "old_model_pred_label"
   ]
  },
  {
   "cell_type": "code",
   "execution_count": 29,
   "metadata": {
    "colab": {
     "base_uri": "https://localhost:8080/"
    },
    "executionInfo": {
     "elapsed": 14,
     "status": "ok",
     "timestamp": 1690805570725,
     "user": {
      "displayName": "Pavlo Radiuk",
      "userId": "14186362969234732176"
     },
     "user_tz": -180
    },
    "id": "jNCPUtO_Wuj5",
    "outputId": "558df7c7-3c11-4ada-c37c-49857d9f133f",
    "ExecuteTime": {
     "end_time": "2023-08-03T11:49:45.703826600Z",
     "start_time": "2023-08-03T11:49:45.649969300Z"
    }
   },
   "outputs": [],
   "source": [
    "num_to_plot = 5\n",
    "\n",
    "for i in range(num_to_plot):\n",
    "  # Get image and labels from the test data\n",
    "  img = test_data[i][0]\n",
    "  label = test_data[i][1]\n",
    "\n",
    "  # Make prediction on image\n",
    "  old_model_pred_logits = model_gpu(img.unsqueeze(dim=0).to(device))\n",
    "  old_model_pred_probs = torch.softmax(old_model_pred_logits, dim=1)\n",
    "  old_model_pred_label = torch.argmax(old_model_pred_probs, dim=1)\n",
    "# \n",
    "#   # Plot the image and prediction\n",
    "#   plt.figure()\n",
    "#   plt.imshow(img.squeeze(), cmap=\"gray\")\n",
    "#   plt.title(f\"Truth: {label} | Pred: {model_pred_label.cpu().item()}\")\n",
    "#   plt.axis(False)"
   ]
  },
  {
   "cell_type": "code",
   "execution_count": 30,
   "metadata": {
    "colab": {
     "base_uri": "https://localhost:8080/"
    },
    "executionInfo": {
     "elapsed": 2639,
     "status": "ok",
     "timestamp": 1690805883800,
     "user": {
      "displayName": "Pavlo Radiuk",
      "userId": "14186362969234732176"
     },
     "user_tz": -180
    },
    "id": "a_ELulZFo9_p",
    "outputId": "2b688f21-6e61-443f-a0b2-2c4b9550535e",
    "ExecuteTime": {
     "end_time": "2023-08-03T11:49:45.704823900Z",
     "start_time": "2023-08-03T11:49:45.664929500Z"
    }
   },
   "outputs": [],
   "source": [
    "# from google.colab import drive\n",
    "\n",
    "# drive.mount(\"/content/drive\")\n",
    "\n",
    "# drive_path = \"/content/drive/My Drive/Colab Notebooks/mnist\"\n",
    "# drive_path = r\"D:\\GitHub\\transition-matrix-ml\\notebooks\"\n",
    "drive_path = \"C:/Courses/transition-matrix-ml/mnist\""
   ]
  },
  {
   "cell_type": "code",
   "execution_count": 31,
   "metadata": {
    "executionInfo": {
     "elapsed": 485,
     "status": "ok",
     "timestamp": 1690805892873,
     "user": {
      "displayName": "Pavlo Radiuk",
      "userId": "14186362969234732176"
     },
     "user_tz": -180
    },
    "id": "ibLxia7Qo5t-",
    "ExecuteTime": {
     "end_time": "2023-08-03T11:49:45.706818100Z",
     "start_time": "2023-08-03T11:49:45.678892300Z"
    }
   },
   "outputs": [],
   "source": [
    "import numpy as np\n",
    "\n",
    "def generate_sample_dataset(input_dataset):\n",
    "    \"\"\"\n",
    "    This function creates a new dataset subset with the\n",
    "    specified number of samples.\n",
    "    :param input_dataset: Original training dataset\n",
    "    :return: Subset of the training dataset\n",
    "            and a list of unique IDs (indices from the original dataset)\n",
    "    \"\"\"\n",
    "\n",
    "    # Parameters\n",
    "    n_samples = 1000\n",
    "\n",
    "    generate_sample_labels = input_dataset.targets.numpy()\n",
    "\n",
    "    # Determine the proportion of each class in the training dataset\n",
    "    _, counts = np.unique(generate_sample_labels, return_counts=True)\n",
    "    proportions = counts / len(generate_sample_labels)\n",
    "\n",
    "    # Determine the number of samples to extract for each class\n",
    "    samples_per_class = (proportions * n_samples).astype(int)\n",
    "\n",
    "    # Adjust samples for any rounding issues to ensure exactly 1000 samples\n",
    "    while np.sum(samples_per_class) < n_samples:\n",
    "        class_with_max_samples = np.argmax(proportions)\n",
    "        samples_per_class[class_with_max_samples] += 1\n",
    "    \n",
    "    # Extract samples based on the proportions\n",
    "    indices_to_extract = []\n",
    "\n",
    "    for gs_label, n_samples in enumerate(samples_per_class):\n",
    "        label_indices = np.where(generate_sample_labels == gs_label)[0]\n",
    "        chosen_indices = np.random.choice(label_indices, n_samples, replace=False)\n",
    "        indices_to_extract.extend(chosen_indices)\n",
    "\n",
    "    # Shuffle the indices for randomness\n",
    "    np.random.shuffle(indices_to_extract)\n",
    "\n",
    "    # Return a subset of the dataset\n",
    "    sample_dataset = torch.utils.data.Subset(train_data, indices_to_extract)\n",
    "\n",
    "    return sample_dataset, indices_to_extract\n"
   ]
  },
  {
   "cell_type": "code",
   "execution_count": 32,
   "metadata": {
    "executionInfo": {
     "elapsed": 1,
     "status": "ok",
     "timestamp": 1690805898732,
     "user": {
      "displayName": "Pavlo Radiuk",
      "userId": "14186362969234732176"
     },
     "user_tz": -180
    },
    "id": "2hIelW6nvehF",
    "ExecuteTime": {
     "end_time": "2023-08-03T11:49:45.724769Z",
     "start_time": "2023-08-03T11:49:45.695847500Z"
    }
   },
   "outputs": [],
   "source": [
    "my_sample_dataset, my_indices = generate_sample_dataset(train_data)"
   ]
  },
  {
   "cell_type": "code",
   "execution_count": 34,
   "metadata": {
    "executionInfo": {
     "elapsed": 611,
     "status": "ok",
     "timestamp": 1690805902467,
     "user": {
      "displayName": "Pavlo Radiuk",
      "userId": "14186362969234732176"
     },
     "user_tz": -180
    },
    "id": "z1O2qfPTuA3U",
    "ExecuteTime": {
     "end_time": "2023-08-03T11:49:46.085843800Z",
     "start_time": "2023-08-03T11:49:45.724769Z"
    }
   },
   "outputs": [],
   "source": [
    "import csv\n",
    "\n",
    "n_pixels = 784\n",
    "\n",
    "# Save the images and labels to a CSV file in Google Drive\n",
    "with open(f\"{drive_path}/mnist_matrix_B.csv\", \"w\", newline=\"\") as csvfile:\n",
    "    csv_writer = csv.writer(csvfile)\n",
    "\n",
    "    # Header\n",
    "    header = [\"unique_id\", \"label\"] + [\"pixel\" + str(i) for i in range(n_pixels)]\n",
    "    csv_writer.writerow(header)\n",
    "\n",
    "    # Rows\n",
    "    for sample_idx, (sample_image, sample_label) in zip(my_indices, my_sample_dataset):\n",
    "        sample_image = sample_image[0].numpy().flatten()  # Extract the tensor from the tuple\n",
    "        row = [sample_idx, sample_label] + sample_image.tolist()\n",
    "        csv_writer.writerow(row)\n"
   ]
  },
  {
   "cell_type": "code",
   "execution_count": 35,
   "outputs": [],
   "source": [
    "# model = MNISTModel(input_shape=1, hidden_units=10, output_shape=10).to(device)\n",
    "# \n",
    "# model_weights_path = \"../model_weights/\"\n",
    "# \n",
    "# model.load_state_dict(torch.load(os.path.join(model_weights_path, \n",
    "#                                               f\"model_epoch_{n_epochs}.pth\")))  # Load your trained weights\n",
    "# model.eval()  # Set the model to evaluation mode\n",
    "# \n",
    "# flattened_outputs = []\n",
    "# \n",
    "# with torch.inference_mode():\n",
    "#     for batch, (X_sample, _) in enumerate(my_sample_dataset):  # we don't need labels for prediction\n",
    "#         X_sample = X_sample.to(device)\n",
    "#         preds, flattened = model(X_sample.unsqueeze(dim=0).to(device), return_flattened=True)\n",
    "#         flattened_outputs.append(flattened)\n",
    "# \n",
    "#         # At this point, `flattened_outputs` is a list of tensors, \n",
    "#         # where each tensor corresponds to the flattened outputs for a batch of data.\n",
    "# \n",
    "#     all_flattened_outputs  = torch.cat(flattened_outputs, dim=0)  # Concatenate all activations\n"
   ],
   "metadata": {
    "collapsed": false,
    "ExecuteTime": {
     "end_time": "2023-08-03T11:49:46.101762100Z",
     "start_time": "2023-08-03T11:49:46.086802800Z"
    }
   }
  },
  {
   "cell_type": "code",
   "execution_count": 36,
   "metadata": {
    "executionInfo": {
     "elapsed": 1,
     "status": "ok",
     "timestamp": 1690805906678,
     "user": {
      "displayName": "Pavlo Radiuk",
      "userId": "14186362969234732176"
     },
     "user_tz": -180
    },
    "id": "czewqwIJmIQd",
    "ExecuteTime": {
     "end_time": "2023-08-03T11:49:46.130893Z",
     "start_time": "2023-08-03T11:49:46.104753700Z"
    }
   },
   "outputs": [],
   "source": [
    "def generate_prediction_weights(input_dataset, input_weights_path):\n",
    "    \"\"\"\n",
    "    This function extracts the weights from the model in the prediction stage\n",
    "    :param input_dataset:\n",
    "    :param input_weights_path: \n",
    "    :return:\n",
    "    \"\"\"\n",
    "    total_images = len(input_dataset)\n",
    "\n",
    "    my_true_labels = []\n",
    "    my_pred_flattened = []\n",
    "    my_pred_logits = []\n",
    "    my_pred_labels = []\n",
    "\n",
    "    sample_model = MNISTModel(input_shape=1, hidden_units=10, output_shape=10).to(device)\n",
    "\n",
    "    sample_model.load_state_dict(torch.load(os.path.join(input_weights_path,\n",
    "                                                  f\"model_epoch_{n_epochs}.pth\")))  # Load your trained weights\n",
    "    model.eval()  # Set the model to evaluation mode\n",
    "    \n",
    "    with torch.inference_mode():\n",
    "        for sample_batch, (x_sample, y_sample) in tqdm(enumerate(my_sample_dataset)):\n",
    "            x_sample = x_sample.to(device)\n",
    "            preds, flattened = sample_model(x_sample.unsqueeze(dim=0).to(device), return_flattened=True)\n",
    "            \n",
    "            # Save the true labels for each image\n",
    "            my_true_labels.append(y_sample)\n",
    "\n",
    "            # Save the activations after the nn.Flatten() layer for each image\n",
    "            my_pred_flattened.append(flattened)\n",
    "            \n",
    "            # Save the prediction logits\n",
    "            my_pred_logits.append(preds)\n",
    "\n",
    "            # Save the prediction labels\n",
    "            model_pred_labels = torch.argmax(torch.softmax(preds, dim=1), dim=1)\n",
    "            my_pred_labels.append(model_pred_labels)\n",
    "            \n",
    "            # At this point, `flattened_outputs` is a list of tensors, \n",
    "            # where each tensor corresponds to the flattened outputs for a batch of data.\n",
    "\n",
    "        my_pred_flattened  = torch.cat(my_pred_flattened, dim=0).cpu()  # Concatenate all activations\n",
    "        my_pred_logits = torch.cat(my_pred_logits).cpu()\n",
    "        my_pred_labels = torch.cat(my_pred_labels).cpu()\n",
    "\n",
    "    return my_pred_flattened, my_pred_logits, my_pred_labels, my_true_labels\n"
   ]
  },
  {
   "cell_type": "code",
   "execution_count": 37,
   "outputs": [],
   "source": [
    "# def generate_prediction_weights(input_dataset, input_weights_path):\n",
    "#     \"\"\"\n",
    "#     This function extracts the weights from the model in the prediction stage\n",
    "#     :param input_weights_path: \n",
    "#     :param input_dataset:\n",
    "#     :return:\n",
    "#     \"\"\"\n",
    "#     total_images = len(input_dataset)\n",
    "# \n",
    "#     my_label_true = []\n",
    "#     my_pred_flattened = []\n",
    "#     my_pred_logits = []\n",
    "#     my_label_preds = []\n",
    "# \n",
    "#     sample_model = MNISTModel(input_shape=1, hidden_units=10, output_shape=10).to(device)\n",
    "# \n",
    "#     sample_model.load_state_dict(torch.load(os.path.join(input_weights_path,\n",
    "#                                                          f\"model_epoch_{n_epochs}.pth\")))  # Load your trained weights\n",
    "#     model.eval()  # Set the model to evaluation mode\n",
    "# \n",
    "#     # flattened_outputs = []\n",
    "# \n",
    "#     with torch.inference_mode():\n",
    "#         for batch, (x_sample, y_sample) in enumerate(my_sample_dataset):  # we don't need labels for prediction\n",
    "#             x_sample = x_sample.to(device)\n",
    "#             preds, flattened = sample_model(x_sample.unsqueeze(dim=0).to(device), return_flattened=True)\n",
    "# \n",
    "#             # Save the true labels for each image\n",
    "#             my_label_true.append(y_sample)\n",
    "# \n",
    "#             # Save the activations after the nn.Flatten() layer for each image\n",
    "#             my_pred_flattened.append(flattened)\n",
    "# \n",
    "#             # Save the prediction logits\n",
    "#             my_pred_logits.append(preds)\n",
    "# \n",
    "#             # Save the prediction labels\n",
    "#             model_pred_labels = torch.argmax(torch.softmax(preds, dim=1), dim=1)\n",
    "#             my_label_preds.append(model_pred_labels)\n",
    "# \n",
    "#             # At this point, `flattened_outputs` is a list of tensors, \n",
    "#             # where each tensor corresponds to the flattened outputs for a batch of data.\n",
    "# \n",
    "#         my_pred_flattened  = torch.cat(my_pred_flattened, dim=0).cpu()  # Concatenate all activations\n",
    "#         my_pred_logits = torch.cat(my_pred_logits).cpu()\n",
    "#         my_label_preds = torch.cat(my_label_preds).cpu()\n",
    "# \n",
    "#     for item in range(total_images):\n",
    "#         # Get image and labels from the test data\n",
    "#         input_image = input_dataset[item][0]\n",
    "#         input_label = input_dataset[item][1]\n",
    "#         my_label_true.append(input_label)\n",
    "# \n",
    "#         # Extract and save the weights after the nn.Flatten() layer\n",
    "#         model_pred_flattened = model.get_flatten\n",
    "#         # model_pred_flattened = model(input_image.unsqueeze(dim=0).get_flatten.to(device))\n",
    "#         my_pred_flattened.append(model_pred_flattened)\n",
    "#         print(f\"The flattened weights:\\n {my_pred_flattened}\")\n",
    "#         # print(f\"The shape of the tensor:\\n {my_pred_flattened.shape}\")\n",
    "# \n",
    "#         # Save the prediction weights\n",
    "#         model_pred_logits = model_gpu(input_image.unsqueeze(dim=0).to(device))\n",
    "#         my_pred_logits.append(model_pred_logits)\n",
    "# \n",
    "#         # Save the prediction labels\n",
    "#         model_pred_labels = torch.argmax(torch.softmax(model_pred_logits, dim=1), dim=1)\n",
    "#         my_label_preds.append(model_pred_labels)\n",
    "# \n",
    "#     my_pred_flattened = torch.cat(my_pred_flattened).cpu()\n",
    "#     my_pred_logits = torch.cat(my_pred_logits).cpu()\n",
    "#     my_label_preds = torch.cat(my_label_preds).cpu()\n",
    "# \n",
    "#     return my_pred_flattened, my_pred_logits, my_label_preds, my_label_true\n"
   ],
   "metadata": {
    "collapsed": false,
    "ExecuteTime": {
     "end_time": "2023-08-03T11:49:46.132887500Z",
     "start_time": "2023-08-03T11:49:46.116931200Z"
    }
   }
  },
  {
   "cell_type": "code",
   "execution_count": 38,
   "metadata": {
    "colab": {
     "base_uri": "https://localhost:8080/"
    },
    "executionInfo": {
     "elapsed": 2356,
     "status": "ok",
     "timestamp": 1690805913891,
     "user": {
      "displayName": "Pavlo Radiuk",
      "userId": "14186362969234732176"
     },
     "user_tz": -180
    },
    "id": "BcfdHv_pmIQd",
    "outputId": "6dbadf74-1445-4830-8724-c095be2ef938",
    "ExecuteTime": {
     "end_time": "2023-08-03T11:49:46.537805500Z",
     "start_time": "2023-08-03T11:49:46.132887500Z"
    }
   },
   "outputs": [
    {
     "name": "stderr",
     "output_type": "stream",
     "text": [
      "1000it [00:00, 2571.16it/s]\n"
     ]
    }
   ],
   "source": [
    "my_prediction_weights = generate_prediction_weights(my_sample_dataset, model_weights_path)"
   ]
  },
  {
   "cell_type": "code",
   "execution_count": 39,
   "metadata": {
    "collapsed": false,
    "ExecuteTime": {
     "end_time": "2023-08-03T11:49:46.583683500Z",
     "start_time": "2023-08-03T11:49:46.538802100Z"
    }
   },
   "outputs": [
    {
     "data": {
      "text/plain": "torch.Size([1000, 490])"
     },
     "execution_count": 39,
     "metadata": {},
     "output_type": "execute_result"
    }
   ],
   "source": [
    "my_prediction_weights[0].shape"
   ]
  },
  {
   "cell_type": "code",
   "execution_count": 40,
   "metadata": {
    "executionInfo": {
     "elapsed": 1767,
     "status": "ok",
     "timestamp": 1690805920756,
     "user": {
      "displayName": "Pavlo Radiuk",
      "userId": "14186362969234732176"
     },
     "user_tz": -180
    },
    "id": "SMYLfeE3mIQd",
    "ExecuteTime": {
     "end_time": "2023-08-03T11:49:46.803848Z",
     "start_time": "2023-08-03T11:49:46.555756900Z"
    }
   },
   "outputs": [],
   "source": [
    "import pandas as pd\n",
    "\n",
    "def tensor_to_dataframe(tensor):\n",
    "    \"\"\"Convert a PyTorch tensor to a pandas DataFrame.\"\"\"\n",
    "    return pd.DataFrame(tensor.cpu().detach().numpy())\n",
    "\n",
    "# Convert the tensor to a DataFrame\n",
    "df_flattened = tensor_to_dataframe(my_prediction_weights[0])\n",
    "df_logits = tensor_to_dataframe(my_prediction_weights[1])\n",
    "df_preds = tensor_to_dataframe(my_prediction_weights[2])\n",
    "df_labels = pd.DataFrame(my_prediction_weights[3])\n"
   ]
  },
  {
   "cell_type": "code",
   "execution_count": 41,
   "metadata": {
    "collapsed": false,
    "ExecuteTime": {
     "end_time": "2023-08-03T11:49:46.819150Z",
     "start_time": "2023-08-03T11:49:46.809808100Z"
    }
   },
   "outputs": [],
   "source": [
    "# Convert indices to a DataFrame\n",
    "df_indices = pd.DataFrame(my_indices, columns=[\"unique_id\"])\n",
    "\n",
    "# Concatenate indices with other DataFrames\n",
    "df_flattened = pd.concat([df_indices, df_flattened], axis=1)\n",
    "df_logits = pd.concat([df_indices, df_logits], axis=1)\n",
    "df_preds = pd.concat([df_indices, df_preds], axis=1)\n",
    "df_labels = pd.concat([df_indices, df_labels], axis=1)\n"
   ]
  },
  {
   "cell_type": "code",
   "execution_count": 42,
   "metadata": {
    "collapsed": false,
    "ExecuteTime": {
     "end_time": "2023-08-03T11:49:47.066537100Z",
     "start_time": "2023-08-03T11:49:46.821144300Z"
    }
   },
   "outputs": [],
   "source": [
    "# Save the DataFrame to a CSV file\n",
    "with open(f\"{drive_path}/mnist_matrix_A.csv\", \"w\", newline=\"\") as file_flattened:\n",
    "    df_flattened.to_csv(file_flattened)\n",
    "with open(f\"{drive_path}/mnist_logits.csv\", \"w\", newline=\"\") as file_logits:\n",
    "    df_logits.to_csv(file_logits)\n",
    "with open(f\"{drive_path}/mnist_pred_labels.csv\", \"w\", newline=\"\") as file_preds:\n",
    "    df_preds.to_csv(file_preds)\n",
    "with open(f\"{drive_path}/mnist_true_labels.csv\", \"w\", newline=\"\") as file_labels:\n",
    "    df_labels.to_csv(file_labels)"
   ]
  },
  {
   "cell_type": "code",
   "execution_count": 43,
   "metadata": {
    "collapsed": false,
    "ExecuteTime": {
     "end_time": "2023-08-03T11:49:47.082259500Z",
     "start_time": "2023-08-03T11:49:47.067533900Z"
    }
   },
   "outputs": [],
   "source": [
    "# This code is to delete the first column\n",
    "# from the defined CSV file\n",
    "\n",
    "# # Read the CSV file into a pandas DataFrame\n",
    "# url = \"https://raw.githubusercontent.com/radiukpavlo/transition-matrix-ml/main/mnist/mnist_matrix_A.csv\"\n",
    "# df_flattened_new = pd.read_csv(url)\n",
    "# \n",
    "# # Drop the first column\n",
    "# df_flattened_new = df_flattened_new.drop(df_flattened_new.columns[0], axis=1)\n",
    "# \n",
    "# # Save the modified DataFrame to a new CSV file (if needed)\n",
    "# df_flattened_new.to_csv(f\"{drive_path}/df_flattened_new.csv\", index=False)\n"
   ]
  },
  {
   "cell_type": "markdown",
   "metadata": {
    "id": "qQwzqlBWxrpG"
   },
   "source": [
    "## 11. Plot a confusion matrix comparing your model's predictions to the truth labels."
   ]
  },
  {
   "cell_type": "code",
   "execution_count": 44,
   "metadata": {
    "colab": {
     "base_uri": "https://localhost:8080/"
    },
    "executionInfo": {
     "elapsed": 6082,
     "status": "ok",
     "timestamp": 1690805934993,
     "user": {
      "displayName": "Pavlo Radiuk",
      "userId": "14186362969234732176"
     },
     "user_tz": -180
    },
    "id": "CTIlKRqqYF02",
    "outputId": "fe9d072c-a760-4d07-9682-b73a22e07f57",
    "ExecuteTime": {
     "end_time": "2023-08-03T11:49:47.110000400Z",
     "start_time": "2023-08-03T11:49:47.082259500Z"
    }
   },
   "outputs": [],
   "source": [
    "# # See if torchmetrics exists, if not, install it\n",
    "# try:\n",
    "#     import torchmetrics, mldxtend\n",
    "#     print(f\"mlxtend version: {mlxtend.__version__}\")\n",
    "#     assert int(mlxtend.__version__.split(\".\")[1]) >= 19, \"mlxtend version should be 0.19.0 or higher\"\n",
    "# except:\n",
    "#     !pip install -q torchmetrics -U mlxtend # <- Note: If you're using Google Colab, this may require restarting the runtime\n",
    "#     import torchmetrics, mlxtend\n",
    "#     print(f\"mlxtend version: {mlxtend.__version__}\")"
   ]
  },
  {
   "cell_type": "code",
   "execution_count": 45,
   "metadata": {
    "colab": {
     "base_uri": "https://localhost:8080/"
    },
    "executionInfo": {
     "elapsed": 7,
     "status": "ok",
     "timestamp": 1690805934993,
     "user": {
      "displayName": "Pavlo Radiuk",
      "userId": "14186362969234732176"
     },
     "user_tz": -180
    },
    "id": "SqYUDscuYGSd",
    "outputId": "051c47e0-1d7c-41e3-b8e8-b5e6602da52f",
    "ExecuteTime": {
     "end_time": "2023-08-03T11:49:47.113989100Z",
     "start_time": "2023-08-03T11:49:47.097843800Z"
    }
   },
   "outputs": [
    {
     "name": "stdout",
     "output_type": "stream",
     "text": [
      "0.22.0\n"
     ]
    }
   ],
   "source": [
    "# Import mlxtend upgraded version\n",
    "import mlxtend\n",
    "print(mlxtend.__version__)\n",
    "assert int(mlxtend.__version__.split(\".\")[1]) >= 19 # should be versioned 0.19.0 or higher"
   ]
  },
  {
   "cell_type": "code",
   "execution_count": 46,
   "metadata": {
    "colab": {
     "base_uri": "https://localhost:8080/",
     "height": 1000,
     "referenced_widgets": [
      "75a9f356c1574bf3ab38e73d0144b344",
      "c12b0b3950df471bb5b822f1afce9046",
      "acb8fdb3932945d4b07232dee71fface",
      "568a368e8b094ec19c16f92281859c1c",
      "182de626138f4fc5abec16510f997cf9",
      "1312213efa0348c8b426c32fd115fa5c",
      "3bd67740fd3d41e9bbd6112e3417cc58",
      "f22ac599ac61405fb3fac039379f03f0",
      "076e6e7c43b74724a94383ee353dc0a1",
      "c22f6b739ca5473e8e612277dc267fa0",
      "2edb0a13541a4dc79354be2ea3c6916f"
     ]
    },
    "executionInfo": {
     "elapsed": 3598,
     "status": "ok",
     "timestamp": 1690805938586,
     "user": {
      "displayName": "Pavlo Radiuk",
      "userId": "14186362969234732176"
     },
     "user_tz": -180
    },
    "id": "8kJO6BqAyBEc",
    "outputId": "798eb44c-8729-417e-9b3e-d0b3ceda16cd",
    "ExecuteTime": {
     "end_time": "2023-08-03T11:49:48.523234Z",
     "start_time": "2023-08-03T11:49:47.114986800Z"
    }
   },
   "outputs": [
    {
     "name": "stderr",
     "output_type": "stream",
     "text": [
      "625it [00:01, 450.51it/s]"
     ]
    },
    {
     "name": "stdout",
     "output_type": "stream",
     "text": [
      "tensor([7, 2, 1,  ..., 4, 5, 6])\n"
     ]
    },
    {
     "name": "stderr",
     "output_type": "stream",
     "text": [
      "\n"
     ]
    }
   ],
   "source": [
    "# Make predictions across all test data\n",
    "from tqdm.auto import tqdm\n",
    "model_gpu.eval()\n",
    "y_preds = []\n",
    "with torch.inference_mode():\n",
    "    for batch, (X, y) in tqdm(enumerate(test_dataloader)):\n",
    "        # Make sure data on right device\n",
    "        X, y = X.to(device), y.to(device)\n",
    "        # Forward pass\n",
    "        y_pred_logits = model_gpu(X)\n",
    "        # Logits -> Pred probs -> Pred label\n",
    "        y_pred_labels = torch.argmax(torch.softmax(y_pred_logits, dim=1), dim=1)\n",
    "        # Append the labels to the preds list\n",
    "        y_preds.append(y_pred_labels)\n",
    "    y_preds = torch.cat(y_preds).cpu()\n",
    "len(y_preds)\n",
    "print(y_preds)"
   ]
  },
  {
   "cell_type": "code",
   "execution_count": 47,
   "metadata": {
    "colab": {
     "base_uri": "https://localhost:8080/"
    },
    "executionInfo": {
     "elapsed": 3,
     "status": "ok",
     "timestamp": 1690805938586,
     "user": {
      "displayName": "Pavlo Radiuk",
      "userId": "14186362969234732176"
     },
     "user_tz": -180
    },
    "id": "HMs7XPLTZBV4",
    "outputId": "fb270694-bcfd-44b8-d13a-638c9bdf09c3",
    "ExecuteTime": {
     "end_time": "2023-08-03T11:49:48.567116400Z",
     "start_time": "2023-08-03T11:49:48.524230900Z"
    }
   },
   "outputs": [
    {
     "data": {
      "text/plain": "(tensor([7, 2, 1, 0, 4, 1, 4, 9, 5, 9]),\n tensor([7, 2, 1, 0, 4, 1, 4, 9, 5, 9]))"
     },
     "execution_count": 47,
     "metadata": {},
     "output_type": "execute_result"
    }
   ],
   "source": [
    "test_data.targets[:10], y_preds[:10]"
   ]
  },
  {
   "cell_type": "code",
   "execution_count": 48,
   "metadata": {
    "colab": {
     "base_uri": "https://localhost:8080/",
     "height": 660
    },
    "executionInfo": {
     "elapsed": 815,
     "status": "ok",
     "timestamp": 1690805939399,
     "user": {
      "displayName": "Pavlo Radiuk",
      "userId": "14186362969234732176"
     },
     "user_tz": -180
    },
    "id": "7lK_v2JyZOOG",
    "outputId": "021e9936-a16f-4485-e9cf-40357d039611",
    "ExecuteTime": {
     "end_time": "2023-08-03T11:49:49.560151600Z",
     "start_time": "2023-08-03T11:49:48.539190800Z"
    }
   },
   "outputs": [
    {
     "name": "stderr",
     "output_type": "stream",
     "text": [
      "C:\\Users\\radiu\\anaconda3\\envs\\courses\\lib\\site-packages\\torchaudio\\backend\\utils.py:62: UserWarning: No audio backend is available.\n",
      "  warnings.warn(\"No audio backend is available.\")\n"
     ]
    },
    {
     "data": {
      "text/plain": "<Figure size 1000x700 with 1 Axes>",
      "image/png": "[encoded data removed]"
     },
     "metadata": {},
     "output_type": "display_data"
    }
   ],
   "source": [
    "from torchmetrics import ConfusionMatrix\n",
    "from mlxtend.plotting import plot_confusion_matrix\n",
    "\n",
    "# Setup confusion matrix\n",
    "confmat = ConfusionMatrix(task=\"multiclass\", num_classes=len(class_names))\n",
    "confmat_tensor = confmat(preds=y_preds,\n",
    "                         target=test_data.targets)\n",
    "\n",
    "# Plot the confusion matrix\n",
    "fix, ax = plot_confusion_matrix(\n",
    "    conf_mat=confmat_tensor.numpy(),\n",
    "    class_names=class_names,\n",
    "    figsize=(10, 7)\n",
    ")"
   ]
  },
  {
   "cell_type": "markdown",
   "metadata": {
    "id": "lj6bDhoWxt2y"
   },
   "source": [
    "## 12. Create a random tensor of shape `[1, 3, 64, 64]` and pass it through a `nn.Conv2d()` layer with various hyperparameter settings (these can be any settings you choose), what do you notice if the `kernel_size` parameter goes up and down?"
   ]
  },
  {
   "cell_type": "markdown",
   "metadata": {
    "id": "X7NdlYAKmIQf"
   },
   "source": [
    "random_tensor = torch.rand([1, 3, 64, 64])\n",
    "random_tensor.shape"
   ]
  },
  {
   "cell_type": "markdown",
   "metadata": {
    "id": "TzJLP6XqmIQf"
   },
   "source": [
    "conv_layer = nn.Conv2d(in_channels=3,\n",
    "                       out_channels=64,\n",
    "                       kernel_size=3,\n",
    "                       stride=2,\n",
    "                       padding=1)\n",
    "\n",
    "print(f\"Random tensor original shape: {random_tensor.shape}\")\n",
    "random_tensor_through_conv_layer = conv_layer(random_tensor)\n",
    "print(f\"Random tensor through conv layer shape: {random_tensor_through_conv_layer.shape}\")"
   ]
  },
  {
   "cell_type": "markdown",
   "metadata": {
    "id": "VHS20cNTxwSi"
   },
   "source": [
    "## 13. Use a model similar to the trained `model_2` from notebook 03 to make predictions on the test [`torchvision.datasets.FashionMNIST`](https://pytorch.org/vision/main/generated/torchvision.datasets.FashionMNIST.html) dataset.\n",
    "* Then plot some predictions where the model was wrong alongside what the label of the image should've been.\n",
    "* After visualing these predictions do you think it's more of a modelling error or a data error?\n",
    "* As in, could the model do better or are the labels of the data too close to each other (e.g. a \"Shirt\" label is too close to \"T-shirt/top\")?"
   ]
  },
  {
   "cell_type": "markdown",
   "metadata": {
    "id": "0VgZt5POmIQf"
   },
   "source": [
    "# Download FashionMNIST train & test\n",
    "from torchvision import datasets\n",
    "from torchvision import transforms\n",
    "\n",
    "fashion_mnist_train = datasets.FashionMNIST(root=\".\",\n",
    "                                            download=True,\n",
    "                                            train=True,\n",
    "                                            transform=transforms.ToTensor())\n",
    "\n",
    "fashion_mnist_test = datasets.FashionMNIST(root=\".\",\n",
    "                                           train=False,\n",
    "                                           download=True,\n",
    "                                           transform=transforms.ToTensor())\n",
    "\n",
    "len(fashion_mnist_train), len(fashion_mnist_test)"
   ]
  },
  {
   "cell_type": "markdown",
   "metadata": {
    "id": "7wctAWxjmIQg"
   },
   "source": [
    "# Get the class names of the Fashion MNIST dataset\n",
    "fashion_mnist_class_names = fashion_mnist_train.classes\n",
    "fashion_mnist_class_names"
   ]
  },
  {
   "cell_type": "markdown",
   "metadata": {
    "id": "ReIeE__tmIQh"
   },
   "source": [
    "# Turn FashionMNIST datasets into dataloaders\n",
    "from torch.utils.data import DataLoader\n",
    "\n",
    "fashion_mnist_train_dataloader = DataLoader(fashion_mnist_train,\n",
    "                                            batch_size=16,\n",
    "                                            shuffle=True)\n",
    "\n",
    "fashion_mnist_test_dataloader = DataLoader(fashion_mnist_test,\n",
    "                                           batch_size=16,\n",
    "                                           shuffle=False)\n",
    "\n",
    "len(fashion_mnist_train_dataloader), len(fashion_mnist_test_dataloader)"
   ]
  },
  {
   "cell_type": "markdown",
   "metadata": {
    "id": "AteaZRpxmIQh"
   },
   "source": [
    "# model_2 is the same architecture as MNISTModel\n",
    "model_2 = MNISTModel(input_shape=1,\n",
    "                      hidden_units=10,\n",
    "                      output_shape=10).to(device)\n",
    "model_2"
   ]
  },
  {
   "cell_type": "markdown",
   "metadata": {
    "id": "fBvSxHM-mIQi"
   },
   "source": [
    "# Setup loss and optimizer\n",
    "from torch import nn\n",
    "loss_fn = nn.CrossEntropyLoss()\n",
    "optimizer = torch.optim.SGD(model_2.parameters(), lr=0.01)"
   ]
  },
  {
   "cell_type": "markdown",
   "source": [
    "# Setup metrics\n",
    "from tqdm.auto import tqdm\n",
    "from torchmetrics import Accuracy\n",
    "\n",
    "acc_fn = Accuracy(task=\"multiclass\", num_classes=len(fashion_mnist_class_names)).to(device)\n",
    "\n",
    "# Setup training/testing loop\n",
    "epochs = 2\n",
    "for epoch in tqdm(range(epochs)):\n",
    "  train_loss, test_loss_total = 0, 0\n",
    "  train_acc, test_acc = 0, 0\n",
    "\n",
    "  ### Training\n",
    "  model_2.train()\n",
    "  for batch, (X_train, y_train) in enumerate(fashion_mnist_train_dataloader):\n",
    "    X_train, y_train = X_train.to(device), y_train.to(device)\n",
    "\n",
    "    # Forward pass and loss\n",
    "    y_pred = model_2(X_train)\n",
    "    loss = loss_fn(y_pred, y_train)\n",
    "    train_loss += loss\n",
    "    train_acc += acc_fn(y_pred, y_train)\n",
    "\n",
    "    # Backprop and gradient descent\n",
    "    optimizer.zero_grad()\n",
    "    loss.backward()\n",
    "    optimizer.step()\n",
    "\n",
    "  # Adjust the loss/acc (find the loss/acc per epoch)\n",
    "  train_loss /= len(fashion_mnist_train_dataloader)\n",
    "  train_acc /= len(fashion_mnist_train_dataloader)\n",
    "\n",
    "  ### Testing\n",
    "  model_2.eval()\n",
    "  with torch.inference_mode():\n",
    "    for batch, (X_test, y_test) in enumerate(fashion_mnist_test_dataloader):\n",
    "      X_test, y_test = X_test.to(device), y_test.to(device)\n",
    "\n",
    "      # Forward pass and loss\n",
    "      y_pred_test = model_2(X_test)\n",
    "      test_loss = loss_fn(y_pred_test, y_test)\n",
    "      test_loss_total += test_loss\n",
    "\n",
    "      test_acc += acc_fn(y_pred_test, y_test)\n",
    "  \n",
    "    # Adjust the loss/acc (find the loss/acc per epoch)\n",
    "    test_loss /= len(fashion_mnist_test_dataloader)\n",
    "    test_acc /= len(fashion_mnist_test_dataloader)\n",
    "    \n",
    "  # Print out what's happening\n",
    "  print(f\"Epoch: {epoch} | Train loss: {train_loss:.3f} | Train acc: {train_acc:.2f} | Test loss: {test_loss_total:.3f} | Test acc: {test_acc:.2f}\")"
   ],
   "metadata": {
    "collapsed": false
   }
  },
  {
   "cell_type": "markdown",
   "metadata": {
    "id": "7ysX-JSKmIQi"
   },
   "source": [
    "# Make predictions with trained model_2\n",
    "test_preds = []\n",
    "model_2.eval()\n",
    "with torch.inference_mode():\n",
    "  for X_test, y_test in tqdm(fashion_mnist_test_dataloader):\n",
    "    y_logits = model_2(X_test.to(device))\n",
    "    y_pred_probs = torch.softmax(y_logits, dim=1)\n",
    "    y_pred_labels = torch.argmax(y_pred_probs, dim=1)\n",
    "    test_preds.append(y_pred_labels)\n",
    "test_preds = torch.cat(test_preds).cpu() # matplotlib likes CPU\n",
    "test_preds[:10], len(test_preds)    "
   ]
  },
  {
   "cell_type": "markdown",
   "metadata": {
    "id": "amjDUjkSmIQi"
   },
   "source": [
    "# Get wrong prediction indexes\n",
    "import numpy as np\n",
    "wrong_pred_indexes = np.where(test_preds != fashion_mnist_test.targets)[0]\n",
    "len(wrong_pred_indexes)"
   ]
  },
  {
   "cell_type": "markdown",
   "metadata": {
    "id": "7TXBJdZ3mIQi"
   },
   "source": [
    "# Select random 9 wrong predictions and plot them\n",
    "import random\n",
    "random_selection = random.sample(list(wrong_pred_indexes), k=9)\n",
    "\n",
    "plt.figure(figsize=(10, 10))\n",
    "for i, idx in enumerate(random_selection):\n",
    "  # Get true and pred labels\n",
    "  true_label = fashion_mnist_class_names[fashion_mnist_test[idx][1]]\n",
    "  pred_label = fashion_mnist_class_names[test_preds[idx]]\n",
    "\n",
    "  # Plot the wrong prediction with its original label\n",
    "  plt.subplot(3, 3, i+1)\n",
    "  plt.imshow(fashion_mnist_test[idx][0].squeeze(), cmap=\"gray\")\n",
    "  plt.title(f\"True: {true_label} | Pred: {pred_label}\", c=\"r\")\n",
    "  plt.axis(False)"
   ]
  },
  {
   "cell_type": "markdown",
   "metadata": {
    "id": "xoDfh-fKXtyU"
   },
   "source": [
    "From the look of some of these predictions, the model is getting about as confused as I would...\n",
    "\n",
    "For example it predicts \"Sneaker\" instead of \"Sandal\" when it could have easily been a \"Sneaker\".\n",
    "\n",
    "The same goes for the confusion between the classes of \"T-shirt/top\" and \"Shirt\", many of the examples here look similar."
   ]
  }
 ],
 "metadata": {
  "accelerator": "GPU",
  "colab": {
   "provenance": []
  },
  "kernelspec": {
   "display_name": "Python 3 (ipykernel)",
   "language": "python",
   "name": "python3"
  },
  "language_info": {
   "codemirror_mode": {
    "name": "ipython",
    "version": 3
   },
   "file_extension": ".py",
   "mimetype": "text/x-python",
   "name": "python",
   "nbconvert_exporter": "python",
   "pygments_lexer": "ipython3",
   "version": "3.9.16"
  },
  "widgets": {
   "application/vnd.jupyter.widget-state+json": {
    "04ed2a1850624ea3a724daf1f82c5383": {
     "model_module": "@jupyter-widgets/base",
     "model_module_version": "1.2.0",
     "model_name": "LayoutModel",
     "state": {
      "_model_module": "@jupyter-widgets/base",
      "_model_module_version": "1.2.0",
      "_model_name": "LayoutModel",
      "_view_count": null,
      "_view_module": "@jupyter-widgets/base",
      "_view_module_version": "1.2.0",
      "_view_name": "LayoutView",
      "align_content": null,
      "align_items": null,
      "align_self": null,
      "border": null,
      "bottom": null,
      "display": null,
      "flex": null,
      "flex_flow": null,
      "grid_area": null,
      "grid_auto_columns": null,
      "grid_auto_flow": null,
      "grid_auto_rows": null,
      "grid_column": null,
      "grid_gap": null,
      "grid_row": null,
      "grid_template_areas": null,
      "grid_template_columns": null,
      "grid_template_rows": null,
      "height": null,
      "justify_content": null,
      "justify_items": null,
      "left": null,
      "margin": null,
      "max_height": null,
      "max_width": null,
      "min_height": null,
      "min_width": null,
      "object_fit": null,
      "object_position": null,
      "order": null,
      "overflow": null,
      "overflow_x": null,
      "overflow_y": null,
      "padding": null,
      "right": null,
      "top": null,
      "visibility": null,
      "width": null
     }
    },
    "076e6e7c43b74724a94383ee353dc0a1": {
     "model_module": "@jupyter-widgets/controls",
     "model_module_version": "1.5.0",
     "model_name": "ProgressStyleModel",
     "state": {
      "_model_module": "@jupyter-widgets/controls",
      "_model_module_version": "1.5.0",
      "_model_name": "ProgressStyleModel",
      "_view_count": null,
      "_view_module": "@jupyter-widgets/base",
      "_view_module_version": "1.2.0",
      "_view_name": "StyleView",
      "bar_color": null,
      "description_width": ""
     }
    },
    "11b3193c755d4b91becf14efa1c443f0": {
     "model_module": "@jupyter-widgets/controls",
     "model_module_version": "1.5.0",
     "model_name": "ProgressStyleModel",
     "state": {
      "_model_module": "@jupyter-widgets/controls",
      "_model_module_version": "1.5.0",
      "_model_name": "ProgressStyleModel",
      "_view_count": null,
      "_view_module": "@jupyter-widgets/base",
      "_view_module_version": "1.2.0",
      "_view_name": "StyleView",
      "bar_color": null,
      "description_width": ""
     }
    },
    "1312213efa0348c8b426c32fd115fa5c": {
     "model_module": "@jupyter-widgets/base",
     "model_module_version": "1.2.0",
     "model_name": "LayoutModel",
     "state": {
      "_model_module": "@jupyter-widgets/base",
      "_model_module_version": "1.2.0",
      "_model_name": "LayoutModel",
      "_view_count": null,
      "_view_module": "@jupyter-widgets/base",
      "_view_module_version": "1.2.0",
      "_view_name": "LayoutView",
      "align_content": null,
      "align_items": null,
      "align_self": null,
      "border": null,
      "bottom": null,
      "display": null,
      "flex": null,
      "flex_flow": null,
      "grid_area": null,
      "grid_auto_columns": null,
      "grid_auto_flow": null,
      "grid_auto_rows": null,
      "grid_column": null,
      "grid_gap": null,
      "grid_row": null,
      "grid_template_areas": null,
      "grid_template_columns": null,
      "grid_template_rows": null,
      "height": null,
      "justify_content": null,
      "justify_items": null,
      "left": null,
      "margin": null,
      "max_height": null,
      "max_width": null,
      "min_height": null,
      "min_width": null,
      "object_fit": null,
      "object_position": null,
      "order": null,
      "overflow": null,
      "overflow_x": null,
      "overflow_y": null,
      "padding": null,
      "right": null,
      "top": null,
      "visibility": null,
      "width": null
     }
    },
    "182de626138f4fc5abec16510f997cf9": {
     "model_module": "@jupyter-widgets/base",
     "model_module_version": "1.2.0",
     "model_name": "LayoutModel",
     "state": {
      "_model_module": "@jupyter-widgets/base",
      "_model_module_version": "1.2.0",
      "_model_name": "LayoutModel",
      "_view_count": null,
      "_view_module": "@jupyter-widgets/base",
      "_view_module_version": "1.2.0",
      "_view_name": "LayoutView",
      "align_content": null,
      "align_items": null,
      "align_self": null,
      "border": null,
      "bottom": null,
      "display": null,
      "flex": null,
      "flex_flow": null,
      "grid_area": null,
      "grid_auto_columns": null,
      "grid_auto_flow": null,
      "grid_auto_rows": null,
      "grid_column": null,
      "grid_gap": null,
      "grid_row": null,
      "grid_template_areas": null,
      "grid_template_columns": null,
      "grid_template_rows": null,
      "height": null,
      "justify_content": null,
      "justify_items": null,
      "left": null,
      "margin": null,
      "max_height": null,
      "max_width": null,
      "min_height": null,
      "min_width": null,
      "object_fit": null,
      "object_position": null,
      "order": null,
      "overflow": null,
      "overflow_x": null,
      "overflow_y": null,
      "padding": null,
      "right": null,
      "top": null,
      "visibility": null,
      "width": null
     }
    },
    "2239f77486f348f989463de8eee7fbe9": {
     "model_module": "@jupyter-widgets/controls",
     "model_module_version": "1.5.0",
     "model_name": "HTMLModel",
     "state": {
      "_dom_classes": [],
      "_model_module": "@jupyter-widgets/controls",
      "_model_module_version": "1.5.0",
      "_model_name": "HTMLModel",
      "_view_count": null,
      "_view_module": "@jupyter-widgets/controls",
      "_view_module_version": "1.5.0",
      "_view_name": "HTMLView",
      "description": "",
      "description_tooltip": null,
      "layout": "IPY_MODEL_96f1ccc77d3641718bf41245e0c1c8c1",
      "placeholder": "​",
      "style": "IPY_MODEL_fac90735353a4755935a42a125a72a73",
      "value": "100%"
     }
    },
    "2691f9aec2614a1298133154a552dc71": {
     "model_module": "@jupyter-widgets/base",
     "model_module_version": "1.2.0",
     "model_name": "LayoutModel",
     "state": {
      "_model_module": "@jupyter-widgets/base",
      "_model_module_version": "1.2.0",
      "_model_name": "LayoutModel",
      "_view_count": null,
      "_view_module": "@jupyter-widgets/base",
      "_view_module_version": "1.2.0",
      "_view_name": "LayoutView",
      "align_content": null,
      "align_items": null,
      "align_self": null,
      "border": null,
      "bottom": null,
      "display": null,
      "flex": null,
      "flex_flow": null,
      "grid_area": null,
      "grid_auto_columns": null,
      "grid_auto_flow": null,
      "grid_auto_rows": null,
      "grid_column": null,
      "grid_gap": null,
      "grid_row": null,
      "grid_template_areas": null,
      "grid_template_columns": null,
      "grid_template_rows": null,
      "height": null,
      "justify_content": null,
      "justify_items": null,
      "left": null,
      "margin": null,
      "max_height": null,
      "max_width": null,
      "min_height": null,
      "min_width": null,
      "object_fit": null,
      "object_position": null,
      "order": null,
      "overflow": null,
      "overflow_x": null,
      "overflow_y": null,
      "padding": null,
      "right": null,
      "top": null,
      "visibility": null,
      "width": null
     }
    },
    "2edb0a13541a4dc79354be2ea3c6916f": {
     "model_module": "@jupyter-widgets/controls",
     "model_module_version": "1.5.0",
     "model_name": "DescriptionStyleModel",
     "state": {
      "_model_module": "@jupyter-widgets/controls",
      "_model_module_version": "1.5.0",
      "_model_name": "DescriptionStyleModel",
      "_view_count": null,
      "_view_module": "@jupyter-widgets/base",
      "_view_module_version": "1.2.0",
      "_view_name": "StyleView",
      "description_width": ""
     }
    },
    "3bd67740fd3d41e9bbd6112e3417cc58": {
     "model_module": "@jupyter-widgets/controls",
     "model_module_version": "1.5.0",
     "model_name": "DescriptionStyleModel",
     "state": {
      "_model_module": "@jupyter-widgets/controls",
      "_model_module_version": "1.5.0",
      "_model_name": "DescriptionStyleModel",
      "_view_count": null,
      "_view_module": "@jupyter-widgets/base",
      "_view_module_version": "1.2.0",
      "_view_name": "StyleView",
      "description_width": ""
     }
    },
    "540f82a2be3d4f629c6a6f0b2713fa07": {
     "model_module": "@jupyter-widgets/base",
     "model_module_version": "1.2.0",
     "model_name": "LayoutModel",
     "state": {
      "_model_module": "@jupyter-widgets/base",
      "_model_module_version": "1.2.0",
      "_model_name": "LayoutModel",
      "_view_count": null,
      "_view_module": "@jupyter-widgets/base",
      "_view_module_version": "1.2.0",
      "_view_name": "LayoutView",
      "align_content": null,
      "align_items": null,
      "align_self": null,
      "border": null,
      "bottom": null,
      "display": null,
      "flex": null,
      "flex_flow": null,
      "grid_area": null,
      "grid_auto_columns": null,
      "grid_auto_flow": null,
      "grid_auto_rows": null,
      "grid_column": null,
      "grid_gap": null,
      "grid_row": null,
      "grid_template_areas": null,
      "grid_template_columns": null,
      "grid_template_rows": null,
      "height": null,
      "justify_content": null,
      "justify_items": null,
      "left": null,
      "margin": null,
      "max_height": null,
      "max_width": null,
      "min_height": null,
      "min_width": null,
      "object_fit": null,
      "object_position": null,
      "order": null,
      "overflow": null,
      "overflow_x": null,
      "overflow_y": null,
      "padding": null,
      "right": null,
      "top": null,
      "visibility": null,
      "width": null
     }
    },
    "568a368e8b094ec19c16f92281859c1c": {
     "model_module": "@jupyter-widgets/controls",
     "model_module_version": "1.5.0",
     "model_name": "HTMLModel",
     "state": {
      "_dom_classes": [],
      "_model_module": "@jupyter-widgets/controls",
      "_model_module_version": "1.5.0",
      "_model_name": "HTMLModel",
      "_view_count": null,
      "_view_module": "@jupyter-widgets/controls",
      "_view_module_version": "1.5.0",
      "_view_name": "HTMLView",
      "description": "",
      "description_tooltip": null,
      "layout": "IPY_MODEL_c22f6b739ca5473e8e612277dc267fa0",
      "placeholder": "​",
      "style": "IPY_MODEL_2edb0a13541a4dc79354be2ea3c6916f",
      "value": " 625/? [00:03&lt;00:00, 216.07it/s]"
     }
    },
    "635e558c36e8415cafe69e315c70d1dd": {
     "model_module": "@jupyter-widgets/controls",
     "model_module_version": "1.5.0",
     "model_name": "FloatProgressModel",
     "state": {
      "_dom_classes": [],
      "_model_module": "@jupyter-widgets/controls",
      "_model_module_version": "1.5.0",
      "_model_name": "FloatProgressModel",
      "_view_count": null,
      "_view_module": "@jupyter-widgets/controls",
      "_view_module_version": "1.5.0",
      "_view_name": "ProgressView",
      "bar_style": "success",
      "description": "",
      "description_tooltip": null,
      "layout": "IPY_MODEL_2691f9aec2614a1298133154a552dc71",
      "max": 2,
      "min": 0,
      "orientation": "horizontal",
      "style": "IPY_MODEL_11b3193c755d4b91becf14efa1c443f0",
      "value": 2
     }
    },
    "75a9f356c1574bf3ab38e73d0144b344": {
     "model_module": "@jupyter-widgets/controls",
     "model_module_version": "1.5.0",
     "model_name": "HBoxModel",
     "state": {
      "_dom_classes": [],
      "_model_module": "@jupyter-widgets/controls",
      "_model_module_version": "1.5.0",
      "_model_name": "HBoxModel",
      "_view_count": null,
      "_view_module": "@jupyter-widgets/controls",
      "_view_module_version": "1.5.0",
      "_view_name": "HBoxView",
      "box_style": "",
      "children": [
       "IPY_MODEL_c12b0b3950df471bb5b822f1afce9046",
       "IPY_MODEL_acb8fdb3932945d4b07232dee71fface",
       "IPY_MODEL_568a368e8b094ec19c16f92281859c1c"
      ],
      "layout": "IPY_MODEL_182de626138f4fc5abec16510f997cf9"
     }
    },
    "96f1ccc77d3641718bf41245e0c1c8c1": {
     "model_module": "@jupyter-widgets/base",
     "model_module_version": "1.2.0",
     "model_name": "LayoutModel",
     "state": {
      "_model_module": "@jupyter-widgets/base",
      "_model_module_version": "1.2.0",
      "_model_name": "LayoutModel",
      "_view_count": null,
      "_view_module": "@jupyter-widgets/base",
      "_view_module_version": "1.2.0",
      "_view_name": "LayoutView",
      "align_content": null,
      "align_items": null,
      "align_self": null,
      "border": null,
      "bottom": null,
      "display": null,
      "flex": null,
      "flex_flow": null,
      "grid_area": null,
      "grid_auto_columns": null,
      "grid_auto_flow": null,
      "grid_auto_rows": null,
      "grid_column": null,
      "grid_gap": null,
      "grid_row": null,
      "grid_template_areas": null,
      "grid_template_columns": null,
      "grid_template_rows": null,
      "height": null,
      "justify_content": null,
      "justify_items": null,
      "left": null,
      "margin": null,
      "max_height": null,
      "max_width": null,
      "min_height": null,
      "min_width": null,
      "object_fit": null,
      "object_position": null,
      "order": null,
      "overflow": null,
      "overflow_x": null,
      "overflow_y": null,
      "padding": null,
      "right": null,
      "top": null,
      "visibility": null,
      "width": null
     }
    },
    "acb8fdb3932945d4b07232dee71fface": {
     "model_module": "@jupyter-widgets/controls",
     "model_module_version": "1.5.0",
     "model_name": "FloatProgressModel",
     "state": {
      "_dom_classes": [],
      "_model_module": "@jupyter-widgets/controls",
      "_model_module_version": "1.5.0",
      "_model_name": "FloatProgressModel",
      "_view_count": null,
      "_view_module": "@jupyter-widgets/controls",
      "_view_module_version": "1.5.0",
      "_view_name": "ProgressView",
      "bar_style": "success",
      "description": "",
      "description_tooltip": null,
      "layout": "IPY_MODEL_f22ac599ac61405fb3fac039379f03f0",
      "max": 1,
      "min": 0,
      "orientation": "horizontal",
      "style": "IPY_MODEL_076e6e7c43b74724a94383ee353dc0a1",
      "value": 1
     }
    },
    "b2be661e7414444eafefc50786dd9b76": {
     "model_module": "@jupyter-widgets/controls",
     "model_module_version": "1.5.0",
     "model_name": "HBoxModel",
     "state": {
      "_dom_classes": [],
      "_model_module": "@jupyter-widgets/controls",
      "_model_module_version": "1.5.0",
      "_model_name": "HBoxModel",
      "_view_count": null,
      "_view_module": "@jupyter-widgets/controls",
      "_view_module_version": "1.5.0",
      "_view_name": "HBoxView",
      "box_style": "",
      "children": [
       "IPY_MODEL_2239f77486f348f989463de8eee7fbe9",
       "IPY_MODEL_635e558c36e8415cafe69e315c70d1dd",
       "IPY_MODEL_d73b703d06ee496781d48080e82edcd7"
      ],
      "layout": "IPY_MODEL_04ed2a1850624ea3a724daf1f82c5383"
     }
    },
    "b89e38295f934a4785756a4741ab1055": {
     "model_module": "@jupyter-widgets/controls",
     "model_module_version": "1.5.0",
     "model_name": "DescriptionStyleModel",
     "state": {
      "_model_module": "@jupyter-widgets/controls",
      "_model_module_version": "1.5.0",
      "_model_name": "DescriptionStyleModel",
      "_view_count": null,
      "_view_module": "@jupyter-widgets/base",
      "_view_module_version": "1.2.0",
      "_view_name": "StyleView",
      "description_width": ""
     }
    },
    "c12b0b3950df471bb5b822f1afce9046": {
     "model_module": "@jupyter-widgets/controls",
     "model_module_version": "1.5.0",
     "model_name": "HTMLModel",
     "state": {
      "_dom_classes": [],
      "_model_module": "@jupyter-widgets/controls",
      "_model_module_version": "1.5.0",
      "_model_name": "HTMLModel",
      "_view_count": null,
      "_view_module": "@jupyter-widgets/controls",
      "_view_module_version": "1.5.0",
      "_view_name": "HTMLView",
      "description": "",
      "description_tooltip": null,
      "layout": "IPY_MODEL_1312213efa0348c8b426c32fd115fa5c",
      "placeholder": "​",
      "style": "IPY_MODEL_3bd67740fd3d41e9bbd6112e3417cc58",
      "value": ""
     }
    },
    "c22f6b739ca5473e8e612277dc267fa0": {
     "model_module": "@jupyter-widgets/base",
     "model_module_version": "1.2.0",
     "model_name": "LayoutModel",
     "state": {
      "_model_module": "@jupyter-widgets/base",
      "_model_module_version": "1.2.0",
      "_model_name": "LayoutModel",
      "_view_count": null,
      "_view_module": "@jupyter-widgets/base",
      "_view_module_version": "1.2.0",
      "_view_name": "LayoutView",
      "align_content": null,
      "align_items": null,
      "align_self": null,
      "border": null,
      "bottom": null,
      "display": null,
      "flex": null,
      "flex_flow": null,
      "grid_area": null,
      "grid_auto_columns": null,
      "grid_auto_flow": null,
      "grid_auto_rows": null,
      "grid_column": null,
      "grid_gap": null,
      "grid_row": null,
      "grid_template_areas": null,
      "grid_template_columns": null,
      "grid_template_rows": null,
      "height": null,
      "justify_content": null,
      "justify_items": null,
      "left": null,
      "margin": null,
      "max_height": null,
      "max_width": null,
      "min_height": null,
      "min_width": null,
      "object_fit": null,
      "object_position": null,
      "order": null,
      "overflow": null,
      "overflow_x": null,
      "overflow_y": null,
      "padding": null,
      "right": null,
      "top": null,
      "visibility": null,
      "width": null
     }
    },
    "d73b703d06ee496781d48080e82edcd7": {
     "model_module": "@jupyter-widgets/controls",
     "model_module_version": "1.5.0",
     "model_name": "HTMLModel",
     "state": {
      "_dom_classes": [],
      "_model_module": "@jupyter-widgets/controls",
      "_model_module_version": "1.5.0",
      "_model_name": "HTMLModel",
      "_view_count": null,
      "_view_module": "@jupyter-widgets/controls",
      "_view_module_version": "1.5.0",
      "_view_name": "HTMLView",
      "description": "",
      "description_tooltip": null,
      "layout": "IPY_MODEL_540f82a2be3d4f629c6a6f0b2713fa07",
      "placeholder": "​",
      "style": "IPY_MODEL_b89e38295f934a4785756a4741ab1055",
      "value": " 2/2 [00:54&lt;00:00, 26.93s/it]"
     }
    },
    "f22ac599ac61405fb3fac039379f03f0": {
     "model_module": "@jupyter-widgets/base",
     "model_module_version": "1.2.0",
     "model_name": "LayoutModel",
     "state": {
      "_model_module": "@jupyter-widgets/base",
      "_model_module_version": "1.2.0",
      "_model_name": "LayoutModel",
      "_view_count": null,
      "_view_module": "@jupyter-widgets/base",
      "_view_module_version": "1.2.0",
      "_view_name": "LayoutView",
      "align_content": null,
      "align_items": null,
      "align_self": null,
      "border": null,
      "bottom": null,
      "display": null,
      "flex": null,
      "flex_flow": null,
      "grid_area": null,
      "grid_auto_columns": null,
      "grid_auto_flow": null,
      "grid_auto_rows": null,
      "grid_column": null,
      "grid_gap": null,
      "grid_row": null,
      "grid_template_areas": null,
      "grid_template_columns": null,
      "grid_template_rows": null,
      "height": null,
      "justify_content": null,
      "justify_items": null,
      "left": null,
      "margin": null,
      "max_height": null,
      "max_width": null,
      "min_height": null,
      "min_width": null,
      "object_fit": null,
      "object_position": null,
      "order": null,
      "overflow": null,
      "overflow_x": null,
      "overflow_y": null,
      "padding": null,
      "right": null,
      "top": null,
      "visibility": null,
      "width": "20px"
     }
    },
    "fac90735353a4755935a42a125a72a73": {
     "model_module": "@jupyter-widgets/controls",
     "model_module_version": "1.5.0",
     "model_name": "DescriptionStyleModel",
     "state": {
      "_model_module": "@jupyter-widgets/controls",
      "_model_module_version": "1.5.0",
      "_model_name": "DescriptionStyleModel",
      "_view_count": null,
      "_view_module": "@jupyter-widgets/base",
      "_view_module_version": "1.2.0",
      "_view_name": "StyleView",
      "description_width": ""
     }
    }
   }
  }
 },
 "nbformat": 4,
 "nbformat_minor": 4
}
