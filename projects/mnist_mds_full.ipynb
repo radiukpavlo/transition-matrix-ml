{
 "cells": [
  {
   "cell_type": "markdown",
   "id": "9429755869ff6538",
   "metadata": {},
   "source": [
    "## 1. Data Upload"
   ]
  },
  {
   "cell_type": "code",
   "execution_count": 27,
   "id": "7fde58ff0426c5dd",
   "metadata": {
    "collapsed": false,
    "ExecuteTime": {
     "end_time": "2023-11-30T13:45:43.310087500Z",
     "start_time": "2023-11-30T13:45:43.151226100Z"
    }
   },
   "outputs": [],
   "source": [
    "import pandas as pd\n",
    "import numpy as np\n",
    "from sklearn.manifold import MDS\n",
    "from sklearn.preprocessing import StandardScaler\n",
    "from scipy.optimize import minimize\n",
    "\n",
    "path_csv = '.'\n",
    "\n",
    "# Read the CSV files into pandas dataframes\n",
    "input_formal_model = pd.read_csv(f\"{path_csv}/formal_model.csv\")"
   ]
  },
  {
   "cell_type": "code",
   "execution_count": 28,
   "id": "a4bf3067abb75f37",
   "metadata": {
    "collapsed": false,
    "ExecuteTime": {
     "end_time": "2023-11-30T13:45:43.371154200Z",
     "start_time": "2023-11-30T13:45:43.313089Z"
    }
   },
   "outputs": [
    {
     "data": {
      "text/plain": "    ID  Target   f1   f2        f3        f4   f5\n0    1       1  2.8 -1.8 -2.800000  1.300000  0.4\n1    2       1  2.9 -1.9 -2.900000  1.400000  0.5\n2    3       1  3.0 -2.0 -3.000000  1.500000  0.6\n3    4       1  3.1 -2.1 -3.100000  1.600000  0.7\n4    5       1  3.2 -2.2 -3.200000  1.700000  0.8\n5    6       2 -1.6 -2.5  1.500000  0.200000  0.6\n6    7       2 -1.3 -2.7  1.300000  0.400000  0.8\n7    8       2 -1.0 -3.0  1.500000  0.600000  1.0\n8    9       2 -0.7 -3.2  1.700000  0.800000  1.2\n9   10       2 -0.5 -3.5  1.900000  1.000000  1.4\n10  11       3  1.2 -1.2  0.700000 -0.300000 -2.8\n11  12       3  1.1 -1.1  0.800000 -0.400000 -2.9\n12  13       3  1.0 -1.0  0.844444 -0.444444 -3.0\n13  14       3  0.9 -0.9  0.850000 -0.450000 -3.1\n14  15       3  0.8 -0.8  0.900000 -0.500000 -3.2",
      "text/html": "<div>\n<style scoped>\n    .dataframe tbody tr th:only-of-type {\n        vertical-align: middle;\n    }\n\n    .dataframe tbody tr th {\n        vertical-align: top;\n    }\n\n    .dataframe thead th {\n        text-align: right;\n    }\n</style>\n<table border=\"1\" class=\"dataframe\">\n  <thead>\n    <tr style=\"text-align: right;\">\n      <th></th>\n      <th>ID</th>\n      <th>Target</th>\n      <th>f1</th>\n      <th>f2</th>\n      <th>f3</th>\n      <th>f4</th>\n      <th>f5</th>\n    </tr>\n  </thead>\n  <tbody>\n    <tr>\n      <th>0</th>\n      <td>1</td>\n      <td>1</td>\n      <td>2.8</td>\n      <td>-1.8</td>\n      <td>-2.800000</td>\n      <td>1.300000</td>\n      <td>0.4</td>\n    </tr>\n    <tr>\n      <th>1</th>\n      <td>2</td>\n      <td>1</td>\n      <td>2.9</td>\n      <td>-1.9</td>\n      <td>-2.900000</td>\n      <td>1.400000</td>\n      <td>0.5</td>\n    </tr>\n    <tr>\n      <th>2</th>\n      <td>3</td>\n      <td>1</td>\n      <td>3.0</td>\n      <td>-2.0</td>\n      <td>-3.000000</td>\n      <td>1.500000</td>\n      <td>0.6</td>\n    </tr>\n    <tr>\n      <th>3</th>\n      <td>4</td>\n      <td>1</td>\n      <td>3.1</td>\n      <td>-2.1</td>\n      <td>-3.100000</td>\n      <td>1.600000</td>\n      <td>0.7</td>\n    </tr>\n    <tr>\n      <th>4</th>\n      <td>5</td>\n      <td>1</td>\n      <td>3.2</td>\n      <td>-2.2</td>\n      <td>-3.200000</td>\n      <td>1.700000</td>\n      <td>0.8</td>\n    </tr>\n    <tr>\n      <th>5</th>\n      <td>6</td>\n      <td>2</td>\n      <td>-1.6</td>\n      <td>-2.5</td>\n      <td>1.500000</td>\n      <td>0.200000</td>\n      <td>0.6</td>\n    </tr>\n    <tr>\n      <th>6</th>\n      <td>7</td>\n      <td>2</td>\n      <td>-1.3</td>\n      <td>-2.7</td>\n      <td>1.300000</td>\n      <td>0.400000</td>\n      <td>0.8</td>\n    </tr>\n    <tr>\n      <th>7</th>\n      <td>8</td>\n      <td>2</td>\n      <td>-1.0</td>\n      <td>-3.0</td>\n      <td>1.500000</td>\n      <td>0.600000</td>\n      <td>1.0</td>\n    </tr>\n    <tr>\n      <th>8</th>\n      <td>9</td>\n      <td>2</td>\n      <td>-0.7</td>\n      <td>-3.2</td>\n      <td>1.700000</td>\n      <td>0.800000</td>\n      <td>1.2</td>\n    </tr>\n    <tr>\n      <th>9</th>\n      <td>10</td>\n      <td>2</td>\n      <td>-0.5</td>\n      <td>-3.5</td>\n      <td>1.900000</td>\n      <td>1.000000</td>\n      <td>1.4</td>\n    </tr>\n    <tr>\n      <th>10</th>\n      <td>11</td>\n      <td>3</td>\n      <td>1.2</td>\n      <td>-1.2</td>\n      <td>0.700000</td>\n      <td>-0.300000</td>\n      <td>-2.8</td>\n    </tr>\n    <tr>\n      <th>11</th>\n      <td>12</td>\n      <td>3</td>\n      <td>1.1</td>\n      <td>-1.1</td>\n      <td>0.800000</td>\n      <td>-0.400000</td>\n      <td>-2.9</td>\n    </tr>\n    <tr>\n      <th>12</th>\n      <td>13</td>\n      <td>3</td>\n      <td>1.0</td>\n      <td>-1.0</td>\n      <td>0.844444</td>\n      <td>-0.444444</td>\n      <td>-3.0</td>\n    </tr>\n    <tr>\n      <th>13</th>\n      <td>14</td>\n      <td>3</td>\n      <td>0.9</td>\n      <td>-0.9</td>\n      <td>0.850000</td>\n      <td>-0.450000</td>\n      <td>-3.1</td>\n    </tr>\n    <tr>\n      <th>14</th>\n      <td>15</td>\n      <td>3</td>\n      <td>0.8</td>\n      <td>-0.8</td>\n      <td>0.900000</td>\n      <td>-0.500000</td>\n      <td>-3.2</td>\n    </tr>\n  </tbody>\n</table>\n</div>"
     },
     "execution_count": 28,
     "metadata": {},
     "output_type": "execute_result"
    }
   ],
   "source": [
    "input_formal_model"
   ]
  },
  {
   "cell_type": "markdown",
   "id": "e695dfea778f3996",
   "metadata": {},
   "source": [
    "## 2. Multi-dimensional scaling"
   ]
  },
  {
   "cell_type": "code",
   "execution_count": 29,
   "id": "f65e9e1eb4935bbd",
   "metadata": {
    "collapsed": false,
    "ExecuteTime": {
     "end_time": "2023-11-30T13:45:43.423986Z",
     "start_time": "2023-11-30T13:45:43.341623800Z"
    }
   },
   "outputs": [],
   "source": [
    "# Extract the necessary subtables\n",
    "formal_model_features = input_formal_model.drop('Target', axis=1).drop('ID', axis=1)\n",
    "formal_model_with_id = input_formal_model.drop('Target', axis=1)\n",
    "formal_model_id = input_formal_model['ID']\n",
    "formal_model_target = input_formal_model['Target']\n",
    "\n",
    "# Standardize the data\n",
    "scaler = StandardScaler()\n",
    "X_scaled = scaler.fit_transform(formal_model_features)\n",
    "\n",
    "# Apply MDS to reduce the dimensions to 2\n",
    "mds = MDS(n_components=2, normalized_stress='auto')\n",
    "X_mds = mds.fit_transform(X_scaled)\n",
    "\n",
    "# Convert the reduced data back to a pandas DataFrame\n",
    "formal_model_reduced = pd.DataFrame(X_mds, columns=[\"x1\", \"x2\"])\n"
   ]
  },
  {
   "cell_type": "code",
   "execution_count": 30,
   "id": "4c53631ef3401b86",
   "metadata": {
    "collapsed": false,
    "ExecuteTime": {
     "end_time": "2023-11-30T13:45:43.451863800Z",
     "start_time": "2023-11-30T13:45:43.371154200Z"
    }
   },
   "outputs": [
    {
     "data": {
      "text/plain": "          x1        x2\n0  -1.889093 -0.646765\n1  -1.958192 -0.825344\n2  -2.026464 -1.005986\n3  -2.093165 -1.189116\n4  -2.159505 -1.373393\n5   1.945249 -0.472799\n6   1.719543 -0.800894\n7   1.632765 -1.231396\n8   1.534206 -1.595397\n9   1.571255 -2.027391\n10  0.196274  1.959309\n11  0.309677  2.113955\n12  0.356773  2.246985\n13  0.408718  2.354020\n14  0.451960  2.494212",
      "text/html": "<div>\n<style scoped>\n    .dataframe tbody tr th:only-of-type {\n        vertical-align: middle;\n    }\n\n    .dataframe tbody tr th {\n        vertical-align: top;\n    }\n\n    .dataframe thead th {\n        text-align: right;\n    }\n</style>\n<table border=\"1\" class=\"dataframe\">\n  <thead>\n    <tr style=\"text-align: right;\">\n      <th></th>\n      <th>x1</th>\n      <th>x2</th>\n    </tr>\n  </thead>\n  <tbody>\n    <tr>\n      <th>0</th>\n      <td>-1.889093</td>\n      <td>-0.646765</td>\n    </tr>\n    <tr>\n      <th>1</th>\n      <td>-1.958192</td>\n      <td>-0.825344</td>\n    </tr>\n    <tr>\n      <th>2</th>\n      <td>-2.026464</td>\n      <td>-1.005986</td>\n    </tr>\n    <tr>\n      <th>3</th>\n      <td>-2.093165</td>\n      <td>-1.189116</td>\n    </tr>\n    <tr>\n      <th>4</th>\n      <td>-2.159505</td>\n      <td>-1.373393</td>\n    </tr>\n    <tr>\n      <th>5</th>\n      <td>1.945249</td>\n      <td>-0.472799</td>\n    </tr>\n    <tr>\n      <th>6</th>\n      <td>1.719543</td>\n      <td>-0.800894</td>\n    </tr>\n    <tr>\n      <th>7</th>\n      <td>1.632765</td>\n      <td>-1.231396</td>\n    </tr>\n    <tr>\n      <th>8</th>\n      <td>1.534206</td>\n      <td>-1.595397</td>\n    </tr>\n    <tr>\n      <th>9</th>\n      <td>1.571255</td>\n      <td>-2.027391</td>\n    </tr>\n    <tr>\n      <th>10</th>\n      <td>0.196274</td>\n      <td>1.959309</td>\n    </tr>\n    <tr>\n      <th>11</th>\n      <td>0.309677</td>\n      <td>2.113955</td>\n    </tr>\n    <tr>\n      <th>12</th>\n      <td>0.356773</td>\n      <td>2.246985</td>\n    </tr>\n    <tr>\n      <th>13</th>\n      <td>0.408718</td>\n      <td>2.354020</td>\n    </tr>\n    <tr>\n      <th>14</th>\n      <td>0.451960</td>\n      <td>2.494212</td>\n    </tr>\n  </tbody>\n</table>\n</div>"
     },
     "execution_count": 30,
     "metadata": {},
     "output_type": "execute_result"
    }
   ],
   "source": [
    "# formal_model_with_id.to_csv('formal_model_with_id.csv', index=False)\n",
    "# formal_model_with_id\n",
    "\n",
    "formal_model_reduced"
   ]
  },
  {
   "cell_type": "markdown",
   "id": "e5da81fd32728ac3",
   "metadata": {},
   "source": [
    "## 3. Visual analytics"
   ]
  },
  {
   "cell_type": "code",
   "execution_count": 31,
   "id": "41b41a730c5cf71b",
   "metadata": {
    "collapsed": false,
    "ExecuteTime": {
     "end_time": "2023-11-30T13:45:43.475388300Z",
     "start_time": "2023-11-30T13:45:43.388172700Z"
    }
   },
   "outputs": [],
   "source": [
    "def interpolate_coordinates(x_1, x_n, n):\n",
    "    \"\"\"\n",
    "    This function calculates the values of the interpolate_coordinates\n",
    "    of a line based on its first and last coordinates.\n",
    "    :param x_1:\n",
    "    :param x_n:\n",
    "    :param n:\n",
    "    :return:\n",
    "    \"\"\"\n",
    "    # Ensure n is greater than 1 to avoid division by zero\n",
    "    if n <= 1:\n",
    "        raise ValueError(\"n must be greater than 1 to calculate intermediate points.\")\n",
    "\n",
    "    # List to hold all the coordinates including the first and the last\n",
    "    inter_coordinates = []\n",
    "\n",
    "    # Calculate each intermediate coordinate\n",
    "    for iter in range(0, n):\n",
    "        x_iter = x_1 + ((x_n - x_1) * iter) / (n - 1)\n",
    "        inter_coordinates.append(x_iter)\n",
    "\n",
    "    return inter_coordinates\n"
   ]
  },
  {
   "cell_type": "code",
   "execution_count": 32,
   "id": "966d400b47e30a90",
   "metadata": {
    "collapsed": false,
    "ExecuteTime": {
     "end_time": "2023-11-30T13:45:43.502918700Z",
     "start_time": "2023-11-30T13:45:43.432199100Z"
    }
   },
   "outputs": [
    {
     "data": {
      "text/plain": "     x1    x2\n0  3.00  1.00\n1  1.75  0.75\n2  0.50  0.50\n3 -0.75  0.25\n4 -2.00  0.00",
      "text/html": "<div>\n<style scoped>\n    .dataframe tbody tr th:only-of-type {\n        vertical-align: middle;\n    }\n\n    .dataframe tbody tr th {\n        vertical-align: top;\n    }\n\n    .dataframe thead th {\n        text-align: right;\n    }\n</style>\n<table border=\"1\" class=\"dataframe\">\n  <thead>\n    <tr style=\"text-align: right;\">\n      <th></th>\n      <th>x1</th>\n      <th>x2</th>\n    </tr>\n  </thead>\n  <tbody>\n    <tr>\n      <th>0</th>\n      <td>3.00</td>\n      <td>1.00</td>\n    </tr>\n    <tr>\n      <th>1</th>\n      <td>1.75</td>\n      <td>0.75</td>\n    </tr>\n    <tr>\n      <th>2</th>\n      <td>0.50</td>\n      <td>0.50</td>\n    </tr>\n    <tr>\n      <th>3</th>\n      <td>-0.75</td>\n      <td>0.25</td>\n    </tr>\n    <tr>\n      <th>4</th>\n      <td>-2.00</td>\n      <td>0.00</td>\n    </tr>\n  </tbody>\n</table>\n</div>"
     },
     "execution_count": 32,
     "metadata": {},
     "output_type": "execute_result"
    }
   ],
   "source": [
    "x_1_first = 3\n",
    "x_1_last = -2\n",
    "x_2_first = 1\n",
    "x_2_last = 0\n",
    "num_points = 5\n",
    "\n",
    "x_1_inter_coordinates = interpolate_coordinates(x_1_first, x_1_last, num_points)\n",
    "x_2_inter_coordinates = interpolate_coordinates(x_2_first, x_2_last, num_points)\n",
    "# print(x_1_inter_coordinates)\n",
    "# print(x_2_inter_coordinates)\n",
    "\n",
    "# Create a DataFrame from the coordinates\n",
    "coordinates_df = pd.DataFrame({'x1': x_1_inter_coordinates, 'x2': x_2_inter_coordinates})\n",
    "coordinates_df\n"
   ]
  },
  {
   "cell_type": "code",
   "execution_count": 33,
   "id": "da6d2e8262c65420",
   "metadata": {
    "collapsed": false,
    "ExecuteTime": {
     "end_time": "2023-11-30T13:45:43.723971500Z",
     "start_time": "2023-11-30T13:45:43.484897200Z"
    }
   },
   "outputs": [
    {
     "data": {
      "text/plain": "<Figure size 1000x600 with 1 Axes>",
      "image/png": "[encoded data removed]"
     },
     "metadata": {},
     "output_type": "display_data"
    }
   ],
   "source": [
    "import matplotlib.pyplot as plt\n",
    "\n",
    "# Include class colors and a legend\n",
    "colors = {1: 'red', 2: 'green', 3: 'blue'}  # Assigning colors to each class\n",
    "\n",
    "plt.figure(figsize=(10, 6))\n",
    "\n",
    "# Iterate over each class and plot each class with a different color\n",
    "for cls in input_formal_model['Target'].unique():\n",
    "    cls_data = formal_model_reduced[input_formal_model['Target'] == cls]\n",
    "    plt.scatter(cls_data['x1'], cls_data['x2'], s=100, edgecolor='k', color=colors[cls], label=f'Class {cls}')\n",
    "\n",
    "# Annotate points with ID\n",
    "for i, txt in enumerate(input_formal_model['ID']):\n",
    "    plt.annotate(txt, (formal_model_reduced['x1'].iloc[i], formal_model_reduced['x2'].iloc[i]), fontsize=10)\n",
    "\n",
    "# Draw the separating line\n",
    "line_x1 = coordinates_df['x1'].tolist()\n",
    "line_x2 = coordinates_df['x2'].tolist()\n",
    "plt.plot(line_x1, line_x2, 'ro-')\n",
    "\n",
    "plt.xlabel(\"X 1\")\n",
    "plt.ylabel(\"X 2\")\n",
    "plt.title(f\"2D MDS Reduction of {'input_formal_model'}\")\n",
    "plt.grid(True)\n",
    "plt.legend()\n",
    "plt.tight_layout()\n",
    "plt.show()\n"
   ]
  },
  {
   "cell_type": "markdown",
   "id": "ebc5f8d71f9e871e",
   "metadata": {},
   "source": [
    "## 4. Calculate Transition Matrix"
   ]
  },
  {
   "cell_type": "markdown",
   "id": "ef465326b3763a84",
   "metadata": {},
   "source": [
    "### 3.1. Singular Value Decomposition (SVD)"
   ]
  },
  {
   "cell_type": "code",
   "execution_count": 34,
   "id": "c9b16087dcd6299f",
   "metadata": {
    "collapsed": false,
    "ExecuteTime": {
     "end_time": "2023-11-30T13:45:43.736224800Z",
     "start_time": "2023-11-30T13:45:43.715461800Z"
    }
   },
   "outputs": [],
   "source": [
    "# Receive values from the matrix A DataFrame \n",
    "formal_model_reduced_values = formal_model_reduced.values\n",
    "\n",
    "# Calculate SVD\n",
    "U, s, Vt = np.linalg.svd(formal_model_reduced_values)\n",
    "\n",
    "# Construct the full diagonal matrix\n",
    "S = np.zeros(formal_model_reduced_values.shape)\n",
    "for i in range(min(formal_model_reduced_values.shape)):\n",
    "    S[i, i] = s[i]\n",
    "\n",
    "# print(\"U:\\n\", U)\n",
    "# print(\"\\nS:\\n\", S)\n",
    "# print(\"\\nVt:\\n\", Vt)\n"
   ]
  },
  {
   "cell_type": "markdown",
   "id": "20ecf1e1d1743431",
   "metadata": {},
   "source": [
    "### 3.2. Create the reconstructed matrix of SVD"
   ]
  },
  {
   "cell_type": "code",
   "execution_count": 35,
   "id": "300dbbed7537914f",
   "metadata": {
    "collapsed": false,
    "ExecuteTime": {
     "end_time": "2023-11-30T13:45:43.899807100Z",
     "start_time": "2023-11-30T13:45:43.732224600Z"
    }
   },
   "outputs": [],
   "source": [
    "# Recompute the original matrix using U, S, and Vt\n",
    "reconstructed_matrix = U.dot(S.dot(Vt))\n",
    "\n",
    "# Convert the reconstructed matrix to a pandas DataFrame, if desired\n",
    "reconstructed_df = pd.DataFrame(reconstructed_matrix)\n"
   ]
  },
  {
   "cell_type": "code",
   "execution_count": 36,
   "id": "c855a3fcf677b065",
   "metadata": {
    "collapsed": false,
    "ExecuteTime": {
     "end_time": "2023-11-30T13:45:43.900806800Z",
     "start_time": "2023-11-30T13:45:43.746594500Z"
    }
   },
   "outputs": [
    {
     "data": {
      "text/plain": "           0         1\n0  -1.889093 -0.646765\n1  -1.958192 -0.825344\n2  -2.026464 -1.005986\n3  -2.093165 -1.189116\n4  -2.159505 -1.373393\n5   1.945249 -0.472799\n6   1.719543 -0.800894\n7   1.632765 -1.231396\n8   1.534206 -1.595397\n9   1.571255 -2.027391\n10  0.196274  1.959309\n11  0.309677  2.113955\n12  0.356773  2.246985\n13  0.408718  2.354020\n14  0.451960  2.494212",
      "text/html": "<div>\n<style scoped>\n    .dataframe tbody tr th:only-of-type {\n        vertical-align: middle;\n    }\n\n    .dataframe tbody tr th {\n        vertical-align: top;\n    }\n\n    .dataframe thead th {\n        text-align: right;\n    }\n</style>\n<table border=\"1\" class=\"dataframe\">\n  <thead>\n    <tr style=\"text-align: right;\">\n      <th></th>\n      <th>0</th>\n      <th>1</th>\n    </tr>\n  </thead>\n  <tbody>\n    <tr>\n      <th>0</th>\n      <td>-1.889093</td>\n      <td>-0.646765</td>\n    </tr>\n    <tr>\n      <th>1</th>\n      <td>-1.958192</td>\n      <td>-0.825344</td>\n    </tr>\n    <tr>\n      <th>2</th>\n      <td>-2.026464</td>\n      <td>-1.005986</td>\n    </tr>\n    <tr>\n      <th>3</th>\n      <td>-2.093165</td>\n      <td>-1.189116</td>\n    </tr>\n    <tr>\n      <th>4</th>\n      <td>-2.159505</td>\n      <td>-1.373393</td>\n    </tr>\n    <tr>\n      <th>5</th>\n      <td>1.945249</td>\n      <td>-0.472799</td>\n    </tr>\n    <tr>\n      <th>6</th>\n      <td>1.719543</td>\n      <td>-0.800894</td>\n    </tr>\n    <tr>\n      <th>7</th>\n      <td>1.632765</td>\n      <td>-1.231396</td>\n    </tr>\n    <tr>\n      <th>8</th>\n      <td>1.534206</td>\n      <td>-1.595397</td>\n    </tr>\n    <tr>\n      <th>9</th>\n      <td>1.571255</td>\n      <td>-2.027391</td>\n    </tr>\n    <tr>\n      <th>10</th>\n      <td>0.196274</td>\n      <td>1.959309</td>\n    </tr>\n    <tr>\n      <th>11</th>\n      <td>0.309677</td>\n      <td>2.113955</td>\n    </tr>\n    <tr>\n      <th>12</th>\n      <td>0.356773</td>\n      <td>2.246985</td>\n    </tr>\n    <tr>\n      <th>13</th>\n      <td>0.408718</td>\n      <td>2.354020</td>\n    </tr>\n    <tr>\n      <th>14</th>\n      <td>0.451960</td>\n      <td>2.494212</td>\n    </tr>\n  </tbody>\n</table>\n</div>"
     },
     "execution_count": 36,
     "metadata": {},
     "output_type": "execute_result"
    }
   ],
   "source": [
    "reconstructed_df"
   ]
  },
  {
   "cell_type": "code",
   "execution_count": 37,
   "id": "81f9ceb900efd47d",
   "metadata": {
    "collapsed": false,
    "ExecuteTime": {
     "end_time": "2023-11-30T13:45:43.901806200Z",
     "start_time": "2023-11-30T13:45:43.769251400Z"
    }
   },
   "outputs": [
    {
     "data": {
      "text/plain": "          x1        x2\n0  -1.889093 -0.646765\n1  -1.958192 -0.825344\n2  -2.026464 -1.005986\n3  -2.093165 -1.189116\n4  -2.159505 -1.373393\n5   1.945249 -0.472799\n6   1.719543 -0.800894\n7   1.632765 -1.231396\n8   1.534206 -1.595397\n9   1.571255 -2.027391\n10  0.196274  1.959309\n11  0.309677  2.113955\n12  0.356773  2.246985\n13  0.408718  2.354020\n14  0.451960  2.494212",
      "text/html": "<div>\n<style scoped>\n    .dataframe tbody tr th:only-of-type {\n        vertical-align: middle;\n    }\n\n    .dataframe tbody tr th {\n        vertical-align: top;\n    }\n\n    .dataframe thead th {\n        text-align: right;\n    }\n</style>\n<table border=\"1\" class=\"dataframe\">\n  <thead>\n    <tr style=\"text-align: right;\">\n      <th></th>\n      <th>x1</th>\n      <th>x2</th>\n    </tr>\n  </thead>\n  <tbody>\n    <tr>\n      <th>0</th>\n      <td>-1.889093</td>\n      <td>-0.646765</td>\n    </tr>\n    <tr>\n      <th>1</th>\n      <td>-1.958192</td>\n      <td>-0.825344</td>\n    </tr>\n    <tr>\n      <th>2</th>\n      <td>-2.026464</td>\n      <td>-1.005986</td>\n    </tr>\n    <tr>\n      <th>3</th>\n      <td>-2.093165</td>\n      <td>-1.189116</td>\n    </tr>\n    <tr>\n      <th>4</th>\n      <td>-2.159505</td>\n      <td>-1.373393</td>\n    </tr>\n    <tr>\n      <th>5</th>\n      <td>1.945249</td>\n      <td>-0.472799</td>\n    </tr>\n    <tr>\n      <th>6</th>\n      <td>1.719543</td>\n      <td>-0.800894</td>\n    </tr>\n    <tr>\n      <th>7</th>\n      <td>1.632765</td>\n      <td>-1.231396</td>\n    </tr>\n    <tr>\n      <th>8</th>\n      <td>1.534206</td>\n      <td>-1.595397</td>\n    </tr>\n    <tr>\n      <th>9</th>\n      <td>1.571255</td>\n      <td>-2.027391</td>\n    </tr>\n    <tr>\n      <th>10</th>\n      <td>0.196274</td>\n      <td>1.959309</td>\n    </tr>\n    <tr>\n      <th>11</th>\n      <td>0.309677</td>\n      <td>2.113955</td>\n    </tr>\n    <tr>\n      <th>12</th>\n      <td>0.356773</td>\n      <td>2.246985</td>\n    </tr>\n    <tr>\n      <th>13</th>\n      <td>0.408718</td>\n      <td>2.354020</td>\n    </tr>\n    <tr>\n      <th>14</th>\n      <td>0.451960</td>\n      <td>2.494212</td>\n    </tr>\n  </tbody>\n</table>\n</div>"
     },
     "execution_count": 37,
     "metadata": {},
     "output_type": "execute_result"
    }
   ],
   "source": [
    "formal_model_reduced"
   ]
  },
  {
   "cell_type": "markdown",
   "id": "e22636c4bc2289d4",
   "metadata": {},
   "source": [
    "### 3.3. Calculate the generalized inverse of input matrix"
   ]
  },
  {
   "cell_type": "code",
   "execution_count": 38,
   "id": "d82d42f8951a5a24",
   "metadata": {
    "collapsed": false,
    "ExecuteTime": {
     "end_time": "2023-11-30T13:45:43.925822900Z",
     "start_time": "2023-11-30T13:45:43.778973300Z"
    }
   },
   "outputs": [],
   "source": [
    "# Calculate the generalized (Moore-Penrose) inverse\n",
    "formal_model_reduced_pinv = np.linalg.pinv(formal_model_reduced_values)\n",
    "\n",
    "# Convert to a pandas DataFrame\n",
    "formal_model_reduced_pinv_df = pd.DataFrame(formal_model_reduced_pinv)"
   ]
  },
  {
   "cell_type": "code",
   "execution_count": 39,
   "id": "f723de97150d5c16",
   "metadata": {
    "collapsed": false,
    "ExecuteTime": {
     "end_time": "2023-11-30T13:45:43.926822300Z",
     "start_time": "2023-11-30T13:45:43.805213700Z"
    }
   },
   "outputs": [
    {
     "data": {
      "text/plain": "         0         1         2         3         4         5         6   \\\n0 -0.052038 -0.053457 -0.054846 -0.056183 -0.057505  0.057143  0.051710   \n1 -0.010663 -0.015021 -0.019435 -0.023917 -0.028430 -0.018190 -0.025888   \n\n         7         8         9         10        11        12        13  \\\n0  0.050572  0.048889  0.051299 -0.000506  0.002256  0.003188  0.004340   \n1 -0.036644 -0.045660 -0.056841  0.049573  0.053180  0.056440  0.059019   \n\n         14  \n0  0.005139  \n1  0.062475  ",
      "text/html": "<div>\n<style scoped>\n    .dataframe tbody tr th:only-of-type {\n        vertical-align: middle;\n    }\n\n    .dataframe tbody tr th {\n        vertical-align: top;\n    }\n\n    .dataframe thead th {\n        text-align: right;\n    }\n</style>\n<table border=\"1\" class=\"dataframe\">\n  <thead>\n    <tr style=\"text-align: right;\">\n      <th></th>\n      <th>0</th>\n      <th>1</th>\n      <th>2</th>\n      <th>3</th>\n      <th>4</th>\n      <th>5</th>\n      <th>6</th>\n      <th>7</th>\n      <th>8</th>\n      <th>9</th>\n      <th>10</th>\n      <th>11</th>\n      <th>12</th>\n      <th>13</th>\n      <th>14</th>\n    </tr>\n  </thead>\n  <tbody>\n    <tr>\n      <th>0</th>\n      <td>-0.052038</td>\n      <td>-0.053457</td>\n      <td>-0.054846</td>\n      <td>-0.056183</td>\n      <td>-0.057505</td>\n      <td>0.057143</td>\n      <td>0.051710</td>\n      <td>0.050572</td>\n      <td>0.048889</td>\n      <td>0.051299</td>\n      <td>-0.000506</td>\n      <td>0.002256</td>\n      <td>0.003188</td>\n      <td>0.004340</td>\n      <td>0.005139</td>\n    </tr>\n    <tr>\n      <th>1</th>\n      <td>-0.010663</td>\n      <td>-0.015021</td>\n      <td>-0.019435</td>\n      <td>-0.023917</td>\n      <td>-0.028430</td>\n      <td>-0.018190</td>\n      <td>-0.025888</td>\n      <td>-0.036644</td>\n      <td>-0.045660</td>\n      <td>-0.056841</td>\n      <td>0.049573</td>\n      <td>0.053180</td>\n      <td>0.056440</td>\n      <td>0.059019</td>\n      <td>0.062475</td>\n    </tr>\n  </tbody>\n</table>\n</div>"
     },
     "execution_count": 39,
     "metadata": {},
     "output_type": "execute_result"
    }
   ],
   "source": [
    "formal_model_reduced_pinv_df"
   ]
  },
  {
   "cell_type": "markdown",
   "id": "ae217465b26b7db8",
   "metadata": {},
   "source": [
    "### 3.4. Calculate transition matrix T"
   ]
  },
  {
   "cell_type": "code",
   "execution_count": 40,
   "id": "41df41ba6680071d",
   "metadata": {
    "collapsed": false,
    "ExecuteTime": {
     "end_time": "2023-11-30T13:45:44.009933Z",
     "start_time": "2023-11-30T13:45:43.903806600Z"
    }
   },
   "outputs": [],
   "source": [
    "transition_matrix_T = formal_model_reduced_pinv_df.dot(formal_model_features)"
   ]
  },
  {
   "cell_type": "code",
   "execution_count": 41,
   "id": "481f9ce7d7ea80a6",
   "metadata": {
    "collapsed": false,
    "ExecuteTime": {
     "end_time": "2023-11-30T13:45:44.118696400Z",
     "start_time": "2023-11-30T13:45:43.966860300Z"
    }
   },
   "outputs": [
    {
     "data": {
      "text/plain": "         f1        f2        f3        f4        f5\n0 -1.079471 -0.233838  1.245284 -0.266232  0.046346\n1  0.140466  0.492208  0.226618 -0.399015 -1.110787",
      "text/html": "<div>\n<style scoped>\n    .dataframe tbody tr th:only-of-type {\n        vertical-align: middle;\n    }\n\n    .dataframe tbody tr th {\n        vertical-align: top;\n    }\n\n    .dataframe thead th {\n        text-align: right;\n    }\n</style>\n<table border=\"1\" class=\"dataframe\">\n  <thead>\n    <tr style=\"text-align: right;\">\n      <th></th>\n      <th>f1</th>\n      <th>f2</th>\n      <th>f3</th>\n      <th>f4</th>\n      <th>f5</th>\n    </tr>\n  </thead>\n  <tbody>\n    <tr>\n      <th>0</th>\n      <td>-1.079471</td>\n      <td>-0.233838</td>\n      <td>1.245284</td>\n      <td>-0.266232</td>\n      <td>0.046346</td>\n    </tr>\n    <tr>\n      <th>1</th>\n      <td>0.140466</td>\n      <td>0.492208</td>\n      <td>0.226618</td>\n      <td>-0.399015</td>\n      <td>-1.110787</td>\n    </tr>\n  </tbody>\n</table>\n</div>"
     },
     "execution_count": 41,
     "metadata": {},
     "output_type": "execute_result"
    }
   ],
   "source": [
    "transition_matrix_T"
   ]
  },
  {
   "cell_type": "markdown",
   "id": "63707c7d6fa3b351",
   "metadata": {},
   "source": [
    "## 4. Create Hyperplane"
   ]
  },
  {
   "cell_type": "code",
   "execution_count": 42,
   "id": "af020167e0a630b2",
   "metadata": {
    "collapsed": false,
    "ExecuteTime": {
     "end_time": "2023-11-30T13:45:44.243231400Z",
     "start_time": "2023-11-30T13:45:44.091174100Z"
    }
   },
   "outputs": [],
   "source": [
    "coordinates_hyperplane_df = coordinates_df.values @ transition_matrix_T.values"
   ]
  },
  {
   "cell_type": "code",
   "execution_count": 43,
   "id": "a49ccb2f95c82aa4",
   "metadata": {
    "collapsed": false,
    "ExecuteTime": {
     "end_time": "2023-11-30T13:45:44.340973500Z",
     "start_time": "2023-11-30T13:45:44.252757Z"
    }
   },
   "outputs": [
    {
     "data": {
      "text/plain": "array([[-3.09794762, -0.20930596,  3.96246933, -1.19771061, -0.97174896],\n       [-1.78372509, -0.04006044,  2.34921008, -0.76516698, -0.75198478],\n       [-0.46950257,  0.12918507,  0.73595082, -0.33262335, -0.53222059],\n       [ 0.84471995,  0.29843059, -0.87730843,  0.09992028, -0.31245641],\n       [ 2.15894247,  0.4676761 , -2.49056769,  0.53246391, -0.09269222]])"
     },
     "execution_count": 43,
     "metadata": {},
     "output_type": "execute_result"
    }
   ],
   "source": [
    "coordinates_hyperplane_df"
   ]
  },
  {
   "cell_type": "code",
   "execution_count": 44,
   "id": "e1f055e528cfd8f",
   "metadata": {
    "collapsed": false,
    "ExecuteTime": {
     "end_time": "2023-11-30T13:45:44.437346200Z",
     "start_time": "2023-11-30T13:45:44.347977700Z"
    }
   },
   "outputs": [
    {
     "data": {
      "text/plain": "array([[ 1.        , -3.09794762, -0.20930596,  3.96246933, -1.19771061,\n        -0.97174896],\n       [ 1.        , -1.78372509, -0.04006044,  2.34921008, -0.76516698,\n        -0.75198478],\n       [ 1.        , -0.46950257,  0.12918507,  0.73595082, -0.33262335,\n        -0.53222059],\n       [ 1.        ,  0.84471995,  0.29843059, -0.87730843,  0.09992028,\n        -0.31245641],\n       [ 1.        ,  2.15894247,  0.4676761 , -2.49056769,  0.53246391,\n        -0.09269222]])"
     },
     "execution_count": 44,
     "metadata": {},
     "output_type": "execute_result"
    }
   ],
   "source": [
    "# Adding a new column with all values set to 1\n",
    "new_column = np.ones((coordinates_hyperplane_df.shape[0], 1))\n",
    "feature_vector_inverse = np.hstack((new_column, coordinates_hyperplane_df))\n",
    "\n",
    "feature_vector_inverse"
   ]
  },
  {
   "cell_type": "code",
   "execution_count": 45,
   "id": "f5c5eee4c62ff7f6",
   "metadata": {
    "collapsed": false,
    "ExecuteTime": {
     "end_time": "2023-11-30T13:45:44.486305900Z",
     "start_time": "2023-11-30T13:45:44.439748400Z"
    }
   },
   "outputs": [
    {
     "name": "stdout",
     "output_type": "stream",
     "text": [
      "Optimization terminated successfully    (Exit mode 0)\n",
      "            Current function value: 8.529197813982601e-07\n",
      "            Iterations: 12\n",
      "            Function evaluations: 116\n",
      "            Gradient evaluations: 12\n",
      "Optimization was successful. The weights are:\n",
      "      weight\n",
      "w0 -0.000205\n",
      "w1 -0.000291\n",
      "w2  0.000043\n",
      "w3 -0.000440\n",
      "w4 -0.000596\n",
      "w5 -0.000355\n",
      "\n",
      "Value of the optimization criteria (objective function value): 8.529197813982601e-07\n",
      "\n",
      "Convergence status: Optimization terminated successfully\n"
     ]
    }
   ],
   "source": [
    "# Optimization criteria function\n",
    "def optimization_criteria(W, X):\n",
    "    \"\"\"\n",
    "    Inverse optimization function\n",
    "    :param W: \n",
    "    :param X: \n",
    "    :return: \n",
    "    \"\"\"\n",
    "    return np.sum(np.abs(X.dot(W.T)))\n",
    "\n",
    "# Initial guess (starting point for the optimization algorithm)\n",
    "weights_inverse_initial = np.zeros(feature_vector_inverse.shape[1])\n",
    "\n",
    "# Bounds for W (setting it between -1 and 1)\n",
    "bounds = [(-1, 1) for _ in range(feature_vector_inverse.shape[1])]\n",
    "\n",
    "# The actual optimization\n",
    "res = minimize(\n",
    "    optimization_criteria,\n",
    "    weights_inverse_initial,\n",
    "    args=(feature_vector_inverse,),\n",
    "    method='SLSQP',\n",
    "    bounds=bounds,\n",
    "    options={'disp': True}\n",
    ")\n",
    "\n",
    "# Checking if the optimization was successful\n",
    "if res.success:\n",
    "    # Extract the weights into a DataFrame\n",
    "    weights_inverse_output = pd.DataFrame(res.x, index=[f'w{i}' for i in range(len(res.x))], columns=['weight'])\n",
    "\n",
    "    print(\"Optimization was successful. The weights are:\")\n",
    "    print(weights_inverse_output)\n",
    "\n",
    "    # Output the value of the optimization criteria\n",
    "    print(\"\\nValue of the optimization criteria (objective function value):\", res.fun)\n",
    "else:\n",
    "    print(\"Optimization failed.\")\n",
    "\n",
    "# Checking for convergence\n",
    "print(\"\\nConvergence status:\", res.message)\n"
   ]
  },
  {
   "cell_type": "code",
   "execution_count": 46,
   "id": "229473793e1f5f6d",
   "metadata": {
    "collapsed": false,
    "ExecuteTime": {
     "end_time": "2023-11-30T13:45:44.539165100Z",
     "start_time": "2023-11-30T13:45:44.462767900Z"
    }
   },
   "outputs": [
    {
     "data": {
      "text/plain": "      weight\nw0 -0.000205\nw1 -0.000291\nw2  0.000043\nw3 -0.000440\nw4 -0.000596\nw5 -0.000355",
      "text/html": "<div>\n<style scoped>\n    .dataframe tbody tr th:only-of-type {\n        vertical-align: middle;\n    }\n\n    .dataframe tbody tr th {\n        vertical-align: top;\n    }\n\n    .dataframe thead th {\n        text-align: right;\n    }\n</style>\n<table border=\"1\" class=\"dataframe\">\n  <thead>\n    <tr style=\"text-align: right;\">\n      <th></th>\n      <th>weight</th>\n    </tr>\n  </thead>\n  <tbody>\n    <tr>\n      <th>w0</th>\n      <td>-0.000205</td>\n    </tr>\n    <tr>\n      <th>w1</th>\n      <td>-0.000291</td>\n    </tr>\n    <tr>\n      <th>w2</th>\n      <td>0.000043</td>\n    </tr>\n    <tr>\n      <th>w3</th>\n      <td>-0.000440</td>\n    </tr>\n    <tr>\n      <th>w4</th>\n      <td>-0.000596</td>\n    </tr>\n    <tr>\n      <th>w5</th>\n      <td>-0.000355</td>\n    </tr>\n  </tbody>\n</table>\n</div>"
     },
     "execution_count": 46,
     "metadata": {},
     "output_type": "execute_result"
    }
   ],
   "source": [
    "weights_inverse_output"
   ]
  },
  {
   "cell_type": "code",
   "execution_count": 47,
   "id": "fd4510816a331570",
   "metadata": {
    "collapsed": false,
    "ExecuteTime": {
     "end_time": "2023-11-30T13:45:44.562191100Z",
     "start_time": "2023-11-30T13:45:44.495603Z"
    }
   },
   "outputs": [
    {
     "data": {
      "text/plain": "     weight\n0 -0.000291\n1  0.000043\n2 -0.000440\n3 -0.000596\n4 -0.000355\n5 -0.000205",
      "text/html": "<div>\n<style scoped>\n    .dataframe tbody tr th:only-of-type {\n        vertical-align: middle;\n    }\n\n    .dataframe tbody tr th {\n        vertical-align: top;\n    }\n\n    .dataframe thead th {\n        text-align: right;\n    }\n</style>\n<table border=\"1\" class=\"dataframe\">\n  <thead>\n    <tr style=\"text-align: right;\">\n      <th></th>\n      <th>weight</th>\n    </tr>\n  </thead>\n  <tbody>\n    <tr>\n      <th>0</th>\n      <td>-0.000291</td>\n    </tr>\n    <tr>\n      <th>1</th>\n      <td>0.000043</td>\n    </tr>\n    <tr>\n      <th>2</th>\n      <td>-0.000440</td>\n    </tr>\n    <tr>\n      <th>3</th>\n      <td>-0.000596</td>\n    </tr>\n    <tr>\n      <th>4</th>\n      <td>-0.000355</td>\n    </tr>\n    <tr>\n      <th>5</th>\n      <td>-0.000205</td>\n    </tr>\n  </tbody>\n</table>\n</div>"
     },
     "execution_count": 47,
     "metadata": {},
     "output_type": "execute_result"
    }
   ],
   "source": [
    "# Reorder the weight vector so that w0 is at the end.\n",
    "weights_df_reordered = pd.concat([weights_inverse_output.iloc[1:], weights_inverse_output.iloc[0:1]]).reset_index(drop=True)\n",
    "\n",
    "# Show the modified DataFrame\n",
    "weights_df_reordered\n"
   ]
  },
  {
   "cell_type": "code",
   "execution_count": 48,
   "id": "6c4bb7858af12496",
   "metadata": {
    "collapsed": false,
    "ExecuteTime": {
     "end_time": "2023-11-30T13:45:44.680281700Z",
     "start_time": "2023-11-30T13:45:44.572704200Z"
    }
   },
   "outputs": [
    {
     "data": {
      "text/plain": "     f1   f2        f3        f4   f5  f0\n0   2.8 -1.8 -2.800000  1.300000  0.4   1\n1   2.9 -1.9 -2.900000  1.400000  0.5   1\n2   3.0 -2.0 -3.000000  1.500000  0.6   1\n3   3.1 -2.1 -3.100000  1.600000  0.7   1\n4   3.2 -2.2 -3.200000  1.700000  0.8   1\n5  -1.6 -2.5  1.500000  0.200000  0.6   1\n6  -1.3 -2.7  1.300000  0.400000  0.8   1\n7  -1.0 -3.0  1.500000  0.600000  1.0   1\n8  -0.7 -3.2  1.700000  0.800000  1.2   1\n9  -0.5 -3.5  1.900000  1.000000  1.4   1\n10  1.2 -1.2  0.700000 -0.300000 -2.8   1\n11  1.1 -1.1  0.800000 -0.400000 -2.9   1\n12  1.0 -1.0  0.844444 -0.444444 -3.0   1\n13  0.9 -0.9  0.850000 -0.450000 -3.1   1\n14  0.8 -0.8  0.900000 -0.500000 -3.2   1",
      "text/html": "<div>\n<style scoped>\n    .dataframe tbody tr th:only-of-type {\n        vertical-align: middle;\n    }\n\n    .dataframe tbody tr th {\n        vertical-align: top;\n    }\n\n    .dataframe thead th {\n        text-align: right;\n    }\n</style>\n<table border=\"1\" class=\"dataframe\">\n  <thead>\n    <tr style=\"text-align: right;\">\n      <th></th>\n      <th>f1</th>\n      <th>f2</th>\n      <th>f3</th>\n      <th>f4</th>\n      <th>f5</th>\n      <th>f0</th>\n    </tr>\n  </thead>\n  <tbody>\n    <tr>\n      <th>0</th>\n      <td>2.8</td>\n      <td>-1.8</td>\n      <td>-2.800000</td>\n      <td>1.300000</td>\n      <td>0.4</td>\n      <td>1</td>\n    </tr>\n    <tr>\n      <th>1</th>\n      <td>2.9</td>\n      <td>-1.9</td>\n      <td>-2.900000</td>\n      <td>1.400000</td>\n      <td>0.5</td>\n      <td>1</td>\n    </tr>\n    <tr>\n      <th>2</th>\n      <td>3.0</td>\n      <td>-2.0</td>\n      <td>-3.000000</td>\n      <td>1.500000</td>\n      <td>0.6</td>\n      <td>1</td>\n    </tr>\n    <tr>\n      <th>3</th>\n      <td>3.1</td>\n      <td>-2.1</td>\n      <td>-3.100000</td>\n      <td>1.600000</td>\n      <td>0.7</td>\n      <td>1</td>\n    </tr>\n    <tr>\n      <th>4</th>\n      <td>3.2</td>\n      <td>-2.2</td>\n      <td>-3.200000</td>\n      <td>1.700000</td>\n      <td>0.8</td>\n      <td>1</td>\n    </tr>\n    <tr>\n      <th>5</th>\n      <td>-1.6</td>\n      <td>-2.5</td>\n      <td>1.500000</td>\n      <td>0.200000</td>\n      <td>0.6</td>\n      <td>1</td>\n    </tr>\n    <tr>\n      <th>6</th>\n      <td>-1.3</td>\n      <td>-2.7</td>\n      <td>1.300000</td>\n      <td>0.400000</td>\n      <td>0.8</td>\n      <td>1</td>\n    </tr>\n    <tr>\n      <th>7</th>\n      <td>-1.0</td>\n      <td>-3.0</td>\n      <td>1.500000</td>\n      <td>0.600000</td>\n      <td>1.0</td>\n      <td>1</td>\n    </tr>\n    <tr>\n      <th>8</th>\n      <td>-0.7</td>\n      <td>-3.2</td>\n      <td>1.700000</td>\n      <td>0.800000</td>\n      <td>1.2</td>\n      <td>1</td>\n    </tr>\n    <tr>\n      <th>9</th>\n      <td>-0.5</td>\n      <td>-3.5</td>\n      <td>1.900000</td>\n      <td>1.000000</td>\n      <td>1.4</td>\n      <td>1</td>\n    </tr>\n    <tr>\n      <th>10</th>\n      <td>1.2</td>\n      <td>-1.2</td>\n      <td>0.700000</td>\n      <td>-0.300000</td>\n      <td>-2.8</td>\n      <td>1</td>\n    </tr>\n    <tr>\n      <th>11</th>\n      <td>1.1</td>\n      <td>-1.1</td>\n      <td>0.800000</td>\n      <td>-0.400000</td>\n      <td>-2.9</td>\n      <td>1</td>\n    </tr>\n    <tr>\n      <th>12</th>\n      <td>1.0</td>\n      <td>-1.0</td>\n      <td>0.844444</td>\n      <td>-0.444444</td>\n      <td>-3.0</td>\n      <td>1</td>\n    </tr>\n    <tr>\n      <th>13</th>\n      <td>0.9</td>\n      <td>-0.9</td>\n      <td>0.850000</td>\n      <td>-0.450000</td>\n      <td>-3.1</td>\n      <td>1</td>\n    </tr>\n    <tr>\n      <th>14</th>\n      <td>0.8</td>\n      <td>-0.8</td>\n      <td>0.900000</td>\n      <td>-0.500000</td>\n      <td>-3.2</td>\n      <td>1</td>\n    </tr>\n  </tbody>\n</table>\n</div>"
     },
     "execution_count": 48,
     "metadata": {},
     "output_type": "execute_result"
    }
   ],
   "source": [
    "# Create a new DataFrame with an additional column\n",
    "new_formal_model_features = formal_model_features.copy()\n",
    "new_formal_model_features['f0'] = 1\n",
    "new_formal_model_features\n"
   ]
  },
  {
   "cell_type": "code",
   "execution_count": 49,
   "id": "c2f759c7f2967205",
   "metadata": {
    "collapsed": false,
    "ExecuteTime": {
     "end_time": "2023-11-30T13:45:44.720382400Z",
     "start_time": "2023-11-30T13:45:44.612009100Z"
    }
   },
   "outputs": [],
   "source": [
    "# # Multiply the features by the weights\n",
    "my_result = new_formal_model_features.mul(weights_df_reordered['weight'].values, axis=1)\n",
    "\n",
    "# Sum along the rows to get the final single column for predictions\n",
    "my_predictions = my_result.sum(axis=1)\n",
    "\n",
    "# Convert the series to a data frame\n",
    "my_predictions_df = my_predictions.to_frame(name='Prediction')"
   ]
  },
  {
   "cell_type": "code",
   "execution_count": 50,
   "id": "47d42fcab1156ca0",
   "metadata": {
    "collapsed": false,
    "ExecuteTime": {
     "end_time": "2023-11-30T13:45:44.796176300Z",
     "start_time": "2023-11-30T13:45:44.705358Z"
    }
   },
   "outputs": [
    {
     "data": {
      "text/plain": "    Prediction\n0    -0.000780\n1    -0.000865\n2    -0.000949\n3    -0.001034\n4    -0.001118\n5    -0.000840\n6    -0.001038\n7    -0.001417\n8    -0.001791\n9    -0.002140\n10    0.000259\n11    0.000343\n12    0.000419\n13    0.000489\n14    0.000566",
      "text/html": "<div>\n<style scoped>\n    .dataframe tbody tr th:only-of-type {\n        vertical-align: middle;\n    }\n\n    .dataframe tbody tr th {\n        vertical-align: top;\n    }\n\n    .dataframe thead th {\n        text-align: right;\n    }\n</style>\n<table border=\"1\" class=\"dataframe\">\n  <thead>\n    <tr style=\"text-align: right;\">\n      <th></th>\n      <th>Prediction</th>\n    </tr>\n  </thead>\n  <tbody>\n    <tr>\n      <th>0</th>\n      <td>-0.000780</td>\n    </tr>\n    <tr>\n      <th>1</th>\n      <td>-0.000865</td>\n    </tr>\n    <tr>\n      <th>2</th>\n      <td>-0.000949</td>\n    </tr>\n    <tr>\n      <th>3</th>\n      <td>-0.001034</td>\n    </tr>\n    <tr>\n      <th>4</th>\n      <td>-0.001118</td>\n    </tr>\n    <tr>\n      <th>5</th>\n      <td>-0.000840</td>\n    </tr>\n    <tr>\n      <th>6</th>\n      <td>-0.001038</td>\n    </tr>\n    <tr>\n      <th>7</th>\n      <td>-0.001417</td>\n    </tr>\n    <tr>\n      <th>8</th>\n      <td>-0.001791</td>\n    </tr>\n    <tr>\n      <th>9</th>\n      <td>-0.002140</td>\n    </tr>\n    <tr>\n      <th>10</th>\n      <td>0.000259</td>\n    </tr>\n    <tr>\n      <th>11</th>\n      <td>0.000343</td>\n    </tr>\n    <tr>\n      <th>12</th>\n      <td>0.000419</td>\n    </tr>\n    <tr>\n      <th>13</th>\n      <td>0.000489</td>\n    </tr>\n    <tr>\n      <th>14</th>\n      <td>0.000566</td>\n    </tr>\n  </tbody>\n</table>\n</div>"
     },
     "execution_count": 50,
     "metadata": {},
     "output_type": "execute_result"
    }
   ],
   "source": [
    "my_predictions_df"
   ]
  },
  {
   "cell_type": "code",
   "execution_count": 51,
   "id": "9c176f0dcb5faa9c",
   "metadata": {
    "collapsed": false,
    "ExecuteTime": {
     "end_time": "2023-11-30T13:45:44.849946700Z",
     "start_time": "2023-11-30T13:45:44.764487500Z"
    }
   },
   "outputs": [],
   "source": [
    "my_predictions_df = pd.concat([my_predictions_df, formal_model_target], axis=1)\n"
   ]
  },
  {
   "cell_type": "code",
   "execution_count": 52,
   "id": "fe92461bc9c2e37d",
   "metadata": {
    "collapsed": false,
    "ExecuteTime": {
     "end_time": "2023-11-30T13:45:44.923074500Z",
     "start_time": "2023-11-30T13:45:44.826360100Z"
    }
   },
   "outputs": [
    {
     "data": {
      "text/plain": "    Prediction  Target\n0    -0.000780       1\n1    -0.000865       1\n2    -0.000949       1\n3    -0.001034       1\n4    -0.001118       1\n5    -0.000840       2\n6    -0.001038       2\n7    -0.001417       2\n8    -0.001791       2\n9    -0.002140       2\n10    0.000259       3\n11    0.000343       3\n12    0.000419       3\n13    0.000489       3\n14    0.000566       3",
      "text/html": "<div>\n<style scoped>\n    .dataframe tbody tr th:only-of-type {\n        vertical-align: middle;\n    }\n\n    .dataframe tbody tr th {\n        vertical-align: top;\n    }\n\n    .dataframe thead th {\n        text-align: right;\n    }\n</style>\n<table border=\"1\" class=\"dataframe\">\n  <thead>\n    <tr style=\"text-align: right;\">\n      <th></th>\n      <th>Prediction</th>\n      <th>Target</th>\n    </tr>\n  </thead>\n  <tbody>\n    <tr>\n      <th>0</th>\n      <td>-0.000780</td>\n      <td>1</td>\n    </tr>\n    <tr>\n      <th>1</th>\n      <td>-0.000865</td>\n      <td>1</td>\n    </tr>\n    <tr>\n      <th>2</th>\n      <td>-0.000949</td>\n      <td>1</td>\n    </tr>\n    <tr>\n      <th>3</th>\n      <td>-0.001034</td>\n      <td>1</td>\n    </tr>\n    <tr>\n      <th>4</th>\n      <td>-0.001118</td>\n      <td>1</td>\n    </tr>\n    <tr>\n      <th>5</th>\n      <td>-0.000840</td>\n      <td>2</td>\n    </tr>\n    <tr>\n      <th>6</th>\n      <td>-0.001038</td>\n      <td>2</td>\n    </tr>\n    <tr>\n      <th>7</th>\n      <td>-0.001417</td>\n      <td>2</td>\n    </tr>\n    <tr>\n      <th>8</th>\n      <td>-0.001791</td>\n      <td>2</td>\n    </tr>\n    <tr>\n      <th>9</th>\n      <td>-0.002140</td>\n      <td>2</td>\n    </tr>\n    <tr>\n      <th>10</th>\n      <td>0.000259</td>\n      <td>3</td>\n    </tr>\n    <tr>\n      <th>11</th>\n      <td>0.000343</td>\n      <td>3</td>\n    </tr>\n    <tr>\n      <th>12</th>\n      <td>0.000419</td>\n      <td>3</td>\n    </tr>\n    <tr>\n      <th>13</th>\n      <td>0.000489</td>\n      <td>3</td>\n    </tr>\n    <tr>\n      <th>14</th>\n      <td>0.000566</td>\n      <td>3</td>\n    </tr>\n  </tbody>\n</table>\n</div>"
     },
     "execution_count": 52,
     "metadata": {},
     "output_type": "execute_result"
    }
   ],
   "source": [
    "my_predictions_df"
   ]
  },
  {
   "cell_type": "code",
   "execution_count": 52,
   "id": "a9dbb3eed4a46abb",
   "metadata": {
    "collapsed": false,
    "ExecuteTime": {
     "end_time": "2023-11-30T13:45:45.004018400Z",
     "start_time": "2023-11-30T13:45:44.926074700Z"
    }
   },
   "outputs": [],
   "source": []
  }
 ],
 "metadata": {
  "kernelspec": {
   "display_name": "Python 3 (ipykernel)",
   "language": "python",
   "name": "python3"
  },
  "language_info": {
   "codemirror_mode": {
    "name": "ipython",
    "version": 3
   },
   "file_extension": ".py",
   "mimetype": "text/x-python",
   "name": "python",
   "nbconvert_exporter": "python",
   "pygments_lexer": "ipython3",
   "version": "3.9.16"
  }
 },
 "nbformat": 4,
 "nbformat_minor": 5
}
