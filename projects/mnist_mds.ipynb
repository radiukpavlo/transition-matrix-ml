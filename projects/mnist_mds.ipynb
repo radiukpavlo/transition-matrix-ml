{
 "cells": [
  {
   "cell_type": "markdown",
   "source": [
    "## 1. Data Upload"
   ],
   "metadata": {
    "collapsed": false
   },
   "id": "9429755869ff6538"
  },
  {
   "cell_type": "code",
   "execution_count": 1,
   "outputs": [],
   "source": [
    "import pandas as pd\n",
    "import numpy as np\n",
    "from io import StringIO\n",
    "from sklearn.manifold import MDS\n",
    "from sklearn.preprocessing import StandardScaler\n",
    "from scipy.optimize import minimize\n",
    "\n",
    "path_csv = '.'\n",
    "\n",
    "# Read the CSV files into pandas dataframes\n",
    "input_formal_model = pd.read_csv(f\"{path_csv}/formal_model.csv\")"
   ],
   "metadata": {
    "collapsed": false,
    "ExecuteTime": {
     "end_time": "2023-11-29T17:21:40.324216500Z",
     "start_time": "2023-11-29T17:21:39.388520100Z"
    }
   },
   "id": "7fde58ff0426c5dd"
  },
  {
   "cell_type": "code",
   "execution_count": 2,
   "outputs": [
    {
     "data": {
      "text/plain": "    ID  Target   f1   f2        f3        f4   f5\n0    1       1  2.8 -1.8 -2.800000  1.300000  0.4\n1    2       1  2.9 -1.9 -2.900000  1.400000  0.5\n2    3       1  3.0 -2.0 -3.000000  1.500000  0.6\n3    4       1  3.1 -2.1 -3.100000  1.600000  0.7\n4    5       1  3.2 -2.2 -3.200000  1.700000  0.8\n5    6       2 -1.6 -2.5  1.500000  0.200000  0.6\n6    7       2 -1.3 -2.7  1.300000  0.400000  0.8\n7    8       2 -1.0 -3.0  1.500000  0.600000  1.0\n8    9       2 -0.7 -3.2  1.700000  0.800000  1.2\n9   10       2 -0.5 -3.5  1.900000  1.000000  1.4\n10  11       3  1.2 -1.2  0.700000 -0.300000 -2.8\n11  12       3  1.1 -1.1  0.800000 -0.400000 -2.9\n12  13       3  1.0 -1.0  0.844444 -0.444444 -3.0\n13  14       3  0.9 -0.9  0.850000 -0.450000 -3.1\n14  15       3  0.8 -0.8  0.900000 -0.500000 -3.2",
      "text/html": "<div>\n<style scoped>\n    .dataframe tbody tr th:only-of-type {\n        vertical-align: middle;\n    }\n\n    .dataframe tbody tr th {\n        vertical-align: top;\n    }\n\n    .dataframe thead th {\n        text-align: right;\n    }\n</style>\n<table border=\"1\" class=\"dataframe\">\n  <thead>\n    <tr style=\"text-align: right;\">\n      <th></th>\n      <th>ID</th>\n      <th>Target</th>\n      <th>f1</th>\n      <th>f2</th>\n      <th>f3</th>\n      <th>f4</th>\n      <th>f5</th>\n    </tr>\n  </thead>\n  <tbody>\n    <tr>\n      <th>0</th>\n      <td>1</td>\n      <td>1</td>\n      <td>2.8</td>\n      <td>-1.8</td>\n      <td>-2.800000</td>\n      <td>1.300000</td>\n      <td>0.4</td>\n    </tr>\n    <tr>\n      <th>1</th>\n      <td>2</td>\n      <td>1</td>\n      <td>2.9</td>\n      <td>-1.9</td>\n      <td>-2.900000</td>\n      <td>1.400000</td>\n      <td>0.5</td>\n    </tr>\n    <tr>\n      <th>2</th>\n      <td>3</td>\n      <td>1</td>\n      <td>3.0</td>\n      <td>-2.0</td>\n      <td>-3.000000</td>\n      <td>1.500000</td>\n      <td>0.6</td>\n    </tr>\n    <tr>\n      <th>3</th>\n      <td>4</td>\n      <td>1</td>\n      <td>3.1</td>\n      <td>-2.1</td>\n      <td>-3.100000</td>\n      <td>1.600000</td>\n      <td>0.7</td>\n    </tr>\n    <tr>\n      <th>4</th>\n      <td>5</td>\n      <td>1</td>\n      <td>3.2</td>\n      <td>-2.2</td>\n      <td>-3.200000</td>\n      <td>1.700000</td>\n      <td>0.8</td>\n    </tr>\n    <tr>\n      <th>5</th>\n      <td>6</td>\n      <td>2</td>\n      <td>-1.6</td>\n      <td>-2.5</td>\n      <td>1.500000</td>\n      <td>0.200000</td>\n      <td>0.6</td>\n    </tr>\n    <tr>\n      <th>6</th>\n      <td>7</td>\n      <td>2</td>\n      <td>-1.3</td>\n      <td>-2.7</td>\n      <td>1.300000</td>\n      <td>0.400000</td>\n      <td>0.8</td>\n    </tr>\n    <tr>\n      <th>7</th>\n      <td>8</td>\n      <td>2</td>\n      <td>-1.0</td>\n      <td>-3.0</td>\n      <td>1.500000</td>\n      <td>0.600000</td>\n      <td>1.0</td>\n    </tr>\n    <tr>\n      <th>8</th>\n      <td>9</td>\n      <td>2</td>\n      <td>-0.7</td>\n      <td>-3.2</td>\n      <td>1.700000</td>\n      <td>0.800000</td>\n      <td>1.2</td>\n    </tr>\n    <tr>\n      <th>9</th>\n      <td>10</td>\n      <td>2</td>\n      <td>-0.5</td>\n      <td>-3.5</td>\n      <td>1.900000</td>\n      <td>1.000000</td>\n      <td>1.4</td>\n    </tr>\n    <tr>\n      <th>10</th>\n      <td>11</td>\n      <td>3</td>\n      <td>1.2</td>\n      <td>-1.2</td>\n      <td>0.700000</td>\n      <td>-0.300000</td>\n      <td>-2.8</td>\n    </tr>\n    <tr>\n      <th>11</th>\n      <td>12</td>\n      <td>3</td>\n      <td>1.1</td>\n      <td>-1.1</td>\n      <td>0.800000</td>\n      <td>-0.400000</td>\n      <td>-2.9</td>\n    </tr>\n    <tr>\n      <th>12</th>\n      <td>13</td>\n      <td>3</td>\n      <td>1.0</td>\n      <td>-1.0</td>\n      <td>0.844444</td>\n      <td>-0.444444</td>\n      <td>-3.0</td>\n    </tr>\n    <tr>\n      <th>13</th>\n      <td>14</td>\n      <td>3</td>\n      <td>0.9</td>\n      <td>-0.9</td>\n      <td>0.850000</td>\n      <td>-0.450000</td>\n      <td>-3.1</td>\n    </tr>\n    <tr>\n      <th>14</th>\n      <td>15</td>\n      <td>3</td>\n      <td>0.8</td>\n      <td>-0.8</td>\n      <td>0.900000</td>\n      <td>-0.500000</td>\n      <td>-3.2</td>\n    </tr>\n  </tbody>\n</table>\n</div>"
     },
     "execution_count": 2,
     "metadata": {},
     "output_type": "execute_result"
    }
   ],
   "source": [
    "input_formal_model"
   ],
   "metadata": {
    "collapsed": false,
    "ExecuteTime": {
     "end_time": "2023-11-29T17:21:40.350257800Z",
     "start_time": "2023-11-29T17:21:40.327216900Z"
    }
   },
   "id": "a4bf3067abb75f37"
  },
  {
   "cell_type": "markdown",
   "source": [
    "## 2. Multi-dimensional scaling"
   ],
   "metadata": {
    "collapsed": false
   },
   "id": "e695dfea778f3996"
  },
  {
   "cell_type": "code",
   "execution_count": 3,
   "outputs": [],
   "source": [
    "# Extract the necessary subtables\n",
    "formal_model_features = input_formal_model.drop('Target', axis=1).drop('ID', axis=1)\n",
    "formal_model_with_id = input_formal_model.drop('Target', axis=1)\n",
    "formal_model_id = input_formal_model['ID']\n",
    "formal_model_target = input_formal_model['Target']\n",
    "\n",
    "# Standardize the data\n",
    "scaler = StandardScaler()\n",
    "X_scaled = scaler.fit_transform(formal_model_features)\n",
    "\n",
    "# Apply MDS to reduce the dimensions to 2\n",
    "mds = MDS(n_components=2, normalized_stress='auto')\n",
    "X_mds = mds.fit_transform(X_scaled)\n",
    "\n",
    "# Convert the reduced data back to a pandas DataFrame\n",
    "formal_model_reduced = pd.DataFrame(X_mds, columns=[\"x1\", \"x2\"])\n"
   ],
   "metadata": {
    "collapsed": false,
    "ExecuteTime": {
     "end_time": "2023-11-29T17:21:40.385734700Z",
     "start_time": "2023-11-29T17:21:40.343216800Z"
    }
   },
   "id": "f65e9e1eb4935bbd"
  },
  {
   "cell_type": "code",
   "execution_count": 4,
   "outputs": [
    {
     "data": {
      "text/plain": "          x1        x2\n0   1.873016  0.672973\n1   1.935039  0.857371\n2   2.020976  1.020239\n3   2.093232  1.197462\n4   2.155708  1.384449\n5  -1.946445  0.454475\n6  -1.723527  0.787112\n7  -1.637444  1.219665\n8  -1.561527  1.581120\n9  -1.605413  2.008832\n10 -0.238424 -1.944615\n11 -0.257111 -2.124851\n12 -0.341631 -2.248232\n13 -0.384769 -2.358753\n14 -0.381679 -2.507249",
      "text/html": "<div>\n<style scoped>\n    .dataframe tbody tr th:only-of-type {\n        vertical-align: middle;\n    }\n\n    .dataframe tbody tr th {\n        vertical-align: top;\n    }\n\n    .dataframe thead th {\n        text-align: right;\n    }\n</style>\n<table border=\"1\" class=\"dataframe\">\n  <thead>\n    <tr style=\"text-align: right;\">\n      <th></th>\n      <th>x1</th>\n      <th>x2</th>\n    </tr>\n  </thead>\n  <tbody>\n    <tr>\n      <th>0</th>\n      <td>1.873016</td>\n      <td>0.672973</td>\n    </tr>\n    <tr>\n      <th>1</th>\n      <td>1.935039</td>\n      <td>0.857371</td>\n    </tr>\n    <tr>\n      <th>2</th>\n      <td>2.020976</td>\n      <td>1.020239</td>\n    </tr>\n    <tr>\n      <th>3</th>\n      <td>2.093232</td>\n      <td>1.197462</td>\n    </tr>\n    <tr>\n      <th>4</th>\n      <td>2.155708</td>\n      <td>1.384449</td>\n    </tr>\n    <tr>\n      <th>5</th>\n      <td>-1.946445</td>\n      <td>0.454475</td>\n    </tr>\n    <tr>\n      <th>6</th>\n      <td>-1.723527</td>\n      <td>0.787112</td>\n    </tr>\n    <tr>\n      <th>7</th>\n      <td>-1.637444</td>\n      <td>1.219665</td>\n    </tr>\n    <tr>\n      <th>8</th>\n      <td>-1.561527</td>\n      <td>1.581120</td>\n    </tr>\n    <tr>\n      <th>9</th>\n      <td>-1.605413</td>\n      <td>2.008832</td>\n    </tr>\n    <tr>\n      <th>10</th>\n      <td>-0.238424</td>\n      <td>-1.944615</td>\n    </tr>\n    <tr>\n      <th>11</th>\n      <td>-0.257111</td>\n      <td>-2.124851</td>\n    </tr>\n    <tr>\n      <th>12</th>\n      <td>-0.341631</td>\n      <td>-2.248232</td>\n    </tr>\n    <tr>\n      <th>13</th>\n      <td>-0.384769</td>\n      <td>-2.358753</td>\n    </tr>\n    <tr>\n      <th>14</th>\n      <td>-0.381679</td>\n      <td>-2.507249</td>\n    </tr>\n  </tbody>\n</table>\n</div>"
     },
     "execution_count": 4,
     "metadata": {},
     "output_type": "execute_result"
    }
   ],
   "source": [
    "formal_model_reduced"
   ],
   "metadata": {
    "collapsed": false,
    "ExecuteTime": {
     "end_time": "2023-11-29T17:21:40.423734200Z",
     "start_time": "2023-11-29T17:21:40.373734900Z"
    }
   },
   "id": "4c53631ef3401b86"
  },
  {
   "cell_type": "markdown",
   "source": [
    "## 3. Visual analytics"
   ],
   "metadata": {
    "collapsed": false
   },
   "id": "e5da81fd32728ac3"
  },
  {
   "cell_type": "code",
   "execution_count": 5,
   "outputs": [],
   "source": [
    "def interpolate_coordinates(x_1, x_n, n):\n",
    "    \"\"\"\n",
    "    This function calculates the values of the interpolate_coordinates\n",
    "    of a line based on its first and last coordinates.\n",
    "    :param x_1:\n",
    "    :param x_n:\n",
    "    :param n:\n",
    "    :return:\n",
    "    \"\"\"\n",
    "    # Ensure n is greater than 1 to avoid division by zero\n",
    "    if n <= 1:\n",
    "        raise ValueError(\"n must be greater than 1 to calculate intermediate points.\")\n",
    "\n",
    "    # List to hold all the coordinates including the first and the last\n",
    "    inter_coordinates = []\n",
    "\n",
    "    # Calculate each intermediate coordinate\n",
    "    for i in range(0, n):\n",
    "        x_i = x_1 + ((x_n - x_1) * i) / (n - 1)\n",
    "        inter_coordinates.append(x_i)\n",
    "\n",
    "    return inter_coordinates\n"
   ],
   "metadata": {
    "collapsed": false,
    "ExecuteTime": {
     "end_time": "2023-11-29T17:21:40.458241400Z",
     "start_time": "2023-11-29T17:21:40.392734100Z"
    }
   },
   "id": "41b41a730c5cf71b"
  },
  {
   "cell_type": "code",
   "execution_count": 31,
   "outputs": [
    {
     "data": {
      "text/plain": "    x1   x2\n0  2.0 -2.0\n1  1.0 -1.5\n2  0.0 -1.0\n3 -1.0 -0.5\n4 -2.0  0.0",
      "text/html": "<div>\n<style scoped>\n    .dataframe tbody tr th:only-of-type {\n        vertical-align: middle;\n    }\n\n    .dataframe tbody tr th {\n        vertical-align: top;\n    }\n\n    .dataframe thead th {\n        text-align: right;\n    }\n</style>\n<table border=\"1\" class=\"dataframe\">\n  <thead>\n    <tr style=\"text-align: right;\">\n      <th></th>\n      <th>x1</th>\n      <th>x2</th>\n    </tr>\n  </thead>\n  <tbody>\n    <tr>\n      <th>0</th>\n      <td>2.0</td>\n      <td>-2.0</td>\n    </tr>\n    <tr>\n      <th>1</th>\n      <td>1.0</td>\n      <td>-1.5</td>\n    </tr>\n    <tr>\n      <th>2</th>\n      <td>0.0</td>\n      <td>-1.0</td>\n    </tr>\n    <tr>\n      <th>3</th>\n      <td>-1.0</td>\n      <td>-0.5</td>\n    </tr>\n    <tr>\n      <th>4</th>\n      <td>-2.0</td>\n      <td>0.0</td>\n    </tr>\n  </tbody>\n</table>\n</div>"
     },
     "execution_count": 31,
     "metadata": {},
     "output_type": "execute_result"
    }
   ],
   "source": [
    "x_1_first = 2\n",
    "x_1_last = -2\n",
    "x_2_first = -2\n",
    "x_2_last = 0\n",
    "num_points = 5\n",
    "\n",
    "x_1_inter_coordinates = interpolate_coordinates(x_1_first, x_1_last, num_points)\n",
    "x_2_inter_coordinates = interpolate_coordinates(x_2_first, x_2_last, num_points)\n",
    "# print(x_1_inter_coordinates)\n",
    "# print(x_2_inter_coordinates)\n",
    "\n",
    "# Create a DataFrame from the coordinates\n",
    "coordinates_df = pd.DataFrame({'x1': x_1_inter_coordinates, 'x2': x_2_inter_coordinates})\n",
    "coordinates_df\n"
   ],
   "metadata": {
    "collapsed": false,
    "ExecuteTime": {
     "end_time": "2023-11-29T17:23:33.295924200Z",
     "start_time": "2023-11-29T17:23:33.245921900Z"
    }
   },
   "id": "966d400b47e30a90"
  },
  {
   "cell_type": "code",
   "execution_count": 51,
   "outputs": [
    {
     "data": {
      "text/plain": "<Figure size 1000x600 with 1 Axes>",
      "image/png": "[encoded data removed]"
     },
     "metadata": {},
     "output_type": "display_data"
    }
   ],
   "source": [
    "import matplotlib.pyplot as plt\n",
    "\n",
    "# Scatter plot for the reduced data\n",
    "plt.figure(figsize=(10, 6))\n",
    "plt.scatter(formal_model_reduced['x1'], formal_model_reduced['x2'], s=100, edgecolor='k')\n",
    "for i, txt in enumerate(formal_model_with_id['ID']):\n",
    "    plt.annotate(txt, (formal_model_reduced['x1'].iloc[i], formal_model_reduced['x2'].iloc[i]), fontsize=9)\n",
    "\n",
    "# Draw the separating line\n",
    "line_x1 = coordinates_df['x1'].tolist()\n",
    "line_x2 = coordinates_df['x2'].tolist()\n",
    "plt.plot(line_x1, line_x2, 'ro-')\n",
    "\n",
    "plt.xlabel(\"X 1\")\n",
    "plt.ylabel(\"X 2\")\n",
    "plt.title(f\"2D MDS Reduction of {'input_formal_model'}\")\n",
    "plt.grid(True)\n",
    "plt.tight_layout()\n",
    "plt.show()\n"
   ],
   "metadata": {
    "collapsed": false,
    "ExecuteTime": {
     "end_time": "2023-11-29T17:24:54.241161100Z",
     "start_time": "2023-11-29T17:24:54.062058500Z"
    }
   },
   "id": "ccaefc7c5227e591"
  },
  {
   "cell_type": "markdown",
   "source": [
    "## 4. Calculate Transition Matrix"
   ],
   "metadata": {
    "collapsed": false
   },
   "id": "ebc5f8d71f9e871e"
  },
  {
   "cell_type": "markdown",
   "source": [
    "### 3.1. Singular Value Decomposition (SVD)"
   ],
   "metadata": {
    "collapsed": false
   },
   "id": "ef465326b3763a84"
  },
  {
   "cell_type": "code",
   "execution_count": 34,
   "outputs": [],
   "source": [
    "# Receive values from the matrix A DataFrame \n",
    "formal_model_reduced_values = formal_model_reduced.values\n",
    "\n",
    "# Calculate SVD\n",
    "U, s, Vt = np.linalg.svd(formal_model_reduced_values)\n",
    "\n",
    "# Construct the full diagonal matrix\n",
    "S = np.zeros(formal_model_reduced_values.shape)\n",
    "for i in range(min(formal_model_reduced_values.shape)):\n",
    "    S[i, i] = s[i]\n",
    "\n",
    "# print(\"U:\\n\", U)\n",
    "# print(\"\\nS:\\n\", S)\n",
    "# print(\"\\nVt:\\n\", Vt)\n"
   ],
   "metadata": {
    "collapsed": false,
    "ExecuteTime": {
     "end_time": "2023-11-29T17:23:43.221188900Z",
     "start_time": "2023-11-29T17:23:43.203611200Z"
    }
   },
   "id": "c9b16087dcd6299f"
  },
  {
   "cell_type": "markdown",
   "source": [
    "### 3.2. Create the reconstructed matrix of SVD"
   ],
   "metadata": {
    "collapsed": false
   },
   "id": "20ecf1e1d1743431"
  },
  {
   "cell_type": "code",
   "execution_count": 35,
   "outputs": [],
   "source": [
    "# Recompute the original matrix using U, S, and Vt\n",
    "reconstructed_matrix = U.dot(S.dot(Vt))\n",
    "\n",
    "# Convert the reconstructed matrix to a pandas DataFrame, if desired\n",
    "reconstructed_df = pd.DataFrame(reconstructed_matrix)\n"
   ],
   "metadata": {
    "collapsed": false,
    "ExecuteTime": {
     "end_time": "2023-11-29T17:23:43.356713400Z",
     "start_time": "2023-11-29T17:23:43.218618Z"
    }
   },
   "id": "300dbbed7537914f"
  },
  {
   "cell_type": "code",
   "execution_count": 36,
   "outputs": [
    {
     "data": {
      "text/plain": "           0         1\n0   1.873016  0.672973\n1   1.935039  0.857371\n2   2.020976  1.020239\n3   2.093232  1.197462\n4   2.155708  1.384449\n5  -1.946445  0.454475\n6  -1.723527  0.787112\n7  -1.637444  1.219665\n8  -1.561527  1.581120\n9  -1.605413  2.008832\n10 -0.238424 -1.944615\n11 -0.257111 -2.124851\n12 -0.341631 -2.248232\n13 -0.384769 -2.358753\n14 -0.381679 -2.507249",
      "text/html": "<div>\n<style scoped>\n    .dataframe tbody tr th:only-of-type {\n        vertical-align: middle;\n    }\n\n    .dataframe tbody tr th {\n        vertical-align: top;\n    }\n\n    .dataframe thead th {\n        text-align: right;\n    }\n</style>\n<table border=\"1\" class=\"dataframe\">\n  <thead>\n    <tr style=\"text-align: right;\">\n      <th></th>\n      <th>0</th>\n      <th>1</th>\n    </tr>\n  </thead>\n  <tbody>\n    <tr>\n      <th>0</th>\n      <td>1.873016</td>\n      <td>0.672973</td>\n    </tr>\n    <tr>\n      <th>1</th>\n      <td>1.935039</td>\n      <td>0.857371</td>\n    </tr>\n    <tr>\n      <th>2</th>\n      <td>2.020976</td>\n      <td>1.020239</td>\n    </tr>\n    <tr>\n      <th>3</th>\n      <td>2.093232</td>\n      <td>1.197462</td>\n    </tr>\n    <tr>\n      <th>4</th>\n      <td>2.155708</td>\n      <td>1.384449</td>\n    </tr>\n    <tr>\n      <th>5</th>\n      <td>-1.946445</td>\n      <td>0.454475</td>\n    </tr>\n    <tr>\n      <th>6</th>\n      <td>-1.723527</td>\n      <td>0.787112</td>\n    </tr>\n    <tr>\n      <th>7</th>\n      <td>-1.637444</td>\n      <td>1.219665</td>\n    </tr>\n    <tr>\n      <th>8</th>\n      <td>-1.561527</td>\n      <td>1.581120</td>\n    </tr>\n    <tr>\n      <th>9</th>\n      <td>-1.605413</td>\n      <td>2.008832</td>\n    </tr>\n    <tr>\n      <th>10</th>\n      <td>-0.238424</td>\n      <td>-1.944615</td>\n    </tr>\n    <tr>\n      <th>11</th>\n      <td>-0.257111</td>\n      <td>-2.124851</td>\n    </tr>\n    <tr>\n      <th>12</th>\n      <td>-0.341631</td>\n      <td>-2.248232</td>\n    </tr>\n    <tr>\n      <th>13</th>\n      <td>-0.384769</td>\n      <td>-2.358753</td>\n    </tr>\n    <tr>\n      <th>14</th>\n      <td>-0.381679</td>\n      <td>-2.507249</td>\n    </tr>\n  </tbody>\n</table>\n</div>"
     },
     "execution_count": 36,
     "metadata": {},
     "output_type": "execute_result"
    }
   ],
   "source": [
    "reconstructed_df"
   ],
   "metadata": {
    "collapsed": false,
    "ExecuteTime": {
     "end_time": "2023-11-29T17:23:43.395751400Z",
     "start_time": "2023-11-29T17:23:43.235161900Z"
    }
   },
   "id": "c855a3fcf677b065"
  },
  {
   "cell_type": "code",
   "execution_count": 37,
   "outputs": [
    {
     "data": {
      "text/plain": "          x1        x2\n0   1.873016  0.672973\n1   1.935039  0.857371\n2   2.020976  1.020239\n3   2.093232  1.197462\n4   2.155708  1.384449\n5  -1.946445  0.454475\n6  -1.723527  0.787112\n7  -1.637444  1.219665\n8  -1.561527  1.581120\n9  -1.605413  2.008832\n10 -0.238424 -1.944615\n11 -0.257111 -2.124851\n12 -0.341631 -2.248232\n13 -0.384769 -2.358753\n14 -0.381679 -2.507249",
      "text/html": "<div>\n<style scoped>\n    .dataframe tbody tr th:only-of-type {\n        vertical-align: middle;\n    }\n\n    .dataframe tbody tr th {\n        vertical-align: top;\n    }\n\n    .dataframe thead th {\n        text-align: right;\n    }\n</style>\n<table border=\"1\" class=\"dataframe\">\n  <thead>\n    <tr style=\"text-align: right;\">\n      <th></th>\n      <th>x1</th>\n      <th>x2</th>\n    </tr>\n  </thead>\n  <tbody>\n    <tr>\n      <th>0</th>\n      <td>1.873016</td>\n      <td>0.672973</td>\n    </tr>\n    <tr>\n      <th>1</th>\n      <td>1.935039</td>\n      <td>0.857371</td>\n    </tr>\n    <tr>\n      <th>2</th>\n      <td>2.020976</td>\n      <td>1.020239</td>\n    </tr>\n    <tr>\n      <th>3</th>\n      <td>2.093232</td>\n      <td>1.197462</td>\n    </tr>\n    <tr>\n      <th>4</th>\n      <td>2.155708</td>\n      <td>1.384449</td>\n    </tr>\n    <tr>\n      <th>5</th>\n      <td>-1.946445</td>\n      <td>0.454475</td>\n    </tr>\n    <tr>\n      <th>6</th>\n      <td>-1.723527</td>\n      <td>0.787112</td>\n    </tr>\n    <tr>\n      <th>7</th>\n      <td>-1.637444</td>\n      <td>1.219665</td>\n    </tr>\n    <tr>\n      <th>8</th>\n      <td>-1.561527</td>\n      <td>1.581120</td>\n    </tr>\n    <tr>\n      <th>9</th>\n      <td>-1.605413</td>\n      <td>2.008832</td>\n    </tr>\n    <tr>\n      <th>10</th>\n      <td>-0.238424</td>\n      <td>-1.944615</td>\n    </tr>\n    <tr>\n      <th>11</th>\n      <td>-0.257111</td>\n      <td>-2.124851</td>\n    </tr>\n    <tr>\n      <th>12</th>\n      <td>-0.341631</td>\n      <td>-2.248232</td>\n    </tr>\n    <tr>\n      <th>13</th>\n      <td>-0.384769</td>\n      <td>-2.358753</td>\n    </tr>\n    <tr>\n      <th>14</th>\n      <td>-0.381679</td>\n      <td>-2.507249</td>\n    </tr>\n  </tbody>\n</table>\n</div>"
     },
     "execution_count": 37,
     "metadata": {},
     "output_type": "execute_result"
    }
   ],
   "source": [
    "formal_model_reduced"
   ],
   "metadata": {
    "collapsed": false,
    "ExecuteTime": {
     "end_time": "2023-11-29T17:23:43.396743700Z",
     "start_time": "2023-11-29T17:23:43.253160Z"
    }
   },
   "id": "81f9ceb900efd47d"
  },
  {
   "cell_type": "markdown",
   "source": [
    "### 3.3. Calculate the generalized inverse of input matrix"
   ],
   "metadata": {
    "collapsed": false
   },
   "id": "e22636c4bc2289d4"
  },
  {
   "cell_type": "code",
   "execution_count": 38,
   "outputs": [],
   "source": [
    "# Calculate the generalized (Moore-Penrose) inverse\n",
    "formal_model_reduced_pinv = np.linalg.pinv(formal_model_reduced_values)\n",
    "\n",
    "# Convert to a pandas DataFrame\n",
    "formal_model_reduced_pinv_df = pd.DataFrame(formal_model_reduced_pinv)"
   ],
   "metadata": {
    "collapsed": false,
    "ExecuteTime": {
     "end_time": "2023-11-29T17:23:43.439303200Z",
     "start_time": "2023-11-29T17:23:43.264188500Z"
    }
   },
   "id": "d82d42f8951a5a24"
  },
  {
   "cell_type": "code",
   "execution_count": 39,
   "outputs": [
    {
     "data": {
      "text/plain": "         0         1         2         3         4         5         6   \\\n0  0.051613  0.052832  0.054801  0.056335  0.057559 -0.057124 -0.051745   \n1  0.011534  0.016059  0.019960  0.024271  0.028860  0.017497  0.025323   \n\n         7         8         9         10        11        12        13  \\\n0 -0.050587 -0.049505 -0.052055 -0.000950 -0.000941 -0.002989 -0.003890   \n1  0.036116  0.045122  0.056184 -0.048969 -0.053519 -0.056416 -0.059109   \n\n         14  \n0 -0.003353  \n1 -0.062913  ",
      "text/html": "<div>\n<style scoped>\n    .dataframe tbody tr th:only-of-type {\n        vertical-align: middle;\n    }\n\n    .dataframe tbody tr th {\n        vertical-align: top;\n    }\n\n    .dataframe thead th {\n        text-align: right;\n    }\n</style>\n<table border=\"1\" class=\"dataframe\">\n  <thead>\n    <tr style=\"text-align: right;\">\n      <th></th>\n      <th>0</th>\n      <th>1</th>\n      <th>2</th>\n      <th>3</th>\n      <th>4</th>\n      <th>5</th>\n      <th>6</th>\n      <th>7</th>\n      <th>8</th>\n      <th>9</th>\n      <th>10</th>\n      <th>11</th>\n      <th>12</th>\n      <th>13</th>\n      <th>14</th>\n    </tr>\n  </thead>\n  <tbody>\n    <tr>\n      <th>0</th>\n      <td>0.051613</td>\n      <td>0.052832</td>\n      <td>0.054801</td>\n      <td>0.056335</td>\n      <td>0.057559</td>\n      <td>-0.057124</td>\n      <td>-0.051745</td>\n      <td>-0.050587</td>\n      <td>-0.049505</td>\n      <td>-0.052055</td>\n      <td>-0.000950</td>\n      <td>-0.000941</td>\n      <td>-0.002989</td>\n      <td>-0.003890</td>\n      <td>-0.003353</td>\n    </tr>\n    <tr>\n      <th>1</th>\n      <td>0.011534</td>\n      <td>0.016059</td>\n      <td>0.019960</td>\n      <td>0.024271</td>\n      <td>0.028860</td>\n      <td>0.017497</td>\n      <td>0.025323</td>\n      <td>0.036116</td>\n      <td>0.045122</td>\n      <td>0.056184</td>\n      <td>-0.048969</td>\n      <td>-0.053519</td>\n      <td>-0.056416</td>\n      <td>-0.059109</td>\n      <td>-0.062913</td>\n    </tr>\n  </tbody>\n</table>\n</div>"
     },
     "execution_count": 39,
     "metadata": {},
     "output_type": "execute_result"
    }
   ],
   "source": [
    "formal_model_reduced_pinv_df"
   ],
   "metadata": {
    "collapsed": false,
    "ExecuteTime": {
     "end_time": "2023-11-29T17:23:43.440300600Z",
     "start_time": "2023-11-29T17:23:43.290159500Z"
    }
   },
   "id": "f723de97150d5c16"
  },
  {
   "cell_type": "markdown",
   "source": [
    "### 3.4. Calculate transition matrix T"
   ],
   "metadata": {
    "collapsed": false
   },
   "id": "ae217465b26b7db8"
  },
  {
   "cell_type": "code",
   "execution_count": 40,
   "outputs": [],
   "source": [
    "transition_matrix_T = formal_model_reduced_pinv_df.dot(formal_model_features)"
   ],
   "metadata": {
    "collapsed": false,
    "ExecuteTime": {
     "end_time": "2023-11-29T17:23:43.441300700Z",
     "start_time": "2023-11-29T17:23:43.298166500Z"
    }
   },
   "id": "41df41ba6680071d"
  },
  {
   "cell_type": "code",
   "execution_count": 41,
   "outputs": [
    {
     "data": {
      "text/plain": "         f1        f2        f3        f4        f5\n0  1.079543  0.238422 -1.243118  0.262529 -0.055976\n1 -0.127952 -0.489575 -0.241137  0.402120  1.110501",
      "text/html": "<div>\n<style scoped>\n    .dataframe tbody tr th:only-of-type {\n        vertical-align: middle;\n    }\n\n    .dataframe tbody tr th {\n        vertical-align: top;\n    }\n\n    .dataframe thead th {\n        text-align: right;\n    }\n</style>\n<table border=\"1\" class=\"dataframe\">\n  <thead>\n    <tr style=\"text-align: right;\">\n      <th></th>\n      <th>f1</th>\n      <th>f2</th>\n      <th>f3</th>\n      <th>f4</th>\n      <th>f5</th>\n    </tr>\n  </thead>\n  <tbody>\n    <tr>\n      <th>0</th>\n      <td>1.079543</td>\n      <td>0.238422</td>\n      <td>-1.243118</td>\n      <td>0.262529</td>\n      <td>-0.055976</td>\n    </tr>\n    <tr>\n      <th>1</th>\n      <td>-0.127952</td>\n      <td>-0.489575</td>\n      <td>-0.241137</td>\n      <td>0.402120</td>\n      <td>1.110501</td>\n    </tr>\n  </tbody>\n</table>\n</div>"
     },
     "execution_count": 41,
     "metadata": {},
     "output_type": "execute_result"
    }
   ],
   "source": [
    "transition_matrix_T"
   ],
   "metadata": {
    "collapsed": false,
    "ExecuteTime": {
     "end_time": "2023-11-29T17:23:43.442300900Z",
     "start_time": "2023-11-29T17:23:43.314195100Z"
    }
   },
   "id": "481f9ce7d7ea80a6"
  },
  {
   "cell_type": "markdown",
   "source": [
    "## 4. Create Hyperplane"
   ],
   "metadata": {
    "collapsed": false
   },
   "id": "63707c7d6fa3b351"
  },
  {
   "cell_type": "code",
   "execution_count": 42,
   "outputs": [],
   "source": [
    "coordinates_hyperplane_df = coordinates_df.values @ transition_matrix_T.values"
   ],
   "metadata": {
    "collapsed": false,
    "ExecuteTime": {
     "end_time": "2023-11-29T17:23:43.492303800Z",
     "start_time": "2023-11-29T17:23:43.399715600Z"
    }
   },
   "id": "af020167e0a630b2"
  },
  {
   "cell_type": "code",
   "execution_count": 43,
   "outputs": [
    {
     "data": {
      "text/plain": "array([[ 2.4149886 ,  1.45599366, -2.00396359, -0.2791806 , -2.33295421],\n       [ 1.27147007,  0.9727842 , -0.88141351, -0.34065015, -1.72172769],\n       [ 0.12795153,  0.48957474,  0.24113656, -0.4021197 , -1.11050117],\n       [-1.015567  ,  0.00636529,  1.36368664, -0.46358924, -0.49927466],\n       [-2.15908553, -0.47684417,  2.48623671, -0.52505879,  0.11195186]])"
     },
     "execution_count": 43,
     "metadata": {},
     "output_type": "execute_result"
    }
   ],
   "source": [
    "coordinates_hyperplane_df"
   ],
   "metadata": {
    "collapsed": false,
    "ExecuteTime": {
     "end_time": "2023-11-29T17:23:43.651395900Z",
     "start_time": "2023-11-29T17:23:43.476276800Z"
    }
   },
   "id": "a49ccb2f95c82aa4"
  },
  {
   "cell_type": "code",
   "execution_count": 44,
   "outputs": [
    {
     "data": {
      "text/plain": "array([[ 1.        ,  2.4149886 ,  1.45599366, -2.00396359, -0.2791806 ,\n        -2.33295421],\n       [ 1.        ,  1.27147007,  0.9727842 , -0.88141351, -0.34065015,\n        -1.72172769],\n       [ 1.        ,  0.12795153,  0.48957474,  0.24113656, -0.4021197 ,\n        -1.11050117],\n       [ 1.        , -1.015567  ,  0.00636529,  1.36368664, -0.46358924,\n        -0.49927466],\n       [ 1.        , -2.15908553, -0.47684417,  2.48623671, -0.52505879,\n         0.11195186]])"
     },
     "execution_count": 44,
     "metadata": {},
     "output_type": "execute_result"
    }
   ],
   "source": [
    "# Adding a new column with all values set to 1\n",
    "new_column = np.ones((coordinates_hyperplane_df.shape[0], 1))\n",
    "feature_vector_inverse = np.hstack((new_column, coordinates_hyperplane_df))\n",
    "\n",
    "feature_vector_inverse"
   ],
   "metadata": {
    "collapsed": false,
    "ExecuteTime": {
     "end_time": "2023-11-29T17:23:43.765962700Z",
     "start_time": "2023-11-29T17:23:43.615926Z"
    }
   },
   "id": "e1f055e528cfd8f"
  },
  {
   "cell_type": "code",
   "execution_count": 45,
   "outputs": [
    {
     "name": "stdout",
     "output_type": "stream",
     "text": [
      "Optimization terminated successfully    (Exit mode 0)\n",
      "            Current function value: 1.4099129786208312e-06\n",
      "            Iterations: 10\n",
      "            Function evaluations: 103\n",
      "            Gradient evaluations: 10\n",
      "Optimization was successful. The weights are:\n",
      "      weight\n",
      "w0 -0.000532\n",
      "w1 -0.000443\n",
      "w2 -0.000900\n",
      "w3 -0.000450\n",
      "w4 -0.000673\n",
      "w5 -0.000781\n",
      "\n",
      "Value of the optimization criteria (objective function value): 1.4099129786208312e-06\n",
      "\n",
      "Convergence status: Optimization terminated successfully\n"
     ]
    }
   ],
   "source": [
    "# Optimization criteria function\n",
    "def optimization_criteria(W, X):\n",
    "    return np.sum(np.abs(X.dot(W.T)))\n",
    "\n",
    "# Initial guess (starting point for the optimization algorithm)\n",
    "weights_inverse_initial = np.zeros(feature_vector_inverse.shape[1])\n",
    "\n",
    "# Bounds for W (setting it between -1 and 1)\n",
    "bounds = [(-1, 1) for _ in range(feature_vector_inverse.shape[1])]\n",
    "\n",
    "# The actual optimization\n",
    "res = minimize(\n",
    "    optimization_criteria,\n",
    "    weights_inverse_initial,\n",
    "    args=(feature_vector_inverse,),\n",
    "    method='SLSQP',\n",
    "    bounds=bounds,\n",
    "    options={'disp': True}\n",
    ")\n",
    "\n",
    "# Checking if the optimization was successful\n",
    "if res.success:\n",
    "    # Extract the weights into a DataFrame\n",
    "    weights_inverse_output = pd.DataFrame(res.x, index=[f'w{i}' for i in range(len(res.x))], columns=['weight'])\n",
    "\n",
    "    print(\"Optimization was successful. The weights are:\")\n",
    "    print(weights_inverse_output)\n",
    "\n",
    "    # Output the value of the optimization criteria\n",
    "    print(\"\\nValue of the optimization criteria (objective function value):\", res.fun)\n",
    "else:\n",
    "    print(\"Optimization failed.\")\n",
    "\n",
    "# Checking for convergence\n",
    "print(\"\\nConvergence status:\", res.message)\n"
   ],
   "metadata": {
    "collapsed": false,
    "ExecuteTime": {
     "end_time": "2023-11-29T17:23:43.883512900Z",
     "start_time": "2023-11-29T17:23:43.770962300Z"
    }
   },
   "id": "f5c5eee4c62ff7f6"
  },
  {
   "cell_type": "code",
   "execution_count": 46,
   "outputs": [
    {
     "data": {
      "text/plain": "      weight\nw0 -0.000532\nw1 -0.000443\nw2 -0.000900\nw3 -0.000450\nw4 -0.000673\nw5 -0.000781",
      "text/html": "<div>\n<style scoped>\n    .dataframe tbody tr th:only-of-type {\n        vertical-align: middle;\n    }\n\n    .dataframe tbody tr th {\n        vertical-align: top;\n    }\n\n    .dataframe thead th {\n        text-align: right;\n    }\n</style>\n<table border=\"1\" class=\"dataframe\">\n  <thead>\n    <tr style=\"text-align: right;\">\n      <th></th>\n      <th>weight</th>\n    </tr>\n  </thead>\n  <tbody>\n    <tr>\n      <th>w0</th>\n      <td>-0.000532</td>\n    </tr>\n    <tr>\n      <th>w1</th>\n      <td>-0.000443</td>\n    </tr>\n    <tr>\n      <th>w2</th>\n      <td>-0.000900</td>\n    </tr>\n    <tr>\n      <th>w3</th>\n      <td>-0.000450</td>\n    </tr>\n    <tr>\n      <th>w4</th>\n      <td>-0.000673</td>\n    </tr>\n    <tr>\n      <th>w5</th>\n      <td>-0.000781</td>\n    </tr>\n  </tbody>\n</table>\n</div>"
     },
     "execution_count": 46,
     "metadata": {},
     "output_type": "execute_result"
    }
   ],
   "source": [
    "weights_inverse_output"
   ],
   "metadata": {
    "collapsed": false,
    "ExecuteTime": {
     "end_time": "2023-11-29T17:23:43.925053100Z",
     "start_time": "2023-11-29T17:23:43.854477100Z"
    }
   },
   "id": "229473793e1f5f6d"
  },
  {
   "cell_type": "code",
   "execution_count": 47,
   "outputs": [
    {
     "data": {
      "text/plain": "     weight\n0 -0.000443\n1 -0.000900\n2 -0.000450\n3 -0.000673\n4 -0.000781\n5 -0.000532",
      "text/html": "<div>\n<style scoped>\n    .dataframe tbody tr th:only-of-type {\n        vertical-align: middle;\n    }\n\n    .dataframe tbody tr th {\n        vertical-align: top;\n    }\n\n    .dataframe thead th {\n        text-align: right;\n    }\n</style>\n<table border=\"1\" class=\"dataframe\">\n  <thead>\n    <tr style=\"text-align: right;\">\n      <th></th>\n      <th>weight</th>\n    </tr>\n  </thead>\n  <tbody>\n    <tr>\n      <th>0</th>\n      <td>-0.000443</td>\n    </tr>\n    <tr>\n      <th>1</th>\n      <td>-0.000900</td>\n    </tr>\n    <tr>\n      <th>2</th>\n      <td>-0.000450</td>\n    </tr>\n    <tr>\n      <th>3</th>\n      <td>-0.000673</td>\n    </tr>\n    <tr>\n      <th>4</th>\n      <td>-0.000781</td>\n    </tr>\n    <tr>\n      <th>5</th>\n      <td>-0.000532</td>\n    </tr>\n  </tbody>\n</table>\n</div>"
     },
     "execution_count": 47,
     "metadata": {},
     "output_type": "execute_result"
    }
   ],
   "source": [
    "# Reorder the weight vector so that w0 is at the end.\n",
    "weights_df_reordered = pd.concat([weights_inverse_output.iloc[1:], weights_inverse_output.iloc[0:1]]).reset_index(drop=True)\n",
    "\n",
    "# Show the modified DataFrame\n",
    "weights_df_reordered\n"
   ],
   "metadata": {
    "collapsed": false,
    "ExecuteTime": {
     "end_time": "2023-11-29T17:23:43.970054700Z",
     "start_time": "2023-11-29T17:23:43.932052400Z"
    }
   },
   "id": "fd4510816a331570"
  },
  {
   "cell_type": "code",
   "execution_count": 48,
   "outputs": [
    {
     "data": {
      "text/plain": "     f1   f2        f3        f4   f5  f0\n0   2.8 -1.8 -2.800000  1.300000  0.4   1\n1   2.9 -1.9 -2.900000  1.400000  0.5   1\n2   3.0 -2.0 -3.000000  1.500000  0.6   1\n3   3.1 -2.1 -3.100000  1.600000  0.7   1\n4   3.2 -2.2 -3.200000  1.700000  0.8   1\n5  -1.6 -2.5  1.500000  0.200000  0.6   1\n6  -1.3 -2.7  1.300000  0.400000  0.8   1\n7  -1.0 -3.0  1.500000  0.600000  1.0   1\n8  -0.7 -3.2  1.700000  0.800000  1.2   1\n9  -0.5 -3.5  1.900000  1.000000  1.4   1\n10  1.2 -1.2  0.700000 -0.300000 -2.8   1\n11  1.1 -1.1  0.800000 -0.400000 -2.9   1\n12  1.0 -1.0  0.844444 -0.444444 -3.0   1\n13  0.9 -0.9  0.850000 -0.450000 -3.1   1\n14  0.8 -0.8  0.900000 -0.500000 -3.2   1",
      "text/html": "<div>\n<style scoped>\n    .dataframe tbody tr th:only-of-type {\n        vertical-align: middle;\n    }\n\n    .dataframe tbody tr th {\n        vertical-align: top;\n    }\n\n    .dataframe thead th {\n        text-align: right;\n    }\n</style>\n<table border=\"1\" class=\"dataframe\">\n  <thead>\n    <tr style=\"text-align: right;\">\n      <th></th>\n      <th>f1</th>\n      <th>f2</th>\n      <th>f3</th>\n      <th>f4</th>\n      <th>f5</th>\n      <th>f0</th>\n    </tr>\n  </thead>\n  <tbody>\n    <tr>\n      <th>0</th>\n      <td>2.8</td>\n      <td>-1.8</td>\n      <td>-2.800000</td>\n      <td>1.300000</td>\n      <td>0.4</td>\n      <td>1</td>\n    </tr>\n    <tr>\n      <th>1</th>\n      <td>2.9</td>\n      <td>-1.9</td>\n      <td>-2.900000</td>\n      <td>1.400000</td>\n      <td>0.5</td>\n      <td>1</td>\n    </tr>\n    <tr>\n      <th>2</th>\n      <td>3.0</td>\n      <td>-2.0</td>\n      <td>-3.000000</td>\n      <td>1.500000</td>\n      <td>0.6</td>\n      <td>1</td>\n    </tr>\n    <tr>\n      <th>3</th>\n      <td>3.1</td>\n      <td>-2.1</td>\n      <td>-3.100000</td>\n      <td>1.600000</td>\n      <td>0.7</td>\n      <td>1</td>\n    </tr>\n    <tr>\n      <th>4</th>\n      <td>3.2</td>\n      <td>-2.2</td>\n      <td>-3.200000</td>\n      <td>1.700000</td>\n      <td>0.8</td>\n      <td>1</td>\n    </tr>\n    <tr>\n      <th>5</th>\n      <td>-1.6</td>\n      <td>-2.5</td>\n      <td>1.500000</td>\n      <td>0.200000</td>\n      <td>0.6</td>\n      <td>1</td>\n    </tr>\n    <tr>\n      <th>6</th>\n      <td>-1.3</td>\n      <td>-2.7</td>\n      <td>1.300000</td>\n      <td>0.400000</td>\n      <td>0.8</td>\n      <td>1</td>\n    </tr>\n    <tr>\n      <th>7</th>\n      <td>-1.0</td>\n      <td>-3.0</td>\n      <td>1.500000</td>\n      <td>0.600000</td>\n      <td>1.0</td>\n      <td>1</td>\n    </tr>\n    <tr>\n      <th>8</th>\n      <td>-0.7</td>\n      <td>-3.2</td>\n      <td>1.700000</td>\n      <td>0.800000</td>\n      <td>1.2</td>\n      <td>1</td>\n    </tr>\n    <tr>\n      <th>9</th>\n      <td>-0.5</td>\n      <td>-3.5</td>\n      <td>1.900000</td>\n      <td>1.000000</td>\n      <td>1.4</td>\n      <td>1</td>\n    </tr>\n    <tr>\n      <th>10</th>\n      <td>1.2</td>\n      <td>-1.2</td>\n      <td>0.700000</td>\n      <td>-0.300000</td>\n      <td>-2.8</td>\n      <td>1</td>\n    </tr>\n    <tr>\n      <th>11</th>\n      <td>1.1</td>\n      <td>-1.1</td>\n      <td>0.800000</td>\n      <td>-0.400000</td>\n      <td>-2.9</td>\n      <td>1</td>\n    </tr>\n    <tr>\n      <th>12</th>\n      <td>1.0</td>\n      <td>-1.0</td>\n      <td>0.844444</td>\n      <td>-0.444444</td>\n      <td>-3.0</td>\n      <td>1</td>\n    </tr>\n    <tr>\n      <th>13</th>\n      <td>0.9</td>\n      <td>-0.9</td>\n      <td>0.850000</td>\n      <td>-0.450000</td>\n      <td>-3.1</td>\n      <td>1</td>\n    </tr>\n    <tr>\n      <th>14</th>\n      <td>0.8</td>\n      <td>-0.8</td>\n      <td>0.900000</td>\n      <td>-0.500000</td>\n      <td>-3.2</td>\n      <td>1</td>\n    </tr>\n  </tbody>\n</table>\n</div>"
     },
     "execution_count": 48,
     "metadata": {},
     "output_type": "execute_result"
    }
   ],
   "source": [
    "# Create a new DataFrame with an additional column\n",
    "new_formal_model_features = formal_model_features.copy()\n",
    "new_formal_model_features['f0'] = 1\n",
    "new_formal_model_features\n"
   ],
   "metadata": {
    "collapsed": false,
    "ExecuteTime": {
     "end_time": "2023-11-29T17:23:44.115285800Z",
     "start_time": "2023-11-29T17:23:43.973054800Z"
    }
   },
   "id": "6c4bb7858af12496"
  },
  {
   "cell_type": "code",
   "execution_count": 49,
   "outputs": [],
   "source": [
    "# # Multiply the features by the weights\n",
    "my_result = new_formal_model_features.mul(weights_df_reordered['weight'].values, axis=1)\n",
    "\n",
    "# Sum along the rows to get the final single column for predictions\n",
    "my_predictions = my_result.sum(axis=1)\n",
    "\n",
    "# Convert the series to a data frame\n",
    "my_predictions_df = my_predictions.to_frame(name='prediction')"
   ],
   "metadata": {
    "collapsed": false,
    "ExecuteTime": {
     "end_time": "2023-11-29T17:23:44.152856400Z",
     "start_time": "2023-11-29T17:23:44.030281500Z"
    }
   },
   "id": "c2f759c7f2967205"
  },
  {
   "cell_type": "code",
   "execution_count": 50,
   "outputs": [
    {
     "data": {
      "text/plain": "    prediction\n0    -0.000079\n1    -0.000133\n2    -0.000188\n3    -0.000243\n4    -0.000297\n5     0.001149\n6     0.000995\n7     0.000752\n8     0.000418\n9     0.000219\n10    0.002092\n11    0.002146\n12    0.002189\n13    0.002222\n14    0.002266",
      "text/html": "<div>\n<style scoped>\n    .dataframe tbody tr th:only-of-type {\n        vertical-align: middle;\n    }\n\n    .dataframe tbody tr th {\n        vertical-align: top;\n    }\n\n    .dataframe thead th {\n        text-align: right;\n    }\n</style>\n<table border=\"1\" class=\"dataframe\">\n  <thead>\n    <tr style=\"text-align: right;\">\n      <th></th>\n      <th>prediction</th>\n    </tr>\n  </thead>\n  <tbody>\n    <tr>\n      <th>0</th>\n      <td>-0.000079</td>\n    </tr>\n    <tr>\n      <th>1</th>\n      <td>-0.000133</td>\n    </tr>\n    <tr>\n      <th>2</th>\n      <td>-0.000188</td>\n    </tr>\n    <tr>\n      <th>3</th>\n      <td>-0.000243</td>\n    </tr>\n    <tr>\n      <th>4</th>\n      <td>-0.000297</td>\n    </tr>\n    <tr>\n      <th>5</th>\n      <td>0.001149</td>\n    </tr>\n    <tr>\n      <th>6</th>\n      <td>0.000995</td>\n    </tr>\n    <tr>\n      <th>7</th>\n      <td>0.000752</td>\n    </tr>\n    <tr>\n      <th>8</th>\n      <td>0.000418</td>\n    </tr>\n    <tr>\n      <th>9</th>\n      <td>0.000219</td>\n    </tr>\n    <tr>\n      <th>10</th>\n      <td>0.002092</td>\n    </tr>\n    <tr>\n      <th>11</th>\n      <td>0.002146</td>\n    </tr>\n    <tr>\n      <th>12</th>\n      <td>0.002189</td>\n    </tr>\n    <tr>\n      <th>13</th>\n      <td>0.002222</td>\n    </tr>\n    <tr>\n      <th>14</th>\n      <td>0.002266</td>\n    </tr>\n  </tbody>\n</table>\n</div>"
     },
     "execution_count": 50,
     "metadata": {},
     "output_type": "execute_result"
    }
   ],
   "source": [
    "my_predictions_df"
   ],
   "metadata": {
    "collapsed": false,
    "ExecuteTime": {
     "end_time": "2023-11-29T17:23:44.296364300Z",
     "start_time": "2023-11-29T17:23:44.154856800Z"
    }
   },
   "id": "9c176f0dcb5faa9c"
  },
  {
   "cell_type": "code",
   "execution_count": 50,
   "outputs": [],
   "source": [],
   "metadata": {
    "collapsed": false,
    "ExecuteTime": {
     "end_time": "2023-11-29T17:23:44.356542600Z",
     "start_time": "2023-11-29T17:23:44.264367800Z"
    }
   },
   "id": "fe92461bc9c2e37d"
  }
 ],
 "metadata": {
  "kernelspec": {
   "display_name": "Python 3",
   "language": "python",
   "name": "python3"
  },
  "language_info": {
   "codemirror_mode": {
    "name": "ipython",
    "version": 2
   },
   "file_extension": ".py",
   "mimetype": "text/x-python",
   "name": "python",
   "nbconvert_exporter": "python",
   "pygments_lexer": "ipython2",
   "version": "2.7.6"
  }
 },
 "nbformat": 4,
 "nbformat_minor": 5
}
