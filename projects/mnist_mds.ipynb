{
 "cells": [
  {
   "cell_type": "code",
   "execution_count": 1,
   "id": "initial_id",
   "metadata": {
    "collapsed": true,
    "ExecuteTime": {
     "end_time": "2023-10-13T15:10:59.005954400Z",
     "start_time": "2023-10-13T15:10:58.623723100Z"
    }
   },
   "outputs": [
    {
     "name": "stdout",
     "output_type": "stream",
     "text": [
      "Table has been saved to 'table.csv'.\n"
     ]
    }
   ],
   "source": [
    "import pandas as pd\n",
    "from io import StringIO\n",
    "\n",
    "# The table data you provided\n",
    "data = \"\"\"Formal Model,f1,f2,f3,f4,f5\n",
    "1,2.8,-1.8,-2.8,1.3,0.4\n",
    "2,2.9,-1.9,-2.9,1.4,0.5\n",
    "3,3,-2,-3,1.5,0.6\n",
    "4,3.1,-2.1,-3.1,1.6,0.7\n",
    "5,3.2,-2.2,-3.2,1.7,0.8\n",
    "6,-1.6,-2.5,1.5,0.2,0.6\n",
    "7,-1.3,-2.7,1.3,0.4,0.8\n",
    "8,-1,-3,1.5,0.6,1\n",
    "9,-0.7,-3.2,1.7,0.8,1.2\n",
    "10,-0.5,-3.5,1.9,1,1.4\n",
    "11,1.2,-1.2,0.7,-0.3,-2.8\n",
    "12,1.1,-1.1,0.8,-0.4,-2.9\n",
    "13,1,-1,0.8444444444,-0.4444444444,-3\n",
    "14,0.9,-0.9,0.85,-0.45,-3.1\n",
    "15,0.8,-0.8,0.9,-0.5,-3.2\"\"\"\n",
    "\n",
    "# Use StringIO to simulate a file object\n",
    "csv_data = StringIO(data)\n",
    "\n",
    "# Read the data into a pandas DataFrame\n",
    "df = pd.read_csv(csv_data)\n",
    "\n",
    "# Save the DataFrame to a CSV file\n",
    "df.to_csv(\"table.csv\", index=False)\n",
    "\n",
    "print(\"Table has been saved to 'table.csv'.\")\n"
   ]
  },
  {
   "cell_type": "code",
   "execution_count": null,
   "outputs": [],
   "source": [],
   "metadata": {
    "collapsed": false
   },
   "id": "f6864ea4e4b87c7d"
  }
 ],
 "metadata": {
  "kernelspec": {
   "display_name": "Python 3",
   "language": "python",
   "name": "python3"
  },
  "language_info": {
   "codemirror_mode": {
    "name": "ipython",
    "version": 2
   },
   "file_extension": ".py",
   "mimetype": "text/x-python",
   "name": "python",
   "nbconvert_exporter": "python",
   "pygments_lexer": "ipython2",
   "version": "2.7.6"
  }
 },
 "nbformat": 4,
 "nbformat_minor": 5
}
