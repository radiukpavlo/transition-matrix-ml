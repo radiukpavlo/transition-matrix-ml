{
 "cells": [
  {
   "cell_type": "markdown",
   "source": [
    "## 1. Data Upload"
   ],
   "metadata": {
    "collapsed": false
   },
   "id": "9429755869ff6538"
  },
  {
   "cell_type": "code",
   "execution_count": 1,
   "outputs": [],
   "source": [
    "import pandas as pd\n",
    "import numpy as np\n",
    "from io import StringIO\n",
    "from sklearn.manifold import MDS\n",
    "from sklearn.preprocessing import StandardScaler\n",
    "from scipy.optimize import minimize\n",
    "\n",
    "path_csv = '.'\n",
    "\n",
    "# Read the CSV files into pandas dataframes\n",
    "input_formal_model = pd.read_csv(f\"{path_csv}/formal_model.csv\")"
   ],
   "metadata": {
    "collapsed": false,
    "ExecuteTime": {
     "end_time": "2023-11-15T15:06:11.379261Z",
     "start_time": "2023-11-15T15:06:09.839353900Z"
    }
   },
   "id": "7fde58ff0426c5dd"
  },
  {
   "cell_type": "code",
   "execution_count": 2,
   "outputs": [
    {
     "data": {
      "text/plain": "    Formal Model   f1   f2        f3        f4   f5\n0              1  2.8 -1.8 -2.800000  1.300000  0.4\n1              2  2.9 -1.9 -2.900000  1.400000  0.5\n2              3  3.0 -2.0 -3.000000  1.500000  0.6\n3              4  3.1 -2.1 -3.100000  1.600000  0.7\n4              5  3.2 -2.2 -3.200000  1.700000  0.8\n5              6 -1.6 -2.5  1.500000  0.200000  0.6\n6              7 -1.3 -2.7  1.300000  0.400000  0.8\n7              8 -1.0 -3.0  1.500000  0.600000  1.0\n8              9 -0.7 -3.2  1.700000  0.800000  1.2\n9             10 -0.5 -3.5  1.900000  1.000000  1.4\n10            11  1.2 -1.2  0.700000 -0.300000 -2.8\n11            12  1.1 -1.1  0.800000 -0.400000 -2.9\n12            13  1.0 -1.0  0.844444 -0.444444 -3.0\n13            14  0.9 -0.9  0.850000 -0.450000 -3.1\n14            15  0.8 -0.8  0.900000 -0.500000 -3.2",
      "text/html": "<div>\n<style scoped>\n    .dataframe tbody tr th:only-of-type {\n        vertical-align: middle;\n    }\n\n    .dataframe tbody tr th {\n        vertical-align: top;\n    }\n\n    .dataframe thead th {\n        text-align: right;\n    }\n</style>\n<table border=\"1\" class=\"dataframe\">\n  <thead>\n    <tr style=\"text-align: right;\">\n      <th></th>\n      <th>Formal Model</th>\n      <th>f1</th>\n      <th>f2</th>\n      <th>f3</th>\n      <th>f4</th>\n      <th>f5</th>\n    </tr>\n  </thead>\n  <tbody>\n    <tr>\n      <th>0</th>\n      <td>1</td>\n      <td>2.8</td>\n      <td>-1.8</td>\n      <td>-2.800000</td>\n      <td>1.300000</td>\n      <td>0.4</td>\n    </tr>\n    <tr>\n      <th>1</th>\n      <td>2</td>\n      <td>2.9</td>\n      <td>-1.9</td>\n      <td>-2.900000</td>\n      <td>1.400000</td>\n      <td>0.5</td>\n    </tr>\n    <tr>\n      <th>2</th>\n      <td>3</td>\n      <td>3.0</td>\n      <td>-2.0</td>\n      <td>-3.000000</td>\n      <td>1.500000</td>\n      <td>0.6</td>\n    </tr>\n    <tr>\n      <th>3</th>\n      <td>4</td>\n      <td>3.1</td>\n      <td>-2.1</td>\n      <td>-3.100000</td>\n      <td>1.600000</td>\n      <td>0.7</td>\n    </tr>\n    <tr>\n      <th>4</th>\n      <td>5</td>\n      <td>3.2</td>\n      <td>-2.2</td>\n      <td>-3.200000</td>\n      <td>1.700000</td>\n      <td>0.8</td>\n    </tr>\n    <tr>\n      <th>5</th>\n      <td>6</td>\n      <td>-1.6</td>\n      <td>-2.5</td>\n      <td>1.500000</td>\n      <td>0.200000</td>\n      <td>0.6</td>\n    </tr>\n    <tr>\n      <th>6</th>\n      <td>7</td>\n      <td>-1.3</td>\n      <td>-2.7</td>\n      <td>1.300000</td>\n      <td>0.400000</td>\n      <td>0.8</td>\n    </tr>\n    <tr>\n      <th>7</th>\n      <td>8</td>\n      <td>-1.0</td>\n      <td>-3.0</td>\n      <td>1.500000</td>\n      <td>0.600000</td>\n      <td>1.0</td>\n    </tr>\n    <tr>\n      <th>8</th>\n      <td>9</td>\n      <td>-0.7</td>\n      <td>-3.2</td>\n      <td>1.700000</td>\n      <td>0.800000</td>\n      <td>1.2</td>\n    </tr>\n    <tr>\n      <th>9</th>\n      <td>10</td>\n      <td>-0.5</td>\n      <td>-3.5</td>\n      <td>1.900000</td>\n      <td>1.000000</td>\n      <td>1.4</td>\n    </tr>\n    <tr>\n      <th>10</th>\n      <td>11</td>\n      <td>1.2</td>\n      <td>-1.2</td>\n      <td>0.700000</td>\n      <td>-0.300000</td>\n      <td>-2.8</td>\n    </tr>\n    <tr>\n      <th>11</th>\n      <td>12</td>\n      <td>1.1</td>\n      <td>-1.1</td>\n      <td>0.800000</td>\n      <td>-0.400000</td>\n      <td>-2.9</td>\n    </tr>\n    <tr>\n      <th>12</th>\n      <td>13</td>\n      <td>1.0</td>\n      <td>-1.0</td>\n      <td>0.844444</td>\n      <td>-0.444444</td>\n      <td>-3.0</td>\n    </tr>\n    <tr>\n      <th>13</th>\n      <td>14</td>\n      <td>0.9</td>\n      <td>-0.9</td>\n      <td>0.850000</td>\n      <td>-0.450000</td>\n      <td>-3.1</td>\n    </tr>\n    <tr>\n      <th>14</th>\n      <td>15</td>\n      <td>0.8</td>\n      <td>-0.8</td>\n      <td>0.900000</td>\n      <td>-0.500000</td>\n      <td>-3.2</td>\n    </tr>\n  </tbody>\n</table>\n</div>"
     },
     "execution_count": 2,
     "metadata": {},
     "output_type": "execute_result"
    }
   ],
   "source": [
    "input_formal_model"
   ],
   "metadata": {
    "collapsed": false,
    "ExecuteTime": {
     "end_time": "2023-11-15T15:06:11.437017400Z",
     "start_time": "2023-11-15T15:06:11.387372800Z"
    }
   },
   "id": "a4bf3067abb75f37"
  },
  {
   "cell_type": "markdown",
   "source": [
    "## 2. Multi-dimensional scaling"
   ],
   "metadata": {
    "collapsed": false
   },
   "id": "e695dfea778f3996"
  },
  {
   "cell_type": "code",
   "execution_count": 3,
   "outputs": [
    {
     "name": "stdout",
     "output_type": "stream",
     "text": [
      "          x1        x2\n",
      "0  -1.425186 -1.395002\n",
      "1  -1.412053 -1.585589\n",
      "2  -1.397809 -1.777545\n",
      "3  -1.380033 -1.971417\n",
      "4  -1.360750 -2.166395\n",
      "5   1.962868  0.412341\n",
      "6   1.902230  0.019814\n",
      "7   2.014341 -0.402321\n",
      "8   2.086405 -0.768623\n",
      "9   2.258178 -1.185975\n",
      "10 -0.652162  1.853950\n",
      "11 -0.650792  2.038087\n",
      "12 -0.646662  2.181090\n",
      "13 -0.652857  2.298913\n",
      "14 -0.645720  2.448672\n"
     ]
    }
   ],
   "source": [
    "# Drop the 'Formal Model' column as it's an identifier and not part of the features\n",
    "formal_model_values = input_formal_model.drop('Formal Model', axis=1)\n",
    "\n",
    "# Standardize the data\n",
    "scaler = StandardScaler()\n",
    "X_scaled = scaler.fit_transform(formal_model_values)\n",
    "\n",
    "# Apply MDS to reduce the dimensions to 2\n",
    "mds = MDS(n_components=2, normalized_stress='auto')\n",
    "X_mds = mds.fit_transform(X_scaled)\n",
    "\n",
    "# Convert the reduced data back to a pandas DataFrame\n",
    "formal_model_reduced = pd.DataFrame(X_mds, columns=[\"x1\", \"x2\"])\n",
    "\n",
    "print(formal_model_reduced)\n"
   ],
   "metadata": {
    "collapsed": false,
    "ExecuteTime": {
     "end_time": "2023-11-15T15:06:11.624505700Z",
     "start_time": "2023-11-15T15:06:11.442003900Z"
    }
   },
   "id": "f65e9e1eb4935bbd"
  },
  {
   "cell_type": "code",
   "execution_count": 4,
   "outputs": [
    {
     "data": {
      "text/plain": "     f1   f2        f3        f4   f5\n0   2.8 -1.8 -2.800000  1.300000  0.4\n1   2.9 -1.9 -2.900000  1.400000  0.5\n2   3.0 -2.0 -3.000000  1.500000  0.6\n3   3.1 -2.1 -3.100000  1.600000  0.7\n4   3.2 -2.2 -3.200000  1.700000  0.8\n5  -1.6 -2.5  1.500000  0.200000  0.6\n6  -1.3 -2.7  1.300000  0.400000  0.8\n7  -1.0 -3.0  1.500000  0.600000  1.0\n8  -0.7 -3.2  1.700000  0.800000  1.2\n9  -0.5 -3.5  1.900000  1.000000  1.4\n10  1.2 -1.2  0.700000 -0.300000 -2.8\n11  1.1 -1.1  0.800000 -0.400000 -2.9\n12  1.0 -1.0  0.844444 -0.444444 -3.0\n13  0.9 -0.9  0.850000 -0.450000 -3.1\n14  0.8 -0.8  0.900000 -0.500000 -3.2",
      "text/html": "<div>\n<style scoped>\n    .dataframe tbody tr th:only-of-type {\n        vertical-align: middle;\n    }\n\n    .dataframe tbody tr th {\n        vertical-align: top;\n    }\n\n    .dataframe thead th {\n        text-align: right;\n    }\n</style>\n<table border=\"1\" class=\"dataframe\">\n  <thead>\n    <tr style=\"text-align: right;\">\n      <th></th>\n      <th>f1</th>\n      <th>f2</th>\n      <th>f3</th>\n      <th>f4</th>\n      <th>f5</th>\n    </tr>\n  </thead>\n  <tbody>\n    <tr>\n      <th>0</th>\n      <td>2.8</td>\n      <td>-1.8</td>\n      <td>-2.800000</td>\n      <td>1.300000</td>\n      <td>0.4</td>\n    </tr>\n    <tr>\n      <th>1</th>\n      <td>2.9</td>\n      <td>-1.9</td>\n      <td>-2.900000</td>\n      <td>1.400000</td>\n      <td>0.5</td>\n    </tr>\n    <tr>\n      <th>2</th>\n      <td>3.0</td>\n      <td>-2.0</td>\n      <td>-3.000000</td>\n      <td>1.500000</td>\n      <td>0.6</td>\n    </tr>\n    <tr>\n      <th>3</th>\n      <td>3.1</td>\n      <td>-2.1</td>\n      <td>-3.100000</td>\n      <td>1.600000</td>\n      <td>0.7</td>\n    </tr>\n    <tr>\n      <th>4</th>\n      <td>3.2</td>\n      <td>-2.2</td>\n      <td>-3.200000</td>\n      <td>1.700000</td>\n      <td>0.8</td>\n    </tr>\n    <tr>\n      <th>5</th>\n      <td>-1.6</td>\n      <td>-2.5</td>\n      <td>1.500000</td>\n      <td>0.200000</td>\n      <td>0.6</td>\n    </tr>\n    <tr>\n      <th>6</th>\n      <td>-1.3</td>\n      <td>-2.7</td>\n      <td>1.300000</td>\n      <td>0.400000</td>\n      <td>0.8</td>\n    </tr>\n    <tr>\n      <th>7</th>\n      <td>-1.0</td>\n      <td>-3.0</td>\n      <td>1.500000</td>\n      <td>0.600000</td>\n      <td>1.0</td>\n    </tr>\n    <tr>\n      <th>8</th>\n      <td>-0.7</td>\n      <td>-3.2</td>\n      <td>1.700000</td>\n      <td>0.800000</td>\n      <td>1.2</td>\n    </tr>\n    <tr>\n      <th>9</th>\n      <td>-0.5</td>\n      <td>-3.5</td>\n      <td>1.900000</td>\n      <td>1.000000</td>\n      <td>1.4</td>\n    </tr>\n    <tr>\n      <th>10</th>\n      <td>1.2</td>\n      <td>-1.2</td>\n      <td>0.700000</td>\n      <td>-0.300000</td>\n      <td>-2.8</td>\n    </tr>\n    <tr>\n      <th>11</th>\n      <td>1.1</td>\n      <td>-1.1</td>\n      <td>0.800000</td>\n      <td>-0.400000</td>\n      <td>-2.9</td>\n    </tr>\n    <tr>\n      <th>12</th>\n      <td>1.0</td>\n      <td>-1.0</td>\n      <td>0.844444</td>\n      <td>-0.444444</td>\n      <td>-3.0</td>\n    </tr>\n    <tr>\n      <th>13</th>\n      <td>0.9</td>\n      <td>-0.9</td>\n      <td>0.850000</td>\n      <td>-0.450000</td>\n      <td>-3.1</td>\n    </tr>\n    <tr>\n      <th>14</th>\n      <td>0.8</td>\n      <td>-0.8</td>\n      <td>0.900000</td>\n      <td>-0.500000</td>\n      <td>-3.2</td>\n    </tr>\n  </tbody>\n</table>\n</div>"
     },
     "execution_count": 4,
     "metadata": {},
     "output_type": "execute_result"
    }
   ],
   "source": [
    "formal_model_values"
   ],
   "metadata": {
    "collapsed": false,
    "ExecuteTime": {
     "end_time": "2023-11-15T15:06:11.625502Z",
     "start_time": "2023-11-15T15:06:11.514991600Z"
    }
   },
   "id": "85627397cdbc7de0"
  },
  {
   "cell_type": "markdown",
   "source": [
    "## 3. Visual analytics"
   ],
   "metadata": {
    "collapsed": false
   },
   "id": "e5da81fd32728ac3"
  },
  {
   "cell_type": "code",
   "execution_count": 5,
   "outputs": [
    {
     "data": {
      "text/plain": "<Figure size 1000x600 with 1 Axes>",
      "image/png": "[encoded data removed]"
     },
     "metadata": {},
     "output_type": "display_data"
    }
   ],
   "source": [
    "import matplotlib.pyplot as plt\n",
    "\n",
    "# Scatter plot for the reduced data\n",
    "plt.figure(figsize=(10, 6))\n",
    "plt.scatter(formal_model_reduced['x1'], formal_model_reduced['x2'], s=100, edgecolor='k')\n",
    "for i, txt in enumerate(input_formal_model['Formal Model']):\n",
    "    plt.annotate(txt, (formal_model_reduced['x1'].iloc[i], formal_model_reduced['x2'].iloc[i]), fontsize=9)\n",
    "\n",
    "# Draw the separating line\n",
    "# You might need to adjust these values based on your visualization\n",
    "line_x1 = [-2, -1, 0, 1, 2]  # Example x-values for 5 points\n",
    "line_x2 = [-1, -1, -1, -1, -1]  # Corresponding y-values, adjust to separate the classes\n",
    "plt.plot(line_x1, line_x2, 'ro-')\n",
    "\n",
    "plt.xlabel(\"X 1\")\n",
    "plt.ylabel(\"X 2\")\n",
    "plt.title(\"2D MDS Reduction of formal_model\")\n",
    "plt.grid(True)\n",
    "plt.tight_layout()\n",
    "plt.show()\n"
   ],
   "metadata": {
    "collapsed": false,
    "ExecuteTime": {
     "end_time": "2023-11-15T15:06:13.479254800Z",
     "start_time": "2023-11-15T15:06:11.515987600Z"
    }
   },
   "id": "ccaefc7c5227e591"
  },
  {
   "cell_type": "code",
   "execution_count": 6,
   "outputs": [],
   "source": [
    "def interpolate_coordinates(x_1, x_n, n):\n",
    "    \"\"\"\n",
    "    :param x_1: \n",
    "    :param x_n: \n",
    "    :param n: \n",
    "    :return: \n",
    "    \"\"\"\n",
    "    # Ensure n is greater than 1 to avoid division by zero\n",
    "    if n <= 1:\n",
    "        raise ValueError(\"n must be greater than 1 to calculate intermediate points.\")\n",
    "\n",
    "    # List to hold all the coordinates including the first and the last\n",
    "    inter_coordinates = []\n",
    "\n",
    "    # Calculate each intermediate coordinate\n",
    "    for i in range(0, n):\n",
    "        x_i = x_1 + ((x_n - x_1) * i) / (n - 1)\n",
    "        inter_coordinates.append(x_i)\n",
    "\n",
    "    return inter_coordinates\n"
   ],
   "metadata": {
    "collapsed": false,
    "ExecuteTime": {
     "end_time": "2023-11-15T15:06:13.495337900Z",
     "start_time": "2023-11-15T15:06:13.483782600Z"
    }
   },
   "id": "23d75f19243f7afc"
  },
  {
   "cell_type": "code",
   "execution_count": 7,
   "outputs": [
    {
     "data": {
      "text/plain": "    x1    x2\n0  2.0 -4.00\n1  0.5 -2.75\n2 -1.0 -1.50\n3 -2.5 -0.25\n4 -4.0  1.00",
      "text/html": "<div>\n<style scoped>\n    .dataframe tbody tr th:only-of-type {\n        vertical-align: middle;\n    }\n\n    .dataframe tbody tr th {\n        vertical-align: top;\n    }\n\n    .dataframe thead th {\n        text-align: right;\n    }\n</style>\n<table border=\"1\" class=\"dataframe\">\n  <thead>\n    <tr style=\"text-align: right;\">\n      <th></th>\n      <th>x1</th>\n      <th>x2</th>\n    </tr>\n  </thead>\n  <tbody>\n    <tr>\n      <th>0</th>\n      <td>2.0</td>\n      <td>-4.00</td>\n    </tr>\n    <tr>\n      <th>1</th>\n      <td>0.5</td>\n      <td>-2.75</td>\n    </tr>\n    <tr>\n      <th>2</th>\n      <td>-1.0</td>\n      <td>-1.50</td>\n    </tr>\n    <tr>\n      <th>3</th>\n      <td>-2.5</td>\n      <td>-0.25</td>\n    </tr>\n    <tr>\n      <th>4</th>\n      <td>-4.0</td>\n      <td>1.00</td>\n    </tr>\n  </tbody>\n</table>\n</div>"
     },
     "execution_count": 7,
     "metadata": {},
     "output_type": "execute_result"
    }
   ],
   "source": [
    "x_1_first = 2\n",
    "x_1_last = -4\n",
    "x_2_first = -4\n",
    "x_2_last = 1\n",
    "num_points = 5\n",
    "\n",
    "x_1_inter_coordinates = interpolate_coordinates(x_1_first, x_1_last, num_points)\n",
    "x_2_inter_coordinates = interpolate_coordinates(x_2_first, x_2_last, num_points)\n",
    "# print(x_1_inter_coordinates)\n",
    "# print(x_2_inter_coordinates)\n",
    "\n",
    "# Create a DataFrame from the coordinates\n",
    "coordinates_df = pd.DataFrame({'x1': x_1_inter_coordinates, 'x2': x_2_inter_coordinates})\n",
    "coordinates_df"
   ],
   "metadata": {
    "collapsed": false,
    "ExecuteTime": {
     "end_time": "2023-11-15T15:06:13.674059300Z",
     "start_time": "2023-11-15T15:06:13.511155300Z"
    }
   },
   "id": "b2f1f7ce1ea5164b"
  },
  {
   "cell_type": "markdown",
   "source": [
    "## 4. Calculate Transition Matrix"
   ],
   "metadata": {
    "collapsed": false
   },
   "id": "ebc5f8d71f9e871e"
  },
  {
   "cell_type": "code",
   "execution_count": 8,
   "outputs": [],
   "source": [
    "formal_model_reduced_test = [\n",
    "    (-1.827506713, -2.57210291),\n",
    "    (-1.805637206, -2.789008261),\n",
    "    (-1.812439839, -2.99995456),\n",
    "    (-2.035782748, -2.999989808),\n",
    "    (-2.225907357, -2.999830184),\n",
    "    (2.151465808, 2.349428929),\n",
    "    (2.146415535, 1.848879366),\n",
    "    (2.335563856, 1.572769993),\n",
    "    (2.512780867, 1.350090422),\n",
    "    (2.808853361, 1.168351448),\n",
    "    (-2.397040617, 2.674381769),\n",
    "    (-2.415455455, 2.889854745),\n",
    "    (-2.508854802, 2.999784436),\n",
    "    (-2.621571267, 2.999927152),\n",
    "    (-2.71963759, 2.998711285)\n",
    "]\n",
    "\n",
    "formal_model_reduced_test = pd.DataFrame(formal_model_reduced_test)"
   ],
   "metadata": {
    "collapsed": false,
    "ExecuteTime": {
     "end_time": "2023-11-15T15:06:13.674059300Z",
     "start_time": "2023-11-15T15:06:13.534259700Z"
    }
   },
   "id": "50ca7438f7647610"
  },
  {
   "cell_type": "markdown",
   "source": [
    "### 3.1. Singular Value Decomposition (SVD)"
   ],
   "metadata": {
    "collapsed": false
   },
   "id": "ef465326b3763a84"
  },
  {
   "cell_type": "code",
   "execution_count": 9,
   "outputs": [],
   "source": [
    "# Receive values from the matrix A DataFrame \n",
    "formal_model_reduced_values = formal_model_reduced_test.values\n",
    "\n",
    "# Calculate SVD\n",
    "U, s, Vt = np.linalg.svd(formal_model_reduced_values)\n",
    "\n",
    "# Construct the full diagonal matrix\n",
    "S = np.zeros(formal_model_reduced_values.shape)\n",
    "for i in range(min(formal_model_reduced_values.shape)):\n",
    "    S[i, i] = s[i]\n",
    "\n",
    "# print(\"U:\\n\", U)\n",
    "# print(\"\\nS:\\n\", S)\n",
    "# print(\"\\nVt:\\n\", Vt)\n"
   ],
   "metadata": {
    "collapsed": false,
    "ExecuteTime": {
     "end_time": "2023-11-15T15:06:13.674059300Z",
     "start_time": "2023-11-15T15:06:13.544756400Z"
    }
   },
   "id": "c9b16087dcd6299f"
  },
  {
   "cell_type": "markdown",
   "source": [
    "### 3.2. Create the reconstructed matrix of SVD"
   ],
   "metadata": {
    "collapsed": false
   },
   "id": "20ecf1e1d1743431"
  },
  {
   "cell_type": "code",
   "execution_count": 10,
   "outputs": [],
   "source": [
    "# Recompute the original matrix using U, S, and Vt\n",
    "reconstructed_matrix = U.dot(S.dot(Vt))\n",
    "\n",
    "# Convert the reconstructed matrix to a pandas DataFrame, if desired\n",
    "reconstructed_df = pd.DataFrame(reconstructed_matrix)\n"
   ],
   "metadata": {
    "collapsed": false,
    "ExecuteTime": {
     "end_time": "2023-11-15T15:06:13.675060400Z",
     "start_time": "2023-11-15T15:06:13.561253700Z"
    }
   },
   "id": "300dbbed7537914f"
  },
  {
   "cell_type": "code",
   "execution_count": 11,
   "outputs": [
    {
     "data": {
      "text/plain": "           0         1\n0  -1.827507 -2.572103\n1  -1.805637 -2.789008\n2  -1.812440 -2.999955\n3  -2.035783 -2.999990\n4  -2.225907 -2.999830\n5   2.151466  2.349429\n6   2.146416  1.848879\n7   2.335564  1.572770\n8   2.512781  1.350090\n9   2.808853  1.168351\n10 -2.397041  2.674382\n11 -2.415455  2.889855\n12 -2.508855  2.999784\n13 -2.621571  2.999927\n14 -2.719638  2.998711",
      "text/html": "<div>\n<style scoped>\n    .dataframe tbody tr th:only-of-type {\n        vertical-align: middle;\n    }\n\n    .dataframe tbody tr th {\n        vertical-align: top;\n    }\n\n    .dataframe thead th {\n        text-align: right;\n    }\n</style>\n<table border=\"1\" class=\"dataframe\">\n  <thead>\n    <tr style=\"text-align: right;\">\n      <th></th>\n      <th>0</th>\n      <th>1</th>\n    </tr>\n  </thead>\n  <tbody>\n    <tr>\n      <th>0</th>\n      <td>-1.827507</td>\n      <td>-2.572103</td>\n    </tr>\n    <tr>\n      <th>1</th>\n      <td>-1.805637</td>\n      <td>-2.789008</td>\n    </tr>\n    <tr>\n      <th>2</th>\n      <td>-1.812440</td>\n      <td>-2.999955</td>\n    </tr>\n    <tr>\n      <th>3</th>\n      <td>-2.035783</td>\n      <td>-2.999990</td>\n    </tr>\n    <tr>\n      <th>4</th>\n      <td>-2.225907</td>\n      <td>-2.999830</td>\n    </tr>\n    <tr>\n      <th>5</th>\n      <td>2.151466</td>\n      <td>2.349429</td>\n    </tr>\n    <tr>\n      <th>6</th>\n      <td>2.146416</td>\n      <td>1.848879</td>\n    </tr>\n    <tr>\n      <th>7</th>\n      <td>2.335564</td>\n      <td>1.572770</td>\n    </tr>\n    <tr>\n      <th>8</th>\n      <td>2.512781</td>\n      <td>1.350090</td>\n    </tr>\n    <tr>\n      <th>9</th>\n      <td>2.808853</td>\n      <td>1.168351</td>\n    </tr>\n    <tr>\n      <th>10</th>\n      <td>-2.397041</td>\n      <td>2.674382</td>\n    </tr>\n    <tr>\n      <th>11</th>\n      <td>-2.415455</td>\n      <td>2.889855</td>\n    </tr>\n    <tr>\n      <th>12</th>\n      <td>-2.508855</td>\n      <td>2.999784</td>\n    </tr>\n    <tr>\n      <th>13</th>\n      <td>-2.621571</td>\n      <td>2.999927</td>\n    </tr>\n    <tr>\n      <th>14</th>\n      <td>-2.719638</td>\n      <td>2.998711</td>\n    </tr>\n  </tbody>\n</table>\n</div>"
     },
     "execution_count": 11,
     "metadata": {},
     "output_type": "execute_result"
    }
   ],
   "source": [
    "reconstructed_df"
   ],
   "metadata": {
    "collapsed": false,
    "ExecuteTime": {
     "end_time": "2023-11-15T15:06:13.675060400Z",
     "start_time": "2023-11-15T15:06:13.578785900Z"
    }
   },
   "id": "c855a3fcf677b065"
  },
  {
   "cell_type": "markdown",
   "source": [
    "### 3.3. Calculate the generalized inverse of input matrix"
   ],
   "metadata": {
    "collapsed": false
   },
   "id": "e22636c4bc2289d4"
  },
  {
   "cell_type": "code",
   "execution_count": 12,
   "outputs": [],
   "source": [
    "# Calculate the generalized (Moore-Penrose) inverse\n",
    "formal_model_reduced_test_pinv = np.linalg.pinv(formal_model_reduced_test.values)\n",
    "\n",
    "# Convert to a pandas DataFrame\n",
    "formal_model_reduced_test_pinv_df = pd.DataFrame(formal_model_reduced_test_pinv)"
   ],
   "metadata": {
    "collapsed": false,
    "ExecuteTime": {
     "end_time": "2023-11-15T15:06:13.676059700Z",
     "start_time": "2023-11-15T15:06:13.611859200Z"
    }
   },
   "id": "d82d42f8951a5a24"
  },
  {
   "cell_type": "code",
   "execution_count": 13,
   "outputs": [
    {
     "data": {
      "text/plain": "         0         1         2         3         4         5         6   \\\n0 -0.019716 -0.019149 -0.018953 -0.021783 -0.024192  0.024118  0.024724   \n1 -0.024036 -0.026298 -0.028461 -0.028162 -0.027907  0.021310  0.016164   \n\n         7         8         9         10        11        12        13  \\\n0  0.027489  0.030032  0.034027 -0.033946 -0.034468 -0.035798 -0.037226   \n1  0.013069  0.010539  0.008273  0.030737  0.032980  0.034236  0.034388   \n\n         14  \n0 -0.038467  \n1  0.034507  ",
      "text/html": "<div>\n<style scoped>\n    .dataframe tbody tr th:only-of-type {\n        vertical-align: middle;\n    }\n\n    .dataframe tbody tr th {\n        vertical-align: top;\n    }\n\n    .dataframe thead th {\n        text-align: right;\n    }\n</style>\n<table border=\"1\" class=\"dataframe\">\n  <thead>\n    <tr style=\"text-align: right;\">\n      <th></th>\n      <th>0</th>\n      <th>1</th>\n      <th>2</th>\n      <th>3</th>\n      <th>4</th>\n      <th>5</th>\n      <th>6</th>\n      <th>7</th>\n      <th>8</th>\n      <th>9</th>\n      <th>10</th>\n      <th>11</th>\n      <th>12</th>\n      <th>13</th>\n      <th>14</th>\n    </tr>\n  </thead>\n  <tbody>\n    <tr>\n      <th>0</th>\n      <td>-0.019716</td>\n      <td>-0.019149</td>\n      <td>-0.018953</td>\n      <td>-0.021783</td>\n      <td>-0.024192</td>\n      <td>0.024118</td>\n      <td>0.024724</td>\n      <td>0.027489</td>\n      <td>0.030032</td>\n      <td>0.034027</td>\n      <td>-0.033946</td>\n      <td>-0.034468</td>\n      <td>-0.035798</td>\n      <td>-0.037226</td>\n      <td>-0.038467</td>\n    </tr>\n    <tr>\n      <th>1</th>\n      <td>-0.024036</td>\n      <td>-0.026298</td>\n      <td>-0.028461</td>\n      <td>-0.028162</td>\n      <td>-0.027907</td>\n      <td>0.021310</td>\n      <td>0.016164</td>\n      <td>0.013069</td>\n      <td>0.010539</td>\n      <td>0.008273</td>\n      <td>0.030737</td>\n      <td>0.032980</td>\n      <td>0.034236</td>\n      <td>0.034388</td>\n      <td>0.034507</td>\n    </tr>\n  </tbody>\n</table>\n</div>"
     },
     "execution_count": 13,
     "metadata": {},
     "output_type": "execute_result"
    }
   ],
   "source": [
    "formal_model_reduced_test_pinv_df"
   ],
   "metadata": {
    "collapsed": false,
    "ExecuteTime": {
     "end_time": "2023-11-15T15:06:13.678054300Z",
     "start_time": "2023-11-15T15:06:13.623376100Z"
    }
   },
   "id": "f723de97150d5c16"
  },
  {
   "cell_type": "markdown",
   "source": [
    "### 3.4. Calculate transition matrix T"
   ],
   "metadata": {
    "collapsed": false
   },
   "id": "ae217465b26b7db8"
  },
  {
   "cell_type": "code",
   "execution_count": 14,
   "outputs": [],
   "source": [
    "transition_matrix_T = formal_model_reduced_test_pinv_df.dot(formal_model_values)"
   ],
   "metadata": {
    "collapsed": false,
    "ExecuteTime": {
     "end_time": "2023-11-15T15:06:13.699608400Z",
     "start_time": "2023-11-15T15:06:13.657927200Z"
    }
   },
   "id": "41df41ba6680071d"
  },
  {
   "cell_type": "code",
   "execution_count": 15,
   "outputs": [
    {
     "data": {
      "text/plain": "         f1        f2        f3        f4        f5\n0 -0.627518 -0.037243  0.389966  0.008278  0.622879\n1 -0.319291 -0.094071  0.648864 -0.238340 -0.520302",
      "text/html": "<div>\n<style scoped>\n    .dataframe tbody tr th:only-of-type {\n        vertical-align: middle;\n    }\n\n    .dataframe tbody tr th {\n        vertical-align: top;\n    }\n\n    .dataframe thead th {\n        text-align: right;\n    }\n</style>\n<table border=\"1\" class=\"dataframe\">\n  <thead>\n    <tr style=\"text-align: right;\">\n      <th></th>\n      <th>f1</th>\n      <th>f2</th>\n      <th>f3</th>\n      <th>f4</th>\n      <th>f5</th>\n    </tr>\n  </thead>\n  <tbody>\n    <tr>\n      <th>0</th>\n      <td>-0.627518</td>\n      <td>-0.037243</td>\n      <td>0.389966</td>\n      <td>0.008278</td>\n      <td>0.622879</td>\n    </tr>\n    <tr>\n      <th>1</th>\n      <td>-0.319291</td>\n      <td>-0.094071</td>\n      <td>0.648864</td>\n      <td>-0.238340</td>\n      <td>-0.520302</td>\n    </tr>\n  </tbody>\n</table>\n</div>"
     },
     "execution_count": 15,
     "metadata": {},
     "output_type": "execute_result"
    }
   ],
   "source": [
    "transition_matrix_T"
   ],
   "metadata": {
    "collapsed": false,
    "ExecuteTime": {
     "end_time": "2023-11-15T15:06:13.702189900Z",
     "start_time": "2023-11-15T15:06:13.669529900Z"
    }
   },
   "id": "481f9ce7d7ea80a6"
  },
  {
   "cell_type": "markdown",
   "source": [
    "## 4. Create Hyperplane"
   ],
   "metadata": {
    "collapsed": false
   },
   "id": "63707c7d6fa3b351"
  },
  {
   "cell_type": "code",
   "execution_count": 16,
   "outputs": [],
   "source": [
    "coordinates_hyperplane_df = coordinates_df.values @ transition_matrix_T.values"
   ],
   "metadata": {
    "collapsed": false,
    "ExecuteTime": {
     "end_time": "2023-11-15T15:06:13.813678600Z",
     "start_time": "2023-11-15T15:06:13.694620Z"
    }
   },
   "id": "af020167e0a630b2"
  },
  {
   "cell_type": "code",
   "execution_count": 17,
   "outputs": [
    {
     "data": {
      "text/plain": "array([[ 0.02212588,  0.30179639, -1.81552575,  0.96991542,  3.32696479],\n       [ 0.56429012,  0.24007288, -1.5893939 ,  0.65957372,  1.7422696 ],\n       [ 1.10645436,  0.17834937, -1.36326204,  0.34923201,  0.1575744 ],\n       [ 1.6486186 ,  0.11662585, -1.13713018,  0.0388903 , -1.42712079],\n       [ 2.19078283,  0.05490234, -0.91099833, -0.27145141, -3.01181599]])"
     },
     "execution_count": 17,
     "metadata": {},
     "output_type": "execute_result"
    }
   ],
   "source": [
    "coordinates_hyperplane_df"
   ],
   "metadata": {
    "collapsed": false,
    "ExecuteTime": {
     "end_time": "2023-11-15T15:06:13.852896600Z",
     "start_time": "2023-11-15T15:06:13.705194400Z"
    }
   },
   "id": "a49ccb2f95c82aa4"
  },
  {
   "cell_type": "code",
   "execution_count": 18,
   "outputs": [
    {
     "data": {
      "text/plain": "array([[ 1.        ,  0.02212588,  0.30179639, -1.81552575,  0.96991542,\n         3.32696479],\n       [ 1.        ,  0.56429012,  0.24007288, -1.5893939 ,  0.65957372,\n         1.7422696 ],\n       [ 1.        ,  1.10645436,  0.17834937, -1.36326204,  0.34923201,\n         0.1575744 ],\n       [ 1.        ,  1.6486186 ,  0.11662585, -1.13713018,  0.0388903 ,\n        -1.42712079],\n       [ 1.        ,  2.19078283,  0.05490234, -0.91099833, -0.27145141,\n        -3.01181599]])"
     },
     "execution_count": 18,
     "metadata": {},
     "output_type": "execute_result"
    }
   ],
   "source": [
    "# Adding a new column with all values set to 1\n",
    "new_column = np.ones((coordinates_hyperplane_df.shape[0], 1))\n",
    "feature_vector_inverse = np.hstack((new_column, coordinates_hyperplane_df))\n",
    "\n",
    "feature_vector_inverse"
   ],
   "metadata": {
    "collapsed": false,
    "ExecuteTime": {
     "end_time": "2023-11-15T15:06:13.853897300Z",
     "start_time": "2023-11-15T15:06:13.729268500Z"
    }
   }
  },
  {
   "cell_type": "code",
   "execution_count": 19,
   "outputs": [
    {
     "name": "stdout",
     "output_type": "stream",
     "text": [
      "Optimization terminated successfully    (Exit mode 0)\n",
      "            Current function value: 2.2145308795705042e-06\n",
      "            Iterations: 9\n",
      "            Function evaluations: 98\n",
      "            Gradient evaluations: 9\n",
      "Optimization was successful. The weights are:\n",
      "      weight\n",
      "w0  0.000123\n",
      "w1 -0.000300\n",
      "w2  0.000060\n",
      "w3 -0.000109\n",
      "w4  0.000215\n",
      "w5 -0.000163\n",
      "\n",
      "Value of the optimization criteria (objective function value): 2.2145308795705042e-06\n",
      "\n",
      "Convergence status: Optimization terminated successfully\n"
     ]
    }
   ],
   "source": [
    "# Feature vector X\n",
    "# feature_vector_inverse = np.array([\n",
    "#     [1, 0.022126, 0.301796, -1.815526, 0.969915, 3.326965],\n",
    "#     [1, 0.564290, 0.240073, -1.589394, 0.659574, 1.742270],\n",
    "#     [1, 1.106454, 0.178349, -1.363262, 0.349232, 0.157574],\n",
    "#     [1, 1.648619, 0.116626, -1.137130, 0.038890, -1.427121],\n",
    "#     [1, 2.190783, 0.054902, -0.910998, -0.271451, -3.011816]\n",
    "# ])\n",
    "\n",
    "# Optimization criteria function\n",
    "def optimization_criteria(W, X):\n",
    "    return np.sum(np.abs(X.dot(W.T)))\n",
    "\n",
    "# Initial guess (starting point for the optimization algorithm)\n",
    "weights_inverse_initial = np.zeros(feature_vector_inverse.shape[1])\n",
    "\n",
    "# Bounds for W (setting it between -1 and 1)\n",
    "bounds = [(-1, 1) for _ in range(feature_vector_inverse.shape[1])]\n",
    "\n",
    "# The actual optimization\n",
    "res = minimize(\n",
    "    optimization_criteria,\n",
    "    weights_inverse_initial,\n",
    "    args=(feature_vector_inverse,),\n",
    "    method='SLSQP',\n",
    "    bounds=bounds,\n",
    "    options={'disp': True}\n",
    ")\n",
    "\n",
    "# Checking if the optimization was successful\n",
    "if res.success:\n",
    "    # Extract the weights into a DataFrame\n",
    "    weights_inverse_output = pd.DataFrame(res.x, index=[f'w{i}' for i in range(len(res.x))], columns=['weight'])\n",
    "\n",
    "    print(\"Optimization was successful. The weights are:\")\n",
    "    print(weights_inverse_output)\n",
    "\n",
    "    # Output the value of the optimization criteria\n",
    "    print(\"\\nValue of the optimization criteria (objective function value):\", res.fun)\n",
    "else:\n",
    "    print(\"Optimization failed.\")\n",
    "\n",
    "# Checking for convergence\n",
    "print(\"\\nConvergence status:\", res.message)\n"
   ],
   "metadata": {
    "collapsed": false,
    "ExecuteTime": {
     "end_time": "2023-11-15T15:06:13.973479400Z",
     "start_time": "2023-11-15T15:06:13.757622700Z"
    }
   },
   "id": "f5c5eee4c62ff7f6"
  },
  {
   "cell_type": "code",
   "execution_count": 20,
   "outputs": [
    {
     "data": {
      "text/plain": "      weight\nw0  0.000123\nw1 -0.000300\nw2  0.000060\nw3 -0.000109\nw4  0.000215\nw5 -0.000163",
      "text/html": "<div>\n<style scoped>\n    .dataframe tbody tr th:only-of-type {\n        vertical-align: middle;\n    }\n\n    .dataframe tbody tr th {\n        vertical-align: top;\n    }\n\n    .dataframe thead th {\n        text-align: right;\n    }\n</style>\n<table border=\"1\" class=\"dataframe\">\n  <thead>\n    <tr style=\"text-align: right;\">\n      <th></th>\n      <th>weight</th>\n    </tr>\n  </thead>\n  <tbody>\n    <tr>\n      <th>w0</th>\n      <td>0.000123</td>\n    </tr>\n    <tr>\n      <th>w1</th>\n      <td>-0.000300</td>\n    </tr>\n    <tr>\n      <th>w2</th>\n      <td>0.000060</td>\n    </tr>\n    <tr>\n      <th>w3</th>\n      <td>-0.000109</td>\n    </tr>\n    <tr>\n      <th>w4</th>\n      <td>0.000215</td>\n    </tr>\n    <tr>\n      <th>w5</th>\n      <td>-0.000163</td>\n    </tr>\n  </tbody>\n</table>\n</div>"
     },
     "execution_count": 20,
     "metadata": {},
     "output_type": "execute_result"
    }
   ],
   "source": [
    "weights_inverse_output"
   ],
   "metadata": {
    "collapsed": false,
    "ExecuteTime": {
     "end_time": "2023-11-15T15:06:13.974479800Z",
     "start_time": "2023-11-15T15:06:13.782149800Z"
    }
   },
   "id": "229473793e1f5f6d"
  },
  {
   "cell_type": "code",
   "execution_count": 28,
   "outputs": [
    {
     "data": {
      "text/plain": "     weight\n0 -0.000300\n1  0.000060\n2 -0.000109\n3  0.000215\n4 -0.000163\n5  0.000123",
      "text/html": "<div>\n<style scoped>\n    .dataframe tbody tr th:only-of-type {\n        vertical-align: middle;\n    }\n\n    .dataframe tbody tr th {\n        vertical-align: top;\n    }\n\n    .dataframe thead th {\n        text-align: right;\n    }\n</style>\n<table border=\"1\" class=\"dataframe\">\n  <thead>\n    <tr style=\"text-align: right;\">\n      <th></th>\n      <th>weight</th>\n    </tr>\n  </thead>\n  <tbody>\n    <tr>\n      <th>0</th>\n      <td>-0.000300</td>\n    </tr>\n    <tr>\n      <th>1</th>\n      <td>0.000060</td>\n    </tr>\n    <tr>\n      <th>2</th>\n      <td>-0.000109</td>\n    </tr>\n    <tr>\n      <th>3</th>\n      <td>0.000215</td>\n    </tr>\n    <tr>\n      <th>4</th>\n      <td>-0.000163</td>\n    </tr>\n    <tr>\n      <th>5</th>\n      <td>0.000123</td>\n    </tr>\n  </tbody>\n</table>\n</div>"
     },
     "execution_count": 28,
     "metadata": {},
     "output_type": "execute_result"
    }
   ],
   "source": [
    "# Assuming the row with 'w0' is the first row as per your example\n",
    "# we want to move this row to the end of the DataFrame\n",
    "weights_df_reordered = pd.concat([weights_inverse_output.iloc[1:], weights_inverse_output.iloc[0:1]]).reset_index(drop=True)\n",
    "\n",
    "# Show the modified DataFrame\n",
    "weights_df_reordered\n"
   ],
   "metadata": {
    "collapsed": false,
    "ExecuteTime": {
     "end_time": "2023-11-15T15:10:47.177483600Z",
     "start_time": "2023-11-15T15:10:47.158631700Z"
    }
   },
   "id": "fd4510816a331570"
  },
  {
   "cell_type": "code",
   "execution_count": 30,
   "outputs": [
    {
     "name": "stdout",
     "output_type": "stream",
     "text": [
      "    prediction\n",
      "0    -0.000305\n",
      "1    -0.000325\n",
      "2    -0.000345\n",
      "3    -0.000365\n",
      "4    -0.000385\n",
      "5     0.000235\n",
      "6     0.000165\n",
      "7     0.000045\n",
      "8    -0.000068\n",
      "9    -0.000157\n",
      "10    0.000007\n",
      "11    0.000027\n",
      "12    0.000064\n",
      "13    0.000115\n",
      "14    0.000151\n"
     ]
    }
   ],
   "source": [
    "# DataFrames as provided\n",
    "test_weights_df = pd.DataFrame({\n",
    "    'weights': [-0.000300, 0.000060, -0.000109, 0.000215, -0.000163, 0.000123]\n",
    "})\n",
    "\n",
    "test_features_df = pd.DataFrame({\n",
    "    'x1': [2.8, 2.9, 3.0, 3.1, 3.2, -1.6, -1.3, -1.0, -0.7, -0.5, 1.2, 1.1, 1.0, 0.9, 0.8],\n",
    "    'x2': [-1.8, -1.9, -2.0, -2.1, -2.2, -2.5, -2.7, -3.0, -3.2, -3.5, -1.2, -1.1, -1.0, -0.9, -0.8],\n",
    "    'x3': [-2.8, -2.9, -3.0, -3.1, -3.2, 1.5, 1.3, 1.5, 1.7, 1.9, 0.7, 0.8, 0.844444, 0.85, 0.9],\n",
    "    'x4': [1.3, 1.4, 1.5, 1.6, 1.7, 0.2, 0.4, 0.6, 0.8, 1.0, -0.3, -0.4, -0.444444, -0.45, -0.5],\n",
    "    'x5': [0.4, 0.5, 0.6, 0.7, 0.8, 0.6, 0.8, 1.0, 1.2, 1.4, -2.8, -2.9, -3.0, -3.1, -3.2],\n",
    "    'x0': [1, 1, 1, 1, 1, 1, 1, 1, 1, 1, 1, 1, 1, 1, 1],  # Assuming a bias term with all ones\n",
    "})\n",
    "\n",
    "# Multiply the features by the weights\n",
    "result = test_features_df.mul(test_weights_df['weights'].values, axis=1)\n",
    "\n",
    "# Sum along the rows to get the final single column for predictions\n",
    "predictions = result.sum(axis=1)\n",
    "\n",
    "# Convert the series to a data frame\n",
    "predictions_df = predictions.to_frame(name='prediction')\n",
    "\n",
    "# Display the result\n",
    "print(predictions_df)\n"
   ],
   "metadata": {
    "collapsed": false,
    "ExecuteTime": {
     "end_time": "2023-11-15T15:12:15.812338400Z",
     "start_time": "2023-11-15T15:12:15.734630Z"
    }
   },
   "id": "a34502dbb4f45b1c"
  },
  {
   "cell_type": "code",
   "execution_count": 31,
   "outputs": [
    {
     "data": {
      "text/plain": "    weights\n0 -0.000300\n1  0.000060\n2 -0.000109\n3  0.000215\n4 -0.000163\n5  0.000123",
      "text/html": "<div>\n<style scoped>\n    .dataframe tbody tr th:only-of-type {\n        vertical-align: middle;\n    }\n\n    .dataframe tbody tr th {\n        vertical-align: top;\n    }\n\n    .dataframe thead th {\n        text-align: right;\n    }\n</style>\n<table border=\"1\" class=\"dataframe\">\n  <thead>\n    <tr style=\"text-align: right;\">\n      <th></th>\n      <th>weights</th>\n    </tr>\n  </thead>\n  <tbody>\n    <tr>\n      <th>0</th>\n      <td>-0.000300</td>\n    </tr>\n    <tr>\n      <th>1</th>\n      <td>0.000060</td>\n    </tr>\n    <tr>\n      <th>2</th>\n      <td>-0.000109</td>\n    </tr>\n    <tr>\n      <th>3</th>\n      <td>0.000215</td>\n    </tr>\n    <tr>\n      <th>4</th>\n      <td>-0.000163</td>\n    </tr>\n    <tr>\n      <th>5</th>\n      <td>0.000123</td>\n    </tr>\n  </tbody>\n</table>\n</div>"
     },
     "execution_count": 31,
     "metadata": {},
     "output_type": "execute_result"
    }
   ],
   "source": [
    "test_weights_df"
   ],
   "metadata": {
    "collapsed": false,
    "ExecuteTime": {
     "end_time": "2023-11-15T15:12:15.858786Z",
     "start_time": "2023-11-15T15:12:15.755799400Z"
    }
   },
   "id": "f600d673d9a657b3"
  },
  {
   "cell_type": "code",
   "execution_count": 32,
   "outputs": [
    {
     "data": {
      "text/plain": "     weight\n0 -0.000300\n1  0.000060\n2 -0.000109\n3  0.000215\n4 -0.000163\n5  0.000123",
      "text/html": "<div>\n<style scoped>\n    .dataframe tbody tr th:only-of-type {\n        vertical-align: middle;\n    }\n\n    .dataframe tbody tr th {\n        vertical-align: top;\n    }\n\n    .dataframe thead th {\n        text-align: right;\n    }\n</style>\n<table border=\"1\" class=\"dataframe\">\n  <thead>\n    <tr style=\"text-align: right;\">\n      <th></th>\n      <th>weight</th>\n    </tr>\n  </thead>\n  <tbody>\n    <tr>\n      <th>0</th>\n      <td>-0.000300</td>\n    </tr>\n    <tr>\n      <th>1</th>\n      <td>0.000060</td>\n    </tr>\n    <tr>\n      <th>2</th>\n      <td>-0.000109</td>\n    </tr>\n    <tr>\n      <th>3</th>\n      <td>0.000215</td>\n    </tr>\n    <tr>\n      <th>4</th>\n      <td>-0.000163</td>\n    </tr>\n    <tr>\n      <th>5</th>\n      <td>0.000123</td>\n    </tr>\n  </tbody>\n</table>\n</div>"
     },
     "execution_count": 32,
     "metadata": {},
     "output_type": "execute_result"
    }
   ],
   "source": [
    "weights_df_reordered"
   ],
   "metadata": {
    "collapsed": false,
    "ExecuteTime": {
     "end_time": "2023-11-15T15:12:15.862254Z",
     "start_time": "2023-11-15T15:12:15.770940600Z"
    }
   },
   "id": "3ea12d01fb9e69fa"
  },
  {
   "cell_type": "code",
   "execution_count": 33,
   "outputs": [
    {
     "data": {
      "text/plain": "     f1   f2        f3        f4   f5  f0\n0   2.8 -1.8 -2.800000  1.300000  0.4   1\n1   2.9 -1.9 -2.900000  1.400000  0.5   1\n2   3.0 -2.0 -3.000000  1.500000  0.6   1\n3   3.1 -2.1 -3.100000  1.600000  0.7   1\n4   3.2 -2.2 -3.200000  1.700000  0.8   1\n5  -1.6 -2.5  1.500000  0.200000  0.6   1\n6  -1.3 -2.7  1.300000  0.400000  0.8   1\n7  -1.0 -3.0  1.500000  0.600000  1.0   1\n8  -0.7 -3.2  1.700000  0.800000  1.2   1\n9  -0.5 -3.5  1.900000  1.000000  1.4   1\n10  1.2 -1.2  0.700000 -0.300000 -2.8   1\n11  1.1 -1.1  0.800000 -0.400000 -2.9   1\n12  1.0 -1.0  0.844444 -0.444444 -3.0   1\n13  0.9 -0.9  0.850000 -0.450000 -3.1   1\n14  0.8 -0.8  0.900000 -0.500000 -3.2   1",
      "text/html": "<div>\n<style scoped>\n    .dataframe tbody tr th:only-of-type {\n        vertical-align: middle;\n    }\n\n    .dataframe tbody tr th {\n        vertical-align: top;\n    }\n\n    .dataframe thead th {\n        text-align: right;\n    }\n</style>\n<table border=\"1\" class=\"dataframe\">\n  <thead>\n    <tr style=\"text-align: right;\">\n      <th></th>\n      <th>f1</th>\n      <th>f2</th>\n      <th>f3</th>\n      <th>f4</th>\n      <th>f5</th>\n      <th>f0</th>\n    </tr>\n  </thead>\n  <tbody>\n    <tr>\n      <th>0</th>\n      <td>2.8</td>\n      <td>-1.8</td>\n      <td>-2.800000</td>\n      <td>1.300000</td>\n      <td>0.4</td>\n      <td>1</td>\n    </tr>\n    <tr>\n      <th>1</th>\n      <td>2.9</td>\n      <td>-1.9</td>\n      <td>-2.900000</td>\n      <td>1.400000</td>\n      <td>0.5</td>\n      <td>1</td>\n    </tr>\n    <tr>\n      <th>2</th>\n      <td>3.0</td>\n      <td>-2.0</td>\n      <td>-3.000000</td>\n      <td>1.500000</td>\n      <td>0.6</td>\n      <td>1</td>\n    </tr>\n    <tr>\n      <th>3</th>\n      <td>3.1</td>\n      <td>-2.1</td>\n      <td>-3.100000</td>\n      <td>1.600000</td>\n      <td>0.7</td>\n      <td>1</td>\n    </tr>\n    <tr>\n      <th>4</th>\n      <td>3.2</td>\n      <td>-2.2</td>\n      <td>-3.200000</td>\n      <td>1.700000</td>\n      <td>0.8</td>\n      <td>1</td>\n    </tr>\n    <tr>\n      <th>5</th>\n      <td>-1.6</td>\n      <td>-2.5</td>\n      <td>1.500000</td>\n      <td>0.200000</td>\n      <td>0.6</td>\n      <td>1</td>\n    </tr>\n    <tr>\n      <th>6</th>\n      <td>-1.3</td>\n      <td>-2.7</td>\n      <td>1.300000</td>\n      <td>0.400000</td>\n      <td>0.8</td>\n      <td>1</td>\n    </tr>\n    <tr>\n      <th>7</th>\n      <td>-1.0</td>\n      <td>-3.0</td>\n      <td>1.500000</td>\n      <td>0.600000</td>\n      <td>1.0</td>\n      <td>1</td>\n    </tr>\n    <tr>\n      <th>8</th>\n      <td>-0.7</td>\n      <td>-3.2</td>\n      <td>1.700000</td>\n      <td>0.800000</td>\n      <td>1.2</td>\n      <td>1</td>\n    </tr>\n    <tr>\n      <th>9</th>\n      <td>-0.5</td>\n      <td>-3.5</td>\n      <td>1.900000</td>\n      <td>1.000000</td>\n      <td>1.4</td>\n      <td>1</td>\n    </tr>\n    <tr>\n      <th>10</th>\n      <td>1.2</td>\n      <td>-1.2</td>\n      <td>0.700000</td>\n      <td>-0.300000</td>\n      <td>-2.8</td>\n      <td>1</td>\n    </tr>\n    <tr>\n      <th>11</th>\n      <td>1.1</td>\n      <td>-1.1</td>\n      <td>0.800000</td>\n      <td>-0.400000</td>\n      <td>-2.9</td>\n      <td>1</td>\n    </tr>\n    <tr>\n      <th>12</th>\n      <td>1.0</td>\n      <td>-1.0</td>\n      <td>0.844444</td>\n      <td>-0.444444</td>\n      <td>-3.0</td>\n      <td>1</td>\n    </tr>\n    <tr>\n      <th>13</th>\n      <td>0.9</td>\n      <td>-0.9</td>\n      <td>0.850000</td>\n      <td>-0.450000</td>\n      <td>-3.1</td>\n      <td>1</td>\n    </tr>\n    <tr>\n      <th>14</th>\n      <td>0.8</td>\n      <td>-0.8</td>\n      <td>0.900000</td>\n      <td>-0.500000</td>\n      <td>-3.2</td>\n      <td>1</td>\n    </tr>\n  </tbody>\n</table>\n</div>"
     },
     "execution_count": 33,
     "metadata": {},
     "output_type": "execute_result"
    }
   ],
   "source": [
    "# Create a new DataFrame with an additional column\n",
    "new_formal_model_values = formal_model_values.copy()\n",
    "new_formal_model_values['f0'] = 1\n",
    "new_formal_model_values\n"
   ],
   "metadata": {
    "collapsed": false,
    "ExecuteTime": {
     "end_time": "2023-11-15T15:12:15.863248900Z",
     "start_time": "2023-11-15T15:12:15.786698400Z"
    }
   },
   "id": "6c4bb7858af12496"
  },
  {
   "cell_type": "code",
   "execution_count": 34,
   "outputs": [],
   "source": [
    "# # Multiply the features by the weights\n",
    "my_result = new_formal_model_values.mul(weights_df_reordered['weight'].values, axis=1)\n",
    "\n",
    "# Sum along the rows to get the final single column for predictions\n",
    "my_predictions = my_result.sum(axis=1)\n",
    "\n",
    "# Convert the series to a data frame\n",
    "my_predictions_df = my_predictions.to_frame(name='prediction')"
   ],
   "metadata": {
    "collapsed": false,
    "ExecuteTime": {
     "end_time": "2023-11-15T15:12:15.863248900Z",
     "start_time": "2023-11-15T15:12:15.826586100Z"
    }
   },
   "id": "c2f759c7f2967205"
  },
  {
   "cell_type": "code",
   "execution_count": 42,
   "outputs": [
    {
     "ename": "ValueError",
     "evalue": "If using all scalar values, you must pass an index",
     "output_type": "error",
     "traceback": [
      "\u001B[1;31m---------------------------------------------------------------------------\u001B[0m",
      "\u001B[1;31mValueError\u001B[0m                                Traceback (most recent call last)",
      "Cell \u001B[1;32mIn[42], line 1\u001B[0m\n\u001B[1;32m----> 1\u001B[0m my_differ_df \u001B[38;5;241m=\u001B[39m \u001B[43mpd\u001B[49m\u001B[38;5;241;43m.\u001B[39;49m\u001B[43mDataFrame\u001B[49m\u001B[43m(\u001B[49m\u001B[43m{\u001B[49m\u001B[38;5;124;43m'\u001B[39;49m\u001B[38;5;124;43mColumn1\u001B[39;49m\u001B[38;5;124;43m'\u001B[39;49m\u001B[43m:\u001B[49m\u001B[43m \u001B[49m\u001B[43mmy_predictions_df\u001B[49m\u001B[43m,\u001B[49m\u001B[43m \u001B[49m\u001B[38;5;124;43m'\u001B[39;49m\u001B[38;5;124;43mColumn2\u001B[39;49m\u001B[38;5;124;43m'\u001B[39;49m\u001B[43m:\u001B[49m\u001B[43m \u001B[49m\u001B[43mpredictions_df\u001B[49m\u001B[43m}\u001B[49m\u001B[43m)\u001B[49m\n",
      "File \u001B[1;32m~\\anaconda3\\envs\\courses\\lib\\site-packages\\pandas\\core\\frame.py:709\u001B[0m, in \u001B[0;36mDataFrame.__init__\u001B[1;34m(self, data, index, columns, dtype, copy)\u001B[0m\n\u001B[0;32m    703\u001B[0m     mgr \u001B[38;5;241m=\u001B[39m \u001B[38;5;28mself\u001B[39m\u001B[38;5;241m.\u001B[39m_init_mgr(\n\u001B[0;32m    704\u001B[0m         data, axes\u001B[38;5;241m=\u001B[39m{\u001B[38;5;124m\"\u001B[39m\u001B[38;5;124mindex\u001B[39m\u001B[38;5;124m\"\u001B[39m: index, \u001B[38;5;124m\"\u001B[39m\u001B[38;5;124mcolumns\u001B[39m\u001B[38;5;124m\"\u001B[39m: columns}, dtype\u001B[38;5;241m=\u001B[39mdtype, copy\u001B[38;5;241m=\u001B[39mcopy\n\u001B[0;32m    705\u001B[0m     )\n\u001B[0;32m    707\u001B[0m \u001B[38;5;28;01melif\u001B[39;00m \u001B[38;5;28misinstance\u001B[39m(data, \u001B[38;5;28mdict\u001B[39m):\n\u001B[0;32m    708\u001B[0m     \u001B[38;5;66;03m# GH#38939 de facto copy defaults to False only in non-dict cases\u001B[39;00m\n\u001B[1;32m--> 709\u001B[0m     mgr \u001B[38;5;241m=\u001B[39m \u001B[43mdict_to_mgr\u001B[49m\u001B[43m(\u001B[49m\u001B[43mdata\u001B[49m\u001B[43m,\u001B[49m\u001B[43m \u001B[49m\u001B[43mindex\u001B[49m\u001B[43m,\u001B[49m\u001B[43m \u001B[49m\u001B[43mcolumns\u001B[49m\u001B[43m,\u001B[49m\u001B[43m \u001B[49m\u001B[43mdtype\u001B[49m\u001B[38;5;241;43m=\u001B[39;49m\u001B[43mdtype\u001B[49m\u001B[43m,\u001B[49m\u001B[43m \u001B[49m\u001B[43mcopy\u001B[49m\u001B[38;5;241;43m=\u001B[39;49m\u001B[43mcopy\u001B[49m\u001B[43m,\u001B[49m\u001B[43m \u001B[49m\u001B[43mtyp\u001B[49m\u001B[38;5;241;43m=\u001B[39;49m\u001B[43mmanager\u001B[49m\u001B[43m)\u001B[49m\n\u001B[0;32m    710\u001B[0m \u001B[38;5;28;01melif\u001B[39;00m \u001B[38;5;28misinstance\u001B[39m(data, ma\u001B[38;5;241m.\u001B[39mMaskedArray):\n\u001B[0;32m    711\u001B[0m     \u001B[38;5;28;01mfrom\u001B[39;00m \u001B[38;5;21;01mnumpy\u001B[39;00m\u001B[38;5;21;01m.\u001B[39;00m\u001B[38;5;21;01mma\u001B[39;00m \u001B[38;5;28;01mimport\u001B[39;00m mrecords\n",
      "File \u001B[1;32m~\\anaconda3\\envs\\courses\\lib\\site-packages\\pandas\\core\\internals\\construction.py:481\u001B[0m, in \u001B[0;36mdict_to_mgr\u001B[1;34m(data, index, columns, dtype, typ, copy)\u001B[0m\n\u001B[0;32m    477\u001B[0m     \u001B[38;5;28;01melse\u001B[39;00m:\n\u001B[0;32m    478\u001B[0m         \u001B[38;5;66;03m# dtype check to exclude e.g. range objects, scalars\u001B[39;00m\n\u001B[0;32m    479\u001B[0m         arrays \u001B[38;5;241m=\u001B[39m [x\u001B[38;5;241m.\u001B[39mcopy() \u001B[38;5;28;01mif\u001B[39;00m \u001B[38;5;28mhasattr\u001B[39m(x, \u001B[38;5;124m\"\u001B[39m\u001B[38;5;124mdtype\u001B[39m\u001B[38;5;124m\"\u001B[39m) \u001B[38;5;28;01melse\u001B[39;00m x \u001B[38;5;28;01mfor\u001B[39;00m x \u001B[38;5;129;01min\u001B[39;00m arrays]\n\u001B[1;32m--> 481\u001B[0m \u001B[38;5;28;01mreturn\u001B[39;00m \u001B[43marrays_to_mgr\u001B[49m\u001B[43m(\u001B[49m\u001B[43marrays\u001B[49m\u001B[43m,\u001B[49m\u001B[43m \u001B[49m\u001B[43mcolumns\u001B[49m\u001B[43m,\u001B[49m\u001B[43m \u001B[49m\u001B[43mindex\u001B[49m\u001B[43m,\u001B[49m\u001B[43m \u001B[49m\u001B[43mdtype\u001B[49m\u001B[38;5;241;43m=\u001B[39;49m\u001B[43mdtype\u001B[49m\u001B[43m,\u001B[49m\u001B[43m \u001B[49m\u001B[43mtyp\u001B[49m\u001B[38;5;241;43m=\u001B[39;49m\u001B[43mtyp\u001B[49m\u001B[43m,\u001B[49m\u001B[43m \u001B[49m\u001B[43mconsolidate\u001B[49m\u001B[38;5;241;43m=\u001B[39;49m\u001B[43mcopy\u001B[49m\u001B[43m)\u001B[49m\n",
      "File \u001B[1;32m~\\anaconda3\\envs\\courses\\lib\\site-packages\\pandas\\core\\internals\\construction.py:115\u001B[0m, in \u001B[0;36marrays_to_mgr\u001B[1;34m(arrays, columns, index, dtype, verify_integrity, typ, consolidate)\u001B[0m\n\u001B[0;32m    112\u001B[0m \u001B[38;5;28;01mif\u001B[39;00m verify_integrity:\n\u001B[0;32m    113\u001B[0m     \u001B[38;5;66;03m# figure out the index, if necessary\u001B[39;00m\n\u001B[0;32m    114\u001B[0m     \u001B[38;5;28;01mif\u001B[39;00m index \u001B[38;5;129;01mis\u001B[39;00m \u001B[38;5;28;01mNone\u001B[39;00m:\n\u001B[1;32m--> 115\u001B[0m         index \u001B[38;5;241m=\u001B[39m \u001B[43m_extract_index\u001B[49m\u001B[43m(\u001B[49m\u001B[43marrays\u001B[49m\u001B[43m)\u001B[49m\n\u001B[0;32m    116\u001B[0m     \u001B[38;5;28;01melse\u001B[39;00m:\n\u001B[0;32m    117\u001B[0m         index \u001B[38;5;241m=\u001B[39m ensure_index(index)\n",
      "File \u001B[1;32m~\\anaconda3\\envs\\courses\\lib\\site-packages\\pandas\\core\\internals\\construction.py:645\u001B[0m, in \u001B[0;36m_extract_index\u001B[1;34m(data)\u001B[0m\n\u001B[0;32m    642\u001B[0m         \u001B[38;5;28;01mraise\u001B[39;00m \u001B[38;5;167;01mValueError\u001B[39;00m(\u001B[38;5;124m\"\u001B[39m\u001B[38;5;124mPer-column arrays must each be 1-dimensional\u001B[39m\u001B[38;5;124m\"\u001B[39m)\n\u001B[0;32m    644\u001B[0m \u001B[38;5;28;01mif\u001B[39;00m \u001B[38;5;129;01mnot\u001B[39;00m indexes \u001B[38;5;129;01mand\u001B[39;00m \u001B[38;5;129;01mnot\u001B[39;00m raw_lengths:\n\u001B[1;32m--> 645\u001B[0m     \u001B[38;5;28;01mraise\u001B[39;00m \u001B[38;5;167;01mValueError\u001B[39;00m(\u001B[38;5;124m\"\u001B[39m\u001B[38;5;124mIf using all scalar values, you must pass an index\u001B[39m\u001B[38;5;124m\"\u001B[39m)\n\u001B[0;32m    647\u001B[0m \u001B[38;5;28;01mif\u001B[39;00m have_series:\n\u001B[0;32m    648\u001B[0m     index \u001B[38;5;241m=\u001B[39m union_indexes(indexes)\n",
      "\u001B[1;31mValueError\u001B[0m: If using all scalar values, you must pass an index"
     ]
    }
   ],
   "source": [
    "my_differ_df = pd.DataFrame({'Column1': my_predictions_df, 'Column2': predictions_df})"
   ],
   "metadata": {
    "collapsed": false,
    "ExecuteTime": {
     "end_time": "2023-11-15T15:23:59.591118800Z",
     "start_time": "2023-11-15T15:23:57.490027600Z"
    }
   },
   "id": "2b1a3605ce3e312b"
  },
  {
   "cell_type": "code",
   "execution_count": null,
   "outputs": [],
   "source": [
    "my_differ_df"
   ],
   "metadata": {
    "collapsed": false,
    "ExecuteTime": {
     "start_time": "2023-11-15T15:23:59.587127700Z"
    }
   }
  },
  {
   "cell_type": "code",
   "execution_count": 36,
   "outputs": [],
   "source": [
    "my_diff = predictions_df - my_predictions_df"
   ],
   "metadata": {
    "collapsed": false,
    "ExecuteTime": {
     "end_time": "2023-11-15T15:14:41.505818700Z",
     "start_time": "2023-11-15T15:14:41.451754900Z"
    }
   },
   "id": "dec80022fffdb803"
  },
  {
   "cell_type": "code",
   "execution_count": 37,
   "outputs": [
    {
     "name": "stdout",
     "output_type": "stream",
     "text": [
      "      prediction\n",
      "0  -1.191026e-06\n",
      "1  -1.239575e-06\n",
      "2  -1.288124e-06\n",
      "3  -1.336673e-06\n",
      "4  -1.385222e-06\n",
      "5  -6.305347e-07\n",
      "6  -7.155629e-07\n",
      "7  -6.970744e-07\n",
      "8  -6.507944e-07\n",
      "9  -6.443756e-07\n",
      "10  8.597879e-08\n",
      "11  1.345278e-07\n",
      "12  1.703452e-07\n",
      "13  1.968619e-07\n",
      "14  2.338230e-07\n"
     ]
    }
   ],
   "source": [
    "print(my_diff)"
   ],
   "metadata": {
    "collapsed": false,
    "ExecuteTime": {
     "end_time": "2023-11-15T15:14:46.769248400Z",
     "start_time": "2023-11-15T15:14:46.732691900Z"
    }
   }
  },
  {
   "cell_type": "code",
   "execution_count": null,
   "outputs": [],
   "source": [],
   "metadata": {
    "collapsed": false
   }
  }
 ],
 "metadata": {
  "kernelspec": {
   "display_name": "Python 3",
   "language": "python",
   "name": "python3"
  },
  "language_info": {
   "codemirror_mode": {
    "name": "ipython",
    "version": 2
   },
   "file_extension": ".py",
   "mimetype": "text/x-python",
   "name": "python",
   "nbconvert_exporter": "python",
   "pygments_lexer": "ipython2",
   "version": "2.7.6"
  }
 },
 "nbformat": 4,
 "nbformat_minor": 5
}
