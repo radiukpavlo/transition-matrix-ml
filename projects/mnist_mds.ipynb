{
 "cells": [
  {
   "cell_type": "code",
   "execution_count": 6,
   "outputs": [],
   "source": [
    "import pandas as pd\n",
    "from io import StringIO\n",
    "from sklearn.manifold import MDS\n",
    "from sklearn.preprocessing import StandardScaler\n",
    "\n",
    "path_csv = '.'\n",
    "\n",
    "# Read the CSV files into pandas dataframes\n",
    "formal_model = pd.read_csv(f\"{path_csv}/formal_model.csv\")"
   ],
   "metadata": {
    "collapsed": false,
    "ExecuteTime": {
     "end_time": "2023-10-20T13:00:11.856428700Z",
     "start_time": "2023-10-20T13:00:11.799404Z"
    }
   },
   "id": "f6864ea4e4b87c7d"
  },
  {
   "cell_type": "code",
   "execution_count": 7,
   "outputs": [
    {
     "data": {
      "text/plain": "    Formal Model   f1   f2        f3        f4   f5\n0              1  2.8 -1.8 -2.800000  1.300000  0.4\n1              2  2.9 -1.9 -2.900000  1.400000  0.5\n2              3  3.0 -2.0 -3.000000  1.500000  0.6\n3              4  3.1 -2.1 -3.100000  1.600000  0.7\n4              5  3.2 -2.2 -3.200000  1.700000  0.8\n5              6 -1.6 -2.5  1.500000  0.200000  0.6\n6              7 -1.3 -2.7  1.300000  0.400000  0.8\n7              8 -1.0 -3.0  1.500000  0.600000  1.0\n8              9 -0.7 -3.2  1.700000  0.800000  1.2\n9             10 -0.5 -3.5  1.900000  1.000000  1.4\n10            11  1.2 -1.2  0.700000 -0.300000 -2.8\n11            12  1.1 -1.1  0.800000 -0.400000 -2.9\n12            13  1.0 -1.0  0.844444 -0.444444 -3.0\n13            14  0.9 -0.9  0.850000 -0.450000 -3.1\n14            15  0.8 -0.8  0.900000 -0.500000 -3.2",
      "text/html": "<div>\n<style scoped>\n    .dataframe tbody tr th:only-of-type {\n        vertical-align: middle;\n    }\n\n    .dataframe tbody tr th {\n        vertical-align: top;\n    }\n\n    .dataframe thead th {\n        text-align: right;\n    }\n</style>\n<table border=\"1\" class=\"dataframe\">\n  <thead>\n    <tr style=\"text-align: right;\">\n      <th></th>\n      <th>Formal Model</th>\n      <th>f1</th>\n      <th>f2</th>\n      <th>f3</th>\n      <th>f4</th>\n      <th>f5</th>\n    </tr>\n  </thead>\n  <tbody>\n    <tr>\n      <th>0</th>\n      <td>1</td>\n      <td>2.8</td>\n      <td>-1.8</td>\n      <td>-2.800000</td>\n      <td>1.300000</td>\n      <td>0.4</td>\n    </tr>\n    <tr>\n      <th>1</th>\n      <td>2</td>\n      <td>2.9</td>\n      <td>-1.9</td>\n      <td>-2.900000</td>\n      <td>1.400000</td>\n      <td>0.5</td>\n    </tr>\n    <tr>\n      <th>2</th>\n      <td>3</td>\n      <td>3.0</td>\n      <td>-2.0</td>\n      <td>-3.000000</td>\n      <td>1.500000</td>\n      <td>0.6</td>\n    </tr>\n    <tr>\n      <th>3</th>\n      <td>4</td>\n      <td>3.1</td>\n      <td>-2.1</td>\n      <td>-3.100000</td>\n      <td>1.600000</td>\n      <td>0.7</td>\n    </tr>\n    <tr>\n      <th>4</th>\n      <td>5</td>\n      <td>3.2</td>\n      <td>-2.2</td>\n      <td>-3.200000</td>\n      <td>1.700000</td>\n      <td>0.8</td>\n    </tr>\n    <tr>\n      <th>5</th>\n      <td>6</td>\n      <td>-1.6</td>\n      <td>-2.5</td>\n      <td>1.500000</td>\n      <td>0.200000</td>\n      <td>0.6</td>\n    </tr>\n    <tr>\n      <th>6</th>\n      <td>7</td>\n      <td>-1.3</td>\n      <td>-2.7</td>\n      <td>1.300000</td>\n      <td>0.400000</td>\n      <td>0.8</td>\n    </tr>\n    <tr>\n      <th>7</th>\n      <td>8</td>\n      <td>-1.0</td>\n      <td>-3.0</td>\n      <td>1.500000</td>\n      <td>0.600000</td>\n      <td>1.0</td>\n    </tr>\n    <tr>\n      <th>8</th>\n      <td>9</td>\n      <td>-0.7</td>\n      <td>-3.2</td>\n      <td>1.700000</td>\n      <td>0.800000</td>\n      <td>1.2</td>\n    </tr>\n    <tr>\n      <th>9</th>\n      <td>10</td>\n      <td>-0.5</td>\n      <td>-3.5</td>\n      <td>1.900000</td>\n      <td>1.000000</td>\n      <td>1.4</td>\n    </tr>\n    <tr>\n      <th>10</th>\n      <td>11</td>\n      <td>1.2</td>\n      <td>-1.2</td>\n      <td>0.700000</td>\n      <td>-0.300000</td>\n      <td>-2.8</td>\n    </tr>\n    <tr>\n      <th>11</th>\n      <td>12</td>\n      <td>1.1</td>\n      <td>-1.1</td>\n      <td>0.800000</td>\n      <td>-0.400000</td>\n      <td>-2.9</td>\n    </tr>\n    <tr>\n      <th>12</th>\n      <td>13</td>\n      <td>1.0</td>\n      <td>-1.0</td>\n      <td>0.844444</td>\n      <td>-0.444444</td>\n      <td>-3.0</td>\n    </tr>\n    <tr>\n      <th>13</th>\n      <td>14</td>\n      <td>0.9</td>\n      <td>-0.9</td>\n      <td>0.850000</td>\n      <td>-0.450000</td>\n      <td>-3.1</td>\n    </tr>\n    <tr>\n      <th>14</th>\n      <td>15</td>\n      <td>0.8</td>\n      <td>-0.8</td>\n      <td>0.900000</td>\n      <td>-0.500000</td>\n      <td>-3.2</td>\n    </tr>\n  </tbody>\n</table>\n</div>"
     },
     "execution_count": 7,
     "metadata": {},
     "output_type": "execute_result"
    }
   ],
   "source": [
    "formal_model"
   ],
   "metadata": {
    "collapsed": false,
    "ExecuteTime": {
     "end_time": "2023-10-20T13:00:11.878200500Z",
     "start_time": "2023-10-20T13:00:11.817203300Z"
    }
   },
   "id": "a4bf3067abb75f37"
  },
  {
   "cell_type": "code",
   "execution_count": 8,
   "outputs": [
    {
     "name": "stdout",
     "output_type": "stream",
     "text": [
      "          x1        x2\n",
      "0   0.598984  1.891941\n",
      "1   0.765661  1.976329\n",
      "2   0.936522  2.057980\n",
      "3   1.104990  2.143114\n",
      "4   1.291743  2.210994\n",
      "5   0.534812 -1.934067\n",
      "6   0.856379 -1.700157\n",
      "7   1.282960 -1.605996\n",
      "8   1.641448 -1.502283\n",
      "9   2.090950 -1.464153\n",
      "10 -1.944149 -0.278080\n",
      "11 -2.100596 -0.383819\n",
      "12 -2.230630 -0.439718\n",
      "13 -2.342268 -0.475320\n",
      "14 -2.486805 -0.496766\n"
     ]
    }
   ],
   "source": [
    "# The table data you provided\n",
    "data = \"\"\"Formal Model,f1,f2,f3,f4,f5\n",
    "1,2.8,-1.8,-2.8,1.3,0.4\n",
    "2,2.9,-1.9,-2.9,1.4,0.5\n",
    "3,3,-2,-3,1.5,0.6\n",
    "4,3.1,-2.1,-3.1,1.6,0.7\n",
    "5,3.2,-2.2,-3.2,1.7,0.8\n",
    "6,-1.6,-2.5,1.5,0.2,0.6\n",
    "7,-1.3,-2.7,1.3,0.4,0.8\n",
    "8,-1,-3,1.5,0.6,1\n",
    "9,-0.7,-3.2,1.7,0.8,1.2\n",
    "10,-0.5,-3.5,1.9,1,1.4\n",
    "11,1.2,-1.2,0.7,-0.3,-2.8\n",
    "12,1.1,-1.1,0.8,-0.4,-2.9\n",
    "13,1,-1,0.8444444444,-0.4444444444,-3\n",
    "14,0.9,-0.9,0.85,-0.45,-3.1\n",
    "15,0.8,-0.8,0.9,-0.5,-3.2\"\"\"\n",
    "\n",
    "# Use StringIO to simulate a file object\n",
    "csv_data = StringIO(data)\n",
    "\n",
    "# Read the data into a pandas DataFrame named 'formal_model'\n",
    "# formal_model = pd.read_csv(csv_data)\n",
    "\n",
    "# Drop the 'Formal Model' column as it's an identifier and not part of the features\n",
    "X = formal_model.drop('Formal Model', axis=1)\n",
    "\n",
    "# Standardize the data\n",
    "scaler = StandardScaler()\n",
    "X_scaled = scaler.fit_transform(X)\n",
    "\n",
    "# Apply MDS to reduce the dimensions to 2\n",
    "mds = MDS(n_components=2, normalized_stress='auto')\n",
    "X_mds = mds.fit_transform(X_scaled)\n",
    "\n",
    "# Convert the reduced data back to a pandas DataFrame\n",
    "reduced_formal_model = pd.DataFrame(X_mds, columns=[\"x1\", \"x2\"])\n",
    "\n",
    "print(reduced_formal_model)\n"
   ],
   "metadata": {
    "collapsed": false,
    "ExecuteTime": {
     "end_time": "2023-10-20T13:00:11.879200700Z",
     "start_time": "2023-10-20T13:00:11.834754500Z"
    }
   },
   "id": "f65e9e1eb4935bbd"
  },
  {
   "cell_type": "code",
   "execution_count": 9,
   "outputs": [
    {
     "data": {
      "text/plain": "<Figure size 1000x600 with 1 Axes>",
      "image/png": "[encoded data removed]"
     },
     "metadata": {},
     "output_type": "display_data"
    }
   ],
   "source": [
    "import matplotlib.pyplot as plt\n",
    "\n",
    "# Scatter plot for the reduced data\n",
    "plt.figure(figsize=(10, 6))\n",
    "plt.scatter(reduced_formal_model['x1'], reduced_formal_model['x2'], s=100, edgecolor='k')\n",
    "for i, txt in enumerate(formal_model['Formal Model']):\n",
    "    plt.annotate(txt, (reduced_formal_model['x1'].iloc[i], reduced_formal_model['x2'].iloc[i]), fontsize=9)\n",
    "\n",
    "# Draw the separating line\n",
    "# You might need to adjust these values based on your visualization\n",
    "line_x1 = [-2, -1, 0, 1, 2]  # Example x-values for 5 points\n",
    "line_x2 = [-1, -1, -1, -1, -1]  # Corresponding y-values, adjust to separate the classes\n",
    "plt.plot(line_x1, line_x2, 'ro-')\n",
    "\n",
    "plt.xlabel(\"X 1\")\n",
    "plt.ylabel(\"X 2\")\n",
    "plt.title(\"2D MDS Reduction of formal_model\")\n",
    "plt.grid(True)\n",
    "plt.tight_layout()\n",
    "plt.show()\n"
   ],
   "metadata": {
    "collapsed": false,
    "ExecuteTime": {
     "end_time": "2023-10-20T13:00:12.052750700Z",
     "start_time": "2023-10-20T13:00:11.867689300Z"
    }
   },
   "id": "ccaefc7c5227e591"
  },
  {
   "cell_type": "code",
   "execution_count": 10,
   "outputs": [
    {
     "name": "stdout",
     "output_type": "stream",
     "text": [
      "[0.16666666666666666, 0.3333333333333333, 0.5, 0.6666666666666666, 0.8333333333333334]\n"
     ]
    }
   ],
   "source": [
    "def get_intermediate_points(start, end, num_points):\n",
    "    \"\"\"\n",
    "    Get intermediate points between start and end.\n",
    "\n",
    "    Parameters:\n",
    "    - start (tuple): The start point as (x, y)\n",
    "    - end (tuple): The end point as (x, y)\n",
    "    - num_points (int): Number of intermediate points\n",
    "\n",
    "    Returns:\n",
    "    - list of tuples: List containing the intermediate points\n",
    "    \"\"\"\n",
    "\n",
    "    # Calculate fractions based on the number of intermediate points\n",
    "    fractions = [(i+1)/(num_points+1) for i in range(num_points)]\n",
    "\n",
    "    # Calculate intermediate points\n",
    "    points = [(start[0] + (end[0] - start[0]) * fraction, start[1] + (end[1] - start[1]) * fraction) for fraction in fractions]\n",
    "\n",
    "    return points, fractions\n",
    "\n",
    "# Example usage:\n",
    "start = (2, -4)\n",
    "end = (-4, 1)\n",
    "num_points = 5\n",
    "print(get_intermediate_points(start, end, num_points)[1])\n"
   ],
   "metadata": {
    "collapsed": false,
    "ExecuteTime": {
     "end_time": "2023-10-20T13:00:12.071791700Z",
     "start_time": "2023-10-20T13:00:12.056777700Z"
    }
   },
   "id": "23d75f19243f7afc"
  },
  {
   "cell_type": "code",
   "execution_count": 10,
   "outputs": [],
   "source": [],
   "metadata": {
    "collapsed": false,
    "ExecuteTime": {
     "end_time": "2023-10-20T13:00:12.160832700Z",
     "start_time": "2023-10-20T13:00:12.066281300Z"
    }
   },
   "id": "b2f1f7ce1ea5164b"
  }
 ],
 "metadata": {
  "kernelspec": {
   "display_name": "Python 3",
   "language": "python",
   "name": "python3"
  },
  "language_info": {
   "codemirror_mode": {
    "name": "ipython",
    "version": 2
   },
   "file_extension": ".py",
   "mimetype": "text/x-python",
   "name": "python",
   "nbconvert_exporter": "python",
   "pygments_lexer": "ipython2",
   "version": "2.7.6"
  }
 },
 "nbformat": 4,
 "nbformat_minor": 5
}
