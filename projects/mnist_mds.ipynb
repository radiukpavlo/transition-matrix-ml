{
 "cells": [
  {
   "cell_type": "markdown",
   "source": [
    "## 1. Data Upload"
   ],
   "metadata": {
    "collapsed": false
   },
   "id": "9429755869ff6538"
  },
  {
   "cell_type": "code",
   "execution_count": 1,
   "outputs": [],
   "source": [
    "import pandas as pd\n",
    "import numpy as np\n",
    "from io import StringIO\n",
    "from sklearn.manifold import MDS\n",
    "from sklearn.preprocessing import StandardScaler\n",
    "from scipy.optimize import minimize\n",
    "\n",
    "path_csv = '.'\n",
    "\n",
    "# Read the CSV files into pandas dataframes\n",
    "input_formal_model = pd.read_csv(f\"{path_csv}/formal_model.csv\")"
   ],
   "metadata": {
    "collapsed": false,
    "ExecuteTime": {
     "end_time": "2023-11-29T17:59:23.902198800Z",
     "start_time": "2023-11-29T17:59:22.911268200Z"
    }
   },
   "id": "7fde58ff0426c5dd"
  },
  {
   "cell_type": "code",
   "execution_count": 2,
   "outputs": [
    {
     "data": {
      "text/plain": "    ID  Target   f1   f2        f3        f4   f5\n0    1       1  2.8 -1.8 -2.800000  1.300000  0.4\n1    2       1  2.9 -1.9 -2.900000  1.400000  0.5\n2    3       1  3.0 -2.0 -3.000000  1.500000  0.6\n3    4       1  3.1 -2.1 -3.100000  1.600000  0.7\n4    5       1  3.2 -2.2 -3.200000  1.700000  0.8\n5    6       2 -1.6 -2.5  1.500000  0.200000  0.6\n6    7       2 -1.3 -2.7  1.300000  0.400000  0.8\n7    8       2 -1.0 -3.0  1.500000  0.600000  1.0\n8    9       2 -0.7 -3.2  1.700000  0.800000  1.2\n9   10       2 -0.5 -3.5  1.900000  1.000000  1.4\n10  11       3  1.2 -1.2  0.700000 -0.300000 -2.8\n11  12       3  1.1 -1.1  0.800000 -0.400000 -2.9\n12  13       3  1.0 -1.0  0.844444 -0.444444 -3.0\n13  14       3  0.9 -0.9  0.850000 -0.450000 -3.1\n14  15       3  0.8 -0.8  0.900000 -0.500000 -3.2",
      "text/html": "<div>\n<style scoped>\n    .dataframe tbody tr th:only-of-type {\n        vertical-align: middle;\n    }\n\n    .dataframe tbody tr th {\n        vertical-align: top;\n    }\n\n    .dataframe thead th {\n        text-align: right;\n    }\n</style>\n<table border=\"1\" class=\"dataframe\">\n  <thead>\n    <tr style=\"text-align: right;\">\n      <th></th>\n      <th>ID</th>\n      <th>Target</th>\n      <th>f1</th>\n      <th>f2</th>\n      <th>f3</th>\n      <th>f4</th>\n      <th>f5</th>\n    </tr>\n  </thead>\n  <tbody>\n    <tr>\n      <th>0</th>\n      <td>1</td>\n      <td>1</td>\n      <td>2.8</td>\n      <td>-1.8</td>\n      <td>-2.800000</td>\n      <td>1.300000</td>\n      <td>0.4</td>\n    </tr>\n    <tr>\n      <th>1</th>\n      <td>2</td>\n      <td>1</td>\n      <td>2.9</td>\n      <td>-1.9</td>\n      <td>-2.900000</td>\n      <td>1.400000</td>\n      <td>0.5</td>\n    </tr>\n    <tr>\n      <th>2</th>\n      <td>3</td>\n      <td>1</td>\n      <td>3.0</td>\n      <td>-2.0</td>\n      <td>-3.000000</td>\n      <td>1.500000</td>\n      <td>0.6</td>\n    </tr>\n    <tr>\n      <th>3</th>\n      <td>4</td>\n      <td>1</td>\n      <td>3.1</td>\n      <td>-2.1</td>\n      <td>-3.100000</td>\n      <td>1.600000</td>\n      <td>0.7</td>\n    </tr>\n    <tr>\n      <th>4</th>\n      <td>5</td>\n      <td>1</td>\n      <td>3.2</td>\n      <td>-2.2</td>\n      <td>-3.200000</td>\n      <td>1.700000</td>\n      <td>0.8</td>\n    </tr>\n    <tr>\n      <th>5</th>\n      <td>6</td>\n      <td>2</td>\n      <td>-1.6</td>\n      <td>-2.5</td>\n      <td>1.500000</td>\n      <td>0.200000</td>\n      <td>0.6</td>\n    </tr>\n    <tr>\n      <th>6</th>\n      <td>7</td>\n      <td>2</td>\n      <td>-1.3</td>\n      <td>-2.7</td>\n      <td>1.300000</td>\n      <td>0.400000</td>\n      <td>0.8</td>\n    </tr>\n    <tr>\n      <th>7</th>\n      <td>8</td>\n      <td>2</td>\n      <td>-1.0</td>\n      <td>-3.0</td>\n      <td>1.500000</td>\n      <td>0.600000</td>\n      <td>1.0</td>\n    </tr>\n    <tr>\n      <th>8</th>\n      <td>9</td>\n      <td>2</td>\n      <td>-0.7</td>\n      <td>-3.2</td>\n      <td>1.700000</td>\n      <td>0.800000</td>\n      <td>1.2</td>\n    </tr>\n    <tr>\n      <th>9</th>\n      <td>10</td>\n      <td>2</td>\n      <td>-0.5</td>\n      <td>-3.5</td>\n      <td>1.900000</td>\n      <td>1.000000</td>\n      <td>1.4</td>\n    </tr>\n    <tr>\n      <th>10</th>\n      <td>11</td>\n      <td>3</td>\n      <td>1.2</td>\n      <td>-1.2</td>\n      <td>0.700000</td>\n      <td>-0.300000</td>\n      <td>-2.8</td>\n    </tr>\n    <tr>\n      <th>11</th>\n      <td>12</td>\n      <td>3</td>\n      <td>1.1</td>\n      <td>-1.1</td>\n      <td>0.800000</td>\n      <td>-0.400000</td>\n      <td>-2.9</td>\n    </tr>\n    <tr>\n      <th>12</th>\n      <td>13</td>\n      <td>3</td>\n      <td>1.0</td>\n      <td>-1.0</td>\n      <td>0.844444</td>\n      <td>-0.444444</td>\n      <td>-3.0</td>\n    </tr>\n    <tr>\n      <th>13</th>\n      <td>14</td>\n      <td>3</td>\n      <td>0.9</td>\n      <td>-0.9</td>\n      <td>0.850000</td>\n      <td>-0.450000</td>\n      <td>-3.1</td>\n    </tr>\n    <tr>\n      <th>14</th>\n      <td>15</td>\n      <td>3</td>\n      <td>0.8</td>\n      <td>-0.8</td>\n      <td>0.900000</td>\n      <td>-0.500000</td>\n      <td>-3.2</td>\n    </tr>\n  </tbody>\n</table>\n</div>"
     },
     "execution_count": 2,
     "metadata": {},
     "output_type": "execute_result"
    }
   ],
   "source": [
    "input_formal_model"
   ],
   "metadata": {
    "collapsed": false,
    "ExecuteTime": {
     "end_time": "2023-11-29T17:59:23.941226600Z",
     "start_time": "2023-11-29T17:59:23.903198200Z"
    }
   },
   "id": "a4bf3067abb75f37"
  },
  {
   "cell_type": "markdown",
   "source": [
    "## 2. Multi-dimensional scaling"
   ],
   "metadata": {
    "collapsed": false
   },
   "id": "e695dfea778f3996"
  },
  {
   "cell_type": "code",
   "execution_count": 3,
   "outputs": [],
   "source": [
    "# Extract the necessary subtables\n",
    "formal_model_features = input_formal_model.drop('Target', axis=1).drop('ID', axis=1)\n",
    "formal_model_with_id = input_formal_model.drop('Target', axis=1)\n",
    "formal_model_id = input_formal_model['ID']\n",
    "formal_model_target = input_formal_model['Target']\n",
    "\n",
    "# Standardize the data\n",
    "scaler = StandardScaler()\n",
    "X_scaled = scaler.fit_transform(formal_model_features)\n",
    "\n",
    "# Apply MDS to reduce the dimensions to 2\n",
    "mds = MDS(n_components=2, normalized_stress='auto')\n",
    "X_mds = mds.fit_transform(X_scaled)\n",
    "\n",
    "# Convert the reduced data back to a pandas DataFrame\n",
    "formal_model_reduced = pd.DataFrame(X_mds, columns=[\"x1\", \"x2\"])\n"
   ],
   "metadata": {
    "collapsed": false,
    "ExecuteTime": {
     "end_time": "2023-11-29T17:59:24.008711600Z",
     "start_time": "2023-11-29T17:59:23.935202400Z"
    }
   },
   "id": "f65e9e1eb4935bbd"
  },
  {
   "cell_type": "code",
   "execution_count": 4,
   "outputs": [
    {
     "data": {
      "text/plain": "    ID   f1   f2        f3        f4   f5\n0    1  2.8 -1.8 -2.800000  1.300000  0.4\n1    2  2.9 -1.9 -2.900000  1.400000  0.5\n2    3  3.0 -2.0 -3.000000  1.500000  0.6\n3    4  3.1 -2.1 -3.100000  1.600000  0.7\n4    5  3.2 -2.2 -3.200000  1.700000  0.8\n5    6 -1.6 -2.5  1.500000  0.200000  0.6\n6    7 -1.3 -2.7  1.300000  0.400000  0.8\n7    8 -1.0 -3.0  1.500000  0.600000  1.0\n8    9 -0.7 -3.2  1.700000  0.800000  1.2\n9   10 -0.5 -3.5  1.900000  1.000000  1.4\n10  11  1.2 -1.2  0.700000 -0.300000 -2.8\n11  12  1.1 -1.1  0.800000 -0.400000 -2.9\n12  13  1.0 -1.0  0.844444 -0.444444 -3.0\n13  14  0.9 -0.9  0.850000 -0.450000 -3.1\n14  15  0.8 -0.8  0.900000 -0.500000 -3.2",
      "text/html": "<div>\n<style scoped>\n    .dataframe tbody tr th:only-of-type {\n        vertical-align: middle;\n    }\n\n    .dataframe tbody tr th {\n        vertical-align: top;\n    }\n\n    .dataframe thead th {\n        text-align: right;\n    }\n</style>\n<table border=\"1\" class=\"dataframe\">\n  <thead>\n    <tr style=\"text-align: right;\">\n      <th></th>\n      <th>ID</th>\n      <th>f1</th>\n      <th>f2</th>\n      <th>f3</th>\n      <th>f4</th>\n      <th>f5</th>\n    </tr>\n  </thead>\n  <tbody>\n    <tr>\n      <th>0</th>\n      <td>1</td>\n      <td>2.8</td>\n      <td>-1.8</td>\n      <td>-2.800000</td>\n      <td>1.300000</td>\n      <td>0.4</td>\n    </tr>\n    <tr>\n      <th>1</th>\n      <td>2</td>\n      <td>2.9</td>\n      <td>-1.9</td>\n      <td>-2.900000</td>\n      <td>1.400000</td>\n      <td>0.5</td>\n    </tr>\n    <tr>\n      <th>2</th>\n      <td>3</td>\n      <td>3.0</td>\n      <td>-2.0</td>\n      <td>-3.000000</td>\n      <td>1.500000</td>\n      <td>0.6</td>\n    </tr>\n    <tr>\n      <th>3</th>\n      <td>4</td>\n      <td>3.1</td>\n      <td>-2.1</td>\n      <td>-3.100000</td>\n      <td>1.600000</td>\n      <td>0.7</td>\n    </tr>\n    <tr>\n      <th>4</th>\n      <td>5</td>\n      <td>3.2</td>\n      <td>-2.2</td>\n      <td>-3.200000</td>\n      <td>1.700000</td>\n      <td>0.8</td>\n    </tr>\n    <tr>\n      <th>5</th>\n      <td>6</td>\n      <td>-1.6</td>\n      <td>-2.5</td>\n      <td>1.500000</td>\n      <td>0.200000</td>\n      <td>0.6</td>\n    </tr>\n    <tr>\n      <th>6</th>\n      <td>7</td>\n      <td>-1.3</td>\n      <td>-2.7</td>\n      <td>1.300000</td>\n      <td>0.400000</td>\n      <td>0.8</td>\n    </tr>\n    <tr>\n      <th>7</th>\n      <td>8</td>\n      <td>-1.0</td>\n      <td>-3.0</td>\n      <td>1.500000</td>\n      <td>0.600000</td>\n      <td>1.0</td>\n    </tr>\n    <tr>\n      <th>8</th>\n      <td>9</td>\n      <td>-0.7</td>\n      <td>-3.2</td>\n      <td>1.700000</td>\n      <td>0.800000</td>\n      <td>1.2</td>\n    </tr>\n    <tr>\n      <th>9</th>\n      <td>10</td>\n      <td>-0.5</td>\n      <td>-3.5</td>\n      <td>1.900000</td>\n      <td>1.000000</td>\n      <td>1.4</td>\n    </tr>\n    <tr>\n      <th>10</th>\n      <td>11</td>\n      <td>1.2</td>\n      <td>-1.2</td>\n      <td>0.700000</td>\n      <td>-0.300000</td>\n      <td>-2.8</td>\n    </tr>\n    <tr>\n      <th>11</th>\n      <td>12</td>\n      <td>1.1</td>\n      <td>-1.1</td>\n      <td>0.800000</td>\n      <td>-0.400000</td>\n      <td>-2.9</td>\n    </tr>\n    <tr>\n      <th>12</th>\n      <td>13</td>\n      <td>1.0</td>\n      <td>-1.0</td>\n      <td>0.844444</td>\n      <td>-0.444444</td>\n      <td>-3.0</td>\n    </tr>\n    <tr>\n      <th>13</th>\n      <td>14</td>\n      <td>0.9</td>\n      <td>-0.9</td>\n      <td>0.850000</td>\n      <td>-0.450000</td>\n      <td>-3.1</td>\n    </tr>\n    <tr>\n      <th>14</th>\n      <td>15</td>\n      <td>0.8</td>\n      <td>-0.8</td>\n      <td>0.900000</td>\n      <td>-0.500000</td>\n      <td>-3.2</td>\n    </tr>\n  </tbody>\n</table>\n</div>"
     },
     "execution_count": 4,
     "metadata": {},
     "output_type": "execute_result"
    }
   ],
   "source": [
    "formal_model_with_id.to_csv('formal_model_with_id.csv', index=False)\n",
    "formal_model_with_id"
   ],
   "metadata": {
    "collapsed": false,
    "ExecuteTime": {
     "end_time": "2023-11-29T17:59:24.009712200Z",
     "start_time": "2023-11-29T17:59:23.965198600Z"
    }
   },
   "id": "4c53631ef3401b86"
  },
  {
   "cell_type": "markdown",
   "source": [
    "## 3. Visual analytics"
   ],
   "metadata": {
    "collapsed": false
   },
   "id": "e5da81fd32728ac3"
  },
  {
   "cell_type": "code",
   "execution_count": 5,
   "outputs": [],
   "source": [
    "def interpolate_coordinates(x_1, x_n, n):\n",
    "    \"\"\"\n",
    "    This function calculates the values of the interpolate_coordinates\n",
    "    of a line based on its first and last coordinates.\n",
    "    :param x_1:\n",
    "    :param x_n:\n",
    "    :param n:\n",
    "    :return:\n",
    "    \"\"\"\n",
    "    # Ensure n is greater than 1 to avoid division by zero\n",
    "    if n <= 1:\n",
    "        raise ValueError(\"n must be greater than 1 to calculate intermediate points.\")\n",
    "\n",
    "    # List to hold all the coordinates including the first and the last\n",
    "    inter_coordinates = []\n",
    "\n",
    "    # Calculate each intermediate coordinate\n",
    "    for i in range(0, n):\n",
    "        x_i = x_1 + ((x_n - x_1) * i) / (n - 1)\n",
    "        inter_coordinates.append(x_i)\n",
    "\n",
    "    return inter_coordinates\n"
   ],
   "metadata": {
    "collapsed": false,
    "ExecuteTime": {
     "end_time": "2023-11-29T17:59:24.011711800Z",
     "start_time": "2023-11-29T17:59:23.982203800Z"
    }
   },
   "id": "41b41a730c5cf71b"
  },
  {
   "cell_type": "code",
   "execution_count": 28,
   "outputs": [
    {
     "data": {
      "text/plain": "     x1   x2\n0  3.00 -1.0\n1  1.75 -0.5\n2  0.50  0.0\n3 -0.75  0.5\n4 -2.00  1.0",
      "text/html": "<div>\n<style scoped>\n    .dataframe tbody tr th:only-of-type {\n        vertical-align: middle;\n    }\n\n    .dataframe tbody tr th {\n        vertical-align: top;\n    }\n\n    .dataframe thead th {\n        text-align: right;\n    }\n</style>\n<table border=\"1\" class=\"dataframe\">\n  <thead>\n    <tr style=\"text-align: right;\">\n      <th></th>\n      <th>x1</th>\n      <th>x2</th>\n    </tr>\n  </thead>\n  <tbody>\n    <tr>\n      <th>0</th>\n      <td>3.00</td>\n      <td>-1.0</td>\n    </tr>\n    <tr>\n      <th>1</th>\n      <td>1.75</td>\n      <td>-0.5</td>\n    </tr>\n    <tr>\n      <th>2</th>\n      <td>0.50</td>\n      <td>0.0</td>\n    </tr>\n    <tr>\n      <th>3</th>\n      <td>-0.75</td>\n      <td>0.5</td>\n    </tr>\n    <tr>\n      <th>4</th>\n      <td>-2.00</td>\n      <td>1.0</td>\n    </tr>\n  </tbody>\n</table>\n</div>"
     },
     "execution_count": 28,
     "metadata": {},
     "output_type": "execute_result"
    }
   ],
   "source": [
    "x_1_first = 3\n",
    "x_1_last = -2\n",
    "x_2_first = -1\n",
    "x_2_last = 1\n",
    "num_points = 5\n",
    "\n",
    "x_1_inter_coordinates = interpolate_coordinates(x_1_first, x_1_last, num_points)\n",
    "x_2_inter_coordinates = interpolate_coordinates(x_2_first, x_2_last, num_points)\n",
    "# print(x_1_inter_coordinates)\n",
    "# print(x_2_inter_coordinates)\n",
    "\n",
    "# Create a DataFrame from the coordinates\n",
    "coordinates_df = pd.DataFrame({'x1': x_1_inter_coordinates, 'x2': x_2_inter_coordinates})\n",
    "coordinates_df\n"
   ],
   "metadata": {
    "collapsed": false,
    "ExecuteTime": {
     "end_time": "2023-11-29T18:01:23.475317800Z",
     "start_time": "2023-11-29T18:01:23.356802100Z"
    }
   },
   "id": "966d400b47e30a90"
  },
  {
   "cell_type": "code",
   "execution_count": 29,
   "outputs": [
    {
     "data": {
      "text/plain": "<Figure size 1000x600 with 1 Axes>",
      "image/png": "[encoded data removed]"
     },
     "metadata": {},
     "output_type": "display_data"
    }
   ],
   "source": [
    "import matplotlib.pyplot as plt\n",
    "\n",
    "# Include class colors and a legend\n",
    "colors = {1: 'red', 2: 'green', 3: 'blue'}  # Assigning colors to each class\n",
    "\n",
    "plt.figure(figsize=(10, 6))\n",
    "\n",
    "# Iterate over each class and plot each class with a different color\n",
    "for cls in input_formal_model['Target'].unique():\n",
    "    cls_data = formal_model_reduced[input_formal_model['Target'] == cls]\n",
    "    plt.scatter(cls_data['x1'], cls_data['x2'], s=100, edgecolor='k', color=colors[cls], label=f'Class {cls}')\n",
    "\n",
    "# Annotate points with ID\n",
    "for i, txt in enumerate(input_formal_model['ID']):\n",
    "    plt.annotate(txt, (formal_model_reduced['x1'].iloc[i], formal_model_reduced['x2'].iloc[i]), fontsize=9)\n",
    "\n",
    "# Draw the separating line\n",
    "line_x1 = coordinates_df['x1'].tolist()\n",
    "line_x2 = coordinates_df['x2'].tolist()\n",
    "plt.plot(line_x1, line_x2, 'ro-')\n",
    "\n",
    "plt.xlabel(\"X 1\")\n",
    "plt.ylabel(\"X 2\")\n",
    "plt.title(f\"2D MDS Reduction of {'input_formal_model'}\")\n",
    "plt.grid(True)\n",
    "plt.legend()\n",
    "plt.tight_layout()\n",
    "plt.show()\n"
   ],
   "metadata": {
    "collapsed": false,
    "ExecuteTime": {
     "end_time": "2023-11-29T18:01:23.726061800Z",
     "start_time": "2023-11-29T18:01:23.458317500Z"
    }
   },
   "id": "da6d2e8262c65420"
  },
  {
   "cell_type": "markdown",
   "source": [
    "## 4. Calculate Transition Matrix"
   ],
   "metadata": {
    "collapsed": false
   },
   "id": "ebc5f8d71f9e871e"
  },
  {
   "cell_type": "markdown",
   "source": [
    "### 3.1. Singular Value Decomposition (SVD)"
   ],
   "metadata": {
    "collapsed": false
   },
   "id": "ef465326b3763a84"
  },
  {
   "cell_type": "code",
   "execution_count": 30,
   "outputs": [],
   "source": [
    "# Receive values from the matrix A DataFrame \n",
    "formal_model_reduced_values = formal_model_reduced.values\n",
    "\n",
    "# Calculate SVD\n",
    "U, s, Vt = np.linalg.svd(formal_model_reduced_values)\n",
    "\n",
    "# Construct the full diagonal matrix\n",
    "S = np.zeros(formal_model_reduced_values.shape)\n",
    "for i in range(min(formal_model_reduced_values.shape)):\n",
    "    S[i, i] = s[i]\n",
    "\n",
    "# print(\"U:\\n\", U)\n",
    "# print(\"\\nS:\\n\", S)\n",
    "# print(\"\\nVt:\\n\", Vt)\n"
   ],
   "metadata": {
    "collapsed": false,
    "ExecuteTime": {
     "end_time": "2023-11-29T18:01:23.727062100Z",
     "start_time": "2023-11-29T18:01:23.693061300Z"
    }
   },
   "id": "c9b16087dcd6299f"
  },
  {
   "cell_type": "markdown",
   "source": [
    "### 3.2. Create the reconstructed matrix of SVD"
   ],
   "metadata": {
    "collapsed": false
   },
   "id": "20ecf1e1d1743431"
  },
  {
   "cell_type": "code",
   "execution_count": 31,
   "outputs": [],
   "source": [
    "# Recompute the original matrix using U, S, and Vt\n",
    "reconstructed_matrix = U.dot(S.dot(Vt))\n",
    "\n",
    "# Convert the reconstructed matrix to a pandas DataFrame, if desired\n",
    "reconstructed_df = pd.DataFrame(reconstructed_matrix)\n"
   ],
   "metadata": {
    "collapsed": false,
    "ExecuteTime": {
     "end_time": "2023-11-29T18:01:23.819570600Z",
     "start_time": "2023-11-29T18:01:23.707059800Z"
    }
   },
   "id": "300dbbed7537914f"
  },
  {
   "cell_type": "code",
   "execution_count": 32,
   "outputs": [
    {
     "data": {
      "text/plain": "           0         1\n0  -1.987227 -0.042472\n1  -2.112139 -0.183727\n2  -2.236897 -0.327238\n3  -2.364787 -0.466549\n4  -2.490366 -0.611700\n5   1.687029 -1.051326\n6   1.368949 -1.297551\n7   1.177494 -1.682636\n8   0.995173 -1.999200\n9   0.866744 -2.418957\n10  0.825209  1.778735\n11  0.955429  1.910092\n12  1.037855  2.023783\n13  1.100025  2.122625\n14  1.177510  2.246121",
      "text/html": "<div>\n<style scoped>\n    .dataframe tbody tr th:only-of-type {\n        vertical-align: middle;\n    }\n\n    .dataframe tbody tr th {\n        vertical-align: top;\n    }\n\n    .dataframe thead th {\n        text-align: right;\n    }\n</style>\n<table border=\"1\" class=\"dataframe\">\n  <thead>\n    <tr style=\"text-align: right;\">\n      <th></th>\n      <th>0</th>\n      <th>1</th>\n    </tr>\n  </thead>\n  <tbody>\n    <tr>\n      <th>0</th>\n      <td>-1.987227</td>\n      <td>-0.042472</td>\n    </tr>\n    <tr>\n      <th>1</th>\n      <td>-2.112139</td>\n      <td>-0.183727</td>\n    </tr>\n    <tr>\n      <th>2</th>\n      <td>-2.236897</td>\n      <td>-0.327238</td>\n    </tr>\n    <tr>\n      <th>3</th>\n      <td>-2.364787</td>\n      <td>-0.466549</td>\n    </tr>\n    <tr>\n      <th>4</th>\n      <td>-2.490366</td>\n      <td>-0.611700</td>\n    </tr>\n    <tr>\n      <th>5</th>\n      <td>1.687029</td>\n      <td>-1.051326</td>\n    </tr>\n    <tr>\n      <th>6</th>\n      <td>1.368949</td>\n      <td>-1.297551</td>\n    </tr>\n    <tr>\n      <th>7</th>\n      <td>1.177494</td>\n      <td>-1.682636</td>\n    </tr>\n    <tr>\n      <th>8</th>\n      <td>0.995173</td>\n      <td>-1.999200</td>\n    </tr>\n    <tr>\n      <th>9</th>\n      <td>0.866744</td>\n      <td>-2.418957</td>\n    </tr>\n    <tr>\n      <th>10</th>\n      <td>0.825209</td>\n      <td>1.778735</td>\n    </tr>\n    <tr>\n      <th>11</th>\n      <td>0.955429</td>\n      <td>1.910092</td>\n    </tr>\n    <tr>\n      <th>12</th>\n      <td>1.037855</td>\n      <td>2.023783</td>\n    </tr>\n    <tr>\n      <th>13</th>\n      <td>1.100025</td>\n      <td>2.122625</td>\n    </tr>\n    <tr>\n      <th>14</th>\n      <td>1.177510</td>\n      <td>2.246121</td>\n    </tr>\n  </tbody>\n</table>\n</div>"
     },
     "execution_count": 32,
     "metadata": {},
     "output_type": "execute_result"
    }
   ],
   "source": [
    "reconstructed_df"
   ],
   "metadata": {
    "collapsed": false,
    "ExecuteTime": {
     "end_time": "2023-11-29T18:01:23.824575200Z",
     "start_time": "2023-11-29T18:01:23.723061500Z"
    }
   },
   "id": "c855a3fcf677b065"
  },
  {
   "cell_type": "code",
   "execution_count": 33,
   "outputs": [
    {
     "data": {
      "text/plain": "          x1        x2\n0  -1.987227 -0.042472\n1  -2.112139 -0.183727\n2  -2.236897 -0.327238\n3  -2.364787 -0.466549\n4  -2.490366 -0.611700\n5   1.687029 -1.051326\n6   1.368949 -1.297551\n7   1.177494 -1.682636\n8   0.995173 -1.999200\n9   0.866744 -2.418957\n10  0.825209  1.778735\n11  0.955429  1.910092\n12  1.037855  2.023783\n13  1.100025  2.122625\n14  1.177510  2.246121",
      "text/html": "<div>\n<style scoped>\n    .dataframe tbody tr th:only-of-type {\n        vertical-align: middle;\n    }\n\n    .dataframe tbody tr th {\n        vertical-align: top;\n    }\n\n    .dataframe thead th {\n        text-align: right;\n    }\n</style>\n<table border=\"1\" class=\"dataframe\">\n  <thead>\n    <tr style=\"text-align: right;\">\n      <th></th>\n      <th>x1</th>\n      <th>x2</th>\n    </tr>\n  </thead>\n  <tbody>\n    <tr>\n      <th>0</th>\n      <td>-1.987227</td>\n      <td>-0.042472</td>\n    </tr>\n    <tr>\n      <th>1</th>\n      <td>-2.112139</td>\n      <td>-0.183727</td>\n    </tr>\n    <tr>\n      <th>2</th>\n      <td>-2.236897</td>\n      <td>-0.327238</td>\n    </tr>\n    <tr>\n      <th>3</th>\n      <td>-2.364787</td>\n      <td>-0.466549</td>\n    </tr>\n    <tr>\n      <th>4</th>\n      <td>-2.490366</td>\n      <td>-0.611700</td>\n    </tr>\n    <tr>\n      <th>5</th>\n      <td>1.687029</td>\n      <td>-1.051326</td>\n    </tr>\n    <tr>\n      <th>6</th>\n      <td>1.368949</td>\n      <td>-1.297551</td>\n    </tr>\n    <tr>\n      <th>7</th>\n      <td>1.177494</td>\n      <td>-1.682636</td>\n    </tr>\n    <tr>\n      <th>8</th>\n      <td>0.995173</td>\n      <td>-1.999200</td>\n    </tr>\n    <tr>\n      <th>9</th>\n      <td>0.866744</td>\n      <td>-2.418957</td>\n    </tr>\n    <tr>\n      <th>10</th>\n      <td>0.825209</td>\n      <td>1.778735</td>\n    </tr>\n    <tr>\n      <th>11</th>\n      <td>0.955429</td>\n      <td>1.910092</td>\n    </tr>\n    <tr>\n      <th>12</th>\n      <td>1.037855</td>\n      <td>2.023783</td>\n    </tr>\n    <tr>\n      <th>13</th>\n      <td>1.100025</td>\n      <td>2.122625</td>\n    </tr>\n    <tr>\n      <th>14</th>\n      <td>1.177510</td>\n      <td>2.246121</td>\n    </tr>\n  </tbody>\n</table>\n</div>"
     },
     "execution_count": 33,
     "metadata": {},
     "output_type": "execute_result"
    }
   ],
   "source": [
    "formal_model_reduced"
   ],
   "metadata": {
    "collapsed": false,
    "ExecuteTime": {
     "end_time": "2023-11-29T18:01:23.845870200Z",
     "start_time": "2023-11-29T18:01:23.737571Z"
    }
   },
   "id": "81f9ceb900efd47d"
  },
  {
   "cell_type": "markdown",
   "source": [
    "### 3.3. Calculate the generalized inverse of input matrix"
   ],
   "metadata": {
    "collapsed": false
   },
   "id": "e22636c4bc2289d4"
  },
  {
   "cell_type": "code",
   "execution_count": 34,
   "outputs": [],
   "source": [
    "# Calculate the generalized (Moore-Penrose) inverse\n",
    "formal_model_reduced_pinv = np.linalg.pinv(formal_model_reduced_values)\n",
    "\n",
    "# Convert to a pandas DataFrame\n",
    "formal_model_reduced_pinv_df = pd.DataFrame(formal_model_reduced_pinv)"
   ],
   "metadata": {
    "collapsed": false,
    "ExecuteTime": {
     "end_time": "2023-11-29T18:01:23.879904700Z",
     "start_time": "2023-11-29T18:01:23.753569900Z"
    }
   },
   "id": "d82d42f8951a5a24"
  },
  {
   "cell_type": "code",
   "execution_count": 35,
   "outputs": [
    {
     "data": {
      "text/plain": "         0         1         2         3         4         5         6   \\\n0 -0.052501 -0.055342 -0.058171 -0.061097 -0.063943  0.048174  0.040564   \n1  0.005410  0.001912 -0.001648 -0.005082 -0.008685 -0.034704 -0.040468   \n\n         7         8         9         10        11        12        13  \\\n0  0.036768  0.032988  0.030977  0.015965  0.018979  0.020786  0.022105   \n1 -0.050497 -0.058658 -0.069856  0.046520  0.049726  0.052601  0.055132   \n\n         14  \n0  0.023748  \n1  0.058295  ",
      "text/html": "<div>\n<style scoped>\n    .dataframe tbody tr th:only-of-type {\n        vertical-align: middle;\n    }\n\n    .dataframe tbody tr th {\n        vertical-align: top;\n    }\n\n    .dataframe thead th {\n        text-align: right;\n    }\n</style>\n<table border=\"1\" class=\"dataframe\">\n  <thead>\n    <tr style=\"text-align: right;\">\n      <th></th>\n      <th>0</th>\n      <th>1</th>\n      <th>2</th>\n      <th>3</th>\n      <th>4</th>\n      <th>5</th>\n      <th>6</th>\n      <th>7</th>\n      <th>8</th>\n      <th>9</th>\n      <th>10</th>\n      <th>11</th>\n      <th>12</th>\n      <th>13</th>\n      <th>14</th>\n    </tr>\n  </thead>\n  <tbody>\n    <tr>\n      <th>0</th>\n      <td>-0.052501</td>\n      <td>-0.055342</td>\n      <td>-0.058171</td>\n      <td>-0.061097</td>\n      <td>-0.063943</td>\n      <td>0.048174</td>\n      <td>0.040564</td>\n      <td>0.036768</td>\n      <td>0.032988</td>\n      <td>0.030977</td>\n      <td>0.015965</td>\n      <td>0.018979</td>\n      <td>0.020786</td>\n      <td>0.022105</td>\n      <td>0.023748</td>\n    </tr>\n    <tr>\n      <th>1</th>\n      <td>0.005410</td>\n      <td>0.001912</td>\n      <td>-0.001648</td>\n      <td>-0.005082</td>\n      <td>-0.008685</td>\n      <td>-0.034704</td>\n      <td>-0.040468</td>\n      <td>-0.050497</td>\n      <td>-0.058658</td>\n      <td>-0.069856</td>\n      <td>0.046520</td>\n      <td>0.049726</td>\n      <td>0.052601</td>\n      <td>0.055132</td>\n      <td>0.058295</td>\n    </tr>\n  </tbody>\n</table>\n</div>"
     },
     "execution_count": 35,
     "metadata": {},
     "output_type": "execute_result"
    }
   ],
   "source": [
    "formal_model_reduced_pinv_df"
   ],
   "metadata": {
    "collapsed": false,
    "ExecuteTime": {
     "end_time": "2023-11-29T18:01:23.880897600Z",
     "start_time": "2023-11-29T18:01:23.769572900Z"
    }
   },
   "id": "f723de97150d5c16"
  },
  {
   "cell_type": "markdown",
   "source": [
    "### 3.4. Calculate transition matrix T"
   ],
   "metadata": {
    "collapsed": false
   },
   "id": "ae217465b26b7db8"
  },
  {
   "cell_type": "code",
   "execution_count": 36,
   "outputs": [],
   "source": [
    "transition_matrix_T = formal_model_reduced_pinv_df.dot(formal_model_features)"
   ],
   "metadata": {
    "collapsed": false,
    "ExecuteTime": {
     "end_time": "2023-11-29T18:01:23.881897600Z",
     "start_time": "2023-11-29T18:01:23.785571800Z"
    }
   },
   "id": "41df41ba6680071d"
  },
  {
   "cell_type": "code",
   "execution_count": 37,
   "outputs": [
    {
     "data": {
      "text/plain": "         f1        f2        f3        f4        f5\n0 -0.981472 -0.068985  1.255182 -0.377597 -0.303038\n1  0.466202  0.540041 -0.168964 -0.297050 -1.069980",
      "text/html": "<div>\n<style scoped>\n    .dataframe tbody tr th:only-of-type {\n        vertical-align: middle;\n    }\n\n    .dataframe tbody tr th {\n        vertical-align: top;\n    }\n\n    .dataframe thead th {\n        text-align: right;\n    }\n</style>\n<table border=\"1\" class=\"dataframe\">\n  <thead>\n    <tr style=\"text-align: right;\">\n      <th></th>\n      <th>f1</th>\n      <th>f2</th>\n      <th>f3</th>\n      <th>f4</th>\n      <th>f5</th>\n    </tr>\n  </thead>\n  <tbody>\n    <tr>\n      <th>0</th>\n      <td>-0.981472</td>\n      <td>-0.068985</td>\n      <td>1.255182</td>\n      <td>-0.377597</td>\n      <td>-0.303038</td>\n    </tr>\n    <tr>\n      <th>1</th>\n      <td>0.466202</td>\n      <td>0.540041</td>\n      <td>-0.168964</td>\n      <td>-0.297050</td>\n      <td>-1.069980</td>\n    </tr>\n  </tbody>\n</table>\n</div>"
     },
     "execution_count": 37,
     "metadata": {},
     "output_type": "execute_result"
    }
   ],
   "source": [
    "transition_matrix_T"
   ],
   "metadata": {
    "collapsed": false,
    "ExecuteTime": {
     "end_time": "2023-11-29T18:01:23.881897600Z",
     "start_time": "2023-11-29T18:01:23.801571800Z"
    }
   },
   "id": "481f9ce7d7ea80a6"
  },
  {
   "cell_type": "markdown",
   "source": [
    "## 4. Create Hyperplane"
   ],
   "metadata": {
    "collapsed": false
   },
   "id": "63707c7d6fa3b351"
  },
  {
   "cell_type": "code",
   "execution_count": 38,
   "outputs": [],
   "source": [
    "coordinates_hyperplane_df = coordinates_df.values @ transition_matrix_T.values"
   ],
   "metadata": {
    "collapsed": false,
    "ExecuteTime": {
     "end_time": "2023-11-29T18:01:23.907866200Z",
     "start_time": "2023-11-29T18:01:23.818570300Z"
    }
   },
   "id": "af020167e0a630b2"
  },
  {
   "cell_type": "code",
   "execution_count": 39,
   "outputs": [
    {
     "data": {
      "text/plain": "array([[-3.41061797, -0.74699486,  3.93451061, -0.83574145,  0.16086663],\n       [-1.950677  , -0.39074362,  2.28105086, -0.51226998,  0.00467387],\n       [-0.49073604, -0.03449237,  0.62759111, -0.18879851, -0.1515189 ],\n       [ 0.96920493,  0.32175887, -1.02586865,  0.13467296, -0.30771167],\n       [ 2.4291459 ,  0.67801012, -2.6793284 ,  0.45814444, -0.46390444]])"
     },
     "execution_count": 39,
     "metadata": {},
     "output_type": "execute_result"
    }
   ],
   "source": [
    "coordinates_hyperplane_df"
   ],
   "metadata": {
    "collapsed": false,
    "ExecuteTime": {
     "end_time": "2023-11-29T18:01:23.921872300Z",
     "start_time": "2023-11-29T18:01:23.835868200Z"
    }
   },
   "id": "a49ccb2f95c82aa4"
  },
  {
   "cell_type": "code",
   "execution_count": 40,
   "outputs": [
    {
     "data": {
      "text/plain": "array([[ 1.        , -3.41061797, -0.74699486,  3.93451061, -0.83574145,\n         0.16086663],\n       [ 1.        , -1.950677  , -0.39074362,  2.28105086, -0.51226998,\n         0.00467387],\n       [ 1.        , -0.49073604, -0.03449237,  0.62759111, -0.18879851,\n        -0.1515189 ],\n       [ 1.        ,  0.96920493,  0.32175887, -1.02586865,  0.13467296,\n        -0.30771167],\n       [ 1.        ,  2.4291459 ,  0.67801012, -2.6793284 ,  0.45814444,\n        -0.46390444]])"
     },
     "execution_count": 40,
     "metadata": {},
     "output_type": "execute_result"
    }
   ],
   "source": [
    "# Adding a new column with all values set to 1\n",
    "new_column = np.ones((coordinates_hyperplane_df.shape[0], 1))\n",
    "feature_vector_inverse = np.hstack((new_column, coordinates_hyperplane_df))\n",
    "\n",
    "feature_vector_inverse"
   ],
   "metadata": {
    "collapsed": false,
    "ExecuteTime": {
     "end_time": "2023-11-29T18:01:24.013387Z",
     "start_time": "2023-11-29T18:01:23.887868100Z"
    }
   },
   "id": "e1f055e528cfd8f"
  },
  {
   "cell_type": "code",
   "execution_count": 41,
   "outputs": [
    {
     "name": "stdout",
     "output_type": "stream",
     "text": [
      "Optimization terminated successfully    (Exit mode 0)\n",
      "            Current function value: 1.5985675909796764e-06\n",
      "            Iterations: 10\n",
      "            Function evaluations: 110\n",
      "            Gradient evaluations: 10\n",
      "Optimization was successful. The weights are:\n",
      "      weight\n",
      "w0 -0.000091\n",
      "w1 -0.000331\n",
      "w2 -0.000318\n",
      "w3 -0.000407\n",
      "w4 -0.000491\n",
      "w5 -0.000526\n",
      "\n",
      "Value of the optimization criteria (objective function value): 1.5985675909796764e-06\n",
      "\n",
      "Convergence status: Optimization terminated successfully\n"
     ]
    }
   ],
   "source": [
    "# Optimization criteria function\n",
    "def optimization_criteria(W, X):\n",
    "    return np.sum(np.abs(X.dot(W.T)))\n",
    "\n",
    "# Initial guess (starting point for the optimization algorithm)\n",
    "weights_inverse_initial = np.zeros(feature_vector_inverse.shape[1])\n",
    "\n",
    "# Bounds for W (setting it between -1 and 1)\n",
    "bounds = [(-1, 1) for _ in range(feature_vector_inverse.shape[1])]\n",
    "\n",
    "# The actual optimization\n",
    "res = minimize(\n",
    "    optimization_criteria,\n",
    "    weights_inverse_initial,\n",
    "    args=(feature_vector_inverse,),\n",
    "    method='SLSQP',\n",
    "    bounds=bounds,\n",
    "    options={'disp': True}\n",
    ")\n",
    "\n",
    "# Checking if the optimization was successful\n",
    "if res.success:\n",
    "    # Extract the weights into a DataFrame\n",
    "    weights_inverse_output = pd.DataFrame(res.x, index=[f'w{i}' for i in range(len(res.x))], columns=['weight'])\n",
    "\n",
    "    print(\"Optimization was successful. The weights are:\")\n",
    "    print(weights_inverse_output)\n",
    "\n",
    "    # Output the value of the optimization criteria\n",
    "    print(\"\\nValue of the optimization criteria (objective function value):\", res.fun)\n",
    "else:\n",
    "    print(\"Optimization failed.\")\n",
    "\n",
    "# Checking for convergence\n",
    "print(\"\\nConvergence status:\", res.message)\n"
   ],
   "metadata": {
    "collapsed": false,
    "ExecuteTime": {
     "end_time": "2023-11-29T18:01:24.146420200Z",
     "start_time": "2023-11-29T18:01:23.999389500Z"
    }
   },
   "id": "f5c5eee4c62ff7f6"
  },
  {
   "cell_type": "code",
   "execution_count": 42,
   "outputs": [
    {
     "data": {
      "text/plain": "      weight\nw0 -0.000091\nw1 -0.000331\nw2 -0.000318\nw3 -0.000407\nw4 -0.000491\nw5 -0.000526",
      "text/html": "<div>\n<style scoped>\n    .dataframe tbody tr th:only-of-type {\n        vertical-align: middle;\n    }\n\n    .dataframe tbody tr th {\n        vertical-align: top;\n    }\n\n    .dataframe thead th {\n        text-align: right;\n    }\n</style>\n<table border=\"1\" class=\"dataframe\">\n  <thead>\n    <tr style=\"text-align: right;\">\n      <th></th>\n      <th>weight</th>\n    </tr>\n  </thead>\n  <tbody>\n    <tr>\n      <th>w0</th>\n      <td>-0.000091</td>\n    </tr>\n    <tr>\n      <th>w1</th>\n      <td>-0.000331</td>\n    </tr>\n    <tr>\n      <th>w2</th>\n      <td>-0.000318</td>\n    </tr>\n    <tr>\n      <th>w3</th>\n      <td>-0.000407</td>\n    </tr>\n    <tr>\n      <th>w4</th>\n      <td>-0.000491</td>\n    </tr>\n    <tr>\n      <th>w5</th>\n      <td>-0.000526</td>\n    </tr>\n  </tbody>\n</table>\n</div>"
     },
     "execution_count": 42,
     "metadata": {},
     "output_type": "execute_result"
    }
   ],
   "source": [
    "weights_inverse_output"
   ],
   "metadata": {
    "collapsed": false,
    "ExecuteTime": {
     "end_time": "2023-11-29T18:01:24.260932300Z",
     "start_time": "2023-11-29T18:01:24.150419500Z"
    }
   },
   "id": "229473793e1f5f6d"
  },
  {
   "cell_type": "code",
   "execution_count": 43,
   "outputs": [
    {
     "data": {
      "text/plain": "     weight\n0 -0.000331\n1 -0.000318\n2 -0.000407\n3 -0.000491\n4 -0.000526\n5 -0.000091",
      "text/html": "<div>\n<style scoped>\n    .dataframe tbody tr th:only-of-type {\n        vertical-align: middle;\n    }\n\n    .dataframe tbody tr th {\n        vertical-align: top;\n    }\n\n    .dataframe thead th {\n        text-align: right;\n    }\n</style>\n<table border=\"1\" class=\"dataframe\">\n  <thead>\n    <tr style=\"text-align: right;\">\n      <th></th>\n      <th>weight</th>\n    </tr>\n  </thead>\n  <tbody>\n    <tr>\n      <th>0</th>\n      <td>-0.000331</td>\n    </tr>\n    <tr>\n      <th>1</th>\n      <td>-0.000318</td>\n    </tr>\n    <tr>\n      <th>2</th>\n      <td>-0.000407</td>\n    </tr>\n    <tr>\n      <th>3</th>\n      <td>-0.000491</td>\n    </tr>\n    <tr>\n      <th>4</th>\n      <td>-0.000526</td>\n    </tr>\n    <tr>\n      <th>5</th>\n      <td>-0.000091</td>\n    </tr>\n  </tbody>\n</table>\n</div>"
     },
     "execution_count": 43,
     "metadata": {},
     "output_type": "execute_result"
    }
   ],
   "source": [
    "# Reorder the weight vector so that w0 is at the end.\n",
    "weights_df_reordered = pd.concat([weights_inverse_output.iloc[1:], weights_inverse_output.iloc[0:1]]).reset_index(drop=True)\n",
    "\n",
    "# Show the modified DataFrame\n",
    "weights_df_reordered\n"
   ],
   "metadata": {
    "collapsed": false,
    "ExecuteTime": {
     "end_time": "2023-11-29T18:01:24.371444400Z",
     "start_time": "2023-11-29T18:01:24.210419200Z"
    }
   },
   "id": "fd4510816a331570"
  },
  {
   "cell_type": "code",
   "execution_count": 44,
   "outputs": [
    {
     "data": {
      "text/plain": "     f1   f2        f3        f4   f5  f0\n0   2.8 -1.8 -2.800000  1.300000  0.4   1\n1   2.9 -1.9 -2.900000  1.400000  0.5   1\n2   3.0 -2.0 -3.000000  1.500000  0.6   1\n3   3.1 -2.1 -3.100000  1.600000  0.7   1\n4   3.2 -2.2 -3.200000  1.700000  0.8   1\n5  -1.6 -2.5  1.500000  0.200000  0.6   1\n6  -1.3 -2.7  1.300000  0.400000  0.8   1\n7  -1.0 -3.0  1.500000  0.600000  1.0   1\n8  -0.7 -3.2  1.700000  0.800000  1.2   1\n9  -0.5 -3.5  1.900000  1.000000  1.4   1\n10  1.2 -1.2  0.700000 -0.300000 -2.8   1\n11  1.1 -1.1  0.800000 -0.400000 -2.9   1\n12  1.0 -1.0  0.844444 -0.444444 -3.0   1\n13  0.9 -0.9  0.850000 -0.450000 -3.1   1\n14  0.8 -0.8  0.900000 -0.500000 -3.2   1",
      "text/html": "<div>\n<style scoped>\n    .dataframe tbody tr th:only-of-type {\n        vertical-align: middle;\n    }\n\n    .dataframe tbody tr th {\n        vertical-align: top;\n    }\n\n    .dataframe thead th {\n        text-align: right;\n    }\n</style>\n<table border=\"1\" class=\"dataframe\">\n  <thead>\n    <tr style=\"text-align: right;\">\n      <th></th>\n      <th>f1</th>\n      <th>f2</th>\n      <th>f3</th>\n      <th>f4</th>\n      <th>f5</th>\n      <th>f0</th>\n    </tr>\n  </thead>\n  <tbody>\n    <tr>\n      <th>0</th>\n      <td>2.8</td>\n      <td>-1.8</td>\n      <td>-2.800000</td>\n      <td>1.300000</td>\n      <td>0.4</td>\n      <td>1</td>\n    </tr>\n    <tr>\n      <th>1</th>\n      <td>2.9</td>\n      <td>-1.9</td>\n      <td>-2.900000</td>\n      <td>1.400000</td>\n      <td>0.5</td>\n      <td>1</td>\n    </tr>\n    <tr>\n      <th>2</th>\n      <td>3.0</td>\n      <td>-2.0</td>\n      <td>-3.000000</td>\n      <td>1.500000</td>\n      <td>0.6</td>\n      <td>1</td>\n    </tr>\n    <tr>\n      <th>3</th>\n      <td>3.1</td>\n      <td>-2.1</td>\n      <td>-3.100000</td>\n      <td>1.600000</td>\n      <td>0.7</td>\n      <td>1</td>\n    </tr>\n    <tr>\n      <th>4</th>\n      <td>3.2</td>\n      <td>-2.2</td>\n      <td>-3.200000</td>\n      <td>1.700000</td>\n      <td>0.8</td>\n      <td>1</td>\n    </tr>\n    <tr>\n      <th>5</th>\n      <td>-1.6</td>\n      <td>-2.5</td>\n      <td>1.500000</td>\n      <td>0.200000</td>\n      <td>0.6</td>\n      <td>1</td>\n    </tr>\n    <tr>\n      <th>6</th>\n      <td>-1.3</td>\n      <td>-2.7</td>\n      <td>1.300000</td>\n      <td>0.400000</td>\n      <td>0.8</td>\n      <td>1</td>\n    </tr>\n    <tr>\n      <th>7</th>\n      <td>-1.0</td>\n      <td>-3.0</td>\n      <td>1.500000</td>\n      <td>0.600000</td>\n      <td>1.0</td>\n      <td>1</td>\n    </tr>\n    <tr>\n      <th>8</th>\n      <td>-0.7</td>\n      <td>-3.2</td>\n      <td>1.700000</td>\n      <td>0.800000</td>\n      <td>1.2</td>\n      <td>1</td>\n    </tr>\n    <tr>\n      <th>9</th>\n      <td>-0.5</td>\n      <td>-3.5</td>\n      <td>1.900000</td>\n      <td>1.000000</td>\n      <td>1.4</td>\n      <td>1</td>\n    </tr>\n    <tr>\n      <th>10</th>\n      <td>1.2</td>\n      <td>-1.2</td>\n      <td>0.700000</td>\n      <td>-0.300000</td>\n      <td>-2.8</td>\n      <td>1</td>\n    </tr>\n    <tr>\n      <th>11</th>\n      <td>1.1</td>\n      <td>-1.1</td>\n      <td>0.800000</td>\n      <td>-0.400000</td>\n      <td>-2.9</td>\n      <td>1</td>\n    </tr>\n    <tr>\n      <th>12</th>\n      <td>1.0</td>\n      <td>-1.0</td>\n      <td>0.844444</td>\n      <td>-0.444444</td>\n      <td>-3.0</td>\n      <td>1</td>\n    </tr>\n    <tr>\n      <th>13</th>\n      <td>0.9</td>\n      <td>-0.9</td>\n      <td>0.850000</td>\n      <td>-0.450000</td>\n      <td>-3.1</td>\n      <td>1</td>\n    </tr>\n    <tr>\n      <th>14</th>\n      <td>0.8</td>\n      <td>-0.8</td>\n      <td>0.900000</td>\n      <td>-0.500000</td>\n      <td>-3.2</td>\n      <td>1</td>\n    </tr>\n  </tbody>\n</table>\n</div>"
     },
     "execution_count": 44,
     "metadata": {},
     "output_type": "execute_result"
    }
   ],
   "source": [
    "# Create a new DataFrame with an additional column\n",
    "new_formal_model_features = formal_model_features.copy()\n",
    "new_formal_model_features['f0'] = 1\n",
    "new_formal_model_features\n"
   ],
   "metadata": {
    "collapsed": false,
    "ExecuteTime": {
     "end_time": "2023-11-29T18:01:24.506956300Z",
     "start_time": "2023-11-29T18:01:24.374443400Z"
    }
   },
   "id": "6c4bb7858af12496"
  },
  {
   "cell_type": "code",
   "execution_count": 45,
   "outputs": [],
   "source": [
    "# # Multiply the features by the weights\n",
    "my_result = new_formal_model_features.mul(weights_df_reordered['weight'].values, axis=1)\n",
    "\n",
    "# Sum along the rows to get the final single column for predictions\n",
    "my_predictions = my_result.sum(axis=1)\n",
    "\n",
    "# Convert the series to a data frame\n",
    "my_predictions_df = my_predictions.to_frame(name='Prediction')"
   ],
   "metadata": {
    "collapsed": false,
    "ExecuteTime": {
     "end_time": "2023-11-29T18:01:24.508959600Z",
     "start_time": "2023-11-29T18:01:24.403445100Z"
    }
   },
   "id": "c2f759c7f2967205"
  },
  {
   "cell_type": "code",
   "execution_count": 46,
   "outputs": [],
   "source": [
    "my_predictions_df = pd.concat([my_predictions_df, formal_model_target], axis=1)\n"
   ],
   "metadata": {
    "collapsed": false,
    "ExecuteTime": {
     "end_time": "2023-11-29T18:01:24.609478200Z",
     "start_time": "2023-11-29T18:01:24.512956700Z"
    }
   },
   "id": "9c176f0dcb5faa9c"
  },
  {
   "cell_type": "code",
   "execution_count": 47,
   "outputs": [
    {
     "data": {
      "text/plain": "    Prediction  Target\n0    -0.000152       1\n1    -0.000215       1\n2    -0.000277       1\n3    -0.000339       1\n4    -0.000401       1\n5     0.000210       2\n6     0.000052       2\n7    -0.000236       2\n8    -0.000556       2\n9    -0.000812       2\n10    0.001230       3\n11    0.001292       3\n12    0.001350       3\n13    0.001404       3\n14    0.001462       3",
      "text/html": "<div>\n<style scoped>\n    .dataframe tbody tr th:only-of-type {\n        vertical-align: middle;\n    }\n\n    .dataframe tbody tr th {\n        vertical-align: top;\n    }\n\n    .dataframe thead th {\n        text-align: right;\n    }\n</style>\n<table border=\"1\" class=\"dataframe\">\n  <thead>\n    <tr style=\"text-align: right;\">\n      <th></th>\n      <th>Prediction</th>\n      <th>Target</th>\n    </tr>\n  </thead>\n  <tbody>\n    <tr>\n      <th>0</th>\n      <td>-0.000152</td>\n      <td>1</td>\n    </tr>\n    <tr>\n      <th>1</th>\n      <td>-0.000215</td>\n      <td>1</td>\n    </tr>\n    <tr>\n      <th>2</th>\n      <td>-0.000277</td>\n      <td>1</td>\n    </tr>\n    <tr>\n      <th>3</th>\n      <td>-0.000339</td>\n      <td>1</td>\n    </tr>\n    <tr>\n      <th>4</th>\n      <td>-0.000401</td>\n      <td>1</td>\n    </tr>\n    <tr>\n      <th>5</th>\n      <td>0.000210</td>\n      <td>2</td>\n    </tr>\n    <tr>\n      <th>6</th>\n      <td>0.000052</td>\n      <td>2</td>\n    </tr>\n    <tr>\n      <th>7</th>\n      <td>-0.000236</td>\n      <td>2</td>\n    </tr>\n    <tr>\n      <th>8</th>\n      <td>-0.000556</td>\n      <td>2</td>\n    </tr>\n    <tr>\n      <th>9</th>\n      <td>-0.000812</td>\n      <td>2</td>\n    </tr>\n    <tr>\n      <th>10</th>\n      <td>0.001230</td>\n      <td>3</td>\n    </tr>\n    <tr>\n      <th>11</th>\n      <td>0.001292</td>\n      <td>3</td>\n    </tr>\n    <tr>\n      <th>12</th>\n      <td>0.001350</td>\n      <td>3</td>\n    </tr>\n    <tr>\n      <th>13</th>\n      <td>0.001404</td>\n      <td>3</td>\n    </tr>\n    <tr>\n      <th>14</th>\n      <td>0.001462</td>\n      <td>3</td>\n    </tr>\n  </tbody>\n</table>\n</div>"
     },
     "execution_count": 47,
     "metadata": {},
     "output_type": "execute_result"
    }
   ],
   "source": [
    "my_predictions_df"
   ],
   "metadata": {
    "collapsed": false,
    "ExecuteTime": {
     "end_time": "2023-11-29T18:01:24.706996800Z",
     "start_time": "2023-11-29T18:01:24.580478700Z"
    }
   },
   "id": "fe92461bc9c2e37d"
  },
  {
   "cell_type": "code",
   "execution_count": 47,
   "outputs": [],
   "source": [],
   "metadata": {
    "collapsed": false,
    "ExecuteTime": {
     "end_time": "2023-11-29T18:01:24.732027Z",
     "start_time": "2023-11-29T18:01:24.708994100Z"
    }
   },
   "id": "a9dbb3eed4a46abb"
  }
 ],
 "metadata": {
  "kernelspec": {
   "display_name": "Python 3",
   "language": "python",
   "name": "python3"
  },
  "language_info": {
   "codemirror_mode": {
    "name": "ipython",
    "version": 2
   },
   "file_extension": ".py",
   "mimetype": "text/x-python",
   "name": "python",
   "nbconvert_exporter": "python",
   "pygments_lexer": "ipython2",
   "version": "2.7.6"
  }
 },
 "nbformat": 4,
 "nbformat_minor": 5
}
