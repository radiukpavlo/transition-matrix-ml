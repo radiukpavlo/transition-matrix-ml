{
 "cells": [
  {
   "cell_type": "markdown",
   "id": "9429755869ff6538",
   "metadata": {},
   "source": [
    "## 1. Data Upload"
   ]
  },
  {
   "cell_type": "code",
   "execution_count": 49,
   "id": "7fde58ff0426c5dd",
   "metadata": {
    "collapsed": false,
    "ExecuteTime": {
     "end_time": "2023-11-30T13:40:52.081975600Z",
     "start_time": "2023-11-30T13:40:51.902122500Z"
    }
   },
   "outputs": [],
   "source": [
    "import pandas as pd\n",
    "import numpy as np\n",
    "from io import StringIO\n",
    "from sklearn.manifold import MDS\n",
    "from sklearn.preprocessing import StandardScaler\n",
    "from scipy.optimize import minimize\n",
    "\n",
    "path_csv = '.'\n",
    "\n",
    "# Read the CSV files into pandas dataframes\n",
    "input_formal_model = pd.read_csv(f\"{path_csv}/formal_model.csv\")"
   ]
  },
  {
   "cell_type": "code",
   "execution_count": 50,
   "id": "a4bf3067abb75f37",
   "metadata": {
    "collapsed": false,
    "ExecuteTime": {
     "end_time": "2023-11-30T13:40:52.110510300Z",
     "start_time": "2023-11-30T13:40:52.082976800Z"
    }
   },
   "outputs": [
    {
     "data": {
      "text/plain": "    ID  Target   f1   f2        f3        f4   f5\n0    1       1  2.8 -1.8 -2.800000  1.300000  0.4\n1    2       1  2.9 -1.9 -2.900000  1.400000  0.5\n2    3       1  3.0 -2.0 -3.000000  1.500000  0.6\n3    4       1  3.1 -2.1 -3.100000  1.600000  0.7\n4    5       1  3.2 -2.2 -3.200000  1.700000  0.8\n5    6       2 -1.6 -2.5  1.500000  0.200000  0.6\n6    7       2 -1.3 -2.7  1.300000  0.400000  0.8\n7    8       2 -1.0 -3.0  1.500000  0.600000  1.0\n8    9       2 -0.7 -3.2  1.700000  0.800000  1.2\n9   10       2 -0.5 -3.5  1.900000  1.000000  1.4\n10  11       3  1.2 -1.2  0.700000 -0.300000 -2.8\n11  12       3  1.1 -1.1  0.800000 -0.400000 -2.9\n12  13       3  1.0 -1.0  0.844444 -0.444444 -3.0\n13  14       3  0.9 -0.9  0.850000 -0.450000 -3.1\n14  15       3  0.8 -0.8  0.900000 -0.500000 -3.2",
      "text/html": "<div>\n<style scoped>\n    .dataframe tbody tr th:only-of-type {\n        vertical-align: middle;\n    }\n\n    .dataframe tbody tr th {\n        vertical-align: top;\n    }\n\n    .dataframe thead th {\n        text-align: right;\n    }\n</style>\n<table border=\"1\" class=\"dataframe\">\n  <thead>\n    <tr style=\"text-align: right;\">\n      <th></th>\n      <th>ID</th>\n      <th>Target</th>\n      <th>f1</th>\n      <th>f2</th>\n      <th>f3</th>\n      <th>f4</th>\n      <th>f5</th>\n    </tr>\n  </thead>\n  <tbody>\n    <tr>\n      <th>0</th>\n      <td>1</td>\n      <td>1</td>\n      <td>2.8</td>\n      <td>-1.8</td>\n      <td>-2.800000</td>\n      <td>1.300000</td>\n      <td>0.4</td>\n    </tr>\n    <tr>\n      <th>1</th>\n      <td>2</td>\n      <td>1</td>\n      <td>2.9</td>\n      <td>-1.9</td>\n      <td>-2.900000</td>\n      <td>1.400000</td>\n      <td>0.5</td>\n    </tr>\n    <tr>\n      <th>2</th>\n      <td>3</td>\n      <td>1</td>\n      <td>3.0</td>\n      <td>-2.0</td>\n      <td>-3.000000</td>\n      <td>1.500000</td>\n      <td>0.6</td>\n    </tr>\n    <tr>\n      <th>3</th>\n      <td>4</td>\n      <td>1</td>\n      <td>3.1</td>\n      <td>-2.1</td>\n      <td>-3.100000</td>\n      <td>1.600000</td>\n      <td>0.7</td>\n    </tr>\n    <tr>\n      <th>4</th>\n      <td>5</td>\n      <td>1</td>\n      <td>3.2</td>\n      <td>-2.2</td>\n      <td>-3.200000</td>\n      <td>1.700000</td>\n      <td>0.8</td>\n    </tr>\n    <tr>\n      <th>5</th>\n      <td>6</td>\n      <td>2</td>\n      <td>-1.6</td>\n      <td>-2.5</td>\n      <td>1.500000</td>\n      <td>0.200000</td>\n      <td>0.6</td>\n    </tr>\n    <tr>\n      <th>6</th>\n      <td>7</td>\n      <td>2</td>\n      <td>-1.3</td>\n      <td>-2.7</td>\n      <td>1.300000</td>\n      <td>0.400000</td>\n      <td>0.8</td>\n    </tr>\n    <tr>\n      <th>7</th>\n      <td>8</td>\n      <td>2</td>\n      <td>-1.0</td>\n      <td>-3.0</td>\n      <td>1.500000</td>\n      <td>0.600000</td>\n      <td>1.0</td>\n    </tr>\n    <tr>\n      <th>8</th>\n      <td>9</td>\n      <td>2</td>\n      <td>-0.7</td>\n      <td>-3.2</td>\n      <td>1.700000</td>\n      <td>0.800000</td>\n      <td>1.2</td>\n    </tr>\n    <tr>\n      <th>9</th>\n      <td>10</td>\n      <td>2</td>\n      <td>-0.5</td>\n      <td>-3.5</td>\n      <td>1.900000</td>\n      <td>1.000000</td>\n      <td>1.4</td>\n    </tr>\n    <tr>\n      <th>10</th>\n      <td>11</td>\n      <td>3</td>\n      <td>1.2</td>\n      <td>-1.2</td>\n      <td>0.700000</td>\n      <td>-0.300000</td>\n      <td>-2.8</td>\n    </tr>\n    <tr>\n      <th>11</th>\n      <td>12</td>\n      <td>3</td>\n      <td>1.1</td>\n      <td>-1.1</td>\n      <td>0.800000</td>\n      <td>-0.400000</td>\n      <td>-2.9</td>\n    </tr>\n    <tr>\n      <th>12</th>\n      <td>13</td>\n      <td>3</td>\n      <td>1.0</td>\n      <td>-1.0</td>\n      <td>0.844444</td>\n      <td>-0.444444</td>\n      <td>-3.0</td>\n    </tr>\n    <tr>\n      <th>13</th>\n      <td>14</td>\n      <td>3</td>\n      <td>0.9</td>\n      <td>-0.9</td>\n      <td>0.850000</td>\n      <td>-0.450000</td>\n      <td>-3.1</td>\n    </tr>\n    <tr>\n      <th>14</th>\n      <td>15</td>\n      <td>3</td>\n      <td>0.8</td>\n      <td>-0.8</td>\n      <td>0.900000</td>\n      <td>-0.500000</td>\n      <td>-3.2</td>\n    </tr>\n  </tbody>\n</table>\n</div>"
     },
     "execution_count": 50,
     "metadata": {},
     "output_type": "execute_result"
    }
   ],
   "source": [
    "input_formal_model"
   ]
  },
  {
   "cell_type": "markdown",
   "id": "e695dfea778f3996",
   "metadata": {},
   "source": [
    "## 2. Multi-dimensional scaling"
   ]
  },
  {
   "cell_type": "code",
   "execution_count": 51,
   "id": "f65e9e1eb4935bbd",
   "metadata": {
    "collapsed": false,
    "ExecuteTime": {
     "end_time": "2023-11-30T13:40:52.197090600Z",
     "start_time": "2023-11-30T13:40:52.113510400Z"
    }
   },
   "outputs": [],
   "source": [
    "# Extract the necessary subtables\n",
    "formal_model_features = input_formal_model.drop('Target', axis=1).drop('ID', axis=1)\n",
    "formal_model_with_id = input_formal_model.drop('Target', axis=1)\n",
    "formal_model_id = input_formal_model['ID']\n",
    "formal_model_target = input_formal_model['Target']\n",
    "\n",
    "# Standardize the data\n",
    "scaler = StandardScaler()\n",
    "X_scaled = scaler.fit_transform(formal_model_features)\n",
    "\n",
    "# Apply MDS to reduce the dimensions to 2\n",
    "mds = MDS(n_components=2, normalized_stress='auto')\n",
    "X_mds = mds.fit_transform(X_scaled)\n",
    "\n",
    "# Convert the reduced data back to a pandas DataFrame\n",
    "formal_model_reduced = pd.DataFrame(X_mds, columns=[\"x1\", \"x2\"])\n"
   ]
  },
  {
   "cell_type": "code",
   "execution_count": 52,
   "id": "4c53631ef3401b86",
   "metadata": {
    "collapsed": false,
    "ExecuteTime": {
     "end_time": "2023-11-30T13:40:52.263181200Z",
     "start_time": "2023-11-30T13:40:52.142544500Z"
    }
   },
   "outputs": [
    {
     "data": {
      "text/plain": "          x1        x2\n0  -1.565503 -1.214826\n1  -1.605648 -1.390997\n2  -1.614758 -1.584005\n3  -1.635118 -1.772315\n4  -1.643863 -1.966894\n5   1.985884  0.150968\n6   1.876004 -0.234316\n7   1.942845 -0.662174\n8   1.970408 -1.033817\n9   2.128004 -1.439106\n10 -0.378972  1.923986\n11 -0.389049  2.104519\n12 -0.355776  2.247311\n13 -0.394662  2.361253\n14 -0.319796  2.510413",
      "text/html": "<div>\n<style scoped>\n    .dataframe tbody tr th:only-of-type {\n        vertical-align: middle;\n    }\n\n    .dataframe tbody tr th {\n        vertical-align: top;\n    }\n\n    .dataframe thead th {\n        text-align: right;\n    }\n</style>\n<table border=\"1\" class=\"dataframe\">\n  <thead>\n    <tr style=\"text-align: right;\">\n      <th></th>\n      <th>x1</th>\n      <th>x2</th>\n    </tr>\n  </thead>\n  <tbody>\n    <tr>\n      <th>0</th>\n      <td>-1.565503</td>\n      <td>-1.214826</td>\n    </tr>\n    <tr>\n      <th>1</th>\n      <td>-1.605648</td>\n      <td>-1.390997</td>\n    </tr>\n    <tr>\n      <th>2</th>\n      <td>-1.614758</td>\n      <td>-1.584005</td>\n    </tr>\n    <tr>\n      <th>3</th>\n      <td>-1.635118</td>\n      <td>-1.772315</td>\n    </tr>\n    <tr>\n      <th>4</th>\n      <td>-1.643863</td>\n      <td>-1.966894</td>\n    </tr>\n    <tr>\n      <th>5</th>\n      <td>1.985884</td>\n      <td>0.150968</td>\n    </tr>\n    <tr>\n      <th>6</th>\n      <td>1.876004</td>\n      <td>-0.234316</td>\n    </tr>\n    <tr>\n      <th>7</th>\n      <td>1.942845</td>\n      <td>-0.662174</td>\n    </tr>\n    <tr>\n      <th>8</th>\n      <td>1.970408</td>\n      <td>-1.033817</td>\n    </tr>\n    <tr>\n      <th>9</th>\n      <td>2.128004</td>\n      <td>-1.439106</td>\n    </tr>\n    <tr>\n      <th>10</th>\n      <td>-0.378972</td>\n      <td>1.923986</td>\n    </tr>\n    <tr>\n      <th>11</th>\n      <td>-0.389049</td>\n      <td>2.104519</td>\n    </tr>\n    <tr>\n      <th>12</th>\n      <td>-0.355776</td>\n      <td>2.247311</td>\n    </tr>\n    <tr>\n      <th>13</th>\n      <td>-0.394662</td>\n      <td>2.361253</td>\n    </tr>\n    <tr>\n      <th>14</th>\n      <td>-0.319796</td>\n      <td>2.510413</td>\n    </tr>\n  </tbody>\n</table>\n</div>"
     },
     "execution_count": 52,
     "metadata": {},
     "output_type": "execute_result"
    }
   ],
   "source": [
    "# formal_model_with_id.to_csv('formal_model_with_id.csv', index=False)\n",
    "# formal_model_with_id\n",
    "\n",
    "formal_model_reduced"
   ]
  },
  {
   "cell_type": "markdown",
   "id": "e5da81fd32728ac3",
   "metadata": {},
   "source": [
    "## 3. Visual analytics"
   ]
  },
  {
   "cell_type": "code",
   "execution_count": 53,
   "id": "41b41a730c5cf71b",
   "metadata": {
    "collapsed": false,
    "ExecuteTime": {
     "end_time": "2023-11-30T13:40:52.266184500Z",
     "start_time": "2023-11-30T13:40:52.163562200Z"
    }
   },
   "outputs": [],
   "source": [
    "def interpolate_coordinates(x_1, x_n, n):\n",
    "    \"\"\"\n",
    "    This function calculates the values of the interpolate_coordinates\n",
    "    of a line based on its first and last coordinates.\n",
    "    :param x_1:\n",
    "    :param x_n:\n",
    "    :param n:\n",
    "    :return:\n",
    "    \"\"\"\n",
    "    # Ensure n is greater than 1 to avoid division by zero\n",
    "    if n <= 1:\n",
    "        raise ValueError(\"n must be greater than 1 to calculate intermediate points.\")\n",
    "\n",
    "    # List to hold all the coordinates including the first and the last\n",
    "    inter_coordinates = []\n",
    "\n",
    "    # Calculate each intermediate coordinate\n",
    "    for i in range(0, n):\n",
    "        x_i = x_1 + ((x_n - x_1) * i) / (n - 1)\n",
    "        inter_coordinates.append(x_i)\n",
    "\n",
    "    return inter_coordinates\n"
   ]
  },
  {
   "cell_type": "code",
   "execution_count": 54,
   "id": "966d400b47e30a90",
   "metadata": {
    "collapsed": false,
    "ExecuteTime": {
     "end_time": "2023-11-30T13:40:52.390109200Z",
     "start_time": "2023-11-30T13:40:52.270693700Z"
    }
   },
   "outputs": [
    {
     "data": {
      "text/plain": "     x1    x2\n0  3.00  1.00\n1  1.75  0.75\n2  0.50  0.50\n3 -0.75  0.25\n4 -2.00  0.00",
      "text/html": "<div>\n<style scoped>\n    .dataframe tbody tr th:only-of-type {\n        vertical-align: middle;\n    }\n\n    .dataframe tbody tr th {\n        vertical-align: top;\n    }\n\n    .dataframe thead th {\n        text-align: right;\n    }\n</style>\n<table border=\"1\" class=\"dataframe\">\n  <thead>\n    <tr style=\"text-align: right;\">\n      <th></th>\n      <th>x1</th>\n      <th>x2</th>\n    </tr>\n  </thead>\n  <tbody>\n    <tr>\n      <th>0</th>\n      <td>3.00</td>\n      <td>1.00</td>\n    </tr>\n    <tr>\n      <th>1</th>\n      <td>1.75</td>\n      <td>0.75</td>\n    </tr>\n    <tr>\n      <th>2</th>\n      <td>0.50</td>\n      <td>0.50</td>\n    </tr>\n    <tr>\n      <th>3</th>\n      <td>-0.75</td>\n      <td>0.25</td>\n    </tr>\n    <tr>\n      <th>4</th>\n      <td>-2.00</td>\n      <td>0.00</td>\n    </tr>\n  </tbody>\n</table>\n</div>"
     },
     "execution_count": 54,
     "metadata": {},
     "output_type": "execute_result"
    }
   ],
   "source": [
    "x_1_first = 3\n",
    "x_1_last = -2\n",
    "x_2_first = 1\n",
    "x_2_last = 0\n",
    "num_points = 5\n",
    "\n",
    "x_1_inter_coordinates = interpolate_coordinates(x_1_first, x_1_last, num_points)\n",
    "x_2_inter_coordinates = interpolate_coordinates(x_2_first, x_2_last, num_points)\n",
    "# print(x_1_inter_coordinates)\n",
    "# print(x_2_inter_coordinates)\n",
    "\n",
    "# Create a DataFrame from the coordinates\n",
    "coordinates_df = pd.DataFrame({'x1': x_1_inter_coordinates, 'x2': x_2_inter_coordinates})\n",
    "coordinates_df\n"
   ]
  },
  {
   "cell_type": "code",
   "execution_count": 55,
   "id": "da6d2e8262c65420",
   "metadata": {
    "collapsed": false,
    "ExecuteTime": {
     "end_time": "2023-11-30T13:40:52.581095300Z",
     "start_time": "2023-11-30T13:40:52.319753900Z"
    }
   },
   "outputs": [
    {
     "data": {
      "text/plain": "<Figure size 1000x600 with 1 Axes>",
      "image/png": "[encoded data removed]"
     },
     "metadata": {},
     "output_type": "display_data"
    }
   ],
   "source": [
    "import matplotlib.pyplot as plt\n",
    "\n",
    "# Include class colors and a legend\n",
    "colors = {1: 'red', 2: 'green', 3: 'blue'}  # Assigning colors to each class\n",
    "\n",
    "plt.figure(figsize=(10, 6))\n",
    "\n",
    "# Iterate over each class and plot each class with a different color\n",
    "for cls in input_formal_model['Target'].unique():\n",
    "    cls_data = formal_model_reduced[input_formal_model['Target'] == cls]\n",
    "    plt.scatter(cls_data['x1'], cls_data['x2'], s=100, edgecolor='k', color=colors[cls], label=f'Class {cls}')\n",
    "\n",
    "# Annotate points with ID\n",
    "for i, txt in enumerate(input_formal_model['ID']):\n",
    "    plt.annotate(txt, (formal_model_reduced['x1'].iloc[i], formal_model_reduced['x2'].iloc[i]), fontsize=10)\n",
    "\n",
    "# Draw the separating line\n",
    "line_x1 = coordinates_df['x1'].tolist()\n",
    "line_x2 = coordinates_df['x2'].tolist()\n",
    "plt.plot(line_x1, line_x2, 'ro-')\n",
    "\n",
    "plt.xlabel(\"X 1\")\n",
    "plt.ylabel(\"X 2\")\n",
    "plt.title(f\"2D MDS Reduction of {'input_formal_model'}\")\n",
    "plt.grid(True)\n",
    "plt.legend()\n",
    "plt.tight_layout()\n",
    "plt.show()\n"
   ]
  },
  {
   "cell_type": "markdown",
   "id": "ebc5f8d71f9e871e",
   "metadata": {},
   "source": [
    "## 4. Calculate Transition Matrix"
   ]
  },
  {
   "cell_type": "markdown",
   "id": "ef465326b3763a84",
   "metadata": {},
   "source": [
    "### 3.1. Singular Value Decomposition (SVD)"
   ]
  },
  {
   "cell_type": "code",
   "execution_count": 56,
   "id": "c9b16087dcd6299f",
   "metadata": {
    "collapsed": false,
    "ExecuteTime": {
     "end_time": "2023-11-30T13:40:52.582090400Z",
     "start_time": "2023-11-30T13:40:52.550749300Z"
    }
   },
   "outputs": [],
   "source": [
    "# Receive values from the matrix A DataFrame \n",
    "formal_model_reduced_values = formal_model_reduced.values\n",
    "\n",
    "# Calculate SVD\n",
    "U, s, Vt = np.linalg.svd(formal_model_reduced_values)\n",
    "\n",
    "# Construct the full diagonal matrix\n",
    "S = np.zeros(formal_model_reduced_values.shape)\n",
    "for i in range(min(formal_model_reduced_values.shape)):\n",
    "    S[i, i] = s[i]\n",
    "\n",
    "# print(\"U:\\n\", U)\n",
    "# print(\"\\nS:\\n\", S)\n",
    "# print(\"\\nVt:\\n\", Vt)\n"
   ]
  },
  {
   "cell_type": "markdown",
   "id": "20ecf1e1d1743431",
   "metadata": {},
   "source": [
    "### 3.2. Create the reconstructed matrix of SVD"
   ]
  },
  {
   "cell_type": "code",
   "execution_count": 57,
   "id": "300dbbed7537914f",
   "metadata": {
    "collapsed": false,
    "ExecuteTime": {
     "end_time": "2023-11-30T13:40:52.705075300Z",
     "start_time": "2023-11-30T13:40:52.565266700Z"
    }
   },
   "outputs": [],
   "source": [
    "# Recompute the original matrix using U, S, and Vt\n",
    "reconstructed_matrix = U.dot(S.dot(Vt))\n",
    "\n",
    "# Convert the reconstructed matrix to a pandas DataFrame, if desired\n",
    "reconstructed_df = pd.DataFrame(reconstructed_matrix)\n"
   ]
  },
  {
   "cell_type": "code",
   "execution_count": 58,
   "id": "c855a3fcf677b065",
   "metadata": {
    "collapsed": false,
    "ExecuteTime": {
     "end_time": "2023-11-30T13:40:52.732116800Z",
     "start_time": "2023-11-30T13:40:52.588093500Z"
    }
   },
   "outputs": [
    {
     "data": {
      "text/plain": "           0         1\n0  -1.565503 -1.214826\n1  -1.605648 -1.390997\n2  -1.614758 -1.584005\n3  -1.635118 -1.772315\n4  -1.643863 -1.966894\n5   1.985884  0.150968\n6   1.876004 -0.234316\n7   1.942845 -0.662174\n8   1.970408 -1.033817\n9   2.128004 -1.439106\n10 -0.378972  1.923986\n11 -0.389049  2.104519\n12 -0.355776  2.247311\n13 -0.394662  2.361253\n14 -0.319796  2.510413",
      "text/html": "<div>\n<style scoped>\n    .dataframe tbody tr th:only-of-type {\n        vertical-align: middle;\n    }\n\n    .dataframe tbody tr th {\n        vertical-align: top;\n    }\n\n    .dataframe thead th {\n        text-align: right;\n    }\n</style>\n<table border=\"1\" class=\"dataframe\">\n  <thead>\n    <tr style=\"text-align: right;\">\n      <th></th>\n      <th>0</th>\n      <th>1</th>\n    </tr>\n  </thead>\n  <tbody>\n    <tr>\n      <th>0</th>\n      <td>-1.565503</td>\n      <td>-1.214826</td>\n    </tr>\n    <tr>\n      <th>1</th>\n      <td>-1.605648</td>\n      <td>-1.390997</td>\n    </tr>\n    <tr>\n      <th>2</th>\n      <td>-1.614758</td>\n      <td>-1.584005</td>\n    </tr>\n    <tr>\n      <th>3</th>\n      <td>-1.635118</td>\n      <td>-1.772315</td>\n    </tr>\n    <tr>\n      <th>4</th>\n      <td>-1.643863</td>\n      <td>-1.966894</td>\n    </tr>\n    <tr>\n      <th>5</th>\n      <td>1.985884</td>\n      <td>0.150968</td>\n    </tr>\n    <tr>\n      <th>6</th>\n      <td>1.876004</td>\n      <td>-0.234316</td>\n    </tr>\n    <tr>\n      <th>7</th>\n      <td>1.942845</td>\n      <td>-0.662174</td>\n    </tr>\n    <tr>\n      <th>8</th>\n      <td>1.970408</td>\n      <td>-1.033817</td>\n    </tr>\n    <tr>\n      <th>9</th>\n      <td>2.128004</td>\n      <td>-1.439106</td>\n    </tr>\n    <tr>\n      <th>10</th>\n      <td>-0.378972</td>\n      <td>1.923986</td>\n    </tr>\n    <tr>\n      <th>11</th>\n      <td>-0.389049</td>\n      <td>2.104519</td>\n    </tr>\n    <tr>\n      <th>12</th>\n      <td>-0.355776</td>\n      <td>2.247311</td>\n    </tr>\n    <tr>\n      <th>13</th>\n      <td>-0.394662</td>\n      <td>2.361253</td>\n    </tr>\n    <tr>\n      <th>14</th>\n      <td>-0.319796</td>\n      <td>2.510413</td>\n    </tr>\n  </tbody>\n</table>\n</div>"
     },
     "execution_count": 58,
     "metadata": {},
     "output_type": "execute_result"
    }
   ],
   "source": [
    "reconstructed_df"
   ]
  },
  {
   "cell_type": "code",
   "execution_count": 59,
   "id": "81f9ceb900efd47d",
   "metadata": {
    "collapsed": false,
    "ExecuteTime": {
     "end_time": "2023-11-30T13:40:52.793173400Z",
     "start_time": "2023-11-30T13:40:52.712583500Z"
    }
   },
   "outputs": [
    {
     "data": {
      "text/plain": "          x1        x2\n0  -1.565503 -1.214826\n1  -1.605648 -1.390997\n2  -1.614758 -1.584005\n3  -1.635118 -1.772315\n4  -1.643863 -1.966894\n5   1.985884  0.150968\n6   1.876004 -0.234316\n7   1.942845 -0.662174\n8   1.970408 -1.033817\n9   2.128004 -1.439106\n10 -0.378972  1.923986\n11 -0.389049  2.104519\n12 -0.355776  2.247311\n13 -0.394662  2.361253\n14 -0.319796  2.510413",
      "text/html": "<div>\n<style scoped>\n    .dataframe tbody tr th:only-of-type {\n        vertical-align: middle;\n    }\n\n    .dataframe tbody tr th {\n        vertical-align: top;\n    }\n\n    .dataframe thead th {\n        text-align: right;\n    }\n</style>\n<table border=\"1\" class=\"dataframe\">\n  <thead>\n    <tr style=\"text-align: right;\">\n      <th></th>\n      <th>x1</th>\n      <th>x2</th>\n    </tr>\n  </thead>\n  <tbody>\n    <tr>\n      <th>0</th>\n      <td>-1.565503</td>\n      <td>-1.214826</td>\n    </tr>\n    <tr>\n      <th>1</th>\n      <td>-1.605648</td>\n      <td>-1.390997</td>\n    </tr>\n    <tr>\n      <th>2</th>\n      <td>-1.614758</td>\n      <td>-1.584005</td>\n    </tr>\n    <tr>\n      <th>3</th>\n      <td>-1.635118</td>\n      <td>-1.772315</td>\n    </tr>\n    <tr>\n      <th>4</th>\n      <td>-1.643863</td>\n      <td>-1.966894</td>\n    </tr>\n    <tr>\n      <th>5</th>\n      <td>1.985884</td>\n      <td>0.150968</td>\n    </tr>\n    <tr>\n      <th>6</th>\n      <td>1.876004</td>\n      <td>-0.234316</td>\n    </tr>\n    <tr>\n      <th>7</th>\n      <td>1.942845</td>\n      <td>-0.662174</td>\n    </tr>\n    <tr>\n      <th>8</th>\n      <td>1.970408</td>\n      <td>-1.033817</td>\n    </tr>\n    <tr>\n      <th>9</th>\n      <td>2.128004</td>\n      <td>-1.439106</td>\n    </tr>\n    <tr>\n      <th>10</th>\n      <td>-0.378972</td>\n      <td>1.923986</td>\n    </tr>\n    <tr>\n      <th>11</th>\n      <td>-0.389049</td>\n      <td>2.104519</td>\n    </tr>\n    <tr>\n      <th>12</th>\n      <td>-0.355776</td>\n      <td>2.247311</td>\n    </tr>\n    <tr>\n      <th>13</th>\n      <td>-0.394662</td>\n      <td>2.361253</td>\n    </tr>\n    <tr>\n      <th>14</th>\n      <td>-0.319796</td>\n      <td>2.510413</td>\n    </tr>\n  </tbody>\n</table>\n</div>"
     },
     "execution_count": 59,
     "metadata": {},
     "output_type": "execute_result"
    }
   ],
   "source": [
    "formal_model_reduced"
   ]
  },
  {
   "cell_type": "markdown",
   "id": "e22636c4bc2289d4",
   "metadata": {},
   "source": [
    "### 3.3. Calculate the generalized inverse of input matrix"
   ]
  },
  {
   "cell_type": "code",
   "execution_count": 60,
   "id": "d82d42f8951a5a24",
   "metadata": {
    "collapsed": false,
    "ExecuteTime": {
     "end_time": "2023-11-30T13:40:52.837721700Z",
     "start_time": "2023-11-30T13:40:52.755140100Z"
    }
   },
   "outputs": [],
   "source": [
    "# Calculate the generalized (Moore-Penrose) inverse\n",
    "formal_model_reduced_pinv = np.linalg.pinv(formal_model_reduced_values)\n",
    "\n",
    "# Convert to a pandas DataFrame\n",
    "formal_model_reduced_pinv_df = pd.DataFrame(formal_model_reduced_pinv)"
   ]
  },
  {
   "cell_type": "code",
   "execution_count": 61,
   "id": "f723de97150d5c16",
   "metadata": {
    "collapsed": false,
    "ExecuteTime": {
     "end_time": "2023-11-30T13:40:53.002892600Z",
     "start_time": "2023-11-30T13:40:52.823702100Z"
    }
   },
   "outputs": [
    {
     "data": {
      "text/plain": "         0         1         2         3         4         5         6   \\\n0 -0.045176 -0.046102 -0.046067 -0.046378 -0.046329  0.059533  0.056843   \n1 -0.026767 -0.030948 -0.035585 -0.040090 -0.044765  0.000457 -0.008652   \n\n         7         8         9         10        11        12        13  \\\n0  0.059541  0.060966  0.066358 -0.014489 -0.015082 -0.014309 -0.015662   \n1 -0.019070 -0.028070 -0.038089  0.046972  0.051338  0.054726  0.057534   \n\n         14  \n0 -0.013648  \n1  0.061009  ",
      "text/html": "<div>\n<style scoped>\n    .dataframe tbody tr th:only-of-type {\n        vertical-align: middle;\n    }\n\n    .dataframe tbody tr th {\n        vertical-align: top;\n    }\n\n    .dataframe thead th {\n        text-align: right;\n    }\n</style>\n<table border=\"1\" class=\"dataframe\">\n  <thead>\n    <tr style=\"text-align: right;\">\n      <th></th>\n      <th>0</th>\n      <th>1</th>\n      <th>2</th>\n      <th>3</th>\n      <th>4</th>\n      <th>5</th>\n      <th>6</th>\n      <th>7</th>\n      <th>8</th>\n      <th>9</th>\n      <th>10</th>\n      <th>11</th>\n      <th>12</th>\n      <th>13</th>\n      <th>14</th>\n    </tr>\n  </thead>\n  <tbody>\n    <tr>\n      <th>0</th>\n      <td>-0.045176</td>\n      <td>-0.046102</td>\n      <td>-0.046067</td>\n      <td>-0.046378</td>\n      <td>-0.046329</td>\n      <td>0.059533</td>\n      <td>0.056843</td>\n      <td>0.059541</td>\n      <td>0.060966</td>\n      <td>0.066358</td>\n      <td>-0.014489</td>\n      <td>-0.015082</td>\n      <td>-0.014309</td>\n      <td>-0.015662</td>\n      <td>-0.013648</td>\n    </tr>\n    <tr>\n      <th>1</th>\n      <td>-0.026767</td>\n      <td>-0.030948</td>\n      <td>-0.035585</td>\n      <td>-0.040090</td>\n      <td>-0.044765</td>\n      <td>0.000457</td>\n      <td>-0.008652</td>\n      <td>-0.019070</td>\n      <td>-0.028070</td>\n      <td>-0.038089</td>\n      <td>0.046972</td>\n      <td>0.051338</td>\n      <td>0.054726</td>\n      <td>0.057534</td>\n      <td>0.061009</td>\n    </tr>\n  </tbody>\n</table>\n</div>"
     },
     "execution_count": 61,
     "metadata": {},
     "output_type": "execute_result"
    }
   ],
   "source": [
    "formal_model_reduced_pinv_df"
   ]
  },
  {
   "cell_type": "markdown",
   "id": "ae217465b26b7db8",
   "metadata": {},
   "source": [
    "### 3.4. Calculate transition matrix T"
   ]
  },
  {
   "cell_type": "code",
   "execution_count": 62,
   "id": "41df41ba6680071d",
   "metadata": {
    "collapsed": false,
    "ExecuteTime": {
     "end_time": "2023-11-30T13:40:53.075137600Z",
     "start_time": "2023-11-30T13:40:52.938627600Z"
    }
   },
   "outputs": [],
   "source": [
    "transition_matrix_T = formal_model_reduced_pinv_df.dot(formal_model_features)"
   ]
  },
  {
   "cell_type": "code",
   "execution_count": 63,
   "id": "481f9ce7d7ea80a6",
   "metadata": {
    "collapsed": false,
    "ExecuteTime": {
     "end_time": "2023-11-30T13:40:53.169939900Z",
     "start_time": "2023-11-30T13:40:53.079652100Z"
    }
   },
   "outputs": [
    {
     "data": {
      "text/plain": "         f1        f2        f3        f4        f5\n0 -1.068257 -0.374615  1.112755 -0.129225  0.387965\n1 -0.202548  0.395234  0.603701 -0.462446 -1.042294",
      "text/html": "<div>\n<style scoped>\n    .dataframe tbody tr th:only-of-type {\n        vertical-align: middle;\n    }\n\n    .dataframe tbody tr th {\n        vertical-align: top;\n    }\n\n    .dataframe thead th {\n        text-align: right;\n    }\n</style>\n<table border=\"1\" class=\"dataframe\">\n  <thead>\n    <tr style=\"text-align: right;\">\n      <th></th>\n      <th>f1</th>\n      <th>f2</th>\n      <th>f3</th>\n      <th>f4</th>\n      <th>f5</th>\n    </tr>\n  </thead>\n  <tbody>\n    <tr>\n      <th>0</th>\n      <td>-1.068257</td>\n      <td>-0.374615</td>\n      <td>1.112755</td>\n      <td>-0.129225</td>\n      <td>0.387965</td>\n    </tr>\n    <tr>\n      <th>1</th>\n      <td>-0.202548</td>\n      <td>0.395234</td>\n      <td>0.603701</td>\n      <td>-0.462446</td>\n      <td>-1.042294</td>\n    </tr>\n  </tbody>\n</table>\n</div>"
     },
     "execution_count": 63,
     "metadata": {},
     "output_type": "execute_result"
    }
   ],
   "source": [
    "transition_matrix_T"
   ]
  },
  {
   "cell_type": "markdown",
   "id": "63707c7d6fa3b351",
   "metadata": {},
   "source": [
    "## 4. Create Hyperplane"
   ]
  },
  {
   "cell_type": "code",
   "execution_count": 64,
   "id": "af020167e0a630b2",
   "metadata": {
    "collapsed": false,
    "ExecuteTime": {
     "end_time": "2023-11-30T13:40:53.266694800Z",
     "start_time": "2023-11-30T13:40:53.152891Z"
    }
   },
   "outputs": [],
   "source": [
    "coordinates_hyperplane_df = coordinates_df.values @ transition_matrix_T.values"
   ]
  },
  {
   "cell_type": "code",
   "execution_count": 65,
   "id": "a49ccb2f95c82aa4",
   "metadata": {
    "collapsed": false,
    "ExecuteTime": {
     "end_time": "2023-11-30T13:40:53.334399Z",
     "start_time": "2023-11-30T13:40:53.216995300Z"
    }
   },
   "outputs": [
    {
     "data": {
      "text/plain": "array([[-3.40731977, -0.72861031,  3.94196493, -0.85012253,  0.12160104],\n       [-2.02136124, -0.3591504 ,  2.40009633, -0.57297921, -0.10278181],\n       [-0.63540271,  0.01030951,  0.85822774, -0.29583588, -0.32716465],\n       [ 0.75055583,  0.37976942, -0.68364085, -0.01869255, -0.55154749],\n       [ 2.13651436,  0.74922933, -2.22550944,  0.25845077, -0.77593034]])"
     },
     "execution_count": 65,
     "metadata": {},
     "output_type": "execute_result"
    }
   ],
   "source": [
    "coordinates_hyperplane_df"
   ]
  },
  {
   "cell_type": "code",
   "execution_count": 66,
   "id": "e1f055e528cfd8f",
   "metadata": {
    "collapsed": false,
    "ExecuteTime": {
     "end_time": "2023-11-30T13:40:53.437023800Z",
     "start_time": "2023-11-30T13:40:53.336373200Z"
    }
   },
   "outputs": [
    {
     "data": {
      "text/plain": "array([[ 1.        , -3.40731977, -0.72861031,  3.94196493, -0.85012253,\n         0.12160104],\n       [ 1.        , -2.02136124, -0.3591504 ,  2.40009633, -0.57297921,\n        -0.10278181],\n       [ 1.        , -0.63540271,  0.01030951,  0.85822774, -0.29583588,\n        -0.32716465],\n       [ 1.        ,  0.75055583,  0.37976942, -0.68364085, -0.01869255,\n        -0.55154749],\n       [ 1.        ,  2.13651436,  0.74922933, -2.22550944,  0.25845077,\n        -0.77593034]])"
     },
     "execution_count": 66,
     "metadata": {},
     "output_type": "execute_result"
    }
   ],
   "source": [
    "# Adding a new column with all values set to 1\n",
    "new_column = np.ones((coordinates_hyperplane_df.shape[0], 1))\n",
    "feature_vector_inverse = np.hstack((new_column, coordinates_hyperplane_df))\n",
    "\n",
    "feature_vector_inverse"
   ]
  },
  {
   "cell_type": "code",
   "execution_count": 67,
   "id": "f5c5eee4c62ff7f6",
   "metadata": {
    "collapsed": false,
    "ExecuteTime": {
     "end_time": "2023-11-30T13:40:53.504635400Z",
     "start_time": "2023-11-30T13:40:53.437023800Z"
    }
   },
   "outputs": [
    {
     "name": "stdout",
     "output_type": "stream",
     "text": [
      "Optimization terminated successfully    (Exit mode 0)\n",
      "            Current function value: 1.4828586316902406e-06\n",
      "            Iterations: 11\n",
      "            Function evaluations: 110\n",
      "            Gradient evaluations: 11\n",
      "Optimization was successful. The weights are:\n",
      "      weight\n",
      "w0 -0.000213\n",
      "w1 -0.000416\n",
      "w2 -0.000294\n",
      "w3 -0.000468\n",
      "w4 -0.000580\n",
      "w5 -0.000555\n",
      "\n",
      "Value of the optimization criteria (objective function value): 1.4828586316902406e-06\n",
      "\n",
      "Convergence status: Optimization terminated successfully\n"
     ]
    }
   ],
   "source": [
    "# Optimization criteria function\n",
    "def optimization_criteria(W, X):\n",
    "    return np.sum(np.abs(X.dot(W.T)))\n",
    "\n",
    "# Initial guess (starting point for the optimization algorithm)\n",
    "weights_inverse_initial = np.zeros(feature_vector_inverse.shape[1])\n",
    "\n",
    "# Bounds for W (setting it between -1 and 1)\n",
    "bounds = [(-1, 1) for _ in range(feature_vector_inverse.shape[1])]\n",
    "\n",
    "# The actual optimization\n",
    "res = minimize(\n",
    "    optimization_criteria,\n",
    "    weights_inverse_initial,\n",
    "    args=(feature_vector_inverse,),\n",
    "    method='SLSQP',\n",
    "    bounds=bounds,\n",
    "    options={'disp': True}\n",
    ")\n",
    "\n",
    "# Checking if the optimization was successful\n",
    "if res.success:\n",
    "    # Extract the weights into a DataFrame\n",
    "    weights_inverse_output = pd.DataFrame(res.x, index=[f'w{i}' for i in range(len(res.x))], columns=['weight'])\n",
    "\n",
    "    print(\"Optimization was successful. The weights are:\")\n",
    "    print(weights_inverse_output)\n",
    "\n",
    "    # Output the value of the optimization criteria\n",
    "    print(\"\\nValue of the optimization criteria (objective function value):\", res.fun)\n",
    "else:\n",
    "    print(\"Optimization failed.\")\n",
    "\n",
    "# Checking for convergence\n",
    "print(\"\\nConvergence status:\", res.message)\n"
   ]
  },
  {
   "cell_type": "code",
   "execution_count": 68,
   "id": "229473793e1f5f6d",
   "metadata": {
    "collapsed": false,
    "ExecuteTime": {
     "end_time": "2023-11-30T13:40:53.563741400Z",
     "start_time": "2023-11-30T13:40:53.505637100Z"
    }
   },
   "outputs": [
    {
     "data": {
      "text/plain": "      weight\nw0 -0.000213\nw1 -0.000416\nw2 -0.000294\nw3 -0.000468\nw4 -0.000580\nw5 -0.000555",
      "text/html": "<div>\n<style scoped>\n    .dataframe tbody tr th:only-of-type {\n        vertical-align: middle;\n    }\n\n    .dataframe tbody tr th {\n        vertical-align: top;\n    }\n\n    .dataframe thead th {\n        text-align: right;\n    }\n</style>\n<table border=\"1\" class=\"dataframe\">\n  <thead>\n    <tr style=\"text-align: right;\">\n      <th></th>\n      <th>weight</th>\n    </tr>\n  </thead>\n  <tbody>\n    <tr>\n      <th>w0</th>\n      <td>-0.000213</td>\n    </tr>\n    <tr>\n      <th>w1</th>\n      <td>-0.000416</td>\n    </tr>\n    <tr>\n      <th>w2</th>\n      <td>-0.000294</td>\n    </tr>\n    <tr>\n      <th>w3</th>\n      <td>-0.000468</td>\n    </tr>\n    <tr>\n      <th>w4</th>\n      <td>-0.000580</td>\n    </tr>\n    <tr>\n      <th>w5</th>\n      <td>-0.000555</td>\n    </tr>\n  </tbody>\n</table>\n</div>"
     },
     "execution_count": 68,
     "metadata": {},
     "output_type": "execute_result"
    }
   ],
   "source": [
    "weights_inverse_output"
   ]
  },
  {
   "cell_type": "code",
   "execution_count": 69,
   "id": "fd4510816a331570",
   "metadata": {
    "collapsed": false,
    "ExecuteTime": {
     "end_time": "2023-11-30T13:40:53.599782200Z",
     "start_time": "2023-11-30T13:40:53.547721Z"
    }
   },
   "outputs": [
    {
     "data": {
      "text/plain": "     weight\n0 -0.000416\n1 -0.000294\n2 -0.000468\n3 -0.000580\n4 -0.000555\n5 -0.000213",
      "text/html": "<div>\n<style scoped>\n    .dataframe tbody tr th:only-of-type {\n        vertical-align: middle;\n    }\n\n    .dataframe tbody tr th {\n        vertical-align: top;\n    }\n\n    .dataframe thead th {\n        text-align: right;\n    }\n</style>\n<table border=\"1\" class=\"dataframe\">\n  <thead>\n    <tr style=\"text-align: right;\">\n      <th></th>\n      <th>weight</th>\n    </tr>\n  </thead>\n  <tbody>\n    <tr>\n      <th>0</th>\n      <td>-0.000416</td>\n    </tr>\n    <tr>\n      <th>1</th>\n      <td>-0.000294</td>\n    </tr>\n    <tr>\n      <th>2</th>\n      <td>-0.000468</td>\n    </tr>\n    <tr>\n      <th>3</th>\n      <td>-0.000580</td>\n    </tr>\n    <tr>\n      <th>4</th>\n      <td>-0.000555</td>\n    </tr>\n    <tr>\n      <th>5</th>\n      <td>-0.000213</td>\n    </tr>\n  </tbody>\n</table>\n</div>"
     },
     "execution_count": 69,
     "metadata": {},
     "output_type": "execute_result"
    }
   ],
   "source": [
    "# Reorder the weight vector so that w0 is at the end.\n",
    "weights_df_reordered = pd.concat([weights_inverse_output.iloc[1:], weights_inverse_output.iloc[0:1]]).reset_index(drop=True)\n",
    "\n",
    "# Show the modified DataFrame\n",
    "weights_df_reordered\n"
   ]
  },
  {
   "cell_type": "code",
   "execution_count": 70,
   "id": "6c4bb7858af12496",
   "metadata": {
    "collapsed": false,
    "ExecuteTime": {
     "end_time": "2023-11-30T13:40:53.733864300Z",
     "start_time": "2023-11-30T13:40:53.602785100Z"
    }
   },
   "outputs": [
    {
     "data": {
      "text/plain": "     f1   f2        f3        f4   f5  f0\n0   2.8 -1.8 -2.800000  1.300000  0.4   1\n1   2.9 -1.9 -2.900000  1.400000  0.5   1\n2   3.0 -2.0 -3.000000  1.500000  0.6   1\n3   3.1 -2.1 -3.100000  1.600000  0.7   1\n4   3.2 -2.2 -3.200000  1.700000  0.8   1\n5  -1.6 -2.5  1.500000  0.200000  0.6   1\n6  -1.3 -2.7  1.300000  0.400000  0.8   1\n7  -1.0 -3.0  1.500000  0.600000  1.0   1\n8  -0.7 -3.2  1.700000  0.800000  1.2   1\n9  -0.5 -3.5  1.900000  1.000000  1.4   1\n10  1.2 -1.2  0.700000 -0.300000 -2.8   1\n11  1.1 -1.1  0.800000 -0.400000 -2.9   1\n12  1.0 -1.0  0.844444 -0.444444 -3.0   1\n13  0.9 -0.9  0.850000 -0.450000 -3.1   1\n14  0.8 -0.8  0.900000 -0.500000 -3.2   1",
      "text/html": "<div>\n<style scoped>\n    .dataframe tbody tr th:only-of-type {\n        vertical-align: middle;\n    }\n\n    .dataframe tbody tr th {\n        vertical-align: top;\n    }\n\n    .dataframe thead th {\n        text-align: right;\n    }\n</style>\n<table border=\"1\" class=\"dataframe\">\n  <thead>\n    <tr style=\"text-align: right;\">\n      <th></th>\n      <th>f1</th>\n      <th>f2</th>\n      <th>f3</th>\n      <th>f4</th>\n      <th>f5</th>\n      <th>f0</th>\n    </tr>\n  </thead>\n  <tbody>\n    <tr>\n      <th>0</th>\n      <td>2.8</td>\n      <td>-1.8</td>\n      <td>-2.800000</td>\n      <td>1.300000</td>\n      <td>0.4</td>\n      <td>1</td>\n    </tr>\n    <tr>\n      <th>1</th>\n      <td>2.9</td>\n      <td>-1.9</td>\n      <td>-2.900000</td>\n      <td>1.400000</td>\n      <td>0.5</td>\n      <td>1</td>\n    </tr>\n    <tr>\n      <th>2</th>\n      <td>3.0</td>\n      <td>-2.0</td>\n      <td>-3.000000</td>\n      <td>1.500000</td>\n      <td>0.6</td>\n      <td>1</td>\n    </tr>\n    <tr>\n      <th>3</th>\n      <td>3.1</td>\n      <td>-2.1</td>\n      <td>-3.100000</td>\n      <td>1.600000</td>\n      <td>0.7</td>\n      <td>1</td>\n    </tr>\n    <tr>\n      <th>4</th>\n      <td>3.2</td>\n      <td>-2.2</td>\n      <td>-3.200000</td>\n      <td>1.700000</td>\n      <td>0.8</td>\n      <td>1</td>\n    </tr>\n    <tr>\n      <th>5</th>\n      <td>-1.6</td>\n      <td>-2.5</td>\n      <td>1.500000</td>\n      <td>0.200000</td>\n      <td>0.6</td>\n      <td>1</td>\n    </tr>\n    <tr>\n      <th>6</th>\n      <td>-1.3</td>\n      <td>-2.7</td>\n      <td>1.300000</td>\n      <td>0.400000</td>\n      <td>0.8</td>\n      <td>1</td>\n    </tr>\n    <tr>\n      <th>7</th>\n      <td>-1.0</td>\n      <td>-3.0</td>\n      <td>1.500000</td>\n      <td>0.600000</td>\n      <td>1.0</td>\n      <td>1</td>\n    </tr>\n    <tr>\n      <th>8</th>\n      <td>-0.7</td>\n      <td>-3.2</td>\n      <td>1.700000</td>\n      <td>0.800000</td>\n      <td>1.2</td>\n      <td>1</td>\n    </tr>\n    <tr>\n      <th>9</th>\n      <td>-0.5</td>\n      <td>-3.5</td>\n      <td>1.900000</td>\n      <td>1.000000</td>\n      <td>1.4</td>\n      <td>1</td>\n    </tr>\n    <tr>\n      <th>10</th>\n      <td>1.2</td>\n      <td>-1.2</td>\n      <td>0.700000</td>\n      <td>-0.300000</td>\n      <td>-2.8</td>\n      <td>1</td>\n    </tr>\n    <tr>\n      <th>11</th>\n      <td>1.1</td>\n      <td>-1.1</td>\n      <td>0.800000</td>\n      <td>-0.400000</td>\n      <td>-2.9</td>\n      <td>1</td>\n    </tr>\n    <tr>\n      <th>12</th>\n      <td>1.0</td>\n      <td>-1.0</td>\n      <td>0.844444</td>\n      <td>-0.444444</td>\n      <td>-3.0</td>\n      <td>1</td>\n    </tr>\n    <tr>\n      <th>13</th>\n      <td>0.9</td>\n      <td>-0.9</td>\n      <td>0.850000</td>\n      <td>-0.450000</td>\n      <td>-3.1</td>\n      <td>1</td>\n    </tr>\n    <tr>\n      <th>14</th>\n      <td>0.8</td>\n      <td>-0.8</td>\n      <td>0.900000</td>\n      <td>-0.500000</td>\n      <td>-3.2</td>\n      <td>1</td>\n    </tr>\n  </tbody>\n</table>\n</div>"
     },
     "execution_count": 70,
     "metadata": {},
     "output_type": "execute_result"
    }
   ],
   "source": [
    "# Create a new DataFrame with an additional column\n",
    "new_formal_model_features = formal_model_features.copy()\n",
    "new_formal_model_features['f0'] = 1\n",
    "new_formal_model_features\n"
   ]
  },
  {
   "cell_type": "code",
   "execution_count": 71,
   "id": "c2f759c7f2967205",
   "metadata": {
    "collapsed": false,
    "ExecuteTime": {
     "end_time": "2023-11-30T13:40:53.777881700Z",
     "start_time": "2023-11-30T13:40:53.679808600Z"
    }
   },
   "outputs": [],
   "source": [
    "# # Multiply the features by the weights\n",
    "my_result = new_formal_model_features.mul(weights_df_reordered['weight'].values, axis=1)\n",
    "\n",
    "# Sum along the rows to get the final single column for predictions\n",
    "my_predictions = my_result.sum(axis=1)\n",
    "\n",
    "# Convert the series to a data frame\n",
    "my_predictions_df = my_predictions.to_frame(name='Prediction')"
   ]
  },
  {
   "cell_type": "code",
   "execution_count": 72,
   "id": "47d42fcab1156ca0",
   "metadata": {
    "collapsed": false,
    "ExecuteTime": {
     "end_time": "2023-11-30T13:40:53.929979900Z",
     "start_time": "2023-11-30T13:40:53.785891400Z"
    }
   },
   "outputs": [
    {
     "data": {
      "text/plain": "    Prediction\n0    -0.000513\n1    -0.000592\n2    -0.000671\n3    -0.000750\n4    -0.000829\n5     0.000038\n6    -0.000162\n7    -0.000519\n8    -0.000906\n9    -0.001221\n10    0.001042\n11    0.001121\n12    0.001194\n13    0.001262\n14    0.001336",
      "text/html": "<div>\n<style scoped>\n    .dataframe tbody tr th:only-of-type {\n        vertical-align: middle;\n    }\n\n    .dataframe tbody tr th {\n        vertical-align: top;\n    }\n\n    .dataframe thead th {\n        text-align: right;\n    }\n</style>\n<table border=\"1\" class=\"dataframe\">\n  <thead>\n    <tr style=\"text-align: right;\">\n      <th></th>\n      <th>Prediction</th>\n    </tr>\n  </thead>\n  <tbody>\n    <tr>\n      <th>0</th>\n      <td>-0.000513</td>\n    </tr>\n    <tr>\n      <th>1</th>\n      <td>-0.000592</td>\n    </tr>\n    <tr>\n      <th>2</th>\n      <td>-0.000671</td>\n    </tr>\n    <tr>\n      <th>3</th>\n      <td>-0.000750</td>\n    </tr>\n    <tr>\n      <th>4</th>\n      <td>-0.000829</td>\n    </tr>\n    <tr>\n      <th>5</th>\n      <td>0.000038</td>\n    </tr>\n    <tr>\n      <th>6</th>\n      <td>-0.000162</td>\n    </tr>\n    <tr>\n      <th>7</th>\n      <td>-0.000519</td>\n    </tr>\n    <tr>\n      <th>8</th>\n      <td>-0.000906</td>\n    </tr>\n    <tr>\n      <th>9</th>\n      <td>-0.001221</td>\n    </tr>\n    <tr>\n      <th>10</th>\n      <td>0.001042</td>\n    </tr>\n    <tr>\n      <th>11</th>\n      <td>0.001121</td>\n    </tr>\n    <tr>\n      <th>12</th>\n      <td>0.001194</td>\n    </tr>\n    <tr>\n      <th>13</th>\n      <td>0.001262</td>\n    </tr>\n    <tr>\n      <th>14</th>\n      <td>0.001336</td>\n    </tr>\n  </tbody>\n</table>\n</div>"
     },
     "execution_count": 72,
     "metadata": {},
     "output_type": "execute_result"
    }
   ],
   "source": [
    "my_predictions_df"
   ]
  },
  {
   "cell_type": "code",
   "execution_count": 73,
   "id": "9c176f0dcb5faa9c",
   "metadata": {
    "collapsed": false,
    "ExecuteTime": {
     "end_time": "2023-11-30T13:40:54.003140900Z",
     "start_time": "2023-11-30T13:40:53.901454900Z"
    }
   },
   "outputs": [],
   "source": [
    "my_predictions_df = pd.concat([my_predictions_df, formal_model_target], axis=1)\n"
   ]
  },
  {
   "cell_type": "code",
   "execution_count": 74,
   "id": "fe92461bc9c2e37d",
   "metadata": {
    "collapsed": false,
    "ExecuteTime": {
     "end_time": "2023-11-30T13:40:54.098709800Z",
     "start_time": "2023-11-30T13:40:54.006170900Z"
    }
   },
   "outputs": [
    {
     "data": {
      "text/plain": "    Prediction  Target\n0    -0.000513       1\n1    -0.000592       1\n2    -0.000671       1\n3    -0.000750       1\n4    -0.000829       1\n5     0.000038       2\n6    -0.000162       2\n7    -0.000519       2\n8    -0.000906       2\n9    -0.001221       2\n10    0.001042       3\n11    0.001121       3\n12    0.001194       3\n13    0.001262       3\n14    0.001336       3",
      "text/html": "<div>\n<style scoped>\n    .dataframe tbody tr th:only-of-type {\n        vertical-align: middle;\n    }\n\n    .dataframe tbody tr th {\n        vertical-align: top;\n    }\n\n    .dataframe thead th {\n        text-align: right;\n    }\n</style>\n<table border=\"1\" class=\"dataframe\">\n  <thead>\n    <tr style=\"text-align: right;\">\n      <th></th>\n      <th>Prediction</th>\n      <th>Target</th>\n    </tr>\n  </thead>\n  <tbody>\n    <tr>\n      <th>0</th>\n      <td>-0.000513</td>\n      <td>1</td>\n    </tr>\n    <tr>\n      <th>1</th>\n      <td>-0.000592</td>\n      <td>1</td>\n    </tr>\n    <tr>\n      <th>2</th>\n      <td>-0.000671</td>\n      <td>1</td>\n    </tr>\n    <tr>\n      <th>3</th>\n      <td>-0.000750</td>\n      <td>1</td>\n    </tr>\n    <tr>\n      <th>4</th>\n      <td>-0.000829</td>\n      <td>1</td>\n    </tr>\n    <tr>\n      <th>5</th>\n      <td>0.000038</td>\n      <td>2</td>\n    </tr>\n    <tr>\n      <th>6</th>\n      <td>-0.000162</td>\n      <td>2</td>\n    </tr>\n    <tr>\n      <th>7</th>\n      <td>-0.000519</td>\n      <td>2</td>\n    </tr>\n    <tr>\n      <th>8</th>\n      <td>-0.000906</td>\n      <td>2</td>\n    </tr>\n    <tr>\n      <th>9</th>\n      <td>-0.001221</td>\n      <td>2</td>\n    </tr>\n    <tr>\n      <th>10</th>\n      <td>0.001042</td>\n      <td>3</td>\n    </tr>\n    <tr>\n      <th>11</th>\n      <td>0.001121</td>\n      <td>3</td>\n    </tr>\n    <tr>\n      <th>12</th>\n      <td>0.001194</td>\n      <td>3</td>\n    </tr>\n    <tr>\n      <th>13</th>\n      <td>0.001262</td>\n      <td>3</td>\n    </tr>\n    <tr>\n      <th>14</th>\n      <td>0.001336</td>\n      <td>3</td>\n    </tr>\n  </tbody>\n</table>\n</div>"
     },
     "execution_count": 74,
     "metadata": {},
     "output_type": "execute_result"
    }
   ],
   "source": [
    "my_predictions_df"
   ]
  },
  {
   "cell_type": "code",
   "execution_count": 74,
   "id": "a9dbb3eed4a46abb",
   "metadata": {
    "collapsed": false,
    "ExecuteTime": {
     "end_time": "2023-11-30T13:40:54.136872Z",
     "start_time": "2023-11-30T13:40:54.063758600Z"
    }
   },
   "outputs": [],
   "source": []
  }
 ],
 "metadata": {
  "kernelspec": {
   "display_name": "Python 3 (ipykernel)",
   "language": "python",
   "name": "python3"
  },
  "language_info": {
   "codemirror_mode": {
    "name": "ipython",
    "version": 3
   },
   "file_extension": ".py",
   "mimetype": "text/x-python",
   "name": "python",
   "nbconvert_exporter": "python",
   "pygments_lexer": "ipython3",
   "version": "3.9.16"
  }
 },
 "nbformat": 4,
 "nbformat_minor": 5
}
