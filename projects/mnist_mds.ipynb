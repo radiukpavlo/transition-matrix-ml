{
 "cells": [
  {
   "cell_type": "markdown",
   "source": [
    "## 1. Data Upload"
   ],
   "metadata": {
    "collapsed": false
   },
   "id": "9429755869ff6538"
  },
  {
   "cell_type": "code",
   "execution_count": 1,
   "outputs": [],
   "source": [
    "import pandas as pd\n",
    "import numpy as np\n",
    "from io import StringIO\n",
    "from sklearn.manifold import MDS\n",
    "from sklearn.preprocessing import StandardScaler\n",
    "from scipy.optimize import minimize\n",
    "\n",
    "path_csv = '.'\n",
    "\n",
    "# Read the CSV files into pandas dataframes\n",
    "input_formal_model = pd.read_csv(f\"{path_csv}/formal_model.csv\")"
   ],
   "metadata": {
    "collapsed": false,
    "ExecuteTime": {
     "end_time": "2023-11-29T17:51:34.197018600Z",
     "start_time": "2023-11-29T17:51:33.275776Z"
    }
   },
   "id": "7fde58ff0426c5dd"
  },
  {
   "cell_type": "code",
   "execution_count": 2,
   "outputs": [
    {
     "data": {
      "text/plain": "    ID  Target   f1   f2        f3        f4   f5\n0    1       1  2.8 -1.8 -2.800000  1.300000  0.4\n1    2       1  2.9 -1.9 -2.900000  1.400000  0.5\n2    3       1  3.0 -2.0 -3.000000  1.500000  0.6\n3    4       1  3.1 -2.1 -3.100000  1.600000  0.7\n4    5       1  3.2 -2.2 -3.200000  1.700000  0.8\n5    6       2 -1.6 -2.5  1.500000  0.200000  0.6\n6    7       2 -1.3 -2.7  1.300000  0.400000  0.8\n7    8       2 -1.0 -3.0  1.500000  0.600000  1.0\n8    9       2 -0.7 -3.2  1.700000  0.800000  1.2\n9   10       2 -0.5 -3.5  1.900000  1.000000  1.4\n10  11       3  1.2 -1.2  0.700000 -0.300000 -2.8\n11  12       3  1.1 -1.1  0.800000 -0.400000 -2.9\n12  13       3  1.0 -1.0  0.844444 -0.444444 -3.0\n13  14       3  0.9 -0.9  0.850000 -0.450000 -3.1\n14  15       3  0.8 -0.8  0.900000 -0.500000 -3.2",
      "text/html": "<div>\n<style scoped>\n    .dataframe tbody tr th:only-of-type {\n        vertical-align: middle;\n    }\n\n    .dataframe tbody tr th {\n        vertical-align: top;\n    }\n\n    .dataframe thead th {\n        text-align: right;\n    }\n</style>\n<table border=\"1\" class=\"dataframe\">\n  <thead>\n    <tr style=\"text-align: right;\">\n      <th></th>\n      <th>ID</th>\n      <th>Target</th>\n      <th>f1</th>\n      <th>f2</th>\n      <th>f3</th>\n      <th>f4</th>\n      <th>f5</th>\n    </tr>\n  </thead>\n  <tbody>\n    <tr>\n      <th>0</th>\n      <td>1</td>\n      <td>1</td>\n      <td>2.8</td>\n      <td>-1.8</td>\n      <td>-2.800000</td>\n      <td>1.300000</td>\n      <td>0.4</td>\n    </tr>\n    <tr>\n      <th>1</th>\n      <td>2</td>\n      <td>1</td>\n      <td>2.9</td>\n      <td>-1.9</td>\n      <td>-2.900000</td>\n      <td>1.400000</td>\n      <td>0.5</td>\n    </tr>\n    <tr>\n      <th>2</th>\n      <td>3</td>\n      <td>1</td>\n      <td>3.0</td>\n      <td>-2.0</td>\n      <td>-3.000000</td>\n      <td>1.500000</td>\n      <td>0.6</td>\n    </tr>\n    <tr>\n      <th>3</th>\n      <td>4</td>\n      <td>1</td>\n      <td>3.1</td>\n      <td>-2.1</td>\n      <td>-3.100000</td>\n      <td>1.600000</td>\n      <td>0.7</td>\n    </tr>\n    <tr>\n      <th>4</th>\n      <td>5</td>\n      <td>1</td>\n      <td>3.2</td>\n      <td>-2.2</td>\n      <td>-3.200000</td>\n      <td>1.700000</td>\n      <td>0.8</td>\n    </tr>\n    <tr>\n      <th>5</th>\n      <td>6</td>\n      <td>2</td>\n      <td>-1.6</td>\n      <td>-2.5</td>\n      <td>1.500000</td>\n      <td>0.200000</td>\n      <td>0.6</td>\n    </tr>\n    <tr>\n      <th>6</th>\n      <td>7</td>\n      <td>2</td>\n      <td>-1.3</td>\n      <td>-2.7</td>\n      <td>1.300000</td>\n      <td>0.400000</td>\n      <td>0.8</td>\n    </tr>\n    <tr>\n      <th>7</th>\n      <td>8</td>\n      <td>2</td>\n      <td>-1.0</td>\n      <td>-3.0</td>\n      <td>1.500000</td>\n      <td>0.600000</td>\n      <td>1.0</td>\n    </tr>\n    <tr>\n      <th>8</th>\n      <td>9</td>\n      <td>2</td>\n      <td>-0.7</td>\n      <td>-3.2</td>\n      <td>1.700000</td>\n      <td>0.800000</td>\n      <td>1.2</td>\n    </tr>\n    <tr>\n      <th>9</th>\n      <td>10</td>\n      <td>2</td>\n      <td>-0.5</td>\n      <td>-3.5</td>\n      <td>1.900000</td>\n      <td>1.000000</td>\n      <td>1.4</td>\n    </tr>\n    <tr>\n      <th>10</th>\n      <td>11</td>\n      <td>3</td>\n      <td>1.2</td>\n      <td>-1.2</td>\n      <td>0.700000</td>\n      <td>-0.300000</td>\n      <td>-2.8</td>\n    </tr>\n    <tr>\n      <th>11</th>\n      <td>12</td>\n      <td>3</td>\n      <td>1.1</td>\n      <td>-1.1</td>\n      <td>0.800000</td>\n      <td>-0.400000</td>\n      <td>-2.9</td>\n    </tr>\n    <tr>\n      <th>12</th>\n      <td>13</td>\n      <td>3</td>\n      <td>1.0</td>\n      <td>-1.0</td>\n      <td>0.844444</td>\n      <td>-0.444444</td>\n      <td>-3.0</td>\n    </tr>\n    <tr>\n      <th>13</th>\n      <td>14</td>\n      <td>3</td>\n      <td>0.9</td>\n      <td>-0.9</td>\n      <td>0.850000</td>\n      <td>-0.450000</td>\n      <td>-3.1</td>\n    </tr>\n    <tr>\n      <th>14</th>\n      <td>15</td>\n      <td>3</td>\n      <td>0.8</td>\n      <td>-0.8</td>\n      <td>0.900000</td>\n      <td>-0.500000</td>\n      <td>-3.2</td>\n    </tr>\n  </tbody>\n</table>\n</div>"
     },
     "execution_count": 2,
     "metadata": {},
     "output_type": "execute_result"
    }
   ],
   "source": [
    "input_formal_model"
   ],
   "metadata": {
    "collapsed": false,
    "ExecuteTime": {
     "end_time": "2023-11-29T17:51:34.213016100Z",
     "start_time": "2023-11-29T17:51:34.198019900Z"
    }
   },
   "id": "a4bf3067abb75f37"
  },
  {
   "cell_type": "markdown",
   "source": [
    "## 2. Multi-dimensional scaling"
   ],
   "metadata": {
    "collapsed": false
   },
   "id": "e695dfea778f3996"
  },
  {
   "cell_type": "code",
   "execution_count": 3,
   "outputs": [],
   "source": [
    "# Extract the necessary subtables\n",
    "formal_model_features = input_formal_model.drop('Target', axis=1).drop('ID', axis=1)\n",
    "formal_model_with_id = input_formal_model.drop('Target', axis=1)\n",
    "formal_model_id = input_formal_model['ID']\n",
    "formal_model_target = input_formal_model['Target']\n",
    "\n",
    "# Standardize the data\n",
    "scaler = StandardScaler()\n",
    "X_scaled = scaler.fit_transform(formal_model_features)\n",
    "\n",
    "# Apply MDS to reduce the dimensions to 2\n",
    "mds = MDS(n_components=2, normalized_stress='auto')\n",
    "X_mds = mds.fit_transform(X_scaled)\n",
    "\n",
    "# Convert the reduced data back to a pandas DataFrame\n",
    "formal_model_reduced = pd.DataFrame(X_mds, columns=[\"x1\", \"x2\"])\n"
   ],
   "metadata": {
    "collapsed": false,
    "ExecuteTime": {
     "end_time": "2023-11-29T17:51:34.292537300Z",
     "start_time": "2023-11-29T17:51:34.216019400Z"
    }
   },
   "id": "f65e9e1eb4935bbd"
  },
  {
   "cell_type": "code",
   "execution_count": 4,
   "outputs": [
    {
     "data": {
      "text/plain": "    ID   f1   f2        f3        f4   f5\n0    1  2.8 -1.8 -2.800000  1.300000  0.4\n1    2  2.9 -1.9 -2.900000  1.400000  0.5\n2    3  3.0 -2.0 -3.000000  1.500000  0.6\n3    4  3.1 -2.1 -3.100000  1.600000  0.7\n4    5  3.2 -2.2 -3.200000  1.700000  0.8\n5    6 -1.6 -2.5  1.500000  0.200000  0.6\n6    7 -1.3 -2.7  1.300000  0.400000  0.8\n7    8 -1.0 -3.0  1.500000  0.600000  1.0\n8    9 -0.7 -3.2  1.700000  0.800000  1.2\n9   10 -0.5 -3.5  1.900000  1.000000  1.4\n10  11  1.2 -1.2  0.700000 -0.300000 -2.8\n11  12  1.1 -1.1  0.800000 -0.400000 -2.9\n12  13  1.0 -1.0  0.844444 -0.444444 -3.0\n13  14  0.9 -0.9  0.850000 -0.450000 -3.1\n14  15  0.8 -0.8  0.900000 -0.500000 -3.2",
      "text/html": "<div>\n<style scoped>\n    .dataframe tbody tr th:only-of-type {\n        vertical-align: middle;\n    }\n\n    .dataframe tbody tr th {\n        vertical-align: top;\n    }\n\n    .dataframe thead th {\n        text-align: right;\n    }\n</style>\n<table border=\"1\" class=\"dataframe\">\n  <thead>\n    <tr style=\"text-align: right;\">\n      <th></th>\n      <th>ID</th>\n      <th>f1</th>\n      <th>f2</th>\n      <th>f3</th>\n      <th>f4</th>\n      <th>f5</th>\n    </tr>\n  </thead>\n  <tbody>\n    <tr>\n      <th>0</th>\n      <td>1</td>\n      <td>2.8</td>\n      <td>-1.8</td>\n      <td>-2.800000</td>\n      <td>1.300000</td>\n      <td>0.4</td>\n    </tr>\n    <tr>\n      <th>1</th>\n      <td>2</td>\n      <td>2.9</td>\n      <td>-1.9</td>\n      <td>-2.900000</td>\n      <td>1.400000</td>\n      <td>0.5</td>\n    </tr>\n    <tr>\n      <th>2</th>\n      <td>3</td>\n      <td>3.0</td>\n      <td>-2.0</td>\n      <td>-3.000000</td>\n      <td>1.500000</td>\n      <td>0.6</td>\n    </tr>\n    <tr>\n      <th>3</th>\n      <td>4</td>\n      <td>3.1</td>\n      <td>-2.1</td>\n      <td>-3.100000</td>\n      <td>1.600000</td>\n      <td>0.7</td>\n    </tr>\n    <tr>\n      <th>4</th>\n      <td>5</td>\n      <td>3.2</td>\n      <td>-2.2</td>\n      <td>-3.200000</td>\n      <td>1.700000</td>\n      <td>0.8</td>\n    </tr>\n    <tr>\n      <th>5</th>\n      <td>6</td>\n      <td>-1.6</td>\n      <td>-2.5</td>\n      <td>1.500000</td>\n      <td>0.200000</td>\n      <td>0.6</td>\n    </tr>\n    <tr>\n      <th>6</th>\n      <td>7</td>\n      <td>-1.3</td>\n      <td>-2.7</td>\n      <td>1.300000</td>\n      <td>0.400000</td>\n      <td>0.8</td>\n    </tr>\n    <tr>\n      <th>7</th>\n      <td>8</td>\n      <td>-1.0</td>\n      <td>-3.0</td>\n      <td>1.500000</td>\n      <td>0.600000</td>\n      <td>1.0</td>\n    </tr>\n    <tr>\n      <th>8</th>\n      <td>9</td>\n      <td>-0.7</td>\n      <td>-3.2</td>\n      <td>1.700000</td>\n      <td>0.800000</td>\n      <td>1.2</td>\n    </tr>\n    <tr>\n      <th>9</th>\n      <td>10</td>\n      <td>-0.5</td>\n      <td>-3.5</td>\n      <td>1.900000</td>\n      <td>1.000000</td>\n      <td>1.4</td>\n    </tr>\n    <tr>\n      <th>10</th>\n      <td>11</td>\n      <td>1.2</td>\n      <td>-1.2</td>\n      <td>0.700000</td>\n      <td>-0.300000</td>\n      <td>-2.8</td>\n    </tr>\n    <tr>\n      <th>11</th>\n      <td>12</td>\n      <td>1.1</td>\n      <td>-1.1</td>\n      <td>0.800000</td>\n      <td>-0.400000</td>\n      <td>-2.9</td>\n    </tr>\n    <tr>\n      <th>12</th>\n      <td>13</td>\n      <td>1.0</td>\n      <td>-1.0</td>\n      <td>0.844444</td>\n      <td>-0.444444</td>\n      <td>-3.0</td>\n    </tr>\n    <tr>\n      <th>13</th>\n      <td>14</td>\n      <td>0.9</td>\n      <td>-0.9</td>\n      <td>0.850000</td>\n      <td>-0.450000</td>\n      <td>-3.1</td>\n    </tr>\n    <tr>\n      <th>14</th>\n      <td>15</td>\n      <td>0.8</td>\n      <td>-0.8</td>\n      <td>0.900000</td>\n      <td>-0.500000</td>\n      <td>-3.2</td>\n    </tr>\n  </tbody>\n</table>\n</div>"
     },
     "execution_count": 4,
     "metadata": {},
     "output_type": "execute_result"
    }
   ],
   "source": [
    "formal_model_with_id.to_csv('formal_model_with_id.csv', index=False)\n",
    "formal_model_with_id"
   ],
   "metadata": {
    "collapsed": false,
    "ExecuteTime": {
     "end_time": "2023-11-29T17:51:34.298536800Z",
     "start_time": "2023-11-29T17:51:34.259018700Z"
    }
   },
   "id": "4c53631ef3401b86"
  },
  {
   "cell_type": "markdown",
   "source": [
    "## 3. Visual analytics"
   ],
   "metadata": {
    "collapsed": false
   },
   "id": "e5da81fd32728ac3"
  },
  {
   "cell_type": "code",
   "execution_count": 5,
   "outputs": [],
   "source": [
    "def interpolate_coordinates(x_1, x_n, n):\n",
    "    \"\"\"\n",
    "    This function calculates the values of the interpolate_coordinates\n",
    "    of a line based on its first and last coordinates.\n",
    "    :param x_1:\n",
    "    :param x_n:\n",
    "    :param n:\n",
    "    :return:\n",
    "    \"\"\"\n",
    "    # Ensure n is greater than 1 to avoid division by zero\n",
    "    if n <= 1:\n",
    "        raise ValueError(\"n must be greater than 1 to calculate intermediate points.\")\n",
    "\n",
    "    # List to hold all the coordinates including the first and the last\n",
    "    inter_coordinates = []\n",
    "\n",
    "    # Calculate each intermediate coordinate\n",
    "    for i in range(0, n):\n",
    "        x_i = x_1 + ((x_n - x_1) * i) / (n - 1)\n",
    "        inter_coordinates.append(x_i)\n",
    "\n",
    "    return inter_coordinates\n"
   ],
   "metadata": {
    "collapsed": false,
    "ExecuteTime": {
     "end_time": "2023-11-29T17:51:34.332536Z",
     "start_time": "2023-11-29T17:51:34.277027500Z"
    }
   },
   "id": "41b41a730c5cf71b"
  },
  {
   "cell_type": "code",
   "execution_count": 6,
   "outputs": [
    {
     "data": {
      "text/plain": "    x1   x2\n0  2.0 -2.0\n1  1.0 -1.5\n2  0.0 -1.0\n3 -1.0 -0.5\n4 -2.0  0.0",
      "text/html": "<div>\n<style scoped>\n    .dataframe tbody tr th:only-of-type {\n        vertical-align: middle;\n    }\n\n    .dataframe tbody tr th {\n        vertical-align: top;\n    }\n\n    .dataframe thead th {\n        text-align: right;\n    }\n</style>\n<table border=\"1\" class=\"dataframe\">\n  <thead>\n    <tr style=\"text-align: right;\">\n      <th></th>\n      <th>x1</th>\n      <th>x2</th>\n    </tr>\n  </thead>\n  <tbody>\n    <tr>\n      <th>0</th>\n      <td>2.0</td>\n      <td>-2.0</td>\n    </tr>\n    <tr>\n      <th>1</th>\n      <td>1.0</td>\n      <td>-1.5</td>\n    </tr>\n    <tr>\n      <th>2</th>\n      <td>0.0</td>\n      <td>-1.0</td>\n    </tr>\n    <tr>\n      <th>3</th>\n      <td>-1.0</td>\n      <td>-0.5</td>\n    </tr>\n    <tr>\n      <th>4</th>\n      <td>-2.0</td>\n      <td>0.0</td>\n    </tr>\n  </tbody>\n</table>\n</div>"
     },
     "execution_count": 6,
     "metadata": {},
     "output_type": "execute_result"
    }
   ],
   "source": [
    "x_1_first = 2\n",
    "x_1_last = -2\n",
    "x_2_first = -2\n",
    "x_2_last = 0\n",
    "num_points = 5\n",
    "\n",
    "x_1_inter_coordinates = interpolate_coordinates(x_1_first, x_1_last, num_points)\n",
    "x_2_inter_coordinates = interpolate_coordinates(x_2_first, x_2_last, num_points)\n",
    "# print(x_1_inter_coordinates)\n",
    "# print(x_2_inter_coordinates)\n",
    "\n",
    "# Create a DataFrame from the coordinates\n",
    "coordinates_df = pd.DataFrame({'x1': x_1_inter_coordinates, 'x2': x_2_inter_coordinates})\n",
    "coordinates_df\n"
   ],
   "metadata": {
    "collapsed": false,
    "ExecuteTime": {
     "end_time": "2023-11-29T17:51:34.335536Z",
     "start_time": "2023-11-29T17:51:34.291539200Z"
    }
   },
   "id": "966d400b47e30a90"
  },
  {
   "cell_type": "code",
   "execution_count": 7,
   "outputs": [
    {
     "data": {
      "text/plain": "<Figure size 1000x600 with 1 Axes>",
      "image/png": "[encoded data removed]"
     },
     "metadata": {},
     "output_type": "display_data"
    }
   ],
   "source": [
    "import matplotlib.pyplot as plt\n",
    "\n",
    "# Include class colors and a legend\n",
    "colors = {1: 'red', 2: 'green', 3: 'blue'}  # Assigning colors to each class\n",
    "\n",
    "plt.figure(figsize=(10, 6))\n",
    "\n",
    "# Iterate over each class and plot each class with a different color\n",
    "for cls in input_formal_model['Target'].unique():\n",
    "    cls_data = formal_model_reduced[input_formal_model['Target'] == cls]\n",
    "    plt.scatter(cls_data['x1'], cls_data['x2'], s=100, edgecolor='k', color=colors[cls], label=f'Class {cls}')\n",
    "\n",
    "# Annotate points with ID\n",
    "for i, txt in enumerate(input_formal_model['ID']):\n",
    "    plt.annotate(txt, (formal_model_reduced['x1'].iloc[i], formal_model_reduced['x2'].iloc[i]), fontsize=9)\n",
    "\n",
    "# Draw the separating line\n",
    "line_x1 = coordinates_df['x1'].tolist()\n",
    "line_x2 = coordinates_df['x2'].tolist()\n",
    "plt.plot(line_x1, line_x2, 'ro-')\n",
    "\n",
    "plt.xlabel(\"X 1\")\n",
    "plt.ylabel(\"X 2\")\n",
    "plt.title(f\"2D MDS Reduction of {'input_formal_model'}\")\n",
    "plt.grid(True)\n",
    "plt.legend()\n",
    "plt.tight_layout()\n",
    "plt.show()\n"
   ],
   "metadata": {
    "collapsed": false,
    "ExecuteTime": {
     "end_time": "2023-11-29T17:51:35.069861800Z",
     "start_time": "2023-11-29T17:51:34.308536100Z"
    }
   },
   "id": "da6d2e8262c65420"
  },
  {
   "cell_type": "markdown",
   "source": [
    "## 4. Calculate Transition Matrix"
   ],
   "metadata": {
    "collapsed": false
   },
   "id": "ebc5f8d71f9e871e"
  },
  {
   "cell_type": "markdown",
   "source": [
    "### 3.1. Singular Value Decomposition (SVD)"
   ],
   "metadata": {
    "collapsed": false
   },
   "id": "ef465326b3763a84"
  },
  {
   "cell_type": "code",
   "execution_count": 8,
   "outputs": [],
   "source": [
    "# Receive values from the matrix A DataFrame \n",
    "formal_model_reduced_values = formal_model_reduced.values\n",
    "\n",
    "# Calculate SVD\n",
    "U, s, Vt = np.linalg.svd(formal_model_reduced_values)\n",
    "\n",
    "# Construct the full diagonal matrix\n",
    "S = np.zeros(formal_model_reduced_values.shape)\n",
    "for i in range(min(formal_model_reduced_values.shape)):\n",
    "    S[i, i] = s[i]\n",
    "\n",
    "# print(\"U:\\n\", U)\n",
    "# print(\"\\nS:\\n\", S)\n",
    "# print(\"\\nVt:\\n\", Vt)\n"
   ],
   "metadata": {
    "collapsed": false,
    "ExecuteTime": {
     "end_time": "2023-11-29T17:51:35.085891Z",
     "start_time": "2023-11-29T17:51:35.061861500Z"
    }
   },
   "id": "c9b16087dcd6299f"
  },
  {
   "cell_type": "markdown",
   "source": [
    "### 3.2. Create the reconstructed matrix of SVD"
   ],
   "metadata": {
    "collapsed": false
   },
   "id": "20ecf1e1d1743431"
  },
  {
   "cell_type": "code",
   "execution_count": 9,
   "outputs": [],
   "source": [
    "# Recompute the original matrix using U, S, and Vt\n",
    "reconstructed_matrix = U.dot(S.dot(Vt))\n",
    "\n",
    "# Convert the reconstructed matrix to a pandas DataFrame, if desired\n",
    "reconstructed_df = pd.DataFrame(reconstructed_matrix)\n"
   ],
   "metadata": {
    "collapsed": false,
    "ExecuteTime": {
     "end_time": "2023-11-29T17:51:35.158403800Z",
     "start_time": "2023-11-29T17:51:35.076865300Z"
    }
   },
   "id": "300dbbed7537914f"
  },
  {
   "cell_type": "code",
   "execution_count": 10,
   "outputs": [
    {
     "data": {
      "text/plain": "           0         1\n0   0.131358 -1.973284\n1   0.258753 -2.103057\n2   0.388700 -2.232669\n3   0.539877 -2.351655\n4   0.700758 -2.465481\n5   0.994299  1.735109\n6   1.249399  1.422603\n7   1.640171  1.220070\n8   1.963927  1.049257\n9   2.385963  0.964396\n10 -1.798469  0.775340\n11 -1.941021  0.889900\n12 -2.056705  0.970244\n13 -2.167509  1.008907\n14 -2.289501  1.090319",
      "text/html": "<div>\n<style scoped>\n    .dataframe tbody tr th:only-of-type {\n        vertical-align: middle;\n    }\n\n    .dataframe tbody tr th {\n        vertical-align: top;\n    }\n\n    .dataframe thead th {\n        text-align: right;\n    }\n</style>\n<table border=\"1\" class=\"dataframe\">\n  <thead>\n    <tr style=\"text-align: right;\">\n      <th></th>\n      <th>0</th>\n      <th>1</th>\n    </tr>\n  </thead>\n  <tbody>\n    <tr>\n      <th>0</th>\n      <td>0.131358</td>\n      <td>-1.973284</td>\n    </tr>\n    <tr>\n      <th>1</th>\n      <td>0.258753</td>\n      <td>-2.103057</td>\n    </tr>\n    <tr>\n      <th>2</th>\n      <td>0.388700</td>\n      <td>-2.232669</td>\n    </tr>\n    <tr>\n      <th>3</th>\n      <td>0.539877</td>\n      <td>-2.351655</td>\n    </tr>\n    <tr>\n      <th>4</th>\n      <td>0.700758</td>\n      <td>-2.465481</td>\n    </tr>\n    <tr>\n      <th>5</th>\n      <td>0.994299</td>\n      <td>1.735109</td>\n    </tr>\n    <tr>\n      <th>6</th>\n      <td>1.249399</td>\n      <td>1.422603</td>\n    </tr>\n    <tr>\n      <th>7</th>\n      <td>1.640171</td>\n      <td>1.220070</td>\n    </tr>\n    <tr>\n      <th>8</th>\n      <td>1.963927</td>\n      <td>1.049257</td>\n    </tr>\n    <tr>\n      <th>9</th>\n      <td>2.385963</td>\n      <td>0.964396</td>\n    </tr>\n    <tr>\n      <th>10</th>\n      <td>-1.798469</td>\n      <td>0.775340</td>\n    </tr>\n    <tr>\n      <th>11</th>\n      <td>-1.941021</td>\n      <td>0.889900</td>\n    </tr>\n    <tr>\n      <th>12</th>\n      <td>-2.056705</td>\n      <td>0.970244</td>\n    </tr>\n    <tr>\n      <th>13</th>\n      <td>-2.167509</td>\n      <td>1.008907</td>\n    </tr>\n    <tr>\n      <th>14</th>\n      <td>-2.289501</td>\n      <td>1.090319</td>\n    </tr>\n  </tbody>\n</table>\n</div>"
     },
     "execution_count": 10,
     "metadata": {},
     "output_type": "execute_result"
    }
   ],
   "source": [
    "reconstructed_df"
   ],
   "metadata": {
    "collapsed": false,
    "ExecuteTime": {
     "end_time": "2023-11-29T17:51:35.159403700Z",
     "start_time": "2023-11-29T17:51:35.091407500Z"
    }
   },
   "id": "c855a3fcf677b065"
  },
  {
   "cell_type": "code",
   "execution_count": 11,
   "outputs": [
    {
     "data": {
      "text/plain": "          x1        x2\n0   0.131358 -1.973284\n1   0.258753 -2.103057\n2   0.388700 -2.232669\n3   0.539877 -2.351655\n4   0.700758 -2.465481\n5   0.994299  1.735109\n6   1.249399  1.422603\n7   1.640171  1.220070\n8   1.963927  1.049257\n9   2.385963  0.964396\n10 -1.798469  0.775340\n11 -1.941021  0.889900\n12 -2.056705  0.970244\n13 -2.167509  1.008907\n14 -2.289501  1.090319",
      "text/html": "<div>\n<style scoped>\n    .dataframe tbody tr th:only-of-type {\n        vertical-align: middle;\n    }\n\n    .dataframe tbody tr th {\n        vertical-align: top;\n    }\n\n    .dataframe thead th {\n        text-align: right;\n    }\n</style>\n<table border=\"1\" class=\"dataframe\">\n  <thead>\n    <tr style=\"text-align: right;\">\n      <th></th>\n      <th>x1</th>\n      <th>x2</th>\n    </tr>\n  </thead>\n  <tbody>\n    <tr>\n      <th>0</th>\n      <td>0.131358</td>\n      <td>-1.973284</td>\n    </tr>\n    <tr>\n      <th>1</th>\n      <td>0.258753</td>\n      <td>-2.103057</td>\n    </tr>\n    <tr>\n      <th>2</th>\n      <td>0.388700</td>\n      <td>-2.232669</td>\n    </tr>\n    <tr>\n      <th>3</th>\n      <td>0.539877</td>\n      <td>-2.351655</td>\n    </tr>\n    <tr>\n      <th>4</th>\n      <td>0.700758</td>\n      <td>-2.465481</td>\n    </tr>\n    <tr>\n      <th>5</th>\n      <td>0.994299</td>\n      <td>1.735109</td>\n    </tr>\n    <tr>\n      <th>6</th>\n      <td>1.249399</td>\n      <td>1.422603</td>\n    </tr>\n    <tr>\n      <th>7</th>\n      <td>1.640171</td>\n      <td>1.220070</td>\n    </tr>\n    <tr>\n      <th>8</th>\n      <td>1.963927</td>\n      <td>1.049257</td>\n    </tr>\n    <tr>\n      <th>9</th>\n      <td>2.385963</td>\n      <td>0.964396</td>\n    </tr>\n    <tr>\n      <th>10</th>\n      <td>-1.798469</td>\n      <td>0.775340</td>\n    </tr>\n    <tr>\n      <th>11</th>\n      <td>-1.941021</td>\n      <td>0.889900</td>\n    </tr>\n    <tr>\n      <th>12</th>\n      <td>-2.056705</td>\n      <td>0.970244</td>\n    </tr>\n    <tr>\n      <th>13</th>\n      <td>-2.167509</td>\n      <td>1.008907</td>\n    </tr>\n    <tr>\n      <th>14</th>\n      <td>-2.289501</td>\n      <td>1.090319</td>\n    </tr>\n  </tbody>\n</table>\n</div>"
     },
     "execution_count": 11,
     "metadata": {},
     "output_type": "execute_result"
    }
   ],
   "source": [
    "formal_model_reduced"
   ],
   "metadata": {
    "collapsed": false,
    "ExecuteTime": {
     "end_time": "2023-11-29T17:51:35.191899600Z",
     "start_time": "2023-11-29T17:51:35.107407300Z"
    }
   },
   "id": "81f9ceb900efd47d"
  },
  {
   "cell_type": "markdown",
   "source": [
    "### 3.3. Calculate the generalized inverse of input matrix"
   ],
   "metadata": {
    "collapsed": false
   },
   "id": "e22636c4bc2289d4"
  },
  {
   "cell_type": "code",
   "execution_count": 12,
   "outputs": [],
   "source": [
    "# Calculate the generalized (Moore-Penrose) inverse\n",
    "formal_model_reduced_pinv = np.linalg.pinv(formal_model_reduced_values)\n",
    "\n",
    "# Convert to a pandas DataFrame\n",
    "formal_model_reduced_pinv_df = pd.DataFrame(formal_model_reduced_pinv)"
   ],
   "metadata": {
    "collapsed": false,
    "ExecuteTime": {
     "end_time": "2023-11-29T17:51:35.192899600Z",
     "start_time": "2023-11-29T17:51:35.124404300Z"
    }
   },
   "id": "d82d42f8951a5a24"
  },
  {
   "cell_type": "code",
   "execution_count": 13,
   "outputs": [
    {
     "data": {
      "text/plain": "         0         1         2         3         4        5         6   \\\n0 -0.002956  0.000110  0.003247  0.007002  0.011041  0.03307  0.039035   \n1 -0.052279 -0.055322 -0.058353 -0.061029 -0.063534  0.04966  0.042160   \n\n         7         8         9         10        11        12        13  \\\n0  0.049090  0.057411  0.068716 -0.046800 -0.050333 -0.053242 -0.056156   \n1  0.038049  0.034562  0.033699  0.014732  0.017318  0.019080  0.019744   \n\n         14  \n0 -0.059235  \n1  0.021514  ",
      "text/html": "<div>\n<style scoped>\n    .dataframe tbody tr th:only-of-type {\n        vertical-align: middle;\n    }\n\n    .dataframe tbody tr th {\n        vertical-align: top;\n    }\n\n    .dataframe thead th {\n        text-align: right;\n    }\n</style>\n<table border=\"1\" class=\"dataframe\">\n  <thead>\n    <tr style=\"text-align: right;\">\n      <th></th>\n      <th>0</th>\n      <th>1</th>\n      <th>2</th>\n      <th>3</th>\n      <th>4</th>\n      <th>5</th>\n      <th>6</th>\n      <th>7</th>\n      <th>8</th>\n      <th>9</th>\n      <th>10</th>\n      <th>11</th>\n      <th>12</th>\n      <th>13</th>\n      <th>14</th>\n    </tr>\n  </thead>\n  <tbody>\n    <tr>\n      <th>0</th>\n      <td>-0.002956</td>\n      <td>0.000110</td>\n      <td>0.003247</td>\n      <td>0.007002</td>\n      <td>0.011041</td>\n      <td>0.03307</td>\n      <td>0.039035</td>\n      <td>0.049090</td>\n      <td>0.057411</td>\n      <td>0.068716</td>\n      <td>-0.046800</td>\n      <td>-0.050333</td>\n      <td>-0.053242</td>\n      <td>-0.056156</td>\n      <td>-0.059235</td>\n    </tr>\n    <tr>\n      <th>1</th>\n      <td>-0.052279</td>\n      <td>-0.055322</td>\n      <td>-0.058353</td>\n      <td>-0.061029</td>\n      <td>-0.063534</td>\n      <td>0.04966</td>\n      <td>0.042160</td>\n      <td>0.038049</td>\n      <td>0.034562</td>\n      <td>0.033699</td>\n      <td>0.014732</td>\n      <td>0.017318</td>\n      <td>0.019080</td>\n      <td>0.019744</td>\n      <td>0.021514</td>\n    </tr>\n  </tbody>\n</table>\n</div>"
     },
     "execution_count": 13,
     "metadata": {},
     "output_type": "execute_result"
    }
   ],
   "source": [
    "formal_model_reduced_pinv_df"
   ],
   "metadata": {
    "collapsed": false,
    "ExecuteTime": {
     "end_time": "2023-11-29T17:51:35.193900300Z",
     "start_time": "2023-11-29T17:51:35.139406500Z"
    }
   },
   "id": "f723de97150d5c16"
  },
  {
   "cell_type": "markdown",
   "source": [
    "### 3.4. Calculate transition matrix T"
   ],
   "metadata": {
    "collapsed": false
   },
   "id": "ae217465b26b7db8"
  },
  {
   "cell_type": "code",
   "execution_count": 14,
   "outputs": [],
   "source": [
    "transition_matrix_T = formal_model_reduced_pinv_df.dot(formal_model_features)"
   ],
   "metadata": {
    "collapsed": false,
    "ExecuteTime": {
     "end_time": "2023-11-29T17:51:35.258899700Z",
     "start_time": "2023-11-29T17:51:35.156405600Z"
    }
   },
   "id": "41df41ba6680071d"
  },
  {
   "cell_type": "code",
   "execution_count": 15,
   "outputs": [
    {
     "data": {
      "text/plain": "         f1        f2        f3        f4        f5\n0 -0.431169 -0.537241  0.124292  0.310206  1.080180\n1 -0.996937 -0.087603  1.259949 -0.367093 -0.265671",
      "text/html": "<div>\n<style scoped>\n    .dataframe tbody tr th:only-of-type {\n        vertical-align: middle;\n    }\n\n    .dataframe tbody tr th {\n        vertical-align: top;\n    }\n\n    .dataframe thead th {\n        text-align: right;\n    }\n</style>\n<table border=\"1\" class=\"dataframe\">\n  <thead>\n    <tr style=\"text-align: right;\">\n      <th></th>\n      <th>f1</th>\n      <th>f2</th>\n      <th>f3</th>\n      <th>f4</th>\n      <th>f5</th>\n    </tr>\n  </thead>\n  <tbody>\n    <tr>\n      <th>0</th>\n      <td>-0.431169</td>\n      <td>-0.537241</td>\n      <td>0.124292</td>\n      <td>0.310206</td>\n      <td>1.080180</td>\n    </tr>\n    <tr>\n      <th>1</th>\n      <td>-0.996937</td>\n      <td>-0.087603</td>\n      <td>1.259949</td>\n      <td>-0.367093</td>\n      <td>-0.265671</td>\n    </tr>\n  </tbody>\n</table>\n</div>"
     },
     "execution_count": 15,
     "metadata": {},
     "output_type": "execute_result"
    }
   ],
   "source": [
    "transition_matrix_T"
   ],
   "metadata": {
    "collapsed": false,
    "ExecuteTime": {
     "end_time": "2023-11-29T17:51:35.260900300Z",
     "start_time": "2023-11-29T17:51:35.170407Z"
    }
   },
   "id": "481f9ce7d7ea80a6"
  },
  {
   "cell_type": "markdown",
   "source": [
    "## 4. Create Hyperplane"
   ],
   "metadata": {
    "collapsed": false
   },
   "id": "63707c7d6fa3b351"
  },
  {
   "cell_type": "code",
   "execution_count": 16,
   "outputs": [],
   "source": [
    "coordinates_hyperplane_df = coordinates_df.values @ transition_matrix_T.values"
   ],
   "metadata": {
    "collapsed": false,
    "ExecuteTime": {
     "end_time": "2023-11-29T17:51:35.304417200Z",
     "start_time": "2023-11-29T17:51:35.185410500Z"
    }
   },
   "id": "af020167e0a630b2"
  },
  {
   "cell_type": "code",
   "execution_count": 17,
   "outputs": [
    {
     "data": {
      "text/plain": "array([[ 1.13153726, -0.89927596, -2.27131298,  1.35459821,  2.69170259],\n       [ 1.06423723, -0.40583628, -1.76563097,  0.86084542,  1.47868696],\n       [ 0.9969372 ,  0.08760341, -1.25994895,  0.36709262,  0.26567133],\n       [ 0.92963717,  0.5810431 , -0.75426694, -0.12666017, -0.9473443 ],\n       [ 0.86233714,  1.07448278, -0.24858493, -0.62041297, -2.16035994]])"
     },
     "execution_count": 17,
     "metadata": {},
     "output_type": "execute_result"
    }
   ],
   "source": [
    "coordinates_hyperplane_df"
   ],
   "metadata": {
    "collapsed": false,
    "ExecuteTime": {
     "end_time": "2023-11-29T17:51:35.338418100Z",
     "start_time": "2023-11-29T17:51:35.201902800Z"
    }
   },
   "id": "a49ccb2f95c82aa4"
  },
  {
   "cell_type": "code",
   "execution_count": 18,
   "outputs": [
    {
     "data": {
      "text/plain": "array([[ 1.        ,  1.13153726, -0.89927596, -2.27131298,  1.35459821,\n         2.69170259],\n       [ 1.        ,  1.06423723, -0.40583628, -1.76563097,  0.86084542,\n         1.47868696],\n       [ 1.        ,  0.9969372 ,  0.08760341, -1.25994895,  0.36709262,\n         0.26567133],\n       [ 1.        ,  0.92963717,  0.5810431 , -0.75426694, -0.12666017,\n        -0.9473443 ],\n       [ 1.        ,  0.86233714,  1.07448278, -0.24858493, -0.62041297,\n        -2.16035994]])"
     },
     "execution_count": 18,
     "metadata": {},
     "output_type": "execute_result"
    }
   ],
   "source": [
    "# Adding a new column with all values set to 1\n",
    "new_column = np.ones((coordinates_hyperplane_df.shape[0], 1))\n",
    "feature_vector_inverse = np.hstack((new_column, coordinates_hyperplane_df))\n",
    "\n",
    "feature_vector_inverse"
   ],
   "metadata": {
    "collapsed": false,
    "ExecuteTime": {
     "end_time": "2023-11-29T17:51:35.378424Z",
     "start_time": "2023-11-29T17:51:35.216903800Z"
    }
   },
   "id": "e1f055e528cfd8f"
  },
  {
   "cell_type": "code",
   "execution_count": 19,
   "outputs": [
    {
     "name": "stdout",
     "output_type": "stream",
     "text": [
      "Optimization terminated successfully    (Exit mode 0)\n",
      "            Current function value: 1.0717127609123639e-05\n",
      "            Iterations: 6\n",
      "            Function evaluations: 72\n",
      "            Gradient evaluations: 6\n",
      "Optimization was successful. The weights are:\n",
      "      weight\n",
      "w0 -0.000092\n",
      "w1 -0.000012\n",
      "w2 -0.000375\n",
      "w3 -0.000131\n",
      "w4  0.000096\n",
      "w5 -0.000246\n",
      "\n",
      "Value of the optimization criteria (objective function value): 1.0717127609123639e-05\n",
      "\n",
      "Convergence status: Optimization terminated successfully\n"
     ]
    }
   ],
   "source": [
    "# Optimization criteria function\n",
    "def optimization_criteria(W, X):\n",
    "    return np.sum(np.abs(X.dot(W.T)))\n",
    "\n",
    "# Initial guess (starting point for the optimization algorithm)\n",
    "weights_inverse_initial = np.zeros(feature_vector_inverse.shape[1])\n",
    "\n",
    "# Bounds for W (setting it between -1 and 1)\n",
    "bounds = [(-1, 1) for _ in range(feature_vector_inverse.shape[1])]\n",
    "\n",
    "# The actual optimization\n",
    "res = minimize(\n",
    "    optimization_criteria,\n",
    "    weights_inverse_initial,\n",
    "    args=(feature_vector_inverse,),\n",
    "    method='SLSQP',\n",
    "    bounds=bounds,\n",
    "    options={'disp': True}\n",
    ")\n",
    "\n",
    "# Checking if the optimization was successful\n",
    "if res.success:\n",
    "    # Extract the weights into a DataFrame\n",
    "    weights_inverse_output = pd.DataFrame(res.x, index=[f'w{i}' for i in range(len(res.x))], columns=['weight'])\n",
    "\n",
    "    print(\"Optimization was successful. The weights are:\")\n",
    "    print(weights_inverse_output)\n",
    "\n",
    "    # Output the value of the optimization criteria\n",
    "    print(\"\\nValue of the optimization criteria (objective function value):\", res.fun)\n",
    "else:\n",
    "    print(\"Optimization failed.\")\n",
    "\n",
    "# Checking for convergence\n",
    "print(\"\\nConvergence status:\", res.message)\n"
   ],
   "metadata": {
    "collapsed": false,
    "ExecuteTime": {
     "end_time": "2023-11-29T17:51:35.379451900Z",
     "start_time": "2023-11-29T17:51:35.236904300Z"
    }
   },
   "id": "f5c5eee4c62ff7f6"
  },
  {
   "cell_type": "code",
   "execution_count": 26,
   "outputs": [
    {
     "data": {
      "text/plain": "      weight\nw0 -0.000092\nw1 -0.000012\nw2 -0.000375\nw3 -0.000131\nw4  0.000096\nw5 -0.000246",
      "text/html": "<div>\n<style scoped>\n    .dataframe tbody tr th:only-of-type {\n        vertical-align: middle;\n    }\n\n    .dataframe tbody tr th {\n        vertical-align: top;\n    }\n\n    .dataframe thead th {\n        text-align: right;\n    }\n</style>\n<table border=\"1\" class=\"dataframe\">\n  <thead>\n    <tr style=\"text-align: right;\">\n      <th></th>\n      <th>weight</th>\n    </tr>\n  </thead>\n  <tbody>\n    <tr>\n      <th>w0</th>\n      <td>-0.000092</td>\n    </tr>\n    <tr>\n      <th>w1</th>\n      <td>-0.000012</td>\n    </tr>\n    <tr>\n      <th>w2</th>\n      <td>-0.000375</td>\n    </tr>\n    <tr>\n      <th>w3</th>\n      <td>-0.000131</td>\n    </tr>\n    <tr>\n      <th>w4</th>\n      <td>0.000096</td>\n    </tr>\n    <tr>\n      <th>w5</th>\n      <td>-0.000246</td>\n    </tr>\n  </tbody>\n</table>\n</div>"
     },
     "execution_count": 26,
     "metadata": {},
     "output_type": "execute_result"
    }
   ],
   "source": [
    "weights_inverse_output"
   ],
   "metadata": {
    "collapsed": false,
    "ExecuteTime": {
     "end_time": "2023-11-29T17:52:11.236095900Z",
     "start_time": "2023-11-29T17:52:11.204003900Z"
    }
   },
   "id": "229473793e1f5f6d"
  },
  {
   "cell_type": "code",
   "execution_count": 27,
   "outputs": [
    {
     "data": {
      "text/plain": "     weight\n0 -0.000012\n1 -0.000375\n2 -0.000131\n3  0.000096\n4 -0.000246\n5 -0.000092",
      "text/html": "<div>\n<style scoped>\n    .dataframe tbody tr th:only-of-type {\n        vertical-align: middle;\n    }\n\n    .dataframe tbody tr th {\n        vertical-align: top;\n    }\n\n    .dataframe thead th {\n        text-align: right;\n    }\n</style>\n<table border=\"1\" class=\"dataframe\">\n  <thead>\n    <tr style=\"text-align: right;\">\n      <th></th>\n      <th>weight</th>\n    </tr>\n  </thead>\n  <tbody>\n    <tr>\n      <th>0</th>\n      <td>-0.000012</td>\n    </tr>\n    <tr>\n      <th>1</th>\n      <td>-0.000375</td>\n    </tr>\n    <tr>\n      <th>2</th>\n      <td>-0.000131</td>\n    </tr>\n    <tr>\n      <th>3</th>\n      <td>0.000096</td>\n    </tr>\n    <tr>\n      <th>4</th>\n      <td>-0.000246</td>\n    </tr>\n    <tr>\n      <th>5</th>\n      <td>-0.000092</td>\n    </tr>\n  </tbody>\n</table>\n</div>"
     },
     "execution_count": 27,
     "metadata": {},
     "output_type": "execute_result"
    }
   ],
   "source": [
    "# Reorder the weight vector so that w0 is at the end.\n",
    "weights_df_reordered = pd.concat([weights_inverse_output.iloc[1:], weights_inverse_output.iloc[0:1]]).reset_index(drop=True)\n",
    "\n",
    "# Show the modified DataFrame\n",
    "weights_df_reordered\n"
   ],
   "metadata": {
    "collapsed": false,
    "ExecuteTime": {
     "end_time": "2023-11-29T17:52:12.131303500Z",
     "start_time": "2023-11-29T17:52:12.118303600Z"
    }
   },
   "id": "fd4510816a331570"
  },
  {
   "cell_type": "code",
   "execution_count": 28,
   "outputs": [
    {
     "data": {
      "text/plain": "     f1   f2        f3        f4   f5  f0\n0   2.8 -1.8 -2.800000  1.300000  0.4   1\n1   2.9 -1.9 -2.900000  1.400000  0.5   1\n2   3.0 -2.0 -3.000000  1.500000  0.6   1\n3   3.1 -2.1 -3.100000  1.600000  0.7   1\n4   3.2 -2.2 -3.200000  1.700000  0.8   1\n5  -1.6 -2.5  1.500000  0.200000  0.6   1\n6  -1.3 -2.7  1.300000  0.400000  0.8   1\n7  -1.0 -3.0  1.500000  0.600000  1.0   1\n8  -0.7 -3.2  1.700000  0.800000  1.2   1\n9  -0.5 -3.5  1.900000  1.000000  1.4   1\n10  1.2 -1.2  0.700000 -0.300000 -2.8   1\n11  1.1 -1.1  0.800000 -0.400000 -2.9   1\n12  1.0 -1.0  0.844444 -0.444444 -3.0   1\n13  0.9 -0.9  0.850000 -0.450000 -3.1   1\n14  0.8 -0.8  0.900000 -0.500000 -3.2   1",
      "text/html": "<div>\n<style scoped>\n    .dataframe tbody tr th:only-of-type {\n        vertical-align: middle;\n    }\n\n    .dataframe tbody tr th {\n        vertical-align: top;\n    }\n\n    .dataframe thead th {\n        text-align: right;\n    }\n</style>\n<table border=\"1\" class=\"dataframe\">\n  <thead>\n    <tr style=\"text-align: right;\">\n      <th></th>\n      <th>f1</th>\n      <th>f2</th>\n      <th>f3</th>\n      <th>f4</th>\n      <th>f5</th>\n      <th>f0</th>\n    </tr>\n  </thead>\n  <tbody>\n    <tr>\n      <th>0</th>\n      <td>2.8</td>\n      <td>-1.8</td>\n      <td>-2.800000</td>\n      <td>1.300000</td>\n      <td>0.4</td>\n      <td>1</td>\n    </tr>\n    <tr>\n      <th>1</th>\n      <td>2.9</td>\n      <td>-1.9</td>\n      <td>-2.900000</td>\n      <td>1.400000</td>\n      <td>0.5</td>\n      <td>1</td>\n    </tr>\n    <tr>\n      <th>2</th>\n      <td>3.0</td>\n      <td>-2.0</td>\n      <td>-3.000000</td>\n      <td>1.500000</td>\n      <td>0.6</td>\n      <td>1</td>\n    </tr>\n    <tr>\n      <th>3</th>\n      <td>3.1</td>\n      <td>-2.1</td>\n      <td>-3.100000</td>\n      <td>1.600000</td>\n      <td>0.7</td>\n      <td>1</td>\n    </tr>\n    <tr>\n      <th>4</th>\n      <td>3.2</td>\n      <td>-2.2</td>\n      <td>-3.200000</td>\n      <td>1.700000</td>\n      <td>0.8</td>\n      <td>1</td>\n    </tr>\n    <tr>\n      <th>5</th>\n      <td>-1.6</td>\n      <td>-2.5</td>\n      <td>1.500000</td>\n      <td>0.200000</td>\n      <td>0.6</td>\n      <td>1</td>\n    </tr>\n    <tr>\n      <th>6</th>\n      <td>-1.3</td>\n      <td>-2.7</td>\n      <td>1.300000</td>\n      <td>0.400000</td>\n      <td>0.8</td>\n      <td>1</td>\n    </tr>\n    <tr>\n      <th>7</th>\n      <td>-1.0</td>\n      <td>-3.0</td>\n      <td>1.500000</td>\n      <td>0.600000</td>\n      <td>1.0</td>\n      <td>1</td>\n    </tr>\n    <tr>\n      <th>8</th>\n      <td>-0.7</td>\n      <td>-3.2</td>\n      <td>1.700000</td>\n      <td>0.800000</td>\n      <td>1.2</td>\n      <td>1</td>\n    </tr>\n    <tr>\n      <th>9</th>\n      <td>-0.5</td>\n      <td>-3.5</td>\n      <td>1.900000</td>\n      <td>1.000000</td>\n      <td>1.4</td>\n      <td>1</td>\n    </tr>\n    <tr>\n      <th>10</th>\n      <td>1.2</td>\n      <td>-1.2</td>\n      <td>0.700000</td>\n      <td>-0.300000</td>\n      <td>-2.8</td>\n      <td>1</td>\n    </tr>\n    <tr>\n      <th>11</th>\n      <td>1.1</td>\n      <td>-1.1</td>\n      <td>0.800000</td>\n      <td>-0.400000</td>\n      <td>-2.9</td>\n      <td>1</td>\n    </tr>\n    <tr>\n      <th>12</th>\n      <td>1.0</td>\n      <td>-1.0</td>\n      <td>0.844444</td>\n      <td>-0.444444</td>\n      <td>-3.0</td>\n      <td>1</td>\n    </tr>\n    <tr>\n      <th>13</th>\n      <td>0.9</td>\n      <td>-0.9</td>\n      <td>0.850000</td>\n      <td>-0.450000</td>\n      <td>-3.1</td>\n      <td>1</td>\n    </tr>\n    <tr>\n      <th>14</th>\n      <td>0.8</td>\n      <td>-0.8</td>\n      <td>0.900000</td>\n      <td>-0.500000</td>\n      <td>-3.2</td>\n      <td>1</td>\n    </tr>\n  </tbody>\n</table>\n</div>"
     },
     "execution_count": 28,
     "metadata": {},
     "output_type": "execute_result"
    }
   ],
   "source": [
    "# Create a new DataFrame with an additional column\n",
    "new_formal_model_features = formal_model_features.copy()\n",
    "new_formal_model_features['f0'] = 1\n",
    "new_formal_model_features\n"
   ],
   "metadata": {
    "collapsed": false,
    "ExecuteTime": {
     "end_time": "2023-11-29T17:52:12.801382Z",
     "start_time": "2023-11-29T17:52:12.758350800Z"
    }
   },
   "id": "6c4bb7858af12496"
  },
  {
   "cell_type": "code",
   "execution_count": 29,
   "outputs": [],
   "source": [
    "# # Multiply the features by the weights\n",
    "my_result = new_formal_model_features.mul(weights_df_reordered['weight'].values, axis=1)\n",
    "\n",
    "# Sum along the rows to get the final single column for predictions\n",
    "my_predictions = my_result.sum(axis=1)\n",
    "\n",
    "# Convert the series to a data frame\n",
    "my_predictions_df = my_predictions.to_frame(name='Prediction')"
   ],
   "metadata": {
    "collapsed": false,
    "ExecuteTime": {
     "end_time": "2023-11-29T17:52:18.331189500Z",
     "start_time": "2023-11-29T17:52:18.323190600Z"
    }
   },
   "id": "c2f759c7f2967205"
  },
  {
   "cell_type": "code",
   "execution_count": 30,
   "outputs": [],
   "source": [
    "my_predictions_df = pd.concat([my_predictions_df, formal_model_target], axis=1)\n"
   ],
   "metadata": {
    "collapsed": false,
    "ExecuteTime": {
     "end_time": "2023-11-29T17:52:19.633986400Z",
     "start_time": "2023-11-29T17:52:19.620979Z"
    }
   },
   "id": "9c176f0dcb5faa9c"
  },
  {
   "cell_type": "code",
   "execution_count": 31,
   "outputs": [
    {
     "data": {
      "text/plain": "    prediction  Target\n0     0.000942       1\n1     0.000976       1\n2     0.001010       1\n3     0.001045       1\n4     0.001079       1\n5     0.000539       2\n6     0.000606       2\n7     0.000659       2\n8     0.000674       2\n9     0.000728       2\n10    0.000912       3\n11    0.000877       3\n12    0.000856       3\n13    0.000843       3\n14    0.000820       3",
      "text/html": "<div>\n<style scoped>\n    .dataframe tbody tr th:only-of-type {\n        vertical-align: middle;\n    }\n\n    .dataframe tbody tr th {\n        vertical-align: top;\n    }\n\n    .dataframe thead th {\n        text-align: right;\n    }\n</style>\n<table border=\"1\" class=\"dataframe\">\n  <thead>\n    <tr style=\"text-align: right;\">\n      <th></th>\n      <th>prediction</th>\n      <th>Target</th>\n    </tr>\n  </thead>\n  <tbody>\n    <tr>\n      <th>0</th>\n      <td>0.000942</td>\n      <td>1</td>\n    </tr>\n    <tr>\n      <th>1</th>\n      <td>0.000976</td>\n      <td>1</td>\n    </tr>\n    <tr>\n      <th>2</th>\n      <td>0.001010</td>\n      <td>1</td>\n    </tr>\n    <tr>\n      <th>3</th>\n      <td>0.001045</td>\n      <td>1</td>\n    </tr>\n    <tr>\n      <th>4</th>\n      <td>0.001079</td>\n      <td>1</td>\n    </tr>\n    <tr>\n      <th>5</th>\n      <td>0.000539</td>\n      <td>2</td>\n    </tr>\n    <tr>\n      <th>6</th>\n      <td>0.000606</td>\n      <td>2</td>\n    </tr>\n    <tr>\n      <th>7</th>\n      <td>0.000659</td>\n      <td>2</td>\n    </tr>\n    <tr>\n      <th>8</th>\n      <td>0.000674</td>\n      <td>2</td>\n    </tr>\n    <tr>\n      <th>9</th>\n      <td>0.000728</td>\n      <td>2</td>\n    </tr>\n    <tr>\n      <th>10</th>\n      <td>0.000912</td>\n      <td>3</td>\n    </tr>\n    <tr>\n      <th>11</th>\n      <td>0.000877</td>\n      <td>3</td>\n    </tr>\n    <tr>\n      <th>12</th>\n      <td>0.000856</td>\n      <td>3</td>\n    </tr>\n    <tr>\n      <th>13</th>\n      <td>0.000843</td>\n      <td>3</td>\n    </tr>\n    <tr>\n      <th>14</th>\n      <td>0.000820</td>\n      <td>3</td>\n    </tr>\n  </tbody>\n</table>\n</div>"
     },
     "execution_count": 31,
     "metadata": {},
     "output_type": "execute_result"
    }
   ],
   "source": [
    "my_predictions_df"
   ],
   "metadata": {
    "collapsed": false,
    "ExecuteTime": {
     "end_time": "2023-11-29T17:52:20.432766900Z",
     "start_time": "2023-11-29T17:52:20.393738400Z"
    }
   },
   "id": "fe92461bc9c2e37d"
  },
  {
   "cell_type": "code",
   "execution_count": 25,
   "outputs": [],
   "source": [],
   "metadata": {
    "collapsed": false,
    "ExecuteTime": {
     "end_time": "2023-11-29T17:51:35.521568400Z",
     "start_time": "2023-11-29T17:51:35.344419500Z"
    }
   },
   "id": "a9dbb3eed4a46abb"
  }
 ],
 "metadata": {
  "kernelspec": {
   "display_name": "Python 3",
   "language": "python",
   "name": "python3"
  },
  "language_info": {
   "codemirror_mode": {
    "name": "ipython",
    "version": 2
   },
   "file_extension": ".py",
   "mimetype": "text/x-python",
   "name": "python",
   "nbconvert_exporter": "python",
   "pygments_lexer": "ipython2",
   "version": "2.7.6"
  }
 },
 "nbformat": 4,
 "nbformat_minor": 5
}
