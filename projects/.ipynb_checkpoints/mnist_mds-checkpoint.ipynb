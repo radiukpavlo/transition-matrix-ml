{
 "cells": [
  {
   "cell_type": "markdown",
   "id": "9429755869ff6538",
   "metadata": {},
   "source": [
    "## 1. Data Upload"
   ]
  },
  {
   "cell_type": "code",
   "execution_count": null,
   "id": "7fde58ff0426c5dd",
   "metadata": {
    "ExecuteTime": {
     "end_time": "2023-11-30T13:32:34.921289900Z",
     "start_time": "2023-11-30T13:32:33.912625700Z"
    },
    "collapsed": false,
    "jupyter": {
     "outputs_hidden": false
    }
   },
   "outputs": [],
   "source": [
    "import pandas as pd\n",
    "import numpy as np\n",
    "from io import StringIO\n",
    "from sklearn.manifold import MDS\n",
    "from sklearn.preprocessing import StandardScaler\n",
    "from scipy.optimize import minimize\n",
    "\n",
    "path_csv = '.'\n",
    "\n",
    "# Read the CSV files into pandas dataframes\n",
    "input_formal_model = pd.read_csv(f\"{path_csv}/formal_model.csv\")"
   ]
  },
  {
   "cell_type": "code",
   "execution_count": null,
   "id": "a4bf3067abb75f37",
   "metadata": {
    "ExecuteTime": {
     "end_time": "2023-11-30T13:32:34.946420300Z",
     "start_time": "2023-11-30T13:32:34.924288700Z"
    },
    "collapsed": false,
    "jupyter": {
     "outputs_hidden": false
    }
   },
   "outputs": [],
   "source": [
    "input_formal_model"
   ]
  },
  {
   "cell_type": "markdown",
   "id": "e695dfea778f3996",
   "metadata": {},
   "source": [
    "## 2. Multi-dimensional scaling"
   ]
  },
  {
   "cell_type": "code",
   "execution_count": null,
   "id": "f65e9e1eb4935bbd",
   "metadata": {
    "ExecuteTime": {
     "end_time": "2023-11-30T13:32:35.014005200Z",
     "start_time": "2023-11-30T13:32:34.938416400Z"
    },
    "collapsed": false,
    "jupyter": {
     "outputs_hidden": false
    }
   },
   "outputs": [],
   "source": [
    "# Extract the necessary subtables\n",
    "formal_model_features = input_formal_model.drop('Target', axis=1).drop('ID', axis=1)\n",
    "formal_model_with_id = input_formal_model.drop('Target', axis=1)\n",
    "formal_model_id = input_formal_model['ID']\n",
    "formal_model_target = input_formal_model['Target']\n",
    "\n",
    "# Standardize the data\n",
    "scaler = StandardScaler()\n",
    "X_scaled = scaler.fit_transform(formal_model_features)\n",
    "\n",
    "# Apply MDS to reduce the dimensions to 2\n",
    "mds = MDS(n_components=2, normalized_stress='auto')\n",
    "X_mds = mds.fit_transform(X_scaled)\n",
    "\n",
    "# Convert the reduced data back to a pandas DataFrame\n",
    "formal_model_reduced = pd.DataFrame(X_mds, columns=[\"x1\", \"x2\"])\n"
   ]
  },
  {
   "cell_type": "code",
   "execution_count": null,
   "id": "4c53631ef3401b86",
   "metadata": {
    "ExecuteTime": {
     "end_time": "2023-11-30T13:32:35.050144Z",
     "start_time": "2023-11-30T13:32:34.968935900Z"
    },
    "collapsed": false,
    "jupyter": {
     "outputs_hidden": false
    }
   },
   "outputs": [],
   "source": [
    "formal_model_with_id.to_csv('formal_model_with_id.csv', index=False)\n",
    "formal_model_with_id"
   ]
  },
  {
   "cell_type": "markdown",
   "id": "e5da81fd32728ac3",
   "metadata": {},
   "source": [
    "## 3. Visual analytics"
   ]
  },
  {
   "cell_type": "code",
   "execution_count": null,
   "id": "41b41a730c5cf71b",
   "metadata": {
    "ExecuteTime": {
     "end_time": "2023-11-30T13:32:35.082431500Z",
     "start_time": "2023-11-30T13:32:34.984452800Z"
    },
    "collapsed": false,
    "jupyter": {
     "outputs_hidden": false
    }
   },
   "outputs": [],
   "source": [
    "def interpolate_coordinates(x_1, x_n, n):\n",
    "    \"\"\"\n",
    "    This function calculates the values of the interpolate_coordinates\n",
    "    of a line based on its first and last coordinates.\n",
    "    :param x_1:\n",
    "    :param x_n:\n",
    "    :param n:\n",
    "    :return:\n",
    "    \"\"\"\n",
    "    # Ensure n is greater than 1 to avoid division by zero\n",
    "    if n <= 1:\n",
    "        raise ValueError(\"n must be greater than 1 to calculate intermediate points.\")\n",
    "\n",
    "    # List to hold all the coordinates including the first and the last\n",
    "    inter_coordinates = []\n",
    "\n",
    "    # Calculate each intermediate coordinate\n",
    "    for i in range(0, n):\n",
    "        x_i = x_1 + ((x_n - x_1) * i) / (n - 1)\n",
    "        inter_coordinates.append(x_i)\n",
    "\n",
    "    return inter_coordinates\n"
   ]
  },
  {
   "cell_type": "code",
   "execution_count": null,
   "id": "966d400b47e30a90",
   "metadata": {
    "ExecuteTime": {
     "end_time": "2023-11-30T13:32:35.083432Z",
     "start_time": "2023-11-30T13:32:35.006483800Z"
    },
    "collapsed": false,
    "jupyter": {
     "outputs_hidden": false
    }
   },
   "outputs": [],
   "source": [
    "x_1_first = 3\n",
    "x_1_last = -2\n",
    "x_2_first = 0\n",
    "x_2_last = -1\n",
    "num_points = 5\n",
    "\n",
    "x_1_inter_coordinates = interpolate_coordinates(x_1_first, x_1_last, num_points)\n",
    "x_2_inter_coordinates = interpolate_coordinates(x_2_first, x_2_last, num_points)\n",
    "# print(x_1_inter_coordinates)\n",
    "# print(x_2_inter_coordinates)\n",
    "\n",
    "# Create a DataFrame from the coordinates\n",
    "coordinates_df = pd.DataFrame({'x1': x_1_inter_coordinates, 'x2': x_2_inter_coordinates})\n",
    "coordinates_df\n"
   ]
  },
  {
   "cell_type": "code",
   "execution_count": null,
   "id": "da6d2e8262c65420",
   "metadata": {
    "ExecuteTime": {
     "end_time": "2023-11-30T13:32:35.757560900Z",
     "start_time": "2023-11-30T13:32:35.015004300Z"
    },
    "collapsed": false,
    "jupyter": {
     "outputs_hidden": false
    }
   },
   "outputs": [],
   "source": [
    "import matplotlib.pyplot as plt\n",
    "\n",
    "# Include class colors and a legend\n",
    "colors = {1: 'red', 2: 'green', 3: 'blue'}  # Assigning colors to each class\n",
    "\n",
    "plt.figure(figsize=(10, 6))\n",
    "\n",
    "# Iterate over each class and plot each class with a different color\n",
    "for cls in input_formal_model['Target'].unique():\n",
    "    cls_data = formal_model_reduced[input_formal_model['Target'] == cls]\n",
    "    plt.scatter(cls_data['x1'], cls_data['x2'], s=100, edgecolor='k', color=colors[cls], label=f'Class {cls}')\n",
    "\n",
    "# Annotate points with ID\n",
    "for i, txt in enumerate(input_formal_model['ID']):\n",
    "    plt.annotate(txt, (formal_model_reduced['x1'].iloc[i], formal_model_reduced['x2'].iloc[i]), fontsize=10)\n",
    "\n",
    "# Draw the separating line\n",
    "line_x1 = coordinates_df['x1'].tolist()\n",
    "line_x2 = coordinates_df['x2'].tolist()\n",
    "plt.plot(line_x1, line_x2, 'ro-')\n",
    "\n",
    "plt.xlabel(\"X 1\")\n",
    "plt.ylabel(\"X 2\")\n",
    "plt.title(f\"2D MDS Reduction of {'input_formal_model'}\")\n",
    "plt.grid(True)\n",
    "plt.legend()\n",
    "plt.tight_layout()\n",
    "plt.show()\n"
   ]
  },
  {
   "cell_type": "markdown",
   "id": "ebc5f8d71f9e871e",
   "metadata": {},
   "source": [
    "## 4. Calculate Transition Matrix"
   ]
  },
  {
   "cell_type": "markdown",
   "id": "ef465326b3763a84",
   "metadata": {},
   "source": [
    "### 3.1. Singular Value Decomposition (SVD)"
   ]
  },
  {
   "cell_type": "code",
   "execution_count": null,
   "id": "c9b16087dcd6299f",
   "metadata": {
    "ExecuteTime": {
     "end_time": "2023-11-30T13:32:35.758568700Z",
     "start_time": "2023-11-30T13:32:35.733143900Z"
    },
    "collapsed": false,
    "jupyter": {
     "outputs_hidden": false
    }
   },
   "outputs": [],
   "source": [
    "# Receive values from the matrix A DataFrame \n",
    "formal_model_reduced_values = formal_model_reduced.values\n",
    "\n",
    "# Calculate SVD\n",
    "U, s, Vt = np.linalg.svd(formal_model_reduced_values)\n",
    "\n",
    "# Construct the full diagonal matrix\n",
    "S = np.zeros(formal_model_reduced_values.shape)\n",
    "for i in range(min(formal_model_reduced_values.shape)):\n",
    "    S[i, i] = s[i]\n",
    "\n",
    "# print(\"U:\\n\", U)\n",
    "# print(\"\\nS:\\n\", S)\n",
    "# print(\"\\nVt:\\n\", Vt)\n"
   ]
  },
  {
   "cell_type": "markdown",
   "id": "20ecf1e1d1743431",
   "metadata": {},
   "source": [
    "### 3.2. Create the reconstructed matrix of SVD"
   ]
  },
  {
   "cell_type": "code",
   "execution_count": null,
   "id": "300dbbed7537914f",
   "metadata": {
    "ExecuteTime": {
     "end_time": "2023-11-30T13:32:35.852146300Z",
     "start_time": "2023-11-30T13:32:35.746540400Z"
    },
    "collapsed": false,
    "jupyter": {
     "outputs_hidden": false
    }
   },
   "outputs": [],
   "source": [
    "# Recompute the original matrix using U, S, and Vt\n",
    "reconstructed_matrix = U.dot(S.dot(Vt))\n",
    "\n",
    "# Convert the reconstructed matrix to a pandas DataFrame, if desired\n",
    "reconstructed_df = pd.DataFrame(reconstructed_matrix)\n"
   ]
  },
  {
   "cell_type": "code",
   "execution_count": null,
   "id": "c855a3fcf677b065",
   "metadata": {
    "ExecuteTime": {
     "end_time": "2023-11-30T13:32:35.854147400Z",
     "start_time": "2023-11-30T13:32:35.762568600Z"
    },
    "collapsed": false,
    "jupyter": {
     "outputs_hidden": false
    }
   },
   "outputs": [],
   "source": [
    "reconstructed_df"
   ]
  },
  {
   "cell_type": "code",
   "execution_count": null,
   "id": "81f9ceb900efd47d",
   "metadata": {
    "ExecuteTime": {
     "end_time": "2023-11-30T13:32:35.890753Z",
     "start_time": "2023-11-30T13:32:35.777075Z"
    },
    "collapsed": false,
    "jupyter": {
     "outputs_hidden": false
    }
   },
   "outputs": [],
   "source": [
    "formal_model_reduced"
   ]
  },
  {
   "cell_type": "markdown",
   "id": "e22636c4bc2289d4",
   "metadata": {},
   "source": [
    "### 3.3. Calculate the generalized inverse of input matrix"
   ]
  },
  {
   "cell_type": "code",
   "execution_count": null,
   "id": "d82d42f8951a5a24",
   "metadata": {
    "ExecuteTime": {
     "end_time": "2023-11-30T13:32:35.891752Z",
     "start_time": "2023-11-30T13:32:35.794595300Z"
    },
    "collapsed": false,
    "jupyter": {
     "outputs_hidden": false
    }
   },
   "outputs": [],
   "source": [
    "# Calculate the generalized (Moore-Penrose) inverse\n",
    "formal_model_reduced_pinv = np.linalg.pinv(formal_model_reduced_values)\n",
    "\n",
    "# Convert to a pandas DataFrame\n",
    "formal_model_reduced_pinv_df = pd.DataFrame(formal_model_reduced_pinv)"
   ]
  },
  {
   "cell_type": "code",
   "execution_count": null,
   "id": "f723de97150d5c16",
   "metadata": {
    "ExecuteTime": {
     "end_time": "2023-11-30T13:32:35.892752500Z",
     "start_time": "2023-11-30T13:32:35.809234600Z"
    },
    "collapsed": false,
    "jupyter": {
     "outputs_hidden": false
    }
   },
   "outputs": [],
   "source": [
    "formal_model_reduced_pinv_df"
   ]
  },
  {
   "cell_type": "markdown",
   "id": "ae217465b26b7db8",
   "metadata": {},
   "source": [
    "### 3.4. Calculate transition matrix T"
   ]
  },
  {
   "cell_type": "code",
   "execution_count": null,
   "id": "41df41ba6680071d",
   "metadata": {
    "ExecuteTime": {
     "end_time": "2023-11-30T13:32:35.892752500Z",
     "start_time": "2023-11-30T13:32:35.827255300Z"
    },
    "collapsed": false,
    "jupyter": {
     "outputs_hidden": false
    }
   },
   "outputs": [],
   "source": [
    "transition_matrix_T = formal_model_reduced_pinv_df.dot(formal_model_features)"
   ]
  },
  {
   "cell_type": "code",
   "execution_count": null,
   "id": "481f9ce7d7ea80a6",
   "metadata": {
    "ExecuteTime": {
     "end_time": "2023-11-30T13:32:35.895752300Z",
     "start_time": "2023-11-30T13:32:35.840635100Z"
    },
    "collapsed": false,
    "jupyter": {
     "outputs_hidden": false
    }
   },
   "outputs": [],
   "source": [
    "transition_matrix_T"
   ]
  },
  {
   "cell_type": "markdown",
   "id": "63707c7d6fa3b351",
   "metadata": {},
   "source": [
    "## 4. Create Hyperplane"
   ]
  },
  {
   "cell_type": "code",
   "execution_count": null,
   "id": "af020167e0a630b2",
   "metadata": {
    "ExecuteTime": {
     "end_time": "2023-11-30T13:32:35.990241100Z",
     "start_time": "2023-11-30T13:32:35.856147400Z"
    },
    "collapsed": false,
    "jupyter": {
     "outputs_hidden": false
    }
   },
   "outputs": [],
   "source": [
    "coordinates_hyperplane_df = coordinates_df.values @ transition_matrix_T.values"
   ]
  },
  {
   "cell_type": "code",
   "execution_count": null,
   "id": "a49ccb2f95c82aa4",
   "metadata": {
    "ExecuteTime": {
     "end_time": "2023-11-30T13:32:36.050280100Z",
     "start_time": "2023-11-30T13:32:35.870755400Z"
    },
    "collapsed": false,
    "jupyter": {
     "outputs_hidden": false
    }
   },
   "outputs": [],
   "source": [
    "coordinates_hyperplane_df"
   ]
  },
  {
   "cell_type": "code",
   "execution_count": null,
   "id": "e1f055e528cfd8f",
   "metadata": {
    "ExecuteTime": {
     "end_time": "2023-11-30T13:32:36.055280700Z",
     "start_time": "2023-11-30T13:32:35.889755400Z"
    },
    "collapsed": false,
    "jupyter": {
     "outputs_hidden": false
    }
   },
   "outputs": [],
   "source": [
    "# Adding a new column with all values set to 1\n",
    "new_column = np.ones((coordinates_hyperplane_df.shape[0], 1))\n",
    "feature_vector_inverse = np.hstack((new_column, coordinates_hyperplane_df))\n",
    "\n",
    "feature_vector_inverse"
   ]
  },
  {
   "cell_type": "code",
   "execution_count": null,
   "id": "f5c5eee4c62ff7f6",
   "metadata": {
    "ExecuteTime": {
     "end_time": "2023-11-30T13:32:36.094314600Z",
     "start_time": "2023-11-30T13:32:35.903265900Z"
    },
    "collapsed": false,
    "jupyter": {
     "outputs_hidden": false
    }
   },
   "outputs": [],
   "source": [
    "# Optimization criteria function\n",
    "def optimization_criteria(W, X):\n",
    "    return np.sum(np.abs(X.dot(W.T)))\n",
    "\n",
    "# Initial guess (starting point for the optimization algorithm)\n",
    "weights_inverse_initial = np.zeros(feature_vector_inverse.shape[1])\n",
    "\n",
    "# Bounds for W (setting it between -1 and 1)\n",
    "bounds = [(-1, 1) for _ in range(feature_vector_inverse.shape[1])]\n",
    "\n",
    "# The actual optimization\n",
    "res = minimize(\n",
    "    optimization_criteria,\n",
    "    weights_inverse_initial,\n",
    "    args=(feature_vector_inverse,),\n",
    "    method='SLSQP',\n",
    "    bounds=bounds,\n",
    "    options={'disp': True}\n",
    ")\n",
    "\n",
    "# Checking if the optimization was successful\n",
    "if res.success:\n",
    "    # Extract the weights into a DataFrame\n",
    "    weights_inverse_output = pd.DataFrame(res.x, index=[f'w{i}' for i in range(len(res.x))], columns=['weight'])\n",
    "\n",
    "    print(\"Optimization was successful. The weights are:\")\n",
    "    print(weights_inverse_output)\n",
    "\n",
    "    # Output the value of the optimization criteria\n",
    "    print(\"\\nValue of the optimization criteria (objective function value):\", res.fun)\n",
    "else:\n",
    "    print(\"Optimization failed.\")\n",
    "\n",
    "# Checking for convergence\n",
    "print(\"\\nConvergence status:\", res.message)\n"
   ]
  },
  {
   "cell_type": "code",
   "execution_count": null,
   "id": "229473793e1f5f6d",
   "metadata": {
    "ExecuteTime": {
     "end_time": "2023-11-30T13:32:36.095314200Z",
     "start_time": "2023-11-30T13:32:35.935648600Z"
    },
    "collapsed": false,
    "jupyter": {
     "outputs_hidden": false
    }
   },
   "outputs": [],
   "source": [
    "weights_inverse_output"
   ]
  },
  {
   "cell_type": "code",
   "execution_count": null,
   "id": "fd4510816a331570",
   "metadata": {
    "ExecuteTime": {
     "end_time": "2023-11-30T13:32:36.125849600Z",
     "start_time": "2023-11-30T13:32:35.948198Z"
    },
    "collapsed": false,
    "jupyter": {
     "outputs_hidden": false
    }
   },
   "outputs": [],
   "source": [
    "# Reorder the weight vector so that w0 is at the end.\n",
    "weights_df_reordered = pd.concat([weights_inverse_output.iloc[1:], weights_inverse_output.iloc[0:1]]).reset_index(drop=True)\n",
    "\n",
    "# Show the modified DataFrame\n",
    "weights_df_reordered\n"
   ]
  },
  {
   "cell_type": "code",
   "execution_count": null,
   "id": "6c4bb7858af12496",
   "metadata": {
    "ExecuteTime": {
     "end_time": "2023-11-30T13:32:36.141866500Z",
     "start_time": "2023-11-30T13:32:35.963712400Z"
    },
    "collapsed": false,
    "jupyter": {
     "outputs_hidden": false
    }
   },
   "outputs": [],
   "source": [
    "# Create a new DataFrame with an additional column\n",
    "new_formal_model_features = formal_model_features.copy()\n",
    "new_formal_model_features['f0'] = 1\n",
    "new_formal_model_features\n"
   ]
  },
  {
   "cell_type": "code",
   "execution_count": null,
   "id": "c2f759c7f2967205",
   "metadata": {
    "ExecuteTime": {
     "end_time": "2023-11-30T13:32:36.143866900Z",
     "start_time": "2023-11-30T13:32:35.980736700Z"
    },
    "collapsed": false,
    "jupyter": {
     "outputs_hidden": false
    }
   },
   "outputs": [],
   "source": [
    "# # Multiply the features by the weights\n",
    "my_result = new_formal_model_features.mul(weights_df_reordered['weight'].values, axis=1)\n",
    "\n",
    "# Sum along the rows to get the final single column for predictions\n",
    "my_predictions = my_result.sum(axis=1)\n",
    "\n",
    "# Convert the series to a data frame\n",
    "my_predictions_df = my_predictions.to_frame(name='Prediction')"
   ]
  },
  {
   "cell_type": "code",
   "execution_count": null,
   "id": "47d42fcab1156ca0",
   "metadata": {
    "ExecuteTime": {
     "end_time": "2023-11-30T13:32:36.144865600Z",
     "start_time": "2023-11-30T13:32:35.993244700Z"
    },
    "collapsed": false,
    "jupyter": {
     "outputs_hidden": false
    }
   },
   "outputs": [],
   "source": [
    "my_predictions_df"
   ]
  },
  {
   "cell_type": "code",
   "execution_count": null,
   "id": "9c176f0dcb5faa9c",
   "metadata": {
    "ExecuteTime": {
     "end_time": "2023-11-30T13:32:36.173392500Z",
     "start_time": "2023-11-30T13:32:36.010223800Z"
    },
    "collapsed": false,
    "jupyter": {
     "outputs_hidden": false
    }
   },
   "outputs": [],
   "source": [
    "my_predictions_df = pd.concat([my_predictions_df, formal_model_target], axis=1)\n"
   ]
  },
  {
   "cell_type": "code",
   "execution_count": null,
   "id": "fe92461bc9c2e37d",
   "metadata": {
    "ExecuteTime": {
     "end_time": "2023-11-30T13:32:36.257495600Z",
     "start_time": "2023-11-30T13:32:36.025742200Z"
    },
    "collapsed": false,
    "jupyter": {
     "outputs_hidden": false
    }
   },
   "outputs": [],
   "source": [
    "my_predictions_df"
   ]
  },
  {
   "cell_type": "code",
   "execution_count": null,
   "id": "a9dbb3eed4a46abb",
   "metadata": {
    "ExecuteTime": {
     "end_time": "2023-11-30T13:32:36.259793500Z",
     "start_time": "2023-11-30T13:32:36.040773Z"
    },
    "collapsed": false,
    "jupyter": {
     "outputs_hidden": false
    }
   },
   "outputs": [],
   "source": []
  }
 ],
 "metadata": {
  "kernelspec": {
   "display_name": "Python 3 (ipykernel)",
   "language": "python",
   "name": "python3"
  },
  "language_info": {
   "codemirror_mode": {
    "name": "ipython",
    "version": 3
   },
   "file_extension": ".py",
   "mimetype": "text/x-python",
   "name": "python",
   "nbconvert_exporter": "python",
   "pygments_lexer": "ipython3",
   "version": "3.9.16"
  }
 },
 "nbformat": 4,
 "nbformat_minor": 5
}
