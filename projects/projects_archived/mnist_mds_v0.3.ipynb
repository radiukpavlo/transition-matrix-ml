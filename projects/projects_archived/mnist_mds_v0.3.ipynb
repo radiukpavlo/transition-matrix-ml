{
 "cells": [
  {
   "cell_type": "markdown",
   "id": "9429755869ff6538",
   "metadata": {},
   "source": [
    "## 1. Data Upload"
   ]
  },
  {
   "cell_type": "code",
   "execution_count": 1,
   "id": "7fde58ff0426c5dd",
   "metadata": {
    "collapsed": false,
    "ExecuteTime": {
     "end_time": "2023-11-30T13:22:30.058938700Z",
     "start_time": "2023-11-30T13:22:29.095833400Z"
    }
   },
   "outputs": [],
   "source": [
    "import pandas as pd\n",
    "import numpy as np\n",
    "from io import StringIO\n",
    "from sklearn.manifold import MDS\n",
    "from sklearn.preprocessing import StandardScaler\n",
    "from scipy.optimize import minimize\n",
    "\n",
    "path_csv = '.'\n",
    "\n",
    "# Read the CSV files into pandas dataframes\n",
    "input_formal_model = pd.read_csv(f\"{path_csv}/formal_model.csv\")"
   ]
  },
  {
   "cell_type": "code",
   "execution_count": null,
   "id": "a4bf3067abb75f37",
   "metadata": {
    "collapsed": false
   },
   "outputs": [],
   "source": [
    "input_formal_model"
   ]
  },
  {
   "cell_type": "markdown",
   "id": "e695dfea778f3996",
   "metadata": {},
   "source": [
    "## 2. Multi-dimensional scaling"
   ]
  },
  {
   "cell_type": "code",
   "execution_count": 2,
   "id": "f65e9e1eb4935bbd",
   "metadata": {
    "collapsed": false,
    "ExecuteTime": {
     "end_time": "2023-11-30T13:22:35.968918400Z",
     "start_time": "2023-11-30T13:22:35.919181Z"
    }
   },
   "outputs": [],
   "source": [
    "# Extract the necessary subtables\n",
    "formal_model_features = input_formal_model.drop('Target', axis=1).drop('ID', axis=1)\n",
    "formal_model_with_id = input_formal_model.drop('Target', axis=1)\n",
    "formal_model_id = input_formal_model['ID']\n",
    "formal_model_target = input_formal_model['Target']\n",
    "\n",
    "# Standardize the data\n",
    "scaler = StandardScaler()\n",
    "X_scaled = scaler.fit_transform(formal_model_features)\n",
    "\n",
    "# Apply MDS to reduce the dimensions to 2\n",
    "mds = MDS(n_components=2, normalized_stress='auto')\n",
    "X_mds = mds.fit_transform(X_scaled)\n",
    "\n",
    "# Convert the reduced data back to a pandas DataFrame\n",
    "formal_model_reduced = pd.DataFrame(X_mds, columns=[\"x1\", \"x2\"])\n"
   ]
  },
  {
   "cell_type": "code",
   "execution_count": 3,
   "id": "4c53631ef3401b86",
   "metadata": {
    "collapsed": false,
    "ExecuteTime": {
     "end_time": "2023-11-30T13:22:37.707772500Z",
     "start_time": "2023-11-30T13:22:37.672730600Z"
    }
   },
   "outputs": [
    {
     "data": {
      "text/plain": "    ID   f1   f2        f3        f4   f5\n0    1  2.8 -1.8 -2.800000  1.300000  0.4\n1    2  2.9 -1.9 -2.900000  1.400000  0.5\n2    3  3.0 -2.0 -3.000000  1.500000  0.6\n3    4  3.1 -2.1 -3.100000  1.600000  0.7\n4    5  3.2 -2.2 -3.200000  1.700000  0.8\n5    6 -1.6 -2.5  1.500000  0.200000  0.6\n6    7 -1.3 -2.7  1.300000  0.400000  0.8\n7    8 -1.0 -3.0  1.500000  0.600000  1.0\n8    9 -0.7 -3.2  1.700000  0.800000  1.2\n9   10 -0.5 -3.5  1.900000  1.000000  1.4\n10  11  1.2 -1.2  0.700000 -0.300000 -2.8\n11  12  1.1 -1.1  0.800000 -0.400000 -2.9\n12  13  1.0 -1.0  0.844444 -0.444444 -3.0\n13  14  0.9 -0.9  0.850000 -0.450000 -3.1\n14  15  0.8 -0.8  0.900000 -0.500000 -3.2",
      "text/html": "<div>\n<style scoped>\n    .dataframe tbody tr th:only-of-type {\n        vertical-align: middle;\n    }\n\n    .dataframe tbody tr th {\n        vertical-align: top;\n    }\n\n    .dataframe thead th {\n        text-align: right;\n    }\n</style>\n<table border=\"1\" class=\"dataframe\">\n  <thead>\n    <tr style=\"text-align: right;\">\n      <th></th>\n      <th>ID</th>\n      <th>f1</th>\n      <th>f2</th>\n      <th>f3</th>\n      <th>f4</th>\n      <th>f5</th>\n    </tr>\n  </thead>\n  <tbody>\n    <tr>\n      <th>0</th>\n      <td>1</td>\n      <td>2.8</td>\n      <td>-1.8</td>\n      <td>-2.800000</td>\n      <td>1.300000</td>\n      <td>0.4</td>\n    </tr>\n    <tr>\n      <th>1</th>\n      <td>2</td>\n      <td>2.9</td>\n      <td>-1.9</td>\n      <td>-2.900000</td>\n      <td>1.400000</td>\n      <td>0.5</td>\n    </tr>\n    <tr>\n      <th>2</th>\n      <td>3</td>\n      <td>3.0</td>\n      <td>-2.0</td>\n      <td>-3.000000</td>\n      <td>1.500000</td>\n      <td>0.6</td>\n    </tr>\n    <tr>\n      <th>3</th>\n      <td>4</td>\n      <td>3.1</td>\n      <td>-2.1</td>\n      <td>-3.100000</td>\n      <td>1.600000</td>\n      <td>0.7</td>\n    </tr>\n    <tr>\n      <th>4</th>\n      <td>5</td>\n      <td>3.2</td>\n      <td>-2.2</td>\n      <td>-3.200000</td>\n      <td>1.700000</td>\n      <td>0.8</td>\n    </tr>\n    <tr>\n      <th>5</th>\n      <td>6</td>\n      <td>-1.6</td>\n      <td>-2.5</td>\n      <td>1.500000</td>\n      <td>0.200000</td>\n      <td>0.6</td>\n    </tr>\n    <tr>\n      <th>6</th>\n      <td>7</td>\n      <td>-1.3</td>\n      <td>-2.7</td>\n      <td>1.300000</td>\n      <td>0.400000</td>\n      <td>0.8</td>\n    </tr>\n    <tr>\n      <th>7</th>\n      <td>8</td>\n      <td>-1.0</td>\n      <td>-3.0</td>\n      <td>1.500000</td>\n      <td>0.600000</td>\n      <td>1.0</td>\n    </tr>\n    <tr>\n      <th>8</th>\n      <td>9</td>\n      <td>-0.7</td>\n      <td>-3.2</td>\n      <td>1.700000</td>\n      <td>0.800000</td>\n      <td>1.2</td>\n    </tr>\n    <tr>\n      <th>9</th>\n      <td>10</td>\n      <td>-0.5</td>\n      <td>-3.5</td>\n      <td>1.900000</td>\n      <td>1.000000</td>\n      <td>1.4</td>\n    </tr>\n    <tr>\n      <th>10</th>\n      <td>11</td>\n      <td>1.2</td>\n      <td>-1.2</td>\n      <td>0.700000</td>\n      <td>-0.300000</td>\n      <td>-2.8</td>\n    </tr>\n    <tr>\n      <th>11</th>\n      <td>12</td>\n      <td>1.1</td>\n      <td>-1.1</td>\n      <td>0.800000</td>\n      <td>-0.400000</td>\n      <td>-2.9</td>\n    </tr>\n    <tr>\n      <th>12</th>\n      <td>13</td>\n      <td>1.0</td>\n      <td>-1.0</td>\n      <td>0.844444</td>\n      <td>-0.444444</td>\n      <td>-3.0</td>\n    </tr>\n    <tr>\n      <th>13</th>\n      <td>14</td>\n      <td>0.9</td>\n      <td>-0.9</td>\n      <td>0.850000</td>\n      <td>-0.450000</td>\n      <td>-3.1</td>\n    </tr>\n    <tr>\n      <th>14</th>\n      <td>15</td>\n      <td>0.8</td>\n      <td>-0.8</td>\n      <td>0.900000</td>\n      <td>-0.500000</td>\n      <td>-3.2</td>\n    </tr>\n  </tbody>\n</table>\n</div>"
     },
     "execution_count": 3,
     "metadata": {},
     "output_type": "execute_result"
    }
   ],
   "source": [
    "formal_model_with_id.to_csv('formal_model_with_id.csv', index=False)\n",
    "formal_model_with_id"
   ]
  },
  {
   "cell_type": "markdown",
   "id": "e5da81fd32728ac3",
   "metadata": {},
   "source": [
    "## 3. Visual analytics"
   ]
  },
  {
   "cell_type": "code",
   "execution_count": 4,
   "id": "41b41a730c5cf71b",
   "metadata": {
    "collapsed": false,
    "ExecuteTime": {
     "end_time": "2023-11-30T13:22:40.934276800Z",
     "start_time": "2023-11-30T13:22:40.923768400Z"
    }
   },
   "outputs": [],
   "source": [
    "def interpolate_coordinates(x_1, x_n, n):\n",
    "    \"\"\"\n",
    "    This function calculates the values of the interpolate_coordinates\n",
    "    of a line based on its first and last coordinates.\n",
    "    :param x_1:\n",
    "    :param x_n:\n",
    "    :param n:\n",
    "    :return:\n",
    "    \"\"\"\n",
    "    # Ensure n is greater than 1 to avoid division by zero\n",
    "    if n <= 1:\n",
    "        raise ValueError(\"n must be greater than 1 to calculate intermediate points.\")\n",
    "\n",
    "    # List to hold all the coordinates including the first and the last\n",
    "    inter_coordinates = []\n",
    "\n",
    "    # Calculate each intermediate coordinate\n",
    "    for i in range(0, n):\n",
    "        x_i = x_1 + ((x_n - x_1) * i) / (n - 1)\n",
    "        inter_coordinates.append(x_i)\n",
    "\n",
    "    return inter_coordinates\n"
   ]
  },
  {
   "cell_type": "code",
   "execution_count": 5,
   "id": "966d400b47e30a90",
   "metadata": {
    "collapsed": false,
    "ExecuteTime": {
     "end_time": "2023-11-30T13:22:55.362631Z",
     "start_time": "2023-11-30T13:22:55.340571800Z"
    }
   },
   "outputs": [
    {
     "data": {
      "text/plain": "     x1    x2\n0  3.00  0.00\n1  1.75 -0.25\n2  0.50 -0.50\n3 -0.75 -0.75\n4 -2.00 -1.00",
      "text/html": "<div>\n<style scoped>\n    .dataframe tbody tr th:only-of-type {\n        vertical-align: middle;\n    }\n\n    .dataframe tbody tr th {\n        vertical-align: top;\n    }\n\n    .dataframe thead th {\n        text-align: right;\n    }\n</style>\n<table border=\"1\" class=\"dataframe\">\n  <thead>\n    <tr style=\"text-align: right;\">\n      <th></th>\n      <th>x1</th>\n      <th>x2</th>\n    </tr>\n  </thead>\n  <tbody>\n    <tr>\n      <th>0</th>\n      <td>3.00</td>\n      <td>0.00</td>\n    </tr>\n    <tr>\n      <th>1</th>\n      <td>1.75</td>\n      <td>-0.25</td>\n    </tr>\n    <tr>\n      <th>2</th>\n      <td>0.50</td>\n      <td>-0.50</td>\n    </tr>\n    <tr>\n      <th>3</th>\n      <td>-0.75</td>\n      <td>-0.75</td>\n    </tr>\n    <tr>\n      <th>4</th>\n      <td>-2.00</td>\n      <td>-1.00</td>\n    </tr>\n  </tbody>\n</table>\n</div>"
     },
     "execution_count": 5,
     "metadata": {},
     "output_type": "execute_result"
    }
   ],
   "source": [
    "x_1_first = 3\n",
    "x_1_last = -2\n",
    "x_2_first = 0\n",
    "x_2_last = -1\n",
    "num_points = 5\n",
    "\n",
    "x_1_inter_coordinates = interpolate_coordinates(x_1_first, x_1_last, num_points)\n",
    "x_2_inter_coordinates = interpolate_coordinates(x_2_first, x_2_last, num_points)\n",
    "# print(x_1_inter_coordinates)\n",
    "# print(x_2_inter_coordinates)\n",
    "\n",
    "# Create a DataFrame from the coordinates\n",
    "coordinates_df = pd.DataFrame({'x1': x_1_inter_coordinates, 'x2': x_2_inter_coordinates})\n",
    "coordinates_df\n"
   ]
  },
  {
   "cell_type": "code",
   "execution_count": 6,
   "id": "da6d2e8262c65420",
   "metadata": {
    "collapsed": false,
    "ExecuteTime": {
     "end_time": "2023-11-30T13:22:56.913447900Z",
     "start_time": "2023-11-30T13:22:56.303686300Z"
    }
   },
   "outputs": [
    {
     "data": {
      "text/plain": "<Figure size 1000x600 with 1 Axes>",
      "image/png": "[encoded data removed]"
     },
     "metadata": {},
     "output_type": "display_data"
    }
   ],
   "source": [
    "import matplotlib.pyplot as plt\n",
    "\n",
    "# Include class colors and a legend\n",
    "colors = {1: 'red', 2: 'green', 3: 'blue'}  # Assigning colors to each class\n",
    "\n",
    "plt.figure(figsize=(10, 6))\n",
    "\n",
    "# Iterate over each class and plot each class with a different color\n",
    "for cls in input_formal_model['Target'].unique():\n",
    "    cls_data = formal_model_reduced[input_formal_model['Target'] == cls]\n",
    "    plt.scatter(cls_data['x1'], cls_data['x2'], s=100, edgecolor='k', color=colors[cls], label=f'Class {cls}')\n",
    "\n",
    "# Annotate points with ID\n",
    "for i, txt in enumerate(input_formal_model['ID']):\n",
    "    plt.annotate(txt, (formal_model_reduced['x1'].iloc[i], formal_model_reduced['x2'].iloc[i]), fontsize=10)\n",
    "\n",
    "# Draw the separating line\n",
    "line_x1 = coordinates_df['x1'].tolist()\n",
    "line_x2 = coordinates_df['x2'].tolist()\n",
    "plt.plot(line_x1, line_x2, 'ro-')\n",
    "\n",
    "plt.xlabel(\"X 1\")\n",
    "plt.ylabel(\"X 2\")\n",
    "plt.title(f\"2D MDS Reduction of {'input_formal_model'}\")\n",
    "plt.grid(True)\n",
    "plt.legend()\n",
    "plt.tight_layout()\n",
    "plt.show()\n"
   ]
  },
  {
   "cell_type": "markdown",
   "id": "ebc5f8d71f9e871e",
   "metadata": {},
   "source": [
    "## 4. Calculate Transition Matrix"
   ]
  },
  {
   "cell_type": "markdown",
   "id": "ef465326b3763a84",
   "metadata": {},
   "source": [
    "### 3.1. Singular Value Decomposition (SVD)"
   ]
  },
  {
   "cell_type": "code",
   "execution_count": 7,
   "id": "c9b16087dcd6299f",
   "metadata": {
    "collapsed": false,
    "ExecuteTime": {
     "end_time": "2023-11-30T13:23:02.719470600Z",
     "start_time": "2023-11-30T13:23:02.705449400Z"
    }
   },
   "outputs": [],
   "source": [
    "# Receive values from the matrix A DataFrame \n",
    "formal_model_reduced_values = formal_model_reduced.values\n",
    "\n",
    "# Calculate SVD\n",
    "U, s, Vt = np.linalg.svd(formal_model_reduced_values)\n",
    "\n",
    "# Construct the full diagonal matrix\n",
    "S = np.zeros(formal_model_reduced_values.shape)\n",
    "for i in range(min(formal_model_reduced_values.shape)):\n",
    "    S[i, i] = s[i]\n",
    "\n",
    "# print(\"U:\\n\", U)\n",
    "# print(\"\\nS:\\n\", S)\n",
    "# print(\"\\nVt:\\n\", Vt)\n"
   ]
  },
  {
   "cell_type": "markdown",
   "id": "20ecf1e1d1743431",
   "metadata": {},
   "source": [
    "### 3.2. Create the reconstructed matrix of SVD"
   ]
  },
  {
   "cell_type": "code",
   "execution_count": 8,
   "id": "300dbbed7537914f",
   "metadata": {
    "collapsed": false,
    "ExecuteTime": {
     "end_time": "2023-11-30T13:23:04.329154900Z",
     "start_time": "2023-11-30T13:23:04.311584300Z"
    }
   },
   "outputs": [],
   "source": [
    "# Recompute the original matrix using U, S, and Vt\n",
    "reconstructed_matrix = U.dot(S.dot(Vt))\n",
    "\n",
    "# Convert the reconstructed matrix to a pandas DataFrame, if desired\n",
    "reconstructed_df = pd.DataFrame(reconstructed_matrix)\n"
   ]
  },
  {
   "cell_type": "code",
   "execution_count": 9,
   "id": "c855a3fcf677b065",
   "metadata": {
    "collapsed": false,
    "ExecuteTime": {
     "end_time": "2023-11-30T13:23:04.832139Z",
     "start_time": "2023-11-30T13:23:04.806573600Z"
    }
   },
   "outputs": [
    {
     "data": {
      "text/plain": "           0         1\n0   0.192177 -1.987074\n1   0.058368 -2.123983\n2  -0.076739 -2.261373\n3  -0.213514 -2.398898\n4  -0.351498 -2.536578\n5  -1.230676  1.563889\n6  -1.441599  1.228293\n7  -1.799797  0.979668\n8  -2.088665  0.732521\n9  -2.497408  0.600576\n10  1.688221  1.006233\n11  1.801003  1.153397\n12  1.904023  1.249175\n13  1.986938  1.332676\n14  2.069167  1.461478",
      "text/html": "<div>\n<style scoped>\n    .dataframe tbody tr th:only-of-type {\n        vertical-align: middle;\n    }\n\n    .dataframe tbody tr th {\n        vertical-align: top;\n    }\n\n    .dataframe thead th {\n        text-align: right;\n    }\n</style>\n<table border=\"1\" class=\"dataframe\">\n  <thead>\n    <tr style=\"text-align: right;\">\n      <th></th>\n      <th>0</th>\n      <th>1</th>\n    </tr>\n  </thead>\n  <tbody>\n    <tr>\n      <th>0</th>\n      <td>0.192177</td>\n      <td>-1.987074</td>\n    </tr>\n    <tr>\n      <th>1</th>\n      <td>0.058368</td>\n      <td>-2.123983</td>\n    </tr>\n    <tr>\n      <th>2</th>\n      <td>-0.076739</td>\n      <td>-2.261373</td>\n    </tr>\n    <tr>\n      <th>3</th>\n      <td>-0.213514</td>\n      <td>-2.398898</td>\n    </tr>\n    <tr>\n      <th>4</th>\n      <td>-0.351498</td>\n      <td>-2.536578</td>\n    </tr>\n    <tr>\n      <th>5</th>\n      <td>-1.230676</td>\n      <td>1.563889</td>\n    </tr>\n    <tr>\n      <th>6</th>\n      <td>-1.441599</td>\n      <td>1.228293</td>\n    </tr>\n    <tr>\n      <th>7</th>\n      <td>-1.799797</td>\n      <td>0.979668</td>\n    </tr>\n    <tr>\n      <th>8</th>\n      <td>-2.088665</td>\n      <td>0.732521</td>\n    </tr>\n    <tr>\n      <th>9</th>\n      <td>-2.497408</td>\n      <td>0.600576</td>\n    </tr>\n    <tr>\n      <th>10</th>\n      <td>1.688221</td>\n      <td>1.006233</td>\n    </tr>\n    <tr>\n      <th>11</th>\n      <td>1.801003</td>\n      <td>1.153397</td>\n    </tr>\n    <tr>\n      <th>12</th>\n      <td>1.904023</td>\n      <td>1.249175</td>\n    </tr>\n    <tr>\n      <th>13</th>\n      <td>1.986938</td>\n      <td>1.332676</td>\n    </tr>\n    <tr>\n      <th>14</th>\n      <td>2.069167</td>\n      <td>1.461478</td>\n    </tr>\n  </tbody>\n</table>\n</div>"
     },
     "execution_count": 9,
     "metadata": {},
     "output_type": "execute_result"
    }
   ],
   "source": [
    "reconstructed_df"
   ]
  },
  {
   "cell_type": "code",
   "execution_count": 10,
   "id": "81f9ceb900efd47d",
   "metadata": {
    "collapsed": false,
    "ExecuteTime": {
     "end_time": "2023-11-30T13:23:05.347799100Z",
     "start_time": "2023-11-30T13:23:05.307933800Z"
    }
   },
   "outputs": [
    {
     "data": {
      "text/plain": "          x1        x2\n0   0.192177 -1.987074\n1   0.058368 -2.123983\n2  -0.076739 -2.261373\n3  -0.213514 -2.398898\n4  -0.351498 -2.536578\n5  -1.230676  1.563889\n6  -1.441599  1.228293\n7  -1.799797  0.979668\n8  -2.088665  0.732521\n9  -2.497408  0.600576\n10  1.688221  1.006233\n11  1.801003  1.153397\n12  1.904023  1.249175\n13  1.986938  1.332676\n14  2.069167  1.461478",
      "text/html": "<div>\n<style scoped>\n    .dataframe tbody tr th:only-of-type {\n        vertical-align: middle;\n    }\n\n    .dataframe tbody tr th {\n        vertical-align: top;\n    }\n\n    .dataframe thead th {\n        text-align: right;\n    }\n</style>\n<table border=\"1\" class=\"dataframe\">\n  <thead>\n    <tr style=\"text-align: right;\">\n      <th></th>\n      <th>x1</th>\n      <th>x2</th>\n    </tr>\n  </thead>\n  <tbody>\n    <tr>\n      <th>0</th>\n      <td>0.192177</td>\n      <td>-1.987074</td>\n    </tr>\n    <tr>\n      <th>1</th>\n      <td>0.058368</td>\n      <td>-2.123983</td>\n    </tr>\n    <tr>\n      <th>2</th>\n      <td>-0.076739</td>\n      <td>-2.261373</td>\n    </tr>\n    <tr>\n      <th>3</th>\n      <td>-0.213514</td>\n      <td>-2.398898</td>\n    </tr>\n    <tr>\n      <th>4</th>\n      <td>-0.351498</td>\n      <td>-2.536578</td>\n    </tr>\n    <tr>\n      <th>5</th>\n      <td>-1.230676</td>\n      <td>1.563889</td>\n    </tr>\n    <tr>\n      <th>6</th>\n      <td>-1.441599</td>\n      <td>1.228293</td>\n    </tr>\n    <tr>\n      <th>7</th>\n      <td>-1.799797</td>\n      <td>0.979668</td>\n    </tr>\n    <tr>\n      <th>8</th>\n      <td>-2.088665</td>\n      <td>0.732521</td>\n    </tr>\n    <tr>\n      <th>9</th>\n      <td>-2.497408</td>\n      <td>0.600576</td>\n    </tr>\n    <tr>\n      <th>10</th>\n      <td>1.688221</td>\n      <td>1.006233</td>\n    </tr>\n    <tr>\n      <th>11</th>\n      <td>1.801003</td>\n      <td>1.153397</td>\n    </tr>\n    <tr>\n      <th>12</th>\n      <td>1.904023</td>\n      <td>1.249175</td>\n    </tr>\n    <tr>\n      <th>13</th>\n      <td>1.986938</td>\n      <td>1.332676</td>\n    </tr>\n    <tr>\n      <th>14</th>\n      <td>2.069167</td>\n      <td>1.461478</td>\n    </tr>\n  </tbody>\n</table>\n</div>"
     },
     "execution_count": 10,
     "metadata": {},
     "output_type": "execute_result"
    }
   ],
   "source": [
    "formal_model_reduced"
   ]
  },
  {
   "cell_type": "markdown",
   "id": "e22636c4bc2289d4",
   "metadata": {},
   "source": [
    "### 3.3. Calculate the generalized inverse of input matrix"
   ]
  },
  {
   "cell_type": "code",
   "execution_count": 11,
   "id": "d82d42f8951a5a24",
   "metadata": {
    "collapsed": false,
    "ExecuteTime": {
     "end_time": "2023-11-30T13:23:05.642500500Z",
     "start_time": "2023-11-30T13:23:05.625471700Z"
    }
   },
   "outputs": [],
   "source": [
    "# Calculate the generalized (Moore-Penrose) inverse\n",
    "formal_model_reduced_pinv = np.linalg.pinv(formal_model_reduced_values)\n",
    "\n",
    "# Convert to a pandas DataFrame\n",
    "formal_model_reduced_pinv_df = pd.DataFrame(formal_model_reduced_pinv)"
   ]
  },
  {
   "cell_type": "code",
   "execution_count": 12,
   "id": "f723de97150d5c16",
   "metadata": {
    "collapsed": false,
    "ExecuteTime": {
     "end_time": "2023-11-30T13:23:05.841198200Z",
     "start_time": "2023-11-30T13:23:05.796951500Z"
    }
   },
   "outputs": [
    {
     "data": {
      "text/plain": "         0         1         2         3         4         5         6   \\\n0  0.011812  0.008437  0.005026  0.001568 -0.001924 -0.040048 -0.044987   \n1 -0.051770 -0.054867 -0.057974 -0.061078 -0.064182  0.044187  0.036220   \n\n         7         8         9         10       11        12        13  \\\n0 -0.054398 -0.061839 -0.073063  0.044886  0.04763  0.050259  0.052355   \n1  0.030961  0.025520  0.023426  0.020521  0.02395  0.026087  0.027973   \n\n         14  \n0  0.054287  \n1  0.031026  ",
      "text/html": "<div>\n<style scoped>\n    .dataframe tbody tr th:only-of-type {\n        vertical-align: middle;\n    }\n\n    .dataframe tbody tr th {\n        vertical-align: top;\n    }\n\n    .dataframe thead th {\n        text-align: right;\n    }\n</style>\n<table border=\"1\" class=\"dataframe\">\n  <thead>\n    <tr style=\"text-align: right;\">\n      <th></th>\n      <th>0</th>\n      <th>1</th>\n      <th>2</th>\n      <th>3</th>\n      <th>4</th>\n      <th>5</th>\n      <th>6</th>\n      <th>7</th>\n      <th>8</th>\n      <th>9</th>\n      <th>10</th>\n      <th>11</th>\n      <th>12</th>\n      <th>13</th>\n      <th>14</th>\n    </tr>\n  </thead>\n  <tbody>\n    <tr>\n      <th>0</th>\n      <td>0.011812</td>\n      <td>0.008437</td>\n      <td>0.005026</td>\n      <td>0.001568</td>\n      <td>-0.001924</td>\n      <td>-0.040048</td>\n      <td>-0.044987</td>\n      <td>-0.054398</td>\n      <td>-0.061839</td>\n      <td>-0.073063</td>\n      <td>0.044886</td>\n      <td>0.04763</td>\n      <td>0.050259</td>\n      <td>0.052355</td>\n      <td>0.054287</td>\n    </tr>\n    <tr>\n      <th>1</th>\n      <td>-0.051770</td>\n      <td>-0.054867</td>\n      <td>-0.057974</td>\n      <td>-0.061078</td>\n      <td>-0.064182</td>\n      <td>0.044187</td>\n      <td>0.036220</td>\n      <td>0.030961</td>\n      <td>0.025520</td>\n      <td>0.023426</td>\n      <td>0.020521</td>\n      <td>0.02395</td>\n      <td>0.026087</td>\n      <td>0.027973</td>\n      <td>0.031026</td>\n    </tr>\n  </tbody>\n</table>\n</div>"
     },
     "execution_count": 12,
     "metadata": {},
     "output_type": "execute_result"
    }
   ],
   "source": [
    "formal_model_reduced_pinv_df"
   ]
  },
  {
   "cell_type": "markdown",
   "id": "ae217465b26b7db8",
   "metadata": {},
   "source": [
    "### 3.4. Calculate transition matrix T"
   ]
  },
  {
   "cell_type": "code",
   "execution_count": 13,
   "id": "41df41ba6680071d",
   "metadata": {
    "collapsed": false,
    "ExecuteTime": {
     "end_time": "2023-11-30T13:23:06.795111500Z",
     "start_time": "2023-11-30T13:23:06.762829500Z"
    }
   },
   "outputs": [],
   "source": [
    "transition_matrix_T = formal_model_reduced_pinv_df.dot(formal_model_features)"
   ]
  },
  {
   "cell_type": "code",
   "execution_count": 14,
   "id": "481f9ce7d7ea80a6",
   "metadata": {
    "collapsed": false,
    "ExecuteTime": {
     "end_time": "2023-11-30T13:23:07.156647100Z",
     "start_time": "2023-11-30T13:23:07.111832500Z"
    }
   },
   "outputs": [
    {
     "data": {
      "text/plain": "         f1        f2        f3        f4        f5\n0  0.575162  0.544918 -0.310095 -0.252792 -1.029996\n1 -0.923985 -0.009008  1.227672 -0.407597 -0.418331",
      "text/html": "<div>\n<style scoped>\n    .dataframe tbody tr th:only-of-type {\n        vertical-align: middle;\n    }\n\n    .dataframe tbody tr th {\n        vertical-align: top;\n    }\n\n    .dataframe thead th {\n        text-align: right;\n    }\n</style>\n<table border=\"1\" class=\"dataframe\">\n  <thead>\n    <tr style=\"text-align: right;\">\n      <th></th>\n      <th>f1</th>\n      <th>f2</th>\n      <th>f3</th>\n      <th>f4</th>\n      <th>f5</th>\n    </tr>\n  </thead>\n  <tbody>\n    <tr>\n      <th>0</th>\n      <td>0.575162</td>\n      <td>0.544918</td>\n      <td>-0.310095</td>\n      <td>-0.252792</td>\n      <td>-1.029996</td>\n    </tr>\n    <tr>\n      <th>1</th>\n      <td>-0.923985</td>\n      <td>-0.009008</td>\n      <td>1.227672</td>\n      <td>-0.407597</td>\n      <td>-0.418331</td>\n    </tr>\n  </tbody>\n</table>\n</div>"
     },
     "execution_count": 14,
     "metadata": {},
     "output_type": "execute_result"
    }
   ],
   "source": [
    "transition_matrix_T"
   ]
  },
  {
   "cell_type": "markdown",
   "id": "63707c7d6fa3b351",
   "metadata": {},
   "source": [
    "## 4. Create Hyperplane"
   ]
  },
  {
   "cell_type": "code",
   "execution_count": 15,
   "id": "af020167e0a630b2",
   "metadata": {
    "collapsed": false,
    "ExecuteTime": {
     "end_time": "2023-11-30T13:23:07.927740300Z",
     "start_time": "2023-11-30T13:23:07.912716100Z"
    }
   },
   "outputs": [],
   "source": [
    "coordinates_hyperplane_df = coordinates_df.values @ transition_matrix_T.values"
   ]
  },
  {
   "cell_type": "code",
   "execution_count": 16,
   "id": "a49ccb2f95c82aa4",
   "metadata": {
    "collapsed": false,
    "ExecuteTime": {
     "end_time": "2023-11-30T13:23:08.507951600Z",
     "start_time": "2023-11-30T13:23:08.479919900Z"
    }
   },
   "outputs": [
    {
     "data": {
      "text/plain": "array([[ 1.7254856 ,  1.63475322, -0.93028644, -0.75837585, -3.08998949],\n       [ 1.23752958,  0.95585799, -0.84958509, -0.34048661, -1.69791114],\n       [ 0.74957355,  0.27696275, -0.76888374,  0.07740263, -0.30583279],\n       [ 0.26161753, -0.40193248, -0.68818239,  0.49529187,  1.08624557],\n       [-0.22633849, -1.08082771, -0.60748104,  0.91318111,  2.47832392]])"
     },
     "execution_count": 16,
     "metadata": {},
     "output_type": "execute_result"
    }
   ],
   "source": [
    "coordinates_hyperplane_df"
   ]
  },
  {
   "cell_type": "code",
   "execution_count": 17,
   "id": "e1f055e528cfd8f",
   "metadata": {
    "collapsed": false,
    "ExecuteTime": {
     "end_time": "2023-11-30T13:23:09.068314500Z",
     "start_time": "2023-11-30T13:23:09.051736300Z"
    }
   },
   "outputs": [
    {
     "data": {
      "text/plain": "array([[ 1.        ,  1.7254856 ,  1.63475322, -0.93028644, -0.75837585,\n        -3.08998949],\n       [ 1.        ,  1.23752958,  0.95585799, -0.84958509, -0.34048661,\n        -1.69791114],\n       [ 1.        ,  0.74957355,  0.27696275, -0.76888374,  0.07740263,\n        -0.30583279],\n       [ 1.        ,  0.26161753, -0.40193248, -0.68818239,  0.49529187,\n         1.08624557],\n       [ 1.        , -0.22633849, -1.08082771, -0.60748104,  0.91318111,\n         2.47832392]])"
     },
     "execution_count": 17,
     "metadata": {},
     "output_type": "execute_result"
    }
   ],
   "source": [
    "# Adding a new column with all values set to 1\n",
    "new_column = np.ones((coordinates_hyperplane_df.shape[0], 1))\n",
    "feature_vector_inverse = np.hstack((new_column, coordinates_hyperplane_df))\n",
    "\n",
    "feature_vector_inverse"
   ]
  },
  {
   "cell_type": "code",
   "execution_count": 18,
   "id": "f5c5eee4c62ff7f6",
   "metadata": {
    "collapsed": false,
    "ExecuteTime": {
     "end_time": "2023-11-30T13:23:09.489672900Z",
     "start_time": "2023-11-30T13:23:09.451906500Z"
    }
   },
   "outputs": [
    {
     "name": "stdout",
     "output_type": "stream",
     "text": [
      "Optimization terminated successfully    (Exit mode 0)\n",
      "            Current function value: 3.764271617422415e-07\n",
      "            Iterations: 13\n",
      "            Function evaluations: 124\n",
      "            Gradient evaluations: 13\n",
      "Optimization was successful. The weights are:\n",
      "      weight\n",
      "w0  0.000067\n",
      "w1 -0.000222\n",
      "w2 -0.000384\n",
      "w3 -0.000149\n",
      "w4  0.000075\n",
      "w5 -0.000279\n",
      "\n",
      "Value of the optimization criteria (objective function value): 3.764271617422415e-07\n",
      "\n",
      "Convergence status: Optimization terminated successfully\n"
     ]
    }
   ],
   "source": [
    "# Optimization criteria function\n",
    "def optimization_criteria(W, X):\n",
    "    return np.sum(np.abs(X.dot(W.T)))\n",
    "\n",
    "# Initial guess (starting point for the optimization algorithm)\n",
    "weights_inverse_initial = np.zeros(feature_vector_inverse.shape[1])\n",
    "\n",
    "# Bounds for W (setting it between -1 and 1)\n",
    "bounds = [(-1, 1) for _ in range(feature_vector_inverse.shape[1])]\n",
    "\n",
    "# The actual optimization\n",
    "res = minimize(\n",
    "    optimization_criteria,\n",
    "    weights_inverse_initial,\n",
    "    args=(feature_vector_inverse,),\n",
    "    method='SLSQP',\n",
    "    bounds=bounds,\n",
    "    options={'disp': True}\n",
    ")\n",
    "\n",
    "# Checking if the optimization was successful\n",
    "if res.success:\n",
    "    # Extract the weights into a DataFrame\n",
    "    weights_inverse_output = pd.DataFrame(res.x, index=[f'w{i}' for i in range(len(res.x))], columns=['weight'])\n",
    "\n",
    "    print(\"Optimization was successful. The weights are:\")\n",
    "    print(weights_inverse_output)\n",
    "\n",
    "    # Output the value of the optimization criteria\n",
    "    print(\"\\nValue of the optimization criteria (objective function value):\", res.fun)\n",
    "else:\n",
    "    print(\"Optimization failed.\")\n",
    "\n",
    "# Checking for convergence\n",
    "print(\"\\nConvergence status:\", res.message)\n"
   ]
  },
  {
   "cell_type": "code",
   "execution_count": 19,
   "id": "229473793e1f5f6d",
   "metadata": {
    "collapsed": false,
    "ExecuteTime": {
     "end_time": "2023-11-30T13:23:09.975681Z",
     "start_time": "2023-11-30T13:23:09.946643500Z"
    }
   },
   "outputs": [
    {
     "data": {
      "text/plain": "      weight\nw0  0.000067\nw1 -0.000222\nw2 -0.000384\nw3 -0.000149\nw4  0.000075\nw5 -0.000279",
      "text/html": "<div>\n<style scoped>\n    .dataframe tbody tr th:only-of-type {\n        vertical-align: middle;\n    }\n\n    .dataframe tbody tr th {\n        vertical-align: top;\n    }\n\n    .dataframe thead th {\n        text-align: right;\n    }\n</style>\n<table border=\"1\" class=\"dataframe\">\n  <thead>\n    <tr style=\"text-align: right;\">\n      <th></th>\n      <th>weight</th>\n    </tr>\n  </thead>\n  <tbody>\n    <tr>\n      <th>w0</th>\n      <td>0.000067</td>\n    </tr>\n    <tr>\n      <th>w1</th>\n      <td>-0.000222</td>\n    </tr>\n    <tr>\n      <th>w2</th>\n      <td>-0.000384</td>\n    </tr>\n    <tr>\n      <th>w3</th>\n      <td>-0.000149</td>\n    </tr>\n    <tr>\n      <th>w4</th>\n      <td>0.000075</td>\n    </tr>\n    <tr>\n      <th>w5</th>\n      <td>-0.000279</td>\n    </tr>\n  </tbody>\n</table>\n</div>"
     },
     "execution_count": 19,
     "metadata": {},
     "output_type": "execute_result"
    }
   ],
   "source": [
    "weights_inverse_output"
   ]
  },
  {
   "cell_type": "code",
   "execution_count": 20,
   "id": "fd4510816a331570",
   "metadata": {
    "collapsed": false,
    "ExecuteTime": {
     "end_time": "2023-11-30T13:23:11.487955Z",
     "start_time": "2023-11-30T13:23:11.475026900Z"
    }
   },
   "outputs": [
    {
     "data": {
      "text/plain": "     weight\n0 -0.000222\n1 -0.000384\n2 -0.000149\n3  0.000075\n4 -0.000279\n5  0.000067",
      "text/html": "<div>\n<style scoped>\n    .dataframe tbody tr th:only-of-type {\n        vertical-align: middle;\n    }\n\n    .dataframe tbody tr th {\n        vertical-align: top;\n    }\n\n    .dataframe thead th {\n        text-align: right;\n    }\n</style>\n<table border=\"1\" class=\"dataframe\">\n  <thead>\n    <tr style=\"text-align: right;\">\n      <th></th>\n      <th>weight</th>\n    </tr>\n  </thead>\n  <tbody>\n    <tr>\n      <th>0</th>\n      <td>-0.000222</td>\n    </tr>\n    <tr>\n      <th>1</th>\n      <td>-0.000384</td>\n    </tr>\n    <tr>\n      <th>2</th>\n      <td>-0.000149</td>\n    </tr>\n    <tr>\n      <th>3</th>\n      <td>0.000075</td>\n    </tr>\n    <tr>\n      <th>4</th>\n      <td>-0.000279</td>\n    </tr>\n    <tr>\n      <th>5</th>\n      <td>0.000067</td>\n    </tr>\n  </tbody>\n</table>\n</div>"
     },
     "execution_count": 20,
     "metadata": {},
     "output_type": "execute_result"
    }
   ],
   "source": [
    "# Reorder the weight vector so that w0 is at the end.\n",
    "weights_df_reordered = pd.concat([weights_inverse_output.iloc[1:], weights_inverse_output.iloc[0:1]]).reset_index(drop=True)\n",
    "\n",
    "# Show the modified DataFrame\n",
    "weights_df_reordered\n"
   ]
  },
  {
   "cell_type": "code",
   "execution_count": 21,
   "id": "6c4bb7858af12496",
   "metadata": {
    "collapsed": false,
    "ExecuteTime": {
     "end_time": "2023-11-30T13:23:12.167705100Z",
     "start_time": "2023-11-30T13:23:12.121152100Z"
    }
   },
   "outputs": [
    {
     "data": {
      "text/plain": "     f1   f2        f3        f4   f5  f0\n0   2.8 -1.8 -2.800000  1.300000  0.4   1\n1   2.9 -1.9 -2.900000  1.400000  0.5   1\n2   3.0 -2.0 -3.000000  1.500000  0.6   1\n3   3.1 -2.1 -3.100000  1.600000  0.7   1\n4   3.2 -2.2 -3.200000  1.700000  0.8   1\n5  -1.6 -2.5  1.500000  0.200000  0.6   1\n6  -1.3 -2.7  1.300000  0.400000  0.8   1\n7  -1.0 -3.0  1.500000  0.600000  1.0   1\n8  -0.7 -3.2  1.700000  0.800000  1.2   1\n9  -0.5 -3.5  1.900000  1.000000  1.4   1\n10  1.2 -1.2  0.700000 -0.300000 -2.8   1\n11  1.1 -1.1  0.800000 -0.400000 -2.9   1\n12  1.0 -1.0  0.844444 -0.444444 -3.0   1\n13  0.9 -0.9  0.850000 -0.450000 -3.1   1\n14  0.8 -0.8  0.900000 -0.500000 -3.2   1",
      "text/html": "<div>\n<style scoped>\n    .dataframe tbody tr th:only-of-type {\n        vertical-align: middle;\n    }\n\n    .dataframe tbody tr th {\n        vertical-align: top;\n    }\n\n    .dataframe thead th {\n        text-align: right;\n    }\n</style>\n<table border=\"1\" class=\"dataframe\">\n  <thead>\n    <tr style=\"text-align: right;\">\n      <th></th>\n      <th>f1</th>\n      <th>f2</th>\n      <th>f3</th>\n      <th>f4</th>\n      <th>f5</th>\n      <th>f0</th>\n    </tr>\n  </thead>\n  <tbody>\n    <tr>\n      <th>0</th>\n      <td>2.8</td>\n      <td>-1.8</td>\n      <td>-2.800000</td>\n      <td>1.300000</td>\n      <td>0.4</td>\n      <td>1</td>\n    </tr>\n    <tr>\n      <th>1</th>\n      <td>2.9</td>\n      <td>-1.9</td>\n      <td>-2.900000</td>\n      <td>1.400000</td>\n      <td>0.5</td>\n      <td>1</td>\n    </tr>\n    <tr>\n      <th>2</th>\n      <td>3.0</td>\n      <td>-2.0</td>\n      <td>-3.000000</td>\n      <td>1.500000</td>\n      <td>0.6</td>\n      <td>1</td>\n    </tr>\n    <tr>\n      <th>3</th>\n      <td>3.1</td>\n      <td>-2.1</td>\n      <td>-3.100000</td>\n      <td>1.600000</td>\n      <td>0.7</td>\n      <td>1</td>\n    </tr>\n    <tr>\n      <th>4</th>\n      <td>3.2</td>\n      <td>-2.2</td>\n      <td>-3.200000</td>\n      <td>1.700000</td>\n      <td>0.8</td>\n      <td>1</td>\n    </tr>\n    <tr>\n      <th>5</th>\n      <td>-1.6</td>\n      <td>-2.5</td>\n      <td>1.500000</td>\n      <td>0.200000</td>\n      <td>0.6</td>\n      <td>1</td>\n    </tr>\n    <tr>\n      <th>6</th>\n      <td>-1.3</td>\n      <td>-2.7</td>\n      <td>1.300000</td>\n      <td>0.400000</td>\n      <td>0.8</td>\n      <td>1</td>\n    </tr>\n    <tr>\n      <th>7</th>\n      <td>-1.0</td>\n      <td>-3.0</td>\n      <td>1.500000</td>\n      <td>0.600000</td>\n      <td>1.0</td>\n      <td>1</td>\n    </tr>\n    <tr>\n      <th>8</th>\n      <td>-0.7</td>\n      <td>-3.2</td>\n      <td>1.700000</td>\n      <td>0.800000</td>\n      <td>1.2</td>\n      <td>1</td>\n    </tr>\n    <tr>\n      <th>9</th>\n      <td>-0.5</td>\n      <td>-3.5</td>\n      <td>1.900000</td>\n      <td>1.000000</td>\n      <td>1.4</td>\n      <td>1</td>\n    </tr>\n    <tr>\n      <th>10</th>\n      <td>1.2</td>\n      <td>-1.2</td>\n      <td>0.700000</td>\n      <td>-0.300000</td>\n      <td>-2.8</td>\n      <td>1</td>\n    </tr>\n    <tr>\n      <th>11</th>\n      <td>1.1</td>\n      <td>-1.1</td>\n      <td>0.800000</td>\n      <td>-0.400000</td>\n      <td>-2.9</td>\n      <td>1</td>\n    </tr>\n    <tr>\n      <th>12</th>\n      <td>1.0</td>\n      <td>-1.0</td>\n      <td>0.844444</td>\n      <td>-0.444444</td>\n      <td>-3.0</td>\n      <td>1</td>\n    </tr>\n    <tr>\n      <th>13</th>\n      <td>0.9</td>\n      <td>-0.9</td>\n      <td>0.850000</td>\n      <td>-0.450000</td>\n      <td>-3.1</td>\n      <td>1</td>\n    </tr>\n    <tr>\n      <th>14</th>\n      <td>0.8</td>\n      <td>-0.8</td>\n      <td>0.900000</td>\n      <td>-0.500000</td>\n      <td>-3.2</td>\n      <td>1</td>\n    </tr>\n  </tbody>\n</table>\n</div>"
     },
     "execution_count": 21,
     "metadata": {},
     "output_type": "execute_result"
    }
   ],
   "source": [
    "# Create a new DataFrame with an additional column\n",
    "new_formal_model_features = formal_model_features.copy()\n",
    "new_formal_model_features['f0'] = 1\n",
    "new_formal_model_features\n"
   ]
  },
  {
   "cell_type": "code",
   "execution_count": 22,
   "id": "c2f759c7f2967205",
   "metadata": {
    "collapsed": false,
    "ExecuteTime": {
     "end_time": "2023-11-30T13:23:12.853528300Z",
     "start_time": "2023-11-30T13:23:12.817996600Z"
    }
   },
   "outputs": [],
   "source": [
    "# # Multiply the features by the weights\n",
    "my_result = new_formal_model_features.mul(weights_df_reordered['weight'].values, axis=1)\n",
    "\n",
    "# Sum along the rows to get the final single column for predictions\n",
    "my_predictions = my_result.sum(axis=1)\n",
    "\n",
    "# Convert the series to a data frame\n",
    "my_predictions_df = my_predictions.to_frame(name='Prediction')"
   ]
  },
  {
   "cell_type": "code",
   "execution_count": 23,
   "id": "47d42fcab1156ca0",
   "metadata": {
    "collapsed": false,
    "ExecuteTime": {
     "end_time": "2023-11-30T13:23:13.870493800Z",
     "start_time": "2023-11-30T13:23:13.858984Z"
    }
   },
   "outputs": [
    {
     "data": {
      "text/plain": "    Prediction\n0     0.000540\n1     0.000551\n2     0.000561\n3     0.000572\n4     0.000583\n5     0.001008\n6     0.001007\n7     0.000985\n8     0.000924\n9     0.000924\n10    0.000917\n11    0.000906\n12    0.000908\n13    0.000918\n14    0.000919",
      "text/html": "<div>\n<style scoped>\n    .dataframe tbody tr th:only-of-type {\n        vertical-align: middle;\n    }\n\n    .dataframe tbody tr th {\n        vertical-align: top;\n    }\n\n    .dataframe thead th {\n        text-align: right;\n    }\n</style>\n<table border=\"1\" class=\"dataframe\">\n  <thead>\n    <tr style=\"text-align: right;\">\n      <th></th>\n      <th>Prediction</th>\n    </tr>\n  </thead>\n  <tbody>\n    <tr>\n      <th>0</th>\n      <td>0.000540</td>\n    </tr>\n    <tr>\n      <th>1</th>\n      <td>0.000551</td>\n    </tr>\n    <tr>\n      <th>2</th>\n      <td>0.000561</td>\n    </tr>\n    <tr>\n      <th>3</th>\n      <td>0.000572</td>\n    </tr>\n    <tr>\n      <th>4</th>\n      <td>0.000583</td>\n    </tr>\n    <tr>\n      <th>5</th>\n      <td>0.001008</td>\n    </tr>\n    <tr>\n      <th>6</th>\n      <td>0.001007</td>\n    </tr>\n    <tr>\n      <th>7</th>\n      <td>0.000985</td>\n    </tr>\n    <tr>\n      <th>8</th>\n      <td>0.000924</td>\n    </tr>\n    <tr>\n      <th>9</th>\n      <td>0.000924</td>\n    </tr>\n    <tr>\n      <th>10</th>\n      <td>0.000917</td>\n    </tr>\n    <tr>\n      <th>11</th>\n      <td>0.000906</td>\n    </tr>\n    <tr>\n      <th>12</th>\n      <td>0.000908</td>\n    </tr>\n    <tr>\n      <th>13</th>\n      <td>0.000918</td>\n    </tr>\n    <tr>\n      <th>14</th>\n      <td>0.000919</td>\n    </tr>\n  </tbody>\n</table>\n</div>"
     },
     "execution_count": 23,
     "metadata": {},
     "output_type": "execute_result"
    }
   ],
   "source": [
    "my_predictions_df"
   ]
  },
  {
   "cell_type": "code",
   "execution_count": 24,
   "id": "9c176f0dcb5faa9c",
   "metadata": {
    "collapsed": false,
    "ExecuteTime": {
     "end_time": "2023-11-30T13:23:14.904284200Z",
     "start_time": "2023-11-30T13:23:14.887261200Z"
    }
   },
   "outputs": [],
   "source": [
    "my_predictions_df = pd.concat([my_predictions_df, formal_model_target], axis=1)\n"
   ]
  },
  {
   "cell_type": "code",
   "execution_count": 25,
   "id": "fe92461bc9c2e37d",
   "metadata": {
    "collapsed": false,
    "ExecuteTime": {
     "end_time": "2023-11-30T13:23:15.460034700Z",
     "start_time": "2023-11-30T13:23:15.424013Z"
    }
   },
   "outputs": [
    {
     "data": {
      "text/plain": "    Prediction  Target\n0     0.000540       1\n1     0.000551       1\n2     0.000561       1\n3     0.000572       1\n4     0.000583       1\n5     0.001008       2\n6     0.001007       2\n7     0.000985       2\n8     0.000924       2\n9     0.000924       2\n10    0.000917       3\n11    0.000906       3\n12    0.000908       3\n13    0.000918       3\n14    0.000919       3",
      "text/html": "<div>\n<style scoped>\n    .dataframe tbody tr th:only-of-type {\n        vertical-align: middle;\n    }\n\n    .dataframe tbody tr th {\n        vertical-align: top;\n    }\n\n    .dataframe thead th {\n        text-align: right;\n    }\n</style>\n<table border=\"1\" class=\"dataframe\">\n  <thead>\n    <tr style=\"text-align: right;\">\n      <th></th>\n      <th>Prediction</th>\n      <th>Target</th>\n    </tr>\n  </thead>\n  <tbody>\n    <tr>\n      <th>0</th>\n      <td>0.000540</td>\n      <td>1</td>\n    </tr>\n    <tr>\n      <th>1</th>\n      <td>0.000551</td>\n      <td>1</td>\n    </tr>\n    <tr>\n      <th>2</th>\n      <td>0.000561</td>\n      <td>1</td>\n    </tr>\n    <tr>\n      <th>3</th>\n      <td>0.000572</td>\n      <td>1</td>\n    </tr>\n    <tr>\n      <th>4</th>\n      <td>0.000583</td>\n      <td>1</td>\n    </tr>\n    <tr>\n      <th>5</th>\n      <td>0.001008</td>\n      <td>2</td>\n    </tr>\n    <tr>\n      <th>6</th>\n      <td>0.001007</td>\n      <td>2</td>\n    </tr>\n    <tr>\n      <th>7</th>\n      <td>0.000985</td>\n      <td>2</td>\n    </tr>\n    <tr>\n      <th>8</th>\n      <td>0.000924</td>\n      <td>2</td>\n    </tr>\n    <tr>\n      <th>9</th>\n      <td>0.000924</td>\n      <td>2</td>\n    </tr>\n    <tr>\n      <th>10</th>\n      <td>0.000917</td>\n      <td>3</td>\n    </tr>\n    <tr>\n      <th>11</th>\n      <td>0.000906</td>\n      <td>3</td>\n    </tr>\n    <tr>\n      <th>12</th>\n      <td>0.000908</td>\n      <td>3</td>\n    </tr>\n    <tr>\n      <th>13</th>\n      <td>0.000918</td>\n      <td>3</td>\n    </tr>\n    <tr>\n      <th>14</th>\n      <td>0.000919</td>\n      <td>3</td>\n    </tr>\n  </tbody>\n</table>\n</div>"
     },
     "execution_count": 25,
     "metadata": {},
     "output_type": "execute_result"
    }
   ],
   "source": [
    "my_predictions_df"
   ]
  },
  {
   "cell_type": "code",
   "execution_count": null,
   "id": "a9dbb3eed4a46abb",
   "metadata": {
    "collapsed": false
   },
   "outputs": [],
   "source": []
  }
 ],
 "metadata": {
  "kernelspec": {
   "display_name": "Python 3 (ipykernel)",
   "language": "python",
   "name": "python3"
  },
  "language_info": {
   "codemirror_mode": {
    "name": "ipython",
    "version": 3
   },
   "file_extension": ".py",
   "mimetype": "text/x-python",
   "name": "python",
   "nbconvert_exporter": "python",
   "pygments_lexer": "ipython3",
   "version": "3.9.16"
  }
 },
 "nbformat": 4,
 "nbformat_minor": 5
}
