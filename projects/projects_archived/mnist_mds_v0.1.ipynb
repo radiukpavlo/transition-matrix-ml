{
 "cells": [
  {
   "cell_type": "markdown",
   "source": [
    "## 1. Data Upload"
   ],
   "metadata": {
    "collapsed": false
   },
   "id": "9429755869ff6538"
  },
  {
   "cell_type": "code",
   "execution_count": 1,
   "outputs": [],
   "source": [
    "import pandas as pd\n",
    "import numpy as np\n",
    "from io import StringIO\n",
    "from sklearn.manifold import MDS\n",
    "from sklearn.preprocessing import StandardScaler\n",
    "\n",
    "path_csv = '.'\n",
    "\n",
    "# Read the CSV files into pandas dataframes\n",
    "input_formal_model = pd.read_csv(f\"{path_csv}/formal_model.csv\")"
   ],
   "metadata": {
    "collapsed": false,
    "ExecuteTime": {
     "end_time": "2023-11-09T15:56:16.447889700Z",
     "start_time": "2023-11-09T15:56:15.598671900Z"
    }
   },
   "id": "7fde58ff0426c5dd"
  },
  {
   "cell_type": "code",
   "execution_count": 2,
   "outputs": [
    {
     "data": {
      "text/plain": "    Formal Model   f1   f2        f3        f4   f5\n0              1  2.8 -1.8 -2.800000  1.300000  0.4\n1              2  2.9 -1.9 -2.900000  1.400000  0.5\n2              3  3.0 -2.0 -3.000000  1.500000  0.6\n3              4  3.1 -2.1 -3.100000  1.600000  0.7\n4              5  3.2 -2.2 -3.200000  1.700000  0.8\n5              6 -1.6 -2.5  1.500000  0.200000  0.6\n6              7 -1.3 -2.7  1.300000  0.400000  0.8\n7              8 -1.0 -3.0  1.500000  0.600000  1.0\n8              9 -0.7 -3.2  1.700000  0.800000  1.2\n9             10 -0.5 -3.5  1.900000  1.000000  1.4\n10            11  1.2 -1.2  0.700000 -0.300000 -2.8\n11            12  1.1 -1.1  0.800000 -0.400000 -2.9\n12            13  1.0 -1.0  0.844444 -0.444444 -3.0\n13            14  0.9 -0.9  0.850000 -0.450000 -3.1\n14            15  0.8 -0.8  0.900000 -0.500000 -3.2",
      "text/html": "<div>\n<style scoped>\n    .dataframe tbody tr th:only-of-type {\n        vertical-align: middle;\n    }\n\n    .dataframe tbody tr th {\n        vertical-align: top;\n    }\n\n    .dataframe thead th {\n        text-align: right;\n    }\n</style>\n<table border=\"1\" class=\"dataframe\">\n  <thead>\n    <tr style=\"text-align: right;\">\n      <th></th>\n      <th>Formal Model</th>\n      <th>f1</th>\n      <th>f2</th>\n      <th>f3</th>\n      <th>f4</th>\n      <th>f5</th>\n    </tr>\n  </thead>\n  <tbody>\n    <tr>\n      <th>0</th>\n      <td>1</td>\n      <td>2.8</td>\n      <td>-1.8</td>\n      <td>-2.800000</td>\n      <td>1.300000</td>\n      <td>0.4</td>\n    </tr>\n    <tr>\n      <th>1</th>\n      <td>2</td>\n      <td>2.9</td>\n      <td>-1.9</td>\n      <td>-2.900000</td>\n      <td>1.400000</td>\n      <td>0.5</td>\n    </tr>\n    <tr>\n      <th>2</th>\n      <td>3</td>\n      <td>3.0</td>\n      <td>-2.0</td>\n      <td>-3.000000</td>\n      <td>1.500000</td>\n      <td>0.6</td>\n    </tr>\n    <tr>\n      <th>3</th>\n      <td>4</td>\n      <td>3.1</td>\n      <td>-2.1</td>\n      <td>-3.100000</td>\n      <td>1.600000</td>\n      <td>0.7</td>\n    </tr>\n    <tr>\n      <th>4</th>\n      <td>5</td>\n      <td>3.2</td>\n      <td>-2.2</td>\n      <td>-3.200000</td>\n      <td>1.700000</td>\n      <td>0.8</td>\n    </tr>\n    <tr>\n      <th>5</th>\n      <td>6</td>\n      <td>-1.6</td>\n      <td>-2.5</td>\n      <td>1.500000</td>\n      <td>0.200000</td>\n      <td>0.6</td>\n    </tr>\n    <tr>\n      <th>6</th>\n      <td>7</td>\n      <td>-1.3</td>\n      <td>-2.7</td>\n      <td>1.300000</td>\n      <td>0.400000</td>\n      <td>0.8</td>\n    </tr>\n    <tr>\n      <th>7</th>\n      <td>8</td>\n      <td>-1.0</td>\n      <td>-3.0</td>\n      <td>1.500000</td>\n      <td>0.600000</td>\n      <td>1.0</td>\n    </tr>\n    <tr>\n      <th>8</th>\n      <td>9</td>\n      <td>-0.7</td>\n      <td>-3.2</td>\n      <td>1.700000</td>\n      <td>0.800000</td>\n      <td>1.2</td>\n    </tr>\n    <tr>\n      <th>9</th>\n      <td>10</td>\n      <td>-0.5</td>\n      <td>-3.5</td>\n      <td>1.900000</td>\n      <td>1.000000</td>\n      <td>1.4</td>\n    </tr>\n    <tr>\n      <th>10</th>\n      <td>11</td>\n      <td>1.2</td>\n      <td>-1.2</td>\n      <td>0.700000</td>\n      <td>-0.300000</td>\n      <td>-2.8</td>\n    </tr>\n    <tr>\n      <th>11</th>\n      <td>12</td>\n      <td>1.1</td>\n      <td>-1.1</td>\n      <td>0.800000</td>\n      <td>-0.400000</td>\n      <td>-2.9</td>\n    </tr>\n    <tr>\n      <th>12</th>\n      <td>13</td>\n      <td>1.0</td>\n      <td>-1.0</td>\n      <td>0.844444</td>\n      <td>-0.444444</td>\n      <td>-3.0</td>\n    </tr>\n    <tr>\n      <th>13</th>\n      <td>14</td>\n      <td>0.9</td>\n      <td>-0.9</td>\n      <td>0.850000</td>\n      <td>-0.450000</td>\n      <td>-3.1</td>\n    </tr>\n    <tr>\n      <th>14</th>\n      <td>15</td>\n      <td>0.8</td>\n      <td>-0.8</td>\n      <td>0.900000</td>\n      <td>-0.500000</td>\n      <td>-3.2</td>\n    </tr>\n  </tbody>\n</table>\n</div>"
     },
     "execution_count": 2,
     "metadata": {},
     "output_type": "execute_result"
    }
   ],
   "source": [
    "input_formal_model"
   ],
   "metadata": {
    "collapsed": false,
    "ExecuteTime": {
     "end_time": "2023-11-09T15:56:16.463035200Z",
     "start_time": "2023-11-09T15:56:16.448891Z"
    }
   },
   "id": "a4bf3067abb75f37"
  },
  {
   "cell_type": "markdown",
   "source": [
    "## 2. Multi-dimensional scaling"
   ],
   "metadata": {
    "collapsed": false
   },
   "id": "e695dfea778f3996"
  },
  {
   "cell_type": "code",
   "execution_count": 3,
   "outputs": [
    {
     "name": "stdout",
     "output_type": "stream",
     "text": [
      "          x1        x2\n",
      "0  -1.799900 -0.858612\n",
      "1  -1.848465 -1.043730\n",
      "2  -1.897656 -1.229604\n",
      "3  -1.944542 -1.418135\n",
      "4  -1.990978 -1.607770\n",
      "5   1.990905 -0.245779\n",
      "6   1.805930 -0.597219\n",
      "7   1.775636 -1.032853\n",
      "8   1.725693 -1.402549\n",
      "9   1.749526 -1.853920\n",
      "10 -0.014273  1.965054\n",
      "11  0.046654  2.138801\n",
      "12  0.088246  2.274463\n",
      "13  0.131156  2.385803\n",
      "14  0.182067  2.526048\n"
     ]
    }
   ],
   "source": [
    "# Drop the 'Formal Model' column as it's an identifier and not part of the features\n",
    "formal_model_values = input_formal_model.drop('Formal Model', axis=1)\n",
    "\n",
    "# Standardize the data\n",
    "scaler = StandardScaler()\n",
    "X_scaled = scaler.fit_transform(formal_model_values)\n",
    "\n",
    "# Apply MDS to reduce the dimensions to 2\n",
    "mds = MDS(n_components=2, normalized_stress='auto')\n",
    "X_mds = mds.fit_transform(X_scaled)\n",
    "\n",
    "# Convert the reduced data back to a pandas DataFrame\n",
    "formal_model_reduced = pd.DataFrame(X_mds, columns=[\"x1\", \"x2\"])\n",
    "\n",
    "print(formal_model_reduced)\n"
   ],
   "metadata": {
    "collapsed": false,
    "ExecuteTime": {
     "end_time": "2023-11-09T15:56:16.529852400Z",
     "start_time": "2023-11-09T15:56:16.464035700Z"
    }
   },
   "id": "f65e9e1eb4935bbd"
  },
  {
   "cell_type": "code",
   "execution_count": 4,
   "outputs": [
    {
     "data": {
      "text/plain": "     f1   f2        f3        f4   f5\n0   2.8 -1.8 -2.800000  1.300000  0.4\n1   2.9 -1.9 -2.900000  1.400000  0.5\n2   3.0 -2.0 -3.000000  1.500000  0.6\n3   3.1 -2.1 -3.100000  1.600000  0.7\n4   3.2 -2.2 -3.200000  1.700000  0.8\n5  -1.6 -2.5  1.500000  0.200000  0.6\n6  -1.3 -2.7  1.300000  0.400000  0.8\n7  -1.0 -3.0  1.500000  0.600000  1.0\n8  -0.7 -3.2  1.700000  0.800000  1.2\n9  -0.5 -3.5  1.900000  1.000000  1.4\n10  1.2 -1.2  0.700000 -0.300000 -2.8\n11  1.1 -1.1  0.800000 -0.400000 -2.9\n12  1.0 -1.0  0.844444 -0.444444 -3.0\n13  0.9 -0.9  0.850000 -0.450000 -3.1\n14  0.8 -0.8  0.900000 -0.500000 -3.2",
      "text/html": "<div>\n<style scoped>\n    .dataframe tbody tr th:only-of-type {\n        vertical-align: middle;\n    }\n\n    .dataframe tbody tr th {\n        vertical-align: top;\n    }\n\n    .dataframe thead th {\n        text-align: right;\n    }\n</style>\n<table border=\"1\" class=\"dataframe\">\n  <thead>\n    <tr style=\"text-align: right;\">\n      <th></th>\n      <th>f1</th>\n      <th>f2</th>\n      <th>f3</th>\n      <th>f4</th>\n      <th>f5</th>\n    </tr>\n  </thead>\n  <tbody>\n    <tr>\n      <th>0</th>\n      <td>2.8</td>\n      <td>-1.8</td>\n      <td>-2.800000</td>\n      <td>1.300000</td>\n      <td>0.4</td>\n    </tr>\n    <tr>\n      <th>1</th>\n      <td>2.9</td>\n      <td>-1.9</td>\n      <td>-2.900000</td>\n      <td>1.400000</td>\n      <td>0.5</td>\n    </tr>\n    <tr>\n      <th>2</th>\n      <td>3.0</td>\n      <td>-2.0</td>\n      <td>-3.000000</td>\n      <td>1.500000</td>\n      <td>0.6</td>\n    </tr>\n    <tr>\n      <th>3</th>\n      <td>3.1</td>\n      <td>-2.1</td>\n      <td>-3.100000</td>\n      <td>1.600000</td>\n      <td>0.7</td>\n    </tr>\n    <tr>\n      <th>4</th>\n      <td>3.2</td>\n      <td>-2.2</td>\n      <td>-3.200000</td>\n      <td>1.700000</td>\n      <td>0.8</td>\n    </tr>\n    <tr>\n      <th>5</th>\n      <td>-1.6</td>\n      <td>-2.5</td>\n      <td>1.500000</td>\n      <td>0.200000</td>\n      <td>0.6</td>\n    </tr>\n    <tr>\n      <th>6</th>\n      <td>-1.3</td>\n      <td>-2.7</td>\n      <td>1.300000</td>\n      <td>0.400000</td>\n      <td>0.8</td>\n    </tr>\n    <tr>\n      <th>7</th>\n      <td>-1.0</td>\n      <td>-3.0</td>\n      <td>1.500000</td>\n      <td>0.600000</td>\n      <td>1.0</td>\n    </tr>\n    <tr>\n      <th>8</th>\n      <td>-0.7</td>\n      <td>-3.2</td>\n      <td>1.700000</td>\n      <td>0.800000</td>\n      <td>1.2</td>\n    </tr>\n    <tr>\n      <th>9</th>\n      <td>-0.5</td>\n      <td>-3.5</td>\n      <td>1.900000</td>\n      <td>1.000000</td>\n      <td>1.4</td>\n    </tr>\n    <tr>\n      <th>10</th>\n      <td>1.2</td>\n      <td>-1.2</td>\n      <td>0.700000</td>\n      <td>-0.300000</td>\n      <td>-2.8</td>\n    </tr>\n    <tr>\n      <th>11</th>\n      <td>1.1</td>\n      <td>-1.1</td>\n      <td>0.800000</td>\n      <td>-0.400000</td>\n      <td>-2.9</td>\n    </tr>\n    <tr>\n      <th>12</th>\n      <td>1.0</td>\n      <td>-1.0</td>\n      <td>0.844444</td>\n      <td>-0.444444</td>\n      <td>-3.0</td>\n    </tr>\n    <tr>\n      <th>13</th>\n      <td>0.9</td>\n      <td>-0.9</td>\n      <td>0.850000</td>\n      <td>-0.450000</td>\n      <td>-3.1</td>\n    </tr>\n    <tr>\n      <th>14</th>\n      <td>0.8</td>\n      <td>-0.8</td>\n      <td>0.900000</td>\n      <td>-0.500000</td>\n      <td>-3.2</td>\n    </tr>\n  </tbody>\n</table>\n</div>"
     },
     "execution_count": 4,
     "metadata": {},
     "output_type": "execute_result"
    }
   ],
   "source": [
    "formal_model_values"
   ],
   "metadata": {
    "collapsed": false,
    "ExecuteTime": {
     "end_time": "2023-11-09T15:56:16.537852200Z",
     "start_time": "2023-11-09T15:56:16.495482900Z"
    }
   },
   "id": "85627397cdbc7de0"
  },
  {
   "cell_type": "markdown",
   "source": [
    "## 3. Visual analytics"
   ],
   "metadata": {
    "collapsed": false
   },
   "id": "e5da81fd32728ac3"
  },
  {
   "cell_type": "code",
   "execution_count": 5,
   "outputs": [
    {
     "data": {
      "text/plain": "<Figure size 1000x600 with 1 Axes>",
      "image/png": "[encoded data removed]"
     },
     "metadata": {},
     "output_type": "display_data"
    }
   ],
   "source": [
    "import matplotlib.pyplot as plt\n",
    "\n",
    "# Scatter plot for the reduced data\n",
    "plt.figure(figsize=(10, 6))\n",
    "plt.scatter(formal_model_reduced['x1'], formal_model_reduced['x2'], s=100, edgecolor='k')\n",
    "for i, txt in enumerate(input_formal_model['Formal Model']):\n",
    "    plt.annotate(txt, (formal_model_reduced['x1'].iloc[i], formal_model_reduced['x2'].iloc[i]), fontsize=9)\n",
    "\n",
    "# Draw the separating line\n",
    "# You might need to adjust these values based on your visualization\n",
    "line_x1 = [-2, -1, 0, 1, 2]  # Example x-values for 5 points\n",
    "line_x2 = [-1, -1, -1, -1, -1]  # Corresponding y-values, adjust to separate the classes\n",
    "plt.plot(line_x1, line_x2, 'ro-')\n",
    "\n",
    "plt.xlabel(\"X 1\")\n",
    "plt.ylabel(\"X 2\")\n",
    "plt.title(\"2D MDS Reduction of formal_model\")\n",
    "plt.grid(True)\n",
    "plt.tight_layout()\n",
    "plt.show()\n"
   ],
   "metadata": {
    "collapsed": false,
    "ExecuteTime": {
     "end_time": "2023-11-09T15:56:17.091863100Z",
     "start_time": "2023-11-09T15:56:16.513405600Z"
    }
   },
   "id": "ccaefc7c5227e591"
  },
  {
   "cell_type": "code",
   "execution_count": 6,
   "outputs": [],
   "source": [
    "def interpolate_coordinates(x_1, x_n, n):\n",
    "    \"\"\"\n",
    "    :param x_1: \n",
    "    :param x_n: \n",
    "    :param n: \n",
    "    :return: \n",
    "    \"\"\"\n",
    "    # Ensure n is greater than 1 to avoid division by zero\n",
    "    if n <= 1:\n",
    "        raise ValueError(\"n must be greater than 1 to calculate intermediate points.\")\n",
    "\n",
    "    # List to hold all the coordinates including the first and the last\n",
    "    inter_coordinates = []\n",
    "\n",
    "    # Calculate each intermediate coordinate\n",
    "    for i in range(0, n):\n",
    "        x_i = x_1 + ((x_n - x_1) * i) / (n - 1)\n",
    "        inter_coordinates.append(x_i)\n",
    "\n",
    "    return inter_coordinates\n"
   ],
   "metadata": {
    "collapsed": false,
    "ExecuteTime": {
     "end_time": "2023-11-09T15:56:17.105864800Z",
     "start_time": "2023-11-09T15:56:17.093862800Z"
    }
   },
   "id": "23d75f19243f7afc"
  },
  {
   "cell_type": "code",
   "execution_count": 7,
   "outputs": [
    {
     "data": {
      "text/plain": "    x1    x2\n0  2.0 -4.00\n1  0.5 -2.75\n2 -1.0 -1.50\n3 -2.5 -0.25\n4 -4.0  1.00",
      "text/html": "<div>\n<style scoped>\n    .dataframe tbody tr th:only-of-type {\n        vertical-align: middle;\n    }\n\n    .dataframe tbody tr th {\n        vertical-align: top;\n    }\n\n    .dataframe thead th {\n        text-align: right;\n    }\n</style>\n<table border=\"1\" class=\"dataframe\">\n  <thead>\n    <tr style=\"text-align: right;\">\n      <th></th>\n      <th>x1</th>\n      <th>x2</th>\n    </tr>\n  </thead>\n  <tbody>\n    <tr>\n      <th>0</th>\n      <td>2.0</td>\n      <td>-4.00</td>\n    </tr>\n    <tr>\n      <th>1</th>\n      <td>0.5</td>\n      <td>-2.75</td>\n    </tr>\n    <tr>\n      <th>2</th>\n      <td>-1.0</td>\n      <td>-1.50</td>\n    </tr>\n    <tr>\n      <th>3</th>\n      <td>-2.5</td>\n      <td>-0.25</td>\n    </tr>\n    <tr>\n      <th>4</th>\n      <td>-4.0</td>\n      <td>1.00</td>\n    </tr>\n  </tbody>\n</table>\n</div>"
     },
     "execution_count": 7,
     "metadata": {},
     "output_type": "execute_result"
    }
   ],
   "source": [
    "x_1_first = 2\n",
    "x_1_last = -4\n",
    "x_2_first = -4\n",
    "x_2_last = 1\n",
    "num_points = 5\n",
    "\n",
    "x_1_inter_coordinates = interpolate_coordinates(x_1_first, x_1_last, num_points)\n",
    "x_2_inter_coordinates = interpolate_coordinates(x_2_first, x_2_last, num_points)\n",
    "# print(x_1_inter_coordinates)\n",
    "# print(x_2_inter_coordinates)\n",
    "\n",
    "# Create a DataFrame from the coordinates\n",
    "coordinates_df = pd.DataFrame({'x1': x_1_inter_coordinates, 'x2': x_2_inter_coordinates})\n",
    "coordinates_df"
   ],
   "metadata": {
    "collapsed": false,
    "ExecuteTime": {
     "end_time": "2023-11-09T15:56:17.194862900Z",
     "start_time": "2023-11-09T15:56:17.112863100Z"
    }
   },
   "id": "b2f1f7ce1ea5164b"
  },
  {
   "cell_type": "markdown",
   "source": [
    "## 4. Calculate Transition Matrix"
   ],
   "metadata": {
    "collapsed": false
   },
   "id": "ebc5f8d71f9e871e"
  },
  {
   "cell_type": "code",
   "execution_count": 8,
   "outputs": [],
   "source": [
    "formal_model_reduced_test = [\n",
    "    (-1.827506713, -2.57210291),\n",
    "    (-1.805637206, -2.789008261),\n",
    "    (-1.812439839, -2.99995456),\n",
    "    (-2.035782748, -2.999989808),\n",
    "    (-2.225907357, -2.999830184),\n",
    "    (2.151465808, 2.349428929),\n",
    "    (2.146415535, 1.848879366),\n",
    "    (2.335563856, 1.572769993),\n",
    "    (2.512780867, 1.350090422),\n",
    "    (2.808853361, 1.168351448),\n",
    "    (-2.397040617, 2.674381769),\n",
    "    (-2.415455455, 2.889854745),\n",
    "    (-2.508854802, 2.999784436),\n",
    "    (-2.621571267, 2.999927152),\n",
    "    (-2.71963759, 2.998711285)\n",
    "]\n",
    "\n",
    "formal_model_reduced_test = pd.DataFrame(formal_model_reduced_test)"
   ],
   "metadata": {
    "collapsed": false,
    "ExecuteTime": {
     "end_time": "2023-11-09T15:56:17.195863900Z",
     "start_time": "2023-11-09T15:56:17.126864500Z"
    }
   },
   "id": "50ca7438f7647610"
  },
  {
   "cell_type": "markdown",
   "source": [
    "### 3.1. Singular Value Decomposition (SVD)"
   ],
   "metadata": {
    "collapsed": false
   },
   "id": "ef465326b3763a84"
  },
  {
   "cell_type": "code",
   "execution_count": 9,
   "outputs": [],
   "source": [
    "# Receive values from the matrix A DataFrame \n",
    "formal_model_reduced_values = formal_model_reduced_test.values\n",
    "\n",
    "# Calculate SVD\n",
    "U, s, Vt = np.linalg.svd(formal_model_reduced_values)\n",
    "\n",
    "# Construct the full diagonal matrix\n",
    "S = np.zeros(formal_model_reduced_values.shape)\n",
    "for i in range(min(formal_model_reduced_values.shape)):\n",
    "    S[i, i] = s[i]\n",
    "\n",
    "# print(\"U:\\n\", U)\n",
    "# print(\"\\nS:\\n\", S)\n",
    "# print(\"\\nVt:\\n\", Vt)\n"
   ],
   "metadata": {
    "collapsed": false,
    "ExecuteTime": {
     "end_time": "2023-11-09T15:56:17.195863900Z",
     "start_time": "2023-11-09T15:56:17.141897800Z"
    }
   },
   "id": "c9b16087dcd6299f"
  },
  {
   "cell_type": "markdown",
   "source": [
    "### 3.2. Create the reconstructed matrix of SVD"
   ],
   "metadata": {
    "collapsed": false
   },
   "id": "20ecf1e1d1743431"
  },
  {
   "cell_type": "code",
   "execution_count": 10,
   "outputs": [],
   "source": [
    "# Recompute the original matrix using U, S, and Vt\n",
    "reconstructed_matrix = U.dot(S.dot(Vt))\n",
    "\n",
    "# Convert the reconstructed matrix to a pandas DataFrame, if desired\n",
    "reconstructed_df = pd.DataFrame(reconstructed_matrix)\n"
   ],
   "metadata": {
    "collapsed": false,
    "ExecuteTime": {
     "end_time": "2023-11-09T15:56:17.195863900Z",
     "start_time": "2023-11-09T15:56:17.156864200Z"
    }
   },
   "id": "300dbbed7537914f"
  },
  {
   "cell_type": "code",
   "execution_count": 11,
   "outputs": [
    {
     "data": {
      "text/plain": "           0         1\n0  -1.827507 -2.572103\n1  -1.805637 -2.789008\n2  -1.812440 -2.999955\n3  -2.035783 -2.999990\n4  -2.225907 -2.999830\n5   2.151466  2.349429\n6   2.146416  1.848879\n7   2.335564  1.572770\n8   2.512781  1.350090\n9   2.808853  1.168351\n10 -2.397041  2.674382\n11 -2.415455  2.889855\n12 -2.508855  2.999784\n13 -2.621571  2.999927\n14 -2.719638  2.998711",
      "text/html": "<div>\n<style scoped>\n    .dataframe tbody tr th:only-of-type {\n        vertical-align: middle;\n    }\n\n    .dataframe tbody tr th {\n        vertical-align: top;\n    }\n\n    .dataframe thead th {\n        text-align: right;\n    }\n</style>\n<table border=\"1\" class=\"dataframe\">\n  <thead>\n    <tr style=\"text-align: right;\">\n      <th></th>\n      <th>0</th>\n      <th>1</th>\n    </tr>\n  </thead>\n  <tbody>\n    <tr>\n      <th>0</th>\n      <td>-1.827507</td>\n      <td>-2.572103</td>\n    </tr>\n    <tr>\n      <th>1</th>\n      <td>-1.805637</td>\n      <td>-2.789008</td>\n    </tr>\n    <tr>\n      <th>2</th>\n      <td>-1.812440</td>\n      <td>-2.999955</td>\n    </tr>\n    <tr>\n      <th>3</th>\n      <td>-2.035783</td>\n      <td>-2.999990</td>\n    </tr>\n    <tr>\n      <th>4</th>\n      <td>-2.225907</td>\n      <td>-2.999830</td>\n    </tr>\n    <tr>\n      <th>5</th>\n      <td>2.151466</td>\n      <td>2.349429</td>\n    </tr>\n    <tr>\n      <th>6</th>\n      <td>2.146416</td>\n      <td>1.848879</td>\n    </tr>\n    <tr>\n      <th>7</th>\n      <td>2.335564</td>\n      <td>1.572770</td>\n    </tr>\n    <tr>\n      <th>8</th>\n      <td>2.512781</td>\n      <td>1.350090</td>\n    </tr>\n    <tr>\n      <th>9</th>\n      <td>2.808853</td>\n      <td>1.168351</td>\n    </tr>\n    <tr>\n      <th>10</th>\n      <td>-2.397041</td>\n      <td>2.674382</td>\n    </tr>\n    <tr>\n      <th>11</th>\n      <td>-2.415455</td>\n      <td>2.889855</td>\n    </tr>\n    <tr>\n      <th>12</th>\n      <td>-2.508855</td>\n      <td>2.999784</td>\n    </tr>\n    <tr>\n      <th>13</th>\n      <td>-2.621571</td>\n      <td>2.999927</td>\n    </tr>\n    <tr>\n      <th>14</th>\n      <td>-2.719638</td>\n      <td>2.998711</td>\n    </tr>\n  </tbody>\n</table>\n</div>"
     },
     "execution_count": 11,
     "metadata": {},
     "output_type": "execute_result"
    }
   ],
   "source": [
    "reconstructed_df"
   ],
   "metadata": {
    "collapsed": false,
    "ExecuteTime": {
     "end_time": "2023-11-09T15:56:17.195863900Z",
     "start_time": "2023-11-09T15:56:17.170894600Z"
    }
   },
   "id": "c855a3fcf677b065"
  },
  {
   "cell_type": "markdown",
   "source": [
    "### 3.3. Calculate the generalized inverse of input matrix"
   ],
   "metadata": {
    "collapsed": false
   },
   "id": "e22636c4bc2289d4"
  },
  {
   "cell_type": "code",
   "execution_count": 12,
   "outputs": [],
   "source": [
    "# Calculate the generalized (Moore-Penrose) inverse\n",
    "formal_model_reduced_test_pinv = np.linalg.pinv(formal_model_reduced_test.values)\n",
    "\n",
    "# Convert to a pandas DataFrame\n",
    "formal_model_reduced_test_pinv_df = pd.DataFrame(formal_model_reduced_test_pinv)"
   ],
   "metadata": {
    "collapsed": false,
    "ExecuteTime": {
     "end_time": "2023-11-09T15:56:17.254863500Z",
     "start_time": "2023-11-09T15:56:17.185863700Z"
    }
   },
   "id": "d82d42f8951a5a24"
  },
  {
   "cell_type": "code",
   "execution_count": 13,
   "outputs": [
    {
     "data": {
      "text/plain": "         0         1         2         3         4         5         6   \\\n0 -0.019716 -0.019149 -0.018953 -0.021783 -0.024192  0.024118  0.024724   \n1 -0.024036 -0.026298 -0.028461 -0.028162 -0.027907  0.021310  0.016164   \n\n         7         8         9         10        11        12        13  \\\n0  0.027489  0.030032  0.034027 -0.033946 -0.034468 -0.035798 -0.037226   \n1  0.013069  0.010539  0.008273  0.030737  0.032980  0.034236  0.034388   \n\n         14  \n0 -0.038467  \n1  0.034507  ",
      "text/html": "<div>\n<style scoped>\n    .dataframe tbody tr th:only-of-type {\n        vertical-align: middle;\n    }\n\n    .dataframe tbody tr th {\n        vertical-align: top;\n    }\n\n    .dataframe thead th {\n        text-align: right;\n    }\n</style>\n<table border=\"1\" class=\"dataframe\">\n  <thead>\n    <tr style=\"text-align: right;\">\n      <th></th>\n      <th>0</th>\n      <th>1</th>\n      <th>2</th>\n      <th>3</th>\n      <th>4</th>\n      <th>5</th>\n      <th>6</th>\n      <th>7</th>\n      <th>8</th>\n      <th>9</th>\n      <th>10</th>\n      <th>11</th>\n      <th>12</th>\n      <th>13</th>\n      <th>14</th>\n    </tr>\n  </thead>\n  <tbody>\n    <tr>\n      <th>0</th>\n      <td>-0.019716</td>\n      <td>-0.019149</td>\n      <td>-0.018953</td>\n      <td>-0.021783</td>\n      <td>-0.024192</td>\n      <td>0.024118</td>\n      <td>0.024724</td>\n      <td>0.027489</td>\n      <td>0.030032</td>\n      <td>0.034027</td>\n      <td>-0.033946</td>\n      <td>-0.034468</td>\n      <td>-0.035798</td>\n      <td>-0.037226</td>\n      <td>-0.038467</td>\n    </tr>\n    <tr>\n      <th>1</th>\n      <td>-0.024036</td>\n      <td>-0.026298</td>\n      <td>-0.028461</td>\n      <td>-0.028162</td>\n      <td>-0.027907</td>\n      <td>0.021310</td>\n      <td>0.016164</td>\n      <td>0.013069</td>\n      <td>0.010539</td>\n      <td>0.008273</td>\n      <td>0.030737</td>\n      <td>0.032980</td>\n      <td>0.034236</td>\n      <td>0.034388</td>\n      <td>0.034507</td>\n    </tr>\n  </tbody>\n</table>\n</div>"
     },
     "execution_count": 13,
     "metadata": {},
     "output_type": "execute_result"
    }
   ],
   "source": [
    "formal_model_reduced_test_pinv_df"
   ],
   "metadata": {
    "collapsed": false,
    "ExecuteTime": {
     "end_time": "2023-11-09T15:56:17.258864800Z",
     "start_time": "2023-11-09T15:56:17.210863300Z"
    }
   },
   "id": "f723de97150d5c16"
  },
  {
   "cell_type": "markdown",
   "source": [
    "### 3.4. Calculate transition matrix T"
   ],
   "metadata": {
    "collapsed": false
   },
   "id": "ae217465b26b7db8"
  },
  {
   "cell_type": "code",
   "execution_count": 14,
   "outputs": [],
   "source": [
    "transition_matrix_T = formal_model_reduced_test_pinv_df.dot(formal_model_values)"
   ],
   "metadata": {
    "collapsed": false,
    "ExecuteTime": {
     "end_time": "2023-11-09T15:56:17.286659600Z",
     "start_time": "2023-11-09T15:56:17.219864300Z"
    }
   },
   "id": "41df41ba6680071d"
  },
  {
   "cell_type": "code",
   "execution_count": 15,
   "outputs": [
    {
     "data": {
      "text/plain": "         f1        f2        f3        f4        f5\n0 -0.627518 -0.037243  0.389966  0.008278  0.622879\n1 -0.319291 -0.094071  0.648864 -0.238340 -0.520302",
      "text/html": "<div>\n<style scoped>\n    .dataframe tbody tr th:only-of-type {\n        vertical-align: middle;\n    }\n\n    .dataframe tbody tr th {\n        vertical-align: top;\n    }\n\n    .dataframe thead th {\n        text-align: right;\n    }\n</style>\n<table border=\"1\" class=\"dataframe\">\n  <thead>\n    <tr style=\"text-align: right;\">\n      <th></th>\n      <th>f1</th>\n      <th>f2</th>\n      <th>f3</th>\n      <th>f4</th>\n      <th>f5</th>\n    </tr>\n  </thead>\n  <tbody>\n    <tr>\n      <th>0</th>\n      <td>-0.627518</td>\n      <td>-0.037243</td>\n      <td>0.389966</td>\n      <td>0.008278</td>\n      <td>0.622879</td>\n    </tr>\n    <tr>\n      <th>1</th>\n      <td>-0.319291</td>\n      <td>-0.094071</td>\n      <td>0.648864</td>\n      <td>-0.238340</td>\n      <td>-0.520302</td>\n    </tr>\n  </tbody>\n</table>\n</div>"
     },
     "execution_count": 15,
     "metadata": {},
     "output_type": "execute_result"
    }
   ],
   "source": [
    "transition_matrix_T"
   ],
   "metadata": {
    "collapsed": false,
    "ExecuteTime": {
     "end_time": "2023-11-09T15:56:17.287660400Z",
     "start_time": "2023-11-09T15:56:17.233863700Z"
    }
   },
   "id": "481f9ce7d7ea80a6"
  },
  {
   "cell_type": "markdown",
   "source": [
    "## 4. Create Hyperplane"
   ],
   "metadata": {
    "collapsed": false
   },
   "id": "63707c7d6fa3b351"
  },
  {
   "cell_type": "code",
   "execution_count": 16,
   "outputs": [],
   "source": [
    "coordinates_hyperplane_df = coordinates_df.values @ transition_matrix_T.values"
   ],
   "metadata": {
    "collapsed": false,
    "ExecuteTime": {
     "end_time": "2023-11-09T15:56:17.289659200Z",
     "start_time": "2023-11-09T15:56:17.249865300Z"
    }
   },
   "id": "af020167e0a630b2"
  },
  {
   "cell_type": "code",
   "execution_count": 17,
   "outputs": [
    {
     "data": {
      "text/plain": "array([[ 0.02212588,  0.30179639, -1.81552575,  0.96991542,  3.32696479],\n       [ 0.56429012,  0.24007288, -1.5893939 ,  0.65957372,  1.7422696 ],\n       [ 1.10645436,  0.17834937, -1.36326204,  0.34923201,  0.1575744 ],\n       [ 1.6486186 ,  0.11662585, -1.13713018,  0.0388903 , -1.42712079],\n       [ 2.19078283,  0.05490234, -0.91099833, -0.27145141, -3.01181599]])"
     },
     "execution_count": 17,
     "metadata": {},
     "output_type": "execute_result"
    }
   ],
   "source": [
    "coordinates_hyperplane_df"
   ],
   "metadata": {
    "collapsed": false,
    "ExecuteTime": {
     "end_time": "2023-11-09T15:56:17.322386800Z",
     "start_time": "2023-11-09T15:56:17.263863300Z"
    }
   },
   "id": "a49ccb2f95c82aa4"
  },
  {
   "cell_type": "code",
   "execution_count": 18,
   "outputs": [
    {
     "name": "stdout",
     "output_type": "stream",
     "text": [
      "Optimization terminated successfully    (Exit mode 0)\n",
      "            Current function value: 2.2148057771485125e-06\n",
      "            Iterations: 9\n",
      "            Function evaluations: 98\n",
      "            Gradient evaluations: 9\n",
      "Optimization was successful. The weights are:\n",
      "      weight\n",
      "w0  0.000123\n",
      "w1 -0.000300\n",
      "w2  0.000059\n",
      "w3 -0.000110\n",
      "w4  0.000214\n",
      "w5 -0.000162\n",
      "\n",
      "Value of the optimization criteria (objective function value): 2.2148057771485125e-06\n",
      "\n",
      "Convergence status: Optimization terminated successfully\n"
     ]
    }
   ],
   "source": [
    "import numpy as np\n",
    "from scipy.optimize import minimize\n",
    "import pandas as pd\n",
    "\n",
    "# Feature vector X\n",
    "X = np.array([\n",
    "    [1, 0.022126, 0.301796, -1.815526, 0.969915, 3.326965],\n",
    "    [1, 0.564290, 0.240073, -1.589394, 0.659574, 1.742270],\n",
    "    [1, 1.106454, 0.178349, -1.363262, 0.349232, 0.157574],\n",
    "    [1, 1.648619, 0.116626, -1.137130, 0.038890, -1.427121],\n",
    "    [1, 2.190783, 0.054902, -0.910998, -0.271451, -3.011816]\n",
    "])\n",
    "\n",
    "# Optimization criteria function\n",
    "def optimization_criteria(W, X):\n",
    "    return np.sum(np.abs(X.dot(W.T)))\n",
    "\n",
    "# Initial guess (starting point for the optimization algorithm)\n",
    "W_initial = np.zeros(X.shape[1])\n",
    "\n",
    "# Bounds for W (setting it between -1 and 1)\n",
    "bounds = [(-1, 1) for _ in range(X.shape[1])]\n",
    "\n",
    "# The actual optimization\n",
    "res = minimize(\n",
    "    optimization_criteria,\n",
    "    W_initial,\n",
    "    args=(X,),\n",
    "    method='SLSQP',\n",
    "    bounds=bounds,\n",
    "    options={'disp': True}\n",
    ")\n",
    "\n",
    "# Checking if the optimization was successful\n",
    "if res.success:\n",
    "    # Extract the weights into a DataFrame\n",
    "    weights_df = pd.DataFrame(res.x, index=[f'w{i}' for i in range(len(res.x))], columns=['weight'])\n",
    "\n",
    "    print(\"Optimization was successful. The weights are:\")\n",
    "    print(weights_df)\n",
    "\n",
    "    # Output the value of the optimization criteria\n",
    "    print(\"\\nValue of the optimization criteria (objective function value):\", res.fun)\n",
    "else:\n",
    "    print(\"Optimization failed.\")\n",
    "\n",
    "# Checking for convergence\n",
    "print(\"\\nConvergence status:\", res.message)\n"
   ],
   "metadata": {
    "collapsed": false,
    "ExecuteTime": {
     "end_time": "2023-11-09T15:56:17.366650100Z",
     "start_time": "2023-11-09T15:56:17.284659700Z"
    }
   },
   "id": "f5c5eee4c62ff7f6"
  },
  {
   "cell_type": "code",
   "execution_count": 19,
   "outputs": [
    {
     "data": {
      "text/plain": "      weight\nw0  0.000123\nw1 -0.000300\nw2  0.000059\nw3 -0.000110\nw4  0.000214\nw5 -0.000162",
      "text/html": "<div>\n<style scoped>\n    .dataframe tbody tr th:only-of-type {\n        vertical-align: middle;\n    }\n\n    .dataframe tbody tr th {\n        vertical-align: top;\n    }\n\n    .dataframe thead th {\n        text-align: right;\n    }\n</style>\n<table border=\"1\" class=\"dataframe\">\n  <thead>\n    <tr style=\"text-align: right;\">\n      <th></th>\n      <th>weight</th>\n    </tr>\n  </thead>\n  <tbody>\n    <tr>\n      <th>w0</th>\n      <td>0.000123</td>\n    </tr>\n    <tr>\n      <th>w1</th>\n      <td>-0.000300</td>\n    </tr>\n    <tr>\n      <th>w2</th>\n      <td>0.000059</td>\n    </tr>\n    <tr>\n      <th>w3</th>\n      <td>-0.000110</td>\n    </tr>\n    <tr>\n      <th>w4</th>\n      <td>0.000214</td>\n    </tr>\n    <tr>\n      <th>w5</th>\n      <td>-0.000162</td>\n    </tr>\n  </tbody>\n</table>\n</div>"
     },
     "execution_count": 19,
     "metadata": {},
     "output_type": "execute_result"
    }
   ],
   "source": [
    "weights_df"
   ],
   "metadata": {
    "collapsed": false,
    "ExecuteTime": {
     "end_time": "2023-11-09T15:56:17.387651300Z",
     "start_time": "2023-11-09T15:56:17.294659500Z"
    }
   },
   "id": "229473793e1f5f6d"
  },
  {
   "cell_type": "code",
   "execution_count": 20,
   "outputs": [
    {
     "data": {
      "text/plain": "     weight\n0 -0.000300\n1  0.000059\n2 -0.000110\n3  0.000214\n4 -0.000162\n5  0.000123",
      "text/html": "<div>\n<style scoped>\n    .dataframe tbody tr th:only-of-type {\n        vertical-align: middle;\n    }\n\n    .dataframe tbody tr th {\n        vertical-align: top;\n    }\n\n    .dataframe thead th {\n        text-align: right;\n    }\n</style>\n<table border=\"1\" class=\"dataframe\">\n  <thead>\n    <tr style=\"text-align: right;\">\n      <th></th>\n      <th>weight</th>\n    </tr>\n  </thead>\n  <tbody>\n    <tr>\n      <th>0</th>\n      <td>-0.000300</td>\n    </tr>\n    <tr>\n      <th>1</th>\n      <td>0.000059</td>\n    </tr>\n    <tr>\n      <th>2</th>\n      <td>-0.000110</td>\n    </tr>\n    <tr>\n      <th>3</th>\n      <td>0.000214</td>\n    </tr>\n    <tr>\n      <th>4</th>\n      <td>-0.000162</td>\n    </tr>\n    <tr>\n      <th>5</th>\n      <td>0.000123</td>\n    </tr>\n  </tbody>\n</table>\n</div>"
     },
     "execution_count": 20,
     "metadata": {},
     "output_type": "execute_result"
    }
   ],
   "source": [
    "# Assuming the row with 'w0' is the first row as per your example\n",
    "# we want to move this row to the end of the DataFrame\n",
    "weights_df_reordered = pd.concat([weights_df.iloc[1:], weights_df.iloc[0:1]]).reset_index(drop=True)\n",
    "\n",
    "# Show the modified DataFrame\n",
    "weights_df_reordered\n"
   ],
   "metadata": {
    "collapsed": false,
    "ExecuteTime": {
     "end_time": "2023-11-09T15:56:17.432265500Z",
     "start_time": "2023-11-09T15:56:17.310943300Z"
    }
   },
   "id": "fd4510816a331570"
  },
  {
   "cell_type": "code",
   "execution_count": 21,
   "outputs": [
    {
     "name": "stdout",
     "output_type": "stream",
     "text": [
      "    prediction\n",
      "0    -0.000302\n",
      "1    -0.000321\n",
      "2    -0.000341\n",
      "3    -0.000361\n",
      "4    -0.000381\n",
      "5     0.000236\n",
      "6     0.000167\n",
      "7     0.000047\n",
      "8    -0.000066\n",
      "9    -0.000155\n",
      "10    0.000005\n",
      "11    0.000024\n",
      "12    0.000062\n",
      "13    0.000112\n",
      "14    0.000148\n"
     ]
    }
   ],
   "source": [
    "# DataFrames as provided\n",
    "weights_df = pd.DataFrame({\n",
    "    'weights': [-0.000300, 0.000059, -0.000110, 0.000214, -0.000162, 0.000123]\n",
    "})\n",
    "\n",
    "features_df = pd.DataFrame({\n",
    "    'x1': [2.8, 2.9, 3.0, 3.1, 3.2, -1.6, -1.3, -1.0, -0.7, -0.5, 1.2, 1.1, 1.0, 0.9, 0.8],\n",
    "    'x2': [-1.8, -1.9, -2.0, -2.1, -2.2, -2.5, -2.7, -3.0, -3.2, -3.5, -1.2, -1.1, -1.0, -0.9, -0.8],\n",
    "    'x3': [-2.8, -2.9, -3.0, -3.1, -3.2, 1.5, 1.3, 1.5, 1.7, 1.9, 0.7, 0.8, 0.844444, 0.85, 0.9],\n",
    "    'x4': [1.3, 1.4, 1.5, 1.6, 1.7, 0.2, 0.4, 0.6, 0.8, 1.0, -0.3, -0.4, -0.444444, -0.45, -0.5],\n",
    "    'x5': [0.4, 0.5, 0.6, 0.7, 0.8, 0.6, 0.8, 1.0, 1.2, 1.4, -2.8, -2.9, -3.0, -3.1, -3.2],\n",
    "    'x0': [1, 1, 1, 1, 1, 1, 1, 1, 1, 1, 1, 1, 1, 1, 1],  # Assuming a bias term with all ones\n",
    "})\n",
    "\n",
    "# Multiply the features by the weights\n",
    "result = features_df.mul(weights_df['weights'].values, axis=1)\n",
    "\n",
    "# Sum along the rows to get the final single column for predictions\n",
    "predictions = result.sum(axis=1)\n",
    "\n",
    "# Convert the series to a data frame\n",
    "predictions_df = predictions.to_frame(name='prediction')\n",
    "\n",
    "# Display the result\n",
    "print(predictions_df)\n"
   ],
   "metadata": {
    "collapsed": false,
    "ExecuteTime": {
     "end_time": "2023-11-09T15:56:17.459217700Z",
     "start_time": "2023-11-09T15:56:17.332386900Z"
    }
   },
   "id": "a34502dbb4f45b1c"
  },
  {
   "cell_type": "code",
   "execution_count": 29,
   "outputs": [
    {
     "data": {
      "text/plain": "    weights\n0 -0.000300\n1  0.000059\n2 -0.000110\n3  0.000214\n4 -0.000162\n5  0.000123",
      "text/html": "<div>\n<style scoped>\n    .dataframe tbody tr th:only-of-type {\n        vertical-align: middle;\n    }\n\n    .dataframe tbody tr th {\n        vertical-align: top;\n    }\n\n    .dataframe thead th {\n        text-align: right;\n    }\n</style>\n<table border=\"1\" class=\"dataframe\">\n  <thead>\n    <tr style=\"text-align: right;\">\n      <th></th>\n      <th>weights</th>\n    </tr>\n  </thead>\n  <tbody>\n    <tr>\n      <th>0</th>\n      <td>-0.000300</td>\n    </tr>\n    <tr>\n      <th>1</th>\n      <td>0.000059</td>\n    </tr>\n    <tr>\n      <th>2</th>\n      <td>-0.000110</td>\n    </tr>\n    <tr>\n      <th>3</th>\n      <td>0.000214</td>\n    </tr>\n    <tr>\n      <th>4</th>\n      <td>-0.000162</td>\n    </tr>\n    <tr>\n      <th>5</th>\n      <td>0.000123</td>\n    </tr>\n  </tbody>\n</table>\n</div>"
     },
     "execution_count": 29,
     "metadata": {},
     "output_type": "execute_result"
    }
   ],
   "source": [
    "weights_df"
   ],
   "metadata": {
    "collapsed": false,
    "ExecuteTime": {
     "end_time": "2023-11-09T15:57:34.019751100Z",
     "start_time": "2023-11-09T15:57:33.977500800Z"
    }
   },
   "id": "f600d673d9a657b3"
  },
  {
   "cell_type": "code",
   "execution_count": 23,
   "outputs": [
    {
     "data": {
      "text/plain": "     weight\n0 -0.000300\n1  0.000059\n2 -0.000110\n3  0.000214\n4 -0.000162\n5  0.000123",
      "text/html": "<div>\n<style scoped>\n    .dataframe tbody tr th:only-of-type {\n        vertical-align: middle;\n    }\n\n    .dataframe tbody tr th {\n        vertical-align: top;\n    }\n\n    .dataframe thead th {\n        text-align: right;\n    }\n</style>\n<table border=\"1\" class=\"dataframe\">\n  <thead>\n    <tr style=\"text-align: right;\">\n      <th></th>\n      <th>weight</th>\n    </tr>\n  </thead>\n  <tbody>\n    <tr>\n      <th>0</th>\n      <td>-0.000300</td>\n    </tr>\n    <tr>\n      <th>1</th>\n      <td>0.000059</td>\n    </tr>\n    <tr>\n      <th>2</th>\n      <td>-0.000110</td>\n    </tr>\n    <tr>\n      <th>3</th>\n      <td>0.000214</td>\n    </tr>\n    <tr>\n      <th>4</th>\n      <td>-0.000162</td>\n    </tr>\n    <tr>\n      <th>5</th>\n      <td>0.000123</td>\n    </tr>\n  </tbody>\n</table>\n</div>"
     },
     "execution_count": 23,
     "metadata": {},
     "output_type": "execute_result"
    }
   ],
   "source": [
    "weights_df_reordered"
   ],
   "metadata": {
    "collapsed": false,
    "ExecuteTime": {
     "end_time": "2023-11-09T15:56:17.462247500Z",
     "start_time": "2023-11-09T15:56:17.355651Z"
    }
   },
   "id": "3ea12d01fb9e69fa"
  },
  {
   "cell_type": "code",
   "execution_count": 24,
   "outputs": [
    {
     "data": {
      "text/plain": "     f1   f2        f3        f4   f5  f0\n0   2.8 -1.8 -2.800000  1.300000  0.4   1\n1   2.9 -1.9 -2.900000  1.400000  0.5   1\n2   3.0 -2.0 -3.000000  1.500000  0.6   1\n3   3.1 -2.1 -3.100000  1.600000  0.7   1\n4   3.2 -2.2 -3.200000  1.700000  0.8   1\n5  -1.6 -2.5  1.500000  0.200000  0.6   1\n6  -1.3 -2.7  1.300000  0.400000  0.8   1\n7  -1.0 -3.0  1.500000  0.600000  1.0   1\n8  -0.7 -3.2  1.700000  0.800000  1.2   1\n9  -0.5 -3.5  1.900000  1.000000  1.4   1\n10  1.2 -1.2  0.700000 -0.300000 -2.8   1\n11  1.1 -1.1  0.800000 -0.400000 -2.9   1\n12  1.0 -1.0  0.844444 -0.444444 -3.0   1\n13  0.9 -0.9  0.850000 -0.450000 -3.1   1\n14  0.8 -0.8  0.900000 -0.500000 -3.2   1",
      "text/html": "<div>\n<style scoped>\n    .dataframe tbody tr th:only-of-type {\n        vertical-align: middle;\n    }\n\n    .dataframe tbody tr th {\n        vertical-align: top;\n    }\n\n    .dataframe thead th {\n        text-align: right;\n    }\n</style>\n<table border=\"1\" class=\"dataframe\">\n  <thead>\n    <tr style=\"text-align: right;\">\n      <th></th>\n      <th>f1</th>\n      <th>f2</th>\n      <th>f3</th>\n      <th>f4</th>\n      <th>f5</th>\n      <th>f0</th>\n    </tr>\n  </thead>\n  <tbody>\n    <tr>\n      <th>0</th>\n      <td>2.8</td>\n      <td>-1.8</td>\n      <td>-2.800000</td>\n      <td>1.300000</td>\n      <td>0.4</td>\n      <td>1</td>\n    </tr>\n    <tr>\n      <th>1</th>\n      <td>2.9</td>\n      <td>-1.9</td>\n      <td>-2.900000</td>\n      <td>1.400000</td>\n      <td>0.5</td>\n      <td>1</td>\n    </tr>\n    <tr>\n      <th>2</th>\n      <td>3.0</td>\n      <td>-2.0</td>\n      <td>-3.000000</td>\n      <td>1.500000</td>\n      <td>0.6</td>\n      <td>1</td>\n    </tr>\n    <tr>\n      <th>3</th>\n      <td>3.1</td>\n      <td>-2.1</td>\n      <td>-3.100000</td>\n      <td>1.600000</td>\n      <td>0.7</td>\n      <td>1</td>\n    </tr>\n    <tr>\n      <th>4</th>\n      <td>3.2</td>\n      <td>-2.2</td>\n      <td>-3.200000</td>\n      <td>1.700000</td>\n      <td>0.8</td>\n      <td>1</td>\n    </tr>\n    <tr>\n      <th>5</th>\n      <td>-1.6</td>\n      <td>-2.5</td>\n      <td>1.500000</td>\n      <td>0.200000</td>\n      <td>0.6</td>\n      <td>1</td>\n    </tr>\n    <tr>\n      <th>6</th>\n      <td>-1.3</td>\n      <td>-2.7</td>\n      <td>1.300000</td>\n      <td>0.400000</td>\n      <td>0.8</td>\n      <td>1</td>\n    </tr>\n    <tr>\n      <th>7</th>\n      <td>-1.0</td>\n      <td>-3.0</td>\n      <td>1.500000</td>\n      <td>0.600000</td>\n      <td>1.0</td>\n      <td>1</td>\n    </tr>\n    <tr>\n      <th>8</th>\n      <td>-0.7</td>\n      <td>-3.2</td>\n      <td>1.700000</td>\n      <td>0.800000</td>\n      <td>1.2</td>\n      <td>1</td>\n    </tr>\n    <tr>\n      <th>9</th>\n      <td>-0.5</td>\n      <td>-3.5</td>\n      <td>1.900000</td>\n      <td>1.000000</td>\n      <td>1.4</td>\n      <td>1</td>\n    </tr>\n    <tr>\n      <th>10</th>\n      <td>1.2</td>\n      <td>-1.2</td>\n      <td>0.700000</td>\n      <td>-0.300000</td>\n      <td>-2.8</td>\n      <td>1</td>\n    </tr>\n    <tr>\n      <th>11</th>\n      <td>1.1</td>\n      <td>-1.1</td>\n      <td>0.800000</td>\n      <td>-0.400000</td>\n      <td>-2.9</td>\n      <td>1</td>\n    </tr>\n    <tr>\n      <th>12</th>\n      <td>1.0</td>\n      <td>-1.0</td>\n      <td>0.844444</td>\n      <td>-0.444444</td>\n      <td>-3.0</td>\n      <td>1</td>\n    </tr>\n    <tr>\n      <th>13</th>\n      <td>0.9</td>\n      <td>-0.9</td>\n      <td>0.850000</td>\n      <td>-0.450000</td>\n      <td>-3.1</td>\n      <td>1</td>\n    </tr>\n    <tr>\n      <th>14</th>\n      <td>0.8</td>\n      <td>-0.8</td>\n      <td>0.900000</td>\n      <td>-0.500000</td>\n      <td>-3.2</td>\n      <td>1</td>\n    </tr>\n  </tbody>\n</table>\n</div>"
     },
     "execution_count": 24,
     "metadata": {},
     "output_type": "execute_result"
    }
   ],
   "source": [
    "# Create a new DataFrame with an additional column\n",
    "new_formal_model_values = formal_model_values.copy()\n",
    "new_formal_model_values['f0'] = 1\n",
    "new_formal_model_values\n"
   ],
   "metadata": {
    "collapsed": false,
    "ExecuteTime": {
     "end_time": "2023-11-09T15:56:17.463247700Z",
     "start_time": "2023-11-09T15:56:17.372650600Z"
    }
   },
   "id": "6c4bb7858af12496"
  },
  {
   "cell_type": "code",
   "execution_count": 32,
   "outputs": [],
   "source": [
    "# # Multiply the features by the weights\n",
    "my_result = new_formal_model_values.mul(weights_df_reordered['weight'].values, axis=1)\n",
    "\n",
    "# Sum along the rows to get the final single column for predictions\n",
    "my_predictions = my_result.sum(axis=1)\n",
    "\n",
    "# Convert the series to a data frame\n",
    "my_predictions_df = my_predictions.to_frame(name='prediction')"
   ],
   "metadata": {
    "collapsed": false,
    "ExecuteTime": {
     "end_time": "2023-11-09T15:59:36.029949900Z",
     "start_time": "2023-11-09T15:59:36.007193600Z"
    }
   },
   "id": "c2f759c7f2967205"
  },
  {
   "cell_type": "code",
   "execution_count": 33,
   "outputs": [
    {
     "data": {
      "text/plain": "    prediction\n0    -0.000303\n1    -0.000323\n2    -0.000343\n3    -0.000363\n4    -0.000382\n5     0.000235\n6     0.000166\n7     0.000046\n8    -0.000067\n9    -0.000156\n10    0.000007\n11    0.000026\n12    0.000064\n13    0.000114\n14    0.000150",
      "text/html": "<div>\n<style scoped>\n    .dataframe tbody tr th:only-of-type {\n        vertical-align: middle;\n    }\n\n    .dataframe tbody tr th {\n        vertical-align: top;\n    }\n\n    .dataframe thead th {\n        text-align: right;\n    }\n</style>\n<table border=\"1\" class=\"dataframe\">\n  <thead>\n    <tr style=\"text-align: right;\">\n      <th></th>\n      <th>prediction</th>\n    </tr>\n  </thead>\n  <tbody>\n    <tr>\n      <th>0</th>\n      <td>-0.000303</td>\n    </tr>\n    <tr>\n      <th>1</th>\n      <td>-0.000323</td>\n    </tr>\n    <tr>\n      <th>2</th>\n      <td>-0.000343</td>\n    </tr>\n    <tr>\n      <th>3</th>\n      <td>-0.000363</td>\n    </tr>\n    <tr>\n      <th>4</th>\n      <td>-0.000382</td>\n    </tr>\n    <tr>\n      <th>5</th>\n      <td>0.000235</td>\n    </tr>\n    <tr>\n      <th>6</th>\n      <td>0.000166</td>\n    </tr>\n    <tr>\n      <th>7</th>\n      <td>0.000046</td>\n    </tr>\n    <tr>\n      <th>8</th>\n      <td>-0.000067</td>\n    </tr>\n    <tr>\n      <th>9</th>\n      <td>-0.000156</td>\n    </tr>\n    <tr>\n      <th>10</th>\n      <td>0.000007</td>\n    </tr>\n    <tr>\n      <th>11</th>\n      <td>0.000026</td>\n    </tr>\n    <tr>\n      <th>12</th>\n      <td>0.000064</td>\n    </tr>\n    <tr>\n      <th>13</th>\n      <td>0.000114</td>\n    </tr>\n    <tr>\n      <th>14</th>\n      <td>0.000150</td>\n    </tr>\n  </tbody>\n</table>\n</div>"
     },
     "execution_count": 33,
     "metadata": {},
     "output_type": "execute_result"
    }
   ],
   "source": [
    "# Display the result\n",
    "my_predictions_df"
   ],
   "metadata": {
    "collapsed": false,
    "ExecuteTime": {
     "end_time": "2023-11-09T15:59:37.299694700Z",
     "start_time": "2023-11-09T15:59:37.286579Z"
    }
   },
   "id": "2b1a3605ce3e312b"
  },
  {
   "cell_type": "code",
   "execution_count": 26,
   "outputs": [],
   "source": [],
   "metadata": {
    "collapsed": false,
    "ExecuteTime": {
     "end_time": "2023-11-09T15:56:17.597005500Z",
     "start_time": "2023-11-09T15:56:17.419265Z"
    }
   },
   "id": "dec80022fffdb803"
  }
 ],
 "metadata": {
  "kernelspec": {
   "display_name": "Python 3",
   "language": "python",
   "name": "python3"
  },
  "language_info": {
   "codemirror_mode": {
    "name": "ipython",
    "version": 2
   },
   "file_extension": ".py",
   "mimetype": "text/x-python",
   "name": "python",
   "nbconvert_exporter": "python",
   "pygments_lexer": "ipython2",
   "version": "2.7.6"
  }
 },
 "nbformat": 4,
 "nbformat_minor": 5
}
