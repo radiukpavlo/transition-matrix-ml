{
 "cells": [
  {
   "cell_type": "markdown",
   "id": "9429755869ff6538",
   "metadata": {},
   "source": [
    "## 1. Data Upload"
   ]
  },
  {
   "cell_type": "code",
   "execution_count": 1,
   "id": "7fde58ff0426c5dd",
   "metadata": {
    "collapsed": false,
    "ExecuteTime": {
     "end_time": "2023-12-07T17:38:43.781242Z",
     "start_time": "2023-12-07T17:38:42.251281Z"
    }
   },
   "outputs": [],
   "source": [
    "import pandas as pd\n",
    "import numpy as np\n",
    "from io import StringIO\n",
    "from sklearn.manifold import MDS, TSNE\n",
    "from sklearn.preprocessing import StandardScaler\n",
    "from sklearn import datasets\n",
    "from scipy.optimize import minimize"
   ]
  },
  {
   "cell_type": "code",
   "execution_count": 2,
   "outputs": [],
   "source": [
    "# Load the Iris dataset\n",
    "iris = datasets.load_iris()\n",
    "iris_features = iris.data\n",
    "iris_labels = iris.target\n",
    "iris_target_names = iris.target_names"
   ],
   "metadata": {
    "collapsed": false,
    "ExecuteTime": {
     "end_time": "2023-12-07T17:38:43.798243800Z",
     "start_time": "2023-12-07T17:38:43.780242100Z"
    }
   },
   "id": "667114b9e58936a8"
  },
  {
   "cell_type": "markdown",
   "id": "e695dfea778f3996",
   "metadata": {},
   "source": [
    "## 2. Multi-dimensional scaling"
   ]
  },
  {
   "cell_type": "code",
   "execution_count": 3,
   "id": "f65e9e1eb4935bbd",
   "metadata": {
    "collapsed": false,
    "ExecuteTime": {
     "end_time": "2023-12-07T17:38:43.951244400Z",
     "start_time": "2023-12-07T17:38:43.798243800Z"
    }
   },
   "outputs": [],
   "source": [
    "# Standardize the data\n",
    "scaler = StandardScaler()\n",
    "X_scaled = scaler.fit_transform(iris_features)\n",
    "\n",
    "# Apply MDS to reduce the dimensions to 2\n",
    "mds = MDS(n_components=2, normalized_stress='auto')\n",
    "X_mds = mds.fit_transform(X_scaled)\n",
    "\n",
    "# Apply t-SNE to reduce the dimensions to 2\n",
    "# tsne = TSNE(n_components=2, random_state=42, n_iter=500)\n",
    "# X_tsne = tsne.fit_transform(X_scaled)\n",
    "\n",
    "# Convert the reduced data back to a pandas DataFrame\n",
    "iris_reduced = pd.DataFrame(X_mds, columns=[\"x1\", \"x2\"])\n",
    "iris_reduced['labels'] = iris_labels\n"
   ]
  },
  {
   "cell_type": "code",
   "execution_count": 4,
   "id": "4c53631ef3401b86",
   "metadata": {
    "collapsed": false,
    "ExecuteTime": {
     "end_time": "2023-12-07T17:38:44.018243500Z",
     "start_time": "2023-12-07T17:38:43.958243500Z"
    }
   },
   "outputs": [
    {
     "data": {
      "text/plain": "           x1        x2  labels\n0    0.897639 -2.149489       0\n1    1.760325 -1.323444       0\n2    1.637525 -1.758911       0\n3    1.818587 -1.560065       0\n4    0.838071 -2.348142       0\n..        ...       ...     ...\n145 -1.437303  1.318175       2\n146 -0.131065  1.832584       2\n147 -1.102036  1.101844       2\n148 -1.874119  0.328070       2\n149 -0.535815  0.805699       2\n\n[150 rows x 3 columns]",
      "text/html": "<div>\n<style scoped>\n    .dataframe tbody tr th:only-of-type {\n        vertical-align: middle;\n    }\n\n    .dataframe tbody tr th {\n        vertical-align: top;\n    }\n\n    .dataframe thead th {\n        text-align: right;\n    }\n</style>\n<table border=\"1\" class=\"dataframe\">\n  <thead>\n    <tr style=\"text-align: right;\">\n      <th></th>\n      <th>x1</th>\n      <th>x2</th>\n      <th>labels</th>\n    </tr>\n  </thead>\n  <tbody>\n    <tr>\n      <th>0</th>\n      <td>0.897639</td>\n      <td>-2.149489</td>\n      <td>0</td>\n    </tr>\n    <tr>\n      <th>1</th>\n      <td>1.760325</td>\n      <td>-1.323444</td>\n      <td>0</td>\n    </tr>\n    <tr>\n      <th>2</th>\n      <td>1.637525</td>\n      <td>-1.758911</td>\n      <td>0</td>\n    </tr>\n    <tr>\n      <th>3</th>\n      <td>1.818587</td>\n      <td>-1.560065</td>\n      <td>0</td>\n    </tr>\n    <tr>\n      <th>4</th>\n      <td>0.838071</td>\n      <td>-2.348142</td>\n      <td>0</td>\n    </tr>\n    <tr>\n      <th>...</th>\n      <td>...</td>\n      <td>...</td>\n      <td>...</td>\n    </tr>\n    <tr>\n      <th>145</th>\n      <td>-1.437303</td>\n      <td>1.318175</td>\n      <td>2</td>\n    </tr>\n    <tr>\n      <th>146</th>\n      <td>-0.131065</td>\n      <td>1.832584</td>\n      <td>2</td>\n    </tr>\n    <tr>\n      <th>147</th>\n      <td>-1.102036</td>\n      <td>1.101844</td>\n      <td>2</td>\n    </tr>\n    <tr>\n      <th>148</th>\n      <td>-1.874119</td>\n      <td>0.328070</td>\n      <td>2</td>\n    </tr>\n    <tr>\n      <th>149</th>\n      <td>-0.535815</td>\n      <td>0.805699</td>\n      <td>2</td>\n    </tr>\n  </tbody>\n</table>\n<p>150 rows × 3 columns</p>\n</div>"
     },
     "execution_count": 4,
     "metadata": {},
     "output_type": "execute_result"
    }
   ],
   "source": [
    "iris_reduced"
   ]
  },
  {
   "cell_type": "markdown",
   "id": "e5da81fd32728ac3",
   "metadata": {},
   "source": [
    "## 3. Visual analytics"
   ]
  },
  {
   "cell_type": "code",
   "execution_count": 5,
   "id": "41b41a730c5cf71b",
   "metadata": {
    "collapsed": false,
    "ExecuteTime": {
     "end_time": "2023-12-07T17:38:44.045242800Z",
     "start_time": "2023-12-07T17:38:43.988242700Z"
    }
   },
   "outputs": [],
   "source": [
    "def interpolate_coordinates(x_1, x_n, n):\n",
    "    \"\"\"\n",
    "    This function calculates the values of the interpolate_coordinates\n",
    "    of a line based on its first and last coordinates.\n",
    "    :param x_1:\n",
    "    :param x_n:\n",
    "    :param n:\n",
    "    :return:\n",
    "    \"\"\"\n",
    "    # Ensure n is greater than 1 to avoid division by zero\n",
    "    if n <= 1:\n",
    "        raise ValueError(\"n must be greater than 1 to calculate intermediate points.\")\n",
    "\n",
    "    # List to hold all the coordinates including the first and the last\n",
    "    inter_coordinates = []\n",
    "\n",
    "    # Calculate each intermediate coordinate\n",
    "    for i in range(0, n):\n",
    "        x_i = x_1 + ((x_n - x_1) * i) / (n - 1)\n",
    "        inter_coordinates.append(x_i)\n",
    "\n",
    "    return inter_coordinates\n"
   ]
  },
  {
   "cell_type": "code",
   "execution_count": 6,
   "id": "966d400b47e30a90",
   "metadata": {
    "collapsed": false,
    "ExecuteTime": {
     "end_time": "2023-12-07T17:38:44.093245500Z",
     "start_time": "2023-12-07T17:38:44.002244900Z"
    }
   },
   "outputs": [
    {
     "data": {
      "text/plain": "         x1        x2\n0  5.000000  0.000000\n1  2.333333 -0.333333\n2 -0.333333 -0.666667\n3 -3.000000 -1.000000",
      "text/html": "<div>\n<style scoped>\n    .dataframe tbody tr th:only-of-type {\n        vertical-align: middle;\n    }\n\n    .dataframe tbody tr th {\n        vertical-align: top;\n    }\n\n    .dataframe thead th {\n        text-align: right;\n    }\n</style>\n<table border=\"1\" class=\"dataframe\">\n  <thead>\n    <tr style=\"text-align: right;\">\n      <th></th>\n      <th>x1</th>\n      <th>x2</th>\n    </tr>\n  </thead>\n  <tbody>\n    <tr>\n      <th>0</th>\n      <td>5.000000</td>\n      <td>0.000000</td>\n    </tr>\n    <tr>\n      <th>1</th>\n      <td>2.333333</td>\n      <td>-0.333333</td>\n    </tr>\n    <tr>\n      <th>2</th>\n      <td>-0.333333</td>\n      <td>-0.666667</td>\n    </tr>\n    <tr>\n      <th>3</th>\n      <td>-3.000000</td>\n      <td>-1.000000</td>\n    </tr>\n  </tbody>\n</table>\n</div>"
     },
     "execution_count": 6,
     "metadata": {},
     "output_type": "execute_result"
    }
   ],
   "source": [
    "x_1_first = 5\n",
    "x_2_first = 0\n",
    "\n",
    "x_1_last = -3\n",
    "x_2_last = -1\n",
    "\n",
    "# The number of intermediate points\n",
    "num_inter_points = iris_features.shape[1]\n",
    "\n",
    "x_1_inter_coordinates = interpolate_coordinates(x_1_first, x_1_last, num_inter_points)\n",
    "x_2_inter_coordinates = interpolate_coordinates(x_2_first, x_2_last, num_inter_points)\n",
    "# print(x_1_inter_coordinates)\n",
    "# print(x_2_inter_coordinates)\n",
    "\n",
    "# Create a DataFrame from the coordinates\n",
    "coordinates_df = pd.DataFrame({'x1': x_1_inter_coordinates, 'x2': x_2_inter_coordinates})\n",
    "coordinates_df\n"
   ]
  },
  {
   "cell_type": "code",
   "execution_count": 7,
   "outputs": [
    {
     "data": {
      "text/plain": "<Figure size 1000x800 with 1 Axes>",
      "image/svg+xml": "<?xml version=\"1.0\" encoding=\"utf-8\" standalone=\"no\"?>\n<!DOCTYPE svg PUBLIC \"-//W3C//DTD SVG 1.1//EN\"\n  \"http://www.w3.org/Graphics/SVG/1.1/DTD/svg11.dtd\">\n<svg xmlns:xlink=\"http://www.w3.org/1999/xlink\" width=\"609.755938pt\" height=\"507.153625pt\" viewBox=\"0 0 609.755938 507.153625\" xmlns=\"http://www.w3.org/2000/svg\" version=\"1.1\">\n <metadata>\n  <rdf:RDF xmlns:dc=\"http://purl.org/dc/elements/1.1/\" xmlns:cc=\"http://creativecommons.org/ns#\" xmlns:rdf=\"http://www.w3.org/1999/02/22-rdf-syntax-ns#\">\n   <cc:Work>\n    <dc:type rdf:resource=\"http://purl.org/dc/dcmitype/StillImage\"/>\n    <dc:date>2023-12-07T19:38:45.065682</dc:date>\n    <dc:format>image/svg+xml</dc:format>\n    <dc:creator>\n     <cc:Agent>\n      <dc:title>Matplotlib v3.6.2, https://matplotlib.org/</dc:title>\n     </cc:Agent>\n    </dc:creator>\n   </cc:Work>\n  </rdf:RDF>\n </metadata>\n <defs>\n  <style type=\"text/css\">*{stroke-linejoin: round; stroke-linecap: butt}</style>\n </defs>\n <g id=\"figure_1\">\n  <g id=\"patch_1\">\n   <path d=\"M 0 507.153625 \nL 609.755938 507.153625 \nL 609.755938 0 \nL 0 0 \nz\n\" style=\"fill: #ffffff\"/>\n  </g>\n  <g id=\"axes_1\">\n   <g id=\"patch_2\">\n    <path d=\"M 44.555937 467.66175 \nL 602.555938 467.66175 \nL 602.555938 24.14175 \nL 44.555937 24.14175 \nz\n\" style=\"fill: #e5e5e5\"/>\n   </g>\n   <g id=\"matplotlib.axis_1\">\n    <g id=\"xtick_1\">\n     <g id=\"line2d_1\">\n      <path d=\"M 102.16144 467.66175 \nL 102.16144 24.14175 \n\" clip-path=\"url(#pdfce174dea)\" style=\"fill: none; stroke: #ffffff; stroke-width: 0.8; stroke-linecap: square\"/>\n     </g>\n     <g id=\"line2d_2\">\n      <defs>\n       <path id=\"md64be60d3e\" d=\"M 0 0 \nL 0 3.5 \n\" style=\"stroke: #555555; stroke-width: 0.8\"/>\n      </defs>\n      <g>\n       <use xlink:href=\"#md64be60d3e\" x=\"102.16144\" y=\"467.66175\" style=\"fill: #555555; stroke: #555555; stroke-width: 0.8\"/>\n      </g>\n     </g>\n     <g id=\"text_1\">\n      <!-- −3 -->\n      <g style=\"fill: #555555\" transform=\"translate(94.790346 482.260187) scale(0.1 -0.1)\">\n       <defs>\n        <path id=\"DejaVuSans-2212\" d=\"M 678 2272 \nL 4684 2272 \nL 4684 1741 \nL 678 1741 \nL 678 2272 \nz\n\" transform=\"scale(0.015625)\"/>\n        <path id=\"DejaVuSans-33\" d=\"M 2597 2516 \nQ 3050 2419 3304 2112 \nQ 3559 1806 3559 1356 \nQ 3559 666 3084 287 \nQ 2609 -91 1734 -91 \nQ 1441 -91 1130 -33 \nQ 819 25 488 141 \nL 488 750 \nQ 750 597 1062 519 \nQ 1375 441 1716 441 \nQ 2309 441 2620 675 \nQ 2931 909 2931 1356 \nQ 2931 1769 2642 2001 \nQ 2353 2234 1838 2234 \nL 1294 2234 \nL 1294 2753 \nL 1863 2753 \nQ 2328 2753 2575 2939 \nQ 2822 3125 2822 3475 \nQ 2822 3834 2567 4026 \nQ 2313 4219 1838 4219 \nQ 1578 4219 1281 4162 \nQ 984 4106 628 3988 \nL 628 4550 \nQ 988 4650 1302 4700 \nQ 1616 4750 1894 4750 \nQ 2613 4750 3031 4423 \nQ 3450 4097 3450 3541 \nQ 3450 3153 3228 2886 \nQ 3006 2619 2597 2516 \nz\n\" transform=\"scale(0.015625)\"/>\n       </defs>\n       <use xlink:href=\"#DejaVuSans-2212\"/>\n       <use xlink:href=\"#DejaVuSans-33\" x=\"83.789062\"/>\n      </g>\n     </g>\n    </g>\n    <g id=\"xtick_2\">\n     <g id=\"line2d_3\">\n      <path d=\"M 161.540297 467.66175 \nL 161.540297 24.14175 \n\" clip-path=\"url(#pdfce174dea)\" style=\"fill: none; stroke: #ffffff; stroke-width: 0.8; stroke-linecap: square\"/>\n     </g>\n     <g id=\"line2d_4\">\n      <g>\n       <use xlink:href=\"#md64be60d3e\" x=\"161.540297\" y=\"467.66175\" style=\"fill: #555555; stroke: #555555; stroke-width: 0.8\"/>\n      </g>\n     </g>\n     <g id=\"text_2\">\n      <!-- −2 -->\n      <g style=\"fill: #555555\" transform=\"translate(154.169204 482.260187) scale(0.1 -0.1)\">\n       <defs>\n        <path id=\"DejaVuSans-32\" d=\"M 1228 531 \nL 3431 531 \nL 3431 0 \nL 469 0 \nL 469 531 \nQ 828 903 1448 1529 \nQ 2069 2156 2228 2338 \nQ 2531 2678 2651 2914 \nQ 2772 3150 2772 3378 \nQ 2772 3750 2511 3984 \nQ 2250 4219 1831 4219 \nQ 1534 4219 1204 4116 \nQ 875 4013 500 3803 \nL 500 4441 \nQ 881 4594 1212 4672 \nQ 1544 4750 1819 4750 \nQ 2544 4750 2975 4387 \nQ 3406 4025 3406 3419 \nQ 3406 3131 3298 2873 \nQ 3191 2616 2906 2266 \nQ 2828 2175 2409 1742 \nQ 1991 1309 1228 531 \nz\n\" transform=\"scale(0.015625)\"/>\n       </defs>\n       <use xlink:href=\"#DejaVuSans-2212\"/>\n       <use xlink:href=\"#DejaVuSans-32\" x=\"83.789062\"/>\n      </g>\n     </g>\n    </g>\n    <g id=\"xtick_3\">\n     <g id=\"line2d_5\">\n      <path d=\"M 220.919155 467.66175 \nL 220.919155 24.14175 \n\" clip-path=\"url(#pdfce174dea)\" style=\"fill: none; stroke: #ffffff; stroke-width: 0.8; stroke-linecap: square\"/>\n     </g>\n     <g id=\"line2d_6\">\n      <g>\n       <use xlink:href=\"#md64be60d3e\" x=\"220.919155\" y=\"467.66175\" style=\"fill: #555555; stroke: #555555; stroke-width: 0.8\"/>\n      </g>\n     </g>\n     <g id=\"text_3\">\n      <!-- −1 -->\n      <g style=\"fill: #555555\" transform=\"translate(213.548061 482.260187) scale(0.1 -0.1)\">\n       <defs>\n        <path id=\"DejaVuSans-31\" d=\"M 794 531 \nL 1825 531 \nL 1825 4091 \nL 703 3866 \nL 703 4441 \nL 1819 4666 \nL 2450 4666 \nL 2450 531 \nL 3481 531 \nL 3481 0 \nL 794 0 \nL 794 531 \nz\n\" transform=\"scale(0.015625)\"/>\n       </defs>\n       <use xlink:href=\"#DejaVuSans-2212\"/>\n       <use xlink:href=\"#DejaVuSans-31\" x=\"83.789062\"/>\n      </g>\n     </g>\n    </g>\n    <g id=\"xtick_4\">\n     <g id=\"line2d_7\">\n      <path d=\"M 280.298013 467.66175 \nL 280.298013 24.14175 \n\" clip-path=\"url(#pdfce174dea)\" style=\"fill: none; stroke: #ffffff; stroke-width: 0.8; stroke-linecap: square\"/>\n     </g>\n     <g id=\"line2d_8\">\n      <g>\n       <use xlink:href=\"#md64be60d3e\" x=\"280.298013\" y=\"467.66175\" style=\"fill: #555555; stroke: #555555; stroke-width: 0.8\"/>\n      </g>\n     </g>\n     <g id=\"text_4\">\n      <!-- 0 -->\n      <g style=\"fill: #555555\" transform=\"translate(277.116763 482.260187) scale(0.1 -0.1)\">\n       <defs>\n        <path id=\"DejaVuSans-30\" d=\"M 2034 4250 \nQ 1547 4250 1301 3770 \nQ 1056 3291 1056 2328 \nQ 1056 1369 1301 889 \nQ 1547 409 2034 409 \nQ 2525 409 2770 889 \nQ 3016 1369 3016 2328 \nQ 3016 3291 2770 3770 \nQ 2525 4250 2034 4250 \nz\nM 2034 4750 \nQ 2819 4750 3233 4129 \nQ 3647 3509 3647 2328 \nQ 3647 1150 3233 529 \nQ 2819 -91 2034 -91 \nQ 1250 -91 836 529 \nQ 422 1150 422 2328 \nQ 422 3509 836 4129 \nQ 1250 4750 2034 4750 \nz\n\" transform=\"scale(0.015625)\"/>\n       </defs>\n       <use xlink:href=\"#DejaVuSans-30\"/>\n      </g>\n     </g>\n    </g>\n    <g id=\"xtick_5\">\n     <g id=\"line2d_9\">\n      <path d=\"M 339.67687 467.66175 \nL 339.67687 24.14175 \n\" clip-path=\"url(#pdfce174dea)\" style=\"fill: none; stroke: #ffffff; stroke-width: 0.8; stroke-linecap: square\"/>\n     </g>\n     <g id=\"line2d_10\">\n      <g>\n       <use xlink:href=\"#md64be60d3e\" x=\"339.67687\" y=\"467.66175\" style=\"fill: #555555; stroke: #555555; stroke-width: 0.8\"/>\n      </g>\n     </g>\n     <g id=\"text_5\">\n      <!-- 1 -->\n      <g style=\"fill: #555555\" transform=\"translate(336.49562 482.260187) scale(0.1 -0.1)\">\n       <use xlink:href=\"#DejaVuSans-31\"/>\n      </g>\n     </g>\n    </g>\n    <g id=\"xtick_6\">\n     <g id=\"line2d_11\">\n      <path d=\"M 399.055728 467.66175 \nL 399.055728 24.14175 \n\" clip-path=\"url(#pdfce174dea)\" style=\"fill: none; stroke: #ffffff; stroke-width: 0.8; stroke-linecap: square\"/>\n     </g>\n     <g id=\"line2d_12\">\n      <g>\n       <use xlink:href=\"#md64be60d3e\" x=\"399.055728\" y=\"467.66175\" style=\"fill: #555555; stroke: #555555; stroke-width: 0.8\"/>\n      </g>\n     </g>\n     <g id=\"text_6\">\n      <!-- 2 -->\n      <g style=\"fill: #555555\" transform=\"translate(395.874478 482.260187) scale(0.1 -0.1)\">\n       <use xlink:href=\"#DejaVuSans-32\"/>\n      </g>\n     </g>\n    </g>\n    <g id=\"xtick_7\">\n     <g id=\"line2d_13\">\n      <path d=\"M 458.434586 467.66175 \nL 458.434586 24.14175 \n\" clip-path=\"url(#pdfce174dea)\" style=\"fill: none; stroke: #ffffff; stroke-width: 0.8; stroke-linecap: square\"/>\n     </g>\n     <g id=\"line2d_14\">\n      <g>\n       <use xlink:href=\"#md64be60d3e\" x=\"458.434586\" y=\"467.66175\" style=\"fill: #555555; stroke: #555555; stroke-width: 0.8\"/>\n      </g>\n     </g>\n     <g id=\"text_7\">\n      <!-- 3 -->\n      <g style=\"fill: #555555\" transform=\"translate(455.253336 482.260187) scale(0.1 -0.1)\">\n       <use xlink:href=\"#DejaVuSans-33\"/>\n      </g>\n     </g>\n    </g>\n    <g id=\"xtick_8\">\n     <g id=\"line2d_15\">\n      <path d=\"M 517.813443 467.66175 \nL 517.813443 24.14175 \n\" clip-path=\"url(#pdfce174dea)\" style=\"fill: none; stroke: #ffffff; stroke-width: 0.8; stroke-linecap: square\"/>\n     </g>\n     <g id=\"line2d_16\">\n      <g>\n       <use xlink:href=\"#md64be60d3e\" x=\"517.813443\" y=\"467.66175\" style=\"fill: #555555; stroke: #555555; stroke-width: 0.8\"/>\n      </g>\n     </g>\n     <g id=\"text_8\">\n      <!-- 4 -->\n      <g style=\"fill: #555555\" transform=\"translate(514.632193 482.260187) scale(0.1 -0.1)\">\n       <defs>\n        <path id=\"DejaVuSans-34\" d=\"M 2419 4116 \nL 825 1625 \nL 2419 1625 \nL 2419 4116 \nz\nM 2253 4666 \nL 3047 4666 \nL 3047 1625 \nL 3713 1625 \nL 3713 1100 \nL 3047 1100 \nL 3047 0 \nL 2419 0 \nL 2419 1100 \nL 313 1100 \nL 313 1709 \nL 2253 4666 \nz\n\" transform=\"scale(0.015625)\"/>\n       </defs>\n       <use xlink:href=\"#DejaVuSans-34\"/>\n      </g>\n     </g>\n    </g>\n    <g id=\"xtick_9\">\n     <g id=\"line2d_17\">\n      <path d=\"M 577.192301 467.66175 \nL 577.192301 24.14175 \n\" clip-path=\"url(#pdfce174dea)\" style=\"fill: none; stroke: #ffffff; stroke-width: 0.8; stroke-linecap: square\"/>\n     </g>\n     <g id=\"line2d_18\">\n      <g>\n       <use xlink:href=\"#md64be60d3e\" x=\"577.192301\" y=\"467.66175\" style=\"fill: #555555; stroke: #555555; stroke-width: 0.8\"/>\n      </g>\n     </g>\n     <g id=\"text_9\">\n      <!-- 5 -->\n      <g style=\"fill: #555555\" transform=\"translate(574.011051 482.260187) scale(0.1 -0.1)\">\n       <defs>\n        <path id=\"DejaVuSans-35\" d=\"M 691 4666 \nL 3169 4666 \nL 3169 4134 \nL 1269 4134 \nL 1269 2991 \nQ 1406 3038 1543 3061 \nQ 1681 3084 1819 3084 \nQ 2600 3084 3056 2656 \nQ 3513 2228 3513 1497 \nQ 3513 744 3044 326 \nQ 2575 -91 1722 -91 \nQ 1428 -91 1123 -41 \nQ 819 9 494 109 \nL 494 744 \nQ 775 591 1075 516 \nQ 1375 441 1709 441 \nQ 2250 441 2565 725 \nQ 2881 1009 2881 1497 \nQ 2881 1984 2565 2268 \nQ 2250 2553 1709 2553 \nQ 1456 2553 1204 2497 \nQ 953 2441 691 2322 \nL 691 4666 \nz\n\" transform=\"scale(0.015625)\"/>\n       </defs>\n       <use xlink:href=\"#DejaVuSans-35\"/>\n      </g>\n     </g>\n    </g>\n    <g id=\"text_10\">\n     <!-- X1 -->\n     <g style=\"fill: #555555\" transform=\"translate(315.628437 497.458) scale(0.12 -0.12)\">\n      <defs>\n       <path id=\"DejaVuSans-58\" d=\"M 403 4666 \nL 1081 4666 \nL 2241 2931 \nL 3406 4666 \nL 4084 4666 \nL 2584 2425 \nL 4184 0 \nL 3506 0 \nL 2194 1984 \nL 872 0 \nL 191 0 \nL 1856 2491 \nL 403 4666 \nz\n\" transform=\"scale(0.015625)\"/>\n      </defs>\n      <use xlink:href=\"#DejaVuSans-58\"/>\n      <use xlink:href=\"#DejaVuSans-31\" x=\"68.505859\"/>\n     </g>\n    </g>\n   </g>\n   <g id=\"matplotlib.axis_2\">\n    <g id=\"ytick_1\">\n     <g id=\"line2d_19\">\n      <path d=\"M 44.555937 421.677898 \nL 602.555938 421.677898 \n\" clip-path=\"url(#pdfce174dea)\" style=\"fill: none; stroke: #ffffff; stroke-width: 0.8; stroke-linecap: square\"/>\n     </g>\n     <g id=\"line2d_20\">\n      <defs>\n       <path id=\"ma2dc18cef8\" d=\"M 0 0 \nL -3.5 0 \n\" style=\"stroke: #555555; stroke-width: 0.8\"/>\n      </defs>\n      <g>\n       <use xlink:href=\"#ma2dc18cef8\" x=\"44.555937\" y=\"421.677898\" style=\"fill: #555555; stroke: #555555; stroke-width: 0.8\"/>\n      </g>\n     </g>\n     <g id=\"text_11\">\n      <!-- −3 -->\n      <g style=\"fill: #555555\" transform=\"translate(22.81375 425.477117) scale(0.1 -0.1)\">\n       <use xlink:href=\"#DejaVuSans-2212\"/>\n       <use xlink:href=\"#DejaVuSans-33\" x=\"83.789062\"/>\n      </g>\n     </g>\n    </g>\n    <g id=\"ytick_2\">\n     <g id=\"line2d_21\">\n      <path d=\"M 44.555937 357.254354 \nL 602.555938 357.254354 \n\" clip-path=\"url(#pdfce174dea)\" style=\"fill: none; stroke: #ffffff; stroke-width: 0.8; stroke-linecap: square\"/>\n     </g>\n     <g id=\"line2d_22\">\n      <g>\n       <use xlink:href=\"#ma2dc18cef8\" x=\"44.555937\" y=\"357.254354\" style=\"fill: #555555; stroke: #555555; stroke-width: 0.8\"/>\n      </g>\n     </g>\n     <g id=\"text_12\">\n      <!-- −2 -->\n      <g style=\"fill: #555555\" transform=\"translate(22.81375 361.053573) scale(0.1 -0.1)\">\n       <use xlink:href=\"#DejaVuSans-2212\"/>\n       <use xlink:href=\"#DejaVuSans-32\" x=\"83.789062\"/>\n      </g>\n     </g>\n    </g>\n    <g id=\"ytick_3\">\n     <g id=\"line2d_23\">\n      <path d=\"M 44.555937 292.83081 \nL 602.555938 292.83081 \n\" clip-path=\"url(#pdfce174dea)\" style=\"fill: none; stroke: #ffffff; stroke-width: 0.8; stroke-linecap: square\"/>\n     </g>\n     <g id=\"line2d_24\">\n      <g>\n       <use xlink:href=\"#ma2dc18cef8\" x=\"44.555937\" y=\"292.83081\" style=\"fill: #555555; stroke: #555555; stroke-width: 0.8\"/>\n      </g>\n     </g>\n     <g id=\"text_13\">\n      <!-- −1 -->\n      <g style=\"fill: #555555\" transform=\"translate(22.81375 296.630029) scale(0.1 -0.1)\">\n       <use xlink:href=\"#DejaVuSans-2212\"/>\n       <use xlink:href=\"#DejaVuSans-31\" x=\"83.789062\"/>\n      </g>\n     </g>\n    </g>\n    <g id=\"ytick_4\">\n     <g id=\"line2d_25\">\n      <path d=\"M 44.555937 228.407266 \nL 602.555938 228.407266 \n\" clip-path=\"url(#pdfce174dea)\" style=\"fill: none; stroke: #ffffff; stroke-width: 0.8; stroke-linecap: square\"/>\n     </g>\n     <g id=\"line2d_26\">\n      <g>\n       <use xlink:href=\"#ma2dc18cef8\" x=\"44.555937\" y=\"228.407266\" style=\"fill: #555555; stroke: #555555; stroke-width: 0.8\"/>\n      </g>\n     </g>\n     <g id=\"text_14\">\n      <!-- 0 -->\n      <g style=\"fill: #555555\" transform=\"translate(31.193437 232.206485) scale(0.1 -0.1)\">\n       <use xlink:href=\"#DejaVuSans-30\"/>\n      </g>\n     </g>\n    </g>\n    <g id=\"ytick_5\">\n     <g id=\"line2d_27\">\n      <path d=\"M 44.555937 163.983722 \nL 602.555938 163.983722 \n\" clip-path=\"url(#pdfce174dea)\" style=\"fill: none; stroke: #ffffff; stroke-width: 0.8; stroke-linecap: square\"/>\n     </g>\n     <g id=\"line2d_28\">\n      <g>\n       <use xlink:href=\"#ma2dc18cef8\" x=\"44.555937\" y=\"163.983722\" style=\"fill: #555555; stroke: #555555; stroke-width: 0.8\"/>\n      </g>\n     </g>\n     <g id=\"text_15\">\n      <!-- 1 -->\n      <g style=\"fill: #555555\" transform=\"translate(31.193437 167.782941) scale(0.1 -0.1)\">\n       <use xlink:href=\"#DejaVuSans-31\"/>\n      </g>\n     </g>\n    </g>\n    <g id=\"ytick_6\">\n     <g id=\"line2d_29\">\n      <path d=\"M 44.555937 99.560178 \nL 602.555938 99.560178 \n\" clip-path=\"url(#pdfce174dea)\" style=\"fill: none; stroke: #ffffff; stroke-width: 0.8; stroke-linecap: square\"/>\n     </g>\n     <g id=\"line2d_30\">\n      <g>\n       <use xlink:href=\"#ma2dc18cef8\" x=\"44.555937\" y=\"99.560178\" style=\"fill: #555555; stroke: #555555; stroke-width: 0.8\"/>\n      </g>\n     </g>\n     <g id=\"text_16\">\n      <!-- 2 -->\n      <g style=\"fill: #555555\" transform=\"translate(31.193437 103.359397) scale(0.1 -0.1)\">\n       <use xlink:href=\"#DejaVuSans-32\"/>\n      </g>\n     </g>\n    </g>\n    <g id=\"ytick_7\">\n     <g id=\"line2d_31\">\n      <path d=\"M 44.555937 35.136634 \nL 602.555938 35.136634 \n\" clip-path=\"url(#pdfce174dea)\" style=\"fill: none; stroke: #ffffff; stroke-width: 0.8; stroke-linecap: square\"/>\n     </g>\n     <g id=\"line2d_32\">\n      <g>\n       <use xlink:href=\"#ma2dc18cef8\" x=\"44.555937\" y=\"35.136634\" style=\"fill: #555555; stroke: #555555; stroke-width: 0.8\"/>\n      </g>\n     </g>\n     <g id=\"text_17\">\n      <!-- 3 -->\n      <g style=\"fill: #555555\" transform=\"translate(31.193437 38.935853) scale(0.1 -0.1)\">\n       <use xlink:href=\"#DejaVuSans-33\"/>\n      </g>\n     </g>\n    </g>\n    <g id=\"text_18\">\n     <!-- X2 -->\n     <g style=\"fill: #555555\" transform=\"translate(16.318125 253.82925) rotate(-90) scale(0.12 -0.12)\">\n      <use xlink:href=\"#DejaVuSans-58\"/>\n      <use xlink:href=\"#DejaVuSans-32\" x=\"68.505859\"/>\n     </g>\n    </g>\n   </g>\n   <g id=\"PathCollection_1\">\n    <defs>\n     <path id=\"m707059743c\" d=\"M 0 3 \nC 0.795609 3 1.55874 2.683901 2.12132 2.12132 \nC 2.683901 1.55874 3 0.795609 3 0 \nC 3 -0.795609 2.683901 -1.55874 2.12132 -2.12132 \nC 1.55874 -2.683901 0.795609 -3 0 -3 \nC -0.795609 -3 -1.55874 -2.683901 -2.12132 -2.12132 \nC -2.683901 -1.55874 -3 -0.795609 -3 0 \nC -3 0.795609 -2.683901 1.55874 -2.12132 2.12132 \nC -1.55874 2.683901 -0.795609 3 0 3 \nz\n\" style=\"stroke: #ff0000; stroke-width: 0.5\"/>\n    </defs>\n    <g clip-path=\"url(#pdfce174dea)\">\n     <use xlink:href=\"#m707059743c\" x=\"333.598813\" y=\"366.884986\" style=\"fill: #ff0000; stroke: #ff0000; stroke-width: 0.5\"/>\n     <use xlink:href=\"#m707059743c\" x=\"384.824086\" y=\"313.668225\" style=\"fill: #ff0000; stroke: #ff0000; stroke-width: 0.5\"/>\n     <use xlink:href=\"#m707059743c\" x=\"377.532382\" y=\"341.722561\" style=\"fill: #ff0000; stroke: #ff0000; stroke-width: 0.5\"/>\n     <use xlink:href=\"#m707059743c\" x=\"388.283641\" y=\"328.912168\" style=\"fill: #ff0000; stroke: #ff0000; stroke-width: 0.5\"/>\n     <use xlink:href=\"#m707059743c\" x=\"330.061708\" y=\"379.682887\" style=\"fill: #ff0000; stroke: #ff0000; stroke-width: 0.5\"/>\n     <use xlink:href=\"#m707059743c\" x=\"277.594559\" y=\"393.685379\" style=\"fill: #ff0000; stroke: #ff0000; stroke-width: 0.5\"/>\n     <use xlink:href=\"#m707059743c\" x=\"363.635509\" y=\"361.465923\" style=\"fill: #ff0000; stroke: #ff0000; stroke-width: 0.5\"/>\n     <use xlink:href=\"#m707059743c\" x=\"345.279002\" y=\"355.462975\" style=\"fill: #ff0000; stroke: #ff0000; stroke-width: 0.5\"/>\n     <use xlink:href=\"#m707059743c\" x=\"414.896598\" y=\"311.186342\" style=\"fill: #ff0000; stroke: #ff0000; stroke-width: 0.5\"/>\n     <use xlink:href=\"#m707059743c\" x=\"378.179486\" y=\"326.836495\" style=\"fill: #ff0000; stroke: #ff0000; stroke-width: 0.5\"/>\n     <use xlink:href=\"#m707059743c\" x=\"301.711757\" y=\"382.706125\" style=\"fill: #ff0000; stroke: #ff0000; stroke-width: 0.5\"/>\n     <use xlink:href=\"#m707059743c\" x=\"353.957448\" y=\"357.296885\" style=\"fill: #ff0000; stroke: #ff0000; stroke-width: 0.5\"/>\n     <use xlink:href=\"#m707059743c\" x=\"392.204704\" y=\"318.938249\" style=\"fill: #ff0000; stroke: #ff0000; stroke-width: 0.5\"/>\n     <use xlink:href=\"#m707059743c\" x=\"417.623986\" y=\"332.868538\" style=\"fill: #ff0000; stroke: #ff0000; stroke-width: 0.5\"/>\n     <use xlink:href=\"#m707059743c\" x=\"260.204119\" y=\"416.035927\" style=\"fill: #ff0000; stroke: #ff0000; stroke-width: 0.5\"/>\n     <use xlink:href=\"#m707059743c\" x=\"225.592847\" y=\"447.50175\" style=\"fill: #ff0000; stroke: #ff0000; stroke-width: 0.5\"/>\n     <use xlink:href=\"#m707059743c\" x=\"281.903322\" y=\"400.963453\" style=\"fill: #ff0000; stroke: #ff0000; stroke-width: 0.5\"/>\n     <use xlink:href=\"#m707059743c\" x=\"330.916026\" y=\"363.105824\" style=\"fill: #ff0000; stroke: #ff0000; stroke-width: 0.5\"/>\n     <use xlink:href=\"#m707059743c\" x=\"273.205349\" y=\"382.258112\" style=\"fill: #ff0000; stroke: #ff0000; stroke-width: 0.5\"/>\n     <use xlink:href=\"#m707059743c\" x=\"304.560196\" y=\"395.265522\" style=\"fill: #ff0000; stroke: #ff0000; stroke-width: 0.5\"/>\n     <use xlink:href=\"#m707059743c\" x=\"323.710951\" y=\"346.130318\" style=\"fill: #ff0000; stroke: #ff0000; stroke-width: 0.5\"/>\n     <use xlink:href=\"#m707059743c\" x=\"310.037319\" y=\"380.380182\" style=\"fill: #ff0000; stroke: #ff0000; stroke-width: 0.5\"/>\n     <use xlink:href=\"#m707059743c\" x=\"353.923475\" y=\"394.317958\" style=\"fill: #ff0000; stroke: #ff0000; stroke-width: 0.5\"/>\n     <use xlink:href=\"#m707059743c\" x=\"338.075319\" y=\"327.920549\" style=\"fill: #ff0000; stroke: #ff0000; stroke-width: 0.5\"/>\n     <use xlink:href=\"#m707059743c\" x=\"351.403561\" y=\"352.203626\" style=\"fill: #ff0000; stroke: #ff0000; stroke-width: 0.5\"/>\n     <use xlink:href=\"#m707059743c\" x=\"378.329488\" y=\"308.448434\" style=\"fill: #ff0000; stroke: #ff0000; stroke-width: 0.5\"/>\n     <use xlink:href=\"#m707059743c\" x=\"338.70069\" y=\"345.782991\" style=\"fill: #ff0000; stroke: #ff0000; stroke-width: 0.5\"/>\n     <use xlink:href=\"#m707059743c\" x=\"327.620374\" y=\"363.769868\" style=\"fill: #ff0000; stroke: #ff0000; stroke-width: 0.5\"/>\n     <use xlink:href=\"#m707059743c\" x=\"336.991557\" y=\"354.397052\" style=\"fill: #ff0000; stroke: #ff0000; stroke-width: 0.5\"/>\n     <use xlink:href=\"#m707059743c\" x=\"374.22469\" y=\"336.61058\" style=\"fill: #ff0000; stroke: #ff0000; stroke-width: 0.5\"/>\n     <use xlink:href=\"#m707059743c\" x=\"377.7375\" y=\"323.439969\" style=\"fill: #ff0000; stroke: #ff0000; stroke-width: 0.5\"/>\n     <use xlink:href=\"#m707059743c\" x=\"320.038972\" y=\"342.033384\" style=\"fill: #ff0000; stroke: #ff0000; stroke-width: 0.5\"/>\n     <use xlink:href=\"#m707059743c\" x=\"281.594771\" y=\"434.316532\" style=\"fill: #ff0000; stroke: #ff0000; stroke-width: 0.5\"/>\n     <use xlink:href=\"#m707059743c\" x=\"258.091494\" y=\"437.805448\" style=\"fill: #ff0000; stroke: #ff0000; stroke-width: 0.5\"/>\n     <use xlink:href=\"#m707059743c\" x=\"374.566891\" y=\"323.350147\" style=\"fill: #ff0000; stroke: #ff0000; stroke-width: 0.5\"/>\n     <use xlink:href=\"#m707059743c\" x=\"365.626552\" y=\"338.238865\" style=\"fill: #ff0000; stroke: #ff0000; stroke-width: 0.5\"/>\n     <use xlink:href=\"#m707059743c\" x=\"313.264076\" y=\"364.299942\" style=\"fill: #ff0000; stroke: #ff0000; stroke-width: 0.5\"/>\n     <use xlink:href=\"#m707059743c\" x=\"337.518982\" y=\"385.212748\" style=\"fill: #ff0000; stroke: #ff0000; stroke-width: 0.5\"/>\n     <use xlink:href=\"#m707059743c\" x=\"408.340839\" y=\"323.999277\" style=\"fill: #ff0000; stroke: #ff0000; stroke-width: 0.5\"/>\n     <use xlink:href=\"#m707059743c\" x=\"340.731918\" y=\"353.922012\" style=\"fill: #ff0000; stroke: #ff0000; stroke-width: 0.5\"/>\n     <use xlink:href=\"#m707059743c\" x=\"336.797155\" y=\"366.638692\" style=\"fill: #ff0000; stroke: #ff0000; stroke-width: 0.5\"/>\n     <use xlink:href=\"#m707059743c\" x=\"459.189153\" y=\"241.738113\" style=\"fill: #ff0000; stroke: #ff0000; stroke-width: 0.5\"/>\n     <use xlink:href=\"#m707059743c\" x=\"392.754591\" y=\"347.208471\" style=\"fill: #ff0000; stroke: #ff0000; stroke-width: 0.5\"/>\n     <use xlink:href=\"#m707059743c\" x=\"321.390582\" y=\"351.335817\" style=\"fill: #ff0000; stroke: #ff0000; stroke-width: 0.5\"/>\n     <use xlink:href=\"#m707059743c\" x=\"294.767525\" y=\"385.36245\" style=\"fill: #ff0000; stroke: #ff0000; stroke-width: 0.5\"/>\n     <use xlink:href=\"#m707059743c\" x=\"386.055963\" y=\"311.662665\" style=\"fill: #ff0000; stroke: #ff0000; stroke-width: 0.5\"/>\n     <use xlink:href=\"#m707059743c\" x=\"306.618667\" y=\"397.348319\" style=\"fill: #ff0000; stroke: #ff0000; stroke-width: 0.5\"/>\n     <use xlink:href=\"#m707059743c\" x=\"381.332415\" y=\"341.865303\" style=\"fill: #ff0000; stroke: #ff0000; stroke-width: 0.5\"/>\n     <use xlink:href=\"#m707059743c\" x=\"306.785293\" y=\"384.217883\" style=\"fill: #ff0000; stroke: #ff0000; stroke-width: 0.5\"/>\n     <use xlink:href=\"#m707059743c\" x=\"354.984245\" y=\"345.566822\" style=\"fill: #ff0000; stroke: #ff0000; stroke-width: 0.5\"/>\n    </g>\n   </g>\n   <g id=\"PathCollection_2\">\n    <defs>\n     <path id=\"maf31756718\" d=\"M 0 3 \nC 0.795609 3 1.55874 2.683901 2.12132 2.12132 \nC 2.683901 1.55874 3 0.795609 3 0 \nC 3 -0.795609 2.683901 -1.55874 2.12132 -2.12132 \nC 1.55874 -2.683901 0.795609 -3 0 -3 \nC -0.795609 -3 -1.55874 -2.683901 -2.12132 -2.12132 \nC -2.683901 -1.55874 -3 -0.795609 -3 0 \nC -3 0.795609 -2.683901 1.55874 -2.12132 2.12132 \nC -1.55874 2.683901 -0.795609 3 0 3 \nz\n\" style=\"stroke: #008000; stroke-width: 0.5\"/>\n    </defs>\n    <g clip-path=\"url(#pdfce174dea)\">\n     <use xlink:href=\"#maf31756718\" x=\"194.060179\" y=\"211.84052\" style=\"fill: #008000; stroke: #008000; stroke-width: 0.5\"/>\n     <use xlink:href=\"#maf31756718\" x=\"226.394622\" y=\"213.749782\" style=\"fill: #008000; stroke: #008000; stroke-width: 0.5\"/>\n     <use xlink:href=\"#maf31756718\" x=\"204.314198\" y=\"190.793611\" style=\"fill: #008000; stroke: #008000; stroke-width: 0.5\"/>\n     <use xlink:href=\"#maf31756718\" x=\"353.360344\" y=\"143.915897\" style=\"fill: #008000; stroke: #008000; stroke-width: 0.5\"/>\n     <use xlink:href=\"#maf31756718\" x=\"254.311875\" y=\"162.550697\" style=\"fill: #008000; stroke: #008000; stroke-width: 0.5\"/>\n     <use xlink:href=\"#maf31756718\" x=\"297.540397\" y=\"186.885382\" style=\"fill: #008000; stroke: #008000; stroke-width: 0.5\"/>\n     <use xlink:href=\"#maf31756718\" x=\"216.923033\" y=\"220.333798\" style=\"fill: #008000; stroke: #008000; stroke-width: 0.5\"/>\n     <use xlink:href=\"#maf31756718\" x=\"389.172037\" y=\"187.669898\" style=\"fill: #008000; stroke: #008000; stroke-width: 0.5\"/>\n     <use xlink:href=\"#maf31756718\" x=\"243.069354\" y=\"185.494597\" style=\"fill: #008000; stroke: #008000; stroke-width: 0.5\"/>\n     <use xlink:href=\"#maf31756718\" x=\"334.874403\" y=\"190.438328\" style=\"fill: #008000; stroke: #008000; stroke-width: 0.5\"/>\n     <use xlink:href=\"#maf31756718\" x=\"415.442468\" y=\"138.313903\" style=\"fill: #008000; stroke: #008000; stroke-width: 0.5\"/>\n     <use xlink:href=\"#maf31756718\" x=\"268.343559\" y=\"205.352965\" style=\"fill: #008000; stroke: #008000; stroke-width: 0.5\"/>\n     <use xlink:href=\"#maf31756718\" x=\"355.779952\" y=\"124.791498\" style=\"fill: #008000; stroke: #008000; stroke-width: 0.5\"/>\n     <use xlink:href=\"#maf31756718\" x=\"266.327853\" y=\"183.928992\" style=\"fill: #008000; stroke: #008000; stroke-width: 0.5\"/>\n     <use xlink:href=\"#maf31756718\" x=\"303.847121\" y=\"215.986435\" style=\"fill: #008000; stroke: #008000; stroke-width: 0.5\"/>\n     <use xlink:href=\"#maf31756718\" x=\"221.925714\" y=\"205.429083\" style=\"fill: #008000; stroke: #008000; stroke-width: 0.5\"/>\n     <use xlink:href=\"#maf31756718\" x=\"278.099212\" y=\"207.308462\" style=\"fill: #008000; stroke: #008000; stroke-width: 0.5\"/>\n     <use xlink:href=\"#maf31756718\" x=\"316.668628\" y=\"191.61257\" style=\"fill: #008000; stroke: #008000; stroke-width: 0.5\"/>\n     <use xlink:href=\"#maf31756718\" x=\"323.347664\" y=\"99.019242\" style=\"fill: #008000; stroke: #008000; stroke-width: 0.5\"/>\n     <use xlink:href=\"#maf31756718\" x=\"340.122304\" y=\"172.719348\" style=\"fill: #008000; stroke: #008000; stroke-width: 0.5\"/>\n     <use xlink:href=\"#maf31756718\" x=\"231.797772\" y=\"212.772352\" style=\"fill: #008000; stroke: #008000; stroke-width: 0.5\"/>\n     <use xlink:href=\"#maf31756718\" x=\"286.184828\" y=\"187.69802\" style=\"fill: #008000; stroke: #008000; stroke-width: 0.5\"/>\n     <use xlink:href=\"#maf31756718\" x=\"288.360483\" y=\"124.887752\" style=\"fill: #008000; stroke: #008000; stroke-width: 0.5\"/>\n     <use xlink:href=\"#maf31756718\" x=\"281.851312\" y=\"178.687421\" style=\"fill: #008000; stroke: #008000; stroke-width: 0.5\"/>\n     <use xlink:href=\"#maf31756718\" x=\"258.493373\" y=\"191.431974\" style=\"fill: #008000; stroke: #008000; stroke-width: 0.5\"/>\n     <use xlink:href=\"#maf31756718\" x=\"235.377313\" y=\"195.435312\" style=\"fill: #008000; stroke: #008000; stroke-width: 0.5\"/>\n     <use xlink:href=\"#maf31756718\" x=\"241.324551\" y=\"150.823932\" style=\"fill: #008000; stroke: #008000; stroke-width: 0.5\"/>\n     <use xlink:href=\"#maf31756718\" x=\"217.963928\" y=\"168.62438\" style=\"fill: #008000; stroke: #008000; stroke-width: 0.5\"/>\n     <use xlink:href=\"#maf31756718\" x=\"269.919459\" y=\"185.551696\" style=\"fill: #008000; stroke: #008000; stroke-width: 0.5\"/>\n     <use xlink:href=\"#maf31756718\" x=\"336.559771\" y=\"193.310769\" style=\"fill: #008000; stroke: #008000; stroke-width: 0.5\"/>\n     <use xlink:href=\"#maf31756718\" x=\"353.833166\" y=\"165.521685\" style=\"fill: #008000; stroke: #008000; stroke-width: 0.5\"/>\n     <use xlink:href=\"#maf31756718\" x=\"358.544084\" y=\"170.501065\" style=\"fill: #008000; stroke: #008000; stroke-width: 0.5\"/>\n     <use xlink:href=\"#maf31756718\" x=\"311.517754\" y=\"187.882256\" style=\"fill: #008000; stroke: #008000; stroke-width: 0.5\"/>\n     <use xlink:href=\"#maf31756718\" x=\"276.327412\" y=\"150.071231\" style=\"fill: #008000; stroke: #008000; stroke-width: 0.5\"/>\n     <use xlink:href=\"#maf31756718\" x=\"287.315203\" y=\"212.009551\" style=\"fill: #008000; stroke: #008000; stroke-width: 0.5\"/>\n     <use xlink:href=\"#maf31756718\" x=\"221.919938\" y=\"241.905878\" style=\"fill: #008000; stroke: #008000; stroke-width: 0.5\"/>\n     <use xlink:href=\"#maf31756718\" x=\"217.401433\" y=\"194.991626\" style=\"fill: #008000; stroke: #008000; stroke-width: 0.5\"/>\n     <use xlink:href=\"#maf31756718\" x=\"320.84056\" y=\"113.872522\" style=\"fill: #008000; stroke: #008000; stroke-width: 0.5\"/>\n     <use xlink:href=\"#maf31756718\" x=\"289.051928\" y=\"219.254894\" style=\"fill: #008000; stroke: #008000; stroke-width: 0.5\"/>\n     <use xlink:href=\"#maf31756718\" x=\"336.663238\" y=\"165.628739\" style=\"fill: #008000; stroke: #008000; stroke-width: 0.5\"/>\n     <use xlink:href=\"#maf31756718\" x=\"327.140427\" y=\"173.025995\" style=\"fill: #008000; stroke: #008000; stroke-width: 0.5\"/>\n     <use xlink:href=\"#maf31756718\" x=\"258.439763\" y=\"198.161195\" style=\"fill: #008000; stroke: #008000; stroke-width: 0.5\"/>\n     <use xlink:href=\"#maf31756718\" x=\"318.870699\" y=\"174.507283\" style=\"fill: #008000; stroke: #008000; stroke-width: 0.5\"/>\n     <use xlink:href=\"#maf31756718\" x=\"392.68109\" y=\"175.171983\" style=\"fill: #008000; stroke: #008000; stroke-width: 0.5\"/>\n     <use xlink:href=\"#maf31756718\" x=\"313.070942\" y=\"182.633861\" style=\"fill: #008000; stroke: #008000; stroke-width: 0.5\"/>\n     <use xlink:href=\"#maf31756718\" x=\"286.172439\" y=\"219.408954\" style=\"fill: #008000; stroke: #008000; stroke-width: 0.5\"/>\n     <use xlink:href=\"#maf31756718\" x=\"292.416141\" y=\"203.523317\" style=\"fill: #008000; stroke: #008000; stroke-width: 0.5\"/>\n     <use xlink:href=\"#maf31756718\" x=\"268.808001\" y=\"193.255175\" style=\"fill: #008000; stroke: #008000; stroke-width: 0.5\"/>\n     <use xlink:href=\"#maf31756718\" x=\"372.98328\" y=\"196.998126\" style=\"fill: #008000; stroke: #008000; stroke-width: 0.5\"/>\n     <use xlink:href=\"#maf31756718\" x=\"301.617057\" y=\"194.135004\" style=\"fill: #008000; stroke: #008000; stroke-width: 0.5\"/>\n    </g>\n   </g>\n   <g id=\"PathCollection_3\">\n    <defs>\n     <path id=\"md5a40abff2\" d=\"M 0 3 \nC 0.795609 3 1.55874 2.683901 2.12132 2.12132 \nC 2.683901 1.55874 3 0.795609 3 0 \nC 3 -0.795609 2.683901 -1.55874 2.12132 -2.12132 \nC 1.55874 -2.683901 0.795609 -3 0 -3 \nC -0.795609 -3 -1.55874 -2.683901 -2.12132 -2.12132 \nC -2.683901 -1.55874 -3 -0.795609 -3 0 \nC -3 0.795609 -2.683901 1.55874 -2.12132 2.12132 \nC -1.55874 2.683901 -0.795609 3 0 3 \nz\n\" style=\"stroke: #0000ff; stroke-width: 0.5\"/>\n    </defs>\n    <g clip-path=\"url(#pdfce174dea)\">\n     <use xlink:href=\"#md5a40abff2\" x=\"155.087611\" y=\"181.137641\" style=\"fill: #0000ff; stroke: #0000ff; stroke-width: 0.5\"/>\n     <use xlink:href=\"#md5a40abff2\" x=\"277.642813\" y=\"137.679377\" style=\"fill: #0000ff; stroke: #0000ff; stroke-width: 0.5\"/>\n     <use xlink:href=\"#md5a40abff2\" x=\"178.981802\" y=\"127.597673\" style=\"fill: #0000ff; stroke: #0000ff; stroke-width: 0.5\"/>\n     <use xlink:href=\"#md5a40abff2\" x=\"233.662221\" y=\"149.711385\" style=\"fill: #0000ff; stroke: #0000ff; stroke-width: 0.5\"/>\n     <use xlink:href=\"#md5a40abff2\" x=\"202.513103\" y=\"139.302459\" style=\"fill: #0000ff; stroke: #0000ff; stroke-width: 0.5\"/>\n     <use xlink:href=\"#md5a40abff2\" x=\"148.27669\" y=\"101.491477\" style=\"fill: #0000ff; stroke: #0000ff; stroke-width: 0.5\"/>\n     <use xlink:href=\"#md5a40abff2\" x=\"359.684249\" y=\"141.502426\" style=\"fill: #0000ff; stroke: #0000ff; stroke-width: 0.5\"/>\n     <use xlink:href=\"#md5a40abff2\" x=\"183.370895\" y=\"106.429239\" style=\"fill: #0000ff; stroke: #0000ff; stroke-width: 0.5\"/>\n     <use xlink:href=\"#md5a40abff2\" x=\"248.717257\" y=\"90.721948\" style=\"fill: #0000ff; stroke: #0000ff; stroke-width: 0.5\"/>\n     <use xlink:href=\"#md5a40abff2\" x=\"107.161545\" y=\"180.809758\" style=\"fill: #0000ff; stroke: #0000ff; stroke-width: 0.5\"/>\n     <use xlink:href=\"#md5a40abff2\" x=\"198.099811\" y=\"182.606465\" style=\"fill: #0000ff; stroke: #0000ff; stroke-width: 0.5\"/>\n     <use xlink:href=\"#md5a40abff2\" x=\"246.71977\" y=\"127.881948\" style=\"fill: #0000ff; stroke: #0000ff; stroke-width: 0.5\"/>\n     <use xlink:href=\"#md5a40abff2\" x=\"196.081879\" y=\"144.053635\" style=\"fill: #0000ff; stroke: #0000ff; stroke-width: 0.5\"/>\n     <use xlink:href=\"#md5a40abff2\" x=\"297.826747\" y=\"113.240615\" style=\"fill: #0000ff; stroke: #0000ff; stroke-width: 0.5\"/>\n     <use xlink:href=\"#md5a40abff2\" x=\"257.967513\" y=\"111.403015\" style=\"fill: #0000ff; stroke: #0000ff; stroke-width: 0.5\"/>\n     <use xlink:href=\"#md5a40abff2\" x=\"184.201142\" y=\"176.140317\" style=\"fill: #0000ff; stroke: #0000ff; stroke-width: 0.5\"/>\n     <use xlink:href=\"#md5a40abff2\" x=\"218.607747\" y=\"159.5014\" style=\"fill: #0000ff; stroke: #0000ff; stroke-width: 0.5\"/>\n     <use xlink:href=\"#md5a40abff2\" x=\"71.216759\" y=\"194.263626\" style=\"fill: #0000ff; stroke: #0000ff; stroke-width: 0.5\"/>\n     <use xlink:href=\"#md5a40abff2\" x=\"169.078817\" y=\"44.30175\" style=\"fill: #0000ff; stroke: #0000ff; stroke-width: 0.5\"/>\n     <use xlink:href=\"#md5a40abff2\" x=\"321.443659\" y=\"95.927289\" style=\"fill: #0000ff; stroke: #0000ff; stroke-width: 0.5\"/>\n     <use xlink:href=\"#md5a40abff2\" x=\"165.068116\" y=\"154.12638\" style=\"fill: #0000ff; stroke: #0000ff; stroke-width: 0.5\"/>\n     <use xlink:href=\"#md5a40abff2\" x=\"283.001583\" y=\"145.165551\" style=\"fill: #0000ff; stroke: #0000ff; stroke-width: 0.5\"/>\n     <use xlink:href=\"#md5a40abff2\" x=\"162.843878\" y=\"74.268393\" style=\"fill: #0000ff; stroke: #0000ff; stroke-width: 0.5\"/>\n     <use xlink:href=\"#md5a40abff2\" x=\"258.691663\" y=\"139.71827\" style=\"fill: #0000ff; stroke: #0000ff; stroke-width: 0.5\"/>\n     <use xlink:href=\"#md5a40abff2\" x=\"171.096033\" y=\"177.98647\" style=\"fill: #0000ff; stroke: #0000ff; stroke-width: 0.5\"/>\n     <use xlink:href=\"#md5a40abff2\" x=\"160.543857\" y=\"157.950382\" style=\"fill: #0000ff; stroke: #0000ff; stroke-width: 0.5\"/>\n     <use xlink:href=\"#md5a40abff2\" x=\"256.572566\" y=\"153.743118\" style=\"fill: #0000ff; stroke: #0000ff; stroke-width: 0.5\"/>\n     <use xlink:href=\"#md5a40abff2\" x=\"241.911295\" y=\"176.855922\" style=\"fill: #0000ff; stroke: #0000ff; stroke-width: 0.5\"/>\n     <use xlink:href=\"#md5a40abff2\" x=\"229.179798\" y=\"125.698747\" style=\"fill: #0000ff; stroke: #0000ff; stroke-width: 0.5\"/>\n     <use xlink:href=\"#md5a40abff2\" x=\"190.276964\" y=\"130.760022\" style=\"fill: #0000ff; stroke: #0000ff; stroke-width: 0.5\"/>\n     <use xlink:href=\"#md5a40abff2\" x=\"186.933807\" y=\"94.070898\" style=\"fill: #0000ff; stroke: #0000ff; stroke-width: 0.5\"/>\n     <use xlink:href=\"#md5a40abff2\" x=\"69.919574\" y=\"205.914882\" style=\"fill: #0000ff; stroke: #0000ff; stroke-width: 0.5\"/>\n     <use xlink:href=\"#md5a40abff2\" x=\"226.33493\" y=\"120.988184\" style=\"fill: #0000ff; stroke: #0000ff; stroke-width: 0.5\"/>\n     <use xlink:href=\"#md5a40abff2\" x=\"258.249265\" y=\"158.552129\" style=\"fill: #0000ff; stroke: #0000ff; stroke-width: 0.5\"/>\n     <use xlink:href=\"#md5a40abff2\" x=\"284.397203\" y=\"129.795628\" style=\"fill: #0000ff; stroke: #0000ff; stroke-width: 0.5\"/>\n     <use xlink:href=\"#md5a40abff2\" x=\"142.604924\" y=\"101.967148\" style=\"fill: #0000ff; stroke: #0000ff; stroke-width: 0.5\"/>\n     <use xlink:href=\"#md5a40abff2\" x=\"159.221511\" y=\"198.789279\" style=\"fill: #0000ff; stroke: #0000ff; stroke-width: 0.5\"/>\n     <use xlink:href=\"#md5a40abff2\" x=\"213.398156\" y=\"173.366194\" style=\"fill: #0000ff; stroke: #0000ff; stroke-width: 0.5\"/>\n     <use xlink:href=\"#md5a40abff2\" x=\"247.747964\" y=\"180.550274\" style=\"fill: #0000ff; stroke: #0000ff; stroke-width: 0.5\"/>\n     <use xlink:href=\"#md5a40abff2\" x=\"184.622216\" y=\"153.952602\" style=\"fill: #0000ff; stroke: #0000ff; stroke-width: 0.5\"/>\n     <use xlink:href=\"#md5a40abff2\" x=\"177.033819\" y=\"146.866293\" style=\"fill: #0000ff; stroke: #0000ff; stroke-width: 0.5\"/>\n     <use xlink:href=\"#md5a40abff2\" x=\"178.533518\" y=\"152.878323\" style=\"fill: #0000ff; stroke: #0000ff; stroke-width: 0.5\"/>\n     <use xlink:href=\"#md5a40abff2\" x=\"277.642813\" y=\"137.679377\" style=\"fill: #0000ff; stroke: #0000ff; stroke-width: 0.5\"/>\n     <use xlink:href=\"#md5a40abff2\" x=\"166.167807\" y=\"154.10289\" style=\"fill: #0000ff; stroke: #0000ff; stroke-width: 0.5\"/>\n     <use xlink:href=\"#md5a40abff2\" x=\"152.198388\" y=\"168.820172\" style=\"fill: #0000ff; stroke: #0000ff; stroke-width: 0.5\"/>\n     <use xlink:href=\"#md5a40abff2\" x=\"194.952619\" y=\"143.485782\" style=\"fill: #0000ff; stroke: #0000ff; stroke-width: 0.5\"/>\n     <use xlink:href=\"#md5a40abff2\" x=\"272.515538\" y=\"110.345734\" style=\"fill: #0000ff; stroke: #0000ff; stroke-width: 0.5\"/>\n     <use xlink:href=\"#md5a40abff2\" x=\"214.860377\" y=\"157.422581\" style=\"fill: #0000ff; stroke: #0000ff; stroke-width: 0.5\"/>\n     <use xlink:href=\"#md5a40abff2\" x=\"169.014985\" y=\"207.271819\" style=\"fill: #0000ff; stroke: #0000ff; stroke-width: 0.5\"/>\n     <use xlink:href=\"#md5a40abff2\" x=\"248.481912\" y=\"176.501307\" style=\"fill: #0000ff; stroke: #0000ff; stroke-width: 0.5\"/>\n    </g>\n   </g>\n   <g id=\"PathCollection_4\">\n    <defs>\n     <path id=\"m2973ac4783\" d=\"M 0 3 \nC 0.795609 3 1.55874 2.683901 2.12132 2.12132 \nC 2.683901 1.55874 3 0.795609 3 0 \nC 3 -0.795609 2.683901 -1.55874 2.12132 -2.12132 \nC 1.55874 -2.683901 0.795609 -3 0 -3 \nC -0.795609 -3 -1.55874 -2.683901 -2.12132 -2.12132 \nC -2.683901 -1.55874 -3 -0.795609 -3 0 \nC -3 0.795609 -2.683901 1.55874 -2.12132 2.12132 \nC -1.55874 2.683901 -0.795609 3 0 3 \nz\n\" style=\"stroke: #000000; stroke-width: 0.5\"/>\n    </defs>\n    <g clip-path=\"url(#pdfce174dea)\">\n     <use xlink:href=\"#m2973ac4783\" x=\"577.192301\" y=\"228.407266\" style=\"stroke: #000000; stroke-width: 0.5\"/>\n     <use xlink:href=\"#m2973ac4783\" x=\"418.848681\" y=\"249.881781\" style=\"stroke: #000000; stroke-width: 0.5\"/>\n     <use xlink:href=\"#m2973ac4783\" x=\"260.50506\" y=\"271.356295\" style=\"stroke: #000000; stroke-width: 0.5\"/>\n     <use xlink:href=\"#m2973ac4783\" x=\"102.16144\" y=\"292.83081\" style=\"stroke: #000000; stroke-width: 0.5\"/>\n    </g>\n   </g>\n   <g id=\"line2d_33\">\n    <path d=\"M 577.192301 228.407266 \nL 418.848681 249.881781 \nL 260.50506 271.356295 \nL 102.16144 292.83081 \n\" clip-path=\"url(#pdfce174dea)\" style=\"fill: none; stroke: #000000; stroke-width: 1.5; stroke-linecap: square\"/>\n   </g>\n   <g id=\"patch_3\">\n    <path d=\"M 44.555937 467.66175 \nL 44.555937 24.14175 \n\" style=\"fill: none; stroke: #ffffff; stroke-linejoin: miter; stroke-linecap: square\"/>\n   </g>\n   <g id=\"patch_4\">\n    <path d=\"M 602.555938 467.66175 \nL 602.555938 24.14175 \n\" style=\"fill: none; stroke: #ffffff; stroke-linejoin: miter; stroke-linecap: square\"/>\n   </g>\n   <g id=\"patch_5\">\n    <path d=\"M 44.555937 467.66175 \nL 602.555938 467.66175 \n\" style=\"fill: none; stroke: #ffffff; stroke-linejoin: miter; stroke-linecap: square\"/>\n   </g>\n   <g id=\"patch_6\">\n    <path d=\"M 44.555937 24.14175 \nL 602.555938 24.14175 \n\" style=\"fill: none; stroke: #ffffff; stroke-linejoin: miter; stroke-linecap: square\"/>\n   </g>\n   <g id=\"text_19\">\n    <!-- 0 -->\n    <g transform=\"translate(337.053813 372.884986) scale(0.08 -0.08)\">\n     <use xlink:href=\"#DejaVuSans-30\"/>\n    </g>\n   </g>\n   <g id=\"text_20\">\n    <!-- 0 -->\n    <g transform=\"translate(388.279086 319.668225) scale(0.08 -0.08)\">\n     <use xlink:href=\"#DejaVuSans-30\"/>\n    </g>\n   </g>\n   <g id=\"text_21\">\n    <!-- 0 -->\n    <g transform=\"translate(380.987382 347.722561) scale(0.08 -0.08)\">\n     <use xlink:href=\"#DejaVuSans-30\"/>\n    </g>\n   </g>\n   <g id=\"text_22\">\n    <!-- 0 -->\n    <g transform=\"translate(391.738641 334.912168) scale(0.08 -0.08)\">\n     <use xlink:href=\"#DejaVuSans-30\"/>\n    </g>\n   </g>\n   <g id=\"text_23\">\n    <!-- 0 -->\n    <g transform=\"translate(333.516708 385.682887) scale(0.08 -0.08)\">\n     <use xlink:href=\"#DejaVuSans-30\"/>\n    </g>\n   </g>\n   <g id=\"text_24\">\n    <!-- 0 -->\n    <g transform=\"translate(281.049559 399.685379) scale(0.08 -0.08)\">\n     <use xlink:href=\"#DejaVuSans-30\"/>\n    </g>\n   </g>\n   <g id=\"text_25\">\n    <!-- 0 -->\n    <g transform=\"translate(367.090509 367.465923) scale(0.08 -0.08)\">\n     <use xlink:href=\"#DejaVuSans-30\"/>\n    </g>\n   </g>\n   <g id=\"text_26\">\n    <!-- 0 -->\n    <g transform=\"translate(348.734002 361.462975) scale(0.08 -0.08)\">\n     <use xlink:href=\"#DejaVuSans-30\"/>\n    </g>\n   </g>\n   <g id=\"text_27\">\n    <!-- 0 -->\n    <g transform=\"translate(418.351598 317.186342) scale(0.08 -0.08)\">\n     <use xlink:href=\"#DejaVuSans-30\"/>\n    </g>\n   </g>\n   <g id=\"text_28\">\n    <!-- 0 -->\n    <g transform=\"translate(381.634486 332.836495) scale(0.08 -0.08)\">\n     <use xlink:href=\"#DejaVuSans-30\"/>\n    </g>\n   </g>\n   <g id=\"text_29\">\n    <!-- 0 -->\n    <g transform=\"translate(305.166757 388.706125) scale(0.08 -0.08)\">\n     <use xlink:href=\"#DejaVuSans-30\"/>\n    </g>\n   </g>\n   <g id=\"text_30\">\n    <!-- 0 -->\n    <g transform=\"translate(357.412448 363.296885) scale(0.08 -0.08)\">\n     <use xlink:href=\"#DejaVuSans-30\"/>\n    </g>\n   </g>\n   <g id=\"text_31\">\n    <!-- 0 -->\n    <g transform=\"translate(395.659704 324.938249) scale(0.08 -0.08)\">\n     <use xlink:href=\"#DejaVuSans-30\"/>\n    </g>\n   </g>\n   <g id=\"text_32\">\n    <!-- 0 -->\n    <g transform=\"translate(421.078986 338.868538) scale(0.08 -0.08)\">\n     <use xlink:href=\"#DejaVuSans-30\"/>\n    </g>\n   </g>\n   <g id=\"text_33\">\n    <!-- 0 -->\n    <g transform=\"translate(263.659119 422.035927) scale(0.08 -0.08)\">\n     <use xlink:href=\"#DejaVuSans-30\"/>\n    </g>\n   </g>\n   <g id=\"text_34\">\n    <!-- 0 -->\n    <g transform=\"translate(229.047847 453.50175) scale(0.08 -0.08)\">\n     <use xlink:href=\"#DejaVuSans-30\"/>\n    </g>\n   </g>\n   <g id=\"text_35\">\n    <!-- 0 -->\n    <g transform=\"translate(285.358322 406.963453) scale(0.08 -0.08)\">\n     <use xlink:href=\"#DejaVuSans-30\"/>\n    </g>\n   </g>\n   <g id=\"text_36\">\n    <!-- 0 -->\n    <g transform=\"translate(334.371026 369.105824) scale(0.08 -0.08)\">\n     <use xlink:href=\"#DejaVuSans-30\"/>\n    </g>\n   </g>\n   <g id=\"text_37\">\n    <!-- 0 -->\n    <g transform=\"translate(276.660349 388.258112) scale(0.08 -0.08)\">\n     <use xlink:href=\"#DejaVuSans-30\"/>\n    </g>\n   </g>\n   <g id=\"text_38\">\n    <!-- 0 -->\n    <g transform=\"translate(308.015196 401.265522) scale(0.08 -0.08)\">\n     <use xlink:href=\"#DejaVuSans-30\"/>\n    </g>\n   </g>\n   <g id=\"text_39\">\n    <!-- 0 -->\n    <g transform=\"translate(327.165951 352.130318) scale(0.08 -0.08)\">\n     <use xlink:href=\"#DejaVuSans-30\"/>\n    </g>\n   </g>\n   <g id=\"text_40\">\n    <!-- 0 -->\n    <g transform=\"translate(313.492319 386.380182) scale(0.08 -0.08)\">\n     <use xlink:href=\"#DejaVuSans-30\"/>\n    </g>\n   </g>\n   <g id=\"text_41\">\n    <!-- 0 -->\n    <g transform=\"translate(357.378475 400.317958) scale(0.08 -0.08)\">\n     <use xlink:href=\"#DejaVuSans-30\"/>\n    </g>\n   </g>\n   <g id=\"text_42\">\n    <!-- 0 -->\n    <g transform=\"translate(341.530319 333.920549) scale(0.08 -0.08)\">\n     <use xlink:href=\"#DejaVuSans-30\"/>\n    </g>\n   </g>\n   <g id=\"text_43\">\n    <!-- 0 -->\n    <g transform=\"translate(354.858561 358.203626) scale(0.08 -0.08)\">\n     <use xlink:href=\"#DejaVuSans-30\"/>\n    </g>\n   </g>\n   <g id=\"text_44\">\n    <!-- 0 -->\n    <g transform=\"translate(381.784488 314.448434) scale(0.08 -0.08)\">\n     <use xlink:href=\"#DejaVuSans-30\"/>\n    </g>\n   </g>\n   <g id=\"text_45\">\n    <!-- 0 -->\n    <g transform=\"translate(342.15569 351.782991) scale(0.08 -0.08)\">\n     <use xlink:href=\"#DejaVuSans-30\"/>\n    </g>\n   </g>\n   <g id=\"text_46\">\n    <!-- 0 -->\n    <g transform=\"translate(331.075374 369.769868) scale(0.08 -0.08)\">\n     <use xlink:href=\"#DejaVuSans-30\"/>\n    </g>\n   </g>\n   <g id=\"text_47\">\n    <!-- 0 -->\n    <g transform=\"translate(340.446557 360.397052) scale(0.08 -0.08)\">\n     <use xlink:href=\"#DejaVuSans-30\"/>\n    </g>\n   </g>\n   <g id=\"text_48\">\n    <!-- 0 -->\n    <g transform=\"translate(377.67969 342.61058) scale(0.08 -0.08)\">\n     <use xlink:href=\"#DejaVuSans-30\"/>\n    </g>\n   </g>\n   <g id=\"text_49\">\n    <!-- 0 -->\n    <g transform=\"translate(381.1925 329.439969) scale(0.08 -0.08)\">\n     <use xlink:href=\"#DejaVuSans-30\"/>\n    </g>\n   </g>\n   <g id=\"text_50\">\n    <!-- 0 -->\n    <g transform=\"translate(323.493972 348.033384) scale(0.08 -0.08)\">\n     <use xlink:href=\"#DejaVuSans-30\"/>\n    </g>\n   </g>\n   <g id=\"text_51\">\n    <!-- 0 -->\n    <g transform=\"translate(285.049771 440.316532) scale(0.08 -0.08)\">\n     <use xlink:href=\"#DejaVuSans-30\"/>\n    </g>\n   </g>\n   <g id=\"text_52\">\n    <!-- 0 -->\n    <g transform=\"translate(261.546494 443.805448) scale(0.08 -0.08)\">\n     <use xlink:href=\"#DejaVuSans-30\"/>\n    </g>\n   </g>\n   <g id=\"text_53\">\n    <!-- 0 -->\n    <g transform=\"translate(378.021891 329.350147) scale(0.08 -0.08)\">\n     <use xlink:href=\"#DejaVuSans-30\"/>\n    </g>\n   </g>\n   <g id=\"text_54\">\n    <!-- 0 -->\n    <g transform=\"translate(369.081552 344.238865) scale(0.08 -0.08)\">\n     <use xlink:href=\"#DejaVuSans-30\"/>\n    </g>\n   </g>\n   <g id=\"text_55\">\n    <!-- 0 -->\n    <g transform=\"translate(316.719076 370.299942) scale(0.08 -0.08)\">\n     <use xlink:href=\"#DejaVuSans-30\"/>\n    </g>\n   </g>\n   <g id=\"text_56\">\n    <!-- 0 -->\n    <g transform=\"translate(340.973982 391.212748) scale(0.08 -0.08)\">\n     <use xlink:href=\"#DejaVuSans-30\"/>\n    </g>\n   </g>\n   <g id=\"text_57\">\n    <!-- 0 -->\n    <g transform=\"translate(411.795839 329.999277) scale(0.08 -0.08)\">\n     <use xlink:href=\"#DejaVuSans-30\"/>\n    </g>\n   </g>\n   <g id=\"text_58\">\n    <!-- 0 -->\n    <g transform=\"translate(344.186918 359.922012) scale(0.08 -0.08)\">\n     <use xlink:href=\"#DejaVuSans-30\"/>\n    </g>\n   </g>\n   <g id=\"text_59\">\n    <!-- 0 -->\n    <g transform=\"translate(340.252155 372.638692) scale(0.08 -0.08)\">\n     <use xlink:href=\"#DejaVuSans-30\"/>\n    </g>\n   </g>\n   <g id=\"text_60\">\n    <!-- 0 -->\n    <g transform=\"translate(462.644153 247.738113) scale(0.08 -0.08)\">\n     <use xlink:href=\"#DejaVuSans-30\"/>\n    </g>\n   </g>\n   <g id=\"text_61\">\n    <!-- 0 -->\n    <g transform=\"translate(396.209591 353.208471) scale(0.08 -0.08)\">\n     <use xlink:href=\"#DejaVuSans-30\"/>\n    </g>\n   </g>\n   <g id=\"text_62\">\n    <!-- 0 -->\n    <g transform=\"translate(324.845582 357.335817) scale(0.08 -0.08)\">\n     <use xlink:href=\"#DejaVuSans-30\"/>\n    </g>\n   </g>\n   <g id=\"text_63\">\n    <!-- 0 -->\n    <g transform=\"translate(298.222525 391.36245) scale(0.08 -0.08)\">\n     <use xlink:href=\"#DejaVuSans-30\"/>\n    </g>\n   </g>\n   <g id=\"text_64\">\n    <!-- 0 -->\n    <g transform=\"translate(389.510963 317.662665) scale(0.08 -0.08)\">\n     <use xlink:href=\"#DejaVuSans-30\"/>\n    </g>\n   </g>\n   <g id=\"text_65\">\n    <!-- 0 -->\n    <g transform=\"translate(310.073667 403.348319) scale(0.08 -0.08)\">\n     <use xlink:href=\"#DejaVuSans-30\"/>\n    </g>\n   </g>\n   <g id=\"text_66\">\n    <!-- 0 -->\n    <g transform=\"translate(384.787415 347.865303) scale(0.08 -0.08)\">\n     <use xlink:href=\"#DejaVuSans-30\"/>\n    </g>\n   </g>\n   <g id=\"text_67\">\n    <!-- 0 -->\n    <g transform=\"translate(310.240293 390.217883) scale(0.08 -0.08)\">\n     <use xlink:href=\"#DejaVuSans-30\"/>\n    </g>\n   </g>\n   <g id=\"text_68\">\n    <!-- 0 -->\n    <g transform=\"translate(358.439245 351.566822) scale(0.08 -0.08)\">\n     <use xlink:href=\"#DejaVuSans-30\"/>\n    </g>\n   </g>\n   <g id=\"text_69\">\n    <!-- 1 -->\n    <g transform=\"translate(197.515179 217.84052) scale(0.08 -0.08)\">\n     <use xlink:href=\"#DejaVuSans-31\"/>\n    </g>\n   </g>\n   <g id=\"text_70\">\n    <!-- 1 -->\n    <g transform=\"translate(229.849622 219.749782) scale(0.08 -0.08)\">\n     <use xlink:href=\"#DejaVuSans-31\"/>\n    </g>\n   </g>\n   <g id=\"text_71\">\n    <!-- 1 -->\n    <g transform=\"translate(207.769198 196.793611) scale(0.08 -0.08)\">\n     <use xlink:href=\"#DejaVuSans-31\"/>\n    </g>\n   </g>\n   <g id=\"text_72\">\n    <!-- 1 -->\n    <g transform=\"translate(356.815344 149.915897) scale(0.08 -0.08)\">\n     <use xlink:href=\"#DejaVuSans-31\"/>\n    </g>\n   </g>\n   <g id=\"text_73\">\n    <!-- 1 -->\n    <g transform=\"translate(257.766875 168.550697) scale(0.08 -0.08)\">\n     <use xlink:href=\"#DejaVuSans-31\"/>\n    </g>\n   </g>\n   <g id=\"text_74\">\n    <!-- 1 -->\n    <g transform=\"translate(300.995397 192.885382) scale(0.08 -0.08)\">\n     <use xlink:href=\"#DejaVuSans-31\"/>\n    </g>\n   </g>\n   <g id=\"text_75\">\n    <!-- 1 -->\n    <g transform=\"translate(220.378033 226.333798) scale(0.08 -0.08)\">\n     <use xlink:href=\"#DejaVuSans-31\"/>\n    </g>\n   </g>\n   <g id=\"text_76\">\n    <!-- 1 -->\n    <g transform=\"translate(392.627037 193.669898) scale(0.08 -0.08)\">\n     <use xlink:href=\"#DejaVuSans-31\"/>\n    </g>\n   </g>\n   <g id=\"text_77\">\n    <!-- 1 -->\n    <g transform=\"translate(246.524354 191.494597) scale(0.08 -0.08)\">\n     <use xlink:href=\"#DejaVuSans-31\"/>\n    </g>\n   </g>\n   <g id=\"text_78\">\n    <!-- 1 -->\n    <g transform=\"translate(338.329403 196.438328) scale(0.08 -0.08)\">\n     <use xlink:href=\"#DejaVuSans-31\"/>\n    </g>\n   </g>\n   <g id=\"text_79\">\n    <!-- 1 -->\n    <g transform=\"translate(418.897468 144.313903) scale(0.08 -0.08)\">\n     <use xlink:href=\"#DejaVuSans-31\"/>\n    </g>\n   </g>\n   <g id=\"text_80\">\n    <!-- 1 -->\n    <g transform=\"translate(271.798559 211.352965) scale(0.08 -0.08)\">\n     <use xlink:href=\"#DejaVuSans-31\"/>\n    </g>\n   </g>\n   <g id=\"text_81\">\n    <!-- 1 -->\n    <g transform=\"translate(359.234952 130.791498) scale(0.08 -0.08)\">\n     <use xlink:href=\"#DejaVuSans-31\"/>\n    </g>\n   </g>\n   <g id=\"text_82\">\n    <!-- 1 -->\n    <g transform=\"translate(269.782853 189.928992) scale(0.08 -0.08)\">\n     <use xlink:href=\"#DejaVuSans-31\"/>\n    </g>\n   </g>\n   <g id=\"text_83\">\n    <!-- 1 -->\n    <g transform=\"translate(307.302121 221.986435) scale(0.08 -0.08)\">\n     <use xlink:href=\"#DejaVuSans-31\"/>\n    </g>\n   </g>\n   <g id=\"text_84\">\n    <!-- 1 -->\n    <g transform=\"translate(225.380714 211.429083) scale(0.08 -0.08)\">\n     <use xlink:href=\"#DejaVuSans-31\"/>\n    </g>\n   </g>\n   <g id=\"text_85\">\n    <!-- 1 -->\n    <g transform=\"translate(281.554212 213.308462) scale(0.08 -0.08)\">\n     <use xlink:href=\"#DejaVuSans-31\"/>\n    </g>\n   </g>\n   <g id=\"text_86\">\n    <!-- 1 -->\n    <g transform=\"translate(320.123628 197.61257) scale(0.08 -0.08)\">\n     <use xlink:href=\"#DejaVuSans-31\"/>\n    </g>\n   </g>\n   <g id=\"text_87\">\n    <!-- 1 -->\n    <g transform=\"translate(326.802664 105.019242) scale(0.08 -0.08)\">\n     <use xlink:href=\"#DejaVuSans-31\"/>\n    </g>\n   </g>\n   <g id=\"text_88\">\n    <!-- 1 -->\n    <g transform=\"translate(343.577304 178.719348) scale(0.08 -0.08)\">\n     <use xlink:href=\"#DejaVuSans-31\"/>\n    </g>\n   </g>\n   <g id=\"text_89\">\n    <!-- 1 -->\n    <g transform=\"translate(235.252772 218.772352) scale(0.08 -0.08)\">\n     <use xlink:href=\"#DejaVuSans-31\"/>\n    </g>\n   </g>\n   <g id=\"text_90\">\n    <!-- 1 -->\n    <g transform=\"translate(289.639828 193.69802) scale(0.08 -0.08)\">\n     <use xlink:href=\"#DejaVuSans-31\"/>\n    </g>\n   </g>\n   <g id=\"text_91\">\n    <!-- 1 -->\n    <g transform=\"translate(291.815483 130.887752) scale(0.08 -0.08)\">\n     <use xlink:href=\"#DejaVuSans-31\"/>\n    </g>\n   </g>\n   <g id=\"text_92\">\n    <!-- 1 -->\n    <g transform=\"translate(285.306312 184.687421) scale(0.08 -0.08)\">\n     <use xlink:href=\"#DejaVuSans-31\"/>\n    </g>\n   </g>\n   <g id=\"text_93\">\n    <!-- 1 -->\n    <g transform=\"translate(261.948373 197.431974) scale(0.08 -0.08)\">\n     <use xlink:href=\"#DejaVuSans-31\"/>\n    </g>\n   </g>\n   <g id=\"text_94\">\n    <!-- 1 -->\n    <g transform=\"translate(238.832313 201.435312) scale(0.08 -0.08)\">\n     <use xlink:href=\"#DejaVuSans-31\"/>\n    </g>\n   </g>\n   <g id=\"text_95\">\n    <!-- 1 -->\n    <g transform=\"translate(244.779551 156.823932) scale(0.08 -0.08)\">\n     <use xlink:href=\"#DejaVuSans-31\"/>\n    </g>\n   </g>\n   <g id=\"text_96\">\n    <!-- 1 -->\n    <g transform=\"translate(221.418928 174.62438) scale(0.08 -0.08)\">\n     <use xlink:href=\"#DejaVuSans-31\"/>\n    </g>\n   </g>\n   <g id=\"text_97\">\n    <!-- 1 -->\n    <g transform=\"translate(273.374459 191.551696) scale(0.08 -0.08)\">\n     <use xlink:href=\"#DejaVuSans-31\"/>\n    </g>\n   </g>\n   <g id=\"text_98\">\n    <!-- 1 -->\n    <g transform=\"translate(340.014771 199.310769) scale(0.08 -0.08)\">\n     <use xlink:href=\"#DejaVuSans-31\"/>\n    </g>\n   </g>\n   <g id=\"text_99\">\n    <!-- 1 -->\n    <g transform=\"translate(357.288166 171.521685) scale(0.08 -0.08)\">\n     <use xlink:href=\"#DejaVuSans-31\"/>\n    </g>\n   </g>\n   <g id=\"text_100\">\n    <!-- 1 -->\n    <g transform=\"translate(361.999084 176.501065) scale(0.08 -0.08)\">\n     <use xlink:href=\"#DejaVuSans-31\"/>\n    </g>\n   </g>\n   <g id=\"text_101\">\n    <!-- 1 -->\n    <g transform=\"translate(314.972754 193.882256) scale(0.08 -0.08)\">\n     <use xlink:href=\"#DejaVuSans-31\"/>\n    </g>\n   </g>\n   <g id=\"text_102\">\n    <!-- 1 -->\n    <g transform=\"translate(279.782412 156.071231) scale(0.08 -0.08)\">\n     <use xlink:href=\"#DejaVuSans-31\"/>\n    </g>\n   </g>\n   <g id=\"text_103\">\n    <!-- 1 -->\n    <g transform=\"translate(290.770203 218.009551) scale(0.08 -0.08)\">\n     <use xlink:href=\"#DejaVuSans-31\"/>\n    </g>\n   </g>\n   <g id=\"text_104\">\n    <!-- 1 -->\n    <g transform=\"translate(225.374938 247.905878) scale(0.08 -0.08)\">\n     <use xlink:href=\"#DejaVuSans-31\"/>\n    </g>\n   </g>\n   <g id=\"text_105\">\n    <!-- 1 -->\n    <g transform=\"translate(220.856433 200.991626) scale(0.08 -0.08)\">\n     <use xlink:href=\"#DejaVuSans-31\"/>\n    </g>\n   </g>\n   <g id=\"text_106\">\n    <!-- 1 -->\n    <g transform=\"translate(324.29556 119.872522) scale(0.08 -0.08)\">\n     <use xlink:href=\"#DejaVuSans-31\"/>\n    </g>\n   </g>\n   <g id=\"text_107\">\n    <!-- 1 -->\n    <g transform=\"translate(292.506928 225.254894) scale(0.08 -0.08)\">\n     <use xlink:href=\"#DejaVuSans-31\"/>\n    </g>\n   </g>\n   <g id=\"text_108\">\n    <!-- 1 -->\n    <g transform=\"translate(340.118238 171.628739) scale(0.08 -0.08)\">\n     <use xlink:href=\"#DejaVuSans-31\"/>\n    </g>\n   </g>\n   <g id=\"text_109\">\n    <!-- 1 -->\n    <g transform=\"translate(330.595427 179.025995) scale(0.08 -0.08)\">\n     <use xlink:href=\"#DejaVuSans-31\"/>\n    </g>\n   </g>\n   <g id=\"text_110\">\n    <!-- 1 -->\n    <g transform=\"translate(261.894763 204.161195) scale(0.08 -0.08)\">\n     <use xlink:href=\"#DejaVuSans-31\"/>\n    </g>\n   </g>\n   <g id=\"text_111\">\n    <!-- 1 -->\n    <g transform=\"translate(322.325699 180.507283) scale(0.08 -0.08)\">\n     <use xlink:href=\"#DejaVuSans-31\"/>\n    </g>\n   </g>\n   <g id=\"text_112\">\n    <!-- 1 -->\n    <g transform=\"translate(396.13609 181.171983) scale(0.08 -0.08)\">\n     <use xlink:href=\"#DejaVuSans-31\"/>\n    </g>\n   </g>\n   <g id=\"text_113\">\n    <!-- 1 -->\n    <g transform=\"translate(316.525942 188.633861) scale(0.08 -0.08)\">\n     <use xlink:href=\"#DejaVuSans-31\"/>\n    </g>\n   </g>\n   <g id=\"text_114\">\n    <!-- 1 -->\n    <g transform=\"translate(289.627439 225.408954) scale(0.08 -0.08)\">\n     <use xlink:href=\"#DejaVuSans-31\"/>\n    </g>\n   </g>\n   <g id=\"text_115\">\n    <!-- 1 -->\n    <g transform=\"translate(295.871141 209.523317) scale(0.08 -0.08)\">\n     <use xlink:href=\"#DejaVuSans-31\"/>\n    </g>\n   </g>\n   <g id=\"text_116\">\n    <!-- 1 -->\n    <g transform=\"translate(272.263001 199.255175) scale(0.08 -0.08)\">\n     <use xlink:href=\"#DejaVuSans-31\"/>\n    </g>\n   </g>\n   <g id=\"text_117\">\n    <!-- 1 -->\n    <g transform=\"translate(376.43828 202.998126) scale(0.08 -0.08)\">\n     <use xlink:href=\"#DejaVuSans-31\"/>\n    </g>\n   </g>\n   <g id=\"text_118\">\n    <!-- 1 -->\n    <g transform=\"translate(305.072057 200.135004) scale(0.08 -0.08)\">\n     <use xlink:href=\"#DejaVuSans-31\"/>\n    </g>\n   </g>\n   <g id=\"text_119\">\n    <!-- 2 -->\n    <g transform=\"translate(158.542611 187.137641) scale(0.08 -0.08)\">\n     <use xlink:href=\"#DejaVuSans-32\"/>\n    </g>\n   </g>\n   <g id=\"text_120\">\n    <!-- 2 -->\n    <g transform=\"translate(281.097813 143.679377) scale(0.08 -0.08)\">\n     <use xlink:href=\"#DejaVuSans-32\"/>\n    </g>\n   </g>\n   <g id=\"text_121\">\n    <!-- 2 -->\n    <g transform=\"translate(182.436802 133.597673) scale(0.08 -0.08)\">\n     <use xlink:href=\"#DejaVuSans-32\"/>\n    </g>\n   </g>\n   <g id=\"text_122\">\n    <!-- 2 -->\n    <g transform=\"translate(237.117221 155.711385) scale(0.08 -0.08)\">\n     <use xlink:href=\"#DejaVuSans-32\"/>\n    </g>\n   </g>\n   <g id=\"text_123\">\n    <!-- 2 -->\n    <g transform=\"translate(205.968103 145.302459) scale(0.08 -0.08)\">\n     <use xlink:href=\"#DejaVuSans-32\"/>\n    </g>\n   </g>\n   <g id=\"text_124\">\n    <!-- 2 -->\n    <g transform=\"translate(151.73169 107.491477) scale(0.08 -0.08)\">\n     <use xlink:href=\"#DejaVuSans-32\"/>\n    </g>\n   </g>\n   <g id=\"text_125\">\n    <!-- 2 -->\n    <g transform=\"translate(363.139249 147.502426) scale(0.08 -0.08)\">\n     <use xlink:href=\"#DejaVuSans-32\"/>\n    </g>\n   </g>\n   <g id=\"text_126\">\n    <!-- 2 -->\n    <g transform=\"translate(186.825895 112.429239) scale(0.08 -0.08)\">\n     <use xlink:href=\"#DejaVuSans-32\"/>\n    </g>\n   </g>\n   <g id=\"text_127\">\n    <!-- 2 -->\n    <g transform=\"translate(252.172257 96.721948) scale(0.08 -0.08)\">\n     <use xlink:href=\"#DejaVuSans-32\"/>\n    </g>\n   </g>\n   <g id=\"text_128\">\n    <!-- 2 -->\n    <g transform=\"translate(110.616545 186.809758) scale(0.08 -0.08)\">\n     <use xlink:href=\"#DejaVuSans-32\"/>\n    </g>\n   </g>\n   <g id=\"text_129\">\n    <!-- 2 -->\n    <g transform=\"translate(201.554811 188.606465) scale(0.08 -0.08)\">\n     <use xlink:href=\"#DejaVuSans-32\"/>\n    </g>\n   </g>\n   <g id=\"text_130\">\n    <!-- 2 -->\n    <g transform=\"translate(250.17477 133.881948) scale(0.08 -0.08)\">\n     <use xlink:href=\"#DejaVuSans-32\"/>\n    </g>\n   </g>\n   <g id=\"text_131\">\n    <!-- 2 -->\n    <g transform=\"translate(199.536879 150.053635) scale(0.08 -0.08)\">\n     <use xlink:href=\"#DejaVuSans-32\"/>\n    </g>\n   </g>\n   <g id=\"text_132\">\n    <!-- 2 -->\n    <g transform=\"translate(301.281747 119.240615) scale(0.08 -0.08)\">\n     <use xlink:href=\"#DejaVuSans-32\"/>\n    </g>\n   </g>\n   <g id=\"text_133\">\n    <!-- 2 -->\n    <g transform=\"translate(261.422513 117.403015) scale(0.08 -0.08)\">\n     <use xlink:href=\"#DejaVuSans-32\"/>\n    </g>\n   </g>\n   <g id=\"text_134\">\n    <!-- 2 -->\n    <g transform=\"translate(187.656142 182.140317) scale(0.08 -0.08)\">\n     <use xlink:href=\"#DejaVuSans-32\"/>\n    </g>\n   </g>\n   <g id=\"text_135\">\n    <!-- 2 -->\n    <g transform=\"translate(222.062747 165.5014) scale(0.08 -0.08)\">\n     <use xlink:href=\"#DejaVuSans-32\"/>\n    </g>\n   </g>\n   <g id=\"text_136\">\n    <!-- 2 -->\n    <g transform=\"translate(74.671759 200.263626) scale(0.08 -0.08)\">\n     <use xlink:href=\"#DejaVuSans-32\"/>\n    </g>\n   </g>\n   <g id=\"text_137\">\n    <!-- 2 -->\n    <g transform=\"translate(172.533817 50.30175) scale(0.08 -0.08)\">\n     <use xlink:href=\"#DejaVuSans-32\"/>\n    </g>\n   </g>\n   <g id=\"text_138\">\n    <!-- 2 -->\n    <g transform=\"translate(324.898659 101.927289) scale(0.08 -0.08)\">\n     <use xlink:href=\"#DejaVuSans-32\"/>\n    </g>\n   </g>\n   <g id=\"text_139\">\n    <!-- 2 -->\n    <g transform=\"translate(168.523116 160.12638) scale(0.08 -0.08)\">\n     <use xlink:href=\"#DejaVuSans-32\"/>\n    </g>\n   </g>\n   <g id=\"text_140\">\n    <!-- 2 -->\n    <g transform=\"translate(286.456583 151.165551) scale(0.08 -0.08)\">\n     <use xlink:href=\"#DejaVuSans-32\"/>\n    </g>\n   </g>\n   <g id=\"text_141\">\n    <!-- 2 -->\n    <g transform=\"translate(166.298878 80.268393) scale(0.08 -0.08)\">\n     <use xlink:href=\"#DejaVuSans-32\"/>\n    </g>\n   </g>\n   <g id=\"text_142\">\n    <!-- 2 -->\n    <g transform=\"translate(262.146663 145.71827) scale(0.08 -0.08)\">\n     <use xlink:href=\"#DejaVuSans-32\"/>\n    </g>\n   </g>\n   <g id=\"text_143\">\n    <!-- 2 -->\n    <g transform=\"translate(174.551033 183.98647) scale(0.08 -0.08)\">\n     <use xlink:href=\"#DejaVuSans-32\"/>\n    </g>\n   </g>\n   <g id=\"text_144\">\n    <!-- 2 -->\n    <g transform=\"translate(163.998857 163.950382) scale(0.08 -0.08)\">\n     <use xlink:href=\"#DejaVuSans-32\"/>\n    </g>\n   </g>\n   <g id=\"text_145\">\n    <!-- 2 -->\n    <g transform=\"translate(260.027566 159.743118) scale(0.08 -0.08)\">\n     <use xlink:href=\"#DejaVuSans-32\"/>\n    </g>\n   </g>\n   <g id=\"text_146\">\n    <!-- 2 -->\n    <g transform=\"translate(245.366295 182.855922) scale(0.08 -0.08)\">\n     <use xlink:href=\"#DejaVuSans-32\"/>\n    </g>\n   </g>\n   <g id=\"text_147\">\n    <!-- 2 -->\n    <g transform=\"translate(232.634798 131.698747) scale(0.08 -0.08)\">\n     <use xlink:href=\"#DejaVuSans-32\"/>\n    </g>\n   </g>\n   <g id=\"text_148\">\n    <!-- 2 -->\n    <g transform=\"translate(193.731964 136.760022) scale(0.08 -0.08)\">\n     <use xlink:href=\"#DejaVuSans-32\"/>\n    </g>\n   </g>\n   <g id=\"text_149\">\n    <!-- 2 -->\n    <g transform=\"translate(190.388807 100.070898) scale(0.08 -0.08)\">\n     <use xlink:href=\"#DejaVuSans-32\"/>\n    </g>\n   </g>\n   <g id=\"text_150\">\n    <!-- 2 -->\n    <g transform=\"translate(73.374574 211.914882) scale(0.08 -0.08)\">\n     <use xlink:href=\"#DejaVuSans-32\"/>\n    </g>\n   </g>\n   <g id=\"text_151\">\n    <!-- 2 -->\n    <g transform=\"translate(229.78993 126.988184) scale(0.08 -0.08)\">\n     <use xlink:href=\"#DejaVuSans-32\"/>\n    </g>\n   </g>\n   <g id=\"text_152\">\n    <!-- 2 -->\n    <g transform=\"translate(261.704265 164.552129) scale(0.08 -0.08)\">\n     <use xlink:href=\"#DejaVuSans-32\"/>\n    </g>\n   </g>\n   <g id=\"text_153\">\n    <!-- 2 -->\n    <g transform=\"translate(287.852203 135.795628) scale(0.08 -0.08)\">\n     <use xlink:href=\"#DejaVuSans-32\"/>\n    </g>\n   </g>\n   <g id=\"text_154\">\n    <!-- 2 -->\n    <g transform=\"translate(146.059924 107.967148) scale(0.08 -0.08)\">\n     <use xlink:href=\"#DejaVuSans-32\"/>\n    </g>\n   </g>\n   <g id=\"text_155\">\n    <!-- 2 -->\n    <g transform=\"translate(162.676511 204.789279) scale(0.08 -0.08)\">\n     <use xlink:href=\"#DejaVuSans-32\"/>\n    </g>\n   </g>\n   <g id=\"text_156\">\n    <!-- 2 -->\n    <g transform=\"translate(216.853156 179.366194) scale(0.08 -0.08)\">\n     <use xlink:href=\"#DejaVuSans-32\"/>\n    </g>\n   </g>\n   <g id=\"text_157\">\n    <!-- 2 -->\n    <g transform=\"translate(251.202964 186.550274) scale(0.08 -0.08)\">\n     <use xlink:href=\"#DejaVuSans-32\"/>\n    </g>\n   </g>\n   <g id=\"text_158\">\n    <!-- 2 -->\n    <g transform=\"translate(188.077216 159.952602) scale(0.08 -0.08)\">\n     <use xlink:href=\"#DejaVuSans-32\"/>\n    </g>\n   </g>\n   <g id=\"text_159\">\n    <!-- 2 -->\n    <g transform=\"translate(180.488819 152.866293) scale(0.08 -0.08)\">\n     <use xlink:href=\"#DejaVuSans-32\"/>\n    </g>\n   </g>\n   <g id=\"text_160\">\n    <!-- 2 -->\n    <g transform=\"translate(181.988518 158.878323) scale(0.08 -0.08)\">\n     <use xlink:href=\"#DejaVuSans-32\"/>\n    </g>\n   </g>\n   <g id=\"text_161\">\n    <!-- 2 -->\n    <g transform=\"translate(281.097813 143.679377) scale(0.08 -0.08)\">\n     <use xlink:href=\"#DejaVuSans-32\"/>\n    </g>\n   </g>\n   <g id=\"text_162\">\n    <!-- 2 -->\n    <g transform=\"translate(169.622807 160.10289) scale(0.08 -0.08)\">\n     <use xlink:href=\"#DejaVuSans-32\"/>\n    </g>\n   </g>\n   <g id=\"text_163\">\n    <!-- 2 -->\n    <g transform=\"translate(155.653388 174.820172) scale(0.08 -0.08)\">\n     <use xlink:href=\"#DejaVuSans-32\"/>\n    </g>\n   </g>\n   <g id=\"text_164\">\n    <!-- 2 -->\n    <g transform=\"translate(198.407619 149.485782) scale(0.08 -0.08)\">\n     <use xlink:href=\"#DejaVuSans-32\"/>\n    </g>\n   </g>\n   <g id=\"text_165\">\n    <!-- 2 -->\n    <g transform=\"translate(275.970538 116.345734) scale(0.08 -0.08)\">\n     <use xlink:href=\"#DejaVuSans-32\"/>\n    </g>\n   </g>\n   <g id=\"text_166\">\n    <!-- 2 -->\n    <g transform=\"translate(218.315377 163.422581) scale(0.08 -0.08)\">\n     <use xlink:href=\"#DejaVuSans-32\"/>\n    </g>\n   </g>\n   <g id=\"text_167\">\n    <!-- 2 -->\n    <g transform=\"translate(172.469985 213.271819) scale(0.08 -0.08)\">\n     <use xlink:href=\"#DejaVuSans-32\"/>\n    </g>\n   </g>\n   <g id=\"text_168\">\n    <!-- 2 -->\n    <g transform=\"translate(251.936912 182.501307) scale(0.08 -0.08)\">\n     <use xlink:href=\"#DejaVuSans-32\"/>\n    </g>\n   </g>\n   <g id=\"text_169\">\n    <!-- MDS of Iris Dataset -->\n    <g transform=\"translate(254.394312 18.14175) scale(0.144 -0.144)\">\n     <defs>\n      <path id=\"DejaVuSans-4d\" d=\"M 628 4666 \nL 1569 4666 \nL 2759 1491 \nL 3956 4666 \nL 4897 4666 \nL 4897 0 \nL 4281 0 \nL 4281 4097 \nL 3078 897 \nL 2444 897 \nL 1241 4097 \nL 1241 0 \nL 628 0 \nL 628 4666 \nz\n\" transform=\"scale(0.015625)\"/>\n      <path id=\"DejaVuSans-44\" d=\"M 1259 4147 \nL 1259 519 \nL 2022 519 \nQ 2988 519 3436 956 \nQ 3884 1394 3884 2338 \nQ 3884 3275 3436 3711 \nQ 2988 4147 2022 4147 \nL 1259 4147 \nz\nM 628 4666 \nL 1925 4666 \nQ 3281 4666 3915 4102 \nQ 4550 3538 4550 2338 \nQ 4550 1131 3912 565 \nQ 3275 0 1925 0 \nL 628 0 \nL 628 4666 \nz\n\" transform=\"scale(0.015625)\"/>\n      <path id=\"DejaVuSans-53\" d=\"M 3425 4513 \nL 3425 3897 \nQ 3066 4069 2747 4153 \nQ 2428 4238 2131 4238 \nQ 1616 4238 1336 4038 \nQ 1056 3838 1056 3469 \nQ 1056 3159 1242 3001 \nQ 1428 2844 1947 2747 \nL 2328 2669 \nQ 3034 2534 3370 2195 \nQ 3706 1856 3706 1288 \nQ 3706 609 3251 259 \nQ 2797 -91 1919 -91 \nQ 1588 -91 1214 -16 \nQ 841 59 441 206 \nL 441 856 \nQ 825 641 1194 531 \nQ 1563 422 1919 422 \nQ 2459 422 2753 634 \nQ 3047 847 3047 1241 \nQ 3047 1584 2836 1778 \nQ 2625 1972 2144 2069 \nL 1759 2144 \nQ 1053 2284 737 2584 \nQ 422 2884 422 3419 \nQ 422 4038 858 4394 \nQ 1294 4750 2059 4750 \nQ 2388 4750 2728 4690 \nQ 3069 4631 3425 4513 \nz\n\" transform=\"scale(0.015625)\"/>\n      <path id=\"DejaVuSans-20\" transform=\"scale(0.015625)\"/>\n      <path id=\"DejaVuSans-6f\" d=\"M 1959 3097 \nQ 1497 3097 1228 2736 \nQ 959 2375 959 1747 \nQ 959 1119 1226 758 \nQ 1494 397 1959 397 \nQ 2419 397 2687 759 \nQ 2956 1122 2956 1747 \nQ 2956 2369 2687 2733 \nQ 2419 3097 1959 3097 \nz\nM 1959 3584 \nQ 2709 3584 3137 3096 \nQ 3566 2609 3566 1747 \nQ 3566 888 3137 398 \nQ 2709 -91 1959 -91 \nQ 1206 -91 779 398 \nQ 353 888 353 1747 \nQ 353 2609 779 3096 \nQ 1206 3584 1959 3584 \nz\n\" transform=\"scale(0.015625)\"/>\n      <path id=\"DejaVuSans-66\" d=\"M 2375 4863 \nL 2375 4384 \nL 1825 4384 \nQ 1516 4384 1395 4259 \nQ 1275 4134 1275 3809 \nL 1275 3500 \nL 2222 3500 \nL 2222 3053 \nL 1275 3053 \nL 1275 0 \nL 697 0 \nL 697 3053 \nL 147 3053 \nL 147 3500 \nL 697 3500 \nL 697 3744 \nQ 697 4328 969 4595 \nQ 1241 4863 1831 4863 \nL 2375 4863 \nz\n\" transform=\"scale(0.015625)\"/>\n      <path id=\"DejaVuSans-49\" d=\"M 628 4666 \nL 1259 4666 \nL 1259 0 \nL 628 0 \nL 628 4666 \nz\n\" transform=\"scale(0.015625)\"/>\n      <path id=\"DejaVuSans-72\" d=\"M 2631 2963 \nQ 2534 3019 2420 3045 \nQ 2306 3072 2169 3072 \nQ 1681 3072 1420 2755 \nQ 1159 2438 1159 1844 \nL 1159 0 \nL 581 0 \nL 581 3500 \nL 1159 3500 \nL 1159 2956 \nQ 1341 3275 1631 3429 \nQ 1922 3584 2338 3584 \nQ 2397 3584 2469 3576 \nQ 2541 3569 2628 3553 \nL 2631 2963 \nz\n\" transform=\"scale(0.015625)\"/>\n      <path id=\"DejaVuSans-69\" d=\"M 603 3500 \nL 1178 3500 \nL 1178 0 \nL 603 0 \nL 603 3500 \nz\nM 603 4863 \nL 1178 4863 \nL 1178 4134 \nL 603 4134 \nL 603 4863 \nz\n\" transform=\"scale(0.015625)\"/>\n      <path id=\"DejaVuSans-73\" d=\"M 2834 3397 \nL 2834 2853 \nQ 2591 2978 2328 3040 \nQ 2066 3103 1784 3103 \nQ 1356 3103 1142 2972 \nQ 928 2841 928 2578 \nQ 928 2378 1081 2264 \nQ 1234 2150 1697 2047 \nL 1894 2003 \nQ 2506 1872 2764 1633 \nQ 3022 1394 3022 966 \nQ 3022 478 2636 193 \nQ 2250 -91 1575 -91 \nQ 1294 -91 989 -36 \nQ 684 19 347 128 \nL 347 722 \nQ 666 556 975 473 \nQ 1284 391 1588 391 \nQ 1994 391 2212 530 \nQ 2431 669 2431 922 \nQ 2431 1156 2273 1281 \nQ 2116 1406 1581 1522 \nL 1381 1569 \nQ 847 1681 609 1914 \nQ 372 2147 372 2553 \nQ 372 3047 722 3315 \nQ 1072 3584 1716 3584 \nQ 2034 3584 2315 3537 \nQ 2597 3491 2834 3397 \nz\n\" transform=\"scale(0.015625)\"/>\n      <path id=\"DejaVuSans-61\" d=\"M 2194 1759 \nQ 1497 1759 1228 1600 \nQ 959 1441 959 1056 \nQ 959 750 1161 570 \nQ 1363 391 1709 391 \nQ 2188 391 2477 730 \nQ 2766 1069 2766 1631 \nL 2766 1759 \nL 2194 1759 \nz\nM 3341 1997 \nL 3341 0 \nL 2766 0 \nL 2766 531 \nQ 2569 213 2275 61 \nQ 1981 -91 1556 -91 \nQ 1019 -91 701 211 \nQ 384 513 384 1019 \nQ 384 1609 779 1909 \nQ 1175 2209 1959 2209 \nL 2766 2209 \nL 2766 2266 \nQ 2766 2663 2505 2880 \nQ 2244 3097 1772 3097 \nQ 1472 3097 1187 3025 \nQ 903 2953 641 2809 \nL 641 3341 \nQ 956 3463 1253 3523 \nQ 1550 3584 1831 3584 \nQ 2591 3584 2966 3190 \nQ 3341 2797 3341 1997 \nz\n\" transform=\"scale(0.015625)\"/>\n      <path id=\"DejaVuSans-74\" d=\"M 1172 4494 \nL 1172 3500 \nL 2356 3500 \nL 2356 3053 \nL 1172 3053 \nL 1172 1153 \nQ 1172 725 1289 603 \nQ 1406 481 1766 481 \nL 2356 481 \nL 2356 0 \nL 1766 0 \nQ 1100 0 847 248 \nQ 594 497 594 1153 \nL 594 3053 \nL 172 3053 \nL 172 3500 \nL 594 3500 \nL 594 4494 \nL 1172 4494 \nz\n\" transform=\"scale(0.015625)\"/>\n      <path id=\"DejaVuSans-65\" d=\"M 3597 1894 \nL 3597 1613 \nL 953 1613 \nQ 991 1019 1311 708 \nQ 1631 397 2203 397 \nQ 2534 397 2845 478 \nQ 3156 559 3463 722 \nL 3463 178 \nQ 3153 47 2828 -22 \nQ 2503 -91 2169 -91 \nQ 1331 -91 842 396 \nQ 353 884 353 1716 \nQ 353 2575 817 3079 \nQ 1281 3584 2069 3584 \nQ 2775 3584 3186 3129 \nQ 3597 2675 3597 1894 \nz\nM 3022 2063 \nQ 3016 2534 2758 2815 \nQ 2500 3097 2075 3097 \nQ 1594 3097 1305 2825 \nQ 1016 2553 972 2059 \nL 3022 2063 \nz\n\" transform=\"scale(0.015625)\"/>\n     </defs>\n     <use xlink:href=\"#DejaVuSans-4d\"/>\n     <use xlink:href=\"#DejaVuSans-44\" x=\"86.279297\"/>\n     <use xlink:href=\"#DejaVuSans-53\" x=\"163.28125\"/>\n     <use xlink:href=\"#DejaVuSans-20\" x=\"226.757812\"/>\n     <use xlink:href=\"#DejaVuSans-6f\" x=\"258.544922\"/>\n     <use xlink:href=\"#DejaVuSans-66\" x=\"319.726562\"/>\n     <use xlink:href=\"#DejaVuSans-20\" x=\"354.931641\"/>\n     <use xlink:href=\"#DejaVuSans-49\" x=\"386.71875\"/>\n     <use xlink:href=\"#DejaVuSans-72\" x=\"416.210938\"/>\n     <use xlink:href=\"#DejaVuSans-69\" x=\"457.324219\"/>\n     <use xlink:href=\"#DejaVuSans-73\" x=\"485.107422\"/>\n     <use xlink:href=\"#DejaVuSans-20\" x=\"537.207031\"/>\n     <use xlink:href=\"#DejaVuSans-44\" x=\"568.994141\"/>\n     <use xlink:href=\"#DejaVuSans-61\" x=\"645.996094\"/>\n     <use xlink:href=\"#DejaVuSans-74\" x=\"707.275391\"/>\n     <use xlink:href=\"#DejaVuSans-61\" x=\"746.484375\"/>\n     <use xlink:href=\"#DejaVuSans-73\" x=\"807.763672\"/>\n     <use xlink:href=\"#DejaVuSans-65\" x=\"859.863281\"/>\n     <use xlink:href=\"#DejaVuSans-74\" x=\"921.386719\"/>\n    </g>\n   </g>\n   <g id=\"legend_1\">\n    <g id=\"patch_7\">\n     <path d=\"M 509.505937 90.85425 \nL 595.555938 90.85425 \nQ 597.555938 90.85425 597.555938 88.85425 \nL 597.555938 31.14175 \nQ 597.555938 29.14175 595.555938 29.14175 \nL 509.505937 29.14175 \nQ 507.505937 29.14175 507.505937 31.14175 \nL 507.505937 88.85425 \nQ 507.505937 90.85425 509.505937 90.85425 \nz\n\" style=\"fill: #e5e5e5; opacity: 0.8; stroke: #cccccc; stroke-width: 0.5; stroke-linejoin: miter\"/>\n    </g>\n    <g id=\"PathCollection_5\">\n     <g>\n      <use xlink:href=\"#m707059743c\" x=\"521.505937\" y=\"38.115187\" style=\"fill: #ff0000; stroke: #ff0000; stroke-width: 0.5\"/>\n     </g>\n    </g>\n    <g id=\"text_170\">\n     <!-- setosa -->\n     <g transform=\"translate(539.505937 40.740187) scale(0.1 -0.1)\">\n      <use xlink:href=\"#DejaVuSans-73\"/>\n      <use xlink:href=\"#DejaVuSans-65\" x=\"52.099609\"/>\n      <use xlink:href=\"#DejaVuSans-74\" x=\"113.623047\"/>\n      <use xlink:href=\"#DejaVuSans-6f\" x=\"152.832031\"/>\n      <use xlink:href=\"#DejaVuSans-73\" x=\"214.013672\"/>\n      <use xlink:href=\"#DejaVuSans-61\" x=\"266.113281\"/>\n     </g>\n    </g>\n    <g id=\"PathCollection_6\">\n     <g>\n      <use xlink:href=\"#maf31756718\" x=\"521.505937\" y=\"52.793312\" style=\"fill: #008000; stroke: #008000; stroke-width: 0.5\"/>\n     </g>\n    </g>\n    <g id=\"text_171\">\n     <!-- versicolor -->\n     <g transform=\"translate(539.505937 55.418312) scale(0.1 -0.1)\">\n      <defs>\n       <path id=\"DejaVuSans-76\" d=\"M 191 3500 \nL 800 3500 \nL 1894 563 \nL 2988 3500 \nL 3597 3500 \nL 2284 0 \nL 1503 0 \nL 191 3500 \nz\n\" transform=\"scale(0.015625)\"/>\n       <path id=\"DejaVuSans-63\" d=\"M 3122 3366 \nL 3122 2828 \nQ 2878 2963 2633 3030 \nQ 2388 3097 2138 3097 \nQ 1578 3097 1268 2742 \nQ 959 2388 959 1747 \nQ 959 1106 1268 751 \nQ 1578 397 2138 397 \nQ 2388 397 2633 464 \nQ 2878 531 3122 666 \nL 3122 134 \nQ 2881 22 2623 -34 \nQ 2366 -91 2075 -91 \nQ 1284 -91 818 406 \nQ 353 903 353 1747 \nQ 353 2603 823 3093 \nQ 1294 3584 2113 3584 \nQ 2378 3584 2631 3529 \nQ 2884 3475 3122 3366 \nz\n\" transform=\"scale(0.015625)\"/>\n       <path id=\"DejaVuSans-6c\" d=\"M 603 4863 \nL 1178 4863 \nL 1178 0 \nL 603 0 \nL 603 4863 \nz\n\" transform=\"scale(0.015625)\"/>\n      </defs>\n      <use xlink:href=\"#DejaVuSans-76\"/>\n      <use xlink:href=\"#DejaVuSans-65\" x=\"59.179688\"/>\n      <use xlink:href=\"#DejaVuSans-72\" x=\"120.703125\"/>\n      <use xlink:href=\"#DejaVuSans-73\" x=\"161.816406\"/>\n      <use xlink:href=\"#DejaVuSans-69\" x=\"213.916016\"/>\n      <use xlink:href=\"#DejaVuSans-63\" x=\"241.699219\"/>\n      <use xlink:href=\"#DejaVuSans-6f\" x=\"296.679688\"/>\n      <use xlink:href=\"#DejaVuSans-6c\" x=\"357.861328\"/>\n      <use xlink:href=\"#DejaVuSans-6f\" x=\"385.644531\"/>\n      <use xlink:href=\"#DejaVuSans-72\" x=\"446.826172\"/>\n     </g>\n    </g>\n    <g id=\"PathCollection_7\">\n     <g>\n      <use xlink:href=\"#md5a40abff2\" x=\"521.505937\" y=\"67.471437\" style=\"fill: #0000ff; stroke: #0000ff; stroke-width: 0.5\"/>\n     </g>\n    </g>\n    <g id=\"text_172\">\n     <!-- virginica -->\n     <g transform=\"translate(539.505937 70.096437) scale(0.1 -0.1)\">\n      <defs>\n       <path id=\"DejaVuSans-67\" d=\"M 2906 1791 \nQ 2906 2416 2648 2759 \nQ 2391 3103 1925 3103 \nQ 1463 3103 1205 2759 \nQ 947 2416 947 1791 \nQ 947 1169 1205 825 \nQ 1463 481 1925 481 \nQ 2391 481 2648 825 \nQ 2906 1169 2906 1791 \nz\nM 3481 434 \nQ 3481 -459 3084 -895 \nQ 2688 -1331 1869 -1331 \nQ 1566 -1331 1297 -1286 \nQ 1028 -1241 775 -1147 \nL 775 -588 \nQ 1028 -725 1275 -790 \nQ 1522 -856 1778 -856 \nQ 2344 -856 2625 -561 \nQ 2906 -266 2906 331 \nL 2906 616 \nQ 2728 306 2450 153 \nQ 2172 0 1784 0 \nQ 1141 0 747 490 \nQ 353 981 353 1791 \nQ 353 2603 747 3093 \nQ 1141 3584 1784 3584 \nQ 2172 3584 2450 3431 \nQ 2728 3278 2906 2969 \nL 2906 3500 \nL 3481 3500 \nL 3481 434 \nz\n\" transform=\"scale(0.015625)\"/>\n       <path id=\"DejaVuSans-6e\" d=\"M 3513 2113 \nL 3513 0 \nL 2938 0 \nL 2938 2094 \nQ 2938 2591 2744 2837 \nQ 2550 3084 2163 3084 \nQ 1697 3084 1428 2787 \nQ 1159 2491 1159 1978 \nL 1159 0 \nL 581 0 \nL 581 3500 \nL 1159 3500 \nL 1159 2956 \nQ 1366 3272 1645 3428 \nQ 1925 3584 2291 3584 \nQ 2894 3584 3203 3211 \nQ 3513 2838 3513 2113 \nz\n\" transform=\"scale(0.015625)\"/>\n      </defs>\n      <use xlink:href=\"#DejaVuSans-76\"/>\n      <use xlink:href=\"#DejaVuSans-69\" x=\"59.179688\"/>\n      <use xlink:href=\"#DejaVuSans-72\" x=\"86.962891\"/>\n      <use xlink:href=\"#DejaVuSans-67\" x=\"126.326172\"/>\n      <use xlink:href=\"#DejaVuSans-69\" x=\"189.802734\"/>\n      <use xlink:href=\"#DejaVuSans-6e\" x=\"217.585938\"/>\n      <use xlink:href=\"#DejaVuSans-69\" x=\"280.964844\"/>\n      <use xlink:href=\"#DejaVuSans-63\" x=\"308.748047\"/>\n      <use xlink:href=\"#DejaVuSans-61\" x=\"363.728516\"/>\n     </g>\n    </g>\n    <g id=\"PathCollection_8\">\n     <g>\n      <use xlink:href=\"#m2973ac4783\" x=\"521.505937\" y=\"82.149562\" style=\"stroke: #000000; stroke-width: 0.5\"/>\n     </g>\n    </g>\n    <g id=\"text_173\">\n     <!-- Line Points -->\n     <g transform=\"translate(539.505937 84.774562) scale(0.1 -0.1)\">\n      <defs>\n       <path id=\"DejaVuSans-4c\" d=\"M 628 4666 \nL 1259 4666 \nL 1259 531 \nL 3531 531 \nL 3531 0 \nL 628 0 \nL 628 4666 \nz\n\" transform=\"scale(0.015625)\"/>\n       <path id=\"DejaVuSans-50\" d=\"M 1259 4147 \nL 1259 2394 \nL 2053 2394 \nQ 2494 2394 2734 2622 \nQ 2975 2850 2975 3272 \nQ 2975 3691 2734 3919 \nQ 2494 4147 2053 4147 \nL 1259 4147 \nz\nM 628 4666 \nL 2053 4666 \nQ 2838 4666 3239 4311 \nQ 3641 3956 3641 3272 \nQ 3641 2581 3239 2228 \nQ 2838 1875 2053 1875 \nL 1259 1875 \nL 1259 0 \nL 628 0 \nL 628 4666 \nz\n\" transform=\"scale(0.015625)\"/>\n      </defs>\n      <use xlink:href=\"#DejaVuSans-4c\"/>\n      <use xlink:href=\"#DejaVuSans-69\" x=\"55.712891\"/>\n      <use xlink:href=\"#DejaVuSans-6e\" x=\"83.496094\"/>\n      <use xlink:href=\"#DejaVuSans-65\" x=\"146.875\"/>\n      <use xlink:href=\"#DejaVuSans-20\" x=\"208.398438\"/>\n      <use xlink:href=\"#DejaVuSans-50\" x=\"240.185547\"/>\n      <use xlink:href=\"#DejaVuSans-6f\" x=\"296.863281\"/>\n      <use xlink:href=\"#DejaVuSans-69\" x=\"358.044922\"/>\n      <use xlink:href=\"#DejaVuSans-6e\" x=\"385.828125\"/>\n      <use xlink:href=\"#DejaVuSans-74\" x=\"449.207031\"/>\n      <use xlink:href=\"#DejaVuSans-73\" x=\"488.416016\"/>\n     </g>\n    </g>\n   </g>\n  </g>\n </g>\n <defs>\n  <clipPath id=\"pdfce174dea\">\n   <rect x=\"44.555937\" y=\"24.14175\" width=\"558\" height=\"443.52\"/>\n  </clipPath>\n </defs>\n</svg>\n"
     },
     "metadata": {},
     "output_type": "display_data"
    }
   ],
   "source": [
    "import matplotlib.pyplot as plt\n",
    "import matplotlib.ticker as ticker\n",
    "%config InlineBackend.figure_format = 'svg' \n",
    "plt.style.use('ggplot')\n",
    "\n",
    "NUM_TICKS = 1\n",
    "\n",
    "# Define colors for each species\n",
    "colors = ['red', 'green', 'blue']\n",
    "\n",
    "# Plotting\n",
    "plt.figure(figsize=(10, 8))\n",
    "\n",
    "# Set tick frequency using MultipleLocator\n",
    "ax = plt.gca()\n",
    "ax.xaxis.set_major_locator(ticker.MultipleLocator(NUM_TICKS))\n",
    "ax.yaxis.set_major_locator(ticker.MultipleLocator(NUM_TICKS))\n",
    "\n",
    "# Plot each species\n",
    "for i, species in enumerate(iris_target_names):\n",
    "    subset = iris_reduced[iris_reduced['labels'] == i]\n",
    "    plt.scatter(subset['x1'], subset['x2'], color=colors[i], label=species)\n",
    "\n",
    "    # Annotate each point with its class label\n",
    "    for _, row in subset.iterrows():\n",
    "        plt.annotate(str(i), (row['x1'], row['x2']), textcoords=\"offset points\", xytext=(6, -6), ha='center', fontsize=8)\n",
    "\n",
    "# Draw the separating line\n",
    "line_x1 = coordinates_df['x1'].tolist()\n",
    "line_x2 = coordinates_df['x2'].tolist()\n",
    "plt.plot(line_x1, line_x2, 'k-')  # 'k-' for black line\n",
    "\n",
    "# Highlight points on the separating line\n",
    "# If coordinates_df contains these points, plot them with a distinct style\n",
    "plt.scatter(line_x1, line_x2, color='k', marker='o', edgecolor='k', label='Line Points')\n",
    "\n",
    "plt.xlabel('X1')\n",
    "plt.ylabel('X2')\n",
    "plt.title('MDS of Iris Dataset')\n",
    "plt.legend()\n",
    "plt.show()"
   ],
   "metadata": {
    "collapsed": false,
    "ExecuteTime": {
     "end_time": "2023-12-07T17:38:45.224515300Z",
     "start_time": "2023-12-07T17:38:44.026245900Z"
    }
   },
   "id": "539e273fb1e88f6a"
  },
  {
   "cell_type": "markdown",
   "id": "ebc5f8d71f9e871e",
   "metadata": {},
   "source": [
    "## 4. Calculate Transition Matrix"
   ]
  },
  {
   "cell_type": "markdown",
   "id": "ef465326b3763a84",
   "metadata": {},
   "source": [
    "### 3.1. Singular Value Decomposition (SVD)"
   ]
  },
  {
   "cell_type": "code",
   "execution_count": 8,
   "id": "c9b16087dcd6299f",
   "metadata": {
    "collapsed": false,
    "ExecuteTime": {
     "end_time": "2023-12-07T17:38:45.278514Z",
     "start_time": "2023-12-07T17:38:45.223514700Z"
    }
   },
   "outputs": [],
   "source": [
    "# Receive values from the matrix A DataFrame \n",
    "formal_model_reduced_values = iris_reduced.drop('labels', axis=1).values\n",
    "\n",
    "# Calculate SVD\n",
    "U, s, Vt = np.linalg.svd(formal_model_reduced_values)\n",
    "\n",
    "# Construct the full diagonal matrix\n",
    "S = np.zeros(formal_model_reduced_values.shape)\n",
    "for i in range(min(formal_model_reduced_values.shape)):\n",
    "    S[i, i] = s[i]\n",
    "\n",
    "# print(\"U:\\n\", U)\n",
    "# print(\"\\nS:\\n\", S)\n",
    "# print(\"\\nVt:\\n\", Vt)\n"
   ]
  },
  {
   "cell_type": "code",
   "execution_count": 9,
   "outputs": [
    {
     "data": {
      "text/plain": "array([[ 0.89763936, -2.14948933],\n       [ 1.76032475, -1.3234441 ],\n       [ 1.63752509, -1.75891123],\n       [ 1.81858716, -1.56006479],\n       [ 0.83807094, -2.34814186],\n       [-0.04552889, -2.56549241],\n       [ 1.4034877 , -2.06537314],\n       [ 1.09434556, -1.97219372],\n       [ 2.26677627, -1.28491963],\n       [ 1.64842298, -1.52784561],\n       [ 0.3606291 , -2.3950694 ],\n       [ 1.24049936, -2.00066019],\n       [ 1.88462182, -1.40524686],\n       [ 2.31270824, -1.62147665],\n       [-0.33840148, -2.91242377],\n       [-0.92129031, -3.40084495],\n       [ 0.02703503, -2.67846467],\n       [ 0.85245852, -2.09082813],\n       [-0.11944763, -2.38811523],\n       [ 0.40859969, -2.59001982],\n       [ 0.73111778, -1.82732965],\n       [ 0.50083999, -2.35896547],\n       [ 1.23992723, -2.57531148],\n       [ 0.97302825, -1.54467259],\n       [ 1.19748933, -1.92160121],\n       [ 1.65094916, -1.24242107],\n       [ 0.98356013, -1.82193834],\n       [ 0.79695641, -2.10113561],\n       [ 0.95477661, -1.95564817],\n       [ 1.58182022, -1.67956165],\n       [ 1.64097948, -1.47512381],\n       [ 0.66927793, -1.76373592],\n       [ 0.02183873, -3.19618036],\n       [-0.37398023, -3.25033627],\n       [ 1.58758323, -1.47372957],\n       [ 1.43701887, -1.70483634],\n       [ 0.55518184, -2.10936355],\n       [ 0.96365897, -2.4339779 ],\n       [ 2.15637066, -1.48380554],\n       [ 1.01776807, -1.94827448],\n       [ 0.95150269, -2.14566629],\n       [ 3.01270768, -0.20692508],\n       [ 1.89388248, -1.84406503],\n       [ 0.69204041, -1.90813084],\n       [ 0.24368121, -2.43630161],\n       [ 1.78107082, -1.29231325],\n       [ 0.44326643, -2.62234958],\n       [ 1.70152149, -1.76112691],\n       [ 0.44607258, -2.41853532],\n       [ 1.25779166, -1.81858291],\n       [-1.45233232,  0.25715359],\n       [-0.9077876 ,  0.22751751],\n       [-1.27964426,  0.58384951],\n       [ 1.23044353,  1.3114983 ],\n       [-0.43763284,  1.02224381],\n       [ 0.29037918,  0.64451413],\n       [-1.06729874,  0.12531859],\n       [ 1.83354865,  0.63233665],\n       [-0.62696826,  0.66610227],\n       [ 0.91912158,  0.58936431],\n       [ 2.27596926,  1.398454  ],\n       [-0.20132509,  0.35785521],\n       [ 1.27119217,  1.60835249],\n       [-0.23527161,  0.69040402],\n       [ 0.39659079,  0.19279955],\n       [-0.98304853,  0.35667368],\n       [-0.03703003,  0.32750145],\n       [ 0.61251793,  0.57113741],\n       [ 0.72499966,  2.00839655],\n       [ 1.00750155,  0.86440321],\n       [-0.81679309,  0.24268944],\n       [ 0.09913992,  0.63190013],\n       [ 0.13578015,  1.60685842],\n       [ 0.02615914,  0.77176513],\n       [-0.36721218,  0.57394066],\n       [-0.75651   ,  0.51179975],\n       [-0.65635251,  1.20426989],\n       [-1.04976901,  0.92796643],\n       [-0.17478535,  0.66521596],\n       [ 0.94750489,  0.5447775 ],\n       [ 1.23840633,  0.97612732],\n       [ 1.31774295,  0.89883601],\n       [ 0.525772  ,  0.62904037],\n       [-0.06686893,  1.21595351],\n       [ 0.11817658,  0.25452986],\n       [-0.9831458 , -0.20952918],\n       [-1.059242  ,  0.51868677],\n       [ 0.68277749,  1.77783986],\n       [ 0.14742479,  0.14206564],\n       [ 0.94924739,  0.97446559],\n       [ 0.78887362,  0.85964334],\n       [-0.36811503,  0.46948785],\n       [ 0.64960304,  0.83665038],\n       [ 1.89264464,  0.82633273],\n       [ 0.55192927,  0.71050741],\n       [ 0.09893128,  0.13967429],\n       [ 0.20408153,  0.38625551],\n       [-0.19350341,  0.54564044],\n       [ 1.5609136 ,  0.48754132],\n       [ 0.35903427,  0.5319835 ],\n       [-2.10866977,  0.73373214],\n       [-0.04471625,  1.4083033 ],\n       [-1.70626743,  1.56479428],\n       [-0.78539389,  1.22153915],\n       [-1.30997652,  1.38310937],\n       [-2.22337256,  1.97002185],\n       [ 1.33694449,  1.34896087],\n       [-1.63235066,  1.89337654],\n       [-0.53185186,  2.13718945],\n       [-2.91579317,  0.73882163],\n       [-1.38430083,  0.71093265],\n       [-0.56549155,  1.56038168],\n       [-1.41828483,  1.30936031],\n       [ 0.29520161,  1.78764849],\n       [-0.37606819,  1.81617221],\n       [-1.61836846,  0.81130199],\n       [-1.03892645,  1.06957583],\n       [-3.52113972,  0.52998698],\n       [-1.8730437 ,  2.85773654],\n       [ 0.69293428,  2.05639071],\n       [-1.94058796,  1.15300838],\n       [ 0.04553085,  1.29210084],\n       [-1.97804638,  2.39258606],\n       [-0.36387278,  1.37665503],\n       [-1.83907175,  0.78264549],\n       [-2.01678107,  1.09365116],\n       [-0.39956051,  1.15895748],\n       [-0.64647114,  0.80019417],\n       [-0.86088242,  1.59426992],\n       [-1.51604548,  1.51570742],\n       [-1.57234762,  2.08520611],\n       [-3.54298562,  0.34913298],\n       [-0.90879287,  1.66738859],\n       [-0.3713232 ,  1.08431068],\n       [ 0.06903451,  1.53067701],\n       [-2.31889084,  1.96263835],\n       [-2.03905071,  0.45973855],\n       [-1.12666123,  0.85436268],\n       [-0.54817574,  0.74284942],\n       [-1.61127715,  1.1557058 ],\n       [-1.73907344,  1.26570145],\n       [-1.71381699,  1.17238106],\n       [-0.04471625,  1.4083033 ],\n       [-1.92206806,  1.153373  ],\n       [-2.15732719,  0.92492729],\n       [-1.43730272,  1.31817467],\n       [-0.13106474,  1.83258363],\n       [-1.10203595,  1.10184383],\n       [-1.8741187 ,  0.32807023],\n       [-0.5358153 ,  0.80569859]])"
     },
     "execution_count": 9,
     "metadata": {},
     "output_type": "execute_result"
    }
   ],
   "source": [
    "formal_model_reduced_values"
   ],
   "metadata": {
    "collapsed": false,
    "ExecuteTime": {
     "end_time": "2023-12-07T17:38:45.281516Z",
     "start_time": "2023-12-07T17:38:45.255515200Z"
    }
   },
   "id": "819ac288e0668213"
  },
  {
   "cell_type": "markdown",
   "id": "20ecf1e1d1743431",
   "metadata": {},
   "source": [
    "### 3.2. Create the reconstructed matrix of SVD"
   ]
  },
  {
   "cell_type": "code",
   "execution_count": 10,
   "id": "300dbbed7537914f",
   "metadata": {
    "collapsed": false,
    "ExecuteTime": {
     "end_time": "2023-12-07T17:38:45.368514900Z",
     "start_time": "2023-12-07T17:38:45.273513400Z"
    }
   },
   "outputs": [],
   "source": [
    "# Recompute the original matrix using U, S, and Vt\n",
    "reconstructed_matrix = U.dot(S.dot(Vt))\n",
    "\n",
    "# Convert the reconstructed matrix to a pandas DataFrame, if desired\n",
    "reconstructed_df = pd.DataFrame(reconstructed_matrix)\n"
   ]
  },
  {
   "cell_type": "code",
   "execution_count": 11,
   "id": "c855a3fcf677b065",
   "metadata": {
    "collapsed": false,
    "ExecuteTime": {
     "end_time": "2023-12-07T17:38:45.374514500Z",
     "start_time": "2023-12-07T17:38:45.288516700Z"
    }
   },
   "outputs": [
    {
     "data": {
      "text/plain": "            0         1\n0    0.897639 -2.149489\n1    1.760325 -1.323444\n2    1.637525 -1.758911\n3    1.818587 -1.560065\n4    0.838071 -2.348142\n..        ...       ...\n145 -1.437303  1.318175\n146 -0.131065  1.832584\n147 -1.102036  1.101844\n148 -1.874119  0.328070\n149 -0.535815  0.805699\n\n[150 rows x 2 columns]",
      "text/html": "<div>\n<style scoped>\n    .dataframe tbody tr th:only-of-type {\n        vertical-align: middle;\n    }\n\n    .dataframe tbody tr th {\n        vertical-align: top;\n    }\n\n    .dataframe thead th {\n        text-align: right;\n    }\n</style>\n<table border=\"1\" class=\"dataframe\">\n  <thead>\n    <tr style=\"text-align: right;\">\n      <th></th>\n      <th>0</th>\n      <th>1</th>\n    </tr>\n  </thead>\n  <tbody>\n    <tr>\n      <th>0</th>\n      <td>0.897639</td>\n      <td>-2.149489</td>\n    </tr>\n    <tr>\n      <th>1</th>\n      <td>1.760325</td>\n      <td>-1.323444</td>\n    </tr>\n    <tr>\n      <th>2</th>\n      <td>1.637525</td>\n      <td>-1.758911</td>\n    </tr>\n    <tr>\n      <th>3</th>\n      <td>1.818587</td>\n      <td>-1.560065</td>\n    </tr>\n    <tr>\n      <th>4</th>\n      <td>0.838071</td>\n      <td>-2.348142</td>\n    </tr>\n    <tr>\n      <th>...</th>\n      <td>...</td>\n      <td>...</td>\n    </tr>\n    <tr>\n      <th>145</th>\n      <td>-1.437303</td>\n      <td>1.318175</td>\n    </tr>\n    <tr>\n      <th>146</th>\n      <td>-0.131065</td>\n      <td>1.832584</td>\n    </tr>\n    <tr>\n      <th>147</th>\n      <td>-1.102036</td>\n      <td>1.101844</td>\n    </tr>\n    <tr>\n      <th>148</th>\n      <td>-1.874119</td>\n      <td>0.328070</td>\n    </tr>\n    <tr>\n      <th>149</th>\n      <td>-0.535815</td>\n      <td>0.805699</td>\n    </tr>\n  </tbody>\n</table>\n<p>150 rows × 2 columns</p>\n</div>"
     },
     "execution_count": 11,
     "metadata": {},
     "output_type": "execute_result"
    }
   ],
   "source": [
    "reconstructed_df"
   ]
  },
  {
   "cell_type": "code",
   "execution_count": 12,
   "id": "81f9ceb900efd47d",
   "metadata": {
    "collapsed": false,
    "ExecuteTime": {
     "end_time": "2023-12-07T17:38:45.412514800Z",
     "start_time": "2023-12-07T17:38:45.320514800Z"
    }
   },
   "outputs": [
    {
     "data": {
      "text/plain": "           x1        x2  labels\n0    0.897639 -2.149489       0\n1    1.760325 -1.323444       0\n2    1.637525 -1.758911       0\n3    1.818587 -1.560065       0\n4    0.838071 -2.348142       0\n..        ...       ...     ...\n145 -1.437303  1.318175       2\n146 -0.131065  1.832584       2\n147 -1.102036  1.101844       2\n148 -1.874119  0.328070       2\n149 -0.535815  0.805699       2\n\n[150 rows x 3 columns]",
      "text/html": "<div>\n<style scoped>\n    .dataframe tbody tr th:only-of-type {\n        vertical-align: middle;\n    }\n\n    .dataframe tbody tr th {\n        vertical-align: top;\n    }\n\n    .dataframe thead th {\n        text-align: right;\n    }\n</style>\n<table border=\"1\" class=\"dataframe\">\n  <thead>\n    <tr style=\"text-align: right;\">\n      <th></th>\n      <th>x1</th>\n      <th>x2</th>\n      <th>labels</th>\n    </tr>\n  </thead>\n  <tbody>\n    <tr>\n      <th>0</th>\n      <td>0.897639</td>\n      <td>-2.149489</td>\n      <td>0</td>\n    </tr>\n    <tr>\n      <th>1</th>\n      <td>1.760325</td>\n      <td>-1.323444</td>\n      <td>0</td>\n    </tr>\n    <tr>\n      <th>2</th>\n      <td>1.637525</td>\n      <td>-1.758911</td>\n      <td>0</td>\n    </tr>\n    <tr>\n      <th>3</th>\n      <td>1.818587</td>\n      <td>-1.560065</td>\n      <td>0</td>\n    </tr>\n    <tr>\n      <th>4</th>\n      <td>0.838071</td>\n      <td>-2.348142</td>\n      <td>0</td>\n    </tr>\n    <tr>\n      <th>...</th>\n      <td>...</td>\n      <td>...</td>\n      <td>...</td>\n    </tr>\n    <tr>\n      <th>145</th>\n      <td>-1.437303</td>\n      <td>1.318175</td>\n      <td>2</td>\n    </tr>\n    <tr>\n      <th>146</th>\n      <td>-0.131065</td>\n      <td>1.832584</td>\n      <td>2</td>\n    </tr>\n    <tr>\n      <th>147</th>\n      <td>-1.102036</td>\n      <td>1.101844</td>\n      <td>2</td>\n    </tr>\n    <tr>\n      <th>148</th>\n      <td>-1.874119</td>\n      <td>0.328070</td>\n      <td>2</td>\n    </tr>\n    <tr>\n      <th>149</th>\n      <td>-0.535815</td>\n      <td>0.805699</td>\n      <td>2</td>\n    </tr>\n  </tbody>\n</table>\n<p>150 rows × 3 columns</p>\n</div>"
     },
     "execution_count": 12,
     "metadata": {},
     "output_type": "execute_result"
    }
   ],
   "source": [
    "iris_reduced"
   ]
  },
  {
   "cell_type": "markdown",
   "id": "e22636c4bc2289d4",
   "metadata": {},
   "source": [
    "### 3.3. Calculate the generalized inverse of input matrix"
   ]
  },
  {
   "cell_type": "code",
   "execution_count": 13,
   "id": "d82d42f8951a5a24",
   "metadata": {
    "collapsed": false,
    "ExecuteTime": {
     "end_time": "2023-12-07T17:38:45.491512800Z",
     "start_time": "2023-12-07T17:38:45.339514300Z"
    }
   },
   "outputs": [],
   "source": [
    "# Calculate the generalized (Moore-Penrose) inverse\n",
    "formal_model_reduced_pinv = np.linalg.pinv(formal_model_reduced_values)\n",
    "\n",
    "# Convert to a pandas DataFrame\n",
    "formal_model_reduced_pinv_df = pd.DataFrame(formal_model_reduced_pinv)"
   ]
  },
  {
   "cell_type": "code",
   "execution_count": 14,
   "id": "f723de97150d5c16",
   "metadata": {
    "collapsed": false,
    "ExecuteTime": {
     "end_time": "2023-12-07T17:38:45.495513Z",
     "start_time": "2023-12-07T17:38:45.369514600Z"
    }
   },
   "outputs": [
    {
     "data": {
      "text/plain": "        0         1         2         3         4         5         6    \\\n0  0.000205  0.006470  0.004911  0.006279 -0.000525 -0.005623  0.003038   \n1 -0.006026 -0.001176 -0.003036 -0.001925 -0.006882 -0.009536 -0.004655   \n\n        7         8         9    ...       140       141       142       143  \\\n0  0.001610  0.009211  0.005453  ... -0.006479 -0.006542  0.002720 -0.007676   \n1 -0.004961  0.000028 -0.002163  ...  0.001008  0.000718  0.005089  0.000211   \n\n        144       145       146       147       148       149  \n0 -0.009392 -0.004784  0.003157 -0.003477 -0.009156 -0.001124  \n1 -0.001123  0.001835  0.006469  0.001742 -0.002725  0.001841  \n\n[2 rows x 150 columns]",
      "text/html": "<div>\n<style scoped>\n    .dataframe tbody tr th:only-of-type {\n        vertical-align: middle;\n    }\n\n    .dataframe tbody tr th {\n        vertical-align: top;\n    }\n\n    .dataframe thead th {\n        text-align: right;\n    }\n</style>\n<table border=\"1\" class=\"dataframe\">\n  <thead>\n    <tr style=\"text-align: right;\">\n      <th></th>\n      <th>0</th>\n      <th>1</th>\n      <th>2</th>\n      <th>3</th>\n      <th>4</th>\n      <th>5</th>\n      <th>6</th>\n      <th>7</th>\n      <th>8</th>\n      <th>9</th>\n      <th>...</th>\n      <th>140</th>\n      <th>141</th>\n      <th>142</th>\n      <th>143</th>\n      <th>144</th>\n      <th>145</th>\n      <th>146</th>\n      <th>147</th>\n      <th>148</th>\n      <th>149</th>\n    </tr>\n  </thead>\n  <tbody>\n    <tr>\n      <th>0</th>\n      <td>0.000205</td>\n      <td>0.006470</td>\n      <td>0.004911</td>\n      <td>0.006279</td>\n      <td>-0.000525</td>\n      <td>-0.005623</td>\n      <td>0.003038</td>\n      <td>0.001610</td>\n      <td>0.009211</td>\n      <td>0.005453</td>\n      <td>...</td>\n      <td>-0.006479</td>\n      <td>-0.006542</td>\n      <td>0.002720</td>\n      <td>-0.007676</td>\n      <td>-0.009392</td>\n      <td>-0.004784</td>\n      <td>0.003157</td>\n      <td>-0.003477</td>\n      <td>-0.009156</td>\n      <td>-0.001124</td>\n    </tr>\n    <tr>\n      <th>1</th>\n      <td>-0.006026</td>\n      <td>-0.001176</td>\n      <td>-0.003036</td>\n      <td>-0.001925</td>\n      <td>-0.006882</td>\n      <td>-0.009536</td>\n      <td>-0.004655</td>\n      <td>-0.004961</td>\n      <td>0.000028</td>\n      <td>-0.002163</td>\n      <td>...</td>\n      <td>0.001008</td>\n      <td>0.000718</td>\n      <td>0.005089</td>\n      <td>0.000211</td>\n      <td>-0.001123</td>\n      <td>0.001835</td>\n      <td>0.006469</td>\n      <td>0.001742</td>\n      <td>-0.002725</td>\n      <td>0.001841</td>\n    </tr>\n  </tbody>\n</table>\n<p>2 rows × 150 columns</p>\n</div>"
     },
     "execution_count": 14,
     "metadata": {},
     "output_type": "execute_result"
    }
   ],
   "source": [
    "formal_model_reduced_pinv_df"
   ]
  },
  {
   "cell_type": "markdown",
   "id": "ae217465b26b7db8",
   "metadata": {},
   "source": [
    "### 3.4. Calculate transition matrix T"
   ]
  },
  {
   "cell_type": "code",
   "execution_count": 15,
   "id": "41df41ba6680071d",
   "metadata": {
    "collapsed": false,
    "ExecuteTime": {
     "end_time": "2023-12-07T17:38:45.516512100Z",
     "start_time": "2023-12-07T17:38:45.398516600Z"
    }
   },
   "outputs": [],
   "source": [
    "transition_matrix_T = formal_model_reduced_pinv_df.dot(iris_features)"
   ]
  },
  {
   "cell_type": "code",
   "execution_count": 16,
   "id": "481f9ce7d7ea80a6",
   "metadata": {
    "collapsed": false,
    "ExecuteTime": {
     "end_time": "2023-12-07T17:38:45.517512200Z",
     "start_time": "2023-12-07T17:38:45.414519700Z"
    }
   },
   "outputs": [
    {
     "data": {
      "text/plain": "          0         1         2         3\n0 -0.481968 -0.250688 -0.605128 -0.283665\n1  0.184380 -0.313597  0.805669  0.317630",
      "text/html": "<div>\n<style scoped>\n    .dataframe tbody tr th:only-of-type {\n        vertical-align: middle;\n    }\n\n    .dataframe tbody tr th {\n        vertical-align: top;\n    }\n\n    .dataframe thead th {\n        text-align: right;\n    }\n</style>\n<table border=\"1\" class=\"dataframe\">\n  <thead>\n    <tr style=\"text-align: right;\">\n      <th></th>\n      <th>0</th>\n      <th>1</th>\n      <th>2</th>\n      <th>3</th>\n    </tr>\n  </thead>\n  <tbody>\n    <tr>\n      <th>0</th>\n      <td>-0.481968</td>\n      <td>-0.250688</td>\n      <td>-0.605128</td>\n      <td>-0.283665</td>\n    </tr>\n    <tr>\n      <th>1</th>\n      <td>0.184380</td>\n      <td>-0.313597</td>\n      <td>0.805669</td>\n      <td>0.317630</td>\n    </tr>\n  </tbody>\n</table>\n</div>"
     },
     "execution_count": 16,
     "metadata": {},
     "output_type": "execute_result"
    }
   ],
   "source": [
    "transition_matrix_T"
   ]
  },
  {
   "cell_type": "markdown",
   "id": "63707c7d6fa3b351",
   "metadata": {},
   "source": [
    "## 4. Create Hyperplane"
   ]
  },
  {
   "cell_type": "code",
   "execution_count": 17,
   "id": "af020167e0a630b2",
   "metadata": {
    "collapsed": false,
    "ExecuteTime": {
     "end_time": "2023-12-07T17:38:45.519514500Z",
     "start_time": "2023-12-07T17:38:45.432514200Z"
    }
   },
   "outputs": [],
   "source": [
    "coordinates_hyperplane_df = coordinates_df.values @ transition_matrix_T.values"
   ]
  },
  {
   "cell_type": "code",
   "execution_count": 18,
   "id": "a49ccb2f95c82aa4",
   "metadata": {
    "collapsed": false,
    "ExecuteTime": {
     "end_time": "2023-12-07T17:38:45.543517Z",
     "start_time": "2023-12-07T17:38:45.443514900Z"
    }
   },
   "outputs": [
    {
     "data": {
      "text/plain": "array([[-2.40983962, -1.25343976, -3.02564242, -1.41832641],\n       [-1.18605166, -0.48040627, -1.68052278, -0.76776241],\n       [ 0.03773631,  0.29262722, -0.33540313, -0.1171984 ],\n       [ 1.26152427,  1.06566071,  1.00971651,  0.53336561]])"
     },
     "execution_count": 18,
     "metadata": {},
     "output_type": "execute_result"
    }
   ],
   "source": [
    "coordinates_hyperplane_df"
   ]
  },
  {
   "cell_type": "code",
   "execution_count": 19,
   "id": "e1f055e528cfd8f",
   "metadata": {
    "collapsed": false,
    "ExecuteTime": {
     "end_time": "2023-12-07T17:38:45.598513800Z",
     "start_time": "2023-12-07T17:38:45.460514700Z"
    }
   },
   "outputs": [
    {
     "data": {
      "text/plain": "array([[ 1.        , -2.40983962, -1.25343976, -3.02564242, -1.41832641],\n       [ 1.        , -1.18605166, -0.48040627, -1.68052278, -0.76776241],\n       [ 1.        ,  0.03773631,  0.29262722, -0.33540313, -0.1171984 ],\n       [ 1.        ,  1.26152427,  1.06566071,  1.00971651,  0.53336561]])"
     },
     "execution_count": 19,
     "metadata": {},
     "output_type": "execute_result"
    }
   ],
   "source": [
    "# Adding a new column with all values set to 1\n",
    "new_column = np.ones((coordinates_hyperplane_df.shape[0], 1))\n",
    "feature_vector_inverse = np.hstack((new_column, coordinates_hyperplane_df))\n",
    "\n",
    "feature_vector_inverse"
   ]
  },
  {
   "cell_type": "code",
   "execution_count": 20,
   "id": "f5c5eee4c62ff7f6",
   "metadata": {
    "collapsed": false,
    "ExecuteTime": {
     "end_time": "2023-12-07T17:38:45.655512500Z",
     "start_time": "2023-12-07T17:38:45.477517400Z"
    }
   },
   "outputs": [
    {
     "name": "stdout",
     "output_type": "stream",
     "text": [
      "Optimization terminated successfully    (Exit mode 0)\n",
      "            Current function value: 1.8775229310164372e-07\n",
      "            Iterations: 8\n",
      "            Function evaluations: 81\n",
      "            Gradient evaluations: 8\n",
      "Optimization was successful. The weights are:\n",
      "      weight\n",
      "w0 -0.000024\n",
      "w1  0.000021\n",
      "w2  0.000036\n",
      "w3 -0.000034\n",
      "w4 -0.000011\n",
      "\n",
      "Value of the optimization criteria (objective function value): 1.8775229310164372e-07\n",
      "\n",
      "Convergence status: Optimization terminated successfully\n"
     ]
    }
   ],
   "source": [
    "# Optimization criteria function\n",
    "def optimization_criteria(W, X):\n",
    "    return np.sum(np.abs(X.dot(W.T)))\n",
    "\n",
    "# Initial guess (starting point for the optimization algorithm)\n",
    "weights_inverse_initial = np.zeros(feature_vector_inverse.shape[1])\n",
    "\n",
    "# Bounds for W (setting it between -1 and 1)\n",
    "bounds = [(-1, 1) for _ in range(feature_vector_inverse.shape[1])]\n",
    "\n",
    "# The actual optimization\n",
    "res = minimize(\n",
    "    optimization_criteria,\n",
    "    weights_inverse_initial,\n",
    "    args=(feature_vector_inverse,),\n",
    "    method='SLSQP',\n",
    "    bounds=bounds,\n",
    "    options={'disp': True}\n",
    ")\n",
    "\n",
    "# Checking if the optimization was successful\n",
    "if res.success:\n",
    "    # Extract the weights into a DataFrame\n",
    "    weights_inverse_output = pd.DataFrame(res.x, index=[f'w{i}' for i in range(len(res.x))], columns=['weight'])\n",
    "\n",
    "    print(\"Optimization was successful. The weights are:\")\n",
    "    print(weights_inverse_output)\n",
    "\n",
    "    # Output the value of the optimization criteria\n",
    "    print(\"\\nValue of the optimization criteria (objective function value):\", res.fun)\n",
    "else:\n",
    "    print(\"Optimization failed.\")\n",
    "\n",
    "# Checking for convergence\n",
    "print(\"\\nConvergence status:\", res.message)\n"
   ]
  },
  {
   "cell_type": "code",
   "execution_count": 21,
   "id": "229473793e1f5f6d",
   "metadata": {
    "collapsed": false,
    "ExecuteTime": {
     "end_time": "2023-12-07T17:38:45.665516100Z",
     "start_time": "2023-12-07T17:38:45.505518Z"
    }
   },
   "outputs": [
    {
     "data": {
      "text/plain": "      weight\nw0 -0.000024\nw1  0.000021\nw2  0.000036\nw3 -0.000034\nw4 -0.000011",
      "text/html": "<div>\n<style scoped>\n    .dataframe tbody tr th:only-of-type {\n        vertical-align: middle;\n    }\n\n    .dataframe tbody tr th {\n        vertical-align: top;\n    }\n\n    .dataframe thead th {\n        text-align: right;\n    }\n</style>\n<table border=\"1\" class=\"dataframe\">\n  <thead>\n    <tr style=\"text-align: right;\">\n      <th></th>\n      <th>weight</th>\n    </tr>\n  </thead>\n  <tbody>\n    <tr>\n      <th>w0</th>\n      <td>-0.000024</td>\n    </tr>\n    <tr>\n      <th>w1</th>\n      <td>0.000021</td>\n    </tr>\n    <tr>\n      <th>w2</th>\n      <td>0.000036</td>\n    </tr>\n    <tr>\n      <th>w3</th>\n      <td>-0.000034</td>\n    </tr>\n    <tr>\n      <th>w4</th>\n      <td>-0.000011</td>\n    </tr>\n  </tbody>\n</table>\n</div>"
     },
     "execution_count": 21,
     "metadata": {},
     "output_type": "execute_result"
    }
   ],
   "source": [
    "weights_inverse_output"
   ]
  },
  {
   "cell_type": "code",
   "execution_count": 22,
   "id": "fd4510816a331570",
   "metadata": {
    "collapsed": false,
    "ExecuteTime": {
     "end_time": "2023-12-07T17:38:45.706169800Z",
     "start_time": "2023-12-07T17:38:45.522515Z"
    }
   },
   "outputs": [
    {
     "data": {
      "text/plain": "     weight\n0  0.000021\n1  0.000036\n2 -0.000034\n3 -0.000011\n4 -0.000024",
      "text/html": "<div>\n<style scoped>\n    .dataframe tbody tr th:only-of-type {\n        vertical-align: middle;\n    }\n\n    .dataframe tbody tr th {\n        vertical-align: top;\n    }\n\n    .dataframe thead th {\n        text-align: right;\n    }\n</style>\n<table border=\"1\" class=\"dataframe\">\n  <thead>\n    <tr style=\"text-align: right;\">\n      <th></th>\n      <th>weight</th>\n    </tr>\n  </thead>\n  <tbody>\n    <tr>\n      <th>0</th>\n      <td>0.000021</td>\n    </tr>\n    <tr>\n      <th>1</th>\n      <td>0.000036</td>\n    </tr>\n    <tr>\n      <th>2</th>\n      <td>-0.000034</td>\n    </tr>\n    <tr>\n      <th>3</th>\n      <td>-0.000011</td>\n    </tr>\n    <tr>\n      <th>4</th>\n      <td>-0.000024</td>\n    </tr>\n  </tbody>\n</table>\n</div>"
     },
     "execution_count": 22,
     "metadata": {},
     "output_type": "execute_result"
    }
   ],
   "source": [
    "# Reorder the weight vector so that w0 is at the end.\n",
    "weights_df_reordered = pd.concat([weights_inverse_output.iloc[1:], weights_inverse_output.iloc[0:1]]).reset_index(drop=True)\n",
    "\n",
    "# Show the modified DataFrame\n",
    "weights_df_reordered\n"
   ]
  },
  {
   "cell_type": "code",
   "execution_count": 23,
   "id": "6c4bb7858af12496",
   "metadata": {
    "collapsed": false,
    "ExecuteTime": {
     "end_time": "2023-12-07T17:38:45.716952Z",
     "start_time": "2023-12-07T17:38:45.538514800Z"
    }
   },
   "outputs": [
    {
     "data": {
      "text/plain": "     sepal length (cm)  sepal width (cm)  petal length (cm)  petal width (cm)  \\\n0                  5.1               3.5                1.4               0.2   \n1                  4.9               3.0                1.4               0.2   \n2                  4.7               3.2                1.3               0.2   \n3                  4.6               3.1                1.5               0.2   \n4                  5.0               3.6                1.4               0.2   \n..                 ...               ...                ...               ...   \n145                6.7               3.0                5.2               2.3   \n146                6.3               2.5                5.0               1.9   \n147                6.5               3.0                5.2               2.0   \n148                6.2               3.4                5.4               2.3   \n149                5.9               3.0                5.1               1.8   \n\n     ones  \n0       1  \n1       1  \n2       1  \n3       1  \n4       1  \n..    ...  \n145     1  \n146     1  \n147     1  \n148     1  \n149     1  \n\n[150 rows x 5 columns]",
      "text/html": "<div>\n<style scoped>\n    .dataframe tbody tr th:only-of-type {\n        vertical-align: middle;\n    }\n\n    .dataframe tbody tr th {\n        vertical-align: top;\n    }\n\n    .dataframe thead th {\n        text-align: right;\n    }\n</style>\n<table border=\"1\" class=\"dataframe\">\n  <thead>\n    <tr style=\"text-align: right;\">\n      <th></th>\n      <th>sepal length (cm)</th>\n      <th>sepal width (cm)</th>\n      <th>petal length (cm)</th>\n      <th>petal width (cm)</th>\n      <th>ones</th>\n    </tr>\n  </thead>\n  <tbody>\n    <tr>\n      <th>0</th>\n      <td>5.1</td>\n      <td>3.5</td>\n      <td>1.4</td>\n      <td>0.2</td>\n      <td>1</td>\n    </tr>\n    <tr>\n      <th>1</th>\n      <td>4.9</td>\n      <td>3.0</td>\n      <td>1.4</td>\n      <td>0.2</td>\n      <td>1</td>\n    </tr>\n    <tr>\n      <th>2</th>\n      <td>4.7</td>\n      <td>3.2</td>\n      <td>1.3</td>\n      <td>0.2</td>\n      <td>1</td>\n    </tr>\n    <tr>\n      <th>3</th>\n      <td>4.6</td>\n      <td>3.1</td>\n      <td>1.5</td>\n      <td>0.2</td>\n      <td>1</td>\n    </tr>\n    <tr>\n      <th>4</th>\n      <td>5.0</td>\n      <td>3.6</td>\n      <td>1.4</td>\n      <td>0.2</td>\n      <td>1</td>\n    </tr>\n    <tr>\n      <th>...</th>\n      <td>...</td>\n      <td>...</td>\n      <td>...</td>\n      <td>...</td>\n      <td>...</td>\n    </tr>\n    <tr>\n      <th>145</th>\n      <td>6.7</td>\n      <td>3.0</td>\n      <td>5.2</td>\n      <td>2.3</td>\n      <td>1</td>\n    </tr>\n    <tr>\n      <th>146</th>\n      <td>6.3</td>\n      <td>2.5</td>\n      <td>5.0</td>\n      <td>1.9</td>\n      <td>1</td>\n    </tr>\n    <tr>\n      <th>147</th>\n      <td>6.5</td>\n      <td>3.0</td>\n      <td>5.2</td>\n      <td>2.0</td>\n      <td>1</td>\n    </tr>\n    <tr>\n      <th>148</th>\n      <td>6.2</td>\n      <td>3.4</td>\n      <td>5.4</td>\n      <td>2.3</td>\n      <td>1</td>\n    </tr>\n    <tr>\n      <th>149</th>\n      <td>5.9</td>\n      <td>3.0</td>\n      <td>5.1</td>\n      <td>1.8</td>\n      <td>1</td>\n    </tr>\n  </tbody>\n</table>\n<p>150 rows × 5 columns</p>\n</div>"
     },
     "execution_count": 23,
     "metadata": {},
     "output_type": "execute_result"
    }
   ],
   "source": [
    "# Convert iris_features to a DataFrame\n",
    "# and an additional column\n",
    "new_formal_model_features = pd.DataFrame(iris_features, columns=iris.feature_names)\n",
    "new_formal_model_features['ones'] = 1\n",
    "new_formal_model_features\n"
   ]
  },
  {
   "cell_type": "code",
   "execution_count": 24,
   "id": "c2f759c7f2967205",
   "metadata": {
    "collapsed": false,
    "ExecuteTime": {
     "end_time": "2023-12-07T17:38:45.771918700Z",
     "start_time": "2023-12-07T17:38:45.553513900Z"
    }
   },
   "outputs": [],
   "source": [
    "# # Multiply the features by the weights\n",
    "my_result = new_formal_model_features.mul(weights_df_reordered['weight'].values, axis=1)\n",
    "\n",
    "# Sum along the rows to get the final single column for predictions\n",
    "my_predictions = my_result.sum(axis=1)\n",
    "\n",
    "# Convert the series to a data frame\n",
    "my_predictions_df = my_predictions.to_frame(name='Prediction')"
   ]
  },
  {
   "cell_type": "code",
   "execution_count": 25,
   "id": "47d42fcab1156ca0",
   "metadata": {
    "collapsed": false,
    "ExecuteTime": {
     "end_time": "2023-12-07T17:38:45.772918500Z",
     "start_time": "2023-12-07T17:38:45.569515400Z"
    }
   },
   "outputs": [
    {
     "data": {
      "text/plain": "     Prediction\n0      0.000158\n1      0.000135\n2      0.000142\n3      0.000129\n4      0.000159\n..          ...\n145    0.000019\n146    0.000004\n147    0.000018\n148    0.000016\n149    0.000011\n\n[150 rows x 1 columns]",
      "text/html": "<div>\n<style scoped>\n    .dataframe tbody tr th:only-of-type {\n        vertical-align: middle;\n    }\n\n    .dataframe tbody tr th {\n        vertical-align: top;\n    }\n\n    .dataframe thead th {\n        text-align: right;\n    }\n</style>\n<table border=\"1\" class=\"dataframe\">\n  <thead>\n    <tr style=\"text-align: right;\">\n      <th></th>\n      <th>Prediction</th>\n    </tr>\n  </thead>\n  <tbody>\n    <tr>\n      <th>0</th>\n      <td>0.000158</td>\n    </tr>\n    <tr>\n      <th>1</th>\n      <td>0.000135</td>\n    </tr>\n    <tr>\n      <th>2</th>\n      <td>0.000142</td>\n    </tr>\n    <tr>\n      <th>3</th>\n      <td>0.000129</td>\n    </tr>\n    <tr>\n      <th>4</th>\n      <td>0.000159</td>\n    </tr>\n    <tr>\n      <th>...</th>\n      <td>...</td>\n    </tr>\n    <tr>\n      <th>145</th>\n      <td>0.000019</td>\n    </tr>\n    <tr>\n      <th>146</th>\n      <td>0.000004</td>\n    </tr>\n    <tr>\n      <th>147</th>\n      <td>0.000018</td>\n    </tr>\n    <tr>\n      <th>148</th>\n      <td>0.000016</td>\n    </tr>\n    <tr>\n      <th>149</th>\n      <td>0.000011</td>\n    </tr>\n  </tbody>\n</table>\n<p>150 rows × 1 columns</p>\n</div>"
     },
     "execution_count": 25,
     "metadata": {},
     "output_type": "execute_result"
    }
   ],
   "source": [
    "my_predictions_df"
   ]
  },
  {
   "cell_type": "code",
   "execution_count": 26,
   "id": "9c176f0dcb5faa9c",
   "metadata": {
    "collapsed": false,
    "ExecuteTime": {
     "end_time": "2023-12-07T17:38:45.775957100Z",
     "start_time": "2023-12-07T17:38:45.586514400Z"
    }
   },
   "outputs": [],
   "source": [
    "iris_labels_df = pd.DataFrame(iris_labels, columns=['labels'])\n",
    "\n",
    "my_predictions_df = pd.concat([my_predictions_df, iris_labels_df], axis=1)\n"
   ]
  },
  {
   "cell_type": "code",
   "execution_count": 27,
   "id": "fe92461bc9c2e37d",
   "metadata": {
    "collapsed": false,
    "ExecuteTime": {
     "end_time": "2023-12-07T17:38:45.820326600Z",
     "start_time": "2023-12-07T17:38:45.601515400Z"
    }
   },
   "outputs": [
    {
     "data": {
      "text/plain": "     Prediction  labels\n0      0.000158       0\n1      0.000135       0\n2      0.000142       0\n3      0.000129       0\n4      0.000159       0\n..          ...     ...\n145    0.000019       2\n146    0.000004       2\n147    0.000018       2\n148    0.000016       2\n149    0.000011       2\n\n[150 rows x 2 columns]",
      "text/html": "<div>\n<style scoped>\n    .dataframe tbody tr th:only-of-type {\n        vertical-align: middle;\n    }\n\n    .dataframe tbody tr th {\n        vertical-align: top;\n    }\n\n    .dataframe thead th {\n        text-align: right;\n    }\n</style>\n<table border=\"1\" class=\"dataframe\">\n  <thead>\n    <tr style=\"text-align: right;\">\n      <th></th>\n      <th>Prediction</th>\n      <th>labels</th>\n    </tr>\n  </thead>\n  <tbody>\n    <tr>\n      <th>0</th>\n      <td>0.000158</td>\n      <td>0</td>\n    </tr>\n    <tr>\n      <th>1</th>\n      <td>0.000135</td>\n      <td>0</td>\n    </tr>\n    <tr>\n      <th>2</th>\n      <td>0.000142</td>\n      <td>0</td>\n    </tr>\n    <tr>\n      <th>3</th>\n      <td>0.000129</td>\n      <td>0</td>\n    </tr>\n    <tr>\n      <th>4</th>\n      <td>0.000159</td>\n      <td>0</td>\n    </tr>\n    <tr>\n      <th>...</th>\n      <td>...</td>\n      <td>...</td>\n    </tr>\n    <tr>\n      <th>145</th>\n      <td>0.000019</td>\n      <td>2</td>\n    </tr>\n    <tr>\n      <th>146</th>\n      <td>0.000004</td>\n      <td>2</td>\n    </tr>\n    <tr>\n      <th>147</th>\n      <td>0.000018</td>\n      <td>2</td>\n    </tr>\n    <tr>\n      <th>148</th>\n      <td>0.000016</td>\n      <td>2</td>\n    </tr>\n    <tr>\n      <th>149</th>\n      <td>0.000011</td>\n      <td>2</td>\n    </tr>\n  </tbody>\n</table>\n<p>150 rows × 2 columns</p>\n</div>"
     },
     "execution_count": 27,
     "metadata": {},
     "output_type": "execute_result"
    }
   ],
   "source": [
    "my_predictions_df"
   ]
  },
  {
   "cell_type": "code",
   "execution_count": 28,
   "id": "a9dbb3eed4a46abb",
   "metadata": {
    "collapsed": false,
    "ExecuteTime": {
     "end_time": "2023-12-07T17:38:45.909633800Z",
     "start_time": "2023-12-07T17:38:45.618514700Z"
    }
   },
   "outputs": [],
   "source": [
    "my_predictions_df.to_csv('.\\projects_temp-data\\my_predictions_df_iris.csv', index=False)"
   ]
  },
  {
   "cell_type": "code",
   "execution_count": 29,
   "outputs": [
    {
     "data": {
      "text/plain": "   labels  positive_count  negative_count  sum\n0       0              50               0   50\n1       1              50               0   50\n2       2              32              18   50",
      "text/html": "<div>\n<style scoped>\n    .dataframe tbody tr th:only-of-type {\n        vertical-align: middle;\n    }\n\n    .dataframe tbody tr th {\n        vertical-align: top;\n    }\n\n    .dataframe thead th {\n        text-align: right;\n    }\n</style>\n<table border=\"1\" class=\"dataframe\">\n  <thead>\n    <tr style=\"text-align: right;\">\n      <th></th>\n      <th>labels</th>\n      <th>positive_count</th>\n      <th>negative_count</th>\n      <th>sum</th>\n    </tr>\n  </thead>\n  <tbody>\n    <tr>\n      <th>0</th>\n      <td>0</td>\n      <td>50</td>\n      <td>0</td>\n      <td>50</td>\n    </tr>\n    <tr>\n      <th>1</th>\n      <td>1</td>\n      <td>50</td>\n      <td>0</td>\n      <td>50</td>\n    </tr>\n    <tr>\n      <th>2</th>\n      <td>2</td>\n      <td>32</td>\n      <td>18</td>\n      <td>50</td>\n    </tr>\n  </tbody>\n</table>\n</div>"
     },
     "execution_count": 29,
     "metadata": {},
     "output_type": "execute_result"
    }
   ],
   "source": [
    "def count_positives_negatives(df):\n",
    "    \"\"\"\n",
    "    Count the number of positive and negative numbers in the 'Prediction' column for each unique value in the 'Target' column.\n",
    "\n",
    "    :param df: DataFrame with 'Target' and 'Prediction' columns\n",
    "    :return: DataFrame with the count of positive and negative predictions for each target\n",
    "    \"\"\"\n",
    "    # Group by 'Target' and then apply the counting logic\n",
    "    result = df.groupby('labels')['Prediction'].agg(\n",
    "        positive_count=lambda x: (x > 0).sum(),\n",
    "        negative_count=lambda x: (x < 0).sum(),\n",
    "        sum=lambda x: x.count()\n",
    "    ).reset_index()\n",
    "\n",
    "    return result\n",
    "\n",
    "# Apply the function to the predictions DataFrame\n",
    "result_df = count_positives_negatives(my_predictions_df)\n",
    "result_df"
   ],
   "metadata": {
    "collapsed": false,
    "ExecuteTime": {
     "end_time": "2023-12-07T17:38:45.911664200Z",
     "start_time": "2023-12-07T17:38:45.634513600Z"
    }
   },
   "id": "6120623a92febffe"
  },
  {
   "cell_type": "code",
   "execution_count": 29,
   "outputs": [],
   "source": [],
   "metadata": {
    "collapsed": false,
    "ExecuteTime": {
     "end_time": "2023-12-07T17:38:45.936632600Z",
     "start_time": "2023-12-07T17:38:45.647513300Z"
    }
   },
   "id": "bfa80004bee706aa"
  }
 ],
 "metadata": {
  "kernelspec": {
   "display_name": "Python 3 (ipykernel)",
   "language": "python",
   "name": "python3"
  },
  "language_info": {
   "codemirror_mode": {
    "name": "ipython",
    "version": 3
   },
   "file_extension": ".py",
   "mimetype": "text/x-python",
   "name": "python",
   "nbconvert_exporter": "python",
   "pygments_lexer": "ipython3",
   "version": "3.9.16"
  }
 },
 "nbformat": 4,
 "nbformat_minor": 5
}
