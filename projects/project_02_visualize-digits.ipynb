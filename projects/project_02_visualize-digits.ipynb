{
 "cells": [
  {
   "cell_type": "code",
   "execution_count": 1,
   "id": "d205769e02645fb9",
   "metadata": {
    "collapsed": false,
    "ExecuteTime": {
     "end_time": "2023-11-30T13:48:28.694329300Z",
     "start_time": "2023-11-30T13:48:28.311663500Z"
    }
   },
   "outputs": [],
   "source": [
    "import pandas as pd\n",
    "import numpy as np\n"
   ]
  },
  {
   "cell_type": "code",
   "execution_count": 2,
   "id": "initial_id",
   "metadata": {
    "collapsed": false,
    "ExecuteTime": {
     "end_time": "2023-11-30T13:48:29.926577800Z",
     "start_time": "2023-11-30T13:48:28.696328200Z"
    }
   },
   "outputs": [],
   "source": [
    "# URLs for the CSV files\n",
    "# url_csv_A = \"https://raw.githubusercontent.com/radiukpavlo/transition-matrix-ml/main/mnist/mnist_matrix_A.csv\"\n",
    "# url_csv_B = \"https://raw.githubusercontent.com/radiukpavlo/transition-matrix-ml/main/mnist/mnist_matrix_B.csv\"\n",
    "\n",
    "path_csv = '../mnist/'\n",
    "\n",
    "# Read the CSV files into pandas dataframes\n",
    "df_matrix_A_train = pd.read_csv(f\"{path_csv}/mnist_matrix_A_train.csv\")\n",
    "df_matrix_B_train = pd.read_csv(f\"{path_csv}/mnist_matrix_B_train.csv\")\n",
    "\n",
    "df_matrix_A_test = pd.read_csv(f\"{path_csv}/mnist_matrix_A_test.csv\")\n",
    "df_matrix_B_test = pd.read_csv(f\"{path_csv}/mnist_matrix_B_test.csv\")"
   ]
  },
  {
   "cell_type": "code",
   "execution_count": 3,
   "id": "5ab2939e56366a7d",
   "metadata": {
    "collapsed": false,
    "ExecuteTime": {
     "end_time": "2023-11-30T13:48:29.943597300Z",
     "start_time": "2023-11-30T13:48:29.930089Z"
    }
   },
   "outputs": [],
   "source": [
    "# df_matrix_A_train"
   ]
  },
  {
   "cell_type": "code",
   "execution_count": 4,
   "id": "92bce8109d11fee0",
   "metadata": {
    "collapsed": false,
    "ExecuteTime": {
     "end_time": "2023-11-30T13:48:29.974801800Z",
     "start_time": "2023-11-30T13:48:29.944596900Z"
    }
   },
   "outputs": [],
   "source": [
    "# df_matrix_B_train"
   ]
  },
  {
   "cell_type": "markdown",
   "id": "2f666f68b91a423f",
   "metadata": {},
   "source": [
    "## 1. Data Preparation"
   ]
  },
  {
   "cell_type": "code",
   "execution_count": 5,
   "id": "7c114d73e76cf3ab",
   "metadata": {
    "collapsed": false,
    "ExecuteTime": {
     "end_time": "2023-11-30T13:48:30.006884500Z",
     "start_time": "2023-11-30T13:48:29.961288Z"
    }
   },
   "outputs": [],
   "source": [
    "matrix_A_train = df_matrix_A_train.drop(df_matrix_A_train.columns[0], axis=1)\n",
    "matrix_A_test = df_matrix_A_test.drop(df_matrix_A_test.columns[0], axis=1)"
   ]
  },
  {
   "cell_type": "code",
   "execution_count": 6,
   "id": "31354666c9170ae8",
   "metadata": {
    "collapsed": false,
    "ExecuteTime": {
     "end_time": "2023-11-30T13:48:30.053465500Z",
     "start_time": "2023-11-30T13:48:29.993371100Z"
    }
   },
   "outputs": [],
   "source": [
    "# Extract the first column for unique IDs\n",
    "matrix_A_unique_id_train = matrix_A_train.iloc[:, 0].to_frame()\n",
    "matrix_A_unique_id_test = matrix_A_test.iloc[:, 0].to_frame()\n",
    "\n",
    "# Extract the remaining columns for matrix A\n",
    "matrix_A_final_train = matrix_A_train.iloc[:, 1:]\n",
    "matrix_A_final_test = matrix_A_test.iloc[:, 1:]\n",
    "\n",
    "# Extract the first column for unique IDs\n",
    "matrix_B_unique_id_train = df_matrix_B_train.iloc[:, 0].to_frame()\n",
    "matrix_B_unique_id_test = df_matrix_B_test.iloc[:, 0].to_frame()\n",
    "\n",
    "# Extract the second column for labels\n",
    "matrix_B_labels_train = df_matrix_B_train.iloc[:, 1].to_frame()\n",
    "matrix_B_labels_test = df_matrix_B_test.iloc[:, 1].to_frame()\n",
    "\n",
    "# Extract the remaining columns for matrix_B_final\n",
    "matrix_B_final_train = df_matrix_B_train.iloc[:, 2:]\n",
    "matrix_B_final_test = df_matrix_B_test.iloc[:, 2:]"
   ]
  },
  {
   "cell_type": "code",
   "execution_count": 7,
   "id": "7931ead2dd08b145",
   "metadata": {
    "collapsed": false,
    "ExecuteTime": {
     "end_time": "2023-11-30T13:48:30.071501500Z",
     "start_time": "2023-11-30T13:48:30.053465500Z"
    }
   },
   "outputs": [],
   "source": [
    "# matrix_A_final_train"
   ]
  },
  {
   "cell_type": "code",
   "execution_count": 8,
   "id": "c063b7dff2dc3030",
   "metadata": {
    "collapsed": false,
    "ExecuteTime": {
     "end_time": "2023-11-30T13:48:30.099801900Z",
     "start_time": "2023-11-30T13:48:30.070499300Z"
    }
   },
   "outputs": [],
   "source": [
    "# matrix_B_final_train"
   ]
  },
  {
   "cell_type": "code",
   "execution_count": 9,
   "id": "fc0fe0239e982d57",
   "metadata": {
    "collapsed": false,
    "ExecuteTime": {
     "end_time": "2023-11-30T13:48:30.101797700Z",
     "start_time": "2023-11-30T13:48:30.086846400Z"
    }
   },
   "outputs": [],
   "source": [
    "# Test matrices A\n",
    "\n",
    "# matrix_A_final_train = [[3, -2, -3, 1.5, 0.6],\n",
    "#                   [-1, -3, 1.5, 0.6, 1],\n",
    "#                   [1, -1, 0.844444444, -0.444444444, -3]]\n",
    "\n",
    "# matrix_A_final_train = [[2.80, -1.80, -2.80, 1.30, 0.40],\n",
    "#                   [3.00, -2.00, -3.00, 1.50, 0.60],\n",
    "#                   [3.20, -2.20, -3.20, 1.70, 0.80],\n",
    "#                   [-1.60, -2.50, 1.50, 0.20, 0.60],\n",
    "#                   [-1.00, -3.00, 1.50, 0.60, 1.00],\n",
    "#                   [-0.50, -3.50, 1.90, 1.00, 1.40],\n",
    "#                   [1.20, -1.20, 0.70, -0.30, -2.80],\n",
    "#                   [1.00, -1.00, 0.84, -0.44, -3.00],\n",
    "#                   [0.80, -0.80, 0.90, -0.50, -3.20]]\n",
    "\n",
    "# matrix_A_final_train = [[-1.827506713, -2.57210291],\n",
    "#                   [-1.805637206, -2.789008261],\n",
    "#                   [-1.812439839, -2.99995456],\n",
    "#                   [-2.035782748, -2.999989808],\n",
    "#                   [-2.225907357, -2.999830184],\n",
    "#                   [2.151465808, 2.349428929],\n",
    "#                   [2.146415535, 1.848879366],\n",
    "#                   [2.335563856, 1.572769993],\n",
    "#                   [2.512780867, 1.350090422],\n",
    "#                   [2.808853361, 1.168351448],\n",
    "#                   [-2.397040617, 2.674381769],\n",
    "#                   [-2.415455455, 2.889854745],\n",
    "#                   [-2.508854802, 2.999784436],\n",
    "#                   [-2.621571267, 2.999927152],\n",
    "#                   [-2.71963759, 2.998711285]]\n"
   ]
  },
  {
   "cell_type": "code",
   "execution_count": 10,
   "id": "54b68cd7a0fd0ec2",
   "metadata": {
    "collapsed": false,
    "ExecuteTime": {
     "end_time": "2023-11-30T13:48:30.128989300Z",
     "start_time": "2023-11-30T13:48:30.102796900Z"
    }
   },
   "outputs": [],
   "source": [
    "# Test matrices B\n",
    "# matrix_B_final_train = [[-1.843907868, 1.99818664, -1.912855282, -1.97511053],\n",
    "#                   [1.992023578, -1.923804827, 0.706593926, -1.543784398],\n",
    "#                   [1.107744254, 1.615475549, 1.723582196, 1.807614602]]\n",
    "\n",
    "# matrix_B_final_train = [[-1.979394104, 1.959307524, -1.381119943, -1.729640979],\n",
    "#                   [-1.843907868, 1.99818664, -1.912855282, -1.97511053],\n",
    "#                   [-1.999365095, 1.998896097, -1.999605076, -1.998916765],\n",
    "#                   [1.997775859, -1.844000202, 1.660111333, -1.373532039],\n",
    "#                   [1.992023578, -1.923804827, 0.706593926, -1.543784398],\n",
    "#                   [1.997854305, -1.999410881, -0.243400633, -1.827587263],\n",
    "#                   [0.851626415, 1.574201387, 1.581026838, 1.573934081],\n",
    "#                   [1.107744254, 1.615475549, 1.723582196, 1.807614602],\n",
    "#                   [1.290406093, 1.695289797, 1.953503509, 1.946250271]]\n",
    "\n",
    "# matrix_B_final_train = [[2.8, -1.8, -2.8, 1.3, 0.4],\n",
    "#                   [2.9, -1.9, -2.9, 1.4, 0.5],\n",
    "#                   [3, -2, -3, 1.5, 0.6],\n",
    "#                   [3.1, -2.1, -3.1, 1.6, 0.7],\n",
    "#                   [3.2, -2.2, -3.2, 1.7, 0.8],\n",
    "#                   [-1.6, -2.5, 1.5, 0.2, 0.6],\n",
    "#                   [-1.3, -2.7, 1.3, 0.4, 0.8],\n",
    "#                   [-1, -3, 1.5, 0.6, 1],\n",
    "#                   [-0.7, -3.2, 1.7, 0.8, 1.2],\n",
    "#                   [-0.5, -3.5, 1.9, 1, 1.4],\n",
    "#                   [1.2, -1.2, 0.7, -0.3, -2.8],\n",
    "#                   [1.1, -1.1, 0.8, -0.4, -2.9],\n",
    "#                   [1, -1, 0.844444444, -0.444444444, -3],\n",
    "#                   [0.9, -0.9, 0.85, -0.45, -3.1],\n",
    "#                   [0.8, -0.8, 0.9, -0.5, -3.2]]\n"
   ]
  },
  {
   "cell_type": "code",
   "execution_count": 11,
   "id": "94815f13d3a95431",
   "metadata": {
    "collapsed": false,
    "ExecuteTime": {
     "end_time": "2023-11-30T13:48:30.139502500Z",
     "start_time": "2023-11-30T13:48:30.118306900Z"
    }
   },
   "outputs": [],
   "source": [
    "df_matrix_A_final_train = pd.DataFrame(matrix_A_final_train)\n",
    "df_matrix_A_final_test = pd.DataFrame(matrix_A_final_test)"
   ]
  },
  {
   "cell_type": "code",
   "execution_count": 12,
   "id": "90a4b0d24399c1ae",
   "metadata": {
    "collapsed": false,
    "ExecuteTime": {
     "end_time": "2023-11-30T13:48:30.155856300Z",
     "start_time": "2023-11-30T13:48:30.133995700Z"
    }
   },
   "outputs": [],
   "source": [
    "# df_matrix_A_final_train"
   ]
  },
  {
   "cell_type": "code",
   "execution_count": 13,
   "id": "36f9d1b6a1dcf021",
   "metadata": {
    "collapsed": false,
    "ExecuteTime": {
     "end_time": "2023-11-30T13:48:30.166364200Z",
     "start_time": "2023-11-30T13:48:30.149858800Z"
    }
   },
   "outputs": [],
   "source": [
    "# df_matrix_A_final_test"
   ]
  },
  {
   "cell_type": "markdown",
   "id": "6c781eeb38de480b",
   "metadata": {},
   "source": [
    "## 2. Calculate Determinant"
   ]
  },
  {
   "cell_type": "code",
   "execution_count": 14,
   "id": "e7b436e6b8a6814c",
   "metadata": {
    "collapsed": false,
    "ExecuteTime": {
     "end_time": "2023-11-30T13:48:36.346196400Z",
     "start_time": "2023-11-30T13:48:30.166364200Z"
    }
   },
   "outputs": [
    {
     "name": "stdout",
     "output_type": "stream",
     "text": [
      "-0.0\n"
     ]
    }
   ],
   "source": [
    "# 1. Calculate the transpose of matrix_A_final\n",
    "matrix_A_final_train_transpose = df_matrix_A_final_train.transpose()\n",
    "\n",
    "# 2. Calculate the multiplication of matrix_A_final and matrix_A_final_transpose\n",
    "matrix_A_final_train_mmult = np.dot(df_matrix_A_final_train.values, matrix_A_final_train_transpose.values)\n",
    "\n",
    "# 3. Calculate the determinant of matrix_A_final_mmult\n",
    "matrix_A_final_train_determinant = np.linalg.det(matrix_A_final_train_mmult)\n",
    "\n",
    "print(matrix_A_final_train_determinant)\n"
   ]
  },
  {
   "cell_type": "markdown",
   "id": "7daf14234ebfc257",
   "metadata": {},
   "source": [
    "## 3. Calculate Transition Matrix"
   ]
  },
  {
   "cell_type": "markdown",
   "id": "60b2e72dba24557b",
   "metadata": {},
   "source": [
    "### 3.1. Singular Value Decomposition (SVD)"
   ]
  },
  {
   "cell_type": "code",
   "execution_count": 15,
   "id": "a85267d9b0432aa",
   "metadata": {
    "collapsed": false,
    "ExecuteTime": {
     "end_time": "2023-11-30T13:48:39.439580200Z",
     "start_time": "2023-11-30T13:48:36.349250700Z"
    }
   },
   "outputs": [
    {
     "name": "stdout",
     "output_type": "stream",
     "text": [
      "U:\n",
      " [[-1.54780666e-02 -1.41638927e-02  1.05845736e-02 ...  1.51258614e-04\n",
      "  -2.17958598e-03 -4.62022689e-03]\n",
      " [-1.15935035e-02 -1.66897114e-02 -1.30926663e-02 ...  2.26793933e-03\n",
      "   5.59471096e-04 -5.30190927e-04]\n",
      " [-9.33083688e-03 -3.83937507e-03  9.78539366e-03 ...  3.04485946e-05\n",
      "   1.26249841e-03  1.96165521e-03]\n",
      " ...\n",
      " [-9.55440523e-03  1.18578646e-02 -1.75987392e-03 ...  9.75921408e-01\n",
      "   5.41127891e-04 -1.89074361e-03]\n",
      " [-5.94360502e-03  8.26395932e-03  1.10433637e-02 ...  7.41224033e-04\n",
      "   9.89223751e-01  8.71814853e-04]\n",
      " [-8.44349374e-03 -1.11604347e-02 -6.24253571e-03 ... -1.12488788e-03\n",
      "   8.54547750e-04  9.73988783e-01]]\n",
      "\n",
      "S:\n",
      " [[974.27194538   0.           0.         ...   0.           0.\n",
      "    0.        ]\n",
      " [  0.         457.404426     0.         ...   0.           0.\n",
      "    0.        ]\n",
      " [  0.           0.         388.3576877  ...   0.           0.\n",
      "    0.        ]\n",
      " ...\n",
      " [  0.           0.           0.         ...   0.           0.\n",
      "    0.        ]\n",
      " [  0.           0.           0.         ...   0.           0.\n",
      "    0.        ]\n",
      " [  0.           0.           0.         ...   0.           0.\n",
      "    0.        ]]\n",
      "\n",
      "Vt:\n",
      " [[-4.38948556e-04 -5.82258707e-03 -2.84121777e-02 ... -6.90627439e-02\n",
      "  -1.24939810e-02 -5.35086195e-04]\n",
      " [-5.35607195e-04 -6.21404612e-03 -3.06679752e-02 ...  7.22759407e-02\n",
      "  -2.12067278e-03  2.33357409e-04]\n",
      " [ 4.38521763e-04  5.05379860e-03  2.28261306e-02 ... -6.18930133e-02\n",
      "  -2.05637583e-02 -1.02639830e-03]\n",
      " ...\n",
      " [ 0.00000000e+00  1.08341645e-16  6.73750041e-17 ...  2.42058641e-17\n",
      "   2.90626284e-17 -8.63661084e-16]\n",
      " [ 0.00000000e+00  1.67355648e-16 -9.87337388e-19 ... -7.74040461e-17\n",
      "   1.05699918e-16 -1.79453272e-16]\n",
      " [ 0.00000000e+00 -1.15219570e-16  9.80288724e-17 ... -2.87836852e-17\n",
      "  -1.79486506e-17  6.96907288e-17]]\n"
     ]
    }
   ],
   "source": [
    "# Receive values from the matrix A DataFrame \n",
    "matrix_A_final_train_values = df_matrix_A_final_train.values\n",
    "\n",
    "# Calculate SVD\n",
    "U, s, Vt = np.linalg.svd(matrix_A_final_train_values)\n",
    "\n",
    "# Construct the full diagonal matrix\n",
    "S = np.zeros(matrix_A_final_train_values.shape)\n",
    "for i in range(min(matrix_A_final_train_values.shape)):\n",
    "    S[i, i] = s[i]\n",
    "\n",
    "print(\"U:\\n\", U)\n",
    "print(\"\\nS:\\n\", S)\n",
    "print(\"\\nVt:\\n\", Vt)\n"
   ]
  },
  {
   "cell_type": "code",
   "execution_count": 16,
   "id": "60087eefef52d0e3",
   "metadata": {
    "collapsed": false,
    "ExecuteTime": {
     "end_time": "2023-11-30T13:48:39.461625600Z",
     "start_time": "2023-11-30T13:48:39.441576500Z"
    }
   },
   "outputs": [
    {
     "data": {
      "text/plain": "(10000, 10000)"
     },
     "execution_count": 16,
     "metadata": {},
     "output_type": "execute_result"
    }
   ],
   "source": [
    "U.shape"
   ]
  },
  {
   "cell_type": "markdown",
   "id": "c30ceef099c78a1",
   "metadata": {},
   "source": [
    "### 3.2. Create the reconstructed matrix of SVD"
   ]
  },
  {
   "cell_type": "code",
   "execution_count": 17,
   "id": "4665818866492a6a",
   "metadata": {
    "collapsed": false,
    "ExecuteTime": {
     "end_time": "2023-11-30T13:48:40.219550100Z",
     "start_time": "2023-11-30T13:48:39.462623800Z"
    }
   },
   "outputs": [],
   "source": [
    "# Recompute the original matrix using U, S, and Vt\n",
    "reconstructed_matrix = U.dot(S.dot(Vt))\n",
    "\n",
    "# Convert the reconstructed matrix to a pandas DataFrame, if desired\n",
    "reconstructed_df = pd.DataFrame(reconstructed_matrix)\n"
   ]
  },
  {
   "cell_type": "code",
   "execution_count": 18,
   "id": "4e5cf9559e88341f",
   "metadata": {
    "collapsed": false,
    "ExecuteTime": {
     "end_time": "2023-11-30T13:48:40.273678Z",
     "start_time": "2023-11-30T13:48:40.212038Z"
    }
   },
   "outputs": [
    {
     "data": {
      "text/plain": "               0             1             2             3             4    \\\n0     2.489328e-16  7.351460e-15  9.032695e-01  1.718601e+00  1.755106e-15   \n1    -1.023487e-16  4.073131e-15 -1.123233e-14  6.100464e-01  1.566417e+00   \n2     4.059253e-16 -6.702538e-16  7.210595e-15  1.806610e+00  1.548320e+00   \n3    -1.023487e-16  2.867498e-15  4.803124e-15  7.758981e-01  7.885861e-01   \n4    -2.142383e-16  6.895526e-16  6.667410e-15  1.495034e-01  9.108762e-15   \n...            ...           ...           ...           ...           ...   \n9995  1.387779e-16  1.099121e-14  7.719519e-15  8.795048e-16  2.527384e-15   \n9996 -8.205242e-16 -2.597748e-15  6.077604e-15  1.152444e+00  1.639893e+00   \n9997 -4.649059e-16  8.822804e-15  1.360836e-15  6.775613e-15  7.046230e-16   \n9998  2.944693e-16 -5.169476e-16  8.522805e-15  2.830935e-01  2.458320e-15   \n9999  4.007211e-16  3.021671e-15  5.038071e-15  2.062911e-15 -4.237062e-16   \n\n               5             6             7             8             9    \\\n0     1.434616e-15 -1.084202e-16 -1.257458e-15  7.352450e-01  8.973203e-01   \n1     5.958696e-01  1.935951e-15 -4.266552e-15 -3.641185e-15  4.525226e-01   \n2    -1.395585e-15  4.440892e-16  2.141082e-15 -4.528496e-15  1.437696e+00   \n3    -1.641048e-15 -2.866631e-16 -1.509209e-16 -3.299010e-15 -5.455055e-15   \n4    -8.514890e-15 -1.105019e-15 -1.503138e-15  1.928823e-15  8.895337e-16   \n...            ...           ...           ...           ...           ...   \n9995  1.600282e-15  3.885781e-16  3.035897e-01  1.756173e+00  2.096429e+00   \n9996 -1.069457e-15 -4.579670e-16 -7.806256e-17  8.383572e-02  8.668661e-01   \n9997 -1.909497e-15 -1.731254e-15  2.862294e-17  2.327905e-01  6.617715e-01   \n9998  1.838807e-15 -5.551115e-16 -5.223686e-16  1.209644e-15  2.181876e-15   \n9999 -1.318390e-16  8.881784e-16  1.786982e-15 -1.032160e-15  7.771019e-16   \n\n      ...           480           481           482           483  \\\n0     ...  2.540933e+00  5.384482e+00  2.273355e-15 -1.647987e-17   \n1     ...  2.364520e+00  4.119849e+00 -2.171874e-15  1.344411e-17   \n2     ... -2.723624e-14  2.092778e-01 -1.993631e-15  1.058181e-16   \n3     ...  2.141561e+00  1.296514e+00 -1.092876e-16  1.860544e-01   \n4     ... -6.120050e-15 -2.757668e-16  4.953720e-16  1.387779e-17   \n...   ...           ...           ...           ...           ...   \n9995  ...  4.760990e+00  4.690363e+00  1.462372e-15 -1.409463e-16   \n9996  ...  1.478740e+00  2.062369e+00  2.699230e-15  2.111786e-01   \n9997  ...  2.610151e+00  1.420608e-14  1.514630e-15  4.119968e-17   \n9998  ...  5.434279e-15  5.483027e-15  4.162794e-16  3.209238e-17   \n9999  ...  2.193679e+00  2.494122e+00 -4.549312e-16 -1.534146e-17   \n\n               484           485           486           487           488  \\\n0    -2.966377e-16  4.436970e-03 -1.312622e-14  5.115880e-01 -5.984796e-17   \n1     3.070461e-16 -5.803734e-15 -1.674182e-14  7.696789e-01  4.579670e-16   \n2     3.932423e-01 -4.591379e-15 -1.228401e-14 -1.426723e-14  1.120371e-02   \n3     2.641162e-01 -4.367492e-15  1.997272e-01 -8.681640e-15  2.237793e-16   \n4    -1.849649e-16  1.805512e-01  1.260595e+00 -4.831212e-15  2.511012e-16   \n...            ...           ...           ...           ...           ...   \n9995 -1.214306e-17 -4.311222e-15  1.460578e-01  2.425460e+00  3.720982e-16   \n9996  6.194506e-01 -4.230557e-16 -9.477879e-15  2.150875e+00  2.342818e-01   \n9997  3.417405e-16  2.734728e+00  3.268774e+00 -6.872866e-15 -5.516421e-16   \n9998  1.383442e-16  1.921019e+00  3.280038e-01 -2.818871e-15 -6.683022e-16   \n9999  5.516421e-16 -1.538374e-15 -6.434713e-15 -3.139416e-15  9.187529e-16   \n\n               489  \n0    -4.857226e-17  \n1    -1.387779e-16  \n2     1.538217e-03  \n3     1.538217e-03  \n4     1.538217e-03  \n...            ...  \n9995  1.734723e-17  \n9996  9.367507e-17  \n9997  1.538217e-03  \n9998  1.538217e-03  \n9999  1.538217e-03  \n\n[10000 rows x 490 columns]",
      "text/html": "<div>\n<style scoped>\n    .dataframe tbody tr th:only-of-type {\n        vertical-align: middle;\n    }\n\n    .dataframe tbody tr th {\n        vertical-align: top;\n    }\n\n    .dataframe thead th {\n        text-align: right;\n    }\n</style>\n<table border=\"1\" class=\"dataframe\">\n  <thead>\n    <tr style=\"text-align: right;\">\n      <th></th>\n      <th>0</th>\n      <th>1</th>\n      <th>2</th>\n      <th>3</th>\n      <th>4</th>\n      <th>5</th>\n      <th>6</th>\n      <th>7</th>\n      <th>8</th>\n      <th>9</th>\n      <th>...</th>\n      <th>480</th>\n      <th>481</th>\n      <th>482</th>\n      <th>483</th>\n      <th>484</th>\n      <th>485</th>\n      <th>486</th>\n      <th>487</th>\n      <th>488</th>\n      <th>489</th>\n    </tr>\n  </thead>\n  <tbody>\n    <tr>\n      <th>0</th>\n      <td>2.489328e-16</td>\n      <td>7.351460e-15</td>\n      <td>9.032695e-01</td>\n      <td>1.718601e+00</td>\n      <td>1.755106e-15</td>\n      <td>1.434616e-15</td>\n      <td>-1.084202e-16</td>\n      <td>-1.257458e-15</td>\n      <td>7.352450e-01</td>\n      <td>8.973203e-01</td>\n      <td>...</td>\n      <td>2.540933e+00</td>\n      <td>5.384482e+00</td>\n      <td>2.273355e-15</td>\n      <td>-1.647987e-17</td>\n      <td>-2.966377e-16</td>\n      <td>4.436970e-03</td>\n      <td>-1.312622e-14</td>\n      <td>5.115880e-01</td>\n      <td>-5.984796e-17</td>\n      <td>-4.857226e-17</td>\n    </tr>\n    <tr>\n      <th>1</th>\n      <td>-1.023487e-16</td>\n      <td>4.073131e-15</td>\n      <td>-1.123233e-14</td>\n      <td>6.100464e-01</td>\n      <td>1.566417e+00</td>\n      <td>5.958696e-01</td>\n      <td>1.935951e-15</td>\n      <td>-4.266552e-15</td>\n      <td>-3.641185e-15</td>\n      <td>4.525226e-01</td>\n      <td>...</td>\n      <td>2.364520e+00</td>\n      <td>4.119849e+00</td>\n      <td>-2.171874e-15</td>\n      <td>1.344411e-17</td>\n      <td>3.070461e-16</td>\n      <td>-5.803734e-15</td>\n      <td>-1.674182e-14</td>\n      <td>7.696789e-01</td>\n      <td>4.579670e-16</td>\n      <td>-1.387779e-16</td>\n    </tr>\n    <tr>\n      <th>2</th>\n      <td>4.059253e-16</td>\n      <td>-6.702538e-16</td>\n      <td>7.210595e-15</td>\n      <td>1.806610e+00</td>\n      <td>1.548320e+00</td>\n      <td>-1.395585e-15</td>\n      <td>4.440892e-16</td>\n      <td>2.141082e-15</td>\n      <td>-4.528496e-15</td>\n      <td>1.437696e+00</td>\n      <td>...</td>\n      <td>-2.723624e-14</td>\n      <td>2.092778e-01</td>\n      <td>-1.993631e-15</td>\n      <td>1.058181e-16</td>\n      <td>3.932423e-01</td>\n      <td>-4.591379e-15</td>\n      <td>-1.228401e-14</td>\n      <td>-1.426723e-14</td>\n      <td>1.120371e-02</td>\n      <td>1.538217e-03</td>\n    </tr>\n    <tr>\n      <th>3</th>\n      <td>-1.023487e-16</td>\n      <td>2.867498e-15</td>\n      <td>4.803124e-15</td>\n      <td>7.758981e-01</td>\n      <td>7.885861e-01</td>\n      <td>-1.641048e-15</td>\n      <td>-2.866631e-16</td>\n      <td>-1.509209e-16</td>\n      <td>-3.299010e-15</td>\n      <td>-5.455055e-15</td>\n      <td>...</td>\n      <td>2.141561e+00</td>\n      <td>1.296514e+00</td>\n      <td>-1.092876e-16</td>\n      <td>1.860544e-01</td>\n      <td>2.641162e-01</td>\n      <td>-4.367492e-15</td>\n      <td>1.997272e-01</td>\n      <td>-8.681640e-15</td>\n      <td>2.237793e-16</td>\n      <td>1.538217e-03</td>\n    </tr>\n    <tr>\n      <th>4</th>\n      <td>-2.142383e-16</td>\n      <td>6.895526e-16</td>\n      <td>6.667410e-15</td>\n      <td>1.495034e-01</td>\n      <td>9.108762e-15</td>\n      <td>-8.514890e-15</td>\n      <td>-1.105019e-15</td>\n      <td>-1.503138e-15</td>\n      <td>1.928823e-15</td>\n      <td>8.895337e-16</td>\n      <td>...</td>\n      <td>-6.120050e-15</td>\n      <td>-2.757668e-16</td>\n      <td>4.953720e-16</td>\n      <td>1.387779e-17</td>\n      <td>-1.849649e-16</td>\n      <td>1.805512e-01</td>\n      <td>1.260595e+00</td>\n      <td>-4.831212e-15</td>\n      <td>2.511012e-16</td>\n      <td>1.538217e-03</td>\n    </tr>\n    <tr>\n      <th>...</th>\n      <td>...</td>\n      <td>...</td>\n      <td>...</td>\n      <td>...</td>\n      <td>...</td>\n      <td>...</td>\n      <td>...</td>\n      <td>...</td>\n      <td>...</td>\n      <td>...</td>\n      <td>...</td>\n      <td>...</td>\n      <td>...</td>\n      <td>...</td>\n      <td>...</td>\n      <td>...</td>\n      <td>...</td>\n      <td>...</td>\n      <td>...</td>\n      <td>...</td>\n      <td>...</td>\n    </tr>\n    <tr>\n      <th>9995</th>\n      <td>1.387779e-16</td>\n      <td>1.099121e-14</td>\n      <td>7.719519e-15</td>\n      <td>8.795048e-16</td>\n      <td>2.527384e-15</td>\n      <td>1.600282e-15</td>\n      <td>3.885781e-16</td>\n      <td>3.035897e-01</td>\n      <td>1.756173e+00</td>\n      <td>2.096429e+00</td>\n      <td>...</td>\n      <td>4.760990e+00</td>\n      <td>4.690363e+00</td>\n      <td>1.462372e-15</td>\n      <td>-1.409463e-16</td>\n      <td>-1.214306e-17</td>\n      <td>-4.311222e-15</td>\n      <td>1.460578e-01</td>\n      <td>2.425460e+00</td>\n      <td>3.720982e-16</td>\n      <td>1.734723e-17</td>\n    </tr>\n    <tr>\n      <th>9996</th>\n      <td>-8.205242e-16</td>\n      <td>-2.597748e-15</td>\n      <td>6.077604e-15</td>\n      <td>1.152444e+00</td>\n      <td>1.639893e+00</td>\n      <td>-1.069457e-15</td>\n      <td>-4.579670e-16</td>\n      <td>-7.806256e-17</td>\n      <td>8.383572e-02</td>\n      <td>8.668661e-01</td>\n      <td>...</td>\n      <td>1.478740e+00</td>\n      <td>2.062369e+00</td>\n      <td>2.699230e-15</td>\n      <td>2.111786e-01</td>\n      <td>6.194506e-01</td>\n      <td>-4.230557e-16</td>\n      <td>-9.477879e-15</td>\n      <td>2.150875e+00</td>\n      <td>2.342818e-01</td>\n      <td>9.367507e-17</td>\n    </tr>\n    <tr>\n      <th>9997</th>\n      <td>-4.649059e-16</td>\n      <td>8.822804e-15</td>\n      <td>1.360836e-15</td>\n      <td>6.775613e-15</td>\n      <td>7.046230e-16</td>\n      <td>-1.909497e-15</td>\n      <td>-1.731254e-15</td>\n      <td>2.862294e-17</td>\n      <td>2.327905e-01</td>\n      <td>6.617715e-01</td>\n      <td>...</td>\n      <td>2.610151e+00</td>\n      <td>1.420608e-14</td>\n      <td>1.514630e-15</td>\n      <td>4.119968e-17</td>\n      <td>3.417405e-16</td>\n      <td>2.734728e+00</td>\n      <td>3.268774e+00</td>\n      <td>-6.872866e-15</td>\n      <td>-5.516421e-16</td>\n      <td>1.538217e-03</td>\n    </tr>\n    <tr>\n      <th>9998</th>\n      <td>2.944693e-16</td>\n      <td>-5.169476e-16</td>\n      <td>8.522805e-15</td>\n      <td>2.830935e-01</td>\n      <td>2.458320e-15</td>\n      <td>1.838807e-15</td>\n      <td>-5.551115e-16</td>\n      <td>-5.223686e-16</td>\n      <td>1.209644e-15</td>\n      <td>2.181876e-15</td>\n      <td>...</td>\n      <td>5.434279e-15</td>\n      <td>5.483027e-15</td>\n      <td>4.162794e-16</td>\n      <td>3.209238e-17</td>\n      <td>1.383442e-16</td>\n      <td>1.921019e+00</td>\n      <td>3.280038e-01</td>\n      <td>-2.818871e-15</td>\n      <td>-6.683022e-16</td>\n      <td>1.538217e-03</td>\n    </tr>\n    <tr>\n      <th>9999</th>\n      <td>4.007211e-16</td>\n      <td>3.021671e-15</td>\n      <td>5.038071e-15</td>\n      <td>2.062911e-15</td>\n      <td>-4.237062e-16</td>\n      <td>-1.318390e-16</td>\n      <td>8.881784e-16</td>\n      <td>1.786982e-15</td>\n      <td>-1.032160e-15</td>\n      <td>7.771019e-16</td>\n      <td>...</td>\n      <td>2.193679e+00</td>\n      <td>2.494122e+00</td>\n      <td>-4.549312e-16</td>\n      <td>-1.534146e-17</td>\n      <td>5.516421e-16</td>\n      <td>-1.538374e-15</td>\n      <td>-6.434713e-15</td>\n      <td>-3.139416e-15</td>\n      <td>9.187529e-16</td>\n      <td>1.538217e-03</td>\n    </tr>\n  </tbody>\n</table>\n<p>10000 rows × 490 columns</p>\n</div>"
     },
     "execution_count": 18,
     "metadata": {},
     "output_type": "execute_result"
    }
   ],
   "source": [
    "reconstructed_df"
   ]
  },
  {
   "cell_type": "markdown",
   "id": "6a353b8087b46d40",
   "metadata": {},
   "source": [
    "### 3.3. Calculate the generalized inverse of Matrix A"
   ]
  },
  {
   "cell_type": "code",
   "execution_count": 19,
   "id": "855fd6044ced7d52",
   "metadata": {
    "collapsed": false,
    "ExecuteTime": {
     "end_time": "2023-11-30T13:48:40.686500500Z",
     "start_time": "2023-11-30T13:48:40.263166600Z"
    }
   },
   "outputs": [],
   "source": [
    "# Calculate the generalized (Moore-Penrose) inverse\n",
    "matrix_A_final_train_pinv = np.linalg.pinv(df_matrix_A_final_train.values)\n",
    "\n",
    "# Convert to a pandas DataFrame, if desired\n",
    "matrix_A_final_train_pinv_df = pd.DataFrame(matrix_A_final_train_pinv)\n"
   ]
  },
  {
   "cell_type": "code",
   "execution_count": 20,
   "id": "633955ee8b987a64",
   "metadata": {
    "collapsed": false,
    "ExecuteTime": {
     "end_time": "2023-11-30T13:48:40.699147300Z",
     "start_time": "2023-11-30T13:48:40.686500500Z"
    }
   },
   "outputs": [],
   "source": [
    "# matrix_A_final_train_pinv_df"
   ]
  },
  {
   "cell_type": "markdown",
   "id": "1ad5df044f595f75",
   "metadata": {},
   "source": [
    "### 3.4. Calculate transition matrix T"
   ]
  },
  {
   "cell_type": "code",
   "execution_count": 21,
   "id": "dcbc3da27151442f",
   "metadata": {
    "collapsed": false,
    "ExecuteTime": {
     "end_time": "2023-11-30T13:48:40.746012100Z",
     "start_time": "2023-11-30T13:48:40.700296500Z"
    }
   },
   "outputs": [],
   "source": [
    "transition_matrix_T = matrix_A_final_train_pinv_df.dot(matrix_B_final_train)"
   ]
  },
  {
   "cell_type": "code",
   "execution_count": 22,
   "id": "ea41401d2b998f53",
   "metadata": {
    "collapsed": false,
    "ExecuteTime": {
     "end_time": "2023-11-30T13:48:40.792586300Z",
     "start_time": "2023-11-30T13:48:40.747014100Z"
    }
   },
   "outputs": [
    {
     "data": {
      "text/plain": "     pixel0  pixel1  pixel2  pixel3  pixel4  pixel5  pixel6  pixel7  pixel8  \\\n0       0.0     0.0     0.0     0.0     0.0     0.0     0.0     0.0     0.0   \n1       0.0     0.0     0.0     0.0     0.0     0.0     0.0     0.0     0.0   \n2       0.0     0.0     0.0     0.0     0.0     0.0     0.0     0.0     0.0   \n3       0.0     0.0     0.0     0.0     0.0     0.0     0.0     0.0     0.0   \n4       0.0     0.0     0.0     0.0     0.0     0.0     0.0     0.0     0.0   \n..      ...     ...     ...     ...     ...     ...     ...     ...     ...   \n485     0.0     0.0     0.0     0.0     0.0     0.0     0.0     0.0     0.0   \n486     0.0     0.0     0.0     0.0     0.0     0.0     0.0     0.0     0.0   \n487     0.0     0.0     0.0     0.0     0.0     0.0     0.0     0.0     0.0   \n488     0.0     0.0     0.0     0.0     0.0     0.0     0.0     0.0     0.0   \n489     0.0     0.0     0.0     0.0     0.0     0.0     0.0     0.0     0.0   \n\n     pixel9  ...  pixel774  pixel775  pixel776  pixel777  pixel778  pixel779  \\\n0       0.0  ... -0.003493  0.000710  0.000224 -0.000808 -0.001841 -0.000319   \n1       0.0  ... -0.000616 -0.000944  0.000200  0.000273  0.000423  0.000046   \n2       0.0  ...  0.000129  0.000094  0.000045 -0.000054 -0.000203 -0.000046   \n3       0.0  ... -0.000091 -0.000014 -0.000006  0.000052  0.000057  0.000001   \n4       0.0  ... -0.000135 -0.000015 -0.000026 -0.000154 -0.000301 -0.000046   \n..      ...  ...       ...       ...       ...       ...       ...       ...   \n485     0.0  ... -0.000887 -0.000524 -0.000017 -0.000039 -0.000300 -0.000081   \n486     0.0  ... -0.000668 -0.000056  0.000019  0.000045  0.000029 -0.000005   \n487     0.0  ...  0.003242  0.000940  0.000014 -0.000092 -0.000349 -0.000079   \n488     0.0  ...  0.014402  0.015915  0.001321  0.000010  0.000081  0.000022   \n489     0.0  ... -0.005039 -0.006582 -0.000481  0.003421  0.027724  0.007496   \n\n     pixel780  pixel781  pixel782  pixel783  \n0         0.0       0.0       0.0       0.0  \n1         0.0       0.0       0.0       0.0  \n2         0.0       0.0       0.0       0.0  \n3         0.0       0.0       0.0       0.0  \n4         0.0       0.0       0.0       0.0  \n..        ...       ...       ...       ...  \n485       0.0       0.0       0.0       0.0  \n486       0.0       0.0       0.0       0.0  \n487       0.0       0.0       0.0       0.0  \n488       0.0       0.0       0.0       0.0  \n489       0.0       0.0       0.0       0.0  \n\n[490 rows x 784 columns]",
      "text/html": "<div>\n<style scoped>\n    .dataframe tbody tr th:only-of-type {\n        vertical-align: middle;\n    }\n\n    .dataframe tbody tr th {\n        vertical-align: top;\n    }\n\n    .dataframe thead th {\n        text-align: right;\n    }\n</style>\n<table border=\"1\" class=\"dataframe\">\n  <thead>\n    <tr style=\"text-align: right;\">\n      <th></th>\n      <th>pixel0</th>\n      <th>pixel1</th>\n      <th>pixel2</th>\n      <th>pixel3</th>\n      <th>pixel4</th>\n      <th>pixel5</th>\n      <th>pixel6</th>\n      <th>pixel7</th>\n      <th>pixel8</th>\n      <th>pixel9</th>\n      <th>...</th>\n      <th>pixel774</th>\n      <th>pixel775</th>\n      <th>pixel776</th>\n      <th>pixel777</th>\n      <th>pixel778</th>\n      <th>pixel779</th>\n      <th>pixel780</th>\n      <th>pixel781</th>\n      <th>pixel782</th>\n      <th>pixel783</th>\n    </tr>\n  </thead>\n  <tbody>\n    <tr>\n      <th>0</th>\n      <td>0.0</td>\n      <td>0.0</td>\n      <td>0.0</td>\n      <td>0.0</td>\n      <td>0.0</td>\n      <td>0.0</td>\n      <td>0.0</td>\n      <td>0.0</td>\n      <td>0.0</td>\n      <td>0.0</td>\n      <td>...</td>\n      <td>-0.003493</td>\n      <td>0.000710</td>\n      <td>0.000224</td>\n      <td>-0.000808</td>\n      <td>-0.001841</td>\n      <td>-0.000319</td>\n      <td>0.0</td>\n      <td>0.0</td>\n      <td>0.0</td>\n      <td>0.0</td>\n    </tr>\n    <tr>\n      <th>1</th>\n      <td>0.0</td>\n      <td>0.0</td>\n      <td>0.0</td>\n      <td>0.0</td>\n      <td>0.0</td>\n      <td>0.0</td>\n      <td>0.0</td>\n      <td>0.0</td>\n      <td>0.0</td>\n      <td>0.0</td>\n      <td>...</td>\n      <td>-0.000616</td>\n      <td>-0.000944</td>\n      <td>0.000200</td>\n      <td>0.000273</td>\n      <td>0.000423</td>\n      <td>0.000046</td>\n      <td>0.0</td>\n      <td>0.0</td>\n      <td>0.0</td>\n      <td>0.0</td>\n    </tr>\n    <tr>\n      <th>2</th>\n      <td>0.0</td>\n      <td>0.0</td>\n      <td>0.0</td>\n      <td>0.0</td>\n      <td>0.0</td>\n      <td>0.0</td>\n      <td>0.0</td>\n      <td>0.0</td>\n      <td>0.0</td>\n      <td>0.0</td>\n      <td>...</td>\n      <td>0.000129</td>\n      <td>0.000094</td>\n      <td>0.000045</td>\n      <td>-0.000054</td>\n      <td>-0.000203</td>\n      <td>-0.000046</td>\n      <td>0.0</td>\n      <td>0.0</td>\n      <td>0.0</td>\n      <td>0.0</td>\n    </tr>\n    <tr>\n      <th>3</th>\n      <td>0.0</td>\n      <td>0.0</td>\n      <td>0.0</td>\n      <td>0.0</td>\n      <td>0.0</td>\n      <td>0.0</td>\n      <td>0.0</td>\n      <td>0.0</td>\n      <td>0.0</td>\n      <td>0.0</td>\n      <td>...</td>\n      <td>-0.000091</td>\n      <td>-0.000014</td>\n      <td>-0.000006</td>\n      <td>0.000052</td>\n      <td>0.000057</td>\n      <td>0.000001</td>\n      <td>0.0</td>\n      <td>0.0</td>\n      <td>0.0</td>\n      <td>0.0</td>\n    </tr>\n    <tr>\n      <th>4</th>\n      <td>0.0</td>\n      <td>0.0</td>\n      <td>0.0</td>\n      <td>0.0</td>\n      <td>0.0</td>\n      <td>0.0</td>\n      <td>0.0</td>\n      <td>0.0</td>\n      <td>0.0</td>\n      <td>0.0</td>\n      <td>...</td>\n      <td>-0.000135</td>\n      <td>-0.000015</td>\n      <td>-0.000026</td>\n      <td>-0.000154</td>\n      <td>-0.000301</td>\n      <td>-0.000046</td>\n      <td>0.0</td>\n      <td>0.0</td>\n      <td>0.0</td>\n      <td>0.0</td>\n    </tr>\n    <tr>\n      <th>...</th>\n      <td>...</td>\n      <td>...</td>\n      <td>...</td>\n      <td>...</td>\n      <td>...</td>\n      <td>...</td>\n      <td>...</td>\n      <td>...</td>\n      <td>...</td>\n      <td>...</td>\n      <td>...</td>\n      <td>...</td>\n      <td>...</td>\n      <td>...</td>\n      <td>...</td>\n      <td>...</td>\n      <td>...</td>\n      <td>...</td>\n      <td>...</td>\n      <td>...</td>\n      <td>...</td>\n    </tr>\n    <tr>\n      <th>485</th>\n      <td>0.0</td>\n      <td>0.0</td>\n      <td>0.0</td>\n      <td>0.0</td>\n      <td>0.0</td>\n      <td>0.0</td>\n      <td>0.0</td>\n      <td>0.0</td>\n      <td>0.0</td>\n      <td>0.0</td>\n      <td>...</td>\n      <td>-0.000887</td>\n      <td>-0.000524</td>\n      <td>-0.000017</td>\n      <td>-0.000039</td>\n      <td>-0.000300</td>\n      <td>-0.000081</td>\n      <td>0.0</td>\n      <td>0.0</td>\n      <td>0.0</td>\n      <td>0.0</td>\n    </tr>\n    <tr>\n      <th>486</th>\n      <td>0.0</td>\n      <td>0.0</td>\n      <td>0.0</td>\n      <td>0.0</td>\n      <td>0.0</td>\n      <td>0.0</td>\n      <td>0.0</td>\n      <td>0.0</td>\n      <td>0.0</td>\n      <td>0.0</td>\n      <td>...</td>\n      <td>-0.000668</td>\n      <td>-0.000056</td>\n      <td>0.000019</td>\n      <td>0.000045</td>\n      <td>0.000029</td>\n      <td>-0.000005</td>\n      <td>0.0</td>\n      <td>0.0</td>\n      <td>0.0</td>\n      <td>0.0</td>\n    </tr>\n    <tr>\n      <th>487</th>\n      <td>0.0</td>\n      <td>0.0</td>\n      <td>0.0</td>\n      <td>0.0</td>\n      <td>0.0</td>\n      <td>0.0</td>\n      <td>0.0</td>\n      <td>0.0</td>\n      <td>0.0</td>\n      <td>0.0</td>\n      <td>...</td>\n      <td>0.003242</td>\n      <td>0.000940</td>\n      <td>0.000014</td>\n      <td>-0.000092</td>\n      <td>-0.000349</td>\n      <td>-0.000079</td>\n      <td>0.0</td>\n      <td>0.0</td>\n      <td>0.0</td>\n      <td>0.0</td>\n    </tr>\n    <tr>\n      <th>488</th>\n      <td>0.0</td>\n      <td>0.0</td>\n      <td>0.0</td>\n      <td>0.0</td>\n      <td>0.0</td>\n      <td>0.0</td>\n      <td>0.0</td>\n      <td>0.0</td>\n      <td>0.0</td>\n      <td>0.0</td>\n      <td>...</td>\n      <td>0.014402</td>\n      <td>0.015915</td>\n      <td>0.001321</td>\n      <td>0.000010</td>\n      <td>0.000081</td>\n      <td>0.000022</td>\n      <td>0.0</td>\n      <td>0.0</td>\n      <td>0.0</td>\n      <td>0.0</td>\n    </tr>\n    <tr>\n      <th>489</th>\n      <td>0.0</td>\n      <td>0.0</td>\n      <td>0.0</td>\n      <td>0.0</td>\n      <td>0.0</td>\n      <td>0.0</td>\n      <td>0.0</td>\n      <td>0.0</td>\n      <td>0.0</td>\n      <td>0.0</td>\n      <td>...</td>\n      <td>-0.005039</td>\n      <td>-0.006582</td>\n      <td>-0.000481</td>\n      <td>0.003421</td>\n      <td>0.027724</td>\n      <td>0.007496</td>\n      <td>0.0</td>\n      <td>0.0</td>\n      <td>0.0</td>\n      <td>0.0</td>\n    </tr>\n  </tbody>\n</table>\n<p>490 rows × 784 columns</p>\n</div>"
     },
     "execution_count": 22,
     "metadata": {},
     "output_type": "execute_result"
    }
   ],
   "source": [
    "transition_matrix_T"
   ]
  },
  {
   "cell_type": "markdown",
   "id": "44cf6a6390505db0",
   "metadata": {},
   "source": [
    "## 3.5. Fomal Model → Mental Model"
   ]
  },
  {
   "cell_type": "markdown",
   "id": "644d20ca858addf8",
   "metadata": {},
   "source": [
    "### Calculate new Mental Model"
   ]
  },
  {
   "cell_type": "code",
   "execution_count": 23,
   "id": "f413a850cf481627",
   "metadata": {
    "collapsed": false,
    "ExecuteTime": {
     "end_time": "2023-11-30T13:48:40.820132Z",
     "start_time": "2023-11-30T13:48:40.792586300Z"
    }
   },
   "outputs": [],
   "source": [
    "# formal_model_test = [[2.8, -1.8, -2.8, 1.3, 0.4],\n",
    "#                      [2.9, -1.9, -2.9, 1.4, 0.5],\n",
    "#                      [3, -2, -3, 1.5, 0.6],\n",
    "#                      [3.1, -2.1, -3.1, 1.6, 0.7],\n",
    "#                      [3.2, -2.2, -3.2, 1.7, 0.8],\n",
    "#                      [-1.6, -2.5, 1.5, 0.2, 0.6],\n",
    "#                      [-1.3, -2.7, 1.3, 0.4, 0.8],\n",
    "#                      [-1, -3, 1.5, 0.6, 1],\n",
    "#                      [-0.7, -3.2, 1.7, 0.8, 1.2],\n",
    "#                      [-0.5, -3.5, 1.9, 1, 1.4],\n",
    "#                      [1.2, -1.2, 0.7, -0.3, -2.8],\n",
    "#                      [1.1, -1.1, 0.8, -0.4, -2.9],\n",
    "#                      [1, -1, 0.844444444, -0.444444444, -3],\n",
    "#                      [0.9, -0.9, 0.85, -0.45, -3.1],\n",
    "#                      [0.8, -0.8, 0.9, -0.5, -3.2]]\n",
    "# \n",
    "# mental_model_test = [[-1.979394104, 1.959307524, -1.381119943, -1.729640979],\n",
    "#                      [-1.974921385, 1.94850558, -1.726609792, -1.761213024],\n",
    "#                      [-1.843907868, 1.99818664, -1.912855282, -1.97511053],\n",
    "#                      [-1.998625355, 1.999671808, -1.998443276, -1.999764956],\n",
    "#                      [-1.999365095, 1.998896097, -1.999605076, -1.998916765],\n",
    "#                      [1.997775859, -1.844000202, 1.660111333, -1.373532039],\n",
    "#                      [1.818753218, -1.909687734, 1.206631506, -1.407994628],\n",
    "#                      [1.992023578, -1.923804827, 0.706593926, -1.543784398],\n",
    "#                      [1.999174385, -1.997592083, 0.21221635, -1.586974171],\n",
    "#                      [1.997854305, -1.999410881, -0.243400633, -1.827587263],\n",
    "#                      [0.851626415, 1.574201387, 1.581026838, 1.573934081],\n",
    "#                      [1.008512576, 1.570791652, 1.595657199, 1.741761976],\n",
    "#                      [1.107744254, 1.615475549, 1.723582196, 1.807614602],\n",
    "#                      [1.089897991, 1.611369928, 1.882537367, 1.873522151],\n",
    "#                      [1.290406093, 1.695289797, 1.953503509, 1.946250271]]\n",
    "# \n",
    "# df_formal_model_test = pd.DataFrame(formal_model_test)\n",
    "# df_mental_model_test = pd.DataFrame(mental_model_test)"
   ]
  },
  {
   "cell_type": "code",
   "execution_count": 24,
   "id": "fd8bfcf7bd7aab76",
   "metadata": {
    "collapsed": false,
    "ExecuteTime": {
     "end_time": "2023-11-30T13:48:40.937127200Z",
     "start_time": "2023-11-30T13:48:40.840247100Z"
    }
   },
   "outputs": [],
   "source": [
    "matrix_B_calculated_train = df_matrix_A_final_train.values.dot(transition_matrix_T.values)\n",
    "matrix_B_calculated_test = df_matrix_A_final_test.values.dot(transition_matrix_T.values)\n",
    "\n",
    "# matrix_B_calculated_train = df_formal_model_test.values.dot(transition_matrix_T.values)"
   ]
  },
  {
   "cell_type": "code",
   "execution_count": 25,
   "id": "94fc0f9c5a3e1930",
   "metadata": {
    "collapsed": false,
    "ExecuteTime": {
     "end_time": "2023-11-30T13:48:40.938127500Z",
     "start_time": "2023-11-30T13:48:40.905008200Z"
    }
   },
   "outputs": [
    {
     "data": {
      "text/plain": "array([[0., 0., 0., ..., 0., 0., 0.],\n       [0., 0., 0., ..., 0., 0., 0.],\n       [0., 0., 0., ..., 0., 0., 0.],\n       ...,\n       [0., 0., 0., ..., 0., 0., 0.],\n       [0., 0., 0., ..., 0., 0., 0.],\n       [0., 0., 0., ..., 0., 0., 0.]])"
     },
     "execution_count": 25,
     "metadata": {},
     "output_type": "execute_result"
    }
   ],
   "source": [
    "matrix_B_calculated_test"
   ]
  },
  {
   "cell_type": "code",
   "execution_count": 26,
   "id": "8529db2de5736905",
   "metadata": {
    "collapsed": false,
    "ExecuteTime": {
     "end_time": "2023-11-30T13:48:40.978155300Z",
     "start_time": "2023-11-30T13:48:40.919615300Z"
    }
   },
   "outputs": [
    {
     "data": {
      "text/plain": "     pixel0  pixel1  pixel2  pixel3  pixel4  pixel5  pixel6  pixel7  pixel8  \\\n0       0.0     0.0     0.0     0.0     0.0     0.0     0.0     0.0     0.0   \n1       0.0     0.0     0.0     0.0     0.0     0.0     0.0     0.0     0.0   \n2       0.0     0.0     0.0     0.0     0.0     0.0     0.0     0.0     0.0   \n3       0.0     0.0     0.0     0.0     0.0     0.0     0.0     0.0     0.0   \n4       0.0     0.0     0.0     0.0     0.0     0.0     0.0     0.0     0.0   \n..      ...     ...     ...     ...     ...     ...     ...     ...     ...   \n995     0.0     0.0     0.0     0.0     0.0     0.0     0.0     0.0     0.0   \n996     0.0     0.0     0.0     0.0     0.0     0.0     0.0     0.0     0.0   \n997     0.0     0.0     0.0     0.0     0.0     0.0     0.0     0.0     0.0   \n998     0.0     0.0     0.0     0.0     0.0     0.0     0.0     0.0     0.0   \n999     0.0     0.0     0.0     0.0     0.0     0.0     0.0     0.0     0.0   \n\n     pixel9  ...  pixel774  pixel775  pixel776  pixel777  pixel778  pixel779  \\\n0       0.0  ...       0.0       0.0       0.0       0.0       0.0       0.0   \n1       0.0  ...       0.0       0.0       0.0       0.0       0.0       0.0   \n2       0.0  ...       0.0       0.0       0.0       0.0       0.0       0.0   \n3       0.0  ...       0.0       0.0       0.0       0.0       0.0       0.0   \n4       0.0  ...       0.0       0.0       0.0       0.0       0.0       0.0   \n..      ...  ...       ...       ...       ...       ...       ...       ...   \n995     0.0  ...       0.0       0.0       0.0       0.0       0.0       0.0   \n996     0.0  ...       0.0       0.0       0.0       0.0       0.0       0.0   \n997     0.0  ...       0.0       0.0       0.0       0.0       0.0       0.0   \n998     0.0  ...       0.0       0.0       0.0       0.0       0.0       0.0   \n999     0.0  ...       0.0       0.0       0.0       0.0       0.0       0.0   \n\n     pixel780  pixel781  pixel782  pixel783  \n0         0.0       0.0       0.0       0.0  \n1         0.0       0.0       0.0       0.0  \n2         0.0       0.0       0.0       0.0  \n3         0.0       0.0       0.0       0.0  \n4         0.0       0.0       0.0       0.0  \n..        ...       ...       ...       ...  \n995       0.0       0.0       0.0       0.0  \n996       0.0       0.0       0.0       0.0  \n997       0.0       0.0       0.0       0.0  \n998       0.0       0.0       0.0       0.0  \n999       0.0       0.0       0.0       0.0  \n\n[1000 rows x 784 columns]",
      "text/html": "<div>\n<style scoped>\n    .dataframe tbody tr th:only-of-type {\n        vertical-align: middle;\n    }\n\n    .dataframe tbody tr th {\n        vertical-align: top;\n    }\n\n    .dataframe thead th {\n        text-align: right;\n    }\n</style>\n<table border=\"1\" class=\"dataframe\">\n  <thead>\n    <tr style=\"text-align: right;\">\n      <th></th>\n      <th>pixel0</th>\n      <th>pixel1</th>\n      <th>pixel2</th>\n      <th>pixel3</th>\n      <th>pixel4</th>\n      <th>pixel5</th>\n      <th>pixel6</th>\n      <th>pixel7</th>\n      <th>pixel8</th>\n      <th>pixel9</th>\n      <th>...</th>\n      <th>pixel774</th>\n      <th>pixel775</th>\n      <th>pixel776</th>\n      <th>pixel777</th>\n      <th>pixel778</th>\n      <th>pixel779</th>\n      <th>pixel780</th>\n      <th>pixel781</th>\n      <th>pixel782</th>\n      <th>pixel783</th>\n    </tr>\n  </thead>\n  <tbody>\n    <tr>\n      <th>0</th>\n      <td>0.0</td>\n      <td>0.0</td>\n      <td>0.0</td>\n      <td>0.0</td>\n      <td>0.0</td>\n      <td>0.0</td>\n      <td>0.0</td>\n      <td>0.0</td>\n      <td>0.0</td>\n      <td>0.0</td>\n      <td>...</td>\n      <td>0.0</td>\n      <td>0.0</td>\n      <td>0.0</td>\n      <td>0.0</td>\n      <td>0.0</td>\n      <td>0.0</td>\n      <td>0.0</td>\n      <td>0.0</td>\n      <td>0.0</td>\n      <td>0.0</td>\n    </tr>\n    <tr>\n      <th>1</th>\n      <td>0.0</td>\n      <td>0.0</td>\n      <td>0.0</td>\n      <td>0.0</td>\n      <td>0.0</td>\n      <td>0.0</td>\n      <td>0.0</td>\n      <td>0.0</td>\n      <td>0.0</td>\n      <td>0.0</td>\n      <td>...</td>\n      <td>0.0</td>\n      <td>0.0</td>\n      <td>0.0</td>\n      <td>0.0</td>\n      <td>0.0</td>\n      <td>0.0</td>\n      <td>0.0</td>\n      <td>0.0</td>\n      <td>0.0</td>\n      <td>0.0</td>\n    </tr>\n    <tr>\n      <th>2</th>\n      <td>0.0</td>\n      <td>0.0</td>\n      <td>0.0</td>\n      <td>0.0</td>\n      <td>0.0</td>\n      <td>0.0</td>\n      <td>0.0</td>\n      <td>0.0</td>\n      <td>0.0</td>\n      <td>0.0</td>\n      <td>...</td>\n      <td>0.0</td>\n      <td>0.0</td>\n      <td>0.0</td>\n      <td>0.0</td>\n      <td>0.0</td>\n      <td>0.0</td>\n      <td>0.0</td>\n      <td>0.0</td>\n      <td>0.0</td>\n      <td>0.0</td>\n    </tr>\n    <tr>\n      <th>3</th>\n      <td>0.0</td>\n      <td>0.0</td>\n      <td>0.0</td>\n      <td>0.0</td>\n      <td>0.0</td>\n      <td>0.0</td>\n      <td>0.0</td>\n      <td>0.0</td>\n      <td>0.0</td>\n      <td>0.0</td>\n      <td>...</td>\n      <td>0.0</td>\n      <td>0.0</td>\n      <td>0.0</td>\n      <td>0.0</td>\n      <td>0.0</td>\n      <td>0.0</td>\n      <td>0.0</td>\n      <td>0.0</td>\n      <td>0.0</td>\n      <td>0.0</td>\n    </tr>\n    <tr>\n      <th>4</th>\n      <td>0.0</td>\n      <td>0.0</td>\n      <td>0.0</td>\n      <td>0.0</td>\n      <td>0.0</td>\n      <td>0.0</td>\n      <td>0.0</td>\n      <td>0.0</td>\n      <td>0.0</td>\n      <td>0.0</td>\n      <td>...</td>\n      <td>0.0</td>\n      <td>0.0</td>\n      <td>0.0</td>\n      <td>0.0</td>\n      <td>0.0</td>\n      <td>0.0</td>\n      <td>0.0</td>\n      <td>0.0</td>\n      <td>0.0</td>\n      <td>0.0</td>\n    </tr>\n    <tr>\n      <th>...</th>\n      <td>...</td>\n      <td>...</td>\n      <td>...</td>\n      <td>...</td>\n      <td>...</td>\n      <td>...</td>\n      <td>...</td>\n      <td>...</td>\n      <td>...</td>\n      <td>...</td>\n      <td>...</td>\n      <td>...</td>\n      <td>...</td>\n      <td>...</td>\n      <td>...</td>\n      <td>...</td>\n      <td>...</td>\n      <td>...</td>\n      <td>...</td>\n      <td>...</td>\n      <td>...</td>\n    </tr>\n    <tr>\n      <th>995</th>\n      <td>0.0</td>\n      <td>0.0</td>\n      <td>0.0</td>\n      <td>0.0</td>\n      <td>0.0</td>\n      <td>0.0</td>\n      <td>0.0</td>\n      <td>0.0</td>\n      <td>0.0</td>\n      <td>0.0</td>\n      <td>...</td>\n      <td>0.0</td>\n      <td>0.0</td>\n      <td>0.0</td>\n      <td>0.0</td>\n      <td>0.0</td>\n      <td>0.0</td>\n      <td>0.0</td>\n      <td>0.0</td>\n      <td>0.0</td>\n      <td>0.0</td>\n    </tr>\n    <tr>\n      <th>996</th>\n      <td>0.0</td>\n      <td>0.0</td>\n      <td>0.0</td>\n      <td>0.0</td>\n      <td>0.0</td>\n      <td>0.0</td>\n      <td>0.0</td>\n      <td>0.0</td>\n      <td>0.0</td>\n      <td>0.0</td>\n      <td>...</td>\n      <td>0.0</td>\n      <td>0.0</td>\n      <td>0.0</td>\n      <td>0.0</td>\n      <td>0.0</td>\n      <td>0.0</td>\n      <td>0.0</td>\n      <td>0.0</td>\n      <td>0.0</td>\n      <td>0.0</td>\n    </tr>\n    <tr>\n      <th>997</th>\n      <td>0.0</td>\n      <td>0.0</td>\n      <td>0.0</td>\n      <td>0.0</td>\n      <td>0.0</td>\n      <td>0.0</td>\n      <td>0.0</td>\n      <td>0.0</td>\n      <td>0.0</td>\n      <td>0.0</td>\n      <td>...</td>\n      <td>0.0</td>\n      <td>0.0</td>\n      <td>0.0</td>\n      <td>0.0</td>\n      <td>0.0</td>\n      <td>0.0</td>\n      <td>0.0</td>\n      <td>0.0</td>\n      <td>0.0</td>\n      <td>0.0</td>\n    </tr>\n    <tr>\n      <th>998</th>\n      <td>0.0</td>\n      <td>0.0</td>\n      <td>0.0</td>\n      <td>0.0</td>\n      <td>0.0</td>\n      <td>0.0</td>\n      <td>0.0</td>\n      <td>0.0</td>\n      <td>0.0</td>\n      <td>0.0</td>\n      <td>...</td>\n      <td>0.0</td>\n      <td>0.0</td>\n      <td>0.0</td>\n      <td>0.0</td>\n      <td>0.0</td>\n      <td>0.0</td>\n      <td>0.0</td>\n      <td>0.0</td>\n      <td>0.0</td>\n      <td>0.0</td>\n    </tr>\n    <tr>\n      <th>999</th>\n      <td>0.0</td>\n      <td>0.0</td>\n      <td>0.0</td>\n      <td>0.0</td>\n      <td>0.0</td>\n      <td>0.0</td>\n      <td>0.0</td>\n      <td>0.0</td>\n      <td>0.0</td>\n      <td>0.0</td>\n      <td>...</td>\n      <td>0.0</td>\n      <td>0.0</td>\n      <td>0.0</td>\n      <td>0.0</td>\n      <td>0.0</td>\n      <td>0.0</td>\n      <td>0.0</td>\n      <td>0.0</td>\n      <td>0.0</td>\n      <td>0.0</td>\n    </tr>\n  </tbody>\n</table>\n<p>1000 rows × 784 columns</p>\n</div>"
     },
     "execution_count": 26,
     "metadata": {},
     "output_type": "execute_result"
    }
   ],
   "source": [
    "matrix_B_final_test"
   ]
  },
  {
   "cell_type": "markdown",
   "id": "ed4cb1f63bad2d8f",
   "metadata": {},
   "source": [
    "### Calculate the Euclidean distance"
   ]
  },
  {
   "cell_type": "code",
   "execution_count": 27,
   "id": "7df8118ce9550c5",
   "metadata": {
    "collapsed": false,
    "ExecuteTime": {
     "end_time": "2023-11-30T13:48:41.087463700Z",
     "start_time": "2023-11-30T13:48:40.967356100Z"
    }
   },
   "outputs": [],
   "source": [
    "# Calculate Euclidean distance for each row\n",
    "euclidean_distances_train = np.sqrt(((matrix_B_final_train.values - matrix_B_calculated_train) ** 2).sum(axis=1))\n",
    "euclidean_distances_test = np.sqrt(((matrix_B_final_test.values - matrix_B_calculated_test) ** 2).sum(axis=1))\n",
    "\n",
    "# euclidean_distances_train = np.sqrt(((df_mental_model_test - matrix_B_calculated) ** 2).sum(axis=1))\n",
    "\n",
    "# Sum of all the Euclidean distances\n",
    "total_distance_train = euclidean_distances_train.sum()\n",
    "total_distance_test = euclidean_distances_test.sum()"
   ]
  },
  {
   "cell_type": "code",
   "execution_count": 28,
   "id": "def08e7255ece582",
   "metadata": {
    "collapsed": false,
    "ExecuteTime": {
     "end_time": "2023-11-30T13:48:41.088964300Z",
     "start_time": "2023-11-30T13:48:41.077297300Z"
    }
   },
   "outputs": [
    {
     "name": "stdout",
     "output_type": "stream",
     "text": [
      "For train data, the total Euclidean distance is 34547.9559834357\n",
      "For test data, the total Euclidean distance is 3626.3680550360205\n"
     ]
    }
   ],
   "source": [
    "print(f\"For train data, the total Euclidean distance is {total_distance_train}\")\n",
    "print(f\"For test data, the total Euclidean distance is {total_distance_test}\")"
   ]
  },
  {
   "cell_type": "code",
   "execution_count": 37,
   "id": "8d1f0aa4650a37ca",
   "metadata": {
    "collapsed": false,
    "ExecuteTime": {
     "end_time": "2023-11-30T13:54:08.822451900Z",
     "start_time": "2023-11-30T13:54:08.793773800Z"
    }
   },
   "outputs": [],
   "source": [
    "import matplotlib.pyplot as plt\n",
    "%config InlineBackend.figure_format = 'svg'\n",
    "\n",
    "def plot_mnist(input_data, num_to_display, input_indices=None):\n",
    "    \"\"\"\n",
    "    Plots the MNIST numbers from the given data which can be either a DataFrame or a numpy array.\n",
    "    \n",
    "    :param input_data: Either DataFrame or numpy array containing MNIST numbers flattened.\n",
    "    :param num_to_display: Number of MNIST images to display.\n",
    "    :param input_indices: A list of indices to pick specific images. If None, the first 'num_to_display' images are shown.\n",
    "    \"\"\"\n",
    "    max_columns = 5  # Maximum number of images in one row\n",
    "\n",
    "    # Check the type of data and convert accordingly\n",
    "    if isinstance(input_data, pd.DataFrame):\n",
    "        data_array = input_data.to_numpy()\n",
    "    elif isinstance(input_data, np.ndarray):\n",
    "        data_array = input_data\n",
    "    else:\n",
    "        raise TypeError(\"Input data must be either a pandas DataFrame or a numpy array.\")\n",
    "\n",
    "    # If input_indices are provided, validate them\n",
    "    if input_indices:\n",
    "        if len(input_indices) != num_to_display:\n",
    "            raise ValueError(\"Length of 'input_indices' should match 'num_to_display'\")\n",
    "\n",
    "        if any(item < 0 or item >= len(data_array) for item in input_indices):\n",
    "            raise ValueError(\"'input_indices' contain invalid values. Ensure all are in the range [0, len(data_array)-1].\")\n",
    "\n",
    "        data_to_plot = data_array[input_indices]\n",
    "    else:\n",
    "        data_to_plot = data_array[:num_to_display]\n",
    "\n",
    "    # Calculate the number of rows and columns to display\n",
    "    num_rows = (num_to_display // max_columns) + int(num_to_display % max_columns > 0)\n",
    "    num_cols = min(num_to_display, max_columns)  # Limit the number of columns to 10\n",
    "\n",
    "    fig, axes = plt.subplots(num_rows, num_cols, figsize=(2 * num_cols, 2 * num_rows))\n",
    "\n",
    "    # If there's only 1 row, axes is a 1D array, we make it 2D for consistent indexing\n",
    "    if num_rows == 1:\n",
    "        axes = np.expand_dims(axes, axis=0)\n",
    "\n",
    "    for idx, ax in enumerate(axes.ravel()):\n",
    "        if idx >= len(data_to_plot):\n",
    "            ax.axis(\"off\")  # Turn off the axis if no data to display\n",
    "            continue\n",
    "        # Reshape the flattened image into 28x28\n",
    "        img = data_to_plot[idx].reshape(28, 28)\n",
    "        ax.imshow(img, cmap=\"gray\")\n",
    "        ax.axis(\"off\")  # Turn off the axis numbers\n",
    "\n",
    "    plt.show()\n",
    "\n",
    "# Test\n",
    "# Assuming data is loaded as numpy array or DataFrame\n",
    "# Example: plot_mnist(data, 15, indices=[0, 2, 4, 6, 8, 10, 12, 14, 16, 18, 20, 22, 24, 26, 28])\n"
   ]
  },
  {
   "cell_type": "code",
   "execution_count": 40,
   "id": "e0990946a5201ddf",
   "metadata": {
    "collapsed": false,
    "ExecuteTime": {
     "end_time": "2023-11-30T14:22:39.982144300Z",
     "start_time": "2023-11-30T14:22:39.772038100Z"
    }
   },
   "outputs": [
    {
     "data": {
      "text/plain": "<Figure size 1000x200 with 5 Axes>",
      "image/svg+xml": "<?xml version=\"1.0\" encoding=\"utf-8\" standalone=\"no\"?>\n<!DOCTYPE svg PUBLIC \"-//W3C//DTD SVG 1.1//EN\"\n  \"http://www.w3.org/Graphics/SVG/1.1/DTD/svg11.dtd\">\n<svg xmlns:xlink=\"http://www.w3.org/1999/xlink\" width=\"572.4pt\" height=\"110.606897pt\" viewBox=\"0 0 572.4 110.606897\" xmlns=\"http://www.w3.org/2000/svg\" version=\"1.1\">\n <metadata>\n  <rdf:RDF xmlns:dc=\"http://purl.org/dc/elements/1.1/\" xmlns:cc=\"http://creativecommons.org/ns#\" xmlns:rdf=\"http://www.w3.org/1999/02/22-rdf-syntax-ns#\">\n   <cc:Work>\n    <dc:type rdf:resource=\"http://purl.org/dc/dcmitype/StillImage\"/>\n    <dc:date>2023-11-30T16:22:39.850733</dc:date>\n    <dc:format>image/svg+xml</dc:format>\n    <dc:creator>\n     <cc:Agent>\n      <dc:title>Matplotlib v3.6.2, https://matplotlib.org/</dc:title>\n     </cc:Agent>\n    </dc:creator>\n   </cc:Work>\n  </rdf:RDF>\n </metadata>\n <defs>\n  <style type=\"text/css\">*{stroke-linejoin: round; stroke-linecap: butt}</style>\n </defs>\n <g id=\"figure_1\">\n  <g id=\"patch_1\">\n   <path d=\"M 0 110.606897 \nL 572.4 110.606897 \nL 572.4 0 \nL 0 0 \nz\n\" style=\"fill: #ffffff\"/>\n  </g>\n  <g id=\"axes_1\">\n   <g clip-path=\"url(#pad1799e380)\">\n    <image xlink:href=\"data:image/png;base64,\niVBORw0KGgoAAAANSUhEUgAAAIYAAACGCAYAAAAYefKRAAAEo0lEQVR4nO3dPywsaxzG8dmbk0gol5YSpX/R2NCJCqESfxokKlqRKIhQiN52JFSyNBpbEY0/UaLWokQ03Hre58m5exZ33733++nmyZxjiidvfpl3ZjaTJMlnAgT+qvQFIE4UAxbFgEUxYFEMWBQDFsWARTFgUQxYFAMWxYBFMWBRDFgUAxbFgEUxYFEMWBQD1q9KX8BP6O/vTx0PDQ3JObOzs5J9fupTjplMRrJCoZA6Xl9fl3Pu7+8le319lSxWrBiwKAYsigGLYsDKJFX0XklDQ4Nku7u7koXDZ6lDZbnnuXPu7u4kGxkZkcwNqTFgxYBFMWBRDFgUA1a0w2d9fb1kp6enkjU3N0sWDoO3t7dyTrFYlMwNgrlcTrKWlpbUcWNjo5yTzWYle35+lmxgYCB1fHNzI+dUAisGLIoBi2LAohiwoh0+3bb49va2ZB8fH5J1d3enjt3w+Z1b4J2dnZIdHx9L5u7cnp2dpY77+vq+7bq+ghUDFsWARTFgVdWjfW6emJyclOz6+vrfuJzf/r3e3l7J3A26np6e1LGbrfL5/BeurjysGLAoBiyKAYtiwKqq4dM9Qhcrt1N7eHgo2czMTOo43LmtFFYMWBQDFsWARTFgRTt8hruOSZIkj4+Pku3s7EgW7py6oa8Szs/PJZuenk4du0cJK4EVAxbFgEUxYFEMWNEOn+7O4cbGhmSbm5uShS86u635WAbSWO/msmLAohiwKAasaF8fcNzj95eXl5KF75K6D6K4L+2VOnc8PT2ljh8eHkr6dwcHB5KFj/a51wcq8XEVVgxYFAMWxYBFMWBV1fDpLC0tSba6upo6/u6v9oW7vHt7e3JOa2urZOHXBJNE38edm5uTcyqBFQMWxYBFMWBRDFjRDp/uq33z8/OSLS4uShYOjJX4ZLT7v97e3iQLd35j2fVlxYBFMWBRDFgUA1a0w+fW1pZkCwsLkpUyMMYyfI6OjkoWy7AZYsWARTFgUQxYFANWFO+VNDU1STY2NibZy8uLZO55yImJiX88p1TuOdPwbqu7I+uGT/dSdqxYMWBRDFgUA1YUN7jczzpcXFxI5n4vrKur60eu6U+Mj49L5j7ocnJyIln4m2ixYMWARTFgUQxYFANWFMOn43ZX3Y2ktbU1yZaXl3/kmv7E1dWVZLW1tZKFw/N3/lbbV7BiwKIYsCgGLIoBK4rdVefo6EgytwvrXmp+f39PHbsBtRLcTm34/kypX+f5aawYsCgGLIoBi2LAinb4dL9X4h7tGxwclGxlZSV1XFNTI+fs7+9LVu4jgO5LOW1tbZIVi0XJYhk2Q6wYsCgGLIoBi2LAinbb3amrq5NseHhYsvD3Stw7Hm57u9zh092RzWazkrlPNebz+bL+5k9jxYBFMWBRDFhVNWOUKtzFDGeOJEmS9vZ2ydxcUO6HU9wHUdyHU2LFigGLYsCiGLAoBqz/5PBZio6ODsncuyy5XE6ycPicmpqScwqFgmSxvDNSClYMWBQDFsWARTFg/W+HT/weKwYsigGLYsCiGLAoBiyKAYtiwKIYsCgGLIoBi2LAohiwKAYsigGLYsCiGLAoBiyKAetvSkhCwA00KNMAAAAASUVORK5CYII=\" id=\"image5d4318292e\" transform=\"scale(1 -1) translate(0 -96.48)\" x=\"7.2\" y=\"-6.926897\" width=\"96.48\" height=\"96.48\"/>\n   </g>\n  </g>\n  <g id=\"axes_2\">\n   <g clip-path=\"url(#p67cdd4bc58)\">\n    <image xlink:href=\"data:image/png;base64,\niVBORw0KGgoAAAANSUhEUgAAAIYAAACGCAYAAAAYefKRAAAFQklEQVR4nO3dPUgcWxjG8fUiiKAgCsGIH2ls3BQbQTAENGAEWSQhEFmLNGlSBMFKQVwN0VRioiGVoGgjohYiJF1gQVYUEYtAiqTRQhGDiCIKKuitZ97nXueOs9nJzf/XnYfxOMXD4TA7HzmRSOQqArj8le0TQDhRDEgUAxLFgEQxIFEMSBQDEsWARDEgUQxIFAMSxYBEMSDlZvsE/klhYaHJHj9+bLJ4PG6yRCLhGG9sbJhjlpaWTHZ15e2H5omJCcd4Z2fHHHN8fOxprrBixYBEMSBRDEgUA1JOJAS39j19+tRkyWTSZLFYzGReN4xuOTk5gc2VSqVM1tzc7GuusGDFgEQxIFEMSBQDUlY2nyUlJY5xOp02x1RXV5ssyA1jkHNdXFyYbH193WTv37832cLCgq//mWmsGJAoBiSKAYliQMrK5rOjo8Mx/vDhg6e/UxvGT58+mWx2dtYxrq2tNceon91v375tMrUJds/X2NhojlEb2dPTU5MNDQ05xoODg+aYbGDFgEQxIFEMSBQDUsY3n0VFRSZbWVlxjNUGT/n+/bvJotGor/MKUmtrq8lmZmZMlp+ff+1cb968MVk2NqSsGJAoBiSKASnje4yKigqTbW5u+pqrq6vLZCMjI77myjR1u+Lk5KTJCgoKHGP1jEpVVVVwJ+YRKwYkigGJYkCiGJBC+1Dz707dsvfkyROTPX/+3DFWF8HKy8tNtr29fYOzux4rBiSKAYliQKIYkLKy+VS36Hmh3rLz5csXk3V3dzvG6o062fDq1SuTuR9+VrcXjo+Pm6ylpSW4ExNYMSBRDEgUAxLFgJSVzaffh4dfv35tsrOzs5uezi+jnis5PDx0jEtLS80xjx49Mll9fb3JVldX/Z+cCysGJIoBiWJAyvge4/z83GQHBweOcXFxse/5P3/+bLKwXNDywn3xanh4OEtn4sSKAYliQKIYkCgGpIxvPvf29kw2NjbmGPf09Pie/3faaAZJPe/LBS5kHMWARDEgUQxIWXlrX15enmO8vLxsjrl3757J1C2BW1tbJnvw4IFjvLu7+x/P8Ndx3654dHRkjlG/Rs/Pz5usvb09sPNixYBEMSBRDEgUA1IoPpbX399vst7eXpPl5toLtWpj9uPHD8dYvfVOvVUvDN69e2eyzs5OT397584dk/l9+JkVAxLFgEQxIFEMSKHYfCrqJ+S6ujqT+X1GZWpqymTq1ZDfvn3zNb9f09PTJkskEp7+ls0nMo5iQKIYkEL71r63b9+abHFxMbD5X7x4YbJnz56ZrK+vz2TuX2u/fv1qjnFfZPPK70tlgsaKAYliQKIYkCgGpNBuPtWHdu/fv28y9/fVvFKbPPVWwNHR0WvnUt9qq6mp8XVe6jbEbGxIWTEgUQxIFAMSxYAU2s2nsra2ZjL1Mb50Ou0YV1ZWeprf7y+1c3NzJrt165bJfv78aTL3hrehoSGw87oJVgxIFAMSxYBEMSCF9ta+m2hqanKM1S170WjUZH43eerK5P7+vslSqZTJ3G/GicVins7L/UrMSCQSuXv3rsnUhtcLVgxIFAMSxYBEMSD9LzefbmVlZSZ7+fKlyZLJpK/51eYzyI2smqutrc1k6uvQfrFiQKIYkCgGpD9ij6Gol7Coj+GqN+HF43HH+OHDh+aYy8tLX+d1cnJisoGBAZN9/PjRZEF+H44VAxLFgEQxIFEMSH/s5hP/jhUDEsWARDEgUQxIFAMSxYBEMSBRDEgUAxLFgEQxIFEMSBQDEsWARDEgUQxIFAMSxYBEMSBRDEgUAxLFgEQxIP0NTXI6g5gSLH8AAAAASUVORK5CYII=\" id=\"imageeb734d761a\" transform=\"scale(1 -1) translate(0 -96.48)\" x=\"122.648276\" y=\"-6.926897\" width=\"96.48\" height=\"96.48\"/>\n   </g>\n  </g>\n  <g id=\"axes_3\">\n   <g clip-path=\"url(#p1b2d596e8b)\">\n    <image xlink:href=\"data:image/png;base64,\niVBORw0KGgoAAAANSUhEUgAAAIYAAACGCAYAAAAYefKRAAAEv0lEQVR4nO3dPyh9fxzH8Y9vykIphZKyMNzkymIgiyw2pS7KQrdkMlBsFIPJYvBvM7ApfwZS8m9EbC5lEYMUSZHwnc95v34538Plnp/nY/u8+5zP/QyvPn0653zOzXLOvTvA589PTwCZiWBAIhiQCAYkggGJYEAiGJAIBiSCAYlgQCIYkAgGJIIBiWBAIhiQCAYkggGJYEDK/okfraur87TX1tZMn8PDQ1M7ODgwtfPzc1Pzj3d/f2/6PDw8fDhP55zLy8sztZKSEk+7u7s70Fi7u7umtry8HOja78aKAYlgQCIYkAgGpCz3A+dK9vf3Pe3a2lrTJysry9Te38NN9eTkxNRSqZSpqQ1vIpEwterq6lDzUr8Zi8UCXfvdWDEgEQxIBAMSwYD0I3c+v1s8Hje1qqoqU2ttbU3rPI6OjtI6/ldixYBEMCARDEgEA9KP3Pmsr6/3tNVjd/W4O+ydz6+8i+qcc4+Pj5727Oys6XN2dmZqi4uLpnZ3dxd6HunEigGJYEAiGJB+ZI/hl0wmTW1qasrUgu4LdnZ2PO2VlZVwE3P6iev29nbo8aKCFQMSwYBEMCARDEgZsflUZmZmTK2rqyvQtQsLC552Z2fnl8zpN2HFgEQwIBEMSAQDUsZuPgsKCkxN3YX0HzBW1J3PlpaWcBP7JVgxIBEMSAQDEsGAlLGbT2VwcNDUxsbGPrzu7e3N1NTXedSG9Pr6OuDs/l9YMSARDEgEA1Kk9hjK+vq6qTU2Nnranzk+0Nvba2r+p7dBvwAYJawYkAgGJIIBiWBAivzms7S01NTm5uY87crKStOnqKgo9G9ubW152k1NTaHHylSsGJAIBiSCAYlgQIr85jOInp4eU5ucnAw93svLi6fd19dn+kxPT4cePxOwYkAiGJAIBiSCAelXbD6zs+2XsWtqakxtaWnJ1IqLi03N/xj/+fnZ9PH/IaBz+lxMpmLFgEQwIBEMSAQDUuQ3n4WFhaZ2e3vrab++voYef35+3tQ6Ojo8bfX+qP+9UOecGxoaMrXLy8vQc0snVgxIBAMSwYAU+T2G/899nXNuY2PD0x4ZGQk9fkVFhan19/d72kG/JjgxMWFqAwMD4SaWZqwYkAgGJIIBiWBAitTmU33Jb29vz9TKy8s97c3NTdNnfHzc1PznRf6L/yzLxcVFoOvUR1j8B7BTqVSgsdKNFQMSwYBEMCARDEiR2nyWlZWZmrrz6X8d788fm/+npydTUxvZ0dHRD39TvRLY3Nxsasrp6amnHYvFAl2XbqwYkAgGJIIBiWBAitTmU2lvbzc1/4Hl/Px80yfo5xwV/7mSz4z1+PjoaTc0NJg+x8fHoccPixUDEsGARDAgEQxI9rRvxKjzG/5vew8PD5s+1dXVaZrRv8nNzfW0/a8MOMfmExmEYEAiGJAif4MriJycHFNTTz/VGZJEImFq8Xjc0/7MDa6bmxtPW33e2n8W9zuwYkAiGJAIBiSCAelXbD4/Iy8vz9RKSko87WQyafq0tbWZ2tXVlan5D1yvrq7+6xTTghUDEsGARDAgEQxIbD4hsWJAIhiQCAYkggGJYEAiGJAIBiSCAYlgQCIYkAgGJIIBiWBAIhiQCAYkggGJYEAiGJD+AsSDFWAjL5XfAAAAAElFTkSuQmCC\" id=\"image19f46221cf\" transform=\"scale(1 -1) translate(0 -96.48)\" x=\"238.096552\" y=\"-6.926897\" width=\"96.48\" height=\"96.48\"/>\n   </g>\n  </g>\n  <g id=\"axes_4\">\n   <g clip-path=\"url(#pc2b709c4f4)\">\n    <image xlink:href=\"data:image/png;base64,\niVBORw0KGgoAAAANSUhEUgAAAIYAAACGCAYAAAAYefKRAAAFLElEQVR4nO3dTUgVXxzG8TH/mGLZQkTBTaAQuhRqEUguBAlRFDeBgUakG9HARZsEwY2ooISY4ButKgR7kRAFsVoFuVfJF1BcCVdRSEXQ/3rm94SHaSZv+f3s5mHumSM8HA7XmbkpnuedeUDAlYueAJITxYBEMSBRDEgUAxLFgEQxIFEMSBQDEsWARDEgUQxIFAMSxYBEMSBRDEgUAxLFgPTfRVy0oKDAd1xbWxvr9ZaWlkz26dOnWK/5t2PFgEQxIFEMSBQDUuybz+XlZZPl5eX5jrOysmKdw/Hxscn29/dN1t3dbbL+/v5Y5pTsWDEgUQxIFAMSxYCU4kX4UPPjx49NNjw8bLLU1NSoLhmpo6Mjk21sbJjsw4cPvuNXr16Zc1ZWVqKb2AVgxYBEMSBRDEgUA1Kkm8/19XWT3bx5M9RYq6urJkskEk6fvX37tu84JSUl1BxcbW5umuzNmzcmGx0dNZn6O5MBKwYkigGJYkCKdI9xdmaHUpmLuro6k717987ps8FbBa9csf1/+vSpyUpKSkyWkZHhdE0X29vbJnv48KHv+Pv37+acnz9/RjYHV6wYkCgGJIoBiWJAinTzOTU1ZbKamppQY9XX15vs9evXocZy1dzcbLK+vj6TZWZmxjaHmZkZk/X29prs8+fPsc3B81gx8AsUAxLFgEQxIEW6+bx7967JZmdnTeayedvd3TVZRUWFyRYXFx1nF4565qW9vd133NHREescdnZ2TJabmxvrNVkxIFEMSBQDEsWAFOnmU3n//r3JqqurQ42lNqTZ2dmhxvodwVsF09LSzDldXV0ma2pqMpnLA91sPpE0KAYkigEp9j3GvXv3TBZ89tP1xSnqNsHx8XGTBf9Lenp66jR+3B49emSysbGxcz+n5t/S0mIy9ZxwWKwYkCgGJIoBiWJAiv2tfV++fDHZs2fPfMcvX750Gks9g6pe1vLjxw/fcU9Pj9P4cQvOy/Ps2wPVRlw9F3Pt2rXoJiawYkCiGJAoBiSKASn2bz6VnJwc37H6b6t6nuPGjRtO4wdfZPL27VtzTmdnp8kODw+dxo/St2/ffMd37txx+pzayN66dSuSOXkeKwZ+gWJAohiQKAakC9l8upiYmDBZQ0NDZOOXlZWZ7OvXr5GN76qtrc13/Du/j6K+IQ09VmQj4Z9CMSBRDEgUA1LSbj7Vt5wfP340WWlpaajx1Wueh4aGTKa+gY3yHtLgPbELCwuhx2LzidhRDEgUA1LS7jEUddvb3t5erNdUz308efIksvGDP9sxNzdnziksLHQaiz0GYkcxIFEMSBQD0l+1+VTPlVy/ft1k09PTvuOwX4J5nn6Q+uDgwHc8Pz9vznnw4IHJTk5Ozr1ecO6e53mVlZXnfs7z2HziD6AYkCgGJIoB6a/afLoKbtYmJyfNOenp6bHOQf22yosXL0xWXFx87jmuv4/C5hOxoxiQKAYkigHpn9x8Bqm37gwMDJgszh/B8zzPSyQSJgu+btr1TTmDg4Mma21tDTcxgRUDEsWARDEgUQxIl2Lzqah7K8vLyy9gJudbXV012f379022trYW2TVZMSBRDEgUA9Kl3WPk5+ebrLGx0WTPnz832dWrVyObR/B2P/XF28jIiMnUviNKrBiQKAYkigGJYkC6tJtPV1VVVSYrKiqKbPytrS3fsbol8CKwYkCiGJAoBiSKAYnNJyRWDEgUAxLFgEQxIFEMSBQDEsWARDEgUQxIFAMSxYBEMSBRDEgUAxLFgEQxIFEMSBQD0v97Ix1/+fm1aAAAAABJRU5ErkJggg==\" id=\"image554edccc47\" transform=\"scale(1 -1) translate(0 -96.48)\" x=\"353.544828\" y=\"-6.926897\" width=\"96.48\" height=\"96.48\"/>\n   </g>\n  </g>\n  <g id=\"axes_5\">\n   <g clip-path=\"url(#pdf2cb059e1)\">\n    <image xlink:href=\"data:image/png;base64,\niVBORw0KGgoAAAANSUhEUgAAAIYAAACGCAYAAAAYefKRAAADAElEQVR4nO3dvy4sYRzH4dmTo9WS+FMoiESFQk1cg0KiULgEt6IUJDSicROUOlGIEIVeoiBx6tn3m1ibY9fsPE83v8xO3uKTN5MdYztVVX1W0OXPsBfA7yQMImEQCYNIGETCIBIGkTCIhEEkDCJhEAmDSBhEwiASBpEwiIRBJAyiv8NewE9YWFioHZ+enhbnbG9vF7Pb29sfW1PT2DGIhEEkDCJhEHWqhr9XsrS0VMwODw9rx8vLy8U5R0dHxWx3d/f/Lazh7BhEwiASBpEwiBr/zefi4mIxSzebfI8dg0gYRMIgEgZR428+O51OX5+bnp4uZlNTU8Xs+fm5r+s3nR2DSBhEwiBq/D3G52d/D4c3NjaK2fr6ejE7OTnp6/pNZ8cgEgaRMIiEQSQMImEQCYNIGETCIGr8N5/p6ef9/X3teG5urqdrra6uFrPz8/Ni9vb21uPqmsuOQSQMImEQCYOo8S81JwcHB7Xjvb29vq81OztbzNrw5352DCJhEAmDaCTvMSYmJmrHl5eXxTkrKys9XSu9B3tzc9PfwhrEjkEkDCJhEAmDaCRvPrvNzMwUs4eHh54+e3d3V8zSP2sZNXYMImEQCYNIGESN/9O+nzY5OVnMdnZ2asfHx8eDWs7A2DGIhEEkDCJhELXi5vPj46OYvby8FLPux/VVVVXj4+PFbHNzs3Z8cXFRnPP6+vqdJf46dgwiYRAJg0gYRK147J6sra0Vs+4f2auqqpqfn//yWltbW8UsvQzdJHYMImEQCYOoFV9wJVdXV8Xs+vq6mPVyjzGK7BhEwiASBpEwiFp785k8PT0Vs/f392I2NjY2iOUMlR2DSBhEwiASBlFrn6726vHxsZh1/3Cvp6u0hjCIhEEkDCJhEAmDSBhEwiASBpEwiIRBJAwiYRAJg0gYRMIgEgaRMIi8V/KF/f39YnZ2djaElQyWHYNIGETCIBIGkfdKiOwYRMIgEgaRMIiEQSQMImEQCYNIGETCIBIGkTCIhEEkDCJhEAmDSBhEwiD6B0N1ZmLdLjPYAAAAAElFTkSuQmCC\" id=\"image3e9adc1f97\" transform=\"scale(1 -1) translate(0 -96.48)\" x=\"468.993103\" y=\"-6.926897\" width=\"96.48\" height=\"96.48\"/>\n   </g>\n  </g>\n </g>\n <defs>\n  <clipPath id=\"pad1799e380\">\n   <rect x=\"7.2\" y=\"7.2\" width=\"96.206897\" height=\"96.206897\"/>\n  </clipPath>\n  <clipPath id=\"p67cdd4bc58\">\n   <rect x=\"122.648276\" y=\"7.2\" width=\"96.206897\" height=\"96.206897\"/>\n  </clipPath>\n  <clipPath id=\"p1b2d596e8b\">\n   <rect x=\"238.096552\" y=\"7.2\" width=\"96.206897\" height=\"96.206897\"/>\n  </clipPath>\n  <clipPath id=\"pc2b709c4f4\">\n   <rect x=\"353.544828\" y=\"7.2\" width=\"96.206897\" height=\"96.206897\"/>\n  </clipPath>\n  <clipPath id=\"pdf2cb059e1\">\n   <rect x=\"468.993103\" y=\"7.2\" width=\"96.206897\" height=\"96.206897\"/>\n  </clipPath>\n </defs>\n</svg>\n"
     },
     "metadata": {},
     "output_type": "display_data"
    },
    {
     "data": {
      "text/plain": "<Figure size 1000x200 with 5 Axes>",
      "image/svg+xml": "<?xml version=\"1.0\" encoding=\"utf-8\" standalone=\"no\"?>\n<!DOCTYPE svg PUBLIC \"-//W3C//DTD SVG 1.1//EN\"\n  \"http://www.w3.org/Graphics/SVG/1.1/DTD/svg11.dtd\">\n<svg xmlns:xlink=\"http://www.w3.org/1999/xlink\" width=\"572.4pt\" height=\"110.606897pt\" viewBox=\"0 0 572.4 110.606897\" xmlns=\"http://www.w3.org/2000/svg\" version=\"1.1\">\n <metadata>\n  <rdf:RDF xmlns:dc=\"http://purl.org/dc/elements/1.1/\" xmlns:cc=\"http://creativecommons.org/ns#\" xmlns:rdf=\"http://www.w3.org/1999/02/22-rdf-syntax-ns#\">\n   <cc:Work>\n    <dc:type rdf:resource=\"http://purl.org/dc/dcmitype/StillImage\"/>\n    <dc:date>2023-11-30T16:22:39.938770</dc:date>\n    <dc:format>image/svg+xml</dc:format>\n    <dc:creator>\n     <cc:Agent>\n      <dc:title>Matplotlib v3.6.2, https://matplotlib.org/</dc:title>\n     </cc:Agent>\n    </dc:creator>\n   </cc:Work>\n  </rdf:RDF>\n </metadata>\n <defs>\n  <style type=\"text/css\">*{stroke-linejoin: round; stroke-linecap: butt}</style>\n </defs>\n <g id=\"figure_1\">\n  <g id=\"patch_1\">\n   <path d=\"M 0 110.606897 \nL 572.4 110.606897 \nL 572.4 0 \nL 0 0 \nz\n\" style=\"fill: #ffffff\"/>\n  </g>\n  <g id=\"axes_1\">\n   <g clip-path=\"url(#p17c1e6323c)\">\n    <image xlink:href=\"data:image/png;base64,\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\" id=\"image63ed9e15e8\" transform=\"scale(1 -1) translate(0 -96.48)\" x=\"7.2\" y=\"-6.926897\" width=\"96.48\" height=\"96.48\"/>\n   </g>\n  </g>\n  <g id=\"axes_2\">\n   <g clip-path=\"url(#pda56b21198)\">\n    <image xlink:href=\"data:image/png;base64,\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\" id=\"imagef92c955072\" transform=\"scale(1 -1) translate(0 -96.48)\" x=\"122.648276\" y=\"-6.926897\" width=\"96.48\" height=\"96.48\"/>\n   </g>\n  </g>\n  <g id=\"axes_3\">\n   <g clip-path=\"url(#pd3c273ebb3)\">\n    <image xlink:href=\"data:image/png;base64,\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\" id=\"image85b18e0390\" transform=\"scale(1 -1) translate(0 -96.48)\" x=\"238.096552\" y=\"-6.926897\" width=\"96.48\" height=\"96.48\"/>\n   </g>\n  </g>\n  <g id=\"axes_4\">\n   <g clip-path=\"url(#p902449c59c)\">\n    <image xlink:href=\"data:image/png;base64,\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\" id=\"imageff5e1da03e\" transform=\"scale(1 -1) translate(0 -96.48)\" x=\"353.544828\" y=\"-6.926897\" width=\"96.48\" height=\"96.48\"/>\n   </g>\n  </g>\n  <g id=\"axes_5\">\n   <g clip-path=\"url(#p24e17601dc)\">\n    <image xlink:href=\"data:image/png;base64,\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\" id=\"image57df72cfaa\" transform=\"scale(1 -1) translate(0 -96.48)\" x=\"468.993103\" y=\"-6.926897\" width=\"96.48\" height=\"96.48\"/>\n   </g>\n  </g>\n </g>\n <defs>\n  <clipPath id=\"p17c1e6323c\">\n   <rect x=\"7.2\" y=\"7.2\" width=\"96.206897\" height=\"96.206897\"/>\n  </clipPath>\n  <clipPath id=\"pda56b21198\">\n   <rect x=\"122.648276\" y=\"7.2\" width=\"96.206897\" height=\"96.206897\"/>\n  </clipPath>\n  <clipPath id=\"pd3c273ebb3\">\n   <rect x=\"238.096552\" y=\"7.2\" width=\"96.206897\" height=\"96.206897\"/>\n  </clipPath>\n  <clipPath id=\"p902449c59c\">\n   <rect x=\"353.544828\" y=\"7.2\" width=\"96.206897\" height=\"96.206897\"/>\n  </clipPath>\n  <clipPath id=\"p24e17601dc\">\n   <rect x=\"468.993103\" y=\"7.2\" width=\"96.206897\" height=\"96.206897\"/>\n  </clipPath>\n </defs>\n</svg>\n"
     },
     "metadata": {},
     "output_type": "display_data"
    }
   ],
   "source": [
    "n_images = 5\n",
    "indices = None\n",
    "\n",
    "# Call the function with matrix_B_final dataframe or numpy array\n",
    "plot_mnist(matrix_B_final_train, n_images, indices)\n",
    "\n",
    "plot_mnist(matrix_B_calculated_train, n_images, indices)"
   ]
  },
  {
   "cell_type": "code",
   "execution_count": 39,
   "id": "1d5abb28c8815379",
   "metadata": {
    "collapsed": false,
    "ExecuteTime": {
     "end_time": "2023-11-30T13:54:12.498856200Z",
     "start_time": "2023-11-30T13:54:12.325784800Z"
    }
   },
   "outputs": [
    {
     "data": {
      "text/plain": "<Figure size 1000x200 with 5 Axes>",
      "image/svg+xml": "<?xml version=\"1.0\" encoding=\"utf-8\" standalone=\"no\"?>\n<!DOCTYPE svg PUBLIC \"-//W3C//DTD SVG 1.1//EN\"\n  \"http://www.w3.org/Graphics/SVG/1.1/DTD/svg11.dtd\">\n<svg xmlns:xlink=\"http://www.w3.org/1999/xlink\" width=\"572.4pt\" height=\"110.606897pt\" viewBox=\"0 0 572.4 110.606897\" xmlns=\"http://www.w3.org/2000/svg\" version=\"1.1\">\n <metadata>\n  <rdf:RDF xmlns:dc=\"http://purl.org/dc/elements/1.1/\" xmlns:cc=\"http://creativecommons.org/ns#\" xmlns:rdf=\"http://www.w3.org/1999/02/22-rdf-syntax-ns#\">\n   <cc:Work>\n    <dc:type rdf:resource=\"http://purl.org/dc/dcmitype/StillImage\"/>\n    <dc:date>2023-11-30T15:54:12.398629</dc:date>\n    <dc:format>image/svg+xml</dc:format>\n    <dc:creator>\n     <cc:Agent>\n      <dc:title>Matplotlib v3.6.2, https://matplotlib.org/</dc:title>\n     </cc:Agent>\n    </dc:creator>\n   </cc:Work>\n  </rdf:RDF>\n </metadata>\n <defs>\n  <style type=\"text/css\">*{stroke-linejoin: round; stroke-linecap: butt}</style>\n </defs>\n <g id=\"figure_1\">\n  <g id=\"patch_1\">\n   <path d=\"M 0 110.606897 \nL 572.4 110.606897 \nL 572.4 0 \nL 0 0 \nz\n\" style=\"fill: #ffffff\"/>\n  </g>\n  <g id=\"axes_1\">\n   <g clip-path=\"url(#p83fd71c6d3)\">\n    <image xlink:href=\"data:image/png;base64,\niVBORw0KGgoAAAANSUhEUgAAAIYAAACGCAYAAAAYefKRAAAEqklEQVR4nO3dPyh9fxzH8XORdKVkMNikEJtk8id/okgyGMiiWIgYSGIwmJhIUSaJrJSUjFf+DQb5M5BiIv82buS7/erc9+v7dX/uxbk8H9vn1bm3T3r16dPHOef6HMd5c4AQcd89AXgTxYBEMSBRDEgUAxLFgEQxIFEMSBQDUsJ3TyBSfr/fZAcHB65xVlaWuWZwcNBk4+PjUZtXrGPFgEQxIFEMSDG/xwgGgya7uLhwjdUeY2RkxGSnp6cmW1lZ+fjkYhgrBiSKAYliQKIYkGJ+8/ny8mKy8/Nz17iystJck5ycbLKWlhaTra6umuzt7effDcmKAYliQKIYkCgGJJ/zA58ryc/Pd40DgYC5JiUlxWShJ6aO4zjZ2dkme319/fjkYgQrBiSKAYliQKIYkH7k5jPU3t6eyQoKCkz29PRkMnVqur29HZ2JeRgrBiSKAYliQKIYkH7F5lOdXh4fH4f12bW1NZPV19dHPCevY8WARDEgUQxIv2KP4fP5TLa0tGSypqYmk11fX5usuLjYNT47O4tgdt7EigGJYkCiGJAoBqRfsflUmpubTbawsBDWZzc3N13j2tpac4163iWWsGJAohiQKAYkigEp5jefcXG22/Hx8e9+LikpyWRbW1smy8vLe/e70tLSTPb4+Pju57yMFQMSxYBEMSBRDEiefaNOYmKiyerq6kymXv1cWFj4KXP6G/Xv+rm5uS+dQ7SxYkCiGJAoBiTPHnBNTU2ZrLOz8xtm8r7b21uTqWdjr66uvmI6UcGKAYliQKIYkCgGJE9sPicmJkzW19cX1mePjo5MNjo66hqH+5sjQ0NDJmttbTVZZmbmu981OTlpsv7+fpN59RZAVgxIFAMSxYBEMSB5YvO5sbFhsoqKCpPt7u6arLy83GTq7XsfpX7XZGBgwDUeHh4O67u6urpMNjMz87GJfTJWDEgUAxLFgEQxIMXU5nN9fd1k6na/zxZ626F6o05GRobJHh4eTFZWVuYaHx4eRja5KGHFgEQxIFEMSBQDkmefK1HS09NNlpuba7KTk5NPnUcwGHSNx8bGzDXT09MmS01NNVlvb69r3N7eHtHcooUVAxLFgEQxIHnigKuoqMhkoW/GcxzH8fv9Jru7uzNZ6M9G7O/vm2uieUtdQoLdqrW1tZlM3cK4s7PjGldXV0dtXpFgxYBEMSBRDEgUA5InDrjULXvqgEg9l6HemBcIBFxj9d/bxcVFk83Pz/9znn+jNrI3NzcmU5tUr2LFgEQxIFEMSBQDkidOPhW1UQu9Dc5x9IPIJSUlrrF6hfTz87PJLi8vTXZ/f2+y5eVlk4Xq6OgwWU5OjslCT3g5+YSnUQxIFAMSxYDk2c1nJEpLS11j9Vrpmpqar5rOf9QJaU9Pj2s8Ozv7VdP5J1YMSBQDEsWARDEg/cjNZyifz2eyqqoqkzU2Nob1fQ0NDa6xeoD57c3+Wbu7u02mbi/wAlYMSBQDEsWA9Cv2GPj/WDEgUQxIFAMSxYBEMSBRDEgUAxLFgEQxIFEMSBQDEsWARDEgUQxIFAMSxYBEMSBRDEgUAxLFgEQxIFEMSBQDEsWARDEgUQxIFAMSxYD0BzVT9GORNz3gAAAAAElFTkSuQmCC\" id=\"image35ce9ce4f0\" transform=\"scale(1 -1) translate(0 -96.48)\" x=\"7.2\" y=\"-6.926897\" width=\"96.48\" height=\"96.48\"/>\n   </g>\n  </g>\n  <g id=\"axes_2\">\n   <g clip-path=\"url(#p18da7f629f)\">\n    <image xlink:href=\"data:image/png;base64,\niVBORw0KGgoAAAANSUhEUgAAAIYAAACGCAYAAAAYefKRAAAEG0lEQVR4nO3dvyt9cRzH8XP1LSGDBYNY/APCwiD5FUmEGZPNakHKorApix9ZTDZlIVKKxKDEwKCIwSg/Jr7zOa9X3dP3e3Gu+3xs59Vxvp/h9X336Zx7z00FQfAZABF5P70AJBPFgEUxYFEMWBQDFsWARTFgUQxYFAMWxYBFMWBRDFgUAxbFgEUxYFEMWBQDFsWA9eenF/BTmpqaJNvb25NseXlZstHR0S9ZU5IwMWBRDFgUAxbFgJWzm8/6+vqMnvfbMDFgUQxYFAMWxYBFMWBRDFgUAxbFgEUxYKWCHH2jTmlpqWSPj4+Svb6+StbW1hY6Pj4+ztzCEoKJAYtiwKIYsHL26Wp/f79keXn6/6SwsFCy4uLiL1lTkjAxYFEMWBQDFsWAldjN59TUlGTuY3aDg4OSvb+/p73+0tKSZN3d3ZJ1dHRI5jakvw0TAxbFgEUxYFEMWIl9uvrw8CBZWVmZZIeHh5LNz8+Hjnd3d+Wct7c3ycrLyyW7v7+XLPoUtqGhQc65u7uTLJswMWBRDFgUAxbFgJX1m8/Pz/TLPzo6kmx/f1+yi4sLyTY2NtJef2VlRbK5uTnJbm5u0l4rKZgYsCgGLIoBK7F7jKGhIclWV1cli7PHiCuVSmXs+k9PT5K1tLRIdnl5+U/X/2pMDFgUAxbFgEUxYCV28+mcnJxIVltbm/bvWltbJbu6uor1b3Z2dko2OTkZOq6qqop1rfHxccmiT4KTgokBi2LAohiwKAasxH6vxGlubpZse3tbssbGxtCx26AeHBxI9vHxIdna2ppk0Y8AzszM6GKzHBMDFsWARTFgUQxYWbX5fHl5kWxsbEyys7Oz0PHs7Gys68e9C7m+vh46dj+eV1FREetaScXEgEUxYFEMWBQDVlY9dnfcqxWjdyt7e3tjXcs9Fl9YWEj7dxMTE5JNT09LVl1dLdnt7W2stX03JgYsigGLYsDK+j2GE913RG9IBUEQ9PT0SPb8/CxZTU2NZNF9QUlJiZxTWVkp2fn5uWRJxcSARTFgUQxYFAPWr9x8RhUUFEi2ubkpWVdXl2TX19eStbe3h46TepPqfzAxYFEMWBQDFsWAlRObT6eurk4y9yY/t3GNftF5Z2cncwtLCCYGLIoBi2LAohiwsup7JZl0enoqmXsU7zaWAwMDoWP3mynu91CyCRMDFsWARTFgUQxYOXvn08nPz5dscXFRspGRkdBxX1+fnLO1tZW5hf0AJgYsigGLYsBij5GGe7oa/YFf9/G/4eHhr1rSt2BiwKIYsCgGLIoBK2efrsblnpJGvyTtXsxSVFQkmXvrYFIxMWBRDFgUAxbFgMWdT1hMDFgUAxbFgEUxYFEMWBQDFsWARTFgUQxYFAMWxYBFMWBRDFgUAxbFgEUxYFEMWBQD1l/P3M/XI7qXfgAAAABJRU5ErkJggg==\" id=\"image828bb66f5c\" transform=\"scale(1 -1) translate(0 -96.48)\" x=\"122.648276\" y=\"-6.926897\" width=\"96.48\" height=\"96.48\"/>\n   </g>\n  </g>\n  <g id=\"axes_3\">\n   <g clip-path=\"url(#pf8c5ea473e)\">\n    <image xlink:href=\"data:image/png;base64,\niVBORw0KGgoAAAANSUhEUgAAAIYAAACGCAYAAAAYefKRAAAElklEQVR4nO3dSyh0fxzH8fP8PeS6okSJhaIsLEiSWxZkQRKycFnKQtYsrWQnWbiUmpQidi4pZeOyYCMLRLIQK8ld1P+//s33U+aZ58/M4f3a/T6dmTmLT7++zZxz5pfnef96QJB/In0CiE4UAxLFgEQxIFEMSBQDEsWARDEgUQxIFAMSxYBEMSBRDEgUAxLFgEQxIFEMSBQD0u9In8BnyMzMdNaBQMAcU1NTY7Lb21uTLSwsmGxsbMxZHx4e/uEZRj92DEgUAxLFgEQxIP3yfH5fSWVlpclWV1ed9fPzszlGDYxJSUkmKyoqMtnDw4OzbmxsNMdsbm6azE/YMSBRDEgUAxLFgOSr4TM2NtZk6+vrJquqqnLWw8PD5pjBwcGQ3r+5udlkc3Nzzjp4GPU8zysvLzfZwcGByaIVOwYkigGJYkCiGJB8NXymp6eb7Orq6sPXpaWlmezm5iakzwxlIA0eRj3P8y4vL02Wm5trstfX15DO46uxY0CiGJAoBiRfXdpXW1sb1uvu7u7C/sy3tzeTLS4uOmv1S2p1dbXJ+vv7TTYyMhL2uX0mdgxIFAMSxYBEMSD5avhMTU0N63XqHhL1q2yo3t/fnXV3d7c55uLiwmSdnZ0mC75HRV2GGAnsGJAoBiSKAYliQPLV8BmulpYWk/3N8Bns+vo6pOMKCgpMlpKS4qwZPhHVKAYkigGJYkDy1fAZymV8Sn19vcnUZXanp6dhvf93xI4BiWJAohiQfHX7QGJiosn29/dNlpeX9+F7qV8/1f2s6taAYKWlpSbb3t422fHxscmCH8zy9PT04ed9BXYMSBQDEsWARDEg+eoLLjWYLS8vmyyU4TM7O9tkMzMzJisrKzPZy8uLs1aX9ik9PT0mi5ZhMxg7BiSKAYliQKIYkHw1fCp7e3thvW52dtZkFRUVJmtqajJZTEyMs1ZP7ZuenjbZzs7OH5xhZLFjQKIYkCgGJIoByffD59LSksmOjo6cdX5+vjnm5OTEZF1dXSaLj483WVxcnLP+myf2RCt2DEgUAxLFgEQxIPnqms9QlZSUOGt1/eXZ2ZnJiouLTXZ/f///nZiPsGNAohiQKAakbzljBAsEAibr6OgwmbpMsKGh4VPOKdqxY0CiGJAoBiSKAelHDJ/qi6utrS2TqS+z6urqTKZupP5u2DEgUQxIFAMSxYD0I4ZPpbe312Tj4+MmOz8/N1lhYaGzVveVKDk5OSYL/uNe9ed8kcCOAYliQKIYkCgGpB87fCYkJJhMPVGnra3NZGtra866tbXVHPP4+Giy+fl5k01MTDjrjY0Ne7IRwI4BiWJAohiQKAakHzt8KhkZGSbb3d01WVZWlrOenJw0xwwNDZlM/R/KwMCAsx4dHf3wPL8COwYkigGJYkBixviAeujKysqKs1a/moaqr6/PWatfeCOBHQMSxYBEMSBRDEgMn2FITk521lNTU+aY9vZ2k6kvy4LvW4mWJwCyY0CiGJAoBiSKAYnhExI7BiSKAYliQKIYkCgGJIoBiWJAohiQKAYkigGJYkCiGJAoBiSKAYliQKIYkCgGJIoB6T+vnAJhkxKiSQAAAABJRU5ErkJggg==\" id=\"imageba44c4c087\" transform=\"scale(1 -1) translate(0 -96.48)\" x=\"238.096552\" y=\"-6.926897\" width=\"96.48\" height=\"96.48\"/>\n   </g>\n  </g>\n  <g id=\"axes_4\">\n   <g clip-path=\"url(#pe0bf550535)\">\n    <image xlink:href=\"data:image/png;base64,\niVBORw0KGgoAAAANSUhEUgAAAIYAAACGCAYAAAAYefKRAAAFPElEQVR4nO3dz0tUXRzH8TNloYEathF/wMBYSLRJEDMEQVwogqC4GCUhCayW5cJNBIVuq1WU+ge4EEWFKFypCCK0SFAhSIRIdFMK9oMaeJ71ud9PeZ95HOdOvl+78+F070U+HQ4zd+6NOef+cUDAqWxfAKKJYkCiGJAoBiSKAYliQKIYkCgGJIoBKS/bFxAlN27cMFl9fb3J3rx5441nZmYydk3ZwooBiWJAohiQYu4EfLsaj8dNFtwnOOdcIpEwWSwWM1kqlfLGyWTSzJmamvoPVxg9rBiQKAYkigGJYkA6ER9w3bx502RVVVVpHy8vz/+zPXz40Mxh84m/EsWARDEgUQxIf+Unn/Pz89742rVrZk5wA+mcczs7Oyabnp42WUtLizeuqKgwc3p6ekw2MTFhLzaiWDEgUQxIFAMSxYCU85tP9ZX6wsKCNy4vLw91rI6ODpOp2/YaGhq8cXCz65xzq6urJrt69Wqo64gCVgxIFAMSxYBEMSDl/Nfut27dMlmYzebLly9NNjc3F+qcKysr3vjVq1dmzuXLl0MdK6pYMSBRDEgUA1LO7zG6uroOnbO4uGiygYEBk33//j3UOX/+/OmNv337ZuaofY76AC2qtwCyYkCiGJAoBiSKASnnN59hfP361WRhN5pKUVGRNy4rKzNzzpw5Y7Lz58+nfc7jxooBiWJAohiQKAakE7H5VN+khlVcXGyysbExb3z9+vW0jx9VrBiQKAYkigGJYkDKqc1naWmpyc6dO3fov/v06ZPJampqTKY2mnfv3jVZZ2fnoefc3t42mboFMKpYMSBRDEgUA1JW9hh1dXXeWL36YWNjw2QPHjwwmXpoSdDz589NdvHiRZOpPUYY6ta+4eFhk+3u7qZ1/GxgxYBEMSBRDEgUA1LGH5yiHjwSfOrd6dOnM3kJR+7Dhw/e+MmTJ2bOixcvjutyMoIVAxLFgEQxIFEMSBnffP748cNk6jcXQV++fDGZ+pb00qVLJjt79mzIqzucOmdzc7M3fv/+/ZGdLypYMSBRDEgUAxLFgBSJzWfwKXjOOXfv3j2TLS8vm6y1tdVkhYWF3vj+/ftmTm1trb3YkJaWlrzx06dPzZx3796ZbHNz89Bjnzpl/6+qH0N//vz50GP9H6wYkCgGJIoBiWJAyvjmU91v2d/f719ELGbmTE5OmkzdR7m2tmayX79+eWP1xJumpiaTDQ4OmizdRz8fHByYTL14b3Z21hura00mkyZT98keJVYMSBQDEsWAlJV3ogX3Hd3d3WZO8Ml4v9PY2Giy9fV1bxz2wyD1YZnadyQSCW9cUlJi5uTn54c6ZxjBR1Q751xBQcGRHV9hxYBEMSBRDEgUA1IkXsh75coVk6nfo1RWVppMfRu5tbXljV+/fm3mjI6Omuzjx48mS6VSJtvf3/fGt2/fNnPUB3vp2tvbM9mFCxeO7PgKKwYkigGJYkCiGJAisfkMq6+vz2SPHj0yWZgX8oalnoIzPj7ujdva2sycqqqqUMcP/n5maGjIzFEv+3v79m2o46eLFQMSxYBEMSBRDEg5tflUqqurTdbe3u6N79y5Y+aoDWpe3vE/3TL4SOqRkZFjvwaFFQMSxYBEMSBRDEg5v/lMVzweN1lvb6/J1O9Pgu9NURtg9USgx48fm+zZs2d/uMrsYcWARDEgUQxIJ3aPgT9jxYBEMSBRDEgUAxLFgEQxIFEMSBQDEsWARDEgUQxIFAMSxYBEMSBRDEgUAxLFgEQxIFEMSBQDEsWARDEgUQxIFAMSxYBEMSBRDEgUA9K/GnkLQLrB3ZMAAAAASUVORK5CYII=\" id=\"image5001f85d94\" transform=\"scale(1 -1) translate(0 -96.48)\" x=\"353.544828\" y=\"-6.926897\" width=\"96.48\" height=\"96.48\"/>\n   </g>\n  </g>\n  <g id=\"axes_5\">\n   <g clip-path=\"url(#p6acc6e71d8)\">\n    <image xlink:href=\"data:image/png;base64,\niVBORw0KGgoAAAANSUhEUgAAAIYAAACGCAYAAAAYefKRAAAEJ0lEQVR4nO3dPyh9YRzH8XtuPwZ/FqsMSCllkCImAxZRyqCIQQaDzLJgI8Ugk4nF4k/JnQx2Rf6UUkgGFosiEb/5Od/PL+d3fvdwnl/v1/Z8OvfcZ/h4enruPVeQyWQ+M0BI9qcngHSiGJAoBiSKAYliQKIYkCgGJIoBiWJAohiQKAYkigGJYkCiGJAoBiSKAYliQKIYkH799ASSUFtb64zX1tbMNQ0NDbHv//Dw4IxnZ2fNNSsrK7HvnwasGJAoBiSKAYliQAoynj9XUlFRYbKzszNnXFJSkugcPj4+TNbd3W2yXC6X6DzyiRUDEsWARDEgUQxI3p98joyMmCzKZvPo6Mhki4uLJmtrazPZ8PCwM85m7d/X+Pi4ydh8wnsUAxLFgEQxIHm1+SwsLDRZf3//l6+bnp422fz8vMleXl5MVlpaarLw5vN/xIoBiWJAohiQvNpjtLe3m6y6uvrL16mDK7WfyKf9/f1E7580VgxIFAMSxYBEMSB5tfkMguDb3zPK8ydPT08mW15eTmI634YVAxLFgEQxIFEMSF5tPj8/4z0CU1VVZbLj42OTdXR0mKyvr+/L++/t7Zks6ZPVpLFiQKIYkCgGJIoByauHmgsKCkx2enpqspqaGme8s7NjrhkbGzPZ5eWlyYqKikx2c3PjjFtbW8019/f3JvMJKwYkigGJYkDy6oDr7e3NZBsbGyabmppyxj09Peaa5uZmk6n9hHJ3d+eMfd9PKKwYkCgGJIoBiWJA8uqASykvLzfZ+fm5M1bPn0Z1cHBgsvCnsO/v77Hvn1asGJAoBiSKAYliQPLq5FOJ+3W/qC4uLhK9f1qxYkCiGJAoBiSKAcmrk8+ysjKT7e7umqypqSnReZycnDhj9dW+5+fnROeQNFYMSBQDEsWARDEgeXXyOTo6arIoG031z+wGBgZM1tnZabLBwUGT1dfXO+P19XVzzczMjMnCm9Y/zS0NWDEgUQxIFAOSVwdcm5ubJlPPjISpT0jr6uoivefExITJFhYWIr02rLKy0mS3t7ex7pU0VgxIFAMSxYBEMSB5dcAV95fw/uUX9JaWlkxWXFzsjNVhljI3N2eyoaEhZ/z6+voXs0sOKwYkigGJYkCiGJC8OvlsbGw02eTkpMmur6+dsfrfIVdXV7HnEf6KofpVwJaWlkj36urqcsa5XC72vPKJFQMSxYBEMSBRDEhenXweHh6arLe399vn8fj46Iy3t7fNNVE3n2nFigGJYkCiGJAoBiSKAYliQKIYkCgGJK8OuNIqfOD1P2DFgEQxIFEMSBQDEpvPPNja2jLZ6uqqyYIgMFk2m86/zXTOCj+OYkCiGJAoBiSvnivB92HFgEQxIFEMSBQDEsWARDEgUQxIFAMSxYBEMSBRDEgUAxLFgEQxIFEMSBQDEsWARDEg/Qb26cbFMKKHkgAAAABJRU5ErkJggg==\" id=\"imagedf931b5b35\" transform=\"scale(1 -1) translate(0 -96.48)\" x=\"468.993103\" y=\"-6.926897\" width=\"96.48\" height=\"96.48\"/>\n   </g>\n  </g>\n </g>\n <defs>\n  <clipPath id=\"p83fd71c6d3\">\n   <rect x=\"7.2\" y=\"7.2\" width=\"96.206897\" height=\"96.206897\"/>\n  </clipPath>\n  <clipPath id=\"p18da7f629f\">\n   <rect x=\"122.648276\" y=\"7.2\" width=\"96.206897\" height=\"96.206897\"/>\n  </clipPath>\n  <clipPath id=\"pf8c5ea473e\">\n   <rect x=\"238.096552\" y=\"7.2\" width=\"96.206897\" height=\"96.206897\"/>\n  </clipPath>\n  <clipPath id=\"pe0bf550535\">\n   <rect x=\"353.544828\" y=\"7.2\" width=\"96.206897\" height=\"96.206897\"/>\n  </clipPath>\n  <clipPath id=\"p6acc6e71d8\">\n   <rect x=\"468.993103\" y=\"7.2\" width=\"96.206897\" height=\"96.206897\"/>\n  </clipPath>\n </defs>\n</svg>\n"
     },
     "metadata": {},
     "output_type": "display_data"
    },
    {
     "data": {
      "text/plain": "<Figure size 1000x200 with 5 Axes>",
      "image/svg+xml": "<?xml version=\"1.0\" encoding=\"utf-8\" standalone=\"no\"?>\n<!DOCTYPE svg PUBLIC \"-//W3C//DTD SVG 1.1//EN\"\n  \"http://www.w3.org/Graphics/SVG/1.1/DTD/svg11.dtd\">\n<svg xmlns:xlink=\"http://www.w3.org/1999/xlink\" width=\"572.4pt\" height=\"110.606897pt\" viewBox=\"0 0 572.4 110.606897\" xmlns=\"http://www.w3.org/2000/svg\" version=\"1.1\">\n <metadata>\n  <rdf:RDF xmlns:dc=\"http://purl.org/dc/elements/1.1/\" xmlns:cc=\"http://creativecommons.org/ns#\" xmlns:rdf=\"http://www.w3.org/1999/02/22-rdf-syntax-ns#\">\n   <cc:Work>\n    <dc:type rdf:resource=\"http://purl.org/dc/dcmitype/StillImage\"/>\n    <dc:date>2023-11-30T15:54:12.478833</dc:date>\n    <dc:format>image/svg+xml</dc:format>\n    <dc:creator>\n     <cc:Agent>\n      <dc:title>Matplotlib v3.6.2, https://matplotlib.org/</dc:title>\n     </cc:Agent>\n    </dc:creator>\n   </cc:Work>\n  </rdf:RDF>\n </metadata>\n <defs>\n  <style type=\"text/css\">*{stroke-linejoin: round; stroke-linecap: butt}</style>\n </defs>\n <g id=\"figure_1\">\n  <g id=\"patch_1\">\n   <path d=\"M 0 110.606897 \nL 572.4 110.606897 \nL 572.4 0 \nL 0 0 \nz\n\" style=\"fill: #ffffff\"/>\n  </g>\n  <g id=\"axes_1\">\n   <g clip-path=\"url(#p29a44c59e7)\">\n    <image xlink:href=\"data:image/png;base64,\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\" id=\"imaged563b6e878\" transform=\"scale(1 -1) translate(0 -96.48)\" x=\"7.2\" y=\"-6.926897\" width=\"96.48\" height=\"96.48\"/>\n   </g>\n  </g>\n  <g id=\"axes_2\">\n   <g clip-path=\"url(#p0cfd120821)\">\n    <image xlink:href=\"data:image/png;base64,\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\" id=\"image5ff2bf6498\" transform=\"scale(1 -1) translate(0 -96.48)\" x=\"122.648276\" y=\"-6.926897\" width=\"96.48\" height=\"96.48\"/>\n   </g>\n  </g>\n  <g id=\"axes_3\">\n   <g clip-path=\"url(#p819bcf0e79)\">\n    <image xlink:href=\"data:image/png;base64,\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\" id=\"image8c211279a2\" transform=\"scale(1 -1) translate(0 -96.48)\" x=\"238.096552\" y=\"-6.926897\" width=\"96.48\" height=\"96.48\"/>\n   </g>\n  </g>\n  <g id=\"axes_4\">\n   <g clip-path=\"url(#pee3ba8897d)\">\n    <image xlink:href=\"data:image/png;base64,\niVBORw0KGgoAAAANSUhEUgAAAIYAAACGCAYAAAAYefKRAAAICElEQVR4nO2dR28VSxBG2+Rgco5CWDYgkCywNyyQWLDk57JghdggWFgieIFMFDmKZHJeT9Xhud748uQnnbObUt/x3Munno/qruqhkZGRX+0/ZmhoqHP961ftEarj4v2/f/9euteSJUvmvFf1OX7+/JliixYtKt1/IZCfVKQpDPkDCkMQhSFIdlvzoGrUojEjozYfotn8+vVrGkNGcNWqVSk2PDw85/0/ffqUxnz58iXFKt9zoRhUZwxBFIYgCkMQhSHIQM0nGc0fP37M+blly5al2IoVK1Js/fr1pVj8m+/fv5/zGVprbc2aNaVxL1++nPP+9L0pA0vZ1sqYvllggu7ljCGIwhBEYQjS22PMJ+kS379Lly5NYyjZtHLlyhRbvXp1ikV/snbt2jSGvMnExESKrVu3LsXu3r3buT5z5kwa8/DhwxSjdzl994WAM4YgCkMQhSGIwhBkoAmuxYsXl2LRuJIBo6TR06dPU2znzp0pNjY21rkeHx8vfe7QoUMptnHjxhSLCblHjx6lMbSi++bNmxSjpFeEkn30OYrFFd3qfxqcMQRRGIIoDEEUhiADNZ+0oljZqkZG8927d72fY8eOHZ3rzZs3pzGfP39OsampqRQ7fvx4iu3bt+8fr1trbWZmJsUeP36cYt++fetcV1Zb/w19M9TOGIIoDEEUhiAKQ5Cy06kUIlMGk2opotkkg0oZR1o+37NnT4rt3r27c01ZyCtXrqTYtWvXUuzOnTspFg3p5ORkGkNZyLglkGIfPnxIY+j3we14MI4yzxWcMQRRGIIoDEEUhiAD3fNJhosKfqNJIiO1fPny0nPQknQ0wVu3bk1j4r7N1lp78uRJil28eDHFPn782Lk+efJkGrN///4UGx0dTbH4+5BZpxgZfTKfFawrkTIKQxCFIUjZY8T3UNVjxPdxa/ldSO9Qqhchr0AeI9Z0kF+hetkNGzakGG0njO/3Xbt2pTHbt29PMapRiQ1W6LkoRn6isrWv2qTGGUMQhSGIwhBEYQjSO8FFSZFqa+aY1CEjW61RIRM2Ozvbub5582YaU22mQmzZsqVzTaZy06ZNKUbPHz/7+vXr0jPQ1kQy2dFsVhuuOGMIojAEURiCKAxBeptPMlJUE0Hb8eJ2Nvoc1ahQFjXWZbSWu+9R9vL+/fspRuaZjGW8P3X7o4zsq1evUiyaYDLF9B2pJTV1IXJrnwwUhSGIwhBEYQjS23zS8i2ZSDJvcdmaxtASOxkpavEYzxihTjb0OeqoQ4YuLoOTuaUtjWSeY6FzX7PYGtfPxGetnofijCGIwhBEYQiCHqPvIbSU1KEtbnv37u1cUwc9SuA8ePAgxWiVMXqYbdu2lZ6VElUUi57i+vXraQxBHiN6ANrSWK1drfwb2bVP5oXCEERhCKIwBEHzWTExZIhoJbXSmpm66l29ejXFqJMfbWeLCTPqqkdGkFZ0KRZbRFNDFDLFlPSK5paShFRXQsksWh2OCbPqfyycMQRRGIIoDEEUhiC9u/aR+aQYZRij+Yx1Gq219uzZsxS7fft2ilGXuxgjc0sFzJRtJWMWDTWZYoqRsYz1J2/fvk1jaCW7cs5Ja/U6kogzhiAKQxCFIYjCEKS87B6NZbXAuNJxjk5Npq50lK2kbXWxow5lX48cOZJitJ2QjHFcGidTSZlPOlQvfqfqIXj0N6uGtIIzhiAKQxCFIYjCEKR35pMgw0UZzNiambKQx44dSzFq83zhwoUUixlSagVNsbgXtbXWDh48mGIHDhzoXJO5peJkMtQRKnymLjsvXrxIMVrWp20DEZfdpYzCEERhCDI0MjJSWn6LHoMSLJTMoqRRPMeMDr09fPhwitEWt0uXLqXY+fPnO9f37t1LY8gPUQ0tHS8xNjbWuabaGdrmSNsQ40owbRN8/vx5it24cSPFyJ/E1Vr63vTv5owhiMIQRGEIojAEKSe4okGhlTzaZkf1DzFhQ4mrU6dOpdiJEydSjBJhcUV0amoqjaG/We0KGA0cfW+6F5nPaM7JyJJhrK6uxt+/UnvSmjOG/AGFIYjCEERhCNJ7dbV6nggZp7iaR/UcZ8+eTbGZmZkUO336dIrFzCRlX2/dupVitOJK2w4nJyfnHEP3v3z5copFc0ur2GSUaZsg1bLQb1vBGUMQhSGIwhBEYQgy0K19VMBMS7qVNsb0uenp6RSLLZdbyxnS8fHxNCZuz2uttYmJiRSjbXuxQw9t46M21WQE41I5bcWj2hn6m2T0++KMIYjCEERhCKIwBOl9XgmZpGqXnbj0S0aTzBv9TRoXzdq5c+fSmNHR0RSLGdPWWjt69GiKReNHppKW+imzWtlLWzmBuTXOPMcsM33OuhIpozAEURiClOtKKtC7it5pMUbvVarDpG2CtK0uvrepxoPOIaHzzyrb6ij5V23NTEnBCHkrqj+prHh7XonMC4UhiMIQRGEIMlDzSfRt3EGfoxoPMrezs7OdazKQlDSK7ZtbY8MbE1rUEIUO/CXjV+m0R+acfjN6jr4H/DpjCKIwBFEYgigMQXqvrlbpa37ISJFhJGMWO+PQNjhaEa12m4kmkgwkGeXKQXi0Gk2/IZnzym/tYXkyLxSGIApDEIUhyF83n32pHvJG46IJGx4eTmOqNTBEJZtLRrm6PF+hr6mv/q7OGIIoDEEUhiAL1mNUqfiCig9pjRNQ1ftVqCaXFgLOGIIoDEEUhiAKQ5D/vfkcpHn720ZwoRpNwhlDEIUhiMIQRGEI8htDElf9DfBHjwAAAABJRU5ErkJggg==\" id=\"image81aa140ff9\" transform=\"scale(1 -1) translate(0 -96.48)\" x=\"353.544828\" y=\"-6.926897\" width=\"96.48\" height=\"96.48\"/>\n   </g>\n  </g>\n  <g id=\"axes_5\">\n   <g clip-path=\"url(#pc52351f3e8)\">\n    <image xlink:href=\"data:image/png;base64,\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\" id=\"image66a57fa53a\" transform=\"scale(1 -1) translate(0 -96.48)\" x=\"468.993103\" y=\"-6.926897\" width=\"96.48\" height=\"96.48\"/>\n   </g>\n  </g>\n </g>\n <defs>\n  <clipPath id=\"p29a44c59e7\">\n   <rect x=\"7.2\" y=\"7.2\" width=\"96.206897\" height=\"96.206897\"/>\n  </clipPath>\n  <clipPath id=\"p0cfd120821\">\n   <rect x=\"122.648276\" y=\"7.2\" width=\"96.206897\" height=\"96.206897\"/>\n  </clipPath>\n  <clipPath id=\"p819bcf0e79\">\n   <rect x=\"238.096552\" y=\"7.2\" width=\"96.206897\" height=\"96.206897\"/>\n  </clipPath>\n  <clipPath id=\"pee3ba8897d\">\n   <rect x=\"353.544828\" y=\"7.2\" width=\"96.206897\" height=\"96.206897\"/>\n  </clipPath>\n  <clipPath id=\"pc52351f3e8\">\n   <rect x=\"468.993103\" y=\"7.2\" width=\"96.206897\" height=\"96.206897\"/>\n  </clipPath>\n </defs>\n</svg>\n"
     },
     "metadata": {},
     "output_type": "display_data"
    }
   ],
   "source": [
    "# Call the function with matrix_B_final dataframe or numpy array\n",
    "plot_mnist(matrix_B_final_test, n_images, indices)\n",
    "\n",
    "plot_mnist(matrix_B_calculated_test, n_images, indices)"
   ]
  },
  {
   "cell_type": "code",
   "execution_count": null,
   "outputs": [],
   "source": [],
   "metadata": {
    "collapsed": false
   },
   "id": "e4b998578ddb76ff"
  }
 ],
 "metadata": {
  "kernelspec": {
   "display_name": "Python 3 (ipykernel)",
   "language": "python",
   "name": "python3"
  },
  "language_info": {
   "codemirror_mode": {
    "name": "ipython",
    "version": 3
   },
   "file_extension": ".py",
   "mimetype": "text/x-python",
   "name": "python",
   "nbconvert_exporter": "python",
   "pygments_lexer": "ipython3",
   "version": "3.9.16"
  }
 },
 "nbformat": 4,
 "nbformat_minor": 5
}
