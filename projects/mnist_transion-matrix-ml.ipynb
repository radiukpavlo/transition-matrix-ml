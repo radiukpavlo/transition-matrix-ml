{
 "cells": [
  {
   "cell_type": "code",
   "execution_count": 1,
   "outputs": [],
   "source": [
    "import pandas as pd\n",
    "import numpy as np\n"
   ],
   "metadata": {
    "collapsed": false,
    "ExecuteTime": {
     "end_time": "2023-08-02T15:22:28.872661600Z",
     "start_time": "2023-08-02T15:22:28.860372200Z"
    }
   },
   "id": "d205769e02645fb9"
  },
  {
   "cell_type": "code",
   "execution_count": 2,
   "outputs": [],
   "source": [
    "# URLs for the CSV files\n",
    "# url_csv_A = \"https://raw.githubusercontent.com/radiukpavlo/transition-matrix-ml/main/mnist/mnist_matrix_A.csv\"\n",
    "# url_csv_B = \"https://raw.githubusercontent.com/radiukpavlo/transition-matrix-ml/main/mnist/mnist_matrix_B.csv\"\n",
    "\n",
    "path_csv = '../mnist/'\n",
    "\n",
    "# Read the CSV files into pandas dataframes\n",
    "df_matrix_A = pd.read_csv(f\"{path_csv}/mnist_matrix_A.csv\")\n",
    "df_matrix_B = pd.read_csv(f\"{path_csv}/mnist_matrix_B.csv\")\n"
   ],
   "metadata": {
    "collapsed": false,
    "ExecuteTime": {
     "end_time": "2023-08-02T15:22:29.029619600Z",
     "start_time": "2023-08-02T15:22:28.874656600Z"
    }
   },
   "id": "initial_id"
  },
  {
   "cell_type": "code",
   "execution_count": 3,
   "outputs": [
    {
     "data": {
      "text/plain": "     Unnamed: 0  unique_id         0         1         2         3         4  \\\n0             0      12277  0.087078  0.091459  0.080337  0.081385  0.089404   \n1             1      31384  0.087078  0.091459  0.080337  0.081385  0.089404   \n2             2      37817  0.087078  0.091459  0.080337  0.081385  0.089404   \n3             3      13795  0.087078  0.091459  0.080337  0.081385  0.089404   \n4             4      23643  0.087078  0.091459  0.080337  0.081385  0.089404   \n..          ...        ...       ...       ...       ...       ...       ...   \n995         995      25319  0.087078  0.091459  0.080337  0.081385  0.089404   \n996         996      51741  0.087078  0.091459  0.080337  0.081385  0.089404   \n997         997       8897  0.087078  0.091459  0.080337  0.081385  0.089404   \n998         998      29872  0.087078  0.091459  0.080337  0.081385  0.089404   \n999         999      20997  0.087078  0.091459  0.080337  0.081385  0.089404   \n\n            5         6         7  ...  480  481  482  483  484  485  486  \\\n0    0.084315  0.076976  0.093606  ...  0.0  0.0  0.0  0.0  0.0  0.0  0.0   \n1    0.084315  0.076976  0.093606  ...  0.0  0.0  0.0  0.0  0.0  0.0  0.0   \n2    0.084315  0.076976  0.093606  ...  0.0  0.0  0.0  0.0  0.0  0.0  0.0   \n3    0.084315  0.076976  0.093606  ...  0.0  0.0  0.0  0.0  0.0  0.0  0.0   \n4    0.084315  0.076976  0.093606  ...  0.0  0.0  0.0  0.0  0.0  0.0  0.0   \n..        ...       ...       ...  ...  ...  ...  ...  ...  ...  ...  ...   \n995  0.084315  0.076976  0.093606  ...  0.0  0.0  0.0  0.0  0.0  0.0  0.0   \n996  0.084315  0.076976  0.093606  ...  0.0  0.0  0.0  0.0  0.0  0.0  0.0   \n997  0.084315  0.076976  0.093606  ...  0.0  0.0  0.0  0.0  0.0  0.0  0.0   \n998  0.084315  0.076976  0.093606  ...  0.0  0.0  0.0  0.0  0.0  0.0  0.0   \n999  0.084315  0.076976  0.093606  ...  0.0  0.0  0.0  0.0  0.0  0.0  0.0   \n\n     487  488  489  \n0    0.0  0.0  0.0  \n1    0.0  0.0  0.0  \n2    0.0  0.0  0.0  \n3    0.0  0.0  0.0  \n4    0.0  0.0  0.0  \n..   ...  ...  ...  \n995  0.0  0.0  0.0  \n996  0.0  0.0  0.0  \n997  0.0  0.0  0.0  \n998  0.0  0.0  0.0  \n999  0.0  0.0  0.0  \n\n[1000 rows x 492 columns]",
      "text/html": "<div>\n<style scoped>\n    .dataframe tbody tr th:only-of-type {\n        vertical-align: middle;\n    }\n\n    .dataframe tbody tr th {\n        vertical-align: top;\n    }\n\n    .dataframe thead th {\n        text-align: right;\n    }\n</style>\n<table border=\"1\" class=\"dataframe\">\n  <thead>\n    <tr style=\"text-align: right;\">\n      <th></th>\n      <th>Unnamed: 0</th>\n      <th>unique_id</th>\n      <th>0</th>\n      <th>1</th>\n      <th>2</th>\n      <th>3</th>\n      <th>4</th>\n      <th>5</th>\n      <th>6</th>\n      <th>7</th>\n      <th>...</th>\n      <th>480</th>\n      <th>481</th>\n      <th>482</th>\n      <th>483</th>\n      <th>484</th>\n      <th>485</th>\n      <th>486</th>\n      <th>487</th>\n      <th>488</th>\n      <th>489</th>\n    </tr>\n  </thead>\n  <tbody>\n    <tr>\n      <th>0</th>\n      <td>0</td>\n      <td>12277</td>\n      <td>0.087078</td>\n      <td>0.091459</td>\n      <td>0.080337</td>\n      <td>0.081385</td>\n      <td>0.089404</td>\n      <td>0.084315</td>\n      <td>0.076976</td>\n      <td>0.093606</td>\n      <td>...</td>\n      <td>0.0</td>\n      <td>0.0</td>\n      <td>0.0</td>\n      <td>0.0</td>\n      <td>0.0</td>\n      <td>0.0</td>\n      <td>0.0</td>\n      <td>0.0</td>\n      <td>0.0</td>\n      <td>0.0</td>\n    </tr>\n    <tr>\n      <th>1</th>\n      <td>1</td>\n      <td>31384</td>\n      <td>0.087078</td>\n      <td>0.091459</td>\n      <td>0.080337</td>\n      <td>0.081385</td>\n      <td>0.089404</td>\n      <td>0.084315</td>\n      <td>0.076976</td>\n      <td>0.093606</td>\n      <td>...</td>\n      <td>0.0</td>\n      <td>0.0</td>\n      <td>0.0</td>\n      <td>0.0</td>\n      <td>0.0</td>\n      <td>0.0</td>\n      <td>0.0</td>\n      <td>0.0</td>\n      <td>0.0</td>\n      <td>0.0</td>\n    </tr>\n    <tr>\n      <th>2</th>\n      <td>2</td>\n      <td>37817</td>\n      <td>0.087078</td>\n      <td>0.091459</td>\n      <td>0.080337</td>\n      <td>0.081385</td>\n      <td>0.089404</td>\n      <td>0.084315</td>\n      <td>0.076976</td>\n      <td>0.093606</td>\n      <td>...</td>\n      <td>0.0</td>\n      <td>0.0</td>\n      <td>0.0</td>\n      <td>0.0</td>\n      <td>0.0</td>\n      <td>0.0</td>\n      <td>0.0</td>\n      <td>0.0</td>\n      <td>0.0</td>\n      <td>0.0</td>\n    </tr>\n    <tr>\n      <th>3</th>\n      <td>3</td>\n      <td>13795</td>\n      <td>0.087078</td>\n      <td>0.091459</td>\n      <td>0.080337</td>\n      <td>0.081385</td>\n      <td>0.089404</td>\n      <td>0.084315</td>\n      <td>0.076976</td>\n      <td>0.093606</td>\n      <td>...</td>\n      <td>0.0</td>\n      <td>0.0</td>\n      <td>0.0</td>\n      <td>0.0</td>\n      <td>0.0</td>\n      <td>0.0</td>\n      <td>0.0</td>\n      <td>0.0</td>\n      <td>0.0</td>\n      <td>0.0</td>\n    </tr>\n    <tr>\n      <th>4</th>\n      <td>4</td>\n      <td>23643</td>\n      <td>0.087078</td>\n      <td>0.091459</td>\n      <td>0.080337</td>\n      <td>0.081385</td>\n      <td>0.089404</td>\n      <td>0.084315</td>\n      <td>0.076976</td>\n      <td>0.093606</td>\n      <td>...</td>\n      <td>0.0</td>\n      <td>0.0</td>\n      <td>0.0</td>\n      <td>0.0</td>\n      <td>0.0</td>\n      <td>0.0</td>\n      <td>0.0</td>\n      <td>0.0</td>\n      <td>0.0</td>\n      <td>0.0</td>\n    </tr>\n    <tr>\n      <th>...</th>\n      <td>...</td>\n      <td>...</td>\n      <td>...</td>\n      <td>...</td>\n      <td>...</td>\n      <td>...</td>\n      <td>...</td>\n      <td>...</td>\n      <td>...</td>\n      <td>...</td>\n      <td>...</td>\n      <td>...</td>\n      <td>...</td>\n      <td>...</td>\n      <td>...</td>\n      <td>...</td>\n      <td>...</td>\n      <td>...</td>\n      <td>...</td>\n      <td>...</td>\n      <td>...</td>\n    </tr>\n    <tr>\n      <th>995</th>\n      <td>995</td>\n      <td>25319</td>\n      <td>0.087078</td>\n      <td>0.091459</td>\n      <td>0.080337</td>\n      <td>0.081385</td>\n      <td>0.089404</td>\n      <td>0.084315</td>\n      <td>0.076976</td>\n      <td>0.093606</td>\n      <td>...</td>\n      <td>0.0</td>\n      <td>0.0</td>\n      <td>0.0</td>\n      <td>0.0</td>\n      <td>0.0</td>\n      <td>0.0</td>\n      <td>0.0</td>\n      <td>0.0</td>\n      <td>0.0</td>\n      <td>0.0</td>\n    </tr>\n    <tr>\n      <th>996</th>\n      <td>996</td>\n      <td>51741</td>\n      <td>0.087078</td>\n      <td>0.091459</td>\n      <td>0.080337</td>\n      <td>0.081385</td>\n      <td>0.089404</td>\n      <td>0.084315</td>\n      <td>0.076976</td>\n      <td>0.093606</td>\n      <td>...</td>\n      <td>0.0</td>\n      <td>0.0</td>\n      <td>0.0</td>\n      <td>0.0</td>\n      <td>0.0</td>\n      <td>0.0</td>\n      <td>0.0</td>\n      <td>0.0</td>\n      <td>0.0</td>\n      <td>0.0</td>\n    </tr>\n    <tr>\n      <th>997</th>\n      <td>997</td>\n      <td>8897</td>\n      <td>0.087078</td>\n      <td>0.091459</td>\n      <td>0.080337</td>\n      <td>0.081385</td>\n      <td>0.089404</td>\n      <td>0.084315</td>\n      <td>0.076976</td>\n      <td>0.093606</td>\n      <td>...</td>\n      <td>0.0</td>\n      <td>0.0</td>\n      <td>0.0</td>\n      <td>0.0</td>\n      <td>0.0</td>\n      <td>0.0</td>\n      <td>0.0</td>\n      <td>0.0</td>\n      <td>0.0</td>\n      <td>0.0</td>\n    </tr>\n    <tr>\n      <th>998</th>\n      <td>998</td>\n      <td>29872</td>\n      <td>0.087078</td>\n      <td>0.091459</td>\n      <td>0.080337</td>\n      <td>0.081385</td>\n      <td>0.089404</td>\n      <td>0.084315</td>\n      <td>0.076976</td>\n      <td>0.093606</td>\n      <td>...</td>\n      <td>0.0</td>\n      <td>0.0</td>\n      <td>0.0</td>\n      <td>0.0</td>\n      <td>0.0</td>\n      <td>0.0</td>\n      <td>0.0</td>\n      <td>0.0</td>\n      <td>0.0</td>\n      <td>0.0</td>\n    </tr>\n    <tr>\n      <th>999</th>\n      <td>999</td>\n      <td>20997</td>\n      <td>0.087078</td>\n      <td>0.091459</td>\n      <td>0.080337</td>\n      <td>0.081385</td>\n      <td>0.089404</td>\n      <td>0.084315</td>\n      <td>0.076976</td>\n      <td>0.093606</td>\n      <td>...</td>\n      <td>0.0</td>\n      <td>0.0</td>\n      <td>0.0</td>\n      <td>0.0</td>\n      <td>0.0</td>\n      <td>0.0</td>\n      <td>0.0</td>\n      <td>0.0</td>\n      <td>0.0</td>\n      <td>0.0</td>\n    </tr>\n  </tbody>\n</table>\n<p>1000 rows × 492 columns</p>\n</div>"
     },
     "execution_count": 3,
     "metadata": {},
     "output_type": "execute_result"
    }
   ],
   "source": [
    "df_matrix_A"
   ],
   "metadata": {
    "collapsed": false,
    "ExecuteTime": {
     "end_time": "2023-08-02T15:22:29.071644500Z",
     "start_time": "2023-08-02T15:22:29.030616800Z"
    }
   },
   "id": "5ab2939e56366a7d"
  },
  {
   "cell_type": "code",
   "execution_count": 4,
   "outputs": [
    {
     "data": {
      "text/plain": "     unique_id  label  pixel0  pixel1  pixel2  pixel3  pixel4  pixel5  pixel6  \\\n0        12277      9     0.0     0.0     0.0     0.0     0.0     0.0     0.0   \n1        31384      1     0.0     0.0     0.0     0.0     0.0     0.0     0.0   \n2        37817      5     0.0     0.0     0.0     0.0     0.0     0.0     0.0   \n3        13795      8     0.0     0.0     0.0     0.0     0.0     0.0     0.0   \n4        23643      0     0.0     0.0     0.0     0.0     0.0     0.0     0.0   \n..         ...    ...     ...     ...     ...     ...     ...     ...     ...   \n995      25319      7     0.0     0.0     0.0     0.0     0.0     0.0     0.0   \n996      51741      1     0.0     0.0     0.0     0.0     0.0     0.0     0.0   \n997       8897      0     0.0     0.0     0.0     0.0     0.0     0.0     0.0   \n998      29872      6     0.0     0.0     0.0     0.0     0.0     0.0     0.0   \n999      20997      9     0.0     0.0     0.0     0.0     0.0     0.0     0.0   \n\n     pixel7  ...  pixel774  pixel775  pixel776  pixel777  pixel778  pixel779  \\\n0       0.0  ...       0.0       0.0       0.0       0.0       0.0       0.0   \n1       0.0  ...       0.0       0.0       0.0       0.0       0.0       0.0   \n2       0.0  ...       0.0       0.0       0.0       0.0       0.0       0.0   \n3       0.0  ...       0.0       0.0       0.0       0.0       0.0       0.0   \n4       0.0  ...       0.0       0.0       0.0       0.0       0.0       0.0   \n..      ...  ...       ...       ...       ...       ...       ...       ...   \n995     0.0  ...       0.0       0.0       0.0       0.0       0.0       0.0   \n996     0.0  ...       0.0       0.0       0.0       0.0       0.0       0.0   \n997     0.0  ...       0.0       0.0       0.0       0.0       0.0       0.0   \n998     0.0  ...       0.0       0.0       0.0       0.0       0.0       0.0   \n999     0.0  ...       0.0       0.0       0.0       0.0       0.0       0.0   \n\n     pixel780  pixel781  pixel782  pixel783  \n0         0.0       0.0       0.0       0.0  \n1         0.0       0.0       0.0       0.0  \n2         0.0       0.0       0.0       0.0  \n3         0.0       0.0       0.0       0.0  \n4         0.0       0.0       0.0       0.0  \n..        ...       ...       ...       ...  \n995       0.0       0.0       0.0       0.0  \n996       0.0       0.0       0.0       0.0  \n997       0.0       0.0       0.0       0.0  \n998       0.0       0.0       0.0       0.0  \n999       0.0       0.0       0.0       0.0  \n\n[1000 rows x 786 columns]",
      "text/html": "<div>\n<style scoped>\n    .dataframe tbody tr th:only-of-type {\n        vertical-align: middle;\n    }\n\n    .dataframe tbody tr th {\n        vertical-align: top;\n    }\n\n    .dataframe thead th {\n        text-align: right;\n    }\n</style>\n<table border=\"1\" class=\"dataframe\">\n  <thead>\n    <tr style=\"text-align: right;\">\n      <th></th>\n      <th>unique_id</th>\n      <th>label</th>\n      <th>pixel0</th>\n      <th>pixel1</th>\n      <th>pixel2</th>\n      <th>pixel3</th>\n      <th>pixel4</th>\n      <th>pixel5</th>\n      <th>pixel6</th>\n      <th>pixel7</th>\n      <th>...</th>\n      <th>pixel774</th>\n      <th>pixel775</th>\n      <th>pixel776</th>\n      <th>pixel777</th>\n      <th>pixel778</th>\n      <th>pixel779</th>\n      <th>pixel780</th>\n      <th>pixel781</th>\n      <th>pixel782</th>\n      <th>pixel783</th>\n    </tr>\n  </thead>\n  <tbody>\n    <tr>\n      <th>0</th>\n      <td>12277</td>\n      <td>9</td>\n      <td>0.0</td>\n      <td>0.0</td>\n      <td>0.0</td>\n      <td>0.0</td>\n      <td>0.0</td>\n      <td>0.0</td>\n      <td>0.0</td>\n      <td>0.0</td>\n      <td>...</td>\n      <td>0.0</td>\n      <td>0.0</td>\n      <td>0.0</td>\n      <td>0.0</td>\n      <td>0.0</td>\n      <td>0.0</td>\n      <td>0.0</td>\n      <td>0.0</td>\n      <td>0.0</td>\n      <td>0.0</td>\n    </tr>\n    <tr>\n      <th>1</th>\n      <td>31384</td>\n      <td>1</td>\n      <td>0.0</td>\n      <td>0.0</td>\n      <td>0.0</td>\n      <td>0.0</td>\n      <td>0.0</td>\n      <td>0.0</td>\n      <td>0.0</td>\n      <td>0.0</td>\n      <td>...</td>\n      <td>0.0</td>\n      <td>0.0</td>\n      <td>0.0</td>\n      <td>0.0</td>\n      <td>0.0</td>\n      <td>0.0</td>\n      <td>0.0</td>\n      <td>0.0</td>\n      <td>0.0</td>\n      <td>0.0</td>\n    </tr>\n    <tr>\n      <th>2</th>\n      <td>37817</td>\n      <td>5</td>\n      <td>0.0</td>\n      <td>0.0</td>\n      <td>0.0</td>\n      <td>0.0</td>\n      <td>0.0</td>\n      <td>0.0</td>\n      <td>0.0</td>\n      <td>0.0</td>\n      <td>...</td>\n      <td>0.0</td>\n      <td>0.0</td>\n      <td>0.0</td>\n      <td>0.0</td>\n      <td>0.0</td>\n      <td>0.0</td>\n      <td>0.0</td>\n      <td>0.0</td>\n      <td>0.0</td>\n      <td>0.0</td>\n    </tr>\n    <tr>\n      <th>3</th>\n      <td>13795</td>\n      <td>8</td>\n      <td>0.0</td>\n      <td>0.0</td>\n      <td>0.0</td>\n      <td>0.0</td>\n      <td>0.0</td>\n      <td>0.0</td>\n      <td>0.0</td>\n      <td>0.0</td>\n      <td>...</td>\n      <td>0.0</td>\n      <td>0.0</td>\n      <td>0.0</td>\n      <td>0.0</td>\n      <td>0.0</td>\n      <td>0.0</td>\n      <td>0.0</td>\n      <td>0.0</td>\n      <td>0.0</td>\n      <td>0.0</td>\n    </tr>\n    <tr>\n      <th>4</th>\n      <td>23643</td>\n      <td>0</td>\n      <td>0.0</td>\n      <td>0.0</td>\n      <td>0.0</td>\n      <td>0.0</td>\n      <td>0.0</td>\n      <td>0.0</td>\n      <td>0.0</td>\n      <td>0.0</td>\n      <td>...</td>\n      <td>0.0</td>\n      <td>0.0</td>\n      <td>0.0</td>\n      <td>0.0</td>\n      <td>0.0</td>\n      <td>0.0</td>\n      <td>0.0</td>\n      <td>0.0</td>\n      <td>0.0</td>\n      <td>0.0</td>\n    </tr>\n    <tr>\n      <th>...</th>\n      <td>...</td>\n      <td>...</td>\n      <td>...</td>\n      <td>...</td>\n      <td>...</td>\n      <td>...</td>\n      <td>...</td>\n      <td>...</td>\n      <td>...</td>\n      <td>...</td>\n      <td>...</td>\n      <td>...</td>\n      <td>...</td>\n      <td>...</td>\n      <td>...</td>\n      <td>...</td>\n      <td>...</td>\n      <td>...</td>\n      <td>...</td>\n      <td>...</td>\n      <td>...</td>\n    </tr>\n    <tr>\n      <th>995</th>\n      <td>25319</td>\n      <td>7</td>\n      <td>0.0</td>\n      <td>0.0</td>\n      <td>0.0</td>\n      <td>0.0</td>\n      <td>0.0</td>\n      <td>0.0</td>\n      <td>0.0</td>\n      <td>0.0</td>\n      <td>...</td>\n      <td>0.0</td>\n      <td>0.0</td>\n      <td>0.0</td>\n      <td>0.0</td>\n      <td>0.0</td>\n      <td>0.0</td>\n      <td>0.0</td>\n      <td>0.0</td>\n      <td>0.0</td>\n      <td>0.0</td>\n    </tr>\n    <tr>\n      <th>996</th>\n      <td>51741</td>\n      <td>1</td>\n      <td>0.0</td>\n      <td>0.0</td>\n      <td>0.0</td>\n      <td>0.0</td>\n      <td>0.0</td>\n      <td>0.0</td>\n      <td>0.0</td>\n      <td>0.0</td>\n      <td>...</td>\n      <td>0.0</td>\n      <td>0.0</td>\n      <td>0.0</td>\n      <td>0.0</td>\n      <td>0.0</td>\n      <td>0.0</td>\n      <td>0.0</td>\n      <td>0.0</td>\n      <td>0.0</td>\n      <td>0.0</td>\n    </tr>\n    <tr>\n      <th>997</th>\n      <td>8897</td>\n      <td>0</td>\n      <td>0.0</td>\n      <td>0.0</td>\n      <td>0.0</td>\n      <td>0.0</td>\n      <td>0.0</td>\n      <td>0.0</td>\n      <td>0.0</td>\n      <td>0.0</td>\n      <td>...</td>\n      <td>0.0</td>\n      <td>0.0</td>\n      <td>0.0</td>\n      <td>0.0</td>\n      <td>0.0</td>\n      <td>0.0</td>\n      <td>0.0</td>\n      <td>0.0</td>\n      <td>0.0</td>\n      <td>0.0</td>\n    </tr>\n    <tr>\n      <th>998</th>\n      <td>29872</td>\n      <td>6</td>\n      <td>0.0</td>\n      <td>0.0</td>\n      <td>0.0</td>\n      <td>0.0</td>\n      <td>0.0</td>\n      <td>0.0</td>\n      <td>0.0</td>\n      <td>0.0</td>\n      <td>...</td>\n      <td>0.0</td>\n      <td>0.0</td>\n      <td>0.0</td>\n      <td>0.0</td>\n      <td>0.0</td>\n      <td>0.0</td>\n      <td>0.0</td>\n      <td>0.0</td>\n      <td>0.0</td>\n      <td>0.0</td>\n    </tr>\n    <tr>\n      <th>999</th>\n      <td>20997</td>\n      <td>9</td>\n      <td>0.0</td>\n      <td>0.0</td>\n      <td>0.0</td>\n      <td>0.0</td>\n      <td>0.0</td>\n      <td>0.0</td>\n      <td>0.0</td>\n      <td>0.0</td>\n      <td>...</td>\n      <td>0.0</td>\n      <td>0.0</td>\n      <td>0.0</td>\n      <td>0.0</td>\n      <td>0.0</td>\n      <td>0.0</td>\n      <td>0.0</td>\n      <td>0.0</td>\n      <td>0.0</td>\n      <td>0.0</td>\n    </tr>\n  </tbody>\n</table>\n<p>1000 rows × 786 columns</p>\n</div>"
     },
     "execution_count": 4,
     "metadata": {},
     "output_type": "execute_result"
    }
   ],
   "source": [
    "df_matrix_B"
   ],
   "metadata": {
    "collapsed": false,
    "ExecuteTime": {
     "end_time": "2023-08-02T15:22:29.139001700Z",
     "start_time": "2023-08-02T15:22:29.063637700Z"
    }
   },
   "id": "92bce8109d11fee0"
  },
  {
   "cell_type": "code",
   "execution_count": 5,
   "outputs": [],
   "source": [
    "matrix_A = df_matrix_A.drop(df_matrix_A.columns[0], axis=1)"
   ],
   "metadata": {
    "collapsed": false,
    "ExecuteTime": {
     "end_time": "2023-08-02T15:22:29.154959200Z",
     "start_time": "2023-08-02T15:22:29.093124700Z"
    }
   },
   "id": "7c114d73e76cf3ab"
  },
  {
   "cell_type": "code",
   "execution_count": 6,
   "outputs": [],
   "source": [
    "# Extract the first column for unique IDs\n",
    "matrix_A_unique_id = matrix_A.iloc[:, 0].to_frame()\n",
    "\n",
    "# Extract the remaining columns for matrix A\n",
    "matrix_A_final = matrix_A.iloc[:, 1:]\n",
    "\n",
    "# Extract the first column for unique IDs\n",
    "matrix_B_unique_id = df_matrix_B.iloc[:, 0].to_frame()\n",
    "\n",
    "# Extract the second column for labels\n",
    "matrix_B_labels = df_matrix_B.iloc[:, 1].to_frame()\n",
    "\n",
    "# Extract the remaining columns for matrix_B_final\n",
    "matrix_B_final = df_matrix_B.iloc[:, 2:]\n"
   ],
   "metadata": {
    "collapsed": false,
    "ExecuteTime": {
     "end_time": "2023-08-02T15:22:29.155957100Z",
     "start_time": "2023-08-02T15:22:29.124042Z"
    }
   },
   "id": "31354666c9170ae8"
  },
  {
   "cell_type": "code",
   "execution_count": 7,
   "outputs": [
    {
     "data": {
      "text/plain": "            0         1         2         3         4         5         6  \\\n0    0.087078  0.091459  0.080337  0.081385  0.089404  0.084315  0.076976   \n1    0.087078  0.091459  0.080337  0.081385  0.089404  0.084315  0.076976   \n2    0.087078  0.091459  0.080337  0.081385  0.089404  0.084315  0.076976   \n3    0.087078  0.091459  0.080337  0.081385  0.089404  0.084315  0.076976   \n4    0.087078  0.091459  0.080337  0.081385  0.089404  0.084315  0.076976   \n..        ...       ...       ...       ...       ...       ...       ...   \n995  0.087078  0.091459  0.080337  0.081385  0.089404  0.084315  0.076976   \n996  0.087078  0.091459  0.080337  0.081385  0.089404  0.084315  0.076976   \n997  0.087078  0.091459  0.080337  0.081385  0.089404  0.084315  0.076976   \n998  0.087078  0.091459  0.080337  0.081385  0.089404  0.084315  0.076976   \n999  0.087078  0.091459  0.080337  0.081385  0.089404  0.084315  0.076976   \n\n            7         8         9  ...  480  481  482  483  484  485  486  \\\n0    0.093606  0.081324  0.083723  ...  0.0  0.0  0.0  0.0  0.0  0.0  0.0   \n1    0.093606  0.081324  0.083723  ...  0.0  0.0  0.0  0.0  0.0  0.0  0.0   \n2    0.093606  0.081324  0.083723  ...  0.0  0.0  0.0  0.0  0.0  0.0  0.0   \n3    0.093606  0.081324  0.083723  ...  0.0  0.0  0.0  0.0  0.0  0.0  0.0   \n4    0.093606  0.081324  0.083723  ...  0.0  0.0  0.0  0.0  0.0  0.0  0.0   \n..        ...       ...       ...  ...  ...  ...  ...  ...  ...  ...  ...   \n995  0.093606  0.081324  0.083723  ...  0.0  0.0  0.0  0.0  0.0  0.0  0.0   \n996  0.093606  0.081324  0.083723  ...  0.0  0.0  0.0  0.0  0.0  0.0  0.0   \n997  0.093606  0.081324  0.083723  ...  0.0  0.0  0.0  0.0  0.0  0.0  0.0   \n998  0.093606  0.081324  0.083723  ...  0.0  0.0  0.0  0.0  0.0  0.0  0.0   \n999  0.093606  0.081324  0.083723  ...  0.0  0.0  0.0  0.0  0.0  0.0  0.0   \n\n     487  488  489  \n0    0.0  0.0  0.0  \n1    0.0  0.0  0.0  \n2    0.0  0.0  0.0  \n3    0.0  0.0  0.0  \n4    0.0  0.0  0.0  \n..   ...  ...  ...  \n995  0.0  0.0  0.0  \n996  0.0  0.0  0.0  \n997  0.0  0.0  0.0  \n998  0.0  0.0  0.0  \n999  0.0  0.0  0.0  \n\n[1000 rows x 490 columns]",
      "text/html": "<div>\n<style scoped>\n    .dataframe tbody tr th:only-of-type {\n        vertical-align: middle;\n    }\n\n    .dataframe tbody tr th {\n        vertical-align: top;\n    }\n\n    .dataframe thead th {\n        text-align: right;\n    }\n</style>\n<table border=\"1\" class=\"dataframe\">\n  <thead>\n    <tr style=\"text-align: right;\">\n      <th></th>\n      <th>0</th>\n      <th>1</th>\n      <th>2</th>\n      <th>3</th>\n      <th>4</th>\n      <th>5</th>\n      <th>6</th>\n      <th>7</th>\n      <th>8</th>\n      <th>9</th>\n      <th>...</th>\n      <th>480</th>\n      <th>481</th>\n      <th>482</th>\n      <th>483</th>\n      <th>484</th>\n      <th>485</th>\n      <th>486</th>\n      <th>487</th>\n      <th>488</th>\n      <th>489</th>\n    </tr>\n  </thead>\n  <tbody>\n    <tr>\n      <th>0</th>\n      <td>0.087078</td>\n      <td>0.091459</td>\n      <td>0.080337</td>\n      <td>0.081385</td>\n      <td>0.089404</td>\n      <td>0.084315</td>\n      <td>0.076976</td>\n      <td>0.093606</td>\n      <td>0.081324</td>\n      <td>0.083723</td>\n      <td>...</td>\n      <td>0.0</td>\n      <td>0.0</td>\n      <td>0.0</td>\n      <td>0.0</td>\n      <td>0.0</td>\n      <td>0.0</td>\n      <td>0.0</td>\n      <td>0.0</td>\n      <td>0.0</td>\n      <td>0.0</td>\n    </tr>\n    <tr>\n      <th>1</th>\n      <td>0.087078</td>\n      <td>0.091459</td>\n      <td>0.080337</td>\n      <td>0.081385</td>\n      <td>0.089404</td>\n      <td>0.084315</td>\n      <td>0.076976</td>\n      <td>0.093606</td>\n      <td>0.081324</td>\n      <td>0.083723</td>\n      <td>...</td>\n      <td>0.0</td>\n      <td>0.0</td>\n      <td>0.0</td>\n      <td>0.0</td>\n      <td>0.0</td>\n      <td>0.0</td>\n      <td>0.0</td>\n      <td>0.0</td>\n      <td>0.0</td>\n      <td>0.0</td>\n    </tr>\n    <tr>\n      <th>2</th>\n      <td>0.087078</td>\n      <td>0.091459</td>\n      <td>0.080337</td>\n      <td>0.081385</td>\n      <td>0.089404</td>\n      <td>0.084315</td>\n      <td>0.076976</td>\n      <td>0.093606</td>\n      <td>0.081324</td>\n      <td>0.083723</td>\n      <td>...</td>\n      <td>0.0</td>\n      <td>0.0</td>\n      <td>0.0</td>\n      <td>0.0</td>\n      <td>0.0</td>\n      <td>0.0</td>\n      <td>0.0</td>\n      <td>0.0</td>\n      <td>0.0</td>\n      <td>0.0</td>\n    </tr>\n    <tr>\n      <th>3</th>\n      <td>0.087078</td>\n      <td>0.091459</td>\n      <td>0.080337</td>\n      <td>0.081385</td>\n      <td>0.089404</td>\n      <td>0.084315</td>\n      <td>0.076976</td>\n      <td>0.093606</td>\n      <td>0.081324</td>\n      <td>0.083723</td>\n      <td>...</td>\n      <td>0.0</td>\n      <td>0.0</td>\n      <td>0.0</td>\n      <td>0.0</td>\n      <td>0.0</td>\n      <td>0.0</td>\n      <td>0.0</td>\n      <td>0.0</td>\n      <td>0.0</td>\n      <td>0.0</td>\n    </tr>\n    <tr>\n      <th>4</th>\n      <td>0.087078</td>\n      <td>0.091459</td>\n      <td>0.080337</td>\n      <td>0.081385</td>\n      <td>0.089404</td>\n      <td>0.084315</td>\n      <td>0.076976</td>\n      <td>0.093606</td>\n      <td>0.081324</td>\n      <td>0.083723</td>\n      <td>...</td>\n      <td>0.0</td>\n      <td>0.0</td>\n      <td>0.0</td>\n      <td>0.0</td>\n      <td>0.0</td>\n      <td>0.0</td>\n      <td>0.0</td>\n      <td>0.0</td>\n      <td>0.0</td>\n      <td>0.0</td>\n    </tr>\n    <tr>\n      <th>...</th>\n      <td>...</td>\n      <td>...</td>\n      <td>...</td>\n      <td>...</td>\n      <td>...</td>\n      <td>...</td>\n      <td>...</td>\n      <td>...</td>\n      <td>...</td>\n      <td>...</td>\n      <td>...</td>\n      <td>...</td>\n      <td>...</td>\n      <td>...</td>\n      <td>...</td>\n      <td>...</td>\n      <td>...</td>\n      <td>...</td>\n      <td>...</td>\n      <td>...</td>\n      <td>...</td>\n    </tr>\n    <tr>\n      <th>995</th>\n      <td>0.087078</td>\n      <td>0.091459</td>\n      <td>0.080337</td>\n      <td>0.081385</td>\n      <td>0.089404</td>\n      <td>0.084315</td>\n      <td>0.076976</td>\n      <td>0.093606</td>\n      <td>0.081324</td>\n      <td>0.083723</td>\n      <td>...</td>\n      <td>0.0</td>\n      <td>0.0</td>\n      <td>0.0</td>\n      <td>0.0</td>\n      <td>0.0</td>\n      <td>0.0</td>\n      <td>0.0</td>\n      <td>0.0</td>\n      <td>0.0</td>\n      <td>0.0</td>\n    </tr>\n    <tr>\n      <th>996</th>\n      <td>0.087078</td>\n      <td>0.091459</td>\n      <td>0.080337</td>\n      <td>0.081385</td>\n      <td>0.089404</td>\n      <td>0.084315</td>\n      <td>0.076976</td>\n      <td>0.093606</td>\n      <td>0.081324</td>\n      <td>0.083723</td>\n      <td>...</td>\n      <td>0.0</td>\n      <td>0.0</td>\n      <td>0.0</td>\n      <td>0.0</td>\n      <td>0.0</td>\n      <td>0.0</td>\n      <td>0.0</td>\n      <td>0.0</td>\n      <td>0.0</td>\n      <td>0.0</td>\n    </tr>\n    <tr>\n      <th>997</th>\n      <td>0.087078</td>\n      <td>0.091459</td>\n      <td>0.080337</td>\n      <td>0.081385</td>\n      <td>0.089404</td>\n      <td>0.084315</td>\n      <td>0.076976</td>\n      <td>0.093606</td>\n      <td>0.081324</td>\n      <td>0.083723</td>\n      <td>...</td>\n      <td>0.0</td>\n      <td>0.0</td>\n      <td>0.0</td>\n      <td>0.0</td>\n      <td>0.0</td>\n      <td>0.0</td>\n      <td>0.0</td>\n      <td>0.0</td>\n      <td>0.0</td>\n      <td>0.0</td>\n    </tr>\n    <tr>\n      <th>998</th>\n      <td>0.087078</td>\n      <td>0.091459</td>\n      <td>0.080337</td>\n      <td>0.081385</td>\n      <td>0.089404</td>\n      <td>0.084315</td>\n      <td>0.076976</td>\n      <td>0.093606</td>\n      <td>0.081324</td>\n      <td>0.083723</td>\n      <td>...</td>\n      <td>0.0</td>\n      <td>0.0</td>\n      <td>0.0</td>\n      <td>0.0</td>\n      <td>0.0</td>\n      <td>0.0</td>\n      <td>0.0</td>\n      <td>0.0</td>\n      <td>0.0</td>\n      <td>0.0</td>\n    </tr>\n    <tr>\n      <th>999</th>\n      <td>0.087078</td>\n      <td>0.091459</td>\n      <td>0.080337</td>\n      <td>0.081385</td>\n      <td>0.089404</td>\n      <td>0.084315</td>\n      <td>0.076976</td>\n      <td>0.093606</td>\n      <td>0.081324</td>\n      <td>0.083723</td>\n      <td>...</td>\n      <td>0.0</td>\n      <td>0.0</td>\n      <td>0.0</td>\n      <td>0.0</td>\n      <td>0.0</td>\n      <td>0.0</td>\n      <td>0.0</td>\n      <td>0.0</td>\n      <td>0.0</td>\n      <td>0.0</td>\n    </tr>\n  </tbody>\n</table>\n<p>1000 rows × 490 columns</p>\n</div>"
     },
     "execution_count": 7,
     "metadata": {},
     "output_type": "execute_result"
    }
   ],
   "source": [
    "matrix_A_final"
   ],
   "metadata": {
    "collapsed": false,
    "ExecuteTime": {
     "end_time": "2023-08-02T15:22:29.202456Z",
     "start_time": "2023-08-02T15:22:29.126036500Z"
    }
   },
   "id": "7931ead2dd08b145"
  },
  {
   "cell_type": "code",
   "execution_count": 8,
   "outputs": [
    {
     "data": {
      "text/plain": "     pixel0  pixel1  pixel2  pixel3  pixel4  pixel5  pixel6  pixel7  pixel8  \\\n0       0.0     0.0     0.0     0.0     0.0     0.0     0.0     0.0     0.0   \n1       0.0     0.0     0.0     0.0     0.0     0.0     0.0     0.0     0.0   \n2       0.0     0.0     0.0     0.0     0.0     0.0     0.0     0.0     0.0   \n3       0.0     0.0     0.0     0.0     0.0     0.0     0.0     0.0     0.0   \n4       0.0     0.0     0.0     0.0     0.0     0.0     0.0     0.0     0.0   \n..      ...     ...     ...     ...     ...     ...     ...     ...     ...   \n995     0.0     0.0     0.0     0.0     0.0     0.0     0.0     0.0     0.0   \n996     0.0     0.0     0.0     0.0     0.0     0.0     0.0     0.0     0.0   \n997     0.0     0.0     0.0     0.0     0.0     0.0     0.0     0.0     0.0   \n998     0.0     0.0     0.0     0.0     0.0     0.0     0.0     0.0     0.0   \n999     0.0     0.0     0.0     0.0     0.0     0.0     0.0     0.0     0.0   \n\n     pixel9  ...  pixel774  pixel775  pixel776  pixel777  pixel778  pixel779  \\\n0       0.0  ...       0.0       0.0       0.0       0.0       0.0       0.0   \n1       0.0  ...       0.0       0.0       0.0       0.0       0.0       0.0   \n2       0.0  ...       0.0       0.0       0.0       0.0       0.0       0.0   \n3       0.0  ...       0.0       0.0       0.0       0.0       0.0       0.0   \n4       0.0  ...       0.0       0.0       0.0       0.0       0.0       0.0   \n..      ...  ...       ...       ...       ...       ...       ...       ...   \n995     0.0  ...       0.0       0.0       0.0       0.0       0.0       0.0   \n996     0.0  ...       0.0       0.0       0.0       0.0       0.0       0.0   \n997     0.0  ...       0.0       0.0       0.0       0.0       0.0       0.0   \n998     0.0  ...       0.0       0.0       0.0       0.0       0.0       0.0   \n999     0.0  ...       0.0       0.0       0.0       0.0       0.0       0.0   \n\n     pixel780  pixel781  pixel782  pixel783  \n0         0.0       0.0       0.0       0.0  \n1         0.0       0.0       0.0       0.0  \n2         0.0       0.0       0.0       0.0  \n3         0.0       0.0       0.0       0.0  \n4         0.0       0.0       0.0       0.0  \n..        ...       ...       ...       ...  \n995       0.0       0.0       0.0       0.0  \n996       0.0       0.0       0.0       0.0  \n997       0.0       0.0       0.0       0.0  \n998       0.0       0.0       0.0       0.0  \n999       0.0       0.0       0.0       0.0  \n\n[1000 rows x 784 columns]",
      "text/html": "<div>\n<style scoped>\n    .dataframe tbody tr th:only-of-type {\n        vertical-align: middle;\n    }\n\n    .dataframe tbody tr th {\n        vertical-align: top;\n    }\n\n    .dataframe thead th {\n        text-align: right;\n    }\n</style>\n<table border=\"1\" class=\"dataframe\">\n  <thead>\n    <tr style=\"text-align: right;\">\n      <th></th>\n      <th>pixel0</th>\n      <th>pixel1</th>\n      <th>pixel2</th>\n      <th>pixel3</th>\n      <th>pixel4</th>\n      <th>pixel5</th>\n      <th>pixel6</th>\n      <th>pixel7</th>\n      <th>pixel8</th>\n      <th>pixel9</th>\n      <th>...</th>\n      <th>pixel774</th>\n      <th>pixel775</th>\n      <th>pixel776</th>\n      <th>pixel777</th>\n      <th>pixel778</th>\n      <th>pixel779</th>\n      <th>pixel780</th>\n      <th>pixel781</th>\n      <th>pixel782</th>\n      <th>pixel783</th>\n    </tr>\n  </thead>\n  <tbody>\n    <tr>\n      <th>0</th>\n      <td>0.0</td>\n      <td>0.0</td>\n      <td>0.0</td>\n      <td>0.0</td>\n      <td>0.0</td>\n      <td>0.0</td>\n      <td>0.0</td>\n      <td>0.0</td>\n      <td>0.0</td>\n      <td>0.0</td>\n      <td>...</td>\n      <td>0.0</td>\n      <td>0.0</td>\n      <td>0.0</td>\n      <td>0.0</td>\n      <td>0.0</td>\n      <td>0.0</td>\n      <td>0.0</td>\n      <td>0.0</td>\n      <td>0.0</td>\n      <td>0.0</td>\n    </tr>\n    <tr>\n      <th>1</th>\n      <td>0.0</td>\n      <td>0.0</td>\n      <td>0.0</td>\n      <td>0.0</td>\n      <td>0.0</td>\n      <td>0.0</td>\n      <td>0.0</td>\n      <td>0.0</td>\n      <td>0.0</td>\n      <td>0.0</td>\n      <td>...</td>\n      <td>0.0</td>\n      <td>0.0</td>\n      <td>0.0</td>\n      <td>0.0</td>\n      <td>0.0</td>\n      <td>0.0</td>\n      <td>0.0</td>\n      <td>0.0</td>\n      <td>0.0</td>\n      <td>0.0</td>\n    </tr>\n    <tr>\n      <th>2</th>\n      <td>0.0</td>\n      <td>0.0</td>\n      <td>0.0</td>\n      <td>0.0</td>\n      <td>0.0</td>\n      <td>0.0</td>\n      <td>0.0</td>\n      <td>0.0</td>\n      <td>0.0</td>\n      <td>0.0</td>\n      <td>...</td>\n      <td>0.0</td>\n      <td>0.0</td>\n      <td>0.0</td>\n      <td>0.0</td>\n      <td>0.0</td>\n      <td>0.0</td>\n      <td>0.0</td>\n      <td>0.0</td>\n      <td>0.0</td>\n      <td>0.0</td>\n    </tr>\n    <tr>\n      <th>3</th>\n      <td>0.0</td>\n      <td>0.0</td>\n      <td>0.0</td>\n      <td>0.0</td>\n      <td>0.0</td>\n      <td>0.0</td>\n      <td>0.0</td>\n      <td>0.0</td>\n      <td>0.0</td>\n      <td>0.0</td>\n      <td>...</td>\n      <td>0.0</td>\n      <td>0.0</td>\n      <td>0.0</td>\n      <td>0.0</td>\n      <td>0.0</td>\n      <td>0.0</td>\n      <td>0.0</td>\n      <td>0.0</td>\n      <td>0.0</td>\n      <td>0.0</td>\n    </tr>\n    <tr>\n      <th>4</th>\n      <td>0.0</td>\n      <td>0.0</td>\n      <td>0.0</td>\n      <td>0.0</td>\n      <td>0.0</td>\n      <td>0.0</td>\n      <td>0.0</td>\n      <td>0.0</td>\n      <td>0.0</td>\n      <td>0.0</td>\n      <td>...</td>\n      <td>0.0</td>\n      <td>0.0</td>\n      <td>0.0</td>\n      <td>0.0</td>\n      <td>0.0</td>\n      <td>0.0</td>\n      <td>0.0</td>\n      <td>0.0</td>\n      <td>0.0</td>\n      <td>0.0</td>\n    </tr>\n    <tr>\n      <th>...</th>\n      <td>...</td>\n      <td>...</td>\n      <td>...</td>\n      <td>...</td>\n      <td>...</td>\n      <td>...</td>\n      <td>...</td>\n      <td>...</td>\n      <td>...</td>\n      <td>...</td>\n      <td>...</td>\n      <td>...</td>\n      <td>...</td>\n      <td>...</td>\n      <td>...</td>\n      <td>...</td>\n      <td>...</td>\n      <td>...</td>\n      <td>...</td>\n      <td>...</td>\n      <td>...</td>\n    </tr>\n    <tr>\n      <th>995</th>\n      <td>0.0</td>\n      <td>0.0</td>\n      <td>0.0</td>\n      <td>0.0</td>\n      <td>0.0</td>\n      <td>0.0</td>\n      <td>0.0</td>\n      <td>0.0</td>\n      <td>0.0</td>\n      <td>0.0</td>\n      <td>...</td>\n      <td>0.0</td>\n      <td>0.0</td>\n      <td>0.0</td>\n      <td>0.0</td>\n      <td>0.0</td>\n      <td>0.0</td>\n      <td>0.0</td>\n      <td>0.0</td>\n      <td>0.0</td>\n      <td>0.0</td>\n    </tr>\n    <tr>\n      <th>996</th>\n      <td>0.0</td>\n      <td>0.0</td>\n      <td>0.0</td>\n      <td>0.0</td>\n      <td>0.0</td>\n      <td>0.0</td>\n      <td>0.0</td>\n      <td>0.0</td>\n      <td>0.0</td>\n      <td>0.0</td>\n      <td>...</td>\n      <td>0.0</td>\n      <td>0.0</td>\n      <td>0.0</td>\n      <td>0.0</td>\n      <td>0.0</td>\n      <td>0.0</td>\n      <td>0.0</td>\n      <td>0.0</td>\n      <td>0.0</td>\n      <td>0.0</td>\n    </tr>\n    <tr>\n      <th>997</th>\n      <td>0.0</td>\n      <td>0.0</td>\n      <td>0.0</td>\n      <td>0.0</td>\n      <td>0.0</td>\n      <td>0.0</td>\n      <td>0.0</td>\n      <td>0.0</td>\n      <td>0.0</td>\n      <td>0.0</td>\n      <td>...</td>\n      <td>0.0</td>\n      <td>0.0</td>\n      <td>0.0</td>\n      <td>0.0</td>\n      <td>0.0</td>\n      <td>0.0</td>\n      <td>0.0</td>\n      <td>0.0</td>\n      <td>0.0</td>\n      <td>0.0</td>\n    </tr>\n    <tr>\n      <th>998</th>\n      <td>0.0</td>\n      <td>0.0</td>\n      <td>0.0</td>\n      <td>0.0</td>\n      <td>0.0</td>\n      <td>0.0</td>\n      <td>0.0</td>\n      <td>0.0</td>\n      <td>0.0</td>\n      <td>0.0</td>\n      <td>...</td>\n      <td>0.0</td>\n      <td>0.0</td>\n      <td>0.0</td>\n      <td>0.0</td>\n      <td>0.0</td>\n      <td>0.0</td>\n      <td>0.0</td>\n      <td>0.0</td>\n      <td>0.0</td>\n      <td>0.0</td>\n    </tr>\n    <tr>\n      <th>999</th>\n      <td>0.0</td>\n      <td>0.0</td>\n      <td>0.0</td>\n      <td>0.0</td>\n      <td>0.0</td>\n      <td>0.0</td>\n      <td>0.0</td>\n      <td>0.0</td>\n      <td>0.0</td>\n      <td>0.0</td>\n      <td>...</td>\n      <td>0.0</td>\n      <td>0.0</td>\n      <td>0.0</td>\n      <td>0.0</td>\n      <td>0.0</td>\n      <td>0.0</td>\n      <td>0.0</td>\n      <td>0.0</td>\n      <td>0.0</td>\n      <td>0.0</td>\n    </tr>\n  </tbody>\n</table>\n<p>1000 rows × 784 columns</p>\n</div>"
     },
     "execution_count": 8,
     "metadata": {},
     "output_type": "execute_result"
    }
   ],
   "source": [
    "matrix_B_final"
   ],
   "metadata": {
    "collapsed": false,
    "ExecuteTime": {
     "end_time": "2023-08-02T15:22:29.314125900Z",
     "start_time": "2023-08-02T15:22:29.156953700Z"
    }
   },
   "id": "c063b7dff2dc3030"
  },
  {
   "cell_type": "code",
   "execution_count": 9,
   "outputs": [],
   "source": [
    "# Test matrices A\n",
    "\n",
    "# matrix_A_final = [[3, -2, -3, 1.5, 0.6],\n",
    "#                   [-1, -3, 1.5, 0.6, 1],\n",
    "#                   [1, -1, 0.844444444, -0.444444444, -3]]\n",
    "\n",
    "# matrix_A_final = [[2.80, -1.80, -2.80, 1.30, 0.40],\n",
    "#                   [3.00, -2.00, -3.00, 1.50, 0.60],\n",
    "#                   [3.20, -2.20, -3.20, 1.70, 0.80],\n",
    "#                   [-1.60, -2.50, 1.50, 0.20, 0.60],\n",
    "#                   [-1.00, -3.00, 1.50, 0.60, 1.00],\n",
    "#                   [-0.50, -3.50, 1.90, 1.00, 1.40],\n",
    "#                   [1.20, -1.20, 0.70, -0.30, -2.80],\n",
    "#                   [1.00, -1.00, 0.84, -0.44, -3.00],\n",
    "#                   [0.80, -0.80, 0.90, -0.50, -3.20]]\n",
    "\n",
    "# matrix_A_final = [[-1.827506713, -2.57210291],\n",
    "#                   [-1.805637206, -2.789008261],\n",
    "#                   [-1.812439839, -2.99995456],\n",
    "#                   [-2.035782748, -2.999989808],\n",
    "#                   [-2.225907357, -2.999830184],\n",
    "#                   [2.151465808, 2.349428929],\n",
    "#                   [2.146415535, 1.848879366],\n",
    "#                   [2.335563856, 1.572769993],\n",
    "#                   [2.512780867, 1.350090422],\n",
    "#                   [2.808853361, 1.168351448],\n",
    "#                   [-2.397040617, 2.674381769],\n",
    "#                   [-2.415455455, 2.889854745],\n",
    "#                   [-2.508854802, 2.999784436],\n",
    "#                   [-2.621571267, 2.999927152],\n",
    "#                   [-2.71963759, 2.998711285]]\n"
   ],
   "metadata": {
    "collapsed": false,
    "ExecuteTime": {
     "end_time": "2023-08-02T15:22:29.323102Z",
     "start_time": "2023-08-02T15:22:29.188868600Z"
    }
   },
   "id": "fc0fe0239e982d57"
  },
  {
   "cell_type": "code",
   "execution_count": 10,
   "outputs": [],
   "source": [
    "# Test matrices B\n",
    "# matrix_B_final = [[-1.843907868, 1.99818664, -1.912855282, -1.97511053],\n",
    "#                   [1.992023578, -1.923804827, 0.706593926, -1.543784398],\n",
    "#                   [1.107744254, 1.615475549, 1.723582196, 1.807614602]]\n",
    "\n",
    "# matrix_B_final = [[-1.979394104, 1.959307524, -1.381119943, -1.729640979],\n",
    "#                   [-1.843907868, 1.99818664, -1.912855282, -1.97511053],\n",
    "#                   [-1.999365095, 1.998896097, -1.999605076, -1.998916765],\n",
    "#                   [1.997775859, -1.844000202, 1.660111333, -1.373532039],\n",
    "#                   [1.992023578, -1.923804827, 0.706593926, -1.543784398],\n",
    "#                   [1.997854305, -1.999410881, -0.243400633, -1.827587263],\n",
    "#                   [0.851626415, 1.574201387, 1.581026838, 1.573934081],\n",
    "#                   [1.107744254, 1.615475549, 1.723582196, 1.807614602],\n",
    "#                   [1.290406093, 1.695289797, 1.953503509, 1.946250271]]\n",
    "\n",
    "# matrix_B_final = [[2.8, -1.8, -2.8, 1.3, 0.4],\n",
    "#                   [2.9, -1.9, -2.9, 1.4, 0.5],\n",
    "#                   [3, -2, -3, 1.5, 0.6],\n",
    "#                   [3.1, -2.1, -3.1, 1.6, 0.7],\n",
    "#                   [3.2, -2.2, -3.2, 1.7, 0.8],\n",
    "#                   [-1.6, -2.5, 1.5, 0.2, 0.6],\n",
    "#                   [-1.3, -2.7, 1.3, 0.4, 0.8],\n",
    "#                   [-1, -3, 1.5, 0.6, 1],\n",
    "#                   [-0.7, -3.2, 1.7, 0.8, 1.2],\n",
    "#                   [-0.5, -3.5, 1.9, 1, 1.4],\n",
    "#                   [1.2, -1.2, 0.7, -0.3, -2.8],\n",
    "#                   [1.1, -1.1, 0.8, -0.4, -2.9],\n",
    "#                   [1, -1, 0.844444444, -0.444444444, -3],\n",
    "#                   [0.9, -0.9, 0.85, -0.45, -3.1],\n",
    "#                   [0.8, -0.8, 0.9, -0.5, -3.2]]\n"
   ],
   "metadata": {
    "collapsed": false,
    "ExecuteTime": {
     "end_time": "2023-08-02T15:22:29.324099300Z",
     "start_time": "2023-08-02T15:22:29.205420400Z"
    }
   },
   "id": "54b68cd7a0fd0ec2"
  },
  {
   "cell_type": "code",
   "execution_count": 11,
   "outputs": [],
   "source": [
    "df_matrix_A_final = pd.DataFrame(matrix_A_final)"
   ],
   "metadata": {
    "collapsed": false,
    "ExecuteTime": {
     "end_time": "2023-08-02T15:22:29.324099300Z",
     "start_time": "2023-08-02T15:22:29.221378700Z"
    }
   },
   "id": "94815f13d3a95431"
  },
  {
   "cell_type": "code",
   "execution_count": 12,
   "outputs": [
    {
     "data": {
      "text/plain": "            0         1         2         3         4         5         6  \\\n0    0.087078  0.091459  0.080337  0.081385  0.089404  0.084315  0.076976   \n1    0.087078  0.091459  0.080337  0.081385  0.089404  0.084315  0.076976   \n2    0.087078  0.091459  0.080337  0.081385  0.089404  0.084315  0.076976   \n3    0.087078  0.091459  0.080337  0.081385  0.089404  0.084315  0.076976   \n4    0.087078  0.091459  0.080337  0.081385  0.089404  0.084315  0.076976   \n..        ...       ...       ...       ...       ...       ...       ...   \n995  0.087078  0.091459  0.080337  0.081385  0.089404  0.084315  0.076976   \n996  0.087078  0.091459  0.080337  0.081385  0.089404  0.084315  0.076976   \n997  0.087078  0.091459  0.080337  0.081385  0.089404  0.084315  0.076976   \n998  0.087078  0.091459  0.080337  0.081385  0.089404  0.084315  0.076976   \n999  0.087078  0.091459  0.080337  0.081385  0.089404  0.084315  0.076976   \n\n            7         8         9  ...  480  481  482  483  484  485  486  \\\n0    0.093606  0.081324  0.083723  ...  0.0  0.0  0.0  0.0  0.0  0.0  0.0   \n1    0.093606  0.081324  0.083723  ...  0.0  0.0  0.0  0.0  0.0  0.0  0.0   \n2    0.093606  0.081324  0.083723  ...  0.0  0.0  0.0  0.0  0.0  0.0  0.0   \n3    0.093606  0.081324  0.083723  ...  0.0  0.0  0.0  0.0  0.0  0.0  0.0   \n4    0.093606  0.081324  0.083723  ...  0.0  0.0  0.0  0.0  0.0  0.0  0.0   \n..        ...       ...       ...  ...  ...  ...  ...  ...  ...  ...  ...   \n995  0.093606  0.081324  0.083723  ...  0.0  0.0  0.0  0.0  0.0  0.0  0.0   \n996  0.093606  0.081324  0.083723  ...  0.0  0.0  0.0  0.0  0.0  0.0  0.0   \n997  0.093606  0.081324  0.083723  ...  0.0  0.0  0.0  0.0  0.0  0.0  0.0   \n998  0.093606  0.081324  0.083723  ...  0.0  0.0  0.0  0.0  0.0  0.0  0.0   \n999  0.093606  0.081324  0.083723  ...  0.0  0.0  0.0  0.0  0.0  0.0  0.0   \n\n     487  488  489  \n0    0.0  0.0  0.0  \n1    0.0  0.0  0.0  \n2    0.0  0.0  0.0  \n3    0.0  0.0  0.0  \n4    0.0  0.0  0.0  \n..   ...  ...  ...  \n995  0.0  0.0  0.0  \n996  0.0  0.0  0.0  \n997  0.0  0.0  0.0  \n998  0.0  0.0  0.0  \n999  0.0  0.0  0.0  \n\n[1000 rows x 490 columns]",
      "text/html": "<div>\n<style scoped>\n    .dataframe tbody tr th:only-of-type {\n        vertical-align: middle;\n    }\n\n    .dataframe tbody tr th {\n        vertical-align: top;\n    }\n\n    .dataframe thead th {\n        text-align: right;\n    }\n</style>\n<table border=\"1\" class=\"dataframe\">\n  <thead>\n    <tr style=\"text-align: right;\">\n      <th></th>\n      <th>0</th>\n      <th>1</th>\n      <th>2</th>\n      <th>3</th>\n      <th>4</th>\n      <th>5</th>\n      <th>6</th>\n      <th>7</th>\n      <th>8</th>\n      <th>9</th>\n      <th>...</th>\n      <th>480</th>\n      <th>481</th>\n      <th>482</th>\n      <th>483</th>\n      <th>484</th>\n      <th>485</th>\n      <th>486</th>\n      <th>487</th>\n      <th>488</th>\n      <th>489</th>\n    </tr>\n  </thead>\n  <tbody>\n    <tr>\n      <th>0</th>\n      <td>0.087078</td>\n      <td>0.091459</td>\n      <td>0.080337</td>\n      <td>0.081385</td>\n      <td>0.089404</td>\n      <td>0.084315</td>\n      <td>0.076976</td>\n      <td>0.093606</td>\n      <td>0.081324</td>\n      <td>0.083723</td>\n      <td>...</td>\n      <td>0.0</td>\n      <td>0.0</td>\n      <td>0.0</td>\n      <td>0.0</td>\n      <td>0.0</td>\n      <td>0.0</td>\n      <td>0.0</td>\n      <td>0.0</td>\n      <td>0.0</td>\n      <td>0.0</td>\n    </tr>\n    <tr>\n      <th>1</th>\n      <td>0.087078</td>\n      <td>0.091459</td>\n      <td>0.080337</td>\n      <td>0.081385</td>\n      <td>0.089404</td>\n      <td>0.084315</td>\n      <td>0.076976</td>\n      <td>0.093606</td>\n      <td>0.081324</td>\n      <td>0.083723</td>\n      <td>...</td>\n      <td>0.0</td>\n      <td>0.0</td>\n      <td>0.0</td>\n      <td>0.0</td>\n      <td>0.0</td>\n      <td>0.0</td>\n      <td>0.0</td>\n      <td>0.0</td>\n      <td>0.0</td>\n      <td>0.0</td>\n    </tr>\n    <tr>\n      <th>2</th>\n      <td>0.087078</td>\n      <td>0.091459</td>\n      <td>0.080337</td>\n      <td>0.081385</td>\n      <td>0.089404</td>\n      <td>0.084315</td>\n      <td>0.076976</td>\n      <td>0.093606</td>\n      <td>0.081324</td>\n      <td>0.083723</td>\n      <td>...</td>\n      <td>0.0</td>\n      <td>0.0</td>\n      <td>0.0</td>\n      <td>0.0</td>\n      <td>0.0</td>\n      <td>0.0</td>\n      <td>0.0</td>\n      <td>0.0</td>\n      <td>0.0</td>\n      <td>0.0</td>\n    </tr>\n    <tr>\n      <th>3</th>\n      <td>0.087078</td>\n      <td>0.091459</td>\n      <td>0.080337</td>\n      <td>0.081385</td>\n      <td>0.089404</td>\n      <td>0.084315</td>\n      <td>0.076976</td>\n      <td>0.093606</td>\n      <td>0.081324</td>\n      <td>0.083723</td>\n      <td>...</td>\n      <td>0.0</td>\n      <td>0.0</td>\n      <td>0.0</td>\n      <td>0.0</td>\n      <td>0.0</td>\n      <td>0.0</td>\n      <td>0.0</td>\n      <td>0.0</td>\n      <td>0.0</td>\n      <td>0.0</td>\n    </tr>\n    <tr>\n      <th>4</th>\n      <td>0.087078</td>\n      <td>0.091459</td>\n      <td>0.080337</td>\n      <td>0.081385</td>\n      <td>0.089404</td>\n      <td>0.084315</td>\n      <td>0.076976</td>\n      <td>0.093606</td>\n      <td>0.081324</td>\n      <td>0.083723</td>\n      <td>...</td>\n      <td>0.0</td>\n      <td>0.0</td>\n      <td>0.0</td>\n      <td>0.0</td>\n      <td>0.0</td>\n      <td>0.0</td>\n      <td>0.0</td>\n      <td>0.0</td>\n      <td>0.0</td>\n      <td>0.0</td>\n    </tr>\n    <tr>\n      <th>...</th>\n      <td>...</td>\n      <td>...</td>\n      <td>...</td>\n      <td>...</td>\n      <td>...</td>\n      <td>...</td>\n      <td>...</td>\n      <td>...</td>\n      <td>...</td>\n      <td>...</td>\n      <td>...</td>\n      <td>...</td>\n      <td>...</td>\n      <td>...</td>\n      <td>...</td>\n      <td>...</td>\n      <td>...</td>\n      <td>...</td>\n      <td>...</td>\n      <td>...</td>\n      <td>...</td>\n    </tr>\n    <tr>\n      <th>995</th>\n      <td>0.087078</td>\n      <td>0.091459</td>\n      <td>0.080337</td>\n      <td>0.081385</td>\n      <td>0.089404</td>\n      <td>0.084315</td>\n      <td>0.076976</td>\n      <td>0.093606</td>\n      <td>0.081324</td>\n      <td>0.083723</td>\n      <td>...</td>\n      <td>0.0</td>\n      <td>0.0</td>\n      <td>0.0</td>\n      <td>0.0</td>\n      <td>0.0</td>\n      <td>0.0</td>\n      <td>0.0</td>\n      <td>0.0</td>\n      <td>0.0</td>\n      <td>0.0</td>\n    </tr>\n    <tr>\n      <th>996</th>\n      <td>0.087078</td>\n      <td>0.091459</td>\n      <td>0.080337</td>\n      <td>0.081385</td>\n      <td>0.089404</td>\n      <td>0.084315</td>\n      <td>0.076976</td>\n      <td>0.093606</td>\n      <td>0.081324</td>\n      <td>0.083723</td>\n      <td>...</td>\n      <td>0.0</td>\n      <td>0.0</td>\n      <td>0.0</td>\n      <td>0.0</td>\n      <td>0.0</td>\n      <td>0.0</td>\n      <td>0.0</td>\n      <td>0.0</td>\n      <td>0.0</td>\n      <td>0.0</td>\n    </tr>\n    <tr>\n      <th>997</th>\n      <td>0.087078</td>\n      <td>0.091459</td>\n      <td>0.080337</td>\n      <td>0.081385</td>\n      <td>0.089404</td>\n      <td>0.084315</td>\n      <td>0.076976</td>\n      <td>0.093606</td>\n      <td>0.081324</td>\n      <td>0.083723</td>\n      <td>...</td>\n      <td>0.0</td>\n      <td>0.0</td>\n      <td>0.0</td>\n      <td>0.0</td>\n      <td>0.0</td>\n      <td>0.0</td>\n      <td>0.0</td>\n      <td>0.0</td>\n      <td>0.0</td>\n      <td>0.0</td>\n    </tr>\n    <tr>\n      <th>998</th>\n      <td>0.087078</td>\n      <td>0.091459</td>\n      <td>0.080337</td>\n      <td>0.081385</td>\n      <td>0.089404</td>\n      <td>0.084315</td>\n      <td>0.076976</td>\n      <td>0.093606</td>\n      <td>0.081324</td>\n      <td>0.083723</td>\n      <td>...</td>\n      <td>0.0</td>\n      <td>0.0</td>\n      <td>0.0</td>\n      <td>0.0</td>\n      <td>0.0</td>\n      <td>0.0</td>\n      <td>0.0</td>\n      <td>0.0</td>\n      <td>0.0</td>\n      <td>0.0</td>\n    </tr>\n    <tr>\n      <th>999</th>\n      <td>0.087078</td>\n      <td>0.091459</td>\n      <td>0.080337</td>\n      <td>0.081385</td>\n      <td>0.089404</td>\n      <td>0.084315</td>\n      <td>0.076976</td>\n      <td>0.093606</td>\n      <td>0.081324</td>\n      <td>0.083723</td>\n      <td>...</td>\n      <td>0.0</td>\n      <td>0.0</td>\n      <td>0.0</td>\n      <td>0.0</td>\n      <td>0.0</td>\n      <td>0.0</td>\n      <td>0.0</td>\n      <td>0.0</td>\n      <td>0.0</td>\n      <td>0.0</td>\n    </tr>\n  </tbody>\n</table>\n<p>1000 rows × 490 columns</p>\n</div>"
     },
     "execution_count": 12,
     "metadata": {},
     "output_type": "execute_result"
    }
   ],
   "source": [
    "df_matrix_A_final"
   ],
   "metadata": {
    "collapsed": false,
    "ExecuteTime": {
     "end_time": "2023-08-02T15:22:29.346041900Z",
     "start_time": "2023-08-02T15:22:29.238487200Z"
    }
   },
   "id": "90a4b0d24399c1ae"
  },
  {
   "cell_type": "markdown",
   "source": [
    "## Determinant"
   ],
   "metadata": {
    "collapsed": false
   },
   "id": "6c781eeb38de480b"
  },
  {
   "cell_type": "code",
   "execution_count": 13,
   "outputs": [
    {
     "name": "stdout",
     "output_type": "stream",
     "text": [
      "0.0\n"
     ]
    }
   ],
   "source": [
    "# 1. Calculate the transpose of matrix_A_final\n",
    "matrix_A_final_transpose = df_matrix_A_final.transpose()\n",
    "\n",
    "# 2. Calculate the multiplication of matrix_A_final and matrix_A_final_transpose\n",
    "matrix_A_final_mmult = np.dot(df_matrix_A_final.values, matrix_A_final_transpose.values)\n",
    "\n",
    "# 3. Calculate the determinant of matrix_A_final_mmult\n",
    "matrix_A_final_determinant = np.linalg.det(matrix_A_final_mmult)\n",
    "\n",
    "print(matrix_A_final_determinant)\n"
   ],
   "metadata": {
    "collapsed": false,
    "ExecuteTime": {
     "end_time": "2023-08-02T15:22:29.419843400Z",
     "start_time": "2023-08-02T15:22:29.268279500Z"
    }
   },
   "id": "e7b436e6b8a6814c"
  },
  {
   "cell_type": "markdown",
   "source": [
    "## Calculate Transition Matrix"
   ],
   "metadata": {
    "collapsed": false
   },
   "id": "7daf14234ebfc257"
  },
  {
   "cell_type": "markdown",
   "source": [
    "### Singular Value Decomposition (SVD)"
   ],
   "metadata": {
    "collapsed": false
   },
   "id": "60b2e72dba24557b"
  },
  {
   "cell_type": "code",
   "execution_count": 14,
   "outputs": [
    {
     "name": "stdout",
     "output_type": "stream",
     "text": [
      "U:\n",
      " [[-3.16227766e-02 -3.59817209e-01  3.12892746e-02 ... -3.58479976e-18\n",
      "   2.67786353e-18 -7.15615205e-18]\n",
      " [-3.16227766e-02  5.88870344e-01 -5.69114212e-02 ...  7.05396691e-17\n",
      "   7.16251424e-17  6.95436413e-17]\n",
      " [-3.16227766e-02 -5.23470830e-01 -9.34365464e-02 ... -2.83921932e-17\n",
      "  -2.54909741e-17 -3.29925127e-17]\n",
      " ...\n",
      " [-3.16227766e-02  1.04008022e-04  4.88145347e-06 ...  7.50000000e-01\n",
      "  -2.50000000e-01 -2.50000000e-01]\n",
      " [-3.16227766e-02  1.04008022e-04  4.88145347e-06 ... -2.50000000e-01\n",
      "   7.50000000e-01 -2.50000000e-01]\n",
      " [-3.16227766e-02  1.04008022e-04  4.88145347e-06 ... -2.50000000e-01\n",
      "  -2.50000000e-01  7.50000000e-01]]\n",
      "\n",
      "S:\n",
      " [[4.86344266e+01 0.00000000e+00 0.00000000e+00 ... 0.00000000e+00\n",
      "  0.00000000e+00 0.00000000e+00]\n",
      " [0.00000000e+00 1.84410899e-13 0.00000000e+00 ... 0.00000000e+00\n",
      "  0.00000000e+00 0.00000000e+00]\n",
      " [0.00000000e+00 0.00000000e+00 1.70736862e-13 ... 0.00000000e+00\n",
      "  0.00000000e+00 0.00000000e+00]\n",
      " ...\n",
      " [0.00000000e+00 0.00000000e+00 0.00000000e+00 ... 0.00000000e+00\n",
      "  0.00000000e+00 0.00000000e+00]\n",
      " [0.00000000e+00 0.00000000e+00 0.00000000e+00 ... 0.00000000e+00\n",
      "  0.00000000e+00 0.00000000e+00]\n",
      " [0.00000000e+00 0.00000000e+00 0.00000000e+00 ... 0.00000000e+00\n",
      "  0.00000000e+00 0.00000000e+00]]\n",
      "\n",
      "Vt:\n",
      " [[-0.05661957 -0.059468   -0.05223596 ...  0.          0.\n",
      "   0.        ]\n",
      " [-0.01276312 -0.01660782  0.00292255 ...  0.          0.\n",
      "   0.        ]\n",
      " [-0.04552711 -0.04751675 -0.04338273 ...  0.          0.\n",
      "   0.        ]\n",
      " ...\n",
      " [ 0.          0.          0.         ...  0.          1.\n",
      "   0.        ]\n",
      " [ 0.          0.          0.         ...  0.          0.\n",
      "   1.        ]\n",
      " [-0.9936319   0.01420591  0.00832625 ...  0.          0.\n",
      "   0.        ]]\n"
     ]
    }
   ],
   "source": [
    "# Receive values from the matrix A DataFrame \n",
    "matrix_A_final_values = df_matrix_A_final.values\n",
    "\n",
    "# Calculate SVD\n",
    "U, s, Vt = np.linalg.svd(matrix_A_final_values)\n",
    "\n",
    "# Construct the full diagonal matrix\n",
    "S = np.zeros(matrix_A_final_values.shape)\n",
    "for i in range(min(matrix_A_final_values.shape)):\n",
    "    S[i, i] = s[i]\n",
    "\n",
    "print(\"U:\\n\", U)\n",
    "print(\"\\nS:\\n\", S)\n",
    "print(\"\\nVt:\\n\", Vt)\n"
   ],
   "metadata": {
    "collapsed": false,
    "ExecuteTime": {
     "end_time": "2023-08-02T15:22:29.605347700Z",
     "start_time": "2023-08-02T15:22:29.303155800Z"
    }
   },
   "id": "a85267d9b0432aa"
  },
  {
   "cell_type": "code",
   "execution_count": 15,
   "outputs": [
    {
     "data": {
      "text/plain": "(1000, 1000)"
     },
     "execution_count": 15,
     "metadata": {},
     "output_type": "execute_result"
    }
   ],
   "source": [
    "U.shape"
   ],
   "metadata": {
    "collapsed": false,
    "ExecuteTime": {
     "end_time": "2023-08-02T15:22:29.606344600Z",
     "start_time": "2023-08-02T15:22:29.503620400Z"
    }
   },
   "id": "60087eefef52d0e3"
  },
  {
   "cell_type": "markdown",
   "source": [
    "### Create the reconstructed matrix of SVD"
   ],
   "metadata": {
    "collapsed": false
   },
   "id": "c30ceef099c78a1"
  },
  {
   "cell_type": "code",
   "execution_count": 16,
   "outputs": [],
   "source": [
    "# Recompute the original matrix using U, S, and Vt\n",
    "reconstructed_matrix = U.dot(S.dot(Vt))\n",
    "\n",
    "# Convert the reconstructed matrix to a pandas DataFrame, if desired\n",
    "reconstructed_df = pd.DataFrame(reconstructed_matrix)\n"
   ],
   "metadata": {
    "collapsed": false,
    "ExecuteTime": {
     "end_time": "2023-08-02T15:22:29.607342100Z",
     "start_time": "2023-08-02T15:22:29.519582200Z"
    }
   },
   "id": "4665818866492a6a"
  },
  {
   "cell_type": "code",
   "execution_count": 17,
   "outputs": [
    {
     "data": {
      "text/plain": "          0         1         2         3         4         5         6    \\\n0    0.087078  0.091459  0.080337  0.081385  0.089404  0.084315  0.076976   \n1    0.087078  0.091459  0.080337  0.081385  0.089404  0.084315  0.076976   \n2    0.087078  0.091459  0.080337  0.081385  0.089404  0.084315  0.076976   \n3    0.087078  0.091459  0.080337  0.081385  0.089404  0.084315  0.076976   \n4    0.087078  0.091459  0.080337  0.081385  0.089404  0.084315  0.076976   \n..        ...       ...       ...       ...       ...       ...       ...   \n995  0.087078  0.091459  0.080337  0.081385  0.089404  0.084315  0.076976   \n996  0.087078  0.091459  0.080337  0.081385  0.089404  0.084315  0.076976   \n997  0.087078  0.091459  0.080337  0.081385  0.089404  0.084315  0.076976   \n998  0.087078  0.091459  0.080337  0.081385  0.089404  0.084315  0.076976   \n999  0.087078  0.091459  0.080337  0.081385  0.089404  0.084315  0.076976   \n\n          7         8         9    ...           480           481  \\\n0    0.093606  0.081324  0.083723  ...  1.221291e-31  8.739860e-32   \n1    0.093606  0.081324  0.083723  ...  6.291711e-31  6.281065e-31   \n2    0.093606  0.081324  0.083723  ...  1.203492e-30  1.219785e-30   \n3    0.093606  0.081324  0.083723  ... -1.485981e-30 -1.469164e-30   \n4    0.093606  0.081324  0.083723  ...  1.435507e-30  1.400775e-30   \n..        ...       ...       ...  ...           ...           ...   \n995  0.093606  0.081324  0.083723  ... -8.400634e-18 -8.400634e-18   \n996  0.093606  0.081324  0.083723  ...  1.266439e-32  1.202224e-32   \n997  0.093606  0.081324  0.083723  ...  1.266439e-32  1.202224e-32   \n998  0.093606  0.081324  0.083723  ...  1.266439e-32  1.202224e-32   \n999  0.093606  0.081324  0.083723  ...  1.266439e-32  1.202224e-32   \n\n              482           483           484           485           486  \\\n0    1.221206e-31  8.739018e-32  1.047470e-31  1.047386e-31  1.047386e-31   \n1    7.373629e-32  6.107407e-31  5.583824e-32  5.938986e-31  5.582955e-32   \n2    1.707439e-30  1.201895e-30  1.723731e-30  1.184528e-30  1.689008e-30   \n3   -1.434949e-30 -1.452863e-30 -1.452847e-30 -1.436039e-30 -1.419190e-30   \n4    1.227745e-30  1.400242e-30  1.209322e-30  1.365517e-30  1.191955e-30   \n..            ...           ...           ...           ...           ...   \n995 -8.400634e-18 -8.400634e-18 -8.400634e-18 -8.400634e-18 -8.400634e-18   \n996  1.408573e-32  1.154618e-32  1.298921e-32  1.211204e-32  1.326838e-32   \n997  1.408573e-32  1.154618e-32  1.298921e-32  1.211204e-32  1.326838e-32   \n998  1.408573e-32  1.154618e-32  1.298921e-32  1.211204e-32  1.326838e-32   \n999  1.408573e-32  1.154618e-32  1.298921e-32  1.211204e-32  1.326838e-32   \n\n              487           488           489  \n0    1.047302e-31  1.220870e-31  1.220785e-31  \n1    3.846380e-32  5.770565e-31  5.770478e-31  \n2    1.688475e-30  1.149804e-30  1.132438e-30  \n3   -1.419723e-30 -1.402382e-30 -1.402916e-30  \n4    1.191423e-30  1.365508e-30  1.347617e-30  \n..            ...           ...           ...  \n995 -8.400634e-18 -8.400634e-18 -8.400634e-18  \n996  1.202508e-32  1.195074e-32  1.109623e-32  \n997  1.202508e-32  1.195074e-32  1.109623e-32  \n998  1.202508e-32  1.195074e-32  1.109623e-32  \n999  1.202508e-32  1.195074e-32  1.109623e-32  \n\n[1000 rows x 490 columns]",
      "text/html": "<div>\n<style scoped>\n    .dataframe tbody tr th:only-of-type {\n        vertical-align: middle;\n    }\n\n    .dataframe tbody tr th {\n        vertical-align: top;\n    }\n\n    .dataframe thead th {\n        text-align: right;\n    }\n</style>\n<table border=\"1\" class=\"dataframe\">\n  <thead>\n    <tr style=\"text-align: right;\">\n      <th></th>\n      <th>0</th>\n      <th>1</th>\n      <th>2</th>\n      <th>3</th>\n      <th>4</th>\n      <th>5</th>\n      <th>6</th>\n      <th>7</th>\n      <th>8</th>\n      <th>9</th>\n      <th>...</th>\n      <th>480</th>\n      <th>481</th>\n      <th>482</th>\n      <th>483</th>\n      <th>484</th>\n      <th>485</th>\n      <th>486</th>\n      <th>487</th>\n      <th>488</th>\n      <th>489</th>\n    </tr>\n  </thead>\n  <tbody>\n    <tr>\n      <th>0</th>\n      <td>0.087078</td>\n      <td>0.091459</td>\n      <td>0.080337</td>\n      <td>0.081385</td>\n      <td>0.089404</td>\n      <td>0.084315</td>\n      <td>0.076976</td>\n      <td>0.093606</td>\n      <td>0.081324</td>\n      <td>0.083723</td>\n      <td>...</td>\n      <td>1.221291e-31</td>\n      <td>8.739860e-32</td>\n      <td>1.221206e-31</td>\n      <td>8.739018e-32</td>\n      <td>1.047470e-31</td>\n      <td>1.047386e-31</td>\n      <td>1.047386e-31</td>\n      <td>1.047302e-31</td>\n      <td>1.220870e-31</td>\n      <td>1.220785e-31</td>\n    </tr>\n    <tr>\n      <th>1</th>\n      <td>0.087078</td>\n      <td>0.091459</td>\n      <td>0.080337</td>\n      <td>0.081385</td>\n      <td>0.089404</td>\n      <td>0.084315</td>\n      <td>0.076976</td>\n      <td>0.093606</td>\n      <td>0.081324</td>\n      <td>0.083723</td>\n      <td>...</td>\n      <td>6.291711e-31</td>\n      <td>6.281065e-31</td>\n      <td>7.373629e-32</td>\n      <td>6.107407e-31</td>\n      <td>5.583824e-32</td>\n      <td>5.938986e-31</td>\n      <td>5.582955e-32</td>\n      <td>3.846380e-32</td>\n      <td>5.770565e-31</td>\n      <td>5.770478e-31</td>\n    </tr>\n    <tr>\n      <th>2</th>\n      <td>0.087078</td>\n      <td>0.091459</td>\n      <td>0.080337</td>\n      <td>0.081385</td>\n      <td>0.089404</td>\n      <td>0.084315</td>\n      <td>0.076976</td>\n      <td>0.093606</td>\n      <td>0.081324</td>\n      <td>0.083723</td>\n      <td>...</td>\n      <td>1.203492e-30</td>\n      <td>1.219785e-30</td>\n      <td>1.707439e-30</td>\n      <td>1.201895e-30</td>\n      <td>1.723731e-30</td>\n      <td>1.184528e-30</td>\n      <td>1.689008e-30</td>\n      <td>1.688475e-30</td>\n      <td>1.149804e-30</td>\n      <td>1.132438e-30</td>\n    </tr>\n    <tr>\n      <th>3</th>\n      <td>0.087078</td>\n      <td>0.091459</td>\n      <td>0.080337</td>\n      <td>0.081385</td>\n      <td>0.089404</td>\n      <td>0.084315</td>\n      <td>0.076976</td>\n      <td>0.093606</td>\n      <td>0.081324</td>\n      <td>0.083723</td>\n      <td>...</td>\n      <td>-1.485981e-30</td>\n      <td>-1.469164e-30</td>\n      <td>-1.434949e-30</td>\n      <td>-1.452863e-30</td>\n      <td>-1.452847e-30</td>\n      <td>-1.436039e-30</td>\n      <td>-1.419190e-30</td>\n      <td>-1.419723e-30</td>\n      <td>-1.402382e-30</td>\n      <td>-1.402916e-30</td>\n    </tr>\n    <tr>\n      <th>4</th>\n      <td>0.087078</td>\n      <td>0.091459</td>\n      <td>0.080337</td>\n      <td>0.081385</td>\n      <td>0.089404</td>\n      <td>0.084315</td>\n      <td>0.076976</td>\n      <td>0.093606</td>\n      <td>0.081324</td>\n      <td>0.083723</td>\n      <td>...</td>\n      <td>1.435507e-30</td>\n      <td>1.400775e-30</td>\n      <td>1.227745e-30</td>\n      <td>1.400242e-30</td>\n      <td>1.209322e-30</td>\n      <td>1.365517e-30</td>\n      <td>1.191955e-30</td>\n      <td>1.191423e-30</td>\n      <td>1.365508e-30</td>\n      <td>1.347617e-30</td>\n    </tr>\n    <tr>\n      <th>...</th>\n      <td>...</td>\n      <td>...</td>\n      <td>...</td>\n      <td>...</td>\n      <td>...</td>\n      <td>...</td>\n      <td>...</td>\n      <td>...</td>\n      <td>...</td>\n      <td>...</td>\n      <td>...</td>\n      <td>...</td>\n      <td>...</td>\n      <td>...</td>\n      <td>...</td>\n      <td>...</td>\n      <td>...</td>\n      <td>...</td>\n      <td>...</td>\n      <td>...</td>\n      <td>...</td>\n    </tr>\n    <tr>\n      <th>995</th>\n      <td>0.087078</td>\n      <td>0.091459</td>\n      <td>0.080337</td>\n      <td>0.081385</td>\n      <td>0.089404</td>\n      <td>0.084315</td>\n      <td>0.076976</td>\n      <td>0.093606</td>\n      <td>0.081324</td>\n      <td>0.083723</td>\n      <td>...</td>\n      <td>-8.400634e-18</td>\n      <td>-8.400634e-18</td>\n      <td>-8.400634e-18</td>\n      <td>-8.400634e-18</td>\n      <td>-8.400634e-18</td>\n      <td>-8.400634e-18</td>\n      <td>-8.400634e-18</td>\n      <td>-8.400634e-18</td>\n      <td>-8.400634e-18</td>\n      <td>-8.400634e-18</td>\n    </tr>\n    <tr>\n      <th>996</th>\n      <td>0.087078</td>\n      <td>0.091459</td>\n      <td>0.080337</td>\n      <td>0.081385</td>\n      <td>0.089404</td>\n      <td>0.084315</td>\n      <td>0.076976</td>\n      <td>0.093606</td>\n      <td>0.081324</td>\n      <td>0.083723</td>\n      <td>...</td>\n      <td>1.266439e-32</td>\n      <td>1.202224e-32</td>\n      <td>1.408573e-32</td>\n      <td>1.154618e-32</td>\n      <td>1.298921e-32</td>\n      <td>1.211204e-32</td>\n      <td>1.326838e-32</td>\n      <td>1.202508e-32</td>\n      <td>1.195074e-32</td>\n      <td>1.109623e-32</td>\n    </tr>\n    <tr>\n      <th>997</th>\n      <td>0.087078</td>\n      <td>0.091459</td>\n      <td>0.080337</td>\n      <td>0.081385</td>\n      <td>0.089404</td>\n      <td>0.084315</td>\n      <td>0.076976</td>\n      <td>0.093606</td>\n      <td>0.081324</td>\n      <td>0.083723</td>\n      <td>...</td>\n      <td>1.266439e-32</td>\n      <td>1.202224e-32</td>\n      <td>1.408573e-32</td>\n      <td>1.154618e-32</td>\n      <td>1.298921e-32</td>\n      <td>1.211204e-32</td>\n      <td>1.326838e-32</td>\n      <td>1.202508e-32</td>\n      <td>1.195074e-32</td>\n      <td>1.109623e-32</td>\n    </tr>\n    <tr>\n      <th>998</th>\n      <td>0.087078</td>\n      <td>0.091459</td>\n      <td>0.080337</td>\n      <td>0.081385</td>\n      <td>0.089404</td>\n      <td>0.084315</td>\n      <td>0.076976</td>\n      <td>0.093606</td>\n      <td>0.081324</td>\n      <td>0.083723</td>\n      <td>...</td>\n      <td>1.266439e-32</td>\n      <td>1.202224e-32</td>\n      <td>1.408573e-32</td>\n      <td>1.154618e-32</td>\n      <td>1.298921e-32</td>\n      <td>1.211204e-32</td>\n      <td>1.326838e-32</td>\n      <td>1.202508e-32</td>\n      <td>1.195074e-32</td>\n      <td>1.109623e-32</td>\n    </tr>\n    <tr>\n      <th>999</th>\n      <td>0.087078</td>\n      <td>0.091459</td>\n      <td>0.080337</td>\n      <td>0.081385</td>\n      <td>0.089404</td>\n      <td>0.084315</td>\n      <td>0.076976</td>\n      <td>0.093606</td>\n      <td>0.081324</td>\n      <td>0.083723</td>\n      <td>...</td>\n      <td>1.266439e-32</td>\n      <td>1.202224e-32</td>\n      <td>1.408573e-32</td>\n      <td>1.154618e-32</td>\n      <td>1.298921e-32</td>\n      <td>1.211204e-32</td>\n      <td>1.326838e-32</td>\n      <td>1.202508e-32</td>\n      <td>1.195074e-32</td>\n      <td>1.109623e-32</td>\n    </tr>\n  </tbody>\n</table>\n<p>1000 rows × 490 columns</p>\n</div>"
     },
     "execution_count": 17,
     "metadata": {},
     "output_type": "execute_result"
    }
   ],
   "source": [
    "reconstructed_df"
   ],
   "metadata": {
    "collapsed": false,
    "ExecuteTime": {
     "end_time": "2023-08-02T15:22:29.623299600Z",
     "start_time": "2023-08-02T15:22:29.534536500Z"
    }
   },
   "id": "4e5cf9559e88341f"
  },
  {
   "cell_type": "markdown",
   "source": [
    "### Calculate the generalized inverse of Matrix A"
   ],
   "metadata": {
    "collapsed": false
   },
   "id": "6a353b8087b46d40"
  },
  {
   "cell_type": "code",
   "execution_count": 18,
   "outputs": [],
   "source": [
    "# Calculate the generalized (Moore-Penrose) inverse\n",
    "matrix_A_final_pinv = np.linalg.pinv(df_matrix_A_final.values)\n",
    "\n",
    "# Convert to a pandas DataFrame, if desired\n",
    "matrix_A_final_pinv_df = pd.DataFrame(matrix_A_final_pinv)\n"
   ],
   "metadata": {
    "collapsed": false,
    "ExecuteTime": {
     "end_time": "2023-08-02T15:22:29.813790700Z",
     "start_time": "2023-08-02T15:22:29.566451900Z"
    }
   },
   "id": "855fd6044ced7d52"
  },
  {
   "cell_type": "code",
   "execution_count": 19,
   "outputs": [
    {
     "data": {
      "text/plain": "              0             1             2             3             4    \\\n0    2.640250e+11  1.829935e+11  5.788132e+11  4.180495e+11 -8.155987e+10   \n1    4.231201e+11  2.851626e+11  6.428282e+11  4.643024e+11 -7.391684e+10   \n2   -4.259414e+11 -2.581716e+11  3.732886e+11  2.681489e+11 -1.301702e+11   \n3    5.940050e+10  5.152016e+10  4.959366e+11  3.576209e+11 -9.171386e+10   \n4    5.718180e+10  5.144920e+10  5.428694e+11  3.914470e+11 -1.014116e+11   \n..            ...           ...           ...           ...           ...   \n485  0.000000e+00  0.000000e+00  0.000000e+00  0.000000e+00  0.000000e+00   \n486  0.000000e+00  0.000000e+00  0.000000e+00  0.000000e+00  0.000000e+00   \n487  0.000000e+00  0.000000e+00  0.000000e+00  0.000000e+00  0.000000e+00   \n488  0.000000e+00  0.000000e+00  0.000000e+00  0.000000e+00  0.000000e+00   \n489  0.000000e+00  0.000000e+00  0.000000e+00  0.000000e+00  0.000000e+00   \n\n              5             6             7             8             9    \\\n0   -3.033682e+11  9.465944e+10 -4.669979e+11  4.824473e+08  2.831937e+09   \n1   -3.383738e+11  5.633286e+10 -5.422747e+11  4.764083e+08  3.278728e+09   \n2   -1.888640e+11  2.858861e+11 -1.917464e+11  5.771044e+08  1.191934e+09   \n3   -2.580195e+11  1.441172e+11 -3.693980e+11  4.870001e+08  2.246429e+09   \n4   -2.823480e+11  1.607109e+11 -4.029183e+11  5.365944e+08  2.450707e+09   \n..            ...           ...           ...           ...           ...   \n485  0.000000e+00  0.000000e+00  0.000000e+00  0.000000e+00  0.000000e+00   \n486  0.000000e+00  0.000000e+00  0.000000e+00  0.000000e+00  0.000000e+00   \n487  0.000000e+00  0.000000e+00  0.000000e+00  0.000000e+00  0.000000e+00   \n488  0.000000e+00  0.000000e+00  0.000000e+00  0.000000e+00  0.000000e+00   \n489  0.000000e+00  0.000000e+00  0.000000e+00  0.000000e+00  0.000000e+00   \n\n     ...           990           991           992           993  \\\n0    ... -6.947088e+08 -6.947088e+08 -6.947088e+08 -6.947088e+08   \n1    ... -9.276273e+08 -9.276273e+08 -9.276273e+08 -9.276273e+08   \n2    ...  2.690587e+08  2.690587e+08  2.690587e+08  2.690587e+08   \n3    ... -3.945196e+08 -3.945196e+08 -3.945196e+08 -3.945196e+08   \n4    ... -4.224263e+08 -4.224263e+08 -4.224263e+08 -4.224263e+08   \n..   ...           ...           ...           ...           ...   \n485  ...  0.000000e+00  0.000000e+00  0.000000e+00  0.000000e+00   \n486  ...  0.000000e+00  0.000000e+00  0.000000e+00  0.000000e+00   \n487  ...  0.000000e+00  0.000000e+00  0.000000e+00  0.000000e+00   \n488  ...  0.000000e+00  0.000000e+00  0.000000e+00  0.000000e+00   \n489  ...  0.000000e+00  0.000000e+00  0.000000e+00  0.000000e+00   \n\n              994           995           996           997           998  \\\n0   -6.947088e+08 -6.947088e+08 -6.947088e+08 -6.947088e+08 -6.947088e+08   \n1   -9.276273e+08 -9.276273e+08 -9.276273e+08 -9.276273e+08 -9.276273e+08   \n2    2.690587e+08  2.690587e+08  2.690587e+08  2.690587e+08  2.690587e+08   \n3   -3.945196e+08 -3.945196e+08 -3.945196e+08 -3.945196e+08 -3.945196e+08   \n4   -4.224263e+08 -4.224263e+08 -4.224263e+08 -4.224263e+08 -4.224263e+08   \n..            ...           ...           ...           ...           ...   \n485  0.000000e+00  0.000000e+00  0.000000e+00  0.000000e+00  0.000000e+00   \n486  0.000000e+00  0.000000e+00  0.000000e+00  0.000000e+00  0.000000e+00   \n487  0.000000e+00  0.000000e+00  0.000000e+00  0.000000e+00  0.000000e+00   \n488  0.000000e+00  0.000000e+00  0.000000e+00  0.000000e+00  0.000000e+00   \n489  0.000000e+00  0.000000e+00  0.000000e+00  0.000000e+00  0.000000e+00   \n\n              999  \n0   -6.947088e+08  \n1   -9.276273e+08  \n2    2.690587e+08  \n3   -3.945196e+08  \n4   -4.224263e+08  \n..            ...  \n485  0.000000e+00  \n486  0.000000e+00  \n487  0.000000e+00  \n488  0.000000e+00  \n489  0.000000e+00  \n\n[490 rows x 1000 columns]",
      "text/html": "<div>\n<style scoped>\n    .dataframe tbody tr th:only-of-type {\n        vertical-align: middle;\n    }\n\n    .dataframe tbody tr th {\n        vertical-align: top;\n    }\n\n    .dataframe thead th {\n        text-align: right;\n    }\n</style>\n<table border=\"1\" class=\"dataframe\">\n  <thead>\n    <tr style=\"text-align: right;\">\n      <th></th>\n      <th>0</th>\n      <th>1</th>\n      <th>2</th>\n      <th>3</th>\n      <th>4</th>\n      <th>5</th>\n      <th>6</th>\n      <th>7</th>\n      <th>8</th>\n      <th>9</th>\n      <th>...</th>\n      <th>990</th>\n      <th>991</th>\n      <th>992</th>\n      <th>993</th>\n      <th>994</th>\n      <th>995</th>\n      <th>996</th>\n      <th>997</th>\n      <th>998</th>\n      <th>999</th>\n    </tr>\n  </thead>\n  <tbody>\n    <tr>\n      <th>0</th>\n      <td>2.640250e+11</td>\n      <td>1.829935e+11</td>\n      <td>5.788132e+11</td>\n      <td>4.180495e+11</td>\n      <td>-8.155987e+10</td>\n      <td>-3.033682e+11</td>\n      <td>9.465944e+10</td>\n      <td>-4.669979e+11</td>\n      <td>4.824473e+08</td>\n      <td>2.831937e+09</td>\n      <td>...</td>\n      <td>-6.947088e+08</td>\n      <td>-6.947088e+08</td>\n      <td>-6.947088e+08</td>\n      <td>-6.947088e+08</td>\n      <td>-6.947088e+08</td>\n      <td>-6.947088e+08</td>\n      <td>-6.947088e+08</td>\n      <td>-6.947088e+08</td>\n      <td>-6.947088e+08</td>\n      <td>-6.947088e+08</td>\n    </tr>\n    <tr>\n      <th>1</th>\n      <td>4.231201e+11</td>\n      <td>2.851626e+11</td>\n      <td>6.428282e+11</td>\n      <td>4.643024e+11</td>\n      <td>-7.391684e+10</td>\n      <td>-3.383738e+11</td>\n      <td>5.633286e+10</td>\n      <td>-5.422747e+11</td>\n      <td>4.764083e+08</td>\n      <td>3.278728e+09</td>\n      <td>...</td>\n      <td>-9.276273e+08</td>\n      <td>-9.276273e+08</td>\n      <td>-9.276273e+08</td>\n      <td>-9.276273e+08</td>\n      <td>-9.276273e+08</td>\n      <td>-9.276273e+08</td>\n      <td>-9.276273e+08</td>\n      <td>-9.276273e+08</td>\n      <td>-9.276273e+08</td>\n      <td>-9.276273e+08</td>\n    </tr>\n    <tr>\n      <th>2</th>\n      <td>-4.259414e+11</td>\n      <td>-2.581716e+11</td>\n      <td>3.732886e+11</td>\n      <td>2.681489e+11</td>\n      <td>-1.301702e+11</td>\n      <td>-1.888640e+11</td>\n      <td>2.858861e+11</td>\n      <td>-1.917464e+11</td>\n      <td>5.771044e+08</td>\n      <td>1.191934e+09</td>\n      <td>...</td>\n      <td>2.690587e+08</td>\n      <td>2.690587e+08</td>\n      <td>2.690587e+08</td>\n      <td>2.690587e+08</td>\n      <td>2.690587e+08</td>\n      <td>2.690587e+08</td>\n      <td>2.690587e+08</td>\n      <td>2.690587e+08</td>\n      <td>2.690587e+08</td>\n      <td>2.690587e+08</td>\n    </tr>\n    <tr>\n      <th>3</th>\n      <td>5.940050e+10</td>\n      <td>5.152016e+10</td>\n      <td>4.959366e+11</td>\n      <td>3.576209e+11</td>\n      <td>-9.171386e+10</td>\n      <td>-2.580195e+11</td>\n      <td>1.441172e+11</td>\n      <td>-3.693980e+11</td>\n      <td>4.870001e+08</td>\n      <td>2.246429e+09</td>\n      <td>...</td>\n      <td>-3.945196e+08</td>\n      <td>-3.945196e+08</td>\n      <td>-3.945196e+08</td>\n      <td>-3.945196e+08</td>\n      <td>-3.945196e+08</td>\n      <td>-3.945196e+08</td>\n      <td>-3.945196e+08</td>\n      <td>-3.945196e+08</td>\n      <td>-3.945196e+08</td>\n      <td>-3.945196e+08</td>\n    </tr>\n    <tr>\n      <th>4</th>\n      <td>5.718180e+10</td>\n      <td>5.144920e+10</td>\n      <td>5.428694e+11</td>\n      <td>3.914470e+11</td>\n      <td>-1.014116e+11</td>\n      <td>-2.823480e+11</td>\n      <td>1.607109e+11</td>\n      <td>-4.029183e+11</td>\n      <td>5.365944e+08</td>\n      <td>2.450707e+09</td>\n      <td>...</td>\n      <td>-4.224263e+08</td>\n      <td>-4.224263e+08</td>\n      <td>-4.224263e+08</td>\n      <td>-4.224263e+08</td>\n      <td>-4.224263e+08</td>\n      <td>-4.224263e+08</td>\n      <td>-4.224263e+08</td>\n      <td>-4.224263e+08</td>\n      <td>-4.224263e+08</td>\n      <td>-4.224263e+08</td>\n    </tr>\n    <tr>\n      <th>...</th>\n      <td>...</td>\n      <td>...</td>\n      <td>...</td>\n      <td>...</td>\n      <td>...</td>\n      <td>...</td>\n      <td>...</td>\n      <td>...</td>\n      <td>...</td>\n      <td>...</td>\n      <td>...</td>\n      <td>...</td>\n      <td>...</td>\n      <td>...</td>\n      <td>...</td>\n      <td>...</td>\n      <td>...</td>\n      <td>...</td>\n      <td>...</td>\n      <td>...</td>\n      <td>...</td>\n    </tr>\n    <tr>\n      <th>485</th>\n      <td>0.000000e+00</td>\n      <td>0.000000e+00</td>\n      <td>0.000000e+00</td>\n      <td>0.000000e+00</td>\n      <td>0.000000e+00</td>\n      <td>0.000000e+00</td>\n      <td>0.000000e+00</td>\n      <td>0.000000e+00</td>\n      <td>0.000000e+00</td>\n      <td>0.000000e+00</td>\n      <td>...</td>\n      <td>0.000000e+00</td>\n      <td>0.000000e+00</td>\n      <td>0.000000e+00</td>\n      <td>0.000000e+00</td>\n      <td>0.000000e+00</td>\n      <td>0.000000e+00</td>\n      <td>0.000000e+00</td>\n      <td>0.000000e+00</td>\n      <td>0.000000e+00</td>\n      <td>0.000000e+00</td>\n    </tr>\n    <tr>\n      <th>486</th>\n      <td>0.000000e+00</td>\n      <td>0.000000e+00</td>\n      <td>0.000000e+00</td>\n      <td>0.000000e+00</td>\n      <td>0.000000e+00</td>\n      <td>0.000000e+00</td>\n      <td>0.000000e+00</td>\n      <td>0.000000e+00</td>\n      <td>0.000000e+00</td>\n      <td>0.000000e+00</td>\n      <td>...</td>\n      <td>0.000000e+00</td>\n      <td>0.000000e+00</td>\n      <td>0.000000e+00</td>\n      <td>0.000000e+00</td>\n      <td>0.000000e+00</td>\n      <td>0.000000e+00</td>\n      <td>0.000000e+00</td>\n      <td>0.000000e+00</td>\n      <td>0.000000e+00</td>\n      <td>0.000000e+00</td>\n    </tr>\n    <tr>\n      <th>487</th>\n      <td>0.000000e+00</td>\n      <td>0.000000e+00</td>\n      <td>0.000000e+00</td>\n      <td>0.000000e+00</td>\n      <td>0.000000e+00</td>\n      <td>0.000000e+00</td>\n      <td>0.000000e+00</td>\n      <td>0.000000e+00</td>\n      <td>0.000000e+00</td>\n      <td>0.000000e+00</td>\n      <td>...</td>\n      <td>0.000000e+00</td>\n      <td>0.000000e+00</td>\n      <td>0.000000e+00</td>\n      <td>0.000000e+00</td>\n      <td>0.000000e+00</td>\n      <td>0.000000e+00</td>\n      <td>0.000000e+00</td>\n      <td>0.000000e+00</td>\n      <td>0.000000e+00</td>\n      <td>0.000000e+00</td>\n    </tr>\n    <tr>\n      <th>488</th>\n      <td>0.000000e+00</td>\n      <td>0.000000e+00</td>\n      <td>0.000000e+00</td>\n      <td>0.000000e+00</td>\n      <td>0.000000e+00</td>\n      <td>0.000000e+00</td>\n      <td>0.000000e+00</td>\n      <td>0.000000e+00</td>\n      <td>0.000000e+00</td>\n      <td>0.000000e+00</td>\n      <td>...</td>\n      <td>0.000000e+00</td>\n      <td>0.000000e+00</td>\n      <td>0.000000e+00</td>\n      <td>0.000000e+00</td>\n      <td>0.000000e+00</td>\n      <td>0.000000e+00</td>\n      <td>0.000000e+00</td>\n      <td>0.000000e+00</td>\n      <td>0.000000e+00</td>\n      <td>0.000000e+00</td>\n    </tr>\n    <tr>\n      <th>489</th>\n      <td>0.000000e+00</td>\n      <td>0.000000e+00</td>\n      <td>0.000000e+00</td>\n      <td>0.000000e+00</td>\n      <td>0.000000e+00</td>\n      <td>0.000000e+00</td>\n      <td>0.000000e+00</td>\n      <td>0.000000e+00</td>\n      <td>0.000000e+00</td>\n      <td>0.000000e+00</td>\n      <td>...</td>\n      <td>0.000000e+00</td>\n      <td>0.000000e+00</td>\n      <td>0.000000e+00</td>\n      <td>0.000000e+00</td>\n      <td>0.000000e+00</td>\n      <td>0.000000e+00</td>\n      <td>0.000000e+00</td>\n      <td>0.000000e+00</td>\n      <td>0.000000e+00</td>\n      <td>0.000000e+00</td>\n    </tr>\n  </tbody>\n</table>\n<p>490 rows × 1000 columns</p>\n</div>"
     },
     "execution_count": 19,
     "metadata": {},
     "output_type": "execute_result"
    }
   ],
   "source": [
    "matrix_A_final_pinv_df"
   ],
   "metadata": {
    "collapsed": false,
    "ExecuteTime": {
     "end_time": "2023-08-02T15:22:29.815785400Z",
     "start_time": "2023-08-02T15:22:29.768910600Z"
    }
   },
   "id": "633955ee8b987a64"
  },
  {
   "cell_type": "markdown",
   "source": [
    "### Calculate transition matrix T"
   ],
   "metadata": {
    "collapsed": false
   },
   "id": "1ad5df044f595f75"
  },
  {
   "cell_type": "code",
   "execution_count": 20,
   "outputs": [],
   "source": [
    "transition_matrix_T = matrix_A_final_pinv_df.dot(matrix_B_final)"
   ],
   "metadata": {
    "collapsed": false,
    "ExecuteTime": {
     "end_time": "2023-08-02T15:22:29.821768500Z",
     "start_time": "2023-08-02T15:22:29.802821900Z"
    }
   },
   "id": "dcbc3da27151442f"
  },
  {
   "cell_type": "code",
   "execution_count": 21,
   "outputs": [
    {
     "data": {
      "text/plain": "     pixel0  pixel1  pixel2  pixel3  pixel4  pixel5  pixel6  pixel7  pixel8  \\\n0       0.0     0.0     0.0     0.0     0.0     0.0     0.0     0.0     0.0   \n1       0.0     0.0     0.0     0.0     0.0     0.0     0.0     0.0     0.0   \n2       0.0     0.0     0.0     0.0     0.0     0.0     0.0     0.0     0.0   \n3       0.0     0.0     0.0     0.0     0.0     0.0     0.0     0.0     0.0   \n4       0.0     0.0     0.0     0.0     0.0     0.0     0.0     0.0     0.0   \n..      ...     ...     ...     ...     ...     ...     ...     ...     ...   \n485     0.0     0.0     0.0     0.0     0.0     0.0     0.0     0.0     0.0   \n486     0.0     0.0     0.0     0.0     0.0     0.0     0.0     0.0     0.0   \n487     0.0     0.0     0.0     0.0     0.0     0.0     0.0     0.0     0.0   \n488     0.0     0.0     0.0     0.0     0.0     0.0     0.0     0.0     0.0   \n489     0.0     0.0     0.0     0.0     0.0     0.0     0.0     0.0     0.0   \n\n     pixel9  ...      pixel774      pixel775  pixel776  pixel777  pixel778  \\\n0       0.0  ... -8.499966e+08 -3.378192e+08       0.0       0.0       0.0   \n1       0.0  ... -1.134979e+09 -4.510815e+08       0.0       0.0       0.0   \n2       0.0  ...  3.292013e+08  1.308364e+08       0.0       0.0       0.0   \n3       0.0  ... -4.827063e+08 -1.918448e+08       0.0       0.0       0.0   \n4       0.0  ... -5.168510e+08 -2.054151e+08       0.0       0.0       0.0   \n..      ...  ...           ...           ...       ...       ...       ...   \n485     0.0  ...  0.000000e+00  0.000000e+00       0.0       0.0       0.0   \n486     0.0  ...  0.000000e+00  0.000000e+00       0.0       0.0       0.0   \n487     0.0  ...  0.000000e+00  0.000000e+00       0.0       0.0       0.0   \n488     0.0  ...  0.000000e+00  0.000000e+00       0.0       0.0       0.0   \n489     0.0  ...  0.000000e+00  0.000000e+00       0.0       0.0       0.0   \n\n     pixel779  pixel780  pixel781  pixel782  pixel783  \n0         0.0       0.0       0.0       0.0       0.0  \n1         0.0       0.0       0.0       0.0       0.0  \n2         0.0       0.0       0.0       0.0       0.0  \n3         0.0       0.0       0.0       0.0       0.0  \n4         0.0       0.0       0.0       0.0       0.0  \n..        ...       ...       ...       ...       ...  \n485       0.0       0.0       0.0       0.0       0.0  \n486       0.0       0.0       0.0       0.0       0.0  \n487       0.0       0.0       0.0       0.0       0.0  \n488       0.0       0.0       0.0       0.0       0.0  \n489       0.0       0.0       0.0       0.0       0.0  \n\n[490 rows x 784 columns]",
      "text/html": "<div>\n<style scoped>\n    .dataframe tbody tr th:only-of-type {\n        vertical-align: middle;\n    }\n\n    .dataframe tbody tr th {\n        vertical-align: top;\n    }\n\n    .dataframe thead th {\n        text-align: right;\n    }\n</style>\n<table border=\"1\" class=\"dataframe\">\n  <thead>\n    <tr style=\"text-align: right;\">\n      <th></th>\n      <th>pixel0</th>\n      <th>pixel1</th>\n      <th>pixel2</th>\n      <th>pixel3</th>\n      <th>pixel4</th>\n      <th>pixel5</th>\n      <th>pixel6</th>\n      <th>pixel7</th>\n      <th>pixel8</th>\n      <th>pixel9</th>\n      <th>...</th>\n      <th>pixel774</th>\n      <th>pixel775</th>\n      <th>pixel776</th>\n      <th>pixel777</th>\n      <th>pixel778</th>\n      <th>pixel779</th>\n      <th>pixel780</th>\n      <th>pixel781</th>\n      <th>pixel782</th>\n      <th>pixel783</th>\n    </tr>\n  </thead>\n  <tbody>\n    <tr>\n      <th>0</th>\n      <td>0.0</td>\n      <td>0.0</td>\n      <td>0.0</td>\n      <td>0.0</td>\n      <td>0.0</td>\n      <td>0.0</td>\n      <td>0.0</td>\n      <td>0.0</td>\n      <td>0.0</td>\n      <td>0.0</td>\n      <td>...</td>\n      <td>-8.499966e+08</td>\n      <td>-3.378192e+08</td>\n      <td>0.0</td>\n      <td>0.0</td>\n      <td>0.0</td>\n      <td>0.0</td>\n      <td>0.0</td>\n      <td>0.0</td>\n      <td>0.0</td>\n      <td>0.0</td>\n    </tr>\n    <tr>\n      <th>1</th>\n      <td>0.0</td>\n      <td>0.0</td>\n      <td>0.0</td>\n      <td>0.0</td>\n      <td>0.0</td>\n      <td>0.0</td>\n      <td>0.0</td>\n      <td>0.0</td>\n      <td>0.0</td>\n      <td>0.0</td>\n      <td>...</td>\n      <td>-1.134979e+09</td>\n      <td>-4.510815e+08</td>\n      <td>0.0</td>\n      <td>0.0</td>\n      <td>0.0</td>\n      <td>0.0</td>\n      <td>0.0</td>\n      <td>0.0</td>\n      <td>0.0</td>\n      <td>0.0</td>\n    </tr>\n    <tr>\n      <th>2</th>\n      <td>0.0</td>\n      <td>0.0</td>\n      <td>0.0</td>\n      <td>0.0</td>\n      <td>0.0</td>\n      <td>0.0</td>\n      <td>0.0</td>\n      <td>0.0</td>\n      <td>0.0</td>\n      <td>0.0</td>\n      <td>...</td>\n      <td>3.292013e+08</td>\n      <td>1.308364e+08</td>\n      <td>0.0</td>\n      <td>0.0</td>\n      <td>0.0</td>\n      <td>0.0</td>\n      <td>0.0</td>\n      <td>0.0</td>\n      <td>0.0</td>\n      <td>0.0</td>\n    </tr>\n    <tr>\n      <th>3</th>\n      <td>0.0</td>\n      <td>0.0</td>\n      <td>0.0</td>\n      <td>0.0</td>\n      <td>0.0</td>\n      <td>0.0</td>\n      <td>0.0</td>\n      <td>0.0</td>\n      <td>0.0</td>\n      <td>0.0</td>\n      <td>...</td>\n      <td>-4.827063e+08</td>\n      <td>-1.918448e+08</td>\n      <td>0.0</td>\n      <td>0.0</td>\n      <td>0.0</td>\n      <td>0.0</td>\n      <td>0.0</td>\n      <td>0.0</td>\n      <td>0.0</td>\n      <td>0.0</td>\n    </tr>\n    <tr>\n      <th>4</th>\n      <td>0.0</td>\n      <td>0.0</td>\n      <td>0.0</td>\n      <td>0.0</td>\n      <td>0.0</td>\n      <td>0.0</td>\n      <td>0.0</td>\n      <td>0.0</td>\n      <td>0.0</td>\n      <td>0.0</td>\n      <td>...</td>\n      <td>-5.168510e+08</td>\n      <td>-2.054151e+08</td>\n      <td>0.0</td>\n      <td>0.0</td>\n      <td>0.0</td>\n      <td>0.0</td>\n      <td>0.0</td>\n      <td>0.0</td>\n      <td>0.0</td>\n      <td>0.0</td>\n    </tr>\n    <tr>\n      <th>...</th>\n      <td>...</td>\n      <td>...</td>\n      <td>...</td>\n      <td>...</td>\n      <td>...</td>\n      <td>...</td>\n      <td>...</td>\n      <td>...</td>\n      <td>...</td>\n      <td>...</td>\n      <td>...</td>\n      <td>...</td>\n      <td>...</td>\n      <td>...</td>\n      <td>...</td>\n      <td>...</td>\n      <td>...</td>\n      <td>...</td>\n      <td>...</td>\n      <td>...</td>\n      <td>...</td>\n    </tr>\n    <tr>\n      <th>485</th>\n      <td>0.0</td>\n      <td>0.0</td>\n      <td>0.0</td>\n      <td>0.0</td>\n      <td>0.0</td>\n      <td>0.0</td>\n      <td>0.0</td>\n      <td>0.0</td>\n      <td>0.0</td>\n      <td>0.0</td>\n      <td>...</td>\n      <td>0.000000e+00</td>\n      <td>0.000000e+00</td>\n      <td>0.0</td>\n      <td>0.0</td>\n      <td>0.0</td>\n      <td>0.0</td>\n      <td>0.0</td>\n      <td>0.0</td>\n      <td>0.0</td>\n      <td>0.0</td>\n    </tr>\n    <tr>\n      <th>486</th>\n      <td>0.0</td>\n      <td>0.0</td>\n      <td>0.0</td>\n      <td>0.0</td>\n      <td>0.0</td>\n      <td>0.0</td>\n      <td>0.0</td>\n      <td>0.0</td>\n      <td>0.0</td>\n      <td>0.0</td>\n      <td>...</td>\n      <td>0.000000e+00</td>\n      <td>0.000000e+00</td>\n      <td>0.0</td>\n      <td>0.0</td>\n      <td>0.0</td>\n      <td>0.0</td>\n      <td>0.0</td>\n      <td>0.0</td>\n      <td>0.0</td>\n      <td>0.0</td>\n    </tr>\n    <tr>\n      <th>487</th>\n      <td>0.0</td>\n      <td>0.0</td>\n      <td>0.0</td>\n      <td>0.0</td>\n      <td>0.0</td>\n      <td>0.0</td>\n      <td>0.0</td>\n      <td>0.0</td>\n      <td>0.0</td>\n      <td>0.0</td>\n      <td>...</td>\n      <td>0.000000e+00</td>\n      <td>0.000000e+00</td>\n      <td>0.0</td>\n      <td>0.0</td>\n      <td>0.0</td>\n      <td>0.0</td>\n      <td>0.0</td>\n      <td>0.0</td>\n      <td>0.0</td>\n      <td>0.0</td>\n    </tr>\n    <tr>\n      <th>488</th>\n      <td>0.0</td>\n      <td>0.0</td>\n      <td>0.0</td>\n      <td>0.0</td>\n      <td>0.0</td>\n      <td>0.0</td>\n      <td>0.0</td>\n      <td>0.0</td>\n      <td>0.0</td>\n      <td>0.0</td>\n      <td>...</td>\n      <td>0.000000e+00</td>\n      <td>0.000000e+00</td>\n      <td>0.0</td>\n      <td>0.0</td>\n      <td>0.0</td>\n      <td>0.0</td>\n      <td>0.0</td>\n      <td>0.0</td>\n      <td>0.0</td>\n      <td>0.0</td>\n    </tr>\n    <tr>\n      <th>489</th>\n      <td>0.0</td>\n      <td>0.0</td>\n      <td>0.0</td>\n      <td>0.0</td>\n      <td>0.0</td>\n      <td>0.0</td>\n      <td>0.0</td>\n      <td>0.0</td>\n      <td>0.0</td>\n      <td>0.0</td>\n      <td>...</td>\n      <td>0.000000e+00</td>\n      <td>0.000000e+00</td>\n      <td>0.0</td>\n      <td>0.0</td>\n      <td>0.0</td>\n      <td>0.0</td>\n      <td>0.0</td>\n      <td>0.0</td>\n      <td>0.0</td>\n      <td>0.0</td>\n    </tr>\n  </tbody>\n</table>\n<p>490 rows × 784 columns</p>\n</div>"
     },
     "execution_count": 21,
     "metadata": {},
     "output_type": "execute_result"
    }
   ],
   "source": [
    "transition_matrix_T"
   ],
   "metadata": {
    "collapsed": false,
    "ExecuteTime": {
     "end_time": "2023-08-02T15:22:29.889616200Z",
     "start_time": "2023-08-02T15:22:29.815785400Z"
    }
   },
   "id": "ea41401d2b998f53"
  },
  {
   "cell_type": "markdown",
   "source": [
    "## Fomal Model → Mental Model"
   ],
   "metadata": {
    "collapsed": false
   },
   "id": "44cf6a6390505db0"
  },
  {
   "cell_type": "markdown",
   "source": [
    "### Calculate new Mental Model"
   ],
   "metadata": {
    "collapsed": false
   },
   "id": "644d20ca858addf8"
  },
  {
   "cell_type": "code",
   "execution_count": 22,
   "outputs": [],
   "source": [
    "formal_model_test = [[2.8, -1.8, -2.8, 1.3, 0.4],\n",
    "                     [2.9, -1.9, -2.9, 1.4, 0.5],\n",
    "                     [3, -2, -3, 1.5, 0.6],\n",
    "                     [3.1, -2.1, -3.1, 1.6, 0.7],\n",
    "                     [3.2, -2.2, -3.2, 1.7, 0.8],\n",
    "                     [-1.6, -2.5, 1.5, 0.2, 0.6],\n",
    "                     [-1.3, -2.7, 1.3, 0.4, 0.8],\n",
    "                     [-1, -3, 1.5, 0.6, 1],\n",
    "                     [-0.7, -3.2, 1.7, 0.8, 1.2],\n",
    "                     [-0.5, -3.5, 1.9, 1, 1.4],\n",
    "                     [1.2, -1.2, 0.7, -0.3, -2.8],\n",
    "                     [1.1, -1.1, 0.8, -0.4, -2.9],\n",
    "                     [1, -1, 0.844444444, -0.444444444, -3],\n",
    "                     [0.9, -0.9, 0.85, -0.45, -3.1],\n",
    "                     [0.8, -0.8, 0.9, -0.5, -3.2]]\n",
    "\n",
    "mental_model_test = [[-1.979394104, 1.959307524, -1.381119943, -1.729640979],\n",
    "                     [-1.974921385, 1.94850558, -1.726609792, -1.761213024],\n",
    "                     [-1.843907868, 1.99818664, -1.912855282, -1.97511053],\n",
    "                     [-1.998625355, 1.999671808, -1.998443276, -1.999764956],\n",
    "                     [-1.999365095, 1.998896097, -1.999605076, -1.998916765],\n",
    "                     [1.997775859, -1.844000202, 1.660111333, -1.373532039],\n",
    "                     [1.818753218, -1.909687734, 1.206631506, -1.407994628],\n",
    "                     [1.992023578, -1.923804827, 0.706593926, -1.543784398],\n",
    "                     [1.999174385, -1.997592083, 0.21221635, -1.586974171],\n",
    "                     [1.997854305, -1.999410881, -0.243400633, -1.827587263],\n",
    "                     [0.851626415, 1.574201387, 1.581026838, 1.573934081],\n",
    "                     [1.008512576, 1.570791652, 1.595657199, 1.741761976],\n",
    "                     [1.107744254, 1.615475549, 1.723582196, 1.807614602],\n",
    "                     [1.089897991, 1.611369928, 1.882537367, 1.873522151],\n",
    "                     [1.290406093, 1.695289797, 1.953503509, 1.946250271]]\n",
    "\n",
    "df_formal_model_test = pd.DataFrame(formal_model_test)\n",
    "df_mental_model_test = pd.DataFrame(mental_model_test)"
   ],
   "metadata": {
    "collapsed": false,
    "ExecuteTime": {
     "end_time": "2023-08-02T15:22:29.919508100Z",
     "start_time": "2023-08-02T15:22:29.845704400Z"
    }
   },
   "id": "f413a850cf481627"
  },
  {
   "cell_type": "code",
   "execution_count": 23,
   "outputs": [],
   "source": [
    "matrix_B_calculated = df_matrix_A_final.values.dot(transition_matrix_T.values)\n",
    "\n",
    "# matrix_B_calculated = df_formal_model_test.values.dot(transition_matrix_T.values)"
   ],
   "metadata": {
    "collapsed": false,
    "ExecuteTime": {
     "end_time": "2023-08-02T15:22:29.966381700Z",
     "start_time": "2023-08-02T15:22:29.861662400Z"
    }
   },
   "id": "fd8bfcf7bd7aab76"
  },
  {
   "cell_type": "code",
   "execution_count": 24,
   "outputs": [
    {
     "data": {
      "text/plain": "array([[0., 0., 0., ..., 0., 0., 0.],\n       [0., 0., 0., ..., 0., 0., 0.],\n       [0., 0., 0., ..., 0., 0., 0.],\n       ...,\n       [0., 0., 0., ..., 0., 0., 0.],\n       [0., 0., 0., ..., 0., 0., 0.],\n       [0., 0., 0., ..., 0., 0., 0.]])"
     },
     "execution_count": 24,
     "metadata": {},
     "output_type": "execute_result"
    }
   ],
   "source": [
    "matrix_B_calculated"
   ],
   "metadata": {
    "collapsed": false,
    "ExecuteTime": {
     "end_time": "2023-08-02T15:22:30.003283700Z",
     "start_time": "2023-08-02T15:22:29.877619700Z"
    }
   },
   "id": "94fc0f9c5a3e1930"
  },
  {
   "cell_type": "code",
   "execution_count": 25,
   "outputs": [
    {
     "data": {
      "text/plain": "     pixel0  pixel1  pixel2  pixel3  pixel4  pixel5  pixel6  pixel7  pixel8  \\\n0       0.0     0.0     0.0     0.0     0.0     0.0     0.0     0.0     0.0   \n1       0.0     0.0     0.0     0.0     0.0     0.0     0.0     0.0     0.0   \n2       0.0     0.0     0.0     0.0     0.0     0.0     0.0     0.0     0.0   \n3       0.0     0.0     0.0     0.0     0.0     0.0     0.0     0.0     0.0   \n4       0.0     0.0     0.0     0.0     0.0     0.0     0.0     0.0     0.0   \n..      ...     ...     ...     ...     ...     ...     ...     ...     ...   \n995     0.0     0.0     0.0     0.0     0.0     0.0     0.0     0.0     0.0   \n996     0.0     0.0     0.0     0.0     0.0     0.0     0.0     0.0     0.0   \n997     0.0     0.0     0.0     0.0     0.0     0.0     0.0     0.0     0.0   \n998     0.0     0.0     0.0     0.0     0.0     0.0     0.0     0.0     0.0   \n999     0.0     0.0     0.0     0.0     0.0     0.0     0.0     0.0     0.0   \n\n     pixel9  ...  pixel774  pixel775  pixel776  pixel777  pixel778  pixel779  \\\n0       0.0  ...       0.0       0.0       0.0       0.0       0.0       0.0   \n1       0.0  ...       0.0       0.0       0.0       0.0       0.0       0.0   \n2       0.0  ...       0.0       0.0       0.0       0.0       0.0       0.0   \n3       0.0  ...       0.0       0.0       0.0       0.0       0.0       0.0   \n4       0.0  ...       0.0       0.0       0.0       0.0       0.0       0.0   \n..      ...  ...       ...       ...       ...       ...       ...       ...   \n995     0.0  ...       0.0       0.0       0.0       0.0       0.0       0.0   \n996     0.0  ...       0.0       0.0       0.0       0.0       0.0       0.0   \n997     0.0  ...       0.0       0.0       0.0       0.0       0.0       0.0   \n998     0.0  ...       0.0       0.0       0.0       0.0       0.0       0.0   \n999     0.0  ...       0.0       0.0       0.0       0.0       0.0       0.0   \n\n     pixel780  pixel781  pixel782  pixel783  \n0         0.0       0.0       0.0       0.0  \n1         0.0       0.0       0.0       0.0  \n2         0.0       0.0       0.0       0.0  \n3         0.0       0.0       0.0       0.0  \n4         0.0       0.0       0.0       0.0  \n..        ...       ...       ...       ...  \n995       0.0       0.0       0.0       0.0  \n996       0.0       0.0       0.0       0.0  \n997       0.0       0.0       0.0       0.0  \n998       0.0       0.0       0.0       0.0  \n999       0.0       0.0       0.0       0.0  \n\n[1000 rows x 784 columns]",
      "text/html": "<div>\n<style scoped>\n    .dataframe tbody tr th:only-of-type {\n        vertical-align: middle;\n    }\n\n    .dataframe tbody tr th {\n        vertical-align: top;\n    }\n\n    .dataframe thead th {\n        text-align: right;\n    }\n</style>\n<table border=\"1\" class=\"dataframe\">\n  <thead>\n    <tr style=\"text-align: right;\">\n      <th></th>\n      <th>pixel0</th>\n      <th>pixel1</th>\n      <th>pixel2</th>\n      <th>pixel3</th>\n      <th>pixel4</th>\n      <th>pixel5</th>\n      <th>pixel6</th>\n      <th>pixel7</th>\n      <th>pixel8</th>\n      <th>pixel9</th>\n      <th>...</th>\n      <th>pixel774</th>\n      <th>pixel775</th>\n      <th>pixel776</th>\n      <th>pixel777</th>\n      <th>pixel778</th>\n      <th>pixel779</th>\n      <th>pixel780</th>\n      <th>pixel781</th>\n      <th>pixel782</th>\n      <th>pixel783</th>\n    </tr>\n  </thead>\n  <tbody>\n    <tr>\n      <th>0</th>\n      <td>0.0</td>\n      <td>0.0</td>\n      <td>0.0</td>\n      <td>0.0</td>\n      <td>0.0</td>\n      <td>0.0</td>\n      <td>0.0</td>\n      <td>0.0</td>\n      <td>0.0</td>\n      <td>0.0</td>\n      <td>...</td>\n      <td>0.0</td>\n      <td>0.0</td>\n      <td>0.0</td>\n      <td>0.0</td>\n      <td>0.0</td>\n      <td>0.0</td>\n      <td>0.0</td>\n      <td>0.0</td>\n      <td>0.0</td>\n      <td>0.0</td>\n    </tr>\n    <tr>\n      <th>1</th>\n      <td>0.0</td>\n      <td>0.0</td>\n      <td>0.0</td>\n      <td>0.0</td>\n      <td>0.0</td>\n      <td>0.0</td>\n      <td>0.0</td>\n      <td>0.0</td>\n      <td>0.0</td>\n      <td>0.0</td>\n      <td>...</td>\n      <td>0.0</td>\n      <td>0.0</td>\n      <td>0.0</td>\n      <td>0.0</td>\n      <td>0.0</td>\n      <td>0.0</td>\n      <td>0.0</td>\n      <td>0.0</td>\n      <td>0.0</td>\n      <td>0.0</td>\n    </tr>\n    <tr>\n      <th>2</th>\n      <td>0.0</td>\n      <td>0.0</td>\n      <td>0.0</td>\n      <td>0.0</td>\n      <td>0.0</td>\n      <td>0.0</td>\n      <td>0.0</td>\n      <td>0.0</td>\n      <td>0.0</td>\n      <td>0.0</td>\n      <td>...</td>\n      <td>0.0</td>\n      <td>0.0</td>\n      <td>0.0</td>\n      <td>0.0</td>\n      <td>0.0</td>\n      <td>0.0</td>\n      <td>0.0</td>\n      <td>0.0</td>\n      <td>0.0</td>\n      <td>0.0</td>\n    </tr>\n    <tr>\n      <th>3</th>\n      <td>0.0</td>\n      <td>0.0</td>\n      <td>0.0</td>\n      <td>0.0</td>\n      <td>0.0</td>\n      <td>0.0</td>\n      <td>0.0</td>\n      <td>0.0</td>\n      <td>0.0</td>\n      <td>0.0</td>\n      <td>...</td>\n      <td>0.0</td>\n      <td>0.0</td>\n      <td>0.0</td>\n      <td>0.0</td>\n      <td>0.0</td>\n      <td>0.0</td>\n      <td>0.0</td>\n      <td>0.0</td>\n      <td>0.0</td>\n      <td>0.0</td>\n    </tr>\n    <tr>\n      <th>4</th>\n      <td>0.0</td>\n      <td>0.0</td>\n      <td>0.0</td>\n      <td>0.0</td>\n      <td>0.0</td>\n      <td>0.0</td>\n      <td>0.0</td>\n      <td>0.0</td>\n      <td>0.0</td>\n      <td>0.0</td>\n      <td>...</td>\n      <td>0.0</td>\n      <td>0.0</td>\n      <td>0.0</td>\n      <td>0.0</td>\n      <td>0.0</td>\n      <td>0.0</td>\n      <td>0.0</td>\n      <td>0.0</td>\n      <td>0.0</td>\n      <td>0.0</td>\n    </tr>\n    <tr>\n      <th>...</th>\n      <td>...</td>\n      <td>...</td>\n      <td>...</td>\n      <td>...</td>\n      <td>...</td>\n      <td>...</td>\n      <td>...</td>\n      <td>...</td>\n      <td>...</td>\n      <td>...</td>\n      <td>...</td>\n      <td>...</td>\n      <td>...</td>\n      <td>...</td>\n      <td>...</td>\n      <td>...</td>\n      <td>...</td>\n      <td>...</td>\n      <td>...</td>\n      <td>...</td>\n      <td>...</td>\n    </tr>\n    <tr>\n      <th>995</th>\n      <td>0.0</td>\n      <td>0.0</td>\n      <td>0.0</td>\n      <td>0.0</td>\n      <td>0.0</td>\n      <td>0.0</td>\n      <td>0.0</td>\n      <td>0.0</td>\n      <td>0.0</td>\n      <td>0.0</td>\n      <td>...</td>\n      <td>0.0</td>\n      <td>0.0</td>\n      <td>0.0</td>\n      <td>0.0</td>\n      <td>0.0</td>\n      <td>0.0</td>\n      <td>0.0</td>\n      <td>0.0</td>\n      <td>0.0</td>\n      <td>0.0</td>\n    </tr>\n    <tr>\n      <th>996</th>\n      <td>0.0</td>\n      <td>0.0</td>\n      <td>0.0</td>\n      <td>0.0</td>\n      <td>0.0</td>\n      <td>0.0</td>\n      <td>0.0</td>\n      <td>0.0</td>\n      <td>0.0</td>\n      <td>0.0</td>\n      <td>...</td>\n      <td>0.0</td>\n      <td>0.0</td>\n      <td>0.0</td>\n      <td>0.0</td>\n      <td>0.0</td>\n      <td>0.0</td>\n      <td>0.0</td>\n      <td>0.0</td>\n      <td>0.0</td>\n      <td>0.0</td>\n    </tr>\n    <tr>\n      <th>997</th>\n      <td>0.0</td>\n      <td>0.0</td>\n      <td>0.0</td>\n      <td>0.0</td>\n      <td>0.0</td>\n      <td>0.0</td>\n      <td>0.0</td>\n      <td>0.0</td>\n      <td>0.0</td>\n      <td>0.0</td>\n      <td>...</td>\n      <td>0.0</td>\n      <td>0.0</td>\n      <td>0.0</td>\n      <td>0.0</td>\n      <td>0.0</td>\n      <td>0.0</td>\n      <td>0.0</td>\n      <td>0.0</td>\n      <td>0.0</td>\n      <td>0.0</td>\n    </tr>\n    <tr>\n      <th>998</th>\n      <td>0.0</td>\n      <td>0.0</td>\n      <td>0.0</td>\n      <td>0.0</td>\n      <td>0.0</td>\n      <td>0.0</td>\n      <td>0.0</td>\n      <td>0.0</td>\n      <td>0.0</td>\n      <td>0.0</td>\n      <td>...</td>\n      <td>0.0</td>\n      <td>0.0</td>\n      <td>0.0</td>\n      <td>0.0</td>\n      <td>0.0</td>\n      <td>0.0</td>\n      <td>0.0</td>\n      <td>0.0</td>\n      <td>0.0</td>\n      <td>0.0</td>\n    </tr>\n    <tr>\n      <th>999</th>\n      <td>0.0</td>\n      <td>0.0</td>\n      <td>0.0</td>\n      <td>0.0</td>\n      <td>0.0</td>\n      <td>0.0</td>\n      <td>0.0</td>\n      <td>0.0</td>\n      <td>0.0</td>\n      <td>0.0</td>\n      <td>...</td>\n      <td>0.0</td>\n      <td>0.0</td>\n      <td>0.0</td>\n      <td>0.0</td>\n      <td>0.0</td>\n      <td>0.0</td>\n      <td>0.0</td>\n      <td>0.0</td>\n      <td>0.0</td>\n      <td>0.0</td>\n    </tr>\n  </tbody>\n</table>\n<p>1000 rows × 784 columns</p>\n</div>"
     },
     "execution_count": 25,
     "metadata": {},
     "output_type": "execute_result"
    }
   ],
   "source": [
    "matrix_B_final"
   ],
   "metadata": {
    "collapsed": false,
    "ExecuteTime": {
     "end_time": "2023-08-02T15:22:30.094041300Z",
     "start_time": "2023-08-02T15:22:29.892580500Z"
    }
   },
   "id": "8529db2de5736905"
  },
  {
   "cell_type": "markdown",
   "source": [
    "### Calculate the Euclidean distance"
   ],
   "metadata": {
    "collapsed": false
   },
   "id": "ed4cb1f63bad2d8f"
  },
  {
   "cell_type": "code",
   "execution_count": 26,
   "outputs": [],
   "source": [
    "# Calculate Euclidean distance for each row\n",
    "euclidean_distances = np.sqrt(((matrix_B_final.values - matrix_B_calculated) ** 2).sum(axis=1))\n",
    "\n",
    "# euclidean_distances = np.sqrt(((df_mental_model_test - matrix_B_calculated) ** 2).sum(axis=1))\n",
    "\n",
    "# Sum of all the Euclidean distances\n",
    "total_distance = euclidean_distances.sum()\n"
   ],
   "metadata": {
    "collapsed": false,
    "ExecuteTime": {
     "end_time": "2023-08-02T15:22:30.108004100Z",
     "start_time": "2023-08-02T15:22:29.922500800Z"
    }
   },
   "id": "7df8118ce9550c5"
  },
  {
   "cell_type": "code",
   "execution_count": 27,
   "outputs": [
    {
     "data": {
      "text/plain": "array([ 8.11592533,  6.15258647,  6.76792863,  7.7655906 ,  8.21937717,\n        8.02465775,  7.44197977,  6.41992513,  8.97447377,  7.30073971,\n        6.99217372,  6.91574273,  6.06612301,  7.83653836,  5.74660659,\n        8.9086422 ,  7.40980834,  6.9845145 ,  7.01472169,  6.59003452,\n        6.87494266,  5.88184062,  6.01176872,  7.81095394,  7.12263639,\n        8.1152338 ,  7.03703226,  8.95844047,  6.54057766,  6.92980377,\n        6.17623222,  6.58701204,  7.33966795,  6.58714921,  6.82813871,\n        8.09546797,  5.94300088,  6.84652958,  8.58370658,  7.86066145,\n        8.59944458,  6.31701838,  6.74384173,  5.71472015,  5.75313195,\n        5.95207412,  6.93393118,  6.15568861,  8.06533417,  6.07009207,\n        6.38557406,  6.96328095,  6.52609312,  6.04639546,  8.21662913,\n        8.2225623 ,  8.17011282,  6.09904214,  6.81642354,  6.99545171,\n        7.07414076,  6.0953554 ,  6.72156242,  7.72043501,  7.32395327,\n        6.98882041,  6.79507471,  7.48049544,  5.65264007,  5.90614814,\n        5.79571267,  7.27263741,  7.49482032,  6.38203586,  6.51200981,\n        6.78483629,  6.90465819,  6.03965333,  6.80811974,  6.89532674,\n        6.68461019,  6.19459346,  5.98249686,  7.00339167,  6.4116429 ,\n        6.49701511,  6.72919183,  7.10881314,  8.79501053,  7.29083355,\n        5.72748439,  7.54109591,  6.66477529,  6.57703616,  6.40460339,\n        8.29789819,  6.96610952,  7.30443316,  6.83415821,  7.81695829,\n        6.85065389,  8.54805199,  6.63455632,  6.09410585,  9.1103225 ,\n        7.96100108,  8.71382932,  7.13379991,  9.12469773,  6.93651484,\n        9.32317189,  7.06794783,  8.04935514,  6.55133152,  6.46052911,\n        7.00689327,  6.32953455,  7.69793994,  6.56000548,  7.28943896,\n        6.85843278,  7.1749216 ,  6.88904335,  6.08435318,  6.66014964,\n        6.41593288,  6.08244071,  8.32574953,  5.92791424,  7.26074335,\n        6.6363397 ,  9.97949905,  6.32478788,  6.38518507,  6.00194422,\n        7.0377565 ,  8.35093259,  9.76241284,  7.13973985,  6.28069455,\n        9.40265826,  7.24110637,  6.96036838,  7.54940112,  9.01499811,\n        6.66644194,  6.8986399 ,  6.4066605 ,  6.37605456,  8.19890084,\n        6.57259493,  5.73812947,  7.91412553,  5.90525701,  6.80034275,\n        6.97489986,  6.14743959,  6.71296504,  7.05369199,  6.5183248 ,\n        6.20747153,  8.90127091,  6.44238732,  7.01235679,  6.30982445,\n        7.17142558,  7.04755824,  6.70832601,  8.36859427,  7.05396531,\n        7.31943222,  7.26962448,  6.99481563,  6.31110861,  7.67265809,\n        7.48800889,  5.92340778,  6.05774443,  7.87875566,  7.13434953,\n        7.03899637,  7.11481174,  7.54803598,  8.95377819,  7.3168552 ,\n        8.12035386,  8.15147204,  8.34249005,  5.79881571,  8.64217066,\n        9.00509355,  7.02793549,  8.95212972,  6.53491713,  9.39609449,\n        7.44096242,  6.06497812,  6.00416062,  8.22476537,  6.17781688,\n        8.356687  ,  8.91707573,  9.04444645,  8.99206772,  7.1410056 ,\n        6.835153  ,  9.22387577,  7.89217487,  8.18283278,  6.5520167 ,\n        8.08148859,  7.21966592,  5.70601059,  6.71740068,  6.0089915 ,\n        6.82689356,  7.01570951,  6.67715181,  7.45429375,  8.90617016,\n        6.70130385,  5.88891788,  6.53234253,  6.34729241,  7.28447367,\n        8.57887523,  7.63489524,  8.39091751,  7.76946547,  6.83488669,\n       10.33513412,  5.87376974,  7.54166753,  6.77764148,  9.17704083,\n        6.94411069,  7.32859567,  7.33414099,  7.28736991,  8.31414097,\n        5.64124619, 10.57320379,  8.12967137,  7.33063485,  6.19839008,\n        7.41530628,  5.82737594,  6.96575283,  8.3505431 ,  6.07759169,\n        7.44650466,  6.49277572,  7.55501043,  8.3949447 ,  6.88549972,\n        6.6053003 ,  5.7645346 ,  7.6876429 ,  5.76161842,  6.67779289,\n        9.22816707,  7.42518992,  6.78926516,  6.37685645,  9.28416938,\n        6.40453311,  5.98044519,  6.80400476,  6.9384229 ,  6.46004656,\n        6.12081959,  6.71633427,  5.81091206,  8.16997192,  7.2586129 ,\n        7.51974678,  7.71281891,  5.73694509,  6.1557898 ,  6.26541766,\n        5.83072261,  6.73290741,  7.35159629,  6.64406606,  8.6570521 ,\n        9.02618571,  8.26264786,  6.51271685,  7.94963976,  7.29971502,\n        7.39592308,  6.7453416 ,  7.85458361,  7.2737357 ,  9.47964393,\n        7.47332282,  6.57673514,  7.60122009,  8.10166984,  6.7353732 ,\n        7.68619416,  6.05676944,  7.69788727,  7.41576695,  8.30978556,\n        8.14104818,  6.22700817,  8.10900729,  8.14251666,  8.60965222,\n        6.76305897,  5.71170383,  9.68339531,  8.66378057,  8.72114411,\n        5.81093018,  6.06565171,  7.93915433,  8.44455942,  6.52577463,\n        7.64315325,  7.18456796,  6.77864107,  6.87162412,  9.09067318,\n        6.78531621,  6.33913656,  7.89831409,  8.07925823,  6.30570331,\n        6.68336623,  7.05984944,  8.09651064,  7.0677293 ,  5.76852181,\n        6.19400903,  7.68876942,  6.59597303,  5.83121808,  7.49131514,\n        6.94093967,  6.94772455,  6.44250109,  6.74940801,  7.34881943,\n       10.11803744,  6.24233995,  7.93987827,  6.73994487,  8.82077109,\n        7.29729128,  7.53702283,  8.053776  ,  9.16711855,  8.29559132,\n        7.03660573,  7.45545691,  6.44686975,  7.28804017,  6.6551163 ,\n        6.39005026,  7.59547884,  7.1391955 ,  8.502772  ,  6.67675602,\n        6.29056463,  7.08551132,  8.2935747 ,  9.62707748,  6.34428923,\n        6.93454781,  6.16211899,  7.51725219,  6.28690558,  7.15261024,\n        8.11654097,  9.05842813,  6.76654546,  7.0257944 ,  8.03333869,\n        6.81722238,  7.3180844 ,  6.34499324,  7.94836621,  6.55605631,\n        8.03388498,  7.59337306,  8.25525298,  7.53484945,  6.28725031,\n        8.37091397,  6.55484372,  8.44107297,  7.08365613,  6.142385  ,\n        6.58341547,  6.06246212,  6.03674688,  6.55464453,  6.73978332,\n        6.49802946,  6.8181443 ,  7.74173003,  6.83204632,  7.56691001,\n        6.94285008,  6.30246017,  6.52681423,  7.64993902,  8.15481132,\n        7.64844725,  7.01603194,  7.4858806 ,  7.24745109,  6.426875  ,\n        7.22193952,  8.41014058,  6.72237095,  6.2675255 ,  8.7528349 ,\n        6.07595995,  6.92922783,  5.87011545,  6.28899789,  8.27120367,\n        7.2292269 ,  6.10849264,  5.48908444,  7.05755347,  6.95118003,\n        6.01326865,  9.61906795,  6.98577876,  6.11589038,  6.46315252,\n        6.77913258,  8.06311782,  6.29356042,  7.23940314,  7.4682124 ,\n        8.30966914,  6.82426441,  7.38546134,  6.76784396,  6.57468591,\n        6.4942234 ,  6.31564817,  9.39207537,  8.86610184,  6.16442858,\n        6.19675889,  6.64780707,  6.96592947,  7.42000594,  7.59211994,\n        7.51654514,  6.92485027,  6.17301043,  8.18120324,  6.67337259,\n        6.09853847,  6.46920901,  7.18283348,  7.22604353,  6.50607722,\n        5.71095092,  7.17561358,  6.45496948,  6.56366952,  7.46807142,\n        6.6536656 ,  6.9509032 ,  5.9370581 , 10.5078861 ,  7.84602463,\n        5.78797514,  8.98427621,  6.47426973,  6.55595121,  7.11659652,\n        7.86400463,  6.77081329,  6.46450061,  6.8929701 ,  6.71158694,\n        5.94028032,  9.34632449,  6.92895647,  7.60619822,  6.48711005,\n        7.63240483,  7.44065214,  6.52331889,  8.47492085,  9.44714726,\n        6.07640783,  7.48466073,  6.91186602,  7.07468491,  7.90033955,\n        6.51979978,  6.08503744,  8.98536435,  7.90751743,  7.67311915,\n        6.26847351,  6.2018704 ,  7.33018263,  7.37157544,  6.78732062,\n        8.05194372,  6.54456165,  6.99987204,  7.70871485,  7.87297818,\n        6.26478713,  6.38607313,  7.92234244,  7.07727673,  6.94204582,\n        9.21438828,  7.73928341,  6.31914527,  7.12066388,  8.577495  ,\n        6.78008748,  5.60565235,  8.03422813,  6.9600033 ,  7.405435  ,\n        6.8277723 ,  8.59711156,  7.33163444,  6.68587638,  5.99177864,\n        9.20556335,  5.74381332,  9.11604585,  6.7362655 ,  7.05505665,\n        9.1473866 ,  6.2380317 ,  7.23205124,  8.40053546,  6.62325364,\n        6.67972216,  7.36851359,  7.20555794,  7.20479082,  7.33919608,\n        8.22640304,  9.73853019,  6.16025006,  7.78260289,  6.89685824,\n        9.06923302,  6.66558633,  7.53992843,  8.01907734,  6.20542199,\n        8.16175032,  6.08806303,  5.78758042,  8.15940775,  7.14790054,\n        5.79259065,  7.10638134,  6.59665342,  7.7454287 ,  7.00765257,\n        7.15986444,  7.51516689,  5.98914097,  7.61576996,  6.03960833,\n        6.76146092,  7.18881933,  7.46751005,  7.38324956,  6.54637564,\n        7.16507184,  6.4164765 ,  6.22835418,  9.64001211,  7.07277511,\n        7.28051661,  8.11174572,  7.06582496,  9.71303722,  7.19156914,\n        7.27189513,  9.01436202,  6.38676118,  6.30104612,  7.27637272,\n        6.52941214,  7.02359978,  7.27529541,  6.45090501,  6.88985519,\n        6.00336588,  8.06647711,  7.51330611,  5.77821087,  6.3243621 ,\n        7.28611858,  6.37080629,  6.58525717,  7.93555265,  6.56032705,\n        6.95325597,  7.36353872,  7.82315511,  7.32695263,  6.62323806,\n        8.58091584,  6.88373438,  6.49218324,  8.41100638,  6.88043422,\n        6.42216024,  7.32668765,  6.7926485 ,  7.86588837,  7.8513916 ,\n        7.09851732,  6.0519673 ,  7.22028244,  8.79781171,  7.28431767,\n        7.11947039,  8.2474801 ,  6.93454649,  7.78404373,  7.2712637 ,\n        6.26472436,  6.72727736,  7.04868181,  6.57309318,  6.79386463,\n       10.25685724,  9.04924144,  8.13993398,  7.1504922 ,  6.30797188,\n        6.43061822,  7.36769516,  6.30653813,  7.76014196,  7.29163771,\n        7.33369927,  6.63088704,  6.62490144,  6.97140612,  6.30068958,\n        7.25807749,  7.77804412,  5.91294109,  7.29742632,  7.71382298,\n        6.80523288,  6.92809646,  7.64097457,  7.62062572,  7.02041474,\n        9.38979137,  6.23429554,  8.71742317,  5.992978  ,  6.36278119,\n        6.8487696 ,  9.51523746,  9.27921881,  7.470302  ,  6.61241073,\n        6.69924116,  6.31553783,  6.46656204,  6.93061719,  6.4871806 ,\n        8.55072559,  6.50855357,  6.476592  ,  7.4782954 ,  6.28684592,\n        8.20878089,  6.15927678,  5.95169433,  6.10783476,  7.37767132,\n        6.80520963,  8.04234365,  8.06000645,  6.64574814,  7.16333379,\n        7.93521274,  7.77073131,  5.81657075,  6.82816694,  7.16179166,\n        6.8502572 ,  6.51662094,  6.39286028,  8.50251855,  5.96473251,\n        8.26479984,  7.46035737,  7.15819285,  7.44603565,  6.77692671,\n        6.02259522,  7.25613473,  6.89843238,  7.4587385 ,  7.29906579,\n        6.58416812,  6.13411023,  6.32645613,  7.46640026,  6.44893429,\n        7.05746118,  8.15410084,  6.04830793,  7.08306398, 10.24692412,\n        7.49125701,  7.75822953,  8.25738396,  8.00096312,  6.2658665 ,\n        6.07822967,  6.48028275,  8.99885513,  8.97908708,  6.43718214,\n        6.99834655,  6.35088393,  8.25441703,  6.6380683 ,  6.77645223,\n        6.89647823,  6.04887289,  6.52223633,  6.73332371,  6.39926476,\n        7.98184012,  7.17173285,  7.65989182,  7.95607615,  9.59596253,\n        7.32294113,  6.06952488,  7.86049446,  9.43108831,  8.24994593,\n        8.48171713,  6.91707715,  6.43623687,  6.42082203,  7.2780475 ,\n        8.09846924,  6.32053577,  6.3512197 ,  5.94377597,  7.40278815,\n        8.47219729,  5.95890769,  7.48671648,  7.30357653,  7.1359694 ,\n        6.18283453,  6.26884179,  8.23762014,  7.55716842,  6.72959005,\n        8.98492975,  5.94555006,  6.89882122,  7.39331787,  7.65220256,\n        8.65273769,  6.77091158,  5.90325715,  7.26926589,  7.08154324,\n        6.58104544,  6.57396465,  6.72163489,  8.07750606,  6.0134186 ,\n        7.5852365 ,  5.98164382,  6.46771362,  6.82399565,  7.20746208,\n        6.53889545,  5.91318322,  8.05348676,  7.75415203,  6.17999368,\n        9.9153052 ,  6.8842304 ,  6.13845821,  7.12925466,  7.63859024,\n        8.06349832,  6.73189963,  5.9972069 ,  5.75723942,  7.74465995,\n        6.84899973,  6.9051978 ,  7.96938151,  6.36690294,  6.72813162,\n        6.56245842,  5.99431003,  7.60344957,  5.83172169,  7.19954783,\n        8.91426914,  8.47600061,  6.91191927,  7.02720724,  6.68863679,\n        6.57534704,  6.19902199,  6.83254352,  7.26418213,  6.99392551,\n        6.35867587,  6.84967182,  8.47644865,  6.86024077,  7.11014369,\n        8.05930556,  7.56978137,  5.97531013,  6.10565346,  9.17404401,\n        6.79814744,  6.17930591,  7.91364642,  6.59604774,  6.14355577,\n        6.8706642 ,  7.65517446,  6.82679301,  6.25757143,  6.32931957,\n        8.37640677,  7.56614121,  6.88535179,  7.73999762,  7.81119849,\n        7.04511793,  6.48199712,  7.55783266,  7.51254982,  5.80011134,\n        6.70987613,  6.85049338,  8.11397806,  7.05650197,  5.87795788,\n        6.83299733,  7.59135512,  5.82829833,  6.2876153 ,  9.11617119,\n        6.52475812,  6.84863703,  7.57052527,  6.01168274,  6.75748927,\n        6.79147121,  7.17417888,  7.04909182,  8.6755559 ,  6.99671608,\n        6.69328424,  6.76994013,  8.42206191,  8.3513468 ,  6.47503151,\n        8.46790443,  7.86338024,  6.58480466,  8.19405166,  6.8200131 ,\n        8.93532076,  6.02815544,  7.50141972,  8.168767  ,  5.97522002,\n        8.36077946,  6.17168041,  7.42774765,  6.86719436,  6.75321605,\n        6.58363216,  9.06493656,  8.00058327,  7.31934022,  6.30901634,\n        5.5242649 ,  7.10040618,  6.96357322,  6.10716555,  6.78374461,\n        6.88844933,  7.42155622,  7.4922039 ,  7.61126264,  6.28389976,\n        6.47573197,  5.95207454,  8.81220217,  7.58557048,  6.83809848,\n        9.76197651,  6.75251146,  8.39684324,  5.57911597,  7.0131692 ,\n        7.06872416,  6.86046635,  8.72774611,  6.17223245,  6.26314576,\n        6.61592266,  6.91046509,  8.61735799,  6.84199307,  6.86910062,\n        7.60500822,  7.14451736,  7.68526608,  6.94837049,  7.48518047,\n        5.91833239,  7.68661829,  6.02574415,  6.10120736,  7.50791121,\n        7.64569811,  6.22470122,  7.47781949,  7.49187953,  6.19811215,\n        8.37999215,  6.87448477,  6.44294949,  7.37310413,  6.29526362,\n        6.48849161,  5.59081905,  7.06215258,  6.75564553,  6.75225273,\n        7.38846193,  6.85389804,  7.80345134,  7.04565942,  7.84711632,\n        6.14347654,  6.15479934,  6.55311166,  6.26576597,  8.8970314 ,\n        6.45614168,  6.37510575,  7.0522958 ,  6.47252545,  8.2806176 ,\n        8.57291976,  7.50477599,  7.05202576,  6.89719003,  8.53958243,\n        7.94077355,  6.84508687,  7.01162177,  7.0862533 ,  7.53949316,\n        7.11153171,  6.29315456,  6.58518962,  8.31308672,  8.62383978,\n        5.69154999,  6.42431589,  7.23357115,  7.68467572,  6.20483595,\n        7.20945769,  6.27803666,  8.653007  ,  8.73023164,  7.8492449 ])"
     },
     "execution_count": 27,
     "metadata": {},
     "output_type": "execute_result"
    }
   ],
   "source": [
    "euclidean_distances"
   ],
   "metadata": {
    "collapsed": false,
    "ExecuteTime": {
     "end_time": "2023-08-02T15:22:30.119971800Z",
     "start_time": "2023-08-02T15:22:29.939455300Z"
    }
   },
   "id": "b63fd7db3527491a"
  },
  {
   "cell_type": "code",
   "execution_count": 28,
   "outputs": [
    {
     "data": {
      "text/plain": "7177.840704238426"
     },
     "execution_count": 28,
     "metadata": {},
     "output_type": "execute_result"
    }
   ],
   "source": [
    "total_distance"
   ],
   "metadata": {
    "collapsed": false,
    "ExecuteTime": {
     "end_time": "2023-08-02T15:22:30.128948300Z",
     "start_time": "2023-08-02T15:22:29.953417Z"
    }
   },
   "id": "def08e7255ece582"
  },
  {
   "cell_type": "code",
   "execution_count": 33,
   "outputs": [],
   "source": [
    "import matplotlib.pyplot as plt\n",
    "\n",
    "def plot_mnist(input_data, num_to_display=15):\n",
    "    \"\"\"\n",
    "    Plots the MNIST numbers from the given data which can be either a DataFrame or a numpy array.\n",
    "    \n",
    "    :param input_data: Either DataFrame or numpy array containing MNIST numbers flattened.\n",
    "    :param num_to_display: Number of MNIST images to display. Defaults to 10.\n",
    "    \"\"\"\n",
    "\n",
    "    # Check the type of data and convert accordingly\n",
    "    if isinstance(input_data, pd.DataFrame):\n",
    "        data_array = input_data.to_numpy()\n",
    "    elif isinstance(input_data, np.ndarray):\n",
    "        data_array = input_data\n",
    "    else:\n",
    "        raise TypeError(\"Input data must be either a pandas DataFrame or a numpy array.\")\n",
    "\n",
    "    fig, axes = plt.subplots(1, num_to_display, figsize=(20, 2))\n",
    "\n",
    "    for i, ax in enumerate(axes):\n",
    "        if i >= len(data_array):\n",
    "            break\n",
    "        # Reshape the flattened image into 28x28\n",
    "        img = data_array[i].reshape(28, 28)\n",
    "        ax.imshow(img, cmap=\"gray\")\n",
    "        ax.axis(\"off\")  # Turn off the axis numbers\n",
    "\n",
    "    plt.show()\n"
   ],
   "metadata": {
    "collapsed": false,
    "ExecuteTime": {
     "end_time": "2023-08-02T15:23:51.667399100Z",
     "start_time": "2023-08-02T15:23:51.635484700Z"
    }
   },
   "id": "8d1f0aa4650a37ca"
  },
  {
   "cell_type": "code",
   "execution_count": 34,
   "outputs": [
    {
     "data": {
      "text/plain": "<Figure size 2000x200 with 15 Axes>",
      "image/png": "[encoded data removed]"
     },
     "metadata": {},
     "output_type": "display_data"
    }
   ],
   "source": [
    "# Call the function with matrix_B_final dataframe or numpy array\n",
    "plot_mnist(matrix_B_final)"
   ],
   "metadata": {
    "collapsed": false,
    "ExecuteTime": {
     "end_time": "2023-08-02T15:23:53.286189300Z",
     "start_time": "2023-08-02T15:23:52.509086200Z"
    }
   },
   "id": "e0990946a5201ddf"
  },
  {
   "cell_type": "code",
   "execution_count": 31,
   "outputs": [
    {
     "data": {
      "text/plain": "<Figure size 2000x200 with 10 Axes>",
      "image/png": "[encoded data removed]"
     },
     "metadata": {},
     "output_type": "display_data"
    }
   ],
   "source": [
    "plot_mnist(matrix_B_calculated)"
   ],
   "metadata": {
    "collapsed": false,
    "ExecuteTime": {
     "end_time": "2023-08-02T15:22:31.236440800Z",
     "start_time": "2023-08-02T15:22:30.600634Z"
    }
   },
   "id": "7f1f946533794a87"
  },
  {
   "cell_type": "code",
   "execution_count": 32,
   "outputs": [
    {
     "data": {
      "text/plain": "array([[0., 0., 0., ..., 0., 0., 0.],\n       [0., 0., 0., ..., 0., 0., 0.],\n       [0., 0., 0., ..., 0., 0., 0.],\n       ...,\n       [0., 0., 0., ..., 0., 0., 0.],\n       [0., 0., 0., ..., 0., 0., 0.],\n       [0., 0., 0., ..., 0., 0., 0.]])"
     },
     "execution_count": 32,
     "metadata": {},
     "output_type": "execute_result"
    }
   ],
   "source": [
    "matrix_B_calculated"
   ],
   "metadata": {
    "collapsed": false,
    "ExecuteTime": {
     "end_time": "2023-08-02T15:22:31.281319Z",
     "start_time": "2023-08-02T15:22:31.231454700Z"
    }
   },
   "id": "1d5abb28c8815379"
  },
  {
   "cell_type": "code",
   "execution_count": 32,
   "outputs": [],
   "source": [],
   "metadata": {
    "collapsed": false,
    "ExecuteTime": {
     "end_time": "2023-08-02T15:22:31.281319Z",
     "start_time": "2023-08-02T15:22:31.243420300Z"
    }
   },
   "id": "b6ae86a425653df8"
  }
 ],
 "metadata": {
  "kernelspec": {
   "display_name": "Python 3",
   "language": "python",
   "name": "python3"
  },
  "language_info": {
   "codemirror_mode": {
    "name": "ipython",
    "version": 2
   },
   "file_extension": ".py",
   "mimetype": "text/x-python",
   "name": "python",
   "nbconvert_exporter": "python",
   "pygments_lexer": "ipython2",
   "version": "2.7.6"
  }
 },
 "nbformat": 4,
 "nbformat_minor": 5
}
