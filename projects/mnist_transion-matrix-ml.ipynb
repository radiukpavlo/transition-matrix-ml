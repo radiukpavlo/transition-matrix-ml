{
 "cells": [
  {
   "cell_type": "code",
   "execution_count": 1,
   "outputs": [],
   "source": [
    "import pandas as pd\n",
    "import numpy as np\n"
   ],
   "metadata": {
    "collapsed": false,
    "ExecuteTime": {
     "end_time": "2023-08-03T11:41:48.618365800Z",
     "start_time": "2023-08-03T11:41:48.314773800Z"
    }
   },
   "id": "d205769e02645fb9"
  },
  {
   "cell_type": "code",
   "execution_count": 2,
   "outputs": [],
   "source": [
    "# URLs for the CSV files\n",
    "# url_csv_A = \"https://raw.githubusercontent.com/radiukpavlo/transition-matrix-ml/main/mnist/mnist_matrix_A.csv\"\n",
    "# url_csv_B = \"https://raw.githubusercontent.com/radiukpavlo/transition-matrix-ml/main/mnist/mnist_matrix_B.csv\"\n",
    "\n",
    "path_csv = '../mnist/'\n",
    "\n",
    "# Read the CSV files into pandas dataframes\n",
    "df_matrix_A = pd.read_csv(f\"{path_csv}/mnist_matrix_A.csv\")\n",
    "df_matrix_B = pd.read_csv(f\"{path_csv}/mnist_matrix_B.csv\")\n"
   ],
   "metadata": {
    "collapsed": false,
    "ExecuteTime": {
     "end_time": "2023-08-03T11:41:48.788546800Z",
     "start_time": "2023-08-03T11:41:48.619369100Z"
    }
   },
   "id": "initial_id"
  },
  {
   "cell_type": "code",
   "execution_count": 3,
   "outputs": [
    {
     "data": {
      "text/plain": "     Unnamed: 0  unique_id    0    1         2         3         4         5  \\\n0             0       1076  0.0  0.0  0.000000  0.000000  0.000000  0.000000   \n1             1       7480  0.0  0.0  0.167999  0.000000  0.000000  0.000000   \n2             2      44575  0.0  0.0  0.261611  0.000000  0.000000  0.000000   \n3             3      29238  0.0  0.0  0.000000  0.113122  0.000000  0.000000   \n4             4      23895  0.0  0.0  0.000000  0.000000  0.000000  0.000000   \n..          ...        ...  ...  ...       ...       ...       ...       ...   \n995         995      36645  0.0  0.0  0.000000  0.000000  0.000000  0.000000   \n996         996      55722  0.0  0.0  0.000000  0.024309  0.091598  0.000000   \n997         997      22425  0.0  0.0  0.000000  0.081450  0.000000  0.667701   \n998         998       4888  0.0  0.0  0.000000  0.000000  0.059378  0.000000   \n999         999      54782  0.0  0.0  0.000000  0.000000  0.000000  0.000000   \n\n           6    7  ...       480       481  482       483       484       485  \\\n0    0.00000  0.0  ...  0.000000  0.000000  0.0  0.000000  1.382883  2.454173   \n1    0.00000  0.0  ...  0.000000  0.000000  0.0  0.000000  1.405346  2.114978   \n2    0.00000  0.0  ...  0.000000  0.000000  0.0  0.000000  1.549804  1.493532   \n3    0.00000  0.0  ...  0.000000  0.000000  0.0  0.000000  0.805741  1.049414   \n4    0.00000  0.0  ...  1.013467  0.248607  0.0  1.701509  1.226074  1.084966   \n..       ...  ...  ...       ...       ...  ...       ...       ...       ...   \n995  0.00000  0.0  ...  0.000000  0.000000  0.0  0.978831  1.879398  2.071823   \n996  0.00000  0.0  ...  0.000000  0.000000  0.0  0.478324  1.605705  0.464157   \n997  0.12788  0.0  ...  0.000000  0.281685  0.0  0.000000  0.743484  0.683986   \n998  0.00000  0.0  ...  0.000000  0.029508  0.0  0.000000  0.586049  1.525309   \n999  0.00000  0.0  ...  0.000000  0.000000  0.0  0.000000  1.757233  2.057276   \n\n          486       487       488       489  \n0    1.031379  0.000000  0.550263  0.000000  \n1    0.224318  0.000000  0.618283  0.000000  \n2    0.000000  0.000000  0.418338  0.000000  \n3    0.000000  0.000000  0.000000  0.000000  \n4    0.979018  0.452417  0.519728  0.282919  \n..        ...       ...       ...       ...  \n995  1.657400  0.994686  0.801544  0.000000  \n996  0.000000  0.000000  0.214895  0.000000  \n997  1.282767  1.064197  0.172643  0.000000  \n998  0.000000  0.000000  0.000000  0.000000  \n999  2.200980  1.002355  0.786718  0.000000  \n\n[1000 rows x 492 columns]",
      "text/html": "<div>\n<style scoped>\n    .dataframe tbody tr th:only-of-type {\n        vertical-align: middle;\n    }\n\n    .dataframe tbody tr th {\n        vertical-align: top;\n    }\n\n    .dataframe thead th {\n        text-align: right;\n    }\n</style>\n<table border=\"1\" class=\"dataframe\">\n  <thead>\n    <tr style=\"text-align: right;\">\n      <th></th>\n      <th>Unnamed: 0</th>\n      <th>unique_id</th>\n      <th>0</th>\n      <th>1</th>\n      <th>2</th>\n      <th>3</th>\n      <th>4</th>\n      <th>5</th>\n      <th>6</th>\n      <th>7</th>\n      <th>...</th>\n      <th>480</th>\n      <th>481</th>\n      <th>482</th>\n      <th>483</th>\n      <th>484</th>\n      <th>485</th>\n      <th>486</th>\n      <th>487</th>\n      <th>488</th>\n      <th>489</th>\n    </tr>\n  </thead>\n  <tbody>\n    <tr>\n      <th>0</th>\n      <td>0</td>\n      <td>1076</td>\n      <td>0.0</td>\n      <td>0.0</td>\n      <td>0.000000</td>\n      <td>0.000000</td>\n      <td>0.000000</td>\n      <td>0.000000</td>\n      <td>0.00000</td>\n      <td>0.0</td>\n      <td>...</td>\n      <td>0.000000</td>\n      <td>0.000000</td>\n      <td>0.0</td>\n      <td>0.000000</td>\n      <td>1.382883</td>\n      <td>2.454173</td>\n      <td>1.031379</td>\n      <td>0.000000</td>\n      <td>0.550263</td>\n      <td>0.000000</td>\n    </tr>\n    <tr>\n      <th>1</th>\n      <td>1</td>\n      <td>7480</td>\n      <td>0.0</td>\n      <td>0.0</td>\n      <td>0.167999</td>\n      <td>0.000000</td>\n      <td>0.000000</td>\n      <td>0.000000</td>\n      <td>0.00000</td>\n      <td>0.0</td>\n      <td>...</td>\n      <td>0.000000</td>\n      <td>0.000000</td>\n      <td>0.0</td>\n      <td>0.000000</td>\n      <td>1.405346</td>\n      <td>2.114978</td>\n      <td>0.224318</td>\n      <td>0.000000</td>\n      <td>0.618283</td>\n      <td>0.000000</td>\n    </tr>\n    <tr>\n      <th>2</th>\n      <td>2</td>\n      <td>44575</td>\n      <td>0.0</td>\n      <td>0.0</td>\n      <td>0.261611</td>\n      <td>0.000000</td>\n      <td>0.000000</td>\n      <td>0.000000</td>\n      <td>0.00000</td>\n      <td>0.0</td>\n      <td>...</td>\n      <td>0.000000</td>\n      <td>0.000000</td>\n      <td>0.0</td>\n      <td>0.000000</td>\n      <td>1.549804</td>\n      <td>1.493532</td>\n      <td>0.000000</td>\n      <td>0.000000</td>\n      <td>0.418338</td>\n      <td>0.000000</td>\n    </tr>\n    <tr>\n      <th>3</th>\n      <td>3</td>\n      <td>29238</td>\n      <td>0.0</td>\n      <td>0.0</td>\n      <td>0.000000</td>\n      <td>0.113122</td>\n      <td>0.000000</td>\n      <td>0.000000</td>\n      <td>0.00000</td>\n      <td>0.0</td>\n      <td>...</td>\n      <td>0.000000</td>\n      <td>0.000000</td>\n      <td>0.0</td>\n      <td>0.000000</td>\n      <td>0.805741</td>\n      <td>1.049414</td>\n      <td>0.000000</td>\n      <td>0.000000</td>\n      <td>0.000000</td>\n      <td>0.000000</td>\n    </tr>\n    <tr>\n      <th>4</th>\n      <td>4</td>\n      <td>23895</td>\n      <td>0.0</td>\n      <td>0.0</td>\n      <td>0.000000</td>\n      <td>0.000000</td>\n      <td>0.000000</td>\n      <td>0.000000</td>\n      <td>0.00000</td>\n      <td>0.0</td>\n      <td>...</td>\n      <td>1.013467</td>\n      <td>0.248607</td>\n      <td>0.0</td>\n      <td>1.701509</td>\n      <td>1.226074</td>\n      <td>1.084966</td>\n      <td>0.979018</td>\n      <td>0.452417</td>\n      <td>0.519728</td>\n      <td>0.282919</td>\n    </tr>\n    <tr>\n      <th>...</th>\n      <td>...</td>\n      <td>...</td>\n      <td>...</td>\n      <td>...</td>\n      <td>...</td>\n      <td>...</td>\n      <td>...</td>\n      <td>...</td>\n      <td>...</td>\n      <td>...</td>\n      <td>...</td>\n      <td>...</td>\n      <td>...</td>\n      <td>...</td>\n      <td>...</td>\n      <td>...</td>\n      <td>...</td>\n      <td>...</td>\n      <td>...</td>\n      <td>...</td>\n      <td>...</td>\n    </tr>\n    <tr>\n      <th>995</th>\n      <td>995</td>\n      <td>36645</td>\n      <td>0.0</td>\n      <td>0.0</td>\n      <td>0.000000</td>\n      <td>0.000000</td>\n      <td>0.000000</td>\n      <td>0.000000</td>\n      <td>0.00000</td>\n      <td>0.0</td>\n      <td>...</td>\n      <td>0.000000</td>\n      <td>0.000000</td>\n      <td>0.0</td>\n      <td>0.978831</td>\n      <td>1.879398</td>\n      <td>2.071823</td>\n      <td>1.657400</td>\n      <td>0.994686</td>\n      <td>0.801544</td>\n      <td>0.000000</td>\n    </tr>\n    <tr>\n      <th>996</th>\n      <td>996</td>\n      <td>55722</td>\n      <td>0.0</td>\n      <td>0.0</td>\n      <td>0.000000</td>\n      <td>0.024309</td>\n      <td>0.091598</td>\n      <td>0.000000</td>\n      <td>0.00000</td>\n      <td>0.0</td>\n      <td>...</td>\n      <td>0.000000</td>\n      <td>0.000000</td>\n      <td>0.0</td>\n      <td>0.478324</td>\n      <td>1.605705</td>\n      <td>0.464157</td>\n      <td>0.000000</td>\n      <td>0.000000</td>\n      <td>0.214895</td>\n      <td>0.000000</td>\n    </tr>\n    <tr>\n      <th>997</th>\n      <td>997</td>\n      <td>22425</td>\n      <td>0.0</td>\n      <td>0.0</td>\n      <td>0.000000</td>\n      <td>0.081450</td>\n      <td>0.000000</td>\n      <td>0.667701</td>\n      <td>0.12788</td>\n      <td>0.0</td>\n      <td>...</td>\n      <td>0.000000</td>\n      <td>0.281685</td>\n      <td>0.0</td>\n      <td>0.000000</td>\n      <td>0.743484</td>\n      <td>0.683986</td>\n      <td>1.282767</td>\n      <td>1.064197</td>\n      <td>0.172643</td>\n      <td>0.000000</td>\n    </tr>\n    <tr>\n      <th>998</th>\n      <td>998</td>\n      <td>4888</td>\n      <td>0.0</td>\n      <td>0.0</td>\n      <td>0.000000</td>\n      <td>0.000000</td>\n      <td>0.059378</td>\n      <td>0.000000</td>\n      <td>0.00000</td>\n      <td>0.0</td>\n      <td>...</td>\n      <td>0.000000</td>\n      <td>0.029508</td>\n      <td>0.0</td>\n      <td>0.000000</td>\n      <td>0.586049</td>\n      <td>1.525309</td>\n      <td>0.000000</td>\n      <td>0.000000</td>\n      <td>0.000000</td>\n      <td>0.000000</td>\n    </tr>\n    <tr>\n      <th>999</th>\n      <td>999</td>\n      <td>54782</td>\n      <td>0.0</td>\n      <td>0.0</td>\n      <td>0.000000</td>\n      <td>0.000000</td>\n      <td>0.000000</td>\n      <td>0.000000</td>\n      <td>0.00000</td>\n      <td>0.0</td>\n      <td>...</td>\n      <td>0.000000</td>\n      <td>0.000000</td>\n      <td>0.0</td>\n      <td>0.000000</td>\n      <td>1.757233</td>\n      <td>2.057276</td>\n      <td>2.200980</td>\n      <td>1.002355</td>\n      <td>0.786718</td>\n      <td>0.000000</td>\n    </tr>\n  </tbody>\n</table>\n<p>1000 rows × 492 columns</p>\n</div>"
     },
     "execution_count": 3,
     "metadata": {},
     "output_type": "execute_result"
    }
   ],
   "source": [
    "df_matrix_A"
   ],
   "metadata": {
    "collapsed": false,
    "ExecuteTime": {
     "end_time": "2023-08-03T11:41:48.827771300Z",
     "start_time": "2023-08-03T11:41:48.793533500Z"
    }
   },
   "id": "5ab2939e56366a7d"
  },
  {
   "cell_type": "code",
   "execution_count": 4,
   "outputs": [
    {
     "data": {
      "text/plain": "     unique_id  label  pixel0  pixel1  pixel2  pixel3  pixel4  pixel5  pixel6  \\\n0         1076      0     0.0     0.0     0.0     0.0     0.0     0.0     0.0   \n1         7480      5     0.0     0.0     0.0     0.0     0.0     0.0     0.0   \n2        44575      3     0.0     0.0     0.0     0.0     0.0     0.0     0.0   \n3        29238      7     0.0     0.0     0.0     0.0     0.0     0.0     0.0   \n4        23895      2     0.0     0.0     0.0     0.0     0.0     0.0     0.0   \n..         ...    ...     ...     ...     ...     ...     ...     ...     ...   \n995      36645      3     0.0     0.0     0.0     0.0     0.0     0.0     0.0   \n996      55722      5     0.0     0.0     0.0     0.0     0.0     0.0     0.0   \n997      22425      6     0.0     0.0     0.0     0.0     0.0     0.0     0.0   \n998       4888      7     0.0     0.0     0.0     0.0     0.0     0.0     0.0   \n999      54782      3     0.0     0.0     0.0     0.0     0.0     0.0     0.0   \n\n     pixel7  ...  pixel774  pixel775  pixel776  pixel777  pixel778  pixel779  \\\n0       0.0  ...       0.0       0.0       0.0       0.0       0.0       0.0   \n1       0.0  ...       0.0       0.0       0.0       0.0       0.0       0.0   \n2       0.0  ...       0.0       0.0       0.0       0.0       0.0       0.0   \n3       0.0  ...       0.0       0.0       0.0       0.0       0.0       0.0   \n4       0.0  ...       0.0       0.0       0.0       0.0       0.0       0.0   \n..      ...  ...       ...       ...       ...       ...       ...       ...   \n995     0.0  ...       0.0       0.0       0.0       0.0       0.0       0.0   \n996     0.0  ...       0.0       0.0       0.0       0.0       0.0       0.0   \n997     0.0  ...       0.0       0.0       0.0       0.0       0.0       0.0   \n998     0.0  ...       0.0       0.0       0.0       0.0       0.0       0.0   \n999     0.0  ...       0.0       0.0       0.0       0.0       0.0       0.0   \n\n     pixel780  pixel781  pixel782  pixel783  \n0         0.0       0.0       0.0       0.0  \n1         0.0       0.0       0.0       0.0  \n2         0.0       0.0       0.0       0.0  \n3         0.0       0.0       0.0       0.0  \n4         0.0       0.0       0.0       0.0  \n..        ...       ...       ...       ...  \n995       0.0       0.0       0.0       0.0  \n996       0.0       0.0       0.0       0.0  \n997       0.0       0.0       0.0       0.0  \n998       0.0       0.0       0.0       0.0  \n999       0.0       0.0       0.0       0.0  \n\n[1000 rows x 786 columns]",
      "text/html": "<div>\n<style scoped>\n    .dataframe tbody tr th:only-of-type {\n        vertical-align: middle;\n    }\n\n    .dataframe tbody tr th {\n        vertical-align: top;\n    }\n\n    .dataframe thead th {\n        text-align: right;\n    }\n</style>\n<table border=\"1\" class=\"dataframe\">\n  <thead>\n    <tr style=\"text-align: right;\">\n      <th></th>\n      <th>unique_id</th>\n      <th>label</th>\n      <th>pixel0</th>\n      <th>pixel1</th>\n      <th>pixel2</th>\n      <th>pixel3</th>\n      <th>pixel4</th>\n      <th>pixel5</th>\n      <th>pixel6</th>\n      <th>pixel7</th>\n      <th>...</th>\n      <th>pixel774</th>\n      <th>pixel775</th>\n      <th>pixel776</th>\n      <th>pixel777</th>\n      <th>pixel778</th>\n      <th>pixel779</th>\n      <th>pixel780</th>\n      <th>pixel781</th>\n      <th>pixel782</th>\n      <th>pixel783</th>\n    </tr>\n  </thead>\n  <tbody>\n    <tr>\n      <th>0</th>\n      <td>1076</td>\n      <td>0</td>\n      <td>0.0</td>\n      <td>0.0</td>\n      <td>0.0</td>\n      <td>0.0</td>\n      <td>0.0</td>\n      <td>0.0</td>\n      <td>0.0</td>\n      <td>0.0</td>\n      <td>...</td>\n      <td>0.0</td>\n      <td>0.0</td>\n      <td>0.0</td>\n      <td>0.0</td>\n      <td>0.0</td>\n      <td>0.0</td>\n      <td>0.0</td>\n      <td>0.0</td>\n      <td>0.0</td>\n      <td>0.0</td>\n    </tr>\n    <tr>\n      <th>1</th>\n      <td>7480</td>\n      <td>5</td>\n      <td>0.0</td>\n      <td>0.0</td>\n      <td>0.0</td>\n      <td>0.0</td>\n      <td>0.0</td>\n      <td>0.0</td>\n      <td>0.0</td>\n      <td>0.0</td>\n      <td>...</td>\n      <td>0.0</td>\n      <td>0.0</td>\n      <td>0.0</td>\n      <td>0.0</td>\n      <td>0.0</td>\n      <td>0.0</td>\n      <td>0.0</td>\n      <td>0.0</td>\n      <td>0.0</td>\n      <td>0.0</td>\n    </tr>\n    <tr>\n      <th>2</th>\n      <td>44575</td>\n      <td>3</td>\n      <td>0.0</td>\n      <td>0.0</td>\n      <td>0.0</td>\n      <td>0.0</td>\n      <td>0.0</td>\n      <td>0.0</td>\n      <td>0.0</td>\n      <td>0.0</td>\n      <td>...</td>\n      <td>0.0</td>\n      <td>0.0</td>\n      <td>0.0</td>\n      <td>0.0</td>\n      <td>0.0</td>\n      <td>0.0</td>\n      <td>0.0</td>\n      <td>0.0</td>\n      <td>0.0</td>\n      <td>0.0</td>\n    </tr>\n    <tr>\n      <th>3</th>\n      <td>29238</td>\n      <td>7</td>\n      <td>0.0</td>\n      <td>0.0</td>\n      <td>0.0</td>\n      <td>0.0</td>\n      <td>0.0</td>\n      <td>0.0</td>\n      <td>0.0</td>\n      <td>0.0</td>\n      <td>...</td>\n      <td>0.0</td>\n      <td>0.0</td>\n      <td>0.0</td>\n      <td>0.0</td>\n      <td>0.0</td>\n      <td>0.0</td>\n      <td>0.0</td>\n      <td>0.0</td>\n      <td>0.0</td>\n      <td>0.0</td>\n    </tr>\n    <tr>\n      <th>4</th>\n      <td>23895</td>\n      <td>2</td>\n      <td>0.0</td>\n      <td>0.0</td>\n      <td>0.0</td>\n      <td>0.0</td>\n      <td>0.0</td>\n      <td>0.0</td>\n      <td>0.0</td>\n      <td>0.0</td>\n      <td>...</td>\n      <td>0.0</td>\n      <td>0.0</td>\n      <td>0.0</td>\n      <td>0.0</td>\n      <td>0.0</td>\n      <td>0.0</td>\n      <td>0.0</td>\n      <td>0.0</td>\n      <td>0.0</td>\n      <td>0.0</td>\n    </tr>\n    <tr>\n      <th>...</th>\n      <td>...</td>\n      <td>...</td>\n      <td>...</td>\n      <td>...</td>\n      <td>...</td>\n      <td>...</td>\n      <td>...</td>\n      <td>...</td>\n      <td>...</td>\n      <td>...</td>\n      <td>...</td>\n      <td>...</td>\n      <td>...</td>\n      <td>...</td>\n      <td>...</td>\n      <td>...</td>\n      <td>...</td>\n      <td>...</td>\n      <td>...</td>\n      <td>...</td>\n      <td>...</td>\n    </tr>\n    <tr>\n      <th>995</th>\n      <td>36645</td>\n      <td>3</td>\n      <td>0.0</td>\n      <td>0.0</td>\n      <td>0.0</td>\n      <td>0.0</td>\n      <td>0.0</td>\n      <td>0.0</td>\n      <td>0.0</td>\n      <td>0.0</td>\n      <td>...</td>\n      <td>0.0</td>\n      <td>0.0</td>\n      <td>0.0</td>\n      <td>0.0</td>\n      <td>0.0</td>\n      <td>0.0</td>\n      <td>0.0</td>\n      <td>0.0</td>\n      <td>0.0</td>\n      <td>0.0</td>\n    </tr>\n    <tr>\n      <th>996</th>\n      <td>55722</td>\n      <td>5</td>\n      <td>0.0</td>\n      <td>0.0</td>\n      <td>0.0</td>\n      <td>0.0</td>\n      <td>0.0</td>\n      <td>0.0</td>\n      <td>0.0</td>\n      <td>0.0</td>\n      <td>...</td>\n      <td>0.0</td>\n      <td>0.0</td>\n      <td>0.0</td>\n      <td>0.0</td>\n      <td>0.0</td>\n      <td>0.0</td>\n      <td>0.0</td>\n      <td>0.0</td>\n      <td>0.0</td>\n      <td>0.0</td>\n    </tr>\n    <tr>\n      <th>997</th>\n      <td>22425</td>\n      <td>6</td>\n      <td>0.0</td>\n      <td>0.0</td>\n      <td>0.0</td>\n      <td>0.0</td>\n      <td>0.0</td>\n      <td>0.0</td>\n      <td>0.0</td>\n      <td>0.0</td>\n      <td>...</td>\n      <td>0.0</td>\n      <td>0.0</td>\n      <td>0.0</td>\n      <td>0.0</td>\n      <td>0.0</td>\n      <td>0.0</td>\n      <td>0.0</td>\n      <td>0.0</td>\n      <td>0.0</td>\n      <td>0.0</td>\n    </tr>\n    <tr>\n      <th>998</th>\n      <td>4888</td>\n      <td>7</td>\n      <td>0.0</td>\n      <td>0.0</td>\n      <td>0.0</td>\n      <td>0.0</td>\n      <td>0.0</td>\n      <td>0.0</td>\n      <td>0.0</td>\n      <td>0.0</td>\n      <td>...</td>\n      <td>0.0</td>\n      <td>0.0</td>\n      <td>0.0</td>\n      <td>0.0</td>\n      <td>0.0</td>\n      <td>0.0</td>\n      <td>0.0</td>\n      <td>0.0</td>\n      <td>0.0</td>\n      <td>0.0</td>\n    </tr>\n    <tr>\n      <th>999</th>\n      <td>54782</td>\n      <td>3</td>\n      <td>0.0</td>\n      <td>0.0</td>\n      <td>0.0</td>\n      <td>0.0</td>\n      <td>0.0</td>\n      <td>0.0</td>\n      <td>0.0</td>\n      <td>0.0</td>\n      <td>...</td>\n      <td>0.0</td>\n      <td>0.0</td>\n      <td>0.0</td>\n      <td>0.0</td>\n      <td>0.0</td>\n      <td>0.0</td>\n      <td>0.0</td>\n      <td>0.0</td>\n      <td>0.0</td>\n      <td>0.0</td>\n    </tr>\n  </tbody>\n</table>\n<p>1000 rows × 786 columns</p>\n</div>"
     },
     "execution_count": 4,
     "metadata": {},
     "output_type": "execute_result"
    }
   ],
   "source": [
    "df_matrix_B"
   ],
   "metadata": {
    "collapsed": false,
    "ExecuteTime": {
     "end_time": "2023-08-03T11:41:48.906398300Z",
     "start_time": "2023-08-03T11:41:48.839739Z"
    }
   },
   "id": "92bce8109d11fee0"
  },
  {
   "cell_type": "code",
   "execution_count": 5,
   "outputs": [],
   "source": [
    "matrix_A = df_matrix_A.drop(df_matrix_A.columns[0], axis=1)"
   ],
   "metadata": {
    "collapsed": false,
    "ExecuteTime": {
     "end_time": "2023-08-03T11:41:48.907395500Z",
     "start_time": "2023-08-03T11:41:48.853702Z"
    }
   },
   "id": "7c114d73e76cf3ab"
  },
  {
   "cell_type": "code",
   "execution_count": 6,
   "outputs": [],
   "source": [
    "# Extract the first column for unique IDs\n",
    "matrix_A_unique_id = matrix_A.iloc[:, 0].to_frame()\n",
    "\n",
    "# Extract the remaining columns for matrix A\n",
    "matrix_A_final = matrix_A.iloc[:, 1:]\n",
    "\n",
    "# Extract the first column for unique IDs\n",
    "matrix_B_unique_id = df_matrix_B.iloc[:, 0].to_frame()\n",
    "\n",
    "# Extract the second column for labels\n",
    "matrix_B_labels = df_matrix_B.iloc[:, 1].to_frame()\n",
    "\n",
    "# Extract the remaining columns for matrix_B_final\n",
    "matrix_B_final = df_matrix_B.iloc[:, 2:]\n"
   ],
   "metadata": {
    "collapsed": false,
    "ExecuteTime": {
     "end_time": "2023-08-03T11:41:48.907395500Z",
     "start_time": "2023-08-03T11:41:48.867583Z"
    }
   },
   "id": "31354666c9170ae8"
  },
  {
   "cell_type": "code",
   "execution_count": 7,
   "outputs": [
    {
     "data": {
      "text/plain": "       0    1         2         3         4         5        6    7    8    9  \\\n0    0.0  0.0  0.000000  0.000000  0.000000  0.000000  0.00000  0.0  0.0  0.0   \n1    0.0  0.0  0.167999  0.000000  0.000000  0.000000  0.00000  0.0  0.0  0.0   \n2    0.0  0.0  0.261611  0.000000  0.000000  0.000000  0.00000  0.0  0.0  0.0   \n3    0.0  0.0  0.000000  0.113122  0.000000  0.000000  0.00000  0.0  0.0  0.0   \n4    0.0  0.0  0.000000  0.000000  0.000000  0.000000  0.00000  0.0  0.0  0.0   \n..   ...  ...       ...       ...       ...       ...      ...  ...  ...  ...   \n995  0.0  0.0  0.000000  0.000000  0.000000  0.000000  0.00000  0.0  0.0  0.0   \n996  0.0  0.0  0.000000  0.024309  0.091598  0.000000  0.00000  0.0  0.0  0.0   \n997  0.0  0.0  0.000000  0.081450  0.000000  0.667701  0.12788  0.0  0.0  0.0   \n998  0.0  0.0  0.000000  0.000000  0.059378  0.000000  0.00000  0.0  0.0  0.0   \n999  0.0  0.0  0.000000  0.000000  0.000000  0.000000  0.00000  0.0  0.0  0.0   \n\n     ...       480       481  482       483       484       485       486  \\\n0    ...  0.000000  0.000000  0.0  0.000000  1.382883  2.454173  1.031379   \n1    ...  0.000000  0.000000  0.0  0.000000  1.405346  2.114978  0.224318   \n2    ...  0.000000  0.000000  0.0  0.000000  1.549804  1.493532  0.000000   \n3    ...  0.000000  0.000000  0.0  0.000000  0.805741  1.049414  0.000000   \n4    ...  1.013467  0.248607  0.0  1.701509  1.226074  1.084966  0.979018   \n..   ...       ...       ...  ...       ...       ...       ...       ...   \n995  ...  0.000000  0.000000  0.0  0.978831  1.879398  2.071823  1.657400   \n996  ...  0.000000  0.000000  0.0  0.478324  1.605705  0.464157  0.000000   \n997  ...  0.000000  0.281685  0.0  0.000000  0.743484  0.683986  1.282767   \n998  ...  0.000000  0.029508  0.0  0.000000  0.586049  1.525309  0.000000   \n999  ...  0.000000  0.000000  0.0  0.000000  1.757233  2.057276  2.200980   \n\n          487       488       489  \n0    0.000000  0.550263  0.000000  \n1    0.000000  0.618283  0.000000  \n2    0.000000  0.418338  0.000000  \n3    0.000000  0.000000  0.000000  \n4    0.452417  0.519728  0.282919  \n..        ...       ...       ...  \n995  0.994686  0.801544  0.000000  \n996  0.000000  0.214895  0.000000  \n997  1.064197  0.172643  0.000000  \n998  0.000000  0.000000  0.000000  \n999  1.002355  0.786718  0.000000  \n\n[1000 rows x 490 columns]",
      "text/html": "<div>\n<style scoped>\n    .dataframe tbody tr th:only-of-type {\n        vertical-align: middle;\n    }\n\n    .dataframe tbody tr th {\n        vertical-align: top;\n    }\n\n    .dataframe thead th {\n        text-align: right;\n    }\n</style>\n<table border=\"1\" class=\"dataframe\">\n  <thead>\n    <tr style=\"text-align: right;\">\n      <th></th>\n      <th>0</th>\n      <th>1</th>\n      <th>2</th>\n      <th>3</th>\n      <th>4</th>\n      <th>5</th>\n      <th>6</th>\n      <th>7</th>\n      <th>8</th>\n      <th>9</th>\n      <th>...</th>\n      <th>480</th>\n      <th>481</th>\n      <th>482</th>\n      <th>483</th>\n      <th>484</th>\n      <th>485</th>\n      <th>486</th>\n      <th>487</th>\n      <th>488</th>\n      <th>489</th>\n    </tr>\n  </thead>\n  <tbody>\n    <tr>\n      <th>0</th>\n      <td>0.0</td>\n      <td>0.0</td>\n      <td>0.000000</td>\n      <td>0.000000</td>\n      <td>0.000000</td>\n      <td>0.000000</td>\n      <td>0.00000</td>\n      <td>0.0</td>\n      <td>0.0</td>\n      <td>0.0</td>\n      <td>...</td>\n      <td>0.000000</td>\n      <td>0.000000</td>\n      <td>0.0</td>\n      <td>0.000000</td>\n      <td>1.382883</td>\n      <td>2.454173</td>\n      <td>1.031379</td>\n      <td>0.000000</td>\n      <td>0.550263</td>\n      <td>0.000000</td>\n    </tr>\n    <tr>\n      <th>1</th>\n      <td>0.0</td>\n      <td>0.0</td>\n      <td>0.167999</td>\n      <td>0.000000</td>\n      <td>0.000000</td>\n      <td>0.000000</td>\n      <td>0.00000</td>\n      <td>0.0</td>\n      <td>0.0</td>\n      <td>0.0</td>\n      <td>...</td>\n      <td>0.000000</td>\n      <td>0.000000</td>\n      <td>0.0</td>\n      <td>0.000000</td>\n      <td>1.405346</td>\n      <td>2.114978</td>\n      <td>0.224318</td>\n      <td>0.000000</td>\n      <td>0.618283</td>\n      <td>0.000000</td>\n    </tr>\n    <tr>\n      <th>2</th>\n      <td>0.0</td>\n      <td>0.0</td>\n      <td>0.261611</td>\n      <td>0.000000</td>\n      <td>0.000000</td>\n      <td>0.000000</td>\n      <td>0.00000</td>\n      <td>0.0</td>\n      <td>0.0</td>\n      <td>0.0</td>\n      <td>...</td>\n      <td>0.000000</td>\n      <td>0.000000</td>\n      <td>0.0</td>\n      <td>0.000000</td>\n      <td>1.549804</td>\n      <td>1.493532</td>\n      <td>0.000000</td>\n      <td>0.000000</td>\n      <td>0.418338</td>\n      <td>0.000000</td>\n    </tr>\n    <tr>\n      <th>3</th>\n      <td>0.0</td>\n      <td>0.0</td>\n      <td>0.000000</td>\n      <td>0.113122</td>\n      <td>0.000000</td>\n      <td>0.000000</td>\n      <td>0.00000</td>\n      <td>0.0</td>\n      <td>0.0</td>\n      <td>0.0</td>\n      <td>...</td>\n      <td>0.000000</td>\n      <td>0.000000</td>\n      <td>0.0</td>\n      <td>0.000000</td>\n      <td>0.805741</td>\n      <td>1.049414</td>\n      <td>0.000000</td>\n      <td>0.000000</td>\n      <td>0.000000</td>\n      <td>0.000000</td>\n    </tr>\n    <tr>\n      <th>4</th>\n      <td>0.0</td>\n      <td>0.0</td>\n      <td>0.000000</td>\n      <td>0.000000</td>\n      <td>0.000000</td>\n      <td>0.000000</td>\n      <td>0.00000</td>\n      <td>0.0</td>\n      <td>0.0</td>\n      <td>0.0</td>\n      <td>...</td>\n      <td>1.013467</td>\n      <td>0.248607</td>\n      <td>0.0</td>\n      <td>1.701509</td>\n      <td>1.226074</td>\n      <td>1.084966</td>\n      <td>0.979018</td>\n      <td>0.452417</td>\n      <td>0.519728</td>\n      <td>0.282919</td>\n    </tr>\n    <tr>\n      <th>...</th>\n      <td>...</td>\n      <td>...</td>\n      <td>...</td>\n      <td>...</td>\n      <td>...</td>\n      <td>...</td>\n      <td>...</td>\n      <td>...</td>\n      <td>...</td>\n      <td>...</td>\n      <td>...</td>\n      <td>...</td>\n      <td>...</td>\n      <td>...</td>\n      <td>...</td>\n      <td>...</td>\n      <td>...</td>\n      <td>...</td>\n      <td>...</td>\n      <td>...</td>\n      <td>...</td>\n    </tr>\n    <tr>\n      <th>995</th>\n      <td>0.0</td>\n      <td>0.0</td>\n      <td>0.000000</td>\n      <td>0.000000</td>\n      <td>0.000000</td>\n      <td>0.000000</td>\n      <td>0.00000</td>\n      <td>0.0</td>\n      <td>0.0</td>\n      <td>0.0</td>\n      <td>...</td>\n      <td>0.000000</td>\n      <td>0.000000</td>\n      <td>0.0</td>\n      <td>0.978831</td>\n      <td>1.879398</td>\n      <td>2.071823</td>\n      <td>1.657400</td>\n      <td>0.994686</td>\n      <td>0.801544</td>\n      <td>0.000000</td>\n    </tr>\n    <tr>\n      <th>996</th>\n      <td>0.0</td>\n      <td>0.0</td>\n      <td>0.000000</td>\n      <td>0.024309</td>\n      <td>0.091598</td>\n      <td>0.000000</td>\n      <td>0.00000</td>\n      <td>0.0</td>\n      <td>0.0</td>\n      <td>0.0</td>\n      <td>...</td>\n      <td>0.000000</td>\n      <td>0.000000</td>\n      <td>0.0</td>\n      <td>0.478324</td>\n      <td>1.605705</td>\n      <td>0.464157</td>\n      <td>0.000000</td>\n      <td>0.000000</td>\n      <td>0.214895</td>\n      <td>0.000000</td>\n    </tr>\n    <tr>\n      <th>997</th>\n      <td>0.0</td>\n      <td>0.0</td>\n      <td>0.000000</td>\n      <td>0.081450</td>\n      <td>0.000000</td>\n      <td>0.667701</td>\n      <td>0.12788</td>\n      <td>0.0</td>\n      <td>0.0</td>\n      <td>0.0</td>\n      <td>...</td>\n      <td>0.000000</td>\n      <td>0.281685</td>\n      <td>0.0</td>\n      <td>0.000000</td>\n      <td>0.743484</td>\n      <td>0.683986</td>\n      <td>1.282767</td>\n      <td>1.064197</td>\n      <td>0.172643</td>\n      <td>0.000000</td>\n    </tr>\n    <tr>\n      <th>998</th>\n      <td>0.0</td>\n      <td>0.0</td>\n      <td>0.000000</td>\n      <td>0.000000</td>\n      <td>0.059378</td>\n      <td>0.000000</td>\n      <td>0.00000</td>\n      <td>0.0</td>\n      <td>0.0</td>\n      <td>0.0</td>\n      <td>...</td>\n      <td>0.000000</td>\n      <td>0.029508</td>\n      <td>0.0</td>\n      <td>0.000000</td>\n      <td>0.586049</td>\n      <td>1.525309</td>\n      <td>0.000000</td>\n      <td>0.000000</td>\n      <td>0.000000</td>\n      <td>0.000000</td>\n    </tr>\n    <tr>\n      <th>999</th>\n      <td>0.0</td>\n      <td>0.0</td>\n      <td>0.000000</td>\n      <td>0.000000</td>\n      <td>0.000000</td>\n      <td>0.000000</td>\n      <td>0.00000</td>\n      <td>0.0</td>\n      <td>0.0</td>\n      <td>0.0</td>\n      <td>...</td>\n      <td>0.000000</td>\n      <td>0.000000</td>\n      <td>0.0</td>\n      <td>0.000000</td>\n      <td>1.757233</td>\n      <td>2.057276</td>\n      <td>2.200980</td>\n      <td>1.002355</td>\n      <td>0.786718</td>\n      <td>0.000000</td>\n    </tr>\n  </tbody>\n</table>\n<p>1000 rows × 490 columns</p>\n</div>"
     },
     "execution_count": 7,
     "metadata": {},
     "output_type": "execute_result"
    }
   ],
   "source": [
    "matrix_A_final"
   ],
   "metadata": {
    "collapsed": false,
    "ExecuteTime": {
     "end_time": "2023-08-03T11:41:48.976212300Z",
     "start_time": "2023-08-03T11:41:48.883510700Z"
    }
   },
   "id": "7931ead2dd08b145"
  },
  {
   "cell_type": "code",
   "execution_count": 8,
   "outputs": [
    {
     "data": {
      "text/plain": "     pixel0  pixel1  pixel2  pixel3  pixel4  pixel5  pixel6  pixel7  pixel8  \\\n0       0.0     0.0     0.0     0.0     0.0     0.0     0.0     0.0     0.0   \n1       0.0     0.0     0.0     0.0     0.0     0.0     0.0     0.0     0.0   \n2       0.0     0.0     0.0     0.0     0.0     0.0     0.0     0.0     0.0   \n3       0.0     0.0     0.0     0.0     0.0     0.0     0.0     0.0     0.0   \n4       0.0     0.0     0.0     0.0     0.0     0.0     0.0     0.0     0.0   \n..      ...     ...     ...     ...     ...     ...     ...     ...     ...   \n995     0.0     0.0     0.0     0.0     0.0     0.0     0.0     0.0     0.0   \n996     0.0     0.0     0.0     0.0     0.0     0.0     0.0     0.0     0.0   \n997     0.0     0.0     0.0     0.0     0.0     0.0     0.0     0.0     0.0   \n998     0.0     0.0     0.0     0.0     0.0     0.0     0.0     0.0     0.0   \n999     0.0     0.0     0.0     0.0     0.0     0.0     0.0     0.0     0.0   \n\n     pixel9  ...  pixel774  pixel775  pixel776  pixel777  pixel778  pixel779  \\\n0       0.0  ...       0.0       0.0       0.0       0.0       0.0       0.0   \n1       0.0  ...       0.0       0.0       0.0       0.0       0.0       0.0   \n2       0.0  ...       0.0       0.0       0.0       0.0       0.0       0.0   \n3       0.0  ...       0.0       0.0       0.0       0.0       0.0       0.0   \n4       0.0  ...       0.0       0.0       0.0       0.0       0.0       0.0   \n..      ...  ...       ...       ...       ...       ...       ...       ...   \n995     0.0  ...       0.0       0.0       0.0       0.0       0.0       0.0   \n996     0.0  ...       0.0       0.0       0.0       0.0       0.0       0.0   \n997     0.0  ...       0.0       0.0       0.0       0.0       0.0       0.0   \n998     0.0  ...       0.0       0.0       0.0       0.0       0.0       0.0   \n999     0.0  ...       0.0       0.0       0.0       0.0       0.0       0.0   \n\n     pixel780  pixel781  pixel782  pixel783  \n0         0.0       0.0       0.0       0.0  \n1         0.0       0.0       0.0       0.0  \n2         0.0       0.0       0.0       0.0  \n3         0.0       0.0       0.0       0.0  \n4         0.0       0.0       0.0       0.0  \n..        ...       ...       ...       ...  \n995       0.0       0.0       0.0       0.0  \n996       0.0       0.0       0.0       0.0  \n997       0.0       0.0       0.0       0.0  \n998       0.0       0.0       0.0       0.0  \n999       0.0       0.0       0.0       0.0  \n\n[1000 rows x 784 columns]",
      "text/html": "<div>\n<style scoped>\n    .dataframe tbody tr th:only-of-type {\n        vertical-align: middle;\n    }\n\n    .dataframe tbody tr th {\n        vertical-align: top;\n    }\n\n    .dataframe thead th {\n        text-align: right;\n    }\n</style>\n<table border=\"1\" class=\"dataframe\">\n  <thead>\n    <tr style=\"text-align: right;\">\n      <th></th>\n      <th>pixel0</th>\n      <th>pixel1</th>\n      <th>pixel2</th>\n      <th>pixel3</th>\n      <th>pixel4</th>\n      <th>pixel5</th>\n      <th>pixel6</th>\n      <th>pixel7</th>\n      <th>pixel8</th>\n      <th>pixel9</th>\n      <th>...</th>\n      <th>pixel774</th>\n      <th>pixel775</th>\n      <th>pixel776</th>\n      <th>pixel777</th>\n      <th>pixel778</th>\n      <th>pixel779</th>\n      <th>pixel780</th>\n      <th>pixel781</th>\n      <th>pixel782</th>\n      <th>pixel783</th>\n    </tr>\n  </thead>\n  <tbody>\n    <tr>\n      <th>0</th>\n      <td>0.0</td>\n      <td>0.0</td>\n      <td>0.0</td>\n      <td>0.0</td>\n      <td>0.0</td>\n      <td>0.0</td>\n      <td>0.0</td>\n      <td>0.0</td>\n      <td>0.0</td>\n      <td>0.0</td>\n      <td>...</td>\n      <td>0.0</td>\n      <td>0.0</td>\n      <td>0.0</td>\n      <td>0.0</td>\n      <td>0.0</td>\n      <td>0.0</td>\n      <td>0.0</td>\n      <td>0.0</td>\n      <td>0.0</td>\n      <td>0.0</td>\n    </tr>\n    <tr>\n      <th>1</th>\n      <td>0.0</td>\n      <td>0.0</td>\n      <td>0.0</td>\n      <td>0.0</td>\n      <td>0.0</td>\n      <td>0.0</td>\n      <td>0.0</td>\n      <td>0.0</td>\n      <td>0.0</td>\n      <td>0.0</td>\n      <td>...</td>\n      <td>0.0</td>\n      <td>0.0</td>\n      <td>0.0</td>\n      <td>0.0</td>\n      <td>0.0</td>\n      <td>0.0</td>\n      <td>0.0</td>\n      <td>0.0</td>\n      <td>0.0</td>\n      <td>0.0</td>\n    </tr>\n    <tr>\n      <th>2</th>\n      <td>0.0</td>\n      <td>0.0</td>\n      <td>0.0</td>\n      <td>0.0</td>\n      <td>0.0</td>\n      <td>0.0</td>\n      <td>0.0</td>\n      <td>0.0</td>\n      <td>0.0</td>\n      <td>0.0</td>\n      <td>...</td>\n      <td>0.0</td>\n      <td>0.0</td>\n      <td>0.0</td>\n      <td>0.0</td>\n      <td>0.0</td>\n      <td>0.0</td>\n      <td>0.0</td>\n      <td>0.0</td>\n      <td>0.0</td>\n      <td>0.0</td>\n    </tr>\n    <tr>\n      <th>3</th>\n      <td>0.0</td>\n      <td>0.0</td>\n      <td>0.0</td>\n      <td>0.0</td>\n      <td>0.0</td>\n      <td>0.0</td>\n      <td>0.0</td>\n      <td>0.0</td>\n      <td>0.0</td>\n      <td>0.0</td>\n      <td>...</td>\n      <td>0.0</td>\n      <td>0.0</td>\n      <td>0.0</td>\n      <td>0.0</td>\n      <td>0.0</td>\n      <td>0.0</td>\n      <td>0.0</td>\n      <td>0.0</td>\n      <td>0.0</td>\n      <td>0.0</td>\n    </tr>\n    <tr>\n      <th>4</th>\n      <td>0.0</td>\n      <td>0.0</td>\n      <td>0.0</td>\n      <td>0.0</td>\n      <td>0.0</td>\n      <td>0.0</td>\n      <td>0.0</td>\n      <td>0.0</td>\n      <td>0.0</td>\n      <td>0.0</td>\n      <td>...</td>\n      <td>0.0</td>\n      <td>0.0</td>\n      <td>0.0</td>\n      <td>0.0</td>\n      <td>0.0</td>\n      <td>0.0</td>\n      <td>0.0</td>\n      <td>0.0</td>\n      <td>0.0</td>\n      <td>0.0</td>\n    </tr>\n    <tr>\n      <th>...</th>\n      <td>...</td>\n      <td>...</td>\n      <td>...</td>\n      <td>...</td>\n      <td>...</td>\n      <td>...</td>\n      <td>...</td>\n      <td>...</td>\n      <td>...</td>\n      <td>...</td>\n      <td>...</td>\n      <td>...</td>\n      <td>...</td>\n      <td>...</td>\n      <td>...</td>\n      <td>...</td>\n      <td>...</td>\n      <td>...</td>\n      <td>...</td>\n      <td>...</td>\n      <td>...</td>\n    </tr>\n    <tr>\n      <th>995</th>\n      <td>0.0</td>\n      <td>0.0</td>\n      <td>0.0</td>\n      <td>0.0</td>\n      <td>0.0</td>\n      <td>0.0</td>\n      <td>0.0</td>\n      <td>0.0</td>\n      <td>0.0</td>\n      <td>0.0</td>\n      <td>...</td>\n      <td>0.0</td>\n      <td>0.0</td>\n      <td>0.0</td>\n      <td>0.0</td>\n      <td>0.0</td>\n      <td>0.0</td>\n      <td>0.0</td>\n      <td>0.0</td>\n      <td>0.0</td>\n      <td>0.0</td>\n    </tr>\n    <tr>\n      <th>996</th>\n      <td>0.0</td>\n      <td>0.0</td>\n      <td>0.0</td>\n      <td>0.0</td>\n      <td>0.0</td>\n      <td>0.0</td>\n      <td>0.0</td>\n      <td>0.0</td>\n      <td>0.0</td>\n      <td>0.0</td>\n      <td>...</td>\n      <td>0.0</td>\n      <td>0.0</td>\n      <td>0.0</td>\n      <td>0.0</td>\n      <td>0.0</td>\n      <td>0.0</td>\n      <td>0.0</td>\n      <td>0.0</td>\n      <td>0.0</td>\n      <td>0.0</td>\n    </tr>\n    <tr>\n      <th>997</th>\n      <td>0.0</td>\n      <td>0.0</td>\n      <td>0.0</td>\n      <td>0.0</td>\n      <td>0.0</td>\n      <td>0.0</td>\n      <td>0.0</td>\n      <td>0.0</td>\n      <td>0.0</td>\n      <td>0.0</td>\n      <td>...</td>\n      <td>0.0</td>\n      <td>0.0</td>\n      <td>0.0</td>\n      <td>0.0</td>\n      <td>0.0</td>\n      <td>0.0</td>\n      <td>0.0</td>\n      <td>0.0</td>\n      <td>0.0</td>\n      <td>0.0</td>\n    </tr>\n    <tr>\n      <th>998</th>\n      <td>0.0</td>\n      <td>0.0</td>\n      <td>0.0</td>\n      <td>0.0</td>\n      <td>0.0</td>\n      <td>0.0</td>\n      <td>0.0</td>\n      <td>0.0</td>\n      <td>0.0</td>\n      <td>0.0</td>\n      <td>...</td>\n      <td>0.0</td>\n      <td>0.0</td>\n      <td>0.0</td>\n      <td>0.0</td>\n      <td>0.0</td>\n      <td>0.0</td>\n      <td>0.0</td>\n      <td>0.0</td>\n      <td>0.0</td>\n      <td>0.0</td>\n    </tr>\n    <tr>\n      <th>999</th>\n      <td>0.0</td>\n      <td>0.0</td>\n      <td>0.0</td>\n      <td>0.0</td>\n      <td>0.0</td>\n      <td>0.0</td>\n      <td>0.0</td>\n      <td>0.0</td>\n      <td>0.0</td>\n      <td>0.0</td>\n      <td>...</td>\n      <td>0.0</td>\n      <td>0.0</td>\n      <td>0.0</td>\n      <td>0.0</td>\n      <td>0.0</td>\n      <td>0.0</td>\n      <td>0.0</td>\n      <td>0.0</td>\n      <td>0.0</td>\n      <td>0.0</td>\n    </tr>\n  </tbody>\n</table>\n<p>1000 rows × 784 columns</p>\n</div>"
     },
     "execution_count": 8,
     "metadata": {},
     "output_type": "execute_result"
    }
   ],
   "source": [
    "matrix_B_final"
   ],
   "metadata": {
    "collapsed": false,
    "ExecuteTime": {
     "end_time": "2023-08-03T11:41:49.009123700Z",
     "start_time": "2023-08-03T11:41:48.925347400Z"
    }
   },
   "id": "c063b7dff2dc3030"
  },
  {
   "cell_type": "code",
   "execution_count": 9,
   "outputs": [],
   "source": [
    "# Test matrices A\n",
    "\n",
    "# matrix_A_final = [[3, -2, -3, 1.5, 0.6],\n",
    "#                   [-1, -3, 1.5, 0.6, 1],\n",
    "#                   [1, -1, 0.844444444, -0.444444444, -3]]\n",
    "\n",
    "# matrix_A_final = [[2.80, -1.80, -2.80, 1.30, 0.40],\n",
    "#                   [3.00, -2.00, -3.00, 1.50, 0.60],\n",
    "#                   [3.20, -2.20, -3.20, 1.70, 0.80],\n",
    "#                   [-1.60, -2.50, 1.50, 0.20, 0.60],\n",
    "#                   [-1.00, -3.00, 1.50, 0.60, 1.00],\n",
    "#                   [-0.50, -3.50, 1.90, 1.00, 1.40],\n",
    "#                   [1.20, -1.20, 0.70, -0.30, -2.80],\n",
    "#                   [1.00, -1.00, 0.84, -0.44, -3.00],\n",
    "#                   [0.80, -0.80, 0.90, -0.50, -3.20]]\n",
    "\n",
    "# matrix_A_final = [[-1.827506713, -2.57210291],\n",
    "#                   [-1.805637206, -2.789008261],\n",
    "#                   [-1.812439839, -2.99995456],\n",
    "#                   [-2.035782748, -2.999989808],\n",
    "#                   [-2.225907357, -2.999830184],\n",
    "#                   [2.151465808, 2.349428929],\n",
    "#                   [2.146415535, 1.848879366],\n",
    "#                   [2.335563856, 1.572769993],\n",
    "#                   [2.512780867, 1.350090422],\n",
    "#                   [2.808853361, 1.168351448],\n",
    "#                   [-2.397040617, 2.674381769],\n",
    "#                   [-2.415455455, 2.889854745],\n",
    "#                   [-2.508854802, 2.999784436],\n",
    "#                   [-2.621571267, 2.999927152],\n",
    "#                   [-2.71963759, 2.998711285]]\n"
   ],
   "metadata": {
    "collapsed": false,
    "ExecuteTime": {
     "end_time": "2023-08-03T11:41:49.010120800Z",
     "start_time": "2023-08-03T11:41:48.947289Z"
    }
   },
   "id": "fc0fe0239e982d57"
  },
  {
   "cell_type": "code",
   "execution_count": 10,
   "outputs": [],
   "source": [
    "# Test matrices B\n",
    "# matrix_B_final = [[-1.843907868, 1.99818664, -1.912855282, -1.97511053],\n",
    "#                   [1.992023578, -1.923804827, 0.706593926, -1.543784398],\n",
    "#                   [1.107744254, 1.615475549, 1.723582196, 1.807614602]]\n",
    "\n",
    "# matrix_B_final = [[-1.979394104, 1.959307524, -1.381119943, -1.729640979],\n",
    "#                   [-1.843907868, 1.99818664, -1.912855282, -1.97511053],\n",
    "#                   [-1.999365095, 1.998896097, -1.999605076, -1.998916765],\n",
    "#                   [1.997775859, -1.844000202, 1.660111333, -1.373532039],\n",
    "#                   [1.992023578, -1.923804827, 0.706593926, -1.543784398],\n",
    "#                   [1.997854305, -1.999410881, -0.243400633, -1.827587263],\n",
    "#                   [0.851626415, 1.574201387, 1.581026838, 1.573934081],\n",
    "#                   [1.107744254, 1.615475549, 1.723582196, 1.807614602],\n",
    "#                   [1.290406093, 1.695289797, 1.953503509, 1.946250271]]\n",
    "\n",
    "# matrix_B_final = [[2.8, -1.8, -2.8, 1.3, 0.4],\n",
    "#                   [2.9, -1.9, -2.9, 1.4, 0.5],\n",
    "#                   [3, -2, -3, 1.5, 0.6],\n",
    "#                   [3.1, -2.1, -3.1, 1.6, 0.7],\n",
    "#                   [3.2, -2.2, -3.2, 1.7, 0.8],\n",
    "#                   [-1.6, -2.5, 1.5, 0.2, 0.6],\n",
    "#                   [-1.3, -2.7, 1.3, 0.4, 0.8],\n",
    "#                   [-1, -3, 1.5, 0.6, 1],\n",
    "#                   [-0.7, -3.2, 1.7, 0.8, 1.2],\n",
    "#                   [-0.5, -3.5, 1.9, 1, 1.4],\n",
    "#                   [1.2, -1.2, 0.7, -0.3, -2.8],\n",
    "#                   [1.1, -1.1, 0.8, -0.4, -2.9],\n",
    "#                   [1, -1, 0.844444444, -0.444444444, -3],\n",
    "#                   [0.9, -0.9, 0.85, -0.45, -3.1],\n",
    "#                   [0.8, -0.8, 0.9, -0.5, -3.2]]\n"
   ],
   "metadata": {
    "collapsed": false,
    "ExecuteTime": {
     "end_time": "2023-08-03T11:41:49.010120800Z",
     "start_time": "2023-08-03T11:41:48.962248800Z"
    }
   },
   "id": "54b68cd7a0fd0ec2"
  },
  {
   "cell_type": "code",
   "execution_count": 11,
   "outputs": [],
   "source": [
    "df_matrix_A_final = pd.DataFrame(matrix_A_final)"
   ],
   "metadata": {
    "collapsed": false,
    "ExecuteTime": {
     "end_time": "2023-08-03T11:41:49.011118500Z",
     "start_time": "2023-08-03T11:41:48.977209Z"
    }
   },
   "id": "94815f13d3a95431"
  },
  {
   "cell_type": "code",
   "execution_count": 12,
   "outputs": [
    {
     "data": {
      "text/plain": "       0    1         2         3         4         5        6    7    8    9  \\\n0    0.0  0.0  0.000000  0.000000  0.000000  0.000000  0.00000  0.0  0.0  0.0   \n1    0.0  0.0  0.167999  0.000000  0.000000  0.000000  0.00000  0.0  0.0  0.0   \n2    0.0  0.0  0.261611  0.000000  0.000000  0.000000  0.00000  0.0  0.0  0.0   \n3    0.0  0.0  0.000000  0.113122  0.000000  0.000000  0.00000  0.0  0.0  0.0   \n4    0.0  0.0  0.000000  0.000000  0.000000  0.000000  0.00000  0.0  0.0  0.0   \n..   ...  ...       ...       ...       ...       ...      ...  ...  ...  ...   \n995  0.0  0.0  0.000000  0.000000  0.000000  0.000000  0.00000  0.0  0.0  0.0   \n996  0.0  0.0  0.000000  0.024309  0.091598  0.000000  0.00000  0.0  0.0  0.0   \n997  0.0  0.0  0.000000  0.081450  0.000000  0.667701  0.12788  0.0  0.0  0.0   \n998  0.0  0.0  0.000000  0.000000  0.059378  0.000000  0.00000  0.0  0.0  0.0   \n999  0.0  0.0  0.000000  0.000000  0.000000  0.000000  0.00000  0.0  0.0  0.0   \n\n     ...       480       481  482       483       484       485       486  \\\n0    ...  0.000000  0.000000  0.0  0.000000  1.382883  2.454173  1.031379   \n1    ...  0.000000  0.000000  0.0  0.000000  1.405346  2.114978  0.224318   \n2    ...  0.000000  0.000000  0.0  0.000000  1.549804  1.493532  0.000000   \n3    ...  0.000000  0.000000  0.0  0.000000  0.805741  1.049414  0.000000   \n4    ...  1.013467  0.248607  0.0  1.701509  1.226074  1.084966  0.979018   \n..   ...       ...       ...  ...       ...       ...       ...       ...   \n995  ...  0.000000  0.000000  0.0  0.978831  1.879398  2.071823  1.657400   \n996  ...  0.000000  0.000000  0.0  0.478324  1.605705  0.464157  0.000000   \n997  ...  0.000000  0.281685  0.0  0.000000  0.743484  0.683986  1.282767   \n998  ...  0.000000  0.029508  0.0  0.000000  0.586049  1.525309  0.000000   \n999  ...  0.000000  0.000000  0.0  0.000000  1.757233  2.057276  2.200980   \n\n          487       488       489  \n0    0.000000  0.550263  0.000000  \n1    0.000000  0.618283  0.000000  \n2    0.000000  0.418338  0.000000  \n3    0.000000  0.000000  0.000000  \n4    0.452417  0.519728  0.282919  \n..        ...       ...       ...  \n995  0.994686  0.801544  0.000000  \n996  0.000000  0.214895  0.000000  \n997  1.064197  0.172643  0.000000  \n998  0.000000  0.000000  0.000000  \n999  1.002355  0.786718  0.000000  \n\n[1000 rows x 490 columns]",
      "text/html": "<div>\n<style scoped>\n    .dataframe tbody tr th:only-of-type {\n        vertical-align: middle;\n    }\n\n    .dataframe tbody tr th {\n        vertical-align: top;\n    }\n\n    .dataframe thead th {\n        text-align: right;\n    }\n</style>\n<table border=\"1\" class=\"dataframe\">\n  <thead>\n    <tr style=\"text-align: right;\">\n      <th></th>\n      <th>0</th>\n      <th>1</th>\n      <th>2</th>\n      <th>3</th>\n      <th>4</th>\n      <th>5</th>\n      <th>6</th>\n      <th>7</th>\n      <th>8</th>\n      <th>9</th>\n      <th>...</th>\n      <th>480</th>\n      <th>481</th>\n      <th>482</th>\n      <th>483</th>\n      <th>484</th>\n      <th>485</th>\n      <th>486</th>\n      <th>487</th>\n      <th>488</th>\n      <th>489</th>\n    </tr>\n  </thead>\n  <tbody>\n    <tr>\n      <th>0</th>\n      <td>0.0</td>\n      <td>0.0</td>\n      <td>0.000000</td>\n      <td>0.000000</td>\n      <td>0.000000</td>\n      <td>0.000000</td>\n      <td>0.00000</td>\n      <td>0.0</td>\n      <td>0.0</td>\n      <td>0.0</td>\n      <td>...</td>\n      <td>0.000000</td>\n      <td>0.000000</td>\n      <td>0.0</td>\n      <td>0.000000</td>\n      <td>1.382883</td>\n      <td>2.454173</td>\n      <td>1.031379</td>\n      <td>0.000000</td>\n      <td>0.550263</td>\n      <td>0.000000</td>\n    </tr>\n    <tr>\n      <th>1</th>\n      <td>0.0</td>\n      <td>0.0</td>\n      <td>0.167999</td>\n      <td>0.000000</td>\n      <td>0.000000</td>\n      <td>0.000000</td>\n      <td>0.00000</td>\n      <td>0.0</td>\n      <td>0.0</td>\n      <td>0.0</td>\n      <td>...</td>\n      <td>0.000000</td>\n      <td>0.000000</td>\n      <td>0.0</td>\n      <td>0.000000</td>\n      <td>1.405346</td>\n      <td>2.114978</td>\n      <td>0.224318</td>\n      <td>0.000000</td>\n      <td>0.618283</td>\n      <td>0.000000</td>\n    </tr>\n    <tr>\n      <th>2</th>\n      <td>0.0</td>\n      <td>0.0</td>\n      <td>0.261611</td>\n      <td>0.000000</td>\n      <td>0.000000</td>\n      <td>0.000000</td>\n      <td>0.00000</td>\n      <td>0.0</td>\n      <td>0.0</td>\n      <td>0.0</td>\n      <td>...</td>\n      <td>0.000000</td>\n      <td>0.000000</td>\n      <td>0.0</td>\n      <td>0.000000</td>\n      <td>1.549804</td>\n      <td>1.493532</td>\n      <td>0.000000</td>\n      <td>0.000000</td>\n      <td>0.418338</td>\n      <td>0.000000</td>\n    </tr>\n    <tr>\n      <th>3</th>\n      <td>0.0</td>\n      <td>0.0</td>\n      <td>0.000000</td>\n      <td>0.113122</td>\n      <td>0.000000</td>\n      <td>0.000000</td>\n      <td>0.00000</td>\n      <td>0.0</td>\n      <td>0.0</td>\n      <td>0.0</td>\n      <td>...</td>\n      <td>0.000000</td>\n      <td>0.000000</td>\n      <td>0.0</td>\n      <td>0.000000</td>\n      <td>0.805741</td>\n      <td>1.049414</td>\n      <td>0.000000</td>\n      <td>0.000000</td>\n      <td>0.000000</td>\n      <td>0.000000</td>\n    </tr>\n    <tr>\n      <th>4</th>\n      <td>0.0</td>\n      <td>0.0</td>\n      <td>0.000000</td>\n      <td>0.000000</td>\n      <td>0.000000</td>\n      <td>0.000000</td>\n      <td>0.00000</td>\n      <td>0.0</td>\n      <td>0.0</td>\n      <td>0.0</td>\n      <td>...</td>\n      <td>1.013467</td>\n      <td>0.248607</td>\n      <td>0.0</td>\n      <td>1.701509</td>\n      <td>1.226074</td>\n      <td>1.084966</td>\n      <td>0.979018</td>\n      <td>0.452417</td>\n      <td>0.519728</td>\n      <td>0.282919</td>\n    </tr>\n    <tr>\n      <th>...</th>\n      <td>...</td>\n      <td>...</td>\n      <td>...</td>\n      <td>...</td>\n      <td>...</td>\n      <td>...</td>\n      <td>...</td>\n      <td>...</td>\n      <td>...</td>\n      <td>...</td>\n      <td>...</td>\n      <td>...</td>\n      <td>...</td>\n      <td>...</td>\n      <td>...</td>\n      <td>...</td>\n      <td>...</td>\n      <td>...</td>\n      <td>...</td>\n      <td>...</td>\n      <td>...</td>\n    </tr>\n    <tr>\n      <th>995</th>\n      <td>0.0</td>\n      <td>0.0</td>\n      <td>0.000000</td>\n      <td>0.000000</td>\n      <td>0.000000</td>\n      <td>0.000000</td>\n      <td>0.00000</td>\n      <td>0.0</td>\n      <td>0.0</td>\n      <td>0.0</td>\n      <td>...</td>\n      <td>0.000000</td>\n      <td>0.000000</td>\n      <td>0.0</td>\n      <td>0.978831</td>\n      <td>1.879398</td>\n      <td>2.071823</td>\n      <td>1.657400</td>\n      <td>0.994686</td>\n      <td>0.801544</td>\n      <td>0.000000</td>\n    </tr>\n    <tr>\n      <th>996</th>\n      <td>0.0</td>\n      <td>0.0</td>\n      <td>0.000000</td>\n      <td>0.024309</td>\n      <td>0.091598</td>\n      <td>0.000000</td>\n      <td>0.00000</td>\n      <td>0.0</td>\n      <td>0.0</td>\n      <td>0.0</td>\n      <td>...</td>\n      <td>0.000000</td>\n      <td>0.000000</td>\n      <td>0.0</td>\n      <td>0.478324</td>\n      <td>1.605705</td>\n      <td>0.464157</td>\n      <td>0.000000</td>\n      <td>0.000000</td>\n      <td>0.214895</td>\n      <td>0.000000</td>\n    </tr>\n    <tr>\n      <th>997</th>\n      <td>0.0</td>\n      <td>0.0</td>\n      <td>0.000000</td>\n      <td>0.081450</td>\n      <td>0.000000</td>\n      <td>0.667701</td>\n      <td>0.12788</td>\n      <td>0.0</td>\n      <td>0.0</td>\n      <td>0.0</td>\n      <td>...</td>\n      <td>0.000000</td>\n      <td>0.281685</td>\n      <td>0.0</td>\n      <td>0.000000</td>\n      <td>0.743484</td>\n      <td>0.683986</td>\n      <td>1.282767</td>\n      <td>1.064197</td>\n      <td>0.172643</td>\n      <td>0.000000</td>\n    </tr>\n    <tr>\n      <th>998</th>\n      <td>0.0</td>\n      <td>0.0</td>\n      <td>0.000000</td>\n      <td>0.000000</td>\n      <td>0.059378</td>\n      <td>0.000000</td>\n      <td>0.00000</td>\n      <td>0.0</td>\n      <td>0.0</td>\n      <td>0.0</td>\n      <td>...</td>\n      <td>0.000000</td>\n      <td>0.029508</td>\n      <td>0.0</td>\n      <td>0.000000</td>\n      <td>0.586049</td>\n      <td>1.525309</td>\n      <td>0.000000</td>\n      <td>0.000000</td>\n      <td>0.000000</td>\n      <td>0.000000</td>\n    </tr>\n    <tr>\n      <th>999</th>\n      <td>0.0</td>\n      <td>0.0</td>\n      <td>0.000000</td>\n      <td>0.000000</td>\n      <td>0.000000</td>\n      <td>0.000000</td>\n      <td>0.00000</td>\n      <td>0.0</td>\n      <td>0.0</td>\n      <td>0.0</td>\n      <td>...</td>\n      <td>0.000000</td>\n      <td>0.000000</td>\n      <td>0.0</td>\n      <td>0.000000</td>\n      <td>1.757233</td>\n      <td>2.057276</td>\n      <td>2.200980</td>\n      <td>1.002355</td>\n      <td>0.786718</td>\n      <td>0.000000</td>\n    </tr>\n  </tbody>\n</table>\n<p>1000 rows × 490 columns</p>\n</div>"
     },
     "execution_count": 12,
     "metadata": {},
     "output_type": "execute_result"
    }
   ],
   "source": [
    "df_matrix_A_final"
   ],
   "metadata": {
    "collapsed": false,
    "ExecuteTime": {
     "end_time": "2023-08-03T11:41:49.144762100Z",
     "start_time": "2023-08-03T11:41:49.002142100Z"
    }
   },
   "id": "90a4b0d24399c1ae"
  },
  {
   "cell_type": "markdown",
   "source": [
    "## Determinant"
   ],
   "metadata": {
    "collapsed": false
   },
   "id": "6c781eeb38de480b"
  },
  {
   "cell_type": "code",
   "execution_count": 13,
   "outputs": [
    {
     "name": "stdout",
     "output_type": "stream",
     "text": [
      "0.0\n"
     ]
    }
   ],
   "source": [
    "# 1. Calculate the transpose of matrix_A_final\n",
    "matrix_A_final_transpose = df_matrix_A_final.transpose()\n",
    "\n",
    "# 2. Calculate the multiplication of matrix_A_final and matrix_A_final_transpose\n",
    "matrix_A_final_mmult = np.dot(df_matrix_A_final.values, matrix_A_final_transpose.values)\n",
    "\n",
    "# 3. Calculate the determinant of matrix_A_final_mmult\n",
    "matrix_A_final_determinant = np.linalg.det(matrix_A_final_mmult)\n",
    "\n",
    "print(matrix_A_final_determinant)\n"
   ],
   "metadata": {
    "collapsed": false,
    "ExecuteTime": {
     "end_time": "2023-08-03T11:41:49.204600800Z",
     "start_time": "2023-08-03T11:41:49.022089100Z"
    }
   },
   "id": "e7b436e6b8a6814c"
  },
  {
   "cell_type": "markdown",
   "source": [
    "## Calculate Transition Matrix"
   ],
   "metadata": {
    "collapsed": false
   },
   "id": "7daf14234ebfc257"
  },
  {
   "cell_type": "markdown",
   "source": [
    "### Singular Value Decomposition (SVD)"
   ],
   "metadata": {
    "collapsed": false
   },
   "id": "60b2e72dba24557b"
  },
  {
   "cell_type": "code",
   "execution_count": 14,
   "outputs": [
    {
     "name": "stdout",
     "output_type": "stream",
     "text": [
      "U:\n",
      " [[ 0.04759378 -0.01635298  0.03906053 ...  0.          0.\n",
      "   0.        ]\n",
      " [ 0.03582591 -0.04161631  0.01303575 ... -0.00393801  0.01035563\n",
      "   0.00998501]\n",
      " [ 0.03891031 -0.01097598 -0.01293658 ...  0.00540296  0.01842473\n",
      "   0.01627862]\n",
      " ...\n",
      " [ 0.01953176 -0.00268502 -0.00822634 ...  0.6119775   0.02817378\n",
      "  -0.02740765]\n",
      " [ 0.02493124  0.05078079  0.01869059 ...  0.01245376  0.08673245\n",
      "  -0.00796451]\n",
      " [ 0.02985723 -0.02632315 -0.0055512  ... -0.01767263  0.00147403\n",
      "   0.61319854]]\n",
      "\n",
      "S:\n",
      " [[321.69176517   0.           0.         ...   0.           0.\n",
      "    0.        ]\n",
      " [  0.         149.37049133   0.         ...   0.           0.\n",
      "    0.        ]\n",
      " [  0.           0.         121.73355171 ...   0.           0.\n",
      "    0.        ]\n",
      " ...\n",
      " [  0.           0.           0.         ...   0.           0.\n",
      "    0.        ]\n",
      " [  0.           0.           0.         ...   0.           0.\n",
      "    0.        ]\n",
      " [  0.           0.           0.         ...   0.           0.\n",
      "    0.        ]]\n",
      "\n",
      "Vt:\n",
      " [[ 3.59112723e-18  5.94156737e-04  2.28298281e-03 ...  5.09837257e-02\n",
      "   2.99615953e-02  4.16667657e-03]\n",
      " [-2.65737384e-18  3.10461555e-04  1.40285648e-03 ... -4.13632556e-02\n",
      "  -3.79590252e-02 -3.75030294e-03]\n",
      " [ 7.78840362e-18  4.00075087e-05  1.10769295e-03 ... -4.66979954e-03\n",
      "   4.14482987e-03  1.42438505e-04]\n",
      " ...\n",
      " [ 0.00000000e+00 -6.15953388e-19 -1.11771045e-19 ... -3.91316202e-20\n",
      "  -1.55397661e-19 -4.96963216e-19]\n",
      " [ 0.00000000e+00 -7.27704902e-19  4.78753831e-19 ... -1.85243283e-19\n",
      "  -2.20683464e-19  3.71746884e-21]\n",
      " [ 1.00000000e+00  7.42558981e-16 -3.37146805e-16 ...  6.85858397e-17\n",
      "   4.50558299e-17  7.31570658e-16]]\n"
     ]
    }
   ],
   "source": [
    "# Receive values from the matrix A DataFrame \n",
    "matrix_A_final_values = df_matrix_A_final.values\n",
    "\n",
    "# Calculate SVD\n",
    "U, s, Vt = np.linalg.svd(matrix_A_final_values)\n",
    "\n",
    "# Construct the full diagonal matrix\n",
    "S = np.zeros(matrix_A_final_values.shape)\n",
    "for i in range(min(matrix_A_final_values.shape)):\n",
    "    S[i, i] = s[i]\n",
    "\n",
    "print(\"U:\\n\", U)\n",
    "print(\"\\nS:\\n\", S)\n",
    "print(\"\\nVt:\\n\", Vt)\n"
   ],
   "metadata": {
    "collapsed": false,
    "ExecuteTime": {
     "end_time": "2023-08-03T11:41:49.298350200Z",
     "start_time": "2023-08-03T11:41:49.096889900Z"
    }
   },
   "id": "a85267d9b0432aa"
  },
  {
   "cell_type": "code",
   "execution_count": 15,
   "outputs": [
    {
     "data": {
      "text/plain": "(1000, 1000)"
     },
     "execution_count": 15,
     "metadata": {},
     "output_type": "execute_result"
    }
   ],
   "source": [
    "U.shape"
   ],
   "metadata": {
    "collapsed": false,
    "ExecuteTime": {
     "end_time": "2023-08-03T11:41:49.299347600Z",
     "start_time": "2023-08-03T11:41:49.207593Z"
    }
   },
   "id": "60087eefef52d0e3"
  },
  {
   "cell_type": "markdown",
   "source": [
    "### Create the reconstructed matrix of SVD"
   ],
   "metadata": {
    "collapsed": false
   },
   "id": "c30ceef099c78a1"
  },
  {
   "cell_type": "code",
   "execution_count": 16,
   "outputs": [],
   "source": [
    "# Recompute the original matrix using U, S, and Vt\n",
    "reconstructed_matrix = U.dot(S.dot(Vt))\n",
    "\n",
    "# Convert the reconstructed matrix to a pandas DataFrame, if desired\n",
    "reconstructed_df = pd.DataFrame(reconstructed_matrix)\n"
   ],
   "metadata": {
    "collapsed": false,
    "ExecuteTime": {
     "end_time": "2023-08-03T11:41:49.375145100Z",
     "start_time": "2023-08-03T11:41:49.223551600Z"
    }
   },
   "id": "4665818866492a6a"
  },
  {
   "cell_type": "code",
   "execution_count": 17,
   "outputs": [
    {
     "data": {
      "text/plain": "              0             1             2             3             4    \\\n0    2.427284e-14  2.281161e-15  1.274588e-15  7.606762e-16  2.567608e-15   \n1    6.559871e-29 -6.432355e-15  1.679986e-01 -3.323730e-15  2.088092e-15   \n2    1.824241e-30 -7.313594e-15  2.616114e-01 -7.138387e-16  3.888816e-15   \n3    3.505501e-29  2.116363e-16  2.295690e-15  1.131218e-01 -2.050606e-15   \n4    2.746222e-29  1.458902e-15  4.744577e-15  9.894429e-16  1.233714e-15   \n..            ...           ...           ...           ...           ...   \n995 -1.873545e-29 -3.816392e-16 -5.323433e-16 -9.519295e-16  1.433966e-15   \n996  1.188222e-29 -2.608590e-15 -3.422393e-15  2.430863e-02  9.159826e-02   \n997 -7.358593e-29  3.629475e-15 -4.753142e-16  8.145037e-02 -1.958232e-15   \n998 -4.466617e-29  1.526557e-16  4.305584e-15 -2.554380e-16  5.937843e-02   \n999 -2.164437e-29  3.125972e-15  2.566361e-15 -7.099356e-16  1.075962e-15   \n\n              5             6             7             8             9    \\\n0    6.895526e-17 -2.555248e-15 -8.508819e-16  8.064296e-16 -4.449837e-16   \n1   -2.728341e-15 -2.504073e-15  4.371503e-16 -2.260345e-15  1.564287e-15   \n2   -4.620870e-16 -7.832276e-16 -4.616533e-16  1.090707e-15 -1.490507e-15   \n3    1.911340e-15 -2.081668e-16 -4.234894e-16  1.600282e-16 -1.137823e-15   \n4    2.379824e-16 -7.476658e-16 -6.088879e-16  1.517883e-16 -5.666583e-16   \n..            ...           ...           ...           ...           ...   \n995 -1.235990e-16 -1.484923e-15  9.042246e-16 -2.039710e-15  9.513874e-17   \n996  1.205037e-15  5.603157e-16 -9.692767e-16  3.998104e-15 -6.777687e-16   \n997  6.677008e-01  1.278795e-01 -1.213439e-15  2.658464e-16  1.388727e-16   \n998  2.452032e-15  4.189357e-16 -2.201364e-15 -1.532845e-15 -1.110582e-15   \n999 -2.063616e-15 -1.054210e-15 -1.833386e-16 -1.711386e-15  1.515416e-15   \n\n     ...           480           481           482           483       484  \\\n0    ... -9.295949e-16 -1.312969e-15 -6.168026e-16  1.126811e-15  1.382883   \n1    ...  1.622662e-15 -1.157159e-15  7.916844e-16  2.534431e-15  1.405346   \n2    ...  1.760473e-15 -4.606233e-16  7.448469e-17  1.748818e-15  1.549804   \n3    ...  1.069349e-15 -6.069635e-16 -4.495102e-16  9.804982e-16  0.805741   \n4    ...  1.013467e+00  2.486066e-01 -1.464757e-16  1.701509e+00  1.226074   \n..   ...           ...           ...           ...           ...       ...   \n995  ...  1.055362e-15 -1.334707e-15 -5.160802e-16  9.788308e-01  1.879399   \n996  ...  1.682519e-15 -9.329018e-16  4.221883e-16  4.783241e-01  1.605705   \n997  ...  5.419656e-16  2.816847e-01  3.439089e-16  2.506404e-16  0.743484   \n998  ... -6.483529e-16  2.950780e-02 -5.126108e-16  1.474515e-16  0.586049   \n999  ...  1.006790e-15  4.381261e-16  1.361758e-16  7.933107e-16  1.757234   \n\n          485           486           487           488           489  \n0    2.454173  1.031379e+00  3.091494e-15  5.502634e-01  2.704000e-16  \n1    2.114978  2.243176e-01  3.782456e-15  6.182835e-01  4.818194e-16  \n2    1.493532  2.417947e-15  2.335155e-15  4.183379e-01  2.515349e-17  \n3    1.049414  1.643108e-15  1.751122e-15  1.292803e-15 -2.818926e-18  \n4    1.084966  9.790181e-01  4.524165e-01  5.197280e-01  2.829195e-01  \n..        ...           ...           ...           ...           ...  \n995  2.071823  1.657400e+00  9.946863e-01  8.015435e-01  3.983359e-16  \n996  0.464157  1.116972e-15  2.150244e-15  2.148951e-01  3.889033e-16  \n997  0.683986  1.282767e+00  1.064198e+00  1.726428e-01  7.979728e-17  \n998  1.525309  3.562905e-15  2.292329e-15  1.911448e-15 -2.710505e-16  \n999  2.057276  2.200980e+00  1.002355e+00  7.867176e-01  7.667478e-16  \n\n[1000 rows x 490 columns]",
      "text/html": "<div>\n<style scoped>\n    .dataframe tbody tr th:only-of-type {\n        vertical-align: middle;\n    }\n\n    .dataframe tbody tr th {\n        vertical-align: top;\n    }\n\n    .dataframe thead th {\n        text-align: right;\n    }\n</style>\n<table border=\"1\" class=\"dataframe\">\n  <thead>\n    <tr style=\"text-align: right;\">\n      <th></th>\n      <th>0</th>\n      <th>1</th>\n      <th>2</th>\n      <th>3</th>\n      <th>4</th>\n      <th>5</th>\n      <th>6</th>\n      <th>7</th>\n      <th>8</th>\n      <th>9</th>\n      <th>...</th>\n      <th>480</th>\n      <th>481</th>\n      <th>482</th>\n      <th>483</th>\n      <th>484</th>\n      <th>485</th>\n      <th>486</th>\n      <th>487</th>\n      <th>488</th>\n      <th>489</th>\n    </tr>\n  </thead>\n  <tbody>\n    <tr>\n      <th>0</th>\n      <td>2.427284e-14</td>\n      <td>2.281161e-15</td>\n      <td>1.274588e-15</td>\n      <td>7.606762e-16</td>\n      <td>2.567608e-15</td>\n      <td>6.895526e-17</td>\n      <td>-2.555248e-15</td>\n      <td>-8.508819e-16</td>\n      <td>8.064296e-16</td>\n      <td>-4.449837e-16</td>\n      <td>...</td>\n      <td>-9.295949e-16</td>\n      <td>-1.312969e-15</td>\n      <td>-6.168026e-16</td>\n      <td>1.126811e-15</td>\n      <td>1.382883</td>\n      <td>2.454173</td>\n      <td>1.031379e+00</td>\n      <td>3.091494e-15</td>\n      <td>5.502634e-01</td>\n      <td>2.704000e-16</td>\n    </tr>\n    <tr>\n      <th>1</th>\n      <td>6.559871e-29</td>\n      <td>-6.432355e-15</td>\n      <td>1.679986e-01</td>\n      <td>-3.323730e-15</td>\n      <td>2.088092e-15</td>\n      <td>-2.728341e-15</td>\n      <td>-2.504073e-15</td>\n      <td>4.371503e-16</td>\n      <td>-2.260345e-15</td>\n      <td>1.564287e-15</td>\n      <td>...</td>\n      <td>1.622662e-15</td>\n      <td>-1.157159e-15</td>\n      <td>7.916844e-16</td>\n      <td>2.534431e-15</td>\n      <td>1.405346</td>\n      <td>2.114978</td>\n      <td>2.243176e-01</td>\n      <td>3.782456e-15</td>\n      <td>6.182835e-01</td>\n      <td>4.818194e-16</td>\n    </tr>\n    <tr>\n      <th>2</th>\n      <td>1.824241e-30</td>\n      <td>-7.313594e-15</td>\n      <td>2.616114e-01</td>\n      <td>-7.138387e-16</td>\n      <td>3.888816e-15</td>\n      <td>-4.620870e-16</td>\n      <td>-7.832276e-16</td>\n      <td>-4.616533e-16</td>\n      <td>1.090707e-15</td>\n      <td>-1.490507e-15</td>\n      <td>...</td>\n      <td>1.760473e-15</td>\n      <td>-4.606233e-16</td>\n      <td>7.448469e-17</td>\n      <td>1.748818e-15</td>\n      <td>1.549804</td>\n      <td>1.493532</td>\n      <td>2.417947e-15</td>\n      <td>2.335155e-15</td>\n      <td>4.183379e-01</td>\n      <td>2.515349e-17</td>\n    </tr>\n    <tr>\n      <th>3</th>\n      <td>3.505501e-29</td>\n      <td>2.116363e-16</td>\n      <td>2.295690e-15</td>\n      <td>1.131218e-01</td>\n      <td>-2.050606e-15</td>\n      <td>1.911340e-15</td>\n      <td>-2.081668e-16</td>\n      <td>-4.234894e-16</td>\n      <td>1.600282e-16</td>\n      <td>-1.137823e-15</td>\n      <td>...</td>\n      <td>1.069349e-15</td>\n      <td>-6.069635e-16</td>\n      <td>-4.495102e-16</td>\n      <td>9.804982e-16</td>\n      <td>0.805741</td>\n      <td>1.049414</td>\n      <td>1.643108e-15</td>\n      <td>1.751122e-15</td>\n      <td>1.292803e-15</td>\n      <td>-2.818926e-18</td>\n    </tr>\n    <tr>\n      <th>4</th>\n      <td>2.746222e-29</td>\n      <td>1.458902e-15</td>\n      <td>4.744577e-15</td>\n      <td>9.894429e-16</td>\n      <td>1.233714e-15</td>\n      <td>2.379824e-16</td>\n      <td>-7.476658e-16</td>\n      <td>-6.088879e-16</td>\n      <td>1.517883e-16</td>\n      <td>-5.666583e-16</td>\n      <td>...</td>\n      <td>1.013467e+00</td>\n      <td>2.486066e-01</td>\n      <td>-1.464757e-16</td>\n      <td>1.701509e+00</td>\n      <td>1.226074</td>\n      <td>1.084966</td>\n      <td>9.790181e-01</td>\n      <td>4.524165e-01</td>\n      <td>5.197280e-01</td>\n      <td>2.829195e-01</td>\n    </tr>\n    <tr>\n      <th>...</th>\n      <td>...</td>\n      <td>...</td>\n      <td>...</td>\n      <td>...</td>\n      <td>...</td>\n      <td>...</td>\n      <td>...</td>\n      <td>...</td>\n      <td>...</td>\n      <td>...</td>\n      <td>...</td>\n      <td>...</td>\n      <td>...</td>\n      <td>...</td>\n      <td>...</td>\n      <td>...</td>\n      <td>...</td>\n      <td>...</td>\n      <td>...</td>\n      <td>...</td>\n      <td>...</td>\n    </tr>\n    <tr>\n      <th>995</th>\n      <td>-1.873545e-29</td>\n      <td>-3.816392e-16</td>\n      <td>-5.323433e-16</td>\n      <td>-9.519295e-16</td>\n      <td>1.433966e-15</td>\n      <td>-1.235990e-16</td>\n      <td>-1.484923e-15</td>\n      <td>9.042246e-16</td>\n      <td>-2.039710e-15</td>\n      <td>9.513874e-17</td>\n      <td>...</td>\n      <td>1.055362e-15</td>\n      <td>-1.334707e-15</td>\n      <td>-5.160802e-16</td>\n      <td>9.788308e-01</td>\n      <td>1.879399</td>\n      <td>2.071823</td>\n      <td>1.657400e+00</td>\n      <td>9.946863e-01</td>\n      <td>8.015435e-01</td>\n      <td>3.983359e-16</td>\n    </tr>\n    <tr>\n      <th>996</th>\n      <td>1.188222e-29</td>\n      <td>-2.608590e-15</td>\n      <td>-3.422393e-15</td>\n      <td>2.430863e-02</td>\n      <td>9.159826e-02</td>\n      <td>1.205037e-15</td>\n      <td>5.603157e-16</td>\n      <td>-9.692767e-16</td>\n      <td>3.998104e-15</td>\n      <td>-6.777687e-16</td>\n      <td>...</td>\n      <td>1.682519e-15</td>\n      <td>-9.329018e-16</td>\n      <td>4.221883e-16</td>\n      <td>4.783241e-01</td>\n      <td>1.605705</td>\n      <td>0.464157</td>\n      <td>1.116972e-15</td>\n      <td>2.150244e-15</td>\n      <td>2.148951e-01</td>\n      <td>3.889033e-16</td>\n    </tr>\n    <tr>\n      <th>997</th>\n      <td>-7.358593e-29</td>\n      <td>3.629475e-15</td>\n      <td>-4.753142e-16</td>\n      <td>8.145037e-02</td>\n      <td>-1.958232e-15</td>\n      <td>6.677008e-01</td>\n      <td>1.278795e-01</td>\n      <td>-1.213439e-15</td>\n      <td>2.658464e-16</td>\n      <td>1.388727e-16</td>\n      <td>...</td>\n      <td>5.419656e-16</td>\n      <td>2.816847e-01</td>\n      <td>3.439089e-16</td>\n      <td>2.506404e-16</td>\n      <td>0.743484</td>\n      <td>0.683986</td>\n      <td>1.282767e+00</td>\n      <td>1.064198e+00</td>\n      <td>1.726428e-01</td>\n      <td>7.979728e-17</td>\n    </tr>\n    <tr>\n      <th>998</th>\n      <td>-4.466617e-29</td>\n      <td>1.526557e-16</td>\n      <td>4.305584e-15</td>\n      <td>-2.554380e-16</td>\n      <td>5.937843e-02</td>\n      <td>2.452032e-15</td>\n      <td>4.189357e-16</td>\n      <td>-2.201364e-15</td>\n      <td>-1.532845e-15</td>\n      <td>-1.110582e-15</td>\n      <td>...</td>\n      <td>-6.483529e-16</td>\n      <td>2.950780e-02</td>\n      <td>-5.126108e-16</td>\n      <td>1.474515e-16</td>\n      <td>0.586049</td>\n      <td>1.525309</td>\n      <td>3.562905e-15</td>\n      <td>2.292329e-15</td>\n      <td>1.911448e-15</td>\n      <td>-2.710505e-16</td>\n    </tr>\n    <tr>\n      <th>999</th>\n      <td>-2.164437e-29</td>\n      <td>3.125972e-15</td>\n      <td>2.566361e-15</td>\n      <td>-7.099356e-16</td>\n      <td>1.075962e-15</td>\n      <td>-2.063616e-15</td>\n      <td>-1.054210e-15</td>\n      <td>-1.833386e-16</td>\n      <td>-1.711386e-15</td>\n      <td>1.515416e-15</td>\n      <td>...</td>\n      <td>1.006790e-15</td>\n      <td>4.381261e-16</td>\n      <td>1.361758e-16</td>\n      <td>7.933107e-16</td>\n      <td>1.757234</td>\n      <td>2.057276</td>\n      <td>2.200980e+00</td>\n      <td>1.002355e+00</td>\n      <td>7.867176e-01</td>\n      <td>7.667478e-16</td>\n    </tr>\n  </tbody>\n</table>\n<p>1000 rows × 490 columns</p>\n</div>"
     },
     "execution_count": 17,
     "metadata": {},
     "output_type": "execute_result"
    }
   ],
   "source": [
    "reconstructed_df"
   ],
   "metadata": {
    "collapsed": false,
    "ExecuteTime": {
     "end_time": "2023-08-03T11:41:49.422019900Z",
     "start_time": "2023-08-03T11:41:49.236516500Z"
    }
   },
   "id": "4e5cf9559e88341f"
  },
  {
   "cell_type": "markdown",
   "source": [
    "### Calculate the generalized inverse of Matrix A"
   ],
   "metadata": {
    "collapsed": false
   },
   "id": "6a353b8087b46d40"
  },
  {
   "cell_type": "code",
   "execution_count": 18,
   "outputs": [],
   "source": [
    "# Calculate the generalized (Moore-Penrose) inverse\n",
    "matrix_A_final_pinv = np.linalg.pinv(df_matrix_A_final.values)\n",
    "\n",
    "# Convert to a pandas DataFrame, if desired\n",
    "matrix_A_final_pinv_df = pd.DataFrame(matrix_A_final_pinv)\n"
   ],
   "metadata": {
    "collapsed": false,
    "ExecuteTime": {
     "end_time": "2023-08-03T11:41:49.468894500Z",
     "start_time": "2023-08-03T11:41:49.268430100Z"
    }
   },
   "id": "855fd6044ced7d52"
  },
  {
   "cell_type": "code",
   "execution_count": 19,
   "outputs": [
    {
     "data": {
      "text/plain": "              0             1             2             3             4    \\\n0    2.364559e-12 -1.239436e-12 -3.008367e-12 -1.704119e-12  1.927631e-12   \n1   -3.059218e-02 -1.520624e-01 -2.230488e-01 -1.259503e-02 -1.073043e-03   \n2    1.388988e-02 -5.192236e-02  9.692735e-02 -3.190167e-02  1.618660e-02   \n3    2.273918e-02 -6.755352e-02  1.469069e-02  1.031772e-01  6.075375e-04   \n4   -1.107411e-02  2.391627e-03 -2.303143e-02 -2.670267e-02 -9.747715e-03   \n..            ...           ...           ...           ...           ...   \n485  5.178039e-03  6.218386e-03 -2.150190e-03  9.183025e-03 -5.132993e-03   \n486  3.811936e-03 -3.895416e-03 -1.845563e-03  6.831784e-03  2.093601e-03   \n487 -2.825621e-03  5.822253e-03  7.852112e-03 -3.277205e-03  2.409658e-03   \n488 -1.856224e-03  1.165076e-02  8.557751e-03  1.121262e-02  9.985745e-03   \n489 -3.013948e-02  8.047188e-03 -2.211944e-02  5.460779e-03  4.944421e-02   \n\n              5             6             7             8             9    \\\n0    9.927045e-15 -4.267296e-13 -9.114356e-14 -1.039737e-12  1.433712e-12   \n1   -1.600068e-01 -2.737450e-02  6.870887e-02 -6.119679e-02 -5.635902e-05   \n2    5.636767e-02 -2.324652e-02 -3.084092e-02 -3.186673e-02 -3.580264e-02   \n3   -3.115171e-02 -4.347910e-02  3.773040e-02 -6.173692e-02 -2.729556e-02   \n4   -7.108181e-04  1.519942e-02 -1.266633e-02 -3.170199e-03  1.750819e-02   \n..            ...           ...           ...           ...           ...   \n485 -1.748799e-03 -3.155608e-03  7.877252e-07 -5.743988e-04  1.548759e-04   \n486  5.855123e-03  4.609419e-03  6.513719e-04 -6.672057e-03 -1.256423e-03   \n487  3.596149e-03 -2.078002e-02 -9.774654e-04 -1.071515e-02 -2.021335e-02   \n488  3.692480e-03 -1.554224e-03  9.624790e-03  6.709178e-03 -7.024163e-03   \n489  1.574754e-02  1.726068e-02 -2.106467e-02  1.064622e-02  7.672993e-02   \n\n     ...           990           991           992           993  \\\n0    ... -3.607704e-13  1.035279e-12 -2.392446e-13 -1.158675e-12   \n1    ... -6.102555e-03  3.159904e-03 -9.553309e-03 -6.076935e-02   \n2    ...  5.464373e-02  1.225085e-02  5.153083e-02 -3.160511e-02   \n3    ...  4.755894e-03 -2.273136e-02 -5.211399e-02 -2.431434e-02   \n4    ... -7.372333e-03  3.528510e-04  6.315849e-03  1.333067e-02   \n..   ...           ...           ...           ...           ...   \n485  ...  3.890427e-03 -1.056715e-03  3.761332e-03 -1.196263e-03   \n486  ...  5.398964e-03 -5.047793e-04  1.628856e-03 -7.793745e-03   \n487  ...  1.140059e-03  2.972643e-03 -6.228927e-03 -2.674162e-03   \n488  ... -1.332604e-02 -4.686472e-04 -7.984455e-04 -1.951641e-02   \n489  ... -1.142166e-03 -2.790094e-02 -9.786169e-03  1.836094e-02   \n\n              994           995           996           997           998  \\\n0   -5.205887e-13 -6.789866e-13 -1.865902e-12 -2.041065e-13 -7.962649e-13   \n1    1.953546e-02 -2.653204e-02  6.675295e-03 -3.093945e-02 -5.402642e-02   \n2   -4.405496e-02 -7.709236e-03 -2.239451e-02  2.706306e-03 -1.798784e-02   \n3   -1.158687e-02  1.672678e-03 -3.108108e-05  2.806900e-02 -9.881983e-03   \n4   -7.344649e-03  1.979285e-02 -6.565651e-03 -5.043728e-03  1.326805e-02   \n..            ...           ...           ...           ...           ...   \n485  3.070232e-03  5.431203e-03  8.881321e-04 -4.705938e-03 -4.038791e-03   \n486  9.306497e-03  1.154806e-03 -3.521570e-04 -3.605768e-04 -3.419067e-03   \n487 -1.065489e-02 -5.562826e-03 -1.340965e-02  3.805897e-03 -2.440929e-03   \n488 -2.337941e-03  2.313454e-02  8.806903e-03 -1.030462e-02  3.415772e-04   \n489  2.102844e-02 -1.030431e-02  6.432540e-03 -5.358499e-02  2.662133e-03   \n\n              999  \n0   -3.106977e-13  \n1   -5.398176e-02  \n2    2.170551e-02  \n3   -1.374350e-02  \n4   -1.910822e-03  \n..            ...  \n485 -2.108392e-03  \n486  7.574138e-03  \n487 -4.164843e-03  \n488  9.541228e-03  \n489  2.567041e-04  \n\n[490 rows x 1000 columns]",
      "text/html": "<div>\n<style scoped>\n    .dataframe tbody tr th:only-of-type {\n        vertical-align: middle;\n    }\n\n    .dataframe tbody tr th {\n        vertical-align: top;\n    }\n\n    .dataframe thead th {\n        text-align: right;\n    }\n</style>\n<table border=\"1\" class=\"dataframe\">\n  <thead>\n    <tr style=\"text-align: right;\">\n      <th></th>\n      <th>0</th>\n      <th>1</th>\n      <th>2</th>\n      <th>3</th>\n      <th>4</th>\n      <th>5</th>\n      <th>6</th>\n      <th>7</th>\n      <th>8</th>\n      <th>9</th>\n      <th>...</th>\n      <th>990</th>\n      <th>991</th>\n      <th>992</th>\n      <th>993</th>\n      <th>994</th>\n      <th>995</th>\n      <th>996</th>\n      <th>997</th>\n      <th>998</th>\n      <th>999</th>\n    </tr>\n  </thead>\n  <tbody>\n    <tr>\n      <th>0</th>\n      <td>2.364559e-12</td>\n      <td>-1.239436e-12</td>\n      <td>-3.008367e-12</td>\n      <td>-1.704119e-12</td>\n      <td>1.927631e-12</td>\n      <td>9.927045e-15</td>\n      <td>-4.267296e-13</td>\n      <td>-9.114356e-14</td>\n      <td>-1.039737e-12</td>\n      <td>1.433712e-12</td>\n      <td>...</td>\n      <td>-3.607704e-13</td>\n      <td>1.035279e-12</td>\n      <td>-2.392446e-13</td>\n      <td>-1.158675e-12</td>\n      <td>-5.205887e-13</td>\n      <td>-6.789866e-13</td>\n      <td>-1.865902e-12</td>\n      <td>-2.041065e-13</td>\n      <td>-7.962649e-13</td>\n      <td>-3.106977e-13</td>\n    </tr>\n    <tr>\n      <th>1</th>\n      <td>-3.059218e-02</td>\n      <td>-1.520624e-01</td>\n      <td>-2.230488e-01</td>\n      <td>-1.259503e-02</td>\n      <td>-1.073043e-03</td>\n      <td>-1.600068e-01</td>\n      <td>-2.737450e-02</td>\n      <td>6.870887e-02</td>\n      <td>-6.119679e-02</td>\n      <td>-5.635902e-05</td>\n      <td>...</td>\n      <td>-6.102555e-03</td>\n      <td>3.159904e-03</td>\n      <td>-9.553309e-03</td>\n      <td>-6.076935e-02</td>\n      <td>1.953546e-02</td>\n      <td>-2.653204e-02</td>\n      <td>6.675295e-03</td>\n      <td>-3.093945e-02</td>\n      <td>-5.402642e-02</td>\n      <td>-5.398176e-02</td>\n    </tr>\n    <tr>\n      <th>2</th>\n      <td>1.388988e-02</td>\n      <td>-5.192236e-02</td>\n      <td>9.692735e-02</td>\n      <td>-3.190167e-02</td>\n      <td>1.618660e-02</td>\n      <td>5.636767e-02</td>\n      <td>-2.324652e-02</td>\n      <td>-3.084092e-02</td>\n      <td>-3.186673e-02</td>\n      <td>-3.580264e-02</td>\n      <td>...</td>\n      <td>5.464373e-02</td>\n      <td>1.225085e-02</td>\n      <td>5.153083e-02</td>\n      <td>-3.160511e-02</td>\n      <td>-4.405496e-02</td>\n      <td>-7.709236e-03</td>\n      <td>-2.239451e-02</td>\n      <td>2.706306e-03</td>\n      <td>-1.798784e-02</td>\n      <td>2.170551e-02</td>\n    </tr>\n    <tr>\n      <th>3</th>\n      <td>2.273918e-02</td>\n      <td>-6.755352e-02</td>\n      <td>1.469069e-02</td>\n      <td>1.031772e-01</td>\n      <td>6.075375e-04</td>\n      <td>-3.115171e-02</td>\n      <td>-4.347910e-02</td>\n      <td>3.773040e-02</td>\n      <td>-6.173692e-02</td>\n      <td>-2.729556e-02</td>\n      <td>...</td>\n      <td>4.755894e-03</td>\n      <td>-2.273136e-02</td>\n      <td>-5.211399e-02</td>\n      <td>-2.431434e-02</td>\n      <td>-1.158687e-02</td>\n      <td>1.672678e-03</td>\n      <td>-3.108108e-05</td>\n      <td>2.806900e-02</td>\n      <td>-9.881983e-03</td>\n      <td>-1.374350e-02</td>\n    </tr>\n    <tr>\n      <th>4</th>\n      <td>-1.107411e-02</td>\n      <td>2.391627e-03</td>\n      <td>-2.303143e-02</td>\n      <td>-2.670267e-02</td>\n      <td>-9.747715e-03</td>\n      <td>-7.108181e-04</td>\n      <td>1.519942e-02</td>\n      <td>-1.266633e-02</td>\n      <td>-3.170199e-03</td>\n      <td>1.750819e-02</td>\n      <td>...</td>\n      <td>-7.372333e-03</td>\n      <td>3.528510e-04</td>\n      <td>6.315849e-03</td>\n      <td>1.333067e-02</td>\n      <td>-7.344649e-03</td>\n      <td>1.979285e-02</td>\n      <td>-6.565651e-03</td>\n      <td>-5.043728e-03</td>\n      <td>1.326805e-02</td>\n      <td>-1.910822e-03</td>\n    </tr>\n    <tr>\n      <th>...</th>\n      <td>...</td>\n      <td>...</td>\n      <td>...</td>\n      <td>...</td>\n      <td>...</td>\n      <td>...</td>\n      <td>...</td>\n      <td>...</td>\n      <td>...</td>\n      <td>...</td>\n      <td>...</td>\n      <td>...</td>\n      <td>...</td>\n      <td>...</td>\n      <td>...</td>\n      <td>...</td>\n      <td>...</td>\n      <td>...</td>\n      <td>...</td>\n      <td>...</td>\n      <td>...</td>\n    </tr>\n    <tr>\n      <th>485</th>\n      <td>5.178039e-03</td>\n      <td>6.218386e-03</td>\n      <td>-2.150190e-03</td>\n      <td>9.183025e-03</td>\n      <td>-5.132993e-03</td>\n      <td>-1.748799e-03</td>\n      <td>-3.155608e-03</td>\n      <td>7.877252e-07</td>\n      <td>-5.743988e-04</td>\n      <td>1.548759e-04</td>\n      <td>...</td>\n      <td>3.890427e-03</td>\n      <td>-1.056715e-03</td>\n      <td>3.761332e-03</td>\n      <td>-1.196263e-03</td>\n      <td>3.070232e-03</td>\n      <td>5.431203e-03</td>\n      <td>8.881321e-04</td>\n      <td>-4.705938e-03</td>\n      <td>-4.038791e-03</td>\n      <td>-2.108392e-03</td>\n    </tr>\n    <tr>\n      <th>486</th>\n      <td>3.811936e-03</td>\n      <td>-3.895416e-03</td>\n      <td>-1.845563e-03</td>\n      <td>6.831784e-03</td>\n      <td>2.093601e-03</td>\n      <td>5.855123e-03</td>\n      <td>4.609419e-03</td>\n      <td>6.513719e-04</td>\n      <td>-6.672057e-03</td>\n      <td>-1.256423e-03</td>\n      <td>...</td>\n      <td>5.398964e-03</td>\n      <td>-5.047793e-04</td>\n      <td>1.628856e-03</td>\n      <td>-7.793745e-03</td>\n      <td>9.306497e-03</td>\n      <td>1.154806e-03</td>\n      <td>-3.521570e-04</td>\n      <td>-3.605768e-04</td>\n      <td>-3.419067e-03</td>\n      <td>7.574138e-03</td>\n    </tr>\n    <tr>\n      <th>487</th>\n      <td>-2.825621e-03</td>\n      <td>5.822253e-03</td>\n      <td>7.852112e-03</td>\n      <td>-3.277205e-03</td>\n      <td>2.409658e-03</td>\n      <td>3.596149e-03</td>\n      <td>-2.078002e-02</td>\n      <td>-9.774654e-04</td>\n      <td>-1.071515e-02</td>\n      <td>-2.021335e-02</td>\n      <td>...</td>\n      <td>1.140059e-03</td>\n      <td>2.972643e-03</td>\n      <td>-6.228927e-03</td>\n      <td>-2.674162e-03</td>\n      <td>-1.065489e-02</td>\n      <td>-5.562826e-03</td>\n      <td>-1.340965e-02</td>\n      <td>3.805897e-03</td>\n      <td>-2.440929e-03</td>\n      <td>-4.164843e-03</td>\n    </tr>\n    <tr>\n      <th>488</th>\n      <td>-1.856224e-03</td>\n      <td>1.165076e-02</td>\n      <td>8.557751e-03</td>\n      <td>1.121262e-02</td>\n      <td>9.985745e-03</td>\n      <td>3.692480e-03</td>\n      <td>-1.554224e-03</td>\n      <td>9.624790e-03</td>\n      <td>6.709178e-03</td>\n      <td>-7.024163e-03</td>\n      <td>...</td>\n      <td>-1.332604e-02</td>\n      <td>-4.686472e-04</td>\n      <td>-7.984455e-04</td>\n      <td>-1.951641e-02</td>\n      <td>-2.337941e-03</td>\n      <td>2.313454e-02</td>\n      <td>8.806903e-03</td>\n      <td>-1.030462e-02</td>\n      <td>3.415772e-04</td>\n      <td>9.541228e-03</td>\n    </tr>\n    <tr>\n      <th>489</th>\n      <td>-3.013948e-02</td>\n      <td>8.047188e-03</td>\n      <td>-2.211944e-02</td>\n      <td>5.460779e-03</td>\n      <td>4.944421e-02</td>\n      <td>1.574754e-02</td>\n      <td>1.726068e-02</td>\n      <td>-2.106467e-02</td>\n      <td>1.064622e-02</td>\n      <td>7.672993e-02</td>\n      <td>...</td>\n      <td>-1.142166e-03</td>\n      <td>-2.790094e-02</td>\n      <td>-9.786169e-03</td>\n      <td>1.836094e-02</td>\n      <td>2.102844e-02</td>\n      <td>-1.030431e-02</td>\n      <td>6.432540e-03</td>\n      <td>-5.358499e-02</td>\n      <td>2.662133e-03</td>\n      <td>2.567041e-04</td>\n    </tr>\n  </tbody>\n</table>\n<p>490 rows × 1000 columns</p>\n</div>"
     },
     "execution_count": 19,
     "metadata": {},
     "output_type": "execute_result"
    }
   ],
   "source": [
    "matrix_A_final_pinv_df"
   ],
   "metadata": {
    "collapsed": false,
    "ExecuteTime": {
     "end_time": "2023-08-03T11:41:49.469892300Z",
     "start_time": "2023-08-03T11:41:49.330265200Z"
    }
   },
   "id": "633955ee8b987a64"
  },
  {
   "cell_type": "markdown",
   "source": [
    "### Calculate transition matrix T"
   ],
   "metadata": {
    "collapsed": false
   },
   "id": "1ad5df044f595f75"
  },
  {
   "cell_type": "code",
   "execution_count": 20,
   "outputs": [],
   "source": [
    "transition_matrix_T = matrix_A_final_pinv_df.dot(matrix_B_final)"
   ],
   "metadata": {
    "collapsed": false,
    "ExecuteTime": {
     "end_time": "2023-08-03T11:41:49.471887100Z",
     "start_time": "2023-08-03T11:41:49.362179200Z"
    }
   },
   "id": "dcbc3da27151442f"
  },
  {
   "cell_type": "code",
   "execution_count": 21,
   "outputs": [
    {
     "data": {
      "text/plain": "     pixel0  pixel1  pixel2  pixel3  pixel4  pixel5  pixel6  pixel7  pixel8  \\\n0       0.0     0.0     0.0     0.0     0.0     0.0     0.0     0.0     0.0   \n1       0.0     0.0     0.0     0.0     0.0     0.0     0.0     0.0     0.0   \n2       0.0     0.0     0.0     0.0     0.0     0.0     0.0     0.0     0.0   \n3       0.0     0.0     0.0     0.0     0.0     0.0     0.0     0.0     0.0   \n4       0.0     0.0     0.0     0.0     0.0     0.0     0.0     0.0     0.0   \n..      ...     ...     ...     ...     ...     ...     ...     ...     ...   \n485     0.0     0.0     0.0     0.0     0.0     0.0     0.0     0.0     0.0   \n486     0.0     0.0     0.0     0.0     0.0     0.0     0.0     0.0     0.0   \n487     0.0     0.0     0.0     0.0     0.0     0.0     0.0     0.0     0.0   \n488     0.0     0.0     0.0     0.0     0.0     0.0     0.0     0.0     0.0   \n489     0.0     0.0     0.0     0.0     0.0     0.0     0.0     0.0     0.0   \n\n     pixel9  ...      pixel774      pixel775      pixel776      pixel777  \\\n0       0.0  ...  6.655885e-13  2.987287e-13 -5.795985e-13 -3.884220e-13   \n1       0.0  ...  9.847755e-03  4.419859e-03 -9.051919e-03 -6.066208e-03   \n2       0.0  ... -1.165502e-03 -5.230994e-04  1.071313e-03  7.179482e-04   \n3       0.0  ... -6.397580e-03 -2.871355e-03  5.880566e-03  3.940903e-03   \n4       0.0  ... -1.331465e-03 -5.975866e-04  1.223864e-03  8.201811e-04   \n..      ...  ...           ...           ...           ...           ...   \n485     0.0  ...  6.790437e-04  3.047676e-04 -6.241674e-04 -4.182902e-04   \n486     0.0  ... -1.553935e-03 -6.974354e-04  1.428355e-03  9.572225e-04   \n487     0.0  ... -1.370243e-03 -6.149909e-04  1.259508e-03  8.440683e-04   \n488     0.0  ... -6.526611e-05 -2.929267e-05  5.999170e-05  4.020386e-05   \n489     0.0  ... -1.613315e-03 -7.240863e-04  1.482937e-03  9.938005e-04   \n\n     pixel778  pixel779  pixel780  pixel781  pixel782  pixel783  \n0         0.0       0.0       0.0       0.0       0.0       0.0  \n1         0.0       0.0       0.0       0.0       0.0       0.0  \n2         0.0       0.0       0.0       0.0       0.0       0.0  \n3         0.0       0.0       0.0       0.0       0.0       0.0  \n4         0.0       0.0       0.0       0.0       0.0       0.0  \n..        ...       ...       ...       ...       ...       ...  \n485       0.0       0.0       0.0       0.0       0.0       0.0  \n486       0.0       0.0       0.0       0.0       0.0       0.0  \n487       0.0       0.0       0.0       0.0       0.0       0.0  \n488       0.0       0.0       0.0       0.0       0.0       0.0  \n489       0.0       0.0       0.0       0.0       0.0       0.0  \n\n[490 rows x 784 columns]",
      "text/html": "<div>\n<style scoped>\n    .dataframe tbody tr th:only-of-type {\n        vertical-align: middle;\n    }\n\n    .dataframe tbody tr th {\n        vertical-align: top;\n    }\n\n    .dataframe thead th {\n        text-align: right;\n    }\n</style>\n<table border=\"1\" class=\"dataframe\">\n  <thead>\n    <tr style=\"text-align: right;\">\n      <th></th>\n      <th>pixel0</th>\n      <th>pixel1</th>\n      <th>pixel2</th>\n      <th>pixel3</th>\n      <th>pixel4</th>\n      <th>pixel5</th>\n      <th>pixel6</th>\n      <th>pixel7</th>\n      <th>pixel8</th>\n      <th>pixel9</th>\n      <th>...</th>\n      <th>pixel774</th>\n      <th>pixel775</th>\n      <th>pixel776</th>\n      <th>pixel777</th>\n      <th>pixel778</th>\n      <th>pixel779</th>\n      <th>pixel780</th>\n      <th>pixel781</th>\n      <th>pixel782</th>\n      <th>pixel783</th>\n    </tr>\n  </thead>\n  <tbody>\n    <tr>\n      <th>0</th>\n      <td>0.0</td>\n      <td>0.0</td>\n      <td>0.0</td>\n      <td>0.0</td>\n      <td>0.0</td>\n      <td>0.0</td>\n      <td>0.0</td>\n      <td>0.0</td>\n      <td>0.0</td>\n      <td>0.0</td>\n      <td>...</td>\n      <td>6.655885e-13</td>\n      <td>2.987287e-13</td>\n      <td>-5.795985e-13</td>\n      <td>-3.884220e-13</td>\n      <td>0.0</td>\n      <td>0.0</td>\n      <td>0.0</td>\n      <td>0.0</td>\n      <td>0.0</td>\n      <td>0.0</td>\n    </tr>\n    <tr>\n      <th>1</th>\n      <td>0.0</td>\n      <td>0.0</td>\n      <td>0.0</td>\n      <td>0.0</td>\n      <td>0.0</td>\n      <td>0.0</td>\n      <td>0.0</td>\n      <td>0.0</td>\n      <td>0.0</td>\n      <td>0.0</td>\n      <td>...</td>\n      <td>9.847755e-03</td>\n      <td>4.419859e-03</td>\n      <td>-9.051919e-03</td>\n      <td>-6.066208e-03</td>\n      <td>0.0</td>\n      <td>0.0</td>\n      <td>0.0</td>\n      <td>0.0</td>\n      <td>0.0</td>\n      <td>0.0</td>\n    </tr>\n    <tr>\n      <th>2</th>\n      <td>0.0</td>\n      <td>0.0</td>\n      <td>0.0</td>\n      <td>0.0</td>\n      <td>0.0</td>\n      <td>0.0</td>\n      <td>0.0</td>\n      <td>0.0</td>\n      <td>0.0</td>\n      <td>0.0</td>\n      <td>...</td>\n      <td>-1.165502e-03</td>\n      <td>-5.230994e-04</td>\n      <td>1.071313e-03</td>\n      <td>7.179482e-04</td>\n      <td>0.0</td>\n      <td>0.0</td>\n      <td>0.0</td>\n      <td>0.0</td>\n      <td>0.0</td>\n      <td>0.0</td>\n    </tr>\n    <tr>\n      <th>3</th>\n      <td>0.0</td>\n      <td>0.0</td>\n      <td>0.0</td>\n      <td>0.0</td>\n      <td>0.0</td>\n      <td>0.0</td>\n      <td>0.0</td>\n      <td>0.0</td>\n      <td>0.0</td>\n      <td>0.0</td>\n      <td>...</td>\n      <td>-6.397580e-03</td>\n      <td>-2.871355e-03</td>\n      <td>5.880566e-03</td>\n      <td>3.940903e-03</td>\n      <td>0.0</td>\n      <td>0.0</td>\n      <td>0.0</td>\n      <td>0.0</td>\n      <td>0.0</td>\n      <td>0.0</td>\n    </tr>\n    <tr>\n      <th>4</th>\n      <td>0.0</td>\n      <td>0.0</td>\n      <td>0.0</td>\n      <td>0.0</td>\n      <td>0.0</td>\n      <td>0.0</td>\n      <td>0.0</td>\n      <td>0.0</td>\n      <td>0.0</td>\n      <td>0.0</td>\n      <td>...</td>\n      <td>-1.331465e-03</td>\n      <td>-5.975866e-04</td>\n      <td>1.223864e-03</td>\n      <td>8.201811e-04</td>\n      <td>0.0</td>\n      <td>0.0</td>\n      <td>0.0</td>\n      <td>0.0</td>\n      <td>0.0</td>\n      <td>0.0</td>\n    </tr>\n    <tr>\n      <th>...</th>\n      <td>...</td>\n      <td>...</td>\n      <td>...</td>\n      <td>...</td>\n      <td>...</td>\n      <td>...</td>\n      <td>...</td>\n      <td>...</td>\n      <td>...</td>\n      <td>...</td>\n      <td>...</td>\n      <td>...</td>\n      <td>...</td>\n      <td>...</td>\n      <td>...</td>\n      <td>...</td>\n      <td>...</td>\n      <td>...</td>\n      <td>...</td>\n      <td>...</td>\n      <td>...</td>\n    </tr>\n    <tr>\n      <th>485</th>\n      <td>0.0</td>\n      <td>0.0</td>\n      <td>0.0</td>\n      <td>0.0</td>\n      <td>0.0</td>\n      <td>0.0</td>\n      <td>0.0</td>\n      <td>0.0</td>\n      <td>0.0</td>\n      <td>0.0</td>\n      <td>...</td>\n      <td>6.790437e-04</td>\n      <td>3.047676e-04</td>\n      <td>-6.241674e-04</td>\n      <td>-4.182902e-04</td>\n      <td>0.0</td>\n      <td>0.0</td>\n      <td>0.0</td>\n      <td>0.0</td>\n      <td>0.0</td>\n      <td>0.0</td>\n    </tr>\n    <tr>\n      <th>486</th>\n      <td>0.0</td>\n      <td>0.0</td>\n      <td>0.0</td>\n      <td>0.0</td>\n      <td>0.0</td>\n      <td>0.0</td>\n      <td>0.0</td>\n      <td>0.0</td>\n      <td>0.0</td>\n      <td>0.0</td>\n      <td>...</td>\n      <td>-1.553935e-03</td>\n      <td>-6.974354e-04</td>\n      <td>1.428355e-03</td>\n      <td>9.572225e-04</td>\n      <td>0.0</td>\n      <td>0.0</td>\n      <td>0.0</td>\n      <td>0.0</td>\n      <td>0.0</td>\n      <td>0.0</td>\n    </tr>\n    <tr>\n      <th>487</th>\n      <td>0.0</td>\n      <td>0.0</td>\n      <td>0.0</td>\n      <td>0.0</td>\n      <td>0.0</td>\n      <td>0.0</td>\n      <td>0.0</td>\n      <td>0.0</td>\n      <td>0.0</td>\n      <td>0.0</td>\n      <td>...</td>\n      <td>-1.370243e-03</td>\n      <td>-6.149909e-04</td>\n      <td>1.259508e-03</td>\n      <td>8.440683e-04</td>\n      <td>0.0</td>\n      <td>0.0</td>\n      <td>0.0</td>\n      <td>0.0</td>\n      <td>0.0</td>\n      <td>0.0</td>\n    </tr>\n    <tr>\n      <th>488</th>\n      <td>0.0</td>\n      <td>0.0</td>\n      <td>0.0</td>\n      <td>0.0</td>\n      <td>0.0</td>\n      <td>0.0</td>\n      <td>0.0</td>\n      <td>0.0</td>\n      <td>0.0</td>\n      <td>0.0</td>\n      <td>...</td>\n      <td>-6.526611e-05</td>\n      <td>-2.929267e-05</td>\n      <td>5.999170e-05</td>\n      <td>4.020386e-05</td>\n      <td>0.0</td>\n      <td>0.0</td>\n      <td>0.0</td>\n      <td>0.0</td>\n      <td>0.0</td>\n      <td>0.0</td>\n    </tr>\n    <tr>\n      <th>489</th>\n      <td>0.0</td>\n      <td>0.0</td>\n      <td>0.0</td>\n      <td>0.0</td>\n      <td>0.0</td>\n      <td>0.0</td>\n      <td>0.0</td>\n      <td>0.0</td>\n      <td>0.0</td>\n      <td>0.0</td>\n      <td>...</td>\n      <td>-1.613315e-03</td>\n      <td>-7.240863e-04</td>\n      <td>1.482937e-03</td>\n      <td>9.938005e-04</td>\n      <td>0.0</td>\n      <td>0.0</td>\n      <td>0.0</td>\n      <td>0.0</td>\n      <td>0.0</td>\n      <td>0.0</td>\n    </tr>\n  </tbody>\n</table>\n<p>490 rows × 784 columns</p>\n</div>"
     },
     "execution_count": 21,
     "metadata": {},
     "output_type": "execute_result"
    }
   ],
   "source": [
    "transition_matrix_T"
   ],
   "metadata": {
    "collapsed": false,
    "ExecuteTime": {
     "end_time": "2023-08-03T11:41:49.514771800Z",
     "start_time": "2023-08-03T11:41:49.378136800Z"
    }
   },
   "id": "ea41401d2b998f53"
  },
  {
   "cell_type": "markdown",
   "source": [
    "## Fomal Model → Mental Model"
   ],
   "metadata": {
    "collapsed": false
   },
   "id": "44cf6a6390505db0"
  },
  {
   "cell_type": "markdown",
   "source": [
    "### Calculate new Mental Model"
   ],
   "metadata": {
    "collapsed": false
   },
   "id": "644d20ca858addf8"
  },
  {
   "cell_type": "code",
   "execution_count": 22,
   "outputs": [],
   "source": [
    "formal_model_test = [[2.8, -1.8, -2.8, 1.3, 0.4],\n",
    "                     [2.9, -1.9, -2.9, 1.4, 0.5],\n",
    "                     [3, -2, -3, 1.5, 0.6],\n",
    "                     [3.1, -2.1, -3.1, 1.6, 0.7],\n",
    "                     [3.2, -2.2, -3.2, 1.7, 0.8],\n",
    "                     [-1.6, -2.5, 1.5, 0.2, 0.6],\n",
    "                     [-1.3, -2.7, 1.3, 0.4, 0.8],\n",
    "                     [-1, -3, 1.5, 0.6, 1],\n",
    "                     [-0.7, -3.2, 1.7, 0.8, 1.2],\n",
    "                     [-0.5, -3.5, 1.9, 1, 1.4],\n",
    "                     [1.2, -1.2, 0.7, -0.3, -2.8],\n",
    "                     [1.1, -1.1, 0.8, -0.4, -2.9],\n",
    "                     [1, -1, 0.844444444, -0.444444444, -3],\n",
    "                     [0.9, -0.9, 0.85, -0.45, -3.1],\n",
    "                     [0.8, -0.8, 0.9, -0.5, -3.2]]\n",
    "\n",
    "mental_model_test = [[-1.979394104, 1.959307524, -1.381119943, -1.729640979],\n",
    "                     [-1.974921385, 1.94850558, -1.726609792, -1.761213024],\n",
    "                     [-1.843907868, 1.99818664, -1.912855282, -1.97511053],\n",
    "                     [-1.998625355, 1.999671808, -1.998443276, -1.999764956],\n",
    "                     [-1.999365095, 1.998896097, -1.999605076, -1.998916765],\n",
    "                     [1.997775859, -1.844000202, 1.660111333, -1.373532039],\n",
    "                     [1.818753218, -1.909687734, 1.206631506, -1.407994628],\n",
    "                     [1.992023578, -1.923804827, 0.706593926, -1.543784398],\n",
    "                     [1.999174385, -1.997592083, 0.21221635, -1.586974171],\n",
    "                     [1.997854305, -1.999410881, -0.243400633, -1.827587263],\n",
    "                     [0.851626415, 1.574201387, 1.581026838, 1.573934081],\n",
    "                     [1.008512576, 1.570791652, 1.595657199, 1.741761976],\n",
    "                     [1.107744254, 1.615475549, 1.723582196, 1.807614602],\n",
    "                     [1.089897991, 1.611369928, 1.882537367, 1.873522151],\n",
    "                     [1.290406093, 1.695289797, 1.953503509, 1.946250271]]\n",
    "\n",
    "df_formal_model_test = pd.DataFrame(formal_model_test)\n",
    "df_mental_model_test = pd.DataFrame(mental_model_test)"
   ],
   "metadata": {
    "collapsed": false,
    "ExecuteTime": {
     "end_time": "2023-08-03T11:41:49.527737400Z",
     "start_time": "2023-08-03T11:41:49.413044Z"
    }
   },
   "id": "f413a850cf481627"
  },
  {
   "cell_type": "code",
   "execution_count": 23,
   "outputs": [],
   "source": [
    "matrix_B_calculated = df_matrix_A_final.values.dot(transition_matrix_T.values)\n",
    "\n",
    "# matrix_B_calculated = df_formal_model_test.values.dot(transition_matrix_T.values)"
   ],
   "metadata": {
    "collapsed": false,
    "ExecuteTime": {
     "end_time": "2023-08-03T11:41:49.528734800Z",
     "start_time": "2023-08-03T11:41:49.423017Z"
    }
   },
   "id": "fd8bfcf7bd7aab76"
  },
  {
   "cell_type": "code",
   "execution_count": 24,
   "outputs": [
    {
     "data": {
      "text/plain": "array([[0., 0., 0., ..., 0., 0., 0.],\n       [0., 0., 0., ..., 0., 0., 0.],\n       [0., 0., 0., ..., 0., 0., 0.],\n       ...,\n       [0., 0., 0., ..., 0., 0., 0.],\n       [0., 0., 0., ..., 0., 0., 0.],\n       [0., 0., 0., ..., 0., 0., 0.]])"
     },
     "execution_count": 24,
     "metadata": {},
     "output_type": "execute_result"
    }
   ],
   "source": [
    "matrix_B_calculated"
   ],
   "metadata": {
    "collapsed": false,
    "ExecuteTime": {
     "end_time": "2023-08-03T11:41:49.528734800Z",
     "start_time": "2023-08-03T11:41:49.440969200Z"
    }
   },
   "id": "94fc0f9c5a3e1930"
  },
  {
   "cell_type": "code",
   "execution_count": 25,
   "outputs": [
    {
     "data": {
      "text/plain": "     pixel0  pixel1  pixel2  pixel3  pixel4  pixel5  pixel6  pixel7  pixel8  \\\n0       0.0     0.0     0.0     0.0     0.0     0.0     0.0     0.0     0.0   \n1       0.0     0.0     0.0     0.0     0.0     0.0     0.0     0.0     0.0   \n2       0.0     0.0     0.0     0.0     0.0     0.0     0.0     0.0     0.0   \n3       0.0     0.0     0.0     0.0     0.0     0.0     0.0     0.0     0.0   \n4       0.0     0.0     0.0     0.0     0.0     0.0     0.0     0.0     0.0   \n..      ...     ...     ...     ...     ...     ...     ...     ...     ...   \n995     0.0     0.0     0.0     0.0     0.0     0.0     0.0     0.0     0.0   \n996     0.0     0.0     0.0     0.0     0.0     0.0     0.0     0.0     0.0   \n997     0.0     0.0     0.0     0.0     0.0     0.0     0.0     0.0     0.0   \n998     0.0     0.0     0.0     0.0     0.0     0.0     0.0     0.0     0.0   \n999     0.0     0.0     0.0     0.0     0.0     0.0     0.0     0.0     0.0   \n\n     pixel9  ...  pixel774  pixel775  pixel776  pixel777  pixel778  pixel779  \\\n0       0.0  ...       0.0       0.0       0.0       0.0       0.0       0.0   \n1       0.0  ...       0.0       0.0       0.0       0.0       0.0       0.0   \n2       0.0  ...       0.0       0.0       0.0       0.0       0.0       0.0   \n3       0.0  ...       0.0       0.0       0.0       0.0       0.0       0.0   \n4       0.0  ...       0.0       0.0       0.0       0.0       0.0       0.0   \n..      ...  ...       ...       ...       ...       ...       ...       ...   \n995     0.0  ...       0.0       0.0       0.0       0.0       0.0       0.0   \n996     0.0  ...       0.0       0.0       0.0       0.0       0.0       0.0   \n997     0.0  ...       0.0       0.0       0.0       0.0       0.0       0.0   \n998     0.0  ...       0.0       0.0       0.0       0.0       0.0       0.0   \n999     0.0  ...       0.0       0.0       0.0       0.0       0.0       0.0   \n\n     pixel780  pixel781  pixel782  pixel783  \n0         0.0       0.0       0.0       0.0  \n1         0.0       0.0       0.0       0.0  \n2         0.0       0.0       0.0       0.0  \n3         0.0       0.0       0.0       0.0  \n4         0.0       0.0       0.0       0.0  \n..        ...       ...       ...       ...  \n995       0.0       0.0       0.0       0.0  \n996       0.0       0.0       0.0       0.0  \n997       0.0       0.0       0.0       0.0  \n998       0.0       0.0       0.0       0.0  \n999       0.0       0.0       0.0       0.0  \n\n[1000 rows x 784 columns]",
      "text/html": "<div>\n<style scoped>\n    .dataframe tbody tr th:only-of-type {\n        vertical-align: middle;\n    }\n\n    .dataframe tbody tr th {\n        vertical-align: top;\n    }\n\n    .dataframe thead th {\n        text-align: right;\n    }\n</style>\n<table border=\"1\" class=\"dataframe\">\n  <thead>\n    <tr style=\"text-align: right;\">\n      <th></th>\n      <th>pixel0</th>\n      <th>pixel1</th>\n      <th>pixel2</th>\n      <th>pixel3</th>\n      <th>pixel4</th>\n      <th>pixel5</th>\n      <th>pixel6</th>\n      <th>pixel7</th>\n      <th>pixel8</th>\n      <th>pixel9</th>\n      <th>...</th>\n      <th>pixel774</th>\n      <th>pixel775</th>\n      <th>pixel776</th>\n      <th>pixel777</th>\n      <th>pixel778</th>\n      <th>pixel779</th>\n      <th>pixel780</th>\n      <th>pixel781</th>\n      <th>pixel782</th>\n      <th>pixel783</th>\n    </tr>\n  </thead>\n  <tbody>\n    <tr>\n      <th>0</th>\n      <td>0.0</td>\n      <td>0.0</td>\n      <td>0.0</td>\n      <td>0.0</td>\n      <td>0.0</td>\n      <td>0.0</td>\n      <td>0.0</td>\n      <td>0.0</td>\n      <td>0.0</td>\n      <td>0.0</td>\n      <td>...</td>\n      <td>0.0</td>\n      <td>0.0</td>\n      <td>0.0</td>\n      <td>0.0</td>\n      <td>0.0</td>\n      <td>0.0</td>\n      <td>0.0</td>\n      <td>0.0</td>\n      <td>0.0</td>\n      <td>0.0</td>\n    </tr>\n    <tr>\n      <th>1</th>\n      <td>0.0</td>\n      <td>0.0</td>\n      <td>0.0</td>\n      <td>0.0</td>\n      <td>0.0</td>\n      <td>0.0</td>\n      <td>0.0</td>\n      <td>0.0</td>\n      <td>0.0</td>\n      <td>0.0</td>\n      <td>...</td>\n      <td>0.0</td>\n      <td>0.0</td>\n      <td>0.0</td>\n      <td>0.0</td>\n      <td>0.0</td>\n      <td>0.0</td>\n      <td>0.0</td>\n      <td>0.0</td>\n      <td>0.0</td>\n      <td>0.0</td>\n    </tr>\n    <tr>\n      <th>2</th>\n      <td>0.0</td>\n      <td>0.0</td>\n      <td>0.0</td>\n      <td>0.0</td>\n      <td>0.0</td>\n      <td>0.0</td>\n      <td>0.0</td>\n      <td>0.0</td>\n      <td>0.0</td>\n      <td>0.0</td>\n      <td>...</td>\n      <td>0.0</td>\n      <td>0.0</td>\n      <td>0.0</td>\n      <td>0.0</td>\n      <td>0.0</td>\n      <td>0.0</td>\n      <td>0.0</td>\n      <td>0.0</td>\n      <td>0.0</td>\n      <td>0.0</td>\n    </tr>\n    <tr>\n      <th>3</th>\n      <td>0.0</td>\n      <td>0.0</td>\n      <td>0.0</td>\n      <td>0.0</td>\n      <td>0.0</td>\n      <td>0.0</td>\n      <td>0.0</td>\n      <td>0.0</td>\n      <td>0.0</td>\n      <td>0.0</td>\n      <td>...</td>\n      <td>0.0</td>\n      <td>0.0</td>\n      <td>0.0</td>\n      <td>0.0</td>\n      <td>0.0</td>\n      <td>0.0</td>\n      <td>0.0</td>\n      <td>0.0</td>\n      <td>0.0</td>\n      <td>0.0</td>\n    </tr>\n    <tr>\n      <th>4</th>\n      <td>0.0</td>\n      <td>0.0</td>\n      <td>0.0</td>\n      <td>0.0</td>\n      <td>0.0</td>\n      <td>0.0</td>\n      <td>0.0</td>\n      <td>0.0</td>\n      <td>0.0</td>\n      <td>0.0</td>\n      <td>...</td>\n      <td>0.0</td>\n      <td>0.0</td>\n      <td>0.0</td>\n      <td>0.0</td>\n      <td>0.0</td>\n      <td>0.0</td>\n      <td>0.0</td>\n      <td>0.0</td>\n      <td>0.0</td>\n      <td>0.0</td>\n    </tr>\n    <tr>\n      <th>...</th>\n      <td>...</td>\n      <td>...</td>\n      <td>...</td>\n      <td>...</td>\n      <td>...</td>\n      <td>...</td>\n      <td>...</td>\n      <td>...</td>\n      <td>...</td>\n      <td>...</td>\n      <td>...</td>\n      <td>...</td>\n      <td>...</td>\n      <td>...</td>\n      <td>...</td>\n      <td>...</td>\n      <td>...</td>\n      <td>...</td>\n      <td>...</td>\n      <td>...</td>\n      <td>...</td>\n    </tr>\n    <tr>\n      <th>995</th>\n      <td>0.0</td>\n      <td>0.0</td>\n      <td>0.0</td>\n      <td>0.0</td>\n      <td>0.0</td>\n      <td>0.0</td>\n      <td>0.0</td>\n      <td>0.0</td>\n      <td>0.0</td>\n      <td>0.0</td>\n      <td>...</td>\n      <td>0.0</td>\n      <td>0.0</td>\n      <td>0.0</td>\n      <td>0.0</td>\n      <td>0.0</td>\n      <td>0.0</td>\n      <td>0.0</td>\n      <td>0.0</td>\n      <td>0.0</td>\n      <td>0.0</td>\n    </tr>\n    <tr>\n      <th>996</th>\n      <td>0.0</td>\n      <td>0.0</td>\n      <td>0.0</td>\n      <td>0.0</td>\n      <td>0.0</td>\n      <td>0.0</td>\n      <td>0.0</td>\n      <td>0.0</td>\n      <td>0.0</td>\n      <td>0.0</td>\n      <td>...</td>\n      <td>0.0</td>\n      <td>0.0</td>\n      <td>0.0</td>\n      <td>0.0</td>\n      <td>0.0</td>\n      <td>0.0</td>\n      <td>0.0</td>\n      <td>0.0</td>\n      <td>0.0</td>\n      <td>0.0</td>\n    </tr>\n    <tr>\n      <th>997</th>\n      <td>0.0</td>\n      <td>0.0</td>\n      <td>0.0</td>\n      <td>0.0</td>\n      <td>0.0</td>\n      <td>0.0</td>\n      <td>0.0</td>\n      <td>0.0</td>\n      <td>0.0</td>\n      <td>0.0</td>\n      <td>...</td>\n      <td>0.0</td>\n      <td>0.0</td>\n      <td>0.0</td>\n      <td>0.0</td>\n      <td>0.0</td>\n      <td>0.0</td>\n      <td>0.0</td>\n      <td>0.0</td>\n      <td>0.0</td>\n      <td>0.0</td>\n    </tr>\n    <tr>\n      <th>998</th>\n      <td>0.0</td>\n      <td>0.0</td>\n      <td>0.0</td>\n      <td>0.0</td>\n      <td>0.0</td>\n      <td>0.0</td>\n      <td>0.0</td>\n      <td>0.0</td>\n      <td>0.0</td>\n      <td>0.0</td>\n      <td>...</td>\n      <td>0.0</td>\n      <td>0.0</td>\n      <td>0.0</td>\n      <td>0.0</td>\n      <td>0.0</td>\n      <td>0.0</td>\n      <td>0.0</td>\n      <td>0.0</td>\n      <td>0.0</td>\n      <td>0.0</td>\n    </tr>\n    <tr>\n      <th>999</th>\n      <td>0.0</td>\n      <td>0.0</td>\n      <td>0.0</td>\n      <td>0.0</td>\n      <td>0.0</td>\n      <td>0.0</td>\n      <td>0.0</td>\n      <td>0.0</td>\n      <td>0.0</td>\n      <td>0.0</td>\n      <td>...</td>\n      <td>0.0</td>\n      <td>0.0</td>\n      <td>0.0</td>\n      <td>0.0</td>\n      <td>0.0</td>\n      <td>0.0</td>\n      <td>0.0</td>\n      <td>0.0</td>\n      <td>0.0</td>\n      <td>0.0</td>\n    </tr>\n  </tbody>\n</table>\n<p>1000 rows × 784 columns</p>\n</div>"
     },
     "execution_count": 25,
     "metadata": {},
     "output_type": "execute_result"
    }
   ],
   "source": [
    "matrix_B_final"
   ],
   "metadata": {
    "collapsed": false,
    "ExecuteTime": {
     "end_time": "2023-08-03T11:41:49.591566800Z",
     "start_time": "2023-08-03T11:41:49.455929300Z"
    }
   },
   "id": "8529db2de5736905"
  },
  {
   "cell_type": "markdown",
   "source": [
    "### Calculate the Euclidean distance"
   ],
   "metadata": {
    "collapsed": false
   },
   "id": "ed4cb1f63bad2d8f"
  },
  {
   "cell_type": "code",
   "execution_count": 26,
   "outputs": [],
   "source": [
    "# Calculate Euclidean distance for each row\n",
    "euclidean_distances = np.sqrt(((matrix_B_final.values - matrix_B_calculated) ** 2).sum(axis=1))\n",
    "\n",
    "# euclidean_distances = np.sqrt(((df_mental_model_test - matrix_B_calculated) ** 2).sum(axis=1))\n",
    "\n",
    "# Sum of all the Euclidean distances\n",
    "total_distance = euclidean_distances.sum()\n"
   ],
   "metadata": {
    "collapsed": false,
    "ExecuteTime": {
     "end_time": "2023-08-03T11:41:49.639438700Z",
     "start_time": "2023-08-03T11:41:49.488841600Z"
    }
   },
   "id": "7df8118ce9550c5"
  },
  {
   "cell_type": "code",
   "execution_count": 27,
   "outputs": [
    {
     "data": {
      "text/plain": "array([2.50330388e+00, 2.17514764e+00, 2.33341786e+00, 2.72995602e+00,\n       2.40614358e+00, 2.39301314e+00, 2.45368919e+00, 1.88198602e+00,\n       2.72601428e+00, 2.75704650e+00, 1.49806289e+00, 2.35089047e+00,\n       2.72181729e+00, 2.84987998e+00, 2.14445819e+00, 2.47007144e+00,\n       2.61904201e+00, 1.77000517e+00, 2.45679122e+00, 2.40564138e+00,\n       2.48677173e+00, 2.77614532e+00, 2.60986853e+00, 2.73122093e+00,\n       2.15122276e+00, 2.53242910e+00, 2.42319463e+00, 2.33536246e+00,\n       2.76628664e+00, 2.57525798e+00, 1.79267901e+00, 2.24059008e+00,\n       2.65768628e+00, 2.68942271e+00, 1.99364655e+00, 1.57150431e+00,\n       2.19112902e+00, 2.82802559e+00, 2.73843678e+00, 2.47008481e+00,\n       2.66787699e+00, 2.42542593e+00, 6.80915277e-13, 2.74660262e+00,\n       2.18941040e+00, 2.23196548e+00, 2.53254686e+00, 2.39317842e+00,\n       1.90248224e+00, 2.38428242e+00, 2.42322804e+00, 1.69375850e+00,\n       2.13112707e+00, 2.26811875e+00, 2.51711635e+00, 2.17331829e+00,\n       2.65455553e+00, 2.25713983e+00, 1.93781280e+00, 1.92884581e+00,\n       2.31693588e+00, 2.81176478e+00, 2.09010737e+00, 1.80862626e+00,\n       2.47617309e+00, 3.02362016e+00, 2.26010421e+00, 2.51099103e+00,\n       2.27719855e+00, 2.57869702e+00, 2.62770095e+00, 2.33497057e+00,\n       1.96921346e+00, 2.17856546e+00, 2.62248396e+00, 2.89980214e+00,\n       2.71767215e+00, 2.03250857e+00, 2.50252925e+00, 2.64692952e+00,\n       2.38195644e+00, 2.15097514e+00, 1.87303577e+00, 2.84748907e+00,\n       2.09666755e+00, 2.84141532e+00, 2.44831729e+00, 1.98493985e+00,\n       2.82164436e+00, 2.79903078e+00, 2.16241962e+00, 2.11567071e+00,\n       2.05298152e+00, 2.22103915e+00, 2.34377974e+00, 2.22826978e+00,\n       2.44148251e+00, 2.24219985e+00, 2.49218331e+00, 1.79271020e+00,\n       2.34844384e+00, 2.55893492e+00, 2.61344577e+00, 1.95131199e+00,\n       2.55800103e+00, 2.65866072e+00, 2.34347353e+00, 2.83935908e+00,\n       2.17565753e+00, 2.83225239e+00, 2.37975054e+00, 2.74601831e+00,\n       1.94873773e+00, 2.73873169e+00, 2.51062633e+00, 2.95602809e+00,\n       2.31325765e+00, 2.46927156e+00, 2.45445972e+00, 2.52453077e+00,\n       2.16531535e+00, 2.23893155e+00, 2.41010174e+00, 2.24223402e+00,\n       2.32055063e+00, 2.58480344e+00, 2.20306454e+00, 2.61743601e+00,\n       2.42223524e+00, 2.83437051e-13, 2.52712000e+00, 2.33256174e+00,\n       1.93969748e+00, 2.85558155e+00, 2.58575937e+00, 2.31048631e+00,\n       2.41469786e+00, 2.03485319e+00, 2.36956531e+00, 2.70647460e+00,\n       2.43489064e+00, 2.38829997e+00, 2.10067624e+00, 2.65170290e+00,\n       2.35822307e+00, 2.06578963e+00, 2.12406190e+00, 2.52827528e+00,\n       2.42435944e+00, 2.79225599e+00, 2.81622530e+00, 1.75311229e+00,\n       2.81296882e+00, 2.90557602e+00, 2.08459612e+00, 2.02242756e+00,\n       2.41440808e+00, 2.70277925e+00, 2.50068314e+00, 2.18944638e+00,\n       2.58583729e+00, 2.30830657e+00, 2.55382901e+00, 2.29298479e+00,\n       2.41905930e+00, 1.48141089e+00, 2.71749229e+00, 2.93459358e+00,\n       2.74794120e+00, 2.66983032e+00, 2.69217292e+00, 2.11585486e+00,\n       1.35735109e+00, 2.81604625e+00, 2.53376774e+00, 2.61527076e+00,\n       1.97154533e+00, 2.46933681e+00, 2.40065099e+00, 2.53447614e+00,\n       2.39260265e+00, 2.29558495e+00, 2.65430725e+00, 2.15119250e+00,\n       2.63426066e+00, 2.45497511e+00, 2.73843672e+00, 3.25656733e+00,\n       2.27762072e+00, 3.15189753e+00, 2.51565957e+00, 2.50426515e+00,\n       2.51202861e+00, 2.27390845e+00, 2.61731645e+00, 2.14271905e+00,\n       2.48116675e+00, 2.54714760e+00, 2.96665837e+00, 2.42775770e+00,\n       2.53781005e+00, 2.35032120e+00, 1.83490989e+00, 2.18249213e+00,\n       2.58633500e+00, 2.69929033e+00, 2.21778195e+00, 8.98104240e-01,\n       2.16680468e+00, 2.36016991e+00, 2.61287760e+00, 2.52990718e+00,\n       2.21664851e+00, 2.24824154e+00, 2.30201973e+00, 2.51259417e+00,\n       2.21666931e+00, 2.40778157e+00, 2.54046917e+00, 2.50550769e+00,\n       2.83644540e+00, 2.68655164e+00, 1.76183510e+00, 1.95904620e+00,\n       2.71040304e+00, 1.97882205e+00, 2.62117672e+00, 2.10529632e+00,\n       2.37858610e+00, 1.96951240e+00, 2.46551743e+00, 2.53551622e+00,\n       2.32166093e+00, 2.38585258e+00, 2.40333071e+00, 2.75752217e+00,\n       2.43106305e+00, 2.64714378e+00, 2.15114532e+00, 2.26002680e+00,\n       1.63028898e+00, 2.55790725e+00, 2.06625168e+00, 2.41414585e+00,\n       2.35022142e+00, 2.54690044e+00, 2.52065656e+00, 2.71135008e+00,\n       2.45821921e+00, 1.98693956e+00, 2.75325886e+00, 2.91777809e+00,\n       1.67385400e+00, 2.78111068e+00, 2.75096433e+00, 2.28084750e+00,\n       2.64774462e+00, 2.65584775e+00, 2.71168548e+00, 1.95138014e+00,\n       1.80701127e+00, 1.87954815e+00, 2.57208029e+00, 2.53484046e+00,\n       1.75299537e+00, 2.62752981e+00, 2.66358466e+00, 2.59124251e+00,\n       2.45921907e+00, 2.66969229e+00, 2.71992940e+00, 2.68978773e+00,\n       1.37937492e+00, 2.46661116e+00, 2.35839844e+00, 1.74488383e+00,\n       2.15239550e+00, 2.60238178e+00, 2.36612045e+00, 2.41183152e+00,\n       1.91648073e+00, 2.25943090e+00, 2.07115462e+00, 2.41411742e+00,\n       2.00803020e+00, 2.49647259e+00, 2.50286965e+00, 2.57613182e+00,\n       2.04700566e+00, 2.97527731e+00, 1.07001289e+00, 2.53604111e+00,\n       2.67825694e+00, 2.61528164e+00, 3.01150191e+00, 2.44711344e+00,\n       2.81091803e+00, 2.58819411e+00, 2.63999059e+00, 2.61488149e+00,\n       1.93120199e+00, 2.54723992e+00, 1.60208798e+00, 2.00151350e+00,\n       2.27351846e+00, 2.38209992e+00, 2.21004872e+00, 2.51681963e+00,\n       2.87734942e+00, 2.39325822e+00, 2.44007895e+00, 2.54826727e+00,\n       2.25905377e+00, 2.74194803e+00, 2.58648198e+00, 2.32768035e+00,\n       2.25593799e+00, 2.99095356e+00, 2.41611462e+00, 2.23449809e+00,\n       2.17808756e+00, 2.75905901e+00, 1.98634716e+00, 1.66666836e+00,\n       2.56883503e+00, 2.40125270e+00, 1.81699075e+00, 2.28927538e+00,\n       2.29322848e+00, 2.15828836e+00, 2.19379814e+00, 2.11178024e+00,\n       2.64129723e+00, 2.44047530e+00, 2.19038705e+00, 3.14387761e+00,\n       1.88838056e+00, 2.91006211e+00, 2.45185594e+00, 2.77600606e+00,\n       2.26603787e+00, 1.72440159e+00, 1.56813562e+00, 1.78840590e+00,\n       2.40203673e+00, 2.69184363e+00, 2.30328657e+00, 2.18325352e+00,\n       2.44206808e+00, 2.28951167e+00, 2.32630091e+00, 2.43966370e+00,\n       1.93720599e+00, 2.44144629e+00, 1.94365090e+00, 2.53977846e+00,\n       2.10144507e+00, 2.40322389e+00, 2.43018808e+00, 2.43940685e+00,\n       2.64403069e+00, 2.34569350e+00, 2.01119391e+00, 2.92060601e+00,\n       2.67713619e+00, 3.05290108e+00, 2.60005736e+00, 2.06202087e+00,\n       2.19325772e+00, 2.45869756e+00, 2.16398285e+00, 2.17066312e+00,\n       2.26165188e+00, 2.62933369e+00, 2.06755982e+00, 1.88593421e+00,\n       2.33706764e+00, 1.82818974e+00, 2.53394477e+00, 2.35145149e+00,\n       2.19092228e+00, 2.47135176e+00, 1.92726188e+00, 2.45261729e+00,\n       2.12550971e+00, 2.51126603e+00, 1.85328429e+00, 1.77711720e+00,\n       2.02691033e+00, 2.01097437e+00, 2.08478676e+00, 2.68660326e+00,\n       2.31171529e+00, 2.44176731e+00, 2.28536681e+00, 2.43338283e+00,\n       2.33085223e+00, 2.37620574e+00, 2.38713534e+00, 2.35752203e+00,\n       2.22716089e+00, 2.54865406e+00, 2.75934230e+00, 2.23832585e+00,\n       2.47529950e+00, 2.62260273e+00, 2.36315740e+00, 2.74293838e+00,\n       2.17909363e+00, 2.28987638e+00, 2.04856554e+00, 2.63062166e+00,\n       2.73373870e+00, 2.34263148e+00, 2.47448705e+00, 2.44723841e+00,\n       2.89088461e+00, 1.70406877e+00, 2.18718866e+00, 2.45658664e+00,\n       2.36366210e+00, 2.16386630e+00, 2.56153501e+00, 2.29604252e+00,\n       2.26433450e+00, 2.62026094e+00, 5.56396938e-01, 2.05480180e+00,\n       2.10553298e+00, 2.18205143e+00, 2.64899838e+00, 2.40788900e+00,\n       1.51793099e+00, 2.62390814e+00, 2.47241413e+00, 2.61973729e+00,\n       2.92372644e+00, 2.69649384e+00, 2.08393062e+00, 2.04822809e+00,\n       2.58736018e+00, 1.80124307e+00, 2.39824520e+00, 2.47220384e+00,\n       1.85472973e+00, 2.67468377e+00, 2.24832770e+00, 2.21836243e+00,\n       2.29668689e+00, 2.77378677e+00, 2.51727535e+00, 2.61444407e+00,\n       2.87262321e+00, 2.57228018e+00, 2.27882829e+00, 2.13649509e+00,\n       2.65096806e+00, 6.04012167e-13, 2.45333916e+00, 1.37388221e+00,\n       2.63168889e+00, 2.49912259e+00, 2.30461825e+00, 3.30961560e+00,\n       2.60718751e+00, 2.42793240e+00, 2.39898588e+00, 2.13097903e+00,\n       2.69847568e+00, 2.60350715e+00, 2.44192567e+00, 2.37241896e+00,\n       2.33081660e+00, 2.59902646e+00, 1.62258051e+00, 1.99993860e+00,\n       2.39662963e+00, 2.46639293e+00, 2.65368825e+00, 2.25359589e+00,\n       2.45250423e+00, 2.40292803e+00, 2.54908018e+00, 2.78439133e+00,\n       2.83249264e+00, 2.27512969e+00, 7.78141067e-13, 1.88313246e+00,\n       2.28543747e+00, 2.59942890e+00, 2.70764840e+00, 2.46623814e+00,\n       1.95721022e+00, 2.82886451e+00, 2.54484757e+00, 2.15537738e+00,\n       2.45287251e+00, 2.69880052e+00, 2.37181115e+00, 2.94918640e+00,\n       2.09383777e+00, 2.46495178e+00, 2.34792501e+00, 2.36020776e+00,\n       1.81862397e+00, 2.15607855e+00, 2.45134938e+00, 2.51390230e+00,\n       1.78984395e+00, 2.54998396e+00, 2.78680111e+00, 2.47983150e+00,\n       2.35653148e+00, 2.15338797e+00, 2.27328314e+00, 2.72281780e+00,\n       2.73602110e+00, 2.12080634e+00, 2.05313023e+00, 1.84044110e+00,\n       2.52922833e+00, 2.86499976e+00, 2.63391135e+00, 2.52880619e+00,\n       2.16881641e+00, 2.28640335e+00, 2.36725941e+00, 1.52535179e+00,\n       2.40659682e+00, 2.54280034e+00, 2.30457276e+00, 2.30682372e+00,\n       2.08651236e+00, 2.43535285e+00, 2.51089437e+00, 2.69764368e+00,\n       2.10791972e+00, 2.52160397e+00, 2.43043767e+00, 2.22893345e+00,\n       2.34888391e+00, 2.53405775e+00, 1.98588848e+00, 2.45855045e+00,\n       2.34756948e+00, 2.52471958e+00, 2.95668450e+00, 2.54264906e+00,\n       2.39593839e+00, 2.76324910e+00, 1.96459474e+00, 1.83989818e+00,\n       2.52695760e+00, 2.59625733e+00, 2.07087965e+00, 2.60560369e+00,\n       2.10853472e+00, 1.70782989e+00, 2.73501385e+00, 2.77297526e+00,\n       2.64617450e+00, 1.64529257e+00, 1.63292732e+00, 2.37570094e+00,\n       2.31127558e+00, 2.35208038e+00, 2.25688739e+00, 2.18821769e+00,\n       2.46276130e+00, 2.81199027e+00, 2.68471491e+00, 2.72536054e+00,\n       2.54605434e+00, 2.73711481e+00, 1.73831935e+00, 2.37817191e+00,\n       2.17177066e+00, 2.75676582e+00, 1.90634858e+00, 2.61926489e+00,\n       2.06907705e+00, 2.31474859e+00, 2.66026138e+00, 2.36276940e+00,\n       2.19397418e+00, 2.05019500e+00, 1.61628887e+00, 3.02930149e+00,\n       2.06042144e+00, 1.73736686e+00, 2.59754378e+00, 1.68469633e+00,\n       2.59183988e+00, 2.53941157e+00, 2.64770377e+00, 2.18943071e+00,\n       2.48948310e+00, 2.50541100e+00, 2.67549453e+00, 2.43946548e+00,\n       2.39940907e+00, 1.93878888e+00, 1.88103834e+00, 2.62591410e+00,\n       2.49860153e+00, 1.72264835e-13, 1.05361834e+00, 2.67748918e+00,\n       2.58337717e+00, 1.72606049e+00, 2.29913327e+00, 2.34855815e+00,\n       2.84065761e+00, 1.50495888e+00, 2.52083507e+00, 2.57866685e+00,\n       2.27618724e+00, 2.60523808e+00, 2.67539701e+00, 2.47875374e+00,\n       2.48467998e+00, 2.21796278e+00, 2.89131333e+00, 1.90544456e+00,\n       2.74438697e+00, 2.69596260e+00, 2.55106743e+00, 2.50716495e+00,\n       2.39660751e+00, 2.01440612e+00, 2.44712538e+00, 2.33460662e+00,\n       2.18434598e+00, 2.33237449e+00, 2.44090296e+00, 2.54860739e+00,\n       2.52893525e+00, 2.56601894e+00, 2.40489382e+00, 2.18518994e+00,\n       2.67687720e+00, 2.23822920e+00, 4.05644270e-01, 2.48047926e+00,\n       1.76195367e+00, 2.33716797e+00, 2.46543216e+00, 2.28636917e+00,\n       2.41177189e+00, 2.59161059e+00, 1.45248640e+00, 2.35298636e+00,\n       2.71807309e+00, 2.74610931e+00, 2.56814878e+00, 2.38192870e+00,\n       3.00314030e+00, 2.72957853e+00, 2.54739018e+00, 2.84806063e+00,\n       2.30970171e+00, 2.28797055e+00, 2.28354093e+00, 1.83908013e+00,\n       2.37050322e+00, 2.62879606e+00, 2.17712755e+00, 2.26185585e+00,\n       2.64245553e+00, 1.96204089e+00, 2.27892778e+00, 2.27843485e+00,\n       1.67464165e+00, 2.15251598e+00, 2.53524379e+00, 3.20990986e+00,\n       2.64406318e+00, 1.20726482e+00, 2.37031349e+00, 2.42053332e+00,\n       1.92311178e+00, 2.78360955e+00, 2.48926990e+00, 2.01372072e+00,\n       2.86778678e+00, 1.69885450e+00, 2.18317858e+00, 2.69294933e+00,\n       2.38789513e+00, 1.41241277e+00, 2.46091145e+00, 1.22046069e+00,\n       2.17529962e+00, 2.92634862e+00, 2.31807771e+00, 2.47672495e+00,\n       1.97747531e+00, 2.98588530e+00, 2.80064565e+00, 2.11079145e+00,\n       2.52356286e+00, 2.42452194e+00, 2.66496165e+00, 2.70251982e+00,\n       2.31532234e+00, 1.90607264e+00, 1.73727128e+00, 2.53508188e+00,\n       2.28128932e+00, 2.24070530e+00, 2.87720576e+00, 2.13022849e+00,\n       2.10797302e+00, 2.68364448e+00, 2.61058040e+00, 2.41939043e+00,\n       2.42613975e+00, 1.79998617e+00, 2.79612282e+00, 2.60252468e+00,\n       2.18685047e+00, 2.26561113e+00, 2.42225781e+00, 2.48244735e+00,\n       2.37942444e+00, 2.26192839e+00, 1.40781044e+00, 2.13145886e+00,\n       3.16504974e+00, 1.30239724e+00, 1.99284397e+00, 3.31849831e-01,\n       2.62302967e+00, 2.13816919e+00, 2.89230408e+00, 3.04934970e+00,\n       2.62942691e+00, 2.56925937e+00, 1.94357400e+00, 2.57952788e+00,\n       2.60624068e+00, 2.46171147e+00, 2.64493732e+00, 1.82580130e+00,\n       1.24241933e+00, 3.05438680e+00, 2.77354987e+00, 1.66567983e+00,\n       1.92006140e+00, 2.63111711e+00, 2.53683746e+00, 2.49397625e+00,\n       2.04168188e+00, 2.46130398e+00, 2.36867424e+00, 2.97500306e+00,\n       2.35448572e+00, 2.54852749e+00, 2.11607352e+00, 2.42752202e+00,\n       2.99432861e+00, 1.04123510e+00, 2.42450279e+00, 2.50756962e+00,\n       2.55693882e+00, 1.82911161e+00, 2.26833501e+00, 2.16361048e+00,\n       2.31734201e+00, 1.41966594e+00, 2.05231115e+00, 2.58783695e+00,\n       2.29194614e+00, 2.31303536e+00, 2.51132735e+00, 2.56718793e+00,\n       2.20267234e+00, 2.82209748e+00, 2.60914492e+00, 2.64710023e+00,\n       2.72209588e+00, 2.50661187e+00, 2.14553840e+00, 2.48176744e+00,\n       1.38509023e+00, 2.61360106e+00, 2.25104487e+00, 2.48293255e+00,\n       2.17403715e+00, 2.67188926e+00, 2.28627383e+00, 2.09058966e+00,\n       2.26630970e+00, 2.31174472e+00, 2.81228811e+00, 2.47122239e+00,\n       2.30621520e+00, 2.41342485e+00, 1.95165434e+00, 2.46457774e+00,\n       2.33173093e+00, 1.74074980e+00, 2.78117677e+00, 1.61124966e+00,\n       2.57754955e+00, 2.26373581e+00, 2.20512181e+00, 2.69469490e+00,\n       5.40931592e-13, 3.15253632e+00, 2.50884949e+00, 1.99006581e+00,\n       2.37696875e+00, 2.11946305e+00, 2.88143307e+00, 2.27399054e+00,\n       2.61661191e+00, 2.21082026e+00, 2.28349971e+00, 2.53717969e+00,\n       2.02352660e+00, 2.99925372e+00, 2.55419624e+00, 2.22041943e+00,\n       2.33617167e+00, 2.85185555e+00, 2.12600657e+00, 2.37850985e+00,\n       2.56309075e+00, 2.17397858e+00, 2.73325744e+00, 2.23618428e-13,\n       2.60551890e-13, 2.58589501e+00, 2.75047168e+00, 2.18824627e+00,\n       2.37814289e+00, 3.60753921e+00, 1.57414510e+00, 2.42932395e+00,\n       1.95670055e+00, 1.32307486e-01, 2.54975823e+00, 1.77582733e+00,\n       2.62256904e+00, 2.30397493e+00, 2.73418992e+00, 2.22743620e+00,\n       2.02250852e+00, 2.50069425e+00, 2.94854043e+00, 2.34051014e+00,\n       2.02412270e+00, 2.27694592e+00, 2.33740128e+00, 2.44025827e+00,\n       1.89187074e+00, 2.08700211e+00, 2.91050695e+00, 2.56567654e+00,\n       2.25552519e+00, 2.41706998e+00, 2.34216971e+00, 2.39861862e+00,\n       2.50949510e+00, 2.27581638e+00, 2.31681179e+00, 2.13915295e+00,\n       2.37872477e+00, 1.57645341e+00, 1.96364601e+00, 1.83164738e+00,\n       2.22672307e+00, 2.28488919e+00, 2.35737994e+00, 2.88866525e+00,\n       2.70145419e+00, 2.28950923e+00, 2.91147385e+00, 2.77238349e+00,\n       2.53574133e+00, 2.78073321e+00, 3.22045213e+00, 1.84276530e+00,\n       2.64010762e+00, 2.52194856e+00, 2.63662861e+00, 3.14355938e+00,\n       2.31639501e+00, 2.84253695e+00, 2.41367275e+00, 2.63573055e+00,\n       2.64900070e+00, 2.83625182e+00, 2.30061455e+00, 2.66991625e+00,\n       2.55884541e+00, 2.16557627e+00, 2.30837925e+00, 2.58712851e+00,\n       2.82120859e+00, 2.27158813e+00, 2.55939374e+00, 2.81667484e+00,\n       2.29397110e+00, 2.25843697e+00, 2.03598453e+00, 2.37485293e+00,\n       1.85853549e+00, 2.36985569e+00, 2.71071006e+00, 2.38664092e+00,\n       2.47645805e+00, 2.64431901e+00, 2.78957510e+00, 2.46734456e+00,\n       2.36092237e+00, 1.71150639e+00, 2.19662667e+00, 2.16816518e+00,\n       2.64857998e+00, 2.34842268e+00, 3.23512149e+00, 2.57764289e+00,\n       2.48756284e+00, 2.07848367e+00, 2.42892484e+00, 2.44394517e+00,\n       2.55494444e+00, 2.57413086e+00, 4.44557416e-13, 2.35471344e+00,\n       2.58269252e+00, 2.47461284e+00, 1.72885501e+00, 1.93178659e+00,\n       2.35401903e+00, 2.39922067e+00, 2.39025643e+00, 2.11736867e+00,\n       2.52741539e+00, 2.37295719e+00, 2.59981262e+00, 3.14719395e+00,\n       2.88079169e+00, 2.76714738e+00, 2.44301497e+00, 2.45577286e+00,\n       2.54939198e+00, 2.31209430e+00, 2.02244343e+00, 2.71158599e+00,\n       2.44803667e+00, 1.89119368e+00, 2.32847922e+00, 2.45673504e+00,\n       2.20751655e+00, 2.42533682e+00, 2.48898944e+00, 2.50376589e+00,\n       2.08094873e+00, 2.74968149e+00, 2.42159001e+00, 2.43791187e+00,\n       2.32868035e+00, 2.28302847e+00, 2.69162143e+00, 2.38644060e+00,\n       2.38939799e+00, 2.36588111e+00, 2.28487885e+00, 2.57916900e+00,\n       2.39791163e+00, 3.11855567e+00, 2.84618101e+00, 2.44539381e+00,\n       2.00591626e+00, 2.46256758e+00, 1.98421643e+00, 2.47274027e+00,\n       2.42018750e+00, 2.30004011e+00, 2.36698178e+00, 3.21073857e+00,\n       2.57435011e+00, 2.55788643e+00, 2.83626958e+00, 2.30678562e+00,\n       2.47312712e+00, 2.54926984e+00, 2.59189089e+00, 2.47213399e+00,\n       2.19545693e+00, 2.15818754e+00, 1.88472642e+00, 2.50108757e+00,\n       2.62862102e+00, 2.90215403e+00, 1.28655982e+00, 2.78234513e+00])"
     },
     "execution_count": 27,
     "metadata": {},
     "output_type": "execute_result"
    }
   ],
   "source": [
    "euclidean_distances"
   ],
   "metadata": {
    "collapsed": false,
    "ExecuteTime": {
     "end_time": "2023-08-03T11:41:49.684347600Z",
     "start_time": "2023-08-03T11:41:49.502805200Z"
    }
   },
   "id": "b63fd7db3527491a"
  },
  {
   "cell_type": "code",
   "execution_count": 28,
   "outputs": [
    {
     "data": {
      "text/plain": "2350.171773132692"
     },
     "execution_count": 28,
     "metadata": {},
     "output_type": "execute_result"
    }
   ],
   "source": [
    "total_distance"
   ],
   "metadata": {
    "collapsed": false,
    "ExecuteTime": {
     "end_time": "2023-08-03T11:41:49.703296400Z",
     "start_time": "2023-08-03T11:41:49.516767Z"
    }
   },
   "id": "def08e7255ece582"
  },
  {
   "cell_type": "code",
   "execution_count": 31,
   "outputs": [],
   "source": [
    "import matplotlib.pyplot as plt\n",
    "\n",
    "def plot_mnist(input_data, num_to_display):\n",
    "    \"\"\"\n",
    "    Plots the MNIST numbers from the given data which can be either a DataFrame or a numpy array.\n",
    "    \n",
    "    :param input_data: Either DataFrame or numpy array containing MNIST numbers flattened.\n",
    "    :param num_to_display: Number of MNIST images to display. Defaults to 10.\n",
    "    \"\"\"\n",
    "\n",
    "    # Check the type of data and convert accordingly\n",
    "    if isinstance(input_data, pd.DataFrame):\n",
    "        data_array = input_data.to_numpy()\n",
    "    elif isinstance(input_data, np.ndarray):\n",
    "        data_array = input_data\n",
    "    else:\n",
    "        raise TypeError(\"Input data must be either a pandas DataFrame or a numpy array.\")\n",
    "\n",
    "    fig, axes = plt.subplots(1, num_to_display, figsize=(20, 2))\n",
    "\n",
    "    for i, ax in enumerate(axes):\n",
    "        if i >= len(data_array):\n",
    "            break\n",
    "        # Reshape the flattened image into 28x28\n",
    "        img = data_array[i].reshape(28, 28)\n",
    "        ax.imshow(img, cmap=\"gray\")\n",
    "        ax.axis(\"off\")  # Turn off the axis numbers\n",
    "\n",
    "    plt.show()\n"
   ],
   "metadata": {
    "collapsed": false,
    "ExecuteTime": {
     "end_time": "2023-08-03T11:42:35.419403500Z",
     "start_time": "2023-08-03T11:42:35.369510300Z"
    }
   },
   "id": "8d1f0aa4650a37ca"
  },
  {
   "cell_type": "code",
   "execution_count": 35,
   "outputs": [
    {
     "data": {
      "text/plain": "<Figure size 2000x200 with 10 Axes>",
      "image/png": "[encoded data removed]"
     },
     "metadata": {},
     "output_type": "display_data"
    },
    {
     "data": {
      "text/plain": "<Figure size 2000x200 with 10 Axes>",
      "image/png": "[encoded data removed]"
     },
     "metadata": {},
     "output_type": "display_data"
    }
   ],
   "source": [
    "n_images = 10\n",
    "\n",
    "# Call the function with matrix_B_final dataframe or numpy array\n",
    "plot_mnist(matrix_B_final, n_images)\n",
    "\n",
    "plot_mnist(matrix_B_calculated, n_images)"
   ],
   "metadata": {
    "collapsed": false,
    "ExecuteTime": {
     "end_time": "2023-08-03T11:43:18.523674900Z",
     "start_time": "2023-08-03T11:43:18.124748700Z"
    }
   },
   "id": "e0990946a5201ddf"
  },
  {
   "cell_type": "code",
   "execution_count": 36,
   "outputs": [
    {
     "data": {
      "text/plain": "array([[0., 0., 0., ..., 0., 0., 0.],\n       [0., 0., 0., ..., 0., 0., 0.],\n       [0., 0., 0., ..., 0., 0., 0.],\n       ...,\n       [0., 0., 0., ..., 0., 0., 0.],\n       [0., 0., 0., ..., 0., 0., 0.],\n       [0., 0., 0., ..., 0., 0., 0.]])"
     },
     "execution_count": 36,
     "metadata": {},
     "output_type": "execute_result"
    }
   ],
   "source": [
    "matrix_B_calculated"
   ],
   "metadata": {
    "collapsed": false,
    "ExecuteTime": {
     "end_time": "2023-08-03T11:43:23.788336700Z",
     "start_time": "2023-08-03T11:43:23.762417Z"
    }
   },
   "id": "1d5abb28c8815379"
  },
  {
   "cell_type": "code",
   "execution_count": null,
   "outputs": [],
   "source": [],
   "metadata": {
    "collapsed": false,
    "ExecuteTime": {
     "start_time": "2023-08-03T11:42:35.591501100Z"
    }
   },
   "id": "b6ae86a425653df8"
  }
 ],
 "metadata": {
  "kernelspec": {
   "display_name": "Python 3",
   "language": "python",
   "name": "python3"
  },
  "language_info": {
   "codemirror_mode": {
    "name": "ipython",
    "version": 2
   },
   "file_extension": ".py",
   "mimetype": "text/x-python",
   "name": "python",
   "nbconvert_exporter": "python",
   "pygments_lexer": "ipython2",
   "version": "2.7.6"
  }
 },
 "nbformat": 4,
 "nbformat_minor": 5
}
