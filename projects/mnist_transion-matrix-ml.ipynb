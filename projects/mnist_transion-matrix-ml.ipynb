{
 "cells": [
  {
   "cell_type": "code",
   "execution_count": 1,
   "id": "d205769e02645fb9",
   "metadata": {
    "collapsed": false,
    "jupyter": {
     "outputs_hidden": false
    },
    "ExecuteTime": {
     "end_time": "2023-08-06T08:36:43.035667200Z",
     "start_time": "2023-08-06T08:36:42.596742200Z"
    }
   },
   "outputs": [],
   "source": [
    "import pandas as pd\n",
    "import numpy as np\n"
   ]
  },
  {
   "cell_type": "code",
   "execution_count": 2,
   "id": "initial_id",
   "metadata": {
    "collapsed": false,
    "jupyter": {
     "outputs_hidden": false
    },
    "ExecuteTime": {
     "end_time": "2023-08-06T08:36:44.470580400Z",
     "start_time": "2023-08-06T08:36:43.038667200Z"
    }
   },
   "outputs": [],
   "source": [
    "# URLs for the CSV files\n",
    "# url_csv_A = \"https://raw.githubusercontent.com/radiukpavlo/transition-matrix-ml/main/mnist/mnist_matrix_A.csv\"\n",
    "# url_csv_B = \"https://raw.githubusercontent.com/radiukpavlo/transition-matrix-ml/main/mnist/mnist_matrix_B.csv\"\n",
    "\n",
    "path_csv = '../mnist/'\n",
    "\n",
    "# Read the CSV files into pandas dataframes\n",
    "df_matrix_A_train = pd.read_csv(f\"{path_csv}/mnist_matrix_A_train.csv\")\n",
    "df_matrix_B_train = pd.read_csv(f\"{path_csv}/mnist_matrix_B_train.csv\")\n",
    "\n",
    "df_matrix_A_test = pd.read_csv(f\"{path_csv}/mnist_matrix_A_test.csv\")\n",
    "df_matrix_B_test = pd.read_csv(f\"{path_csv}/mnist_matrix_B_test.csv\")"
   ]
  },
  {
   "cell_type": "code",
   "execution_count": 3,
   "id": "5ab2939e56366a7d",
   "metadata": {
    "collapsed": false,
    "jupyter": {
     "outputs_hidden": false
    },
    "ExecuteTime": {
     "end_time": "2023-08-06T08:36:44.525448600Z",
     "start_time": "2023-08-06T08:36:44.471428100Z"
    }
   },
   "outputs": [
    {
     "data": {
      "text/plain": "      Unnamed: 0  unique_id         0         1         2         3         4  \\\n0              0      54285  0.000000  0.152610  0.000000  0.000000  0.000000   \n1              1      47206  0.000000  0.000000  0.000000  0.000000  0.000000   \n2              2      41006  0.000000  0.000000  0.424915  0.000000  0.072279   \n3              3      17052  0.000000  0.000000  0.000000  0.000000  0.011191   \n4              4      22533  0.000000  0.000000  0.000000  0.000000  0.005999   \n...          ...        ...       ...       ...       ...       ...       ...   \n9995        9995        225  0.000000  0.000000  0.157362  0.000000  0.000000   \n9996        9996      22480  0.000000  0.000000  0.080910  0.000000  0.000000   \n9997        9997      43377  0.000000  0.000000  0.000000  0.000000  0.000000   \n9998        9998      21342  0.000000  0.000000  0.000000  0.615012  0.055741   \n9999        9999      14671  0.997996  1.221766  0.000000  0.071689  0.000000   \n\n             5         6         7  ...       480       481       482  \\\n0     0.000000  0.038960  0.000000  ...  0.000000  0.158412  0.000000   \n1     0.000000  0.038960  0.000000  ...  0.000000  0.000000  0.000000   \n2     0.000000  0.038960  0.000000  ...  2.295538  1.126145  0.000000   \n3     0.000000  0.038960  0.696796  ...  0.000000  0.122298  0.109685   \n4     0.024296  0.039652  0.000000  ...  0.000000  0.000000  0.000000   \n...        ...       ...       ...  ...       ...       ...       ...   \n9995  0.000000  0.039694  0.000000  ...  0.958024  1.585808  0.000000   \n9996  0.010867  0.038960  0.501337  ...  0.000000  2.251701  1.807578   \n9997  0.000000  0.020556  0.000000  ...  0.000000  0.000000  0.000000   \n9998  0.067638  0.038960  0.000000  ...  0.000000  0.000000  0.000000   \n9999  0.000000  0.038960  0.258765  ...  0.000000  0.000000  0.000000   \n\n           483       484       485       486       487       488  489  \n0     0.000000  0.000000  0.000000  0.000000  0.000000  0.000000  0.0  \n1     0.098544  0.000000  0.178203  0.000000  0.018849  2.458571  0.0  \n2     0.098544  0.000000  0.036745  0.000000  0.000000  0.000000  0.0  \n3     0.098584  0.000000  0.000000  0.000000  0.000000  0.000000  0.0  \n4     0.000000  0.000000  0.000000  0.000000  0.000000  0.000000  0.0  \n...        ...       ...       ...       ...       ...       ...  ...  \n9995  0.095432  0.000000  0.000000  0.000000  0.000000  0.000000  0.0  \n9996  0.098544  0.000000  0.000000  0.003035  0.000000  0.000000  0.0  \n9997  0.173573  0.457831  0.455945  0.158843  0.000000  0.000000  0.0  \n9998  0.098544  0.073035  0.000000  0.000000  0.000000  0.000000  0.0  \n9999  0.098544  0.000000  0.102795  0.212620  0.180369  0.016607  0.0  \n\n[10000 rows x 492 columns]",
      "text/html": "<div>\n<style scoped>\n    .dataframe tbody tr th:only-of-type {\n        vertical-align: middle;\n    }\n\n    .dataframe tbody tr th {\n        vertical-align: top;\n    }\n\n    .dataframe thead th {\n        text-align: right;\n    }\n</style>\n<table border=\"1\" class=\"dataframe\">\n  <thead>\n    <tr style=\"text-align: right;\">\n      <th></th>\n      <th>Unnamed: 0</th>\n      <th>unique_id</th>\n      <th>0</th>\n      <th>1</th>\n      <th>2</th>\n      <th>3</th>\n      <th>4</th>\n      <th>5</th>\n      <th>6</th>\n      <th>7</th>\n      <th>...</th>\n      <th>480</th>\n      <th>481</th>\n      <th>482</th>\n      <th>483</th>\n      <th>484</th>\n      <th>485</th>\n      <th>486</th>\n      <th>487</th>\n      <th>488</th>\n      <th>489</th>\n    </tr>\n  </thead>\n  <tbody>\n    <tr>\n      <th>0</th>\n      <td>0</td>\n      <td>54285</td>\n      <td>0.000000</td>\n      <td>0.152610</td>\n      <td>0.000000</td>\n      <td>0.000000</td>\n      <td>0.000000</td>\n      <td>0.000000</td>\n      <td>0.038960</td>\n      <td>0.000000</td>\n      <td>...</td>\n      <td>0.000000</td>\n      <td>0.158412</td>\n      <td>0.000000</td>\n      <td>0.000000</td>\n      <td>0.000000</td>\n      <td>0.000000</td>\n      <td>0.000000</td>\n      <td>0.000000</td>\n      <td>0.000000</td>\n      <td>0.0</td>\n    </tr>\n    <tr>\n      <th>1</th>\n      <td>1</td>\n      <td>47206</td>\n      <td>0.000000</td>\n      <td>0.000000</td>\n      <td>0.000000</td>\n      <td>0.000000</td>\n      <td>0.000000</td>\n      <td>0.000000</td>\n      <td>0.038960</td>\n      <td>0.000000</td>\n      <td>...</td>\n      <td>0.000000</td>\n      <td>0.000000</td>\n      <td>0.000000</td>\n      <td>0.098544</td>\n      <td>0.000000</td>\n      <td>0.178203</td>\n      <td>0.000000</td>\n      <td>0.018849</td>\n      <td>2.458571</td>\n      <td>0.0</td>\n    </tr>\n    <tr>\n      <th>2</th>\n      <td>2</td>\n      <td>41006</td>\n      <td>0.000000</td>\n      <td>0.000000</td>\n      <td>0.424915</td>\n      <td>0.000000</td>\n      <td>0.072279</td>\n      <td>0.000000</td>\n      <td>0.038960</td>\n      <td>0.000000</td>\n      <td>...</td>\n      <td>2.295538</td>\n      <td>1.126145</td>\n      <td>0.000000</td>\n      <td>0.098544</td>\n      <td>0.000000</td>\n      <td>0.036745</td>\n      <td>0.000000</td>\n      <td>0.000000</td>\n      <td>0.000000</td>\n      <td>0.0</td>\n    </tr>\n    <tr>\n      <th>3</th>\n      <td>3</td>\n      <td>17052</td>\n      <td>0.000000</td>\n      <td>0.000000</td>\n      <td>0.000000</td>\n      <td>0.000000</td>\n      <td>0.011191</td>\n      <td>0.000000</td>\n      <td>0.038960</td>\n      <td>0.696796</td>\n      <td>...</td>\n      <td>0.000000</td>\n      <td>0.122298</td>\n      <td>0.109685</td>\n      <td>0.098584</td>\n      <td>0.000000</td>\n      <td>0.000000</td>\n      <td>0.000000</td>\n      <td>0.000000</td>\n      <td>0.000000</td>\n      <td>0.0</td>\n    </tr>\n    <tr>\n      <th>4</th>\n      <td>4</td>\n      <td>22533</td>\n      <td>0.000000</td>\n      <td>0.000000</td>\n      <td>0.000000</td>\n      <td>0.000000</td>\n      <td>0.005999</td>\n      <td>0.024296</td>\n      <td>0.039652</td>\n      <td>0.000000</td>\n      <td>...</td>\n      <td>0.000000</td>\n      <td>0.000000</td>\n      <td>0.000000</td>\n      <td>0.000000</td>\n      <td>0.000000</td>\n      <td>0.000000</td>\n      <td>0.000000</td>\n      <td>0.000000</td>\n      <td>0.000000</td>\n      <td>0.0</td>\n    </tr>\n    <tr>\n      <th>...</th>\n      <td>...</td>\n      <td>...</td>\n      <td>...</td>\n      <td>...</td>\n      <td>...</td>\n      <td>...</td>\n      <td>...</td>\n      <td>...</td>\n      <td>...</td>\n      <td>...</td>\n      <td>...</td>\n      <td>...</td>\n      <td>...</td>\n      <td>...</td>\n      <td>...</td>\n      <td>...</td>\n      <td>...</td>\n      <td>...</td>\n      <td>...</td>\n      <td>...</td>\n      <td>...</td>\n    </tr>\n    <tr>\n      <th>9995</th>\n      <td>9995</td>\n      <td>225</td>\n      <td>0.000000</td>\n      <td>0.000000</td>\n      <td>0.157362</td>\n      <td>0.000000</td>\n      <td>0.000000</td>\n      <td>0.000000</td>\n      <td>0.039694</td>\n      <td>0.000000</td>\n      <td>...</td>\n      <td>0.958024</td>\n      <td>1.585808</td>\n      <td>0.000000</td>\n      <td>0.095432</td>\n      <td>0.000000</td>\n      <td>0.000000</td>\n      <td>0.000000</td>\n      <td>0.000000</td>\n      <td>0.000000</td>\n      <td>0.0</td>\n    </tr>\n    <tr>\n      <th>9996</th>\n      <td>9996</td>\n      <td>22480</td>\n      <td>0.000000</td>\n      <td>0.000000</td>\n      <td>0.080910</td>\n      <td>0.000000</td>\n      <td>0.000000</td>\n      <td>0.010867</td>\n      <td>0.038960</td>\n      <td>0.501337</td>\n      <td>...</td>\n      <td>0.000000</td>\n      <td>2.251701</td>\n      <td>1.807578</td>\n      <td>0.098544</td>\n      <td>0.000000</td>\n      <td>0.000000</td>\n      <td>0.003035</td>\n      <td>0.000000</td>\n      <td>0.000000</td>\n      <td>0.0</td>\n    </tr>\n    <tr>\n      <th>9997</th>\n      <td>9997</td>\n      <td>43377</td>\n      <td>0.000000</td>\n      <td>0.000000</td>\n      <td>0.000000</td>\n      <td>0.000000</td>\n      <td>0.000000</td>\n      <td>0.000000</td>\n      <td>0.020556</td>\n      <td>0.000000</td>\n      <td>...</td>\n      <td>0.000000</td>\n      <td>0.000000</td>\n      <td>0.000000</td>\n      <td>0.173573</td>\n      <td>0.457831</td>\n      <td>0.455945</td>\n      <td>0.158843</td>\n      <td>0.000000</td>\n      <td>0.000000</td>\n      <td>0.0</td>\n    </tr>\n    <tr>\n      <th>9998</th>\n      <td>9998</td>\n      <td>21342</td>\n      <td>0.000000</td>\n      <td>0.000000</td>\n      <td>0.000000</td>\n      <td>0.615012</td>\n      <td>0.055741</td>\n      <td>0.067638</td>\n      <td>0.038960</td>\n      <td>0.000000</td>\n      <td>...</td>\n      <td>0.000000</td>\n      <td>0.000000</td>\n      <td>0.000000</td>\n      <td>0.098544</td>\n      <td>0.073035</td>\n      <td>0.000000</td>\n      <td>0.000000</td>\n      <td>0.000000</td>\n      <td>0.000000</td>\n      <td>0.0</td>\n    </tr>\n    <tr>\n      <th>9999</th>\n      <td>9999</td>\n      <td>14671</td>\n      <td>0.997996</td>\n      <td>1.221766</td>\n      <td>0.000000</td>\n      <td>0.071689</td>\n      <td>0.000000</td>\n      <td>0.000000</td>\n      <td>0.038960</td>\n      <td>0.258765</td>\n      <td>...</td>\n      <td>0.000000</td>\n      <td>0.000000</td>\n      <td>0.000000</td>\n      <td>0.098544</td>\n      <td>0.000000</td>\n      <td>0.102795</td>\n      <td>0.212620</td>\n      <td>0.180369</td>\n      <td>0.016607</td>\n      <td>0.0</td>\n    </tr>\n  </tbody>\n</table>\n<p>10000 rows × 492 columns</p>\n</div>"
     },
     "execution_count": 3,
     "metadata": {},
     "output_type": "execute_result"
    }
   ],
   "source": [
    "df_matrix_A_train"
   ]
  },
  {
   "cell_type": "code",
   "execution_count": 4,
   "id": "92bce8109d11fee0",
   "metadata": {
    "collapsed": false,
    "jupyter": {
     "outputs_hidden": false
    },
    "ExecuteTime": {
     "end_time": "2023-08-06T08:36:44.631471700Z",
     "start_time": "2023-08-06T08:36:44.521447700Z"
    }
   },
   "outputs": [
    {
     "data": {
      "text/plain": "      unique_id  label  pixel0  pixel1  pixel2  pixel3  pixel4  pixel5  \\\n0         54285      3     0.0     0.0     0.0     0.0     0.0     0.0   \n1         47206      7     0.0     0.0     0.0     0.0     0.0     0.0   \n2         41006      4     0.0     0.0     0.0     0.0     0.0     0.0   \n3         17052      2     0.0     0.0     0.0     0.0     0.0     0.0   \n4         22533      1     0.0     0.0     0.0     0.0     0.0     0.0   \n...         ...    ...     ...     ...     ...     ...     ...     ...   \n9995        225      8     0.0     0.0     0.0     0.0     0.0     0.0   \n9996      22480      4     0.0     0.0     0.0     0.0     0.0     0.0   \n9997      43377      5     0.0     0.0     0.0     0.0     0.0     0.0   \n9998      21342      1     0.0     0.0     0.0     0.0     0.0     0.0   \n9999      14671      6     0.0     0.0     0.0     0.0     0.0     0.0   \n\n      pixel6  pixel7  ...  pixel774  pixel775  pixel776  pixel777  pixel778  \\\n0        0.0     0.0  ...       0.0       0.0       0.0       0.0       0.0   \n1        0.0     0.0  ...       0.0       0.0       0.0       0.0       0.0   \n2        0.0     0.0  ...       0.0       0.0       0.0       0.0       0.0   \n3        0.0     0.0  ...       0.0       0.0       0.0       0.0       0.0   \n4        0.0     0.0  ...       0.0       0.0       0.0       0.0       0.0   \n...      ...     ...  ...       ...       ...       ...       ...       ...   \n9995     0.0     0.0  ...       0.0       0.0       0.0       0.0       0.0   \n9996     0.0     0.0  ...       0.0       0.0       0.0       0.0       0.0   \n9997     0.0     0.0  ...       0.0       0.0       0.0       0.0       0.0   \n9998     0.0     0.0  ...       0.0       0.0       0.0       0.0       0.0   \n9999     0.0     0.0  ...       0.0       0.0       0.0       0.0       0.0   \n\n      pixel779  pixel780  pixel781  pixel782  pixel783  \n0          0.0       0.0       0.0       0.0       0.0  \n1          0.0       0.0       0.0       0.0       0.0  \n2          0.0       0.0       0.0       0.0       0.0  \n3          0.0       0.0       0.0       0.0       0.0  \n4          0.0       0.0       0.0       0.0       0.0  \n...        ...       ...       ...       ...       ...  \n9995       0.0       0.0       0.0       0.0       0.0  \n9996       0.0       0.0       0.0       0.0       0.0  \n9997       0.0       0.0       0.0       0.0       0.0  \n9998       0.0       0.0       0.0       0.0       0.0  \n9999       0.0       0.0       0.0       0.0       0.0  \n\n[10000 rows x 786 columns]",
      "text/html": "<div>\n<style scoped>\n    .dataframe tbody tr th:only-of-type {\n        vertical-align: middle;\n    }\n\n    .dataframe tbody tr th {\n        vertical-align: top;\n    }\n\n    .dataframe thead th {\n        text-align: right;\n    }\n</style>\n<table border=\"1\" class=\"dataframe\">\n  <thead>\n    <tr style=\"text-align: right;\">\n      <th></th>\n      <th>unique_id</th>\n      <th>label</th>\n      <th>pixel0</th>\n      <th>pixel1</th>\n      <th>pixel2</th>\n      <th>pixel3</th>\n      <th>pixel4</th>\n      <th>pixel5</th>\n      <th>pixel6</th>\n      <th>pixel7</th>\n      <th>...</th>\n      <th>pixel774</th>\n      <th>pixel775</th>\n      <th>pixel776</th>\n      <th>pixel777</th>\n      <th>pixel778</th>\n      <th>pixel779</th>\n      <th>pixel780</th>\n      <th>pixel781</th>\n      <th>pixel782</th>\n      <th>pixel783</th>\n    </tr>\n  </thead>\n  <tbody>\n    <tr>\n      <th>0</th>\n      <td>54285</td>\n      <td>3</td>\n      <td>0.0</td>\n      <td>0.0</td>\n      <td>0.0</td>\n      <td>0.0</td>\n      <td>0.0</td>\n      <td>0.0</td>\n      <td>0.0</td>\n      <td>0.0</td>\n      <td>...</td>\n      <td>0.0</td>\n      <td>0.0</td>\n      <td>0.0</td>\n      <td>0.0</td>\n      <td>0.0</td>\n      <td>0.0</td>\n      <td>0.0</td>\n      <td>0.0</td>\n      <td>0.0</td>\n      <td>0.0</td>\n    </tr>\n    <tr>\n      <th>1</th>\n      <td>47206</td>\n      <td>7</td>\n      <td>0.0</td>\n      <td>0.0</td>\n      <td>0.0</td>\n      <td>0.0</td>\n      <td>0.0</td>\n      <td>0.0</td>\n      <td>0.0</td>\n      <td>0.0</td>\n      <td>...</td>\n      <td>0.0</td>\n      <td>0.0</td>\n      <td>0.0</td>\n      <td>0.0</td>\n      <td>0.0</td>\n      <td>0.0</td>\n      <td>0.0</td>\n      <td>0.0</td>\n      <td>0.0</td>\n      <td>0.0</td>\n    </tr>\n    <tr>\n      <th>2</th>\n      <td>41006</td>\n      <td>4</td>\n      <td>0.0</td>\n      <td>0.0</td>\n      <td>0.0</td>\n      <td>0.0</td>\n      <td>0.0</td>\n      <td>0.0</td>\n      <td>0.0</td>\n      <td>0.0</td>\n      <td>...</td>\n      <td>0.0</td>\n      <td>0.0</td>\n      <td>0.0</td>\n      <td>0.0</td>\n      <td>0.0</td>\n      <td>0.0</td>\n      <td>0.0</td>\n      <td>0.0</td>\n      <td>0.0</td>\n      <td>0.0</td>\n    </tr>\n    <tr>\n      <th>3</th>\n      <td>17052</td>\n      <td>2</td>\n      <td>0.0</td>\n      <td>0.0</td>\n      <td>0.0</td>\n      <td>0.0</td>\n      <td>0.0</td>\n      <td>0.0</td>\n      <td>0.0</td>\n      <td>0.0</td>\n      <td>...</td>\n      <td>0.0</td>\n      <td>0.0</td>\n      <td>0.0</td>\n      <td>0.0</td>\n      <td>0.0</td>\n      <td>0.0</td>\n      <td>0.0</td>\n      <td>0.0</td>\n      <td>0.0</td>\n      <td>0.0</td>\n    </tr>\n    <tr>\n      <th>4</th>\n      <td>22533</td>\n      <td>1</td>\n      <td>0.0</td>\n      <td>0.0</td>\n      <td>0.0</td>\n      <td>0.0</td>\n      <td>0.0</td>\n      <td>0.0</td>\n      <td>0.0</td>\n      <td>0.0</td>\n      <td>...</td>\n      <td>0.0</td>\n      <td>0.0</td>\n      <td>0.0</td>\n      <td>0.0</td>\n      <td>0.0</td>\n      <td>0.0</td>\n      <td>0.0</td>\n      <td>0.0</td>\n      <td>0.0</td>\n      <td>0.0</td>\n    </tr>\n    <tr>\n      <th>...</th>\n      <td>...</td>\n      <td>...</td>\n      <td>...</td>\n      <td>...</td>\n      <td>...</td>\n      <td>...</td>\n      <td>...</td>\n      <td>...</td>\n      <td>...</td>\n      <td>...</td>\n      <td>...</td>\n      <td>...</td>\n      <td>...</td>\n      <td>...</td>\n      <td>...</td>\n      <td>...</td>\n      <td>...</td>\n      <td>...</td>\n      <td>...</td>\n      <td>...</td>\n      <td>...</td>\n    </tr>\n    <tr>\n      <th>9995</th>\n      <td>225</td>\n      <td>8</td>\n      <td>0.0</td>\n      <td>0.0</td>\n      <td>0.0</td>\n      <td>0.0</td>\n      <td>0.0</td>\n      <td>0.0</td>\n      <td>0.0</td>\n      <td>0.0</td>\n      <td>...</td>\n      <td>0.0</td>\n      <td>0.0</td>\n      <td>0.0</td>\n      <td>0.0</td>\n      <td>0.0</td>\n      <td>0.0</td>\n      <td>0.0</td>\n      <td>0.0</td>\n      <td>0.0</td>\n      <td>0.0</td>\n    </tr>\n    <tr>\n      <th>9996</th>\n      <td>22480</td>\n      <td>4</td>\n      <td>0.0</td>\n      <td>0.0</td>\n      <td>0.0</td>\n      <td>0.0</td>\n      <td>0.0</td>\n      <td>0.0</td>\n      <td>0.0</td>\n      <td>0.0</td>\n      <td>...</td>\n      <td>0.0</td>\n      <td>0.0</td>\n      <td>0.0</td>\n      <td>0.0</td>\n      <td>0.0</td>\n      <td>0.0</td>\n      <td>0.0</td>\n      <td>0.0</td>\n      <td>0.0</td>\n      <td>0.0</td>\n    </tr>\n    <tr>\n      <th>9997</th>\n      <td>43377</td>\n      <td>5</td>\n      <td>0.0</td>\n      <td>0.0</td>\n      <td>0.0</td>\n      <td>0.0</td>\n      <td>0.0</td>\n      <td>0.0</td>\n      <td>0.0</td>\n      <td>0.0</td>\n      <td>...</td>\n      <td>0.0</td>\n      <td>0.0</td>\n      <td>0.0</td>\n      <td>0.0</td>\n      <td>0.0</td>\n      <td>0.0</td>\n      <td>0.0</td>\n      <td>0.0</td>\n      <td>0.0</td>\n      <td>0.0</td>\n    </tr>\n    <tr>\n      <th>9998</th>\n      <td>21342</td>\n      <td>1</td>\n      <td>0.0</td>\n      <td>0.0</td>\n      <td>0.0</td>\n      <td>0.0</td>\n      <td>0.0</td>\n      <td>0.0</td>\n      <td>0.0</td>\n      <td>0.0</td>\n      <td>...</td>\n      <td>0.0</td>\n      <td>0.0</td>\n      <td>0.0</td>\n      <td>0.0</td>\n      <td>0.0</td>\n      <td>0.0</td>\n      <td>0.0</td>\n      <td>0.0</td>\n      <td>0.0</td>\n      <td>0.0</td>\n    </tr>\n    <tr>\n      <th>9999</th>\n      <td>14671</td>\n      <td>6</td>\n      <td>0.0</td>\n      <td>0.0</td>\n      <td>0.0</td>\n      <td>0.0</td>\n      <td>0.0</td>\n      <td>0.0</td>\n      <td>0.0</td>\n      <td>0.0</td>\n      <td>...</td>\n      <td>0.0</td>\n      <td>0.0</td>\n      <td>0.0</td>\n      <td>0.0</td>\n      <td>0.0</td>\n      <td>0.0</td>\n      <td>0.0</td>\n      <td>0.0</td>\n      <td>0.0</td>\n      <td>0.0</td>\n    </tr>\n  </tbody>\n</table>\n<p>10000 rows × 786 columns</p>\n</div>"
     },
     "execution_count": 4,
     "metadata": {},
     "output_type": "execute_result"
    }
   ],
   "source": [
    "df_matrix_B_train"
   ]
  },
  {
   "cell_type": "markdown",
   "id": "2f666f68b91a423f",
   "metadata": {},
   "source": [
    "## 1. Data Preparation"
   ]
  },
  {
   "cell_type": "code",
   "execution_count": 5,
   "id": "7c114d73e76cf3ab",
   "metadata": {
    "collapsed": false,
    "jupyter": {
     "outputs_hidden": false
    },
    "ExecuteTime": {
     "end_time": "2023-08-06T08:36:44.701488100Z",
     "start_time": "2023-08-06T08:36:44.569461100Z"
    }
   },
   "outputs": [],
   "source": [
    "matrix_A_train = df_matrix_A_train.drop(df_matrix_A_train.columns[0], axis=1)\n",
    "matrix_A_test = df_matrix_A_test.drop(df_matrix_A_test.columns[0], axis=1)"
   ]
  },
  {
   "cell_type": "code",
   "execution_count": 6,
   "id": "31354666c9170ae8",
   "metadata": {
    "collapsed": false,
    "jupyter": {
     "outputs_hidden": false
    },
    "ExecuteTime": {
     "end_time": "2023-08-06T08:36:44.747499300Z",
     "start_time": "2023-08-06T08:36:44.602466600Z"
    }
   },
   "outputs": [],
   "source": [
    "# Extract the first column for unique IDs\n",
    "matrix_A_unique_id_train = matrix_A_train.iloc[:, 0].to_frame()\n",
    "matrix_A_unique_id_test = matrix_A_test.iloc[:, 0].to_frame()\n",
    "\n",
    "# Extract the remaining columns for matrix A\n",
    "matrix_A_final_train = matrix_A_train.iloc[:, 1:]\n",
    "matrix_A_final_test = matrix_A_test.iloc[:, 1:]\n",
    "\n",
    "# Extract the first column for unique IDs\n",
    "matrix_B_unique_id_train = df_matrix_B_train.iloc[:, 0].to_frame()\n",
    "matrix_B_unique_id_test = df_matrix_B_test.iloc[:, 0].to_frame()\n",
    "\n",
    "# Extract the second column for labels\n",
    "matrix_B_labels_train = df_matrix_B_train.iloc[:, 1].to_frame()\n",
    "matrix_B_labels_test = df_matrix_B_test.iloc[:, 1].to_frame()\n",
    "\n",
    "# Extract the remaining columns for matrix_B_final\n",
    "matrix_B_final_train = df_matrix_B_train.iloc[:, 2:]\n",
    "matrix_B_final_test = df_matrix_B_test.iloc[:, 2:]"
   ]
  },
  {
   "cell_type": "code",
   "execution_count": 7,
   "id": "7931ead2dd08b145",
   "metadata": {
    "collapsed": false,
    "jupyter": {
     "outputs_hidden": false
    },
    "ExecuteTime": {
     "end_time": "2023-08-06T08:36:44.747499300Z",
     "start_time": "2023-08-06T08:36:44.664481Z"
    }
   },
   "outputs": [
    {
     "data": {
      "text/plain": "             0         1         2         3         4         5         6  \\\n0     0.000000  0.152610  0.000000  0.000000  0.000000  0.000000  0.038960   \n1     0.000000  0.000000  0.000000  0.000000  0.000000  0.000000  0.038960   \n2     0.000000  0.000000  0.424915  0.000000  0.072279  0.000000  0.038960   \n3     0.000000  0.000000  0.000000  0.000000  0.011191  0.000000  0.038960   \n4     0.000000  0.000000  0.000000  0.000000  0.005999  0.024296  0.039652   \n...        ...       ...       ...       ...       ...       ...       ...   \n9995  0.000000  0.000000  0.157362  0.000000  0.000000  0.000000  0.039694   \n9996  0.000000  0.000000  0.080910  0.000000  0.000000  0.010867  0.038960   \n9997  0.000000  0.000000  0.000000  0.000000  0.000000  0.000000  0.020556   \n9998  0.000000  0.000000  0.000000  0.615012  0.055741  0.067638  0.038960   \n9999  0.997996  1.221766  0.000000  0.071689  0.000000  0.000000  0.038960   \n\n             7         8         9  ...       480       481       482  \\\n0     0.000000  0.191585  0.000000  ...  0.000000  0.158412  0.000000   \n1     0.000000  0.000000  0.000000  ...  0.000000  0.000000  0.000000   \n2     0.000000  2.082656  1.642799  ...  2.295538  1.126145  0.000000   \n3     0.696796  0.497822  0.000000  ...  0.000000  0.122298  0.109685   \n4     0.000000  0.000000  0.000000  ...  0.000000  0.000000  0.000000   \n...        ...       ...       ...  ...       ...       ...       ...   \n9995  0.000000  1.218139  2.231922  ...  0.958024  1.585808  0.000000   \n9996  0.501337  1.645792  0.000000  ...  0.000000  2.251701  1.807578   \n9997  0.000000  0.000000  0.751093  ...  0.000000  0.000000  0.000000   \n9998  0.000000  0.000000  2.285516  ...  0.000000  0.000000  0.000000   \n9999  0.258765  0.000000  0.000000  ...  0.000000  0.000000  0.000000   \n\n           483       484       485       486       487       488  489  \n0     0.000000  0.000000  0.000000  0.000000  0.000000  0.000000  0.0  \n1     0.098544  0.000000  0.178203  0.000000  0.018849  2.458571  0.0  \n2     0.098544  0.000000  0.036745  0.000000  0.000000  0.000000  0.0  \n3     0.098584  0.000000  0.000000  0.000000  0.000000  0.000000  0.0  \n4     0.000000  0.000000  0.000000  0.000000  0.000000  0.000000  0.0  \n...        ...       ...       ...       ...       ...       ...  ...  \n9995  0.095432  0.000000  0.000000  0.000000  0.000000  0.000000  0.0  \n9996  0.098544  0.000000  0.000000  0.003035  0.000000  0.000000  0.0  \n9997  0.173573  0.457831  0.455945  0.158843  0.000000  0.000000  0.0  \n9998  0.098544  0.073035  0.000000  0.000000  0.000000  0.000000  0.0  \n9999  0.098544  0.000000  0.102795  0.212620  0.180369  0.016607  0.0  \n\n[10000 rows x 490 columns]",
      "text/html": "<div>\n<style scoped>\n    .dataframe tbody tr th:only-of-type {\n        vertical-align: middle;\n    }\n\n    .dataframe tbody tr th {\n        vertical-align: top;\n    }\n\n    .dataframe thead th {\n        text-align: right;\n    }\n</style>\n<table border=\"1\" class=\"dataframe\">\n  <thead>\n    <tr style=\"text-align: right;\">\n      <th></th>\n      <th>0</th>\n      <th>1</th>\n      <th>2</th>\n      <th>3</th>\n      <th>4</th>\n      <th>5</th>\n      <th>6</th>\n      <th>7</th>\n      <th>8</th>\n      <th>9</th>\n      <th>...</th>\n      <th>480</th>\n      <th>481</th>\n      <th>482</th>\n      <th>483</th>\n      <th>484</th>\n      <th>485</th>\n      <th>486</th>\n      <th>487</th>\n      <th>488</th>\n      <th>489</th>\n    </tr>\n  </thead>\n  <tbody>\n    <tr>\n      <th>0</th>\n      <td>0.000000</td>\n      <td>0.152610</td>\n      <td>0.000000</td>\n      <td>0.000000</td>\n      <td>0.000000</td>\n      <td>0.000000</td>\n      <td>0.038960</td>\n      <td>0.000000</td>\n      <td>0.191585</td>\n      <td>0.000000</td>\n      <td>...</td>\n      <td>0.000000</td>\n      <td>0.158412</td>\n      <td>0.000000</td>\n      <td>0.000000</td>\n      <td>0.000000</td>\n      <td>0.000000</td>\n      <td>0.000000</td>\n      <td>0.000000</td>\n      <td>0.000000</td>\n      <td>0.0</td>\n    </tr>\n    <tr>\n      <th>1</th>\n      <td>0.000000</td>\n      <td>0.000000</td>\n      <td>0.000000</td>\n      <td>0.000000</td>\n      <td>0.000000</td>\n      <td>0.000000</td>\n      <td>0.038960</td>\n      <td>0.000000</td>\n      <td>0.000000</td>\n      <td>0.000000</td>\n      <td>...</td>\n      <td>0.000000</td>\n      <td>0.000000</td>\n      <td>0.000000</td>\n      <td>0.098544</td>\n      <td>0.000000</td>\n      <td>0.178203</td>\n      <td>0.000000</td>\n      <td>0.018849</td>\n      <td>2.458571</td>\n      <td>0.0</td>\n    </tr>\n    <tr>\n      <th>2</th>\n      <td>0.000000</td>\n      <td>0.000000</td>\n      <td>0.424915</td>\n      <td>0.000000</td>\n      <td>0.072279</td>\n      <td>0.000000</td>\n      <td>0.038960</td>\n      <td>0.000000</td>\n      <td>2.082656</td>\n      <td>1.642799</td>\n      <td>...</td>\n      <td>2.295538</td>\n      <td>1.126145</td>\n      <td>0.000000</td>\n      <td>0.098544</td>\n      <td>0.000000</td>\n      <td>0.036745</td>\n      <td>0.000000</td>\n      <td>0.000000</td>\n      <td>0.000000</td>\n      <td>0.0</td>\n    </tr>\n    <tr>\n      <th>3</th>\n      <td>0.000000</td>\n      <td>0.000000</td>\n      <td>0.000000</td>\n      <td>0.000000</td>\n      <td>0.011191</td>\n      <td>0.000000</td>\n      <td>0.038960</td>\n      <td>0.696796</td>\n      <td>0.497822</td>\n      <td>0.000000</td>\n      <td>...</td>\n      <td>0.000000</td>\n      <td>0.122298</td>\n      <td>0.109685</td>\n      <td>0.098584</td>\n      <td>0.000000</td>\n      <td>0.000000</td>\n      <td>0.000000</td>\n      <td>0.000000</td>\n      <td>0.000000</td>\n      <td>0.0</td>\n    </tr>\n    <tr>\n      <th>4</th>\n      <td>0.000000</td>\n      <td>0.000000</td>\n      <td>0.000000</td>\n      <td>0.000000</td>\n      <td>0.005999</td>\n      <td>0.024296</td>\n      <td>0.039652</td>\n      <td>0.000000</td>\n      <td>0.000000</td>\n      <td>0.000000</td>\n      <td>...</td>\n      <td>0.000000</td>\n      <td>0.000000</td>\n      <td>0.000000</td>\n      <td>0.000000</td>\n      <td>0.000000</td>\n      <td>0.000000</td>\n      <td>0.000000</td>\n      <td>0.000000</td>\n      <td>0.000000</td>\n      <td>0.0</td>\n    </tr>\n    <tr>\n      <th>...</th>\n      <td>...</td>\n      <td>...</td>\n      <td>...</td>\n      <td>...</td>\n      <td>...</td>\n      <td>...</td>\n      <td>...</td>\n      <td>...</td>\n      <td>...</td>\n      <td>...</td>\n      <td>...</td>\n      <td>...</td>\n      <td>...</td>\n      <td>...</td>\n      <td>...</td>\n      <td>...</td>\n      <td>...</td>\n      <td>...</td>\n      <td>...</td>\n      <td>...</td>\n      <td>...</td>\n    </tr>\n    <tr>\n      <th>9995</th>\n      <td>0.000000</td>\n      <td>0.000000</td>\n      <td>0.157362</td>\n      <td>0.000000</td>\n      <td>0.000000</td>\n      <td>0.000000</td>\n      <td>0.039694</td>\n      <td>0.000000</td>\n      <td>1.218139</td>\n      <td>2.231922</td>\n      <td>...</td>\n      <td>0.958024</td>\n      <td>1.585808</td>\n      <td>0.000000</td>\n      <td>0.095432</td>\n      <td>0.000000</td>\n      <td>0.000000</td>\n      <td>0.000000</td>\n      <td>0.000000</td>\n      <td>0.000000</td>\n      <td>0.0</td>\n    </tr>\n    <tr>\n      <th>9996</th>\n      <td>0.000000</td>\n      <td>0.000000</td>\n      <td>0.080910</td>\n      <td>0.000000</td>\n      <td>0.000000</td>\n      <td>0.010867</td>\n      <td>0.038960</td>\n      <td>0.501337</td>\n      <td>1.645792</td>\n      <td>0.000000</td>\n      <td>...</td>\n      <td>0.000000</td>\n      <td>2.251701</td>\n      <td>1.807578</td>\n      <td>0.098544</td>\n      <td>0.000000</td>\n      <td>0.000000</td>\n      <td>0.003035</td>\n      <td>0.000000</td>\n      <td>0.000000</td>\n      <td>0.0</td>\n    </tr>\n    <tr>\n      <th>9997</th>\n      <td>0.000000</td>\n      <td>0.000000</td>\n      <td>0.000000</td>\n      <td>0.000000</td>\n      <td>0.000000</td>\n      <td>0.000000</td>\n      <td>0.020556</td>\n      <td>0.000000</td>\n      <td>0.000000</td>\n      <td>0.751093</td>\n      <td>...</td>\n      <td>0.000000</td>\n      <td>0.000000</td>\n      <td>0.000000</td>\n      <td>0.173573</td>\n      <td>0.457831</td>\n      <td>0.455945</td>\n      <td>0.158843</td>\n      <td>0.000000</td>\n      <td>0.000000</td>\n      <td>0.0</td>\n    </tr>\n    <tr>\n      <th>9998</th>\n      <td>0.000000</td>\n      <td>0.000000</td>\n      <td>0.000000</td>\n      <td>0.615012</td>\n      <td>0.055741</td>\n      <td>0.067638</td>\n      <td>0.038960</td>\n      <td>0.000000</td>\n      <td>0.000000</td>\n      <td>2.285516</td>\n      <td>...</td>\n      <td>0.000000</td>\n      <td>0.000000</td>\n      <td>0.000000</td>\n      <td>0.098544</td>\n      <td>0.073035</td>\n      <td>0.000000</td>\n      <td>0.000000</td>\n      <td>0.000000</td>\n      <td>0.000000</td>\n      <td>0.0</td>\n    </tr>\n    <tr>\n      <th>9999</th>\n      <td>0.997996</td>\n      <td>1.221766</td>\n      <td>0.000000</td>\n      <td>0.071689</td>\n      <td>0.000000</td>\n      <td>0.000000</td>\n      <td>0.038960</td>\n      <td>0.258765</td>\n      <td>0.000000</td>\n      <td>0.000000</td>\n      <td>...</td>\n      <td>0.000000</td>\n      <td>0.000000</td>\n      <td>0.000000</td>\n      <td>0.098544</td>\n      <td>0.000000</td>\n      <td>0.102795</td>\n      <td>0.212620</td>\n      <td>0.180369</td>\n      <td>0.016607</td>\n      <td>0.0</td>\n    </tr>\n  </tbody>\n</table>\n<p>10000 rows × 490 columns</p>\n</div>"
     },
     "execution_count": 7,
     "metadata": {},
     "output_type": "execute_result"
    }
   ],
   "source": [
    "matrix_A_final_train"
   ]
  },
  {
   "cell_type": "code",
   "execution_count": 8,
   "id": "c063b7dff2dc3030",
   "metadata": {
    "collapsed": false,
    "jupyter": {
     "outputs_hidden": false
    },
    "ExecuteTime": {
     "end_time": "2023-08-06T08:36:44.822514200Z",
     "start_time": "2023-08-06T08:36:44.696487Z"
    }
   },
   "outputs": [
    {
     "data": {
      "text/plain": "      pixel0  pixel1  pixel2  pixel3  pixel4  pixel5  pixel6  pixel7  pixel8  \\\n0        0.0     0.0     0.0     0.0     0.0     0.0     0.0     0.0     0.0   \n1        0.0     0.0     0.0     0.0     0.0     0.0     0.0     0.0     0.0   \n2        0.0     0.0     0.0     0.0     0.0     0.0     0.0     0.0     0.0   \n3        0.0     0.0     0.0     0.0     0.0     0.0     0.0     0.0     0.0   \n4        0.0     0.0     0.0     0.0     0.0     0.0     0.0     0.0     0.0   \n...      ...     ...     ...     ...     ...     ...     ...     ...     ...   \n9995     0.0     0.0     0.0     0.0     0.0     0.0     0.0     0.0     0.0   \n9996     0.0     0.0     0.0     0.0     0.0     0.0     0.0     0.0     0.0   \n9997     0.0     0.0     0.0     0.0     0.0     0.0     0.0     0.0     0.0   \n9998     0.0     0.0     0.0     0.0     0.0     0.0     0.0     0.0     0.0   \n9999     0.0     0.0     0.0     0.0     0.0     0.0     0.0     0.0     0.0   \n\n      pixel9  ...  pixel774  pixel775  pixel776  pixel777  pixel778  pixel779  \\\n0        0.0  ...       0.0       0.0       0.0       0.0       0.0       0.0   \n1        0.0  ...       0.0       0.0       0.0       0.0       0.0       0.0   \n2        0.0  ...       0.0       0.0       0.0       0.0       0.0       0.0   \n3        0.0  ...       0.0       0.0       0.0       0.0       0.0       0.0   \n4        0.0  ...       0.0       0.0       0.0       0.0       0.0       0.0   \n...      ...  ...       ...       ...       ...       ...       ...       ...   \n9995     0.0  ...       0.0       0.0       0.0       0.0       0.0       0.0   \n9996     0.0  ...       0.0       0.0       0.0       0.0       0.0       0.0   \n9997     0.0  ...       0.0       0.0       0.0       0.0       0.0       0.0   \n9998     0.0  ...       0.0       0.0       0.0       0.0       0.0       0.0   \n9999     0.0  ...       0.0       0.0       0.0       0.0       0.0       0.0   \n\n      pixel780  pixel781  pixel782  pixel783  \n0          0.0       0.0       0.0       0.0  \n1          0.0       0.0       0.0       0.0  \n2          0.0       0.0       0.0       0.0  \n3          0.0       0.0       0.0       0.0  \n4          0.0       0.0       0.0       0.0  \n...        ...       ...       ...       ...  \n9995       0.0       0.0       0.0       0.0  \n9996       0.0       0.0       0.0       0.0  \n9997       0.0       0.0       0.0       0.0  \n9998       0.0       0.0       0.0       0.0  \n9999       0.0       0.0       0.0       0.0  \n\n[10000 rows x 784 columns]",
      "text/html": "<div>\n<style scoped>\n    .dataframe tbody tr th:only-of-type {\n        vertical-align: middle;\n    }\n\n    .dataframe tbody tr th {\n        vertical-align: top;\n    }\n\n    .dataframe thead th {\n        text-align: right;\n    }\n</style>\n<table border=\"1\" class=\"dataframe\">\n  <thead>\n    <tr style=\"text-align: right;\">\n      <th></th>\n      <th>pixel0</th>\n      <th>pixel1</th>\n      <th>pixel2</th>\n      <th>pixel3</th>\n      <th>pixel4</th>\n      <th>pixel5</th>\n      <th>pixel6</th>\n      <th>pixel7</th>\n      <th>pixel8</th>\n      <th>pixel9</th>\n      <th>...</th>\n      <th>pixel774</th>\n      <th>pixel775</th>\n      <th>pixel776</th>\n      <th>pixel777</th>\n      <th>pixel778</th>\n      <th>pixel779</th>\n      <th>pixel780</th>\n      <th>pixel781</th>\n      <th>pixel782</th>\n      <th>pixel783</th>\n    </tr>\n  </thead>\n  <tbody>\n    <tr>\n      <th>0</th>\n      <td>0.0</td>\n      <td>0.0</td>\n      <td>0.0</td>\n      <td>0.0</td>\n      <td>0.0</td>\n      <td>0.0</td>\n      <td>0.0</td>\n      <td>0.0</td>\n      <td>0.0</td>\n      <td>0.0</td>\n      <td>...</td>\n      <td>0.0</td>\n      <td>0.0</td>\n      <td>0.0</td>\n      <td>0.0</td>\n      <td>0.0</td>\n      <td>0.0</td>\n      <td>0.0</td>\n      <td>0.0</td>\n      <td>0.0</td>\n      <td>0.0</td>\n    </tr>\n    <tr>\n      <th>1</th>\n      <td>0.0</td>\n      <td>0.0</td>\n      <td>0.0</td>\n      <td>0.0</td>\n      <td>0.0</td>\n      <td>0.0</td>\n      <td>0.0</td>\n      <td>0.0</td>\n      <td>0.0</td>\n      <td>0.0</td>\n      <td>...</td>\n      <td>0.0</td>\n      <td>0.0</td>\n      <td>0.0</td>\n      <td>0.0</td>\n      <td>0.0</td>\n      <td>0.0</td>\n      <td>0.0</td>\n      <td>0.0</td>\n      <td>0.0</td>\n      <td>0.0</td>\n    </tr>\n    <tr>\n      <th>2</th>\n      <td>0.0</td>\n      <td>0.0</td>\n      <td>0.0</td>\n      <td>0.0</td>\n      <td>0.0</td>\n      <td>0.0</td>\n      <td>0.0</td>\n      <td>0.0</td>\n      <td>0.0</td>\n      <td>0.0</td>\n      <td>...</td>\n      <td>0.0</td>\n      <td>0.0</td>\n      <td>0.0</td>\n      <td>0.0</td>\n      <td>0.0</td>\n      <td>0.0</td>\n      <td>0.0</td>\n      <td>0.0</td>\n      <td>0.0</td>\n      <td>0.0</td>\n    </tr>\n    <tr>\n      <th>3</th>\n      <td>0.0</td>\n      <td>0.0</td>\n      <td>0.0</td>\n      <td>0.0</td>\n      <td>0.0</td>\n      <td>0.0</td>\n      <td>0.0</td>\n      <td>0.0</td>\n      <td>0.0</td>\n      <td>0.0</td>\n      <td>...</td>\n      <td>0.0</td>\n      <td>0.0</td>\n      <td>0.0</td>\n      <td>0.0</td>\n      <td>0.0</td>\n      <td>0.0</td>\n      <td>0.0</td>\n      <td>0.0</td>\n      <td>0.0</td>\n      <td>0.0</td>\n    </tr>\n    <tr>\n      <th>4</th>\n      <td>0.0</td>\n      <td>0.0</td>\n      <td>0.0</td>\n      <td>0.0</td>\n      <td>0.0</td>\n      <td>0.0</td>\n      <td>0.0</td>\n      <td>0.0</td>\n      <td>0.0</td>\n      <td>0.0</td>\n      <td>...</td>\n      <td>0.0</td>\n      <td>0.0</td>\n      <td>0.0</td>\n      <td>0.0</td>\n      <td>0.0</td>\n      <td>0.0</td>\n      <td>0.0</td>\n      <td>0.0</td>\n      <td>0.0</td>\n      <td>0.0</td>\n    </tr>\n    <tr>\n      <th>...</th>\n      <td>...</td>\n      <td>...</td>\n      <td>...</td>\n      <td>...</td>\n      <td>...</td>\n      <td>...</td>\n      <td>...</td>\n      <td>...</td>\n      <td>...</td>\n      <td>...</td>\n      <td>...</td>\n      <td>...</td>\n      <td>...</td>\n      <td>...</td>\n      <td>...</td>\n      <td>...</td>\n      <td>...</td>\n      <td>...</td>\n      <td>...</td>\n      <td>...</td>\n      <td>...</td>\n    </tr>\n    <tr>\n      <th>9995</th>\n      <td>0.0</td>\n      <td>0.0</td>\n      <td>0.0</td>\n      <td>0.0</td>\n      <td>0.0</td>\n      <td>0.0</td>\n      <td>0.0</td>\n      <td>0.0</td>\n      <td>0.0</td>\n      <td>0.0</td>\n      <td>...</td>\n      <td>0.0</td>\n      <td>0.0</td>\n      <td>0.0</td>\n      <td>0.0</td>\n      <td>0.0</td>\n      <td>0.0</td>\n      <td>0.0</td>\n      <td>0.0</td>\n      <td>0.0</td>\n      <td>0.0</td>\n    </tr>\n    <tr>\n      <th>9996</th>\n      <td>0.0</td>\n      <td>0.0</td>\n      <td>0.0</td>\n      <td>0.0</td>\n      <td>0.0</td>\n      <td>0.0</td>\n      <td>0.0</td>\n      <td>0.0</td>\n      <td>0.0</td>\n      <td>0.0</td>\n      <td>...</td>\n      <td>0.0</td>\n      <td>0.0</td>\n      <td>0.0</td>\n      <td>0.0</td>\n      <td>0.0</td>\n      <td>0.0</td>\n      <td>0.0</td>\n      <td>0.0</td>\n      <td>0.0</td>\n      <td>0.0</td>\n    </tr>\n    <tr>\n      <th>9997</th>\n      <td>0.0</td>\n      <td>0.0</td>\n      <td>0.0</td>\n      <td>0.0</td>\n      <td>0.0</td>\n      <td>0.0</td>\n      <td>0.0</td>\n      <td>0.0</td>\n      <td>0.0</td>\n      <td>0.0</td>\n      <td>...</td>\n      <td>0.0</td>\n      <td>0.0</td>\n      <td>0.0</td>\n      <td>0.0</td>\n      <td>0.0</td>\n      <td>0.0</td>\n      <td>0.0</td>\n      <td>0.0</td>\n      <td>0.0</td>\n      <td>0.0</td>\n    </tr>\n    <tr>\n      <th>9998</th>\n      <td>0.0</td>\n      <td>0.0</td>\n      <td>0.0</td>\n      <td>0.0</td>\n      <td>0.0</td>\n      <td>0.0</td>\n      <td>0.0</td>\n      <td>0.0</td>\n      <td>0.0</td>\n      <td>0.0</td>\n      <td>...</td>\n      <td>0.0</td>\n      <td>0.0</td>\n      <td>0.0</td>\n      <td>0.0</td>\n      <td>0.0</td>\n      <td>0.0</td>\n      <td>0.0</td>\n      <td>0.0</td>\n      <td>0.0</td>\n      <td>0.0</td>\n    </tr>\n    <tr>\n      <th>9999</th>\n      <td>0.0</td>\n      <td>0.0</td>\n      <td>0.0</td>\n      <td>0.0</td>\n      <td>0.0</td>\n      <td>0.0</td>\n      <td>0.0</td>\n      <td>0.0</td>\n      <td>0.0</td>\n      <td>0.0</td>\n      <td>...</td>\n      <td>0.0</td>\n      <td>0.0</td>\n      <td>0.0</td>\n      <td>0.0</td>\n      <td>0.0</td>\n      <td>0.0</td>\n      <td>0.0</td>\n      <td>0.0</td>\n      <td>0.0</td>\n      <td>0.0</td>\n    </tr>\n  </tbody>\n</table>\n<p>10000 rows × 784 columns</p>\n</div>"
     },
     "execution_count": 8,
     "metadata": {},
     "output_type": "execute_result"
    }
   ],
   "source": [
    "matrix_B_final_train"
   ]
  },
  {
   "cell_type": "code",
   "execution_count": 9,
   "id": "fc0fe0239e982d57",
   "metadata": {
    "collapsed": false,
    "jupyter": {
     "outputs_hidden": false
    },
    "ExecuteTime": {
     "end_time": "2023-08-06T08:36:44.839519700Z",
     "start_time": "2023-08-06T08:36:44.746497200Z"
    }
   },
   "outputs": [],
   "source": [
    "# Test matrices A\n",
    "\n",
    "# matrix_A_final_train = [[3, -2, -3, 1.5, 0.6],\n",
    "#                   [-1, -3, 1.5, 0.6, 1],\n",
    "#                   [1, -1, 0.844444444, -0.444444444, -3]]\n",
    "\n",
    "# matrix_A_final_train = [[2.80, -1.80, -2.80, 1.30, 0.40],\n",
    "#                   [3.00, -2.00, -3.00, 1.50, 0.60],\n",
    "#                   [3.20, -2.20, -3.20, 1.70, 0.80],\n",
    "#                   [-1.60, -2.50, 1.50, 0.20, 0.60],\n",
    "#                   [-1.00, -3.00, 1.50, 0.60, 1.00],\n",
    "#                   [-0.50, -3.50, 1.90, 1.00, 1.40],\n",
    "#                   [1.20, -1.20, 0.70, -0.30, -2.80],\n",
    "#                   [1.00, -1.00, 0.84, -0.44, -3.00],\n",
    "#                   [0.80, -0.80, 0.90, -0.50, -3.20]]\n",
    "\n",
    "# matrix_A_final_train = [[-1.827506713, -2.57210291],\n",
    "#                   [-1.805637206, -2.789008261],\n",
    "#                   [-1.812439839, -2.99995456],\n",
    "#                   [-2.035782748, -2.999989808],\n",
    "#                   [-2.225907357, -2.999830184],\n",
    "#                   [2.151465808, 2.349428929],\n",
    "#                   [2.146415535, 1.848879366],\n",
    "#                   [2.335563856, 1.572769993],\n",
    "#                   [2.512780867, 1.350090422],\n",
    "#                   [2.808853361, 1.168351448],\n",
    "#                   [-2.397040617, 2.674381769],\n",
    "#                   [-2.415455455, 2.889854745],\n",
    "#                   [-2.508854802, 2.999784436],\n",
    "#                   [-2.621571267, 2.999927152],\n",
    "#                   [-2.71963759, 2.998711285]]\n"
   ]
  },
  {
   "cell_type": "code",
   "execution_count": 10,
   "id": "54b68cd7a0fd0ec2",
   "metadata": {
    "collapsed": false,
    "jupyter": {
     "outputs_hidden": false
    },
    "ExecuteTime": {
     "end_time": "2023-08-06T08:36:44.943541300Z",
     "start_time": "2023-08-06T08:36:44.759501700Z"
    }
   },
   "outputs": [],
   "source": [
    "# Test matrices B\n",
    "# matrix_B_final_train = [[-1.843907868, 1.99818664, -1.912855282, -1.97511053],\n",
    "#                   [1.992023578, -1.923804827, 0.706593926, -1.543784398],\n",
    "#                   [1.107744254, 1.615475549, 1.723582196, 1.807614602]]\n",
    "\n",
    "# matrix_B_final_train = [[-1.979394104, 1.959307524, -1.381119943, -1.729640979],\n",
    "#                   [-1.843907868, 1.99818664, -1.912855282, -1.97511053],\n",
    "#                   [-1.999365095, 1.998896097, -1.999605076, -1.998916765],\n",
    "#                   [1.997775859, -1.844000202, 1.660111333, -1.373532039],\n",
    "#                   [1.992023578, -1.923804827, 0.706593926, -1.543784398],\n",
    "#                   [1.997854305, -1.999410881, -0.243400633, -1.827587263],\n",
    "#                   [0.851626415, 1.574201387, 1.581026838, 1.573934081],\n",
    "#                   [1.107744254, 1.615475549, 1.723582196, 1.807614602],\n",
    "#                   [1.290406093, 1.695289797, 1.953503509, 1.946250271]]\n",
    "\n",
    "# matrix_B_final_train = [[2.8, -1.8, -2.8, 1.3, 0.4],\n",
    "#                   [2.9, -1.9, -2.9, 1.4, 0.5],\n",
    "#                   [3, -2, -3, 1.5, 0.6],\n",
    "#                   [3.1, -2.1, -3.1, 1.6, 0.7],\n",
    "#                   [3.2, -2.2, -3.2, 1.7, 0.8],\n",
    "#                   [-1.6, -2.5, 1.5, 0.2, 0.6],\n",
    "#                   [-1.3, -2.7, 1.3, 0.4, 0.8],\n",
    "#                   [-1, -3, 1.5, 0.6, 1],\n",
    "#                   [-0.7, -3.2, 1.7, 0.8, 1.2],\n",
    "#                   [-0.5, -3.5, 1.9, 1, 1.4],\n",
    "#                   [1.2, -1.2, 0.7, -0.3, -2.8],\n",
    "#                   [1.1, -1.1, 0.8, -0.4, -2.9],\n",
    "#                   [1, -1, 0.844444444, -0.444444444, -3],\n",
    "#                   [0.9, -0.9, 0.85, -0.45, -3.1],\n",
    "#                   [0.8, -0.8, 0.9, -0.5, -3.2]]\n"
   ]
  },
  {
   "cell_type": "code",
   "execution_count": 11,
   "id": "94815f13d3a95431",
   "metadata": {
    "collapsed": false,
    "jupyter": {
     "outputs_hidden": false
    },
    "ExecuteTime": {
     "end_time": "2023-08-06T08:36:44.943541300Z",
     "start_time": "2023-08-06T08:36:44.777505Z"
    }
   },
   "outputs": [],
   "source": [
    "df_matrix_A_final_train = pd.DataFrame(matrix_A_final_train)\n",
    "df_matrix_A_final_test = pd.DataFrame(matrix_A_final_test)"
   ]
  },
  {
   "cell_type": "code",
   "execution_count": 12,
   "id": "90a4b0d24399c1ae",
   "metadata": {
    "collapsed": false,
    "jupyter": {
     "outputs_hidden": false
    },
    "ExecuteTime": {
     "end_time": "2023-08-06T08:36:44.945541600Z",
     "start_time": "2023-08-06T08:36:44.793509200Z"
    }
   },
   "outputs": [
    {
     "data": {
      "text/plain": "             0         1         2         3         4         5         6  \\\n0     0.000000  0.152610  0.000000  0.000000  0.000000  0.000000  0.038960   \n1     0.000000  0.000000  0.000000  0.000000  0.000000  0.000000  0.038960   \n2     0.000000  0.000000  0.424915  0.000000  0.072279  0.000000  0.038960   \n3     0.000000  0.000000  0.000000  0.000000  0.011191  0.000000  0.038960   \n4     0.000000  0.000000  0.000000  0.000000  0.005999  0.024296  0.039652   \n...        ...       ...       ...       ...       ...       ...       ...   \n9995  0.000000  0.000000  0.157362  0.000000  0.000000  0.000000  0.039694   \n9996  0.000000  0.000000  0.080910  0.000000  0.000000  0.010867  0.038960   \n9997  0.000000  0.000000  0.000000  0.000000  0.000000  0.000000  0.020556   \n9998  0.000000  0.000000  0.000000  0.615012  0.055741  0.067638  0.038960   \n9999  0.997996  1.221766  0.000000  0.071689  0.000000  0.000000  0.038960   \n\n             7         8         9  ...       480       481       482  \\\n0     0.000000  0.191585  0.000000  ...  0.000000  0.158412  0.000000   \n1     0.000000  0.000000  0.000000  ...  0.000000  0.000000  0.000000   \n2     0.000000  2.082656  1.642799  ...  2.295538  1.126145  0.000000   \n3     0.696796  0.497822  0.000000  ...  0.000000  0.122298  0.109685   \n4     0.000000  0.000000  0.000000  ...  0.000000  0.000000  0.000000   \n...        ...       ...       ...  ...       ...       ...       ...   \n9995  0.000000  1.218139  2.231922  ...  0.958024  1.585808  0.000000   \n9996  0.501337  1.645792  0.000000  ...  0.000000  2.251701  1.807578   \n9997  0.000000  0.000000  0.751093  ...  0.000000  0.000000  0.000000   \n9998  0.000000  0.000000  2.285516  ...  0.000000  0.000000  0.000000   \n9999  0.258765  0.000000  0.000000  ...  0.000000  0.000000  0.000000   \n\n           483       484       485       486       487       488  489  \n0     0.000000  0.000000  0.000000  0.000000  0.000000  0.000000  0.0  \n1     0.098544  0.000000  0.178203  0.000000  0.018849  2.458571  0.0  \n2     0.098544  0.000000  0.036745  0.000000  0.000000  0.000000  0.0  \n3     0.098584  0.000000  0.000000  0.000000  0.000000  0.000000  0.0  \n4     0.000000  0.000000  0.000000  0.000000  0.000000  0.000000  0.0  \n...        ...       ...       ...       ...       ...       ...  ...  \n9995  0.095432  0.000000  0.000000  0.000000  0.000000  0.000000  0.0  \n9996  0.098544  0.000000  0.000000  0.003035  0.000000  0.000000  0.0  \n9997  0.173573  0.457831  0.455945  0.158843  0.000000  0.000000  0.0  \n9998  0.098544  0.073035  0.000000  0.000000  0.000000  0.000000  0.0  \n9999  0.098544  0.000000  0.102795  0.212620  0.180369  0.016607  0.0  \n\n[10000 rows x 490 columns]",
      "text/html": "<div>\n<style scoped>\n    .dataframe tbody tr th:only-of-type {\n        vertical-align: middle;\n    }\n\n    .dataframe tbody tr th {\n        vertical-align: top;\n    }\n\n    .dataframe thead th {\n        text-align: right;\n    }\n</style>\n<table border=\"1\" class=\"dataframe\">\n  <thead>\n    <tr style=\"text-align: right;\">\n      <th></th>\n      <th>0</th>\n      <th>1</th>\n      <th>2</th>\n      <th>3</th>\n      <th>4</th>\n      <th>5</th>\n      <th>6</th>\n      <th>7</th>\n      <th>8</th>\n      <th>9</th>\n      <th>...</th>\n      <th>480</th>\n      <th>481</th>\n      <th>482</th>\n      <th>483</th>\n      <th>484</th>\n      <th>485</th>\n      <th>486</th>\n      <th>487</th>\n      <th>488</th>\n      <th>489</th>\n    </tr>\n  </thead>\n  <tbody>\n    <tr>\n      <th>0</th>\n      <td>0.000000</td>\n      <td>0.152610</td>\n      <td>0.000000</td>\n      <td>0.000000</td>\n      <td>0.000000</td>\n      <td>0.000000</td>\n      <td>0.038960</td>\n      <td>0.000000</td>\n      <td>0.191585</td>\n      <td>0.000000</td>\n      <td>...</td>\n      <td>0.000000</td>\n      <td>0.158412</td>\n      <td>0.000000</td>\n      <td>0.000000</td>\n      <td>0.000000</td>\n      <td>0.000000</td>\n      <td>0.000000</td>\n      <td>0.000000</td>\n      <td>0.000000</td>\n      <td>0.0</td>\n    </tr>\n    <tr>\n      <th>1</th>\n      <td>0.000000</td>\n      <td>0.000000</td>\n      <td>0.000000</td>\n      <td>0.000000</td>\n      <td>0.000000</td>\n      <td>0.000000</td>\n      <td>0.038960</td>\n      <td>0.000000</td>\n      <td>0.000000</td>\n      <td>0.000000</td>\n      <td>...</td>\n      <td>0.000000</td>\n      <td>0.000000</td>\n      <td>0.000000</td>\n      <td>0.098544</td>\n      <td>0.000000</td>\n      <td>0.178203</td>\n      <td>0.000000</td>\n      <td>0.018849</td>\n      <td>2.458571</td>\n      <td>0.0</td>\n    </tr>\n    <tr>\n      <th>2</th>\n      <td>0.000000</td>\n      <td>0.000000</td>\n      <td>0.424915</td>\n      <td>0.000000</td>\n      <td>0.072279</td>\n      <td>0.000000</td>\n      <td>0.038960</td>\n      <td>0.000000</td>\n      <td>2.082656</td>\n      <td>1.642799</td>\n      <td>...</td>\n      <td>2.295538</td>\n      <td>1.126145</td>\n      <td>0.000000</td>\n      <td>0.098544</td>\n      <td>0.000000</td>\n      <td>0.036745</td>\n      <td>0.000000</td>\n      <td>0.000000</td>\n      <td>0.000000</td>\n      <td>0.0</td>\n    </tr>\n    <tr>\n      <th>3</th>\n      <td>0.000000</td>\n      <td>0.000000</td>\n      <td>0.000000</td>\n      <td>0.000000</td>\n      <td>0.011191</td>\n      <td>0.000000</td>\n      <td>0.038960</td>\n      <td>0.696796</td>\n      <td>0.497822</td>\n      <td>0.000000</td>\n      <td>...</td>\n      <td>0.000000</td>\n      <td>0.122298</td>\n      <td>0.109685</td>\n      <td>0.098584</td>\n      <td>0.000000</td>\n      <td>0.000000</td>\n      <td>0.000000</td>\n      <td>0.000000</td>\n      <td>0.000000</td>\n      <td>0.0</td>\n    </tr>\n    <tr>\n      <th>4</th>\n      <td>0.000000</td>\n      <td>0.000000</td>\n      <td>0.000000</td>\n      <td>0.000000</td>\n      <td>0.005999</td>\n      <td>0.024296</td>\n      <td>0.039652</td>\n      <td>0.000000</td>\n      <td>0.000000</td>\n      <td>0.000000</td>\n      <td>...</td>\n      <td>0.000000</td>\n      <td>0.000000</td>\n      <td>0.000000</td>\n      <td>0.000000</td>\n      <td>0.000000</td>\n      <td>0.000000</td>\n      <td>0.000000</td>\n      <td>0.000000</td>\n      <td>0.000000</td>\n      <td>0.0</td>\n    </tr>\n    <tr>\n      <th>...</th>\n      <td>...</td>\n      <td>...</td>\n      <td>...</td>\n      <td>...</td>\n      <td>...</td>\n      <td>...</td>\n      <td>...</td>\n      <td>...</td>\n      <td>...</td>\n      <td>...</td>\n      <td>...</td>\n      <td>...</td>\n      <td>...</td>\n      <td>...</td>\n      <td>...</td>\n      <td>...</td>\n      <td>...</td>\n      <td>...</td>\n      <td>...</td>\n      <td>...</td>\n      <td>...</td>\n    </tr>\n    <tr>\n      <th>9995</th>\n      <td>0.000000</td>\n      <td>0.000000</td>\n      <td>0.157362</td>\n      <td>0.000000</td>\n      <td>0.000000</td>\n      <td>0.000000</td>\n      <td>0.039694</td>\n      <td>0.000000</td>\n      <td>1.218139</td>\n      <td>2.231922</td>\n      <td>...</td>\n      <td>0.958024</td>\n      <td>1.585808</td>\n      <td>0.000000</td>\n      <td>0.095432</td>\n      <td>0.000000</td>\n      <td>0.000000</td>\n      <td>0.000000</td>\n      <td>0.000000</td>\n      <td>0.000000</td>\n      <td>0.0</td>\n    </tr>\n    <tr>\n      <th>9996</th>\n      <td>0.000000</td>\n      <td>0.000000</td>\n      <td>0.080910</td>\n      <td>0.000000</td>\n      <td>0.000000</td>\n      <td>0.010867</td>\n      <td>0.038960</td>\n      <td>0.501337</td>\n      <td>1.645792</td>\n      <td>0.000000</td>\n      <td>...</td>\n      <td>0.000000</td>\n      <td>2.251701</td>\n      <td>1.807578</td>\n      <td>0.098544</td>\n      <td>0.000000</td>\n      <td>0.000000</td>\n      <td>0.003035</td>\n      <td>0.000000</td>\n      <td>0.000000</td>\n      <td>0.0</td>\n    </tr>\n    <tr>\n      <th>9997</th>\n      <td>0.000000</td>\n      <td>0.000000</td>\n      <td>0.000000</td>\n      <td>0.000000</td>\n      <td>0.000000</td>\n      <td>0.000000</td>\n      <td>0.020556</td>\n      <td>0.000000</td>\n      <td>0.000000</td>\n      <td>0.751093</td>\n      <td>...</td>\n      <td>0.000000</td>\n      <td>0.000000</td>\n      <td>0.000000</td>\n      <td>0.173573</td>\n      <td>0.457831</td>\n      <td>0.455945</td>\n      <td>0.158843</td>\n      <td>0.000000</td>\n      <td>0.000000</td>\n      <td>0.0</td>\n    </tr>\n    <tr>\n      <th>9998</th>\n      <td>0.000000</td>\n      <td>0.000000</td>\n      <td>0.000000</td>\n      <td>0.615012</td>\n      <td>0.055741</td>\n      <td>0.067638</td>\n      <td>0.038960</td>\n      <td>0.000000</td>\n      <td>0.000000</td>\n      <td>2.285516</td>\n      <td>...</td>\n      <td>0.000000</td>\n      <td>0.000000</td>\n      <td>0.000000</td>\n      <td>0.098544</td>\n      <td>0.073035</td>\n      <td>0.000000</td>\n      <td>0.000000</td>\n      <td>0.000000</td>\n      <td>0.000000</td>\n      <td>0.0</td>\n    </tr>\n    <tr>\n      <th>9999</th>\n      <td>0.997996</td>\n      <td>1.221766</td>\n      <td>0.000000</td>\n      <td>0.071689</td>\n      <td>0.000000</td>\n      <td>0.000000</td>\n      <td>0.038960</td>\n      <td>0.258765</td>\n      <td>0.000000</td>\n      <td>0.000000</td>\n      <td>...</td>\n      <td>0.000000</td>\n      <td>0.000000</td>\n      <td>0.000000</td>\n      <td>0.098544</td>\n      <td>0.000000</td>\n      <td>0.102795</td>\n      <td>0.212620</td>\n      <td>0.180369</td>\n      <td>0.016607</td>\n      <td>0.0</td>\n    </tr>\n  </tbody>\n</table>\n<p>10000 rows × 490 columns</p>\n</div>"
     },
     "execution_count": 12,
     "metadata": {},
     "output_type": "execute_result"
    }
   ],
   "source": [
    "df_matrix_A_final_train"
   ]
  },
  {
   "cell_type": "code",
   "execution_count": 13,
   "id": "36f9d1b6a1dcf021",
   "metadata": {
    "collapsed": false,
    "jupyter": {
     "outputs_hidden": false
    },
    "ExecuteTime": {
     "end_time": "2023-08-06T08:36:44.946542200Z",
     "start_time": "2023-08-06T08:36:44.839519700Z"
    }
   },
   "outputs": [
    {
     "data": {
      "text/plain": "            0         1         2         3         4         5         6  \\\n0    0.000000  0.000000  0.000000  0.000000  0.000000  0.000000  0.038960   \n1    0.000000  0.207464  0.000000  0.000000  0.000000  0.000000  0.038960   \n2    0.000000  0.000000  0.000000  0.000000  0.000000  0.000000  0.038960   \n3    0.431932  0.526508  0.000000  0.000000  0.000000  0.060119  0.038960   \n4    0.000000  0.839142  0.000000  0.059878  0.000000  0.000000  0.038960   \n..        ...       ...       ...       ...       ...       ...       ...   \n995  0.000000  2.344304  0.840134  0.000000  0.400422  0.000000  0.038960   \n996  0.000000  0.000000  0.000000  0.000000  0.000000  0.000000  0.038960   \n997  0.000000  0.000000  0.222025  0.000000  0.000000  0.017028  0.039094   \n998  0.000000  0.000000  0.207486  0.000000  0.001756  0.043356  0.038960   \n999  0.000000  0.097947  0.000000  0.000000  0.000000  0.010261  0.039344   \n\n            7         8         9  ...       480       481       482  \\\n0    0.858497  0.000000  0.000000  ...  0.637101  0.000000  0.000000   \n1    0.096532  0.910936  0.000000  ...  0.000000  0.000000  0.000000   \n2    0.000000  1.559331  0.000000  ...  1.027114  0.000000  0.000000   \n3    1.299781  0.205346  0.000000  ...  0.000000  0.000000  1.281684   \n4    0.492133  2.122140  0.000000  ...  0.000000  0.000000  0.000000   \n..        ...       ...       ...  ...       ...       ...       ...   \n995  0.000000  2.637536  0.000000  ...  0.000000  0.000000  0.000000   \n996  0.359231  0.000000  0.192084  ...  0.098017  0.000000  0.000000   \n997  0.000000  1.778645  1.042074  ...  0.000000  1.662822  0.000000   \n998  0.000000  1.141600  0.326116  ...  0.000000  0.654420  0.000000   \n999  0.000000  0.336210  0.000000  ...  0.000000  0.382705  0.000000   \n\n          483       484       485       486       487       488       489  \n0    0.098544  0.108792  0.430980  0.000000  0.666582  0.000000  0.000000  \n1    0.098544  0.004032  0.000000  0.000000  0.000000  0.000000  0.000000  \n2    0.098544  0.124219  0.106502  0.000000  0.000000  0.000000  0.000000  \n3    0.123990  0.410455  0.489186  0.339925  0.392662  0.336100  0.018759  \n4    0.098544  0.015890  0.000000  0.000000  0.000000  0.000000  0.000000  \n..        ...       ...       ...       ...       ...       ...       ...  \n995  0.098544  0.017573  0.255605  0.389432  0.312123  0.000000  0.000000  \n996  0.098544  0.042909  0.035178  0.000000  1.681436  0.117235  0.000000  \n997  0.135508  0.000000  0.000000  0.000000  0.000000  0.000000  0.000000  \n998  0.098544  0.055674  0.000000  0.000000  0.000000  0.000000  0.000000  \n999  0.477903  0.000000  0.000000  0.022417  0.000000  0.000000  0.000000  \n\n[1000 rows x 490 columns]",
      "text/html": "<div>\n<style scoped>\n    .dataframe tbody tr th:only-of-type {\n        vertical-align: middle;\n    }\n\n    .dataframe tbody tr th {\n        vertical-align: top;\n    }\n\n    .dataframe thead th {\n        text-align: right;\n    }\n</style>\n<table border=\"1\" class=\"dataframe\">\n  <thead>\n    <tr style=\"text-align: right;\">\n      <th></th>\n      <th>0</th>\n      <th>1</th>\n      <th>2</th>\n      <th>3</th>\n      <th>4</th>\n      <th>5</th>\n      <th>6</th>\n      <th>7</th>\n      <th>8</th>\n      <th>9</th>\n      <th>...</th>\n      <th>480</th>\n      <th>481</th>\n      <th>482</th>\n      <th>483</th>\n      <th>484</th>\n      <th>485</th>\n      <th>486</th>\n      <th>487</th>\n      <th>488</th>\n      <th>489</th>\n    </tr>\n  </thead>\n  <tbody>\n    <tr>\n      <th>0</th>\n      <td>0.000000</td>\n      <td>0.000000</td>\n      <td>0.000000</td>\n      <td>0.000000</td>\n      <td>0.000000</td>\n      <td>0.000000</td>\n      <td>0.038960</td>\n      <td>0.858497</td>\n      <td>0.000000</td>\n      <td>0.000000</td>\n      <td>...</td>\n      <td>0.637101</td>\n      <td>0.000000</td>\n      <td>0.000000</td>\n      <td>0.098544</td>\n      <td>0.108792</td>\n      <td>0.430980</td>\n      <td>0.000000</td>\n      <td>0.666582</td>\n      <td>0.000000</td>\n      <td>0.000000</td>\n    </tr>\n    <tr>\n      <th>1</th>\n      <td>0.000000</td>\n      <td>0.207464</td>\n      <td>0.000000</td>\n      <td>0.000000</td>\n      <td>0.000000</td>\n      <td>0.000000</td>\n      <td>0.038960</td>\n      <td>0.096532</td>\n      <td>0.910936</td>\n      <td>0.000000</td>\n      <td>...</td>\n      <td>0.000000</td>\n      <td>0.000000</td>\n      <td>0.000000</td>\n      <td>0.098544</td>\n      <td>0.004032</td>\n      <td>0.000000</td>\n      <td>0.000000</td>\n      <td>0.000000</td>\n      <td>0.000000</td>\n      <td>0.000000</td>\n    </tr>\n    <tr>\n      <th>2</th>\n      <td>0.000000</td>\n      <td>0.000000</td>\n      <td>0.000000</td>\n      <td>0.000000</td>\n      <td>0.000000</td>\n      <td>0.000000</td>\n      <td>0.038960</td>\n      <td>0.000000</td>\n      <td>1.559331</td>\n      <td>0.000000</td>\n      <td>...</td>\n      <td>1.027114</td>\n      <td>0.000000</td>\n      <td>0.000000</td>\n      <td>0.098544</td>\n      <td>0.124219</td>\n      <td>0.106502</td>\n      <td>0.000000</td>\n      <td>0.000000</td>\n      <td>0.000000</td>\n      <td>0.000000</td>\n    </tr>\n    <tr>\n      <th>3</th>\n      <td>0.431932</td>\n      <td>0.526508</td>\n      <td>0.000000</td>\n      <td>0.000000</td>\n      <td>0.000000</td>\n      <td>0.060119</td>\n      <td>0.038960</td>\n      <td>1.299781</td>\n      <td>0.205346</td>\n      <td>0.000000</td>\n      <td>...</td>\n      <td>0.000000</td>\n      <td>0.000000</td>\n      <td>1.281684</td>\n      <td>0.123990</td>\n      <td>0.410455</td>\n      <td>0.489186</td>\n      <td>0.339925</td>\n      <td>0.392662</td>\n      <td>0.336100</td>\n      <td>0.018759</td>\n    </tr>\n    <tr>\n      <th>4</th>\n      <td>0.000000</td>\n      <td>0.839142</td>\n      <td>0.000000</td>\n      <td>0.059878</td>\n      <td>0.000000</td>\n      <td>0.000000</td>\n      <td>0.038960</td>\n      <td>0.492133</td>\n      <td>2.122140</td>\n      <td>0.000000</td>\n      <td>...</td>\n      <td>0.000000</td>\n      <td>0.000000</td>\n      <td>0.000000</td>\n      <td>0.098544</td>\n      <td>0.015890</td>\n      <td>0.000000</td>\n      <td>0.000000</td>\n      <td>0.000000</td>\n      <td>0.000000</td>\n      <td>0.000000</td>\n    </tr>\n    <tr>\n      <th>...</th>\n      <td>...</td>\n      <td>...</td>\n      <td>...</td>\n      <td>...</td>\n      <td>...</td>\n      <td>...</td>\n      <td>...</td>\n      <td>...</td>\n      <td>...</td>\n      <td>...</td>\n      <td>...</td>\n      <td>...</td>\n      <td>...</td>\n      <td>...</td>\n      <td>...</td>\n      <td>...</td>\n      <td>...</td>\n      <td>...</td>\n      <td>...</td>\n      <td>...</td>\n      <td>...</td>\n    </tr>\n    <tr>\n      <th>995</th>\n      <td>0.000000</td>\n      <td>2.344304</td>\n      <td>0.840134</td>\n      <td>0.000000</td>\n      <td>0.400422</td>\n      <td>0.000000</td>\n      <td>0.038960</td>\n      <td>0.000000</td>\n      <td>2.637536</td>\n      <td>0.000000</td>\n      <td>...</td>\n      <td>0.000000</td>\n      <td>0.000000</td>\n      <td>0.000000</td>\n      <td>0.098544</td>\n      <td>0.017573</td>\n      <td>0.255605</td>\n      <td>0.389432</td>\n      <td>0.312123</td>\n      <td>0.000000</td>\n      <td>0.000000</td>\n    </tr>\n    <tr>\n      <th>996</th>\n      <td>0.000000</td>\n      <td>0.000000</td>\n      <td>0.000000</td>\n      <td>0.000000</td>\n      <td>0.000000</td>\n      <td>0.000000</td>\n      <td>0.038960</td>\n      <td>0.359231</td>\n      <td>0.000000</td>\n      <td>0.192084</td>\n      <td>...</td>\n      <td>0.098017</td>\n      <td>0.000000</td>\n      <td>0.000000</td>\n      <td>0.098544</td>\n      <td>0.042909</td>\n      <td>0.035178</td>\n      <td>0.000000</td>\n      <td>1.681436</td>\n      <td>0.117235</td>\n      <td>0.000000</td>\n    </tr>\n    <tr>\n      <th>997</th>\n      <td>0.000000</td>\n      <td>0.000000</td>\n      <td>0.222025</td>\n      <td>0.000000</td>\n      <td>0.000000</td>\n      <td>0.017028</td>\n      <td>0.039094</td>\n      <td>0.000000</td>\n      <td>1.778645</td>\n      <td>1.042074</td>\n      <td>...</td>\n      <td>0.000000</td>\n      <td>1.662822</td>\n      <td>0.000000</td>\n      <td>0.135508</td>\n      <td>0.000000</td>\n      <td>0.000000</td>\n      <td>0.000000</td>\n      <td>0.000000</td>\n      <td>0.000000</td>\n      <td>0.000000</td>\n    </tr>\n    <tr>\n      <th>998</th>\n      <td>0.000000</td>\n      <td>0.000000</td>\n      <td>0.207486</td>\n      <td>0.000000</td>\n      <td>0.001756</td>\n      <td>0.043356</td>\n      <td>0.038960</td>\n      <td>0.000000</td>\n      <td>1.141600</td>\n      <td>0.326116</td>\n      <td>...</td>\n      <td>0.000000</td>\n      <td>0.654420</td>\n      <td>0.000000</td>\n      <td>0.098544</td>\n      <td>0.055674</td>\n      <td>0.000000</td>\n      <td>0.000000</td>\n      <td>0.000000</td>\n      <td>0.000000</td>\n      <td>0.000000</td>\n    </tr>\n    <tr>\n      <th>999</th>\n      <td>0.000000</td>\n      <td>0.097947</td>\n      <td>0.000000</td>\n      <td>0.000000</td>\n      <td>0.000000</td>\n      <td>0.010261</td>\n      <td>0.039344</td>\n      <td>0.000000</td>\n      <td>0.336210</td>\n      <td>0.000000</td>\n      <td>...</td>\n      <td>0.000000</td>\n      <td>0.382705</td>\n      <td>0.000000</td>\n      <td>0.477903</td>\n      <td>0.000000</td>\n      <td>0.000000</td>\n      <td>0.022417</td>\n      <td>0.000000</td>\n      <td>0.000000</td>\n      <td>0.000000</td>\n    </tr>\n  </tbody>\n</table>\n<p>1000 rows × 490 columns</p>\n</div>"
     },
     "execution_count": 13,
     "metadata": {},
     "output_type": "execute_result"
    }
   ],
   "source": [
    "df_matrix_A_final_test"
   ]
  },
  {
   "cell_type": "markdown",
   "id": "6c781eeb38de480b",
   "metadata": {},
   "source": [
    "## 2. Calculate Determinant"
   ]
  },
  {
   "cell_type": "code",
   "execution_count": 14,
   "id": "e7b436e6b8a6814c",
   "metadata": {
    "collapsed": false,
    "jupyter": {
     "outputs_hidden": false
    },
    "ExecuteTime": {
     "end_time": "2023-08-06T08:36:55.350795Z",
     "start_time": "2023-08-06T08:36:44.875530500Z"
    }
   },
   "outputs": [
    {
     "name": "stdout",
     "output_type": "stream",
     "text": [
      "0.0\n"
     ]
    }
   ],
   "source": [
    "# 1. Calculate the transpose of matrix_A_final\n",
    "matrix_A_final_train_transpose = df_matrix_A_final_train.transpose()\n",
    "\n",
    "# 2. Calculate the multiplication of matrix_A_final and matrix_A_final_transpose\n",
    "matrix_A_final_train_mmult = np.dot(df_matrix_A_final_train.values, matrix_A_final_train_transpose.values)\n",
    "\n",
    "# 3. Calculate the determinant of matrix_A_final_mmult\n",
    "matrix_A_final_train_determinant = np.linalg.det(matrix_A_final_train_mmult)\n",
    "\n",
    "print(matrix_A_final_train_determinant)\n"
   ]
  },
  {
   "cell_type": "markdown",
   "id": "7daf14234ebfc257",
   "metadata": {},
   "source": [
    "## 3. Calculate Transition Matrix"
   ]
  },
  {
   "cell_type": "markdown",
   "id": "60b2e72dba24557b",
   "metadata": {},
   "source": [
    "### 3.1. Singular Value Decomposition (SVD)"
   ]
  },
  {
   "cell_type": "code",
   "execution_count": 15,
   "id": "a85267d9b0432aa",
   "metadata": {
    "collapsed": false,
    "jupyter": {
     "outputs_hidden": false
    },
    "ExecuteTime": {
     "end_time": "2023-08-06T08:37:08.424746200Z",
     "start_time": "2023-08-06T08:36:55.354769Z"
    }
   },
   "outputs": [
    {
     "name": "stdout",
     "output_type": "stream",
     "text": [
      "U:\n",
      " [[-1.17536769e-02  3.21430428e-03  9.66340546e-03 ...  3.40701109e-03\n",
      "   1.51589708e-03 -9.61074699e-02]\n",
      " [-7.48475236e-03  9.32627040e-03  6.43891144e-03 ... -9.19637593e-04\n",
      "   4.84994566e-04 -3.28989427e-02]\n",
      " [-8.31678003e-03  4.43004836e-03  3.27213519e-03 ...  3.06783431e-04\n",
      "  -5.68534525e-04  9.35373331e-03]\n",
      " ...\n",
      " [-1.14003970e-02  5.95746825e-04  1.11911768e-03 ...  9.31704682e-01\n",
      "  -2.95706233e-04 -3.63734962e-04]\n",
      " [-7.05458256e-03  1.22050456e-02 -1.89671465e-02 ...  4.54265916e-04\n",
      "   9.85393466e-01  2.08568787e-03]\n",
      " [-6.80787994e-03 -8.79392097e-03 -1.50130019e-03 ... -5.87476925e-04\n",
      "   1.52370081e-03  8.04159542e-01]]\n",
      "\n",
      "S:\n",
      " [[1145.2871809     0.            0.         ...    0.\n",
      "     0.            0.        ]\n",
      " [   0.          491.62968946    0.         ...    0.\n",
      "     0.            0.        ]\n",
      " [   0.            0.          419.50053016 ...    0.\n",
      "     0.            0.        ]\n",
      " ...\n",
      " [   0.            0.            0.         ...    0.\n",
      "     0.            0.        ]\n",
      " [   0.            0.            0.         ...    0.\n",
      "     0.            0.        ]\n",
      " [   0.            0.            0.         ...    0.\n",
      "     0.            0.        ]]\n",
      "\n",
      "Vt:\n",
      " [[-1.22688873e-03 -6.92478936e-03 -1.36401432e-02 ... -6.26177208e-03\n",
      "  -5.31096776e-03 -5.99522065e-04]\n",
      " [-1.82817454e-03 -1.18659258e-02 -1.50348040e-02 ...  5.31060099e-03\n",
      "   7.81296600e-03  2.84576026e-04]\n",
      " [ 1.09034686e-03 -2.34221789e-04 -2.43326484e-02 ... -9.06850198e-04\n",
      "   1.30707972e-02  1.81475601e-03]\n",
      " ...\n",
      " [ 7.73670251e-05  1.84328901e-05  5.99209682e-05 ...  2.23317945e-05\n",
      "  -8.12779771e-06  6.26212289e-05]\n",
      " [ 8.79856493e-05  1.21262757e-06 -3.63772220e-05 ... -2.84684735e-05\n",
      "  -1.14796009e-05 -6.63724573e-05]\n",
      " [ 1.08646603e-05  3.97906127e-06 -1.51067389e-06 ...  6.73721267e-08\n",
      "  -5.75151913e-07  4.26389017e-06]]\n"
     ]
    }
   ],
   "source": [
    "# Receive values from the matrix A DataFrame \n",
    "matrix_A_final_train_values = df_matrix_A_final_train.values\n",
    "\n",
    "# Calculate SVD\n",
    "U, s, Vt = np.linalg.svd(matrix_A_final_train_values)\n",
    "\n",
    "# Construct the full diagonal matrix\n",
    "S = np.zeros(matrix_A_final_train_values.shape)\n",
    "for i in range(min(matrix_A_final_train_values.shape)):\n",
    "    S[i, i] = s[i]\n",
    "\n",
    "print(\"U:\\n\", U)\n",
    "print(\"\\nS:\\n\", S)\n",
    "print(\"\\nVt:\\n\", Vt)\n"
   ]
  },
  {
   "cell_type": "code",
   "execution_count": 16,
   "id": "60087eefef52d0e3",
   "metadata": {
    "collapsed": false,
    "jupyter": {
     "outputs_hidden": false
    },
    "ExecuteTime": {
     "end_time": "2023-08-06T08:37:08.486632100Z",
     "start_time": "2023-08-06T08:37:08.426080900Z"
    }
   },
   "outputs": [
    {
     "data": {
      "text/plain": "(10000, 10000)"
     },
     "execution_count": 16,
     "metadata": {},
     "output_type": "execute_result"
    }
   ],
   "source": [
    "U.shape"
   ]
  },
  {
   "cell_type": "markdown",
   "id": "c30ceef099c78a1",
   "metadata": {},
   "source": [
    "### 3.2. Create the reconstructed matrix of SVD"
   ]
  },
  {
   "cell_type": "code",
   "execution_count": 17,
   "id": "4665818866492a6a",
   "metadata": {
    "collapsed": false,
    "jupyter": {
     "outputs_hidden": false
    },
    "ExecuteTime": {
     "end_time": "2023-08-06T08:37:09.232549Z",
     "start_time": "2023-08-06T08:37:08.442092400Z"
    }
   },
   "outputs": [],
   "source": [
    "# Recompute the original matrix using U, S, and Vt\n",
    "reconstructed_matrix = U.dot(S.dot(Vt))\n",
    "\n",
    "# Convert the reconstructed matrix to a pandas DataFrame, if desired\n",
    "reconstructed_df = pd.DataFrame(reconstructed_matrix)\n"
   ]
  },
  {
   "cell_type": "code",
   "execution_count": 18,
   "id": "4e5cf9559e88341f",
   "metadata": {
    "collapsed": false,
    "jupyter": {
     "outputs_hidden": false
    },
    "ExecuteTime": {
     "end_time": "2023-08-06T08:37:09.288090300Z",
     "start_time": "2023-08-06T08:37:09.233668800Z"
    }
   },
   "outputs": [
    {
     "data": {
      "text/plain": "               0             1             2             3             4    \\\n0     6.353425e-16  1.526098e-01 -4.695029e-15  2.595146e-15 -8.881784e-16   \n1     2.151057e-16 -9.825474e-15 -1.637579e-15  4.957840e-15  3.788636e-15   \n2    -2.498002e-16  7.681356e-15  4.249145e-01 -8.154393e-15  7.227936e-02   \n3     2.706169e-16 -4.080070e-15  2.337540e-15  3.656797e-15  1.119149e-02   \n4    -4.007211e-16 -3.025358e-15  3.400058e-16  1.373901e-15  5.999103e-03   \n...            ...           ...           ...           ...           ...   \n9995  5.915407e-16  5.665607e-15  1.573618e-01  7.598089e-16  8.743006e-16   \n9996  1.665335e-16 -5.280498e-15  8.091006e-02  7.029100e-15 -7.674417e-15   \n9997  4.336809e-17  7.972789e-15 -3.751340e-15  1.561251e-16  5.329071e-15   \n9998 -1.144917e-16 -4.295175e-15 -7.892992e-17  6.150120e-01  5.574071e-02   \n9999  9.979962e-01  1.221766e+00 -2.803313e-15  7.168889e-02 -2.081668e-15   \n\n               5         6             7             8             9    ...  \\\n0     4.579670e-16  0.038960  1.402090e-15  1.915849e-01 -4.501607e-15  ...   \n1     3.413936e-15  0.038960  9.728329e-15  3.719247e-14 -2.754741e-15  ...   \n2    -7.233797e-15  0.038960  8.118506e-16  2.082656e+00  1.642798e+00  ...   \n3    -7.398596e-15  0.038960  6.967961e-01  4.978221e-01 -1.990357e-14  ...   \n4     2.429582e-02  0.039652 -3.629042e-15  1.509209e-16 -4.986463e-15  ...   \n...            ...       ...           ...           ...           ...  ...   \n9995  8.140190e-16  0.039694  1.280226e-15  1.218139e+00  2.231922e+00  ...   \n9996  1.086745e-02  0.038960  5.013373e-01  1.645792e+00 -1.732989e-15  ...   \n9997 -3.781697e-16  0.020556  0.000000e+00 -1.647987e-17  7.510930e-01  ...   \n9998  6.763804e-02  0.038960 -6.170845e-15  7.317280e-15  2.285516e+00  ...   \n9999  2.389582e-16  0.038960  2.587651e-01  3.759146e-15 -4.427014e-15  ...   \n\n               480           481           482           483           484  \\\n0     2.021061e-15  1.584121e-01 -2.390449e-15 -1.179612e-16 -1.047773e-15   \n1     1.669671e-16  6.941496e-15  4.440892e-15  9.854406e-02  1.457168e-15   \n2     2.295538e+00  1.126145e+00 -3.851086e-16  9.854406e-02 -1.040834e-16   \n3    -7.356095e-15  1.222978e-01  1.096852e-01  9.858409e-02 -7.112366e-16   \n4     9.621210e-16 -1.864828e-15 -1.353084e-15 -2.289835e-16 -5.412337e-16   \n...            ...           ...           ...           ...           ...   \n9995  9.580240e-01  1.585808e+00  2.386980e-15  9.543183e-02  5.412337e-16   \n9996 -8.749512e-16  2.251701e+00  1.807578e+00  9.854406e-02 -3.122502e-16   \n9997 -1.852685e-15  5.135866e-16  9.056341e-16  1.735725e-01  4.578305e-01   \n9998 -1.709082e-15  2.168188e-15  1.562986e-15  9.854406e-02  7.303458e-02   \n9999 -3.488746e-15 -4.292140e-15 -3.261280e-16  9.854406e-02  3.261280e-16   \n\n               485           486           487           488           489  \n0    -2.775558e-16 -4.822531e-16 -9.870577e-16 -5.230191e-16 -3.018419e-16  \n1     1.782033e-01  4.003742e-15  1.884887e-02  2.458571e+00 -1.110223e-16  \n2     3.674546e-02 -5.384582e-15 -2.985459e-15 -1.327931e-15 -1.035630e-15  \n3    -3.773457e-15 -2.664535e-15 -7.606762e-16  8.448103e-16 -6.938894e-18  \n4    -2.185752e-16  1.256807e-15  8.610734e-16 -6.010817e-16  4.163336e-16  \n...            ...           ...           ...           ...           ...  \n9995  4.874573e-16  2.359224e-16 -5.165139e-16 -1.081166e-15  6.591949e-17  \n9996 -3.261280e-16  3.035039e-03  1.552578e-16 -6.106227e-16  9.367507e-17  \n9997  4.559450e-01  1.588435e-01 -3.135513e-16  9.345823e-17 -7.025630e-17  \n9998  2.168404e-16  2.393918e-16 -1.136244e-16 -7.047314e-18  1.700029e-16  \n9999  1.027947e-01  2.126197e-01  1.803690e-01  1.660714e-02  1.322727e-16  \n\n[10000 rows x 490 columns]",
      "text/html": "<div>\n<style scoped>\n    .dataframe tbody tr th:only-of-type {\n        vertical-align: middle;\n    }\n\n    .dataframe tbody tr th {\n        vertical-align: top;\n    }\n\n    .dataframe thead th {\n        text-align: right;\n    }\n</style>\n<table border=\"1\" class=\"dataframe\">\n  <thead>\n    <tr style=\"text-align: right;\">\n      <th></th>\n      <th>0</th>\n      <th>1</th>\n      <th>2</th>\n      <th>3</th>\n      <th>4</th>\n      <th>5</th>\n      <th>6</th>\n      <th>7</th>\n      <th>8</th>\n      <th>9</th>\n      <th>...</th>\n      <th>480</th>\n      <th>481</th>\n      <th>482</th>\n      <th>483</th>\n      <th>484</th>\n      <th>485</th>\n      <th>486</th>\n      <th>487</th>\n      <th>488</th>\n      <th>489</th>\n    </tr>\n  </thead>\n  <tbody>\n    <tr>\n      <th>0</th>\n      <td>6.353425e-16</td>\n      <td>1.526098e-01</td>\n      <td>-4.695029e-15</td>\n      <td>2.595146e-15</td>\n      <td>-8.881784e-16</td>\n      <td>4.579670e-16</td>\n      <td>0.038960</td>\n      <td>1.402090e-15</td>\n      <td>1.915849e-01</td>\n      <td>-4.501607e-15</td>\n      <td>...</td>\n      <td>2.021061e-15</td>\n      <td>1.584121e-01</td>\n      <td>-2.390449e-15</td>\n      <td>-1.179612e-16</td>\n      <td>-1.047773e-15</td>\n      <td>-2.775558e-16</td>\n      <td>-4.822531e-16</td>\n      <td>-9.870577e-16</td>\n      <td>-5.230191e-16</td>\n      <td>-3.018419e-16</td>\n    </tr>\n    <tr>\n      <th>1</th>\n      <td>2.151057e-16</td>\n      <td>-9.825474e-15</td>\n      <td>-1.637579e-15</td>\n      <td>4.957840e-15</td>\n      <td>3.788636e-15</td>\n      <td>3.413936e-15</td>\n      <td>0.038960</td>\n      <td>9.728329e-15</td>\n      <td>3.719247e-14</td>\n      <td>-2.754741e-15</td>\n      <td>...</td>\n      <td>1.669671e-16</td>\n      <td>6.941496e-15</td>\n      <td>4.440892e-15</td>\n      <td>9.854406e-02</td>\n      <td>1.457168e-15</td>\n      <td>1.782033e-01</td>\n      <td>4.003742e-15</td>\n      <td>1.884887e-02</td>\n      <td>2.458571e+00</td>\n      <td>-1.110223e-16</td>\n    </tr>\n    <tr>\n      <th>2</th>\n      <td>-2.498002e-16</td>\n      <td>7.681356e-15</td>\n      <td>4.249145e-01</td>\n      <td>-8.154393e-15</td>\n      <td>7.227936e-02</td>\n      <td>-7.233797e-15</td>\n      <td>0.038960</td>\n      <td>8.118506e-16</td>\n      <td>2.082656e+00</td>\n      <td>1.642798e+00</td>\n      <td>...</td>\n      <td>2.295538e+00</td>\n      <td>1.126145e+00</td>\n      <td>-3.851086e-16</td>\n      <td>9.854406e-02</td>\n      <td>-1.040834e-16</td>\n      <td>3.674546e-02</td>\n      <td>-5.384582e-15</td>\n      <td>-2.985459e-15</td>\n      <td>-1.327931e-15</td>\n      <td>-1.035630e-15</td>\n    </tr>\n    <tr>\n      <th>3</th>\n      <td>2.706169e-16</td>\n      <td>-4.080070e-15</td>\n      <td>2.337540e-15</td>\n      <td>3.656797e-15</td>\n      <td>1.119149e-02</td>\n      <td>-7.398596e-15</td>\n      <td>0.038960</td>\n      <td>6.967961e-01</td>\n      <td>4.978221e-01</td>\n      <td>-1.990357e-14</td>\n      <td>...</td>\n      <td>-7.356095e-15</td>\n      <td>1.222978e-01</td>\n      <td>1.096852e-01</td>\n      <td>9.858409e-02</td>\n      <td>-7.112366e-16</td>\n      <td>-3.773457e-15</td>\n      <td>-2.664535e-15</td>\n      <td>-7.606762e-16</td>\n      <td>8.448103e-16</td>\n      <td>-6.938894e-18</td>\n    </tr>\n    <tr>\n      <th>4</th>\n      <td>-4.007211e-16</td>\n      <td>-3.025358e-15</td>\n      <td>3.400058e-16</td>\n      <td>1.373901e-15</td>\n      <td>5.999103e-03</td>\n      <td>2.429582e-02</td>\n      <td>0.039652</td>\n      <td>-3.629042e-15</td>\n      <td>1.509209e-16</td>\n      <td>-4.986463e-15</td>\n      <td>...</td>\n      <td>9.621210e-16</td>\n      <td>-1.864828e-15</td>\n      <td>-1.353084e-15</td>\n      <td>-2.289835e-16</td>\n      <td>-5.412337e-16</td>\n      <td>-2.185752e-16</td>\n      <td>1.256807e-15</td>\n      <td>8.610734e-16</td>\n      <td>-6.010817e-16</td>\n      <td>4.163336e-16</td>\n    </tr>\n    <tr>\n      <th>...</th>\n      <td>...</td>\n      <td>...</td>\n      <td>...</td>\n      <td>...</td>\n      <td>...</td>\n      <td>...</td>\n      <td>...</td>\n      <td>...</td>\n      <td>...</td>\n      <td>...</td>\n      <td>...</td>\n      <td>...</td>\n      <td>...</td>\n      <td>...</td>\n      <td>...</td>\n      <td>...</td>\n      <td>...</td>\n      <td>...</td>\n      <td>...</td>\n      <td>...</td>\n      <td>...</td>\n    </tr>\n    <tr>\n      <th>9995</th>\n      <td>5.915407e-16</td>\n      <td>5.665607e-15</td>\n      <td>1.573618e-01</td>\n      <td>7.598089e-16</td>\n      <td>8.743006e-16</td>\n      <td>8.140190e-16</td>\n      <td>0.039694</td>\n      <td>1.280226e-15</td>\n      <td>1.218139e+00</td>\n      <td>2.231922e+00</td>\n      <td>...</td>\n      <td>9.580240e-01</td>\n      <td>1.585808e+00</td>\n      <td>2.386980e-15</td>\n      <td>9.543183e-02</td>\n      <td>5.412337e-16</td>\n      <td>4.874573e-16</td>\n      <td>2.359224e-16</td>\n      <td>-5.165139e-16</td>\n      <td>-1.081166e-15</td>\n      <td>6.591949e-17</td>\n    </tr>\n    <tr>\n      <th>9996</th>\n      <td>1.665335e-16</td>\n      <td>-5.280498e-15</td>\n      <td>8.091006e-02</td>\n      <td>7.029100e-15</td>\n      <td>-7.674417e-15</td>\n      <td>1.086745e-02</td>\n      <td>0.038960</td>\n      <td>5.013373e-01</td>\n      <td>1.645792e+00</td>\n      <td>-1.732989e-15</td>\n      <td>...</td>\n      <td>-8.749512e-16</td>\n      <td>2.251701e+00</td>\n      <td>1.807578e+00</td>\n      <td>9.854406e-02</td>\n      <td>-3.122502e-16</td>\n      <td>-3.261280e-16</td>\n      <td>3.035039e-03</td>\n      <td>1.552578e-16</td>\n      <td>-6.106227e-16</td>\n      <td>9.367507e-17</td>\n    </tr>\n    <tr>\n      <th>9997</th>\n      <td>4.336809e-17</td>\n      <td>7.972789e-15</td>\n      <td>-3.751340e-15</td>\n      <td>1.561251e-16</td>\n      <td>5.329071e-15</td>\n      <td>-3.781697e-16</td>\n      <td>0.020556</td>\n      <td>0.000000e+00</td>\n      <td>-1.647987e-17</td>\n      <td>7.510930e-01</td>\n      <td>...</td>\n      <td>-1.852685e-15</td>\n      <td>5.135866e-16</td>\n      <td>9.056341e-16</td>\n      <td>1.735725e-01</td>\n      <td>4.578305e-01</td>\n      <td>4.559450e-01</td>\n      <td>1.588435e-01</td>\n      <td>-3.135513e-16</td>\n      <td>9.345823e-17</td>\n      <td>-7.025630e-17</td>\n    </tr>\n    <tr>\n      <th>9998</th>\n      <td>-1.144917e-16</td>\n      <td>-4.295175e-15</td>\n      <td>-7.892992e-17</td>\n      <td>6.150120e-01</td>\n      <td>5.574071e-02</td>\n      <td>6.763804e-02</td>\n      <td>0.038960</td>\n      <td>-6.170845e-15</td>\n      <td>7.317280e-15</td>\n      <td>2.285516e+00</td>\n      <td>...</td>\n      <td>-1.709082e-15</td>\n      <td>2.168188e-15</td>\n      <td>1.562986e-15</td>\n      <td>9.854406e-02</td>\n      <td>7.303458e-02</td>\n      <td>2.168404e-16</td>\n      <td>2.393918e-16</td>\n      <td>-1.136244e-16</td>\n      <td>-7.047314e-18</td>\n      <td>1.700029e-16</td>\n    </tr>\n    <tr>\n      <th>9999</th>\n      <td>9.979962e-01</td>\n      <td>1.221766e+00</td>\n      <td>-2.803313e-15</td>\n      <td>7.168889e-02</td>\n      <td>-2.081668e-15</td>\n      <td>2.389582e-16</td>\n      <td>0.038960</td>\n      <td>2.587651e-01</td>\n      <td>3.759146e-15</td>\n      <td>-4.427014e-15</td>\n      <td>...</td>\n      <td>-3.488746e-15</td>\n      <td>-4.292140e-15</td>\n      <td>-3.261280e-16</td>\n      <td>9.854406e-02</td>\n      <td>3.261280e-16</td>\n      <td>1.027947e-01</td>\n      <td>2.126197e-01</td>\n      <td>1.803690e-01</td>\n      <td>1.660714e-02</td>\n      <td>1.322727e-16</td>\n    </tr>\n  </tbody>\n</table>\n<p>10000 rows × 490 columns</p>\n</div>"
     },
     "execution_count": 18,
     "metadata": {},
     "output_type": "execute_result"
    }
   ],
   "source": [
    "reconstructed_df"
   ]
  },
  {
   "cell_type": "markdown",
   "id": "6a353b8087b46d40",
   "metadata": {},
   "source": [
    "### 3.3. Calculate the generalized inverse of Matrix A"
   ]
  },
  {
   "cell_type": "code",
   "execution_count": 19,
   "id": "855fd6044ced7d52",
   "metadata": {
    "collapsed": false,
    "jupyter": {
     "outputs_hidden": false
    },
    "ExecuteTime": {
     "end_time": "2023-08-06T08:37:10.123200500Z",
     "start_time": "2023-08-06T08:37:09.282090Z"
    }
   },
   "outputs": [],
   "source": [
    "# Calculate the generalized (Moore-Penrose) inverse\n",
    "matrix_A_final_train_pinv = np.linalg.pinv(df_matrix_A_final_train.values)\n",
    "\n",
    "# Convert to a pandas DataFrame, if desired\n",
    "matrix_A_final_train_pinv_df = pd.DataFrame(matrix_A_final_train_pinv)\n"
   ]
  },
  {
   "cell_type": "code",
   "execution_count": 20,
   "id": "633955ee8b987a64",
   "metadata": {
    "collapsed": false,
    "jupyter": {
     "outputs_hidden": false
    },
    "ExecuteTime": {
     "end_time": "2023-08-06T08:37:10.184183400Z",
     "start_time": "2023-08-06T08:37:10.124163400Z"
    }
   },
   "outputs": [
    {
     "data": {
      "text/plain": "         0         1         2         3         4         5         6     \\\n0   -0.000598 -0.000573 -0.002136  0.001721  0.000798  0.001145  0.000550   \n1   -0.000558 -0.000024  0.000484 -0.000094  0.000373  0.000234 -0.000908   \n2    0.000499 -0.000394 -0.001000 -0.000115 -0.000042  0.000102  0.000219   \n3   -0.000169 -0.000676 -0.000278  0.000502 -0.001362 -0.000070 -0.000110   \n4   -0.000126  0.000214  0.000350  0.000322 -0.001468 -0.000130  0.000454   \n..        ...       ...       ...       ...       ...       ...       ...   \n485  0.000590 -0.000706 -0.000457  0.000292  0.000014  0.001098  0.000421   \n486  0.000136 -0.000073 -0.000942 -0.001026 -0.000086  0.000700  0.000356   \n487  0.000165 -0.001586  0.000395 -0.000162  0.000009 -0.000221  0.000011   \n488 -0.000003  0.004796 -0.000541 -0.000085  0.000070  0.001243 -0.000099   \n489  0.001035  0.000489  0.001936  0.000876 -0.000101  0.000328 -0.000084   \n\n         7         8         9     ...      9990      9991      9992  \\\n0   -0.000365  0.002234 -0.001761  ...  0.001154 -0.001647 -0.000229   \n1   -0.000518  0.005703  0.000478  ...  0.000313 -0.000037 -0.000476   \n2    0.001332 -0.000379 -0.000044  ...  0.000078  0.000224 -0.000648   \n3    0.000044 -0.000097 -0.000049  ...  0.000235  0.000521  0.000256   \n4   -0.000142 -0.000379 -0.000357  ...  0.000695 -0.000199 -0.000838   \n..        ...       ...       ...  ...       ...       ...       ...   \n485 -0.000189 -0.001093  0.003124  ... -0.002004 -0.001401  0.001219   \n486 -0.002564 -0.000215 -0.001558  ...  0.001000 -0.000487  0.000279   \n487  0.000471  0.000244 -0.000353  ... -0.000264 -0.000516  0.000513   \n488  0.000280 -0.000309  0.000791  ... -0.000442 -0.000487  0.000569   \n489  0.000299  0.001000 -0.007568  ... -0.001281  0.001223  0.002766   \n\n         9993      9994      9995      9996      9997      9998      9999  \n0   -0.004167 -0.000528 -0.000047  0.002664 -0.000817 -0.000787 -0.001973  \n1    0.000234 -0.000135  0.000198 -0.000123  0.000043  0.000044 -0.004229  \n2    0.000354 -0.000249 -0.001421 -0.000001  0.000182 -0.000573 -0.000872  \n3    0.000197  0.001186 -0.000581 -0.001413 -0.000040  0.000213 -0.003202  \n4   -0.000065 -0.000010 -0.000215 -0.000261  0.000292  0.001244 -0.000433  \n..        ...       ...       ...       ...       ...       ...       ...  \n485 -0.000727 -0.000815  0.000217 -0.000928  0.000134 -0.000679  0.000675  \n486  0.000277 -0.001556  0.000041 -0.001501  0.000630  0.000309  0.000110  \n487 -0.000203 -0.000085  0.000015 -0.000203  0.000155  0.000281 -0.000089  \n488 -0.000488 -0.000544 -0.000355  0.000672  0.000085  0.000183 -0.000352  \n489 -0.001117  0.001384 -0.000043  0.003225  0.000383  0.000527 -0.000394  \n\n[490 rows x 10000 columns]",
      "text/html": "<div>\n<style scoped>\n    .dataframe tbody tr th:only-of-type {\n        vertical-align: middle;\n    }\n\n    .dataframe tbody tr th {\n        vertical-align: top;\n    }\n\n    .dataframe thead th {\n        text-align: right;\n    }\n</style>\n<table border=\"1\" class=\"dataframe\">\n  <thead>\n    <tr style=\"text-align: right;\">\n      <th></th>\n      <th>0</th>\n      <th>1</th>\n      <th>2</th>\n      <th>3</th>\n      <th>4</th>\n      <th>5</th>\n      <th>6</th>\n      <th>7</th>\n      <th>8</th>\n      <th>9</th>\n      <th>...</th>\n      <th>9990</th>\n      <th>9991</th>\n      <th>9992</th>\n      <th>9993</th>\n      <th>9994</th>\n      <th>9995</th>\n      <th>9996</th>\n      <th>9997</th>\n      <th>9998</th>\n      <th>9999</th>\n    </tr>\n  </thead>\n  <tbody>\n    <tr>\n      <th>0</th>\n      <td>-0.000598</td>\n      <td>-0.000573</td>\n      <td>-0.002136</td>\n      <td>0.001721</td>\n      <td>0.000798</td>\n      <td>0.001145</td>\n      <td>0.000550</td>\n      <td>-0.000365</td>\n      <td>0.002234</td>\n      <td>-0.001761</td>\n      <td>...</td>\n      <td>0.001154</td>\n      <td>-0.001647</td>\n      <td>-0.000229</td>\n      <td>-0.004167</td>\n      <td>-0.000528</td>\n      <td>-0.000047</td>\n      <td>0.002664</td>\n      <td>-0.000817</td>\n      <td>-0.000787</td>\n      <td>-0.001973</td>\n    </tr>\n    <tr>\n      <th>1</th>\n      <td>-0.000558</td>\n      <td>-0.000024</td>\n      <td>0.000484</td>\n      <td>-0.000094</td>\n      <td>0.000373</td>\n      <td>0.000234</td>\n      <td>-0.000908</td>\n      <td>-0.000518</td>\n      <td>0.005703</td>\n      <td>0.000478</td>\n      <td>...</td>\n      <td>0.000313</td>\n      <td>-0.000037</td>\n      <td>-0.000476</td>\n      <td>0.000234</td>\n      <td>-0.000135</td>\n      <td>0.000198</td>\n      <td>-0.000123</td>\n      <td>0.000043</td>\n      <td>0.000044</td>\n      <td>-0.004229</td>\n    </tr>\n    <tr>\n      <th>2</th>\n      <td>0.000499</td>\n      <td>-0.000394</td>\n      <td>-0.001000</td>\n      <td>-0.000115</td>\n      <td>-0.000042</td>\n      <td>0.000102</td>\n      <td>0.000219</td>\n      <td>0.001332</td>\n      <td>-0.000379</td>\n      <td>-0.000044</td>\n      <td>...</td>\n      <td>0.000078</td>\n      <td>0.000224</td>\n      <td>-0.000648</td>\n      <td>0.000354</td>\n      <td>-0.000249</td>\n      <td>-0.001421</td>\n      <td>-0.000001</td>\n      <td>0.000182</td>\n      <td>-0.000573</td>\n      <td>-0.000872</td>\n    </tr>\n    <tr>\n      <th>3</th>\n      <td>-0.000169</td>\n      <td>-0.000676</td>\n      <td>-0.000278</td>\n      <td>0.000502</td>\n      <td>-0.001362</td>\n      <td>-0.000070</td>\n      <td>-0.000110</td>\n      <td>0.000044</td>\n      <td>-0.000097</td>\n      <td>-0.000049</td>\n      <td>...</td>\n      <td>0.000235</td>\n      <td>0.000521</td>\n      <td>0.000256</td>\n      <td>0.000197</td>\n      <td>0.001186</td>\n      <td>-0.000581</td>\n      <td>-0.001413</td>\n      <td>-0.000040</td>\n      <td>0.000213</td>\n      <td>-0.003202</td>\n    </tr>\n    <tr>\n      <th>4</th>\n      <td>-0.000126</td>\n      <td>0.000214</td>\n      <td>0.000350</td>\n      <td>0.000322</td>\n      <td>-0.001468</td>\n      <td>-0.000130</td>\n      <td>0.000454</td>\n      <td>-0.000142</td>\n      <td>-0.000379</td>\n      <td>-0.000357</td>\n      <td>...</td>\n      <td>0.000695</td>\n      <td>-0.000199</td>\n      <td>-0.000838</td>\n      <td>-0.000065</td>\n      <td>-0.000010</td>\n      <td>-0.000215</td>\n      <td>-0.000261</td>\n      <td>0.000292</td>\n      <td>0.001244</td>\n      <td>-0.000433</td>\n    </tr>\n    <tr>\n      <th>...</th>\n      <td>...</td>\n      <td>...</td>\n      <td>...</td>\n      <td>...</td>\n      <td>...</td>\n      <td>...</td>\n      <td>...</td>\n      <td>...</td>\n      <td>...</td>\n      <td>...</td>\n      <td>...</td>\n      <td>...</td>\n      <td>...</td>\n      <td>...</td>\n      <td>...</td>\n      <td>...</td>\n      <td>...</td>\n      <td>...</td>\n      <td>...</td>\n      <td>...</td>\n      <td>...</td>\n    </tr>\n    <tr>\n      <th>485</th>\n      <td>0.000590</td>\n      <td>-0.000706</td>\n      <td>-0.000457</td>\n      <td>0.000292</td>\n      <td>0.000014</td>\n      <td>0.001098</td>\n      <td>0.000421</td>\n      <td>-0.000189</td>\n      <td>-0.001093</td>\n      <td>0.003124</td>\n      <td>...</td>\n      <td>-0.002004</td>\n      <td>-0.001401</td>\n      <td>0.001219</td>\n      <td>-0.000727</td>\n      <td>-0.000815</td>\n      <td>0.000217</td>\n      <td>-0.000928</td>\n      <td>0.000134</td>\n      <td>-0.000679</td>\n      <td>0.000675</td>\n    </tr>\n    <tr>\n      <th>486</th>\n      <td>0.000136</td>\n      <td>-0.000073</td>\n      <td>-0.000942</td>\n      <td>-0.001026</td>\n      <td>-0.000086</td>\n      <td>0.000700</td>\n      <td>0.000356</td>\n      <td>-0.002564</td>\n      <td>-0.000215</td>\n      <td>-0.001558</td>\n      <td>...</td>\n      <td>0.001000</td>\n      <td>-0.000487</td>\n      <td>0.000279</td>\n      <td>0.000277</td>\n      <td>-0.001556</td>\n      <td>0.000041</td>\n      <td>-0.001501</td>\n      <td>0.000630</td>\n      <td>0.000309</td>\n      <td>0.000110</td>\n    </tr>\n    <tr>\n      <th>487</th>\n      <td>0.000165</td>\n      <td>-0.001586</td>\n      <td>0.000395</td>\n      <td>-0.000162</td>\n      <td>0.000009</td>\n      <td>-0.000221</td>\n      <td>0.000011</td>\n      <td>0.000471</td>\n      <td>0.000244</td>\n      <td>-0.000353</td>\n      <td>...</td>\n      <td>-0.000264</td>\n      <td>-0.000516</td>\n      <td>0.000513</td>\n      <td>-0.000203</td>\n      <td>-0.000085</td>\n      <td>0.000015</td>\n      <td>-0.000203</td>\n      <td>0.000155</td>\n      <td>0.000281</td>\n      <td>-0.000089</td>\n    </tr>\n    <tr>\n      <th>488</th>\n      <td>-0.000003</td>\n      <td>0.004796</td>\n      <td>-0.000541</td>\n      <td>-0.000085</td>\n      <td>0.000070</td>\n      <td>0.001243</td>\n      <td>-0.000099</td>\n      <td>0.000280</td>\n      <td>-0.000309</td>\n      <td>0.000791</td>\n      <td>...</td>\n      <td>-0.000442</td>\n      <td>-0.000487</td>\n      <td>0.000569</td>\n      <td>-0.000488</td>\n      <td>-0.000544</td>\n      <td>-0.000355</td>\n      <td>0.000672</td>\n      <td>0.000085</td>\n      <td>0.000183</td>\n      <td>-0.000352</td>\n    </tr>\n    <tr>\n      <th>489</th>\n      <td>0.001035</td>\n      <td>0.000489</td>\n      <td>0.001936</td>\n      <td>0.000876</td>\n      <td>-0.000101</td>\n      <td>0.000328</td>\n      <td>-0.000084</td>\n      <td>0.000299</td>\n      <td>0.001000</td>\n      <td>-0.007568</td>\n      <td>...</td>\n      <td>-0.001281</td>\n      <td>0.001223</td>\n      <td>0.002766</td>\n      <td>-0.001117</td>\n      <td>0.001384</td>\n      <td>-0.000043</td>\n      <td>0.003225</td>\n      <td>0.000383</td>\n      <td>0.000527</td>\n      <td>-0.000394</td>\n    </tr>\n  </tbody>\n</table>\n<p>490 rows × 10000 columns</p>\n</div>"
     },
     "execution_count": 20,
     "metadata": {},
     "output_type": "execute_result"
    }
   ],
   "source": [
    "matrix_A_final_train_pinv_df"
   ]
  },
  {
   "cell_type": "markdown",
   "id": "1ad5df044f595f75",
   "metadata": {},
   "source": [
    "### 3.4. Calculate transition matrix T"
   ]
  },
  {
   "cell_type": "code",
   "execution_count": 21,
   "id": "dcbc3da27151442f",
   "metadata": {
    "collapsed": false,
    "jupyter": {
     "outputs_hidden": false
    },
    "ExecuteTime": {
     "end_time": "2023-08-06T08:37:10.363667200Z",
     "start_time": "2023-08-06T08:37:10.156177700Z"
    }
   },
   "outputs": [],
   "source": [
    "transition_matrix_T = matrix_A_final_train_pinv_df.dot(matrix_B_final_train)"
   ]
  },
  {
   "cell_type": "code",
   "execution_count": 22,
   "id": "ea41401d2b998f53",
   "metadata": {
    "collapsed": false,
    "jupyter": {
     "outputs_hidden": false
    },
    "ExecuteTime": {
     "end_time": "2023-08-06T08:37:10.366668600Z",
     "start_time": "2023-08-06T08:37:10.239635600Z"
    }
   },
   "outputs": [
    {
     "data": {
      "text/plain": "     pixel0  pixel1  pixel2  pixel3  pixel4  pixel5  pixel6  pixel7  pixel8  \\\n0       0.0     0.0     0.0     0.0     0.0     0.0     0.0     0.0     0.0   \n1       0.0     0.0     0.0     0.0     0.0     0.0     0.0     0.0     0.0   \n2       0.0     0.0     0.0     0.0     0.0     0.0     0.0     0.0     0.0   \n3       0.0     0.0     0.0     0.0     0.0     0.0     0.0     0.0     0.0   \n4       0.0     0.0     0.0     0.0     0.0     0.0     0.0     0.0     0.0   \n..      ...     ...     ...     ...     ...     ...     ...     ...     ...   \n485     0.0     0.0     0.0     0.0     0.0     0.0     0.0     0.0     0.0   \n486     0.0     0.0     0.0     0.0     0.0     0.0     0.0     0.0     0.0   \n487     0.0     0.0     0.0     0.0     0.0     0.0     0.0     0.0     0.0   \n488     0.0     0.0     0.0     0.0     0.0     0.0     0.0     0.0     0.0   \n489     0.0     0.0     0.0     0.0     0.0     0.0     0.0     0.0     0.0   \n\n     pixel9  ...  pixel774  pixel775  pixel776  pixel777  pixel778  pixel779  \\\n0       0.0  ...  0.007738  0.004420  0.004389  0.002308 -0.001975 -0.000693   \n1       0.0  ...  0.002929  0.001028  0.000237  0.000138 -0.000093 -0.000039   \n2       0.0  ... -0.000743 -0.000056 -0.000047  0.000006 -0.000516 -0.000117   \n3       0.0  ...  0.000729  0.000123  0.000214 -0.000193 -0.000710 -0.000124   \n4       0.0  ...  0.000761  0.000215 -0.000283  0.000097  0.000825  0.000186   \n..      ...  ...       ...       ...       ...       ...       ...       ...   \n485     0.0  ... -0.015384 -0.006539 -0.002559 -0.000283  0.000851  0.000188   \n486     0.0  ...  0.015122  0.003953  0.001387  0.000264 -0.000908 -0.000280   \n487     0.0  ...  0.000516  0.001119  0.000011  0.000139  0.000402  0.000092   \n488     0.0  ... -0.000273  0.000637  0.000332 -0.000384 -0.000682 -0.000099   \n489     0.0  ... -0.003582  0.004037 -0.006221 -0.003212  0.019519  0.005388   \n\n     pixel780  pixel781  pixel782  pixel783  \n0         0.0       0.0       0.0       0.0  \n1         0.0       0.0       0.0       0.0  \n2         0.0       0.0       0.0       0.0  \n3         0.0       0.0       0.0       0.0  \n4         0.0       0.0       0.0       0.0  \n..        ...       ...       ...       ...  \n485       0.0       0.0       0.0       0.0  \n486       0.0       0.0       0.0       0.0  \n487       0.0       0.0       0.0       0.0  \n488       0.0       0.0       0.0       0.0  \n489       0.0       0.0       0.0       0.0  \n\n[490 rows x 784 columns]",
      "text/html": "<div>\n<style scoped>\n    .dataframe tbody tr th:only-of-type {\n        vertical-align: middle;\n    }\n\n    .dataframe tbody tr th {\n        vertical-align: top;\n    }\n\n    .dataframe thead th {\n        text-align: right;\n    }\n</style>\n<table border=\"1\" class=\"dataframe\">\n  <thead>\n    <tr style=\"text-align: right;\">\n      <th></th>\n      <th>pixel0</th>\n      <th>pixel1</th>\n      <th>pixel2</th>\n      <th>pixel3</th>\n      <th>pixel4</th>\n      <th>pixel5</th>\n      <th>pixel6</th>\n      <th>pixel7</th>\n      <th>pixel8</th>\n      <th>pixel9</th>\n      <th>...</th>\n      <th>pixel774</th>\n      <th>pixel775</th>\n      <th>pixel776</th>\n      <th>pixel777</th>\n      <th>pixel778</th>\n      <th>pixel779</th>\n      <th>pixel780</th>\n      <th>pixel781</th>\n      <th>pixel782</th>\n      <th>pixel783</th>\n    </tr>\n  </thead>\n  <tbody>\n    <tr>\n      <th>0</th>\n      <td>0.0</td>\n      <td>0.0</td>\n      <td>0.0</td>\n      <td>0.0</td>\n      <td>0.0</td>\n      <td>0.0</td>\n      <td>0.0</td>\n      <td>0.0</td>\n      <td>0.0</td>\n      <td>0.0</td>\n      <td>...</td>\n      <td>0.007738</td>\n      <td>0.004420</td>\n      <td>0.004389</td>\n      <td>0.002308</td>\n      <td>-0.001975</td>\n      <td>-0.000693</td>\n      <td>0.0</td>\n      <td>0.0</td>\n      <td>0.0</td>\n      <td>0.0</td>\n    </tr>\n    <tr>\n      <th>1</th>\n      <td>0.0</td>\n      <td>0.0</td>\n      <td>0.0</td>\n      <td>0.0</td>\n      <td>0.0</td>\n      <td>0.0</td>\n      <td>0.0</td>\n      <td>0.0</td>\n      <td>0.0</td>\n      <td>0.0</td>\n      <td>...</td>\n      <td>0.002929</td>\n      <td>0.001028</td>\n      <td>0.000237</td>\n      <td>0.000138</td>\n      <td>-0.000093</td>\n      <td>-0.000039</td>\n      <td>0.0</td>\n      <td>0.0</td>\n      <td>0.0</td>\n      <td>0.0</td>\n    </tr>\n    <tr>\n      <th>2</th>\n      <td>0.0</td>\n      <td>0.0</td>\n      <td>0.0</td>\n      <td>0.0</td>\n      <td>0.0</td>\n      <td>0.0</td>\n      <td>0.0</td>\n      <td>0.0</td>\n      <td>0.0</td>\n      <td>0.0</td>\n      <td>...</td>\n      <td>-0.000743</td>\n      <td>-0.000056</td>\n      <td>-0.000047</td>\n      <td>0.000006</td>\n      <td>-0.000516</td>\n      <td>-0.000117</td>\n      <td>0.0</td>\n      <td>0.0</td>\n      <td>0.0</td>\n      <td>0.0</td>\n    </tr>\n    <tr>\n      <th>3</th>\n      <td>0.0</td>\n      <td>0.0</td>\n      <td>0.0</td>\n      <td>0.0</td>\n      <td>0.0</td>\n      <td>0.0</td>\n      <td>0.0</td>\n      <td>0.0</td>\n      <td>0.0</td>\n      <td>0.0</td>\n      <td>...</td>\n      <td>0.000729</td>\n      <td>0.000123</td>\n      <td>0.000214</td>\n      <td>-0.000193</td>\n      <td>-0.000710</td>\n      <td>-0.000124</td>\n      <td>0.0</td>\n      <td>0.0</td>\n      <td>0.0</td>\n      <td>0.0</td>\n    </tr>\n    <tr>\n      <th>4</th>\n      <td>0.0</td>\n      <td>0.0</td>\n      <td>0.0</td>\n      <td>0.0</td>\n      <td>0.0</td>\n      <td>0.0</td>\n      <td>0.0</td>\n      <td>0.0</td>\n      <td>0.0</td>\n      <td>0.0</td>\n      <td>...</td>\n      <td>0.000761</td>\n      <td>0.000215</td>\n      <td>-0.000283</td>\n      <td>0.000097</td>\n      <td>0.000825</td>\n      <td>0.000186</td>\n      <td>0.0</td>\n      <td>0.0</td>\n      <td>0.0</td>\n      <td>0.0</td>\n    </tr>\n    <tr>\n      <th>...</th>\n      <td>...</td>\n      <td>...</td>\n      <td>...</td>\n      <td>...</td>\n      <td>...</td>\n      <td>...</td>\n      <td>...</td>\n      <td>...</td>\n      <td>...</td>\n      <td>...</td>\n      <td>...</td>\n      <td>...</td>\n      <td>...</td>\n      <td>...</td>\n      <td>...</td>\n      <td>...</td>\n      <td>...</td>\n      <td>...</td>\n      <td>...</td>\n      <td>...</td>\n      <td>...</td>\n    </tr>\n    <tr>\n      <th>485</th>\n      <td>0.0</td>\n      <td>0.0</td>\n      <td>0.0</td>\n      <td>0.0</td>\n      <td>0.0</td>\n      <td>0.0</td>\n      <td>0.0</td>\n      <td>0.0</td>\n      <td>0.0</td>\n      <td>0.0</td>\n      <td>...</td>\n      <td>-0.015384</td>\n      <td>-0.006539</td>\n      <td>-0.002559</td>\n      <td>-0.000283</td>\n      <td>0.000851</td>\n      <td>0.000188</td>\n      <td>0.0</td>\n      <td>0.0</td>\n      <td>0.0</td>\n      <td>0.0</td>\n    </tr>\n    <tr>\n      <th>486</th>\n      <td>0.0</td>\n      <td>0.0</td>\n      <td>0.0</td>\n      <td>0.0</td>\n      <td>0.0</td>\n      <td>0.0</td>\n      <td>0.0</td>\n      <td>0.0</td>\n      <td>0.0</td>\n      <td>0.0</td>\n      <td>...</td>\n      <td>0.015122</td>\n      <td>0.003953</td>\n      <td>0.001387</td>\n      <td>0.000264</td>\n      <td>-0.000908</td>\n      <td>-0.000280</td>\n      <td>0.0</td>\n      <td>0.0</td>\n      <td>0.0</td>\n      <td>0.0</td>\n    </tr>\n    <tr>\n      <th>487</th>\n      <td>0.0</td>\n      <td>0.0</td>\n      <td>0.0</td>\n      <td>0.0</td>\n      <td>0.0</td>\n      <td>0.0</td>\n      <td>0.0</td>\n      <td>0.0</td>\n      <td>0.0</td>\n      <td>0.0</td>\n      <td>...</td>\n      <td>0.000516</td>\n      <td>0.001119</td>\n      <td>0.000011</td>\n      <td>0.000139</td>\n      <td>0.000402</td>\n      <td>0.000092</td>\n      <td>0.0</td>\n      <td>0.0</td>\n      <td>0.0</td>\n      <td>0.0</td>\n    </tr>\n    <tr>\n      <th>488</th>\n      <td>0.0</td>\n      <td>0.0</td>\n      <td>0.0</td>\n      <td>0.0</td>\n      <td>0.0</td>\n      <td>0.0</td>\n      <td>0.0</td>\n      <td>0.0</td>\n      <td>0.0</td>\n      <td>0.0</td>\n      <td>...</td>\n      <td>-0.000273</td>\n      <td>0.000637</td>\n      <td>0.000332</td>\n      <td>-0.000384</td>\n      <td>-0.000682</td>\n      <td>-0.000099</td>\n      <td>0.0</td>\n      <td>0.0</td>\n      <td>0.0</td>\n      <td>0.0</td>\n    </tr>\n    <tr>\n      <th>489</th>\n      <td>0.0</td>\n      <td>0.0</td>\n      <td>0.0</td>\n      <td>0.0</td>\n      <td>0.0</td>\n      <td>0.0</td>\n      <td>0.0</td>\n      <td>0.0</td>\n      <td>0.0</td>\n      <td>0.0</td>\n      <td>...</td>\n      <td>-0.003582</td>\n      <td>0.004037</td>\n      <td>-0.006221</td>\n      <td>-0.003212</td>\n      <td>0.019519</td>\n      <td>0.005388</td>\n      <td>0.0</td>\n      <td>0.0</td>\n      <td>0.0</td>\n      <td>0.0</td>\n    </tr>\n  </tbody>\n</table>\n<p>490 rows × 784 columns</p>\n</div>"
     },
     "execution_count": 22,
     "metadata": {},
     "output_type": "execute_result"
    }
   ],
   "source": [
    "transition_matrix_T"
   ]
  },
  {
   "cell_type": "markdown",
   "id": "44cf6a6390505db0",
   "metadata": {},
   "source": [
    "## 3.5. Fomal Model → Mental Model"
   ]
  },
  {
   "cell_type": "markdown",
   "id": "644d20ca858addf8",
   "metadata": {},
   "source": [
    "### Calculate new Mental Model"
   ]
  },
  {
   "cell_type": "code",
   "execution_count": 23,
   "id": "f413a850cf481627",
   "metadata": {
    "collapsed": false,
    "jupyter": {
     "outputs_hidden": false
    },
    "ExecuteTime": {
     "end_time": "2023-08-06T08:37:10.367669300Z",
     "start_time": "2023-08-06T08:37:10.292657800Z"
    }
   },
   "outputs": [],
   "source": [
    "formal_model_test = [[2.8, -1.8, -2.8, 1.3, 0.4],\n",
    "                     [2.9, -1.9, -2.9, 1.4, 0.5],\n",
    "                     [3, -2, -3, 1.5, 0.6],\n",
    "                     [3.1, -2.1, -3.1, 1.6, 0.7],\n",
    "                     [3.2, -2.2, -3.2, 1.7, 0.8],\n",
    "                     [-1.6, -2.5, 1.5, 0.2, 0.6],\n",
    "                     [-1.3, -2.7, 1.3, 0.4, 0.8],\n",
    "                     [-1, -3, 1.5, 0.6, 1],\n",
    "                     [-0.7, -3.2, 1.7, 0.8, 1.2],\n",
    "                     [-0.5, -3.5, 1.9, 1, 1.4],\n",
    "                     [1.2, -1.2, 0.7, -0.3, -2.8],\n",
    "                     [1.1, -1.1, 0.8, -0.4, -2.9],\n",
    "                     [1, -1, 0.844444444, -0.444444444, -3],\n",
    "                     [0.9, -0.9, 0.85, -0.45, -3.1],\n",
    "                     [0.8, -0.8, 0.9, -0.5, -3.2]]\n",
    "\n",
    "mental_model_test = [[-1.979394104, 1.959307524, -1.381119943, -1.729640979],\n",
    "                     [-1.974921385, 1.94850558, -1.726609792, -1.761213024],\n",
    "                     [-1.843907868, 1.99818664, -1.912855282, -1.97511053],\n",
    "                     [-1.998625355, 1.999671808, -1.998443276, -1.999764956],\n",
    "                     [-1.999365095, 1.998896097, -1.999605076, -1.998916765],\n",
    "                     [1.997775859, -1.844000202, 1.660111333, -1.373532039],\n",
    "                     [1.818753218, -1.909687734, 1.206631506, -1.407994628],\n",
    "                     [1.992023578, -1.923804827, 0.706593926, -1.543784398],\n",
    "                     [1.999174385, -1.997592083, 0.21221635, -1.586974171],\n",
    "                     [1.997854305, -1.999410881, -0.243400633, -1.827587263],\n",
    "                     [0.851626415, 1.574201387, 1.581026838, 1.573934081],\n",
    "                     [1.008512576, 1.570791652, 1.595657199, 1.741761976],\n",
    "                     [1.107744254, 1.615475549, 1.723582196, 1.807614602],\n",
    "                     [1.089897991, 1.611369928, 1.882537367, 1.873522151],\n",
    "                     [1.290406093, 1.695289797, 1.953503509, 1.946250271]]\n",
    "\n",
    "df_formal_model_test = pd.DataFrame(formal_model_test)\n",
    "df_mental_model_test = pd.DataFrame(mental_model_test)"
   ]
  },
  {
   "cell_type": "code",
   "execution_count": 24,
   "id": "fd8bfcf7bd7aab76",
   "metadata": {
    "collapsed": false,
    "jupyter": {
     "outputs_hidden": false
    },
    "ExecuteTime": {
     "end_time": "2023-08-06T08:37:10.439689900Z",
     "start_time": "2023-08-06T08:37:10.301659600Z"
    }
   },
   "outputs": [],
   "source": [
    "matrix_B_calculated_train = df_matrix_A_final_train.values.dot(transition_matrix_T.values)\n",
    "matrix_B_calculated_test = df_matrix_A_final_test.values.dot(transition_matrix_T.values)\n",
    "\n",
    "# matrix_B_calculated_train = df_formal_model_test.values.dot(transition_matrix_T.values)"
   ]
  },
  {
   "cell_type": "code",
   "execution_count": 25,
   "id": "94fc0f9c5a3e1930",
   "metadata": {
    "collapsed": false,
    "jupyter": {
     "outputs_hidden": false
    },
    "ExecuteTime": {
     "end_time": "2023-08-06T08:37:10.439689900Z",
     "start_time": "2023-08-06T08:37:10.393670600Z"
    }
   },
   "outputs": [
    {
     "data": {
      "text/plain": "array([[0., 0., 0., ..., 0., 0., 0.],\n       [0., 0., 0., ..., 0., 0., 0.],\n       [0., 0., 0., ..., 0., 0., 0.],\n       ...,\n       [0., 0., 0., ..., 0., 0., 0.],\n       [0., 0., 0., ..., 0., 0., 0.],\n       [0., 0., 0., ..., 0., 0., 0.]])"
     },
     "execution_count": 25,
     "metadata": {},
     "output_type": "execute_result"
    }
   ],
   "source": [
    "matrix_B_calculated_test"
   ]
  },
  {
   "cell_type": "code",
   "execution_count": 26,
   "id": "8529db2de5736905",
   "metadata": {
    "collapsed": false,
    "jupyter": {
     "outputs_hidden": false
    },
    "ExecuteTime": {
     "end_time": "2023-08-06T08:37:10.521708400Z",
     "start_time": "2023-08-06T08:37:10.409674200Z"
    }
   },
   "outputs": [
    {
     "data": {
      "text/plain": "     pixel0  pixel1  pixel2  pixel3  pixel4  pixel5  pixel6  pixel7  pixel8  \\\n0       0.0     0.0     0.0     0.0     0.0     0.0     0.0     0.0     0.0   \n1       0.0     0.0     0.0     0.0     0.0     0.0     0.0     0.0     0.0   \n2       0.0     0.0     0.0     0.0     0.0     0.0     0.0     0.0     0.0   \n3       0.0     0.0     0.0     0.0     0.0     0.0     0.0     0.0     0.0   \n4       0.0     0.0     0.0     0.0     0.0     0.0     0.0     0.0     0.0   \n..      ...     ...     ...     ...     ...     ...     ...     ...     ...   \n995     0.0     0.0     0.0     0.0     0.0     0.0     0.0     0.0     0.0   \n996     0.0     0.0     0.0     0.0     0.0     0.0     0.0     0.0     0.0   \n997     0.0     0.0     0.0     0.0     0.0     0.0     0.0     0.0     0.0   \n998     0.0     0.0     0.0     0.0     0.0     0.0     0.0     0.0     0.0   \n999     0.0     0.0     0.0     0.0     0.0     0.0     0.0     0.0     0.0   \n\n     pixel9  ...  pixel774  pixel775  pixel776  pixel777  pixel778  pixel779  \\\n0       0.0  ...       0.0       0.0       0.0       0.0       0.0       0.0   \n1       0.0  ...       0.0       0.0       0.0       0.0       0.0       0.0   \n2       0.0  ...       0.0       0.0       0.0       0.0       0.0       0.0   \n3       0.0  ...       0.0       0.0       0.0       0.0       0.0       0.0   \n4       0.0  ...       0.0       0.0       0.0       0.0       0.0       0.0   \n..      ...  ...       ...       ...       ...       ...       ...       ...   \n995     0.0  ...       0.0       0.0       0.0       0.0       0.0       0.0   \n996     0.0  ...       0.0       0.0       0.0       0.0       0.0       0.0   \n997     0.0  ...       0.0       0.0       0.0       0.0       0.0       0.0   \n998     0.0  ...       0.0       0.0       0.0       0.0       0.0       0.0   \n999     0.0  ...       0.0       0.0       0.0       0.0       0.0       0.0   \n\n     pixel780  pixel781  pixel782  pixel783  \n0         0.0       0.0       0.0       0.0  \n1         0.0       0.0       0.0       0.0  \n2         0.0       0.0       0.0       0.0  \n3         0.0       0.0       0.0       0.0  \n4         0.0       0.0       0.0       0.0  \n..        ...       ...       ...       ...  \n995       0.0       0.0       0.0       0.0  \n996       0.0       0.0       0.0       0.0  \n997       0.0       0.0       0.0       0.0  \n998       0.0       0.0       0.0       0.0  \n999       0.0       0.0       0.0       0.0  \n\n[1000 rows x 784 columns]",
      "text/html": "<div>\n<style scoped>\n    .dataframe tbody tr th:only-of-type {\n        vertical-align: middle;\n    }\n\n    .dataframe tbody tr th {\n        vertical-align: top;\n    }\n\n    .dataframe thead th {\n        text-align: right;\n    }\n</style>\n<table border=\"1\" class=\"dataframe\">\n  <thead>\n    <tr style=\"text-align: right;\">\n      <th></th>\n      <th>pixel0</th>\n      <th>pixel1</th>\n      <th>pixel2</th>\n      <th>pixel3</th>\n      <th>pixel4</th>\n      <th>pixel5</th>\n      <th>pixel6</th>\n      <th>pixel7</th>\n      <th>pixel8</th>\n      <th>pixel9</th>\n      <th>...</th>\n      <th>pixel774</th>\n      <th>pixel775</th>\n      <th>pixel776</th>\n      <th>pixel777</th>\n      <th>pixel778</th>\n      <th>pixel779</th>\n      <th>pixel780</th>\n      <th>pixel781</th>\n      <th>pixel782</th>\n      <th>pixel783</th>\n    </tr>\n  </thead>\n  <tbody>\n    <tr>\n      <th>0</th>\n      <td>0.0</td>\n      <td>0.0</td>\n      <td>0.0</td>\n      <td>0.0</td>\n      <td>0.0</td>\n      <td>0.0</td>\n      <td>0.0</td>\n      <td>0.0</td>\n      <td>0.0</td>\n      <td>0.0</td>\n      <td>...</td>\n      <td>0.0</td>\n      <td>0.0</td>\n      <td>0.0</td>\n      <td>0.0</td>\n      <td>0.0</td>\n      <td>0.0</td>\n      <td>0.0</td>\n      <td>0.0</td>\n      <td>0.0</td>\n      <td>0.0</td>\n    </tr>\n    <tr>\n      <th>1</th>\n      <td>0.0</td>\n      <td>0.0</td>\n      <td>0.0</td>\n      <td>0.0</td>\n      <td>0.0</td>\n      <td>0.0</td>\n      <td>0.0</td>\n      <td>0.0</td>\n      <td>0.0</td>\n      <td>0.0</td>\n      <td>...</td>\n      <td>0.0</td>\n      <td>0.0</td>\n      <td>0.0</td>\n      <td>0.0</td>\n      <td>0.0</td>\n      <td>0.0</td>\n      <td>0.0</td>\n      <td>0.0</td>\n      <td>0.0</td>\n      <td>0.0</td>\n    </tr>\n    <tr>\n      <th>2</th>\n      <td>0.0</td>\n      <td>0.0</td>\n      <td>0.0</td>\n      <td>0.0</td>\n      <td>0.0</td>\n      <td>0.0</td>\n      <td>0.0</td>\n      <td>0.0</td>\n      <td>0.0</td>\n      <td>0.0</td>\n      <td>...</td>\n      <td>0.0</td>\n      <td>0.0</td>\n      <td>0.0</td>\n      <td>0.0</td>\n      <td>0.0</td>\n      <td>0.0</td>\n      <td>0.0</td>\n      <td>0.0</td>\n      <td>0.0</td>\n      <td>0.0</td>\n    </tr>\n    <tr>\n      <th>3</th>\n      <td>0.0</td>\n      <td>0.0</td>\n      <td>0.0</td>\n      <td>0.0</td>\n      <td>0.0</td>\n      <td>0.0</td>\n      <td>0.0</td>\n      <td>0.0</td>\n      <td>0.0</td>\n      <td>0.0</td>\n      <td>...</td>\n      <td>0.0</td>\n      <td>0.0</td>\n      <td>0.0</td>\n      <td>0.0</td>\n      <td>0.0</td>\n      <td>0.0</td>\n      <td>0.0</td>\n      <td>0.0</td>\n      <td>0.0</td>\n      <td>0.0</td>\n    </tr>\n    <tr>\n      <th>4</th>\n      <td>0.0</td>\n      <td>0.0</td>\n      <td>0.0</td>\n      <td>0.0</td>\n      <td>0.0</td>\n      <td>0.0</td>\n      <td>0.0</td>\n      <td>0.0</td>\n      <td>0.0</td>\n      <td>0.0</td>\n      <td>...</td>\n      <td>0.0</td>\n      <td>0.0</td>\n      <td>0.0</td>\n      <td>0.0</td>\n      <td>0.0</td>\n      <td>0.0</td>\n      <td>0.0</td>\n      <td>0.0</td>\n      <td>0.0</td>\n      <td>0.0</td>\n    </tr>\n    <tr>\n      <th>...</th>\n      <td>...</td>\n      <td>...</td>\n      <td>...</td>\n      <td>...</td>\n      <td>...</td>\n      <td>...</td>\n      <td>...</td>\n      <td>...</td>\n      <td>...</td>\n      <td>...</td>\n      <td>...</td>\n      <td>...</td>\n      <td>...</td>\n      <td>...</td>\n      <td>...</td>\n      <td>...</td>\n      <td>...</td>\n      <td>...</td>\n      <td>...</td>\n      <td>...</td>\n      <td>...</td>\n    </tr>\n    <tr>\n      <th>995</th>\n      <td>0.0</td>\n      <td>0.0</td>\n      <td>0.0</td>\n      <td>0.0</td>\n      <td>0.0</td>\n      <td>0.0</td>\n      <td>0.0</td>\n      <td>0.0</td>\n      <td>0.0</td>\n      <td>0.0</td>\n      <td>...</td>\n      <td>0.0</td>\n      <td>0.0</td>\n      <td>0.0</td>\n      <td>0.0</td>\n      <td>0.0</td>\n      <td>0.0</td>\n      <td>0.0</td>\n      <td>0.0</td>\n      <td>0.0</td>\n      <td>0.0</td>\n    </tr>\n    <tr>\n      <th>996</th>\n      <td>0.0</td>\n      <td>0.0</td>\n      <td>0.0</td>\n      <td>0.0</td>\n      <td>0.0</td>\n      <td>0.0</td>\n      <td>0.0</td>\n      <td>0.0</td>\n      <td>0.0</td>\n      <td>0.0</td>\n      <td>...</td>\n      <td>0.0</td>\n      <td>0.0</td>\n      <td>0.0</td>\n      <td>0.0</td>\n      <td>0.0</td>\n      <td>0.0</td>\n      <td>0.0</td>\n      <td>0.0</td>\n      <td>0.0</td>\n      <td>0.0</td>\n    </tr>\n    <tr>\n      <th>997</th>\n      <td>0.0</td>\n      <td>0.0</td>\n      <td>0.0</td>\n      <td>0.0</td>\n      <td>0.0</td>\n      <td>0.0</td>\n      <td>0.0</td>\n      <td>0.0</td>\n      <td>0.0</td>\n      <td>0.0</td>\n      <td>...</td>\n      <td>0.0</td>\n      <td>0.0</td>\n      <td>0.0</td>\n      <td>0.0</td>\n      <td>0.0</td>\n      <td>0.0</td>\n      <td>0.0</td>\n      <td>0.0</td>\n      <td>0.0</td>\n      <td>0.0</td>\n    </tr>\n    <tr>\n      <th>998</th>\n      <td>0.0</td>\n      <td>0.0</td>\n      <td>0.0</td>\n      <td>0.0</td>\n      <td>0.0</td>\n      <td>0.0</td>\n      <td>0.0</td>\n      <td>0.0</td>\n      <td>0.0</td>\n      <td>0.0</td>\n      <td>...</td>\n      <td>0.0</td>\n      <td>0.0</td>\n      <td>0.0</td>\n      <td>0.0</td>\n      <td>0.0</td>\n      <td>0.0</td>\n      <td>0.0</td>\n      <td>0.0</td>\n      <td>0.0</td>\n      <td>0.0</td>\n    </tr>\n    <tr>\n      <th>999</th>\n      <td>0.0</td>\n      <td>0.0</td>\n      <td>0.0</td>\n      <td>0.0</td>\n      <td>0.0</td>\n      <td>0.0</td>\n      <td>0.0</td>\n      <td>0.0</td>\n      <td>0.0</td>\n      <td>0.0</td>\n      <td>...</td>\n      <td>0.0</td>\n      <td>0.0</td>\n      <td>0.0</td>\n      <td>0.0</td>\n      <td>0.0</td>\n      <td>0.0</td>\n      <td>0.0</td>\n      <td>0.0</td>\n      <td>0.0</td>\n      <td>0.0</td>\n    </tr>\n  </tbody>\n</table>\n<p>1000 rows × 784 columns</p>\n</div>"
     },
     "execution_count": 26,
     "metadata": {},
     "output_type": "execute_result"
    }
   ],
   "source": [
    "matrix_B_final_test"
   ]
  },
  {
   "cell_type": "markdown",
   "id": "ed4cb1f63bad2d8f",
   "metadata": {},
   "source": [
    "### Calculate the Euclidean distance"
   ]
  },
  {
   "cell_type": "code",
   "execution_count": 27,
   "id": "7df8118ce9550c5",
   "metadata": {
    "collapsed": false,
    "jupyter": {
     "outputs_hidden": false
    },
    "ExecuteTime": {
     "end_time": "2023-08-06T08:37:10.602716300Z",
     "start_time": "2023-08-06T08:37:10.459695300Z"
    }
   },
   "outputs": [],
   "source": [
    "# Calculate Euclidean distance for each row\n",
    "euclidean_distances_train = np.sqrt(((matrix_B_final_train.values - matrix_B_calculated_train) ** 2).sum(axis=1))\n",
    "euclidean_distances_test = np.sqrt(((matrix_B_final_test.values - matrix_B_calculated_test) ** 2).sum(axis=1))\n",
    "\n",
    "# euclidean_distances_train = np.sqrt(((df_mental_model_test - matrix_B_calculated) ** 2).sum(axis=1))\n",
    "\n",
    "# Sum of all the Euclidean distances\n",
    "total_distance_train = euclidean_distances_train.sum()\n",
    "total_distance_test = euclidean_distances_test.sum()"
   ]
  },
  {
   "cell_type": "code",
   "execution_count": 28,
   "id": "def08e7255ece582",
   "metadata": {
    "collapsed": false,
    "jupyter": {
     "outputs_hidden": false
    },
    "ExecuteTime": {
     "end_time": "2023-08-06T08:37:10.603718300Z",
     "start_time": "2023-08-06T08:37:10.538703600Z"
    }
   },
   "outputs": [
    {
     "name": "stdout",
     "output_type": "stream",
     "text": [
      "For train data, the total Euclidean distance is 32819.0341148694\n",
      "For test data, the total Euclidean distance is 3450.2862661950253\n"
     ]
    }
   ],
   "source": [
    "print(f\"For train data, the total Euclidean distance is {total_distance_train}\")\n",
    "print(f\"For test data, the total Euclidean distance is {total_distance_test}\")"
   ]
  },
  {
   "cell_type": "code",
   "execution_count": 29,
   "id": "8d1f0aa4650a37ca",
   "metadata": {
    "collapsed": false,
    "jupyter": {
     "outputs_hidden": false
    },
    "ExecuteTime": {
     "end_time": "2023-08-06T08:37:11.108211700Z",
     "start_time": "2023-08-06T08:37:10.566709300Z"
    }
   },
   "outputs": [],
   "source": [
    "import matplotlib.pyplot as plt\n",
    "%config InlineBackend.figure_format = 'svg'\n",
    "\n",
    "def plot_mnist(input_data, num_to_display, input_indices=None):\n",
    "    \"\"\"\n",
    "    Plots the MNIST numbers from the given data which can be either a DataFrame or a numpy array.\n",
    "    \n",
    "    :param input_data: Either DataFrame or numpy array containing MNIST numbers flattened.\n",
    "    :param num_to_display: Number of MNIST images to display.\n",
    "    :param input_indices: A list of indices to pick specific images. If None, the first 'num_to_display' images are shown.\n",
    "    \"\"\"\n",
    "    max_columns = 5  # Maximum number of images in one row\n",
    "\n",
    "    # Check the type of data and convert accordingly\n",
    "    if isinstance(input_data, pd.DataFrame):\n",
    "        data_array = input_data.to_numpy()\n",
    "    elif isinstance(input_data, np.ndarray):\n",
    "        data_array = input_data\n",
    "    else:\n",
    "        raise TypeError(\"Input data must be either a pandas DataFrame or a numpy array.\")\n",
    "\n",
    "    # If input_indices are provided, validate them\n",
    "    if input_indices:\n",
    "        if len(input_indices) != num_to_display:\n",
    "            raise ValueError(\"Length of 'input_indices' should match 'num_to_display'\")\n",
    "\n",
    "        if any(item < 0 or item >= len(data_array) for item in input_indices):\n",
    "            raise ValueError(\"'input_indices' contain invalid values. Ensure all are in the range [0, len(data_array)-1].\")\n",
    "\n",
    "        data_to_plot = data_array[input_indices]\n",
    "    else:\n",
    "        data_to_plot = data_array[:num_to_display]\n",
    "\n",
    "    # Calculate the number of rows and columns to display\n",
    "    num_rows = (num_to_display // max_columns) + int(num_to_display % max_columns > 0)\n",
    "    num_cols = min(num_to_display, max_columns)  # Limit the number of columns to 10\n",
    "\n",
    "    fig, axes = plt.subplots(num_rows, num_cols, figsize=(2 * num_cols, 2 * num_rows))\n",
    "\n",
    "    # If there's only 1 row, axes is a 1D array, we make it 2D for consistent indexing\n",
    "    if num_rows == 1:\n",
    "        axes = np.expand_dims(axes, axis=0)\n",
    "\n",
    "    for idx, ax in enumerate(axes.ravel()):\n",
    "        if idx >= len(data_to_plot):\n",
    "            ax.axis(\"off\")  # Turn off the axis if no data to display\n",
    "            continue\n",
    "        # Reshape the flattened image into 28x28\n",
    "        img = data_to_plot[idx].reshape(28, 28)\n",
    "        ax.imshow(img, cmap=\"gray\")\n",
    "        ax.axis(\"off\")  # Turn off the axis numbers\n",
    "\n",
    "    plt.show()\n",
    "\n",
    "# Test\n",
    "# Assuming data is loaded as numpy array or DataFrame\n",
    "# Example: plot_mnist(data, 15, indices=[0, 2, 4, 6, 8, 10, 12, 14, 16, 18, 20, 22, 24, 26, 28])\n"
   ]
  },
  {
   "cell_type": "code",
   "execution_count": 32,
   "id": "e0990946a5201ddf",
   "metadata": {
    "collapsed": false,
    "jupyter": {
     "outputs_hidden": false
    },
    "ExecuteTime": {
     "end_time": "2023-08-06T08:37:38.871023600Z",
     "start_time": "2023-08-06T08:37:38.250876800Z"
    }
   },
   "outputs": [
    {
     "data": {
      "text/plain": "<Figure size 1000x400 with 10 Axes>",
      "image/svg+xml": "<?xml version=\"1.0\" encoding=\"utf-8\" standalone=\"no\"?>\n<!DOCTYPE svg PUBLIC \"-//W3C//DTD SVG 1.1//EN\"\n  \"http://www.w3.org/Graphics/SVG/1.1/DTD/svg11.dtd\">\n<svg xmlns:xlink=\"http://www.w3.org/1999/xlink\" width=\"572.4pt\" height=\"231.566897pt\" viewBox=\"0 0 572.4 231.566897\" xmlns=\"http://www.w3.org/2000/svg\" version=\"1.1\">\n <metadata>\n  <rdf:RDF xmlns:dc=\"http://purl.org/dc/elements/1.1/\" xmlns:cc=\"http://creativecommons.org/ns#\" xmlns:rdf=\"http://www.w3.org/1999/02/22-rdf-syntax-ns#\">\n   <cc:Work>\n    <dc:type rdf:resource=\"http://purl.org/dc/dcmitype/StillImage\"/>\n    <dc:date>2023-08-06T11:37:38.458924</dc:date>\n    <dc:format>image/svg+xml</dc:format>\n    <dc:creator>\n     <cc:Agent>\n      <dc:title>Matplotlib v3.7.2, https://matplotlib.org/</dc:title>\n     </cc:Agent>\n    </dc:creator>\n   </cc:Work>\n  </rdf:RDF>\n </metadata>\n <defs>\n  <style type=\"text/css\">*{stroke-linejoin: round; stroke-linecap: butt}</style>\n </defs>\n <g id=\"figure_1\">\n  <g id=\"patch_1\">\n   <path d=\"M 0 231.566897 \nL 572.4 231.566897 \nL 572.4 0 \nL 0 0 \nz\n\" style=\"fill: #ffffff\"/>\n  </g>\n  <g id=\"axes_1\">\n   <g clip-path=\"url(#p8298f5c2ba)\">\n    <image xlink:href=\"data:image/png;base64,\niVBORw0KGgoAAAANSUhEUgAAAIYAAACGCAYAAAAYefKRAAACc0lEQVR4nO3dQW7aUBRAUai6L5KVkawMsrJ2GMlcqV+uLb7DOUMrIgyunp6+wZxPp9OfEyz8evYbYE7CIAmDJAySMEjCIAmDJAySMEjCIAmDJAySMEi/9/4Hb29vD9dut9uq17rf7w/Xvr6+Hq59fHysen2+mRgkYZCEQRIG6Xx6wkf7lsvh5XJ5+JtaWrf0+fn5cK2W27r2CkwMkjBIwiAJg/SU5XOtOtHce3F9f39/uPYKC6mJQRIGSRgkYZAOtXyuVUvr9Xrd7PV/4oJqYpCEQRIGSRikl1g+R225pNZt/SN9FtXEIAmDJAySHeMf6k7tcu8YvZt7pIMwE4MkDJIwSMIg7f6l5qMbWQ5Hl8/6O8snhyIMkjBIwiBZPleYdWHckolBEgZJGCRhkKZdPmf+mN2Wj6OclYlBEgZJGKRpP9q35aOmn8HXB/iRhEESBkkYpGmXz1F7PxRlxJG+LzLKxCAJgyQMkjBIh18+19r7R/xGfw9lViYGSRgkYZCEQXrZ5XPUlierRzohNTFIwiAJgyQMkuVzheWp6eiJaS2atZDOwMQgCYMkDJIdYwP/c6f2fD5v/G62YWKQhEESBkkYJMvnTmr5rCV1ecA1y91WE4MkDJIwSMIgTfvUvlcxy7K5ZGKQhEESBkkYpMMvn3v/kvLI/7xcLkPv60hMDJIwSMIgCYN0qOVz70c37v2s8nrKzqxMDJIwSMIgHWrHGL0TWQdOS3UAtXYHqPc1613TUSYGSRgkYZCEQfK9EpKJQRIGSRgkYZCEQRIGSRgkYZCEQRIGSRgkYZCEQRIGSRgkYZCEQRIGSRgkYZCEQRIGSRikv2TrjnivW0DgAAAAAElFTkSuQmCC\" id=\"image285f5d9cf8\" transform=\"scale(1 -1) translate(0 -96.48)\" x=\"7.2\" y=\"-6.926897\" width=\"96.48\" height=\"96.48\"/>\n   </g>\n  </g>\n  <g id=\"axes_2\">\n   <g clip-path=\"url(#p0d501ae15d)\">\n    <image xlink:href=\"data:image/png;base64,\niVBORw0KGgoAAAANSUhEUgAAAIYAAACGCAYAAAAYefKRAAADWElEQVR4nO3dMUorURhA4eT5LCRIrBQErVIIglpooy5BwcJGtMsyBBsLCxcSYhPIBgQXIFqojbERQVBEC7EQ8XWPTP4DI2PMxHC+bn4m4RaHyyUhk2KhUPgsSB3+5L0A9SfDEDIMIcMQ+pv3AvrJ1tZWmO3v74fZ52fyvL63txfuqdVq3VtYDtwxhAxDyDCEDEOoWPCTz/+Ojo7CbHNzM/V119fXYbayshJmDw8P2RaWA3cMIcMQMgwhP+DqgkqlEmblcjnMPGPo1zMMIcMQMgwhD59tGo1GmH3lA65B5I4hZBhChiFkGEIePtu8vr5met3j42OYvb29fXc5uXLHEDIMIcMQMgwhD59tlpeXM73u+Pg4zO7u7r67nFy5YwgZhpBhCBmGkL8rabOwsBBmp6enqa97fn4Os/n5+TC7vb3NsqxcuGMIGYaQYQj5AVcXjI2Nhdni4mKYecbQr2cYQoYhZBhCHj5/yNraWpjR71b6lTuGkGEIGYaQYQh5+ExRLBZ7+rp+4Y4hZBhChiFkGEIePtucnZ2FWbPZDLP19fXU9+r8T5Pfxh1DyDCEDEPIM0aKw8PDMPvKGWNkZCTMhoaGwuzj4yPbwn6YO4aQYQgZhpBhCPnb1RSrq6thdnJykum9Jicnw+z+/j7Te/00dwwhwxAyDCHDEDIMIcMQMgwhwxAyDCG/dk9xeXkZZhcXF4nr2dnZXi2nZ9wxhAxDyDCEDEPIw2eKp6enMKNHRA8adwwhwxAyDCHDEDIMIcMQMgwhwxDCD7iGh4fDbHt7O3FNj0Sem5sLs3q9HmatVitxXa1Wwz30e4tKpRJmpVIpzN7f3xPX5+fn4R76PxF6pPPV1VWYjY+Ph9mgcccQMgwhwxAyDCH8UfPo6Gi48eXlpRfr6YrOxzX3yxP0Dg4Owmx3dzeHlaRzxxAyDCHDEDIMITx80n9tbGxsJK6XlpbCPRMTE2E2MzMTZjc3N4nrbv+DcTcPn1NTU2G2s7OT6b2mp6fDrF//vdkdQ8gwhAxDyDCEfJyjkDuGkGEIGYaQYQgZhpBhCBmGkGEIGYaQYQgZhpBhCBmGkGEIGYaQYQgZhpBhCBmGkGEIGYaQYQgZhpBhCBmGkGEIGYaQYQgZhpBhCBmGkGEI/QPxsYuVRP+9hAAAAABJRU5ErkJggg==\" id=\"imagee7fe666c2c\" transform=\"scale(1 -1) translate(0 -96.48)\" x=\"122.648276\" y=\"-6.926897\" width=\"96.48\" height=\"96.48\"/>\n   </g>\n  </g>\n  <g id=\"axes_3\">\n   <g clip-path=\"url(#pce31fee1e2)\">\n    <image xlink:href=\"data:image/png;base64,\niVBORw0KGgoAAAANSUhEUgAAAIYAAACGCAYAAAAYefKRAAADxUlEQVR4nO3dPS9kYRiA4XdkK41GjRIR0fsBImhGdEQ3Fa2Chl/AfxAllfgoqRQUNCQaNAoKCkq25Jznzjo7PubMuK/uPJmZPbu5982bc+ajklJ6TVJOW6NPQOVkGEKGIWQYQoYhZBhChiFkGEKGIWQYQoYhZBhChiFkGEKGIWQYQoYhZBhCfxp9AmUyPz8fZqurq2E2NjaWOd7f3/+2c2oUVwwhwxAyDCHDEDIMIcMQMgwhwxAyDCGvfL5Tq9UafQql4YohZBhChiFkGEJuPt8ZGBgIs5eXlzCrVCo/cToN5YohZBhChiHkHuMd2k+8vsYvNaRZq3HFEDIMIcMQMgyhX7v57O3trfu5fX19meNGfK6Ezv/i4uLLXt8VQ8gwhAxDyDCEKqkEv1fS3t4eZsvLy2F2fn4eZtVq9cPHbW1thcdsbGyEWU9PT5jRVc7Ly8vMcX4zmlJKHR0dYUZ/z/v7+8xxV1dXeMza2lqY0blOTU2FWb0bUlcMIcMQMgwhwxAqxeZzdHQ0zLa3t3/8PNra4v8TuhX/8PCQOV5fXw+PGRoaCjPaWB4eHmaOZ2ZmCp0X/ftMTEyEWb1cMYQMQ8gwhEp7d7URb58r+ta+/MWrubm58Bj6iAG91vT09IePofP6bq4YQoYhZBhChiFU2s2n3tBbB5eWlr71z3TFEDIMIcMQMgyhUmw+n5+fC83orXHk+Pg4c7yyslLoeUXv6J6dnWWOaSM4OTkZZpubm4VeP293d7eu532GK4aQYQgZhpBhCJXirX1kZ2cnzEZGRup6btG3vBW95Z3/sby9vb1Cr99MXDGEDEPIMIQMQ6gUVz7J7OxsmNHt58HBwTDr7u7+53FKKV1fX4eZX+f4xhVDyDCEDEOotHuMu7u7MKMLXLe3t2HW39+fOaYvTllcXPzE2bU+VwwhwxAyDCHDECrt3VVCHxSmzWdnZ+eXvf7T01OYjY+PZ47zX37SClwxhAxDyDCEDEOotFc+Cd3VpKuh+buw9W5GU0rp4OAgzFpxs5nniiFkGEKGIWQYQk21+SSnp6dh9vj4mDn+zObzt3LFEDIMIcMQMgyhprrtXlT+h+QWFhbCY2q1WpjRbffh4eEwOzo6qv/kmoQrhpBhCBmGUEvuMfLox2tPTk7CjPYY9NtmNzc3X3FapeaKIWQYQoYhZBhCTX93tYirq6swq1arhWa/YaNJXDGEDEPIMIQMQ+hXXPnU/3PFEDIMIcMQMgwhwxAyDCHDEDIMIcMQMgwhwxAyDCHDEDIMIcMQMgwhwxAyDKG/cs/Ss9SUlzAAAAAASUVORK5CYII=\" id=\"image9bf3dc38e4\" transform=\"scale(1 -1) translate(0 -96.48)\" x=\"238.096552\" y=\"-6.926897\" width=\"96.48\" height=\"96.48\"/>\n   </g>\n  </g>\n  <g id=\"axes_4\">\n   <g clip-path=\"url(#p786a9daca9)\">\n    <image xlink:href=\"data:image/png;base64,\niVBORw0KGgoAAAANSUhEUgAAAIYAAACGCAYAAAAYefKRAAADyElEQVR4nO3d200jQRBG4TZsFgjC4E4UiIuzgBeiAJkoEFhAEgiESQNBFsC+7nQd7daCLabN+d6m1Fjz8KspdffMDEopH0WqLHz3DaifDIaQwRAyGEIGQ8hgCBkMIYMhZDCEDIaQwRAyGEIGQ+jXd9/A/9jb2wu1i4uLUBsOh53rj4+4gXxzczO9G5tDzhhCBkPIYAgZDKFBaeho38PDQ6itra2F2mAw6FxT83l9fR1qNG4ymYTaaDT6633OA2cMIYMhZDCEDIZQU83n/f19qK2urobawkI37+/v7/8c85VxNObs7CzUbm9vQ+3x8THU+sAZQ8hgCBkMIYMh1FTzSdvul5eXoZZZ+azHfGVc9rdeXl5CbX9/v3Pdl2bUGUPIYAgZDCGDIdTUmU+SWa3MrmjStj6Nq1dbs6uoS0tLoXZ3d9e53tnZCWO+oyF1xhAyGEIGQ6ipHoP+1z49PYXaxsZG55p6AFqUIoeHh6G2vr6e+tva1dVVqNX3Nh6Pw5h6EayU2fcdzhhCBkPIYAgZDKGmdlez6iOAmeN/pfCiFD38TA3pvHHGEDIYQgZDyGAINbXymXV+ft65zhz/K+VrK6TzxhlDyGAIGQwhgyE0lyuftePj41A7PT0NtewRwHobfB5fDemMIWQwhAyG0I/oMQi92OTo6CjUaIGr3r2lI/+tc8YQMhhCBkPIYAjN5e5qBj2XkV3gqp8rod3b1o//OWMIGQwhgyFkMIRsPv+QeUC6lNiQbm5uhjH04HNf3siX4YwhZDCEDIaQwRD6sdvuWW9vb6H22e+VnJycTO/GZswZQ8hgCBkMIYMhZPP5D5mzodnvlSwuLk7tvmbNGUPIYAgZDKFe7K7Wn2YoJb78pBT+ptisdywzRwCzbwBsacfVGUPIYAgZDCGDIdSL5nN7ezvU6LgcNZ/0HbNZP9NRN5vZNwDSC1wODg6md2NT5IwhZDCEDIaQwRDqRfNJDSR9Y4Q+aLu7uxtq9XE8WoUcDoehRjui9MDyZ1c+6ff7yhlDyGAIGQwhgyHUi6N9y8vLoUZNH62GZt6CQ2Oyx/Ey47K/tbW1FWpuu6spBkPIYAgZDKFeNJ9ZdGaSmtS6mc2+pvGz415fX8MY2k7va6NJnDGEDIaQwRBqqscg1HesrKx0rmmxaTwehxr1GJPJJNRGo1Hn+vn5OYxpqZ8gzhhCBkPIYAgZDKHmm0/NhjOGkMEQMhhCBkPIYAgZDCGDIWQwhAyGkMEQMhhCBkPIYAgZDCGDIWQwhAyGkMEQMhhCBkPIYAgZDCGDIfQb9xEaPTDM+7IAAAAASUVORK5CYII=\" id=\"image2bee38bb5a\" transform=\"scale(1 -1) translate(0 -96.48)\" x=\"353.544828\" y=\"-6.926897\" width=\"96.48\" height=\"96.48\"/>\n   </g>\n  </g>\n  <g id=\"axes_5\">\n   <g clip-path=\"url(#p187f41b099)\">\n    <image xlink:href=\"data:image/png;base64,\niVBORw0KGgoAAAANSUhEUgAAAIYAAACGCAYAAAAYefKRAAAD8klEQVR4nO3dQSusURzH8eOaGsKCWFjxCixoSkop0kgKC2VjY2EhZaG8CwtFSZIUViRSFhbEVsoLYKtBxEIW7t3d25n/7zbHc+/0PDPz/ezOv+eenm7fTidz56pyzv10QJ4fcb8AkokwIBEGJMKARBiQCAMSYUAiDEiEAYkwIBEGJMKARBiQUnG/gHPOPT4+mtn9/b2ZDQwMmNnLy0sR3gicGJAIAxJhQCIMSLFcPru6urx1Op02z3R2dprZ6empmQ0NDZnZ8/PzP7wdnOPEwF8QBiTCgEQYkGK5fDY0NHjr6urqoD+XyWTMbGRkxMy2traivRh+48SARBiQCAMSYUCqcgn4UrP62L2pqSnoz35+fprZzMyMt+Yy+n2cGJAIAxJhQCIMSIm4fLa2tprZxsaGmWWz2aD9bm5uvPXg4KB5Rl148QcnBiTCgEQYkBJxx1D6+vrM7OjoyMzq6uoK7nV+fm5mExMTZpbL5cJergJwYkAiDEiEAYkwICX28qnMz8+b2dLSUqS98j+Bdc659fX1SHuVI04MSIQBiTAgEQakkrp8NjY2mtn19bWZtbW1Fdzr/f3dzGZnZ81se3s78O3KCycGJMKARBiQCANSSV0+lcnJSTNbW1vz1vX19UF7XV1dmVlvb2+0FytxnBiQCAMSYUAq+TuGcnh46K3Vf66ivL29mdnCwoKZHRwceOty/CoCJwYkwoBEGJAIA1JZXj5bWlq89c7Ojnmmv78/8v5zc3PeemVlJfJeScWJAYkwIBEGJMKAVJaXz3w9PT1mpn73ScgXpJ2zPyEdHh42z1xeXga+XTJxYkAiDEiEAYkwIFXE5VPZ3983s9HR0Uh75X/M75xzY2NjkfZKCk4MSIQBiTAgEQakir18dnd3m9nZ2ZmZ1dbWFtxL/VvR3d1dM1tcXDSz19fXgvvHgRMDEmFAIgxIFXvHUKanp81seXnZzELuHaH7b25uRtqr2DgxIBEGJMKARBiQUnG/QJKo38P29fVlZqurq946nU4H7T8+Pm5mJycn3vrh4SFor2LjxIBEGJAIAxJhQOInnxHs7e15a/WL90I9PT156/wvZMeFEwMSYUAiDEiEAYnLZwT5F8Tj42PzTCaTCdrr4+PDW2ezWfPMxcXFN97u/+DEgEQYkAgDEmFA4mP3CHK5nLeempoyz9ze3ppZKmX/umtqarx1R0eHeYbLJxKDMCARBiR+wFUk7e3tZnZ3d2dm+Z+uNjc3F+uVvoUTAxJhQCIMSIQBicsnJE4MSIQBiTAgEQYkwoBEGJAIAxJhQCIMSIQBiTAgEQYkwoBEGJAIAxJhQCIMSIQBiTAgEQYkwoBEGJAIA9IvaDCzZeZobXoAAAAASUVORK5CYII=\" id=\"image4f9fe5d549\" transform=\"scale(1 -1) translate(0 -96.48)\" x=\"468.993103\" y=\"-6.926897\" width=\"96.48\" height=\"96.48\"/>\n   </g>\n  </g>\n  <g id=\"axes_6\">\n   <g clip-path=\"url(#pdd19f1eee4)\">\n    <image xlink:href=\"data:image/png;base64,\niVBORw0KGgoAAAANSUhEUgAAAIYAAACGCAYAAAAYefKRAAAEO0lEQVR4nO3duy80URzG8dmXRFyiEhorQkFcahqJhoQoXCL4AygkKn+EQqPQaCQal4qOQqWUaFwKQiSoXCOIxEq85Zszv0dmMnbX2TffT3eezI4TeXJyMrOzkwqC4CsAQv789gTgJ4oBiWJAohiQKAYkigGJYkCiGJAoBqTi355AIZqdnXXG8/Pz5pj393eTdXR0mOz4+Dh7E8siVgxIFAMSxYDEHiNHysrKTJZOp03GHgMFhWJAohiQKAYkigGJYkCiGJAoBiSKAYkrnwmMjY1FHnN7e2uyvb29XEwnJ1gxIFEMSBQDEsWAxOYzQktLi8mam5sjP1dZWRnrcwcHB8kmlmOsGJAoBiSKAYliQGLzGeH8/Nxk29vbznh0dNQck8lkTPb8/Jy9ieUYKwYkigGJYkBijxHh4+PDZPv7+85Y7TFeXl5MpvYrvmLFgEQxIFEMSBQD0n+5+SwpKXHG9fX1sT6n7qR+fn6arLq6OvJcxcX2X1tRUWGy19fXWHPLN1YMSBQDEsWARDEgpYICf1+J2liurq46487OzjzN5p9UKmWy/v5+k4Xv1PqCFQMSxYBEMSBRDEjebj67u7tNtrW1ZbLy8nKTFRUV5WBGP7e5uWmykZGRX5hJNFYMSBQDEsWA5MXd1dLSUpMtLCyYTD0Pqjw9PTnjjY0Nc8zy8rLJ1LOlw8PDJhscHIw1jzC19wlfCPv68mPLx4oBiWJAohiQKAYkLy5wtbW1mezw8DDWZx8eHkw2MzPjjNfX15NN7BtLS0vOeHJy0hyj7q6qjWX4a4L39/c/nF12sGJAohiQKAYkigHJiyufKysrsY5Tm7epqSmTqbuY2XRychJ5jC9XMJNixYBEMSBRDEgUA5IXVz7VL800NDSY7OrqymRxH1jOpvDXCS8uLswxcR58Vsdx5RNeoxiQKAYkigHJiyufhaa9vd0Z393dmWPibj59xYoBiWJAohiQCmqPob7GV1tba7Kbm5uczqOqqsoZt7a2Jj5XT0+PM15bW0t8rmxixYBEMSBRDEgUA5IXm0/1bg9F/bxyX1+fyXZ2dpzx9fV1sol9o6mpKWvn6u3tdcZsPuE1igGJYkCiGJC82HyOj4+bbHd312RdXV2xsre3N2ccfrldEATB9PS0yU5PT02m7pJOTEyYLCn1N33AigGJYkCiGJAoBiQvnitRBgYGTLa4uGiyurq6ROfPZDImU29lVi+9C7+MLy51hbexsdEZ81wJvEYxIFEMSBQDkrebT0X91vfQ0JDJ0um0M1bfyaypqTFZ3NvpR0dHznhubs4cc3l5abLHx0eTnZ2dxfqb+caKAYliQKIYkApqj4H8YcWARDEgUQxIFAMSxYBEMSBRDEgUAxLFgEQxIFEMSBQDEsWARDEgUQxIFAMSxYBEMSBRDEgUAxLFgEQxIFEMSBQDEsWARDEgUQxIFAPSX2KmzgkjOh4OAAAAAElFTkSuQmCC\" id=\"image4a8e236905\" transform=\"scale(1 -1) translate(0 -96.48)\" x=\"7.2\" y=\"-127.886897\" width=\"96.48\" height=\"96.48\"/>\n   </g>\n  </g>\n  <g id=\"axes_7\">\n   <g clip-path=\"url(#pde2b50afcf)\">\n    <image xlink:href=\"data:image/png;base64,\niVBORw0KGgoAAAANSUhEUgAAAIYAAACGCAYAAAAYefKRAAAFVklEQVR4nO3dT0hUURzF8TE1CzFR0DJBtEQEQVQQNVwIigvFkIIiXSkIujGEhFYKIkq5EBeCSItWummvmLVw4TLSXGhQoZEGEpb4lzJb3/mdmmGccebF97O7h9ubSxwul+d7M3E+n+/UB/i5EO0FIDZRDEgUAxLFgEQxIFEMSBQDEsWARDEgUQxIFAMSxYBEMSAlRHsBf1NcXGyyBw8emKysrMxkdXV1Aa//7ds3kw0MDJjs+fPnJtvb2wt4fa9jx4BEMSBRDEgUA1KcLwqP9iUmJjrjiooKM2d6etpk169fj9ia/mZjY8Nkt27dcsZbW1vntZxzw44BiWJAohiQKAakiB8+ExLszdWmpiZn/OLFi7B+5ubm5j/HPp/Pd/nyZZMVFRUFdf2pqSln3NnZaebs7+8Hda1YxY4BiWJAohiQKAakiP/ZXR3yxsbGQrrW69evTTY0NGSy9fV1Z/zx40czJzk52WQTExMma2lpMVlmZqYz/vXrl12sx7FjQKIYkCgGJIoBKeKHT3Uw878TmZ2dbeZ8+vTJZI8ePTLZ0tJSSOtSdybfvn1rMnX4vHbtmjO+ePGimXN8fBzSumIFOwYkigGJYkCK+Bnj8PDQZMvLy864vLzczMnLyzOZ+itmV1dXSOtKT083WXNzc1D/1v/RxLi4uJDWEMvYMSBRDEgUAxLFgBSVl5q7u7udcUZGhplz+/Ztk7W3t5tMHW57e3ud8cnJiZmTlJRksqtXr5rs9NQ++Tg3Nxfw+l7HjgGJYkCiGJAoBqSoHD6Pjo6c8czMjJlTWVlpMnW38uHDhwH/7fz8vJmzs7Njsps3b5pMPRY4PDzsjL3+DonCjgGJYkCiGJAoBqSofKNOqNTd0JGREZPl5+eH7TPV4361tbXO+Pv372H7vFjBjgGJYkCiGJA8dcZQcnNzTfby5UtnfOPGjaCu9eXLF5O1tbWZ7NWrV8EtzsPYMSBRDEgUAxLFgOT5w6dSX1/vjNVfb4P17t07ky0uLjrjnp4eM4d3V/FfohiQKAYkigHpvzx8+v+uyefPnyP6ee/fvzeZ+mE/9ZfaWMWOAYliQKIYkCgGpJj9peazuH//vjPe3t42c0pKSkx29+5dkz1+/Nhk/ofbgoICM0e9yzI4OGgy/7uya2trZk40sGNAohiQKAYkigHJ84dP9XWOT548ccZ9fX1mztevX002Pj5uMvV85+zsrDNW38STlpZmsv7+fpP9/v3bGfv/1orPZ18CPw/sGJAoBiSKAcnzZ4yqqiqT+X+Fc3x8fMjXX11dNZn/uywdHR1mztOnT0125coVk42Ojjpj9dMbDQ0NJltZWTFZOLFjQKIYkCgGJIoByfOHT/V10xcuuH3PycmJ6BpKS0tNph4nLCoqCngt9ftw6gbdvXv3glxdaNgxIFEMSBQDEsWA5PnD5+7ubsA51dXVJqurqzOZehwvGFlZWSYL5qAZLLV+9ZlbW1th+0x2DEgUAxLFgEQxIHn+8KleKPZXWFhosomJCZNNTk6abGFhwWQpKSnO+NKlSwHXcBbq0cGamhqTTU9Ph+0z2TEgUQxIFAMSxYDk+W/USU1NNdmdO3ec8bNnz0K+/sHBgckSExP/OT4P6kXqDx8+hO367BiQKAYkigHJ82cMJSHBvW+nvrBEUY/Vtba2msz/vZXTU/tf+PPnT5M1Njaa7M2bN0Gtzd+PHz9MdnJyEtK1FHYMSBQDEsWARDEg/ZeHT5wdOwYkigGJYkCiGJAoBiSKAYliQKIYkCgGJIoBiWJAohiQKAYkigGJYkCiGJAoBiSKAYliQKIYkCgGJIoBiWJA+gM7axynMpqWggAAAABJRU5ErkJggg==\" id=\"imageca92bd3e63\" transform=\"scale(1 -1) translate(0 -96.48)\" x=\"122.648276\" y=\"-127.886897\" width=\"96.48\" height=\"96.48\"/>\n   </g>\n  </g>\n  <g id=\"axes_8\">\n   <g clip-path=\"url(#p599fa47a87)\">\n    <image xlink:href=\"data:image/png;base64,\niVBORw0KGgoAAAANSUhEUgAAAIYAAACGCAYAAAAYefKRAAACv0lEQVR4nO3cMUorURiG4clFsNAlWKSyCAGXINZuIFtIkcrOJhtwIQZLJZa6CBv7WAUbOwvxlpKcD+4Yc8k48zzd/CThFC+Hw8xor6qqzwrW/Nn1AmgmYRAJg0gYRMIgEgaRMIiEQSQMImEQCYNIGETCIBIGkTCIhEEkDCJhEO3tegFNMhwOi9n9/X0xu7u7W7kej8f/bU27YscgEgaRMIiEQdSrOvp3Jfv7+8Vs/VBZVVV1dnb2z9/a22vfGd6OQSQMImEQCYOofaemmiaTSTGrc9BMRqNRMbu+vt7ot5rCjkEkDCJhEAmDqLN3Pt/e3orZwcHBRr/1/PxczAaDwUa/1RR2DCJhEAmDqLM3uNJ54vOz3nFrPp+vXL+8vGxlTU1ixyASBpEwiIRB1NkbXB8fH8Ws7uGz3++vXC8Wi20sqVHsGETCIBIGkTCIOnHn8/j4eOPvPjw8FLPlcvmT5fwKdgwiYRAJg0gYRJ04fJ6fnxezXq9X67uvr6/F7P39/cdrajo7BpEwiIRB1MozxsnJycr1dDotPpOepNZ9utoFdgwiYRAJg0gYRK08fK4/TT08PNzRSn4vOwaRMIiEQSQMImEQCYNIGETCIBIGUSvvfK5Lr/HVfbWvq+wYRMIgEgaRMIhaefi8ublZub66uio+c3R0VMy88/nFjkEkDCJhEAmDSBhEwiASBpEwiIRBJAwiYRAJg0gYRK18urrOq33fZ8cgEgaRMIiEQdSJw2fdf93o1b4vdgwiYRAJg0gYRMIgEgaRMIiEQdSJG1yz2ayYXVxc7GAlv4cdg0gYRMIgEgZRr6qq1j9SPD09LWaPj4/F7Pb2tphdXl4Ws6enp62sq8nsGETCIBIGkTCIOnH45PvsGETCIBIGkTCIhEEkDCJhEAmDSBhEwiASBpEwiIRBJAwiYRAJg0gYRMIg+gtA0Vz/NRwqpQAAAABJRU5ErkJggg==\" id=\"image07e8769faf\" transform=\"scale(1 -1) translate(0 -96.48)\" x=\"238.096552\" y=\"-127.886897\" width=\"96.48\" height=\"96.48\"/>\n   </g>\n  </g>\n  <g id=\"axes_9\">\n   <g clip-path=\"url(#pe693e1ff5a)\">\n    <image xlink:href=\"data:image/png;base64,\niVBORw0KGgoAAAANSUhEUgAAAIYAAACGCAYAAAAYefKRAAAEfklEQVR4nO3dzyttXRzH8XW5rihigCQSQsqPlChDzoCUCX+CEcpUKaeMzAxEBhgrKSSRgYGJoo46JImZHylJUkw8s1t7fz/3eTjXOfb2vF+z9WnV/Q4+d7XaZzvnh3PuzQE+aV89AIKJYkCiGJAoBiSKAYliQKIYkCgGJIoBiWJAohiQKAYkigGJYkCiGJAoBiSKAYliQPr51QMkQ3p6umfd1dVl9rS2tpqsv7/fZNXV1Sbb2NjwrA8ODsye1dVVk8ViMZMFFScGJIoBiWJAohiQfriQ/11Jbm6uyZaXlz3rzs5Os+f+/t5k8Xg8oRmamppMlpWVZbLFxUWTRaNRz/rm5iahGT4bJwYkigGJYkCiGJBCdfnMzMw02dbWlslqa2s96+HhYbNnd3fXZHd3dwnNVVBQYLKamhqTTUxMmKywsNCzHh0dNXvW1tYSmutvcGJAohiQKAYkigEpVJfPsbExk42Pj5tsaGjIs56bm0vaTB+Rk5NjMv/FsrKy0uxRT1bVk9vPxIkBiWJAohiQAnvHyMjIMNnx8bHJfv36ZbLy8vJkjJQU/lcHDw8PzZ75+XmTjYyMJGsk5xwnBv6AYkCiGJAoBqTA/l1JfX29yaqqqkw2NTWVgmmS5+zszLNeX183eyKRSKrG+Y0TAxLFgEQxIFEMSIG9fP5f3d7efvUIzjlODPwBxYBEMSBRDEihv3wG5Y+AvxtODEgUAxLFgBT6O0Z+fv5Xj/AtcWJAohiQKAYkigEpsJfP5+dnk728vJhMfZnKd3N0dJTyf5MTAxLFgEQxIFEMSIG9fJ6enprs8vLSZNnZ2akYJ2n8Xy3d09Nj9szMzKRqnN84MSBRDEgUAxLFgBTYb9RRTk5OTKY+di8uLk7FOJ/C/0N+CwsLZk9DQ4PJEv166/fixIBEMSBRDEgUA1Jgn3wq6smnumj6s+vr66TN9BFpafb/YV9fn2f9mb+j8jc4MSBRDEgUA1Ko7hj7+/sm8z8gcs65uro6zzood4ze3l6T+T9N7ejoSNU4/4oTAxLFgEQxIFEMSKG6fC4tLZksGo2azP8jt1+hpKTEZJOTkybb3t72rOPxeNJm+ghODEgUAxLFgEQxIIXq1b68vDyTxWIxkz0+PnrWOzs7Zs/09LTJLi4uEpqrtLTUZP5LpXPOvb6+mqy9vd2zfnp6SmiGz8aJAYliQKIYkCgGpFA9+Xx4eDCZ+n2PlpYWz3p2dtbsUa8JvldZWZlnvbm5afaop6/d3d0mC8pl048TAxLFgEQxIFEMSKG6fCZKvfP59va+B77+i6Zz9jJbVFRk9gwODppMvbMaVJwYkCgGJIoBKfR3DPWJpd/AwIDJ1L2gubnZZJFIxGT+T2Hb2trMnvPz8/+cK8g4MSBRDEgUAxLFgBSqV/uUiooKk62srHjWjY2NZs/V1ZXJ1JeW7O3tmUx9WvvdcGJAohiQKAYkigEp9JdPJAcnBiSKAYliQKIYkCgGJIoBiWJAohiQKAYkigGJYkCiGJAoBiSKAYliQKIYkCgGJIoB6R/DW9jEnw1X9gAAAABJRU5ErkJggg==\" id=\"image333320c84a\" transform=\"scale(1 -1) translate(0 -96.48)\" x=\"353.544828\" y=\"-127.886897\" width=\"96.48\" height=\"96.48\"/>\n   </g>\n  </g>\n  <g id=\"axes_10\">\n   <g clip-path=\"url(#p0717b650f9)\">\n    <image xlink:href=\"data:image/png;base64,\niVBORw0KGgoAAAANSUhEUgAAAIYAAACGCAYAAAAYefKRAAAEOElEQVR4nO3dPSwsURjG8V2uhoKCCBqlRhSUYitE2EIUGkofQYFE66NV6ZAodSIKCkqVRCERkYhESyMREjrceuZ97r0nxzk7y/3/unmzc/ZIHidvZs7O5HO53GcOSKnIegIoTwQDEsGARDAgEQxIBAMSwYBEMCARDEi/sp4Akmpqakytu7vb6dyTk5Ng82DFgEQwIBEMSPkcd1fLyvr6uqktLCw4nVtVVRVsHqwYkAgGJIIBiWBA4gJXCVVXV5va6upq4nhubs5prMnJyRBT+iNWDEgEAxLBgEQwINF8llChUDA116uaaff391+dzl+xYkAiGJAIBiSCASmT5nNnZydx3NjY6HReZWWlqW1ubpra4eGh38QyUFHh97+Zz+cDzySJFQMSwYBEMCARDEjRm8+2tjZT6+vrSxw3NTU5jaUatd7eXlNLXxXs7+83n7m5uXH6zpCOjo5M7ePjw2usz8+4W3VZMSARDEgEA1L0HmN6etrUXHsKX83NzYljtQ1ucXEx6hy+O1YMSAQDEsGARDAgBW0+e3p6TG1sbCzkV3gZHx83tYGBAVMbGhoytcfHR1N7fn4OM7EyxooBiWBAIhiQCAakoM2neuJcbW1tyK/wUldX51S7vb01tb29PVNL3yXd3d11mofacjg4OOh0bppqlHlqH6IjGJAIBiSCASno4xzPz89NrbOzM9TwsuGampoytWKx6DW+2jqott69vr4mjpeWlsxntre3TU1dbVXb/Xyp3934YsWARDAgEQxIQXuM9/d3U/PdHv+VCzgtLS2J4+PjY/MZ9bMG1x7D19ramqmtrKwEG59HRiM6ggGJYEAiGJB+ZPOZ1tHRYWpqG+LGxoaphWw+Yze3NJ+IjmBAIhiQCAak/+KR0ZeXl061t7c3U9va2ooyp696eHiIOj4rBiSCAYlgQCIYkMq2+Yz9uwnl7OzM1K6urkytvb096jxcTExMRB2fFQMSwYBEMCARDEhBm0/fd28oMzMzpvb09GRqy8vLwb5TvUlZ/fjZ9+90OU+9BE89jvLi4sJrDq5YMSARDEgEA1LQrX2K2i43OzvrNVbsrXFZjH99fZ04Vq/QiH0nVWHFgEQwIBEMSAQDUvS7qwcHB6Y2OjqaOK6vr489jbKVfsBKFo2mwooBiWBAIhiQCAak6M3n6empqY2MjCSO9/f3zWd+YkN6d3dnai8vLxnM5N9YMSARDEgEAxLBgBT9truLQqFgasPDw6bW2tpqar7v+1Bcb7un30/i+vK8+fl5r3llgRUDEsGARDAgEQxIZdF8umpoaDC1rq6uks8jfTVXPYnnu2PFgEQwIBEMSN+qx0DpsGJAIhiQCAYkggGJYEAiGJAIBiSCAYlgQCIYkAgGJIIBiWBAIhiQCAYkggGJYEAiGJAIBiSCAYlgQCIYkAgGJIIBiWBAIhiQCAYkggHpN1R22ScmJt/TAAAAAElFTkSuQmCC\" id=\"image2af5562a6c\" transform=\"scale(1 -1) translate(0 -96.48)\" x=\"468.993103\" y=\"-127.886897\" width=\"96.48\" height=\"96.48\"/>\n   </g>\n  </g>\n </g>\n <defs>\n  <clipPath id=\"p8298f5c2ba\">\n   <rect x=\"7.2\" y=\"7.2\" width=\"96.206897\" height=\"96.206897\"/>\n  </clipPath>\n  <clipPath id=\"p0d501ae15d\">\n   <rect x=\"122.648276\" y=\"7.2\" width=\"96.206897\" height=\"96.206897\"/>\n  </clipPath>\n  <clipPath id=\"pce31fee1e2\">\n   <rect x=\"238.096552\" y=\"7.2\" width=\"96.206897\" height=\"96.206897\"/>\n  </clipPath>\n  <clipPath id=\"p786a9daca9\">\n   <rect x=\"353.544828\" y=\"7.2\" width=\"96.206897\" height=\"96.206897\"/>\n  </clipPath>\n  <clipPath id=\"p187f41b099\">\n   <rect x=\"468.993103\" y=\"7.2\" width=\"96.206897\" height=\"96.206897\"/>\n  </clipPath>\n  <clipPath id=\"pdd19f1eee4\">\n   <rect x=\"7.2\" y=\"128.16\" width=\"96.206897\" height=\"96.206897\"/>\n  </clipPath>\n  <clipPath id=\"pde2b50afcf\">\n   <rect x=\"122.648276\" y=\"128.16\" width=\"96.206897\" height=\"96.206897\"/>\n  </clipPath>\n  <clipPath id=\"p599fa47a87\">\n   <rect x=\"238.096552\" y=\"128.16\" width=\"96.206897\" height=\"96.206897\"/>\n  </clipPath>\n  <clipPath id=\"pe693e1ff5a\">\n   <rect x=\"353.544828\" y=\"128.16\" width=\"96.206897\" height=\"96.206897\"/>\n  </clipPath>\n  <clipPath id=\"p0717b650f9\">\n   <rect x=\"468.993103\" y=\"128.16\" width=\"96.206897\" height=\"96.206897\"/>\n  </clipPath>\n </defs>\n</svg>\n"
     },
     "metadata": {},
     "output_type": "display_data"
    },
    {
     "data": {
      "text/plain": "<Figure size 1000x400 with 10 Axes>",
      "image/svg+xml": "<?xml version=\"1.0\" encoding=\"utf-8\" standalone=\"no\"?>\n<!DOCTYPE svg PUBLIC \"-//W3C//DTD SVG 1.1//EN\"\n  \"http://www.w3.org/Graphics/SVG/1.1/DTD/svg11.dtd\">\n<svg xmlns:xlink=\"http://www.w3.org/1999/xlink\" width=\"572.4pt\" height=\"231.566897pt\" viewBox=\"0 0 572.4 231.566897\" xmlns=\"http://www.w3.org/2000/svg\" version=\"1.1\">\n <metadata>\n  <rdf:RDF xmlns:dc=\"http://purl.org/dc/elements/1.1/\" xmlns:cc=\"http://creativecommons.org/ns#\" xmlns:rdf=\"http://www.w3.org/1999/02/22-rdf-syntax-ns#\">\n   <cc:Work>\n    <dc:type rdf:resource=\"http://purl.org/dc/dcmitype/StillImage\"/>\n    <dc:date>2023-08-06T11:37:38.815014</dc:date>\n    <dc:format>image/svg+xml</dc:format>\n    <dc:creator>\n     <cc:Agent>\n      <dc:title>Matplotlib v3.7.2, https://matplotlib.org/</dc:title>\n     </cc:Agent>\n    </dc:creator>\n   </cc:Work>\n  </rdf:RDF>\n </metadata>\n <defs>\n  <style type=\"text/css\">*{stroke-linejoin: round; stroke-linecap: butt}</style>\n </defs>\n <g id=\"figure_1\">\n  <g id=\"patch_1\">\n   <path d=\"M 0 231.566897 \nL 572.4 231.566897 \nL 572.4 0 \nL 0 0 \nz\n\" style=\"fill: #ffffff\"/>\n  </g>\n  <g id=\"axes_1\">\n   <g clip-path=\"url(#pdc7bbca600)\">\n    <image xlink:href=\"data:image/png;base64,\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\" id=\"image3d9cd6f2d6\" transform=\"scale(1 -1) translate(0 -96.48)\" x=\"7.2\" y=\"-6.926897\" width=\"96.48\" height=\"96.48\"/>\n   </g>\n  </g>\n  <g id=\"axes_2\">\n   <g clip-path=\"url(#p6388bb2dfd)\">\n    <image xlink:href=\"data:image/png;base64,\niVBORw0KGgoAAAANSUhEUgAAAIYAAACGCAYAAAAYefKRAAAHkElEQVR4nO2dW2sUTRCGO2qOatREJSpqQhAjIgQC4oX/2F/ivXgTEGNU4iGJSTwfv+upepYtJrsoH89zN8VsZ3ZS9L681dU9sby8/Kf9g/z5kx+LYr9//x461okTJ0qf+/nzZ4qdPHly6Gdp/MnJyaHP9S+Tv5FIMzFkACaGICaGIKf+9gO0xuLt69evKXZ4eJhic3NzKbawsDD0b545cybFTp8+nWK3b99OsdnZ2c719+/f0z07Ozsptrm5mWL0nSL0fsaNM4YgJoYgJoYgJoYgZfEZBVDFcew7dmutTUxMpBi5kPTZKEinpqbSPTMzMym2srKSYg8fPkyx+/fvd653d3fTPY8ePUqxjx8/plgUrkdHR+mev+GsOmMIYmIIYmIIUtYY8Te/WrEk4mdprOnp6RQjXUAV1zheNKRaa+3y5cspduvWrRRbXV0d+mxfvnxJ92xvb5di8Vl//fqV7iG9NW6cMQQxMQQxMQQxMQQpi08SRZFqFbAyFplSP378SDEyjQ4ODjrXVDUlg4hEKlVq5+fnO9dUXSWjip711Knuv4Cei94riW4SqX2NSWcMQUwMQUwMQUwMQUa6tI/EDwnNKLioakrQWLS0Ly4LvHDhQrqHBCmJSFp6t7S01LkmIUgikvpW+vaoVN91X5wxBDExBDExBDExBOktPo8jdKJworH29vZSjMru1B/y7du3zvWbN2/SPSTozp8/n2IPHjxIsQgJxk+fPqUYuahRfJLjS6KYXGCiIm7JDXXGEMTEEMTEEMTEEKS3+CTnLTqarbFgjM4kCU0SXNToTLEo/MiZjO5la63t7++nGK09jQKORCu5rc+fP0+x+H5ICNJ7JfruOEQ4YwhiYghiYgjSW2OQUUJVUqooxhjplWhSDRqLfn+jSURL6kjXkO4gc+zu3bud68XFxXTPtWvXUuzx48cpFvUQaRP63lVc2icjxcQQxMQQxMQQpLf4rJouZEDFyiBVFCtL9gY9R/zs9evX0z2xN6Q17iv5/PlzikXzjaqmZOzR94zisFpJpe9d/Z9UcMYQxMQQxMQQxMQQZKTikwRXtQoboaVxJMLIbY1ikJxJWhJIbi79zfhstEywb0WUljlWl/HR+++7BNMZQxATQxATQxATQxBUSJXeg+ruOdQ8HB1MEpD0OSqfUxk5ijUqncddd1pjt/X169dD/yYtEbhy5UqKXbx4McXev3+fYhFaskcOafWAwQrOGIKYGIKYGIL0NriqxyKQ0RNNL1p+T9qBdAFVLOOzVX9n6XebzjGLS+3Onj2b7iE9QVXYd+/eda7JEKSqb3XpY9/tpp0xBDExBDExBDExBCmLz2hCkaghA4oqg9HgIqF59erVoZ9rrdZrQp8jwUimFBltW1tbnesbN26ke0gw0liVHhsS8NRTO8pzTZwxBDExBDExBDExBOktPslxpCopndsRhRk5jtRgfOfOnRSLziE9BwlUEsUkguk7vXjxonNNvSfxnkHjxyZmGotcTnouEp9unCIjxcQQxMQQxMQQBMVn5dA16legvgYSeXF8Ele05I0E74cPH4b+TXpWEm90H/WfRNe0uuMNnegcvxMtmSRBSksJ6P0oPmWkmBiCmBiCmBiCoPgkYRPFWnXNIZW8Y3meStS0vpOEIImrKPKoX4RK2VSKp8+eO3euc722tpbu2dnZSTE6eC++s+qBgPT++wpNwhlDEBNDEBNDkLLBFXs1yCAiM4ti8XeUdAiNTzHafS8aPfQbTb0stMEKLfeL+oR6SGhpIi3HiwZddUMaMsvUGDJ2TAxBTAxBTAxByuIz9k7cu3cv3UNndOzu7qZYrJzSWWQkKml86mWJ5g+JSjoXhAwu6hmJYpPE4aVLl1KMDLpXr151rknsktCkXQ3JmIz/Sw/klWNhYghiYghiYgiC4pOWiN28ebNzvb6+nu7Z2NhIMXI+nz592rmmZXx0xgg1BdP48SA8ckxJqNH4JCyjO/ns2bN0D+0USM8al+3Ru6exCJ1PGTsmhiAmhiAmhiAoPqnJ+MmTJ51rEm9v375NMRJEsdRM7mjFxRt0X1xCR30ZVHanGL2L6DqSqHz58mWK0enQcWlfdEJb4yWB9F5pWWB0Osn5xD6iFBFpJoYMwMQQxMQQZGJ5ebm00XZ0AMmho14HElNxT20SRLF3g55h0N+Mgo6cTxqfnE/6nlGQUgmcmq23t7dTLEJLBKjsXn0Xkeohfs4YgpgYgpgYgpQ1RoR+q6h3lZbeRchYIqq778U+FTJwSDtQ/wnpk/gc1TPLKFbZOIWelaiciVatwDpjCGJiCGJiCGJiCNL7sLzq9sqVzU4qO/sNotr8HKFKJDVXV6qR1WZu2iAmQu+1uivgKHHGEMTEEMTEEMTEEGSk4rP8R4NrSmMd5zwR2rkmUj3VmBze6ERSpbM6fl9hWW1O7oszhiAmhiAmhiAmhiC9xedxqIikuH3kIPqKMPpctawfXVNyUUloVhzZau/MKIUm4YwhiIkhiIkhyF/RGJFqP2Xf31oan6hWdCPVJfnjfIZR44whiIkhiIkhiIkhyD8hPsdt1ox7/P8jzhiCmBiCmBiCmBiC/AfgRihO2AJmzwAAAABJRU5ErkJggg==\" id=\"imageeb4b0e92ea\" transform=\"scale(1 -1) translate(0 -96.48)\" x=\"122.648276\" y=\"-6.926897\" width=\"96.48\" height=\"96.48\"/>\n   </g>\n  </g>\n  <g id=\"axes_3\">\n   <g clip-path=\"url(#p25332d5a48)\">\n    <image xlink:href=\"data:image/png;base64,\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\" id=\"image139eb535cc\" transform=\"scale(1 -1) translate(0 -96.48)\" x=\"238.096552\" y=\"-6.926897\" width=\"96.48\" height=\"96.48\"/>\n   </g>\n  </g>\n  <g id=\"axes_4\">\n   <g clip-path=\"url(#p105c5fc84d)\">\n    <image xlink:href=\"data:image/png;base64,\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\" id=\"imageec7dab5edb\" transform=\"scale(1 -1) translate(0 -96.48)\" x=\"353.544828\" y=\"-6.926897\" width=\"96.48\" height=\"96.48\"/>\n   </g>\n  </g>\n  <g id=\"axes_5\">\n   <g clip-path=\"url(#p788c99a5ee)\">\n    <image xlink:href=\"data:image/png;base64,\niVBORw0KGgoAAAANSUhEUgAAAIYAAACGCAYAAAAYefKRAAAHeUlEQVR4nO2dSWtVTRCGO85GoxgXDiiKiuKVIDjgwoU7/dVu3DgLDggiKipiEud5Htan6vFLce7Jp+Lz7Lroe3NyeOn7UtVdPTEajX60/5nv378vOGfJkiUpNjExkWI/fuTHr3z/smXLFpxThZ6BYn8T+e2LNIUhv0BhCKIwBBnOgf0CMpFr167tjMlUfvr0KcU+fvyYYh8+fEixt2/fdsaTk5NpzsaNG1NsxYoVKUZG9uvXrws+15DQO1xsXDEEURiCKAxBFIYgg5pPMpHRqBHLly9PsZcvX6bY+/fvU+zLly8pFg0jGdnXr1+nGJnUpUuXplglq0lz6P38DmNZ4c98KvntKAxBFIYgZY9RqVhSgoiqmFu2bOmMT506leZQAurx48cpduXKlRS7ceNGZ/zo0aM0hzwGsWHDhhRbvXp1ZxwTaq2xHyLie61WlYkhK7quGIIoDEEUhiAKQ5Cy+awkYiqVyNayeTtx4kSaMxqNUiyaytZau3v3borNzc3957i1XOFtrbU1a9ak2Js3b1Ismjz6Hz9//pxilCyL5pzeYdWQVrc+VnDFEERhCKIwBFEYgvSurpLRIXNFJiwaoocPH6Y5lHF89uxZisUsKsXocwRVYb99+5ZiMcNL/3e1ahq/n7LH9F1kUiuGtGpGXTEEURiCKAxBFIYgvcvu1S1vZOju3LnTGZ8+fTrNIRNGRvPAgQMp9vz58854amoqzXny5EmK0f/09OnTFIuZzpUrV6Y5q1atSjEy4tFYktklxsmQVnDFEERhCKIwBFEYggy655PKz2RI437LS5cupTmbN29Osenp6RTbvn17is3MzHTGZPru3buXYmSU4xaB1vIhZjoXQyaykg2ld1h59631N5qEK4YgCkMQhSFI2WNUfr/od5WSS/G8KW2fo/MiVHHds2fPgvM2bdqU5tBZE3oO2u4X/6dKBbk1Ttq9e/cuxSJ0Nqd6NrbyOcIVQxCFIYjCEERhCDKo+STIkMaEDSV15ufnU+zy5cspRh3zduzY0Rnv3LkzzaHqKiW9iFg5paosNXShBFf8LL2vakvqSmW2uuXQFUMQhSGIwhBEYQjS+1AzVfxoOxuZw2jMqO0zdbyhbCVlE7du3doZU+aTDk3TAWkypJXqKkFddipmcOjtfhVcMQRRGIIoDEEUhiC9DzWTqaHyMMWi2aweOqbzG1QWj+2maZvg7t27U+zIkSMpRq0aX7161RlT2b0ai++n+l7JaFa3AFZwxRBEYQiiMAQZtHEK0bdTHVUPKVlGZ0uvXr3aGdOZV9omePTo0RSjpNSFCxc64+g5WuOkFB1F6Fu1riazTHDJoCgMQRSGIApDkN7mk8whGSIyn9GEjXNXGCXHYmtpqq4eO3YsxciQUtJrdna2M46NYH5FpbV0pblKa1xVrtw/V8UVQxCFIYjCEERhCDLohbyU7SNjGTOf1eohQWYtZiLPnTuX5qxbty7F9u7dm2J0ad+hQ4c6Y9qaSBlZumS4cvdJteJaPX9SwRVDEIUhiMIQRGEIMqj5rGYwKxm66tY4+v44j254vnbtWoqtX78+xbZt25Zi+/bt64ypE8/FixdTjObF7Yp0RoW2Gwx5KzPhiiGIwhBEYQiiMAQZ9L4SopINpSweGVQyYXSuJH6WWkHTBX23bt1KMcqQxjJ+zIS2lu9MaY3NZ8ya0sFw6s5Tbc/dF1cMQRSGIApDkEG39lXnRU9BiTH6raWKK3mYmCSiJBidBbl582aK0bbAeBUGta2unoG5f/9+Z0w+hCDfVDlXYtc+GQuFIYjCEERhCFI2nzGhRYaxakgr2/aqiR4yeZQwi5BpJeP34MGDFNu/f39nTBXYgwcPptiLFy9S7MyZM53x7du30xxq3kJNZCoHpKtbJl0xBFEYgigMQRSGIINmPqsHnSuVWqoeUoy2wsWtfZTto+eiA9JUcY1bAKnCG9tWt9ba4cOHUywaSzKa1epqpUpd3SboiiGIwhBEYQiiMAQpm89oUCjLVm1NGI0fmcPqHSDUWSaasKpRm5ycTDEqlZ89e7YzJvN28uTJFJuenk6xXbt2dcbXr19Pc+jiQMqikkntiyuGIApDEIUhiMIQZNH3fFZuJ65mUem7+raCrGZDybjGC/RoDrWGPH78eIpNTU11xtU2jdTjnKDvq+CKIYjCEERhCDLofSVDnp2sJmsqbaqp4QpB2wmjB2gt/77TOdjz58+nGCXV4nuk76Juf/R+6Pkj5XtOFvwm+SdRGIIoDEEUhiATo9Focdu/FaAzHkR162A0U3QAmP4mVT+pyhs/S9vlKpcEUqxqNIlKpdlDzTIWCkMQhSGIwhBk0JbRfRnn1mf6bDSHZCDpu6jLDn02dvKjA8ZkSKlKGp+f/l71AHMlG12uipdmyT+HwhBEYQiiMAT5I8xnNRvXFzKalCWsGNnWchm/ktFsjTOw8dnIfFa3PtoyWhYdhSGIwhDkj/AY41A9ZhApb3Er3OlW/W2vbOWvdtVbbFwxBFEYgigMQRSGIH+9+ezLOEm1+NnFvhz3d+CKIYjCEERhCKIwBPkJEZg95+IVCDMAAAAASUVORK5CYII=\" id=\"imagec142221522\" transform=\"scale(1 -1) translate(0 -96.48)\" x=\"468.993103\" y=\"-6.926897\" width=\"96.48\" height=\"96.48\"/>\n   </g>\n  </g>\n  <g id=\"axes_6\">\n   <g clip-path=\"url(#pb13937ef38)\">\n    <image xlink:href=\"data:image/png;base64,\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\" id=\"image16c7c5620a\" transform=\"scale(1 -1) translate(0 -96.48)\" x=\"7.2\" y=\"-127.886897\" width=\"96.48\" height=\"96.48\"/>\n   </g>\n  </g>\n  <g id=\"axes_7\">\n   <g clip-path=\"url(#pa672347efc)\">\n    <image xlink:href=\"data:image/png;base64,\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\" id=\"image8e02c28fe4\" transform=\"scale(1 -1) translate(0 -96.48)\" x=\"122.648276\" y=\"-127.886897\" width=\"96.48\" height=\"96.48\"/>\n   </g>\n  </g>\n  <g id=\"axes_8\">\n   <g clip-path=\"url(#pa962222149)\">\n    <image xlink:href=\"data:image/png;base64,\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\" id=\"image6c6c7e5269\" transform=\"scale(1 -1) translate(0 -96.48)\" x=\"238.096552\" y=\"-127.886897\" width=\"96.48\" height=\"96.48\"/>\n   </g>\n  </g>\n  <g id=\"axes_9\">\n   <g clip-path=\"url(#pdfb7ba518d)\">\n    <image xlink:href=\"data:image/png;base64,\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\" id=\"imagebd681bf48c\" transform=\"scale(1 -1) translate(0 -96.48)\" x=\"353.544828\" y=\"-127.886897\" width=\"96.48\" height=\"96.48\"/>\n   </g>\n  </g>\n  <g id=\"axes_10\">\n   <g clip-path=\"url(#p06ea0113b6)\">\n    <image xlink:href=\"data:image/png;base64,\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\" id=\"imageb287be6e9b\" transform=\"scale(1 -1) translate(0 -96.48)\" x=\"468.993103\" y=\"-127.886897\" width=\"96.48\" height=\"96.48\"/>\n   </g>\n  </g>\n </g>\n <defs>\n  <clipPath id=\"pdc7bbca600\">\n   <rect x=\"7.2\" y=\"7.2\" width=\"96.206897\" height=\"96.206897\"/>\n  </clipPath>\n  <clipPath id=\"p6388bb2dfd\">\n   <rect x=\"122.648276\" y=\"7.2\" width=\"96.206897\" height=\"96.206897\"/>\n  </clipPath>\n  <clipPath id=\"p25332d5a48\">\n   <rect x=\"238.096552\" y=\"7.2\" width=\"96.206897\" height=\"96.206897\"/>\n  </clipPath>\n  <clipPath id=\"p105c5fc84d\">\n   <rect x=\"353.544828\" y=\"7.2\" width=\"96.206897\" height=\"96.206897\"/>\n  </clipPath>\n  <clipPath id=\"p788c99a5ee\">\n   <rect x=\"468.993103\" y=\"7.2\" width=\"96.206897\" height=\"96.206897\"/>\n  </clipPath>\n  <clipPath id=\"pb13937ef38\">\n   <rect x=\"7.2\" y=\"128.16\" width=\"96.206897\" height=\"96.206897\"/>\n  </clipPath>\n  <clipPath id=\"pa672347efc\">\n   <rect x=\"122.648276\" y=\"128.16\" width=\"96.206897\" height=\"96.206897\"/>\n  </clipPath>\n  <clipPath id=\"pa962222149\">\n   <rect x=\"238.096552\" y=\"128.16\" width=\"96.206897\" height=\"96.206897\"/>\n  </clipPath>\n  <clipPath id=\"pdfb7ba518d\">\n   <rect x=\"353.544828\" y=\"128.16\" width=\"96.206897\" height=\"96.206897\"/>\n  </clipPath>\n  <clipPath id=\"p06ea0113b6\">\n   <rect x=\"468.993103\" y=\"128.16\" width=\"96.206897\" height=\"96.206897\"/>\n  </clipPath>\n </defs>\n</svg>\n"
     },
     "metadata": {},
     "output_type": "display_data"
    }
   ],
   "source": [
    "n_images = 10\n",
    "indices = None\n",
    "\n",
    "# Call the function with matrix_B_final dataframe or numpy array\n",
    "plot_mnist(matrix_B_final_train, n_images, indices)\n",
    "\n",
    "plot_mnist(matrix_B_calculated_train, n_images, indices)"
   ]
  },
  {
   "cell_type": "code",
   "execution_count": 33,
   "id": "1d5abb28c8815379",
   "metadata": {
    "collapsed": false,
    "jupyter": {
     "outputs_hidden": false
    },
    "ExecuteTime": {
     "end_time": "2023-08-06T08:37:43.246977Z",
     "start_time": "2023-08-06T08:37:42.770870300Z"
    }
   },
   "outputs": [
    {
     "data": {
      "text/plain": "<Figure size 1000x400 with 10 Axes>",
      "image/svg+xml": "<?xml version=\"1.0\" encoding=\"utf-8\" standalone=\"no\"?>\n<!DOCTYPE svg PUBLIC \"-//W3C//DTD SVG 1.1//EN\"\n  \"http://www.w3.org/Graphics/SVG/1.1/DTD/svg11.dtd\">\n<svg xmlns:xlink=\"http://www.w3.org/1999/xlink\" width=\"572.4pt\" height=\"231.566897pt\" viewBox=\"0 0 572.4 231.566897\" xmlns=\"http://www.w3.org/2000/svg\" version=\"1.1\">\n <metadata>\n  <rdf:RDF xmlns:dc=\"http://purl.org/dc/elements/1.1/\" xmlns:cc=\"http://creativecommons.org/ns#\" xmlns:rdf=\"http://www.w3.org/1999/02/22-rdf-syntax-ns#\">\n   <cc:Work>\n    <dc:type rdf:resource=\"http://purl.org/dc/dcmitype/StillImage\"/>\n    <dc:date>2023-08-06T11:37:42.961921</dc:date>\n    <dc:format>image/svg+xml</dc:format>\n    <dc:creator>\n     <cc:Agent>\n      <dc:title>Matplotlib v3.7.2, https://matplotlib.org/</dc:title>\n     </cc:Agent>\n    </dc:creator>\n   </cc:Work>\n  </rdf:RDF>\n </metadata>\n <defs>\n  <style type=\"text/css\">*{stroke-linejoin: round; stroke-linecap: butt}</style>\n </defs>\n <g id=\"figure_1\">\n  <g id=\"patch_1\">\n   <path d=\"M 0 231.566897 \nL 572.4 231.566897 \nL 572.4 0 \nL 0 0 \nz\n\" style=\"fill: #ffffff\"/>\n  </g>\n  <g id=\"axes_1\">\n   <g clip-path=\"url(#p3d373bf0ba)\">\n    <image xlink:href=\"data:image/png;base64,\niVBORw0KGgoAAAANSUhEUgAAAIYAAACGCAYAAAAYefKRAAAEX0lEQVR4nO3dPSh9cRzH8XP/yFMxkQwUkrIYjKKYMCgWD6WYPBQDmTyUlI1BZhZRhpuRRRncsnkeGCzkYSATEv/5nO+n7gPHPbf7fm2/Tz/Xjz79+nXuPeeGHMf5dgCPf8leAIKJYkCiGJAoBqTMZC8gWU5OTkw2NzdnsnA4/BfLCRx2DEgUAxLFgEQxIIWcNL3y+fX1ZbJIJGKy5uZmk72/v/uypiBhx4BEMSBRDEhpe4FLKSgoMFlmpv0XccZA2qIYkCgGJIoBKW0Pn3t7eybLysoy2cfHx18sJ3DYMSBRDEgUAxLFgJS2h8+dnR2Tra6umqyhocFk+/v7vqwpSNgxIFEMSBQDEsWAlPKHz7KyMpP19fW5xuvr62bOwcGByb6/7accGxsbTcbhE2mLYkCiGJAoBqSUP3wODg6abGZmxjUeGRkxc6anp012d3dnsoqKih+sLnWxY0CiGJAoBqSUP2O8vb1FnVNaWmoyddFL3c/qvVjmOI5ze3vrGs/Ozpo5n5+fUdcVZOwYkCgGJIoBiWJASvkHp+Tk5JhsaGjINe7o6DBzmpqaTKbeXY3F5OSkyZaXlxN6raBgx4BEMSBRDEgUA1LKHz4TVVtba7KqqiqTbW5umsx74H1+fjZzLi4uTNbd3W0y71XUoGDHgEQxIFEMSBQDUtoePmM1Pj5usqWlJddYHT4fHh5Mdnl5abLh4WHX+OnpKd4l+oIdAxLFgEQxIHHGiKKwsNBkp6enrvHZ2ZmZ09bWZrK6ujqTtba2usaLi4txrtAf7BiQKAYkigGJYkDi8JmAqakp11gdGDMyMv5qOb5gx4BEMSBRDEgUA1LK39ScDEdHR1HnDAwMmGxtbc2P5fiCHQMSxYBEMSBRDEiBvfK5tbVlsqurK5Pd39+bbHd31zW+vr7+vYU5jlNdXe0aRyIRM0d9yV59fb3JuK8EKYViQKIYkCgGJN8Pn+3t7SbzPm2msrLSzAmFQiaL9Yk33kc/5+bmmjnqc5oLCwsmOz4+Npn33o+enh4zZ2Njw2RdXV0mC4fDJgsCdgxIFAMSxYDk+xlje3vbZJ2dnVF/7idnjFjE+vo3NzcmOzw8dI3VGUb9jY+PjyarqalxjV9eXsycZGDHgEQxIFEMSBQDku8f7Ts/PzeZ92CmDlwrKysJ/07vO5Z5eXlmjnqMtHqSX3Fxscl6e3sTWldRUZHJxsbGXOP5+fmEXvu3sWNAohiQKAYkigHJ9yuf6uNs3ifhjY6Omjmvr6++rSke6v6Q/v5+11j9jfn5+SZTV1a979SWlJTEu0RfsGNAohiQKAYkigEpsPeVpBL1PSfZ2dkmm5iYMFl5eblr3NLS8nsL+wF2DEgUAxLFgEQxIHH4hMSOAYliQKIYkCgGJIoBiWJAohiQKAYkigGJYkCiGJAoBiSKAYliQKIYkCgGJIoBiWJAohiQKAYkigGJYkCiGJAoBiSKAYliQKIYkCgGJIoBiWJAohiQKAak/2iQ6jQh7amNAAAAAElFTkSuQmCC\" id=\"image82c81d1b44\" transform=\"scale(1 -1) translate(0 -96.48)\" x=\"7.2\" y=\"-6.926897\" width=\"96.48\" height=\"96.48\"/>\n   </g>\n  </g>\n  <g id=\"axes_2\">\n   <g clip-path=\"url(#pb3929116d0)\">\n    <image xlink:href=\"data:image/png;base64,\niVBORw0KGgoAAAANSUhEUgAAAIYAAACGCAYAAAAYefKRAAAES0lEQVR4nO3dPSh9cRzH8XM9hpKHDB4GE1luFhkMFBkNBoNCZCEGSTIwSAwyMVAG3VG6g9xFMchiUIiBTYxSHsog+c/nfD8593//17333P/7tf0+Hff81Kdf37jn3pDjON8O4JGT7g0gM1EMSBQDEsWARDEgUQxIFAMSxYBEMSBRDEgUAxLFgEQxIFEMSBQDEsWARDEgUQxIeenewL+qr6832fr6umv9+Phorjk4ODDZ8fGxyT4+PhLfXIBxYkCiGJAoBiSKASnkBOi5koKCApNtbGyYbGRkJKHXVz8XiUQSeq2g48SARDEgUQxIFANSoIbPqakpk62uribt9S8vL03W0dFhsre3t6TdM1NxYkCiGJAoBiSKASlQw+fz87PJSktLTXZ2duZaHx4emmsmJiZMVl5ebrK1tTWTzc7O/rjPbMCJAYliQKIYkAI1Y7y+vpqsuLjYZG1tba61d+ZwHMcpKysz2cnJicmur69N1t/f/9M2swInBiSKAYliQKIYkAL1XMnd3Z3JmpubTTY9Pe1aR6PRhO/Z19dnMu+zLN/fyZvf1e8Yi8VMtre3l7R7KpwYkCgGJIoBiWJACtRfPru7u022vLxssnA47Frn5CS3/6FQyLVO5vCpfH5+mmxoaMhku7u7SbsnJwYkigGJYkCiGJACNXzGa2ZmxrUeHBw01zQ1NSX8+t7h8/393VyjhmL1dsLq6mrXemVlxVxzf39vsu3tbd99/gtODEgUAxLFgJSVM4ZXbm6uyRYXF002OjpqssrKSpN5Zwz1WENLS4vJurq6TNbT0+NaDwwMmGteXl5M9ts4MSBRDEgUAxLFgPRfDJ/x8j6P4jiOs7S0ZDLvh6mcnp6aazo7O0329fVlsqKiItda/bEsHTgxIFEMSBQDEsWAxPDpo7293WTe7zU5Ojoy16i3IQYJJwYkigGJYkCiGJAC9VBzOlRUVKR7C2nBiQGJYkCiGJAoBiSGTx8lJSW+19zc3KRgJ6nFiQGJYkCiGJCYMXzU1dX5XtPQ0JCCnaQWJwYkigGJYkCiGJAYPn2oB5298vPzU7CT1OLEgEQxIFEMSBQDUsYOn42NjSa7vb391XvW1taaLJ7/rmYjTgxIFAMSxYBEMSBl7PAZiURM9vDwYDL1sYxXV1e+r19YWGiyzc1Nk1VVVZnM+/0kW1tbvvcLGk4MSBQDEsWARDEgZewn6iwsLJhsfn7eZE9PTybb3993rS8uLsw1k5OTJov3vZvn5+eudWtra1w/FyScGJAoBiSKASljZwxlbm7OZGNjYyarqan51X309va61t6ZJhtwYkCiGJAoBiSKASlQw6cSDodNNjw87Frn5dl/Io+Pj5ssGo2aLBaLmWxnZ+cvdhhMnBiQKAYkigGJYkAK/PCJ38GJAYliQKIYkCgGJIoBiWJAohiQKAYkigGJYkCiGJAoBiSKAYliQKIYkCgGJIoBiWJA+gOgyMJKKM2g1AAAAABJRU5ErkJggg==\" id=\"imageea67adc6df\" transform=\"scale(1 -1) translate(0 -96.48)\" x=\"122.648276\" y=\"-6.926897\" width=\"96.48\" height=\"96.48\"/>\n   </g>\n  </g>\n  <g id=\"axes_3\">\n   <g clip-path=\"url(#pdfaae63a4c)\">\n    <image xlink:href=\"data:image/png;base64,\niVBORw0KGgoAAAANSUhEUgAAAIYAAACGCAYAAAAYefKRAAAD30lEQVR4nO3dPyh1cRzH8evxlEFCkRKyGRiVIqVI3U0xGJVJGdgwGAz+pAwWm9VgNInc4U4Gs9JNRDH5k79JPc/25NzP58lJ57jnuu/X9vt20m949+vXdR1lqVTqTwrI86vQG0AyEQYswoBFGLB+F3oD36Gnp0dm2WxWZul0Wma7u7ux7CnpODFgEQYswoBFGLBK4vIZ1sjIiMy4fAIfEAYswoBVEneMp6cnmb29vcmsv7//O7ZTFDgxYBEGLMKARRiwylIl+tW+nZ0dmQ0ODspsampKZhsbG3FsKVE4MWARBizCgEUYsEr28tnX1yezg4MDmd3c3Misrq4uji0lCicGLMKARRiwCANWSfza3cnlcjK7vb2VWVVVlcy6uroC68PDw+g2lhCcGLAIAxZhwCIMWCX7yaczMzMjs8XFRZllMpnA+id+V5QTAxZhwCIMWNwxPmhtbZXZ6empzN7f3wPrlpYWeeb6+jqyfRUCJwYswoBFGLAIAxaXzw/Ky8tltr6+LrOJiYnAemVlRZ6ZnZ2NbmMFwIkBizBgEQYswoDF5fMTzc3NMjs/Pw+s3Rt76uvrZfb6+hrdxmLGiQGLMGARBizCgFWyf1cS1sPDg8xeXl4C68rKSnmmvb1dZkdHR9FtLGacGLAIAxZhwErsHaOmpkZmo6OjMtvc3JSZex30V93d3clsfn4+sF5dXZVn3L+44I6BokcYsAgDFmHASuzlc2xsTGZra2sya2trk9n09HQcW/pne3s7sHaXz87Ozlj3EDdODFiEAYswYBEGrMRePi8vL0M919jYGPNO1NXV1afPdHR0yKy6ulpm9/f3kewpapwYsAgDFmHAIgxYib18ZrPZQm/hvxoaGr70TEVFRRzbiQUnBizCgEUYsAgDVmIvn3FramqS2cDAgMyGh4dl1tvb++nPPzk5kdnj42PI3RUeJwYswoBFGLASe8fIfy1zKuVfUJJOp2U2Pj4eWA8NDckz3d3dMqutrQ21t/zfiO7v78szCwsLMnt+fg7185OAEwMWYcAiDFiEAauo3tq3t7cnsyj/H5l7ScrW1pbMlpeXA+uzs7PI9pAUnBiwCAMWYcAiDFiJ/eTTyeVyMnOXz/xPTS8uLuSZyclJmR0fH8vsJ14sw+DEgEUYsAgDFmHAKqpPPt1X79ynoXNzc4H10tJSbHv6qTgxYBEGLMKARRiwiuryie/DiQGLMGARBizCgEUYsAgDFmHAIgxYhAGLMGARBizCgEUYsAgDFmHAIgxYhAGLMGARBizCgEUYsAgDFmHAIgxYhAGLMGARBizCgEUYsAgDFmHAIgxYfwEfFbcKwQG0kAAAAABJRU5ErkJggg==\" id=\"image8c50ae8de0\" transform=\"scale(1 -1) translate(0 -96.48)\" x=\"238.096552\" y=\"-6.926897\" width=\"96.48\" height=\"96.48\"/>\n   </g>\n  </g>\n  <g id=\"axes_4\">\n   <g clip-path=\"url(#p9171d0b29e)\">\n    <image xlink:href=\"data:image/png;base64,\niVBORw0KGgoAAAANSUhEUgAAAIYAAACGCAYAAAAYefKRAAAEg0lEQVR4nO3dPyh9fxzH8XP1G4iJMCn/kiIpiTLIqAx3IAuLG7IwmUwmA4sySMQmMogiDP5kuIoyYDBYDEjdAUUpftvv1znvV773e7vnnnO/3+dj+7w6997P8OrTp3v+RRzH+XYAj5ygJ4BwohiQKAYkigGJYkCiGJAoBiSKAYliQKIYkCgGJIoBiWJAohiQKAYkigGJYkCiGJAoBiSKAYliQKIYkCgGpH+CnoDjOE5RUZHJotGoyVpbW002MDDgx5QCc3t7a7KZmRmTXV9fmywej6dtHqwYkCgGJIoBiWJAijgB3NRcWFjoGi8vL5tjurq6MjWdrPT09GSyWCxmsrOzM9c4kUgk9f2sGJAoBiSKAYliQApk8zk4OOgaz8/PZ3oKf42hoSHXeGlpKanPsWJAohiQKAakQPYYJycnrnFbW1ump/DXOD09dY3b29uT+hwrBiSKAYliQKIYkAK5tG9ubs41bmpqMsfk5uZmajo/uru7++UxlZWVvs7h8fHRZK+vryabnJw02dHRUUq/yYoBiWJAohiQKAakQDaf6+vrrnF5ebk5ZmpqKkOz+d/e3p7Juru7TRaJRFzjkZER3+bkOI6zs7NjspubG19/kxUDEsWARDEgUQxIgZx291Kbz/39fZNVVVX5Oo+Pjw+Tqbk9Pz/7Oo8wYMWARDEgUQxIodhjKLW1tSY7PDw0WUlJia/zmJ2dNdnExIRr/P7+7uscgsCKAYliQKIYkCgGpNBuPpX+/n6TraysZHwe3vs/vfeH/glYMSBRDEgUAxLFgJRVm8+8vDyT1dTUmGxjY8M1Tvd9H19fX66xeurg2NiYybLpH1JWDEgUAxLFgEQxIGXV5jNZdXV1rvHBwYE5prS01Nc5NDQ0mEy9YySsWDEgUQxIFAMSxYD0R24+verr6022ublpsoqKirT9provprOzM23f7zdWDEgUAxLFgBSKF/L67erqymTb29smGx0dTdtvqpcMqz/V1LvNwoAVAxLFgEQxIFEMSKH4g6ugoMBkOTm2s5+fnyZL9XK5/Px8ky0sLJist7fXZN6n9iVLfZf3MsSwYMWARDEgUQxIFANSIJtP72VvW1tb5piysjKTXVxcmGxtbc1kx8fHrvH5+fnvTvE/Dw8PJkv1KT6Li4smGx4eTum7/MaKAYliQKIYkCgGpEBOu7e0tLjGaqOpqJfqqcz7SOdEIvEbs3NTp89T1djYmLbv8hsrBiSKAYliQKIYkALZfHqfSPP9bf98TfXUtuM4TnFx8Y/joExPTwc9haSxYkCiGJAoBqRQXNoXj8dN1tzcHMBM0uf+/t5k0WjUZJeXl/5PJgWsGJAoBiSKAYliQArFTc19fX0mi8ViJuvp6TFZOh92kk67u7smC+tGU2HFgEQxIFEMSBQDUij++UxWdXW1yTo6On75OXX5n3rBnTqjq878vry8uMbj4+PmmNXVVZO9vb39OM8wYcWARDEgUQxIFANSVm0+kTmsGJAoBiSKAYliQKIYkCgGJIoBiWJAohiQKAYkigGJYkCiGJD+BWCW16ERtKfEAAAAAElFTkSuQmCC\" id=\"imagead97dd384e\" transform=\"scale(1 -1) translate(0 -96.48)\" x=\"353.544828\" y=\"-6.926897\" width=\"96.48\" height=\"96.48\"/>\n   </g>\n  </g>\n  <g id=\"axes_5\">\n   <g clip-path=\"url(#p645917d0bc)\">\n    <image xlink:href=\"data:image/png;base64,\niVBORw0KGgoAAAANSUhEUgAAAIYAAACGCAYAAAAYefKRAAAEkklEQVR4nO3dPyh9fxzH8eNfIQbCiFkmKTL4k2RhoygsFlkkFklZxaCUsuhrM9ykLOqSP4NuYbBJSQYkfweXRPym3/C571f97lfHdY7f87F9Xn0658jLp0/3OuekeZ736QEJ0n/6AhBMFAMSxYBEMSBRDEgUAxLFgEQxIFEMSBQDEsWARDEgUQxIFAMSxYBEMSBRDEgUA1LmT1/Ad8jIyHDGvb29Zs7ExITJysrKTNbf32+ySCTijOPx+N9eYuCxYkCiGJAoBiSKASnN+4X3lTQ1NTnjaDTq6/Gnp6ed8djYmK/HDwJWDEgUAxLFgEQxIIV+81leXm6y09NTZ/z56e+P+Pb25ozb2trMnM3NTV/PmWqsGJAoBiSKAYliQAr95vPo6MhklZWVznh1ddXMWVpaMtno6KjJ6urqTJaWluaMNzY2zJzW1laTKR0dHc54fHzczFGb58HBQZPFYrGkzpkMVgxIFAMSxYAUqn/t6+zsNFlFRYXJ1tfXnXFPT4+Z8/LyYrKLiwuTbW9vmywvL88ZNzY2mjmXl5cmU4qLi51xZqb9lVxfX5vs/v4+qeN/FSsGJIoBiWJAohiQQrX5zM7ONlnih02e53n19fXOuKamxsx5fn42mbrXJCcnx2QfHx/OOPE+Fs/zvJKSEpMpiddxc3Nj5rS3t5vs5OQkqeN/FSsGJIoBiWJAohiQQrX5TFZubq4zVt9+frezszOTzc/Pm2x3d9cZHx4efts1/Q1WDEgUAxLFgEQxIP3KzWeqqY1mbW2tye7u7lJxOb5gxYBEMSBRDEihun2goKDAZKWlpSYbGRlxxvv7+2ZOUVGRyVZWVkymnvg3PDzsjNUtDFVVVSYLE1YMSBQDEsWARDEgheoDroeHh6Syvr4+387Z0tJisvR09+9J/Xth2LFiQKIYkCgGJIoBKVSbz5+QeI+K59n7Sp6enlJ1OSnDigGJYkCiGJAoBqTAbj7z8/NNpl5md3x8bLL393ffrqO6uvo/5ywsLPh2vqBgxYBEMSBRDEgUA1JgN58zMzMmU29N3tnZMVlzc/O3XNO/Hh8fnXHY302isGJAohiQKAakwO4x1IdZSkNDg8kSX/UQiUSSOpZ6t1lhYaHJZmdnnfHV1VVSxw8TVgxIFAMSxYBEMSAFdvOp7tVI9v6N5eVlZ9zV1WXmHBwcmKy7u9tkWVlZJru9vU3qOsKMFQMSxYBEMSBRDEiB3XzG43GTqRfTKomb1Lm5OTNHfSub+Imp5+mX5alvfn8bVgxIFAMSxYBEMSAF9nGO6pHL0WjUZOpldombz2Q3rYp6os7W1taXjxcWrBiQKAYkigGJYkAK7CefsVjMZFNTUyabnJz07ZyLi4sm29vb8+34YcKKAYliQKIYkAK7x1DOz899O5baTwwNDZns9fXVt3OGCSsGJIoBiWJAohiQAvvtqqK+SVUPSVlbW3PGf/78MXMGBgZM9n/daCqsGJAoBiSKAYliQArV5hOpw4oBiWJAohiQKAYkigGJYkCiGJAoBiSKAYliQKIYkCgGJIoBiWJAohiQKAYkigGJYkD6B5b65hQcYMTMAAAAAElFTkSuQmCC\" id=\"image32f823d56a\" transform=\"scale(1 -1) translate(0 -96.48)\" x=\"468.993103\" y=\"-6.926897\" width=\"96.48\" height=\"96.48\"/>\n   </g>\n  </g>\n  <g id=\"axes_6\">\n   <g clip-path=\"url(#p04657b5b10)\">\n    <image xlink:href=\"data:image/png;base64,\niVBORw0KGgoAAAANSUhEUgAAAIYAAACGCAYAAAAYefKRAAAETklEQVR4nO3dSyhEfRzG8TNvLrmlyMKCsEFJsqBYiZTULBBlSdlZ2iiXLJQNVhayQFkoJaVYuC2kZiuXlJ3IQhaUEvGuz/yetzOdxjlner+f3f/pzJmfevr3b8bMxBzH+XWAJP+EPQCiiWJAohiQKAYkigGJYkCiGJAoBiSKASkr7AEyUXFxsWt9eHhormlpaTFZY2Ojya6vr9M3WBqxY0CiGJAoBiTOGD709fW51uo8ocTjcZNxxkBGoRiQKAYkigGJw2eAXl9fwx4hZewYkCgGJIoBiWJA4vDpQ0dHh+c1Hx8fJjs+Pv6Lcf4EOwYkigGJYkCiGJA4fHooLS01WXt7u+fjEomEye7v79MyUxDYMSBRDEgUAxLFgMTh00N9fb3Jqqqqgh8kYOwYkCgGJIoBiTOGh7KyMl+POz09TfMkwWLHgEQxIFEMSBQDEodPD0NDQ74ed3Nzk+ZJgsWOAYliQKIYkCgGpP/t4TMnJ8dk+fn5JsvOzva81++v/cmXr68vf4NFBDsGJIoBiWJAohiQYk6G/1heXV2dyTo7O11r9XWLNTU1Jmtra/M1w+Pjo8kqKyt93Ssq2DEgUQxIFANSZF/gysqyo62urpqsv7/fZIWFhX8y039RL4xVVFSY7OHhIYhx0oIdAxLFgEQxIFEMSJF4gSs3N9dkm5ubJhsYGDDZ5+enyV5eXlzrwcFBc83d3V1Ks42NjZlsfn7e83Hqd9J6e3tTes4oYMeARDEgUQxIFANSKIfPgoIC13ptbc1cow6MyujoqMnW19c9H6fu//T0ZLK3tzeTnZ+fu9bJf4/j6A81d3V1ec4VFewYkCgGJIoBiWJACuVt9+rqatdaHQS/v79NNjIyYrK9vT1fM/T09JhseHjYZFtbWyaLxWKe97+9vfU1V1SwY0CiGJAoBiSKASmUVz5bW1td64uLC3ON+rG5oqKitM3Q0NBgspOTE5Op3ytJ9vPzY7J4PG6yg4ODFKcLHzsGJIoBiWJACuUFru7u7jCe1uXq6spkU1NTJltZWTFZ8llkcXHRXJNJ5wmFHQMSxYBEMSBRDEihHD53d3dd69nZWXNNXl6eyZaWlky2sLBgsufnZ19zqedUmpubXeuzszNfzxdl7BiQKAYkigGJYkAK5d3V5H+Nm5ubM9dMTk6mdK/t7W2TJf+7XyKRMNfU1taabGdnx2Tq23I2NjZca/XZFvU10pmEHQMSxYBEMSBRDEiR+Ead8vJyk+3v75usqakpgGncLi8vTTYxMeFaHx0dBTVOYNgxIFEMSBQDEsWAFInDp1JSUmKy8fFxk83MzHjeK5UPITuO4ywvL5tsenraZO/v7yndL5OxY0CiGJAoBqTInjEQLnYMSBQDEsWARDEgUQxIFAMSxYBEMSBRDEgUAxLFgEQxIFEMSBQDEsWARDEgUQxIFAMSxYBEMSBRDEgUAxLFgEQxIFEMSBQDEsWARDEg/QvJRbrQxF68CwAAAABJRU5ErkJggg==\" id=\"imagecbdad0070e\" transform=\"scale(1 -1) translate(0 -96.48)\" x=\"7.2\" y=\"-127.886897\" width=\"96.48\" height=\"96.48\"/>\n   </g>\n  </g>\n  <g id=\"axes_7\">\n   <g clip-path=\"url(#pf103407c8e)\">\n    <image xlink:href=\"data:image/png;base64,\niVBORw0KGgoAAAANSUhEUgAAAIYAAACGCAYAAAAYefKRAAAEd0lEQVR4nO3cvyu2URzH8ft+QsqPEiUyEPkRReIPsBgMwsBgwmLFgIUw3MokEwZikLIwICxWlCgsVkmy+zF45nN9P8/jeu4f7stzvV/b+XZczvDp9O1c576ikUjkMwJ4/Er3AhBMBAMSwYBEMCARDEgEAxLBgEQwIBEMSAQDEsGARDAgEQxIGelewHeIxWKmNjExYWqfn/ZF88PDg6nNzc0545WVlQRWF0zsGJAIBiSCAYlgQIpGQnC17/z83NRaWlpMTTWfyvX1tTNuamqKa11Bxo4BiWBAIhiQCAakUJx8Kn4bzYWFBVObnZ1N9nIChx0DEsGARDAgEQxIoW0+o9GoqamGtK2tzdTGx8dTsqYgYceARDAgEQxIBANSKF679/b2mtr29rapqebz4+PD1Kanp53x/Px8AqsLJnYMSAQDEsGAFIoeo7Gx0dSOj49NraioyNfzuNqH0CIYkAgGJIIBKRTNp9LX12dqW1tbvv727e3NGXd3d5s5h4eH8S0sINgxIBEMSAQDEsGAFNqrfXd3d6b28vJiaoWFhaaWnZ3tjFtbW80cmk/8lwgGJIIBiWBACmzzOTY2ZmrqtDJeq6urpqY+3aiaT+8VwMnJSTNHfcXnJzWk7BiQCAYkggEpEG9XR0ZGTE1dyc/MzPyO5STF6empqanfwQYVOwYkggGJYEAiGJDS0nyWlpY649vbWzMnPz/f17MuLy9Nrbq62hnn5OSYOX4/nBKvx8dHU2tubja1p6enpP3PZGLHgEQwIBEMSAQDUlrerno/ZOK30by6ujK19vZ2U6urq3PGeXl5vp4/MDBgag0NDaZWW1v75bNKSkpMbWdnx9R6enqc8fPz85fP/g7sGJAIBiSCAYlgQErLyWdlZaUzVlfevHP+ZHFx0dS8V+1eX1//YXWugoICU1teXnbGqgH221DPzMz8dZwu7BiQCAYkggGJYEAKxJ3PqqoqU9vf3/c1Tzk6OnLGU1NTZs7Z2ZnP1X2ts7PT1DY3N01NncC+v787Y/V1noODgwRWFx92DEgEAxLBgBSI367e39+bWkdHh6mNjo6a2vDwsKl5D5zq6+vNnP7+flNTfYefwzG1fvURFtVjZGVlOWPvtcRIhB4DAUIwIBEMSAQDUiAOuPxK9kGYl2ryLi4uTC0WiznjjY0NM0cdVKlre3t7e854aWnJzLm5ubGLTTF2DEgEAxLBgEQwIP2o5lNRjebu7q4zLisrM3P8/tZE8TapNTU1Zk5Ghj1UVr9HSeTaYSqxY0AiGJAIBiSCAenHN59+lJeXm1pXV5epDQ0NmZp6ZR8v9fy1tbWkPT+Z2DEgEQxIBAMSwYAUiubTL3VCqu6GemvqqzvK4OCgqa2vr/tb3Ddjx4BEMCARDEj0GHEoLi52xicnJ2ZObm6uqVVUVKRsTcnGjgGJYEAiGJAIBiSaT0jsGJAIBiSCAYlgQCIYkAgGJIIBiWBAIhiQCAYkggGJYEAiGJAIBiSCAYlgQCIYkAgGJIIBiWBAIhiQCAYkggHpNzEk6cKAuX9aAAAAAElFTkSuQmCC\" id=\"image76098683a9\" transform=\"scale(1 -1) translate(0 -96.48)\" x=\"122.648276\" y=\"-127.886897\" width=\"96.48\" height=\"96.48\"/>\n   </g>\n  </g>\n  <g id=\"axes_8\">\n   <g clip-path=\"url(#pa96c457997)\">\n    <image xlink:href=\"data:image/png;base64,\niVBORw0KGgoAAAANSUhEUgAAAIYAAACGCAYAAAAYefKRAAACyElEQVR4nO3cIUurYRjH4XdHEcPEZBSDH0AMS/YZrIqfwOoHspsEhSUFg2CR5bVhE2yC2CyednDn+cN2PNN323td7b3Z5BF+3DyMaauqqo8K/vKr7gMwm4RBJAwiYRAJg0gYRMIgEgaRMIiEQSQMImEQCYNIGETCIBIGkTCIhEG0XPcBZkm32y1m19fXY993eXlZzA4PD6dyprrYGETCIBIGkTCIWpW/K/nj/v6+mO3t7Y193/v7ezFbXV2dypnqYmMQCYNIGETCIPLJ5ydPT091H2Fm2BhEwiASBpEwiFw+P7m9vS1mx8fHNZykfjYGkTCIhEHU2DvG2dlZMTs6OprovS8vLyPPJycnUznTLLExiIRBJAwiYRA14vK5srJSzA4ODorZ+vr6RD/v/Px85Pnq6uprB5thNgaRMIiEQSQMokZcPnd3d4tZu93+8s97eHj4n+PMBRuDSBhEwiASBlEjLp+dTqeYra2t1XCS+WFjEAmDSBhEjbhjLC0tTfS6VqtVzD4+mvl/ZWwMImEQCYNIGESNuHxOqqkXzcTGIBIGkTCIhEHk8jnG4+NjMbu7u/v5g/wwG4NIGETCIBIGkcvnGG9vb8Xs+fm5hpP8LBuDSBhEwiASBpEwiIRBJAwiYRAJg0gYRMIgEgaRMIiEQSQMImEQCYNIGES+2jfGYDCo+wi1sDGIhEEkDCJhELWqqlr4fyMzHA6L2fb2djHr9/vFbH9/v5i9vr5O52AzzMYgEgaRMIiEQbSQn3xubGyMPG9tbU30vnSpbMJFM7ExiIRBJAyihbxjnJ6ejjwvL0/2a15cXHzHceaSjUEkDCJhEAmDaCEvnzc3NyPPOzs7xWs2NzeLWa/X+7YzzRsbg0gYRMIgEgZRI77ax7+zMYiEQSQMImEQCYNIGETCIBIGkTCIhEEkDCJhEAmDSBhEwiASBpEwiIRB9BuVnlFkr5SMHgAAAABJRU5ErkJggg==\" id=\"image22ab8eb9e1\" transform=\"scale(1 -1) translate(0 -96.48)\" x=\"238.096552\" y=\"-127.886897\" width=\"96.48\" height=\"96.48\"/>\n   </g>\n  </g>\n  <g id=\"axes_9\">\n   <g clip-path=\"url(#p9b9736e343)\">\n    <image xlink:href=\"data:image/png;base64,\niVBORw0KGgoAAAANSUhEUgAAAIYAAACGCAYAAAAYefKRAAAC3ElEQVR4nO3dwSrsYRjH8ZmTjZKFhZ3JStlgw5W4BDdh7S4UF2Bvq6xRZCcLWYkpC1lR52yd8/w6hPGf6f18dp6m5k3fnt7+DP1er/e7B//41fUBGE/CIBIGkTCIhEEkDCJhEAmDSBhEwiASBpEwiIRBJAwiYRAJg0gYRMIgmur6AD9hYWGhzC4vL8tsf3+/zHZ2dsrs8fHxew42xmwMImEQCYNIGET9XgOfK9na2iqz3d3dMuv3+2W2vr5eZqenp99zsDFmYxAJg0gYRMIgauLJ52Aw+NDr7u/vy+zm5uabTzMZbAwiYRAJg0gYRE1cPj/q6empzIbDYQcn6Z6NQSQMImEQNXHHODs7+9DrFhcXy2xtba3Mzs/Pv3agCWBjEAmDSBhEwiBq4vJ5eHhYZldXV2W2tLRUZlNTTXyLChuDSBhEwiASBlETN6vX19cye3l56eAkk8PGIBIGkTCIhEHUxOXzK1ZXV8vMh5ppljCIhEHkjvGOzc3NMtvb2+vgJD/LxiASBpEwiIRB1OzlM31ONVleXh7xScaTjUEkDCJhEAmDqIk/GZ2kJ5oHBwdlln4FcGNj46+vLy4uvu9gY8LGIBIGkTCIhEHU7JPP4+PjMkt/Mnp+fr7MpqenR3KmcWJjEAmDSBhEwiBq9vL58PBQZnd3d2WWLp8tsDGIhEEkDKJm7xhf4QEXzRIGkTCIhEHk8vnG0dFRma2srJTZzMzMTxynUzYGkTCIhEEkDCKXzzfST1yT2dnZEZ+kezYGkTCIhEEkDCKXz0+Ym5vr+ggjZ2MQCYNIGETCIHL5/ISTk5OujzByNgaRMIiEQeSO8Y7n5+cyGw6HHZzkZ9kYRMIgEgaRMIgm6vI5GAzK7Pb2dqTvub29XWbX19cjfc9xYGMQCYNIGETCIGr2/5XwfzYGkTCIhEEkDCJhEAmDSBhEwiASBpEwiIRBJAwiYRAJg0gYRMIgEgaRMIj+ABWKYq065Sj4AAAAAElFTkSuQmCC\" id=\"image1f56a57279\" transform=\"scale(1 -1) translate(0 -96.48)\" x=\"353.544828\" y=\"-127.886897\" width=\"96.48\" height=\"96.48\"/>\n   </g>\n  </g>\n  <g id=\"axes_10\">\n   <g clip-path=\"url(#p4d98c3b590)\">\n    <image xlink:href=\"data:image/png;base64,\niVBORw0KGgoAAAANSUhEUgAAAIYAAACGCAYAAAAYefKRAAAEIklEQVR4nO3dPy9sQRjH8cGtVqnxDpaIhhrRUSFRikqlokSiIKi8AHQbVETNS5CgEzWdPyUdbn32+SaOte6es/f76ebJ5NwpfnfyZM7O0ZFS+kxSnc5WL0DFZDCEDIaQwRAyGEIGQ8hgCBkMIYMh9KfVC/iOubm5UFtYWAi18/PzzHhnZ+fX1tSu3DGEDIaQwRDqSCV6u/r4+BhqPT09ofb29pYZn52dhTnz8/PNW1gbcscQMhhCBkPIYAgVtvmcmZkJtZOTk1D7/IzL7+jo+HJOb29vqD0/P39niW3NHUPIYAgZDCGDIVTY5pPc3t6GWrVaDbU8zef19XWoTU5Ohtr/2pC6YwgZDCGDIWQwhErVfNJpaK1WC7VKpZIZ5zkdTSmlra2tUFtfX//OEtuGO4aQwRAyGEIGQ6hUzSdZW1sLtc3Nzcw4b/NJ87q6un6wuvJyxxAyGEIGQ6j0PQY5PT3NjKempsKcvD3G4uJiqO3v7/9gdeXgjiFkMIQMhpDBEGrL5nN4eDgzvry8DHPyNp8PDw+htry8nBnTpemyc8cQMhhCBkPIYAiVvvns6+sLtbu7u8yY3sBubGyEWt63sPX3W8bHx8Ocst9HcccQMhhCBkPIYAgVtvmkOySrq6uhlqf5JPWnoyk1/hPAi4uLMIcuSJeJO4aQwRAyGEKF6DHqf+6fUkorKyuhlveNaJ4PpzT6LJrXjvdg3TGEDIaQwRAyGEKFaD4/Pj5CrZkNYyuaT3rW7OxsqBX1Z4HuGEIGQ8hgCBkMoUI0n+/v76GWtxF8enoKNboLUm9oaKjhf7PR5jPPCenx8XGYk+dtcbO5YwgZDCGDIWQwhArRfP7k5JOaz7GxscyYmreJiYlQo1f9IyMjX66tmaeo9X9lOiX+q9K/fWLqjiFkMIQMhpDBECpE81n/+cWUfvYJxpeXl8x4e3s7zDk6Ogo1uog8Ojoaaru7u5nxb5+i0h8JHBwcDLVmcscQMhhCBkOoED1Gd3d3qNGX9vr7+0Ot0Z/20RvYvb29UKPDsfpDr6WlpYbWRfM6O+P/VeoxBgYGQq2Z3DGEDIaQwRAyGEKFaD7zavQgrCj3SvLMu7m5CXPoIyy//VVAdwwhgyFkMIQMhtCfVi/gO+gnbvR1v1qt9uWzqBFsdF4zn3VwcBBqrfj8tDuGkMEQMhhCBkOoVM3n6+trqB0eHoba/f19Zjw9PR3m0H0R+vx0pVIJNTrVbGROSvFeDN2TaQV3DCGDIWQwhAyGUKleu/82aj7plXe1Wv3yWfT7VKrVP//q6urLZ/8L7hhCBkPIYAjZYwi5YwgZDCGDIWQwhAyGkMEQMhhCBkPIYAgZDCGDIWQwhAyGkMEQMhhCBkPIYAgZDCGDIWQwhAyGkMEQMhhCBkPIYAgZDCGDIWQwhP4ChmFUupkIG8IAAAAASUVORK5CYII=\" id=\"image8d34483729\" transform=\"scale(1 -1) translate(0 -96.48)\" x=\"468.993103\" y=\"-127.886897\" width=\"96.48\" height=\"96.48\"/>\n   </g>\n  </g>\n </g>\n <defs>\n  <clipPath id=\"p3d373bf0ba\">\n   <rect x=\"7.2\" y=\"7.2\" width=\"96.206897\" height=\"96.206897\"/>\n  </clipPath>\n  <clipPath id=\"pb3929116d0\">\n   <rect x=\"122.648276\" y=\"7.2\" width=\"96.206897\" height=\"96.206897\"/>\n  </clipPath>\n  <clipPath id=\"pdfaae63a4c\">\n   <rect x=\"238.096552\" y=\"7.2\" width=\"96.206897\" height=\"96.206897\"/>\n  </clipPath>\n  <clipPath id=\"p9171d0b29e\">\n   <rect x=\"353.544828\" y=\"7.2\" width=\"96.206897\" height=\"96.206897\"/>\n  </clipPath>\n  <clipPath id=\"p645917d0bc\">\n   <rect x=\"468.993103\" y=\"7.2\" width=\"96.206897\" height=\"96.206897\"/>\n  </clipPath>\n  <clipPath id=\"p04657b5b10\">\n   <rect x=\"7.2\" y=\"128.16\" width=\"96.206897\" height=\"96.206897\"/>\n  </clipPath>\n  <clipPath id=\"pf103407c8e\">\n   <rect x=\"122.648276\" y=\"128.16\" width=\"96.206897\" height=\"96.206897\"/>\n  </clipPath>\n  <clipPath id=\"pa96c457997\">\n   <rect x=\"238.096552\" y=\"128.16\" width=\"96.206897\" height=\"96.206897\"/>\n  </clipPath>\n  <clipPath id=\"p9b9736e343\">\n   <rect x=\"353.544828\" y=\"128.16\" width=\"96.206897\" height=\"96.206897\"/>\n  </clipPath>\n  <clipPath id=\"p4d98c3b590\">\n   <rect x=\"468.993103\" y=\"128.16\" width=\"96.206897\" height=\"96.206897\"/>\n  </clipPath>\n </defs>\n</svg>\n"
     },
     "metadata": {},
     "output_type": "display_data"
    },
    {
     "data": {
      "text/plain": "<Figure size 1000x400 with 10 Axes>",
      "image/svg+xml": "<?xml version=\"1.0\" encoding=\"utf-8\" standalone=\"no\"?>\n<!DOCTYPE svg PUBLIC \"-//W3C//DTD SVG 1.1//EN\"\n  \"http://www.w3.org/Graphics/SVG/1.1/DTD/svg11.dtd\">\n<svg xmlns:xlink=\"http://www.w3.org/1999/xlink\" width=\"572.4pt\" height=\"231.566897pt\" viewBox=\"0 0 572.4 231.566897\" xmlns=\"http://www.w3.org/2000/svg\" version=\"1.1\">\n <metadata>\n  <rdf:RDF xmlns:dc=\"http://purl.org/dc/elements/1.1/\" xmlns:cc=\"http://creativecommons.org/ns#\" xmlns:rdf=\"http://www.w3.org/1999/02/22-rdf-syntax-ns#\">\n   <cc:Work>\n    <dc:type rdf:resource=\"http://purl.org/dc/dcmitype/StillImage\"/>\n    <dc:date>2023-08-06T11:37:43.187968</dc:date>\n    <dc:format>image/svg+xml</dc:format>\n    <dc:creator>\n     <cc:Agent>\n      <dc:title>Matplotlib v3.7.2, https://matplotlib.org/</dc:title>\n     </cc:Agent>\n    </dc:creator>\n   </cc:Work>\n  </rdf:RDF>\n </metadata>\n <defs>\n  <style type=\"text/css\">*{stroke-linejoin: round; stroke-linecap: butt}</style>\n </defs>\n <g id=\"figure_1\">\n  <g id=\"patch_1\">\n   <path d=\"M 0 231.566897 \nL 572.4 231.566897 \nL 572.4 0 \nL 0 0 \nz\n\" style=\"fill: #ffffff\"/>\n  </g>\n  <g id=\"axes_1\">\n   <g clip-path=\"url(#pc37eeff63a)\">\n    <image xlink:href=\"data:image/png;base64,\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\" id=\"image68a94b6222\" transform=\"scale(1 -1) translate(0 -96.48)\" x=\"7.2\" y=\"-6.926897\" width=\"96.48\" height=\"96.48\"/>\n   </g>\n  </g>\n  <g id=\"axes_2\">\n   <g clip-path=\"url(#p18879d5845)\">\n    <image xlink:href=\"data:image/png;base64,\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\" id=\"image5bd14d6689\" transform=\"scale(1 -1) translate(0 -96.48)\" x=\"122.648276\" y=\"-6.926897\" width=\"96.48\" height=\"96.48\"/>\n   </g>\n  </g>\n  <g id=\"axes_3\">\n   <g clip-path=\"url(#paf2047f675)\">\n    <image xlink:href=\"data:image/png;base64,\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\" id=\"imageda0d30466c\" transform=\"scale(1 -1) translate(0 -96.48)\" x=\"238.096552\" y=\"-6.926897\" width=\"96.48\" height=\"96.48\"/>\n   </g>\n  </g>\n  <g id=\"axes_4\">\n   <g clip-path=\"url(#p55ed32938a)\">\n    <image xlink:href=\"data:image/png;base64,\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\" id=\"imageef29761a2f\" transform=\"scale(1 -1) translate(0 -96.48)\" x=\"353.544828\" y=\"-6.926897\" width=\"96.48\" height=\"96.48\"/>\n   </g>\n  </g>\n  <g id=\"axes_5\">\n   <g clip-path=\"url(#p0fbb9809a2)\">\n    <image xlink:href=\"data:image/png;base64,\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\" id=\"imagef4a5865ce4\" transform=\"scale(1 -1) translate(0 -96.48)\" x=\"468.993103\" y=\"-6.926897\" width=\"96.48\" height=\"96.48\"/>\n   </g>\n  </g>\n  <g id=\"axes_6\">\n   <g clip-path=\"url(#p4958366294)\">\n    <image xlink:href=\"data:image/png;base64,\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\" id=\"imagecf19308f94\" transform=\"scale(1 -1) translate(0 -96.48)\" x=\"7.2\" y=\"-127.886897\" width=\"96.48\" height=\"96.48\"/>\n   </g>\n  </g>\n  <g id=\"axes_7\">\n   <g clip-path=\"url(#pdc91947e9e)\">\n    <image xlink:href=\"data:image/png;base64,\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\" id=\"image62ca1484f2\" transform=\"scale(1 -1) translate(0 -96.48)\" x=\"122.648276\" y=\"-127.886897\" width=\"96.48\" height=\"96.48\"/>\n   </g>\n  </g>\n  <g id=\"axes_8\">\n   <g clip-path=\"url(#p9b2ebd3d29)\">\n    <image xlink:href=\"data:image/png;base64,\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\" id=\"imagea609a2dd8c\" transform=\"scale(1 -1) translate(0 -96.48)\" x=\"238.096552\" y=\"-127.886897\" width=\"96.48\" height=\"96.48\"/>\n   </g>\n  </g>\n  <g id=\"axes_9\">\n   <g clip-path=\"url(#pa1c8d04b19)\">\n    <image xlink:href=\"data:image/png;base64,\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\" id=\"imagec373908987\" transform=\"scale(1 -1) translate(0 -96.48)\" x=\"353.544828\" y=\"-127.886897\" width=\"96.48\" height=\"96.48\"/>\n   </g>\n  </g>\n  <g id=\"axes_10\">\n   <g clip-path=\"url(#p3c54f2f505)\">\n    <image xlink:href=\"data:image/png;base64,\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\" id=\"image148d691290\" transform=\"scale(1 -1) translate(0 -96.48)\" x=\"468.993103\" y=\"-127.886897\" width=\"96.48\" height=\"96.48\"/>\n   </g>\n  </g>\n </g>\n <defs>\n  <clipPath id=\"pc37eeff63a\">\n   <rect x=\"7.2\" y=\"7.2\" width=\"96.206897\" height=\"96.206897\"/>\n  </clipPath>\n  <clipPath id=\"p18879d5845\">\n   <rect x=\"122.648276\" y=\"7.2\" width=\"96.206897\" height=\"96.206897\"/>\n  </clipPath>\n  <clipPath id=\"paf2047f675\">\n   <rect x=\"238.096552\" y=\"7.2\" width=\"96.206897\" height=\"96.206897\"/>\n  </clipPath>\n  <clipPath id=\"p55ed32938a\">\n   <rect x=\"353.544828\" y=\"7.2\" width=\"96.206897\" height=\"96.206897\"/>\n  </clipPath>\n  <clipPath id=\"p0fbb9809a2\">\n   <rect x=\"468.993103\" y=\"7.2\" width=\"96.206897\" height=\"96.206897\"/>\n  </clipPath>\n  <clipPath id=\"p4958366294\">\n   <rect x=\"7.2\" y=\"128.16\" width=\"96.206897\" height=\"96.206897\"/>\n  </clipPath>\n  <clipPath id=\"pdc91947e9e\">\n   <rect x=\"122.648276\" y=\"128.16\" width=\"96.206897\" height=\"96.206897\"/>\n  </clipPath>\n  <clipPath id=\"p9b2ebd3d29\">\n   <rect x=\"238.096552\" y=\"128.16\" width=\"96.206897\" height=\"96.206897\"/>\n  </clipPath>\n  <clipPath id=\"pa1c8d04b19\">\n   <rect x=\"353.544828\" y=\"128.16\" width=\"96.206897\" height=\"96.206897\"/>\n  </clipPath>\n  <clipPath id=\"p3c54f2f505\">\n   <rect x=\"468.993103\" y=\"128.16\" width=\"96.206897\" height=\"96.206897\"/>\n  </clipPath>\n </defs>\n</svg>\n"
     },
     "metadata": {},
     "output_type": "display_data"
    }
   ],
   "source": [
    "# Call the function with matrix_B_final dataframe or numpy array\n",
    "plot_mnist(matrix_B_final_test, n_images, indices)\n",
    "\n",
    "plot_mnist(matrix_B_calculated_test, n_images, indices)"
   ]
  },
  {
   "cell_type": "code",
   "execution_count": 31,
   "id": "b6ae86a425653df8",
   "metadata": {
    "collapsed": false,
    "jupyter": {
     "outputs_hidden": false
    },
    "ExecuteTime": {
     "end_time": "2023-08-06T08:37:13.431014600Z",
     "start_time": "2023-08-06T08:37:13.408952200Z"
    }
   },
   "outputs": [],
   "source": []
  }
 ],
 "metadata": {
  "kernelspec": {
   "display_name": "Python 3 (ipykernel)",
   "language": "python",
   "name": "python3"
  },
  "language_info": {
   "codemirror_mode": {
    "name": "ipython",
    "version": 3
   },
   "file_extension": ".py",
   "mimetype": "text/x-python",
   "name": "python",
   "nbconvert_exporter": "python",
   "pygments_lexer": "ipython3",
   "version": "3.9.16"
  }
 },
 "nbformat": 4,
 "nbformat_minor": 5
}
