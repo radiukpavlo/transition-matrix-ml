{
 "cells": [
  {
   "cell_type": "markdown",
   "metadata": {
    "id": "Vex99np2wFVt"
   },
   "source": [
    "# 03. PyTorch Computer Vision Exercise Solutions\n",
    "\n",
    "The following is one possible set (there may be more than one way to do things) of solutions for the 03. PyTorch Computer Vision exercise template.\n",
    "\n",
    "## Resources\n",
    "\n",
    "1. These exercises/solutions are based on [notebook 03 of the Learn PyTorch for Deep Learning course](https://www.learnpytorch.io/03_pytorch_computer_vision/). \n",
    "2. See a live [walkthrough of the solutions (errors and all) on YouTube](https://youtu.be/_PibmqpEyhA). \n",
    "  * **Note:** Going through these exercises took me just over 3 hours, so you should expect around the same.\n",
    "3. See [other solutions on the course GitHub](https://github.com/mrdbourke/pytorch-deep-learning/tree/main/extras/solutions)."
   ]
  },
  {
   "cell_type": "code",
   "execution_count": 1,
   "metadata": {
    "colab": {
     "base_uri": "https://localhost:8080/"
    },
    "id": "GaeYzOTLwWh2",
    "outputId": "17dd5453-9639-4b01-aa18-7ddbfd5c3253"
   },
   "outputs": [],
   "source": [
    "# Check for GPU\n",
    "# !nvidia-smi"
   ]
  },
  {
   "cell_type": "code",
   "execution_count": 2,
   "metadata": {
    "ExecuteTime": {
     "end_time": "2023-07-28T12:52:56.063881700Z",
     "start_time": "2023-07-28T12:52:53.697039500Z"
    },
    "colab": {
     "base_uri": "https://localhost:8080/",
     "height": 53
    },
    "id": "DNwZLMbCzJLk",
    "outputId": "9c150c50-a092-4f34-9d33-b45247fb080d"
   },
   "outputs": [
    {
     "name": "stderr",
     "output_type": "stream",
     "text": [
      "C:\\Users\\radiu\\anaconda3\\envs\\courses\\lib\\site-packages\\tqdm\\auto.py:21: TqdmWarning: IProgress not found. Please update jupyter and ipywidgets. See https://ipywidgets.readthedocs.io/en/stable/user_install.html\n",
      "  from .autonotebook import tqdm as notebook_tqdm\n"
     ]
    },
    {
     "name": "stdout",
     "output_type": "stream",
     "text": [
      "1.13.1+cpu\n"
     ]
    },
    {
     "data": {
      "text/plain": [
       "'cpu'"
      ]
     },
     "execution_count": 2,
     "metadata": {},
     "output_type": "execute_result"
    }
   ],
   "source": [
    "# Import torch\n",
    "import torch\n",
    "\n",
    "# Exercises require PyTorch > 1.10.0\n",
    "print(torch.__version__)\n",
    "\n",
    "# Setup device agnostic code\n",
    "device = \"cuda\" if torch.cuda.is_available() else \"cpu\"\n",
    "device"
   ]
  },
  {
   "cell_type": "markdown",
   "metadata": {
    "id": "FSFX7tc1w-en"
   },
   "source": [
    "## 1. What are 3 areas in industry where computer vision is currently being used?"
   ]
  },
  {
   "cell_type": "markdown",
   "metadata": {
    "id": "CmB6iAzN1X4u"
   },
   "source": [
    "1. Self-driving cars, such as Tesla using computer vision to percieve what's happening on the road. See Tesla AI day for more - https://youtu.be/j0z4FweCy4M\n",
    "2. Healthcare imaging, such as using computer vision to help interpret X-rays. Google also uses computer vision for detecting polyps in the intenstines - https://ai.googleblog.com/2021/08/improved-detection-of-elusive-polyps.html\n",
    "3. Security, computer vision can be used to detect whether someone is invading your home or not - https://store.google.com/au/product/nest_cam_battery?hl=en-GB"
   ]
  },
  {
   "cell_type": "markdown",
   "metadata": {
    "id": "oBK-WI6YxDYa"
   },
   "source": [
    "## 2. Search \"what is overfitting in machine learning\" and write down a sentence about what you find. "
   ]
  },
  {
   "cell_type": "markdown",
   "metadata": {
    "id": "bMLaps1J3pJ_"
   },
   "source": [
    "Overfitting is like memorizing for a test, but then you can't answer a question that's slightly different.\n",
    "\n",
    "In other words, if a model is overfitting, it's learning the training data *too well* and these patterns don't generalize to unseen data."
   ]
  },
  {
   "cell_type": "markdown",
   "metadata": {
    "id": "XeYFEqw8xK26"
   },
   "source": [
    "## 3. Search \"ways to prevent overfitting in machine learning\", write down 3 of the things you find and a sentence about each. \n",
    "> **Note:** there are lots of these, so don't worry too much about all of them, just pick 3 and start with those."
   ]
  },
  {
   "cell_type": "markdown",
   "metadata": {
    "id": "i9Hdd08s4kvN"
   },
   "source": [
    "See this article for some ideas: https://elitedatascience.com/overfitting-in-machine-learning \n",
    "\n",
    "3 ways to prevent overfitting:\n",
    "1. **Regularization techniques** - You could use [dropout on your neural networks](https://en.wikipedia.org/wiki/Dilution_(neural_networks)), dropout involves randomly removing neurons in different layers so that the remaining neurons hopefully learn more robust weights/patterns.\n",
    "2. **Use a different model** - maybe the model you're using for a specific problem is too complicated, as in, it's learning the data too well because it has so many layers. You could remove some layers to simplify your model. Or you could pick a totally different model altogether, one that may be more suited to your particular problem. Or... you could also use [transfer learning](https://en.wikipedia.org/wiki/Transfer_learning) (taking the patterns from one model and applying them to your own problem). \n",
    "3. **Reduce noise in data/cleanup dataset/introduce data augmentation techniques** - If the model is learning the data too well, it might be just memorizing the data, including the noise. One option would be to remove the noise/clean up the dataset or if this doesn't, you can introduce artificial noise through the use of data augmentation to artificially increase the diversity of your training dataset."
   ]
  },
  {
   "cell_type": "markdown",
   "metadata": {
    "id": "DKdEEFEqxM-8"
   },
   "source": [
    "## 4. Spend 20-minutes reading and clicking through the [CNN Explainer website](https://poloclub.github.io/cnn-explainer/).\n",
    "\n",
    "* Upload your own example image using the \"upload\" button on the website and see what happens in each layer of a CNN as your image passes through it."
   ]
  },
  {
   "cell_type": "markdown",
   "metadata": {
    "id": "rnUox1qayDes"
   },
   "source": [
    "The CNN explainer website is a great insight into all the nuts and bolts of a convolutional neural network."
   ]
  },
  {
   "cell_type": "markdown",
   "metadata": {
    "id": "lvf-3pODxXYI"
   },
   "source": [
    "## 5. Load the [`torchvision.datasets.MNIST()`](https://pytorch.org/vision/stable/generated/torchvision.datasets.MNIST.html#torchvision.datasets.MNIST) train and test datasets."
   ]
  },
  {
   "cell_type": "code",
   "execution_count": 3,
   "metadata": {
    "ExecuteTime": {
     "end_time": "2023-07-28T12:52:56.529476800Z",
     "start_time": "2023-07-28T12:52:56.065877800Z"
    },
    "id": "rV7s2qtIyDIZ"
   },
   "outputs": [
    {
     "name": "stderr",
     "output_type": "stream",
     "text": [
      "C:\\Users\\radiu\\anaconda3\\envs\\courses\\lib\\site-packages\\torchvision\\io\\image.py:13: UserWarning: Failed to load image Python extension: [WinError 127] The specified procedure could not be found\n",
      "  warn(f\"Failed to load image Python extension: {e}\")\n"
     ]
    }
   ],
   "source": [
    "import torchvision\n",
    "from torchvision import datasets\n",
    "\n",
    "from torchvision import transforms"
   ]
  },
  {
   "cell_type": "code",
   "execution_count": 4,
   "metadata": {
    "ExecuteTime": {
     "end_time": "2023-07-28T12:52:56.703491300Z",
     "start_time": "2023-07-28T12:52:56.534462800Z"
    },
    "id": "tVnyuGku9m0y"
   },
   "outputs": [],
   "source": [
    "# Get the MNIST train dataset \n",
    "train_data = datasets.MNIST(root=\".\",\n",
    "                            train=True,\n",
    "                            download=True,\n",
    "                            transform=transforms.ToTensor()) # do we want to transform the data as we download it? \n",
    "\n",
    "# Get the MNIST test dataset\n",
    "test_data = datasets.MNIST(root=\".\",\n",
    "                           train=False,\n",
    "                           download=True,\n",
    "                           transform=transforms.ToTensor()) "
   ]
  },
  {
   "cell_type": "code",
   "execution_count": 5,
   "metadata": {
    "ExecuteTime": {
     "end_time": "2023-07-28T12:52:56.732414500Z",
     "start_time": "2023-07-28T12:52:56.704489200Z"
    },
    "colab": {
     "base_uri": "https://localhost:8080/"
    },
    "id": "yaj7vnOv-cB2",
    "outputId": "41fff41b-49da-40c2-ac30-75a75aeb3a62"
   },
   "outputs": [
    {
     "data": {
      "text/plain": [
       "(Dataset MNIST\n",
       "     Number of datapoints: 60000\n",
       "     Root location: .\n",
       "     Split: Train\n",
       "     StandardTransform\n",
       " Transform: ToTensor(),\n",
       " Dataset MNIST\n",
       "     Number of datapoints: 10000\n",
       "     Root location: .\n",
       "     Split: Test\n",
       "     StandardTransform\n",
       " Transform: ToTensor())"
      ]
     },
     "execution_count": 5,
     "metadata": {},
     "output_type": "execute_result"
    }
   ],
   "source": [
    "train_data, test_data"
   ]
  },
  {
   "cell_type": "code",
   "execution_count": 6,
   "metadata": {
    "ExecuteTime": {
     "end_time": "2023-07-28T12:52:56.825181200Z",
     "start_time": "2023-07-28T12:52:56.725433800Z"
    },
    "colab": {
     "base_uri": "https://localhost:8080/"
    },
    "id": "SUZMY9xR-sfH",
    "outputId": "57734dba-f7a7-42e8-8eb9-9dfa43216243"
   },
   "outputs": [
    {
     "data": {
      "text/plain": [
       "(60000, 10000)"
      ]
     },
     "execution_count": 6,
     "metadata": {},
     "output_type": "execute_result"
    }
   ],
   "source": [
    "len(train_data), len(test_data)"
   ]
  },
  {
   "cell_type": "code",
   "execution_count": 7,
   "metadata": {
    "ExecuteTime": {
     "end_time": "2023-07-28T12:52:56.848104900Z",
     "start_time": "2023-07-28T12:52:56.744383200Z"
    },
    "colab": {
     "base_uri": "https://localhost:8080/"
    },
    "id": "THsDkX0K-gUk",
    "outputId": "545d643d-a50a-4d88-e2b6-6e69ce99dde4"
   },
   "outputs": [],
   "source": [
    "# # Data is in tuple form (image, label)\n",
    "# img = train_data[2][0]\n",
    "# label = train_data[2][1]\n",
    "# print(f\"Image:\\n {img}\") \n",
    "# print(f\"Label:\\n {label}\")"
   ]
  },
  {
   "cell_type": "code",
   "execution_count": 8,
   "metadata": {
    "ExecuteTime": {
     "end_time": "2023-07-28T12:52:56.850100200Z",
     "start_time": "2023-07-28T12:52:56.826164100Z"
    },
    "colab": {
     "base_uri": "https://localhost:8080/"
    },
    "id": "txys9vVXAUPs",
    "outputId": "ac305c09-6260-4744-9bd9-832e4dbde593"
   },
   "outputs": [],
   "source": [
    "# # Check out the shapes of our data\n",
    "# print(f\"Image shape: {img.shape} -> [color_channels, height, width] (CHW)\")\n",
    "# print(f\"Label: {label} -> no shape, due to being integer\")"
   ]
  },
  {
   "cell_type": "markdown",
   "metadata": {
    "id": "yS3XHDW6AuJs"
   },
   "source": [
    "Note: There are two main agreed upon ways for representing images in machine learning:\n",
    "1. Color channels first: [color_channels, height, width] (CHW) -> PyTorch default (as of April 2022)\n",
    "2. Color channels last: [height, width, color_channels] (HWC) -> Matplotlib/TensorFlow default (as of April 2022)"
   ]
  },
  {
   "cell_type": "code",
   "execution_count": 9,
   "metadata": {
    "ExecuteTime": {
     "end_time": "2023-07-28T12:52:56.866057300Z",
     "start_time": "2023-07-28T12:52:56.832147200Z"
    },
    "colab": {
     "base_uri": "https://localhost:8080/"
    },
    "id": "T7UEVf8B_JuK",
    "outputId": "6795c6d6-8e66-43bc-e7f8-6f1b737f2621"
   },
   "outputs": [],
   "source": [
    "# # Get the class names from the dataset\n",
    "# class_names = train_data.classes\n",
    "# class_names"
   ]
  },
  {
   "cell_type": "markdown",
   "metadata": {
    "id": "qxZW-uAbxe_F"
   },
   "source": [
    "## 6. Visualize at least 5 different samples of the MNIST training dataset."
   ]
  },
  {
   "cell_type": "code",
   "execution_count": 10,
   "metadata": {
    "ExecuteTime": {
     "end_time": "2023-07-28T12:52:57.681448700Z",
     "start_time": "2023-07-28T12:52:56.854089700Z"
    },
    "colab": {
     "base_uri": "https://localhost:8080/",
     "height": 1000
    },
    "id": "HdRM86voyC0x",
    "outputId": "76d699f7-6c6b-4cd8-df21-a48da1b7c141"
   },
   "outputs": [],
   "source": [
    "import matplotlib.pyplot as plt\n",
    "\n",
    "# for i in range(5):\n",
    "#   img = train_data[i][0]\n",
    "#   print(img.shape)\n",
    "#   img_squeeze = img.squeeze()\n",
    "#   print(img_squeeze.shape)\n",
    "#   label = train_data[i][1]\n",
    "#   plt.figure(figsize=(3, 3))\n",
    "#   plt.imshow(img_squeeze, cmap=\"gray\")\n",
    "#   plt.title(label)\n",
    "#   plt.axis(False)"
   ]
  },
  {
   "cell_type": "markdown",
   "metadata": {
    "id": "JAPDzW0wxhi3"
   },
   "source": [
    "## 7. Turn the MNIST train and test datasets into dataloaders using `torch.utils.data.DataLoader`, set the `batch_size=32`."
   ]
  },
  {
   "cell_type": "code",
   "execution_count": 11,
   "metadata": {
    "ExecuteTime": {
     "end_time": "2023-07-28T12:52:57.709377400Z",
     "start_time": "2023-07-28T12:52:57.452116400Z"
    },
    "id": "Cz09bv8KCnCa"
   },
   "outputs": [],
   "source": [
    "# Create train dataloader\n",
    "from torch.utils.data import DataLoader\n",
    "\n",
    "train_dataloader = DataLoader(dataset=train_data,\n",
    "                              batch_size=16,\n",
    "                              shuffle=True)\n",
    "\n",
    "test_dataloader = DataLoader(dataset=test_data,\n",
    "                             batch_size=16,\n",
    "                             shuffle=False)"
   ]
  },
  {
   "cell_type": "code",
   "execution_count": 12,
   "metadata": {
    "ExecuteTime": {
     "end_time": "2023-07-28T12:52:57.710372100Z",
     "start_time": "2023-07-28T12:52:57.465079600Z"
    },
    "colab": {
     "base_uri": "https://localhost:8080/"
    },
    "id": "8tWfa7Y0yCkX",
    "outputId": "7aa11575-fdc6-48d8-e73b-9d8fe5f3049c"
   },
   "outputs": [
    {
     "data": {
      "text/plain": [
       "(<torch.utils.data.dataloader.DataLoader at 0x200d57bff70>,\n",
       " <torch.utils.data.dataloader.DataLoader at 0x200d57bf880>)"
      ]
     },
     "execution_count": 12,
     "metadata": {},
     "output_type": "execute_result"
    }
   ],
   "source": [
    "train_dataloader, test_dataloader"
   ]
  },
  {
   "cell_type": "code",
   "execution_count": 13,
   "metadata": {
    "ExecuteTime": {
     "end_time": "2023-07-28T12:52:57.711369700Z",
     "start_time": "2023-07-28T12:52:57.481040Z"
    },
    "colab": {
     "base_uri": "https://localhost:8080/"
    },
    "id": "z2-3iYEgD8K-",
    "outputId": "ebdeeedd-b03a-4ff1-abe3-e420fdbfe266"
   },
   "outputs": [
    {
     "name": "stdout",
     "output_type": "stream",
     "text": [
      "torch.Size([16, 1, 28, 28])\n",
      "torch.Size([16])\n"
     ]
    }
   ],
   "source": [
    "for sample in next(iter(train_dataloader)):\n",
    "  print(sample.shape)"
   ]
  },
  {
   "cell_type": "code",
   "execution_count": 14,
   "metadata": {
    "ExecuteTime": {
     "end_time": "2023-07-28T12:52:57.712365700Z",
     "start_time": "2023-07-28T12:52:57.528857800Z"
    },
    "colab": {
     "base_uri": "https://localhost:8080/"
    },
    "id": "BfSrUoa9Eb3V",
    "outputId": "09af0e0b-3347-4c06-d542-b4971fe83c2d"
   },
   "outputs": [
    {
     "data": {
      "text/plain": [
       "(3750, 625)"
      ]
     },
     "execution_count": 14,
     "metadata": {},
     "output_type": "execute_result"
    }
   ],
   "source": [
    "len(train_dataloader), len(test_dataloader)"
   ]
  },
  {
   "cell_type": "markdown",
   "metadata": {
    "id": "bCCVfXk5xjYS"
   },
   "source": [
    "## 8. Recreate `model_2` used in notebook 03 (the same model from the [CNN Explainer website](https://poloclub.github.io/cnn-explainer/), also known as TinyVGG) capable of fitting on the MNIST dataset."
   ]
  },
  {
   "cell_type": "code",
   "execution_count": 15,
   "metadata": {
    "ExecuteTime": {
     "end_time": "2023-07-28T12:52:57.713363800Z",
     "start_time": "2023-07-28T12:52:57.552795500Z"
    },
    "id": "xeBNV2AtyCP6"
   },
   "outputs": [],
   "source": [
    "from torch import nn \n",
    "class MNISTModel(torch.nn.Module):\n",
    "  \"\"\"Model capable of predicting on MNIST dataset.\n",
    "  \"\"\"\n",
    "  def __init__(self, input_shape: int, hidden_units: int, output_shape: int): \n",
    "    super().__init__()\n",
    "    self.conv_block_1 = nn.Sequential(\n",
    "      nn.Conv2d(in_channels=input_shape, \n",
    "                out_channels=hidden_units,\n",
    "                kernel_size=3,\n",
    "                stride=1,\n",
    "                padding=1), \n",
    "      nn.ReLU(),\n",
    "      nn.Conv2d(in_channels=hidden_units,\n",
    "                out_channels=hidden_units,\n",
    "                kernel_size=3,\n",
    "                stride=1,\n",
    "                padding=1),\n",
    "      nn.ReLU(),\n",
    "      nn.MaxPool2d(kernel_size=2)\n",
    "    )\n",
    "    self.conv_block_2 = nn.Sequential(\n",
    "      nn.Conv2d(in_channels=hidden_units,\n",
    "                out_channels=hidden_units,\n",
    "                kernel_size=3,\n",
    "                stride=1,\n",
    "                padding=1),\n",
    "      nn.ReLU(),\n",
    "      nn.Conv2d(in_channels=hidden_units,\n",
    "                out_channels=hidden_units,\n",
    "                kernel_size=3,\n",
    "                stride=1,\n",
    "                padding=1),\n",
    "      nn.ReLU(),\n",
    "      nn.MaxPool2d(kernel_size=2)                   \n",
    "    )\n",
    "    self.classifier = nn.Sequential(\n",
    "      nn.Flatten(),\n",
    "      nn.Linear(in_features=hidden_units*7*7,\n",
    "                out_features=output_shape)\n",
    "    )\n",
    "\n",
    "  def forward(self, x):\n",
    "    \"\"\"\n",
    "\n",
    "    :param x: \n",
    "    :return: \n",
    "    \"\"\"\n",
    "    x = self.conv_block_1(x)\n",
    "    # print(f\"Output shape of conv block 1: {x.shape}\")\n",
    "    x = self.conv_block_2(x)\n",
    "    # print(f\"Output shape of conv block 2: {x.shape}\")\n",
    "    # Before applying classifier, just flatten and print the shape\n",
    "    x_flattened = nn.Flatten()(x) # Flatten the tensor\n",
    "    self.get_flatten = nn.Flatten()(x) # flatten and save to a class attribute\n",
    "    # print(f\"Shape after flattening: {x_flattened.shape}\")\n",
    "    x = self.classifier(x)\n",
    "    # print(f\"Output shape of classifier: {x.shape}\")\n",
    "    return x"
   ]
  },
  {
   "cell_type": "code",
   "execution_count": 16,
   "metadata": {
    "ExecuteTime": {
     "end_time": "2023-07-28T12:52:57.714362600Z",
     "start_time": "2023-07-28T12:52:57.575732Z"
    },
    "colab": {
     "base_uri": "https://localhost:8080/",
     "height": 35
    },
    "id": "Pfk9zykYK0FM",
    "outputId": "42691d91-8854-4324-a6e7-776535283d11"
   },
   "outputs": [
    {
     "data": {
      "text/plain": [
       "'cpu'"
      ]
     },
     "execution_count": 16,
     "metadata": {},
     "output_type": "execute_result"
    }
   ],
   "source": [
    "device"
   ]
  },
  {
   "cell_type": "code",
   "execution_count": 17,
   "metadata": {
    "ExecuteTime": {
     "end_time": "2023-07-28T12:52:57.714362600Z",
     "start_time": "2023-07-28T12:52:57.592687200Z"
    },
    "colab": {
     "base_uri": "https://localhost:8080/"
    },
    "id": "tPmadzsTJndN",
    "outputId": "af86f59c-d3a0-4fdf-9095-cc5b4885226e"
   },
   "outputs": [
    {
     "data": {
      "text/plain": [
       "MNISTModel(\n",
       "  (conv_block_1): Sequential(\n",
       "    (0): Conv2d(1, 10, kernel_size=(3, 3), stride=(1, 1), padding=(1, 1))\n",
       "    (1): ReLU()\n",
       "    (2): Conv2d(10, 10, kernel_size=(3, 3), stride=(1, 1), padding=(1, 1))\n",
       "    (3): ReLU()\n",
       "    (4): MaxPool2d(kernel_size=2, stride=2, padding=0, dilation=1, ceil_mode=False)\n",
       "  )\n",
       "  (conv_block_2): Sequential(\n",
       "    (0): Conv2d(10, 10, kernel_size=(3, 3), stride=(1, 1), padding=(1, 1))\n",
       "    (1): ReLU()\n",
       "    (2): Conv2d(10, 10, kernel_size=(3, 3), stride=(1, 1), padding=(1, 1))\n",
       "    (3): ReLU()\n",
       "    (4): MaxPool2d(kernel_size=2, stride=2, padding=0, dilation=1, ceil_mode=False)\n",
       "  )\n",
       "  (classifier): Sequential(\n",
       "    (0): Flatten(start_dim=1, end_dim=-1)\n",
       "    (1): Linear(in_features=490, out_features=10, bias=True)\n",
       "  )\n",
       ")"
      ]
     },
     "execution_count": 17,
     "metadata": {},
     "output_type": "execute_result"
    }
   ],
   "source": [
    "model = MNISTModel(input_shape=1,\n",
    "                    hidden_units=10,\n",
    "                    output_shape=10).to(device)\n",
    "model"
   ]
  },
  {
   "cell_type": "code",
   "execution_count": 18,
   "metadata": {
    "ExecuteTime": {
     "end_time": "2023-07-28T12:52:57.743304500Z",
     "start_time": "2023-07-28T12:52:57.624601300Z"
    },
    "collapsed": false,
    "jupyter": {
     "outputs_hidden": false
    }
   },
   "outputs": [
    {
     "name": "stdout",
     "output_type": "stream",
     "text": [
      "torch.Size([1, 1, 28, 28])\n"
     ]
    },
    {
     "data": {
      "text/plain": [
       "tensor([[ 0.0869, -0.0163,  0.0077, -0.0178,  0.0746, -0.0432,  0.0207, -0.0232,\n",
       "         -0.0019, -0.0187]], grad_fn=<AddmmBackward0>)"
      ]
     },
     "execution_count": 18,
     "metadata": {},
     "output_type": "execute_result"
    }
   ],
   "source": [
    "# Create a random input tensor with the shape that matches a single MNIST image (1, 28, 28)\n",
    "# Note: The first 1 is the batch size, indicating we're feeding 1 image.\n",
    "my_input_tensor = torch.randn(1, 1, 28, 28)\n",
    "print(my_input_tensor.shape)\n",
    "\n",
    "# Pass the input tensor through the model to print the output shapes of each block\n",
    "my_output = model(my_input_tensor)\n",
    "my_output"
   ]
  },
  {
   "cell_type": "code",
   "execution_count": 19,
   "metadata": {
    "ExecuteTime": {
     "end_time": "2023-07-28T12:52:57.966687200Z",
     "start_time": "2023-07-28T12:52:57.686436100Z"
    },
    "id": "ExNGpLz9LfOO"
   },
   "outputs": [],
   "source": [
    "# # Check out the model state dict to find out what patterns our model wants to learn\n",
    "# model.state_dict()"
   ]
  },
  {
   "cell_type": "code",
   "execution_count": 20,
   "metadata": {
    "ExecuteTime": {
     "end_time": "2023-07-28T12:52:58.014557500Z",
     "start_time": "2023-07-28T12:52:57.782180Z"
    },
    "collapsed": false,
    "jupyter": {
     "outputs_hidden": false
    }
   },
   "outputs": [
    {
     "name": "stdout",
     "output_type": "stream",
     "text": [
      "tensor([[ 0.0029,  0.0442, -0.0078,  ..., -0.0407, -0.0337, -0.0239],\n",
      "        [ 0.0379, -0.0113,  0.0171,  ..., -0.0447,  0.0236, -0.0150],\n",
      "        [-0.0132, -0.0264,  0.0335,  ...,  0.0119,  0.0001, -0.0392],\n",
      "        ...,\n",
      "        [-0.0017,  0.0451, -0.0084,  ..., -0.0225, -0.0003,  0.0116],\n",
      "        [ 0.0284, -0.0149, -0.0380,  ...,  0.0438,  0.0168, -0.0210],\n",
      "        [-0.0251, -0.0399, -0.0272,  ...,  0.0404,  0.0160,  0.0224]])\n",
      "tensor([-0.0079, -0.0078,  0.0144, -0.0405,  0.0320, -0.0269,  0.0290,  0.0087,\n",
      "        -0.0310, -0.0066])\n"
     ]
    }
   ],
   "source": [
    "weights = model.classifier[1].weight.data\n",
    "bias = model.classifier[1].bias.data\n",
    "\n",
    "print(weights)\n",
    "print(bias)"
   ]
  },
  {
   "cell_type": "code",
   "execution_count": 21,
   "metadata": {
    "ExecuteTime": {
     "end_time": "2023-07-28T12:52:58.018547600Z",
     "start_time": "2023-07-28T12:52:57.797139900Z"
    },
    "colab": {
     "base_uri": "https://localhost:8080/"
    },
    "id": "AAd-DhBIMQ_N",
    "outputId": "aa33c6a0-ed54-48f0-a46b-1aa8a0742376"
   },
   "outputs": [
    {
     "name": "stdout",
     "output_type": "stream",
     "text": [
      "torch.Size([1, 1, 28, 28])\n"
     ]
    },
    {
     "data": {
      "text/plain": [
       "tensor([[ 0.0274, -0.0226, -0.0028, -0.0314,  0.0630, -0.0300,  0.0120,  0.0236,\n",
       "         -0.0150,  0.0020]], grad_fn=<AddmmBackward0>)"
      ]
     },
     "execution_count": 21,
     "metadata": {},
     "output_type": "execute_result"
    }
   ],
   "source": [
    "# Try a dummy forward pass to see what shapes our data is\n",
    "dummy_x = torch.rand(size=(1, 28, 28)).unsqueeze(dim=0).to(device)\n",
    "\n",
    "print(dummy_x.shape)\n",
    "model(dummy_x)\n",
    "# dummy_x"
   ]
  },
  {
   "cell_type": "code",
   "execution_count": 22,
   "metadata": {
    "ExecuteTime": {
     "end_time": "2023-07-28T12:52:58.019546800Z",
     "start_time": "2023-07-28T12:52:57.827060400Z"
    },
    "colab": {
     "base_uri": "https://localhost:8080/"
    },
    "id": "xw4nqMCVN_Jr",
    "outputId": "071ee69e-bc24-403f-c864-84a78f9c7a76"
   },
   "outputs": [
    {
     "data": {
      "text/plain": [
       "torch.Size([1, 10, 7, 7])"
      ]
     },
     "execution_count": 22,
     "metadata": {},
     "output_type": "execute_result"
    }
   ],
   "source": [
    "dummy_x_2 = torch.rand(size=([1, 10, 7, 7]))\n",
    "dummy_x_2.shape"
   ]
  },
  {
   "cell_type": "code",
   "execution_count": 23,
   "metadata": {
    "ExecuteTime": {
     "end_time": "2023-07-28T12:52:58.036500400Z",
     "start_time": "2023-07-28T12:52:57.844015Z"
    },
    "colab": {
     "base_uri": "https://localhost:8080/"
    },
    "id": "9omFrrBCODLL",
    "outputId": "2cab7078-7338-431f-f1de-b32dd8859ffd"
   },
   "outputs": [
    {
     "data": {
      "text/plain": [
       "torch.Size([1, 490])"
      ]
     },
     "execution_count": 23,
     "metadata": {},
     "output_type": "execute_result"
    }
   ],
   "source": [
    "flatten_layer = nn.Flatten()\n",
    "flatten_layer(dummy_x_2).shape"
   ]
  },
  {
   "cell_type": "markdown",
   "metadata": {},
   "source": [
    "## 9. Train the model you built in exercise 8 for 5 epochs on CPU and GPU and see how long it takes on each."
   ]
  },
  {
   "cell_type": "code",
   "execution_count": 24,
   "metadata": {
    "ExecuteTime": {
     "end_time": "2023-07-28T12:52:58.037497100Z",
     "start_time": "2023-07-28T12:52:57.861966900Z"
    },
    "collapsed": false,
    "jupyter": {
     "outputs_hidden": false
    }
   },
   "outputs": [],
   "source": [
    "# %%time\n",
    "# from tqdm.auto import tqdm \n",
    "# \n",
    "# # Train on CPU\n",
    "# model_cpu = MNISTModel(input_shape=1,\n",
    "#                         hidden_units=10,\n",
    "#                         output_shape=10).to(\"cpu\")\n",
    "# \n",
    "# # Create a loss function and optimizer\n",
    "# loss_fn = nn.CrossEntropyLoss()\n",
    "# optimizer = torch.optim.SGD(model_cpu.parameters(), lr=0.1)\n",
    "# \n",
    "# ### Training loop\n",
    "# epochs = 5\n",
    "# for epoch in tqdm(range(epochs)):\n",
    "#   train_loss = 0\n",
    "#   for batch, (X, y) in enumerate(train_dataloader):\n",
    "#     model_cpu.train()\n",
    "# \n",
    "#     # Put data on CPU\n",
    "#     X, y = X.to(\"cpu\"), y.to(\"cpu\")\n",
    "# \n",
    "#     # Forward pass\n",
    "#     y_pred = model_cpu(X)\n",
    "# \n",
    "#     # Loss calculation\n",
    "#     loss = loss_fn(y_pred, y)\n",
    "#     train_loss += loss\n",
    "# \n",
    "#     # Optimizer zero grad\n",
    "#     optimizer.zero_grad()\n",
    "# \n",
    "#     # Loss backward\n",
    "#     loss.backward()\n",
    "# \n",
    "#     # Step the optimizer\n",
    "#     optimizer.step()\n",
    "#   \n",
    "#   # Adjust train loss for number of batches\n",
    "#   train_loss /= len(train_dataloader)\n",
    "# \n",
    "#   ### Testing loop\n",
    "#   test_loss_total = 0\n",
    "# \n",
    "#   # Put model in eval mode \n",
    "#   model_cpu.eval()\n",
    "# \n",
    "#   # Turn on inference mode\n",
    "#   with torch.inference_mode():\n",
    "#     for batch, (X_test, y_test) in enumerate(test_dataloader):\n",
    "#       # Make sure test data on CPU\n",
    "#       X_test, y_test = X_test.to(\"cpu\"), y_test.to(\"cpu\")\n",
    "#       test_pred = model_cpu(X_test)\n",
    "#       test_loss = loss_fn(test_pred, y_test)\n",
    "# \n",
    "#       test_loss_total += test_loss\n",
    "#     \n",
    "#     test_loss_total /= len(test_dataloader)\n",
    "#   \n",
    "#   # Print out what's happening\n",
    "#   print(f\"Epoch: {epoch} | Loss: {train_loss:.3f} | Test loss: {test_loss_total:.3f}\")"
   ]
  },
  {
   "cell_type": "code",
   "execution_count": 25,
   "metadata": {
    "ExecuteTime": {
     "end_time": "2023-07-28T12:54:49.378605600Z",
     "start_time": "2023-07-28T12:52:57.873934900Z"
    },
    "colab": {
     "base_uri": "https://localhost:8080/",
     "height": 173,
     "referenced_widgets": [
      "ac4f9033337a425ab05f963a300af10a",
      "4c2b4be7117d4043b56d6b4e05251d9e",
      "800977f38e5e45f9bb7b8f43fe78ea9c",
      "2f37f541c8f949eab60200d46fbc8b05",
      "8695077763e749559af9cec55f651006",
      "1853564527f045d7bcb510f62b45489f",
      "adf4f0bbf7d44ae3a13b627bd754e421",
      "3913cd7ccbfa4fa29305a7a34c0a6846",
      "61814ca3a0704d0d84cededc512f96a4",
      "17ba6b57f29a42f9a525db0bbe3bdb68",
      "d29972a957884ef0bf2d4ac167eb2218"
     ]
    },
    "id": "0IzzuVLkPE9j",
    "outputId": "15badd9e-676a-4ba4-d472-29fa605cda95"
   },
   "outputs": [
    {
     "name": "stderr",
     "output_type": "stream",
     "text": [
      " 50%|██████████████████████████████████████████                                          | 1/2 [00:42<00:42, 42.38s/it]"
     ]
    },
    {
     "name": "stdout",
     "output_type": "stream",
     "text": [
      "Epoch: 0 | Loss: 0.188 | Test loss: 0.056\n"
     ]
    },
    {
     "name": "stderr",
     "output_type": "stream",
     "text": [
      "100%|████████████████████████████████████████████████████████████████████████████████████| 2/2 [01:40<00:00, 50.03s/it]"
     ]
    },
    {
     "name": "stdout",
     "output_type": "stream",
     "text": [
      "Epoch: 1 | Loss: 0.071 | Test loss: 0.059\n",
      "CPU times: total: 4min 27s\n",
      "Wall time: 1min 40s\n"
     ]
    },
    {
     "name": "stderr",
     "output_type": "stream",
     "text": [
      "\n"
     ]
    }
   ],
   "source": [
    "%%time\n",
    "from tqdm.auto import tqdm \n",
    "\n",
    "device = \"cuda\" if torch.cuda.is_available() else \"cpu\"\n",
    "\n",
    "# Train on GPU\n",
    "model_gpu = MNISTModel(input_shape=1,\n",
    "                        hidden_units=10,\n",
    "                        output_shape=10).to(device)\n",
    "\n",
    "# Create a loss function and optimizer\n",
    "loss_fn = nn.CrossEntropyLoss()\n",
    "optimizer = torch.optim.SGD(model_gpu.parameters(), lr=0.1)\n",
    "\n",
    "# Training loop\n",
    "epochs = 2\n",
    "for epoch in tqdm(range(epochs)):\n",
    "  train_loss = 0\n",
    "  model_gpu.train()\n",
    "  for batch, (X, y) in enumerate(train_dataloader):\n",
    "    # Put data on target device\n",
    "    X, y = X.to(device), y.to(device)\n",
    "\n",
    "    # Forward pass\n",
    "    y_pred = model_gpu(X)\n",
    "\n",
    "    # Loss calculation\n",
    "    loss = loss_fn(y_pred, y)\n",
    "    train_loss += loss\n",
    "\n",
    "    # Optimizer zero grad\n",
    "    optimizer.zero_grad()\n",
    "\n",
    "    # Loss backward\n",
    "    loss.backward()\n",
    "\n",
    "    # Step the optimizer\n",
    "    optimizer.step()\n",
    "  \n",
    "  # Adjust train loss to number of batches\n",
    "  train_loss /= len(train_dataloader)\n",
    "\n",
    "  ### Testing loop\n",
    "  test_loss_total = 0\n",
    "  # Put model in eval mode and turn on inference mode\n",
    "  model_gpu.eval()\n",
    "  with torch.inference_mode():\n",
    "    for batch, (X_test, y_test) in enumerate(test_dataloader):\n",
    "      # Make sure test data on target device\n",
    "      X_test, y_test = X_test.to(device), y_test.to(device)\n",
    "      \n",
    "      test_pred = model_gpu(X_test)\n",
    "      test_loss = loss_fn(test_pred, y_test)\n",
    "\n",
    "      test_loss_total += test_loss\n",
    "\n",
    "    # Adjust test loss total for number of batches\n",
    "    test_loss_total /= len(test_dataloader)\n",
    "  \n",
    "  # Print out what's happening\n",
    "  print(f\"Epoch: {epoch} | Loss: {train_loss:.3f} | Test loss: {test_loss_total:.3f}\")"
   ]
  },
  {
   "cell_type": "markdown",
   "metadata": {
    "id": "w1CsHhPpxp1w"
   },
   "source": [
    "## 10. Make predictions using your trained model and visualize at least 5 of them comparing the prediciton to the target label."
   ]
  },
  {
   "cell_type": "code",
   "execution_count": null,
   "metadata": {
    "ExecuteTime": {
     "start_time": "2023-07-28T12:54:49.380912Z"
    },
    "colab": {
     "base_uri": "https://localhost:8080/",
     "height": 282
    },
    "id": "iVyM5cC6yBkF",
    "is_executing": true,
    "outputId": "17f9a80f-1b39-433b-ac33-ca9b9b38a787"
   },
   "outputs": [
    {
     "data": {
      "text/plain": [
       "<matplotlib.image.AxesImage at 0x200d57e0400>"
      ]
     },
     "execution_count": 26,
     "metadata": {},
     "output_type": "execute_result"
    }
   ],
   "source": [
    "# Make predictions with the trained model\n",
    "plt.imshow(test_data[0][0].squeeze(), cmap=\"gray\")"
   ]
  },
  {
   "cell_type": "code",
   "execution_count": null,
   "metadata": {
    "colab": {
     "base_uri": "https://localhost:8080/"
    },
    "id": "NGide8hMWP17",
    "is_executing": true,
    "outputId": "c68b7926-f691-4d46-b3a6-5b8fd3b5b587"
   },
   "outputs": [],
   "source": [
    "# Logits -> Prediction probabilities -> Prediction labels\n",
    "model_pred_logits = model_gpu(test_data[0][0].unsqueeze(dim=0).to(device)) # make sure image is right shape + on right device\n",
    "model_pred_probs = torch.softmax(model_pred_logits, dim=1)\n",
    "model_pred_label = torch.argmax(model_pred_probs, dim=1)\n",
    "model_pred_label"
   ]
  },
  {
   "cell_type": "code",
   "execution_count": null,
   "metadata": {
    "colab": {
     "base_uri": "https://localhost:8080/",
     "height": 1000
    },
    "id": "jNCPUtO_Wuj5",
    "is_executing": true,
    "outputId": "f5e34b91-c746-4cf4-af5f-7231e9963209"
   },
   "outputs": [],
   "source": [
    "num_to_plot = 5 \n",
    "for i in range(num_to_plot):\n",
    "  # Get image and labels from the test data\n",
    "  img = test_data[i][0]\n",
    "  label = test_data[i][1]\n",
    "\n",
    "  # Make prediction on image\n",
    "  model_pred_logits = model_gpu(img.unsqueeze(dim=0).to(device))\n",
    "  model_pred_probs = torch.softmax(model_pred_logits, dim=1)\n",
    "  model_pred_label = torch.argmax(model_pred_probs, dim=1)\n",
    "\n",
    "  # # Plot the image and prediction\n",
    "  # plt.figure()\n",
    "  # plt.imshow(img.squeeze(), cmap=\"gray\")\n",
    "  # plt.title(f\"Truth: {label} | Pred: {model_pred_label.cpu().item()}\") \n",
    "  # plt.axis(False)"
   ]
  },
  {
   "cell_type": "code",
   "execution_count": null,
   "metadata": {
    "collapsed": false,
    "is_executing": true,
    "jupyter": {
     "outputs_hidden": false
    }
   },
   "outputs": [],
   "source": [
    "def prediction_weights(input_data):\n",
    "    \"\"\"\n",
    "    This function extracts the weights from the model in the prediction stage\n",
    "    :param input_data: \n",
    "    :return: \n",
    "    \"\"\"\n",
    "    total_images = len(input_data)\n",
    "\n",
    "    my_pred_flattened = []\n",
    "    my_pred_logits = []\n",
    "    my_label_preds = []\n",
    "    my_label_real = []\n",
    "    \n",
    "    for item in range(total_images):\n",
    "        # Get image and labels from the test data\n",
    "        input_image = input_data[item][0]\n",
    "        input_label = input_data[item][1]\n",
    "        my_label_real.append(input_label)\n",
    "        \n",
    "        # Extract and save the weights after the nn.Flatten() layer \n",
    "        model_pred_flattened = model.get_flatten\n",
    "        my_pred_flattened.append(model_pred_flattened)\n",
    "    \n",
    "        # Save the prediction weights \n",
    "        model_pred_logits = model_gpu(input_image.unsqueeze(dim=0).to(device))\n",
    "        my_pred_logits.append(model_pred_logits)\n",
    "    \n",
    "        # Save the prediction labels\n",
    "        model_pred_labels = torch.argmax(torch.softmax(model_pred_logits, dim=1), dim=1)\n",
    "        my_label_preds.append(model_pred_labels)\n",
    "    \n",
    "    my_pred_flattened = torch.cat(my_pred_flattened).cpu()\n",
    "    my_pred_logits = torch.cat(my_pred_logits).cpu()\n",
    "    my_label_preds = torch.cat(my_label_preds).cpu()\n",
    "    \n",
    "    return my_pred_flattened, my_pred_logits, my_label_preds, my_label_real\n"
   ]
  },
  {
   "cell_type": "code",
   "execution_count": null,
   "metadata": {
    "collapsed": false,
    "is_executing": true,
    "jupyter": {
     "outputs_hidden": false
    }
   },
   "outputs": [],
   "source": [
    "prediction_values = prediction_weights(train_data)"
   ]
  },
  {
   "cell_type": "code",
   "execution_count": null,
   "metadata": {
    "collapsed": false,
    "is_executing": true,
    "jupyter": {
     "outputs_hidden": false
    }
   },
   "outputs": [],
   "source": [
    "# print(my_pred_logits.type)\n",
    "# print(my_label_preds)\n",
    "\n",
    "import pandas as pd\n",
    "\n",
    "def tensor_to_dataframe(tensor):\n",
    "    \"\"\"Convert a PyTorch tensor to a pandas DataFrame.\"\"\"\n",
    "    return pd.DataFrame(tensor.cpu().detach().numpy())\n",
    "\n",
    "# Convert the tensor to a DataFrame\n",
    "df_flattened = tensor_to_dataframe(prediction_values[0])\n",
    "df_logits = tensor_to_dataframe(prediction_values[1])\n",
    "df_preds = tensor_to_dataframe(prediction_values[2])\n",
    "df_labels = pd.DataFrame(prediction_values[3])\n",
    "\n",
    "# df_logits = pd.DataFrame(numpy_logits)\n",
    "# df_preds = pd.DataFrame(numpy_preds)\n",
    "\n",
    "# Save the DataFrame to a CSV file\n",
    "df_flattened.to_csv('mnist_flattened.csv', index=False)\n",
    "df_logits.to_csv(\"mnist_logits.csv\", index=False)\n",
    "df_preds.to_csv(\"mnist_preds.csv\", index=False)\n",
    "df_labels.to_csv(\"mnist_labels.csv\", index=False)"
   ]
  },
  {
   "cell_type": "markdown",
   "metadata": {
    "id": "qQwzqlBWxrpG"
   },
   "source": [
    "## 11. Plot a confusion matrix comparing your model's predictions to the truth labels."
   ]
  },
  {
   "cell_type": "code",
   "execution_count": null,
   "metadata": {
    "colab": {
     "base_uri": "https://localhost:8080/"
    },
    "id": "CTIlKRqqYF02",
    "is_executing": true,
    "outputId": "6d0a28c1-ed59-4305-c47c-67fc0cc27192"
   },
   "outputs": [],
   "source": [
    "# # See if torchmetrics exists, if not, install it\n",
    "# try:\n",
    "#     import torchmetrics, mlxtend\n",
    "#     print(f\"mlxtend version: {mlxtend.__version__}\")\n",
    "#     assert int(mlxtend.__version__.split(\".\")[1]) >= 19, \"mlxtend version should be 0.19.0 or higher\"\n",
    "# except:\n",
    "#     !pip install -q torchmetrics -U mlxtend # <- Note: If you're using Google Colab, this may require restarting the runtime\n",
    "#     import torchmetrics, mlxtend\n",
    "#     print(f\"mlxtend version: {mlxtend.__version__}\")"
   ]
  },
  {
   "cell_type": "code",
   "execution_count": null,
   "metadata": {
    "colab": {
     "base_uri": "https://localhost:8080/"
    },
    "id": "SqYUDscuYGSd",
    "is_executing": true,
    "outputId": "4cf2b146-49bf-446e-e762-0e807696665a"
   },
   "outputs": [],
   "source": [
    "# Import mlxtend upgraded version\n",
    "import mlxtend \n",
    "print(mlxtend.__version__)\n",
    "assert int(mlxtend.__version__.split(\".\")[1]) >= 19 # should be versioned 0.19.0 or higher"
   ]
  },
  {
   "cell_type": "code",
   "execution_count": null,
   "metadata": {
    "colab": {
     "base_uri": "https://localhost:8080/",
     "height": 67,
     "referenced_widgets": [
      "fd9be8a0ee5244fa833009d0c531a643",
      "59a28ded11914e88a8d54c8bac21e3a4",
      "6fb3df7d7bec4e92abdf872d4cc50f9c",
      "194f0886026b47b4bc1855151ad97034",
      "b5931a6b638d408f93255db7cd0283bf",
      "11278b21b19f4ec4b163313b42a7c9ef",
      "4bea2e3d735e4c569fc5026bf0e36b9b",
      "f219941b11dd42afba6e5d9fb9be7c4b",
      "829d30f9c02f46358bcc78768fabc3c5",
      "2e97b9ce8eca4a4d8d1b68a5c19fbe11",
      "14ae9f7185124afcab1ca2e38ecbd81b"
     ]
    },
    "id": "8kJO6BqAyBEc",
    "is_executing": true,
    "outputId": "1cdebb39-79ff-4114-bf92-c6181f2d15c9"
   },
   "outputs": [],
   "source": [
    "# Make predictions across all test data\n",
    "from tqdm.auto import tqdm\n",
    "model_gpu.eval()\n",
    "y_preds = []\n",
    "with torch.inference_mode():\n",
    "    for batch, (X, y) in tqdm(enumerate(test_dataloader)):\n",
    "        # Make sure data on right device\n",
    "        X, y = X.to(device), y.to(device)\n",
    "        # Forward pass\n",
    "        y_pred_logits = model_gpu(X)\n",
    "        # Logits -> Pred probs -> Pred label\n",
    "        y_pred_labels = torch.argmax(torch.softmax(y_pred_logits, dim=1), dim=1)\n",
    "        # Append the labels to the preds list\n",
    "        y_preds.append(y_pred_labels)\n",
    "    y_preds = torch.cat(y_preds).cpu()\n",
    "len(y_preds)\n",
    "print(y_preds)"
   ]
  },
  {
   "cell_type": "code",
   "execution_count": null,
   "metadata": {
    "colab": {
     "base_uri": "https://localhost:8080/"
    },
    "id": "HMs7XPLTZBV4",
    "is_executing": true,
    "outputId": "a30674af-3656-47c2-dd18-123533718bd2"
   },
   "outputs": [],
   "source": [
    "test_data.targets[:10], y_preds[:10]"
   ]
  },
  {
   "cell_type": "code",
   "execution_count": null,
   "metadata": {
    "colab": {
     "base_uri": "https://localhost:8080/",
     "height": 472
    },
    "id": "7lK_v2JyZOOG",
    "is_executing": true,
    "outputId": "fa17d9a7-dfbc-4485-fb95-ee27d6fb857c"
   },
   "outputs": [],
   "source": [
    "from torchmetrics import ConfusionMatrix\n",
    "from mlxtend.plotting import plot_confusion_matrix\n",
    "\n",
    "# Setup confusion matrix \n",
    "confmat = ConfusionMatrix(task=\"multiclass\", num_classes=len(class_names))\n",
    "confmat_tensor = confmat(preds=y_preds,\n",
    "                         target=test_data.targets)\n",
    "\n",
    "# Plot the confusion matrix\n",
    "fix, ax = plot_confusion_matrix(\n",
    "    conf_mat=confmat_tensor.numpy(),\n",
    "    class_names=class_names,\n",
    "    figsize=(10, 7)\n",
    ")"
   ]
  },
  {
   "cell_type": "markdown",
   "metadata": {
    "id": "lj6bDhoWxt2y"
   },
   "source": [
    "## 12. Create a random tensor of shape `[1, 3, 64, 64]` and pass it through a `nn.Conv2d()` layer with various hyperparameter settings (these can be any settings you choose), what do you notice if the `kernel_size` parameter goes up and down?"
   ]
  },
  {
   "cell_type": "markdown",
   "metadata": {},
   "source": [
    "random_tensor = torch.rand([1, 3, 64, 64])\n",
    "random_tensor.shape"
   ]
  },
  {
   "cell_type": "markdown",
   "metadata": {},
   "source": [
    "conv_layer = nn.Conv2d(in_channels=3,\n",
    "                       out_channels=64,\n",
    "                       kernel_size=3,\n",
    "                       stride=2,\n",
    "                       padding=1)\n",
    "\n",
    "print(f\"Random tensor original shape: {random_tensor.shape}\")\n",
    "random_tensor_through_conv_layer = conv_layer(random_tensor)\n",
    "print(f\"Random tensor through conv layer shape: {random_tensor_through_conv_layer.shape}\")"
   ]
  },
  {
   "cell_type": "markdown",
   "metadata": {
    "id": "VHS20cNTxwSi"
   },
   "source": [
    "## 13. Use a model similar to the trained `model_2` from notebook 03 to make predictions on the test [`torchvision.datasets.FashionMNIST`](https://pytorch.org/vision/main/generated/torchvision.datasets.FashionMNIST.html) dataset. \n",
    "* Then plot some predictions where the model was wrong alongside what the label of the image should've been. \n",
    "* After visualing these predictions do you think it's more of a modelling error or a data error? \n",
    "* As in, could the model do better or are the labels of the data too close to each other (e.g. a \"Shirt\" label is too close to \"T-shirt/top\")?"
   ]
  },
  {
   "cell_type": "markdown",
   "metadata": {},
   "source": [
    "# Download FashionMNIST train & test\n",
    "from torchvision import datasets\n",
    "from torchvision import transforms\n",
    "\n",
    "fashion_mnist_train = datasets.FashionMNIST(root=\".\",\n",
    "                                            download=True,\n",
    "                                            train=True,\n",
    "                                            transform=transforms.ToTensor())\n",
    "\n",
    "fashion_mnist_test = datasets.FashionMNIST(root=\".\",\n",
    "                                           train=False,\n",
    "                                           download=True,\n",
    "                                           transform=transforms.ToTensor())\n",
    "\n",
    "len(fashion_mnist_train), len(fashion_mnist_test)"
   ]
  },
  {
   "cell_type": "markdown",
   "metadata": {},
   "source": [
    "# Get the class names of the Fashion MNIST dataset\n",
    "fashion_mnist_class_names = fashion_mnist_train.classes\n",
    "fashion_mnist_class_names"
   ]
  },
  {
   "cell_type": "markdown",
   "metadata": {},
   "source": [
    "# Turn FashionMNIST datasets into dataloaders\n",
    "from torch.utils.data import DataLoader\n",
    "\n",
    "fashion_mnist_train_dataloader = DataLoader(fashion_mnist_train,\n",
    "                                            batch_size=16,\n",
    "                                            shuffle=True)\n",
    "\n",
    "fashion_mnist_test_dataloader = DataLoader(fashion_mnist_test,\n",
    "                                           batch_size=16,\n",
    "                                           shuffle=False)\n",
    "\n",
    "len(fashion_mnist_train_dataloader), len(fashion_mnist_test_dataloader)"
   ]
  },
  {
   "cell_type": "markdown",
   "metadata": {},
   "source": [
    "# model_2 is the same architecture as MNISTModel\n",
    "model_2 = MNISTModel(input_shape=1,\n",
    "                      hidden_units=10,\n",
    "                      output_shape=10).to(device)\n",
    "model_2"
   ]
  },
  {
   "cell_type": "markdown",
   "metadata": {},
   "source": [
    "# Setup loss and optimizer\n",
    "from torch import nn\n",
    "loss_fn = nn.CrossEntropyLoss()\n",
    "optimizer = torch.optim.SGD(model_2.parameters(), lr=0.01)"
   ]
  },
  {
   "cell_type": "markdown",
   "metadata": {},
   "source": [
    "# Setup metrics\n",
    "from tqdm.auto import tqdm\n",
    "from torchmetrics import Accuracy\n",
    "\n",
    "acc_fn = Accuracy(task=\"multiclass\", num_classes=len(fashion_mnist_class_names)).to(device) \n",
    "\n",
    "# Setup training/testing loop\n",
    "epochs = 2\n",
    "for epoch in tqdm(range(epochs)):\n",
    "  train_loss, test_loss_total = 0, 0\n",
    "  train_acc, test_acc = 0, 0 \n",
    "\n",
    "  ### Training\n",
    "  model_2.train()\n",
    "  for batch, (X_train, y_train) in enumerate(fashion_mnist_train_dataloader):\n",
    "    X_train, y_train = X_train.to(device), y_train.to(device)\n",
    "\n",
    "    # Forward pass and loss\n",
    "    y_pred = model_2(X_train)\n",
    "    loss = loss_fn(y_pred, y_train)\n",
    "    train_loss += loss\n",
    "    train_acc += acc_fn(y_pred, y_train)\n",
    "\n",
    "    # Backprop and gradient descent\n",
    "    optimizer.zero_grad()\n",
    "    loss.backward() \n",
    "    optimizer.step()\n",
    "\n",
    "  # Adjust the loss/acc (find the loss/acc per epoch)\n",
    "  train_loss /= len(fashion_mnist_train_dataloader)\n",
    "  train_acc /= len(fashion_mnist_train_dataloader)\n",
    "\n",
    "  ### Testing\n",
    "  model_2.eval()\n",
    "  with torch.inference_mode():\n",
    "    for batch, (X_test, y_test) in enumerate(fashion_mnist_test_dataloader):\n",
    "      X_test, y_test = X_test.to(device), y_test.to(device)\n",
    "\n",
    "      # Forward pass and loss\n",
    "      y_pred_test = model_2(X_test)\n",
    "      test_loss = loss_fn(y_pred_test, y_test)\n",
    "      test_loss_total += test_loss\n",
    "\n",
    "      test_acc += acc_fn(y_pred_test, y_test)\n",
    "  \n",
    "    # Adjust the loss/acc (find the loss/acc per epoch)\n",
    "    test_loss /= len(fashion_mnist_test_dataloader)\n",
    "    test_acc /= len(fashion_mnist_test_dataloader)\n",
    "    \n",
    "  # Print out what's happening\n",
    "  print(f\"Epoch: {epoch} | Train loss: {train_loss:.3f} | Train acc: {train_acc:.2f} | Test loss: {test_loss_total:.3f} | Test acc: {test_acc:.2f}\")"
   ]
  },
  {
   "cell_type": "markdown",
   "metadata": {},
   "source": [
    "# Make predictions with trained model_2\n",
    "test_preds = []\n",
    "model_2.eval()\n",
    "with torch.inference_mode():\n",
    "  for X_test, y_test in tqdm(fashion_mnist_test_dataloader):\n",
    "    y_logits = model_2(X_test.to(device))\n",
    "    y_pred_probs = torch.softmax(y_logits, dim=1)\n",
    "    y_pred_labels = torch.argmax(y_pred_probs, dim=1)\n",
    "    test_preds.append(y_pred_labels)\n",
    "test_preds = torch.cat(test_preds).cpu() # matplotlib likes CPU\n",
    "test_preds[:10], len(test_preds)    "
   ]
  },
  {
   "cell_type": "markdown",
   "metadata": {},
   "source": [
    "# Get wrong prediction indexes\n",
    "import numpy as np\n",
    "wrong_pred_indexes = np.where(test_preds != fashion_mnist_test.targets)[0]\n",
    "len(wrong_pred_indexes)"
   ]
  },
  {
   "cell_type": "markdown",
   "metadata": {},
   "source": [
    "# Select random 9 wrong predictions and plot them\n",
    "import random\n",
    "random_selection = random.sample(list(wrong_pred_indexes), k=9)\n",
    "\n",
    "plt.figure(figsize=(10, 10))\n",
    "for i, idx in enumerate(random_selection):\n",
    "  # Get true and pred labels\n",
    "  true_label = fashion_mnist_class_names[fashion_mnist_test[idx][1]]\n",
    "  pred_label = fashion_mnist_class_names[test_preds[idx]]\n",
    "\n",
    "  # Plot the wrong prediction with its original label\n",
    "  plt.subplot(3, 3, i+1)\n",
    "  plt.imshow(fashion_mnist_test[idx][0].squeeze(), cmap=\"gray\")\n",
    "  plt.title(f\"True: {true_label} | Pred: {pred_label}\", c=\"r\")\n",
    "  plt.axis(False)"
   ]
  },
  {
   "cell_type": "markdown",
   "metadata": {
    "id": "xoDfh-fKXtyU"
   },
   "source": [
    "From the look of some of these predictions, the model is getting about as confused as I would...\n",
    "\n",
    "For example it predicts \"Sneaker\" instead of \"Sandal\" when it could have easily been a \"Sneaker\".\n",
    "\n",
    "The same goes for the confusion between the classes of \"T-shirt/top\" and \"Shirt\", many of the examples here look similar."
   ]
  }
 ],
 "metadata": {
  "accelerator": "GPU",
  "colab": {
   "authorship_tag": "ABX9TyOnW8A8G3kaKJ58HLc6IXYQ",
   "collapsed_sections": [],
   "include_colab_link": true,
   "name": "03_pytorch_computer_vision_exercise_solutions.ipynb",
   "provenance": []
  },
  "kernelspec": {
   "display_name": "Python 3 (ipykernel)",
   "language": "python",
   "name": "python3"
  },
  "language_info": {
   "codemirror_mode": {
    "name": "ipython",
    "version": 3
   },
   "file_extension": ".py",
   "mimetype": "text/x-python",
   "name": "python",
   "nbconvert_exporter": "python",
   "pygments_lexer": "ipython3",
   "version": "3.9.16"
  },
  "widgets": {
   "application/vnd.jupyter.widget-state+json": {
    "00b8d54af39a4ba4bd9e488ecaa37772": {
     "model_module": "@jupyter-widgets/controls",
     "model_module_version": "1.5.0",
     "model_name": "HTMLModel",
     "state": {
      "_dom_classes": [],
      "_model_module": "@jupyter-widgets/controls",
      "_model_module_version": "1.5.0",
      "_model_name": "HTMLModel",
      "_view_count": null,
      "_view_module": "@jupyter-widgets/controls",
      "_view_module_version": "1.5.0",
      "_view_name": "HTMLView",
      "description": "",
      "description_tooltip": null,
      "layout": "IPY_MODEL_3aa64a1f9a4f4f38b710d2a28b26c19f",
      "placeholder": "​",
      "style": "IPY_MODEL_a35d16d75b5b4f27b26828af2154a3d5",
      "value": " 5/5 [03:28&lt;00:00, 41.05s/it]"
     }
    },
    "091a2fc4fc9b4e9c8e683d2a04f01073": {
     "model_module": "@jupyter-widgets/base",
     "model_module_version": "1.2.0",
     "model_name": "LayoutModel",
     "state": {
      "_model_module": "@jupyter-widgets/base",
      "_model_module_version": "1.2.0",
      "_model_name": "LayoutModel",
      "_view_count": null,
      "_view_module": "@jupyter-widgets/base",
      "_view_module_version": "1.2.0",
      "_view_name": "LayoutView",
      "align_content": null,
      "align_items": null,
      "align_self": null,
      "border": null,
      "bottom": null,
      "display": null,
      "flex": null,
      "flex_flow": null,
      "grid_area": null,
      "grid_auto_columns": null,
      "grid_auto_flow": null,
      "grid_auto_rows": null,
      "grid_column": null,
      "grid_gap": null,
      "grid_row": null,
      "grid_template_areas": null,
      "grid_template_columns": null,
      "grid_template_rows": null,
      "height": null,
      "justify_content": null,
      "justify_items": null,
      "left": null,
      "margin": null,
      "max_height": null,
      "max_width": null,
      "min_height": null,
      "min_width": null,
      "object_fit": null,
      "object_position": null,
      "order": null,
      "overflow": null,
      "overflow_x": null,
      "overflow_y": null,
      "padding": null,
      "right": null,
      "top": null,
      "visibility": null,
      "width": null
     }
    },
    "11278b21b19f4ec4b163313b42a7c9ef": {
     "model_module": "@jupyter-widgets/base",
     "model_module_version": "1.2.0",
     "model_name": "LayoutModel",
     "state": {
      "_model_module": "@jupyter-widgets/base",
      "_model_module_version": "1.2.0",
      "_model_name": "LayoutModel",
      "_view_count": null,
      "_view_module": "@jupyter-widgets/base",
      "_view_module_version": "1.2.0",
      "_view_name": "LayoutView",
      "align_content": null,
      "align_items": null,
      "align_self": null,
      "border": null,
      "bottom": null,
      "display": null,
      "flex": null,
      "flex_flow": null,
      "grid_area": null,
      "grid_auto_columns": null,
      "grid_auto_flow": null,
      "grid_auto_rows": null,
      "grid_column": null,
      "grid_gap": null,
      "grid_row": null,
      "grid_template_areas": null,
      "grid_template_columns": null,
      "grid_template_rows": null,
      "height": null,
      "justify_content": null,
      "justify_items": null,
      "left": null,
      "margin": null,
      "max_height": null,
      "max_width": null,
      "min_height": null,
      "min_width": null,
      "object_fit": null,
      "object_position": null,
      "order": null,
      "overflow": null,
      "overflow_x": null,
      "overflow_y": null,
      "padding": null,
      "right": null,
      "top": null,
      "visibility": null,
      "width": null
     }
    },
    "139588c346c042f8a5f67722166cd6b7": {
     "model_module": "@jupyter-widgets/controls",
     "model_module_version": "1.5.0",
     "model_name": "FloatProgressModel",
     "state": {
      "_dom_classes": [],
      "_model_module": "@jupyter-widgets/controls",
      "_model_module_version": "1.5.0",
      "_model_name": "FloatProgressModel",
      "_view_count": null,
      "_view_module": "@jupyter-widgets/controls",
      "_view_module_version": "1.5.0",
      "_view_name": "ProgressView",
      "bar_style": "success",
      "description": "",
      "description_tooltip": null,
      "layout": "IPY_MODEL_e6a2483643c3481ea529538b8c86b8f3",
      "max": 313,
      "min": 0,
      "orientation": "horizontal",
      "style": "IPY_MODEL_b452afd37618427a801b35a9a6b0b310",
      "value": 313
     }
    },
    "14ae9f7185124afcab1ca2e38ecbd81b": {
     "model_module": "@jupyter-widgets/controls",
     "model_module_version": "1.5.0",
     "model_name": "DescriptionStyleModel",
     "state": {
      "_model_module": "@jupyter-widgets/controls",
      "_model_module_version": "1.5.0",
      "_model_name": "DescriptionStyleModel",
      "_view_count": null,
      "_view_module": "@jupyter-widgets/base",
      "_view_module_version": "1.2.0",
      "_view_name": "StyleView",
      "description_width": ""
     }
    },
    "17ba6b57f29a42f9a525db0bbe3bdb68": {
     "model_module": "@jupyter-widgets/base",
     "model_module_version": "1.2.0",
     "model_name": "LayoutModel",
     "state": {
      "_model_module": "@jupyter-widgets/base",
      "_model_module_version": "1.2.0",
      "_model_name": "LayoutModel",
      "_view_count": null,
      "_view_module": "@jupyter-widgets/base",
      "_view_module_version": "1.2.0",
      "_view_name": "LayoutView",
      "align_content": null,
      "align_items": null,
      "align_self": null,
      "border": null,
      "bottom": null,
      "display": null,
      "flex": null,
      "flex_flow": null,
      "grid_area": null,
      "grid_auto_columns": null,
      "grid_auto_flow": null,
      "grid_auto_rows": null,
      "grid_column": null,
      "grid_gap": null,
      "grid_row": null,
      "grid_template_areas": null,
      "grid_template_columns": null,
      "grid_template_rows": null,
      "height": null,
      "justify_content": null,
      "justify_items": null,
      "left": null,
      "margin": null,
      "max_height": null,
      "max_width": null,
      "min_height": null,
      "min_width": null,
      "object_fit": null,
      "object_position": null,
      "order": null,
      "overflow": null,
      "overflow_x": null,
      "overflow_y": null,
      "padding": null,
      "right": null,
      "top": null,
      "visibility": null,
      "width": null
     }
    },
    "1820ad9809494ec1a755344245e91dda": {
     "model_module": "@jupyter-widgets/controls",
     "model_module_version": "1.5.0",
     "model_name": "HTMLModel",
     "state": {
      "_dom_classes": [],
      "_model_module": "@jupyter-widgets/controls",
      "_model_module_version": "1.5.0",
      "_model_name": "HTMLModel",
      "_view_count": null,
      "_view_module": "@jupyter-widgets/controls",
      "_view_module_version": "1.5.0",
      "_view_name": "HTMLView",
      "description": "",
      "description_tooltip": null,
      "layout": "IPY_MODEL_f88e19b433254b69a26a08378073a6ca",
      "placeholder": "​",
      "style": "IPY_MODEL_198d76ef4b0c4cc7809b3a99b969f2f7",
      "value": " 313/313 [00:00&lt;00:00, 325.62it/s]"
     }
    },
    "1853564527f045d7bcb510f62b45489f": {
     "model_module": "@jupyter-widgets/base",
     "model_module_version": "1.2.0",
     "model_name": "LayoutModel",
     "state": {
      "_model_module": "@jupyter-widgets/base",
      "_model_module_version": "1.2.0",
      "_model_name": "LayoutModel",
      "_view_count": null,
      "_view_module": "@jupyter-widgets/base",
      "_view_module_version": "1.2.0",
      "_view_name": "LayoutView",
      "align_content": null,
      "align_items": null,
      "align_self": null,
      "border": null,
      "bottom": null,
      "display": null,
      "flex": null,
      "flex_flow": null,
      "grid_area": null,
      "grid_auto_columns": null,
      "grid_auto_flow": null,
      "grid_auto_rows": null,
      "grid_column": null,
      "grid_gap": null,
      "grid_row": null,
      "grid_template_areas": null,
      "grid_template_columns": null,
      "grid_template_rows": null,
      "height": null,
      "justify_content": null,
      "justify_items": null,
      "left": null,
      "margin": null,
      "max_height": null,
      "max_width": null,
      "min_height": null,
      "min_width": null,
      "object_fit": null,
      "object_position": null,
      "order": null,
      "overflow": null,
      "overflow_x": null,
      "overflow_y": null,
      "padding": null,
      "right": null,
      "top": null,
      "visibility": null,
      "width": null
     }
    },
    "194f0886026b47b4bc1855151ad97034": {
     "model_module": "@jupyter-widgets/controls",
     "model_module_version": "1.5.0",
     "model_name": "HTMLModel",
     "state": {
      "_dom_classes": [],
      "_model_module": "@jupyter-widgets/controls",
      "_model_module_version": "1.5.0",
      "_model_name": "HTMLModel",
      "_view_count": null,
      "_view_module": "@jupyter-widgets/controls",
      "_view_module_version": "1.5.0",
      "_view_name": "HTMLView",
      "description": "",
      "description_tooltip": null,
      "layout": "IPY_MODEL_2e97b9ce8eca4a4d8d1b68a5c19fbe11",
      "placeholder": "​",
      "style": "IPY_MODEL_14ae9f7185124afcab1ca2e38ecbd81b",
      "value": " 313/? [00:01&lt;00:00, 322.62it/s]"
     }
    },
    "198d76ef4b0c4cc7809b3a99b969f2f7": {
     "model_module": "@jupyter-widgets/controls",
     "model_module_version": "1.5.0",
     "model_name": "DescriptionStyleModel",
     "state": {
      "_model_module": "@jupyter-widgets/controls",
      "_model_module_version": "1.5.0",
      "_model_name": "DescriptionStyleModel",
      "_view_count": null,
      "_view_module": "@jupyter-widgets/base",
      "_view_module_version": "1.2.0",
      "_view_name": "StyleView",
      "description_width": ""
     }
    },
    "1a802f281ef24b9ca5949ff3106b88ef": {
     "model_module": "@jupyter-widgets/controls",
     "model_module_version": "1.5.0",
     "model_name": "DescriptionStyleModel",
     "state": {
      "_model_module": "@jupyter-widgets/controls",
      "_model_module_version": "1.5.0",
      "_model_name": "DescriptionStyleModel",
      "_view_count": null,
      "_view_module": "@jupyter-widgets/base",
      "_view_module_version": "1.2.0",
      "_view_name": "StyleView",
      "description_width": ""
     }
    },
    "2e97b9ce8eca4a4d8d1b68a5c19fbe11": {
     "model_module": "@jupyter-widgets/base",
     "model_module_version": "1.2.0",
     "model_name": "LayoutModel",
     "state": {
      "_model_module": "@jupyter-widgets/base",
      "_model_module_version": "1.2.0",
      "_model_name": "LayoutModel",
      "_view_count": null,
      "_view_module": "@jupyter-widgets/base",
      "_view_module_version": "1.2.0",
      "_view_name": "LayoutView",
      "align_content": null,
      "align_items": null,
      "align_self": null,
      "border": null,
      "bottom": null,
      "display": null,
      "flex": null,
      "flex_flow": null,
      "grid_area": null,
      "grid_auto_columns": null,
      "grid_auto_flow": null,
      "grid_auto_rows": null,
      "grid_column": null,
      "grid_gap": null,
      "grid_row": null,
      "grid_template_areas": null,
      "grid_template_columns": null,
      "grid_template_rows": null,
      "height": null,
      "justify_content": null,
      "justify_items": null,
      "left": null,
      "margin": null,
      "max_height": null,
      "max_width": null,
      "min_height": null,
      "min_width": null,
      "object_fit": null,
      "object_position": null,
      "order": null,
      "overflow": null,
      "overflow_x": null,
      "overflow_y": null,
      "padding": null,
      "right": null,
      "top": null,
      "visibility": null,
      "width": null
     }
    },
    "2f37f541c8f949eab60200d46fbc8b05": {
     "model_module": "@jupyter-widgets/controls",
     "model_module_version": "1.5.0",
     "model_name": "HTMLModel",
     "state": {
      "_dom_classes": [],
      "_model_module": "@jupyter-widgets/controls",
      "_model_module_version": "1.5.0",
      "_model_name": "HTMLModel",
      "_view_count": null,
      "_view_module": "@jupyter-widgets/controls",
      "_view_module_version": "1.5.0",
      "_view_name": "HTMLView",
      "description": "",
      "description_tooltip": null,
      "layout": "IPY_MODEL_17ba6b57f29a42f9a525db0bbe3bdb68",
      "placeholder": "​",
      "style": "IPY_MODEL_d29972a957884ef0bf2d4ac167eb2218",
      "value": " 5/5 [00:43&lt;00:00,  8.76s/it]"
     }
    },
    "3913cd7ccbfa4fa29305a7a34c0a6846": {
     "model_module": "@jupyter-widgets/base",
     "model_module_version": "1.2.0",
     "model_name": "LayoutModel",
     "state": {
      "_model_module": "@jupyter-widgets/base",
      "_model_module_version": "1.2.0",
      "_model_name": "LayoutModel",
      "_view_count": null,
      "_view_module": "@jupyter-widgets/base",
      "_view_module_version": "1.2.0",
      "_view_name": "LayoutView",
      "align_content": null,
      "align_items": null,
      "align_self": null,
      "border": null,
      "bottom": null,
      "display": null,
      "flex": null,
      "flex_flow": null,
      "grid_area": null,
      "grid_auto_columns": null,
      "grid_auto_flow": null,
      "grid_auto_rows": null,
      "grid_column": null,
      "grid_gap": null,
      "grid_row": null,
      "grid_template_areas": null,
      "grid_template_columns": null,
      "grid_template_rows": null,
      "height": null,
      "justify_content": null,
      "justify_items": null,
      "left": null,
      "margin": null,
      "max_height": null,
      "max_width": null,
      "min_height": null,
      "min_width": null,
      "object_fit": null,
      "object_position": null,
      "order": null,
      "overflow": null,
      "overflow_x": null,
      "overflow_y": null,
      "padding": null,
      "right": null,
      "top": null,
      "visibility": null,
      "width": null
     }
    },
    "3aa64a1f9a4f4f38b710d2a28b26c19f": {
     "model_module": "@jupyter-widgets/base",
     "model_module_version": "1.2.0",
     "model_name": "LayoutModel",
     "state": {
      "_model_module": "@jupyter-widgets/base",
      "_model_module_version": "1.2.0",
      "_model_name": "LayoutModel",
      "_view_count": null,
      "_view_module": "@jupyter-widgets/base",
      "_view_module_version": "1.2.0",
      "_view_name": "LayoutView",
      "align_content": null,
      "align_items": null,
      "align_self": null,
      "border": null,
      "bottom": null,
      "display": null,
      "flex": null,
      "flex_flow": null,
      "grid_area": null,
      "grid_auto_columns": null,
      "grid_auto_flow": null,
      "grid_auto_rows": null,
      "grid_column": null,
      "grid_gap": null,
      "grid_row": null,
      "grid_template_areas": null,
      "grid_template_columns": null,
      "grid_template_rows": null,
      "height": null,
      "justify_content": null,
      "justify_items": null,
      "left": null,
      "margin": null,
      "max_height": null,
      "max_width": null,
      "min_height": null,
      "min_width": null,
      "object_fit": null,
      "object_position": null,
      "order": null,
      "overflow": null,
      "overflow_x": null,
      "overflow_y": null,
      "padding": null,
      "right": null,
      "top": null,
      "visibility": null,
      "width": null
     }
    },
    "430e20b56d344c1d9942e4b50b77be77": {
     "model_module": "@jupyter-widgets/base",
     "model_module_version": "1.2.0",
     "model_name": "LayoutModel",
     "state": {
      "_model_module": "@jupyter-widgets/base",
      "_model_module_version": "1.2.0",
      "_model_name": "LayoutModel",
      "_view_count": null,
      "_view_module": "@jupyter-widgets/base",
      "_view_module_version": "1.2.0",
      "_view_name": "LayoutView",
      "align_content": null,
      "align_items": null,
      "align_self": null,
      "border": null,
      "bottom": null,
      "display": null,
      "flex": null,
      "flex_flow": null,
      "grid_area": null,
      "grid_auto_columns": null,
      "grid_auto_flow": null,
      "grid_auto_rows": null,
      "grid_column": null,
      "grid_gap": null,
      "grid_row": null,
      "grid_template_areas": null,
      "grid_template_columns": null,
      "grid_template_rows": null,
      "height": null,
      "justify_content": null,
      "justify_items": null,
      "left": null,
      "margin": null,
      "max_height": null,
      "max_width": null,
      "min_height": null,
      "min_width": null,
      "object_fit": null,
      "object_position": null,
      "order": null,
      "overflow": null,
      "overflow_x": null,
      "overflow_y": null,
      "padding": null,
      "right": null,
      "top": null,
      "visibility": null,
      "width": null
     }
    },
    "49a6ff8d5ce347528577eb3896b425d9": {
     "model_module": "@jupyter-widgets/base",
     "model_module_version": "1.2.0",
     "model_name": "LayoutModel",
     "state": {
      "_model_module": "@jupyter-widgets/base",
      "_model_module_version": "1.2.0",
      "_model_name": "LayoutModel",
      "_view_count": null,
      "_view_module": "@jupyter-widgets/base",
      "_view_module_version": "1.2.0",
      "_view_name": "LayoutView",
      "align_content": null,
      "align_items": null,
      "align_self": null,
      "border": null,
      "bottom": null,
      "display": null,
      "flex": null,
      "flex_flow": null,
      "grid_area": null,
      "grid_auto_columns": null,
      "grid_auto_flow": null,
      "grid_auto_rows": null,
      "grid_column": null,
      "grid_gap": null,
      "grid_row": null,
      "grid_template_areas": null,
      "grid_template_columns": null,
      "grid_template_rows": null,
      "height": null,
      "justify_content": null,
      "justify_items": null,
      "left": null,
      "margin": null,
      "max_height": null,
      "max_width": null,
      "min_height": null,
      "min_width": null,
      "object_fit": null,
      "object_position": null,
      "order": null,
      "overflow": null,
      "overflow_x": null,
      "overflow_y": null,
      "padding": null,
      "right": null,
      "top": null,
      "visibility": null,
      "width": null
     }
    },
    "4bea2e3d735e4c569fc5026bf0e36b9b": {
     "model_module": "@jupyter-widgets/controls",
     "model_module_version": "1.5.0",
     "model_name": "DescriptionStyleModel",
     "state": {
      "_model_module": "@jupyter-widgets/controls",
      "_model_module_version": "1.5.0",
      "_model_name": "DescriptionStyleModel",
      "_view_count": null,
      "_view_module": "@jupyter-widgets/base",
      "_view_module_version": "1.2.0",
      "_view_name": "StyleView",
      "description_width": ""
     }
    },
    "4c2b4be7117d4043b56d6b4e05251d9e": {
     "model_module": "@jupyter-widgets/controls",
     "model_module_version": "1.5.0",
     "model_name": "HTMLModel",
     "state": {
      "_dom_classes": [],
      "_model_module": "@jupyter-widgets/controls",
      "_model_module_version": "1.5.0",
      "_model_name": "HTMLModel",
      "_view_count": null,
      "_view_module": "@jupyter-widgets/controls",
      "_view_module_version": "1.5.0",
      "_view_name": "HTMLView",
      "description": "",
      "description_tooltip": null,
      "layout": "IPY_MODEL_1853564527f045d7bcb510f62b45489f",
      "placeholder": "​",
      "style": "IPY_MODEL_adf4f0bbf7d44ae3a13b627bd754e421",
      "value": "100%"
     }
    },
    "4cc05625e0834781b9f65bd31d2f5fb0": {
     "model_module": "@jupyter-widgets/controls",
     "model_module_version": "1.5.0",
     "model_name": "DescriptionStyleModel",
     "state": {
      "_model_module": "@jupyter-widgets/controls",
      "_model_module_version": "1.5.0",
      "_model_name": "DescriptionStyleModel",
      "_view_count": null,
      "_view_module": "@jupyter-widgets/base",
      "_view_module_version": "1.2.0",
      "_view_name": "StyleView",
      "description_width": ""
     }
    },
    "5171c1cc4aca4737b46b99ed9a7ab9da": {
     "model_module": "@jupyter-widgets/controls",
     "model_module_version": "1.5.0",
     "model_name": "FloatProgressModel",
     "state": {
      "_dom_classes": [],
      "_model_module": "@jupyter-widgets/controls",
      "_model_module_version": "1.5.0",
      "_model_name": "FloatProgressModel",
      "_view_count": null,
      "_view_module": "@jupyter-widgets/controls",
      "_view_module_version": "1.5.0",
      "_view_name": "ProgressView",
      "bar_style": "success",
      "description": "",
      "description_tooltip": null,
      "layout": "IPY_MODEL_faa2697a0c274661886e031ab42e0a04",
      "max": 5,
      "min": 0,
      "orientation": "horizontal",
      "style": "IPY_MODEL_9cec1b0eee41441899c4d7fb743fa33e",
      "value": 5
     }
    },
    "561e8d9c749b4be0a126db44e263145b": {
     "model_module": "@jupyter-widgets/controls",
     "model_module_version": "1.5.0",
     "model_name": "FloatProgressModel",
     "state": {
      "_dom_classes": [],
      "_model_module": "@jupyter-widgets/controls",
      "_model_module_version": "1.5.0",
      "_model_name": "FloatProgressModel",
      "_view_count": null,
      "_view_module": "@jupyter-widgets/controls",
      "_view_module_version": "1.5.0",
      "_view_name": "ProgressView",
      "bar_style": "success",
      "description": "",
      "description_tooltip": null,
      "layout": "IPY_MODEL_d082717fb8e94afe8a3c129c9b57d3ce",
      "max": 5,
      "min": 0,
      "orientation": "horizontal",
      "style": "IPY_MODEL_ed1fe3209f9440a38bcfa77b89f5c8ad",
      "value": 5
     }
    },
    "59a28ded11914e88a8d54c8bac21e3a4": {
     "model_module": "@jupyter-widgets/controls",
     "model_module_version": "1.5.0",
     "model_name": "HTMLModel",
     "state": {
      "_dom_classes": [],
      "_model_module": "@jupyter-widgets/controls",
      "_model_module_version": "1.5.0",
      "_model_name": "HTMLModel",
      "_view_count": null,
      "_view_module": "@jupyter-widgets/controls",
      "_view_module_version": "1.5.0",
      "_view_name": "HTMLView",
      "description": "",
      "description_tooltip": null,
      "layout": "IPY_MODEL_11278b21b19f4ec4b163313b42a7c9ef",
      "placeholder": "​",
      "style": "IPY_MODEL_4bea2e3d735e4c569fc5026bf0e36b9b",
      "value": ""
     }
    },
    "6050da7f27f747e58ee98250544bad03": {
     "model_module": "@jupyter-widgets/base",
     "model_module_version": "1.2.0",
     "model_name": "LayoutModel",
     "state": {
      "_model_module": "@jupyter-widgets/base",
      "_model_module_version": "1.2.0",
      "_model_name": "LayoutModel",
      "_view_count": null,
      "_view_module": "@jupyter-widgets/base",
      "_view_module_version": "1.2.0",
      "_view_name": "LayoutView",
      "align_content": null,
      "align_items": null,
      "align_self": null,
      "border": null,
      "bottom": null,
      "display": null,
      "flex": null,
      "flex_flow": null,
      "grid_area": null,
      "grid_auto_columns": null,
      "grid_auto_flow": null,
      "grid_auto_rows": null,
      "grid_column": null,
      "grid_gap": null,
      "grid_row": null,
      "grid_template_areas": null,
      "grid_template_columns": null,
      "grid_template_rows": null,
      "height": null,
      "justify_content": null,
      "justify_items": null,
      "left": null,
      "margin": null,
      "max_height": null,
      "max_width": null,
      "min_height": null,
      "min_width": null,
      "object_fit": null,
      "object_position": null,
      "order": null,
      "overflow": null,
      "overflow_x": null,
      "overflow_y": null,
      "padding": null,
      "right": null,
      "top": null,
      "visibility": null,
      "width": null
     }
    },
    "61814ca3a0704d0d84cededc512f96a4": {
     "model_module": "@jupyter-widgets/controls",
     "model_module_version": "1.5.0",
     "model_name": "ProgressStyleModel",
     "state": {
      "_model_module": "@jupyter-widgets/controls",
      "_model_module_version": "1.5.0",
      "_model_name": "ProgressStyleModel",
      "_view_count": null,
      "_view_module": "@jupyter-widgets/base",
      "_view_module_version": "1.2.0",
      "_view_name": "StyleView",
      "bar_color": null,
      "description_width": ""
     }
    },
    "61e487bf20834fbb889f25cb5d46e311": {
     "model_module": "@jupyter-widgets/controls",
     "model_module_version": "1.5.0",
     "model_name": "HTMLModel",
     "state": {
      "_dom_classes": [],
      "_model_module": "@jupyter-widgets/controls",
      "_model_module_version": "1.5.0",
      "_model_name": "HTMLModel",
      "_view_count": null,
      "_view_module": "@jupyter-widgets/controls",
      "_view_module_version": "1.5.0",
      "_view_name": "HTMLView",
      "description": "",
      "description_tooltip": null,
      "layout": "IPY_MODEL_091a2fc4fc9b4e9c8e683d2a04f01073",
      "placeholder": "​",
      "style": "IPY_MODEL_637a295bd69f412788f6073065a18934",
      "value": "100%"
     }
    },
    "637a295bd69f412788f6073065a18934": {
     "model_module": "@jupyter-widgets/controls",
     "model_module_version": "1.5.0",
     "model_name": "DescriptionStyleModel",
     "state": {
      "_model_module": "@jupyter-widgets/controls",
      "_model_module_version": "1.5.0",
      "_model_name": "DescriptionStyleModel",
      "_view_count": null,
      "_view_module": "@jupyter-widgets/base",
      "_view_module_version": "1.2.0",
      "_view_name": "StyleView",
      "description_width": ""
     }
    },
    "671a67e7a2a94007bfb337e0a3f20ca7": {
     "model_module": "@jupyter-widgets/controls",
     "model_module_version": "1.5.0",
     "model_name": "HBoxModel",
     "state": {
      "_dom_classes": [],
      "_model_module": "@jupyter-widgets/controls",
      "_model_module_version": "1.5.0",
      "_model_name": "HBoxModel",
      "_view_count": null,
      "_view_module": "@jupyter-widgets/controls",
      "_view_module_version": "1.5.0",
      "_view_name": "HBoxView",
      "box_style": "",
      "children": [
       "IPY_MODEL_61e487bf20834fbb889f25cb5d46e311",
       "IPY_MODEL_139588c346c042f8a5f67722166cd6b7",
       "IPY_MODEL_1820ad9809494ec1a755344245e91dda"
      ],
      "layout": "IPY_MODEL_6050da7f27f747e58ee98250544bad03"
     }
    },
    "6fb3df7d7bec4e92abdf872d4cc50f9c": {
     "model_module": "@jupyter-widgets/controls",
     "model_module_version": "1.5.0",
     "model_name": "FloatProgressModel",
     "state": {
      "_dom_classes": [],
      "_model_module": "@jupyter-widgets/controls",
      "_model_module_version": "1.5.0",
      "_model_name": "FloatProgressModel",
      "_view_count": null,
      "_view_module": "@jupyter-widgets/controls",
      "_view_module_version": "1.5.0",
      "_view_name": "ProgressView",
      "bar_style": "success",
      "description": "",
      "description_tooltip": null,
      "layout": "IPY_MODEL_f219941b11dd42afba6e5d9fb9be7c4b",
      "max": 1,
      "min": 0,
      "orientation": "horizontal",
      "style": "IPY_MODEL_829d30f9c02f46358bcc78768fabc3c5",
      "value": 1
     }
    },
    "800977f38e5e45f9bb7b8f43fe78ea9c": {
     "model_module": "@jupyter-widgets/controls",
     "model_module_version": "1.5.0",
     "model_name": "FloatProgressModel",
     "state": {
      "_dom_classes": [],
      "_model_module": "@jupyter-widgets/controls",
      "_model_module_version": "1.5.0",
      "_model_name": "FloatProgressModel",
      "_view_count": null,
      "_view_module": "@jupyter-widgets/controls",
      "_view_module_version": "1.5.0",
      "_view_name": "ProgressView",
      "bar_style": "success",
      "description": "",
      "description_tooltip": null,
      "layout": "IPY_MODEL_3913cd7ccbfa4fa29305a7a34c0a6846",
      "max": 5,
      "min": 0,
      "orientation": "horizontal",
      "style": "IPY_MODEL_61814ca3a0704d0d84cededc512f96a4",
      "value": 5
     }
    },
    "8241d895e996490f9e40f2393f3ee7f9": {
     "model_module": "@jupyter-widgets/controls",
     "model_module_version": "1.5.0",
     "model_name": "HTMLModel",
     "state": {
      "_dom_classes": [],
      "_model_module": "@jupyter-widgets/controls",
      "_model_module_version": "1.5.0",
      "_model_name": "HTMLModel",
      "_view_count": null,
      "_view_module": "@jupyter-widgets/controls",
      "_view_module_version": "1.5.0",
      "_view_name": "HTMLView",
      "description": "",
      "description_tooltip": null,
      "layout": "IPY_MODEL_430e20b56d344c1d9942e4b50b77be77",
      "placeholder": "​",
      "style": "IPY_MODEL_c7374c0a769a4dac96ace3670e6800e4",
      "value": " 5/5 [01:14&lt;00:00, 14.37s/it]"
     }
    },
    "829d30f9c02f46358bcc78768fabc3c5": {
     "model_module": "@jupyter-widgets/controls",
     "model_module_version": "1.5.0",
     "model_name": "ProgressStyleModel",
     "state": {
      "_model_module": "@jupyter-widgets/controls",
      "_model_module_version": "1.5.0",
      "_model_name": "ProgressStyleModel",
      "_view_count": null,
      "_view_module": "@jupyter-widgets/base",
      "_view_module_version": "1.2.0",
      "_view_name": "StyleView",
      "bar_color": null,
      "description_width": ""
     }
    },
    "8695077763e749559af9cec55f651006": {
     "model_module": "@jupyter-widgets/base",
     "model_module_version": "1.2.0",
     "model_name": "LayoutModel",
     "state": {
      "_model_module": "@jupyter-widgets/base",
      "_model_module_version": "1.2.0",
      "_model_name": "LayoutModel",
      "_view_count": null,
      "_view_module": "@jupyter-widgets/base",
      "_view_module_version": "1.2.0",
      "_view_name": "LayoutView",
      "align_content": null,
      "align_items": null,
      "align_self": null,
      "border": null,
      "bottom": null,
      "display": null,
      "flex": null,
      "flex_flow": null,
      "grid_area": null,
      "grid_auto_columns": null,
      "grid_auto_flow": null,
      "grid_auto_rows": null,
      "grid_column": null,
      "grid_gap": null,
      "grid_row": null,
      "grid_template_areas": null,
      "grid_template_columns": null,
      "grid_template_rows": null,
      "height": null,
      "justify_content": null,
      "justify_items": null,
      "left": null,
      "margin": null,
      "max_height": null,
      "max_width": null,
      "min_height": null,
      "min_width": null,
      "object_fit": null,
      "object_position": null,
      "order": null,
      "overflow": null,
      "overflow_x": null,
      "overflow_y": null,
      "padding": null,
      "right": null,
      "top": null,
      "visibility": null,
      "width": null
     }
    },
    "9cec1b0eee41441899c4d7fb743fa33e": {
     "model_module": "@jupyter-widgets/controls",
     "model_module_version": "1.5.0",
     "model_name": "ProgressStyleModel",
     "state": {
      "_model_module": "@jupyter-widgets/controls",
      "_model_module_version": "1.5.0",
      "_model_name": "ProgressStyleModel",
      "_view_count": null,
      "_view_module": "@jupyter-widgets/base",
      "_view_module_version": "1.2.0",
      "_view_name": "StyleView",
      "bar_color": null,
      "description_width": ""
     }
    },
    "9fbb80c57c814ab6bf0205ba1b1a71e9": {
     "model_module": "@jupyter-widgets/base",
     "model_module_version": "1.2.0",
     "model_name": "LayoutModel",
     "state": {
      "_model_module": "@jupyter-widgets/base",
      "_model_module_version": "1.2.0",
      "_model_name": "LayoutModel",
      "_view_count": null,
      "_view_module": "@jupyter-widgets/base",
      "_view_module_version": "1.2.0",
      "_view_name": "LayoutView",
      "align_content": null,
      "align_items": null,
      "align_self": null,
      "border": null,
      "bottom": null,
      "display": null,
      "flex": null,
      "flex_flow": null,
      "grid_area": null,
      "grid_auto_columns": null,
      "grid_auto_flow": null,
      "grid_auto_rows": null,
      "grid_column": null,
      "grid_gap": null,
      "grid_row": null,
      "grid_template_areas": null,
      "grid_template_columns": null,
      "grid_template_rows": null,
      "height": null,
      "justify_content": null,
      "justify_items": null,
      "left": null,
      "margin": null,
      "max_height": null,
      "max_width": null,
      "min_height": null,
      "min_width": null,
      "object_fit": null,
      "object_position": null,
      "order": null,
      "overflow": null,
      "overflow_x": null,
      "overflow_y": null,
      "padding": null,
      "right": null,
      "top": null,
      "visibility": null,
      "width": null
     }
    },
    "a35d16d75b5b4f27b26828af2154a3d5": {
     "model_module": "@jupyter-widgets/controls",
     "model_module_version": "1.5.0",
     "model_name": "DescriptionStyleModel",
     "state": {
      "_model_module": "@jupyter-widgets/controls",
      "_model_module_version": "1.5.0",
      "_model_name": "DescriptionStyleModel",
      "_view_count": null,
      "_view_module": "@jupyter-widgets/base",
      "_view_module_version": "1.2.0",
      "_view_name": "StyleView",
      "description_width": ""
     }
    },
    "a74d331cd4b24285a55e5a3705f1b68f": {
     "model_module": "@jupyter-widgets/controls",
     "model_module_version": "1.5.0",
     "model_name": "HBoxModel",
     "state": {
      "_dom_classes": [],
      "_model_module": "@jupyter-widgets/controls",
      "_model_module_version": "1.5.0",
      "_model_name": "HBoxModel",
      "_view_count": null,
      "_view_module": "@jupyter-widgets/controls",
      "_view_module_version": "1.5.0",
      "_view_name": "HBoxView",
      "box_style": "",
      "children": [
       "IPY_MODEL_e24d41fab6ee49e09997503870813e0a",
       "IPY_MODEL_561e8d9c749b4be0a126db44e263145b",
       "IPY_MODEL_8241d895e996490f9e40f2393f3ee7f9"
      ],
      "layout": "IPY_MODEL_f9b11b9712c3423784642b7a3597e667"
     }
    },
    "ac4f9033337a425ab05f963a300af10a": {
     "model_module": "@jupyter-widgets/controls",
     "model_module_version": "1.5.0",
     "model_name": "HBoxModel",
     "state": {
      "_dom_classes": [],
      "_model_module": "@jupyter-widgets/controls",
      "_model_module_version": "1.5.0",
      "_model_name": "HBoxModel",
      "_view_count": null,
      "_view_module": "@jupyter-widgets/controls",
      "_view_module_version": "1.5.0",
      "_view_name": "HBoxView",
      "box_style": "",
      "children": [
       "IPY_MODEL_4c2b4be7117d4043b56d6b4e05251d9e",
       "IPY_MODEL_800977f38e5e45f9bb7b8f43fe78ea9c",
       "IPY_MODEL_2f37f541c8f949eab60200d46fbc8b05"
      ],
      "layout": "IPY_MODEL_8695077763e749559af9cec55f651006"
     }
    },
    "adf4f0bbf7d44ae3a13b627bd754e421": {
     "model_module": "@jupyter-widgets/controls",
     "model_module_version": "1.5.0",
     "model_name": "DescriptionStyleModel",
     "state": {
      "_model_module": "@jupyter-widgets/controls",
      "_model_module_version": "1.5.0",
      "_model_name": "DescriptionStyleModel",
      "_view_count": null,
      "_view_module": "@jupyter-widgets/base",
      "_view_module_version": "1.2.0",
      "_view_name": "StyleView",
      "description_width": ""
     }
    },
    "b452afd37618427a801b35a9a6b0b310": {
     "model_module": "@jupyter-widgets/controls",
     "model_module_version": "1.5.0",
     "model_name": "ProgressStyleModel",
     "state": {
      "_model_module": "@jupyter-widgets/controls",
      "_model_module_version": "1.5.0",
      "_model_name": "ProgressStyleModel",
      "_view_count": null,
      "_view_module": "@jupyter-widgets/base",
      "_view_module_version": "1.2.0",
      "_view_name": "StyleView",
      "bar_color": null,
      "description_width": ""
     }
    },
    "b5931a6b638d408f93255db7cd0283bf": {
     "model_module": "@jupyter-widgets/base",
     "model_module_version": "1.2.0",
     "model_name": "LayoutModel",
     "state": {
      "_model_module": "@jupyter-widgets/base",
      "_model_module_version": "1.2.0",
      "_model_name": "LayoutModel",
      "_view_count": null,
      "_view_module": "@jupyter-widgets/base",
      "_view_module_version": "1.2.0",
      "_view_name": "LayoutView",
      "align_content": null,
      "align_items": null,
      "align_self": null,
      "border": null,
      "bottom": null,
      "display": null,
      "flex": null,
      "flex_flow": null,
      "grid_area": null,
      "grid_auto_columns": null,
      "grid_auto_flow": null,
      "grid_auto_rows": null,
      "grid_column": null,
      "grid_gap": null,
      "grid_row": null,
      "grid_template_areas": null,
      "grid_template_columns": null,
      "grid_template_rows": null,
      "height": null,
      "justify_content": null,
      "justify_items": null,
      "left": null,
      "margin": null,
      "max_height": null,
      "max_width": null,
      "min_height": null,
      "min_width": null,
      "object_fit": null,
      "object_position": null,
      "order": null,
      "overflow": null,
      "overflow_x": null,
      "overflow_y": null,
      "padding": null,
      "right": null,
      "top": null,
      "visibility": null,
      "width": null
     }
    },
    "bd43d96dea8f4ff2a71037d5c594845d": {
     "model_module": "@jupyter-widgets/controls",
     "model_module_version": "1.5.0",
     "model_name": "HTMLModel",
     "state": {
      "_dom_classes": [],
      "_model_module": "@jupyter-widgets/controls",
      "_model_module_version": "1.5.0",
      "_model_name": "HTMLModel",
      "_view_count": null,
      "_view_module": "@jupyter-widgets/controls",
      "_view_module_version": "1.5.0",
      "_view_name": "HTMLView",
      "description": "",
      "description_tooltip": null,
      "layout": "IPY_MODEL_9fbb80c57c814ab6bf0205ba1b1a71e9",
      "placeholder": "​",
      "style": "IPY_MODEL_4cc05625e0834781b9f65bd31d2f5fb0",
      "value": "100%"
     }
    },
    "c7374c0a769a4dac96ace3670e6800e4": {
     "model_module": "@jupyter-widgets/controls",
     "model_module_version": "1.5.0",
     "model_name": "DescriptionStyleModel",
     "state": {
      "_model_module": "@jupyter-widgets/controls",
      "_model_module_version": "1.5.0",
      "_model_name": "DescriptionStyleModel",
      "_view_count": null,
      "_view_module": "@jupyter-widgets/base",
      "_view_module_version": "1.2.0",
      "_view_name": "StyleView",
      "description_width": ""
     }
    },
    "c9b96de5d3b94ed8ae22a956ba81ed23": {
     "model_module": "@jupyter-widgets/base",
     "model_module_version": "1.2.0",
     "model_name": "LayoutModel",
     "state": {
      "_model_module": "@jupyter-widgets/base",
      "_model_module_version": "1.2.0",
      "_model_name": "LayoutModel",
      "_view_count": null,
      "_view_module": "@jupyter-widgets/base",
      "_view_module_version": "1.2.0",
      "_view_name": "LayoutView",
      "align_content": null,
      "align_items": null,
      "align_self": null,
      "border": null,
      "bottom": null,
      "display": null,
      "flex": null,
      "flex_flow": null,
      "grid_area": null,
      "grid_auto_columns": null,
      "grid_auto_flow": null,
      "grid_auto_rows": null,
      "grid_column": null,
      "grid_gap": null,
      "grid_row": null,
      "grid_template_areas": null,
      "grid_template_columns": null,
      "grid_template_rows": null,
      "height": null,
      "justify_content": null,
      "justify_items": null,
      "left": null,
      "margin": null,
      "max_height": null,
      "max_width": null,
      "min_height": null,
      "min_width": null,
      "object_fit": null,
      "object_position": null,
      "order": null,
      "overflow": null,
      "overflow_x": null,
      "overflow_y": null,
      "padding": null,
      "right": null,
      "top": null,
      "visibility": null,
      "width": null
     }
    },
    "d082717fb8e94afe8a3c129c9b57d3ce": {
     "model_module": "@jupyter-widgets/base",
     "model_module_version": "1.2.0",
     "model_name": "LayoutModel",
     "state": {
      "_model_module": "@jupyter-widgets/base",
      "_model_module_version": "1.2.0",
      "_model_name": "LayoutModel",
      "_view_count": null,
      "_view_module": "@jupyter-widgets/base",
      "_view_module_version": "1.2.0",
      "_view_name": "LayoutView",
      "align_content": null,
      "align_items": null,
      "align_self": null,
      "border": null,
      "bottom": null,
      "display": null,
      "flex": null,
      "flex_flow": null,
      "grid_area": null,
      "grid_auto_columns": null,
      "grid_auto_flow": null,
      "grid_auto_rows": null,
      "grid_column": null,
      "grid_gap": null,
      "grid_row": null,
      "grid_template_areas": null,
      "grid_template_columns": null,
      "grid_template_rows": null,
      "height": null,
      "justify_content": null,
      "justify_items": null,
      "left": null,
      "margin": null,
      "max_height": null,
      "max_width": null,
      "min_height": null,
      "min_width": null,
      "object_fit": null,
      "object_position": null,
      "order": null,
      "overflow": null,
      "overflow_x": null,
      "overflow_y": null,
      "padding": null,
      "right": null,
      "top": null,
      "visibility": null,
      "width": null
     }
    },
    "d29972a957884ef0bf2d4ac167eb2218": {
     "model_module": "@jupyter-widgets/controls",
     "model_module_version": "1.5.0",
     "model_name": "DescriptionStyleModel",
     "state": {
      "_model_module": "@jupyter-widgets/controls",
      "_model_module_version": "1.5.0",
      "_model_name": "DescriptionStyleModel",
      "_view_count": null,
      "_view_module": "@jupyter-widgets/base",
      "_view_module_version": "1.2.0",
      "_view_name": "StyleView",
      "description_width": ""
     }
    },
    "e24d41fab6ee49e09997503870813e0a": {
     "model_module": "@jupyter-widgets/controls",
     "model_module_version": "1.5.0",
     "model_name": "HTMLModel",
     "state": {
      "_dom_classes": [],
      "_model_module": "@jupyter-widgets/controls",
      "_model_module_version": "1.5.0",
      "_model_name": "HTMLModel",
      "_view_count": null,
      "_view_module": "@jupyter-widgets/controls",
      "_view_module_version": "1.5.0",
      "_view_name": "HTMLView",
      "description": "",
      "description_tooltip": null,
      "layout": "IPY_MODEL_c9b96de5d3b94ed8ae22a956ba81ed23",
      "placeholder": "​",
      "style": "IPY_MODEL_1a802f281ef24b9ca5949ff3106b88ef",
      "value": "100%"
     }
    },
    "e6a2483643c3481ea529538b8c86b8f3": {
     "model_module": "@jupyter-widgets/base",
     "model_module_version": "1.2.0",
     "model_name": "LayoutModel",
     "state": {
      "_model_module": "@jupyter-widgets/base",
      "_model_module_version": "1.2.0",
      "_model_name": "LayoutModel",
      "_view_count": null,
      "_view_module": "@jupyter-widgets/base",
      "_view_module_version": "1.2.0",
      "_view_name": "LayoutView",
      "align_content": null,
      "align_items": null,
      "align_self": null,
      "border": null,
      "bottom": null,
      "display": null,
      "flex": null,
      "flex_flow": null,
      "grid_area": null,
      "grid_auto_columns": null,
      "grid_auto_flow": null,
      "grid_auto_rows": null,
      "grid_column": null,
      "grid_gap": null,
      "grid_row": null,
      "grid_template_areas": null,
      "grid_template_columns": null,
      "grid_template_rows": null,
      "height": null,
      "justify_content": null,
      "justify_items": null,
      "left": null,
      "margin": null,
      "max_height": null,
      "max_width": null,
      "min_height": null,
      "min_width": null,
      "object_fit": null,
      "object_position": null,
      "order": null,
      "overflow": null,
      "overflow_x": null,
      "overflow_y": null,
      "padding": null,
      "right": null,
      "top": null,
      "visibility": null,
      "width": null
     }
    },
    "ed1fe3209f9440a38bcfa77b89f5c8ad": {
     "model_module": "@jupyter-widgets/controls",
     "model_module_version": "1.5.0",
     "model_name": "ProgressStyleModel",
     "state": {
      "_model_module": "@jupyter-widgets/controls",
      "_model_module_version": "1.5.0",
      "_model_name": "ProgressStyleModel",
      "_view_count": null,
      "_view_module": "@jupyter-widgets/base",
      "_view_module_version": "1.2.0",
      "_view_name": "StyleView",
      "bar_color": null,
      "description_width": ""
     }
    },
    "f219941b11dd42afba6e5d9fb9be7c4b": {
     "model_module": "@jupyter-widgets/base",
     "model_module_version": "1.2.0",
     "model_name": "LayoutModel",
     "state": {
      "_model_module": "@jupyter-widgets/base",
      "_model_module_version": "1.2.0",
      "_model_name": "LayoutModel",
      "_view_count": null,
      "_view_module": "@jupyter-widgets/base",
      "_view_module_version": "1.2.0",
      "_view_name": "LayoutView",
      "align_content": null,
      "align_items": null,
      "align_self": null,
      "border": null,
      "bottom": null,
      "display": null,
      "flex": null,
      "flex_flow": null,
      "grid_area": null,
      "grid_auto_columns": null,
      "grid_auto_flow": null,
      "grid_auto_rows": null,
      "grid_column": null,
      "grid_gap": null,
      "grid_row": null,
      "grid_template_areas": null,
      "grid_template_columns": null,
      "grid_template_rows": null,
      "height": null,
      "justify_content": null,
      "justify_items": null,
      "left": null,
      "margin": null,
      "max_height": null,
      "max_width": null,
      "min_height": null,
      "min_width": null,
      "object_fit": null,
      "object_position": null,
      "order": null,
      "overflow": null,
      "overflow_x": null,
      "overflow_y": null,
      "padding": null,
      "right": null,
      "top": null,
      "visibility": null,
      "width": "20px"
     }
    },
    "f2fb9f5dfbe144caaeff6d95f3ea24b1": {
     "model_module": "@jupyter-widgets/controls",
     "model_module_version": "1.5.0",
     "model_name": "HBoxModel",
     "state": {
      "_dom_classes": [],
      "_model_module": "@jupyter-widgets/controls",
      "_model_module_version": "1.5.0",
      "_model_name": "HBoxModel",
      "_view_count": null,
      "_view_module": "@jupyter-widgets/controls",
      "_view_module_version": "1.5.0",
      "_view_name": "HBoxView",
      "box_style": "",
      "children": [
       "IPY_MODEL_bd43d96dea8f4ff2a71037d5c594845d",
       "IPY_MODEL_5171c1cc4aca4737b46b99ed9a7ab9da",
       "IPY_MODEL_00b8d54af39a4ba4bd9e488ecaa37772"
      ],
      "layout": "IPY_MODEL_49a6ff8d5ce347528577eb3896b425d9"
     }
    },
    "f88e19b433254b69a26a08378073a6ca": {
     "model_module": "@jupyter-widgets/base",
     "model_module_version": "1.2.0",
     "model_name": "LayoutModel",
     "state": {
      "_model_module": "@jupyter-widgets/base",
      "_model_module_version": "1.2.0",
      "_model_name": "LayoutModel",
      "_view_count": null,
      "_view_module": "@jupyter-widgets/base",
      "_view_module_version": "1.2.0",
      "_view_name": "LayoutView",
      "align_content": null,
      "align_items": null,
      "align_self": null,
      "border": null,
      "bottom": null,
      "display": null,
      "flex": null,
      "flex_flow": null,
      "grid_area": null,
      "grid_auto_columns": null,
      "grid_auto_flow": null,
      "grid_auto_rows": null,
      "grid_column": null,
      "grid_gap": null,
      "grid_row": null,
      "grid_template_areas": null,
      "grid_template_columns": null,
      "grid_template_rows": null,
      "height": null,
      "justify_content": null,
      "justify_items": null,
      "left": null,
      "margin": null,
      "max_height": null,
      "max_width": null,
      "min_height": null,
      "min_width": null,
      "object_fit": null,
      "object_position": null,
      "order": null,
      "overflow": null,
      "overflow_x": null,
      "overflow_y": null,
      "padding": null,
      "right": null,
      "top": null,
      "visibility": null,
      "width": null
     }
    },
    "f9b11b9712c3423784642b7a3597e667": {
     "model_module": "@jupyter-widgets/base",
     "model_module_version": "1.2.0",
     "model_name": "LayoutModel",
     "state": {
      "_model_module": "@jupyter-widgets/base",
      "_model_module_version": "1.2.0",
      "_model_name": "LayoutModel",
      "_view_count": null,
      "_view_module": "@jupyter-widgets/base",
      "_view_module_version": "1.2.0",
      "_view_name": "LayoutView",
      "align_content": null,
      "align_items": null,
      "align_self": null,
      "border": null,
      "bottom": null,
      "display": null,
      "flex": null,
      "flex_flow": null,
      "grid_area": null,
      "grid_auto_columns": null,
      "grid_auto_flow": null,
      "grid_auto_rows": null,
      "grid_column": null,
      "grid_gap": null,
      "grid_row": null,
      "grid_template_areas": null,
      "grid_template_columns": null,
      "grid_template_rows": null,
      "height": null,
      "justify_content": null,
      "justify_items": null,
      "left": null,
      "margin": null,
      "max_height": null,
      "max_width": null,
      "min_height": null,
      "min_width": null,
      "object_fit": null,
      "object_position": null,
      "order": null,
      "overflow": null,
      "overflow_x": null,
      "overflow_y": null,
      "padding": null,
      "right": null,
      "top": null,
      "visibility": null,
      "width": null
     }
    },
    "faa2697a0c274661886e031ab42e0a04": {
     "model_module": "@jupyter-widgets/base",
     "model_module_version": "1.2.0",
     "model_name": "LayoutModel",
     "state": {
      "_model_module": "@jupyter-widgets/base",
      "_model_module_version": "1.2.0",
      "_model_name": "LayoutModel",
      "_view_count": null,
      "_view_module": "@jupyter-widgets/base",
      "_view_module_version": "1.2.0",
      "_view_name": "LayoutView",
      "align_content": null,
      "align_items": null,
      "align_self": null,
      "border": null,
      "bottom": null,
      "display": null,
      "flex": null,
      "flex_flow": null,
      "grid_area": null,
      "grid_auto_columns": null,
      "grid_auto_flow": null,
      "grid_auto_rows": null,
      "grid_column": null,
      "grid_gap": null,
      "grid_row": null,
      "grid_template_areas": null,
      "grid_template_columns": null,
      "grid_template_rows": null,
      "height": null,
      "justify_content": null,
      "justify_items": null,
      "left": null,
      "margin": null,
      "max_height": null,
      "max_width": null,
      "min_height": null,
      "min_width": null,
      "object_fit": null,
      "object_position": null,
      "order": null,
      "overflow": null,
      "overflow_x": null,
      "overflow_y": null,
      "padding": null,
      "right": null,
      "top": null,
      "visibility": null,
      "width": null
     }
    },
    "fd9be8a0ee5244fa833009d0c531a643": {
     "model_module": "@jupyter-widgets/controls",
     "model_module_version": "1.5.0",
     "model_name": "HBoxModel",
     "state": {
      "_dom_classes": [],
      "_model_module": "@jupyter-widgets/controls",
      "_model_module_version": "1.5.0",
      "_model_name": "HBoxModel",
      "_view_count": null,
      "_view_module": "@jupyter-widgets/controls",
      "_view_module_version": "1.5.0",
      "_view_name": "HBoxView",
      "box_style": "",
      "children": [
       "IPY_MODEL_59a28ded11914e88a8d54c8bac21e3a4",
       "IPY_MODEL_6fb3df7d7bec4e92abdf872d4cc50f9c",
       "IPY_MODEL_194f0886026b47b4bc1855151ad97034"
      ],
      "layout": "IPY_MODEL_b5931a6b638d408f93255db7cd0283bf"
     }
    }
   }
  }
 },
 "nbformat": 4,
 "nbformat_minor": 4
}
