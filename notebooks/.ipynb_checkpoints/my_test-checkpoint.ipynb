{
 "cells": [
  {
   "cell_type": "code",
   "execution_count": 2,
   "id": "e3c58841-7fb8-4ff5-a798-3ff5d6545cdf",
   "metadata": {},
   "outputs": [
    {
     "name": "stderr",
     "output_type": "stream",
     "text": [
      "C:\\Users\\radiu\\anaconda3\\envs\\courses\\lib\\site-packages\\tqdm\\auto.py:21: TqdmWarning: IProgress not found. Please update jupyter and ipywidgets. See https://ipywidgets.readthedocs.io/en/stable/user_install.html\n",
      "  from .autonotebook import tqdm as notebook_tqdm\n",
      "C:\\Users\\radiu\\anaconda3\\envs\\courses\\lib\\site-packages\\torchvision\\io\\image.py:13: UserWarning: Failed to load image Python extension: [WinError 127] The specified procedure could not be found\n",
      "  warn(f\"Failed to load image Python extension: {e}\")\n"
     ]
    }
   ],
   "source": [
    "import torch\n",
    "import torchvision.transforms as transforms\n",
    "import torchvision.datasets as datasets\n",
    "import matplotlib.pyplot as plt\n"
   ]
  },
  {
   "cell_type": "code",
   "execution_count": 3,
   "id": "4bb62e5a-70ff-41da-b810-b944b968a112",
   "metadata": {},
   "outputs": [],
   "source": [
    "# Download the MNIST dataset\n",
    "transform = transforms.Compose([transforms.ToTensor()])\n",
    "train_dataset = datasets.MNIST(root='./data', train=True, transform=transform, download=True)\n",
    "test_dataset = datasets.MNIST(root='./data', train=False, transform=transform)"
   ]
  },
  {
   "cell_type": "code",
   "execution_count": 4,
   "id": "5f492235-bb6e-42a7-b9d1-b0e1ee0ccfee",
   "metadata": {},
   "outputs": [],
   "source": [
    "# Combine train and test labels\n",
    "all_labels = torch.cat((train_dataset.targets, test_dataset.targets))\n"
   ]
  },
  {
   "cell_type": "code",
   "execution_count": 5,
   "id": "e1aa74ab-e88e-4ae0-9cfd-e83522a25555",
   "metadata": {},
   "outputs": [],
   "source": [
    "# Calculate label distribution\n",
    "values, counts = all_labels.unique(return_counts=True)\n",
    "distribution = {val.item(): count.item() for val, count in zip(values, counts)}\n"
   ]
  },
  {
   "cell_type": "code",
   "execution_count": null,
   "id": "40f836e8-77e4-47e5-a4f1-9f6a209ae4d6",
   "metadata": {},
   "outputs": [],
   "source": [
    "# Plot distribution\n",
    "plt.figure(figsize=(10, 6))\n",
    "plt.bar(distribution.keys(), distribution.values(), color='skyblue')\n",
    "plt.xlabel('Digit')\n",
    "plt.ylabel('Frequency')\n",
    "plt.title('Distribution of MNIST Dataset in PyTorch')\n",
    "plt.xticks(list(distribution.keys()))\n",
    "plt.grid(axis='y')\n",
    "\n",
    "plt.show()"
   ]
  },
  {
   "cell_type": "code",
   "execution_count": null,
   "id": "24427d1f-573c-4419-988a-a5bf03e1078c",
   "metadata": {},
   "outputs": [],
   "source": []
  }
 ],
 "metadata": {
  "kernelspec": {
   "display_name": "Python 3 (ipykernel)",
   "language": "python",
   "name": "python3"
  },
  "language_info": {
   "codemirror_mode": {
    "name": "ipython",
    "version": 3
   },
   "file_extension": ".py",
   "mimetype": "text/x-python",
   "name": "python",
   "nbconvert_exporter": "python",
   "pygments_lexer": "ipython3",
   "version": "3.9.16"
  }
 },
 "nbformat": 4,
 "nbformat_minor": 5
}
