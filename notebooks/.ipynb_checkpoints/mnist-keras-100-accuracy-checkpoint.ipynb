{
 "cells": [
  {
   "cell_type": "markdown",
   "metadata": {
    "papermill": {
     "duration": 0.053202,
     "end_time": "2021-04-29T17:12:56.044976",
     "exception": false,
     "start_time": "2021-04-29T17:12:55.991774",
     "status": "completed"
    },
    "tags": []
   },
   "source": [
    "# Experimenting on MNIST"
   ]
  },
  {
   "cell_type": "markdown",
   "metadata": {
    "papermill": {
     "duration": 0.051044,
     "end_time": "2021-04-29T17:12:56.147782",
     "exception": false,
     "start_time": "2021-04-29T17:12:56.096738",
     "status": "completed"
    },
    "tags": []
   },
   "source": [
    "### About MNIST Dataset"
   ]
  },
  {
   "cell_type": "markdown",
   "metadata": {
    "papermill": {
     "duration": 0.05012,
     "end_time": "2021-04-29T17:12:56.248872",
     "exception": false,
     "start_time": "2021-04-29T17:12:56.198752",
     "status": "completed"
    },
    "tags": []
   },
   "source": [
    " The **MNIST** database (Modified National Institute of Standards and Technology database) is a large database of handwritten digits that is commonly used for training various image processing systems\n",
    " \n",
    " The **MNIST** database contains 60,000 training images and 10,000 testing images.\n",
    " Photo size: **28x28 p**."
   ]
  },
  {
   "cell_type": "markdown",
   "metadata": {
    "papermill": {
     "duration": 0.050758,
     "end_time": "2021-04-29T17:12:56.350130",
     "exception": false,
     "start_time": "2021-04-29T17:12:56.299372",
     "status": "completed"
    },
    "tags": []
   },
   "source": [
    "### The Purpose of notebook"
   ]
  },
  {
   "cell_type": "markdown",
   "metadata": {
    "papermill": {
     "duration": 0.0492,
     "end_time": "2021-04-29T17:12:56.449599",
     "exception": false,
     "start_time": "2021-04-29T17:12:56.400399",
     "status": "completed"
    },
    "tags": []
   },
   "source": [
    "I will design and try two neural networks to get ~100% accuracy\n",
    "- MLP (Multilayer perceptron)\n",
    "\n",
    "- CNN (Convolutional neural network)"
   ]
  },
  {
   "cell_type": "markdown",
   "metadata": {
    "papermill": {
     "duration": 0.049485,
     "end_time": "2021-04-29T17:12:56.547822",
     "exception": false,
     "start_time": "2021-04-29T17:12:56.498337",
     "status": "completed"
    },
    "tags": []
   },
   "source": [
    "**Update:**\n",
    "- I made this notebook 7 months ago, and it is one of my first data science projects. During this time I learned a lot of interesting things and put these things in here."
   ]
  },
  {
   "cell_type": "markdown",
   "metadata": {
    "papermill": {
     "duration": 0.049164,
     "end_time": "2021-04-29T17:12:56.646343",
     "exception": false,
     "start_time": "2021-04-29T17:12:56.597179",
     "status": "completed"
    },
    "tags": []
   },
   "source": [
    "### Importing libs"
   ]
  },
  {
   "cell_type": "code",
   "execution_count": 2,
   "metadata": {
    "_cell_guid": "b1076dfc-b9ad-4769-8c92-a6c4dae69d19",
    "_uuid": "8f2839f25d086af736a60e9eeb907d3b93b6e0e5",
    "papermill": {
     "duration": 5.922681,
     "end_time": "2021-04-29T17:13:02.619069",
     "exception": false,
     "start_time": "2021-04-29T17:12:56.696388",
     "status": "completed"
    },
    "tags": []
   },
   "outputs": [],
   "source": [
    "import numpy as np\n",
    "import pandas as pd\n",
    "\n",
    "np.random.seed(0) \n",
    "import random\n",
    "\n",
    "import tensorflow.keras as keras\n",
    "from tensorflow.keras.models import Sequential, load_model\n",
    "from tensorflow.keras.layers import Dense, Dropout, Flatten\n",
    "from tensorflow.keras.layers import Conv2D, MaxPool2D, BatchNormalization\n",
    "from tensorflow.keras import backend as K\n",
    "from tensorflow.keras.utils import to_categorical\n",
    "from tensorflow.keras.datasets import mnist\n",
    "from tensorflow.keras.preprocessing.image import ImageDataGenerator\n",
    "from tensorflow.keras.callbacks import EarlyStopping, ReduceLROnPlateau, ModelCheckpoint\n",
    "\n",
    "from keras.utils.vis_utils import plot_model\n",
    "\n",
    "from sklearn.model_selection import train_test_split\n",
    "\n",
    "import matplotlib.pyplot as plt\n",
    "import seaborn as sns\n",
    "%matplotlib inline\n",
    "\n",
    "# plt.style.use('ggplot')\n",
    "%config InlineBackend.figure_format = 'svg'"
   ]
  },
  {
   "cell_type": "markdown",
   "metadata": {
    "papermill": {
     "duration": 0.048334,
     "end_time": "2021-04-29T17:13:02.715976",
     "exception": false,
     "start_time": "2021-04-29T17:13:02.667642",
     "status": "completed"
    },
    "tags": []
   },
   "source": [
    "##  Reading data"
   ]
  },
  {
   "cell_type": "code",
   "execution_count": 3,
   "metadata": {
    "_cell_guid": "79c7e3d0-c299-4dcb-8224-4455121ee9b0",
    "_uuid": "d629ff2d2480ee46fbb7e2d37f6b5fab8052498a",
    "papermill": {
     "duration": 5.250875,
     "end_time": "2021-04-29T17:13:08.014825",
     "exception": false,
     "start_time": "2021-04-29T17:13:02.763950",
     "status": "completed"
    },
    "tags": []
   },
   "outputs": [
    {
     "name": "stdout",
     "output_type": "stream",
     "text": [
      "(42000, 784) (28000, 784)\n"
     ]
    }
   ],
   "source": [
    "# (X_train, y_train), (X_test, y_test) = mnist.load_data()\n",
    "train = pd.read_csv(\"digit-recognizer/train.csv\")\n",
    "test = pd.read_csv(\"digit-recognizer/test.csv\")\n",
    "\n",
    "\n",
    "X_train = train.drop(labels = [\"label\"], axis = 1)\n",
    "y_train = train['label']\n",
    "\n",
    "X_test = test\n",
    "\n",
    "print(X_train.shape, X_test.shape)"
   ]
  },
  {
   "cell_type": "markdown",
   "metadata": {
    "papermill": {
     "duration": 0.049073,
     "end_time": "2021-04-29T17:13:08.113158",
     "exception": false,
     "start_time": "2021-04-29T17:13:08.064085",
     "status": "completed"
    },
    "tags": []
   },
   "source": [
    "## Exploratory Data Analysis"
   ]
  },
  {
   "cell_type": "code",
   "execution_count": 4,
   "metadata": {
    "papermill": {
     "duration": 0.058225,
     "end_time": "2021-04-29T17:13:08.220381",
     "exception": false,
     "start_time": "2021-04-29T17:13:08.162156",
     "status": "completed"
    },
    "tags": []
   },
   "outputs": [],
   "source": [
    "X_train_plot = X_train.values.reshape(-1, 28, 28)"
   ]
  },
  {
   "cell_type": "code",
   "execution_count": 5,
   "metadata": {
    "papermill": {
     "duration": 1.882295,
     "end_time": "2021-04-29T17:13:10.158849",
     "exception": false,
     "start_time": "2021-04-29T17:13:08.276554",
     "status": "completed"
    },
    "tags": []
   },
   "outputs": [
    {
     "data": {
      "image/png": "[encoded data removed]",
      "text/plain": [
       "<Figure size 1600x1600 with 15 Axes>"
      ]
     },
     "metadata": {},
     "output_type": "display_data"
    }
   ],
   "source": [
    "def Show_example_digits(mono = 'gray'):\n",
    "    fig = plt.figure(figsize = (16, 16))\n",
    "    for idx in range(15):\n",
    "        plt.subplot(5, 5,idx+1)\n",
    "        plt.imshow(X_train_plot[idx], cmap = mono)\n",
    "        plt.title(\"Digit {}\".format(y_train[idx]))\n",
    "        \n",
    "    plt.tight_layout()\n",
    "    \n",
    "Show_example_digits()"
   ]
  },
  {
   "cell_type": "code",
   "execution_count": 6,
   "metadata": {
    "papermill": {
     "duration": 0.064554,
     "end_time": "2021-04-29T17:13:10.273869",
     "exception": false,
     "start_time": "2021-04-29T17:13:10.209315",
     "status": "completed"
    },
    "tags": []
   },
   "outputs": [],
   "source": [
    "# Function return digit in grayscale\n",
    "def plot_digit(digit, dem = 28, font_size = 12):\n",
    "    max_ax = font_size * dem\n",
    "    \n",
    "    fig = plt.figure(figsize=(13, 13))\n",
    "    plt.xlim([0, max_ax])\n",
    "    plt.ylim([0, max_ax])\n",
    "    plt.axis('off')\n",
    "    black = '#000000'\n",
    "    \n",
    "    for idx in range(dem):\n",
    "        for jdx in range(dem):\n",
    "\n",
    "            t = plt.text(idx * font_size, max_ax - jdx*font_size, digit[jdx][idx], fontsize = font_size, color = black)\n",
    "            c = digit[jdx][idx] / 255.\n",
    "            t.set_bbox(dict(facecolor=(c, c, c), alpha = 0.5, edgecolor = 'black'))\n",
    "            \n",
    "    plt.show()"
   ]
  },
  {
   "cell_type": "code",
   "execution_count": 7,
   "metadata": {
    "papermill": {
     "duration": 3.079134,
     "end_time": "2021-04-29T17:13:13.403451",
     "exception": false,
     "start_time": "2021-04-29T17:13:10.324317",
     "status": "completed"
    },
    "tags": []
   },
   "outputs": [
    {
     "name": "stdout",
     "output_type": "stream",
     "text": [
      "7\n"
     ]
    },
    {
     "data": {
      "image/png": "[encoded data removed]",
      "text/plain": [
       "<Figure size 1300x1300 with 1 Axes>"
      ]
     },
     "metadata": {},
     "output_type": "display_data"
    }
   ],
   "source": [
    "rand_number = random.randint(0, len(y_train))\n",
    "print(y_train[rand_number])\n",
    "plot_digit(X_train_plot[rand_number])"
   ]
  },
  {
   "cell_type": "markdown",
   "metadata": {
    "papermill": {
     "duration": 0.054221,
     "end_time": "2021-04-29T17:13:13.513012",
     "exception": false,
     "start_time": "2021-04-29T17:13:13.458791",
     "status": "completed"
    },
    "tags": []
   },
   "source": [
    "#### Chart of the number of digits in the data"
   ]
  },
  {
   "cell_type": "code",
   "execution_count": 8,
   "metadata": {
    "papermill": {
     "duration": 0.192674,
     "end_time": "2021-04-29T17:13:13.758761",
     "exception": false,
     "start_time": "2021-04-29T17:13:13.566087",
     "status": "completed"
    },
    "tags": []
   },
   "outputs": [
    {
     "data": {
      "image/png": "[encoded data removed]",
      "text/plain": [
       "<Figure size 1500x700 with 1 Axes>"
      ]
     },
     "metadata": {},
     "output_type": "display_data"
    }
   ],
   "source": [
    "digit_range = np.arange(10)\n",
    "\n",
    "val = y_train.value_counts().index\n",
    "cnt = y_train.value_counts().values\n",
    "mycolors = ['red', 'blue', 'green', 'orange', 'brown', 'grey', 'pink', 'olive', 'deeppink', 'steelblue']\n",
    "\n",
    "plt.figure(figsize = (15, 7))\n",
    "plt.title(\"The number of digits in the data\", fontsize = 20)\n",
    "plt.xticks(range(10))\n",
    "plt.bar(val, cnt, color = mycolors);"
   ]
  },
  {
   "cell_type": "markdown",
   "metadata": {
    "papermill": {
     "duration": 0.054922,
     "end_time": "2021-04-29T17:13:13.867744",
     "exception": false,
     "start_time": "2021-04-29T17:13:13.812822",
     "status": "completed"
    },
    "tags": []
   },
   "source": [
    "## Data Preparing"
   ]
  },
  {
   "cell_type": "code",
   "execution_count": 9,
   "metadata": {
    "papermill": {
     "duration": 0.060896,
     "end_time": "2021-04-29T17:13:13.982366",
     "exception": false,
     "start_time": "2021-04-29T17:13:13.921470",
     "status": "completed"
    },
    "tags": []
   },
   "outputs": [],
   "source": [
    "img_rows, img_cols = 28, 28\n",
    "\n",
    "num_pixels = X_train.shape[1] \n",
    "\n",
    "input_shape = (img_rows, img_cols)"
   ]
  },
  {
   "cell_type": "code",
   "execution_count": 10,
   "metadata": {
    "papermill": {
     "duration": 0.248833,
     "end_time": "2021-04-29T17:13:14.284906",
     "exception": false,
     "start_time": "2021-04-29T17:13:14.036073",
     "status": "completed"
    },
    "tags": []
   },
   "outputs": [
    {
     "name": "stdout",
     "output_type": "stream",
     "text": [
      "(42000, 784) (28000, 784)\n"
     ]
    }
   ],
   "source": [
    "# Data Normalization [0, 1]\n",
    "X_train /= 255\n",
    "X_test /= 255\n",
    "\n",
    "# one-hot encoding for target column\n",
    "y_train = to_categorical(y_train)\n",
    "\n",
    "# | [0, 1, 2, ... , 9] | = 10\n",
    "num_classes = y_train.shape[1]\n",
    "\n",
    "# Number of objects, vector size (28 * 28)\n",
    "print(X_train.shape, X_test.shape)"
   ]
  },
  {
   "cell_type": "markdown",
   "metadata": {
    "papermill": {
     "duration": 0.054612,
     "end_time": "2021-04-29T17:13:14.393853",
     "exception": false,
     "start_time": "2021-04-29T17:13:14.339241",
     "status": "completed"
    },
    "tags": []
   },
   "source": [
    "#### Split data\n",
    "\n",
    "added stratified folds"
   ]
  },
  {
   "cell_type": "code",
   "execution_count": 11,
   "metadata": {
    "papermill": {
     "duration": 0.792938,
     "end_time": "2021-04-29T17:13:15.240633",
     "exception": false,
     "start_time": "2021-04-29T17:13:14.447695",
     "status": "completed"
    },
    "tags": []
   },
   "outputs": [],
   "source": [
    "X_train, X_val, y_train, y_val = train_test_split(X_train, y_train, test_size = 0.1, random_state = 2, stratify=y_train)"
   ]
  },
  {
   "cell_type": "markdown",
   "metadata": {
    "papermill": {
     "duration": 0.053778,
     "end_time": "2021-04-29T17:13:15.348903",
     "exception": false,
     "start_time": "2021-04-29T17:13:15.295125",
     "status": "completed"
    },
    "tags": []
   },
   "source": [
    "## MLP ([Multilayer perceptron](https://en.wikipedia.org/wiki/Multilayer_perceptron))"
   ]
  },
  {
   "cell_type": "markdown",
   "metadata": {
    "papermill": {
     "duration": 0.0541,
     "end_time": "2021-04-29T17:13:15.457134",
     "exception": false,
     "start_time": "2021-04-29T17:13:15.403034",
     "status": "completed"
    },
    "tags": []
   },
   "source": [
    "### Structure"
   ]
  },
  {
   "cell_type": "markdown",
   "metadata": {
    "papermill": {
     "duration": 0.053833,
     "end_time": "2021-04-29T17:13:15.564861",
     "exception": false,
     "start_time": "2021-04-29T17:13:15.511028",
     "status": "completed"
    },
    "tags": []
   },
   "source": [
    "Firstly, let's think how the network should look like. It will have three layers:\n",
    "\n",
    "1 Input Layer\n",
    "\n",
    "2 Hidden Layer\n",
    "\n",
    "3 Output Layer\n"
   ]
  },
  {
   "cell_type": "markdown",
   "metadata": {
    "papermill": {
     "duration": 0.053839,
     "end_time": "2021-04-29T17:13:15.672532",
     "exception": false,
     "start_time": "2021-04-29T17:13:15.618693",
     "status": "completed"
    },
    "tags": []
   },
   "source": [
    "![MLP](https://miro.medium.com/max/700/1*-IPQlOd46dlsutIbUq1Zcw.png)"
   ]
  },
  {
   "cell_type": "markdown",
   "metadata": {
    "papermill": {
     "duration": 0.053574,
     "end_time": "2021-04-29T17:13:15.780003",
     "exception": false,
     "start_time": "2021-04-29T17:13:15.726429",
     "status": "completed"
    },
    "tags": []
   },
   "source": [
    "Input layer has 28 * 28 pixels reshape to vector\n",
    "\n",
    "Hidden layer has a lot of neurons\n",
    "\n",
    "Output layer has 10 neurons "
   ]
  },
  {
   "cell_type": "markdown",
   "metadata": {
    "papermill": {
     "duration": 0.054316,
     "end_time": "2021-04-29T17:13:15.888167",
     "exception": false,
     "start_time": "2021-04-29T17:13:15.833851",
     "status": "completed"
    },
    "tags": []
   },
   "source": [
    "Design network with using keras \n",
    "\n",
    "The metrics we use are f1_score"
   ]
  },
  {
   "cell_type": "code",
   "execution_count": 12,
   "metadata": {
    "papermill": {
     "duration": 0.066785,
     "end_time": "2021-04-29T17:13:16.008955",
     "exception": false,
     "start_time": "2021-04-29T17:13:15.942170",
     "status": "completed"
    },
    "tags": []
   },
   "outputs": [],
   "source": [
    "def f1(y_true, y_pred):\n",
    "    def recall(y_true, y_pred):\n",
    "        true_positives = K.sum(K.round(K.clip(y_true * y_pred, 0, 1)))\n",
    "        possible_positives = K.sum(K.round(K.clip(y_true, 0, 1)))\n",
    "        recall = true_positives / (possible_positives + K.epsilon())\n",
    "        return recall\n",
    "\n",
    "    def precision(y_true, y_pred):\n",
    "        true_positives = K.sum(K.round(K.clip(y_true * y_pred, 0, 1)))\n",
    "        predicted_positives = K.sum(K.round(K.clip(y_pred, 0, 1)))\n",
    "        precision = true_positives / (predicted_positives + K.epsilon())\n",
    "        return precision\n",
    "    \n",
    "    precision = precision(y_true, y_pred)\n",
    "    recall = recall(y_true, y_pred)\n",
    "    return 2*((precision*recall)/(precision+recall+K.epsilon()))"
   ]
  },
  {
   "cell_type": "markdown",
   "metadata": {
    "papermill": {
     "duration": 0.053867,
     "end_time": "2021-04-29T17:13:16.116937",
     "exception": false,
     "start_time": "2021-04-29T17:13:16.063070",
     "status": "completed"
    },
    "tags": []
   },
   "source": [
    "#### Function to drawing learning curve history learning neural network\n",
    "\n"
   ]
  },
  {
   "cell_type": "code",
   "execution_count": 13,
   "metadata": {
    "papermill": {
     "duration": 0.066011,
     "end_time": "2021-04-29T17:13:16.237214",
     "exception": false,
     "start_time": "2021-04-29T17:13:16.171203",
     "status": "completed"
    },
    "tags": []
   },
   "outputs": [],
   "source": [
    "def draw_learning_curve(history, keys=['f1', 'loss']):\n",
    "    plt.figure(figsize=(20,8))\n",
    "    for i, key in enumerate(keys):\n",
    "        plt.subplot(1, 2, i + 1)\n",
    "        sns.lineplot(x = history.epoch, y = history.history[key])\n",
    "        sns.lineplot(x = history.epoch, y = history.history['val_' + key])\n",
    "        plt.title('Learning Curve')\n",
    "        plt.ylabel(key.title())\n",
    "        plt.xlabel('Epoch')\n",
    "#         plt.ylim(ylim)\n",
    "        plt.legend(['train', 'test'], loc='best')\n",
    "    plt.show()"
   ]
  },
  {
   "cell_type": "markdown",
   "metadata": {
    "papermill": {
     "duration": 0.053986,
     "end_time": "2021-04-29T17:13:16.345333",
     "exception": false,
     "start_time": "2021-04-29T17:13:16.291347",
     "status": "completed"
    },
    "tags": []
   },
   "source": [
    "# Adding Callbacks\n",
    "- EarlyStopping (Stop training when a monitored metric has stopped improving)\n",
    "- ReduceLROnPlateau (Reduce learning rate when a metric has stopped improving)\n",
    "- ModelCheckpoint (Callback to save the Keras model or model weights at some frequency)"
   ]
  },
  {
   "cell_type": "code",
   "execution_count": 14,
   "metadata": {
    "papermill": {
     "duration": 0.06182,
     "end_time": "2021-04-29T17:13:16.461314",
     "exception": false,
     "start_time": "2021-04-29T17:13:16.399494",
     "status": "completed"
    },
    "tags": []
   },
   "outputs": [],
   "source": [
    "def callbacks(name): \n",
    "    return [ \n",
    "        EarlyStopping(monitor = 'loss', patience = 6), \n",
    "        ReduceLROnPlateau(monitor = 'loss', patience = 3), \n",
    "        ModelCheckpoint(f'../working/{name}.hdf5', save_best_only=True) # saving the best model\n",
    "    ]"
   ]
  },
  {
   "cell_type": "markdown",
   "metadata": {
    "papermill": {
     "duration": 0.054489,
     "end_time": "2021-04-29T17:13:16.570295",
     "exception": false,
     "start_time": "2021-04-29T17:13:16.515806",
     "status": "completed"
    },
    "tags": []
   },
   "source": [
    "#### Simple MLP with one hidden layer"
   ]
  },
  {
   "cell_type": "code",
   "execution_count": 15,
   "metadata": {
    "papermill": {
     "duration": 0.062331,
     "end_time": "2021-04-29T17:13:16.721783",
     "exception": false,
     "start_time": "2021-04-29T17:13:16.659452",
     "status": "completed"
    },
    "tags": []
   },
   "outputs": [],
   "source": [
    "def get_mlp():\n",
    "    \n",
    "    return Sequential([\n",
    "        #input layer is automatic generation by keras\n",
    "        \n",
    "        #hidden layer\n",
    "        Dense(512, input_dim = num_pixels, activation='relu'),\n",
    "        \n",
    "        #output layer\n",
    "        Dense(num_classes, activation='softmax')\n",
    "    ])"
   ]
  },
  {
   "cell_type": "code",
   "execution_count": 16,
   "metadata": {
    "papermill": {
     "duration": 2.327688,
     "end_time": "2021-04-29T17:13:19.103934",
     "exception": false,
     "start_time": "2021-04-29T17:13:16.776246",
     "status": "completed"
    },
    "tags": []
   },
   "outputs": [
    {
     "name": "stdout",
     "output_type": "stream",
     "text": [
      "Model: \"sequential\"\n",
      "_________________________________________________________________\n",
      " Layer (type)                Output Shape              Param #   \n",
      "=================================================================\n",
      " dense (Dense)               (None, 512)               401920    \n",
      "                                                                 \n",
      " dense_1 (Dense)             (None, 10)                5130      \n",
      "                                                                 \n",
      "=================================================================\n",
      "Total params: 407,050\n",
      "Trainable params: 407,050\n",
      "Non-trainable params: 0\n",
      "_________________________________________________________________\n"
     ]
    }
   ],
   "source": [
    "model = get_mlp()\n",
    "model.compile(loss='categorical_crossentropy', optimizer='adam', metrics=[f1])\n",
    "model.summary()"
   ]
  },
  {
   "cell_type": "markdown",
   "metadata": {
    "papermill": {
     "duration": 0.055477,
     "end_time": "2021-04-29T17:13:19.215131",
     "exception": false,
     "start_time": "2021-04-29T17:13:19.159654",
     "status": "completed"
    },
    "tags": []
   },
   "source": [
    "Our network has 407,050 params (weights)"
   ]
  },
  {
   "cell_type": "markdown",
   "metadata": {
    "papermill": {
     "duration": 0.054947,
     "end_time": "2021-04-29T17:13:19.325168",
     "exception": false,
     "start_time": "2021-04-29T17:13:19.270221",
     "status": "completed"
    },
    "tags": []
   },
   "source": [
    "#### You can use **GPU** to accelerate training"
   ]
  },
  {
   "cell_type": "code",
   "execution_count": 17,
   "metadata": {
    "_kg_hide-output": true,
    "papermill": {
     "duration": 10.77344,
     "end_time": "2021-04-29T17:13:30.153827",
     "exception": false,
     "start_time": "2021-04-29T17:13:19.380387",
     "status": "completed"
    },
    "tags": []
   },
   "outputs": [
    {
     "name": "stdout",
     "output_type": "stream",
     "text": [
      "Epoch 1/40\n",
      "37/37 - 1s - loss: 0.6800 - f1: 0.7231 - val_loss: 0.3228 - val_f1: 0.9069 - lr: 0.0010 - 990ms/epoch - 27ms/step\n",
      "Epoch 2/40\n",
      "37/37 - 0s - loss: 0.2677 - f1: 0.9241 - val_loss: 0.2472 - val_f1: 0.9337 - lr: 0.0010 - 400ms/epoch - 11ms/step\n",
      "Epoch 3/40\n",
      "37/37 - 0s - loss: 0.2096 - f1: 0.9418 - val_loss: 0.2043 - val_f1: 0.9406 - lr: 0.0010 - 423ms/epoch - 11ms/step\n",
      "Epoch 4/40\n",
      "37/37 - 0s - loss: 0.1725 - f1: 0.9524 - val_loss: 0.1760 - val_f1: 0.9500 - lr: 0.0010 - 410ms/epoch - 11ms/step\n",
      "Epoch 5/40\n",
      "37/37 - 0s - loss: 0.1456 - f1: 0.9603 - val_loss: 0.1547 - val_f1: 0.9538 - lr: 0.0010 - 418ms/epoch - 11ms/step\n",
      "Epoch 6/40\n",
      "37/37 - 0s - loss: 0.1232 - f1: 0.9666 - val_loss: 0.1397 - val_f1: 0.9538 - lr: 0.0010 - 424ms/epoch - 11ms/step\n",
      "Epoch 7/40\n",
      "37/37 - 0s - loss: 0.1080 - f1: 0.9709 - val_loss: 0.1265 - val_f1: 0.9570 - lr: 0.0010 - 397ms/epoch - 11ms/step\n",
      "Epoch 8/40\n",
      "37/37 - 0s - loss: 0.0933 - f1: 0.9749 - val_loss: 0.1185 - val_f1: 0.9622 - lr: 0.0010 - 431ms/epoch - 12ms/step\n",
      "Epoch 9/40\n",
      "37/37 - 0s - loss: 0.0829 - f1: 0.9780 - val_loss: 0.1109 - val_f1: 0.9664 - lr: 0.0010 - 396ms/epoch - 11ms/step\n",
      "Epoch 10/40\n",
      "37/37 - 0s - loss: 0.0723 - f1: 0.9809 - val_loss: 0.1057 - val_f1: 0.9661 - lr: 0.0010 - 415ms/epoch - 11ms/step\n",
      "Epoch 11/40\n",
      "37/37 - 0s - loss: 0.0651 - f1: 0.9830 - val_loss: 0.1031 - val_f1: 0.9658 - lr: 0.0010 - 418ms/epoch - 11ms/step\n",
      "Epoch 12/40\n",
      "37/37 - 0s - loss: 0.0579 - f1: 0.9855 - val_loss: 0.0993 - val_f1: 0.9674 - lr: 0.0010 - 425ms/epoch - 11ms/step\n",
      "Epoch 13/40\n",
      "37/37 - 1s - loss: 0.0517 - f1: 0.9876 - val_loss: 0.0926 - val_f1: 0.9712 - lr: 0.0010 - 522ms/epoch - 14ms/step\n",
      "Epoch 14/40\n",
      "37/37 - 1s - loss: 0.0460 - f1: 0.9891 - val_loss: 0.0898 - val_f1: 0.9716 - lr: 0.0010 - 513ms/epoch - 14ms/step\n",
      "Epoch 15/40\n",
      "37/37 - 0s - loss: 0.0408 - f1: 0.9909 - val_loss: 0.0898 - val_f1: 0.9726 - lr: 0.0010 - 454ms/epoch - 12ms/step\n",
      "Epoch 16/40\n",
      "37/37 - 0s - loss: 0.0373 - f1: 0.9918 - val_loss: 0.0861 - val_f1: 0.9718 - lr: 0.0010 - 440ms/epoch - 12ms/step\n",
      "Epoch 17/40\n",
      "37/37 - 0s - loss: 0.0342 - f1: 0.9927 - val_loss: 0.0833 - val_f1: 0.9722 - lr: 0.0010 - 435ms/epoch - 12ms/step\n",
      "Epoch 18/40\n",
      "37/37 - 0s - loss: 0.0297 - f1: 0.9942 - val_loss: 0.0869 - val_f1: 0.9734 - lr: 0.0010 - 401ms/epoch - 11ms/step\n",
      "Epoch 19/40\n",
      "37/37 - 0s - loss: 0.0267 - f1: 0.9951 - val_loss: 0.0836 - val_f1: 0.9744 - lr: 0.0010 - 424ms/epoch - 11ms/step\n",
      "Epoch 20/40\n",
      "37/37 - 0s - loss: 0.0246 - f1: 0.9955 - val_loss: 0.0821 - val_f1: 0.9767 - lr: 0.0010 - 453ms/epoch - 12ms/step\n",
      "Epoch 21/40\n",
      "37/37 - 0s - loss: 0.0221 - f1: 0.9963 - val_loss: 0.0826 - val_f1: 0.9780 - lr: 0.0010 - 425ms/epoch - 11ms/step\n",
      "Epoch 22/40\n",
      "37/37 - 0s - loss: 0.0201 - f1: 0.9970 - val_loss: 0.0826 - val_f1: 0.9755 - lr: 0.0010 - 419ms/epoch - 11ms/step\n",
      "Epoch 23/40\n",
      "37/37 - 0s - loss: 0.0178 - f1: 0.9978 - val_loss: 0.0814 - val_f1: 0.9765 - lr: 0.0010 - 490ms/epoch - 13ms/step\n",
      "Epoch 24/40\n",
      "37/37 - 1s - loss: 0.0163 - f1: 0.9979 - val_loss: 0.0806 - val_f1: 0.9776 - lr: 0.0010 - 520ms/epoch - 14ms/step\n",
      "Epoch 25/40\n",
      "37/37 - 0s - loss: 0.0148 - f1: 0.9982 - val_loss: 0.0800 - val_f1: 0.9793 - lr: 0.0010 - 423ms/epoch - 11ms/step\n",
      "Epoch 26/40\n",
      "37/37 - 0s - loss: 0.0135 - f1: 0.9987 - val_loss: 0.0819 - val_f1: 0.9758 - lr: 0.0010 - 413ms/epoch - 11ms/step\n",
      "Epoch 27/40\n",
      "37/37 - 0s - loss: 0.0125 - f1: 0.9989 - val_loss: 0.0798 - val_f1: 0.9769 - lr: 0.0010 - 408ms/epoch - 11ms/step\n",
      "Epoch 28/40\n",
      "37/37 - 0s - loss: 0.0116 - f1: 0.9990 - val_loss: 0.0795 - val_f1: 0.9788 - lr: 0.0010 - 414ms/epoch - 11ms/step\n",
      "Epoch 29/40\n",
      "37/37 - 0s - loss: 0.0104 - f1: 0.9993 - val_loss: 0.0812 - val_f1: 0.9768 - lr: 0.0010 - 402ms/epoch - 11ms/step\n",
      "Epoch 30/40\n",
      "37/37 - 0s - loss: 0.0098 - f1: 0.9993 - val_loss: 0.0801 - val_f1: 0.9794 - lr: 0.0010 - 406ms/epoch - 11ms/step\n",
      "Epoch 31/40\n",
      "37/37 - 0s - loss: 0.0089 - f1: 0.9995 - val_loss: 0.0810 - val_f1: 0.9795 - lr: 0.0010 - 407ms/epoch - 11ms/step\n",
      "Epoch 32/40\n",
      "37/37 - 0s - loss: 0.0083 - f1: 0.9995 - val_loss: 0.0795 - val_f1: 0.9779 - lr: 0.0010 - 382ms/epoch - 10ms/step\n",
      "Epoch 33/40\n",
      "37/37 - 0s - loss: 0.0075 - f1: 0.9997 - val_loss: 0.0777 - val_f1: 0.9793 - lr: 0.0010 - 420ms/epoch - 11ms/step\n",
      "Epoch 34/40\n",
      "37/37 - 0s - loss: 0.0071 - f1: 0.9997 - val_loss: 0.0790 - val_f1: 0.9800 - lr: 0.0010 - 382ms/epoch - 10ms/step\n",
      "Epoch 35/40\n",
      "37/37 - 0s - loss: 0.0065 - f1: 0.9997 - val_loss: 0.0809 - val_f1: 0.9791 - lr: 0.0010 - 386ms/epoch - 10ms/step\n",
      "Epoch 36/40\n",
      "37/37 - 0s - loss: 0.0062 - f1: 0.9998 - val_loss: 0.0828 - val_f1: 0.9772 - lr: 0.0010 - 403ms/epoch - 11ms/step\n",
      "Epoch 37/40\n",
      "37/37 - 0s - loss: 0.0056 - f1: 0.9999 - val_loss: 0.0804 - val_f1: 0.9809 - lr: 0.0010 - 363ms/epoch - 10ms/step\n",
      "Epoch 38/40\n",
      "37/37 - 0s - loss: 0.0051 - f1: 0.9999 - val_loss: 0.0814 - val_f1: 0.9797 - lr: 0.0010 - 386ms/epoch - 10ms/step\n",
      "Epoch 39/40\n",
      "37/37 - 0s - loss: 0.0049 - f1: 0.9999 - val_loss: 0.0808 - val_f1: 0.9802 - lr: 0.0010 - 396ms/epoch - 11ms/step\n",
      "Epoch 40/40\n",
      "37/37 - 0s - loss: 0.0047 - f1: 0.9999 - val_loss: 0.0823 - val_f1: 0.9778 - lr: 0.0010 - 358ms/epoch - 10ms/step\n"
     ]
    }
   ],
   "source": [
    "learning_history = model.fit(X_train, y_train,\n",
    "          batch_size = 1024, epochs = 40, verbose = 2, callbacks = callbacks('simple_mlp'),\n",
    "          validation_data=(X_val, y_val));"
   ]
  },
  {
   "cell_type": "code",
   "execution_count": 18,
   "metadata": {
    "papermill": {
     "duration": 0.325374,
     "end_time": "2021-04-29T17:13:30.555305",
     "exception": false,
     "start_time": "2021-04-29T17:13:30.229931",
     "status": "completed"
    },
    "tags": []
   },
   "outputs": [
    {
     "name": "stdout",
     "output_type": "stream",
     "text": [
      "Test loss: 8.226477354764938%\n",
      "Test score: 97.520911693573%\n",
      "MLP Error: 2.48%\n"
     ]
    }
   ],
   "source": [
    "score = model.evaluate(X_val, y_val, verbose = 0)\n",
    "print('Test loss: {}%'.format(score[0] * 100))\n",
    "print('Test score: {}%'.format(score[1] * 100))\n",
    "\n",
    "print(\"MLP Error: %.2f%%\" % (100 - score[1] * 100))"
   ]
  },
  {
   "cell_type": "code",
   "execution_count": 19,
   "metadata": {
    "papermill": {
     "duration": 0.432688,
     "end_time": "2021-04-29T17:13:31.064410",
     "exception": false,
     "start_time": "2021-04-29T17:13:30.631722",
     "status": "completed"
    },
    "tags": []
   },
   "outputs": [
    {
     "data": {
      "image/png": "[encoded data removed]",
      "text/plain": [
       "<Figure size 2000x800 with 2 Axes>"
      ]
     },
     "metadata": {},
     "output_type": "display_data"
    }
   ],
   "source": [
    "draw_learning_curve(learning_history)"
   ]
  },
  {
   "cell_type": "markdown",
   "metadata": {
    "papermill": {
     "duration": 0.077163,
     "end_time": "2021-04-29T17:13:31.219398",
     "exception": false,
     "start_time": "2021-04-29T17:13:31.142235",
     "status": "completed"
    },
    "tags": []
   },
   "source": [
    "Cool! I get ~98% accuracy with easy model MLP and i didn't work too much.\n",
    "\n",
    "According to Pareto principle 80/20 in this case 20% work generate ~80%~ 98% accuracy :)"
   ]
  },
  {
   "cell_type": "markdown",
   "metadata": {
    "papermill": {
     "duration": 0.077373,
     "end_time": "2021-04-29T17:13:31.374129",
     "exception": false,
     "start_time": "2021-04-29T17:13:31.296756",
     "status": "completed"
    },
    "tags": []
   },
   "source": [
    "#### Adding new layer and Dropout to avoid overfitting"
   ]
  },
  {
   "cell_type": "code",
   "execution_count": 20,
   "metadata": {
    "papermill": {
     "duration": 0.086926,
     "end_time": "2021-04-29T17:13:31.538966",
     "exception": false,
     "start_time": "2021-04-29T17:13:31.452040",
     "status": "completed"
    },
    "tags": []
   },
   "outputs": [],
   "source": [
    "def get_mlpv2():\n",
    "    \n",
    "    return Sequential([\n",
    "        Dense(512, input_dim=num_pixels, activation='relu'),\n",
    "        Dropout(0.3),\n",
    "        Dense(256, activation='relu'),\n",
    "        Dropout(0.2),\n",
    "        Dense(128, activation='relu'),\n",
    "        Dense(num_classes, activation='softmax')\n",
    "    ])"
   ]
  },
  {
   "cell_type": "code",
   "execution_count": 21,
   "metadata": {
    "papermill": {
     "duration": 0.146063,
     "end_time": "2021-04-29T17:13:31.762198",
     "exception": false,
     "start_time": "2021-04-29T17:13:31.616135",
     "status": "completed"
    },
    "tags": []
   },
   "outputs": [
    {
     "name": "stdout",
     "output_type": "stream",
     "text": [
      "Model: \"sequential_1\"\n",
      "_________________________________________________________________\n",
      " Layer (type)                Output Shape              Param #   \n",
      "=================================================================\n",
      " dense_2 (Dense)             (None, 512)               401920    \n",
      "                                                                 \n",
      " dropout (Dropout)           (None, 512)               0         \n",
      "                                                                 \n",
      " dense_3 (Dense)             (None, 256)               131328    \n",
      "                                                                 \n",
      " dropout_1 (Dropout)         (None, 256)               0         \n",
      "                                                                 \n",
      " dense_4 (Dense)             (None, 128)               32896     \n",
      "                                                                 \n",
      " dense_5 (Dense)             (None, 10)                1290      \n",
      "                                                                 \n",
      "=================================================================\n",
      "Total params: 567,434\n",
      "Trainable params: 567,434\n",
      "Non-trainable params: 0\n",
      "_________________________________________________________________\n"
     ]
    }
   ],
   "source": [
    "model = get_mlpv2()\n",
    "model.compile(loss='categorical_crossentropy', optimizer='adam', metrics=[f1])\n",
    "model.summary()"
   ]
  },
  {
   "cell_type": "markdown",
   "metadata": {
    "papermill": {
     "duration": 0.078623,
     "end_time": "2021-04-29T17:13:31.918822",
     "exception": false,
     "start_time": "2021-04-29T17:13:31.840199",
     "status": "completed"
    },
    "tags": []
   },
   "source": [
    "Run new model "
   ]
  },
  {
   "cell_type": "code",
   "execution_count": 22,
   "metadata": {
    "_kg_hide-output": true,
    "papermill": {
     "duration": 10.286458,
     "end_time": "2021-04-29T17:13:42.283416",
     "exception": false,
     "start_time": "2021-04-29T17:13:31.996958",
     "status": "completed"
    },
    "tags": []
   },
   "outputs": [
    {
     "name": "stdout",
     "output_type": "stream",
     "text": [
      "Epoch 1/40\n",
      "37/37 - 1s - loss: 0.7590 - f1: 0.6903 - val_loss: 0.2726 - val_f1: 0.9188 - lr: 0.0010 - 1s/epoch - 39ms/step\n",
      "Epoch 2/40\n",
      "37/37 - 1s - loss: 0.2515 - f1: 0.9255 - val_loss: 0.1738 - val_f1: 0.9420 - lr: 0.0010 - 809ms/epoch - 22ms/step\n",
      "Epoch 3/40\n",
      "37/37 - 1s - loss: 0.1735 - f1: 0.9500 - val_loss: 0.1332 - val_f1: 0.9566 - lr: 0.0010 - 774ms/epoch - 21ms/step\n",
      "Epoch 4/40\n",
      "37/37 - 1s - loss: 0.1344 - f1: 0.9601 - val_loss: 0.1093 - val_f1: 0.9647 - lr: 0.0010 - 727ms/epoch - 20ms/step\n",
      "Epoch 5/40\n",
      "37/37 - 1s - loss: 0.1100 - f1: 0.9668 - val_loss: 0.0977 - val_f1: 0.9709 - lr: 0.0010 - 710ms/epoch - 19ms/step\n",
      "Epoch 6/40\n",
      "37/37 - 1s - loss: 0.0901 - f1: 0.9733 - val_loss: 0.0880 - val_f1: 0.9730 - lr: 0.0010 - 711ms/epoch - 19ms/step\n",
      "Epoch 7/40\n",
      "37/37 - 1s - loss: 0.0779 - f1: 0.9759 - val_loss: 0.0821 - val_f1: 0.9743 - lr: 0.0010 - 724ms/epoch - 20ms/step\n",
      "Epoch 8/40\n",
      "37/37 - 1s - loss: 0.0642 - f1: 0.9802 - val_loss: 0.0798 - val_f1: 0.9756 - lr: 0.0010 - 701ms/epoch - 19ms/step\n",
      "Epoch 9/40\n",
      "37/37 - 1s - loss: 0.0554 - f1: 0.9828 - val_loss: 0.0753 - val_f1: 0.9789 - lr: 0.0010 - 701ms/epoch - 19ms/step\n",
      "Epoch 10/40\n",
      "37/37 - 1s - loss: 0.0482 - f1: 0.9847 - val_loss: 0.0701 - val_f1: 0.9788 - lr: 0.0010 - 694ms/epoch - 19ms/step\n",
      "Epoch 11/40\n",
      "37/37 - 1s - loss: 0.0416 - f1: 0.9873 - val_loss: 0.0711 - val_f1: 0.9835 - lr: 0.0010 - 666ms/epoch - 18ms/step\n",
      "Epoch 12/40\n",
      "37/37 - 1s - loss: 0.0369 - f1: 0.9875 - val_loss: 0.0736 - val_f1: 0.9784 - lr: 0.0010 - 629ms/epoch - 17ms/step\n",
      "Epoch 13/40\n",
      "37/37 - 1s - loss: 0.0315 - f1: 0.9900 - val_loss: 0.0712 - val_f1: 0.9828 - lr: 0.0010 - 650ms/epoch - 18ms/step\n",
      "Epoch 14/40\n",
      "37/37 - 1s - loss: 0.0288 - f1: 0.9909 - val_loss: 0.0814 - val_f1: 0.9797 - lr: 0.0010 - 633ms/epoch - 17ms/step\n",
      "Epoch 15/40\n",
      "37/37 - 1s - loss: 0.0282 - f1: 0.9906 - val_loss: 0.0748 - val_f1: 0.9816 - lr: 0.0010 - 652ms/epoch - 18ms/step\n",
      "Epoch 16/40\n",
      "37/37 - 1s - loss: 0.0239 - f1: 0.9921 - val_loss: 0.0734 - val_f1: 0.9844 - lr: 0.0010 - 667ms/epoch - 18ms/step\n",
      "Epoch 17/40\n",
      "37/37 - 1s - loss: 0.0249 - f1: 0.9916 - val_loss: 0.0723 - val_f1: 0.9822 - lr: 0.0010 - 699ms/epoch - 19ms/step\n",
      "Epoch 18/40\n",
      "37/37 - 1s - loss: 0.0212 - f1: 0.9933 - val_loss: 0.0751 - val_f1: 0.9843 - lr: 0.0010 - 643ms/epoch - 17ms/step\n",
      "Epoch 19/40\n",
      "37/37 - 1s - loss: 0.0184 - f1: 0.9942 - val_loss: 0.0742 - val_f1: 0.9837 - lr: 0.0010 - 770ms/epoch - 21ms/step\n",
      "Epoch 20/40\n",
      "37/37 - 1s - loss: 0.0176 - f1: 0.9942 - val_loss: 0.0728 - val_f1: 0.9830 - lr: 0.0010 - 809ms/epoch - 22ms/step\n",
      "Epoch 21/40\n",
      "37/37 - 1s - loss: 0.0166 - f1: 0.9943 - val_loss: 0.0796 - val_f1: 0.9814 - lr: 0.0010 - 806ms/epoch - 22ms/step\n",
      "Epoch 22/40\n",
      "37/37 - 1s - loss: 0.0153 - f1: 0.9950 - val_loss: 0.0830 - val_f1: 0.9836 - lr: 0.0010 - 727ms/epoch - 20ms/step\n",
      "Epoch 23/40\n",
      "37/37 - 1s - loss: 0.0152 - f1: 0.9949 - val_loss: 0.0721 - val_f1: 0.9851 - lr: 0.0010 - 722ms/epoch - 20ms/step\n",
      "Epoch 24/40\n",
      "37/37 - 1s - loss: 0.0143 - f1: 0.9953 - val_loss: 0.0795 - val_f1: 0.9841 - lr: 0.0010 - 781ms/epoch - 21ms/step\n",
      "Epoch 25/40\n",
      "37/37 - 1s - loss: 0.0132 - f1: 0.9958 - val_loss: 0.0759 - val_f1: 0.9824 - lr: 0.0010 - 775ms/epoch - 21ms/step\n",
      "Epoch 26/40\n",
      "37/37 - 1s - loss: 0.0131 - f1: 0.9953 - val_loss: 0.0860 - val_f1: 0.9829 - lr: 0.0010 - 703ms/epoch - 19ms/step\n",
      "Epoch 27/40\n",
      "37/37 - 1s - loss: 0.0127 - f1: 0.9957 - val_loss: 0.0780 - val_f1: 0.9841 - lr: 0.0010 - 732ms/epoch - 20ms/step\n",
      "Epoch 28/40\n",
      "37/37 - 1s - loss: 0.0133 - f1: 0.9953 - val_loss: 0.0794 - val_f1: 0.9830 - lr: 0.0010 - 740ms/epoch - 20ms/step\n",
      "Epoch 29/40\n",
      "37/37 - 1s - loss: 0.0116 - f1: 0.9964 - val_loss: 0.0921 - val_f1: 0.9832 - lr: 0.0010 - 759ms/epoch - 21ms/step\n",
      "Epoch 30/40\n",
      "37/37 - 1s - loss: 0.0098 - f1: 0.9967 - val_loss: 0.0850 - val_f1: 0.9841 - lr: 0.0010 - 739ms/epoch - 20ms/step\n",
      "Epoch 31/40\n",
      "37/37 - 1s - loss: 0.0095 - f1: 0.9968 - val_loss: 0.0892 - val_f1: 0.9841 - lr: 0.0010 - 725ms/epoch - 20ms/step\n",
      "Epoch 32/40\n",
      "37/37 - 1s - loss: 0.0108 - f1: 0.9962 - val_loss: 0.0868 - val_f1: 0.9828 - lr: 0.0010 - 716ms/epoch - 19ms/step\n",
      "Epoch 33/40\n",
      "37/37 - 1s - loss: 0.0108 - f1: 0.9961 - val_loss: 0.0892 - val_f1: 0.9832 - lr: 0.0010 - 676ms/epoch - 18ms/step\n",
      "Epoch 34/40\n",
      "37/37 - 1s - loss: 0.0112 - f1: 0.9962 - val_loss: 0.0899 - val_f1: 0.9830 - lr: 0.0010 - 668ms/epoch - 18ms/step\n",
      "Epoch 35/40\n",
      "37/37 - 1s - loss: 0.0070 - f1: 0.9976 - val_loss: 0.0793 - val_f1: 0.9850 - lr: 1.0000e-04 - 672ms/epoch - 18ms/step\n",
      "Epoch 36/40\n",
      "37/37 - 1s - loss: 0.0060 - f1: 0.9980 - val_loss: 0.0782 - val_f1: 0.9846 - lr: 1.0000e-04 - 666ms/epoch - 18ms/step\n",
      "Epoch 37/40\n",
      "37/37 - 1s - loss: 0.0047 - f1: 0.9988 - val_loss: 0.0785 - val_f1: 0.9848 - lr: 1.0000e-04 - 657ms/epoch - 18ms/step\n",
      "Epoch 38/40\n",
      "37/37 - 1s - loss: 0.0047 - f1: 0.9987 - val_loss: 0.0775 - val_f1: 0.9853 - lr: 1.0000e-04 - 692ms/epoch - 19ms/step\n",
      "Epoch 39/40\n",
      "37/37 - 1s - loss: 0.0040 - f1: 0.9988 - val_loss: 0.0783 - val_f1: 0.9846 - lr: 1.0000e-04 - 681ms/epoch - 18ms/step\n",
      "Epoch 40/40\n",
      "37/37 - 1s - loss: 0.0039 - f1: 0.9990 - val_loss: 0.0790 - val_f1: 0.9848 - lr: 1.0000e-04 - 700ms/epoch - 19ms/step\n"
     ]
    }
   ],
   "source": [
    "learning_history = model.fit(X_train, y_train,\n",
    "          batch_size = 1024, epochs = 40, verbose = 2, callbacks = callbacks('mlp_reg'),\n",
    "          validation_data=(X_val, y_val));"
   ]
  },
  {
   "cell_type": "code",
   "execution_count": 23,
   "metadata": {
    "papermill": {
     "duration": 0.449621,
     "end_time": "2021-04-29T17:13:42.833040",
     "exception": false,
     "start_time": "2021-04-29T17:13:42.383419",
     "status": "completed"
    },
    "tags": []
   },
   "outputs": [
    {
     "data": {
      "image/png": "[encoded data removed]",
      "text/plain": [
       "<Figure size 2000x800 with 2 Axes>"
      ]
     },
     "metadata": {},
     "output_type": "display_data"
    }
   ],
   "source": [
    "draw_learning_curve(learning_history)"
   ]
  },
  {
   "cell_type": "code",
   "execution_count": 24,
   "metadata": {
    "papermill": {
     "duration": 0.352765,
     "end_time": "2021-04-29T17:13:43.287310",
     "exception": false,
     "start_time": "2021-04-29T17:13:42.934545",
     "status": "completed"
    },
    "tags": []
   },
   "outputs": [
    {
     "name": "stdout",
     "output_type": "stream",
     "text": [
      "Test loss: 7.902622222900391%\n",
      "Test score: 98.15303683280945%\n",
      "MLP Error: 1.85%\n"
     ]
    }
   ],
   "source": [
    "score = model.evaluate(X_val, y_val, verbose = 0)\n",
    "print('Test loss: {}%'.format(score[0] * 100))\n",
    "print('Test score: {}%'.format(score[1] * 100))\n",
    "\n",
    "print(\"MLP Error: %.2f%%\" % (100 - score[1] * 100))"
   ]
  },
  {
   "cell_type": "markdown",
   "metadata": {
    "papermill": {
     "duration": 0.101039,
     "end_time": "2021-04-29T17:13:43.489976",
     "exception": false,
     "start_time": "2021-04-29T17:13:43.388937",
     "status": "completed"
    },
    "tags": []
   },
   "source": [
    "#### I slightly improved the model, so we keep working."
   ]
  },
  {
   "cell_type": "markdown",
   "metadata": {
    "papermill": {
     "duration": 0.101204,
     "end_time": "2021-04-29T17:13:43.692594",
     "exception": false,
     "start_time": "2021-04-29T17:13:43.591390",
     "status": "completed"
    },
    "tags": []
   },
   "source": [
    "## CNN ([Convolutional_neural_network](https://en.wikipedia.org/wiki/Convolutional_neural_network))"
   ]
  },
  {
   "cell_type": "markdown",
   "metadata": {
    "papermill": {
     "duration": 0.101934,
     "end_time": "2021-04-29T17:13:43.895701",
     "exception": false,
     "start_time": "2021-04-29T17:13:43.793767",
     "status": "completed"
    },
    "tags": []
   },
   "source": [
    "![CNN](https://miro.medium.com/max/1872/1*SGPGG7oeSvVlV5sOSQ2iZw.png)"
   ]
  },
  {
   "cell_type": "markdown",
   "metadata": {
    "papermill": {
     "duration": 0.101355,
     "end_time": "2021-04-29T17:13:44.098012",
     "exception": false,
     "start_time": "2021-04-29T17:13:43.996657",
     "status": "completed"
    },
    "tags": []
   },
   "source": [
    "CNN consists with:\n",
    "- convolution layer\n",
    "- in the past MLP"
   ]
  },
  {
   "cell_type": "markdown",
   "metadata": {
    "papermill": {
     "duration": 0.125539,
     "end_time": "2021-04-29T17:13:44.324896",
     "exception": false,
     "start_time": "2021-04-29T17:13:44.199357",
     "status": "completed"
    },
    "tags": []
   },
   "source": [
    "It will use 3 convolutional layers: (Conv2D, Conv2D, pool)"
   ]
  },
  {
   "cell_type": "markdown",
   "metadata": {
    "papermill": {
     "duration": 0.166742,
     "end_time": "2021-04-29T17:13:44.657357",
     "exception": false,
     "start_time": "2021-04-29T17:13:44.490615",
     "status": "completed"
    },
    "tags": []
   },
   "source": [
    "#### We need to reshape data."
   ]
  },
  {
   "cell_type": "code",
   "execution_count": 25,
   "metadata": {
    "papermill": {
     "duration": 0.115592,
     "end_time": "2021-04-29T17:13:44.940028",
     "exception": false,
     "start_time": "2021-04-29T17:13:44.824436",
     "status": "completed"
    },
    "tags": []
   },
   "outputs": [
    {
     "data": {
      "text/plain": [
       "(37800, 784)"
      ]
     },
     "execution_count": 25,
     "metadata": {},
     "output_type": "execute_result"
    }
   ],
   "source": [
    "X_train.shape"
   ]
  },
  {
   "cell_type": "code",
   "execution_count": 26,
   "metadata": {
    "papermill": {
     "duration": 0.110618,
     "end_time": "2021-04-29T17:13:45.154180",
     "exception": false,
     "start_time": "2021-04-29T17:13:45.043562",
     "status": "completed"
    },
    "tags": []
   },
   "outputs": [],
   "source": [
    "X_train = X_train.values.reshape(-1, 28, 28, 1)\n",
    "X_val = X_val.values.reshape(-1, 28, 28, 1)\n",
    "X_test = X_test.values.reshape(-1, 28, 28, 1)\n",
    "input_shape = (28, 28, 1)"
   ]
  },
  {
   "cell_type": "code",
   "execution_count": 27,
   "metadata": {
    "papermill": {
     "duration": 0.115544,
     "end_time": "2021-04-29T17:13:45.371771",
     "exception": false,
     "start_time": "2021-04-29T17:13:45.256227",
     "status": "completed"
    },
    "tags": []
   },
   "outputs": [],
   "source": [
    "def get_cnn():\n",
    "    return Sequential([\n",
    "        Conv2D(32, kernel_size=(3, 3), activation='relu', padding='same', input_shape = input_shape),\n",
    "        Conv2D(32, kernel_size=(3, 3), activation='relu' ),\n",
    "        MaxPool2D(pool_size=(2, 2)),\n",
    "        Dropout(0.25),\n",
    "        \n",
    "        Conv2D(64, kernel_size=(3, 3), activation='relu', padding='same'),\n",
    "        Conv2D(64, kernel_size=(3, 3), activation='relu' ),\n",
    "        MaxPool2D(pool_size=(2, 2)),\n",
    "        Dropout(0.25),\n",
    "        \n",
    "        Conv2D(128, kernel_size=(3, 3), activation='relu', padding='same' ),\n",
    "        Conv2D(128, kernel_size=(3, 3), activation='relu' ),\n",
    "        MaxPool2D(pool_size=(2, 2)),\n",
    "        Dropout(0.25),\n",
    "        \n",
    "        \n",
    "        Flatten(),\n",
    "        \n",
    "        Dense(256, activation='relu'),\n",
    "        Dropout(0.5),\n",
    "        Dense(num_classes, activation = \"softmax\")\n",
    "        \n",
    "    ])"
   ]
  },
  {
   "cell_type": "code",
   "execution_count": 28,
   "metadata": {
    "papermill": {
     "duration": 0.230703,
     "end_time": "2021-04-29T17:13:45.704649",
     "exception": false,
     "start_time": "2021-04-29T17:13:45.473946",
     "status": "completed"
    },
    "tags": []
   },
   "outputs": [
    {
     "name": "stdout",
     "output_type": "stream",
     "text": [
      "Model: \"sequential_2\"\n",
      "_________________________________________________________________\n",
      " Layer (type)                Output Shape              Param #   \n",
      "=================================================================\n",
      " conv2d (Conv2D)             (None, 28, 28, 32)        320       \n",
      "                                                                 \n",
      " conv2d_1 (Conv2D)           (None, 26, 26, 32)        9248      \n",
      "                                                                 \n",
      " max_pooling2d (MaxPooling2D  (None, 13, 13, 32)       0         \n",
      " )                                                               \n",
      "                                                                 \n",
      " dropout_2 (Dropout)         (None, 13, 13, 32)        0         \n",
      "                                                                 \n",
      " conv2d_2 (Conv2D)           (None, 13, 13, 64)        18496     \n",
      "                                                                 \n",
      " conv2d_3 (Conv2D)           (None, 11, 11, 64)        36928     \n",
      "                                                                 \n",
      " max_pooling2d_1 (MaxPooling  (None, 5, 5, 64)         0         \n",
      " 2D)                                                             \n",
      "                                                                 \n",
      " dropout_3 (Dropout)         (None, 5, 5, 64)          0         \n",
      "                                                                 \n",
      " conv2d_4 (Conv2D)           (None, 5, 5, 128)         73856     \n",
      "                                                                 \n",
      " conv2d_5 (Conv2D)           (None, 3, 3, 128)         147584    \n",
      "                                                                 \n",
      " max_pooling2d_2 (MaxPooling  (None, 1, 1, 128)        0         \n",
      " 2D)                                                             \n",
      "                                                                 \n",
      " dropout_4 (Dropout)         (None, 1, 1, 128)         0         \n",
      "                                                                 \n",
      " flatten (Flatten)           (None, 128)               0         \n",
      "                                                                 \n",
      " dense_6 (Dense)             (None, 256)               33024     \n",
      "                                                                 \n",
      " dropout_5 (Dropout)         (None, 256)               0         \n",
      "                                                                 \n",
      " dense_7 (Dense)             (None, 10)                2570      \n",
      "                                                                 \n",
      "=================================================================\n",
      "Total params: 322,026\n",
      "Trainable params: 322,026\n",
      "Non-trainable params: 0\n",
      "_________________________________________________________________\n"
     ]
    }
   ],
   "source": [
    "model = get_cnn()\n",
    "model.compile(loss='categorical_crossentropy', optimizer='Adam', metrics=[f1])\n",
    "model.summary()"
   ]
  },
  {
   "cell_type": "code",
   "execution_count": 29,
   "metadata": {
    "_kg_hide-output": true,
    "papermill": {
     "duration": 90.674554,
     "end_time": "2021-04-29T17:15:16.484425",
     "exception": false,
     "start_time": "2021-04-29T17:13:45.809871",
     "status": "completed"
    },
    "tags": []
   },
   "outputs": [
    {
     "name": "stdout",
     "output_type": "stream",
     "text": [
      "Epoch 1/50\n",
      "278/296 [===========================>..] - ETA: 2s - loss: 0.4954 - f1: 0.8164"
     ]
    },
    {
     "ename": "KeyboardInterrupt",
     "evalue": "",
     "output_type": "error",
     "traceback": [
      "\u001b[1;31m---------------------------------------------------------------------------\u001b[0m",
      "\u001b[1;31mKeyboardInterrupt\u001b[0m                         Traceback (most recent call last)",
      "Cell \u001b[1;32mIn[29], line 1\u001b[0m\n\u001b[1;32m----> 1\u001b[0m learning_history \u001b[38;5;241m=\u001b[39m \u001b[43mmodel\u001b[49m\u001b[38;5;241;43m.\u001b[39;49m\u001b[43mfit\u001b[49m\u001b[43m(\u001b[49m\u001b[43mX_train\u001b[49m\u001b[43m,\u001b[49m\u001b[43m \u001b[49m\u001b[43my_train\u001b[49m\u001b[43m,\u001b[49m\n\u001b[0;32m      2\u001b[0m \u001b[43m          \u001b[49m\u001b[43mbatch_size\u001b[49m\u001b[43m \u001b[49m\u001b[38;5;241;43m=\u001b[39;49m\u001b[43m \u001b[49m\u001b[38;5;241;43m128\u001b[39;49m\u001b[43m,\u001b[49m\n\u001b[0;32m      3\u001b[0m \u001b[43m          \u001b[49m\u001b[43mepochs\u001b[49m\u001b[43m \u001b[49m\u001b[38;5;241;43m=\u001b[39;49m\u001b[43m \u001b[49m\u001b[38;5;241;43m50\u001b[39;49m\u001b[43m,\u001b[49m\n\u001b[0;32m      4\u001b[0m \u001b[43m          \u001b[49m\u001b[43mverbose\u001b[49m\u001b[43m \u001b[49m\u001b[38;5;241;43m=\u001b[39;49m\u001b[43m \u001b[49m\u001b[38;5;241;43m1\u001b[39;49m\u001b[43m,\u001b[49m\n\u001b[0;32m      5\u001b[0m \u001b[43m          \u001b[49m\u001b[43mcallbacks\u001b[49m\u001b[43m \u001b[49m\u001b[38;5;241;43m=\u001b[39;49m\u001b[43m \u001b[49m\u001b[43mcallbacks\u001b[49m\u001b[43m(\u001b[49m\u001b[38;5;124;43m'\u001b[39;49m\u001b[38;5;124;43mcnn_v1\u001b[39;49m\u001b[38;5;124;43m'\u001b[39;49m\u001b[43m)\u001b[49m\u001b[43m,\u001b[49m\n\u001b[0;32m      6\u001b[0m \u001b[43m          \u001b[49m\u001b[43mvalidation_data\u001b[49m\u001b[43m \u001b[49m\u001b[38;5;241;43m=\u001b[39;49m\u001b[43m \u001b[49m\u001b[43m(\u001b[49m\u001b[43mX_val\u001b[49m\u001b[43m,\u001b[49m\u001b[43m \u001b[49m\u001b[43my_val\u001b[49m\u001b[43m)\u001b[49m\u001b[43m)\u001b[49m\n",
      "File \u001b[1;32m~\\anaconda3\\envs\\rnd-tf-cpu\\lib\\site-packages\\keras\\utils\\traceback_utils.py:64\u001b[0m, in \u001b[0;36mfilter_traceback.<locals>.error_handler\u001b[1;34m(*args, **kwargs)\u001b[0m\n\u001b[0;32m     62\u001b[0m filtered_tb \u001b[38;5;241m=\u001b[39m \u001b[38;5;28;01mNone\u001b[39;00m\n\u001b[0;32m     63\u001b[0m \u001b[38;5;28;01mtry\u001b[39;00m:\n\u001b[1;32m---> 64\u001b[0m   \u001b[38;5;28;01mreturn\u001b[39;00m fn(\u001b[38;5;241m*\u001b[39margs, \u001b[38;5;241m*\u001b[39m\u001b[38;5;241m*\u001b[39mkwargs)\n\u001b[0;32m     65\u001b[0m \u001b[38;5;28;01mexcept\u001b[39;00m \u001b[38;5;167;01mException\u001b[39;00m \u001b[38;5;28;01mas\u001b[39;00m e:  \u001b[38;5;66;03m# pylint: disable=broad-except\u001b[39;00m\n\u001b[0;32m     66\u001b[0m   filtered_tb \u001b[38;5;241m=\u001b[39m _process_traceback_frames(e\u001b[38;5;241m.\u001b[39m__traceback__)\n",
      "File \u001b[1;32m~\\anaconda3\\envs\\rnd-tf-cpu\\lib\\site-packages\\keras\\engine\\training.py:1409\u001b[0m, in \u001b[0;36mModel.fit\u001b[1;34m(self, x, y, batch_size, epochs, verbose, callbacks, validation_split, validation_data, shuffle, class_weight, sample_weight, initial_epoch, steps_per_epoch, validation_steps, validation_batch_size, validation_freq, max_queue_size, workers, use_multiprocessing)\u001b[0m\n\u001b[0;32m   1402\u001b[0m \u001b[38;5;28;01mwith\u001b[39;00m tf\u001b[38;5;241m.\u001b[39mprofiler\u001b[38;5;241m.\u001b[39mexperimental\u001b[38;5;241m.\u001b[39mTrace(\n\u001b[0;32m   1403\u001b[0m     \u001b[38;5;124m'\u001b[39m\u001b[38;5;124mtrain\u001b[39m\u001b[38;5;124m'\u001b[39m,\n\u001b[0;32m   1404\u001b[0m     epoch_num\u001b[38;5;241m=\u001b[39mepoch,\n\u001b[0;32m   1405\u001b[0m     step_num\u001b[38;5;241m=\u001b[39mstep,\n\u001b[0;32m   1406\u001b[0m     batch_size\u001b[38;5;241m=\u001b[39mbatch_size,\n\u001b[0;32m   1407\u001b[0m     _r\u001b[38;5;241m=\u001b[39m\u001b[38;5;241m1\u001b[39m):\n\u001b[0;32m   1408\u001b[0m   callbacks\u001b[38;5;241m.\u001b[39mon_train_batch_begin(step)\n\u001b[1;32m-> 1409\u001b[0m   tmp_logs \u001b[38;5;241m=\u001b[39m \u001b[38;5;28;43mself\u001b[39;49m\u001b[38;5;241;43m.\u001b[39;49m\u001b[43mtrain_function\u001b[49m\u001b[43m(\u001b[49m\u001b[43miterator\u001b[49m\u001b[43m)\u001b[49m\n\u001b[0;32m   1410\u001b[0m   \u001b[38;5;28;01mif\u001b[39;00m data_handler\u001b[38;5;241m.\u001b[39mshould_sync:\n\u001b[0;32m   1411\u001b[0m     context\u001b[38;5;241m.\u001b[39masync_wait()\n",
      "File \u001b[1;32m~\\anaconda3\\envs\\rnd-tf-cpu\\lib\\site-packages\\tensorflow\\python\\util\\traceback_utils.py:150\u001b[0m, in \u001b[0;36mfilter_traceback.<locals>.error_handler\u001b[1;34m(*args, **kwargs)\u001b[0m\n\u001b[0;32m    148\u001b[0m filtered_tb \u001b[38;5;241m=\u001b[39m \u001b[38;5;28;01mNone\u001b[39;00m\n\u001b[0;32m    149\u001b[0m \u001b[38;5;28;01mtry\u001b[39;00m:\n\u001b[1;32m--> 150\u001b[0m   \u001b[38;5;28;01mreturn\u001b[39;00m fn(\u001b[38;5;241m*\u001b[39margs, \u001b[38;5;241m*\u001b[39m\u001b[38;5;241m*\u001b[39mkwargs)\n\u001b[0;32m    151\u001b[0m \u001b[38;5;28;01mexcept\u001b[39;00m \u001b[38;5;167;01mException\u001b[39;00m \u001b[38;5;28;01mas\u001b[39;00m e:\n\u001b[0;32m    152\u001b[0m   filtered_tb \u001b[38;5;241m=\u001b[39m _process_traceback_frames(e\u001b[38;5;241m.\u001b[39m__traceback__)\n",
      "File \u001b[1;32m~\\anaconda3\\envs\\rnd-tf-cpu\\lib\\site-packages\\tensorflow\\python\\eager\\def_function.py:915\u001b[0m, in \u001b[0;36mFunction.__call__\u001b[1;34m(self, *args, **kwds)\u001b[0m\n\u001b[0;32m    912\u001b[0m compiler \u001b[38;5;241m=\u001b[39m \u001b[38;5;124m\"\u001b[39m\u001b[38;5;124mxla\u001b[39m\u001b[38;5;124m\"\u001b[39m \u001b[38;5;28;01mif\u001b[39;00m \u001b[38;5;28mself\u001b[39m\u001b[38;5;241m.\u001b[39m_jit_compile \u001b[38;5;28;01melse\u001b[39;00m \u001b[38;5;124m\"\u001b[39m\u001b[38;5;124mnonXla\u001b[39m\u001b[38;5;124m\"\u001b[39m\n\u001b[0;32m    914\u001b[0m \u001b[38;5;28;01mwith\u001b[39;00m OptionalXlaContext(\u001b[38;5;28mself\u001b[39m\u001b[38;5;241m.\u001b[39m_jit_compile):\n\u001b[1;32m--> 915\u001b[0m   result \u001b[38;5;241m=\u001b[39m \u001b[38;5;28mself\u001b[39m\u001b[38;5;241m.\u001b[39m_call(\u001b[38;5;241m*\u001b[39margs, \u001b[38;5;241m*\u001b[39m\u001b[38;5;241m*\u001b[39mkwds)\n\u001b[0;32m    917\u001b[0m new_tracing_count \u001b[38;5;241m=\u001b[39m \u001b[38;5;28mself\u001b[39m\u001b[38;5;241m.\u001b[39mexperimental_get_tracing_count()\n\u001b[0;32m    918\u001b[0m without_tracing \u001b[38;5;241m=\u001b[39m (tracing_count \u001b[38;5;241m==\u001b[39m new_tracing_count)\n",
      "File \u001b[1;32m~\\anaconda3\\envs\\rnd-tf-cpu\\lib\\site-packages\\tensorflow\\python\\eager\\def_function.py:947\u001b[0m, in \u001b[0;36mFunction._call\u001b[1;34m(self, *args, **kwds)\u001b[0m\n\u001b[0;32m    944\u001b[0m   \u001b[38;5;28mself\u001b[39m\u001b[38;5;241m.\u001b[39m_lock\u001b[38;5;241m.\u001b[39mrelease()\n\u001b[0;32m    945\u001b[0m   \u001b[38;5;66;03m# In this case we have created variables on the first call, so we run the\u001b[39;00m\n\u001b[0;32m    946\u001b[0m   \u001b[38;5;66;03m# defunned version which is guaranteed to never create variables.\u001b[39;00m\n\u001b[1;32m--> 947\u001b[0m   \u001b[38;5;28;01mreturn\u001b[39;00m \u001b[38;5;28mself\u001b[39m\u001b[38;5;241m.\u001b[39m_stateless_fn(\u001b[38;5;241m*\u001b[39margs, \u001b[38;5;241m*\u001b[39m\u001b[38;5;241m*\u001b[39mkwds)  \u001b[38;5;66;03m# pylint: disable=not-callable\u001b[39;00m\n\u001b[0;32m    948\u001b[0m \u001b[38;5;28;01melif\u001b[39;00m \u001b[38;5;28mself\u001b[39m\u001b[38;5;241m.\u001b[39m_stateful_fn \u001b[38;5;129;01mis\u001b[39;00m \u001b[38;5;129;01mnot\u001b[39;00m \u001b[38;5;28;01mNone\u001b[39;00m:\n\u001b[0;32m    949\u001b[0m   \u001b[38;5;66;03m# Release the lock early so that multiple threads can perform the call\u001b[39;00m\n\u001b[0;32m    950\u001b[0m   \u001b[38;5;66;03m# in parallel.\u001b[39;00m\n\u001b[0;32m    951\u001b[0m   \u001b[38;5;28mself\u001b[39m\u001b[38;5;241m.\u001b[39m_lock\u001b[38;5;241m.\u001b[39mrelease()\n",
      "File \u001b[1;32m~\\anaconda3\\envs\\rnd-tf-cpu\\lib\\site-packages\\tensorflow\\python\\eager\\function.py:2453\u001b[0m, in \u001b[0;36mFunction.__call__\u001b[1;34m(self, *args, **kwargs)\u001b[0m\n\u001b[0;32m   2450\u001b[0m \u001b[38;5;28;01mwith\u001b[39;00m \u001b[38;5;28mself\u001b[39m\u001b[38;5;241m.\u001b[39m_lock:\n\u001b[0;32m   2451\u001b[0m   (graph_function,\n\u001b[0;32m   2452\u001b[0m    filtered_flat_args) \u001b[38;5;241m=\u001b[39m \u001b[38;5;28mself\u001b[39m\u001b[38;5;241m.\u001b[39m_maybe_define_function(args, kwargs)\n\u001b[1;32m-> 2453\u001b[0m \u001b[38;5;28;01mreturn\u001b[39;00m \u001b[43mgraph_function\u001b[49m\u001b[38;5;241;43m.\u001b[39;49m\u001b[43m_call_flat\u001b[49m\u001b[43m(\u001b[49m\n\u001b[0;32m   2454\u001b[0m \u001b[43m    \u001b[49m\u001b[43mfiltered_flat_args\u001b[49m\u001b[43m,\u001b[49m\u001b[43m \u001b[49m\u001b[43mcaptured_inputs\u001b[49m\u001b[38;5;241;43m=\u001b[39;49m\u001b[43mgraph_function\u001b[49m\u001b[38;5;241;43m.\u001b[39;49m\u001b[43mcaptured_inputs\u001b[49m\u001b[43m)\u001b[49m\n",
      "File \u001b[1;32m~\\anaconda3\\envs\\rnd-tf-cpu\\lib\\site-packages\\tensorflow\\python\\eager\\function.py:1860\u001b[0m, in \u001b[0;36mConcreteFunction._call_flat\u001b[1;34m(self, args, captured_inputs, cancellation_manager)\u001b[0m\n\u001b[0;32m   1856\u001b[0m possible_gradient_type \u001b[38;5;241m=\u001b[39m gradients_util\u001b[38;5;241m.\u001b[39mPossibleTapeGradientTypes(args)\n\u001b[0;32m   1857\u001b[0m \u001b[38;5;28;01mif\u001b[39;00m (possible_gradient_type \u001b[38;5;241m==\u001b[39m gradients_util\u001b[38;5;241m.\u001b[39mPOSSIBLE_GRADIENT_TYPES_NONE\n\u001b[0;32m   1858\u001b[0m     \u001b[38;5;129;01mand\u001b[39;00m executing_eagerly):\n\u001b[0;32m   1859\u001b[0m   \u001b[38;5;66;03m# No tape is watching; skip to running the function.\u001b[39;00m\n\u001b[1;32m-> 1860\u001b[0m   \u001b[38;5;28;01mreturn\u001b[39;00m \u001b[38;5;28mself\u001b[39m\u001b[38;5;241m.\u001b[39m_build_call_outputs(\u001b[38;5;28;43mself\u001b[39;49m\u001b[38;5;241;43m.\u001b[39;49m\u001b[43m_inference_function\u001b[49m\u001b[38;5;241;43m.\u001b[39;49m\u001b[43mcall\u001b[49m\u001b[43m(\u001b[49m\n\u001b[0;32m   1861\u001b[0m \u001b[43m      \u001b[49m\u001b[43mctx\u001b[49m\u001b[43m,\u001b[49m\u001b[43m \u001b[49m\u001b[43margs\u001b[49m\u001b[43m,\u001b[49m\u001b[43m \u001b[49m\u001b[43mcancellation_manager\u001b[49m\u001b[38;5;241;43m=\u001b[39;49m\u001b[43mcancellation_manager\u001b[49m\u001b[43m)\u001b[49m)\n\u001b[0;32m   1862\u001b[0m forward_backward \u001b[38;5;241m=\u001b[39m \u001b[38;5;28mself\u001b[39m\u001b[38;5;241m.\u001b[39m_select_forward_and_backward_functions(\n\u001b[0;32m   1863\u001b[0m     args,\n\u001b[0;32m   1864\u001b[0m     possible_gradient_type,\n\u001b[0;32m   1865\u001b[0m     executing_eagerly)\n\u001b[0;32m   1866\u001b[0m forward_function, args_with_tangents \u001b[38;5;241m=\u001b[39m forward_backward\u001b[38;5;241m.\u001b[39mforward()\n",
      "File \u001b[1;32m~\\anaconda3\\envs\\rnd-tf-cpu\\lib\\site-packages\\tensorflow\\python\\eager\\function.py:497\u001b[0m, in \u001b[0;36m_EagerDefinedFunction.call\u001b[1;34m(self, ctx, args, cancellation_manager)\u001b[0m\n\u001b[0;32m    495\u001b[0m \u001b[38;5;28;01mwith\u001b[39;00m _InterpolateFunctionError(\u001b[38;5;28mself\u001b[39m):\n\u001b[0;32m    496\u001b[0m   \u001b[38;5;28;01mif\u001b[39;00m cancellation_manager \u001b[38;5;129;01mis\u001b[39;00m \u001b[38;5;28;01mNone\u001b[39;00m:\n\u001b[1;32m--> 497\u001b[0m     outputs \u001b[38;5;241m=\u001b[39m \u001b[43mexecute\u001b[49m\u001b[38;5;241;43m.\u001b[39;49m\u001b[43mexecute\u001b[49m\u001b[43m(\u001b[49m\n\u001b[0;32m    498\u001b[0m \u001b[43m        \u001b[49m\u001b[38;5;28;43mstr\u001b[39;49m\u001b[43m(\u001b[49m\u001b[38;5;28;43mself\u001b[39;49m\u001b[38;5;241;43m.\u001b[39;49m\u001b[43msignature\u001b[49m\u001b[38;5;241;43m.\u001b[39;49m\u001b[43mname\u001b[49m\u001b[43m)\u001b[49m\u001b[43m,\u001b[49m\n\u001b[0;32m    499\u001b[0m \u001b[43m        \u001b[49m\u001b[43mnum_outputs\u001b[49m\u001b[38;5;241;43m=\u001b[39;49m\u001b[38;5;28;43mself\u001b[39;49m\u001b[38;5;241;43m.\u001b[39;49m\u001b[43m_num_outputs\u001b[49m\u001b[43m,\u001b[49m\n\u001b[0;32m    500\u001b[0m \u001b[43m        \u001b[49m\u001b[43minputs\u001b[49m\u001b[38;5;241;43m=\u001b[39;49m\u001b[43margs\u001b[49m\u001b[43m,\u001b[49m\n\u001b[0;32m    501\u001b[0m \u001b[43m        \u001b[49m\u001b[43mattrs\u001b[49m\u001b[38;5;241;43m=\u001b[39;49m\u001b[43mattrs\u001b[49m\u001b[43m,\u001b[49m\n\u001b[0;32m    502\u001b[0m \u001b[43m        \u001b[49m\u001b[43mctx\u001b[49m\u001b[38;5;241;43m=\u001b[39;49m\u001b[43mctx\u001b[49m\u001b[43m)\u001b[49m\n\u001b[0;32m    503\u001b[0m   \u001b[38;5;28;01melse\u001b[39;00m:\n\u001b[0;32m    504\u001b[0m     outputs \u001b[38;5;241m=\u001b[39m execute\u001b[38;5;241m.\u001b[39mexecute_with_cancellation(\n\u001b[0;32m    505\u001b[0m         \u001b[38;5;28mstr\u001b[39m(\u001b[38;5;28mself\u001b[39m\u001b[38;5;241m.\u001b[39msignature\u001b[38;5;241m.\u001b[39mname),\n\u001b[0;32m    506\u001b[0m         num_outputs\u001b[38;5;241m=\u001b[39m\u001b[38;5;28mself\u001b[39m\u001b[38;5;241m.\u001b[39m_num_outputs,\n\u001b[1;32m   (...)\u001b[0m\n\u001b[0;32m    509\u001b[0m         ctx\u001b[38;5;241m=\u001b[39mctx,\n\u001b[0;32m    510\u001b[0m         cancellation_manager\u001b[38;5;241m=\u001b[39mcancellation_manager)\n",
      "File \u001b[1;32m~\\anaconda3\\envs\\rnd-tf-cpu\\lib\\site-packages\\tensorflow\\python\\eager\\execute.py:54\u001b[0m, in \u001b[0;36mquick_execute\u001b[1;34m(op_name, num_outputs, inputs, attrs, ctx, name)\u001b[0m\n\u001b[0;32m     52\u001b[0m \u001b[38;5;28;01mtry\u001b[39;00m:\n\u001b[0;32m     53\u001b[0m   ctx\u001b[38;5;241m.\u001b[39mensure_initialized()\n\u001b[1;32m---> 54\u001b[0m   tensors \u001b[38;5;241m=\u001b[39m \u001b[43mpywrap_tfe\u001b[49m\u001b[38;5;241;43m.\u001b[39;49m\u001b[43mTFE_Py_Execute\u001b[49m\u001b[43m(\u001b[49m\u001b[43mctx\u001b[49m\u001b[38;5;241;43m.\u001b[39;49m\u001b[43m_handle\u001b[49m\u001b[43m,\u001b[49m\u001b[43m \u001b[49m\u001b[43mdevice_name\u001b[49m\u001b[43m,\u001b[49m\u001b[43m \u001b[49m\u001b[43mop_name\u001b[49m\u001b[43m,\u001b[49m\n\u001b[0;32m     55\u001b[0m \u001b[43m                                      \u001b[49m\u001b[43minputs\u001b[49m\u001b[43m,\u001b[49m\u001b[43m \u001b[49m\u001b[43mattrs\u001b[49m\u001b[43m,\u001b[49m\u001b[43m \u001b[49m\u001b[43mnum_outputs\u001b[49m\u001b[43m)\u001b[49m\n\u001b[0;32m     56\u001b[0m \u001b[38;5;28;01mexcept\u001b[39;00m core\u001b[38;5;241m.\u001b[39m_NotOkStatusException \u001b[38;5;28;01mas\u001b[39;00m e:\n\u001b[0;32m     57\u001b[0m   \u001b[38;5;28;01mif\u001b[39;00m name \u001b[38;5;129;01mis\u001b[39;00m \u001b[38;5;129;01mnot\u001b[39;00m \u001b[38;5;28;01mNone\u001b[39;00m:\n",
      "\u001b[1;31mKeyboardInterrupt\u001b[0m: "
     ]
    }
   ],
   "source": [
    "learning_history = model.fit(X_train, y_train,\n",
    "          batch_size = 128,\n",
    "          epochs = 50,\n",
    "          verbose = 1,\n",
    "          callbacks = callbacks('cnn_v1'),\n",
    "          validation_data = (X_val, y_val))"
   ]
  },
  {
   "cell_type": "code",
   "execution_count": null,
   "metadata": {
    "papermill": {
     "duration": 0.875907,
     "end_time": "2021-04-29T17:15:17.899647",
     "exception": false,
     "start_time": "2021-04-29T17:15:17.023740",
     "status": "completed"
    },
    "tags": []
   },
   "outputs": [],
   "source": [
    "score = model.evaluate(X_val, y_val, verbose=0)\n",
    "print('Test loss:', score[0])\n",
    "print('Test score:', score[1])\n",
    "\n",
    "print(\"CNN Error: %.2f%%\" % (100-score[1]*100))"
   ]
  },
  {
   "cell_type": "code",
   "execution_count": null,
   "metadata": {
    "papermill": {
     "duration": 1.148119,
     "end_time": "2021-04-29T17:15:19.599291",
     "exception": false,
     "start_time": "2021-04-29T17:15:18.451172",
     "status": "completed"
    },
    "tags": []
   },
   "outputs": [],
   "source": [
    "draw_learning_curve(learning_history)"
   ]
  },
  {
   "cell_type": "markdown",
   "metadata": {
    "papermill": {
     "duration": 0.540738,
     "end_time": "2021-04-29T17:15:20.685411",
     "exception": false,
     "start_time": "2021-04-29T17:15:20.144673",
     "status": "completed"
    },
    "tags": []
   },
   "source": [
    "### Let's see in which cases the model is invalid."
   ]
  },
  {
   "cell_type": "markdown",
   "metadata": {
    "papermill": {
     "duration": 0.539574,
     "end_time": "2021-04-29T17:15:21.765598",
     "exception": false,
     "start_time": "2021-04-29T17:15:21.226024",
     "status": "completed"
    },
    "tags": []
   },
   "source": [
    "#### Let's assign the values provided by the model"
   ]
  },
  {
   "cell_type": "code",
   "execution_count": null,
   "metadata": {
    "papermill": {
     "duration": 0.844824,
     "end_time": "2021-04-29T17:15:23.152068",
     "exception": false,
     "start_time": "2021-04-29T17:15:22.307244",
     "status": "completed"
    },
    "tags": []
   },
   "outputs": [],
   "source": [
    "y_pred = model.predict(X_val)"
   ]
  },
  {
   "cell_type": "markdown",
   "metadata": {
    "papermill": {
     "duration": 0.539381,
     "end_time": "2021-04-29T17:15:24.468994",
     "exception": false,
     "start_time": "2021-04-29T17:15:23.929613",
     "status": "completed"
    },
    "tags": []
   },
   "source": [
    "#### I made function to visual output"
   ]
  },
  {
   "cell_type": "code",
   "execution_count": null,
   "metadata": {
    "papermill": {
     "duration": 0.551543,
     "end_time": "2021-04-29T17:15:25.558915",
     "exception": false,
     "start_time": "2021-04-29T17:15:25.007372",
     "status": "completed"
    },
    "tags": []
   },
   "outputs": [],
   "source": [
    "def draw_output(idx_nums):\n",
    "    plt.figure(figsize = (20, 20))\n",
    "    plt.xticks( range(10) )\n",
    "    x = np.ceil(np.sqrt(len(idx_nums)))\n",
    "    cnt = 1\n",
    "    for ph in idx_nums:\n",
    "        plt.subplot(x, x, cnt)\n",
    "        curr_photo = y_val[ph]\n",
    "        \n",
    "        plt.xlim(0, 10)\n",
    "        plt.title(\"Digit: {0}\\n idx: {1} \".format(np.argmax(y_val[ph]), ph), fontsize = 10) \n",
    "        plt.bar(range(10), y_pred[ph])\n",
    "        \n",
    "        cnt += 1"
   ]
  },
  {
   "cell_type": "markdown",
   "metadata": {
    "papermill": {
     "duration": 0.58936,
     "end_time": "2021-04-29T17:15:26.688029",
     "exception": false,
     "start_time": "2021-04-29T17:15:26.098669",
     "status": "completed"
    },
    "tags": []
   },
   "source": [
    "#### The number of errors for the each digit"
   ]
  },
  {
   "cell_type": "code",
   "execution_count": null,
   "metadata": {
    "papermill": {
     "duration": 0.766543,
     "end_time": "2021-04-29T17:15:27.993372",
     "exception": false,
     "start_time": "2021-04-29T17:15:27.226829",
     "status": "completed"
    },
    "tags": []
   },
   "outputs": [],
   "source": [
    "cnt_error = []\n",
    "for idx, (a, b) in enumerate(zip(y_val, y_pred)):\n",
    "    if np.argmax(a) == np.argmax(b): continue\n",
    "    cnt_error.append( (np.argmax(a)) )\n",
    "\n",
    "cnt_error = np.unique(cnt_error, return_counts = True)\n",
    "sns.set_style(\"darkgrid\")\n",
    "plt.figure(figsize = (15, 7))\n",
    "bar_plot = sns.barplot(cnt_error[0], cnt_error[1], palette=\"muted\")\n",
    "plt.show()"
   ]
  },
  {
   "cell_type": "markdown",
   "metadata": {
    "papermill": {
     "duration": 0.546829,
     "end_time": "2021-04-29T17:15:29.100486",
     "exception": false,
     "start_time": "2021-04-29T17:15:28.553657",
     "status": "completed"
    },
    "tags": []
   },
   "source": [
    "#### Let's see these photos (2, 9)"
   ]
  },
  {
   "cell_type": "code",
   "execution_count": null,
   "metadata": {
    "papermill": {
     "duration": 2.584775,
     "end_time": "2021-04-29T17:15:32.232374",
     "exception": false,
     "start_time": "2021-04-29T17:15:29.647599",
     "status": "completed"
    },
    "tags": []
   },
   "outputs": [],
   "source": [
    "cnt_ind = 1\n",
    "list_idx = []\n",
    "X_val_plot = X_val.reshape( X_val.shape[:-1] )\n",
    "fig = plt.figure(figsize=(14, 14))\n",
    "\n",
    "for idx, (a, b) in enumerate(zip(y_val, y_pred)):\n",
    "    if np.argmax(a) == np.argmax(b): continue\n",
    "    if (np.argmax(a) == 2 or np.argmax(a) == 9):    \n",
    "        plt.subplot(5, 5, cnt_ind)\n",
    "        plt.imshow(X_val_plot[idx], cmap='gray', interpolation='none')\n",
    "        plt.title('y_true={0}\\ny_pred={1}\\n ind = {2}'.format(np.argmax(a), np.argmax(b), idx))\n",
    "        plt.tight_layout()\n",
    "        list_idx.append(idx)\n",
    "        cnt_ind += 1"
   ]
  },
  {
   "cell_type": "markdown",
   "metadata": {
    "papermill": {
     "duration": 0.585228,
     "end_time": "2021-04-29T17:15:33.373067",
     "exception": false,
     "start_time": "2021-04-29T17:15:32.787839",
     "status": "completed"
    },
    "tags": []
   },
   "source": [
    "#### Run the `draw_output` function to see the probability of each value occurring"
   ]
  },
  {
   "cell_type": "code",
   "execution_count": null,
   "metadata": {
    "papermill": {
     "duration": 2.085097,
     "end_time": "2021-04-29T17:15:36.006422",
     "exception": false,
     "start_time": "2021-04-29T17:15:33.921325",
     "status": "completed"
    },
    "tags": []
   },
   "outputs": [],
   "source": [
    "draw_output(list_idx)"
   ]
  },
  {
   "cell_type": "markdown",
   "metadata": {
    "papermill": {
     "duration": 0.546644,
     "end_time": "2021-04-29T17:15:37.104468",
     "exception": false,
     "start_time": "2021-04-29T17:15:36.557824",
     "status": "completed"
    },
    "tags": []
   },
   "source": [
    "#### As you can see, the model is wrong in cases where the common person would also have trouble finding the correct answer."
   ]
  },
  {
   "cell_type": "markdown",
   "metadata": {
    "papermill": {
     "duration": 0.916684,
     "end_time": "2021-04-29T17:15:38.586042",
     "exception": false,
     "start_time": "2021-04-29T17:15:37.669358",
     "status": "completed"
    },
    "tags": []
   },
   "source": [
    "## Data Augmentation"
   ]
  },
  {
   "cell_type": "markdown",
   "metadata": {
    "papermill": {
     "duration": 0.541024,
     "end_time": "2021-04-29T17:15:39.756912",
     "exception": false,
     "start_time": "2021-04-29T17:15:39.215888",
     "status": "completed"
    },
    "tags": []
   },
   "source": [
    "#### I will try to improve the result by expanding the data. You have to be careful when rotating your photos not to misclassify numbers such as 9 and 6.\n",
    "\n",
    "#### Data augmentation:\n",
    "\n",
    "Randomly shift images horizontally by 10% of the width\n",
    "\n",
    "Randomly shift images vertically by 10% of the height\n",
    "\n",
    "Randomly rotate images by 10 degrees\n",
    "\n",
    "Randomly Zoom by 10% some images\n"
   ]
  },
  {
   "cell_type": "code",
   "execution_count": null,
   "metadata": {
    "papermill": {
     "duration": 0.68479,
     "end_time": "2021-04-29T17:15:40.982784",
     "exception": false,
     "start_time": "2021-04-29T17:15:40.297994",
     "status": "completed"
    },
    "tags": []
   },
   "outputs": [],
   "source": [
    "train_aug = ImageDataGenerator(\n",
    "        featurewise_center = False,\n",
    "        samplewise_center = False,\n",
    "        featurewise_std_normalization = False, \n",
    "        samplewise_std_normalization = False,\n",
    "        zca_whitening = False,\n",
    "        horizontal_flip = False,\n",
    "        vertical_flip = False,\n",
    "        fill_mode = 'nearest',\n",
    "        rotation_range = 10,  \n",
    "        zoom_range = 0.1, \n",
    "        width_shift_range = 0.1, \n",
    "        height_shift_range = 0.1)\n",
    "        \n",
    "\n",
    "train_aug.fit(X_train)\n",
    "train_gen = train_aug.flow(X_train, y_train, batch_size=64)"
   ]
  },
  {
   "cell_type": "markdown",
   "metadata": {
    "papermill": {
     "duration": 0.542719,
     "end_time": "2021-04-29T17:15:42.069620",
     "exception": false,
     "start_time": "2021-04-29T17:15:41.526901",
     "status": "completed"
    },
    "tags": []
   },
   "source": [
    "#### Building new model and using batch normalization"
   ]
  },
  {
   "cell_type": "code",
   "execution_count": null,
   "metadata": {
    "papermill": {
     "duration": 0.584036,
     "end_time": "2021-04-29T17:15:43.195958",
     "exception": false,
     "start_time": "2021-04-29T17:15:42.611922",
     "status": "completed"
    },
    "tags": []
   },
   "outputs": [],
   "source": [
    "def get_cnn_v2():\n",
    "    return Sequential([\n",
    "        Conv2D(32, kernel_size=(3, 3), activation='relu', padding='same', input_shape = input_shape),\n",
    "        Conv2D(32, kernel_size=(3, 3), activation='relu', padding='same'),\n",
    "        BatchNormalization(),\n",
    "        MaxPool2D(pool_size=(2, 2)),\n",
    "        Dropout(0.25),\n",
    "        \n",
    "        Conv2D(64, kernel_size=(3, 3), activation='relu', padding='same'),\n",
    "        Conv2D(64, kernel_size=(3, 3), activation='relu', padding='same' ),\n",
    "        BatchNormalization(),\n",
    "        MaxPool2D(pool_size=(2, 2)),\n",
    "        Dropout(0.25),\n",
    "        \n",
    "        Conv2D(128, kernel_size=(3, 3), activation='relu', padding='same' ),\n",
    "        Conv2D(128, kernel_size=(3, 3), activation='relu', padding='same' ),\n",
    "        BatchNormalization(),\n",
    "        MaxPool2D(pool_size=(2, 2)),\n",
    "        Dropout(0.25),\n",
    "        \n",
    "        \n",
    "        Flatten(),\n",
    "          \n",
    "        Dense(512, activation='relu'),\n",
    "        BatchNormalization(),\n",
    "        Dropout(0.5),\n",
    "        \n",
    "        Dense(256, activation='relu'),\n",
    "        BatchNormalization(),\n",
    "        Dropout(0.4),\n",
    "        \n",
    "        Dense(64, activation='relu'),\n",
    "        BatchNormalization(),\n",
    "        Dropout(0.3),\n",
    "        \n",
    "        Dense(num_classes, activation = \"softmax\")\n",
    "        \n",
    "    ])"
   ]
  },
  {
   "cell_type": "code",
   "execution_count": null,
   "metadata": {
    "papermill": {
     "duration": 0.831292,
     "end_time": "2021-04-29T17:15:44.567768",
     "exception": false,
     "start_time": "2021-04-29T17:15:43.736476",
     "status": "completed"
    },
    "tags": []
   },
   "outputs": [],
   "source": [
    "model = get_cnn_v2()\n",
    "model.compile(loss='categorical_crossentropy', optimizer='Adam', metrics=[f1])\n",
    "model.summary()"
   ]
  },
  {
   "cell_type": "code",
   "execution_count": null,
   "metadata": {
    "_kg_hide-output": true,
    "papermill": {
     "duration": 833.110101,
     "end_time": "2021-04-29T17:29:38.220232",
     "exception": false,
     "start_time": "2021-04-29T17:15:45.110131",
     "status": "completed"
    },
    "tags": []
   },
   "outputs": [],
   "source": [
    "learning_history = model.fit_generator(train_gen, epochs = 100, \n",
    "                               steps_per_epoch = X_train.shape[0] // 64,\n",
    "                               validation_data = (X_val, y_val),\n",
    "                               callbacks = callbacks('best_cnn'),\n",
    "                             )"
   ]
  },
  {
   "cell_type": "markdown",
   "metadata": {
    "papermill": {
     "duration": 4.203155,
     "end_time": "2021-04-29T17:29:46.882077",
     "exception": false,
     "start_time": "2021-04-29T17:29:42.678922",
     "status": "completed"
    },
    "tags": []
   },
   "source": [
    "#### Loading the best model"
   ]
  },
  {
   "cell_type": "code",
   "execution_count": null,
   "metadata": {
    "papermill": {
     "duration": 5.089059,
     "end_time": "2021-04-29T17:29:56.625253",
     "exception": false,
     "start_time": "2021-04-29T17:29:51.536194",
     "status": "completed"
    },
    "tags": []
   },
   "outputs": [],
   "source": [
    "model = load_model('../working/best_cnn.hdf5', custom_objects={\"f1\": f1})"
   ]
  },
  {
   "cell_type": "code",
   "execution_count": null,
   "metadata": {
    "papermill": {
     "duration": 5.009691,
     "end_time": "2021-04-29T17:30:05.873375",
     "exception": false,
     "start_time": "2021-04-29T17:30:00.863684",
     "status": "completed"
    },
    "tags": []
   },
   "outputs": [],
   "source": [
    "score = model.evaluate(X_val, y_val, verbose=0)\n",
    "print('Test loss:', score[0])\n",
    "print('Test score:', score[1])\n",
    "\n",
    "print(\"CNN Error: %.2f%%\" % (100-score[1]*100))"
   ]
  },
  {
   "cell_type": "code",
   "execution_count": null,
   "metadata": {
    "papermill": {
     "duration": 5.223355,
     "end_time": "2021-04-29T17:30:15.393271",
     "exception": false,
     "start_time": "2021-04-29T17:30:10.169916",
     "status": "completed"
    },
    "tags": []
   },
   "outputs": [],
   "source": [
    "draw_learning_curve(learning_history)"
   ]
  },
  {
   "cell_type": "markdown",
   "metadata": {
    "papermill": {
     "duration": 4.70918,
     "end_time": "2021-04-29T17:30:24.354013",
     "exception": false,
     "start_time": "2021-04-29T17:30:19.644833",
     "status": "completed"
    },
    "tags": []
   },
   "source": [
    "#### We achieved a great result of 99.6% accuracy"
   ]
  },
  {
   "cell_type": "markdown",
   "metadata": {
    "papermill": {
     "duration": 4.202023,
     "end_time": "2021-04-29T17:30:33.059389",
     "exception": false,
     "start_time": "2021-04-29T17:30:28.857366",
     "status": "completed"
    },
    "tags": []
   },
   "source": [
    "# Generate output"
   ]
  },
  {
   "cell_type": "code",
   "execution_count": null,
   "metadata": {
    "papermill": {
     "duration": 5.723039,
     "end_time": "2021-04-29T17:30:43.249580",
     "exception": false,
     "start_time": "2021-04-29T17:30:37.526541",
     "status": "completed"
    },
    "tags": []
   },
   "outputs": [],
   "source": [
    "output = model.predict(X_test)\n",
    "\n",
    "output = np.argmax(output, axis = 1)\n",
    "\n",
    "output = pd.Series(output, name=\"Label\")\n",
    "\n",
    "submission = pd.concat([pd.Series(range(1,28001), name = \"ImageId\"), output], axis = 1)\n",
    "\n",
    "submission.to_csv(\"submission.csv\", index=False)"
   ]
  },
  {
   "cell_type": "markdown",
   "metadata": {
    "papermill": {
     "duration": 4.317421,
     "end_time": "2021-04-29T17:30:51.878089",
     "exception": false,
     "start_time": "2021-04-29T17:30:47.560668",
     "status": "completed"
    },
    "tags": []
   },
   "source": [
    "# Bonus"
   ]
  },
  {
   "cell_type": "markdown",
   "metadata": {
    "papermill": {
     "duration": 4.867434,
     "end_time": "2021-04-29T17:31:00.902984",
     "exception": false,
     "start_time": "2021-04-29T17:30:56.035550",
     "status": "completed"
    },
    "tags": []
   },
   "source": [
    "Let's see, using additional data, how this will affect the final result."
   ]
  },
  {
   "cell_type": "code",
   "execution_count": null,
   "metadata": {
    "papermill": {
     "duration": 4.873842,
     "end_time": "2021-04-29T17:31:09.956534",
     "exception": false,
     "start_time": "2021-04-29T17:31:05.082692",
     "status": "completed"
    },
    "tags": []
   },
   "outputs": [],
   "source": [
    "def load_data(path):\n",
    "    with np.load(path) as f:\n",
    "        x_train, y_train = f['x_train'], f['y_train']\n",
    "        x_test, y_test = f['x_test'], f['y_test']\n",
    "        return (x_train, y_train), (x_test, y_test)\n",
    "\n",
    "(x_train1, y_train1), (x_test1, y_test1) = load_data('../input/mnist-numpy/mnist.npz')"
   ]
  },
  {
   "cell_type": "code",
   "execution_count": null,
   "metadata": {
    "papermill": {
     "duration": 4.370434,
     "end_time": "2021-04-29T17:31:18.678023",
     "exception": false,
     "start_time": "2021-04-29T17:31:14.307589",
     "status": "completed"
    },
    "tags": []
   },
   "outputs": [],
   "source": [
    "x_train1 = x_train1 / 255\n",
    "x_test1 = x_test1 / 255\n",
    "\n",
    "x_train1 = x_train1.reshape(-1, 28, 28, 1)\n",
    "x_test1 = x_test1.reshape(-1, 28, 28, 1)\n",
    "\n",
    "y_train1 = y_train1.reshape(y_train1.shape[0], 1)\n",
    "y_test1 = y_test1.reshape(y_test1.shape[0], 1)"
   ]
  },
  {
   "cell_type": "code",
   "execution_count": null,
   "metadata": {
    "papermill": {
     "duration": 4.363627,
     "end_time": "2021-04-29T17:31:27.424008",
     "exception": false,
     "start_time": "2021-04-29T17:31:23.060381",
     "status": "completed"
    },
    "tags": []
   },
   "outputs": [],
   "source": [
    "Add_X = np.vstack((x_train1, x_test1))\n",
    "\n",
    "Add_y = np.vstack((y_train1, y_test1))\n",
    "\n",
    "Add_y = to_categorical(Add_y)"
   ]
  },
  {
   "cell_type": "code",
   "execution_count": null,
   "metadata": {
    "papermill": {
     "duration": 6.741551,
     "end_time": "2021-04-29T17:31:39.042712",
     "exception": false,
     "start_time": "2021-04-29T17:31:32.301161",
     "status": "completed"
    },
    "tags": []
   },
   "outputs": [],
   "source": [
    "train = pd.read_csv(\"digit-recognizer/train.csv\")\n",
    "\n",
    "X_train = train.drop(labels = [\"label\"], axis = 1)\n",
    "y_train = train['label']\n",
    "y_train = to_categorical(y_train)\n",
    "\n",
    "X_train /= 255\n",
    "X_train = X_train.values.reshape(-1, 28, 28, 1)"
   ]
  },
  {
   "cell_type": "code",
   "execution_count": null,
   "metadata": {
    "papermill": {
     "duration": 4.523465,
     "end_time": "2021-04-29T17:31:48.012196",
     "exception": false,
     "start_time": "2021-04-29T17:31:43.488731",
     "status": "completed"
    },
    "tags": []
   },
   "outputs": [],
   "source": [
    "add_train_aug = ImageDataGenerator(\n",
    "        featurewise_center = False,\n",
    "        samplewise_center = False,\n",
    "        featurewise_std_normalization = False, \n",
    "        samplewise_std_normalization = False,\n",
    "        zca_whitening = False,\n",
    "        horizontal_flip = False,\n",
    "        vertical_flip = False,\n",
    "        fill_mode = 'nearest',\n",
    "        rotation_range = 10,  \n",
    "        zoom_range = 0.1, \n",
    "        width_shift_range = 0.1, \n",
    "        height_shift_range = 0.1)\n",
    "        \n",
    "\n",
    "add_train_aug.fit(Add_X)\n",
    "add_train_gen = add_train_aug.flow(Add_X, Add_y, batch_size=64)"
   ]
  },
  {
   "cell_type": "code",
   "execution_count": null,
   "metadata": {
    "papermill": {
     "duration": 4.652729,
     "end_time": "2021-04-29T17:31:56.940407",
     "exception": false,
     "start_time": "2021-04-29T17:31:52.287678",
     "status": "completed"
    },
    "tags": []
   },
   "outputs": [],
   "source": [
    "model = get_cnn_v2()\n",
    "model.compile(loss='categorical_crossentropy', optimizer='Adam', metrics=[f1])\n",
    "model.summary()"
   ]
  },
  {
   "cell_type": "code",
   "execution_count": null,
   "metadata": {
    "_kg_hide-output": true,
    "papermill": {
     "duration": 1017.831496,
     "end_time": "2021-04-29T17:48:58.973036",
     "exception": false,
     "start_time": "2021-04-29T17:32:01.141540",
     "status": "completed"
    },
    "tags": []
   },
   "outputs": [],
   "source": [
    "learning_history = model.fit_generator((add_train_gen), epochs = 100, \n",
    "                               steps_per_epoch = x_train1.shape[0] // 64,\n",
    "                               validation_data = (X_val, y_val),\n",
    "                               callbacks = callbacks('cnn_bonus'),\n",
    "                             )"
   ]
  },
  {
   "cell_type": "code",
   "execution_count": null,
   "metadata": {
    "papermill": {
     "duration": 9.914487,
     "end_time": "2021-04-29T17:49:17.938041",
     "exception": false,
     "start_time": "2021-04-29T17:49:08.023554",
     "status": "completed"
    },
    "tags": []
   },
   "outputs": [],
   "source": [
    "model = load_model('cnn_bonus.hdf5', custom_objects={\"f1\": f1})"
   ]
  },
  {
   "cell_type": "code",
   "execution_count": null,
   "metadata": {
    "papermill": {
     "duration": 9.550633,
     "end_time": "2021-04-29T17:49:36.602371",
     "exception": false,
     "start_time": "2021-04-29T17:49:27.051738",
     "status": "completed"
    },
    "tags": []
   },
   "outputs": [],
   "source": [
    "score = model.evaluate(X_val, y_val, verbose=0)\n",
    "print('Test loss:', score[0])\n",
    "print('Test score:', score[1])\n",
    "\n",
    "print(\"CNN Error: %.2f%%\" % (100-score[1]*100))"
   ]
  },
  {
   "cell_type": "code",
   "execution_count": null,
   "metadata": {
    "papermill": {
     "duration": 9.84295,
     "end_time": "2021-04-29T17:49:55.928287",
     "exception": false,
     "start_time": "2021-04-29T17:49:46.085337",
     "status": "completed"
    },
    "tags": []
   },
   "outputs": [],
   "source": [
    "draw_learning_curve(learning_history)"
   ]
  },
  {
   "cell_type": "markdown",
   "metadata": {
    "papermill": {
     "duration": 9.05115,
     "end_time": "2021-04-29T17:50:14.109682",
     "exception": false,
     "start_time": "2021-04-29T17:50:05.058532",
     "status": "completed"
    },
    "tags": []
   },
   "source": [
    "#### As you can see, even with such a large data set, we do not get 100% accuracy"
   ]
  },
  {
   "cell_type": "markdown",
   "metadata": {
    "papermill": {
     "duration": 9.142698,
     "end_time": "2021-04-29T17:50:32.696754",
     "exception": false,
     "start_time": "2021-04-29T17:50:23.554056",
     "status": "completed"
    },
    "tags": []
   },
   "source": [
    "## Visualize Model"
   ]
  },
  {
   "cell_type": "code",
   "execution_count": null,
   "metadata": {
    "papermill": {
     "duration": 10.078806,
     "end_time": "2021-04-29T17:50:51.818105",
     "exception": false,
     "start_time": "2021-04-29T17:50:41.739299",
     "status": "completed"
    },
    "tags": []
   },
   "outputs": [],
   "source": [
    "plot_model(model)"
   ]
  },
  {
   "cell_type": "markdown",
   "metadata": {
    "papermill": {
     "duration": 9.176503,
     "end_time": "2021-04-29T17:51:09.971473",
     "exception": false,
     "start_time": "2021-04-29T17:51:00.794970",
     "status": "completed"
    },
    "tags": []
   },
   "source": [
    "# Occlusion sensitivity"
   ]
  },
  {
   "cell_type": "markdown",
   "metadata": {
    "papermill": {
     "duration": 9.59061,
     "end_time": "2021-04-29T17:51:28.452015",
     "exception": false,
     "start_time": "2021-04-29T17:51:18.861405",
     "status": "completed"
    },
    "tags": []
   },
   "source": []
  },
  {
   "cell_type": "code",
   "execution_count": null,
   "metadata": {
    "papermill": {
     "duration": 9.325686,
     "end_time": "2021-04-29T17:51:46.937998",
     "exception": false,
     "start_time": "2021-04-29T17:51:37.612312",
     "status": "completed"
    },
    "tags": []
   },
   "outputs": [],
   "source": [
    "plt.imshow(X_train[0].reshape(28, 28), cmap='gray');"
   ]
  },
  {
   "cell_type": "code",
   "execution_count": null,
   "metadata": {
    "papermill": {
     "duration": 10.604083,
     "end_time": "2021-04-29T17:52:07.091550",
     "exception": false,
     "start_time": "2021-04-29T17:51:56.487467",
     "status": "completed"
    },
    "tags": []
   },
   "outputs": [],
   "source": [
    "def apply_grey_patch(image, top_left_x, top_left_y, patch_size):\n",
    "    patched_image = np.array(image, copy=True)\n",
    "    patched_image[top_left_y:top_left_y + patch_size, top_left_x:top_left_x + patch_size, :] = 0\n",
    "\n",
    "    return patched_image\n",
    "\n",
    "\n",
    "img = X_train[0]\n",
    "\n",
    "PATCH_SIZE = 4\n",
    "sensitivity_map = np.zeros((img.shape[0], img.shape[0]))\n",
    "\n",
    "for top_left_x in range(0, img.shape[0], PATCH_SIZE):\n",
    "    for top_left_y in range(0, img.shape[1], PATCH_SIZE):\n",
    "        patched_image = apply_grey_patch(img, top_left_x, top_left_y, PATCH_SIZE)\n",
    "        \n",
    "        \n",
    "        predicted_classes = model.predict(np.array([patched_image]))[0]\n",
    "        confidence = predicted_classes[1]\n",
    "        \n",
    "        sensitivity_map[\n",
    "            top_left_y:top_left_y + PATCH_SIZE,\n",
    "            top_left_x:top_left_x + PATCH_SIZE,\n",
    "        ] = confidence\n",
    "        "
   ]
  },
  {
   "cell_type": "code",
   "execution_count": null,
   "metadata": {
    "papermill": {
     "duration": 9.092803,
     "end_time": "2021-04-29T17:52:25.442792",
     "exception": false,
     "start_time": "2021-04-29T17:52:16.349989",
     "status": "completed"
    },
    "tags": []
   },
   "outputs": [],
   "source": [
    "plt.imshow(sensitivity_map, cmap='gray');"
   ]
  },
  {
   "cell_type": "markdown",
   "metadata": {
    "papermill": {
     "duration": 9.239384,
     "end_time": "2021-04-29T17:52:44.165420",
     "exception": false,
     "start_time": "2021-04-29T17:52:34.926036",
     "status": "completed"
    },
    "tags": []
   },
   "source": [
    "# Generate bonus output"
   ]
  },
  {
   "cell_type": "code",
   "execution_count": null,
   "metadata": {
    "papermill": {
     "duration": 11.086723,
     "end_time": "2021-04-29T17:53:04.295576",
     "exception": false,
     "start_time": "2021-04-29T17:52:53.208853",
     "status": "completed"
    },
    "tags": []
   },
   "outputs": [],
   "source": [
    "output = model.predict(X_test)\n",
    "\n",
    "output = np.argmax(output, axis = 1)\n",
    "\n",
    "output = pd.Series(output, name=\"Label\")\n",
    "\n",
    "submission = pd.concat([pd.Series(range(1,28001), name = \"ImageId\"), output], axis = 1)\n",
    "\n",
    "submission.to_csv(\"bonus_submission.csv\", index=False)"
   ]
  },
  {
   "cell_type": "markdown",
   "metadata": {
    "papermill": {
     "duration": 9.140709,
     "end_time": "2021-04-29T17:53:22.518882",
     "exception": false,
     "start_time": "2021-04-29T17:53:13.378173",
     "status": "completed"
    },
    "tags": []
   },
   "source": [
    "### Final step: Conclusions\n",
    "\n",
    "#### I achieved the following results:\n",
    "- MLP: ~98% f1\n",
    "- CNN: ~100% f1\n",
    "\n",
    "I have created a model that recognizes handwritten numbers. You can try to get more data to make the model even better.\n",
    "\n",
    "\n",
    "#### This is my first notebook.\n",
    "\n",
    "#### I would love to know your comments and note about this."
   ]
  },
  {
   "cell_type": "markdown",
   "metadata": {
    "papermill": {
     "duration": 8.749985,
     "end_time": "2021-04-29T17:53:40.758288",
     "exception": false,
     "start_time": "2021-04-29T17:53:32.008303",
     "status": "completed"
    },
    "tags": []
   },
   "source": [
    "<font size=\"3\">\n",
    "    <div style=\"text-align: right\"> <b> Author </b> </div>\n",
    "</font>\n",
    "<div style=\"text-align: right\"> Jędrzej </div>\n",
    "<div style=\"text-align: right\"> Dudzicz </div>"
   ]
  }
 ],
 "metadata": {
  "kernelspec": {
   "display_name": "Python 3 (ipykernel)",
   "language": "python",
   "name": "python3"
  },
  "language_info": {
   "codemirror_mode": {
    "name": "ipython",
    "version": 3
   },
   "file_extension": ".py",
   "mimetype": "text/x-python",
   "name": "python",
   "nbconvert_exporter": "python",
   "pygments_lexer": "ipython3",
   "version": "3.9.17"
  },
  "papermill": {
   "duration": 2459.781585,
   "end_time": "2021-04-29T17:53:51.704029",
   "environment_variables": {},
   "exception": null,
   "input_path": "__notebook__.ipynb",
   "output_path": "__notebook__.ipynb",
   "parameters": {},
   "start_time": "2021-04-29T17:12:51.922444",
   "version": "2.1.0"
  }
 },
 "nbformat": 4,
 "nbformat_minor": 4
}
