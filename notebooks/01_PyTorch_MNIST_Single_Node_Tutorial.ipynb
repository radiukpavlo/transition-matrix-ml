{
 "cells": [
  {
   "cell_type": "markdown",
   "id": "ab5b6f6a",
   "metadata": {},
   "source": [
    "# PyTorch MNIST Basic Example\n",
    "\n",
    "## Introduction\n",
    "\n",
    "This tutorial focuses on how to train a CNN model with Fed-BioMed nodes using the PyTorch framework on the MNIST dataset. You will learn; \n",
    "\n",
    "- How to prepare your environment to be able to train your model\n",
    "- How to create a model class to run it in a single node which works as a different process in your local machine.\n",
    "- How to create a federated learning experiment. \n",
    "- How to load and inspect your model parameters. \n",
    "- How to test your model using test dataset.\n",
    "\n",
    "**Note:** In the following steps, we will be running this example using two nodes. \n",
    "\n",
    "## Before you start\n",
    "\n",
    "Before starting this tutorial please make sure that you have a clean environment. Additionally, please terminate running nodes if there is any. Please run the following command in the main Fed-BioMed directory to clean your environment. If you need more help to manage your environment please visit the tutorial for [setting up an enviroment](/tutorials/installation/1-setting-up-environment).\n",
    " \n",
    "\n",
    "```\n",
    "$ source ${FEDBIOMED_DIR}/scripts/fedbiomed_environment clean\n",
    "```\n",
    "\n",
    "**Note**: `${FEDBIOMED_DIR}` is a path relative to based directory of the cloned Fed-BioMed repository. You can set it by running command `export FEDBIOMED_DIR=/path/to/fedbiomed`. This is not required for Fed-BioMed to work but enables you to run the tutorials more easily. \n",
    "\n",
    "## 1. Configuring Nodes \n",
    "\n",
    "In this tutorial, you will learn how to train your model with a single Fed-BioMed node. Thus, you need to configure a node and add MNIST dataset into it. Node configuration steps require `fedbiomed-node` conda environment. Please make sure that you have the necessary conda environment which is explained in the [installation tutorial](/tutorials/installation/0-basic-software-installation). You can check your environment by running the following command. \n",
    "\n",
    "```\n",
    "$ conda env list\n",
    "```\n",
    "If you have all Fed-BioMed environments you are good to go for the node configuration steps. \n",
    "\n",
    "Please open a terminal and follow the steps below.    \n",
    "\n",
    "* **Configuration Steps:**\n",
    "    * Run `${FEDBIOMED_DIR}/scripts/fedbiomed_run node add` in the terminal\n",
    "    * It will ask you to select the data type that you want to add. The second option (which is the default) has been configured to add the MNIST dataset. Please type `2` and continue. \n",
    "    * Please use default tags which are `#MNIST` and `#dataset`.\n",
    "    * For the next step, please select the directory that you want to download the MNIST dataset.\n",
    "    * After the download is completed you will see the details of the MNIST dataset on the screen.\n",
    " \n",
    "Please run the command below in the same terminal to make sure the MNIST dataset is successfully added to the node.  \n",
    "\n",
    "```\n",
    "$ ${FEDBIOMED_DIR}/scripts/fedbiomed_run node list\n",
    "```\n",
    "\n",
    "Before starting the node, please make sure that you have already launched the network using command `scripts/fedbiomed_run network`. Afterward, all you need to do is to start the node.\n",
    "\n",
    "\n",
    "```\n",
    "$ ${FEDBIOMED_DIR}/scripts/fedbiomed_run node start\n",
    "```\n",
    "\n",
    "\n",
    "\n",
    "### Start your notebook\n",
    "\n",
    "You need to start a jupyter notebook and create a new notebook to be able to follow the tutorial. Please open a new terminal window and run the following command to start your notebook.\n",
    "\n",
    "```\n",
    "$ ${FEDBIOMED_DIR}/scripts/fedbiomed_run researcher\n",
    "```\n",
    "\n",
    "\n",
    "**Note:** If you are having a problem understanding the steps above, we recommend you to follow the [installation tutorial](/tutorials/installation/0-basic-software-installation).\n",
    "\n"
   ]
  },
  {
   "cell_type": "markdown",
   "id": "cfbc9b7c",
   "metadata": {},
   "source": [
    "## 2. What is MNIST dataset?\n",
    "\n",
    "[MNIST](http://yann.lecun.com/exdb/mnist/) dataset contains 60000 grayscale images (of size 28 * 28 pixels) of handwritten digits between 0 and 9. MNIST is commonly used for image classification task: the goal is to classify each image by assigning it to the correct digit. \n",
    "\n",
    "For a better visual understanding, we display a few samples from MNIST testing dataset."
   ]
  },
  {
   "cell_type": "code",
   "execution_count": null,
   "id": "0c41c9d0",
   "metadata": {},
   "outputs": [],
   "source": [
    "!pip install matplotlib"
   ]
  },
  {
   "cell_type": "code",
   "execution_count": 2,
   "id": "8b66b023",
   "metadata": {},
   "outputs": [],
   "source": [
    "import os\n",
    "from fedbiomed.researcher.environ import environ\n",
    "import tempfile\n",
    "tmp_dir_model = tempfile.TemporaryDirectory(dir=environ['TMP_DIR']+os.sep)\n"
   ]
  },
  {
   "cell_type": "code",
   "execution_count": 3,
   "id": "846f6624",
   "metadata": {},
   "outputs": [],
   "source": [
    "import torch\n",
    "from torchvision import datasets, transforms\n",
    "\n",
    "\n",
    "transform = transforms.Compose([\n",
    "            transforms.ToTensor(),\n",
    "            transforms.Normalize((0.1307,), (0.3081,))\n",
    "        ])\n",
    "\n",
    "# Get the test dataset\n",
    "test_set = datasets.MNIST(root = os.path.join(environ['TMP_DIR'], 'mnist_testing.tmp'),\n",
    "                          download = True, train = False, transform = transform)\n",
    "\n"
   ]
  },
  {
   "cell_type": "code",
   "execution_count": 4,
   "id": "4c85a5e1",
   "metadata": {},
   "outputs": [
    {
     "data": {
      "text/plain": [
       "Text(0.5, 0.98, 'Few images of MNIST testing dataset')"
      ]
     },
     "execution_count": 4,
     "metadata": {},
     "output_type": "execute_result"
    },
    {
     "data": {
      "image/png": "[encoded data removed]",
      "text/plain": [
       "<Figure size 720x144 with 10 Axes>"
      ]
     },
     "metadata": {
      "needs_background": "light"
     },
     "output_type": "display_data"
    }
   ],
   "source": [
    "import matplotlib.pyplot as plt\n",
    "\n",
    "# display a few digits from MNIST testing dataset\n",
    "\n",
    "nb_digits_to_display = 10\n",
    "\n",
    "plt.figure(figsize=(10,2)) \n",
    "plt.title(\"Few images of MNIST dataset\")\n",
    "for i in range(nb_digits_to_display):\n",
    "    plt.subplot(1,nb_digits_to_display, i+1)\n",
    "    plt.imshow(test_set.data[i].numpy())\n",
    "    plt.title(f\"label: {test_set.targets[i].numpy()}\")\n",
    "\n",
    "plt.suptitle(\"Few images of MNIST testing dataset\", fontsize=16)"
   ]
  },
  {
   "cell_type": "markdown",
   "id": "c4877a56",
   "metadata": {},
   "source": [
    "## 3. Creating Model \n",
    "\n",
    "In this section, you will learn how to create a model class for training.  \n",
    "\n",
    "### 3.1 Exporting Model Class\n",
    "\n",
    "Fed-BioMed uploads the scripts that include your model class to a file repository which is accessible by nodes. Afterwards, nodes can download load your model file, build the model and do the training part. Thus, the first thing that you should do is to set a file path to save your model file. By default, in the `fedbiomed.researcher.environ` path it is defined as `tmp` in the base fedbiomed directory. \n"
   ]
  },
  {
   "cell_type": "code",
   "execution_count": 3,
   "id": "9a411959",
   "metadata": {},
   "outputs": [],
   "source": [
    "model_file = os.path.join(tmp_dir_model.name, 'class_export_mnist.py')"
   ]
  },
  {
   "cell_type": "markdown",
   "id": "7ed2963c",
   "metadata": {},
   "source": [
    "### 3.2 Creating A PyTorch Model\n",
    "\n",
    "`%%writefile \"$model_file\"` command saves codes in the following notebook cell on the path that we defined. If you are also using a notebook please do not forget to add this part. \n",
    "\n",
    "A PyTorch model in Fed-BioMed is defined as a Python class that inherits from `fedbiomed.common.torchnn.TorchTrainingPlan`. It has the same initialization process as a classic PyTorch model.  In addition, you need to define `tarning_data` for constructing a PyTorch data loader and `training_step` to define the forward and loss function for the training process. \n",
    "\n",
    "<div class=\"note\">\n",
    "    <p>\n",
    "        You can visit <a href=\"/getting-started/getting-started\">Getting Started</a> page to understand the difference between creating a PyTorch model locally and with Fed-BioMed.\n",
    "    </p>\n",
    "</div>"
   ]
  },
  {
   "cell_type": "code",
   "execution_count": null,
   "id": "0f6115cd",
   "metadata": {},
   "outputs": [],
   "source": [
    "%%writefile \"$model_file\"\n",
    "\n",
    "import torch\n",
    "import torch.nn as nn\n",
    "from fedbiomed.common.torchnn import TorchTrainingPlan\n",
    "import torch.nn.functional as F\n",
    "from torch.utils.data import DataLoader\n",
    "from torchvision import datasets, transforms\n",
    "\n",
    "# Here we define the model to be used. \n",
    "# You can use any class name (here 'Net')\n",
    "class MyTrainingPlan(TorchTrainingPlan):\n",
    "    def __init__(self, model_args: dict = {}):\n",
    "        super(MyTrainingPlan, self).__init__(model_args)\n",
    "        self.conv1 = nn.Conv2d(1, 32, 3, 1)\n",
    "        self.conv2 = nn.Conv2d(32, 64, 3, 1)\n",
    "        self.dropout1 = nn.Dropout(0.25)\n",
    "        self.dropout2 = nn.Dropout(0.5)\n",
    "        self.fc1 = nn.Linear(9216, 128)\n",
    "        self.fc2 = nn.Linear(128, 10)\n",
    "        \n",
    "        # Here we define the custom dependencies that will be needed by our custom Dataloader\n",
    "        # In this case, we need the torch DataLoader classes\n",
    "        # Since we will train on MNIST, we need datasets and transform from torchvision\n",
    "        deps = [\"from torchvision import datasets, transforms\",\n",
    "               \"from torch.utils.data import DataLoader\"]\n",
    "        self.add_dependency(deps)\n",
    "\n",
    "    def forward(self, x):\n",
    "        x = self.conv1(x)\n",
    "        x = F.relu(x)\n",
    "        x = self.conv2(x)\n",
    "        x = F.relu(x)\n",
    "        x = F.max_pool2d(x, 2)\n",
    "        x = self.dropout1(x)\n",
    "        x = torch.flatten(x, 1)\n",
    "        x = self.fc1(x)\n",
    "        x = F.relu(x)\n",
    "        x = self.dropout2(x)\n",
    "        x = self.fc2(x)\n",
    "        output = F.log_softmax(x, dim=1)\n",
    "        return output\n",
    "\n",
    "    def training_data(self, batch_size = 48):\n",
    "        # Custom torch Dataloader for MNIST data\n",
    "        transform = transforms.Compose([transforms.ToTensor(),\n",
    "        transforms.Normalize((0.1307,), (0.3081,))])\n",
    "        dataset1 = datasets.MNIST(self.dataset_path, train=True, download=False, transform=transform)\n",
    "        train_kwargs = {'batch_size': batch_size, 'shuffle': True}\n",
    "        data_loader = torch.utils.data.DataLoader(dataset1, **train_kwargs)\n",
    "        return data_loader\n",
    "    \n",
    "    def training_step(self, data, target):\n",
    "        output = self.forward(data)\n",
    "        loss   = torch.nn.functional.nll_loss(output, target)\n",
    "        return loss\n"
   ]
  },
  {
   "cell_type": "markdown",
   "id": "0d08c12d",
   "metadata": {},
   "source": [
    "<div class=\"note\">\n",
    "    <p>\n",
    "        Fed-BioMed nodes can be configured to accept only the approved models. Under this configuration, the model files that are sent by a researcher must be approved by the node in advance. For more details, you can visit the tutorial for <a href=\"/tutorials/advanced/training-with-approved-model-files\">working with approved model file</a> and <a href=\"/user-guide/node/model-manager\">user guide for managing nodes.</a>    \n",
    "    </p>\n",
    "</div>"
   ]
  },
  {
   "cell_type": "markdown",
   "id": "118afa22",
   "metadata": {},
   "source": [
    " ### 3.3 Define an Experiment\n",
    " \n",
    " An experiment is a class that orchestrates the training processes that run on different nodes. The experiment has to be initialized with necessary arguments to inform nodes about how to process the training data based on a given model. In this case, first, you need to define `model_arg`, `training_args`, `tags`, and `round`.\n",
    "\n",
    " - `model_arg` includes arguments that will pass into `__init__` method of model class. In our case, we don't need to add any arguments.\n",
    " - `training_args` includes arguments for training such as learning rate, number of epochs. \n",
    " - `tags` is a list that includes tags that are going to be used for searching related datasets in nodes. In our case, we saved the MNIST dataset with #MNIST and #dataset tags.\n",
    " - `rounds` represents the number of training rounds that will be applied in nodes. In each round every nodes complete epochs and send model parameters to the experiment. \n"
   ]
  },
  {
   "cell_type": "code",
   "execution_count": 7,
   "id": "c74e0e1c",
   "metadata": {},
   "outputs": [],
   "source": [
    "model_args = {}\n",
    "\n",
    "training_args = {\n",
    "    'batch_size': 48, \n",
    "    'lr': 1e-3, \n",
    "    'epochs': 1, \n",
    "    'dry_run': False,  \n",
    "    'batch_maxnum': 100 # Fast pass for development : only use ( batch_maxnum * batch_size ) samples\n",
    "}\n",
    "\n",
    "tags =  ['#MNIST', '#dataset']\n",
    "rounds = 4\n"
   ]
  },
  {
   "cell_type": "markdown",
   "id": "dd7d4efe",
   "metadata": {},
   "source": [
    "Other arguments that should be passed to the experiment are the model file path and the name of the Python class defining the model. The experiment will be responsible of uploading the model to the file repository and informing nodes about how they can access and execute it. \n",
    "\n",
    "Finally, you should indicate which method should be choose to aggregate model parameters after every round. The basic federation scheme is federated averaging, implemented in Fed-BioMed in the class  `FedAverage`. \n",
    "\n",
    "### 3.4 What happens during the initialization of an experiment?\n",
    "\n",
    "1. The experiment searches for nodes whose available datasets have been saved with tags indicated in the `tags` argument. Nodes are selected based on a node selection strategy.\n",
    "2. The experiment prepares the `job` for the nodes according to the provided arguments\n",
    "3. The model file is uploaded to the provided repository to make it available for the nodes. \n",
    "\n",
    "For more details, you can visit [`Experiment` webpage](/user-guide/researcher/experiment). \n",
    "\n",
    "Now, let's create our experiment. Since only one node has been created, the experiment will only find a single node for training. "
   ]
  },
  {
   "cell_type": "code",
   "execution_count": 8,
   "id": "53f9b8d2",
   "metadata": {},
   "outputs": [
    {
     "name": "stderr",
     "output_type": "stream",
     "text": [
      "2021-10-28 10:19:54,901 fedbiomed INFO - Messaging researcher_34c351ee-aa05-4682-be67-5dc8fdc8d4b6 successfully connected to the message broker, object = <fedbiomed.common.messaging.Messaging object at 0x7fefaa9095e0>\n",
      "2021-10-28 10:19:54,935 fedbiomed INFO - Searching dataset with data tags: ['#MNIST', '#dataset'] for all nodes\n",
      "2021-10-28 10:19:54,941 fedbiomed INFO - log from: node_42709427-168a-435a-afc5-d538b9542bf2 - DEBUG Message received: {'researcher_id': 'researcher_34c351ee-aa05-4682-be67-5dc8fdc8d4b6', 'tags': ['#MNIST', '#dataset'], 'command': 'search'}\n",
      "2021-10-28 10:20:04,961 fedbiomed DEBUG - torchnn saved model filename: /tmp/test-fed/fedbiomed/var/tmp8bpn6qn9/my_model_bbff8fba-4283-4031-be16-4ba84fc208ae.py\n"
     ]
    }
   ],
   "source": [
    "from fedbiomed.researcher.experiment import Experiment\n",
    "from fedbiomed.researcher.aggregators.fedavg import FedAverage\n",
    "\n",
    "\n",
    "\n",
    "exp = Experiment(tags=tags,\n",
    "                 #nodes=None,\n",
    "                 model_path=model_file,\n",
    "                 model_args=model_args,\n",
    "                 model_class='MyTrainingPlan',\n",
    "                 training_args=training_args,\n",
    "                 round_limit=rounds,\n",
    "                 aggregator=FedAverage(),\n",
    "                 node_selection_strategy=None)"
   ]
  },
  {
   "cell_type": "markdown",
   "id": "25747d3d",
   "metadata": {},
   "source": [
    "As an output, you should see the log message from the node which dispose of the MNIST dataset. It means that the search request that contains `#MNIST, #dataset` tags has been successfully received by the node. In the example displayed here, we received messages only from one node, which we created before. \n",
    "\n",
    "\n",
    "<div class=\"note\">\n",
    "    <p>\n",
    "        One should notice that <code>model_path</code> argument in <code>Experiment</code> is only needed when running <code>Fed-Biomed</code> on jupyter notebooks (not for plain Python scripts).   \n",
    "    </p>\n",
    "</div>\n",
    "****\n",
    "\n",
    "The experiment also receives loss values during training on each node. In Fed-BioMed, it is possible to use a tensorboard to display loss values during training. Please refer to Fed-BioMed's [tensorboard documentation](/user-guide/researcher/tensorboard) for how to enable the tensorboard.  \n",
    "\n",
    "Now, let's run the experiment."
   ]
  },
  {
   "cell_type": "code",
   "execution_count": null,
   "id": "cec8e54d",
   "metadata": {},
   "outputs": [],
   "source": [
    "exp.run()"
   ]
  },
  {
   "cell_type": "markdown",
   "id": "f45284e9",
   "metadata": {},
   "source": [
    "After running the experiment, according to the provided arguments 4 training rounds should be completed on the node that you created. You can check the node id from the output and compare it with the node id which is defined in the config.ini file. After the process is finished, you are ready to inspect the model parameters. \n",
    "\n",
    "### 3.5 Extracting Training Results\n",
    "\n",
    "#### Timing \n",
    "\n",
    "Training replies for each round are available via `exp.training_replies()` (index 0 to (`rounds` - 1) ). You can display the keys of each round by running the following script. "
   ]
  },
  {
   "cell_type": "code",
   "execution_count": 10,
   "id": "e400c831",
   "metadata": {},
   "outputs": [
    {
     "name": "stdout",
     "output_type": "stream",
     "text": [
      "\n",
      "List the training rounds :  dict_keys([0, 1, 2, 3])\n"
     ]
    }
   ],
   "source": [
    "print(\"\\nList the training rounds : \", exp.training_replies().keys())"
   ]
  },
  {
   "cell_type": "markdown",
   "id": "671b71f5",
   "metadata": {},
   "source": [
    "Now, let's see how training details can be accessed from `training_replies()`. The following parameters will be inspected;\n",
    "\n",
    "- `rtime_training` : Real-time (clock time) spent in the training function on the node \n",
    "- `ptime_training`: Process time (user and system CPU) spent in the training function on the node\n",
    "- `rtime_total`   : Real-time (clock time) spent in the researcher between sending training requests and handling the responses\n",
    "\n",
    "_Note: The following code accesses the training replies of the last round of the experiment._"
   ]
  },
  {
   "cell_type": "code",
   "execution_count": 11,
   "id": "0d26f4b1",
   "metadata": {},
   "outputs": [
    {
     "name": "stdout",
     "output_type": "stream",
     "text": [
      "\n",
      "List the nodes for the last training round and their timings : \n",
      "\t- node_42709427-168a-435a-afc5-d538b9542bf2 :    \n",
      "\t\trtime_training=5.28 seconds    \n",
      "\t\tptime_training=20.90 seconds    \n",
      "\t\trtime_total=15.02 seconds\n"
     ]
    }
   ],
   "source": [
    "print(\"\\nList the nodes for the last training round and their timings : \")\n",
    "round_data = exp.training_replies()[rounds - 1].data()\n",
    "for c in range(len(round_data)):\n",
    "    print(\"\\t- {id} :\\\n",
    "    \\n\\t\\trtime_training={rtraining:.2f} seconds\\\n",
    "    \\n\\t\\tptime_training={ptraining:.2f} seconds\\\n",
    "    \\n\\t\\trtime_total={rtotal:.2f} seconds\".format(id = round_data[c]['node_id'],\n",
    "        rtraining = round_data[c]['timing']['rtime_training'],\n",
    "        ptraining = round_data[c]['timing']['ptime_training'],\n",
    "        rtotal = round_data[c]['timing']['rtime_total']))"
   ]
  },
  {
   "cell_type": "markdown",
   "id": "638d0cbc",
   "metadata": {},
   "source": [
    "#### Federated Parameters\n",
    "Federated model parameters for each round are available via `exp.aggregated_params()` (index 0 to (`rounds` - 1) ).\n",
    "For example, you can easily view the federated parameters for the last round of the experiment:"
   ]
  },
  {
   "cell_type": "code",
   "execution_count": 12,
   "id": "c3699adf",
   "metadata": {},
   "outputs": [
    {
     "name": "stdout",
     "output_type": "stream",
     "text": [
      "\n",
      "List the training rounds :  dict_keys([0, 1, 2, 3])\n",
      "\n",
      "Access the federated params for the last training round : \n",
      "\t- parameter data:  odict_keys(['conv1.weight', 'conv1.bias', 'conv2.weight', 'conv2.bias', 'fc1.weight', 'fc1.bias', 'fc2.weight', 'fc2.bias'])\n"
     ]
    }
   ],
   "source": [
    "print(\"\\nList the training rounds : \", exp.aggregated_params().keys())\n",
    "\n",
    "print(\"\\nAccess the federated params for the last training round : \")\n",
    "print(\"\\t- parameter data: \", exp.aggregated_params()[rounds - 1]['params'].keys())\n"
   ]
  },
  {
   "cell_type": "markdown",
   "id": "69682367",
   "metadata": {},
   "source": [
    "You can also access the path where the model parameters are saved."
   ]
  },
  {
   "cell_type": "code",
   "execution_count": null,
   "id": "92782fec",
   "metadata": {},
   "outputs": [],
   "source": [
    "print(\"\\t- params_path: \", exp.aggregated_params()[rounds - 1]['params_path'])"
   ]
  },
  {
   "cell_type": "markdown",
   "id": "aa002f83",
   "metadata": {},
   "source": [
    "Finally, to access specific parameters of last round:"
   ]
  },
  {
   "cell_type": "code",
   "execution_count": 14,
   "id": "b4ae944d",
   "metadata": {},
   "outputs": [
    {
     "name": "stdout",
     "output_type": "stream",
     "text": [
      "\t- Parameters of CONV1 layer's biases of last round: \n",
      " tensor([ 0.1365,  0.2191, -0.0322, -0.1845, -0.0326,  0.1655,  0.2028,  0.0895,\n",
      "        -0.1745,  0.2297, -0.0334,  0.2638,  0.0338, -0.0030, -0.0631, -0.2885,\n",
      "        -0.2712,  0.0493, -0.0697, -0.1776, -0.1543, -0.1997, -0.0336, -0.1582,\n",
      "        -0.2031,  0.0039,  0.3160,  0.2388, -0.2397, -0.0137, -0.1079, -0.0054])\n"
     ]
    }
   ],
   "source": [
    "print(\"\\t- Parameters of CONV1 layer's biases of last round: \\n\", exp.aggregated_params()[rounds - 1]['params']['conv1.bias'])"
   ]
  },
  {
   "cell_type": "code",
   "execution_count": null,
   "id": "f15bfe6b",
   "metadata": {},
   "outputs": [],
   "source": [
    "exp.model_instance()"
   ]
  },
  {
   "cell_type": "markdown",
   "id": "7d62c9a9",
   "metadata": {},
   "source": [
    "## 4. PyTorch MNIST Example with Two Nodes\n",
    "\n",
    "In this section, we will be working on two nodes. Following the previous example, the experiment and training routine will remain unchanged.  Therefore, you just need to configure another node, and add the MNIST dataset with the default tags.\n",
    "\n",
    "### 4.1 Configuring Second Node\n",
    "\n",
    "While creating a second node you need to be careful with the node that has already been created. To configure the second node, a different config file has to be defined. Please follow the steps below to configure your second node. \n",
    "\n",
    "1. Please open a new terminal and cd into the base directory of fedbiomed.\n",
    "2. In this step, you need to name a new config file using the `config` parameter. Instead of downloading a new MNIST dataset, you can use the one that you already downloaded in the previous example. To do that please run `${FEDBIOMED_DIR}/scripts/fedbiomed_run node config config-n2.ini --add-mnist /path/to/your/mnist`. It will create a config file named `config-n2.ini`\n",
    "3. You need to start the new node by indicating the newely created config file. Please run the following command to start the second node `${FEDBIOMED_DIR}/scripts/fedbiomed_run node config config-n2.ini start`\n",
    "\n",
    "### 4.2 Defining an Experiment \n",
    "\n",
    "Since a training model has already been created and saved in the previous example, you don't need to repeat this step here again: the same model will be used for training. However, you can define a new experiment for testing purposes. The experiment will search the MNIST dataset in available nodes. Training arguments are keept the same as in the previous example.\n",
    "\n",
    "_You can also list datasets and select specific nodes to perform traning. You can visit [listing datasets and selecting nodes](/user-guide/researcher/listing-datasets-and-selecting-nodes) documentation to get more information._"
   ]
  },
  {
   "cell_type": "code",
   "execution_count": 5,
   "id": "fcc4c303",
   "metadata": {},
   "outputs": [
    {
     "name": "stderr",
     "output_type": "stream",
     "text": [
      "2021-10-28 13:50:44,744 fedbiomed INFO - Messaging researcher_34c351ee-aa05-4682-be67-5dc8fdc8d4b6 successfully connected to the message broker, object = <fedbiomed.common.messaging.Messaging object at 0x7f1f991ca280>\n",
      "2021-10-28 13:50:44,802 fedbiomed INFO - Searching dataset with data tags: ['#MNIST', '#dataset'] for all nodes\n",
      "2021-10-28 13:50:44,804 fedbiomed INFO - log from: node_42709427-168a-435a-afc5-d538b9542bf2 - DEBUG Message received: {'researcher_id': 'researcher_34c351ee-aa05-4682-be67-5dc8fdc8d4b6', 'tags': ['#MNIST', '#dataset'], 'command': 'search'}\n",
      "2021-10-28 13:50:44,805 fedbiomed INFO - log from: node_56cbf88f-2847-4412-b2e4-b3680ff3cbb4 - DEBUG Message received: {'researcher_id': 'researcher_34c351ee-aa05-4682-be67-5dc8fdc8d4b6', 'tags': ['#MNIST', '#dataset'], 'command': 'search'}\n",
      "2021-10-28 13:50:54,813 fedbiomed INFO - Checking data quality of federated datasets...\n",
      "2021-10-28 13:50:54,876 fedbiomed DEBUG - torchnn saved model filename: /tmp/test-fed/fedbiomed/var/tmpyyf22bz3/my_model_a38491ca-20d7-4792-be85-d6980a2aadc2.py\n"
     ]
    }
   ],
   "source": [
    "from fedbiomed.researcher.experiment import Experiment\n",
    "from fedbiomed.researcher.aggregators.fedavg import FedAverage\n",
    "\n",
    "model_args = {}\n",
    "\n",
    "training_args = {\n",
    "    'batch_size': 48, \n",
    "    'lr': 1e-3, \n",
    "    'epochs': 1, \n",
    "    'dry_run': False,  \n",
    "    'batch_maxnum': 100 # Fast pass for development : only use ( batch_maxnum * batch_size ) samples\n",
    "}\n",
    "\n",
    "tags =  ['#MNIST', '#dataset']\n",
    "rounds = 4\n",
    "\n",
    "expN2 = Experiment(tags=tags,\n",
    "                 #nodes=None,\n",
    "                 model_path=model_file,\n",
    "                 model_args=model_args,\n",
    "                 model_class='MyTrainingPlan',\n",
    "                 training_args=training_args,\n",
    "                 round_limit=rounds,\n",
    "                 aggregator=FedAverage(),\n",
    "                 node_selection_strategy=None)"
   ]
  },
  {
   "cell_type": "markdown",
   "id": "5f99b18a",
   "metadata": {},
   "source": [
    "You can see from the output that the search request has been sent to 2 nodes by the experiment.\n",
    "\n",
    "Now, let's run the experiment. "
   ]
  },
  {
   "cell_type": "code",
   "execution_count": null,
   "id": "f047c5aa",
   "metadata": {},
   "outputs": [],
   "source": [
    "expN2.run()"
   ]
  },
  {
   "cell_type": "markdown",
   "id": "4b5240a0",
   "metadata": {},
   "source": [
    "## 5. Testing Federated Model\n",
    "\n",
    "In this section, we will create a test function to obtain accuracy, loss, and confusion matrix using the test MNIST dataset. \n",
    "\n",
    "### 5.1 Aggregated Parameters \n",
    "\n",
    "`model_instance` returns the model that we have created in the previous section. It is possible to load specific aggregated parameters which are obtained in every round. Thereafter, it will be ready to make predictions using those parameters. The last round gives the last aggregated model parameters which represents the final model.   "
   ]
  },
  {
   "cell_type": "code",
   "execution_count": null,
   "id": "9c1c251b",
   "metadata": {},
   "outputs": [],
   "source": [
    "fed_model = expN2.model_instance()\n",
    "fed_model.load_state_dict(expN2.aggregated_params()[rounds - 1]['params'])"
   ]
  },
  {
   "cell_type": "markdown",
   "id": "7bfa271d",
   "metadata": {},
   "source": [
    "### 5.2 Creating A Test Function\n",
    "\n",
    "Let's create a test function that returns loss, accuracy, and confusion matrix. "
   ]
  },
  {
   "cell_type": "code",
   "execution_count": 10,
   "id": "9abe10d8",
   "metadata": {},
   "outputs": [],
   "source": [
    "import pandas as pd\n",
    "import torch.nn.functional as F\n",
    "# Test function \n",
    "def testing_accuracy(model, data_loader):\n",
    "    model.eval()\n",
    "    test_loss = 0\n",
    "    device = 'cpu'\n",
    "\n",
    "    y_pred = []\n",
    "    y_actu = []\n",
    "    with torch.no_grad():\n",
    "        for data, target in data_loader:\n",
    "            data, target = data.to(device), target.to(device)\n",
    "            output = model(data)\n",
    "            test_loss += F.nll_loss(output, target, reduction='sum').item()  # sum up batch loss\n",
    "            pred = output.argmax(dim=1, keepdim=True)  # get the index of the max log-probability\n",
    "            y_pred.extend(torch.flatten(pred).tolist()) \n",
    "            y_actu.extend(target.tolist())\n",
    "           \n",
    "    y_pred = pd.Series(y_pred, name='Actual')\n",
    "    y_actu = pd.Series(y_actu, name='Predicted')\n",
    "    cm = pd.crosstab(y_actu, y_pred)\n",
    "    correct = sum([cm.iloc[i,i] for i in range(len(cm))])\n",
    "    \n",
    "    test_loss /= len(data_loader.dataset)\n",
    "    accuracy = 100*correct/len(test_loader.dataset)\n",
    "\n",
    "    return(test_loss, accuracy, cm)"
   ]
  },
  {
   "cell_type": "markdown",
   "id": "8dc7747c",
   "metadata": {},
   "source": [
    "We will use the MNIST test dataset for testing our federated model. You can download this dataset set from `torchvision.dataset`. "
   ]
  },
  {
   "cell_type": "code",
   "execution_count": 11,
   "id": "8e2ea693",
   "metadata": {},
   "outputs": [],
   "source": [
    "import torch\n",
    "from torchvision import datasets, transforms\n",
    "\n",
    "\n",
    "transform = transforms.Compose([\n",
    "            transforms.ToTensor(),\n",
    "            transforms.Normalize((0.1307,), (0.3081,))\n",
    "        ])\n",
    "\n",
    "# Get the test dataset\n",
    "test_set = datasets.MNIST(root = os.path.join(environ['TMP_DIR'], 'mnist_testing.tmp'), download = True, train = False, transform = transform)\n",
    "test_loader = torch.utils.data.DataLoader(test_set, batch_size=64, shuffle=True)"
   ]
  },
  {
   "cell_type": "markdown",
   "id": "0103ee4b",
   "metadata": {},
   "source": [
    "Now, it is time to get performance results"
   ]
  },
  {
   "cell_type": "code",
   "execution_count": 12,
   "id": "f5f040bb",
   "metadata": {},
   "outputs": [
    {
     "name": "stdout",
     "output_type": "stream",
     "text": [
      "- Test Loss:  0.06924210393726826 \n",
      "\n",
      "- Accuracy:  97.83 \n",
      "\n",
      "- Confusion Matrix: \n",
      " \n",
      " Actual       0     1     2    3    4    5    6    7    8    9\n",
      "Predicted                                                    \n",
      "0          968     1     2    0    0    1    2    1    2    3\n",
      "1            0  1127     1    3    0    0    3    0    1    0\n",
      "2            8     3  1002    2    2    0    0   10    5    0\n",
      "3            0     0     2  991    0    6    0    8    2    1\n",
      "4            1     0     1    0  952    0    5    0    2   21\n",
      "5            1     0     1    6    0  879    2    1    1    1\n",
      "6            8     3     0    0    2    4  939    0    2    0\n",
      "7            1     1    13    6    4    1    0  992    1    9\n",
      "8            4     1     2    2    2    1    1    4  944   13\n",
      "9            3     5     0    3    2    1    0    4    2  989\n"
     ]
    }
   ],
   "source": [
    "test_results = testing_accuracy(fed_model, test_loader)\n",
    "\n",
    "print(\"- Test Loss: \", test_results[0], \"\\n\")\n",
    "print(\"- Accuracy: \", test_results[1], \"\\n\")\n",
    "print(\"- Confusion Matrix: \\n \\n\",  test_results[2] )"
   ]
  },
  {
   "cell_type": "markdown",
   "id": "011ea7e2",
   "metadata": {},
   "source": [
    "### 5.3 Creating Heatmap for Confusion Matrix"
   ]
  },
  {
   "cell_type": "markdown",
   "id": "7d55b9c7",
   "metadata": {},
   "source": [
    "We will use `matplotlib` for plotting results. If you have followed all the steps in this tutorial, you must have installed this library in the section 2. Otherwise, you can run `!pip install matplotlib` command in a notebook cell.  "
   ]
  },
  {
   "cell_type": "code",
   "execution_count": 13,
   "id": "87a7830b",
   "metadata": {},
   "outputs": [
    {
     "data": {
      "text/plain": [
       "Text(0.5, 1.0, 'Confusion Matrix')"
      ]
     },
     "execution_count": 13,
     "metadata": {},
     "output_type": "execute_result"
    },
    {
     "data": {
      "image/png": "[encoded data removed]",
      "text/plain": [
       "<Figure size 720x360 with 1 Axes>"
      ]
     },
     "metadata": {
      "needs_background": "light"
     },
     "output_type": "display_data"
    }
   ],
   "source": [
    "import numpy as np\n",
    "import matplotlib.pyplot as plt\n",
    "\n",
    "conf_matrix = test_results[2].to_numpy()\n",
    "\n",
    "fig, ax = plt.subplots(figsize=(10,5))\n",
    "im = ax.imshow(conf_matrix)\n",
    "\n",
    "ax.set_xticks(np.arange(10))\n",
    "ax.set_yticks(np.arange(10))\n",
    "\n",
    "for i in range(conf_matrix.shape[0]):\n",
    "    for j in range(conf_matrix.shape[1]):\n",
    "        text = ax.text(j, i, conf_matrix[i, j],\n",
    "                       ha=\"center\", va=\"center\", color=\"w\")\n",
    "        \n",
    "ax.set_xlabel('Actual targets')\n",
    "ax.set_ylabel('Predicted targets')\n",
    "ax.set_title('Confusion Matrix')"
   ]
  },
  {
   "cell_type": "markdown",
   "id": "712585ed",
   "metadata": {},
   "source": [
    "### 5.4 Plotting Loss for Each round\n",
    "In this section, we will plot loss values that are obtained over the test dataset using model parameters of every round."
   ]
  },
  {
   "cell_type": "code",
   "execution_count": 14,
   "id": "0b12b8eb",
   "metadata": {},
   "outputs": [],
   "source": [
    "errors = []\n",
    "\n",
    "for i in range(rounds):\n",
    "    fed_model = expN2.model_instance()\n",
    "    fed_model.load_state_dict(expN2.aggregated_params()[i]['params'])\n",
    "    loss = testing_accuracy(fed_model, test_loader)[0]\n",
    "    errors.append(loss)"
   ]
  },
  {
   "cell_type": "code",
   "execution_count": 15,
   "id": "15910d61",
   "metadata": {},
   "outputs": [
    {
     "data": {
      "text/plain": [
       "<matplotlib.legend.Legend at 0x7f1f89ec4cd0>"
      ]
     },
     "execution_count": 15,
     "metadata": {},
     "output_type": "execute_result"
    },
    {
     "data": {
      "image/png": "[encoded data removed]",
      "text/plain": [
       "<Figure size 432x288 with 1 Axes>"
      ]
     },
     "metadata": {
      "needs_background": "light"
     },
     "output_type": "display_data"
    }
   ],
   "source": [
    "### Plotting \n",
    "plt.plot(errors, label = 'Federated Test Loss')\n",
    "plt.xlabel('Round')\n",
    "plt.ylabel('Loss')\n",
    "plt.title(\"Log Likelihood Loss evolution over number of rounds\")\n",
    "plt.legend()\n",
    "\n"
   ]
  }
 ],
 "metadata": {
  "kernelspec": {
   "display_name": "Python 3 (ipykernel)",
   "language": "python",
   "name": "python3"
  },
  "language_info": {
   "codemirror_mode": {
    "name": "ipython",
    "version": 3
   },
   "file_extension": ".py",
   "mimetype": "text/x-python",
   "name": "python",
   "nbconvert_exporter": "python",
   "pygments_lexer": "ipython3",
   "version": "3.9.7"
  }
 },
 "nbformat": 4,
 "nbformat_minor": 5
}