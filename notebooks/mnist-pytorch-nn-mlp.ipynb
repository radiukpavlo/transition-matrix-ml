{
 "cells": [
  {
   "cell_type": "markdown",
   "execution_count": null,
   "metadata": {
    "papermill": {
     "duration": 0.011345,
     "end_time": "2020-08-15T18:50:48.957568",
     "exception": false,
     "start_time": "2020-08-15T18:50:48.946223",
     "status": "completed"
    },
    "tags": []
   },
   "source": [
    "<center><img src=\"https://i.imgur.com/1qejfmD.png\" width=\"750px\"></center>\n",
    "\n",
    "\n",
    "# Introduction\n",
    "\n",
    "In this tutorial, I will demonstrate how to build a simple MLP (Vanilla Neural Network) to recognize handwritten digits using PyTorch. These handwritten digit images are taken from the famous **MNIST database** which contains several thousands of (28 x 28) grayscale images representing the ten digits from 0 to 9. MNIST is the classic \"Hello World!\" of machine learning. It is a great place to get started with Deep Learning. The task is to take an image as input and predict which digit it is from 0 to 9 (classification)."
   ]
  },
  {
   "cell_type": "markdown",
   "execution_count": null,
   "metadata": {
    "papermill": {
     "duration": 0.009429,
     "end_time": "2020-08-15T18:50:48.976524",
     "exception": false,
     "start_time": "2020-08-15T18:50:48.967095",
     "status": "completed"
    },
    "tags": []
   },
   "source": [
    "# Preparing the ground"
   ]
  },
  {
   "cell_type": "markdown",
   "execution_count": null,
   "metadata": {
    "papermill": {
     "duration": 0.010735,
     "end_time": "2020-08-15T18:50:48.996866",
     "exception": false,
     "start_time": "2020-08-15T18:50:48.986131",
     "status": "completed"
    },
    "tags": []
   },
   "source": [
    "## Import necessary libraries\n",
    "\n",
    "* Now, we import all the libraries we need.\n",
    "* **matplotlib, tqdm, and plotly** for visualization.\n",
    "* **numpy, pandas, keras, sklearn, and torch** for modelling."
   ]
  },
  {
   "cell_type": "code",
   "execution_count": 1,
   "metadata": {
    "_cell_guid": "b1076dfc-b9ad-4769-8c92-a6c4dae69d19",
    "_uuid": "8f2839f25d086af736a60e9eeb907d3b93b6e0e5",
    "execution": {
     "iopub.execute_input": "2020-08-15T18:50:49.023777Z",
     "iopub.status.busy": "2020-08-15T18:50:49.023090Z",
     "iopub.status.idle": "2020-08-15T18:50:58.047719Z",
     "shell.execute_reply": "2020-08-15T18:50:58.047062Z"
    },
    "papermill": {
     "duration": 9.041659,
     "end_time": "2020-08-15T18:50:58.047854",
     "exception": false,
     "start_time": "2020-08-15T18:50:49.006195",
     "status": "completed"
    },
    "tags": []
   },
   "outputs": [
    {
     "name": "stderr",
     "output_type": "stream",
     "text": [
      "Using TensorFlow backend.\n"
     ]
    }
   ],
   "source": [
    "import os\n",
    "import gc\n",
    "import time\n",
    "import numpy as np\n",
    "import pandas as pd\n",
    "\n",
    "import warnings\n",
    "warnings.filterwarnings('ignore')\n",
    "\n",
    "from tqdm.notebook import tqdm\n",
    "import matplotlib.pyplot as plt\n",
    "from sklearn.utils import shuffle\n",
    "from keras.utils import to_categorical\n",
    "\n",
    "import plotly.express as px\n",
    "import plotly.graph_objects as go\n",
    "import plotly.figure_factory as ff\n",
    "from plotly.subplots import make_subplots\n",
    "\n",
    "import torch\n",
    "import torch.nn as nn\n",
    "from torch.optim import Adam\n",
    "from torch.utils.data import Dataset, DataLoader"
   ]
  },
  {
   "cell_type": "markdown",
   "execution_count": null,
   "metadata": {
    "papermill": {
     "duration": 0.009865,
     "end_time": "2020-08-15T18:50:58.069397",
     "exception": false,
     "start_time": "2020-08-15T18:50:58.059532",
     "status": "completed"
    },
    "tags": []
   },
   "source": [
    "## Set random seeds\n",
    "\n",
    "* The next step is to set the random seed for NumPy and PyTorch.\n",
    "* Setting the random seed helps us keep training determinstic and ensure reproducible results."
   ]
  },
  {
   "cell_type": "code",
   "execution_count": 2,
   "metadata": {
    "execution": {
     "iopub.execute_input": "2020-08-15T18:50:58.094733Z",
     "iopub.status.busy": "2020-08-15T18:50:58.093960Z",
     "iopub.status.idle": "2020-08-15T18:50:58.103914Z",
     "shell.execute_reply": "2020-08-15T18:50:58.104522Z"
    },
    "papermill": {
     "duration": 0.025502,
     "end_time": "2020-08-15T18:50:58.104669",
     "exception": false,
     "start_time": "2020-08-15T18:50:58.079167",
     "status": "completed"
    },
    "tags": []
   },
   "outputs": [
    {
     "data": {
      "text/plain": [
       "<torch._C.Generator at 0x7fef7832ff70>"
      ]
     },
     "execution_count": 2,
     "metadata": {},
     "output_type": "execute_result"
    }
   ],
   "source": [
    "np.random.seed(27)\n",
    "torch.manual_seed(27)"
   ]
  },
  {
   "cell_type": "markdown",
   "execution_count": null,
   "metadata": {
    "papermill": {
     "duration": 0.009838,
     "end_time": "2020-08-15T18:50:58.124155",
     "exception": false,
     "start_time": "2020-08-15T18:50:58.114317",
     "status": "completed"
    },
    "tags": []
   },
   "source": [
    "## Load the training and testing data\n",
    "\n",
    "* Now we need to load the training and testing data.\n",
    "* These dataframes contain the pixel data required to make predictions."
   ]
  },
  {
   "cell_type": "code",
   "execution_count": 3,
   "metadata": {
    "_cell_guid": "79c7e3d0-c299-4dcb-8224-4455121ee9b0",
    "_uuid": "d629ff2d2480ee46fbb7e2d37f6b5fab8052498a",
    "execution": {
     "iopub.execute_input": "2020-08-15T18:50:58.150613Z",
     "iopub.status.busy": "2020-08-15T18:50:58.149621Z",
     "iopub.status.idle": "2020-08-15T18:51:02.938315Z",
     "shell.execute_reply": "2020-08-15T18:51:02.937170Z"
    },
    "papermill": {
     "duration": 4.804898,
     "end_time": "2020-08-15T18:51:02.938486",
     "exception": false,
     "start_time": "2020-08-15T18:50:58.133588",
     "status": "completed"
    },
    "tags": []
   },
   "outputs": [],
   "source": [
    "test_df = pd.read_csv('../input/digit-recognizer/test.csv')\n",
    "train_df = pd.read_csv('../input/digit-recognizer/train.csv')"
   ]
  },
  {
   "cell_type": "code",
   "execution_count": 4,
   "metadata": {
    "execution": {
     "iopub.execute_input": "2020-08-15T18:51:02.976130Z",
     "iopub.status.busy": "2020-08-15T18:51:02.975388Z",
     "iopub.status.idle": "2020-08-15T18:51:02.988675Z",
     "shell.execute_reply": "2020-08-15T18:51:02.989168Z"
    },
    "papermill": {
     "duration": 0.040247,
     "end_time": "2020-08-15T18:51:02.989310",
     "exception": false,
     "start_time": "2020-08-15T18:51:02.949063",
     "status": "completed"
    },
    "tags": []
   },
   "outputs": [
    {
     "data": {
      "text/html": [
       "<div>\n",
       "<style scoped>\n",
       "    .dataframe tbody tr th:only-of-type {\n",
       "        vertical-align: middle;\n",
       "    }\n",
       "\n",
       "    .dataframe tbody tr th {\n",
       "        vertical-align: top;\n",
       "    }\n",
       "\n",
       "    .dataframe thead th {\n",
       "        text-align: right;\n",
       "    }\n",
       "</style>\n",
       "<table border=\"1\" class=\"dataframe\">\n",
       "  <thead>\n",
       "    <tr style=\"text-align: right;\">\n",
       "      <th></th>\n",
       "      <th>pixel0</th>\n",
       "      <th>pixel1</th>\n",
       "      <th>pixel2</th>\n",
       "      <th>pixel3</th>\n",
       "      <th>pixel4</th>\n",
       "      <th>pixel5</th>\n",
       "      <th>pixel6</th>\n",
       "      <th>pixel7</th>\n",
       "      <th>pixel8</th>\n",
       "      <th>pixel9</th>\n",
       "      <th>...</th>\n",
       "      <th>pixel774</th>\n",
       "      <th>pixel775</th>\n",
       "      <th>pixel776</th>\n",
       "      <th>pixel777</th>\n",
       "      <th>pixel778</th>\n",
       "      <th>pixel779</th>\n",
       "      <th>pixel780</th>\n",
       "      <th>pixel781</th>\n",
       "      <th>pixel782</th>\n",
       "      <th>pixel783</th>\n",
       "    </tr>\n",
       "  </thead>\n",
       "  <tbody>\n",
       "    <tr>\n",
       "      <th>0</th>\n",
       "      <td>0</td>\n",
       "      <td>0</td>\n",
       "      <td>0</td>\n",
       "      <td>0</td>\n",
       "      <td>0</td>\n",
       "      <td>0</td>\n",
       "      <td>0</td>\n",
       "      <td>0</td>\n",
       "      <td>0</td>\n",
       "      <td>0</td>\n",
       "      <td>...</td>\n",
       "      <td>0</td>\n",
       "      <td>0</td>\n",
       "      <td>0</td>\n",
       "      <td>0</td>\n",
       "      <td>0</td>\n",
       "      <td>0</td>\n",
       "      <td>0</td>\n",
       "      <td>0</td>\n",
       "      <td>0</td>\n",
       "      <td>0</td>\n",
       "    </tr>\n",
       "    <tr>\n",
       "      <th>1</th>\n",
       "      <td>0</td>\n",
       "      <td>0</td>\n",
       "      <td>0</td>\n",
       "      <td>0</td>\n",
       "      <td>0</td>\n",
       "      <td>0</td>\n",
       "      <td>0</td>\n",
       "      <td>0</td>\n",
       "      <td>0</td>\n",
       "      <td>0</td>\n",
       "      <td>...</td>\n",
       "      <td>0</td>\n",
       "      <td>0</td>\n",
       "      <td>0</td>\n",
       "      <td>0</td>\n",
       "      <td>0</td>\n",
       "      <td>0</td>\n",
       "      <td>0</td>\n",
       "      <td>0</td>\n",
       "      <td>0</td>\n",
       "      <td>0</td>\n",
       "    </tr>\n",
       "    <tr>\n",
       "      <th>2</th>\n",
       "      <td>0</td>\n",
       "      <td>0</td>\n",
       "      <td>0</td>\n",
       "      <td>0</td>\n",
       "      <td>0</td>\n",
       "      <td>0</td>\n",
       "      <td>0</td>\n",
       "      <td>0</td>\n",
       "      <td>0</td>\n",
       "      <td>0</td>\n",
       "      <td>...</td>\n",
       "      <td>0</td>\n",
       "      <td>0</td>\n",
       "      <td>0</td>\n",
       "      <td>0</td>\n",
       "      <td>0</td>\n",
       "      <td>0</td>\n",
       "      <td>0</td>\n",
       "      <td>0</td>\n",
       "      <td>0</td>\n",
       "      <td>0</td>\n",
       "    </tr>\n",
       "    <tr>\n",
       "      <th>3</th>\n",
       "      <td>0</td>\n",
       "      <td>0</td>\n",
       "      <td>0</td>\n",
       "      <td>0</td>\n",
       "      <td>0</td>\n",
       "      <td>0</td>\n",
       "      <td>0</td>\n",
       "      <td>0</td>\n",
       "      <td>0</td>\n",
       "      <td>0</td>\n",
       "      <td>...</td>\n",
       "      <td>0</td>\n",
       "      <td>0</td>\n",
       "      <td>0</td>\n",
       "      <td>0</td>\n",
       "      <td>0</td>\n",
       "      <td>0</td>\n",
       "      <td>0</td>\n",
       "      <td>0</td>\n",
       "      <td>0</td>\n",
       "      <td>0</td>\n",
       "    </tr>\n",
       "    <tr>\n",
       "      <th>4</th>\n",
       "      <td>0</td>\n",
       "      <td>0</td>\n",
       "      <td>0</td>\n",
       "      <td>0</td>\n",
       "      <td>0</td>\n",
       "      <td>0</td>\n",
       "      <td>0</td>\n",
       "      <td>0</td>\n",
       "      <td>0</td>\n",
       "      <td>0</td>\n",
       "      <td>...</td>\n",
       "      <td>0</td>\n",
       "      <td>0</td>\n",
       "      <td>0</td>\n",
       "      <td>0</td>\n",
       "      <td>0</td>\n",
       "      <td>0</td>\n",
       "      <td>0</td>\n",
       "      <td>0</td>\n",
       "      <td>0</td>\n",
       "      <td>0</td>\n",
       "    </tr>\n",
       "  </tbody>\n",
       "</table>\n",
       "<p>5 rows × 784 columns</p>\n",
       "</div>"
      ],
      "text/plain": [
       "   pixel0  pixel1  pixel2  pixel3  pixel4  pixel5  pixel6  pixel7  pixel8  \\\n",
       "0       0       0       0       0       0       0       0       0       0   \n",
       "1       0       0       0       0       0       0       0       0       0   \n",
       "2       0       0       0       0       0       0       0       0       0   \n",
       "3       0       0       0       0       0       0       0       0       0   \n",
       "4       0       0       0       0       0       0       0       0       0   \n",
       "\n",
       "   pixel9  ...  pixel774  pixel775  pixel776  pixel777  pixel778  pixel779  \\\n",
       "0       0  ...         0         0         0         0         0         0   \n",
       "1       0  ...         0         0         0         0         0         0   \n",
       "2       0  ...         0         0         0         0         0         0   \n",
       "3       0  ...         0         0         0         0         0         0   \n",
       "4       0  ...         0         0         0         0         0         0   \n",
       "\n",
       "   pixel780  pixel781  pixel782  pixel783  \n",
       "0         0         0         0         0  \n",
       "1         0         0         0         0  \n",
       "2         0         0         0         0  \n",
       "3         0         0         0         0  \n",
       "4         0         0         0         0  \n",
       "\n",
       "[5 rows x 784 columns]"
      ]
     },
     "execution_count": 4,
     "metadata": {},
     "output_type": "execute_result"
    }
   ],
   "source": [
    "test_df.head()"
   ]
  },
  {
   "cell_type": "code",
   "execution_count": 5,
   "metadata": {
    "execution": {
     "iopub.execute_input": "2020-08-15T18:51:03.026504Z",
     "iopub.status.busy": "2020-08-15T18:51:03.018807Z",
     "iopub.status.idle": "2020-08-15T18:51:03.032074Z",
     "shell.execute_reply": "2020-08-15T18:51:03.032548Z"
    },
    "papermill": {
     "duration": 0.033097,
     "end_time": "2020-08-15T18:51:03.032680",
     "exception": false,
     "start_time": "2020-08-15T18:51:02.999583",
     "status": "completed"
    },
    "tags": []
   },
   "outputs": [
    {
     "data": {
      "text/html": [
       "<div>\n",
       "<style scoped>\n",
       "    .dataframe tbody tr th:only-of-type {\n",
       "        vertical-align: middle;\n",
       "    }\n",
       "\n",
       "    .dataframe tbody tr th {\n",
       "        vertical-align: top;\n",
       "    }\n",
       "\n",
       "    .dataframe thead th {\n",
       "        text-align: right;\n",
       "    }\n",
       "</style>\n",
       "<table border=\"1\" class=\"dataframe\">\n",
       "  <thead>\n",
       "    <tr style=\"text-align: right;\">\n",
       "      <th></th>\n",
       "      <th>label</th>\n",
       "      <th>pixel0</th>\n",
       "      <th>pixel1</th>\n",
       "      <th>pixel2</th>\n",
       "      <th>pixel3</th>\n",
       "      <th>pixel4</th>\n",
       "      <th>pixel5</th>\n",
       "      <th>pixel6</th>\n",
       "      <th>pixel7</th>\n",
       "      <th>pixel8</th>\n",
       "      <th>...</th>\n",
       "      <th>pixel774</th>\n",
       "      <th>pixel775</th>\n",
       "      <th>pixel776</th>\n",
       "      <th>pixel777</th>\n",
       "      <th>pixel778</th>\n",
       "      <th>pixel779</th>\n",
       "      <th>pixel780</th>\n",
       "      <th>pixel781</th>\n",
       "      <th>pixel782</th>\n",
       "      <th>pixel783</th>\n",
       "    </tr>\n",
       "  </thead>\n",
       "  <tbody>\n",
       "    <tr>\n",
       "      <th>0</th>\n",
       "      <td>1</td>\n",
       "      <td>0</td>\n",
       "      <td>0</td>\n",
       "      <td>0</td>\n",
       "      <td>0</td>\n",
       "      <td>0</td>\n",
       "      <td>0</td>\n",
       "      <td>0</td>\n",
       "      <td>0</td>\n",
       "      <td>0</td>\n",
       "      <td>...</td>\n",
       "      <td>0</td>\n",
       "      <td>0</td>\n",
       "      <td>0</td>\n",
       "      <td>0</td>\n",
       "      <td>0</td>\n",
       "      <td>0</td>\n",
       "      <td>0</td>\n",
       "      <td>0</td>\n",
       "      <td>0</td>\n",
       "      <td>0</td>\n",
       "    </tr>\n",
       "    <tr>\n",
       "      <th>1</th>\n",
       "      <td>0</td>\n",
       "      <td>0</td>\n",
       "      <td>0</td>\n",
       "      <td>0</td>\n",
       "      <td>0</td>\n",
       "      <td>0</td>\n",
       "      <td>0</td>\n",
       "      <td>0</td>\n",
       "      <td>0</td>\n",
       "      <td>0</td>\n",
       "      <td>...</td>\n",
       "      <td>0</td>\n",
       "      <td>0</td>\n",
       "      <td>0</td>\n",
       "      <td>0</td>\n",
       "      <td>0</td>\n",
       "      <td>0</td>\n",
       "      <td>0</td>\n",
       "      <td>0</td>\n",
       "      <td>0</td>\n",
       "      <td>0</td>\n",
       "    </tr>\n",
       "    <tr>\n",
       "      <th>2</th>\n",
       "      <td>1</td>\n",
       "      <td>0</td>\n",
       "      <td>0</td>\n",
       "      <td>0</td>\n",
       "      <td>0</td>\n",
       "      <td>0</td>\n",
       "      <td>0</td>\n",
       "      <td>0</td>\n",
       "      <td>0</td>\n",
       "      <td>0</td>\n",
       "      <td>...</td>\n",
       "      <td>0</td>\n",
       "      <td>0</td>\n",
       "      <td>0</td>\n",
       "      <td>0</td>\n",
       "      <td>0</td>\n",
       "      <td>0</td>\n",
       "      <td>0</td>\n",
       "      <td>0</td>\n",
       "      <td>0</td>\n",
       "      <td>0</td>\n",
       "    </tr>\n",
       "    <tr>\n",
       "      <th>3</th>\n",
       "      <td>4</td>\n",
       "      <td>0</td>\n",
       "      <td>0</td>\n",
       "      <td>0</td>\n",
       "      <td>0</td>\n",
       "      <td>0</td>\n",
       "      <td>0</td>\n",
       "      <td>0</td>\n",
       "      <td>0</td>\n",
       "      <td>0</td>\n",
       "      <td>...</td>\n",
       "      <td>0</td>\n",
       "      <td>0</td>\n",
       "      <td>0</td>\n",
       "      <td>0</td>\n",
       "      <td>0</td>\n",
       "      <td>0</td>\n",
       "      <td>0</td>\n",
       "      <td>0</td>\n",
       "      <td>0</td>\n",
       "      <td>0</td>\n",
       "    </tr>\n",
       "    <tr>\n",
       "      <th>4</th>\n",
       "      <td>0</td>\n",
       "      <td>0</td>\n",
       "      <td>0</td>\n",
       "      <td>0</td>\n",
       "      <td>0</td>\n",
       "      <td>0</td>\n",
       "      <td>0</td>\n",
       "      <td>0</td>\n",
       "      <td>0</td>\n",
       "      <td>0</td>\n",
       "      <td>...</td>\n",
       "      <td>0</td>\n",
       "      <td>0</td>\n",
       "      <td>0</td>\n",
       "      <td>0</td>\n",
       "      <td>0</td>\n",
       "      <td>0</td>\n",
       "      <td>0</td>\n",
       "      <td>0</td>\n",
       "      <td>0</td>\n",
       "      <td>0</td>\n",
       "    </tr>\n",
       "  </tbody>\n",
       "</table>\n",
       "<p>5 rows × 785 columns</p>\n",
       "</div>"
      ],
      "text/plain": [
       "   label  pixel0  pixel1  pixel2  pixel3  pixel4  pixel5  pixel6  pixel7  \\\n",
       "0      1       0       0       0       0       0       0       0       0   \n",
       "1      0       0       0       0       0       0       0       0       0   \n",
       "2      1       0       0       0       0       0       0       0       0   \n",
       "3      4       0       0       0       0       0       0       0       0   \n",
       "4      0       0       0       0       0       0       0       0       0   \n",
       "\n",
       "   pixel8  ...  pixel774  pixel775  pixel776  pixel777  pixel778  pixel779  \\\n",
       "0       0  ...         0         0         0         0         0         0   \n",
       "1       0  ...         0         0         0         0         0         0   \n",
       "2       0  ...         0         0         0         0         0         0   \n",
       "3       0  ...         0         0         0         0         0         0   \n",
       "4       0  ...         0         0         0         0         0         0   \n",
       "\n",
       "   pixel780  pixel781  pixel782  pixel783  \n",
       "0         0         0         0         0  \n",
       "1         0         0         0         0  \n",
       "2         0         0         0         0  \n",
       "3         0         0         0         0  \n",
       "4         0         0         0         0  \n",
       "\n",
       "[5 rows x 785 columns]"
      ]
     },
     "execution_count": 5,
     "metadata": {},
     "output_type": "execute_result"
    }
   ],
   "source": [
    "train_df.head()"
   ]
  },
  {
   "cell_type": "markdown",
   "execution_count": null,
   "metadata": {
    "papermill": {
     "duration": 0.010023,
     "end_time": "2020-08-15T18:51:03.053026",
     "exception": false,
     "start_time": "2020-08-15T18:51:03.043003",
     "status": "completed"
    },
    "tags": []
   },
   "source": [
    "# Modeling\n",
    "\n",
    "* Next, we need to build a machine learning pipeline to recognize these handwritten digits.\n",
    "* I will use a classic Vanilla Neural Network (VNN) also known as a Multi-layer Perceptron (MLP)."
   ]
  },
  {
   "cell_type": "markdown",
   "execution_count": null,
   "metadata": {
    "papermill": {
     "duration": 0.01112,
     "end_time": "2020-08-15T18:51:03.075393",
     "exception": false,
     "start_time": "2020-08-15T18:51:03.064273",
     "status": "completed"
    },
    "tags": []
   },
   "source": [
    "## Define PyTorch dataset\n",
    "\n",
    "* The first step is to build a PyTorch dataset to generate data for our model.\n",
    "* A PyTorch dataset has three fundamental functions: <code>init</code>, <code>len</code>, and <code>getitem</code>.\n",
    "* The <code>init</code> function initializes all the components required for data loading (image data and labels data)\n",
    "* The <code>len</code> function simply returns the length of the dataset. This indicates the number of retrievable samples.\n",
    "* The <code>getitem</code> function returns a data point at a given index <code>idx</code>. The actual logic is written in this function.\n",
    "* The <code>getitem</code> function does 2 things: gets the target and retrieves the 28 x 28 image at an <code>idx</code> (as a vector)."
   ]
  },
  {
   "cell_type": "code",
   "execution_count": 6,
   "metadata": {
    "execution": {
     "iopub.execute_input": "2020-08-15T18:51:03.105654Z",
     "iopub.status.busy": "2020-08-15T18:51:03.104917Z",
     "iopub.status.idle": "2020-08-15T18:51:03.108817Z",
     "shell.execute_reply": "2020-08-15T18:51:03.109314Z"
    },
    "papermill": {
     "duration": 0.023599,
     "end_time": "2020-08-15T18:51:03.109471",
     "exception": false,
     "start_time": "2020-08-15T18:51:03.085872",
     "status": "completed"
    },
    "tags": []
   },
   "outputs": [],
   "source": [
    "def to_tensor(data):\n",
    "    return [torch.FloatTensor(point) for point in data]\n",
    "\n",
    "class MNISTDataset(Dataset):\n",
    "    def __init__(self, df, X_col, y_col):\n",
    "        self.features = df[X_col].values/255\n",
    "        self.targets = df[y_col].values.reshape((-1, 1))\n",
    "\n",
    "    def __len__(self):\n",
    "        return len(self.targets)\n",
    "    \n",
    "    def __getitem__(self, idx):\n",
    "        return to_tensor([self.features[idx], self.targets[idx]])"
   ]
  },
  {
   "cell_type": "markdown",
   "execution_count": null,
   "metadata": {
    "papermill": {
     "duration": 0.010281,
     "end_time": "2020-08-15T18:51:03.130010",
     "exception": false,
     "start_time": "2020-08-15T18:51:03.119729",
     "status": "completed"
    },
    "tags": []
   },
   "source": [
    "## Split train/valid (80/20)\n",
    "\n",
    "* We now split the data into training and validation sets (train: 80%, valid: 20%)."
   ]
  },
  {
   "cell_type": "code",
   "execution_count": 7,
   "metadata": {
    "execution": {
     "iopub.execute_input": "2020-08-15T18:51:03.173552Z",
     "iopub.status.busy": "2020-08-15T18:51:03.172168Z",
     "iopub.status.idle": "2020-08-15T18:51:03.257498Z",
     "shell.execute_reply": "2020-08-15T18:51:03.256855Z"
    },
    "papermill": {
     "duration": 0.117368,
     "end_time": "2020-08-15T18:51:03.257628",
     "exception": false,
     "start_time": "2020-08-15T18:51:03.140260",
     "status": "completed"
    },
    "tags": []
   },
   "outputs": [],
   "source": [
    "y_col = \"label\"\n",
    "test_df[y_col] = [-1]*len(test_df)\n",
    "\n",
    "split = int(0.8*len(train_df))\n",
    "valid_df = train_df[split:].reset_index(drop=True)\n",
    "train_df = train_df[:split].reset_index(drop=True)"
   ]
  },
  {
   "cell_type": "markdown",
   "execution_count": null,
   "metadata": {
    "papermill": {
     "duration": 0.010101,
     "end_time": "2020-08-15T18:51:03.278614",
     "exception": false,
     "start_time": "2020-08-15T18:51:03.268513",
     "status": "completed"
    },
    "tags": []
   },
   "source": [
    "## Define the PyTorch dataloaders\n",
    "\n",
    "* Now we create train and valid dataloaders to get data batches for the training and validation loops."
   ]
  },
  {
   "cell_type": "code",
   "execution_count": 8,
   "metadata": {
    "execution": {
     "iopub.execute_input": "2020-08-15T18:51:03.374822Z",
     "iopub.status.busy": "2020-08-15T18:51:03.373683Z",
     "iopub.status.idle": "2020-08-15T18:51:03.501412Z",
     "shell.execute_reply": "2020-08-15T18:51:03.500112Z"
    },
    "papermill": {
     "duration": 0.212387,
     "end_time": "2020-08-15T18:51:03.501566",
     "exception": false,
     "start_time": "2020-08-15T18:51:03.289179",
     "status": "completed"
    },
    "tags": []
   },
   "outputs": [],
   "source": [
    "X_col = list(train_df.columns[1:])\n",
    "\n",
    "train_set = MNISTDataset(train_df, X_col, y_col)\n",
    "valid_set = MNISTDataset(valid_df, X_col, y_col)\n",
    "\n",
    "valid_loader = DataLoader(valid_set, batch_size=1024, shuffle=True)\n",
    "train_loader = DataLoader(train_set, batch_size=1024, shuffle=True)"
   ]
  },
  {
   "cell_type": "markdown",
   "execution_count": null,
   "metadata": {
    "papermill": {
     "duration": 0.015857,
     "end_time": "2020-08-15T18:51:03.529152",
     "exception": false,
     "start_time": "2020-08-15T18:51:03.513295",
     "status": "completed"
    },
    "tags": []
   },
   "source": [
    "## Define MLP model\n",
    "\n",
    "* Next, we define the actual model which we are going to train.\n",
    "* The MLP model includes an input layer (**784** neurons), and output layer (**10** neurons).\n",
    "* There are two hidden layers of **20** and **15** neurons each (between the input and output layers)."
   ]
  },
  {
   "cell_type": "code",
   "execution_count": 9,
   "metadata": {
    "execution": {
     "iopub.execute_input": "2020-08-15T18:51:03.562073Z",
     "iopub.status.busy": "2020-08-15T18:51:03.561051Z",
     "iopub.status.idle": "2020-08-15T18:51:03.564063Z",
     "shell.execute_reply": "2020-08-15T18:51:03.563487Z"
    },
    "papermill": {
     "duration": 0.022883,
     "end_time": "2020-08-15T18:51:03.564166",
     "exception": false,
     "start_time": "2020-08-15T18:51:03.541283",
     "status": "completed"
    },
    "tags": []
   },
   "outputs": [],
   "source": [
    "class MLP(nn.Module):\n",
    "    def __init__(self, i, u, v, o):\n",
    "        super(MLP, self).__init__()\n",
    "        self.relu_layer = nn.ReLU()\n",
    "        self.dense_1 = nn.Linear(i, u)\n",
    "        self.dense_2 = nn.Linear(u, v)\n",
    "        self.dense_output = nn.Linear(v, o)\n",
    "        \n",
    "    def forward(self, x):\n",
    "        x = self.relu_layer(self.dense_1(x))\n",
    "        x = self.relu_layer(self.dense_2(x))\n",
    "        logits = self.dense_output(x); return logits"
   ]
  },
  {
   "cell_type": "markdown",
   "execution_count": null,
   "metadata": {
    "papermill": {
     "duration": 0.010393,
     "end_time": "2020-08-15T18:51:03.585579",
     "exception": false,
     "start_time": "2020-08-15T18:51:03.575186",
     "status": "completed"
    },
    "tags": []
   },
   "source": [
    "### Define model and optimizer"
   ]
  },
  {
   "cell_type": "code",
   "execution_count": 10,
   "metadata": {
    "execution": {
     "iopub.execute_input": "2020-08-15T18:51:03.612854Z",
     "iopub.status.busy": "2020-08-15T18:51:03.612111Z",
     "iopub.status.idle": "2020-08-15T18:51:10.652318Z",
     "shell.execute_reply": "2020-08-15T18:51:10.651255Z"
    },
    "papermill": {
     "duration": 7.055763,
     "end_time": "2020-08-15T18:51:10.652471",
     "exception": false,
     "start_time": "2020-08-15T18:51:03.596708",
     "status": "completed"
    },
    "tags": []
   },
   "outputs": [],
   "source": [
    "device = torch.device('cuda')\n",
    "network = MLP(i=784, u=20, v=15, o=10).to(device)\n",
    "optimizer = Adam(params=network.parameters(), lr=0.01)"
   ]
  },
  {
   "cell_type": "code",
   "execution_count": 11,
   "metadata": {
    "execution": {
     "iopub.execute_input": "2020-08-15T18:51:10.682275Z",
     "iopub.status.busy": "2020-08-15T18:51:10.679725Z",
     "iopub.status.idle": "2020-08-15T18:51:10.685226Z",
     "shell.execute_reply": "2020-08-15T18:51:10.684479Z"
    },
    "papermill": {
     "duration": 0.020848,
     "end_time": "2020-08-15T18:51:10.685358",
     "exception": false,
     "start_time": "2020-08-15T18:51:10.664510",
     "status": "completed"
    },
    "tags": []
   },
   "outputs": [
    {
     "name": "stdout",
     "output_type": "stream",
     "text": [
      "MLP(\n",
      "  (relu_layer): ReLU()\n",
      "  (dense_1): Linear(in_features=784, out_features=20, bias=True)\n",
      "  (dense_2): Linear(in_features=20, out_features=15, bias=True)\n",
      "  (dense_output): Linear(in_features=15, out_features=10, bias=True)\n",
      ")\n"
     ]
    }
   ],
   "source": [
    "print(network)"
   ]
  },
  {
   "cell_type": "markdown",
   "execution_count": null,
   "metadata": {
    "papermill": {
     "duration": 0.010645,
     "end_time": "2020-08-15T18:51:10.708156",
     "exception": false,
     "start_time": "2020-08-15T18:51:10.697511",
     "status": "completed"
    },
    "tags": []
   },
   "source": [
    "## Define binary cross entropy and accuracy\n",
    "* Next, we define our loss function (binary cross entropy) and evaluation metric (accuracy)."
   ]
  },
  {
   "cell_type": "code",
   "execution_count": 12,
   "metadata": {
    "execution": {
     "iopub.execute_input": "2020-08-15T18:51:10.737363Z",
     "iopub.status.busy": "2020-08-15T18:51:10.736682Z",
     "iopub.status.idle": "2020-08-15T18:51:10.740430Z",
     "shell.execute_reply": "2020-08-15T18:51:10.740963Z"
    },
    "papermill": {
     "duration": 0.021795,
     "end_time": "2020-08-15T18:51:10.741091",
     "exception": false,
     "start_time": "2020-08-15T18:51:10.719296",
     "status": "completed"
    },
    "tags": []
   },
   "outputs": [],
   "source": [
    "def cel(y_true, y_pred):\n",
    "    y_true = y_true.long().squeeze()\n",
    "    return nn.CrossEntropyLoss()(y_pred, y_true)\n",
    "\n",
    "def acc(y_true, y_pred):\n",
    "    y_true = y_true.long().squeeze()\n",
    "    y_pred = torch.argmax(y_pred, axis=1)\n",
    "    return (y_true == y_pred).float().sum()/len(y_true)"
   ]
  },
  {
   "cell_type": "markdown",
   "execution_count": null,
   "metadata": {
    "papermill": {
     "duration": 0.011034,
     "end_time": "2020-08-15T18:51:10.762904",
     "exception": false,
     "start_time": "2020-08-15T18:51:10.751870",
     "status": "completed"
    },
    "tags": []
   },
   "source": [
    "## Train the model on GPU\n",
    "\n",
    "* Now, we train the model on the NVIDIA Tesla P100 GPU provided by Kaggle.\n",
    "* First, we do a training loop, where we train the model with back-prop to adjust the parameters.\n",
    "* Second, we do a validation loop, to check the model's performance on unseen data after each epoch.\n",
    "* The training loop uses forward-prop and back-prop, while the validation loop uses only forward-prop.\n",
    "* We use the <code>torch.no_grad()</code> flag for the validation loop as no gradients are needed for forward-prop."
   ]
  },
  {
   "cell_type": "code",
   "execution_count": 13,
   "metadata": {
    "execution": {
     "iopub.execute_input": "2020-08-15T18:51:10.807062Z",
     "iopub.status.busy": "2020-08-15T18:51:10.798089Z",
     "iopub.status.idle": "2020-08-15T18:51:47.887180Z",
     "shell.execute_reply": "2020-08-15T18:51:47.887873Z"
    },
    "papermill": {
     "duration": 37.114231,
     "end_time": "2020-08-15T18:51:47.888061",
     "exception": false,
     "start_time": "2020-08-15T18:51:10.773830",
     "status": "completed"
    },
    "tags": []
   },
   "outputs": [
    {
     "name": "stdout",
     "output_type": "stream",
     "text": [
      "STARTING TRAINING ...\n",
      "\n",
      "Epoch: 1\n",
      "Batch: 10 || Train Loss: 1.279 || Train Acc: 0.612 || Time: 1.265 s\n",
      "Batch: 20 || Train Loss: 0.664 || Train Acc: 0.785 || Time: 1.841 s\n",
      "Batch: 30 || Train Loss: 0.439 || Train Acc: 0.854 || Time: 2.248 s\n",
      "\n",
      "Epoch: 1 || Valid Loss: 0.4 || Valid Acc: 0.879 || Time: 2.678 s\n",
      "\n",
      "Epoch: 2\n",
      "Batch: 10 || Train Loss: 0.398 || Train Acc: 0.882 || Time: 3.086 s\n",
      "Batch: 20 || Train Loss: 0.349 || Train Acc: 0.894 || Time: 3.495 s\n",
      "Batch: 30 || Train Loss: 0.307 || Train Acc: 0.904 || Time: 3.9 s\n",
      "\n",
      "Epoch: 2 || Valid Loss: 0.295 || Valid Acc: 0.915 || Time: 4.333 s\n",
      "\n",
      "Epoch: 3\n",
      "Batch: 10 || Train Loss: 0.257 || Train Acc: 0.93 || Time: 4.744 s\n",
      "Batch: 20 || Train Loss: 0.239 || Train Acc: 0.932 || Time: 5.275 s\n",
      "Batch: 30 || Train Loss: 0.25 || Train Acc: 0.928 || Time: 5.801 s\n",
      "\n",
      "Epoch: 3 || Valid Loss: 0.232 || Valid Acc: 0.931 || Time: 6.388 s\n",
      "\n",
      "Epoch: 4\n",
      "Batch: 10 || Train Loss: 0.188 || Train Acc: 0.948 || Time: 6.811 s\n",
      "Batch: 20 || Train Loss: 0.215 || Train Acc: 0.924 || Time: 7.233 s\n",
      "Batch: 30 || Train Loss: 0.204 || Train Acc: 0.935 || Time: 7.767 s\n",
      "\n",
      "Epoch: 4 || Valid Loss: 0.212 || Valid Acc: 0.936 || Time: 8.523 s\n",
      "\n",
      "Epoch: 5\n",
      "Batch: 10 || Train Loss: 0.262 || Train Acc: 0.918 || Time: 8.944 s\n",
      "Batch: 20 || Train Loss: 0.165 || Train Acc: 0.955 || Time: 9.387 s\n",
      "Batch: 30 || Train Loss: 0.188 || Train Acc: 0.947 || Time: 9.815 s\n",
      "\n",
      "Epoch: 5 || Valid Loss: 0.201 || Valid Acc: 0.942 || Time: 10.257 s\n",
      "\n",
      "Epoch: 6\n",
      "Batch: 10 || Train Loss: 0.158 || Train Acc: 0.957 || Time: 10.687 s\n",
      "Batch: 20 || Train Loss: 0.164 || Train Acc: 0.954 || Time: 11.274 s\n",
      "Batch: 30 || Train Loss: 0.167 || Train Acc: 0.955 || Time: 11.873 s\n",
      "\n",
      "Epoch: 6 || Valid Loss: 0.187 || Valid Acc: 0.943 || Time: 12.35 s\n",
      "\n",
      "Epoch: 7\n",
      "Batch: 10 || Train Loss: 0.158 || Train Acc: 0.949 || Time: 12.757 s\n",
      "Batch: 20 || Train Loss: 0.151 || Train Acc: 0.952 || Time: 13.181 s\n",
      "Batch: 30 || Train Loss: 0.195 || Train Acc: 0.946 || Time: 13.59 s\n",
      "\n",
      "Epoch: 7 || Valid Loss: 0.187 || Valid Acc: 0.946 || Time: 14.018 s\n",
      "\n",
      "Epoch: 8\n",
      "Batch: 10 || Train Loss: 0.183 || Train Acc: 0.944 || Time: 14.424 s\n",
      "Batch: 20 || Train Loss: 0.163 || Train Acc: 0.961 || Time: 14.837 s\n",
      "Batch: 30 || Train Loss: 0.151 || Train Acc: 0.947 || Time: 15.272 s\n",
      "\n",
      "Epoch: 8 || Valid Loss: 0.18 || Valid Acc: 0.946 || Time: 15.845 s\n",
      "\n",
      "Epoch: 9\n",
      "Batch: 10 || Train Loss: 0.127 || Train Acc: 0.959 || Time: 16.39 s\n",
      "Batch: 20 || Train Loss: 0.133 || Train Acc: 0.96 || Time: 16.908 s\n",
      "Batch: 30 || Train Loss: 0.103 || Train Acc: 0.969 || Time: 17.387 s\n",
      "\n",
      "Epoch: 9 || Valid Loss: 0.177 || Valid Acc: 0.948 || Time: 17.815 s\n",
      "\n",
      "Epoch: 10\n",
      "Batch: 10 || Train Loss: 0.128 || Train Acc: 0.959 || Time: 18.225 s\n",
      "Batch: 20 || Train Loss: 0.125 || Train Acc: 0.96 || Time: 18.626 s\n",
      "Batch: 30 || Train Loss: 0.133 || Train Acc: 0.958 || Time: 19.032 s\n",
      "\n",
      "Epoch: 10 || Valid Loss: 0.175 || Valid Acc: 0.947 || Time: 19.464 s\n",
      "\n",
      "Epoch: 11\n",
      "Batch: 10 || Train Loss: 0.122 || Train Acc: 0.959 || Time: 20.006 s\n",
      "Batch: 20 || Train Loss: 0.126 || Train Acc: 0.964 || Time: 20.413 s\n",
      "Batch: 30 || Train Loss: 0.117 || Train Acc: 0.966 || Time: 20.821 s\n",
      "\n",
      "Epoch: 11 || Valid Loss: 0.174 || Valid Acc: 0.95 || Time: 21.244 s\n",
      "\n",
      "Epoch: 12\n",
      "Batch: 10 || Train Loss: 0.139 || Train Acc: 0.954 || Time: 21.653 s\n",
      "Batch: 20 || Train Loss: 0.117 || Train Acc: 0.966 || Time: 22.056 s\n",
      "Batch: 30 || Train Loss: 0.104 || Train Acc: 0.974 || Time: 22.477 s\n",
      "\n",
      "Epoch: 12 || Valid Loss: 0.182 || Valid Acc: 0.948 || Time: 22.904 s\n",
      "\n",
      "Epoch: 13\n",
      "Batch: 10 || Train Loss: 0.123 || Train Acc: 0.964 || Time: 23.312 s\n",
      "Batch: 20 || Train Loss: 0.073 || Train Acc: 0.979 || Time: 23.709 s\n",
      "Batch: 30 || Train Loss: 0.094 || Train Acc: 0.971 || Time: 24.251 s\n",
      "\n",
      "Epoch: 13 || Valid Loss: 0.173 || Valid Acc: 0.952 || Time: 24.674 s\n",
      "\n",
      "Epoch: 14\n",
      "Batch: 10 || Train Loss: 0.102 || Train Acc: 0.966 || Time: 25.075 s\n",
      "Batch: 20 || Train Loss: 0.068 || Train Acc: 0.98 || Time: 25.475 s\n",
      "Batch: 30 || Train Loss: 0.117 || Train Acc: 0.961 || Time: 25.879 s\n",
      "\n",
      "Epoch: 14 || Valid Loss: 0.17 || Valid Acc: 0.951 || Time: 26.303 s\n",
      "\n",
      "Epoch: 15\n",
      "Batch: 10 || Train Loss: 0.096 || Train Acc: 0.971 || Time: 26.707 s\n",
      "Batch: 20 || Train Loss: 0.091 || Train Acc: 0.974 || Time: 27.151 s\n",
      "Batch: 30 || Train Loss: 0.111 || Train Acc: 0.966 || Time: 27.74 s\n",
      "\n",
      "Epoch: 15 || Valid Loss: 0.18 || Valid Acc: 0.952 || Time: 28.165 s\n",
      "\n",
      "Epoch: 16\n",
      "Batch: 10 || Train Loss: 0.087 || Train Acc: 0.972 || Time: 28.755 s\n",
      "Batch: 20 || Train Loss: 0.098 || Train Acc: 0.971 || Time: 29.176 s\n",
      "Batch: 30 || Train Loss: 0.086 || Train Acc: 0.972 || Time: 29.585 s\n",
      "\n",
      "Epoch: 16 || Valid Loss: 0.172 || Valid Acc: 0.954 || Time: 30.018 s\n",
      "\n",
      "Epoch: 17\n",
      "Batch: 10 || Train Loss: 0.069 || Train Acc: 0.979 || Time: 30.451 s\n",
      "Batch: 20 || Train Loss: 0.1 || Train Acc: 0.968 || Time: 30.882 s\n",
      "Batch: 30 || Train Loss: 0.072 || Train Acc: 0.979 || Time: 31.298 s\n",
      "\n",
      "Epoch: 17 || Valid Loss: 0.181 || Valid Acc: 0.953 || Time: 31.74 s\n",
      "\n",
      "Epoch: 18\n",
      "Batch: 10 || Train Loss: 0.095 || Train Acc: 0.966 || Time: 32.29 s\n",
      "Batch: 20 || Train Loss: 0.07 || Train Acc: 0.978 || Time: 32.699 s\n",
      "Batch: 30 || Train Loss: 0.084 || Train Acc: 0.973 || Time: 33.24 s\n",
      "\n",
      "Epoch: 18 || Valid Loss: 0.194 || Valid Acc: 0.95 || Time: 33.666 s\n",
      "\n",
      "Epoch: 19\n",
      "Batch: 10 || Train Loss: 0.075 || Train Acc: 0.978 || Time: 34.069 s\n",
      "Batch: 20 || Train Loss: 0.076 || Train Acc: 0.976 || Time: 34.48 s\n",
      "Batch: 30 || Train Loss: 0.087 || Train Acc: 0.969 || Time: 34.883 s\n",
      "\n",
      "Epoch: 19 || Valid Loss: 0.182 || Valid Acc: 0.953 || Time: 35.309 s\n",
      "\n",
      "Epoch: 20\n",
      "Batch: 10 || Train Loss: 0.107 || Train Acc: 0.974 || Time: 35.713 s\n",
      "Batch: 20 || Train Loss: 0.083 || Train Acc: 0.967 || Time: 36.114 s\n",
      "Batch: 30 || Train Loss: 0.107 || Train Acc: 0.976 || Time: 36.516 s\n",
      "\n",
      "Epoch: 20 || Valid Loss: 0.19 || Valid Acc: 0.95 || Time: 37.077 s\n",
      "\n",
      "ENDING TRAINING ...\n"
     ]
    }
   ],
   "source": [
    "start = time.time()\n",
    "print(\"STARTING TRAINING ...\\n\")\n",
    "\n",
    "train_losses, valid_losses = [], []\n",
    "train_accuracies, valid_accuracies = [], []\n",
    "\n",
    "for epoch in range(20):\n",
    "    network = network.train()\n",
    "    print(\"Epoch: {}\".format(epoch + 1))\n",
    "    batch_train_losses, batch_train_accuracies = [], []\n",
    "    \n",
    "    batch = 0\n",
    "    for train_batch in train_loader:\n",
    "        train_X, train_y = train_batch\n",
    "\n",
    "        train_X = train_X.to(device)\n",
    "        train_y = train_y.to(device)\n",
    "        train_preds = network.forward(train_X)\n",
    "        train_loss = cel(train_y, train_preds)\n",
    "        train_accuracy = acc(train_y, train_preds)\n",
    "        \n",
    "        optimizer.zero_grad()\n",
    "        train_loss.backward()\n",
    "        \n",
    "        optimizer.step()\n",
    "        train_loss = np.round(train_loss.item(), 3)\n",
    "        train_accuracy = np.round(train_accuracy.item(), 3)\n",
    "\n",
    "        end = time.time()\n",
    "        batch = batch + 1\n",
    "        log = batch % 10 == 0\n",
    "        time_delta = np.round(end - start, 3)\n",
    "        \n",
    "        batch_train_losses.append(train_loss)\n",
    "        batch_train_accuracies.append(train_accuracy)\n",
    "        logs = \"Batch: {} || Train Loss: {} || Train Acc: {} || Time: {} s\"\n",
    "        if log: print(logs.format(batch, train_loss, train_accuracy, time_delta))\n",
    "        \n",
    "    train_losses.append(np.mean(batch_train_losses))\n",
    "    train_accuracies.append(np.mean(batch_train_accuracies))\n",
    "    \n",
    "    total_valid_loss = 0\n",
    "    total_valid_points = 0\n",
    "    total_valid_accuracy = 0\n",
    "    \n",
    "    with torch.no_grad():\n",
    "        for valid_batch in valid_loader:\n",
    "            valid_X, valid_y = valid_batch\n",
    "            \n",
    "            valid_X = valid_X.to(device)\n",
    "            valid_y = valid_y.to(device)\n",
    "            valid_preds = network.forward(valid_X)\n",
    "            valid_loss = cel(valid_y, valid_preds)\n",
    "            valid_accuracy = acc(valid_y, valid_preds)\n",
    "            \n",
    "            total_valid_points += 1\n",
    "            total_valid_loss += valid_loss.item()\n",
    "            total_valid_accuracy += valid_accuracy.item()\n",
    "            \n",
    "    valid_loss = np.round(total_valid_loss/total_valid_points, 3)\n",
    "    valid_accuracy = np.round(total_valid_accuracy/total_valid_points, 3)\n",
    "    \n",
    "    valid_losses.append(valid_loss)\n",
    "    valid_accuracies.append(valid_accuracy)\n",
    "    \n",
    "    end = time.time()\n",
    "    time_delta = np.round(end - start, 3)\n",
    "    logs = \"Epoch: {} || Valid Loss: {} || Valid Acc: {} || Time: {} s\"\n",
    "    print(\"\\n\" + logs.format(epoch + 1, valid_loss, valid_accuracy, time_delta) + \"\\n\")\n",
    "    \n",
    "print(\"ENDING TRAINING ...\")"
   ]
  },
  {
   "cell_type": "markdown",
   "execution_count": null,
   "metadata": {
    "papermill": {
     "duration": 0.015384,
     "end_time": "2020-08-15T18:51:47.919347",
     "exception": false,
     "start_time": "2020-08-15T18:51:47.903963",
     "status": "completed"
    },
    "tags": []
   },
   "source": [
    "## Visualize metrics over time\n",
    "\n",
    "* Now, we visualize how the metrics (loss and accuracy) change over time."
   ]
  },
  {
   "cell_type": "code",
   "execution_count": 14,
   "metadata": {
    "_kg_hide-input": true,
    "execution": {
     "iopub.execute_input": "2020-08-15T18:51:47.962228Z",
     "iopub.status.busy": "2020-08-15T18:51:47.961004Z",
     "iopub.status.idle": "2020-08-15T18:51:48.813158Z",
     "shell.execute_reply": "2020-08-15T18:51:48.812618Z"
    },
    "papermill": {
     "duration": 0.878789,
     "end_time": "2020-08-15T18:51:48.813277",
     "exception": false,
     "start_time": "2020-08-15T18:51:47.934488",
     "status": "completed"
    },
    "tags": []
   },
   "outputs": [
    {
     "data": {
      "text/html": [
       "        <script type=\"text/javascript\">\n",
       "        window.PlotlyConfig = {MathJaxConfig: 'local'};\n",
       "        if (window.MathJax) {MathJax.Hub.Config({SVG: {font: \"STIX-Web\"}});}\n",
       "        if (typeof require !== 'undefined') {\n",
       "        require.undef(\"plotly\");\n",
       "        requirejs.config({\n",
       "            paths: {\n",
       "                'plotly': ['https://cdn.plot.ly/plotly-latest.min']\n",
       "            }\n",
       "        });\n",
       "        require(['plotly'], function(Plotly) {\n",
       "            window._Plotly = Plotly;\n",
       "        });\n",
       "        }\n",
       "        </script>\n",
       "        "
      ]
     },
     "metadata": {},
     "output_type": "display_data"
    },
    {
     "data": {
      "text/html": [
       "<div>\n",
       "        \n",
       "        \n",
       "            <div id=\"07c46970-3dee-44f0-8831-974130e6ec69\" class=\"plotly-graph-div\" style=\"height:525px; width:100%;\"></div>\n",
       "            <script type=\"text/javascript\">\n",
       "                require([\"plotly\"], function(Plotly) {\n",
       "                    window.PLOTLYENV=window.PLOTLYENV || {};\n",
       "                    \n",
       "                if (document.getElementById(\"07c46970-3dee-44f0-8831-974130e6ec69\")) {\n",
       "                    Plotly.newPlot(\n",
       "                        '07c46970-3dee-44f0-8831-974130e6ec69',\n",
       "                        [{\"marker\": {\"color\": \"indianred\", \"line\": {\"color\": \"rgb(0, 0, 0)\", \"width\": 0.5}}, \"mode\": \"lines+markers\", \"name\": \"valid\", \"type\": \"scatter\", \"x\": [1, 2, 3, 4, 5, 6, 7, 8, 9, 10, 11, 12, 13, 14, 15, 16, 17, 18, 19], \"y\": [0.4, 0.295, 0.232, 0.212, 0.201, 0.187, 0.187, 0.18, 0.177, 0.175, 0.174, 0.182, 0.173, 0.17, 0.18, 0.172, 0.181, 0.194, 0.182, 0.19]}, {\"marker\": {\"color\": \"darkorange\", \"line\": {\"color\": \"rgb(0, 0, 0)\", \"width\": 0.5}}, \"mode\": \"lines+markers\", \"name\": \"train\", \"type\": \"scatter\", \"x\": [1, 2, 3, 4, 5, 6, 7, 8, 9, 10, 11, 12, 13, 14, 15, 16, 17, 18, 19], \"y\": [1.0122121212121211, 0.339969696969697, 0.2510909090909091, 0.21293939393939396, 0.18551515151515152, 0.16824242424242425, 0.15466666666666667, 0.14266666666666666, 0.13624242424242425, 0.1261818181818182, 0.11942424242424243, 0.11981818181818182, 0.11012121212121212, 0.1006969696969697, 0.09324242424242424, 0.09051515151515152, 0.08448484848484848, 0.08254545454545455, 0.08227272727272728, 0.0752121212121212]}],\n",
       "                        {\"paper_bgcolor\": \"#f0f0f0\", \"template\": {\"data\": {\"bar\": [{\"error_x\": {\"color\": \"#2a3f5f\"}, \"error_y\": {\"color\": \"#2a3f5f\"}, \"marker\": {\"line\": {\"color\": \"white\", \"width\": 0.5}}, \"type\": \"bar\"}], \"barpolar\": [{\"marker\": {\"line\": {\"color\": \"white\", \"width\": 0.5}}, \"type\": \"barpolar\"}], \"carpet\": [{\"aaxis\": {\"endlinecolor\": \"#2a3f5f\", \"gridcolor\": \"#C8D4E3\", \"linecolor\": \"#C8D4E3\", \"minorgridcolor\": \"#C8D4E3\", \"startlinecolor\": \"#2a3f5f\"}, \"baxis\": {\"endlinecolor\": \"#2a3f5f\", \"gridcolor\": \"#C8D4E3\", \"linecolor\": \"#C8D4E3\", \"minorgridcolor\": \"#C8D4E3\", \"startlinecolor\": \"#2a3f5f\"}, \"type\": \"carpet\"}], \"choropleth\": [{\"colorbar\": {\"outlinewidth\": 0, \"ticks\": \"\"}, \"type\": \"choropleth\"}], \"contour\": [{\"colorbar\": {\"outlinewidth\": 0, \"ticks\": \"\"}, \"colorscale\": [[0.0, \"#0d0887\"], [0.1111111111111111, \"#46039f\"], [0.2222222222222222, \"#7201a8\"], [0.3333333333333333, \"#9c179e\"], [0.4444444444444444, \"#bd3786\"], [0.5555555555555556, \"#d8576b\"], [0.6666666666666666, \"#ed7953\"], [0.7777777777777778, \"#fb9f3a\"], [0.8888888888888888, \"#fdca26\"], [1.0, \"#f0f921\"]], \"type\": \"contour\"}], \"contourcarpet\": [{\"colorbar\": {\"outlinewidth\": 0, \"ticks\": \"\"}, \"type\": \"contourcarpet\"}], \"heatmap\": [{\"colorbar\": {\"outlinewidth\": 0, \"ticks\": \"\"}, \"colorscale\": [[0.0, \"#0d0887\"], [0.1111111111111111, \"#46039f\"], [0.2222222222222222, \"#7201a8\"], [0.3333333333333333, \"#9c179e\"], [0.4444444444444444, \"#bd3786\"], [0.5555555555555556, \"#d8576b\"], [0.6666666666666666, \"#ed7953\"], [0.7777777777777778, \"#fb9f3a\"], [0.8888888888888888, \"#fdca26\"], [1.0, \"#f0f921\"]], \"type\": \"heatmap\"}], \"heatmapgl\": [{\"colorbar\": {\"outlinewidth\": 0, \"ticks\": \"\"}, \"colorscale\": [[0.0, \"#0d0887\"], [0.1111111111111111, \"#46039f\"], [0.2222222222222222, \"#7201a8\"], [0.3333333333333333, \"#9c179e\"], [0.4444444444444444, \"#bd3786\"], [0.5555555555555556, \"#d8576b\"], [0.6666666666666666, \"#ed7953\"], [0.7777777777777778, \"#fb9f3a\"], [0.8888888888888888, \"#fdca26\"], [1.0, \"#f0f921\"]], \"type\": \"heatmapgl\"}], \"histogram\": [{\"marker\": {\"colorbar\": {\"outlinewidth\": 0, \"ticks\": \"\"}}, \"type\": \"histogram\"}], \"histogram2d\": [{\"colorbar\": {\"outlinewidth\": 0, \"ticks\": \"\"}, \"colorscale\": [[0.0, \"#0d0887\"], [0.1111111111111111, \"#46039f\"], [0.2222222222222222, \"#7201a8\"], [0.3333333333333333, \"#9c179e\"], [0.4444444444444444, \"#bd3786\"], [0.5555555555555556, \"#d8576b\"], [0.6666666666666666, \"#ed7953\"], [0.7777777777777778, \"#fb9f3a\"], [0.8888888888888888, \"#fdca26\"], [1.0, \"#f0f921\"]], \"type\": \"histogram2d\"}], \"histogram2dcontour\": [{\"colorbar\": {\"outlinewidth\": 0, \"ticks\": \"\"}, \"colorscale\": [[0.0, \"#0d0887\"], [0.1111111111111111, \"#46039f\"], [0.2222222222222222, \"#7201a8\"], [0.3333333333333333, \"#9c179e\"], [0.4444444444444444, \"#bd3786\"], [0.5555555555555556, \"#d8576b\"], [0.6666666666666666, \"#ed7953\"], [0.7777777777777778, \"#fb9f3a\"], [0.8888888888888888, \"#fdca26\"], [1.0, \"#f0f921\"]], \"type\": \"histogram2dcontour\"}], \"mesh3d\": [{\"colorbar\": {\"outlinewidth\": 0, \"ticks\": \"\"}, \"type\": \"mesh3d\"}], \"parcoords\": [{\"line\": {\"colorbar\": {\"outlinewidth\": 0, \"ticks\": \"\"}}, \"type\": \"parcoords\"}], \"pie\": [{\"automargin\": true, \"type\": \"pie\"}], \"scatter\": [{\"marker\": {\"colorbar\": {\"outlinewidth\": 0, \"ticks\": \"\"}}, \"type\": \"scatter\"}], \"scatter3d\": [{\"line\": {\"colorbar\": {\"outlinewidth\": 0, \"ticks\": \"\"}}, \"marker\": {\"colorbar\": {\"outlinewidth\": 0, \"ticks\": \"\"}}, \"type\": \"scatter3d\"}], \"scattercarpet\": [{\"marker\": {\"colorbar\": {\"outlinewidth\": 0, \"ticks\": \"\"}}, \"type\": \"scattercarpet\"}], \"scattergeo\": [{\"marker\": {\"colorbar\": {\"outlinewidth\": 0, \"ticks\": \"\"}}, \"type\": \"scattergeo\"}], \"scattergl\": [{\"marker\": {\"colorbar\": {\"outlinewidth\": 0, \"ticks\": \"\"}}, \"type\": \"scattergl\"}], \"scattermapbox\": [{\"marker\": {\"colorbar\": {\"outlinewidth\": 0, \"ticks\": \"\"}}, \"type\": \"scattermapbox\"}], \"scatterpolar\": [{\"marker\": {\"colorbar\": {\"outlinewidth\": 0, \"ticks\": \"\"}}, \"type\": \"scatterpolar\"}], \"scatterpolargl\": [{\"marker\": {\"colorbar\": {\"outlinewidth\": 0, \"ticks\": \"\"}}, \"type\": \"scatterpolargl\"}], \"scatterternary\": [{\"marker\": {\"colorbar\": {\"outlinewidth\": 0, \"ticks\": \"\"}}, \"type\": \"scatterternary\"}], \"surface\": [{\"colorbar\": {\"outlinewidth\": 0, \"ticks\": \"\"}, \"colorscale\": [[0.0, \"#0d0887\"], [0.1111111111111111, \"#46039f\"], [0.2222222222222222, \"#7201a8\"], [0.3333333333333333, \"#9c179e\"], [0.4444444444444444, \"#bd3786\"], [0.5555555555555556, \"#d8576b\"], [0.6666666666666666, \"#ed7953\"], [0.7777777777777778, \"#fb9f3a\"], [0.8888888888888888, \"#fdca26\"], [1.0, \"#f0f921\"]], \"type\": \"surface\"}], \"table\": [{\"cells\": {\"fill\": {\"color\": \"#EBF0F8\"}, \"line\": {\"color\": \"white\"}}, \"header\": {\"fill\": {\"color\": \"#C8D4E3\"}, \"line\": {\"color\": \"white\"}}, \"type\": \"table\"}]}, \"layout\": {\"annotationdefaults\": {\"arrowcolor\": \"#2a3f5f\", \"arrowhead\": 0, \"arrowwidth\": 1}, \"coloraxis\": {\"colorbar\": {\"outlinewidth\": 0, \"ticks\": \"\"}}, \"colorscale\": {\"diverging\": [[0, \"#8e0152\"], [0.1, \"#c51b7d\"], [0.2, \"#de77ae\"], [0.3, \"#f1b6da\"], [0.4, \"#fde0ef\"], [0.5, \"#f7f7f7\"], [0.6, \"#e6f5d0\"], [0.7, \"#b8e186\"], [0.8, \"#7fbc41\"], [0.9, \"#4d9221\"], [1, \"#276419\"]], \"sequential\": [[0.0, \"#0d0887\"], [0.1111111111111111, \"#46039f\"], [0.2222222222222222, \"#7201a8\"], [0.3333333333333333, \"#9c179e\"], [0.4444444444444444, \"#bd3786\"], [0.5555555555555556, \"#d8576b\"], [0.6666666666666666, \"#ed7953\"], [0.7777777777777778, \"#fb9f3a\"], [0.8888888888888888, \"#fdca26\"], [1.0, \"#f0f921\"]], \"sequentialminus\": [[0.0, \"#0d0887\"], [0.1111111111111111, \"#46039f\"], [0.2222222222222222, \"#7201a8\"], [0.3333333333333333, \"#9c179e\"], [0.4444444444444444, \"#bd3786\"], [0.5555555555555556, \"#d8576b\"], [0.6666666666666666, \"#ed7953\"], [0.7777777777777778, \"#fb9f3a\"], [0.8888888888888888, \"#fdca26\"], [1.0, \"#f0f921\"]]}, \"colorway\": [\"#636efa\", \"#EF553B\", \"#00cc96\", \"#ab63fa\", \"#FFA15A\", \"#19d3f3\", \"#FF6692\", \"#B6E880\", \"#FF97FF\", \"#FECB52\"], \"font\": {\"color\": \"#2a3f5f\"}, \"geo\": {\"bgcolor\": \"white\", \"lakecolor\": \"white\", \"landcolor\": \"white\", \"showlakes\": true, \"showland\": true, \"subunitcolor\": \"#C8D4E3\"}, \"hoverlabel\": {\"align\": \"left\"}, \"hovermode\": \"closest\", \"mapbox\": {\"style\": \"light\"}, \"paper_bgcolor\": \"white\", \"plot_bgcolor\": \"white\", \"polar\": {\"angularaxis\": {\"gridcolor\": \"#EBF0F8\", \"linecolor\": \"#EBF0F8\", \"ticks\": \"\"}, \"bgcolor\": \"white\", \"radialaxis\": {\"gridcolor\": \"#EBF0F8\", \"linecolor\": \"#EBF0F8\", \"ticks\": \"\"}}, \"scene\": {\"xaxis\": {\"backgroundcolor\": \"white\", \"gridcolor\": \"#DFE8F3\", \"gridwidth\": 2, \"linecolor\": \"#EBF0F8\", \"showbackground\": true, \"ticks\": \"\", \"zerolinecolor\": \"#EBF0F8\"}, \"yaxis\": {\"backgroundcolor\": \"white\", \"gridcolor\": \"#DFE8F3\", \"gridwidth\": 2, \"linecolor\": \"#EBF0F8\", \"showbackground\": true, \"ticks\": \"\", \"zerolinecolor\": \"#EBF0F8\"}, \"zaxis\": {\"backgroundcolor\": \"white\", \"gridcolor\": \"#DFE8F3\", \"gridwidth\": 2, \"linecolor\": \"#EBF0F8\", \"showbackground\": true, \"ticks\": \"\", \"zerolinecolor\": \"#EBF0F8\"}}, \"shapedefaults\": {\"line\": {\"color\": \"#2a3f5f\"}}, \"ternary\": {\"aaxis\": {\"gridcolor\": \"#DFE8F3\", \"linecolor\": \"#A2B1C6\", \"ticks\": \"\"}, \"baxis\": {\"gridcolor\": \"#DFE8F3\", \"linecolor\": \"#A2B1C6\", \"ticks\": \"\"}, \"bgcolor\": \"white\", \"caxis\": {\"gridcolor\": \"#DFE8F3\", \"linecolor\": \"#A2B1C6\", \"ticks\": \"\"}}, \"title\": {\"x\": 0.05}, \"xaxis\": {\"automargin\": true, \"gridcolor\": \"#EBF0F8\", \"linecolor\": \"#EBF0F8\", \"ticks\": \"\", \"title\": {\"standoff\": 15}, \"zerolinecolor\": \"#EBF0F8\", \"zerolinewidth\": 2}, \"yaxis\": {\"automargin\": true, \"gridcolor\": \"#EBF0F8\", \"linecolor\": \"#EBF0F8\", \"ticks\": \"\", \"title\": {\"standoff\": 15}, \"zerolinecolor\": \"#EBF0F8\", \"zerolinewidth\": 2}}}, \"title\": {\"text\": \"Cross Entropy vs. Epochs\"}, \"xaxis\": {\"title\": {\"text\": \"Epochs\"}}, \"yaxis\": {\"title\": {\"text\": \"Cross Entropy\"}}},\n",
       "                        {\"responsive\": true}\n",
       "                    ).then(function(){\n",
       "                            \n",
       "var gd = document.getElementById('07c46970-3dee-44f0-8831-974130e6ec69');\n",
       "var x = new MutationObserver(function (mutations, observer) {{\n",
       "        var display = window.getComputedStyle(gd).display;\n",
       "        if (!display || display === 'none') {{\n",
       "            console.log([gd, 'removed!']);\n",
       "            Plotly.purge(gd);\n",
       "            observer.disconnect();\n",
       "        }}\n",
       "}});\n",
       "\n",
       "// Listen for the removal of the full notebook cells\n",
       "var notebookContainer = gd.closest('#notebook-container');\n",
       "if (notebookContainer) {{\n",
       "    x.observe(notebookContainer, {childList: true});\n",
       "}}\n",
       "\n",
       "// Listen for the clearing of the current output cell\n",
       "var outputEl = gd.closest('.output');\n",
       "if (outputEl) {{\n",
       "    x.observe(outputEl, {childList: true});\n",
       "}}\n",
       "\n",
       "                        })\n",
       "                };\n",
       "                });\n",
       "            </script>\n",
       "        </div>"
      ]
     },
     "metadata": {},
     "output_type": "display_data"
    }
   ],
   "source": [
    "fig = go.Figure()\n",
    "\n",
    "fig.add_trace(go.Scatter(x=np.arange(1, len(valid_losses)),\n",
    "                         y=valid_losses, mode=\"lines+markers\", name=\"valid\",\n",
    "                         marker=dict(color=\"indianred\", line=dict(width=.5,\n",
    "                                                                  color='rgb(0, 0, 0)'))))\n",
    "\n",
    "fig.add_trace(go.Scatter(x=np.arange(1, len(train_losses)),\n",
    "                         y=train_losses, mode=\"lines+markers\", name=\"train\",\n",
    "                         marker=dict(color=\"darkorange\", line=dict(width=.5,\n",
    "                                                                   color='rgb(0, 0, 0)'))))\n",
    "\n",
    "fig.update_layout(xaxis_title=\"Epochs\", yaxis_title=\"Cross Entropy\",\n",
    "                  title_text=\"Cross Entropy vs. Epochs\", template=\"plotly_white\", paper_bgcolor=\"#f0f0f0\")\n",
    "\n",
    "fig.show()"
   ]
  },
  {
   "cell_type": "markdown",
   "execution_count": null,
   "metadata": {
    "papermill": {
     "duration": 0.01563,
     "end_time": "2020-08-15T18:51:48.845390",
     "exception": false,
     "start_time": "2020-08-15T18:51:48.829760",
     "status": "completed"
    },
    "tags": []
   },
   "source": [
    "The loss seems to converge over time towards a good value (0.18)."
   ]
  },
  {
   "cell_type": "code",
   "execution_count": 15,
   "metadata": {
    "_kg_hide-input": true,
    "execution": {
     "iopub.execute_input": "2020-08-15T18:51:48.911070Z",
     "iopub.status.busy": "2020-08-15T18:51:48.910056Z",
     "iopub.status.idle": "2020-08-15T18:51:48.979088Z",
     "shell.execute_reply": "2020-08-15T18:51:48.977478Z"
    },
    "papermill": {
     "duration": 0.109201,
     "end_time": "2020-08-15T18:51:48.979426",
     "exception": false,
     "start_time": "2020-08-15T18:51:48.870225",
     "status": "completed"
    },
    "tags": []
   },
   "outputs": [
    {
     "data": {
      "text/html": [
       "<div>\n",
       "        \n",
       "        \n",
       "            <div id=\"0bdefb0a-253d-41f4-a4ee-95a560397dbc\" class=\"plotly-graph-div\" style=\"height:525px; width:100%;\"></div>\n",
       "            <script type=\"text/javascript\">\n",
       "                require([\"plotly\"], function(Plotly) {\n",
       "                    window.PLOTLYENV=window.PLOTLYENV || {};\n",
       "                    \n",
       "                if (document.getElementById(\"0bdefb0a-253d-41f4-a4ee-95a560397dbc\")) {\n",
       "                    Plotly.newPlot(\n",
       "                        '0bdefb0a-253d-41f4-a4ee-95a560397dbc',\n",
       "                        [{\"marker\": {\"color\": \"indianred\", \"line\": {\"color\": \"rgb(0, 0, 0)\", \"width\": 0.5}}, \"mode\": \"lines+markers\", \"name\": \"valid\", \"type\": \"scatter\", \"x\": [1, 2, 3, 4, 5, 6, 7, 8, 9, 10, 11, 12, 13, 14, 15, 16, 17, 18, 19], \"y\": [0.879, 0.915, 0.931, 0.936, 0.942, 0.943, 0.946, 0.946, 0.948, 0.947, 0.95, 0.948, 0.952, 0.951, 0.952, 0.954, 0.953, 0.95, 0.953, 0.95]}, {\"marker\": {\"color\": \"darkorange\", \"line\": {\"color\": \"rgb(0, 0, 0)\", \"width\": 0.5}}, \"mode\": \"lines+markers\", \"name\": \"train\", \"type\": \"scatter\", \"x\": [1, 2, 3, 4, 5, 6, 7, 8, 9, 10, 11, 12, 13, 14, 15, 16, 17, 18, 19], \"y\": [0.6808787878787879, 0.8970606060606061, 0.925878787878788, 0.9367575757575758, 0.9444848484848485, 0.9493636363636364, 0.9541212121212121, 0.9567575757575757, 0.9586666666666667, 0.9615757575757575, 0.9633333333333333, 0.9635757575757575, 0.9650909090909092, 0.9682424242424242, 0.972121212121212, 0.972121212121212, 0.9746969696969696, 0.9747575757575756, 0.9743333333333333, 0.9766363636363636]}],\n",
       "                        {\"paper_bgcolor\": \"#f0f0f0\", \"template\": {\"data\": {\"bar\": [{\"error_x\": {\"color\": \"#2a3f5f\"}, \"error_y\": {\"color\": \"#2a3f5f\"}, \"marker\": {\"line\": {\"color\": \"white\", \"width\": 0.5}}, \"type\": \"bar\"}], \"barpolar\": [{\"marker\": {\"line\": {\"color\": \"white\", \"width\": 0.5}}, \"type\": \"barpolar\"}], \"carpet\": [{\"aaxis\": {\"endlinecolor\": \"#2a3f5f\", \"gridcolor\": \"#C8D4E3\", \"linecolor\": \"#C8D4E3\", \"minorgridcolor\": \"#C8D4E3\", \"startlinecolor\": \"#2a3f5f\"}, \"baxis\": {\"endlinecolor\": \"#2a3f5f\", \"gridcolor\": \"#C8D4E3\", \"linecolor\": \"#C8D4E3\", \"minorgridcolor\": \"#C8D4E3\", \"startlinecolor\": \"#2a3f5f\"}, \"type\": \"carpet\"}], \"choropleth\": [{\"colorbar\": {\"outlinewidth\": 0, \"ticks\": \"\"}, \"type\": \"choropleth\"}], \"contour\": [{\"colorbar\": {\"outlinewidth\": 0, \"ticks\": \"\"}, \"colorscale\": [[0.0, \"#0d0887\"], [0.1111111111111111, \"#46039f\"], [0.2222222222222222, \"#7201a8\"], [0.3333333333333333, \"#9c179e\"], [0.4444444444444444, \"#bd3786\"], [0.5555555555555556, \"#d8576b\"], [0.6666666666666666, \"#ed7953\"], [0.7777777777777778, \"#fb9f3a\"], [0.8888888888888888, \"#fdca26\"], [1.0, \"#f0f921\"]], \"type\": \"contour\"}], \"contourcarpet\": [{\"colorbar\": {\"outlinewidth\": 0, \"ticks\": \"\"}, \"type\": \"contourcarpet\"}], \"heatmap\": [{\"colorbar\": {\"outlinewidth\": 0, \"ticks\": \"\"}, \"colorscale\": [[0.0, \"#0d0887\"], [0.1111111111111111, \"#46039f\"], [0.2222222222222222, \"#7201a8\"], [0.3333333333333333, \"#9c179e\"], [0.4444444444444444, \"#bd3786\"], [0.5555555555555556, \"#d8576b\"], [0.6666666666666666, \"#ed7953\"], [0.7777777777777778, \"#fb9f3a\"], [0.8888888888888888, \"#fdca26\"], [1.0, \"#f0f921\"]], \"type\": \"heatmap\"}], \"heatmapgl\": [{\"colorbar\": {\"outlinewidth\": 0, \"ticks\": \"\"}, \"colorscale\": [[0.0, \"#0d0887\"], [0.1111111111111111, \"#46039f\"], [0.2222222222222222, \"#7201a8\"], [0.3333333333333333, \"#9c179e\"], [0.4444444444444444, \"#bd3786\"], [0.5555555555555556, \"#d8576b\"], [0.6666666666666666, \"#ed7953\"], [0.7777777777777778, \"#fb9f3a\"], [0.8888888888888888, \"#fdca26\"], [1.0, \"#f0f921\"]], \"type\": \"heatmapgl\"}], \"histogram\": [{\"marker\": {\"colorbar\": {\"outlinewidth\": 0, \"ticks\": \"\"}}, \"type\": \"histogram\"}], \"histogram2d\": [{\"colorbar\": {\"outlinewidth\": 0, \"ticks\": \"\"}, \"colorscale\": [[0.0, \"#0d0887\"], [0.1111111111111111, \"#46039f\"], [0.2222222222222222, \"#7201a8\"], [0.3333333333333333, \"#9c179e\"], [0.4444444444444444, \"#bd3786\"], [0.5555555555555556, \"#d8576b\"], [0.6666666666666666, \"#ed7953\"], [0.7777777777777778, \"#fb9f3a\"], [0.8888888888888888, \"#fdca26\"], [1.0, \"#f0f921\"]], \"type\": \"histogram2d\"}], \"histogram2dcontour\": [{\"colorbar\": {\"outlinewidth\": 0, \"ticks\": \"\"}, \"colorscale\": [[0.0, \"#0d0887\"], [0.1111111111111111, \"#46039f\"], [0.2222222222222222, \"#7201a8\"], [0.3333333333333333, \"#9c179e\"], [0.4444444444444444, \"#bd3786\"], [0.5555555555555556, \"#d8576b\"], [0.6666666666666666, \"#ed7953\"], [0.7777777777777778, \"#fb9f3a\"], [0.8888888888888888, \"#fdca26\"], [1.0, \"#f0f921\"]], \"type\": \"histogram2dcontour\"}], \"mesh3d\": [{\"colorbar\": {\"outlinewidth\": 0, \"ticks\": \"\"}, \"type\": \"mesh3d\"}], \"parcoords\": [{\"line\": {\"colorbar\": {\"outlinewidth\": 0, \"ticks\": \"\"}}, \"type\": \"parcoords\"}], \"pie\": [{\"automargin\": true, \"type\": \"pie\"}], \"scatter\": [{\"marker\": {\"colorbar\": {\"outlinewidth\": 0, \"ticks\": \"\"}}, \"type\": \"scatter\"}], \"scatter3d\": [{\"line\": {\"colorbar\": {\"outlinewidth\": 0, \"ticks\": \"\"}}, \"marker\": {\"colorbar\": {\"outlinewidth\": 0, \"ticks\": \"\"}}, \"type\": \"scatter3d\"}], \"scattercarpet\": [{\"marker\": {\"colorbar\": {\"outlinewidth\": 0, \"ticks\": \"\"}}, \"type\": \"scattercarpet\"}], \"scattergeo\": [{\"marker\": {\"colorbar\": {\"outlinewidth\": 0, \"ticks\": \"\"}}, \"type\": \"scattergeo\"}], \"scattergl\": [{\"marker\": {\"colorbar\": {\"outlinewidth\": 0, \"ticks\": \"\"}}, \"type\": \"scattergl\"}], \"scattermapbox\": [{\"marker\": {\"colorbar\": {\"outlinewidth\": 0, \"ticks\": \"\"}}, \"type\": \"scattermapbox\"}], \"scatterpolar\": [{\"marker\": {\"colorbar\": {\"outlinewidth\": 0, \"ticks\": \"\"}}, \"type\": \"scatterpolar\"}], \"scatterpolargl\": [{\"marker\": {\"colorbar\": {\"outlinewidth\": 0, \"ticks\": \"\"}}, \"type\": \"scatterpolargl\"}], \"scatterternary\": [{\"marker\": {\"colorbar\": {\"outlinewidth\": 0, \"ticks\": \"\"}}, \"type\": \"scatterternary\"}], \"surface\": [{\"colorbar\": {\"outlinewidth\": 0, \"ticks\": \"\"}, \"colorscale\": [[0.0, \"#0d0887\"], [0.1111111111111111, \"#46039f\"], [0.2222222222222222, \"#7201a8\"], [0.3333333333333333, \"#9c179e\"], [0.4444444444444444, \"#bd3786\"], [0.5555555555555556, \"#d8576b\"], [0.6666666666666666, \"#ed7953\"], [0.7777777777777778, \"#fb9f3a\"], [0.8888888888888888, \"#fdca26\"], [1.0, \"#f0f921\"]], \"type\": \"surface\"}], \"table\": [{\"cells\": {\"fill\": {\"color\": \"#EBF0F8\"}, \"line\": {\"color\": \"white\"}}, \"header\": {\"fill\": {\"color\": \"#C8D4E3\"}, \"line\": {\"color\": \"white\"}}, \"type\": \"table\"}]}, \"layout\": {\"annotationdefaults\": {\"arrowcolor\": \"#2a3f5f\", \"arrowhead\": 0, \"arrowwidth\": 1}, \"coloraxis\": {\"colorbar\": {\"outlinewidth\": 0, \"ticks\": \"\"}}, \"colorscale\": {\"diverging\": [[0, \"#8e0152\"], [0.1, \"#c51b7d\"], [0.2, \"#de77ae\"], [0.3, \"#f1b6da\"], [0.4, \"#fde0ef\"], [0.5, \"#f7f7f7\"], [0.6, \"#e6f5d0\"], [0.7, \"#b8e186\"], [0.8, \"#7fbc41\"], [0.9, \"#4d9221\"], [1, \"#276419\"]], \"sequential\": [[0.0, \"#0d0887\"], [0.1111111111111111, \"#46039f\"], [0.2222222222222222, \"#7201a8\"], [0.3333333333333333, \"#9c179e\"], [0.4444444444444444, \"#bd3786\"], [0.5555555555555556, \"#d8576b\"], [0.6666666666666666, \"#ed7953\"], [0.7777777777777778, \"#fb9f3a\"], [0.8888888888888888, \"#fdca26\"], [1.0, \"#f0f921\"]], \"sequentialminus\": [[0.0, \"#0d0887\"], [0.1111111111111111, \"#46039f\"], [0.2222222222222222, \"#7201a8\"], [0.3333333333333333, \"#9c179e\"], [0.4444444444444444, \"#bd3786\"], [0.5555555555555556, \"#d8576b\"], [0.6666666666666666, \"#ed7953\"], [0.7777777777777778, \"#fb9f3a\"], [0.8888888888888888, \"#fdca26\"], [1.0, \"#f0f921\"]]}, \"colorway\": [\"#636efa\", \"#EF553B\", \"#00cc96\", \"#ab63fa\", \"#FFA15A\", \"#19d3f3\", \"#FF6692\", \"#B6E880\", \"#FF97FF\", \"#FECB52\"], \"font\": {\"color\": \"#2a3f5f\"}, \"geo\": {\"bgcolor\": \"white\", \"lakecolor\": \"white\", \"landcolor\": \"white\", \"showlakes\": true, \"showland\": true, \"subunitcolor\": \"#C8D4E3\"}, \"hoverlabel\": {\"align\": \"left\"}, \"hovermode\": \"closest\", \"mapbox\": {\"style\": \"light\"}, \"paper_bgcolor\": \"white\", \"plot_bgcolor\": \"white\", \"polar\": {\"angularaxis\": {\"gridcolor\": \"#EBF0F8\", \"linecolor\": \"#EBF0F8\", \"ticks\": \"\"}, \"bgcolor\": \"white\", \"radialaxis\": {\"gridcolor\": \"#EBF0F8\", \"linecolor\": \"#EBF0F8\", \"ticks\": \"\"}}, \"scene\": {\"xaxis\": {\"backgroundcolor\": \"white\", \"gridcolor\": \"#DFE8F3\", \"gridwidth\": 2, \"linecolor\": \"#EBF0F8\", \"showbackground\": true, \"ticks\": \"\", \"zerolinecolor\": \"#EBF0F8\"}, \"yaxis\": {\"backgroundcolor\": \"white\", \"gridcolor\": \"#DFE8F3\", \"gridwidth\": 2, \"linecolor\": \"#EBF0F8\", \"showbackground\": true, \"ticks\": \"\", \"zerolinecolor\": \"#EBF0F8\"}, \"zaxis\": {\"backgroundcolor\": \"white\", \"gridcolor\": \"#DFE8F3\", \"gridwidth\": 2, \"linecolor\": \"#EBF0F8\", \"showbackground\": true, \"ticks\": \"\", \"zerolinecolor\": \"#EBF0F8\"}}, \"shapedefaults\": {\"line\": {\"color\": \"#2a3f5f\"}}, \"ternary\": {\"aaxis\": {\"gridcolor\": \"#DFE8F3\", \"linecolor\": \"#A2B1C6\", \"ticks\": \"\"}, \"baxis\": {\"gridcolor\": \"#DFE8F3\", \"linecolor\": \"#A2B1C6\", \"ticks\": \"\"}, \"bgcolor\": \"white\", \"caxis\": {\"gridcolor\": \"#DFE8F3\", \"linecolor\": \"#A2B1C6\", \"ticks\": \"\"}}, \"title\": {\"x\": 0.05}, \"xaxis\": {\"automargin\": true, \"gridcolor\": \"#EBF0F8\", \"linecolor\": \"#EBF0F8\", \"ticks\": \"\", \"title\": {\"standoff\": 15}, \"zerolinecolor\": \"#EBF0F8\", \"zerolinewidth\": 2}, \"yaxis\": {\"automargin\": true, \"gridcolor\": \"#EBF0F8\", \"linecolor\": \"#EBF0F8\", \"ticks\": \"\", \"title\": {\"standoff\": 15}, \"zerolinecolor\": \"#EBF0F8\", \"zerolinewidth\": 2}}}, \"title\": {\"text\": \"Accuracy vs. Epochs\"}, \"xaxis\": {\"title\": {\"text\": \"Epochs\"}}, \"yaxis\": {\"title\": {\"text\": \"Accuracy\"}}},\n",
       "                        {\"responsive\": true}\n",
       "                    ).then(function(){\n",
       "                            \n",
       "var gd = document.getElementById('0bdefb0a-253d-41f4-a4ee-95a560397dbc');\n",
       "var x = new MutationObserver(function (mutations, observer) {{\n",
       "        var display = window.getComputedStyle(gd).display;\n",
       "        if (!display || display === 'none') {{\n",
       "            console.log([gd, 'removed!']);\n",
       "            Plotly.purge(gd);\n",
       "            observer.disconnect();\n",
       "        }}\n",
       "}});\n",
       "\n",
       "// Listen for the removal of the full notebook cells\n",
       "var notebookContainer = gd.closest('#notebook-container');\n",
       "if (notebookContainer) {{\n",
       "    x.observe(notebookContainer, {childList: true});\n",
       "}}\n",
       "\n",
       "// Listen for the clearing of the current output cell\n",
       "var outputEl = gd.closest('.output');\n",
       "if (outputEl) {{\n",
       "    x.observe(outputEl, {childList: true});\n",
       "}}\n",
       "\n",
       "                        })\n",
       "                };\n",
       "                });\n",
       "            </script>\n",
       "        </div>"
      ]
     },
     "metadata": {},
     "output_type": "display_data"
    }
   ],
   "source": [
    "fig = go.Figure()\n",
    "\n",
    "fig.add_trace(go.Scatter(x=np.arange(1, len(valid_accuracies)),\n",
    "                         y=valid_accuracies, mode=\"lines+markers\", name=\"valid\",\n",
    "                         marker=dict(color=\"indianred\", line=dict(width=.5,\n",
    "                                                                  color='rgb(0, 0, 0)'))))\n",
    "\n",
    "fig.add_trace(go.Scatter(x=np.arange(1, len(train_accuracies)),\n",
    "                         y=train_accuracies, mode=\"lines+markers\", name=\"train\",\n",
    "                         marker=dict(color=\"darkorange\", line=dict(width=.5,\n",
    "                                                                   color='rgb(0, 0, 0)'))))\n",
    "\n",
    "fig.update_layout(xaxis_title=\"Epochs\", yaxis_title=\"Accuracy\",\n",
    "                  title_text=\"Accuracy vs. Epochs\", template=\"plotly_white\", paper_bgcolor=\"#f0f0f0\")\n",
    "\n",
    "fig.show()"
   ]
  },
  {
   "cell_type": "markdown",
   "execution_count": null,
   "metadata": {
    "papermill": {
     "duration": 0.024404,
     "end_time": "2020-08-15T18:51:49.034222",
     "exception": false,
     "start_time": "2020-08-15T18:51:49.009818",
     "status": "completed"
    },
    "tags": []
   },
   "source": [
    "The accuracy seems to converge over time towards a good value (0.95)."
   ]
  },
  {
   "cell_type": "markdown",
   "execution_count": null,
   "metadata": {
    "papermill": {
     "duration": 0.023514,
     "end_time": "2020-08-15T18:51:49.082371",
     "exception": false,
     "start_time": "2020-08-15T18:51:49.058857",
     "status": "completed"
    },
    "tags": []
   },
   "source": [
    "## Run inference on the test data\n",
    "\n",
    "* The final step is to infer the model on the test data.\n",
    "* We create a test dataloader and iterate through it using a loop with <code>torch.no_grad()</code> enabled.\n",
    "* The generated predictions are passed through the <code>softmax</code> function to convert logits to probabilities."
   ]
  },
  {
   "cell_type": "code",
   "execution_count": 16,
   "metadata": {
    "execution": {
     "iopub.execute_input": "2020-08-15T18:51:49.137278Z",
     "iopub.status.busy": "2020-08-15T18:51:49.136366Z",
     "iopub.status.idle": "2020-08-15T18:51:49.143223Z",
     "shell.execute_reply": "2020-08-15T18:51:49.142238Z"
    },
    "papermill": {
     "duration": 0.037478,
     "end_time": "2020-08-15T18:51:49.143402",
     "exception": false,
     "start_time": "2020-08-15T18:51:49.105924",
     "status": "completed"
    },
    "tags": []
   },
   "outputs": [],
   "source": [
    "def softmax(x):\n",
    "    return np.exp(x)/np.sum(np.exp(x), axis=1)[:, None]"
   ]
  },
  {
   "cell_type": "code",
   "execution_count": 17,
   "metadata": {
    "execution": {
     "iopub.execute_input": "2020-08-15T18:51:49.209700Z",
     "iopub.status.busy": "2020-08-15T18:51:49.207769Z",
     "iopub.status.idle": "2020-08-15T18:51:50.487169Z",
     "shell.execute_reply": "2020-08-15T18:51:50.482957Z"
    },
    "papermill": {
     "duration": 1.317228,
     "end_time": "2020-08-15T18:51:50.487296",
     "exception": false,
     "start_time": "2020-08-15T18:51:49.170068",
     "status": "completed"
    },
    "tags": []
   },
   "outputs": [
    {
     "data": {
      "application/vnd.jupyter.widget-view+json": {
       "model_id": "ee0e8dda574242daa25aa8d1e2fae3e2",
       "version_major": 2,
       "version_minor": 0
      },
      "text/plain": [
       "HBox(children=(FloatProgress(value=0.0, max=28.0), HTML(value='')))"
      ]
     },
     "metadata": {},
     "output_type": "display_data"
    },
    {
     "name": "stdout",
     "output_type": "stream",
     "text": [
      "\n"
     ]
    }
   ],
   "source": [
    "test_set = MNISTDataset(test_df, X_col, y_col)\n",
    "test_loader = tqdm(DataLoader(test_set, batch_size=1024, shuffle=False))\n",
    "\n",
    "test_preds = []\n",
    "with torch.no_grad():\n",
    "    for test_X, _ in test_loader:\n",
    "        test_X = test_X.to(device)\n",
    "        test_pred = network.forward(test_X)\n",
    "        test_preds.append(softmax(test_pred.detach().cpu().numpy()))"
   ]
  },
  {
   "cell_type": "markdown",
   "execution_count": null,
   "metadata": {
    "papermill": {
     "duration": 0.017391,
     "end_time": "2020-08-15T18:51:50.524292",
     "exception": false,
     "start_time": "2020-08-15T18:51:50.506901",
     "status": "completed"
    },
    "tags": []
   },
   "source": [
    "## Prepare submission\n",
    "\n",
    "* Next, we find the indices of maximum probability using <code>np.argmax</code>.\n",
    "* These indices represent our final prediction from 0 to 9 (for the digit)."
   ]
  },
  {
   "cell_type": "code",
   "execution_count": 18,
   "metadata": {
    "execution": {
     "iopub.execute_input": "2020-08-15T18:51:50.564069Z",
     "iopub.status.busy": "2020-08-15T18:51:50.563397Z",
     "iopub.status.idle": "2020-08-15T18:51:50.578029Z",
     "shell.execute_reply": "2020-08-15T18:51:50.577147Z"
    },
    "papermill": {
     "duration": 0.036931,
     "end_time": "2020-08-15T18:51:50.578161",
     "exception": false,
     "start_time": "2020-08-15T18:51:50.541230",
     "status": "completed"
    },
    "tags": []
   },
   "outputs": [],
   "source": [
    "submission = pd.read_csv(\"../input/digit-recognizer/sample_submission.csv\")\n",
    "submission[\"Label\"] = np.argmax(np.concatenate(test_preds, axis=0), axis=1)"
   ]
  },
  {
   "cell_type": "markdown",
   "execution_count": null,
   "metadata": {
    "papermill": {
     "duration": 0.016332,
     "end_time": "2020-08-15T18:51:50.611608",
     "exception": false,
     "start_time": "2020-08-15T18:51:50.595276",
     "status": "completed"
    },
    "tags": []
   },
   "source": [
    "## Visualize predictions\n",
    "\n",
    "* Now, we visualize some sample test predictions.\n",
    "* The red label above each image is the prediction made by the model."
   ]
  },
  {
   "cell_type": "code",
   "execution_count": 19,
   "metadata": {
    "_kg_hide-input": true,
    "execution": {
     "iopub.execute_input": "2020-08-15T18:51:50.655997Z",
     "iopub.status.busy": "2020-08-15T18:51:50.654992Z",
     "iopub.status.idle": "2020-08-15T18:51:52.257024Z",
     "shell.execute_reply": "2020-08-15T18:51:52.256034Z"
    },
    "papermill": {
     "duration": 1.628354,
     "end_time": "2020-08-15T18:51:52.257150",
     "exception": false,
     "start_time": "2020-08-15T18:51:50.628796",
     "status": "completed"
    },
    "tags": []
   },
   "outputs": [
    {
     "data": {
      "image/png": "[encoded data removed]",
      "text/plain": [
       "<Figure size 1080x1080 with 36 Axes>"
      ]
     },
     "metadata": {
      "needs_background": "light"
     },
     "output_type": "display_data"
    }
   ],
   "source": [
    "test_batch = next(iter(test_loader))[0]\n",
    "test_X = test_batch.reshape(-1, 28, 28)[:36]\n",
    "fig, ax = plt.subplots(nrows=6, ncols=6, figsize=(15, 15))\n",
    "\n",
    "for i, image in enumerate(test_X):\n",
    "    ax[i//6][i%6].axis('off'); ax[i//6][i%6].imshow(image, cmap='gray')\n",
    "    ax[i//6][i%6].set_title(np.argmax(test_preds[0][i], axis=0), fontsize=20, color=\"red\")"
   ]
  },
  {
   "cell_type": "markdown",
   "execution_count": null,
   "metadata": {
    "papermill": {
     "duration": 0.018978,
     "end_time": "2020-08-15T18:51:52.296122",
     "exception": false,
     "start_time": "2020-08-15T18:51:52.277144",
     "status": "completed"
    },
    "tags": []
   },
   "source": [
    "The model is able to classify almost all images. But, it is getting confused in certain cases."
   ]
  },
  {
   "cell_type": "code",
   "execution_count": 20,
   "metadata": {
    "execution": {
     "iopub.execute_input": "2020-08-15T18:51:52.343711Z",
     "iopub.status.busy": "2020-08-15T18:51:52.342675Z",
     "iopub.status.idle": "2020-08-15T18:51:52.350941Z",
     "shell.execute_reply": "2020-08-15T18:51:52.350242Z"
    },
    "papermill": {
     "duration": 0.035689,
     "end_time": "2020-08-15T18:51:52.351046",
     "exception": false,
     "start_time": "2020-08-15T18:51:52.315357",
     "status": "completed"
    },
    "tags": []
   },
   "outputs": [
    {
     "data": {
      "text/html": [
       "<div>\n",
       "<style scoped>\n",
       "    .dataframe tbody tr th:only-of-type {\n",
       "        vertical-align: middle;\n",
       "    }\n",
       "\n",
       "    .dataframe tbody tr th {\n",
       "        vertical-align: top;\n",
       "    }\n",
       "\n",
       "    .dataframe thead th {\n",
       "        text-align: right;\n",
       "    }\n",
       "</style>\n",
       "<table border=\"1\" class=\"dataframe\">\n",
       "  <thead>\n",
       "    <tr style=\"text-align: right;\">\n",
       "      <th></th>\n",
       "      <th>ImageId</th>\n",
       "      <th>Label</th>\n",
       "    </tr>\n",
       "  </thead>\n",
       "  <tbody>\n",
       "    <tr>\n",
       "      <th>0</th>\n",
       "      <td>1</td>\n",
       "      <td>2</td>\n",
       "    </tr>\n",
       "    <tr>\n",
       "      <th>1</th>\n",
       "      <td>2</td>\n",
       "      <td>0</td>\n",
       "    </tr>\n",
       "    <tr>\n",
       "      <th>2</th>\n",
       "      <td>3</td>\n",
       "      <td>9</td>\n",
       "    </tr>\n",
       "    <tr>\n",
       "      <th>3</th>\n",
       "      <td>4</td>\n",
       "      <td>9</td>\n",
       "    </tr>\n",
       "    <tr>\n",
       "      <th>4</th>\n",
       "      <td>5</td>\n",
       "      <td>3</td>\n",
       "    </tr>\n",
       "    <tr>\n",
       "      <th>5</th>\n",
       "      <td>6</td>\n",
       "      <td>7</td>\n",
       "    </tr>\n",
       "    <tr>\n",
       "      <th>6</th>\n",
       "      <td>7</td>\n",
       "      <td>0</td>\n",
       "    </tr>\n",
       "    <tr>\n",
       "      <th>7</th>\n",
       "      <td>8</td>\n",
       "      <td>3</td>\n",
       "    </tr>\n",
       "    <tr>\n",
       "      <th>8</th>\n",
       "      <td>9</td>\n",
       "      <td>0</td>\n",
       "    </tr>\n",
       "    <tr>\n",
       "      <th>9</th>\n",
       "      <td>10</td>\n",
       "      <td>3</td>\n",
       "    </tr>\n",
       "  </tbody>\n",
       "</table>\n",
       "</div>"
      ],
      "text/plain": [
       "   ImageId  Label\n",
       "0        1      2\n",
       "1        2      0\n",
       "2        3      9\n",
       "3        4      9\n",
       "4        5      3\n",
       "5        6      7\n",
       "6        7      0\n",
       "7        8      3\n",
       "8        9      0\n",
       "9       10      3"
      ]
     },
     "execution_count": 20,
     "metadata": {},
     "output_type": "execute_result"
    }
   ],
   "source": [
    "submission.head(10)"
   ]
  },
  {
   "cell_type": "markdown",
   "execution_count": null,
   "metadata": {
    "papermill": {
     "duration": 0.016996,
     "end_time": "2020-08-15T18:51:52.387320",
     "exception": false,
     "start_time": "2020-08-15T18:51:52.370324",
     "status": "completed"
    },
    "tags": []
   },
   "source": [
    "## Submit submission file\n",
    "\n",
    "* Finally, we convert our submission dataframe to a .csv file for submission."
   ]
  },
  {
   "cell_type": "code",
   "execution_count": 21,
   "metadata": {
    "execution": {
     "iopub.execute_input": "2020-08-15T18:51:52.427400Z",
     "iopub.status.busy": "2020-08-15T18:51:52.426550Z",
     "iopub.status.idle": "2020-08-15T18:51:52.527374Z",
     "shell.execute_reply": "2020-08-15T18:51:52.526823Z"
    },
    "papermill": {
     "duration": 0.122721,
     "end_time": "2020-08-15T18:51:52.527509",
     "exception": false,
     "start_time": "2020-08-15T18:51:52.404788",
     "status": "completed"
    },
    "tags": []
   },
   "outputs": [],
   "source": [
    "submission.to_csv(\"submission.csv\", index=False)"
   ]
  },
  {
   "cell_type": "markdown",
   "execution_count": null,
   "metadata": {
    "papermill": {
     "duration": 0.017757,
     "end_time": "2020-08-15T18:51:52.564031",
     "exception": false,
     "start_time": "2020-08-15T18:51:52.546274",
     "status": "completed"
    },
    "tags": []
   },
   "source": [
    "# Takeaways\n",
    "\n",
    "* The MLP model is able to predict handwritten digits with an accuracy of 94.7 %.\n",
    "* The performance can be improved by using Convolutional Neural Networks (CNNs).\n",
    "* CNNs are specialized architectures made for computer vision (built to understand spatial features).\n",
    "* Using a flattened 784D vector makes it difficult to capture spatial relationships. But, an MLP is a great start."
   ]
  }
 ],
 "metadata": {
  "kernelspec": {
   "display_name": "Python 3",
   "language": "python",
   "name": "python3"
  },
  "language_info": {
   "codemirror_mode": {
    "name": "ipython",
    "version": 3
   },
   "file_extension": ".py",
   "mimetype": "text/x-python",
   "name": "python",
   "nbconvert_exporter": "python",
   "pygments_lexer": "ipython3",
   "version": "3.7.6"
  },
  "papermill": {
   "duration": 68.468629,
   "end_time": "2020-08-15T18:51:53.089942",
   "environment_variables": {},
   "exception": null,
   "input_path": "__notebook__.ipynb",
   "output_path": "__notebook__.ipynb",
   "parameters": {},
   "start_time": "2020-08-15T18:50:44.621313",
   "version": "2.1.0"
  },
  "widgets": {
   "application/vnd.jupyter.widget-state+json": {
    "state": {
     "1af88e0c580e4402bf46262c52b2847c": {
      "model_module": "@jupyter-widgets/controls",
      "model_module_version": "1.5.0",
      "model_name": "HTMLModel",
      "state": {
       "_dom_classes": [],
       "_model_module": "@jupyter-widgets/controls",
       "_model_module_version": "1.5.0",
       "_model_name": "HTMLModel",
       "_view_count": null,
       "_view_module": "@jupyter-widgets/controls",
       "_view_module_version": "1.5.0",
       "_view_name": "HTMLView",
       "description": "",
       "description_tooltip": null,
       "layout": "IPY_MODEL_b1e5c2f849ba456486eb7eb04713051d",
       "placeholder": "​",
       "style": "IPY_MODEL_8c9604da3dc1459d92049c44a29b8a23",
       "value": " 28/28 [00:01&lt;00:00, 23.43it/s]"
      }
     },
     "38b7ffa5c23f4f56b23c31e4fc1cb09f": {
      "model_module": "@jupyter-widgets/base",
      "model_module_version": "1.2.0",
      "model_name": "LayoutModel",
      "state": {
       "_model_module": "@jupyter-widgets/base",
       "_model_module_version": "1.2.0",
       "_model_name": "LayoutModel",
       "_view_count": null,
       "_view_module": "@jupyter-widgets/base",
       "_view_module_version": "1.2.0",
       "_view_name": "LayoutView",
       "align_content": null,
       "align_items": null,
       "align_self": null,
       "border": null,
       "bottom": null,
       "display": null,
       "flex": null,
       "flex_flow": null,
       "grid_area": null,
       "grid_auto_columns": null,
       "grid_auto_flow": null,
       "grid_auto_rows": null,
       "grid_column": null,
       "grid_gap": null,
       "grid_row": null,
       "grid_template_areas": null,
       "grid_template_columns": null,
       "grid_template_rows": null,
       "height": null,
       "justify_content": null,
       "justify_items": null,
       "left": null,
       "margin": null,
       "max_height": null,
       "max_width": null,
       "min_height": null,
       "min_width": null,
       "object_fit": null,
       "object_position": null,
       "order": null,
       "overflow": null,
       "overflow_x": null,
       "overflow_y": null,
       "padding": null,
       "right": null,
       "top": null,
       "visibility": null,
       "width": null
      }
     },
     "4fa32004adda474ca8f1ceab63d1b97f": {
      "model_module": "@jupyter-widgets/base",
      "model_module_version": "1.2.0",
      "model_name": "LayoutModel",
      "state": {
       "_model_module": "@jupyter-widgets/base",
       "_model_module_version": "1.2.0",
       "_model_name": "LayoutModel",
       "_view_count": null,
       "_view_module": "@jupyter-widgets/base",
       "_view_module_version": "1.2.0",
       "_view_name": "LayoutView",
       "align_content": null,
       "align_items": null,
       "align_self": null,
       "border": null,
       "bottom": null,
       "display": null,
       "flex": null,
       "flex_flow": null,
       "grid_area": null,
       "grid_auto_columns": null,
       "grid_auto_flow": null,
       "grid_auto_rows": null,
       "grid_column": null,
       "grid_gap": null,
       "grid_row": null,
       "grid_template_areas": null,
       "grid_template_columns": null,
       "grid_template_rows": null,
       "height": null,
       "justify_content": null,
       "justify_items": null,
       "left": null,
       "margin": null,
       "max_height": null,
       "max_width": null,
       "min_height": null,
       "min_width": null,
       "object_fit": null,
       "object_position": null,
       "order": null,
       "overflow": null,
       "overflow_x": null,
       "overflow_y": null,
       "padding": null,
       "right": null,
       "top": null,
       "visibility": null,
       "width": null
      }
     },
     "7ffd5c805cdf4f9187e5c3f29d6a582e": {
      "model_module": "@jupyter-widgets/controls",
      "model_module_version": "1.5.0",
      "model_name": "FloatProgressModel",
      "state": {
       "_dom_classes": [],
       "_model_module": "@jupyter-widgets/controls",
       "_model_module_version": "1.5.0",
       "_model_name": "FloatProgressModel",
       "_view_count": null,
       "_view_module": "@jupyter-widgets/controls",
       "_view_module_version": "1.5.0",
       "_view_name": "ProgressView",
       "bar_style": "danger",
       "description": "100%",
       "description_tooltip": null,
       "layout": "IPY_MODEL_38b7ffa5c23f4f56b23c31e4fc1cb09f",
       "max": 28.0,
       "min": 0.0,
       "orientation": "horizontal",
       "style": "IPY_MODEL_bcd2be8841c541b48fcd7954a442bb4a",
       "value": 28.0
      }
     },
     "8c9604da3dc1459d92049c44a29b8a23": {
      "model_module": "@jupyter-widgets/controls",
      "model_module_version": "1.5.0",
      "model_name": "DescriptionStyleModel",
      "state": {
       "_model_module": "@jupyter-widgets/controls",
       "_model_module_version": "1.5.0",
       "_model_name": "DescriptionStyleModel",
       "_view_count": null,
       "_view_module": "@jupyter-widgets/base",
       "_view_module_version": "1.2.0",
       "_view_name": "StyleView",
       "description_width": ""
      }
     },
     "b1e5c2f849ba456486eb7eb04713051d": {
      "model_module": "@jupyter-widgets/base",
      "model_module_version": "1.2.0",
      "model_name": "LayoutModel",
      "state": {
       "_model_module": "@jupyter-widgets/base",
       "_model_module_version": "1.2.0",
       "_model_name": "LayoutModel",
       "_view_count": null,
       "_view_module": "@jupyter-widgets/base",
       "_view_module_version": "1.2.0",
       "_view_name": "LayoutView",
       "align_content": null,
       "align_items": null,
       "align_self": null,
       "border": null,
       "bottom": null,
       "display": null,
       "flex": null,
       "flex_flow": null,
       "grid_area": null,
       "grid_auto_columns": null,
       "grid_auto_flow": null,
       "grid_auto_rows": null,
       "grid_column": null,
       "grid_gap": null,
       "grid_row": null,
       "grid_template_areas": null,
       "grid_template_columns": null,
       "grid_template_rows": null,
       "height": null,
       "justify_content": null,
       "justify_items": null,
       "left": null,
       "margin": null,
       "max_height": null,
       "max_width": null,
       "min_height": null,
       "min_width": null,
       "object_fit": null,
       "object_position": null,
       "order": null,
       "overflow": null,
       "overflow_x": null,
       "overflow_y": null,
       "padding": null,
       "right": null,
       "top": null,
       "visibility": null,
       "width": null
      }
     },
     "bcd2be8841c541b48fcd7954a442bb4a": {
      "model_module": "@jupyter-widgets/controls",
      "model_module_version": "1.5.0",
      "model_name": "ProgressStyleModel",
      "state": {
       "_model_module": "@jupyter-widgets/controls",
       "_model_module_version": "1.5.0",
       "_model_name": "ProgressStyleModel",
       "_view_count": null,
       "_view_module": "@jupyter-widgets/base",
       "_view_module_version": "1.2.0",
       "_view_name": "StyleView",
       "bar_color": null,
       "description_width": "initial"
      }
     },
     "ee0e8dda574242daa25aa8d1e2fae3e2": {
      "model_module": "@jupyter-widgets/controls",
      "model_module_version": "1.5.0",
      "model_name": "HBoxModel",
      "state": {
       "_dom_classes": [],
       "_model_module": "@jupyter-widgets/controls",
       "_model_module_version": "1.5.0",
       "_model_name": "HBoxModel",
       "_view_count": null,
       "_view_module": "@jupyter-widgets/controls",
       "_view_module_version": "1.5.0",
       "_view_name": "HBoxView",
       "box_style": "",
       "children": [
        "IPY_MODEL_7ffd5c805cdf4f9187e5c3f29d6a582e",
        "IPY_MODEL_1af88e0c580e4402bf46262c52b2847c"
       ],
       "layout": "IPY_MODEL_4fa32004adda474ca8f1ceab63d1b97f"
      }
     }
    },
    "version_major": 2,
    "version_minor": 0
   }
  }
 },
 "nbformat": 4,
 "nbformat_minor": 4
}
