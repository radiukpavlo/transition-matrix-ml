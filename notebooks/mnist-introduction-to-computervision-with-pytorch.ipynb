{
 "cells": [
  {
   "cell_type": "markdown",
   "metadata": {},
   "source": [
    "## Introduction\n",
    "Every once in a while, a python library is developed that has the potential of changing the landscape in the field of Deep Learning. PyTorch is one such library. In the last few weeks, I have been dabbling a bit in PyTorch. I have been blown away by how easy it is to grasp. Among the various deep learning libraries I have used till date – PyTorch has been the most flexible and effortless of them all.\n",
    "\n",
    "Now we're going to build a larger network that can solve a (formerly) difficult problem, identifying text in an image. Here we'll use the MNIST dataset which consists of greyscale handwritten digits. Each image is 28x28 pixels, you can see a sample below\n",
    "\n",
    "![MNIST](https://github.com/abhinand5/intro-to-pytorch/raw/8255d46031d127f57a7727a5e8a65ed9d3676e3a/intro-to-pytorch/assets/mnist.png)\n",
    "\n",
    "Our goal is to build a neural network that can take one of these images and predict the digit in the image. Let's get straight into it\n",
    "\n",
    "### **If you like this kernel or wish to fork it, please UPVOTE to show your support.**"
   ]
  },
  {
   "cell_type": "markdown",
   "metadata": {},
   "source": [
    "## Import Libraries"
   ]
  },
  {
   "cell_type": "code",
   "execution_count": 1,
   "metadata": {
    "_cell_guid": "b1076dfc-b9ad-4769-8c92-a6c4dae69d19",
    "_uuid": "8f2839f25d086af736a60e9eeb907d3b93b6e0e5"
   },
   "outputs": [
    {
     "name": "stdout",
     "output_type": "stream",
     "text": [
      "['train.csv', 'sample_submission.csv', 'test.csv']\n"
     ]
    }
   ],
   "source": [
    "import numpy as np # linear algebra\n",
    "import pandas as pd # data processing, CSV file I/O (e.g. pd.read_csv)\n",
    "import matplotlib.pyplot as plt # for plotting beautiful graphs\n",
    "\n",
    "# train test split from sklearn\n",
    "from sklearn.model_selection import train_test_split\n",
    "\n",
    "# Import Torch \n",
    "import torch\n",
    "import torch.nn as nn\n",
    "from torchvision import transforms, models\n",
    "# from torch.utils.data import SubsetRandomSampler\n",
    "from torch.autograd import Variable\n",
    "from torch import nn, optim\n",
    "import torch.nn.functional as F\n",
    "\n",
    "# What's in the current directory?\n",
    "import os\n",
    "print(os.listdir(\"../input\"))"
   ]
  },
  {
   "cell_type": "markdown",
   "metadata": {},
   "source": [
    "## Import the Data"
   ]
  },
  {
   "cell_type": "code",
   "execution_count": 2,
   "metadata": {},
   "outputs": [
    {
     "data": {
      "text/plain": [
       "0    1.0\n",
       "1    0.0\n",
       "2    1.0\n",
       "3    4.0\n",
       "4    0.0\n",
       "Name: label, dtype: float32"
      ]
     },
     "execution_count": 2,
     "metadata": {},
     "output_type": "execute_result"
    }
   ],
   "source": [
    "train = pd.read_csv(\"../input/train.csv\", dtype=np.float32)\n",
    "final_test = pd.read_csv(\"../input/test.csv\", dtype=np.float32)\n",
    "sample_sub = pd.read_csv(\"../input/sample_submission.csv\")\n",
    "train.label.head()"
   ]
  },
  {
   "cell_type": "code",
   "execution_count": 3,
   "metadata": {},
   "outputs": [
    {
     "name": "stdout",
     "output_type": "stream",
     "text": [
      "<class 'pandas.core.frame.DataFrame'>\n",
      "RangeIndex: 42000 entries, 0 to 41999\n",
      "Columns: 785 entries, label to pixel783\n",
      "dtypes: float32(785)\n",
      "memory usage: 125.8 MB\n"
     ]
    }
   ],
   "source": [
    "train.info()"
   ]
  },
  {
   "cell_type": "markdown",
   "metadata": {},
   "source": [
    "## Preparing Dataset\n",
    "* What we are doing here is taking the raw dataset and splitting into targets and features. Dividing by 255 makes each pixel value to scale between 0 and 1 instead of 0 and 255, which helps in training our model. This step in Machine Learning is generally known as Normalization. Then we split into train and test sets using sklearn's train_test_split function.\n",
    "\n",
    "* Converting the numpy arrays into PyTorch Tensors using from_numpy function. Don’t let the word “tensor” scare you. It is nothing more than a simple mathematical concept. Tensors are mathematical objects that generalize scalars, vectors and matrices to higher dimensions.\n",
    "\n",
    "* Batch size is set. The batch size is usually set between 64 and 256. The batch size does have an effect on the final test accuracy. One way to think about it is that smaller batches means that the number of parameter updates per epoch is greater. \n",
    "\n",
    "* To pass our data into our PyTorch models we need to convert it to a PyTorch Dataset. A Tensor Dataset in this case. \n",
    "\n",
    "* We have the training data loaded into trainloader and we can make an iterator with iter(trainloader) that can help us grab data. Later, we'll use this to loop through the dataset for training. Each time we can pull out data of the size of the batch that is defined."
   ]
  },
  {
   "cell_type": "code",
   "execution_count": 4,
   "metadata": {},
   "outputs": [],
   "source": [
    "# Seperate the features and labels\n",
    "targets_np = train.label.values\n",
    "features_np = train.loc[:, train.columns != 'label'].values/255\n",
    "\n",
    "# Split into training and test set\n",
    "features_train, features_test, target_train, target_test = train_test_split(features_np, targets_np, test_size=0.2, random_state=42)"
   ]
  },
  {
   "cell_type": "code",
   "execution_count": 5,
   "metadata": {},
   "outputs": [],
   "source": [
    "# create feature and targets tensor for train set. As you remember we need variable to accumulate gradients. Therefore first we create tensor, then we will create variable\n",
    "featuresTrain = torch.from_numpy(features_train)\n",
    "targetsTrain = torch.from_numpy(target_train).type(torch.LongTensor) # data type is long\n",
    "\n",
    "# create feature and targets tensor for test set.\n",
    "featuresTest = torch.from_numpy(features_test)\n",
    "targetsTest = torch.from_numpy(target_test).type(torch.LongTensor) # data type is long"
   ]
  },
  {
   "cell_type": "code",
   "execution_count": 6,
   "metadata": {},
   "outputs": [],
   "source": [
    "# Set batch size\n",
    "batch_size = 256\n",
    "\n",
    "# Pytorch train and test sets\n",
    "train = torch.utils.data.TensorDataset(featuresTrain,targetsTrain)\n",
    "test = torch.utils.data.TensorDataset(featuresTest,targetsTest)\n",
    "\n",
    "# data loader\n",
    "train_loader = torch.utils.data.DataLoader(train, batch_size = batch_size, shuffle = True)\n",
    "test_loader = torch.utils.data.DataLoader(test, batch_size = batch_size, shuffle = True)"
   ]
  },
  {
   "cell_type": "code",
   "execution_count": 7,
   "metadata": {},
   "outputs": [
    {
     "data": {
      "image/png": "[encoded data removed]",
      "text/plain": [
       "<Figure size 432x288 with 1 Axes>"
      ]
     },
     "metadata": {},
     "output_type": "display_data"
    }
   ],
   "source": [
    "# visualize one of the images in data set\n",
    "def visualize_image(data, index, pred=False, val=0):\n",
    "    '''This funtion can be used to visualize the images'''\n",
    "    plt.imshow(data[index].reshape(28,28))\n",
    "    plt.axis(\"off\")\n",
    "    plt.title(\"Handwritten Digit Image\")\n",
    "    plt.show()\n",
    "visualize_image(features_np, 12)"
   ]
  },
  {
   "cell_type": "code",
   "execution_count": 8,
   "metadata": {},
   "outputs": [
    {
     "data": {
      "text/plain": [
       "torch.Size([33600, 784])"
      ]
     },
     "execution_count": 8,
     "metadata": {},
     "output_type": "execute_result"
    }
   ],
   "source": [
    "featuresTrain.shape"
   ]
  },
  {
   "cell_type": "markdown",
   "metadata": {},
   "source": [
    "## Define Network Architecture\n",
    "PyTorch provides a module nn that makes building networks much simpler. Here I'll show you how to build the same with 784 inputs, hidden units with 512, 256, 128, 64 neurons in each hidden layer, 10 output units as we have 10 classes to classify and a softmax output for multi-class classification. It is quite similar to the one example image below.\n",
    "\n",
    "![Example](https://assets.digitalocean.com/articles/handwriting_tensorflow_python3/cnwitLM.png)"
   ]
  },
  {
   "cell_type": "code",
   "execution_count": 9,
   "metadata": {},
   "outputs": [],
   "source": [
    "class Classifier(nn.Module):\n",
    "    def __init__(self):\n",
    "        super().__init__()\n",
    "        # 5 Hidden Layer Network\n",
    "        self.fc1 = nn.Linear(28*28, 512)\n",
    "        self.fc2 = nn.Linear(512, 256)\n",
    "        self.fc3 = nn.Linear(256, 128)\n",
    "        self.fc4 = nn.Linear(128, 64)\n",
    "        self.fc5 = nn.Linear(64, 10)\n",
    "        \n",
    "        # Dropout module with 0.2 probbability\n",
    "        self.dropout = nn.Dropout(p=0.2)\n",
    "        # Add softmax on output layer\n",
    "        self.log_softmax = F.log_softmax\n",
    "        \n",
    "    def forward(self, x):\n",
    "        x = self.dropout(F.relu(self.fc1(x)))\n",
    "        x = self.dropout(F.relu(self.fc2(x)))\n",
    "        x = self.dropout(F.relu(self.fc3(x)))\n",
    "        x = self.dropout(F.relu(self.fc4(x)))\n",
    "        \n",
    "        x = self.log_softmax(self.fc5(x), dim=1)\n",
    "        \n",
    "        return x"
   ]
  },
  {
   "cell_type": "markdown",
   "metadata": {},
   "source": [
    "Well, that was a bit too much isn't it.\n",
    "\n",
    "Let's go through this bit by bit.\n",
    "\n",
    "`class Network(nn.Module):`\n",
    "\n",
    "Here we're inheriting from nn.Module. Combined with super().__init__() this creates a class that tracks the architecture and provides a lot of useful methods and attributes. It is mandatory to inherit from nn.Module when you're creating a class for your network. The name of the class itself can be anything.\n",
    "\n",
    "`self.hidden = nn.Linear(784, 512)`\n",
    "\n",
    "This line creates a module for a linear transformation, $x\\mathbf{W} + b$, with 784 inputs and 512 outputs and assigns it to self.hidden. The module automatically creates the weight and bias tensors which we'll use in the forward method. You can access the weight and bias tensors once the network (net) is created with net.hidden.weight and net.hidden.bias.\n",
    "\n",
    "`self.output = nn.Linear(64, 10)`\n",
    "\n",
    "Similarly, this creates another linear transformation with 64 inputs and 10 outputs.\n",
    "\n",
    "`\n",
    "self.log_softmax = F.log_softmax`\n",
    "\n",
    "Here I defined operations for the log softmax activation output. Setting dim=1 in F.log_softmax(dim=1) calculates softmax across the columns, you'll see this down below.\n",
    "\n",
    "`self.dropout = nn.Dropout(p=0.2)`\n",
    "\n",
    "The most common method to reduce overfitting (outside of early-stopping) is dropout, where we randomly drop input units. This forces the network to share information between weights, increasing it's ability to generalize to new data. Adding dropout in PyTorch is straightforward using the nn.Dropout module.\n",
    "\n",
    "`def forward(self, x):`\n",
    "\n",
    "PyTorch networks created with nn.Module must have a forward method defined. It takes in a tensor x and passes it through the operations you defined in the __init__ method.\n",
    "\n",
    "`x = self.dropout(F.relu(self.fc1(x)))\n",
    "x = self.dropout(F.relu(self.fc2(x)))\n",
    "x = self.dropout(F.relu(self.fc3(x)))\n",
    "x = self.dropout(F.relu(self.fc4(x)))`\n",
    "\n",
    "Here the input tensor x is passed through each operation and reassigned to x. We can see that the input tensor goes through the hidden layer, then a ReLU function, then the output layer, and finally the softmax function. "
   ]
  },
  {
   "cell_type": "markdown",
   "metadata": {},
   "source": [
    "## Training and Validation "
   ]
  },
  {
   "cell_type": "markdown",
   "metadata": {},
   "source": [
    "Now we should create our own network and train it. First we'll want to define the criterion (something like nn.CrossEntropyLoss or nn.NLLLoss) and the optimizer (typically optim.SGD or optim.Adam).\n",
    "* Make a forward pass through the network\n",
    "* Use the network output to calculate the loss\n",
    "* Perform a backward pass through the network with loss.backward() to calculate the gradients\n",
    "* Take a step with the optimizer to update the weights"
   ]
  },
  {
   "cell_type": "code",
   "execution_count": 10,
   "metadata": {},
   "outputs": [
    {
     "name": "stdout",
     "output_type": "stream",
     "text": [
      "Epoch: 1/25..  Training Loss: 0.434..  Test Loss: 0.445..  Test Accuracy: 0.864\n",
      "Epoch: 1/25..  Training Loss: 0.590..  Test Loss: 0.265..  Test Accuracy: 0.922\n",
      "Epoch: 2/25..  Training Loss: 0.033..  Test Loss: 0.203..  Test Accuracy: 0.939\n",
      "Epoch: 2/25..  Training Loss: 0.116..  Test Loss: 0.184..  Test Accuracy: 0.946\n",
      "Epoch: 2/25..  Training Loss: 0.190..  Test Loss: 0.168..  Test Accuracy: 0.949\n",
      "Epoch: 3/25..  Training Loss: 0.040..  Test Loss: 0.142..  Test Accuracy: 0.959\n",
      "Epoch: 3/25..  Training Loss: 0.095..  Test Loss: 0.131..  Test Accuracy: 0.961\n",
      "Epoch: 4/25..  Training Loss: 0.003..  Test Loss: 0.131..  Test Accuracy: 0.962\n",
      "Epoch: 4/25..  Training Loss: 0.049..  Test Loss: 0.125..  Test Accuracy: 0.964\n",
      "Epoch: 4/25..  Training Loss: 0.091..  Test Loss: 0.122..  Test Accuracy: 0.966\n",
      "Epoch: 5/25..  Training Loss: 0.016..  Test Loss: 0.115..  Test Accuracy: 0.967\n",
      "Epoch: 5/25..  Training Loss: 0.053..  Test Loss: 0.108..  Test Accuracy: 0.969\n",
      "Epoch: 5/25..  Training Loss: 0.085..  Test Loss: 0.114..  Test Accuracy: 0.970\n",
      "Epoch: 6/25..  Training Loss: 0.024..  Test Loss: 0.107..  Test Accuracy: 0.968\n",
      "Epoch: 6/25..  Training Loss: 0.056..  Test Loss: 0.100..  Test Accuracy: 0.972\n",
      "Epoch: 7/25..  Training Loss: 0.004..  Test Loss: 0.102..  Test Accuracy: 0.973\n",
      "Epoch: 7/25..  Training Loss: 0.028..  Test Loss: 0.092..  Test Accuracy: 0.974\n",
      "Epoch: 7/25..  Training Loss: 0.053..  Test Loss: 0.101..  Test Accuracy: 0.972\n",
      "Epoch: 8/25..  Training Loss: 0.010..  Test Loss: 0.104..  Test Accuracy: 0.974\n",
      "Epoch: 8/25..  Training Loss: 0.033..  Test Loss: 0.100..  Test Accuracy: 0.973\n",
      "Epoch: 8/25..  Training Loss: 0.056..  Test Loss: 0.090..  Test Accuracy: 0.975\n",
      "Epoch: 9/25..  Training Loss: 0.016..  Test Loss: 0.099..  Test Accuracy: 0.975\n",
      "Epoch: 9/25..  Training Loss: 0.040..  Test Loss: 0.096..  Test Accuracy: 0.973\n",
      "Epoch: 10/25..  Training Loss: 0.003..  Test Loss: 0.095..  Test Accuracy: 0.975\n",
      "Epoch: 10/25..  Training Loss: 0.021..  Test Loss: 0.101..  Test Accuracy: 0.974\n",
      "Epoch: 10/25..  Training Loss: 0.038..  Test Loss: 0.100..  Test Accuracy: 0.975\n",
      "Epoch: 11/25..  Training Loss: 0.008..  Test Loss: 0.099..  Test Accuracy: 0.976\n",
      "Epoch: 11/25..  Training Loss: 0.024..  Test Loss: 0.093..  Test Accuracy: 0.977\n",
      "Epoch: 11/25..  Training Loss: 0.041..  Test Loss: 0.096..  Test Accuracy: 0.975\n",
      "Epoch: 12/25..  Training Loss: 0.013..  Test Loss: 0.100..  Test Accuracy: 0.976\n",
      "Epoch: 12/25..  Training Loss: 0.029..  Test Loss: 0.109..  Test Accuracy: 0.973\n",
      "Epoch: 13/25..  Training Loss: 0.004..  Test Loss: 0.104..  Test Accuracy: 0.975\n",
      "Epoch: 13/25..  Training Loss: 0.018..  Test Loss: 0.096..  Test Accuracy: 0.978\n",
      "Epoch: 13/25..  Training Loss: 0.031..  Test Loss: 0.097..  Test Accuracy: 0.976\n",
      "Epoch: 14/25..  Training Loss: 0.009..  Test Loss: 0.102..  Test Accuracy: 0.976\n",
      "Epoch: 14/25..  Training Loss: 0.020..  Test Loss: 0.103..  Test Accuracy: 0.977\n",
      "Epoch: 15/25..  Training Loss: 0.001..  Test Loss: 0.123..  Test Accuracy: 0.973\n",
      "Epoch: 15/25..  Training Loss: 0.013..  Test Loss: 0.095..  Test Accuracy: 0.976\n",
      "Epoch: 15/25..  Training Loss: 0.024..  Test Loss: 0.109..  Test Accuracy: 0.977\n",
      "Epoch: 16/25..  Training Loss: 0.004..  Test Loss: 0.110..  Test Accuracy: 0.975\n",
      "Epoch: 16/25..  Training Loss: 0.017..  Test Loss: 0.109..  Test Accuracy: 0.975\n",
      "Epoch: 16/25..  Training Loss: 0.028..  Test Loss: 0.109..  Test Accuracy: 0.976\n",
      "Epoch: 17/25..  Training Loss: 0.007..  Test Loss: 0.103..  Test Accuracy: 0.977\n",
      "Epoch: 17/25..  Training Loss: 0.017..  Test Loss: 0.107..  Test Accuracy: 0.976\n",
      "Epoch: 18/25..  Training Loss: 0.001..  Test Loss: 0.107..  Test Accuracy: 0.977\n",
      "Epoch: 18/25..  Training Loss: 0.012..  Test Loss: 0.103..  Test Accuracy: 0.977\n",
      "Epoch: 18/25..  Training Loss: 0.021..  Test Loss: 0.104..  Test Accuracy: 0.977\n",
      "Epoch: 19/25..  Training Loss: 0.004..  Test Loss: 0.117..  Test Accuracy: 0.976\n",
      "Epoch: 19/25..  Training Loss: 0.014..  Test Loss: 0.108..  Test Accuracy: 0.976\n",
      "Epoch: 19/25..  Training Loss: 0.023..  Test Loss: 0.092..  Test Accuracy: 0.979\n",
      "Epoch: 20/25..  Training Loss: 0.006..  Test Loss: 0.126..  Test Accuracy: 0.973\n",
      "Epoch: 20/25..  Training Loss: 0.014..  Test Loss: 0.131..  Test Accuracy: 0.974\n",
      "Epoch: 21/25..  Training Loss: 0.002..  Test Loss: 0.102..  Test Accuracy: 0.977\n",
      "Epoch: 21/25..  Training Loss: 0.009..  Test Loss: 0.108..  Test Accuracy: 0.978\n",
      "Epoch: 21/25..  Training Loss: 0.015..  Test Loss: 0.094..  Test Accuracy: 0.981\n",
      "Epoch: 22/25..  Training Loss: 0.005..  Test Loss: 0.106..  Test Accuracy: 0.977\n",
      "Epoch: 22/25..  Training Loss: 0.012..  Test Loss: 0.115..  Test Accuracy: 0.975\n",
      "Epoch: 22/25..  Training Loss: 0.020..  Test Loss: 0.111..  Test Accuracy: 0.977\n",
      "Epoch: 23/25..  Training Loss: 0.007..  Test Loss: 0.128..  Test Accuracy: 0.974\n",
      "Epoch: 23/25..  Training Loss: 0.016..  Test Loss: 0.112..  Test Accuracy: 0.976\n",
      "Epoch: 24/25..  Training Loss: 0.002..  Test Loss: 0.099..  Test Accuracy: 0.978\n",
      "Epoch: 24/25..  Training Loss: 0.010..  Test Loss: 0.112..  Test Accuracy: 0.977\n",
      "Epoch: 24/25..  Training Loss: 0.017..  Test Loss: 0.119..  Test Accuracy: 0.978\n",
      "Epoch: 25/25..  Training Loss: 0.004..  Test Loss: 0.127..  Test Accuracy: 0.978\n",
      "Epoch: 25/25..  Training Loss: 0.013..  Test Loss: 0.111..  Test Accuracy: 0.977\n",
      "Epoch: 25/25..  Training Loss: 0.022..  Test Loss: 0.111..  Test Accuracy: 0.974\n"
     ]
    }
   ],
   "source": [
    "# Instantiate our model\n",
    "model = Classifier()\n",
    "# Define our loss function\n",
    "criterion = nn.NLLLoss()\n",
    "# Define the optimier\n",
    "optimizer = optim.Adam(model.parameters(), lr=0.0015)\n",
    "\n",
    "epochs = 25\n",
    "steps = 0\n",
    "print_every = 50\n",
    "train_losses, test_losses = [], []\n",
    "\n",
    "for e in range(epochs):\n",
    "    running_loss = 0\n",
    "    for images, labels in train_loader:\n",
    "        steps += 1\n",
    "        # Prevent accumulation of gradients\n",
    "        optimizer.zero_grad()\n",
    "        # Make predictions\n",
    "        log_ps = model(images)\n",
    "        loss = criterion(log_ps, labels)\n",
    "        #backprop\n",
    "        loss.backward()\n",
    "        optimizer.step()\n",
    "        \n",
    "        running_loss += loss.item()\n",
    "        if steps % print_every == 0:\n",
    "            test_loss = 0\n",
    "            accuracy = 0\n",
    "\n",
    "            # Turn off gradients for validation\n",
    "            with torch.no_grad():\n",
    "                model.eval()\n",
    "                for images, labels in test_loader:\n",
    "                    log_ps = model(images)\n",
    "                    test_loss += criterion(log_ps, labels)\n",
    "\n",
    "                    ps = torch.exp(log_ps)\n",
    "                    # Get our top predictions\n",
    "                    top_p, top_class = ps.topk(1, dim=1)\n",
    "                    equals = top_class == labels.view(*top_class.shape)\n",
    "                    accuracy += torch.mean(equals.type(torch.FloatTensor))\n",
    "\n",
    "            model.train()\n",
    "\n",
    "            train_losses.append(running_loss/len(train_loader))\n",
    "            test_losses.append(test_loss/len(test_loader))\n",
    "\n",
    "            print(\"Epoch: {}/{}.. \".format(e+1, epochs),\n",
    "                  \"Training Loss: {:.3f}.. \".format(train_losses[-1]),\n",
    "                  \"Test Loss: {:.3f}.. \".format(test_losses[-1]),\n",
    "                  \"Test Accuracy: {:.3f}\".format(accuracy/len(test_loader)))"
   ]
  },
  {
   "cell_type": "markdown",
   "metadata": {},
   "source": [
    "Oh what just happended there? I'll explain not to worry.\n",
    "\n",
    "#### Training: \n",
    "* I'm looping over the train loader, pulling out the images and labels.\n",
    "* Note that I have a line of code optimizer.zero_grad(). When you do multiple backwards passes with the same parameters, the gradients are accumulated. This means that you need to zero the gradients on each training pass or you'll retain gradients from previous training batches.\n",
    "* I have named the next variable log_ps because our model gives us back logs of class probabilities, you can take exponent to convert it to normal probabilities which I've done down below for validation. \n",
    "* We calculate the loss. Then backpropagate through the network. We then make one optimizer step. Which brings us closer and closer to the global optimum.\n",
    "\n",
    "#### Validation\n",
    "* We turn off the gradients for validation as it is not needed and saves a lot of memory and computation. Note that we should turn it back on after each step of validation.\n",
    "* We loop over the test_loader and essentially repeat some steps we have done above. Since it's validation we don't need to backpropagate. \n",
    "* The next step - With the probabilities, we can get the most likely class using the ps.topk method. This returns the $k$ highest values. Since we just want the most likely class, we can use ps.topk(1). This returns a tuple of the top-$k$ values and the top-$k$ indices. If the highest value is the fifth element, we'll get back 4 as the index.\n",
    "* Then we check if the predicted value is equal to the actual value. \n",
    "* We then calculate the percentage of correct predictions, which indeed is using the mean of our top predictions. But you cannot just use torch.mean because topk returns a byte tensor but we need a float tensor to perform torch.mean we do that in the next step.\n",
    "\n",
    "The same process is repeated over and over again. The results are printed on each step. With this simple model we're able to get about 98% accuracy on validation which is awesome, isn't it?\n",
    "\n",
    "Hope that made sense. "
   ]
  },
  {
   "cell_type": "markdown",
   "metadata": {},
   "source": [
    "## Visualizing Model Performance"
   ]
  },
  {
   "cell_type": "code",
   "execution_count": 11,
   "metadata": {},
   "outputs": [
    {
     "data": {
      "text/plain": [
       "<matplotlib.legend.Legend at 0x7fe47d76d080>"
      ]
     },
     "execution_count": 11,
     "metadata": {},
     "output_type": "execute_result"
    },
    {
     "data": {
      "image/png": "[encoded data removed]",
      "text/plain": [
       "<Figure size 432x288 with 1 Axes>"
      ]
     },
     "metadata": {
      "image/png": {
       "height": 250,
       "width": 373
      }
     },
     "output_type": "display_data"
    }
   ],
   "source": [
    "%matplotlib inline\n",
    "%config InlineBackend.figure_format = 'retina'\n",
    "\n",
    "plt.plot(train_losses, label='Training loss')\n",
    "plt.plot(test_losses, label='Validation loss')\n",
    "plt.legend(frameon=False)"
   ]
  },
  {
   "cell_type": "markdown",
   "metadata": {},
   "source": [
    "This graph looks decent to me. We're doing fairly well for our first model in PyTorch."
   ]
  },
  {
   "cell_type": "markdown",
   "metadata": {},
   "source": [
    "## Inference\n",
    "You can see what out model is predicting here on the test data. You can try playing around with this function for different images. \n",
    "\n",
    "As expected our model seems to do well, infact really well."
   ]
  },
  {
   "cell_type": "code",
   "execution_count": 12,
   "metadata": {},
   "outputs": [],
   "source": [
    "def view_classify(img, ps):\n",
    "    ''' Function for viewing an image and it's predicted classes.\n",
    "    '''\n",
    "    ps = ps.data.numpy().squeeze()\n",
    "\n",
    "    fig, (ax1, ax2) = plt.subplots(figsize=(6,9), ncols=2)\n",
    "    ax1.imshow(img.resize_(1, 28, 28).numpy().squeeze())\n",
    "    ax1.axis('off')\n",
    "    ax2.barh(np.arange(10), ps)\n",
    "    ax2.set_aspect(0.1)\n",
    "    ax2.set_yticks(np.arange(10))\n",
    "    ax2.set_yticklabels(np.arange(10))\n",
    "    ax2.set_title('Class Probability')\n",
    "    ax2.set_xlim(0, 1.1)\n",
    "\n",
    "    plt.tight_layout()"
   ]
  },
  {
   "cell_type": "code",
   "execution_count": 13,
   "metadata": {},
   "outputs": [
    {
     "data": {
      "image/png": "[encoded data removed]",
      "text/plain": [
       "<Figure size 432x648 with 2 Axes>"
      ]
     },
     "metadata": {
      "image/png": {
       "height": 226,
       "width": 423
      }
     },
     "output_type": "display_data"
    }
   ],
   "source": [
    "%matplotlib inline\n",
    "def make_prediction(data):\n",
    "    images, labels = next(iter(data))\n",
    "\n",
    "    img = images[42].view(1, 784)\n",
    "    # Turn off gradients to speed up this part\n",
    "    with torch.no_grad():\n",
    "        logps = model(img)\n",
    "\n",
    "    # Output of the network are log-probabilities, need to take exponential for probabilities\n",
    "    ps = torch.exp(logps)\n",
    "    view_classify(img.view(1, 28, 28), ps)\n",
    "make_prediction(test_loader)"
   ]
  },
  {
   "cell_type": "markdown",
   "metadata": {},
   "source": [
    "## Preparing Test Data for Prediction"
   ]
  },
  {
   "cell_type": "code",
   "execution_count": 14,
   "metadata": {},
   "outputs": [],
   "source": [
    "final_test_np = final_test.values/255\n",
    "test_tn = torch.from_numpy(final_test_np)"
   ]
  },
  {
   "cell_type": "code",
   "execution_count": 15,
   "metadata": {},
   "outputs": [],
   "source": [
    "# Creating fake labels for convenience of passing into DataLoader\n",
    "## CAUTION: There are other ways of doing this, I just did it this way\n",
    "fake_labels = np.zeros(final_test_np.shape)\n",
    "fake_labels = torch.from_numpy(fake_labels)"
   ]
  },
  {
   "cell_type": "code",
   "execution_count": 16,
   "metadata": {},
   "outputs": [],
   "source": [
    "submission_tn_data = torch.utils.data.TensorDataset(test_tn, fake_labels)\n",
    "\n",
    "submission_loader = torch.utils.data.DataLoader(submission_tn_data, batch_size = batch_size, shuffle = False)"
   ]
  },
  {
   "cell_type": "code",
   "execution_count": 17,
   "metadata": {},
   "outputs": [
    {
     "data": {
      "image/png": "[encoded data removed]",
      "text/plain": [
       "<Figure size 432x648 with 2 Axes>"
      ]
     },
     "metadata": {
      "image/png": {
       "height": 226,
       "width": 423
      }
     },
     "output_type": "display_data"
    }
   ],
   "source": [
    "# Seeing what our model does on test data\n",
    "make_prediction(submission_loader)"
   ]
  },
  {
   "cell_type": "markdown",
   "metadata": {},
   "source": [
    "## Making Predictions on Test data"
   ]
  },
  {
   "cell_type": "code",
   "execution_count": 18,
   "metadata": {},
   "outputs": [],
   "source": [
    "# Making it submission ready\n",
    "submission = [['ImageId', 'Label']]\n",
    "\n",
    "# Turn off gradients for validation\n",
    "with torch.no_grad():\n",
    "    model.eval()\n",
    "    image_id = 1\n",
    "    for images, _ in submission_loader:\n",
    "        log_ps = model(images)\n",
    "        ps = torch.exp(log_ps)\n",
    "        top_p, top_class = ps.topk(1, dim=1)\n",
    "        \n",
    "        for prediction in top_class:\n",
    "            submission.append([image_id, prediction.item()])\n",
    "            image_id += 1"
   ]
  },
  {
   "cell_type": "code",
   "execution_count": 19,
   "metadata": {},
   "outputs": [],
   "source": [
    "submission_df = pd.DataFrame(submission)\n",
    "submission_df.columns = submission_df.iloc[0]\n",
    "submission_df = submission_df.drop(0, axis=0)"
   ]
  },
  {
   "cell_type": "code",
   "execution_count": 20,
   "metadata": {},
   "outputs": [],
   "source": [
    "submission_df.to_csv(\"submission.csv\", index=False)"
   ]
  },
  {
   "cell_type": "markdown",
   "metadata": {},
   "source": [
    "### **If you like this kernel or wish to fork it, please UPVOTE to show your support.**\n",
    "\n",
    "**Authored by:**\n",
    "[Abhinand](https://www.kaggle.com/abhinand05)"
   ]
  }
 ],
 "metadata": {
  "kernelspec": {
   "display_name": "Python 3",
   "language": "python",
   "name": "python3"
  },
  "language_info": {
   "codemirror_mode": {
    "name": "ipython",
    "version": 3
   },
   "file_extension": ".py",
   "mimetype": "text/x-python",
   "name": "python",
   "nbconvert_exporter": "python",
   "pygments_lexer": "ipython3",
   "version": "3.6.4"
  }
 },
 "nbformat": 4,
 "nbformat_minor": 1
}
